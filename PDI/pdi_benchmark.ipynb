{
 "cells": [
  {
   "attachments": {},
   "cell_type": "markdown",
   "metadata": {},
   "source": [
    "# PDI Benchmark"
   ]
  },
  {
   "cell_type": "code",
   "execution_count": 2,
   "metadata": {},
   "outputs": [],
   "source": [
    "import sys \n",
    "sys.path.append('../')\n",
    "import pandas as pd\n",
    "import numpy as np\n",
    "import decouple\n",
    "import db_funcs"
   ]
  },
  {
   "cell_type": "code",
   "execution_count": 3,
   "metadata": {},
   "outputs": [],
   "source": [
    "from pycoingecko import CoinGeckoAPI\n",
    "key =  decouple.config(\"CG_KEY\")\n",
    "cg = CoinGeckoAPI(api_key=key)"
   ]
  },
  {
   "cell_type": "code",
   "execution_count": 27,
   "metadata": {},
   "outputs": [],
   "source": [
    "# Helper functions\n",
    "def convert_to_sql_strings(string_list):\n",
    "    num_list = ['zero','one','two','three','four','five','six','seven','eight','nine']\n",
    "    converted_strings = []\n",
    "    for i in string_list:\n",
    "        if '-' in i:\n",
    "            i = i.replace('-','_')\n",
    "        if i == '1inch':\n",
    "            i = 'one_inch'\n",
    "        converted_strings.append(i)\n",
    "    return converted_strings\n",
    "\n",
    "def convert_from_sql_strings(string_list):\n",
    "    num_list = ['zero','one','two','three','four','five','six','seven','eight','nine']\n",
    "    converted_strings = []\n",
    "    for i in string_list:\n",
    "        if '_' in i:\n",
    "            i = i.replace('_','-')\n",
    "        if i == 'one-inch':\n",
    "            i = '1inch'\n",
    "        converted_strings.append(i)\n",
    "    return converted_strings"
   ]
  },
  {
   "cell_type": "code",
   "execution_count": 31,
   "metadata": {},
   "outputs": [],
   "source": [
    "asset_list = ['uniswap', 'lido-dao', 'aave', 'rocket-pool', 'frax-share', 'havven', 'curve-dao-token', 'maker', 'convex-finance', '1inch', 'sushi', 'balancer', 'yearn-finance', 'ribbon-finance']\n",
    "asset_list = convert_to_sql_strings(asset_list)\n",
    "for asset in asset_list:\n",
    "    db_funcs.does_column_exist(asset,'pdi_benchmark_data')"
   ]
  },
  {
   "cell_type": "code",
   "execution_count": 48,
   "metadata": {},
   "outputs": [],
   "source": [
    "db_funcs.insert_values('2022-06-01',['uniswap','aave','lido_dao','compound_governance_token','yearn_finance','sushi','alchemix'],[0.300000,0.300000,0.120675,0.118707,0.081956,0.068245,0.010418],'pdi_benchmark_data')"
   ]
  },
  {
   "cell_type": "code",
   "execution_count": 46,
   "metadata": {},
   "outputs": [],
   "source": [
    "db_funcs.drop_column('haaven','pdi_benchmark_data')"
   ]
  }
 ],
 "metadata": {
  "kernelspec": {
   "display_name": "base",
   "language": "python",
   "name": "python3"
  },
  "language_info": {
   "codemirror_mode": {
    "name": "ipython",
    "version": 3
   },
   "file_extension": ".py",
   "mimetype": "text/x-python",
   "name": "python",
   "nbconvert_exporter": "python",
   "pygments_lexer": "ipython3",
   "version": "3.8.15"
  },
  "orig_nbformat": 4,
  "vscode": {
   "interpreter": {
    "hash": "40d3a090f54c6569ab1632332b64b2c03c39dcf918b08424e98f38b5ae0af88f"
   }
  }
 },
 "nbformat": 4,
 "nbformat_minor": 2
}
