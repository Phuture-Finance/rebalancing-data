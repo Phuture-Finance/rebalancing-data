{
 "cells": [
  {
   "cell_type": "markdown",
   "id": "5866e8b8",
   "metadata": {},
   "source": [
    "## CAI - Colony Avalanche Index - Rebalancing data for June 2025"
   ]
  },
  {
   "cell_type": "markdown",
   "id": "d6fc51ad",
   "metadata": {},
   "source": [
    "## Configuring packages"
   ]
  },
  {
   "cell_type": "code",
   "execution_count": 1,
   "id": "3be13cba",
   "metadata": {},
   "outputs": [],
   "source": [
    "import pandas as pd\n",
    "import decouple\n",
    "import sys\n",
    "sys.path.append('../')\n",
    "from methodology import MethodologyProd\n",
    "from pycoingecko import CoinGeckoAPI\n",
    "key =  decouple.config(\"CG_KEY\")\n",
    "cg = CoinGeckoAPI(api_key=key)"
   ]
  },
  {
   "cell_type": "markdown",
   "id": "db58fc4e",
   "metadata": {},
   "source": [
    "## Index Variables"
   ]
  },
  {
   "cell_type": "code",
   "execution_count": 2,
   "id": "30bc6496",
   "metadata": {},
   "outputs": [],
   "source": [
    "date = '2025-06-01'\n",
    "min_mcap =  0.075e8\n",
    "min_weight = 0.005\n",
    "max_weight = 0.3\n",
    "circ_supply_threshold = 0.3\n",
    "liveness_threshold = 180 # In days\n",
    "liquidity_consistency = 90 # In days\n",
    "coingecko_category = [\"avalanche-ecosystem\"]\n",
    "\n",
    "# Calculating max slippage based on liquidity threshold\n",
    "liq = 2*1e6\n",
    "liq_os = liq / 2 # one-side liquidity \n",
    "trade_value_tiny = 1e2\n",
    "trade_value = 1e5\n",
    "max_slippage = (liq_os + trade_value_tiny) / (liq_os + trade_value) - 1\n",
    "# round to the nearest .01\n",
    "max_slippage = round(max_slippage, 2)\n",
    "\n",
    "# Dataframes to remove\n",
    "stablecoins = pd.DataFrame(cg.get_coins_markets('usd',category='stablecoins')).set_index('id')\n",
    "ctokens = pd.DataFrame(cg.get_coins_markets('usd',category='compound-tokens')).set_index('id')\n",
    "atokens = pd.DataFrame(cg.get_coins_markets('usd',category='aave-tokens')).set_index('id')\n",
    "\n",
    "methodology_class = MethodologyProd(\n",
    "                                date,\n",
    "                                1,\n",
    "                                \"avalanche\",\n",
    "                                \"0x48f88A3fE843ccb0b5003e70B4192c1d7448bEf0\",\n",
    "                                \"cai_benchmark_data\",\n",
    "                                \"cai_liquidities\",\n",
    "                                min_mcap,\n",
    "                                min_weight,\n",
    "                                max_weight,\n",
    "                                100000,\n",
    "                                255,\n",
    "                                circ_supply_threshold,\n",
    "                                liveness_threshold,\n",
    "                                liquidity_consistency,\n",
    "                                -0.25,\n",
    "                                coingecko_category)"
   ]
  },
  {
   "cell_type": "markdown",
   "id": "53ff27b8",
   "metadata": {},
   "source": [
    "## Token inclusion criteria\n",
    "\n",
    "1. **Project and token characteristics**\n",
    "    1. The project’s token should have been listed on CoinGecko with pricing data at least 6 months prior to the date of inclusion in the index.\n",
    "    1. The project should have a token that is native to Avalanche. This excludes wrapped variants, where the underlying tokens are locked on an alt-L1.\n",
    "    1. The project should be a going concern, with a dedicated team actively building, supporting and maintaining the project.\n",
    "    1. No rebasing or deflationary tokens.\n",
    "    1. The project must be widely considered to be building a useful protocol or product. Projects that have ponzi characteristics at the core of their offering will not be considered.\n",
    "    1. Synthetic tokens which derive their value from external price feeds are not permissible.\n",
    "    1. The project’s token must not have the ability to pause token transfers.\n",
    "    1. The project’s protocol or product must have significant usage.\n",
    "    <br>\n",
    "1. **Pricing requirements**\n",
    "    1. Token should have a Chainlink price feed to allow for manipulation resistant pricing.\n",
    "    <br>\n",
    "1. **Token Supply requirements**\n",
    "    1. The project's token must have a circulating supply greater than 30% of the max supply. In cases where a token does not have a max supply, the minting mechanics would need to be assessed.\n",
    "    <br>\n",
    "1. **Liquidity Requirements**\n",
    "    1. The token must be listed on a supported exchange. \n",
    "    1. The token must have shown consistent DeFi liquidity on Avalanche.\n",
    "    1. The token must experience less than 15% price impact for a $100k trade in both directions. \n",
    "    <br>\n",
    "1. **Security Requirements**\n",
    "    1. The project must have been audited by smart contract security professionals with the audit report(s) publicly available. Alternatively, the protocol must have been operating long enough to create a consensus about its safety in the decentralised finance community."
   ]
  },
  {
   "cell_type": "markdown",
   "id": "d7535726",
   "metadata": {},
   "source": [
    "## Run Methodology"
   ]
  },
  {
   "cell_type": "code",
   "execution_count": 3,
   "id": "10643ec6",
   "metadata": {},
   "outputs": [
    {
     "name": "stdout",
     "output_type": "stream",
     "text": [
      "Excluding blackrock-usd-institutional-digital-liquidity-fund, pricing data available only for 118 < 180 days\n",
      "Excluding ket, pricing data available only for 141 < 180 days\n",
      "Excluding apollo-diversified-credit-securitize-fund, pricing data available only for 88 < 180 days\n",
      "Excluding vaneck-treasury-fund, pricing data available only for 12 < 180 days\n",
      "Excluding avant-staked-usd, pricing data available only for 137 < 180 days\n",
      "Excluding guardians-of-the-spark, pricing data available only for 74 < 180 days\n",
      "Table created successfully\n",
      "Table created successfully\n",
      "solv-btc on avalanche returned an invalid API response\n",
      "solv-btc recorded no valid response across any platform\n",
      "solv-protocol-solvbtc-bbn on avalanche returned an invalid API response\n",
      "solv-protocol-solvbtc-bbn recorded no valid response across any platform\n",
      "axelar on avalanche returned an invalid API response\n",
      "axelar recorded no valid response across any platform\n",
      "havven on avalanche returned an invalid API response\n",
      "havven recorded no valid response across any platform\n",
      "0x on avalanche returned an invalid API response\n",
      "0x recorded no valid response across any platform\n",
      "ankr on avalanche returned an invalid API response\n",
      "ankr recorded no valid response across any platform\n",
      "staked-frax on avalanche returned an invalid API response\n",
      "staked-frax recorded no valid response across any platform\n",
      "cartesi on avalanche returned an invalid API response\n",
      "cartesi recorded no valid response across any platform\n",
      "ankreth on avalanche returned an invalid API response\n",
      "ankreth recorded no valid response across any platform\n",
      "sweatcoin on avalanche returned an invalid API response\n",
      "sweatcoin recorded no valid response across any platform\n",
      "telos on avalanche returned an invalid API response\n",
      "telos recorded no valid response across any platform\n",
      "metamui on avalanche returned an invalid API response\n",
      "metamui recorded no valid response across any platform\n",
      "vertex-protocol on avalanche returned an invalid API response\n",
      "vertex-protocol recorded no valid response across any platform\n",
      "idia on avalanche returned an invalid API response\n",
      "idia recorded no valid response across any platform\n",
      "miracle-play on avalanche returned an invalid API response\n",
      "miracle-play recorded no valid response across any platform\n",
      "allianceblock-nexera on avalanche returned an invalid API response\n",
      "allianceblock-nexera recorded no valid response across any platform\n",
      "\n",
      "    REPLACE INTO cai_liquidities(date,gogopool_ggavax,benqi_liquid_staked_avax,benqi,coq_inu,avalaunch,joe,gogopool,avax_has_no_chill,avalanche_bridged_dai_avalanche,ampleforth,beam_two,alvara_protocol,dexalot,osaka_protocol,trustswap,snowbank,spell_token,synapse_two,xen_crypto,vicicoin)\n",
      "    VALUES(\"2025-06-01\",np.float64(-0.0006959968285413787),np.float64(-0.001435214594909473),np.float64(-0.032233959284609925),np.float64(-0.10067069718743693),np.float64(-0.15945510466108137),np.float64(-0.1718735365760049),np.float64(-0.23667927704859804),np.float64(-0.3060591469040048),np.float64(-0.47840033832365303),np.float64(-0.5180372737453758),np.float64(-0.6140403721202219),np.float64(-0.7182380585809405),np.float64(-0.7218307467295157),np.float64(-0.7667826909245682),np.float64(-0.7966350481625517),np.float64(-0.951090978033714),np.float64(-0.9570300546504259),np.float64(-0.9597270014096876),np.float64(-0.9778014532432414),np.float64(-0.9862236849151744))\n"
     ]
    },
    {
     "ename": "OperationalError",
     "evalue": "near \"(\": syntax error",
     "output_type": "error",
     "traceback": [
      "\u001b[31m---------------------------------------------------------------------------\u001b[39m",
      "\u001b[31mOperationalError\u001b[39m                          Traceback (most recent call last)",
      "\u001b[36mCell\u001b[39m\u001b[36m \u001b[39m\u001b[32mIn[3]\u001b[39m\u001b[32m, line 1\u001b[39m\n\u001b[32m----> \u001b[39m\u001b[32m1\u001b[39m results,liquidity = \u001b[43mmethodology_class\u001b[49m\u001b[43m.\u001b[49m\u001b[43mmain\u001b[49m\u001b[43m(\u001b[49m\n\u001b[32m      2\u001b[39m \u001b[43m    \u001b[49m\u001b[43msingle_chain\u001b[49m\u001b[43m=\u001b[49m\u001b[33;43m\"\u001b[39;49m\u001b[33;43mavalanche\u001b[39;49m\u001b[33;43m\"\u001b[39;49m\u001b[43m,\u001b[49m\n\u001b[32m      3\u001b[39m \u001b[43m    \u001b[49m\u001b[43mdf_to_remove\u001b[49m\u001b[43m=\u001b[49m\u001b[43m[\u001b[49m\u001b[43mstablecoins\u001b[49m\u001b[43m,\u001b[49m\u001b[43mctokens\u001b[49m\u001b[43m,\u001b[49m\u001b[43matokens\u001b[49m\u001b[43m]\u001b[49m\u001b[43m,\u001b[49m\n\u001b[32m      4\u001b[39m \u001b[43m    \u001b[49m\u001b[43mids_to_replace\u001b[49m\u001b[43m=\u001b[49m\u001b[43m[\u001b[49m\u001b[43m[\u001b[49m\u001b[33;43m\"\u001b[39;49m\u001b[33;43mavalanche-2\u001b[39;49m\u001b[33;43m\"\u001b[39;49m\u001b[43m]\u001b[49m\u001b[43m,\u001b[49m\u001b[43m[\u001b[49m\u001b[33;43m\"\u001b[39;49m\u001b[33;43mbenqi-liquid-staked-avax\u001b[39;49m\u001b[33;43m\"\u001b[39;49m\u001b[43m]\u001b[49m\u001b[43m]\u001b[49m\u001b[43m,\u001b[49m\n\u001b[32m      5\u001b[39m \u001b[43m    \u001b[49m\u001b[43mremove_category_assets\u001b[49m\u001b[43m=\u001b[49m\u001b[43m[\u001b[49m\u001b[33;43m'\u001b[39;49m\u001b[33;43mwrapped-bitcoin\u001b[39;49m\u001b[33;43m'\u001b[39;49m\u001b[43m,\u001b[49m\u001b[33;43m\"\u001b[39;49m\u001b[33;43mgmx\u001b[39;49m\u001b[33;43m\"\u001b[39;49m\u001b[43m,\u001b[49m\u001b[33;43m\"\u001b[39;49m\u001b[33;43meuro-coin\u001b[39;49m\u001b[33;43m\"\u001b[39;49m\u001b[43m,\u001b[49m\u001b[33;43m\"\u001b[39;49m\u001b[33;43mbitcoin-avalanche-bridged-btc-b\u001b[39;49m\u001b[33;43m\"\u001b[39;49m\u001b[43m,\u001b[49m\u001b[33;43m\"\u001b[39;49m\u001b[33;43mbenqi-liquid-staked-avax\u001b[39;49m\u001b[33;43m\"\u001b[39;49m\u001b[43m,\u001b[49m\u001b[33;43m\"\u001b[39;49m\u001b[33;43mpangolin\u001b[39;49m\u001b[33;43m\"\u001b[39;49m\u001b[43m,\u001b[49m\u001b[33;43m\"\u001b[39;49m\u001b[33;43mchainlink\u001b[39;49m\u001b[33;43m\"\u001b[39;49m\u001b[43m,\u001b[49m\u001b[33;43m\"\u001b[39;49m\u001b[33;43mstargate-finance\u001b[39;49m\u001b[33;43m\"\u001b[39;49m\u001b[43m,\u001b[49m\u001b[33;43m\"\u001b[39;49m\u001b[33;43mavalanche-bridged-weth-avalanche\u001b[39;49m\u001b[33;43m\"\u001b[39;49m\u001b[43m,\u001b[49m\n\u001b[32m      6\u001b[39m \u001b[43m                            \u001b[49m\u001b[33;43m\"\u001b[39;49m\u001b[33;43mtether-avalanche-bridged-usdt-e\u001b[39;49m\u001b[33;43m\"\u001b[39;49m\u001b[43m,\u001b[49m\u001b[33;43m\"\u001b[39;49m\u001b[33;43musd-coin-avalanche-bridged-usdc-e\u001b[39;49m\u001b[33;43m\"\u001b[39;49m\u001b[43m,\u001b[49m\u001b[33;43m\"\u001b[39;49m\u001b[33;43mwrapped-avax\u001b[39;49m\u001b[33;43m\"\u001b[39;49m\u001b[43m,\u001b[49m\u001b[33;43m\"\u001b[39;49m\u001b[33;43mavalanche-old-bridged-wbtc-avalanche\u001b[39;49m\u001b[33;43m\"\u001b[39;49m\u001b[43m,\u001b[49m\u001b[33;43m\"\u001b[39;49m\u001b[33;43maave\u001b[39;49m\u001b[33;43m\"\u001b[39;49m\u001b[43m]\u001b[49m\u001b[43m,\u001b[49m\n\u001b[32m      7\u001b[39m \u001b[43m    \u001b[49m\u001b[43mvalues_to_update\u001b[49m\u001b[43m=\u001b[49m\u001b[43m[\u001b[49m\u001b[43m{\u001b[49m\u001b[33;43m'\u001b[39;49m\u001b[33;43mid\u001b[39;49m\u001b[33;43m'\u001b[39;49m\u001b[43m:\u001b[49m\u001b[33;43m'\u001b[39;49m\u001b[33;43mpangolin\u001b[39;49m\u001b[33;43m'\u001b[39;49m\u001b[43m,\u001b[49m\u001b[33;43m'\u001b[39;49m\u001b[33;43mcategory\u001b[39;49m\u001b[33;43m'\u001b[39;49m\u001b[43m:\u001b[49m\u001b[33;43m'\u001b[39;49m\u001b[33;43mtotal_supply\u001b[39;49m\u001b[33;43m'\u001b[39;49m\u001b[43m,\u001b[49m\u001b[33;43m'\u001b[39;49m\u001b[33;43mvalue\u001b[39;49m\u001b[33;43m'\u001b[39;49m\u001b[43m:\u001b[49m\u001b[32;43m230000000\u001b[39;49m\u001b[43m}\u001b[49m\u001b[43m,\u001b[49m\n\u001b[32m      8\u001b[39m \u001b[43m                      \u001b[49m\u001b[43m{\u001b[49m\u001b[33;43m'\u001b[39;49m\u001b[33;43mid\u001b[39;49m\u001b[33;43m'\u001b[39;49m\u001b[43m:\u001b[49m\u001b[33;43m'\u001b[39;49m\u001b[33;43mbenqi-liquid-staked-avax\u001b[39;49m\u001b[33;43m'\u001b[39;49m\u001b[43m,\u001b[49m\u001b[33;43m'\u001b[39;49m\u001b[33;43mcategory\u001b[39;49m\u001b[33;43m'\u001b[39;49m\u001b[43m:\u001b[49m\u001b[33;43m'\u001b[39;49m\u001b[33;43mmarket_cap\u001b[39;49m\u001b[33;43m'\u001b[39;49m\u001b[43m,\u001b[49m\u001b[33;43m'\u001b[39;49m\u001b[33;43mvalue\u001b[39;49m\u001b[33;43m'\u001b[39;49m\u001b[43m:\u001b[49m\u001b[32;43m161_000_000\u001b[39;49m\u001b[43m}\u001b[49m\u001b[43m,\u001b[49m\n\u001b[32m      9\u001b[39m \u001b[43m                      \u001b[49m\u001b[43m{\u001b[49m\u001b[33;43m'\u001b[39;49m\u001b[33;43mid\u001b[39;49m\u001b[33;43m'\u001b[39;49m\u001b[43m:\u001b[49m\u001b[33;43m'\u001b[39;49m\u001b[33;43mbenqi-liquid-staked-avax\u001b[39;49m\u001b[33;43m'\u001b[39;49m\u001b[43m,\u001b[49m\u001b[33;43m'\u001b[39;49m\u001b[33;43mcategory\u001b[39;49m\u001b[33;43m'\u001b[39;49m\u001b[43m:\u001b[49m\u001b[33;43m'\u001b[39;49m\u001b[33;43msymbol\u001b[39;49m\u001b[33;43m'\u001b[39;49m\u001b[43m,\u001b[49m\u001b[33;43m'\u001b[39;49m\u001b[33;43mvalue\u001b[39;49m\u001b[33;43m'\u001b[39;49m\u001b[43m:\u001b[49m\u001b[33;43m\"\u001b[39;49m\u001b[33;43msAVAX\u001b[39;49m\u001b[33;43m\"\u001b[39;49m\u001b[43m}\u001b[49m\n\u001b[32m     10\u001b[39m \u001b[43m                      \u001b[49m\u001b[43m]\u001b[49m\u001b[43m,\u001b[49m\n\u001b[32m     11\u001b[39m \u001b[43m    \u001b[49m\u001b[43menable_liquidity_score\u001b[49m\u001b[43m=\u001b[49m\u001b[38;5;28;43;01mTrue\u001b[39;49;00m\u001b[43m,\u001b[49m\n\u001b[32m     12\u001b[39m \u001b[43m    \u001b[49m\u001b[43mweight_split_data\u001b[49m\u001b[43m=\u001b[49m\u001b[43m \u001b[49m\u001b[43m{\u001b[49m\u001b[33;43m\"\u001b[39;49m\u001b[33;43masset_to_split\u001b[39;49m\u001b[33;43m\"\u001b[39;49m\u001b[43m:\u001b[49m\u001b[33;43m\"\u001b[39;49m\u001b[33;43mbenqi-liquid-staked-avax\u001b[39;49m\u001b[33;43m\"\u001b[39;49m\u001b[43m,\u001b[49m\u001b[33;43m\"\u001b[39;49m\u001b[33;43masset_to_receive\u001b[39;49m\u001b[33;43m\"\u001b[39;49m\u001b[43m:\u001b[49m\u001b[33;43m\"\u001b[39;49m\u001b[33;43mgogopool-ggavax\u001b[39;49m\u001b[33;43m\"\u001b[39;49m\u001b[43m,\u001b[49m\u001b[33;43m\"\u001b[39;49m\u001b[33;43msplit_ratio\u001b[39;49m\u001b[33;43m\"\u001b[39;49m\u001b[43m:\u001b[49m\u001b[32;43m0.5\u001b[39;49m\u001b[43m}\u001b[49m\u001b[43m,\u001b[49m\n\u001b[32m     13\u001b[39m \u001b[43m    \u001b[49m\u001b[43mindividual_asset_weight\u001b[49m\u001b[43m=\u001b[49m\u001b[43m{\u001b[49m\u001b[33;43m\"\u001b[39;49m\u001b[33;43mcoq-inu\u001b[39;49m\u001b[33;43m\"\u001b[39;49m\u001b[43m:\u001b[49m\u001b[32;43m0.05\u001b[39;49m\u001b[43m}\u001b[49m\n\u001b[32m     14\u001b[39m \n\u001b[32m     15\u001b[39m \u001b[43m    \u001b[49m\u001b[43m)\u001b[49m\n\u001b[32m     16\u001b[39m liquidity\n",
      "\u001b[36mFile \u001b[39m\u001b[32m~/Documents/GitHub/rebalancing-data/CAI/../methodology.py:857\u001b[39m, in \u001b[36mMethodologyProd.main\u001b[39m\u001b[34m(self, weight_by, single_chain, df_to_remove, add_category_assets, remove_category_assets, ids_to_replace, values_to_update, platforms_to_add, platforms_to_remove, enable_liquidity_score, individual_asset_weight, weight_split_data)\u001b[39m\n\u001b[32m    855\u001b[39m \u001b[38;5;28mself\u001b[39m.asset_maturity_check()\n\u001b[32m    856\u001b[39m \u001b[38;5;28mself\u001b[39m.create_db_tables()\n\u001b[32m--> \u001b[39m\u001b[32m857\u001b[39m \u001b[38;5;28;43mself\u001b[39;49m\u001b[43m.\u001b[49m\u001b[43massess_liquidity\u001b[49m\u001b[43m(\u001b[49m\u001b[43mplatforms_to_remove\u001b[49m\u001b[43m)\u001b[49m\n\u001b[32m    858\u001b[39m \u001b[38;5;28;01mif\u001b[39;00m enable_liquidity_score == \u001b[38;5;28;01mTrue\u001b[39;00m:\n\u001b[32m    859\u001b[39m     \u001b[38;5;28mself\u001b[39m.liquidity_score()\n",
      "\u001b[36mFile \u001b[39m\u001b[32m~/Documents/GitHub/rebalancing-data/CAI/../methodology.py:1019\u001b[39m, in \u001b[36mMethodologyProd.assess_liquidity\u001b[39m\u001b[34m(self, blockchains_to_remove)\u001b[39m\n\u001b[32m   1013\u001b[39m slippages.sort_values(\n\u001b[32m   1014\u001b[39m     by=\u001b[33m\"\u001b[39m\u001b[33mbest slippage\u001b[39m\u001b[33m\"\u001b[39m,\n\u001b[32m   1015\u001b[39m     ascending=\u001b[38;5;28;01mFalse\u001b[39;00m,\n\u001b[32m   1016\u001b[39m     inplace=\u001b[38;5;28;01mTrue\u001b[39;00m,\n\u001b[32m   1017\u001b[39m )\n\u001b[32m   1018\u001b[39m \u001b[38;5;28mself\u001b[39m.slippage_data = slippages\n\u001b[32m-> \u001b[39m\u001b[32m1019\u001b[39m \u001b[38;5;28;43mself\u001b[39;49m\u001b[43m.\u001b[49m\u001b[43madd_slippage_to_liquidity_db\u001b[49m\u001b[43m(\u001b[49m\u001b[43m)\u001b[49m\n\u001b[32m   1021\u001b[39m \u001b[38;5;28mself\u001b[39m.avg_slippage_data = \u001b[38;5;28mself\u001b[39m.check_avg_slippage()\n\u001b[32m   1022\u001b[39m \u001b[38;5;28mself\u001b[39m.category_data = \u001b[38;5;28mself\u001b[39m.category_data.filter(\n\u001b[32m   1023\u001b[39m     \u001b[38;5;28mself\u001b[39m.avg_slippage_data.index, axis=\u001b[32m0\u001b[39m\n\u001b[32m   1024\u001b[39m )\n",
      "\u001b[36mFile \u001b[39m\u001b[32m~/Documents/GitHub/rebalancing-data/CAI/../methodology.py:893\u001b[39m, in \u001b[36mMethodologyProd.add_slippage_to_liquidity_db\u001b[39m\u001b[34m(self)\u001b[39m\n\u001b[32m    891\u001b[39m asset_columns = convert_to_sql_strings(\u001b[38;5;28mlist\u001b[39m(slippages_to_save.index))\n\u001b[32m    892\u001b[39m slippage_values = \u001b[38;5;28mlist\u001b[39m(slippages_to_save.values)\n\u001b[32m--> \u001b[39m\u001b[32m893\u001b[39m \u001b[43minsert_values\u001b[49m\u001b[43m(\u001b[49m\n\u001b[32m    894\u001b[39m \u001b[43m    \u001b[49m\u001b[38;5;28;43mself\u001b[39;49m\u001b[43m.\u001b[49m\u001b[43mdate\u001b[49m\u001b[43m,\u001b[49m\u001b[43m \u001b[49m\u001b[43masset_columns\u001b[49m\u001b[43m,\u001b[49m\u001b[43m \u001b[49m\u001b[43mslippage_values\u001b[49m\u001b[43m,\u001b[49m\u001b[43m \u001b[49m\u001b[38;5;28;43mself\u001b[39;49m\u001b[43m.\u001b[49m\u001b[43mdb_liquidity_table\u001b[49m\n\u001b[32m    895\u001b[39m \u001b[43m\u001b[49m\u001b[43m)\u001b[49m\n",
      "\u001b[36mFile \u001b[39m\u001b[32m~/Documents/GitHub/rebalancing-data/CAI/../db_funcs.py:63\u001b[39m, in \u001b[36minsert_values\u001b[39m\u001b[34m(row, columns, values, table_name)\u001b[39m\n\u001b[32m     59\u001b[39m statement = \u001b[33mf\u001b[39m\u001b[33m\"\"\"\u001b[39m\n\u001b[32m     60\u001b[39m \u001b[33mREPLACE INTO \u001b[39m\u001b[38;5;132;01m{\u001b[39;00mtable_name\u001b[38;5;132;01m}\u001b[39;00m\u001b[33m(date,\u001b[39m\u001b[38;5;132;01m{\u001b[39;00mcolumns\u001b[38;5;132;01m}\u001b[39;00m\u001b[33m)\u001b[39m\n\u001b[32m     61\u001b[39m \u001b[33mVALUES(\u001b[39m\u001b[33m\"\u001b[39m\u001b[38;5;132;01m{\u001b[39;00mrow\u001b[38;5;132;01m}\u001b[39;00m\u001b[33m\"\u001b[39m\u001b[33m,\u001b[39m\u001b[38;5;132;01m{\u001b[39;00mvalues\u001b[38;5;132;01m}\u001b[39;00m\u001b[33m)\u001b[39m\u001b[33m\"\"\"\u001b[39m\n\u001b[32m     62\u001b[39m \u001b[38;5;28mprint\u001b[39m(statement)\n\u001b[32m---> \u001b[39m\u001b[32m63\u001b[39m \u001b[43mconn\u001b[49m\u001b[43m.\u001b[49m\u001b[43mexecute\u001b[49m\u001b[43m(\u001b[49m\u001b[43mstatement\u001b[49m\u001b[43m)\u001b[49m\n",
      "\u001b[31mOperationalError\u001b[39m: near \"(\": syntax error"
     ]
    }
   ],
   "source": [
    "results,liquidity = methodology_class.main(\n",
    "    single_chain=\"avalanche\",\n",
    "    df_to_remove=[stablecoins,ctokens,atokens],\n",
    "    ids_to_replace=[[\"avalanche-2\"],[\"benqi-liquid-staked-avax\"]],\n",
    "    remove_category_assets=['wrapped-bitcoin',\"gmx\",\"euro-coin\",\"bitcoin-avalanche-bridged-btc-b\",\"benqi-liquid-staked-avax\",\"pangolin\",\"chainlink\",\"stargate-finance\",\"avalanche-bridged-weth-avalanche\",\n",
    "                            \"tether-avalanche-bridged-usdt-e\",\"usd-coin-avalanche-bridged-usdc-e\",\"wrapped-avax\",\"avalanche-old-bridged-wbtc-avalanche\",\"aave\"],\n",
    "    values_to_update=[{'id':'pangolin','category':'total_supply','value':230000000},\n",
    "                      {'id':'benqi-liquid-staked-avax','category':'market_cap','value':161_000_000},\n",
    "                      {'id':'benqi-liquid-staked-avax','category':'symbol','value':\"sAVAX\"}\n",
    "                      ],\n",
    "    enable_liquidity_score=True,\n",
    "    weight_split_data= {\"asset_to_split\":\"benqi-liquid-staked-avax\",\"asset_to_receive\":\"gogopool-ggavax\",\"split_ratio\":0.5},\n",
    "    individual_asset_weight={\"coq-inu\":0.05}\n",
    "\n",
    "    )\n",
    "liquidity"
   ]
  },
  {
   "cell_type": "markdown",
   "id": "a74ebe0c",
   "metadata": {},
   "source": [
    "## Show Results"
   ]
  },
  {
   "cell_type": "code",
   "execution_count": null,
   "id": "b3a4ae5c",
   "metadata": {},
   "outputs": [],
   "source": [
    "results"
   ]
  },
  {
   "cell_type": "markdown",
   "id": "84c4665c",
   "metadata": {},
   "source": [
    "## Contract Output"
   ]
  },
  {
   "cell_type": "code",
   "execution_count": null,
   "id": "78d6dafd",
   "metadata": {},
   "outputs": [],
   "source": [
    "methodology_class.output_for_contract()"
   ]
  }
 ],
 "metadata": {
  "kernelspec": {
   "display_name": "rebalancing-data-VGaZtODH",
   "language": "python",
   "name": "python3"
  },
  "language_info": {
   "codemirror_mode": {
    "name": "ipython",
    "version": 3
   },
   "file_extension": ".py",
   "mimetype": "text/x-python",
   "name": "python",
   "nbconvert_exporter": "python",
   "pygments_lexer": "ipython3",
   "version": "3.13.4"
  }
 },
 "nbformat": 4,
 "nbformat_minor": 5
}
