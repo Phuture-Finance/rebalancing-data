{
 "cells": [
  {
   "attachments": {},
   "cell_type": "markdown",
   "id": "098511ce-c7e3-49dd-a41b-23657ecabf6f",
   "metadata": {},
   "source": [
    "## CAI - Rebalancing data for March 2023 "
   ]
  },
  {
   "attachments": {},
   "cell_type": "markdown",
   "id": "d1f1d7e0-f33f-466f-a327-756617b3aba8",
   "metadata": {
    "tags": []
   },
   "source": [
    "## Configuring packages"
   ]
  },
  {
   "cell_type": "code",
   "execution_count": 71,
   "id": "5cc35cd0-4d79-4135-819d-bce7d6d021c9",
   "metadata": {},
   "outputs": [],
   "source": [
    "import pandas as pd\n",
    "import numpy as np\n",
    "import requests\n",
    "import decouple\n",
    "import sys \n",
    "import datetime\n",
    "sys.path.append('../')\n",
    "\n",
    "from web3 import Web3\n",
    "from abis import index_anatomy\n",
    "\n",
    "\n",
    "infura_url = decouple.config(\"AVALANCHE_INFURA_URL\")\n",
    "web3_object = Web3(Web3.HTTPProvider(infura_url))\n",
    "\n",
    "import db_funcs"
   ]
  },
  {
   "cell_type": "code",
   "execution_count": 72,
   "id": "f7ec58bd-df9f-47f7-b145-450d08e6fcfc",
   "metadata": {},
   "outputs": [],
   "source": [
    "from pycoingecko import CoinGeckoAPI\n",
    "key = decouple.config(\"CG_KEY\")\n",
    "cg = CoinGeckoAPI(api_key= key)"
   ]
  },
  {
   "cell_type": "code",
   "execution_count": 73,
   "id": "26168a37-e401-4e26-b63b-9c708ca0902c",
   "metadata": {},
   "outputs": [],
   "source": [
    "import plotly.express as px\n",
    "import plotly.graph_objects as go"
   ]
  },
  {
   "cell_type": "code",
   "execution_count": 74,
   "id": "9eb0768b-c6fb-4401-9205-31490edb4cf2",
   "metadata": {},
   "outputs": [
    {
     "data": {
      "text/html": [
       "        <script type=\"text/javascript\">\n",
       "        window.PlotlyConfig = {MathJaxConfig: 'local'};\n",
       "        if (window.MathJax && window.MathJax.Hub && window.MathJax.Hub.Config) {window.MathJax.Hub.Config({SVG: {font: \"STIX-Web\"}});}\n",
       "        if (typeof require !== 'undefined') {\n",
       "        require.undef(\"plotly\");\n",
       "        requirejs.config({\n",
       "            paths: {\n",
       "                'plotly': ['https://cdn.plot.ly/plotly-2.12.1.min']\n",
       "            }\n",
       "        });\n",
       "        require(['plotly'], function(Plotly) {\n",
       "            window._Plotly = Plotly;\n",
       "        });\n",
       "        }\n",
       "        </script>\n",
       "        "
      ]
     },
     "metadata": {},
     "output_type": "display_data"
    }
   ],
   "source": [
    "from plotly.offline import plot, iplot, init_notebook_mode\n",
    "init_notebook_mode(connected=True)"
   ]
  },
  {
   "attachments": {},
   "cell_type": "markdown",
   "id": "ae536759",
   "metadata": {},
   "source": [
    "## Index Variables and settings"
   ]
  },
  {
   "cell_type": "code",
   "execution_count": 75,
   "id": "3584c38f",
   "metadata": {},
   "outputs": [],
   "source": [
    "db_key_date = '2023-03-01'\n",
    "db_liquidity_table = 'cai_liquidities'\n",
    "db_benchmark_table = 'cai_benchmark_data'\n",
    "min_weight = 0.005\n",
    "max_weight = 0.5\n",
    "supply_threshold = 0.3\n",
    "liquidity_consistency = 90 # In days\n",
    "avax_to_savax_split = 0.6\n",
    "liveness_threshold = 30*6 # In days"
   ]
  },
  {
   "cell_type": "code",
   "execution_count": 76,
   "id": "3fe13f51",
   "metadata": {},
   "outputs": [
    {
     "data": {
      "text/plain": [
       "-0.09"
      ]
     },
     "execution_count": 76,
     "metadata": {},
     "output_type": "execute_result"
    }
   ],
   "source": [
    "liq = 2*10**6\n",
    "liq_os = liq / 2 # one-side liquidity \n",
    "trade_value_tiny = 1e2\n",
    "trade_value = 1e5\n",
    "max_slippage = (liq_os + trade_value_tiny) / (liq_os + trade_value) - 1\n",
    "# round to the nearest .5\n",
    "max_slippage = round(2 * max_slippage, 2) / 2 \n",
    "max_slippage"
   ]
  },
  {
   "cell_type": "markdown",
   "id": "f54edc25-7b1b-41e3-8b84-bd8159ab60b5",
   "metadata": {
    "tags": []
   },
   "source": [
    "## Data retrieving and filtering"
   ]
  },
  {
   "attachments": {},
   "cell_type": "markdown",
   "id": "06459122-606f-4b8b-9dcd-98490a913211",
   "metadata": {
    "tags": []
   },
   "source": [
    "### Token inclusion criteria\n",
    "\n",
    "1. **Project and token characteristics**\n",
    "    1. The project’s token should have been listed on CoinGecko with pricing data at least 6 months prior to the date of inclusion in the index.\n",
    "    1. The project should have a token that is native to Avalanche. This excludes wrapped variants, where the underlying tokens are locked on an alt-L1.\n",
    "    1. The project should be a going concern, with a dedicated team actively building, supporting and maintaining the project.\n",
    "    1. No rebasing or deflationary tokens.\n",
    "    1. The project must be widely considered to be building a useful protocol or product. Projects that have ponzi characteristics at the core of their offering will not be considered.\n",
    "    1. Synthetic tokens which derive their value from external price feeds are not permissible.\n",
    "    1. The project’s token must not have the ability to pause token transfers.\n",
    "    1. The project’s protocol or product must have significant usage.\n",
    "    <br>\n",
    "1. **Pricing requirements**\n",
    "    1. Token should have a Chainlink price feed to allow for manipulation resistant pricing.\n",
    "    <br>\n",
    "1. **Token Supply requirements**\n",
    "    1. The project's token must have a circulating supply greater than 30% of the max supply. In cases where a token does not have a max supply, the minting mechanics would need to be assessed.\n",
    "    <br>\n",
    "1. **Liquidity Requirements**\n",
    "    1. The token must be listed on a supported exchange. \n",
    "    1. The token should have in aggregate at least $2mm of onchain liquidity across Trader Joe, Platypus, Pangolin.\n",
    "    1. The token must have shown consistent DeFi liquidity on Avalanche.\n",
    "    <br>\n",
    "1. **Security Requirements**\n",
    "    1. The project must have been audited by smart contract security professionals with the audit report(s) publicly available. Alternatively, the protocol must have been operating long enough to create a consensus about its safety in the decentralised finance community."
   ]
  },
  {
   "cell_type": "markdown",
   "id": "785b167b-e990-4d6d-a8d5-75a6378e1197",
   "metadata": {},
   "source": [
    "### Tokens list"
   ]
  },
  {
   "cell_type": "code",
   "execution_count": 77,
   "id": "602314b9-24a8-421c-bbb4-c00ef886139d",
   "metadata": {},
   "outputs": [],
   "source": [
    "def normalize_symb(symb):\n",
    "    return ''.join(c for c in symb if c.isalnum()).upper()"
   ]
  },
  {
   "cell_type": "markdown",
   "id": "c80728c3-e3d5-4270-9400-f39c1e9c0e55",
   "metadata": {},
   "source": [
    "#### CoinGecko"
   ]
  },
  {
   "cell_type": "markdown",
   "id": "375c513b-7aa0-4ec9-82aa-475feabf6f84",
   "metadata": {},
   "source": [
    "##### Tokens addresses"
   ]
  },
  {
   "cell_type": "code",
   "execution_count": 78,
   "id": "7788b765-2a08-4661-8b4b-1cb20ac72e44",
   "metadata": {},
   "outputs": [],
   "source": [
    "coins_list = cg.get_coins_list(include_platform=True)\n",
    "coins = {}\n",
    "for coin in coins_list:\n",
    "    if 'avalanche' in coin['platforms']:\n",
    "        coin['addr'] = coin['platforms']['avalanche']\n",
    "        coin['symbol'] = normalize_symb(coin['symbol'])\n",
    "        coins[coin['id']] = coin\n",
    "\n",
    "# Adding AVAX\n",
    "coins['avalanche-2'] = {'id': 'avalanche-2','symbol':normalize_symb('avax'), 'name':'Avalanche','addr':'0xb31f66aa3c1e785363f0875a1b74e27b85fd66c7',}\n"
   ]
  },
  {
   "cell_type": "markdown",
   "id": "74a45df3-0ae7-4907-b444-67b1c5a88b73",
   "metadata": {
    "tags": []
   },
   "source": [
    "##### Market data"
   ]
  },
  {
   "cell_type": "code",
   "execution_count": 79,
   "id": "dce08acf-3b3e-4042-a0f2-7de6c8219f1d",
   "metadata": {},
   "outputs": [
    {
     "name": "stderr",
     "output_type": "stream",
     "text": [
      "/var/folders/4t/6j5ypx_s6r771shjr5dcct5w0000gn/T/ipykernel_82169/3118279002.py:8: FutureWarning:\n",
      "\n",
      "The frame.append method is deprecated and will be removed from pandas in a future version. Use pandas.concat instead.\n",
      "\n"
     ]
    }
   ],
   "source": [
    "cat_id = \"avalanche-ecosystem\"\n",
    "cg_tokens_data = cg.get_coins_markets(vs_currency='USD', order='market_cap_desc', category=cat_id)\n",
    "for i in range(2, 30):\n",
    "    cg_tokens_data.extend(cg.get_coins_markets(vs_currency='USD', order='market_cap_desc', category=cat_id, page=i))\n",
    "    \n",
    "cg_tokens_data = pd.DataFrame.from_records(cg_tokens_data)\n",
    "\n",
    "cg_tokens_data = cg_tokens_data.append(cg.get_coins_markets(ids='avalanche-2',vs_currency='USD'),ignore_index=False)"
   ]
  },
  {
   "cell_type": "code",
   "execution_count": 80,
   "id": "054f69e9-0dbb-4427-b9ca-1b4287f2f795",
   "metadata": {},
   "outputs": [],
   "source": [
    "tokens_market_data = cg_tokens_data.set_index('id')[\n",
    "    ['name', 'symbol', 'market_cap', 'market_cap_rank', 'current_price', 'total_supply', 'circulating_supply']\n",
    "]\n",
    "tokens_market_data['symbol'] = tokens_market_data['symbol'].apply(normalize_symb)"
   ]
  },
  {
   "cell_type": "code",
   "execution_count": 81,
   "id": "d33dbd5c-4967-41a2-99ee-6dc9a0b4490f",
   "metadata": {},
   "outputs": [],
   "source": [
    "tokens_market_data = tokens_market_data[tokens_market_data['market_cap'] > 0]\n",
    "tokens_market_data = tokens_market_data[~tokens_market_data.index.duplicated(keep='first')]\n",
    "tokens_market_data = tokens_market_data.join(pd.DataFrame.from_dict(coins, orient='index')['addr'])\n",
    "tokens_market_data = tokens_market_data[~tokens_market_data['addr'].isna()]\n"
   ]
  },
  {
   "cell_type": "code",
   "execution_count": 82,
   "id": "30a6d624-9247-45a0-95af-5f79dce6703f",
   "metadata": {},
   "outputs": [
    {
     "data": {
      "text/html": [
       "<div>\n",
       "<style scoped>\n",
       "    .dataframe tbody tr th:only-of-type {\n",
       "        vertical-align: middle;\n",
       "    }\n",
       "\n",
       "    .dataframe tbody tr th {\n",
       "        vertical-align: top;\n",
       "    }\n",
       "\n",
       "    .dataframe thead th {\n",
       "        text-align: right;\n",
       "    }\n",
       "</style>\n",
       "<table border=\"1\" class=\"dataframe\">\n",
       "  <thead>\n",
       "    <tr style=\"text-align: right;\">\n",
       "      <th></th>\n",
       "      <th>name</th>\n",
       "      <th>symbol</th>\n",
       "      <th>market_cap</th>\n",
       "      <th>market_cap_rank</th>\n",
       "      <th>current_price</th>\n",
       "      <th>total_supply</th>\n",
       "      <th>circulating_supply</th>\n",
       "      <th>addr</th>\n",
       "    </tr>\n",
       "    <tr>\n",
       "      <th>id</th>\n",
       "      <th></th>\n",
       "      <th></th>\n",
       "      <th></th>\n",
       "      <th></th>\n",
       "      <th></th>\n",
       "      <th></th>\n",
       "      <th></th>\n",
       "      <th></th>\n",
       "    </tr>\n",
       "  </thead>\n",
       "  <tbody>\n",
       "    <tr>\n",
       "      <th>avalanche-2</th>\n",
       "      <td>Avalanche</td>\n",
       "      <td>AVAX</td>\n",
       "      <td>6.373956e+09</td>\n",
       "      <td>18.0</td>\n",
       "      <td>20.210000</td>\n",
       "      <td>4.205317e+08</td>\n",
       "      <td>3.151257e+08</td>\n",
       "      <td>0xb31f66aa3c1e785363f0875a1b74e27b85fd66c7</td>\n",
       "    </tr>\n",
       "    <tr>\n",
       "      <th>uniswap</th>\n",
       "      <td>Uniswap</td>\n",
       "      <td>UNI</td>\n",
       "      <td>5.366943e+09</td>\n",
       "      <td>19.0</td>\n",
       "      <td>7.120000</td>\n",
       "      <td>1.000000e+09</td>\n",
       "      <td>7.537667e+08</td>\n",
       "      <td>0x8ebaf22b6f053dffeaf46f4dd9efa95d89ba8580</td>\n",
       "    </tr>\n",
       "    <tr>\n",
       "      <th>wrapped-bitcoin</th>\n",
       "      <td>Wrapped Bitcoin</td>\n",
       "      <td>WBTC</td>\n",
       "      <td>4.328085e+09</td>\n",
       "      <td>21.0</td>\n",
       "      <td>24625.000000</td>\n",
       "      <td>1.754971e+05</td>\n",
       "      <td>1.754971e+05</td>\n",
       "      <td>0x50b7545627a5162f82a992c33b87adc75187b218</td>\n",
       "    </tr>\n",
       "    <tr>\n",
       "      <th>chainlink</th>\n",
       "      <td>Chainlink</td>\n",
       "      <td>LINK</td>\n",
       "      <td>3.826398e+09</td>\n",
       "      <td>23.0</td>\n",
       "      <td>7.780000</td>\n",
       "      <td>1.000000e+09</td>\n",
       "      <td>4.916000e+08</td>\n",
       "      <td>0x5947bb275c521040051d82396192181b413227a3</td>\n",
       "    </tr>\n",
       "    <tr>\n",
       "      <th>the-graph</th>\n",
       "      <td>The Graph</td>\n",
       "      <td>GRT</td>\n",
       "      <td>1.563911e+09</td>\n",
       "      <td>41.0</td>\n",
       "      <td>0.175454</td>\n",
       "      <td>1.000000e+10</td>\n",
       "      <td>8.893377e+09</td>\n",
       "      <td>0x8a0cac13c7da965a312f08ea4229c37869e85cb9</td>\n",
       "    </tr>\n",
       "    <tr>\n",
       "      <th>...</th>\n",
       "      <td>...</td>\n",
       "      <td>...</td>\n",
       "      <td>...</td>\n",
       "      <td>...</td>\n",
       "      <td>...</td>\n",
       "      <td>...</td>\n",
       "      <td>...</td>\n",
       "      <td>...</td>\n",
       "    </tr>\n",
       "    <tr>\n",
       "      <th>fortressdao</th>\n",
       "      <td>Fortress</td>\n",
       "      <td>FORT</td>\n",
       "      <td>1.196430e+04</td>\n",
       "      <td>3728.0</td>\n",
       "      <td>0.008534</td>\n",
       "      <td>1.409126e+06</td>\n",
       "      <td>1.401945e+06</td>\n",
       "      <td>0xf6d46849db378ae01d93732585bec2c4480d1fd5</td>\n",
       "    </tr>\n",
       "    <tr>\n",
       "      <th>morphie</th>\n",
       "      <td>Morphie</td>\n",
       "      <td>MRFI</td>\n",
       "      <td>8.163660e+03</td>\n",
       "      <td>3764.0</td>\n",
       "      <td>0.000001</td>\n",
       "      <td>2.000000e+10</td>\n",
       "      <td>8.069296e+09</td>\n",
       "      <td>0x05e481b19129b560e921e487adb281e70bdba463</td>\n",
       "    </tr>\n",
       "    <tr>\n",
       "      <th>hermes</th>\n",
       "      <td>HERMES</td>\n",
       "      <td>HERMES</td>\n",
       "      <td>2.930000e+03</td>\n",
       "      <td>3852.0</td>\n",
       "      <td>0.478798</td>\n",
       "      <td>9.878883e+03</td>\n",
       "      <td>6.119485e+03</td>\n",
       "      <td>0xb15f02f9da8cd1f99e9dd375f21dc96d25ddd82c</td>\n",
       "    </tr>\n",
       "    <tr>\n",
       "      <th>spice-trade</th>\n",
       "      <td>Spice Trade</td>\n",
       "      <td>SPICE</td>\n",
       "      <td>7.884700e+02</td>\n",
       "      <td>3885.0</td>\n",
       "      <td>0.000541</td>\n",
       "      <td>5.762059e+07</td>\n",
       "      <td>1.457682e+06</td>\n",
       "      <td>0xf30c5083a1479865c9a8916dec6ddadd82e8907b</td>\n",
       "    </tr>\n",
       "    <tr>\n",
       "      <th>dairy-money-milk</th>\n",
       "      <td>Dairy.Money MILK</td>\n",
       "      <td>MILK</td>\n",
       "      <td>6.577800e+02</td>\n",
       "      <td>3886.0</td>\n",
       "      <td>0.051819</td>\n",
       "      <td>1.963733e+06</td>\n",
       "      <td>1.269400e+04</td>\n",
       "      <td>0x4d81911f0e30d2e12dcc954091701b39dc59e34a</td>\n",
       "    </tr>\n",
       "  </tbody>\n",
       "</table>\n",
       "<p>170 rows × 8 columns</p>\n",
       "</div>"
      ],
      "text/plain": [
       "                              name  symbol    market_cap  market_cap_rank  \\\n",
       "id                                                                          \n",
       "avalanche-2              Avalanche    AVAX  6.373956e+09             18.0   \n",
       "uniswap                    Uniswap     UNI  5.366943e+09             19.0   \n",
       "wrapped-bitcoin    Wrapped Bitcoin    WBTC  4.328085e+09             21.0   \n",
       "chainlink                Chainlink    LINK  3.826398e+09             23.0   \n",
       "the-graph                The Graph     GRT  1.563911e+09             41.0   \n",
       "...                            ...     ...           ...              ...   \n",
       "fortressdao               Fortress    FORT  1.196430e+04           3728.0   \n",
       "morphie                    Morphie    MRFI  8.163660e+03           3764.0   \n",
       "hermes                      HERMES  HERMES  2.930000e+03           3852.0   \n",
       "spice-trade            Spice Trade   SPICE  7.884700e+02           3885.0   \n",
       "dairy-money-milk  Dairy.Money MILK    MILK  6.577800e+02           3886.0   \n",
       "\n",
       "                  current_price  total_supply  circulating_supply  \\\n",
       "id                                                                  \n",
       "avalanche-2           20.210000  4.205317e+08        3.151257e+08   \n",
       "uniswap                7.120000  1.000000e+09        7.537667e+08   \n",
       "wrapped-bitcoin    24625.000000  1.754971e+05        1.754971e+05   \n",
       "chainlink              7.780000  1.000000e+09        4.916000e+08   \n",
       "the-graph              0.175454  1.000000e+10        8.893377e+09   \n",
       "...                         ...           ...                 ...   \n",
       "fortressdao            0.008534  1.409126e+06        1.401945e+06   \n",
       "morphie                0.000001  2.000000e+10        8.069296e+09   \n",
       "hermes                 0.478798  9.878883e+03        6.119485e+03   \n",
       "spice-trade            0.000541  5.762059e+07        1.457682e+06   \n",
       "dairy-money-milk       0.051819  1.963733e+06        1.269400e+04   \n",
       "\n",
       "                                                        addr  \n",
       "id                                                            \n",
       "avalanche-2       0xb31f66aa3c1e785363f0875a1b74e27b85fd66c7  \n",
       "uniswap           0x8ebaf22b6f053dffeaf46f4dd9efa95d89ba8580  \n",
       "wrapped-bitcoin   0x50b7545627a5162f82a992c33b87adc75187b218  \n",
       "chainlink         0x5947bb275c521040051d82396192181b413227a3  \n",
       "the-graph         0x8a0cac13c7da965a312f08ea4229c37869e85cb9  \n",
       "...                                                      ...  \n",
       "fortressdao       0xf6d46849db378ae01d93732585bec2c4480d1fd5  \n",
       "morphie           0x05e481b19129b560e921e487adb281e70bdba463  \n",
       "hermes            0xb15f02f9da8cd1f99e9dd375f21dc96d25ddd82c  \n",
       "spice-trade       0xf30c5083a1479865c9a8916dec6ddadd82e8907b  \n",
       "dairy-money-milk  0x4d81911f0e30d2e12dcc954091701b39dc59e34a  \n",
       "\n",
       "[170 rows x 8 columns]"
      ]
     },
     "execution_count": 82,
     "metadata": {},
     "output_type": "execute_result"
    }
   ],
   "source": [
    "# Stable coins to remove from tokens list\n",
    "stablecoins = pd.DataFrame(cg.get_coins_markets('usd',category='stablecoins')).set_index('id')\n",
    "\n",
    "#Adjusting Pangolin's max supply to reflect tokenomic changes here: https://app.pangolin.exchange/#/vote/10\n",
    "tokens_market_data.loc[['pangolin'],[\"total_supply\"]] = 230000000.0\n",
    "\n",
    "tokens_market_data =  tokens_market_data[~tokens_market_data.index.isin(stablecoins.index)]\n",
    "tokens_market_data = tokens_market_data.sort_values('market_cap', ascending=False)\n",
    "\n",
    "tokens_market_data"
   ]
  },
  {
   "cell_type": "markdown",
   "id": "c0c93d4d-da55-46ad-bdba-0beb4904384b",
   "metadata": {},
   "source": [
    "### Token's supply check "
   ]
  },
  {
   "cell_type": "code",
   "execution_count": 83,
   "id": "2e8f966a-441d-4e40-ba0e-1d140cdd8e74",
   "metadata": {},
   "outputs": [],
   "source": [
    "sp_passed_index = (tokens_market_data['circulating_supply'] / tokens_market_data['total_supply']) > supply_threshold\n",
    "sp_passed = tokens_market_data[sp_passed_index]"
   ]
  },
  {
   "cell_type": "markdown",
   "id": "a6bbaa4d-eb21-4d5c-9965-438e549e2fe4",
   "metadata": {},
   "source": [
    "### Retrieve historical data & token age check"
   ]
  },
  {
   "cell_type": "code",
   "execution_count": 84,
   "id": "95211db9-aaa9-415b-9442-173aa282a6dd",
   "metadata": {},
   "outputs": [
    {
     "name": "stdout",
     "output_type": "stream",
     "text": [
      "Note: BTCB, marketcap data available only for 127 < 180 days\n",
      "Excluding USP, prices data available only for 12 < 180 days\n",
      "Excluding XEN, prices data available only for 134 < 180 days\n",
      "Note: CLY, marketcap data available only for 172 < 180 days\n",
      "Note: BUILD, marketcap data available only for 179 < 180 days\n",
      "Note: KENSHI, marketcap data available only for 19 < 180 days\n",
      "Note: 3ULL, marketcap data available only for 151 < 180 days\n",
      "Note: DCAR, marketcap data available only for 160 < 180 days\n",
      "Excluding CAI, prices data available only for 168 < 180 days\n",
      "Note: MAGIC, marketcap data available only for 41 < 180 days\n",
      "Note: CHRO, marketcap data available only for 106 < 180 days\n",
      "Note: FRF, marketcap data available only for 14 < 180 days\n"
     ]
    }
   ],
   "source": [
    "exclude_list = []\n",
    "\n",
    "prices_data = pd.DataFrame()\n",
    "marketcaps = pd.DataFrame() \n",
    "for id_, row in sp_passed.iterrows():\n",
    "    symbol = row['symbol']\n",
    "    data = cg.get_coin_market_chart_by_id(id_, vs_currency='USD', days='max')\n",
    "  \n",
    "    df_prices = pd.DataFrame(data['prices'], columns=['date', id_])\n",
    "    df_prices = df_prices[df_prices[id_] > 0]\n",
    "    df_prices['date'] = pd.to_datetime(df_prices['date'], unit='ms').dt.date\n",
    "    df_prices['date'] = pd.to_datetime(df_prices['date'])\n",
    "    df_prices = df_prices.set_index('date', drop=True)\n",
    "    df_prices = df_prices.loc[~df_prices.index.duplicated(keep='first')]\n",
    "    \n",
    "    if len(df_prices) < liveness_threshold:\n",
    "        print(f'Excluding {symbol}, prices data available only for {len(df_prices)} < {liveness_threshold} days')\n",
    "        exclude_list.append(id_)\n",
    "        continue\n",
    "    prices_data = pd.concat([prices_data, df_prices], axis=1)\n",
    "    \n",
    "    df_mcaps = pd.DataFrame(data['market_caps'], columns=['date', id_])\n",
    "    df_mcaps = df_mcaps[df_mcaps[id_] > 0]\n",
    "    df_mcaps['date'] = pd.to_datetime(df_mcaps['date'], unit='ms').dt.date\n",
    "    df_mcaps['date'] = pd.to_datetime(df_mcaps['date'])\n",
    "    df_mcaps = df_mcaps.set_index('date', drop=True)\n",
    "    df_mcaps = df_mcaps.loc[~df_mcaps.index.duplicated(keep='first')]\n",
    "    \n",
    "    if len(df_mcaps) < liveness_threshold:\n",
    "        print(f'Note: {symbol}, marketcap data available only for {len(df_mcaps)} < {liveness_threshold} days')\n",
    "        ## continue\n",
    "    df_mcaps = df_mcaps.reindex(df_prices.index)\n",
    "    marketcaps = pd.concat([marketcaps, df_mcaps], axis=1)\n",
    "    \n",
    "    "
   ]
  },
  {
   "cell_type": "markdown",
   "id": "bae26b9a-9b08-4558-b472-18d3cf9f1342",
   "metadata": {},
   "source": [
    "### Non quantative checks"
   ]
  },
  {
   "cell_type": "code",
   "execution_count": 85,
   "id": "d6ae8446-7b24-4b35-9c29-cb06547ccfa2",
   "metadata": {},
   "outputs": [],
   "source": [
    "manual_exclusions = [\n",
    "    {\n",
    "        'gecko_id': 'spell-token',\n",
    "        'reason': 'Not a native Avalanche asset'\n",
    "    },\n",
    "    {\n",
    "        'gecko_id': 'stacktical',\n",
    "        'reason': 'Not a native Avalanche asset'\n",
    "    },\n",
    "    {\n",
    "        'gecko_id': 'zookeeper',\n",
    "        'reason': 'Not a native Avalanche asset'\n",
    "    },\n",
    "    {\n",
    "        'gecko_id': 'pendle',\n",
    "        'reason': 'Not a native Avalanche asset'\n",
    "    },\n",
    "    {\n",
    "        'gecko_id': 'everrise',\n",
    "        'reason': 'Not a native Avalanche asset'\n",
    "    },\n",
    "    {\n",
    "        'gecko_id': 'wrapped-bitcoin',\n",
    "        'reason' : 'Not a native Avalanche asset'\n",
    "    },\n",
    "    {\n",
    "        'gecko_id': 'bitcoin-avalanche-bridged-btc-b',\n",
    "        'reason': 'Not a native Avalanche asset'\n",
    "    },\n",
    "    {\n",
    "        'gecko_id': 'gmx',\n",
    "        'reason': 'Bridged asset'\n",
    "    },\n",
    "    {\n",
    "        'gecko_id': 'woo-network',\n",
    "        'reason': 'Bridged asset'\n",
    "    }\n",
    "]\n",
    "for token in manual_exclusions:\n",
    "    exclude_list.append(token['gecko_id'])"
   ]
  },
  {
   "cell_type": "code",
   "execution_count": 109,
   "id": "771b0608",
   "metadata": {},
   "outputs": [
    {
     "data": {
      "text/plain": [
       "name                                                       BENQI\n",
       "symbol                                                        QI\n",
       "market_cap                                            39469333.0\n",
       "market_cap_rank                                            562.0\n",
       "current_price                                           0.011435\n",
       "total_supply                                        7200000000.0\n",
       "circulating_supply                                  3448848275.0\n",
       "addr                  0x8729438eb15e2c8b576fcc6aecda6a148776c0f5\n",
       "Name: benqi, dtype: object"
      ]
     },
     "execution_count": 109,
     "metadata": {},
     "output_type": "execute_result"
    }
   ],
   "source": [
    "passed_q_and_non_q_checks = sp_passed.query('index not in @exclude_list')\n",
    "passed_q_and_non_q_checks"
   ]
  },
  {
   "cell_type": "markdown",
   "id": "038e3d9e-2841-451f-9066-8d6009da1ed9",
   "metadata": {
    "tags": []
   },
   "source": [
    "### Liquidity check"
   ]
  },
  {
   "cell_type": "markdown",
   "id": "44432461-712c-40ed-90aa-a447cdbc2239",
   "metadata": {},
   "source": [
    "To derive a slippage threshold, consider an abstract univ2-like pool with $5m\\$$ overall liquidity. \n",
    "I.e if pool has reserves $R_1$, $R_2$ and $p_1$ and $p_2$ are the correspondent tokens prices (in USD), then\n",
    "$$R_1p_1 = R_2p_2 = 2.5m \\$$$\n",
    "\n",
    "Swapping $x$ token1 for token2 will result in the output amount $y$ such that\n",
    "$$R_1\\cdot R_2 = (R_1 + x) \\cdot (R_2 - y)$$\n",
    "$$y = \\frac{R_2\\cdot x}{R_1 + x}$$\n",
    "Then the delivery price will be\n",
    "$$p_d = \\frac{y}{x} = \\frac{R_2}{R_1 + x}$$\n",
    "The spot price may be estimated as a delivery price for relatively small input amount $x_0$\n",
    "$$p_s = \\frac{y_0}{x_0} = \\frac{R_2}{R_1 + x_0}$$\n",
    "\n",
    "Then the theoretical slippage for this pool will be\n",
    "$$slippage = \\frac{p_d}{p_s} - 1 = \\frac{R_1+x_0}{R_1+x} - 1 = \\frac{p_1R_1+p_1x_0}{p_1R_1+p_1x}-1$$"
   ]
  },
  {
   "cell_type": "code",
   "execution_count": 87,
   "id": "9297450e-bdc5-424b-8ec2-08fb7ec5a9df",
   "metadata": {},
   "outputs": [],
   "source": [
    "url_0x = \"https://avalanche.api.0x.org/swap/v1/quote\""
   ]
  },
  {
   "cell_type": "code",
   "execution_count": 88,
   "id": "21129b64-07e4-4286-9734-402420c7f7aa",
   "metadata": {},
   "outputs": [],
   "source": [
    "decimals = 18\n",
    "slippages = []\n",
    "for id, data in passed_q_and_non_q_checks.iterrows():\n",
    "    try:\n",
    "        query = {\n",
    "            'buyToken': data['addr'],\n",
    "            'sellToken': 'AVAX',\n",
    "            'sellAmount': int(trade_value_tiny / tokens_market_data.loc['avalanche-2']['current_price'] * 10 ** decimals),\n",
    "            'enableSlippageProtection':'true'\n",
    "        }\n",
    "        \n",
    "        # spot price is calculated as a price for 100$ swap\n",
    "        resp = requests.get(url_0x, params=query)\n",
    "        swap = resp.json()\n",
    "        spot_price = float(swap['price'])\n",
    "        \n",
    "        query['sellAmount'] = int(trade_value / tokens_market_data.loc['avalanche-2']['current_price'] * 10 ** decimals)\n",
    "        resp = requests.get(url_0x, params=query)\n",
    "        swap = resp.json()\n",
    "        del_price = float(swap['price'])\n",
    "        \n",
    "        slippage = del_price / spot_price - 1\n",
    "        slippages.append({\n",
    "            'id': id,\n",
    "            'spot_price': spot_price,\n",
    "            'delivery_price': del_price,\n",
    "            'slippage': slippage\n",
    "        })\n",
    "    except KeyError:\n",
    "        continue\n",
    "    "
   ]
  },
  {
   "cell_type": "code",
   "execution_count": null,
   "id": "8b6e90ac",
   "metadata": {},
   "outputs": [],
   "source": [
    "slippage"
   ]
  },
  {
   "cell_type": "code",
   "execution_count": 108,
   "id": "163461d3-e40a-46e2-a1b5-81d670b27e01",
   "metadata": {},
   "outputs": [
    {
     "data": {
      "text/html": [
       "<div>\n",
       "<style scoped>\n",
       "    .dataframe tbody tr th:only-of-type {\n",
       "        vertical-align: middle;\n",
       "    }\n",
       "\n",
       "    .dataframe tbody tr th {\n",
       "        vertical-align: top;\n",
       "    }\n",
       "\n",
       "    .dataframe thead th {\n",
       "        text-align: right;\n",
       "    }\n",
       "</style>\n",
       "<table border=\"1\" class=\"dataframe\">\n",
       "  <thead>\n",
       "    <tr style=\"text-align: right;\">\n",
       "      <th></th>\n",
       "      <th>id</th>\n",
       "      <th>spot_price</th>\n",
       "      <th>delivery_price</th>\n",
       "      <th>slippage</th>\n",
       "    </tr>\n",
       "  </thead>\n",
       "  <tbody>\n",
       "    <tr>\n",
       "      <th>0</th>\n",
       "      <td>benqi-liquid-staked-avax</td>\n",
       "      <td>9.397780e-01</td>\n",
       "      <td>9.399232e-01</td>\n",
       "      <td>0.000154</td>\n",
       "    </tr>\n",
       "    <tr>\n",
       "      <th>1</th>\n",
       "      <td>avalanche-2</td>\n",
       "      <td>1.000000e+00</td>\n",
       "      <td>1.000000e+00</td>\n",
       "      <td>0.000000</td>\n",
       "    </tr>\n",
       "    <tr>\n",
       "      <th>2</th>\n",
       "      <td>chainlink</td>\n",
       "      <td>2.587019e+00</td>\n",
       "      <td>2.188480e+00</td>\n",
       "      <td>-0.154053</td>\n",
       "    </tr>\n",
       "    <tr>\n",
       "      <th>3</th>\n",
       "      <td>aave</td>\n",
       "      <td>2.265191e-01</td>\n",
       "      <td>1.508999e-01</td>\n",
       "      <td>-0.333831</td>\n",
       "    </tr>\n",
       "    <tr>\n",
       "      <th>4</th>\n",
       "      <td>alpha-finance</td>\n",
       "      <td>1.315670e+02</td>\n",
       "      <td>8.709456e+01</td>\n",
       "      <td>-0.338021</td>\n",
       "    </tr>\n",
       "    <tr>\n",
       "      <th>5</th>\n",
       "      <td>kyber-network-crystal</td>\n",
       "      <td>2.313634e+01</td>\n",
       "      <td>1.038062e+01</td>\n",
       "      <td>-0.551328</td>\n",
       "    </tr>\n",
       "    <tr>\n",
       "      <th>6</th>\n",
       "      <td>synapse-2</td>\n",
       "      <td>1.513930e+01</td>\n",
       "      <td>2.570705e+00</td>\n",
       "      <td>-0.830197</td>\n",
       "    </tr>\n",
       "    <tr>\n",
       "      <th>7</th>\n",
       "      <td>ankr</td>\n",
       "      <td>5.900462e+02</td>\n",
       "      <td>9.417302e+01</td>\n",
       "      <td>-0.840397</td>\n",
       "    </tr>\n",
       "    <tr>\n",
       "      <th>8</th>\n",
       "      <td>ape-in</td>\n",
       "      <td>5.962964e+01</td>\n",
       "      <td>6.576449e+00</td>\n",
       "      <td>-0.889712</td>\n",
       "    </tr>\n",
       "    <tr>\n",
       "      <th>9</th>\n",
       "      <td>fortressdao</td>\n",
       "      <td>2.344100e+03</td>\n",
       "      <td>1.966139e+02</td>\n",
       "      <td>-0.916124</td>\n",
       "    </tr>\n",
       "    <tr>\n",
       "      <th>10</th>\n",
       "      <td>frax-share</td>\n",
       "      <td>1.866410e+00</td>\n",
       "      <td>1.045024e-01</td>\n",
       "      <td>-0.944009</td>\n",
       "    </tr>\n",
       "    <tr>\n",
       "      <th>11</th>\n",
       "      <td>avaware</td>\n",
       "      <td>2.129022e+04</td>\n",
       "      <td>9.333464e+02</td>\n",
       "      <td>-0.956161</td>\n",
       "    </tr>\n",
       "    <tr>\n",
       "      <th>12</th>\n",
       "      <td>sushi</td>\n",
       "      <td>1.384319e+01</td>\n",
       "      <td>3.075176e-01</td>\n",
       "      <td>-0.977786</td>\n",
       "    </tr>\n",
       "    <tr>\n",
       "      <th>13</th>\n",
       "      <td>hermes</td>\n",
       "      <td>3.883059e+01</td>\n",
       "      <td>7.459252e-01</td>\n",
       "      <td>-0.980790</td>\n",
       "    </tr>\n",
       "    <tr>\n",
       "      <th>14</th>\n",
       "      <td>morphie</td>\n",
       "      <td>1.858363e+07</td>\n",
       "      <td>1.007138e+05</td>\n",
       "      <td>-0.994581</td>\n",
       "    </tr>\n",
       "    <tr>\n",
       "      <th>15</th>\n",
       "      <td>uniswap</td>\n",
       "      <td>1.864589e+00</td>\n",
       "      <td>5.786710e-03</td>\n",
       "      <td>-0.996897</td>\n",
       "    </tr>\n",
       "    <tr>\n",
       "      <th>16</th>\n",
       "      <td>bscstarter</td>\n",
       "      <td>1.117088e+02</td>\n",
       "      <td>2.977261e-01</td>\n",
       "      <td>-0.997335</td>\n",
       "    </tr>\n",
       "    <tr>\n",
       "      <th>17</th>\n",
       "      <td>1inch</td>\n",
       "      <td>1.963553e+01</td>\n",
       "      <td>4.602815e-02</td>\n",
       "      <td>-0.997656</td>\n",
       "    </tr>\n",
       "    <tr>\n",
       "      <th>18</th>\n",
       "      <td>basic-attention-token</td>\n",
       "      <td>1.978760e+01</td>\n",
       "      <td>2.788350e-02</td>\n",
       "      <td>-0.998591</td>\n",
       "    </tr>\n",
       "    <tr>\n",
       "      <th>19</th>\n",
       "      <td>maker</td>\n",
       "      <td>6.554493e-03</td>\n",
       "      <td>9.064299e-06</td>\n",
       "      <td>-0.998617</td>\n",
       "    </tr>\n",
       "    <tr>\n",
       "      <th>20</th>\n",
       "      <td>the-graph</td>\n",
       "      <td>1.550585e+01</td>\n",
       "      <td>2.105823e-02</td>\n",
       "      <td>-0.998642</td>\n",
       "    </tr>\n",
       "    <tr>\n",
       "      <th>21</th>\n",
       "      <td>yearn-finance</td>\n",
       "      <td>1.960526e-04</td>\n",
       "      <td>2.093269e-07</td>\n",
       "      <td>-0.998932</td>\n",
       "    </tr>\n",
       "    <tr>\n",
       "      <th>22</th>\n",
       "      <td>0x</td>\n",
       "      <td>2.297783e+00</td>\n",
       "      <td>2.322579e-03</td>\n",
       "      <td>-0.998989</td>\n",
       "    </tr>\n",
       "    <tr>\n",
       "      <th>23</th>\n",
       "      <td>uma</td>\n",
       "      <td>7.587617e-03</td>\n",
       "      <td>7.594504e-06</td>\n",
       "      <td>-0.998999</td>\n",
       "    </tr>\n",
       "    <tr>\n",
       "      <th>24</th>\n",
       "      <td>compound-governance-token</td>\n",
       "      <td>8.847831e-06</td>\n",
       "      <td>8.853757e-09</td>\n",
       "      <td>-0.998999</td>\n",
       "    </tr>\n",
       "  </tbody>\n",
       "</table>\n",
       "</div>"
      ],
      "text/plain": [
       "                           id    spot_price  delivery_price  slippage\n",
       "0    benqi-liquid-staked-avax  9.397780e-01    9.399232e-01  0.000154\n",
       "1                 avalanche-2  1.000000e+00    1.000000e+00  0.000000\n",
       "2                   chainlink  2.587019e+00    2.188480e+00 -0.154053\n",
       "3                        aave  2.265191e-01    1.508999e-01 -0.333831\n",
       "4               alpha-finance  1.315670e+02    8.709456e+01 -0.338021\n",
       "5       kyber-network-crystal  2.313634e+01    1.038062e+01 -0.551328\n",
       "6                   synapse-2  1.513930e+01    2.570705e+00 -0.830197\n",
       "7                        ankr  5.900462e+02    9.417302e+01 -0.840397\n",
       "8                      ape-in  5.962964e+01    6.576449e+00 -0.889712\n",
       "9                 fortressdao  2.344100e+03    1.966139e+02 -0.916124\n",
       "10                 frax-share  1.866410e+00    1.045024e-01 -0.944009\n",
       "11                    avaware  2.129022e+04    9.333464e+02 -0.956161\n",
       "12                      sushi  1.384319e+01    3.075176e-01 -0.977786\n",
       "13                     hermes  3.883059e+01    7.459252e-01 -0.980790\n",
       "14                    morphie  1.858363e+07    1.007138e+05 -0.994581\n",
       "15                    uniswap  1.864589e+00    5.786710e-03 -0.996897\n",
       "16                 bscstarter  1.117088e+02    2.977261e-01 -0.997335\n",
       "17                      1inch  1.963553e+01    4.602815e-02 -0.997656\n",
       "18      basic-attention-token  1.978760e+01    2.788350e-02 -0.998591\n",
       "19                      maker  6.554493e-03    9.064299e-06 -0.998617\n",
       "20                  the-graph  1.550585e+01    2.105823e-02 -0.998642\n",
       "21              yearn-finance  1.960526e-04    2.093269e-07 -0.998932\n",
       "22                         0x  2.297783e+00    2.322579e-03 -0.998989\n",
       "23                        uma  7.587617e-03    7.594504e-06 -0.998999\n",
       "24  compound-governance-token  8.847831e-06    8.853757e-09 -0.998999"
      ]
     },
     "execution_count": 108,
     "metadata": {},
     "output_type": "execute_result"
    }
   ],
   "source": [
    "slippages_df = pd.DataFrame(slippages).sort_values('slippage',ascending=False).reset_index(drop=True)\n",
    "slippages_df"
   ]
  },
  {
   "cell_type": "code",
   "execution_count": 90,
   "id": "fa3e4fc4",
   "metadata": {},
   "outputs": [],
   "source": [
    "# Writing to database\n",
    "slippages_to_save = slippages_df[['id','slippage']].head(20)\n",
    "asset_columns = db_funcs.convert_to_sql_strings(list(slippages_to_save['id']))\n",
    "slippage_values = list(slippages_to_save['slippage'])\n",
    "db_funcs.insert_values(db_key_date,asset_columns,slippage_values,db_liquidity_table)\n"
   ]
  },
  {
   "cell_type": "code",
   "execution_count": 91,
   "id": "de3b734d",
   "metadata": {},
   "outputs": [],
   "source": [
    "def check_avg_liquidity(date_delta):\n",
    "    start_date = str(datetime.date.fromisoformat(db_key_date) - datetime.timedelta(days=date_delta))\n",
    "    dataframe = pd.read_sql(f'Select * from {db_liquidity_table} where date >= ? ',db_funcs.create_connection(db_funcs.db),index_col='date',parse_dates=['date'],params=[start_date])\n",
    "    dataframe = dataframe.mean(axis=0)\n",
    "    dataframe = dataframe[dataframe > max_slippage]\n",
    "    dataframe.index = db_funcs.convert_from_sql_strings(list(dataframe.index))\n",
    "    return dataframe, list(dataframe.index)\n",
    "\n",
    "avg_liq_dataframe ,include_list = check_avg_liquidity(liquidity_consistency)\n"
   ]
  },
  {
   "cell_type": "code",
   "execution_count": 92,
   "id": "b597ff4d-9598-4d29-9e10-98b58a1aa2f3",
   "metadata": {},
   "outputs": [
    {
     "data": {
      "text/html": [
       "<div>\n",
       "<style scoped>\n",
       "    .dataframe tbody tr th:only-of-type {\n",
       "        vertical-align: middle;\n",
       "    }\n",
       "\n",
       "    .dataframe tbody tr th {\n",
       "        vertical-align: top;\n",
       "    }\n",
       "\n",
       "    .dataframe thead th {\n",
       "        text-align: right;\n",
       "    }\n",
       "</style>\n",
       "<table border=\"1\" class=\"dataframe\">\n",
       "  <thead>\n",
       "    <tr style=\"text-align: right;\">\n",
       "      <th></th>\n",
       "      <th>name</th>\n",
       "      <th>symbol</th>\n",
       "      <th>market_cap</th>\n",
       "      <th>market_cap_rank</th>\n",
       "      <th>current_price</th>\n",
       "      <th>total_supply</th>\n",
       "      <th>circulating_supply</th>\n",
       "      <th>addr</th>\n",
       "    </tr>\n",
       "    <tr>\n",
       "      <th>id</th>\n",
       "      <th></th>\n",
       "      <th></th>\n",
       "      <th></th>\n",
       "      <th></th>\n",
       "      <th></th>\n",
       "      <th></th>\n",
       "      <th></th>\n",
       "      <th></th>\n",
       "    </tr>\n",
       "  </thead>\n",
       "  <tbody>\n",
       "    <tr>\n",
       "      <th>avalanche-2</th>\n",
       "      <td>Avalanche</td>\n",
       "      <td>AVAX</td>\n",
       "      <td>6.373956e+09</td>\n",
       "      <td>18.0</td>\n",
       "      <td>20.21</td>\n",
       "      <td>4.205317e+08</td>\n",
       "      <td>3.151257e+08</td>\n",
       "      <td>0xb31f66aa3c1e785363f0875a1b74e27b85fd66c7</td>\n",
       "    </tr>\n",
       "    <tr>\n",
       "      <th>benqi-liquid-staked-avax</th>\n",
       "      <td>BENQI Liquid Staked AVAX</td>\n",
       "      <td>SAVAX</td>\n",
       "      <td>1.139832e+08</td>\n",
       "      <td>288.0</td>\n",
       "      <td>21.58</td>\n",
       "      <td>5.284799e+06</td>\n",
       "      <td>5.284799e+06</td>\n",
       "      <td>0x2b2c81e08f1af8835a78bb2a90ae924ace0ea4be</td>\n",
       "    </tr>\n",
       "  </tbody>\n",
       "</table>\n",
       "</div>"
      ],
      "text/plain": [
       "                                              name symbol    market_cap  \\\n",
       "id                                                                        \n",
       "avalanche-2                              Avalanche   AVAX  6.373956e+09   \n",
       "benqi-liquid-staked-avax  BENQI Liquid Staked AVAX  SAVAX  1.139832e+08   \n",
       "\n",
       "                          market_cap_rank  current_price  total_supply  \\\n",
       "id                                                                       \n",
       "avalanche-2                          18.0          20.21  4.205317e+08   \n",
       "benqi-liquid-staked-avax            288.0          21.58  5.284799e+06   \n",
       "\n",
       "                          circulating_supply  \\\n",
       "id                                             \n",
       "avalanche-2                     3.151257e+08   \n",
       "benqi-liquid-staked-avax        5.284799e+06   \n",
       "\n",
       "                                                                addr  \n",
       "id                                                                    \n",
       "avalanche-2               0xb31f66aa3c1e785363f0875a1b74e27b85fd66c7  \n",
       "benqi-liquid-staked-avax  0x2b2c81e08f1af8835a78bb2a90ae924ace0ea4be  "
      ]
     },
     "execution_count": 92,
     "metadata": {},
     "output_type": "execute_result"
    }
   ],
   "source": [
    "include_list = list(slippages_df[abs(slippages_df['slippage']) < abs(max_slippage)]['id'])\n",
    "qualified_assets = passed_q_and_non_q_checks.query('index in @include_list')\n",
    "qualified_assets\n"
   ]
  },
  {
   "attachments": {},
   "cell_type": "markdown",
   "id": "f37255c2-3901-4432-ae9a-2fe4be0da6b0",
   "metadata": {
    "tags": []
   },
   "source": [
    "### Marketcap ranking & filtering"
   ]
  },
  {
   "cell_type": "code",
   "execution_count": 93,
   "id": "63307972-a354-407e-8981-bc16e700b3d7",
   "metadata": {},
   "outputs": [],
   "source": [
    "chosen_tokens = qualified_assets.sort_values(\"market_cap\", ascending=False)"
   ]
  },
  {
   "cell_type": "markdown",
   "id": "aace23a3-65b0-4d5c-8e8a-ef6e5bf5fa75",
   "metadata": {},
   "source": [
    "## Weighting "
   ]
  },
  {
   "cell_type": "markdown",
   "id": "6f09b1a8-c752-4cd6-bbfa-0a79ec7e15a0",
   "metadata": {},
   "source": [
    "**Weighting requirements**\n",
    "* The maximum weight any one token can have is 50%.\n",
    "* All excess weight is proportionally redistributed to all uncapped tokens. \n",
    "* Any asset with a weight below 0.5% will be removed from the index.\n"
   ]
  },
  {
   "cell_type": "markdown",
   "id": "1b09f606-595a-4497-849f-77aaa65684a2",
   "metadata": {
    "tags": []
   },
   "source": [
    "### Weight mcaps"
   ]
  },
  {
   "cell_type": "code",
   "execution_count": 94,
   "id": "30397f34-29d6-401e-b8c1-233b5679c4ca",
   "metadata": {
    "tags": []
   },
   "outputs": [],
   "source": [
    "# exclude savax from weighting since it should be a part of avax weight\n",
    "if 'benqi-liquid-staked-avax' in chosen_tokens.index:\n",
    "    chosen_tokens_ex_savax = chosen_tokens.drop('benqi-liquid-staked-avax')\n",
    "    weights = chosen_tokens_ex_savax['market_cap'].div(chosen_tokens_ex_savax['market_cap'].sum())\n",
    "else:\n",
    "    weights = chosen_tokens['market_cap'].div(chosen_tokens['market_cap'].sum())\n",
    "\n"
   ]
  },
  {
   "cell_type": "markdown",
   "id": "a0e004fb-94f0-4540-9103-c81b1edcddc4",
   "metadata": {},
   "source": [
    "### Adjust weights"
   ]
  },
  {
   "cell_type": "markdown",
   "id": "b81afd8a-8635-4d0e-b977-b2a3ec809c33",
   "metadata": {},
   "source": [
    "This process adjusts weights to adhere to the weight constraints described in our methodology. In addition the `remove_tiny_weights` function checks for any assets with a weight below the minimum threshold of $0.5\\%$ and proportionally increases all remaining weights (which are $> 0.5\\%$). Note that after this procedure readjusting weights to respect maximum may be needed."
   ]
  },
  {
   "cell_type": "code",
   "execution_count": 95,
   "id": "f34cb625-e58d-424c-b33f-f3c393d1efb3",
   "metadata": {},
   "outputs": [],
   "source": [
    "def adjust_weights(weights, max_weight):\n",
    "    w = weights.copy()\n",
    "    \n",
    "    while (w > max_weight).any(axis=None):\n",
    "        w[w > max_weight] = max_weight\n",
    "        c = 1 - w.sum()\n",
    "        w_less = w[w < max_weight]\n",
    "        w[(w < max_weight) & (w > 0)] += w_less.div(w_less.sum()).mul(c)\n",
    "    \n",
    "    return w"
   ]
  },
  {
   "cell_type": "code",
   "execution_count": 96,
   "id": "e291c891-011e-49c8-80c1-3024207d89c7",
   "metadata": {},
   "outputs": [],
   "source": [
    "def remove_tiny_weights(weights, min_weight):\n",
    "    w = weights.copy()\n",
    "    \n",
    "    w[w < min_weight] = 0\n",
    "    w = w.div(w.sum())\n",
    "    \n",
    "    return w"
   ]
  },
  {
   "cell_type": "code",
   "execution_count": 97,
   "id": "fa93ce86-f09a-49da-9555-2a8917d225e5",
   "metadata": {},
   "outputs": [],
   "source": [
    "adjusted_weights = adjust_weights(weights, max_weight=max_weight) \n",
    "adjusted_weights = remove_tiny_weights(adjusted_weights, min_weight=min_weight)\n",
    "adjusted_weights = adjust_weights(adjusted_weights, max_weight=max_weight)"
   ]
  },
  {
   "cell_type": "markdown",
   "id": "5ccc806e-2c1f-4555-a6ba-98c8ed3063af",
   "metadata": {},
   "source": [
    "### Split AVAX "
   ]
  },
  {
   "cell_type": "code",
   "execution_count": 98,
   "id": "f7f18f7b-f202-4732-87e5-f90ab7137262",
   "metadata": {},
   "outputs": [],
   "source": [
    "if 'avalanche-2' and 'benqi-liquid-staked-avax' in chosen_tokens.index:\n",
    "    \n",
    "    adjusted_weights['benqi-liquid-staked-avax'] = adjusted_weights['avalanche-2'] * avax_to_savax_split\n",
    "    adjusted_weights['avalanche-2'] = adjusted_weights['avalanche-2'] * (1 - avax_to_savax_split)\n",
    "\n",
    "adjusted_weights =  adjusted_weights.sort_values(ascending = False)\n"
   ]
  },
  {
   "cell_type": "markdown",
   "id": "7a29b38b-441a-48f6-aca7-4ca1c0ea4207",
   "metadata": {},
   "source": [
    "### Convert weights to the [1, 255] scale"
   ]
  },
  {
   "cell_type": "markdown",
   "id": "b478e9d0-feb7-4f4c-b81d-e989e39ebbc0",
   "metadata": {},
   "source": [
    "On the contract side weights are integer numbers from the interval $[1, 255]$ with total sum $255$, so it's needed to convert retrieved weights to this format.\n",
    "\n",
    "Note that one can't just round weights to integers after scaling, since it doesn't guarantee that their sum will be $255$. To fix that firstly floor function is applied to the weights and then $1$ is being added to the $k$ weights with largest fractional parts."
   ]
  },
  {
   "cell_type": "code",
   "execution_count": 99,
   "id": "5dcd7bd0-0094-4eb9-9c83-e51b108071a9",
   "metadata": {},
   "outputs": [],
   "source": [
    "def convert_weights(weights):\n",
    "    w_scaled = weights * 255\n",
    "    w_res = np.floor(w_scaled).astype(int)    \n",
    "    remainders = w_scaled - w_res    \n",
    "    k = round(remainders.sum())\n",
    "    w_below_max = w_res[w_res<128]\n",
    "    for i in range(k):\n",
    "        w_below_max[i] +=1\n",
    "    for i in w_below_max.index:\n",
    "        w_res[i] = w_below_max[i]\n",
    "    return w_res"
   ]
  },
  {
   "cell_type": "code",
   "execution_count": 100,
   "id": "02330a37-5e19-4c7a-95e6-21aa80199afe",
   "metadata": {},
   "outputs": [],
   "source": [
    "converted_weights = convert_weights(adjusted_weights)"
   ]
  },
  {
   "cell_type": "markdown",
   "id": "c4c5d752-6063-4676-9a5e-97a884e21b0f",
   "metadata": {},
   "source": [
    "## Summary table"
   ]
  },
  {
   "cell_type": "code",
   "execution_count": 101,
   "id": "477090af-03b4-4616-839c-0046e9590d4c",
   "metadata": {},
   "outputs": [
    {
     "data": {
      "text/html": [
       "<div>\n",
       "<style scoped>\n",
       "    .dataframe tbody tr th:only-of-type {\n",
       "        vertical-align: middle;\n",
       "    }\n",
       "\n",
       "    .dataframe tbody tr th {\n",
       "        vertical-align: top;\n",
       "    }\n",
       "\n",
       "    .dataframe thead th {\n",
       "        text-align: right;\n",
       "    }\n",
       "</style>\n",
       "<table border=\"1\" class=\"dataframe\">\n",
       "  <thead>\n",
       "    <tr style=\"text-align: right;\">\n",
       "      <th></th>\n",
       "      <th>name</th>\n",
       "      <th>symbol</th>\n",
       "      <th>market_cap</th>\n",
       "      <th>price</th>\n",
       "      <th>weight</th>\n",
       "      <th>weight_converted</th>\n",
       "      <th>address</th>\n",
       "    </tr>\n",
       "    <tr>\n",
       "      <th>id</th>\n",
       "      <th></th>\n",
       "      <th></th>\n",
       "      <th></th>\n",
       "      <th></th>\n",
       "      <th></th>\n",
       "      <th></th>\n",
       "      <th></th>\n",
       "    </tr>\n",
       "  </thead>\n",
       "  <tbody>\n",
       "    <tr>\n",
       "      <th>avalanche-2</th>\n",
       "      <td>Avalanche</td>\n",
       "      <td>AVAX</td>\n",
       "      <td>6.373956e+09</td>\n",
       "      <td>20.21</td>\n",
       "      <td>0.2</td>\n",
       "      <td>51</td>\n",
       "      <td>0xb31f66aa3c1e785363f0875a1b74e27b85fd66c7</td>\n",
       "    </tr>\n",
       "    <tr>\n",
       "      <th>benqi-liquid-staked-avax</th>\n",
       "      <td>BENQI Liquid Staked AVAX</td>\n",
       "      <td>SAVAX</td>\n",
       "      <td>1.139832e+08</td>\n",
       "      <td>21.58</td>\n",
       "      <td>0.3</td>\n",
       "      <td>76</td>\n",
       "      <td>0x2b2c81e08f1af8835a78bb2a90ae924ace0ea4be</td>\n",
       "    </tr>\n",
       "  </tbody>\n",
       "</table>\n",
       "</div>"
      ],
      "text/plain": [
       "                                              name symbol    market_cap  \\\n",
       "id                                                                        \n",
       "avalanche-2                              Avalanche   AVAX  6.373956e+09   \n",
       "benqi-liquid-staked-avax  BENQI Liquid Staked AVAX  SAVAX  1.139832e+08   \n",
       "\n",
       "                          price  weight  weight_converted  \\\n",
       "id                                                          \n",
       "avalanche-2               20.21     0.2                51   \n",
       "benqi-liquid-staked-avax  21.58     0.3                76   \n",
       "\n",
       "                                                             address  \n",
       "id                                                                    \n",
       "avalanche-2               0xb31f66aa3c1e785363f0875a1b74e27b85fd66c7  \n",
       "benqi-liquid-staked-avax  0x2b2c81e08f1af8835a78bb2a90ae924ace0ea4be  "
      ]
     },
     "execution_count": 101,
     "metadata": {},
     "output_type": "execute_result"
    }
   ],
   "source": [
    "cai = pd.DataFrame()\n",
    "cai.index = chosen_tokens.index\n",
    "cai['name'] = chosen_tokens['name']\n",
    "cai['symbol'] = chosen_tokens['symbol']\n",
    "cai['market_cap'] = chosen_tokens['market_cap']\n",
    "cai['price'] = chosen_tokens['current_price']\n",
    "cai['weight'] = adjusted_weights\n",
    "cai['weight_converted'] = converted_weights\n",
    "cai['address'] = chosen_tokens['addr']\n",
    "\n",
    "cai = cai[cai['weight'] > 0]\n",
    "cai = cai.sort_values(\"market_cap\", ascending=False)\n",
    "cai"
   ]
  },
  {
   "cell_type": "code",
   "execution_count": 102,
   "id": "7e72f79e",
   "metadata": {},
   "outputs": [],
   "source": [
    "# Add assets and weights to database\n",
    "db_assets = db_funcs.convert_to_sql_strings(list(cai.index))\n",
    "db_weights = list(cai['weight'])\n",
    "db_funcs.insert_values(db_key_date,db_assets,db_weights,db_benchmark_table)"
   ]
  },
  {
   "cell_type": "code",
   "execution_count": 103,
   "id": "2cf759e4",
   "metadata": {},
   "outputs": [
    {
     "data": {
      "text/html": [
       "<div>\n",
       "<style scoped>\n",
       "    .dataframe tbody tr th:only-of-type {\n",
       "        vertical-align: middle;\n",
       "    }\n",
       "\n",
       "    .dataframe tbody tr th {\n",
       "        vertical-align: top;\n",
       "    }\n",
       "\n",
       "    .dataframe thead th {\n",
       "        text-align: right;\n",
       "    }\n",
       "</style>\n",
       "<table border=\"1\" class=\"dataframe\">\n",
       "  <thead>\n",
       "    <tr style=\"text-align: right;\">\n",
       "      <th></th>\n",
       "      <th>name</th>\n",
       "      <th>symbol</th>\n",
       "      <th>market_cap</th>\n",
       "      <th>price</th>\n",
       "      <th>weight</th>\n",
       "      <th>weight_converted</th>\n",
       "      <th>address</th>\n",
       "    </tr>\n",
       "    <tr>\n",
       "      <th>id</th>\n",
       "      <th></th>\n",
       "      <th></th>\n",
       "      <th></th>\n",
       "      <th></th>\n",
       "      <th></th>\n",
       "      <th></th>\n",
       "      <th></th>\n",
       "    </tr>\n",
       "  </thead>\n",
       "  <tbody>\n",
       "    <tr>\n",
       "      <th>avalanche-2</th>\n",
       "      <td>Avalanche</td>\n",
       "      <td>AVAX</td>\n",
       "      <td>6.373956e+09</td>\n",
       "      <td>20.210000</td>\n",
       "      <td>0.2</td>\n",
       "      <td>51</td>\n",
       "      <td>0xb31f66aa3c1e785363f0875a1b74e27b85fd66c7</td>\n",
       "    </tr>\n",
       "    <tr>\n",
       "      <th>benqi-liquid-staked-avax</th>\n",
       "      <td>BENQI Liquid Staked AVAX</td>\n",
       "      <td>SAVAX</td>\n",
       "      <td>1.139832e+08</td>\n",
       "      <td>21.580000</td>\n",
       "      <td>0.3</td>\n",
       "      <td>76</td>\n",
       "      <td>0x2b2c81e08f1af8835a78bb2a90ae924ace0ea4be</td>\n",
       "    </tr>\n",
       "    <tr>\n",
       "      <th>joe</th>\n",
       "      <td>JOE</td>\n",
       "      <td>JOE</td>\n",
       "      <td>9.838522e+07</td>\n",
       "      <td>0.294152</td>\n",
       "      <td>0.0</td>\n",
       "      <td>0</td>\n",
       "      <td>0x6e84a6216ea6dacc71ee8e6b0a5b7322eebc0fdd</td>\n",
       "    </tr>\n",
       "    <tr>\n",
       "      <th>benqi</th>\n",
       "      <td>BENQI</td>\n",
       "      <td>QI</td>\n",
       "      <td>3.946933e+07</td>\n",
       "      <td>0.011435</td>\n",
       "      <td>0.0</td>\n",
       "      <td>0</td>\n",
       "      <td>0x8729438eb15e2c8b576fcc6aecda6a148776c0f5</td>\n",
       "    </tr>\n",
       "  </tbody>\n",
       "</table>\n",
       "</div>"
      ],
      "text/plain": [
       "                                              name symbol    market_cap  \\\n",
       "id                                                                        \n",
       "avalanche-2                              Avalanche   AVAX  6.373956e+09   \n",
       "benqi-liquid-staked-avax  BENQI Liquid Staked AVAX  SAVAX  1.139832e+08   \n",
       "joe                                            JOE    JOE  9.838522e+07   \n",
       "benqi                                        BENQI     QI  3.946933e+07   \n",
       "\n",
       "                              price  weight  weight_converted  \\\n",
       "id                                                              \n",
       "avalanche-2               20.210000     0.2                51   \n",
       "benqi-liquid-staked-avax  21.580000     0.3                76   \n",
       "joe                        0.294152     0.0                 0   \n",
       "benqi                      0.011435     0.0                 0   \n",
       "\n",
       "                                                             address  \n",
       "id                                                                    \n",
       "avalanche-2               0xb31f66aa3c1e785363f0875a1b74e27b85fd66c7  \n",
       "benqi-liquid-staked-avax  0x2b2c81e08f1af8835a78bb2a90ae924ace0ea4be  \n",
       "joe                       0x6e84a6216ea6dacc71ee8e6b0a5b7322eebc0fdd  \n",
       "benqi                     0x8729438eb15e2c8b576fcc6aecda6a148776c0f5  "
      ]
     },
     "execution_count": 103,
     "metadata": {},
     "output_type": "execute_result"
    }
   ],
   "source": [
    "#Querying current contract to ascertain which assets will be dropped\n",
    "\n",
    "cai_token_address = '0x48f88A3fE843ccb0b5003e70B4192c1d7448bEf0'\n",
    "ia_contract = web3_object.eth.contract(address=cai_token_address,abi=index_anatomy)\n",
    "addresses, weights = ia_contract.functions.anatomy().call()\n",
    "\n",
    "\n",
    "for address in addresses:\n",
    "    address = address.lower()\n",
    "    if address not in list(cai['address']):\n",
    "        data = tokens_market_data[tokens_market_data['addr']== address]\n",
    "        cai.loc[data.index[0]] = [data['name'][0],data['symbol'][0],data['market_cap'][0],data['current_price'][0],0,0,address]\n",
    "\n",
    "cai"
   ]
  },
  {
   "cell_type": "code",
   "execution_count": 104,
   "id": "52487c36",
   "metadata": {},
   "outputs": [
    {
     "name": "stdout",
     "output_type": "stream",
     "text": [
      "0x2b2c81e08f1af8835a78bb2a90ae924ace0ea4be,0x6e84a6216ea6dacc71ee8e6b0a5b7322eebc0fdd,0x8729438eb15e2c8b576fcc6aecda6a148776c0f5,0xb31f66aa3c1e785363f0875a1b74e27b85fd66c7\n",
      "[76, 0, 0, 51]\n"
     ]
    }
   ],
   "source": [
    "zipped_assets = list(zip(list(cai['address']),list(cai['weight_converted'])))\n",
    "sorted_assets = sorted(zipped_assets,key = lambda x: int(x[0],base=0) )\n",
    "\n",
    "asset_string = ''\n",
    "for i in sorted_assets:\n",
    "    asset_string += f'{i[0]},'\n",
    "asset_string = asset_string[:-1]\n",
    "print(asset_string)\n",
    "print([x[1] for x in sorted_assets])"
   ]
  }
 ],
 "metadata": {
  "kernelspec": {
   "display_name": "Python 3.8.13 ('base')",
   "language": "python",
   "name": "python3"
  },
  "language_info": {
   "codemirror_mode": {
    "name": "ipython",
    "version": 3
   },
   "file_extension": ".py",
   "mimetype": "text/x-python",
   "name": "python",
   "nbconvert_exporter": "python",
   "pygments_lexer": "ipython3",
   "version": "3.8.15"
  },
  "vscode": {
   "interpreter": {
    "hash": "40d3a090f54c6569ab1632332b64b2c03c39dcf918b08424e98f38b5ae0af88f"
   }
  }
 },
 "nbformat": 4,
 "nbformat_minor": 5
}
