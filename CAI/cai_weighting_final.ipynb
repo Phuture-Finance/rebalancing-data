{
 "cells": [
  {
   "cell_type": "markdown",
   "id": "d757030a-ae9c-47a9-822c-0a57fd4391e9",
   "metadata": {},
   "source": [
    "# CAI - Colony Avalanche Ecosystem Index"
   ]
  },
  {
   "cell_type": "markdown",
   "id": "e582924a-dd0f-4ee3-9495-25cb063d8c11",
   "metadata": {},
   "source": [
    "Crypto index tracking is a popular passive investment strategy. Since an index cannot be traded directly, index tracking refers to the process of creating a set of crypto assets managed by smart contract that approximates its performance. A straightforward way to do that is to purchase all the assets that compose an index in appropriate quantities.\n",
    "\n",
    "In order to compensate for the price changes of the individual assets in the index we need to rebalance the portfolio. Choosing the optimal frequency is not an easy task and many factors (e.g., transaction costs, volatility, type of assets, etc.) need to be taken into account.\n",
    "\n",
    "Conventional approaches to index portfolio rebalancing include periodic and tolerance band rebalancing. With periodic rebalancing, the portfolio is adjusted from its current weights back to the target weights at a consistent time interval (e.g., monthly or quarterly)."
   ]
  },
  {
   "cell_type": "markdown",
   "id": "0d58a1fd-144f-456b-8c6a-8c511e144a49",
   "metadata": {
    "tags": []
   },
   "source": [
    "## Setting"
   ]
  },
  {
   "cell_type": "code",
   "execution_count": 1,
   "id": "e608fe6f-7008-4380-8c1a-4ff929b47495",
   "metadata": {},
   "outputs": [],
   "source": [
    "import pandas as pd\n",
    "import numpy as np\n",
    "import requests\n",
    "from pprint import pprint"
   ]
  },
  {
   "cell_type": "code",
   "execution_count": 2,
   "id": "d7bfb194-b9d5-454b-8f65-eaf0e28d8e9c",
   "metadata": {},
   "outputs": [],
   "source": [
    "from pycoingecko import CoinGeckoAPI\n",
    "cg = CoinGeckoAPI()"
   ]
  },
  {
   "cell_type": "code",
   "execution_count": 3,
   "id": "ef997725-1d4d-4d00-afce-d6c642fff6d0",
   "metadata": {},
   "outputs": [],
   "source": [
    "import plotly.express as px\n",
    "import plotly.graph_objects as go\n",
    "from plotly.subplots import make_subplots "
   ]
  },
  {
   "cell_type": "code",
   "execution_count": 4,
   "id": "b78b310e-348c-40aa-b74b-8e9fbdc37bcf",
   "metadata": {},
   "outputs": [
    {
     "data": {
      "text/html": [
       "        <script type=\"text/javascript\">\n",
       "        window.PlotlyConfig = {MathJaxConfig: 'local'};\n",
       "        if (window.MathJax) {MathJax.Hub.Config({SVG: {font: \"STIX-Web\"}});}\n",
       "        if (typeof require !== 'undefined') {\n",
       "        require.undef(\"plotly\");\n",
       "        requirejs.config({\n",
       "            paths: {\n",
       "                'plotly': ['https://cdn.plot.ly/plotly-2.9.0.min']\n",
       "            }\n",
       "        });\n",
       "        require(['plotly'], function(Plotly) {\n",
       "            window._Plotly = Plotly;\n",
       "        });\n",
       "        }\n",
       "        </script>\n",
       "        "
      ]
     },
     "metadata": {},
     "output_type": "display_data"
    }
   ],
   "source": [
    "from plotly.offline import plot, iplot, init_notebook_mode\n",
    "init_notebook_mode(connected=True)"
   ]
  },
  {
   "cell_type": "code",
   "execution_count": 5,
   "id": "f7c444f5-19ff-4857-a993-eff93aefa30e",
   "metadata": {},
   "outputs": [],
   "source": [
    "from model import Engine, Index, VTokens, Trade"
   ]
  },
  {
   "cell_type": "code",
   "execution_count": 6,
   "id": "36bf953c-7b06-462b-aebc-1a0fa3c3e3ff",
   "metadata": {},
   "outputs": [],
   "source": [
    "import plotting"
   ]
  },
  {
   "cell_type": "markdown",
   "id": "5df139d1-1570-4131-adf9-9f85dd3a144a",
   "metadata": {
    "tags": []
   },
   "source": [
    "## Assets filtering "
   ]
  },
  {
   "cell_type": "markdown",
   "id": "e4ded0e1-c192-4d90-8161-946902c0d543",
   "metadata": {
    "tags": []
   },
   "source": [
    "### Token inclusion cretira"
   ]
  },
  {
   "cell_type": "markdown",
   "id": "969a13da-69e8-46c6-93e4-95f1af9a4d2a",
   "metadata": {},
   "source": [
    "1. **Project and token characteristics**\n",
    "    1. The project's token should have been listed on CoinGecko with pricing data at least 6 months prior to the date of inclusion in the index.\n",
    "    1. The project should have a token that is native to Avalanche. This excludes wrapped variants, where the underlying tokens are locked on an alt-L1.\n",
    "    1. The project should be a going concern, with a dedicated team actively building, supporting and maintaining the project.\n",
    "    1. No rebasing or deflationary tokens.\n",
    "    1. The project must be widely considered to be building a useful protocol or product. Projects that have ponzi characteristics at the core of their offering will not be considered.\n",
    "    1. Synthetic tokens which derive their value from external price feeds are not permissible.\n",
    "    1. The project's token must not have the ability to pause token transfers.\n",
    "    1. The project's protocol or product must have significant usage.\n",
    "\n",
    "1. **Liquidity Requirements**\n",
    "    1. The token must be listed on a supported exchange.\n",
    "    1. The token should have at least $5mm of onchain liquidity on a single pair.\n",
    "\n",
    "1. **Security Requirements**\n",
    "    1. The project must have been audited by smart contract security professionals with the audit report(s) publicly available.\n",
    "\n"
   ]
  },
  {
   "cell_type": "markdown",
   "id": "2152f5aa-0cd7-449e-999b-c67e86869afa",
   "metadata": {
    "tags": []
   },
   "source": [
    "### Tokens list"
   ]
  },
  {
   "cell_type": "code",
   "execution_count": 7,
   "id": "258423d4-3b06-4247-900b-3ddf14c7ecab",
   "metadata": {},
   "outputs": [
    {
     "data": {
      "text/plain": [
       "{'gecko_says': '(V3) To the Moon!'}"
      ]
     },
     "execution_count": 7,
     "metadata": {},
     "output_type": "execute_result"
    }
   ],
   "source": [
    "cg.ping()"
   ]
  },
  {
   "cell_type": "code",
   "execution_count": 8,
   "id": "d1c7d3d6-4ab1-4e70-b36b-db5ea7d45ec0",
   "metadata": {},
   "outputs": [],
   "source": [
    "coins_list = pd.DataFrame(cg.get_coins_list(include_platform=True))"
   ]
  },
  {
   "cell_type": "code",
   "execution_count": 9,
   "id": "f7109521-8bbc-4a3b-9931-02964db22d03",
   "metadata": {},
   "outputs": [],
   "source": [
    "avalanche_tokens = {} \n",
    "for index, coin in coins_list.iterrows():\n",
    "    if len(coin['platforms']) >= 1 and 'avalanche' == list(coin['platforms'].keys())[0]:\n",
    "        avalanche_tokens[coin['id']] = coin"
   ]
  },
  {
   "cell_type": "code",
   "execution_count": 10,
   "id": "c9409a92-f940-4813-b432-5e142362a848",
   "metadata": {},
   "outputs": [
    {
     "name": "stderr",
     "output_type": "stream",
     "text": [
      "/var/folders/4t/6j5ypx_s6r771shjr5dcct5w0000gn/T/ipykernel_25997/4237399937.py:3: FutureWarning:\n",
      "\n",
      "The frame.append method is deprecated and will be removed from pandas in a future version. Use pandas.concat instead.\n",
      "\n",
      "/var/folders/4t/6j5ypx_s6r771shjr5dcct5w0000gn/T/ipykernel_25997/4237399937.py:3: FutureWarning:\n",
      "\n",
      "The frame.append method is deprecated and will be removed from pandas in a future version. Use pandas.concat instead.\n",
      "\n",
      "/var/folders/4t/6j5ypx_s6r771shjr5dcct5w0000gn/T/ipykernel_25997/4237399937.py:3: FutureWarning:\n",
      "\n",
      "The frame.append method is deprecated and will be removed from pandas in a future version. Use pandas.concat instead.\n",
      "\n",
      "/var/folders/4t/6j5ypx_s6r771shjr5dcct5w0000gn/T/ipykernel_25997/4237399937.py:3: FutureWarning:\n",
      "\n",
      "The frame.append method is deprecated and will be removed from pandas in a future version. Use pandas.concat instead.\n",
      "\n",
      "/var/folders/4t/6j5ypx_s6r771shjr5dcct5w0000gn/T/ipykernel_25997/4237399937.py:3: FutureWarning:\n",
      "\n",
      "The frame.append method is deprecated and will be removed from pandas in a future version. Use pandas.concat instead.\n",
      "\n",
      "/var/folders/4t/6j5ypx_s6r771shjr5dcct5w0000gn/T/ipykernel_25997/4237399937.py:3: FutureWarning:\n",
      "\n",
      "The frame.append method is deprecated and will be removed from pandas in a future version. Use pandas.concat instead.\n",
      "\n",
      "/var/folders/4t/6j5ypx_s6r771shjr5dcct5w0000gn/T/ipykernel_25997/4237399937.py:3: FutureWarning:\n",
      "\n",
      "The frame.append method is deprecated and will be removed from pandas in a future version. Use pandas.concat instead.\n",
      "\n",
      "/var/folders/4t/6j5ypx_s6r771shjr5dcct5w0000gn/T/ipykernel_25997/4237399937.py:3: FutureWarning:\n",
      "\n",
      "The frame.append method is deprecated and will be removed from pandas in a future version. Use pandas.concat instead.\n",
      "\n",
      "/var/folders/4t/6j5ypx_s6r771shjr5dcct5w0000gn/T/ipykernel_25997/4237399937.py:3: FutureWarning:\n",
      "\n",
      "The frame.append method is deprecated and will be removed from pandas in a future version. Use pandas.concat instead.\n",
      "\n",
      "/var/folders/4t/6j5ypx_s6r771shjr5dcct5w0000gn/T/ipykernel_25997/4237399937.py:3: FutureWarning:\n",
      "\n",
      "The frame.append method is deprecated and will be removed from pandas in a future version. Use pandas.concat instead.\n",
      "\n",
      "/var/folders/4t/6j5ypx_s6r771shjr5dcct5w0000gn/T/ipykernel_25997/4237399937.py:3: FutureWarning:\n",
      "\n",
      "The frame.append method is deprecated and will be removed from pandas in a future version. Use pandas.concat instead.\n",
      "\n",
      "/var/folders/4t/6j5ypx_s6r771shjr5dcct5w0000gn/T/ipykernel_25997/4237399937.py:3: FutureWarning:\n",
      "\n",
      "The frame.append method is deprecated and will be removed from pandas in a future version. Use pandas.concat instead.\n",
      "\n",
      "/var/folders/4t/6j5ypx_s6r771shjr5dcct5w0000gn/T/ipykernel_25997/4237399937.py:3: FutureWarning:\n",
      "\n",
      "The frame.append method is deprecated and will be removed from pandas in a future version. Use pandas.concat instead.\n",
      "\n",
      "/var/folders/4t/6j5ypx_s6r771shjr5dcct5w0000gn/T/ipykernel_25997/4237399937.py:3: FutureWarning:\n",
      "\n",
      "The frame.append method is deprecated and will be removed from pandas in a future version. Use pandas.concat instead.\n",
      "\n",
      "/var/folders/4t/6j5ypx_s6r771shjr5dcct5w0000gn/T/ipykernel_25997/4237399937.py:3: FutureWarning:\n",
      "\n",
      "The frame.append method is deprecated and will be removed from pandas in a future version. Use pandas.concat instead.\n",
      "\n",
      "/var/folders/4t/6j5ypx_s6r771shjr5dcct5w0000gn/T/ipykernel_25997/4237399937.py:3: FutureWarning:\n",
      "\n",
      "The frame.append method is deprecated and will be removed from pandas in a future version. Use pandas.concat instead.\n",
      "\n",
      "/var/folders/4t/6j5ypx_s6r771shjr5dcct5w0000gn/T/ipykernel_25997/4237399937.py:3: FutureWarning:\n",
      "\n",
      "The frame.append method is deprecated and will be removed from pandas in a future version. Use pandas.concat instead.\n",
      "\n",
      "/var/folders/4t/6j5ypx_s6r771shjr5dcct5w0000gn/T/ipykernel_25997/4237399937.py:3: FutureWarning:\n",
      "\n",
      "The frame.append method is deprecated and will be removed from pandas in a future version. Use pandas.concat instead.\n",
      "\n"
     ]
    }
   ],
   "source": [
    "tokens_data = pd.DataFrame(cg.get_coins_markets(vs_currency='USD', order='market_cap_desc'))\n",
    "for i in range(2, 20):\n",
    "    tokens_data = tokens_data.append(cg.get_coins_markets(vs_currency='USD', order='market_cap_desc', page=i))\n",
    "tokens_data = tokens_data.reset_index(drop=True)"
   ]
  },
  {
   "cell_type": "code",
   "execution_count": 11,
   "id": "eee4c543-2fbd-4454-a31e-36ea196b4c54",
   "metadata": {},
   "outputs": [
    {
     "data": {
      "text/html": [
       "<div>\n",
       "<style scoped>\n",
       "    .dataframe tbody tr th:only-of-type {\n",
       "        vertical-align: middle;\n",
       "    }\n",
       "\n",
       "    .dataframe tbody tr th {\n",
       "        vertical-align: top;\n",
       "    }\n",
       "\n",
       "    .dataframe thead th {\n",
       "        text-align: right;\n",
       "    }\n",
       "</style>\n",
       "<table border=\"1\" class=\"dataframe\">\n",
       "  <thead>\n",
       "    <tr style=\"text-align: right;\">\n",
       "      <th></th>\n",
       "      <th>id</th>\n",
       "      <th>symbol</th>\n",
       "      <th>name</th>\n",
       "      <th>image</th>\n",
       "      <th>current_price</th>\n",
       "      <th>market_cap</th>\n",
       "      <th>market_cap_rank</th>\n",
       "      <th>fully_diluted_valuation</th>\n",
       "      <th>total_volume</th>\n",
       "      <th>high_24h</th>\n",
       "      <th>...</th>\n",
       "      <th>total_supply</th>\n",
       "      <th>max_supply</th>\n",
       "      <th>ath</th>\n",
       "      <th>ath_change_percentage</th>\n",
       "      <th>ath_date</th>\n",
       "      <th>atl</th>\n",
       "      <th>atl_change_percentage</th>\n",
       "      <th>atl_date</th>\n",
       "      <th>roi</th>\n",
       "      <th>last_updated</th>\n",
       "    </tr>\n",
       "  </thead>\n",
       "  <tbody>\n",
       "    <tr>\n",
       "      <th>0</th>\n",
       "      <td>bitcoin</td>\n",
       "      <td>btc</td>\n",
       "      <td>Bitcoin</td>\n",
       "      <td>https://assets.coingecko.com/coins/images/1/la...</td>\n",
       "      <td>31638.000000</td>\n",
       "      <td>602803380915</td>\n",
       "      <td>1</td>\n",
       "      <td>6.643540e+11</td>\n",
       "      <td>3.142179e+10</td>\n",
       "      <td>31879.000000</td>\n",
       "      <td>...</td>\n",
       "      <td>2.100000e+07</td>\n",
       "      <td>2.100000e+07</td>\n",
       "      <td>69045.000000</td>\n",
       "      <td>-54.23273</td>\n",
       "      <td>2021-11-10T14:24:11.849Z</td>\n",
       "      <td>67.810000</td>\n",
       "      <td>46501.34216</td>\n",
       "      <td>2013-07-06T00:00:00.000Z</td>\n",
       "      <td>None</td>\n",
       "      <td>2022-05-31T10:34:32.381Z</td>\n",
       "    </tr>\n",
       "    <tr>\n",
       "      <th>1</th>\n",
       "      <td>ethereum</td>\n",
       "      <td>eth</td>\n",
       "      <td>Ethereum</td>\n",
       "      <td>https://assets.coingecko.com/coins/images/279/...</td>\n",
       "      <td>1971.990000</td>\n",
       "      <td>238663432489</td>\n",
       "      <td>2</td>\n",
       "      <td>NaN</td>\n",
       "      <td>1.769765e+10</td>\n",
       "      <td>2007.880000</td>\n",
       "      <td>...</td>\n",
       "      <td>NaN</td>\n",
       "      <td>NaN</td>\n",
       "      <td>4878.260000</td>\n",
       "      <td>-59.59236</td>\n",
       "      <td>2021-11-10T14:24:19.604Z</td>\n",
       "      <td>0.432979</td>\n",
       "      <td>455162.37441</td>\n",
       "      <td>2015-10-20T00:00:00.000Z</td>\n",
       "      <td>{'times': 82.31222760314009, 'currency': 'btc'...</td>\n",
       "      <td>2022-05-31T10:34:56.952Z</td>\n",
       "    </tr>\n",
       "    <tr>\n",
       "      <th>2</th>\n",
       "      <td>tether</td>\n",
       "      <td>usdt</td>\n",
       "      <td>Tether</td>\n",
       "      <td>https://assets.coingecko.com/coins/images/325/...</td>\n",
       "      <td>1.000000</td>\n",
       "      <td>72558962162</td>\n",
       "      <td>3</td>\n",
       "      <td>NaN</td>\n",
       "      <td>5.599252e+10</td>\n",
       "      <td>1.004000</td>\n",
       "      <td>...</td>\n",
       "      <td>7.253725e+10</td>\n",
       "      <td>NaN</td>\n",
       "      <td>1.320000</td>\n",
       "      <td>-24.47456</td>\n",
       "      <td>2018-07-24T00:00:00.000Z</td>\n",
       "      <td>0.572521</td>\n",
       "      <td>74.53920</td>\n",
       "      <td>2015-03-02T00:00:00.000Z</td>\n",
       "      <td>None</td>\n",
       "      <td>2022-05-31T10:32:22.794Z</td>\n",
       "    </tr>\n",
       "    <tr>\n",
       "      <th>3</th>\n",
       "      <td>usd-coin</td>\n",
       "      <td>usdc</td>\n",
       "      <td>USD Coin</td>\n",
       "      <td>https://assets.coingecko.com/coins/images/6319...</td>\n",
       "      <td>1.002000</td>\n",
       "      <td>54036125244</td>\n",
       "      <td>4</td>\n",
       "      <td>NaN</td>\n",
       "      <td>5.836717e+09</td>\n",
       "      <td>1.006000</td>\n",
       "      <td>...</td>\n",
       "      <td>5.390743e+10</td>\n",
       "      <td>NaN</td>\n",
       "      <td>1.170000</td>\n",
       "      <td>-14.61819</td>\n",
       "      <td>2019-05-08T00:40:28.300Z</td>\n",
       "      <td>0.891848</td>\n",
       "      <td>12.27000</td>\n",
       "      <td>2021-05-19T13:14:05.611Z</td>\n",
       "      <td>None</td>\n",
       "      <td>2022-05-31T10:35:38.463Z</td>\n",
       "    </tr>\n",
       "    <tr>\n",
       "      <th>4</th>\n",
       "      <td>binancecoin</td>\n",
       "      <td>bnb</td>\n",
       "      <td>BNB</td>\n",
       "      <td>https://assets.coingecko.com/coins/images/825/...</td>\n",
       "      <td>319.980000</td>\n",
       "      <td>53806599766</td>\n",
       "      <td>5</td>\n",
       "      <td>5.380660e+10</td>\n",
       "      <td>1.261946e+09</td>\n",
       "      <td>323.510000</td>\n",
       "      <td>...</td>\n",
       "      <td>1.681370e+08</td>\n",
       "      <td>1.681370e+08</td>\n",
       "      <td>686.310000</td>\n",
       "      <td>-53.45517</td>\n",
       "      <td>2021-05-10T07:24:17.097Z</td>\n",
       "      <td>0.039818</td>\n",
       "      <td>802156.89602</td>\n",
       "      <td>2017-10-19T00:00:00.000Z</td>\n",
       "      <td>None</td>\n",
       "      <td>2022-05-31T10:35:03.305Z</td>\n",
       "    </tr>\n",
       "    <tr>\n",
       "      <th>...</th>\n",
       "      <td>...</td>\n",
       "      <td>...</td>\n",
       "      <td>...</td>\n",
       "      <td>...</td>\n",
       "      <td>...</td>\n",
       "      <td>...</td>\n",
       "      <td>...</td>\n",
       "      <td>...</td>\n",
       "      <td>...</td>\n",
       "      <td>...</td>\n",
       "      <td>...</td>\n",
       "      <td>...</td>\n",
       "      <td>...</td>\n",
       "      <td>...</td>\n",
       "      <td>...</td>\n",
       "      <td>...</td>\n",
       "      <td>...</td>\n",
       "      <td>...</td>\n",
       "      <td>...</td>\n",
       "      <td>...</td>\n",
       "      <td>...</td>\n",
       "    </tr>\n",
       "    <tr>\n",
       "      <th>1895</th>\n",
       "      <td>razor-network</td>\n",
       "      <td>razor</td>\n",
       "      <td>Razor Network</td>\n",
       "      <td>https://assets.coingecko.com/coins/images/1379...</td>\n",
       "      <td>0.007141</td>\n",
       "      <td>1341321</td>\n",
       "      <td>1896</td>\n",
       "      <td>7.144747e+06</td>\n",
       "      <td>1.702530e+05</td>\n",
       "      <td>0.007172</td>\n",
       "      <td>...</td>\n",
       "      <td>1.000000e+09</td>\n",
       "      <td>1.000000e+09</td>\n",
       "      <td>0.978539</td>\n",
       "      <td>-99.26890</td>\n",
       "      <td>2021-02-04T13:52:01.426Z</td>\n",
       "      <td>0.005252</td>\n",
       "      <td>36.21772</td>\n",
       "      <td>2022-05-20T16:23:46.596Z</td>\n",
       "      <td>None</td>\n",
       "      <td>2022-05-31T10:36:01.051Z</td>\n",
       "    </tr>\n",
       "    <tr>\n",
       "      <th>1896</th>\n",
       "      <td>katana-inu</td>\n",
       "      <td>kata</td>\n",
       "      <td>Katana Inu</td>\n",
       "      <td>https://assets.coingecko.com/coins/images/2187...</td>\n",
       "      <td>0.000289</td>\n",
       "      <td>1341066</td>\n",
       "      <td>1897</td>\n",
       "      <td>1.445500e+07</td>\n",
       "      <td>1.632360e+05</td>\n",
       "      <td>0.000296</td>\n",
       "      <td>...</td>\n",
       "      <td>5.000000e+10</td>\n",
       "      <td>5.000000e+10</td>\n",
       "      <td>0.009098</td>\n",
       "      <td>-96.82838</td>\n",
       "      <td>2021-12-24T01:38:28.043Z</td>\n",
       "      <td>0.000199</td>\n",
       "      <td>45.09724</td>\n",
       "      <td>2022-05-12T07:29:43.106Z</td>\n",
       "      <td>None</td>\n",
       "      <td>2022-05-31T10:36:43.804Z</td>\n",
       "    </tr>\n",
       "    <tr>\n",
       "      <th>1897</th>\n",
       "      <td>arcticcoin</td>\n",
       "      <td>arc</td>\n",
       "      <td>Advanced Technology Coin</td>\n",
       "      <td>https://assets.coingecko.com/coins/images/633/...</td>\n",
       "      <td>0.044531</td>\n",
       "      <td>1328617</td>\n",
       "      <td>1898</td>\n",
       "      <td>NaN</td>\n",
       "      <td>1.169000e+01</td>\n",
       "      <td>NaN</td>\n",
       "      <td>...</td>\n",
       "      <td>6.000000e+07</td>\n",
       "      <td>NaN</td>\n",
       "      <td>6.440000</td>\n",
       "      <td>-99.30852</td>\n",
       "      <td>2017-06-10T00:00:00.000Z</td>\n",
       "      <td>0.000199</td>\n",
       "      <td>22234.27196</td>\n",
       "      <td>2021-04-15T15:41:14.410Z</td>\n",
       "      <td>None</td>\n",
       "      <td>2022-05-26T02:01:28.582Z</td>\n",
       "    </tr>\n",
       "    <tr>\n",
       "      <th>1898</th>\n",
       "      <td>zodium</td>\n",
       "      <td>zodi</td>\n",
       "      <td>Zodium</td>\n",
       "      <td>https://assets.coingecko.com/coins/images/2118...</td>\n",
       "      <td>0.019336</td>\n",
       "      <td>1327151</td>\n",
       "      <td>1899</td>\n",
       "      <td>NaN</td>\n",
       "      <td>8.097100e+04</td>\n",
       "      <td>0.020107</td>\n",
       "      <td>...</td>\n",
       "      <td>8.888889e+08</td>\n",
       "      <td>NaN</td>\n",
       "      <td>0.731751</td>\n",
       "      <td>-97.35728</td>\n",
       "      <td>2021-12-31T02:34:09.727Z</td>\n",
       "      <td>0.016507</td>\n",
       "      <td>17.15179</td>\n",
       "      <td>2022-05-30T11:17:55.338Z</td>\n",
       "      <td>None</td>\n",
       "      <td>2022-05-31T10:35:32.532Z</td>\n",
       "    </tr>\n",
       "    <tr>\n",
       "      <th>1899</th>\n",
       "      <td>txa</td>\n",
       "      <td>txa</td>\n",
       "      <td>TXA</td>\n",
       "      <td>https://assets.coingecko.com/coins/images/1774...</td>\n",
       "      <td>0.572175</td>\n",
       "      <td>1323596</td>\n",
       "      <td>1900</td>\n",
       "      <td>2.864577e+07</td>\n",
       "      <td>3.012950e+05</td>\n",
       "      <td>0.830815</td>\n",
       "      <td>...</td>\n",
       "      <td>5.000000e+07</td>\n",
       "      <td>5.000000e+07</td>\n",
       "      <td>5.850000</td>\n",
       "      <td>-90.22527</td>\n",
       "      <td>2021-08-17T10:07:47.176Z</td>\n",
       "      <td>0.371546</td>\n",
       "      <td>53.85111</td>\n",
       "      <td>2022-05-14T13:34:37.675Z</td>\n",
       "      <td>None</td>\n",
       "      <td>2022-05-31T10:34:23.421Z</td>\n",
       "    </tr>\n",
       "  </tbody>\n",
       "</table>\n",
       "<p>1900 rows × 26 columns</p>\n",
       "</div>"
      ],
      "text/plain": [
       "                 id symbol                      name  \\\n",
       "0           bitcoin    btc                   Bitcoin   \n",
       "1          ethereum    eth                  Ethereum   \n",
       "2            tether   usdt                    Tether   \n",
       "3          usd-coin   usdc                  USD Coin   \n",
       "4       binancecoin    bnb                       BNB   \n",
       "...             ...    ...                       ...   \n",
       "1895  razor-network  razor             Razor Network   \n",
       "1896     katana-inu   kata                Katana Inu   \n",
       "1897     arcticcoin    arc  Advanced Technology Coin   \n",
       "1898         zodium   zodi                    Zodium   \n",
       "1899            txa    txa                       TXA   \n",
       "\n",
       "                                                  image  current_price  \\\n",
       "0     https://assets.coingecko.com/coins/images/1/la...   31638.000000   \n",
       "1     https://assets.coingecko.com/coins/images/279/...    1971.990000   \n",
       "2     https://assets.coingecko.com/coins/images/325/...       1.000000   \n",
       "3     https://assets.coingecko.com/coins/images/6319...       1.002000   \n",
       "4     https://assets.coingecko.com/coins/images/825/...     319.980000   \n",
       "...                                                 ...            ...   \n",
       "1895  https://assets.coingecko.com/coins/images/1379...       0.007141   \n",
       "1896  https://assets.coingecko.com/coins/images/2187...       0.000289   \n",
       "1897  https://assets.coingecko.com/coins/images/633/...       0.044531   \n",
       "1898  https://assets.coingecko.com/coins/images/2118...       0.019336   \n",
       "1899  https://assets.coingecko.com/coins/images/1774...       0.572175   \n",
       "\n",
       "        market_cap  market_cap_rank  fully_diluted_valuation  total_volume  \\\n",
       "0     602803380915                1             6.643540e+11  3.142179e+10   \n",
       "1     238663432489                2                      NaN  1.769765e+10   \n",
       "2      72558962162                3                      NaN  5.599252e+10   \n",
       "3      54036125244                4                      NaN  5.836717e+09   \n",
       "4      53806599766                5             5.380660e+10  1.261946e+09   \n",
       "...            ...              ...                      ...           ...   \n",
       "1895       1341321             1896             7.144747e+06  1.702530e+05   \n",
       "1896       1341066             1897             1.445500e+07  1.632360e+05   \n",
       "1897       1328617             1898                      NaN  1.169000e+01   \n",
       "1898       1327151             1899                      NaN  8.097100e+04   \n",
       "1899       1323596             1900             2.864577e+07  3.012950e+05   \n",
       "\n",
       "          high_24h  ...  total_supply    max_supply           ath  \\\n",
       "0     31879.000000  ...  2.100000e+07  2.100000e+07  69045.000000   \n",
       "1      2007.880000  ...           NaN           NaN   4878.260000   \n",
       "2         1.004000  ...  7.253725e+10           NaN      1.320000   \n",
       "3         1.006000  ...  5.390743e+10           NaN      1.170000   \n",
       "4       323.510000  ...  1.681370e+08  1.681370e+08    686.310000   \n",
       "...            ...  ...           ...           ...           ...   \n",
       "1895      0.007172  ...  1.000000e+09  1.000000e+09      0.978539   \n",
       "1896      0.000296  ...  5.000000e+10  5.000000e+10      0.009098   \n",
       "1897           NaN  ...  6.000000e+07           NaN      6.440000   \n",
       "1898      0.020107  ...  8.888889e+08           NaN      0.731751   \n",
       "1899      0.830815  ...  5.000000e+07  5.000000e+07      5.850000   \n",
       "\n",
       "      ath_change_percentage                  ath_date        atl  \\\n",
       "0                 -54.23273  2021-11-10T14:24:11.849Z  67.810000   \n",
       "1                 -59.59236  2021-11-10T14:24:19.604Z   0.432979   \n",
       "2                 -24.47456  2018-07-24T00:00:00.000Z   0.572521   \n",
       "3                 -14.61819  2019-05-08T00:40:28.300Z   0.891848   \n",
       "4                 -53.45517  2021-05-10T07:24:17.097Z   0.039818   \n",
       "...                     ...                       ...        ...   \n",
       "1895              -99.26890  2021-02-04T13:52:01.426Z   0.005252   \n",
       "1896              -96.82838  2021-12-24T01:38:28.043Z   0.000199   \n",
       "1897              -99.30852  2017-06-10T00:00:00.000Z   0.000199   \n",
       "1898              -97.35728  2021-12-31T02:34:09.727Z   0.016507   \n",
       "1899              -90.22527  2021-08-17T10:07:47.176Z   0.371546   \n",
       "\n",
       "      atl_change_percentage                  atl_date  \\\n",
       "0               46501.34216  2013-07-06T00:00:00.000Z   \n",
       "1              455162.37441  2015-10-20T00:00:00.000Z   \n",
       "2                  74.53920  2015-03-02T00:00:00.000Z   \n",
       "3                  12.27000  2021-05-19T13:14:05.611Z   \n",
       "4              802156.89602  2017-10-19T00:00:00.000Z   \n",
       "...                     ...                       ...   \n",
       "1895               36.21772  2022-05-20T16:23:46.596Z   \n",
       "1896               45.09724  2022-05-12T07:29:43.106Z   \n",
       "1897            22234.27196  2021-04-15T15:41:14.410Z   \n",
       "1898               17.15179  2022-05-30T11:17:55.338Z   \n",
       "1899               53.85111  2022-05-14T13:34:37.675Z   \n",
       "\n",
       "                                                    roi  \\\n",
       "0                                                  None   \n",
       "1     {'times': 82.31222760314009, 'currency': 'btc'...   \n",
       "2                                                  None   \n",
       "3                                                  None   \n",
       "4                                                  None   \n",
       "...                                                 ...   \n",
       "1895                                               None   \n",
       "1896                                               None   \n",
       "1897                                               None   \n",
       "1898                                               None   \n",
       "1899                                               None   \n",
       "\n",
       "                  last_updated  \n",
       "0     2022-05-31T10:34:32.381Z  \n",
       "1     2022-05-31T10:34:56.952Z  \n",
       "2     2022-05-31T10:32:22.794Z  \n",
       "3     2022-05-31T10:35:38.463Z  \n",
       "4     2022-05-31T10:35:03.305Z  \n",
       "...                        ...  \n",
       "1895  2022-05-31T10:36:01.051Z  \n",
       "1896  2022-05-31T10:36:43.804Z  \n",
       "1897  2022-05-26T02:01:28.582Z  \n",
       "1898  2022-05-31T10:35:32.532Z  \n",
       "1899  2022-05-31T10:34:23.421Z  \n",
       "\n",
       "[1900 rows x 26 columns]"
      ]
     },
     "execution_count": 11,
     "metadata": {},
     "output_type": "execute_result"
    }
   ],
   "source": [
    "tokens_data"
   ]
  },
  {
   "cell_type": "code",
   "execution_count": 12,
   "id": "56ce83f5-1280-4001-bb52-086ded2d0ff7",
   "metadata": {},
   "outputs": [],
   "source": [
    "avalanche_tokens_data = tokens_data[tokens_data['id'].isin(list(avalanche_tokens.keys()))]"
   ]
  },
  {
   "cell_type": "code",
   "execution_count": 13,
   "id": "d28a48f5-249b-4660-b5de-70046fa32b50",
   "metadata": {},
   "outputs": [
    {
     "data": {
      "text/html": [
       "<div>\n",
       "<style scoped>\n",
       "    .dataframe tbody tr th:only-of-type {\n",
       "        vertical-align: middle;\n",
       "    }\n",
       "\n",
       "    .dataframe tbody tr th {\n",
       "        vertical-align: top;\n",
       "    }\n",
       "\n",
       "    .dataframe thead th {\n",
       "        text-align: right;\n",
       "    }\n",
       "</style>\n",
       "<table border=\"1\" class=\"dataframe\">\n",
       "  <thead>\n",
       "    <tr style=\"text-align: right;\">\n",
       "      <th></th>\n",
       "      <th>id</th>\n",
       "      <th>symbol</th>\n",
       "      <th>name</th>\n",
       "      <th>image</th>\n",
       "      <th>current_price</th>\n",
       "      <th>market_cap</th>\n",
       "      <th>market_cap_rank</th>\n",
       "      <th>fully_diluted_valuation</th>\n",
       "      <th>total_volume</th>\n",
       "      <th>high_24h</th>\n",
       "      <th>...</th>\n",
       "      <th>total_supply</th>\n",
       "      <th>max_supply</th>\n",
       "      <th>ath</th>\n",
       "      <th>ath_change_percentage</th>\n",
       "      <th>ath_date</th>\n",
       "      <th>atl</th>\n",
       "      <th>atl_change_percentage</th>\n",
       "      <th>atl_date</th>\n",
       "      <th>roi</th>\n",
       "      <th>last_updated</th>\n",
       "    </tr>\n",
       "  </thead>\n",
       "  <tbody>\n",
       "    <tr>\n",
       "      <th>14</th>\n",
       "      <td>avalanche-2</td>\n",
       "      <td>avax</td>\n",
       "      <td>Avalanche</td>\n",
       "      <td>https://assets.coingecko.com/coins/images/1255...</td>\n",
       "      <td>26.910000</td>\n",
       "      <td>7310362250</td>\n",
       "      <td>15</td>\n",
       "      <td>1.939465e+10</td>\n",
       "      <td>9.585964e+08</td>\n",
       "      <td>28.890000</td>\n",
       "      <td>...</td>\n",
       "      <td>4.048230e+08</td>\n",
       "      <td>7.200000e+08</td>\n",
       "      <td>144.960000</td>\n",
       "      <td>-81.48437</td>\n",
       "      <td>2021-11-21T14:18:56.538Z</td>\n",
       "      <td>2.800000</td>\n",
       "      <td>858.22440</td>\n",
       "      <td>2020-12-31T13:15:21.540Z</td>\n",
       "      <td>None</td>\n",
       "      <td>2022-05-31T10:35:35.201Z</td>\n",
       "    </tr>\n",
       "    <tr>\n",
       "      <th>242</th>\n",
       "      <td>yusd-stablecoin</td>\n",
       "      <td>yusd</td>\n",
       "      <td>YUSD Stablecoin</td>\n",
       "      <td>https://assets.coingecko.com/coins/images/2502...</td>\n",
       "      <td>0.995103</td>\n",
       "      <td>131973451</td>\n",
       "      <td>243</td>\n",
       "      <td>NaN</td>\n",
       "      <td>1.059603e+06</td>\n",
       "      <td>0.999958</td>\n",
       "      <td>...</td>\n",
       "      <td>1.326117e+08</td>\n",
       "      <td>NaN</td>\n",
       "      <td>1.025000</td>\n",
       "      <td>-2.87376</td>\n",
       "      <td>2022-04-19T18:17:51.425Z</td>\n",
       "      <td>0.942459</td>\n",
       "      <td>5.58827</td>\n",
       "      <td>2022-05-11T12:54:22.300Z</td>\n",
       "      <td>None</td>\n",
       "      <td>2022-05-31T10:35:50.115Z</td>\n",
       "    </tr>\n",
       "    <tr>\n",
       "      <th>304</th>\n",
       "      <td>joe</td>\n",
       "      <td>joe</td>\n",
       "      <td>JOE</td>\n",
       "      <td>https://assets.coingecko.com/coins/images/1756...</td>\n",
       "      <td>0.357717</td>\n",
       "      <td>97562173</td>\n",
       "      <td>305</td>\n",
       "      <td>1.790379e+08</td>\n",
       "      <td>6.483083e+06</td>\n",
       "      <td>0.381958</td>\n",
       "      <td>...</td>\n",
       "      <td>3.665385e+08</td>\n",
       "      <td>5.000000e+08</td>\n",
       "      <td>5.090000</td>\n",
       "      <td>-92.97671</td>\n",
       "      <td>2021-11-21T14:27:00.202Z</td>\n",
       "      <td>0.026588</td>\n",
       "      <td>1243.76436</td>\n",
       "      <td>2021-08-11T14:01:35.223Z</td>\n",
       "      <td>None</td>\n",
       "      <td>2022-05-31T10:36:51.348Z</td>\n",
       "    </tr>\n",
       "    <tr>\n",
       "      <th>330</th>\n",
       "      <td>benqi-liquid-staked-avax</td>\n",
       "      <td>savax</td>\n",
       "      <td>BENQI Liquid Staked AVAX</td>\n",
       "      <td>https://assets.coingecko.com/coins/images/2365...</td>\n",
       "      <td>27.250000</td>\n",
       "      <td>83547089</td>\n",
       "      <td>331</td>\n",
       "      <td>NaN</td>\n",
       "      <td>3.269280e+05</td>\n",
       "      <td>29.170000</td>\n",
       "      <td>...</td>\n",
       "      <td>3.069319e+06</td>\n",
       "      <td>NaN</td>\n",
       "      <td>103.550000</td>\n",
       "      <td>-73.78981</td>\n",
       "      <td>2022-04-02T13:44:54.612Z</td>\n",
       "      <td>21.730000</td>\n",
       "      <td>24.87437</td>\n",
       "      <td>2022-05-27T19:24:15.546Z</td>\n",
       "      <td>None</td>\n",
       "      <td>2022-05-31T10:34:51.620Z</td>\n",
       "    </tr>\n",
       "    <tr>\n",
       "      <th>411</th>\n",
       "      <td>step-app-fitfi</td>\n",
       "      <td>fitfi</td>\n",
       "      <td>Step App</td>\n",
       "      <td>https://assets.coingecko.com/coins/images/2501...</td>\n",
       "      <td>0.140605</td>\n",
       "      <td>57698071</td>\n",
       "      <td>412</td>\n",
       "      <td>7.036350e+08</td>\n",
       "      <td>5.463075e+07</td>\n",
       "      <td>0.153330</td>\n",
       "      <td>...</td>\n",
       "      <td>5.000000e+09</td>\n",
       "      <td>5.000000e+09</td>\n",
       "      <td>0.731881</td>\n",
       "      <td>-80.73425</td>\n",
       "      <td>2022-05-05T10:49:00.713Z</td>\n",
       "      <td>0.081387</td>\n",
       "      <td>73.25000</td>\n",
       "      <td>2022-05-12T07:19:29.374Z</td>\n",
       "      <td>None</td>\n",
       "      <td>2022-05-31T10:36:13.152Z</td>\n",
       "    </tr>\n",
       "    <tr>\n",
       "      <th>472</th>\n",
       "      <td>wonderland</td>\n",
       "      <td>time</td>\n",
       "      <td>Wonderland</td>\n",
       "      <td>https://assets.coingecko.com/coins/images/1812...</td>\n",
       "      <td>50.040000</td>\n",
       "      <td>45365042</td>\n",
       "      <td>473</td>\n",
       "      <td>4.821136e+07</td>\n",
       "      <td>2.098220e+05</td>\n",
       "      <td>55.800000</td>\n",
       "      <td>...</td>\n",
       "      <td>1.216453e+07</td>\n",
       "      <td>9.567396e+05</td>\n",
       "      <td>10063.720000</td>\n",
       "      <td>-99.50015</td>\n",
       "      <td>2021-11-07T19:15:45.691Z</td>\n",
       "      <td>48.950000</td>\n",
       "      <td>2.76404</td>\n",
       "      <td>2022-05-31T09:44:40.055Z</td>\n",
       "      <td>None</td>\n",
       "      <td>2022-05-31T10:34:51.041Z</td>\n",
       "    </tr>\n",
       "    <tr>\n",
       "      <th>545</th>\n",
       "      <td>snowbank</td>\n",
       "      <td>sb</td>\n",
       "      <td>Snowbank</td>\n",
       "      <td>https://assets.coingecko.com/coins/images/1994...</td>\n",
       "      <td>220.240000</td>\n",
       "      <td>35114214</td>\n",
       "      <td>546</td>\n",
       "      <td>NaN</td>\n",
       "      <td>5.042700e+03</td>\n",
       "      <td>225.470000</td>\n",
       "      <td>...</td>\n",
       "      <td>1.596400e+05</td>\n",
       "      <td>NaN</td>\n",
       "      <td>8356.800000</td>\n",
       "      <td>-97.37463</td>\n",
       "      <td>2021-11-08T05:30:08.317Z</td>\n",
       "      <td>138.860000</td>\n",
       "      <td>57.99722</td>\n",
       "      <td>2022-01-23T06:18:28.046Z</td>\n",
       "      <td>None</td>\n",
       "      <td>2022-05-31T10:35:48.468Z</td>\n",
       "    </tr>\n",
       "    <tr>\n",
       "      <th>563</th>\n",
       "      <td>benqi</td>\n",
       "      <td>qi</td>\n",
       "      <td>BENQI</td>\n",
       "      <td>https://assets.coingecko.com/coins/images/1636...</td>\n",
       "      <td>0.014980</td>\n",
       "      <td>32907354</td>\n",
       "      <td>564</td>\n",
       "      <td>1.076677e+08</td>\n",
       "      <td>4.878122e+06</td>\n",
       "      <td>0.015734</td>\n",
       "      <td>...</td>\n",
       "      <td>7.200000e+09</td>\n",
       "      <td>7.200000e+09</td>\n",
       "      <td>0.394170</td>\n",
       "      <td>-96.21677</td>\n",
       "      <td>2021-08-24T03:58:11.390Z</td>\n",
       "      <td>0.008900</td>\n",
       "      <td>67.55289</td>\n",
       "      <td>2022-05-12T07:26:36.407Z</td>\n",
       "      <td>None</td>\n",
       "      <td>2022-05-31T10:37:06.593Z</td>\n",
       "    </tr>\n",
       "    <tr>\n",
       "      <th>680</th>\n",
       "      <td>avalaunch</td>\n",
       "      <td>xava</td>\n",
       "      <td>Avalaunch</td>\n",
       "      <td>https://assets.coingecko.com/coins/images/1546...</td>\n",
       "      <td>0.904038</td>\n",
       "      <td>22467804</td>\n",
       "      <td>681</td>\n",
       "      <td>9.017452e+07</td>\n",
       "      <td>1.688720e+06</td>\n",
       "      <td>0.963063</td>\n",
       "      <td>...</td>\n",
       "      <td>1.000000e+08</td>\n",
       "      <td>1.000000e+08</td>\n",
       "      <td>20.090000</td>\n",
       "      <td>-95.52361</td>\n",
       "      <td>2021-12-03T14:12:24.965Z</td>\n",
       "      <td>0.471748</td>\n",
       "      <td>90.60256</td>\n",
       "      <td>2021-07-21T05:06:03.647Z</td>\n",
       "      <td>None</td>\n",
       "      <td>2022-05-31T10:37:05.428Z</td>\n",
       "    </tr>\n",
       "    <tr>\n",
       "      <th>910</th>\n",
       "      <td>platypus-finance</td>\n",
       "      <td>ptp</td>\n",
       "      <td>Platypus Finance</td>\n",
       "      <td>https://assets.coingecko.com/coins/images/2172...</td>\n",
       "      <td>0.294733</td>\n",
       "      <td>10624087</td>\n",
       "      <td>911</td>\n",
       "      <td>8.834757e+07</td>\n",
       "      <td>1.705690e+05</td>\n",
       "      <td>0.321236</td>\n",
       "      <td>...</td>\n",
       "      <td>3.000000e+08</td>\n",
       "      <td>3.000000e+08</td>\n",
       "      <td>16.690000</td>\n",
       "      <td>-98.23990</td>\n",
       "      <td>2022-01-16T07:08:24.929Z</td>\n",
       "      <td>0.224090</td>\n",
       "      <td>31.10045</td>\n",
       "      <td>2022-05-27T09:25:08.321Z</td>\n",
       "      <td>None</td>\n",
       "      <td>2022-05-31T10:34:56.052Z</td>\n",
       "    </tr>\n",
       "    <tr>\n",
       "      <th>923</th>\n",
       "      <td>swapxi-token</td>\n",
       "      <td>swapxi</td>\n",
       "      <td>SwapXI</td>\n",
       "      <td>https://assets.coingecko.com/coins/images/2356...</td>\n",
       "      <td>0.492828</td>\n",
       "      <td>10349379</td>\n",
       "      <td>924</td>\n",
       "      <td>NaN</td>\n",
       "      <td>8.358000e+01</td>\n",
       "      <td>0.494245</td>\n",
       "      <td>...</td>\n",
       "      <td>2.100000e+07</td>\n",
       "      <td>NaN</td>\n",
       "      <td>1.560000</td>\n",
       "      <td>-68.39063</td>\n",
       "      <td>2022-04-02T13:42:56.624Z</td>\n",
       "      <td>0.375674</td>\n",
       "      <td>31.18500</td>\n",
       "      <td>2022-05-27T11:07:22.930Z</td>\n",
       "      <td>None</td>\n",
       "      <td>2022-05-31T02:53:20.998Z</td>\n",
       "    </tr>\n",
       "    <tr>\n",
       "      <th>955</th>\n",
       "      <td>spiceusd</td>\n",
       "      <td>usds</td>\n",
       "      <td>SpiceUSD</td>\n",
       "      <td>https://assets.coingecko.com/coins/images/2569...</td>\n",
       "      <td>0.997202</td>\n",
       "      <td>9585727</td>\n",
       "      <td>956</td>\n",
       "      <td>NaN</td>\n",
       "      <td>1.443460e+05</td>\n",
       "      <td>1.025000</td>\n",
       "      <td>...</td>\n",
       "      <td>1.432535e+07</td>\n",
       "      <td>NaN</td>\n",
       "      <td>1.053000</td>\n",
       "      <td>-5.93504</td>\n",
       "      <td>2022-05-30T00:03:39.137Z</td>\n",
       "      <td>0.944010</td>\n",
       "      <td>4.95251</td>\n",
       "      <td>2022-05-25T17:33:58.543Z</td>\n",
       "      <td>None</td>\n",
       "      <td>2022-05-31T10:36:18.184Z</td>\n",
       "    </tr>\n",
       "    <tr>\n",
       "      <th>969</th>\n",
       "      <td>magnet-dao</td>\n",
       "      <td>mag</td>\n",
       "      <td>Magnet DAO</td>\n",
       "      <td>https://assets.coingecko.com/coins/images/2223...</td>\n",
       "      <td>0.429053</td>\n",
       "      <td>9039974</td>\n",
       "      <td>970</td>\n",
       "      <td>4.290935e+13</td>\n",
       "      <td>3.030700e+04</td>\n",
       "      <td>0.438696</td>\n",
       "      <td>...</td>\n",
       "      <td>1.309491e+07</td>\n",
       "      <td>1.000000e+14</td>\n",
       "      <td>3.400000</td>\n",
       "      <td>-87.45657</td>\n",
       "      <td>2022-01-04T09:24:38.906Z</td>\n",
       "      <td>0.223085</td>\n",
       "      <td>91.06977</td>\n",
       "      <td>2022-05-11T21:36:19.719Z</td>\n",
       "      <td>None</td>\n",
       "      <td>2022-05-31T10:35:49.281Z</td>\n",
       "    </tr>\n",
       "    <tr>\n",
       "      <th>1042</th>\n",
       "      <td>crabada</td>\n",
       "      <td>cra</td>\n",
       "      <td>Crabada</td>\n",
       "      <td>https://assets.coingecko.com/coins/images/2001...</td>\n",
       "      <td>0.062328</td>\n",
       "      <td>7465109</td>\n",
       "      <td>1043</td>\n",
       "      <td>6.221782e+07</td>\n",
       "      <td>2.815210e+05</td>\n",
       "      <td>0.070301</td>\n",
       "      <td>...</td>\n",
       "      <td>1.000000e+09</td>\n",
       "      <td>1.000000e+09</td>\n",
       "      <td>2.960000</td>\n",
       "      <td>-97.89808</td>\n",
       "      <td>2021-11-22T17:18:31.018Z</td>\n",
       "      <td>0.057342</td>\n",
       "      <td>8.45196</td>\n",
       "      <td>2022-05-27T10:52:38.465Z</td>\n",
       "      <td>None</td>\n",
       "      <td>2022-05-31T10:35:46.212Z</td>\n",
       "    </tr>\n",
       "    <tr>\n",
       "      <th>1066</th>\n",
       "      <td>vector-finance</td>\n",
       "      <td>vtx</td>\n",
       "      <td>Vector Finance</td>\n",
       "      <td>https://assets.coingecko.com/coins/images/2400...</td>\n",
       "      <td>0.378758</td>\n",
       "      <td>7147408</td>\n",
       "      <td>1067</td>\n",
       "      <td>3.786897e+07</td>\n",
       "      <td>7.572270e+05</td>\n",
       "      <td>0.432032</td>\n",
       "      <td>...</td>\n",
       "      <td>1.887405e+07</td>\n",
       "      <td>1.000000e+08</td>\n",
       "      <td>1.600000</td>\n",
       "      <td>-76.32907</td>\n",
       "      <td>2022-04-08T04:10:51.885Z</td>\n",
       "      <td>0.130832</td>\n",
       "      <td>189.22954</td>\n",
       "      <td>2022-05-12T07:19:54.914Z</td>\n",
       "      <td>None</td>\n",
       "      <td>2022-05-31T10:35:50.818Z</td>\n",
       "    </tr>\n",
       "    <tr>\n",
       "      <th>1123</th>\n",
       "      <td>pangolin</td>\n",
       "      <td>png</td>\n",
       "      <td>Pangolin</td>\n",
       "      <td>https://assets.coingecko.com/coins/images/1402...</td>\n",
       "      <td>0.060206</td>\n",
       "      <td>6116850</td>\n",
       "      <td>1124</td>\n",
       "      <td>3.239066e+07</td>\n",
       "      <td>6.574250e+05</td>\n",
       "      <td>0.062965</td>\n",
       "      <td>...</td>\n",
       "      <td>5.380000e+08</td>\n",
       "      <td>5.380000e+08</td>\n",
       "      <td>18.850000</td>\n",
       "      <td>-99.68083</td>\n",
       "      <td>2021-02-19T15:34:15.118Z</td>\n",
       "      <td>0.049734</td>\n",
       "      <td>20.96856</td>\n",
       "      <td>2022-05-12T07:25:31.232Z</td>\n",
       "      <td>None</td>\n",
       "      <td>2022-05-31T10:37:05.746Z</td>\n",
       "    </tr>\n",
       "    <tr>\n",
       "      <th>1218</th>\n",
       "      <td>inflation-adjusted-usds</td>\n",
       "      <td>iusds</td>\n",
       "      <td>Inflation Adjusted USDS</td>\n",
       "      <td>https://assets.coingecko.com/coins/images/2569...</td>\n",
       "      <td>1.041000</td>\n",
       "      <td>5011375</td>\n",
       "      <td>1219</td>\n",
       "      <td>NaN</td>\n",
       "      <td>5.555600e+04</td>\n",
       "      <td>1.060000</td>\n",
       "      <td>...</td>\n",
       "      <td>6.185850e+06</td>\n",
       "      <td>NaN</td>\n",
       "      <td>1.110000</td>\n",
       "      <td>-6.91975</td>\n",
       "      <td>2022-05-27T21:11:50.681Z</td>\n",
       "      <td>0.917776</td>\n",
       "      <td>12.62885</td>\n",
       "      <td>2022-05-27T21:18:39.715Z</td>\n",
       "      <td>None</td>\n",
       "      <td>2022-05-31T10:34:14.429Z</td>\n",
       "    </tr>\n",
       "    <tr>\n",
       "      <th>1314</th>\n",
       "      <td>digits-dao</td>\n",
       "      <td>digits</td>\n",
       "      <td>Digits DAO</td>\n",
       "      <td>https://assets.coingecko.com/coins/images/2355...</td>\n",
       "      <td>0.004092</td>\n",
       "      <td>4091589</td>\n",
       "      <td>1315</td>\n",
       "      <td>4.091589e+06</td>\n",
       "      <td>7.202680e+03</td>\n",
       "      <td>0.004100</td>\n",
       "      <td>...</td>\n",
       "      <td>1.000000e+09</td>\n",
       "      <td>1.000000e+09</td>\n",
       "      <td>0.014996</td>\n",
       "      <td>-72.77516</td>\n",
       "      <td>2022-04-20T05:33:11.257Z</td>\n",
       "      <td>0.003478</td>\n",
       "      <td>17.37698</td>\n",
       "      <td>2022-02-22T17:13:40.836Z</td>\n",
       "      <td>None</td>\n",
       "      <td>2022-05-31T10:31:12.803Z</td>\n",
       "    </tr>\n",
       "    <tr>\n",
       "      <th>1445</th>\n",
       "      <td>elk-finance</td>\n",
       "      <td>elk</td>\n",
       "      <td>Elk Finance</td>\n",
       "      <td>https://assets.coingecko.com/coins/images/1781...</td>\n",
       "      <td>0.478286</td>\n",
       "      <td>3132864</td>\n",
       "      <td>1446</td>\n",
       "      <td>NaN</td>\n",
       "      <td>1.246840e+05</td>\n",
       "      <td>0.498759</td>\n",
       "      <td>...</td>\n",
       "      <td>4.242424e+07</td>\n",
       "      <td>NaN</td>\n",
       "      <td>6.030000</td>\n",
       "      <td>-92.11516</td>\n",
       "      <td>2022-01-20T09:25:38.025Z</td>\n",
       "      <td>0.398954</td>\n",
       "      <td>19.13088</td>\n",
       "      <td>2022-05-12T07:19:50.553Z</td>\n",
       "      <td>None</td>\n",
       "      <td>2022-05-31T10:35:48.183Z</td>\n",
       "    </tr>\n",
       "    <tr>\n",
       "      <th>1450</th>\n",
       "      <td>yield-yak</td>\n",
       "      <td>yak</td>\n",
       "      <td>Yield Yak</td>\n",
       "      <td>https://assets.coingecko.com/coins/images/1765...</td>\n",
       "      <td>346.080000</td>\n",
       "      <td>3109903</td>\n",
       "      <td>1451</td>\n",
       "      <td>3.460046e+06</td>\n",
       "      <td>7.916300e+04</td>\n",
       "      <td>449.410000</td>\n",
       "      <td>...</td>\n",
       "      <td>1.000000e+04</td>\n",
       "      <td>1.000000e+04</td>\n",
       "      <td>16319.340000</td>\n",
       "      <td>-97.88344</td>\n",
       "      <td>2021-09-23T05:14:43.476Z</td>\n",
       "      <td>327.870000</td>\n",
       "      <td>5.35054</td>\n",
       "      <td>2022-05-12T16:16:14.771Z</td>\n",
       "      <td>None</td>\n",
       "      <td>2022-05-31T10:34:45.349Z</td>\n",
       "    </tr>\n",
       "    <tr>\n",
       "      <th>1554</th>\n",
       "      <td>maximizer</td>\n",
       "      <td>maxi</td>\n",
       "      <td>Maximizer</td>\n",
       "      <td>https://assets.coingecko.com/coins/images/2092...</td>\n",
       "      <td>4.390000</td>\n",
       "      <td>2523511</td>\n",
       "      <td>1555</td>\n",
       "      <td>NaN</td>\n",
       "      <td>1.109491e+04</td>\n",
       "      <td>4.490000</td>\n",
       "      <td>...</td>\n",
       "      <td>7.968600e+04</td>\n",
       "      <td>NaN</td>\n",
       "      <td>972.970000</td>\n",
       "      <td>-99.55211</td>\n",
       "      <td>2021-11-29T04:32:05.485Z</td>\n",
       "      <td>4.250000</td>\n",
       "      <td>2.57991</td>\n",
       "      <td>2022-05-27T20:24:05.372Z</td>\n",
       "      <td>None</td>\n",
       "      <td>2022-05-31T10:35:49.327Z</td>\n",
       "    </tr>\n",
       "    <tr>\n",
       "      <th>1575</th>\n",
       "      <td>arable-protocol</td>\n",
       "      <td>acre</td>\n",
       "      <td>Arable Protocol</td>\n",
       "      <td>https://assets.coingecko.com/coins/images/2365...</td>\n",
       "      <td>0.018880</td>\n",
       "      <td>2421023</td>\n",
       "      <td>1576</td>\n",
       "      <td>1.887844e+07</td>\n",
       "      <td>2.996210e+03</td>\n",
       "      <td>0.020304</td>\n",
       "      <td>...</td>\n",
       "      <td>1.000000e+09</td>\n",
       "      <td>1.000000e+09</td>\n",
       "      <td>0.501675</td>\n",
       "      <td>-96.22716</td>\n",
       "      <td>2022-02-21T07:36:56.402Z</td>\n",
       "      <td>0.017051</td>\n",
       "      <td>11.00604</td>\n",
       "      <td>2022-05-27T19:33:32.334Z</td>\n",
       "      <td>None</td>\n",
       "      <td>2022-05-31T10:33:46.058Z</td>\n",
       "    </tr>\n",
       "    <tr>\n",
       "      <th>1587</th>\n",
       "      <td>imperium-empires</td>\n",
       "      <td>ime</td>\n",
       "      <td>Imperium Empires</td>\n",
       "      <td>https://assets.coingecko.com/coins/images/2193...</td>\n",
       "      <td>0.003656</td>\n",
       "      <td>2365843</td>\n",
       "      <td>1588</td>\n",
       "      <td>3.650636e+07</td>\n",
       "      <td>5.044700e+04</td>\n",
       "      <td>0.003932</td>\n",
       "      <td>...</td>\n",
       "      <td>1.000000e+10</td>\n",
       "      <td>1.000000e+10</td>\n",
       "      <td>0.065415</td>\n",
       "      <td>-94.42925</td>\n",
       "      <td>2022-01-20T16:03:06.986Z</td>\n",
       "      <td>0.002726</td>\n",
       "      <td>33.69409</td>\n",
       "      <td>2022-05-14T13:24:01.987Z</td>\n",
       "      <td>None</td>\n",
       "      <td>2022-05-31T10:34:46.072Z</td>\n",
       "    </tr>\n",
       "    <tr>\n",
       "      <th>1614</th>\n",
       "      <td>yeti-finance</td>\n",
       "      <td>yeti</td>\n",
       "      <td>Yeti Finance</td>\n",
       "      <td>https://assets.coingecko.com/coins/images/2502...</td>\n",
       "      <td>0.099129</td>\n",
       "      <td>2280652</td>\n",
       "      <td>1615</td>\n",
       "      <td>4.954350e+07</td>\n",
       "      <td>2.504180e+05</td>\n",
       "      <td>0.110705</td>\n",
       "      <td>...</td>\n",
       "      <td>5.000000e+08</td>\n",
       "      <td>5.000000e+08</td>\n",
       "      <td>2.060000</td>\n",
       "      <td>-95.19386</td>\n",
       "      <td>2022-04-19T18:03:51.588Z</td>\n",
       "      <td>0.079733</td>\n",
       "      <td>24.15377</td>\n",
       "      <td>2022-05-27T02:52:37.310Z</td>\n",
       "      <td>None</td>\n",
       "      <td>2022-05-31T10:35:49.884Z</td>\n",
       "    </tr>\n",
       "    <tr>\n",
       "      <th>1624</th>\n",
       "      <td>dragon-crypto-aurum</td>\n",
       "      <td>dcau</td>\n",
       "      <td>Dragon Crypto Aurum</td>\n",
       "      <td>https://assets.coingecko.com/coins/images/2022...</td>\n",
       "      <td>14.740000</td>\n",
       "      <td>2252077</td>\n",
       "      <td>1625</td>\n",
       "      <td>2.281661e+06</td>\n",
       "      <td>3.120900e+04</td>\n",
       "      <td>15.190000</td>\n",
       "      <td>...</td>\n",
       "      <td>1.541299e+05</td>\n",
       "      <td>1.550000e+05</td>\n",
       "      <td>177.500000</td>\n",
       "      <td>-91.72885</td>\n",
       "      <td>2022-01-20T15:14:01.507Z</td>\n",
       "      <td>3.200000</td>\n",
       "      <td>359.03455</td>\n",
       "      <td>2021-11-12T03:59:32.529Z</td>\n",
       "      <td>None</td>\n",
       "      <td>2022-05-31T10:35:47.336Z</td>\n",
       "    </tr>\n",
       "    <tr>\n",
       "      <th>1687</th>\n",
       "      <td>kalao</td>\n",
       "      <td>klo</td>\n",
       "      <td>Kalao</td>\n",
       "      <td>https://assets.coingecko.com/coins/images/1864...</td>\n",
       "      <td>0.046406</td>\n",
       "      <td>2004627</td>\n",
       "      <td>1688</td>\n",
       "      <td>2.309420e+07</td>\n",
       "      <td>3.222290e+05</td>\n",
       "      <td>0.048281</td>\n",
       "      <td>...</td>\n",
       "      <td>5.000000e+08</td>\n",
       "      <td>5.000000e+08</td>\n",
       "      <td>1.840000</td>\n",
       "      <td>-97.48006</td>\n",
       "      <td>2021-11-03T18:58:12.199Z</td>\n",
       "      <td>0.036643</td>\n",
       "      <td>26.49155</td>\n",
       "      <td>2022-05-12T13:51:30.604Z</td>\n",
       "      <td>None</td>\n",
       "      <td>2022-05-31T10:35:44.739Z</td>\n",
       "    </tr>\n",
       "    <tr>\n",
       "      <th>1718</th>\n",
       "      <td>roco-finance</td>\n",
       "      <td>roco</td>\n",
       "      <td>Roco Finance</td>\n",
       "      <td>https://assets.coingecko.com/coins/images/1923...</td>\n",
       "      <td>0.121334</td>\n",
       "      <td>1881263</td>\n",
       "      <td>1719</td>\n",
       "      <td>1.212709e+07</td>\n",
       "      <td>3.328360e+05</td>\n",
       "      <td>0.128537</td>\n",
       "      <td>...</td>\n",
       "      <td>9.998273e+07</td>\n",
       "      <td>1.000000e+08</td>\n",
       "      <td>6.320000</td>\n",
       "      <td>-98.08601</td>\n",
       "      <td>2021-10-26T00:33:06.247Z</td>\n",
       "      <td>0.077814</td>\n",
       "      <td>55.51005</td>\n",
       "      <td>2022-05-12T07:19:50.600Z</td>\n",
       "      <td>None</td>\n",
       "      <td>2022-05-31T10:35:48.566Z</td>\n",
       "    </tr>\n",
       "  </tbody>\n",
       "</table>\n",
       "<p>27 rows × 26 columns</p>\n",
       "</div>"
      ],
      "text/plain": [
       "                            id  symbol                      name  \\\n",
       "14                 avalanche-2    avax                 Avalanche   \n",
       "242            yusd-stablecoin    yusd           YUSD Stablecoin   \n",
       "304                        joe     joe                       JOE   \n",
       "330   benqi-liquid-staked-avax   savax  BENQI Liquid Staked AVAX   \n",
       "411             step-app-fitfi   fitfi                  Step App   \n",
       "472                 wonderland    time                Wonderland   \n",
       "545                   snowbank      sb                  Snowbank   \n",
       "563                      benqi      qi                     BENQI   \n",
       "680                  avalaunch    xava                 Avalaunch   \n",
       "910           platypus-finance     ptp          Platypus Finance   \n",
       "923               swapxi-token  swapxi                    SwapXI   \n",
       "955                   spiceusd    usds                  SpiceUSD   \n",
       "969                 magnet-dao     mag                Magnet DAO   \n",
       "1042                   crabada     cra                   Crabada   \n",
       "1066            vector-finance     vtx            Vector Finance   \n",
       "1123                  pangolin     png                  Pangolin   \n",
       "1218   inflation-adjusted-usds   iusds   Inflation Adjusted USDS   \n",
       "1314                digits-dao  digits                Digits DAO   \n",
       "1445               elk-finance     elk               Elk Finance   \n",
       "1450                 yield-yak     yak                 Yield Yak   \n",
       "1554                 maximizer    maxi                 Maximizer   \n",
       "1575           arable-protocol    acre           Arable Protocol   \n",
       "1587          imperium-empires     ime          Imperium Empires   \n",
       "1614              yeti-finance    yeti              Yeti Finance   \n",
       "1624       dragon-crypto-aurum    dcau       Dragon Crypto Aurum   \n",
       "1687                     kalao     klo                     Kalao   \n",
       "1718              roco-finance    roco              Roco Finance   \n",
       "\n",
       "                                                  image  current_price  \\\n",
       "14    https://assets.coingecko.com/coins/images/1255...      26.910000   \n",
       "242   https://assets.coingecko.com/coins/images/2502...       0.995103   \n",
       "304   https://assets.coingecko.com/coins/images/1756...       0.357717   \n",
       "330   https://assets.coingecko.com/coins/images/2365...      27.250000   \n",
       "411   https://assets.coingecko.com/coins/images/2501...       0.140605   \n",
       "472   https://assets.coingecko.com/coins/images/1812...      50.040000   \n",
       "545   https://assets.coingecko.com/coins/images/1994...     220.240000   \n",
       "563   https://assets.coingecko.com/coins/images/1636...       0.014980   \n",
       "680   https://assets.coingecko.com/coins/images/1546...       0.904038   \n",
       "910   https://assets.coingecko.com/coins/images/2172...       0.294733   \n",
       "923   https://assets.coingecko.com/coins/images/2356...       0.492828   \n",
       "955   https://assets.coingecko.com/coins/images/2569...       0.997202   \n",
       "969   https://assets.coingecko.com/coins/images/2223...       0.429053   \n",
       "1042  https://assets.coingecko.com/coins/images/2001...       0.062328   \n",
       "1066  https://assets.coingecko.com/coins/images/2400...       0.378758   \n",
       "1123  https://assets.coingecko.com/coins/images/1402...       0.060206   \n",
       "1218  https://assets.coingecko.com/coins/images/2569...       1.041000   \n",
       "1314  https://assets.coingecko.com/coins/images/2355...       0.004092   \n",
       "1445  https://assets.coingecko.com/coins/images/1781...       0.478286   \n",
       "1450  https://assets.coingecko.com/coins/images/1765...     346.080000   \n",
       "1554  https://assets.coingecko.com/coins/images/2092...       4.390000   \n",
       "1575  https://assets.coingecko.com/coins/images/2365...       0.018880   \n",
       "1587  https://assets.coingecko.com/coins/images/2193...       0.003656   \n",
       "1614  https://assets.coingecko.com/coins/images/2502...       0.099129   \n",
       "1624  https://assets.coingecko.com/coins/images/2022...      14.740000   \n",
       "1687  https://assets.coingecko.com/coins/images/1864...       0.046406   \n",
       "1718  https://assets.coingecko.com/coins/images/1923...       0.121334   \n",
       "\n",
       "      market_cap  market_cap_rank  fully_diluted_valuation  total_volume  \\\n",
       "14    7310362250               15             1.939465e+10  9.585964e+08   \n",
       "242    131973451              243                      NaN  1.059603e+06   \n",
       "304     97562173              305             1.790379e+08  6.483083e+06   \n",
       "330     83547089              331                      NaN  3.269280e+05   \n",
       "411     57698071              412             7.036350e+08  5.463075e+07   \n",
       "472     45365042              473             4.821136e+07  2.098220e+05   \n",
       "545     35114214              546                      NaN  5.042700e+03   \n",
       "563     32907354              564             1.076677e+08  4.878122e+06   \n",
       "680     22467804              681             9.017452e+07  1.688720e+06   \n",
       "910     10624087              911             8.834757e+07  1.705690e+05   \n",
       "923     10349379              924                      NaN  8.358000e+01   \n",
       "955      9585727              956                      NaN  1.443460e+05   \n",
       "969      9039974              970             4.290935e+13  3.030700e+04   \n",
       "1042     7465109             1043             6.221782e+07  2.815210e+05   \n",
       "1066     7147408             1067             3.786897e+07  7.572270e+05   \n",
       "1123     6116850             1124             3.239066e+07  6.574250e+05   \n",
       "1218     5011375             1219                      NaN  5.555600e+04   \n",
       "1314     4091589             1315             4.091589e+06  7.202680e+03   \n",
       "1445     3132864             1446                      NaN  1.246840e+05   \n",
       "1450     3109903             1451             3.460046e+06  7.916300e+04   \n",
       "1554     2523511             1555                      NaN  1.109491e+04   \n",
       "1575     2421023             1576             1.887844e+07  2.996210e+03   \n",
       "1587     2365843             1588             3.650636e+07  5.044700e+04   \n",
       "1614     2280652             1615             4.954350e+07  2.504180e+05   \n",
       "1624     2252077             1625             2.281661e+06  3.120900e+04   \n",
       "1687     2004627             1688             2.309420e+07  3.222290e+05   \n",
       "1718     1881263             1719             1.212709e+07  3.328360e+05   \n",
       "\n",
       "        high_24h  ...  total_supply    max_supply           ath  \\\n",
       "14     28.890000  ...  4.048230e+08  7.200000e+08    144.960000   \n",
       "242     0.999958  ...  1.326117e+08           NaN      1.025000   \n",
       "304     0.381958  ...  3.665385e+08  5.000000e+08      5.090000   \n",
       "330    29.170000  ...  3.069319e+06           NaN    103.550000   \n",
       "411     0.153330  ...  5.000000e+09  5.000000e+09      0.731881   \n",
       "472    55.800000  ...  1.216453e+07  9.567396e+05  10063.720000   \n",
       "545   225.470000  ...  1.596400e+05           NaN   8356.800000   \n",
       "563     0.015734  ...  7.200000e+09  7.200000e+09      0.394170   \n",
       "680     0.963063  ...  1.000000e+08  1.000000e+08     20.090000   \n",
       "910     0.321236  ...  3.000000e+08  3.000000e+08     16.690000   \n",
       "923     0.494245  ...  2.100000e+07           NaN      1.560000   \n",
       "955     1.025000  ...  1.432535e+07           NaN      1.053000   \n",
       "969     0.438696  ...  1.309491e+07  1.000000e+14      3.400000   \n",
       "1042    0.070301  ...  1.000000e+09  1.000000e+09      2.960000   \n",
       "1066    0.432032  ...  1.887405e+07  1.000000e+08      1.600000   \n",
       "1123    0.062965  ...  5.380000e+08  5.380000e+08     18.850000   \n",
       "1218    1.060000  ...  6.185850e+06           NaN      1.110000   \n",
       "1314    0.004100  ...  1.000000e+09  1.000000e+09      0.014996   \n",
       "1445    0.498759  ...  4.242424e+07           NaN      6.030000   \n",
       "1450  449.410000  ...  1.000000e+04  1.000000e+04  16319.340000   \n",
       "1554    4.490000  ...  7.968600e+04           NaN    972.970000   \n",
       "1575    0.020304  ...  1.000000e+09  1.000000e+09      0.501675   \n",
       "1587    0.003932  ...  1.000000e+10  1.000000e+10      0.065415   \n",
       "1614    0.110705  ...  5.000000e+08  5.000000e+08      2.060000   \n",
       "1624   15.190000  ...  1.541299e+05  1.550000e+05    177.500000   \n",
       "1687    0.048281  ...  5.000000e+08  5.000000e+08      1.840000   \n",
       "1718    0.128537  ...  9.998273e+07  1.000000e+08      6.320000   \n",
       "\n",
       "      ath_change_percentage                  ath_date         atl  \\\n",
       "14                -81.48437  2021-11-21T14:18:56.538Z    2.800000   \n",
       "242                -2.87376  2022-04-19T18:17:51.425Z    0.942459   \n",
       "304               -92.97671  2021-11-21T14:27:00.202Z    0.026588   \n",
       "330               -73.78981  2022-04-02T13:44:54.612Z   21.730000   \n",
       "411               -80.73425  2022-05-05T10:49:00.713Z    0.081387   \n",
       "472               -99.50015  2021-11-07T19:15:45.691Z   48.950000   \n",
       "545               -97.37463  2021-11-08T05:30:08.317Z  138.860000   \n",
       "563               -96.21677  2021-08-24T03:58:11.390Z    0.008900   \n",
       "680               -95.52361  2021-12-03T14:12:24.965Z    0.471748   \n",
       "910               -98.23990  2022-01-16T07:08:24.929Z    0.224090   \n",
       "923               -68.39063  2022-04-02T13:42:56.624Z    0.375674   \n",
       "955                -5.93504  2022-05-30T00:03:39.137Z    0.944010   \n",
       "969               -87.45657  2022-01-04T09:24:38.906Z    0.223085   \n",
       "1042              -97.89808  2021-11-22T17:18:31.018Z    0.057342   \n",
       "1066              -76.32907  2022-04-08T04:10:51.885Z    0.130832   \n",
       "1123              -99.68083  2021-02-19T15:34:15.118Z    0.049734   \n",
       "1218               -6.91975  2022-05-27T21:11:50.681Z    0.917776   \n",
       "1314              -72.77516  2022-04-20T05:33:11.257Z    0.003478   \n",
       "1445              -92.11516  2022-01-20T09:25:38.025Z    0.398954   \n",
       "1450              -97.88344  2021-09-23T05:14:43.476Z  327.870000   \n",
       "1554              -99.55211  2021-11-29T04:32:05.485Z    4.250000   \n",
       "1575              -96.22716  2022-02-21T07:36:56.402Z    0.017051   \n",
       "1587              -94.42925  2022-01-20T16:03:06.986Z    0.002726   \n",
       "1614              -95.19386  2022-04-19T18:03:51.588Z    0.079733   \n",
       "1624              -91.72885  2022-01-20T15:14:01.507Z    3.200000   \n",
       "1687              -97.48006  2021-11-03T18:58:12.199Z    0.036643   \n",
       "1718              -98.08601  2021-10-26T00:33:06.247Z    0.077814   \n",
       "\n",
       "      atl_change_percentage                  atl_date   roi  \\\n",
       "14                858.22440  2020-12-31T13:15:21.540Z  None   \n",
       "242                 5.58827  2022-05-11T12:54:22.300Z  None   \n",
       "304              1243.76436  2021-08-11T14:01:35.223Z  None   \n",
       "330                24.87437  2022-05-27T19:24:15.546Z  None   \n",
       "411                73.25000  2022-05-12T07:19:29.374Z  None   \n",
       "472                 2.76404  2022-05-31T09:44:40.055Z  None   \n",
       "545                57.99722  2022-01-23T06:18:28.046Z  None   \n",
       "563                67.55289  2022-05-12T07:26:36.407Z  None   \n",
       "680                90.60256  2021-07-21T05:06:03.647Z  None   \n",
       "910                31.10045  2022-05-27T09:25:08.321Z  None   \n",
       "923                31.18500  2022-05-27T11:07:22.930Z  None   \n",
       "955                 4.95251  2022-05-25T17:33:58.543Z  None   \n",
       "969                91.06977  2022-05-11T21:36:19.719Z  None   \n",
       "1042                8.45196  2022-05-27T10:52:38.465Z  None   \n",
       "1066              189.22954  2022-05-12T07:19:54.914Z  None   \n",
       "1123               20.96856  2022-05-12T07:25:31.232Z  None   \n",
       "1218               12.62885  2022-05-27T21:18:39.715Z  None   \n",
       "1314               17.37698  2022-02-22T17:13:40.836Z  None   \n",
       "1445               19.13088  2022-05-12T07:19:50.553Z  None   \n",
       "1450                5.35054  2022-05-12T16:16:14.771Z  None   \n",
       "1554                2.57991  2022-05-27T20:24:05.372Z  None   \n",
       "1575               11.00604  2022-05-27T19:33:32.334Z  None   \n",
       "1587               33.69409  2022-05-14T13:24:01.987Z  None   \n",
       "1614               24.15377  2022-05-27T02:52:37.310Z  None   \n",
       "1624              359.03455  2021-11-12T03:59:32.529Z  None   \n",
       "1687               26.49155  2022-05-12T13:51:30.604Z  None   \n",
       "1718               55.51005  2022-05-12T07:19:50.600Z  None   \n",
       "\n",
       "                  last_updated  \n",
       "14    2022-05-31T10:35:35.201Z  \n",
       "242   2022-05-31T10:35:50.115Z  \n",
       "304   2022-05-31T10:36:51.348Z  \n",
       "330   2022-05-31T10:34:51.620Z  \n",
       "411   2022-05-31T10:36:13.152Z  \n",
       "472   2022-05-31T10:34:51.041Z  \n",
       "545   2022-05-31T10:35:48.468Z  \n",
       "563   2022-05-31T10:37:06.593Z  \n",
       "680   2022-05-31T10:37:05.428Z  \n",
       "910   2022-05-31T10:34:56.052Z  \n",
       "923   2022-05-31T02:53:20.998Z  \n",
       "955   2022-05-31T10:36:18.184Z  \n",
       "969   2022-05-31T10:35:49.281Z  \n",
       "1042  2022-05-31T10:35:46.212Z  \n",
       "1066  2022-05-31T10:35:50.818Z  \n",
       "1123  2022-05-31T10:37:05.746Z  \n",
       "1218  2022-05-31T10:34:14.429Z  \n",
       "1314  2022-05-31T10:31:12.803Z  \n",
       "1445  2022-05-31T10:35:48.183Z  \n",
       "1450  2022-05-31T10:34:45.349Z  \n",
       "1554  2022-05-31T10:35:49.327Z  \n",
       "1575  2022-05-31T10:33:46.058Z  \n",
       "1587  2022-05-31T10:34:46.072Z  \n",
       "1614  2022-05-31T10:35:49.884Z  \n",
       "1624  2022-05-31T10:35:47.336Z  \n",
       "1687  2022-05-31T10:35:44.739Z  \n",
       "1718  2022-05-31T10:35:48.566Z  \n",
       "\n",
       "[27 rows x 26 columns]"
      ]
     },
     "execution_count": 13,
     "metadata": {},
     "output_type": "execute_result"
    }
   ],
   "source": [
    "avalanche_tokens_data"
   ]
  },
  {
   "cell_type": "markdown",
   "id": "e2cdeba5-92e2-4b12-b85c-6328f257cb2d",
   "metadata": {
    "tags": []
   },
   "source": [
    "### Retrieving marketcaps and prices"
   ]
  },
  {
   "cell_type": "code",
   "execution_count": 14,
   "id": "88ee9ff4-ef89-4eae-9944-9e0a61d1b2cb",
   "metadata": {},
   "outputs": [
    {
     "name": "stdout",
     "output_type": "stream",
     "text": [
      "Excluding YUSD, prices data available only for 45 < 180 days\n",
      "Excluding SAVAX, prices data available only for 102 < 180 days\n",
      "Excluding FITFI, prices data available only for 36 < 180 days\n",
      "Excluding PTP, prices data available only for 163 < 180 days\n",
      "Excluding SWAPXI, prices data available only for 100 < 180 days\n",
      "Excluding USDS, prices data available only for 7 < 180 days\n",
      "Excluding MAG, prices data available only for 148 < 180 days\n",
      "Excluding VTX, prices data available only for 93 < 180 days\n",
      "Excluding IUSDS, prices data available only for 7 < 180 days\n",
      "Excluding DIGITS, prices data available only for 111 < 180 days\n",
      "Note: YAK, marketcap data available only for 179 < 180 days\n",
      "Note: MAXI, marketcap data available only for 168 < 180 days\n",
      "Excluding ACRE, prices data available only for 105 < 180 days\n",
      "Excluding IME, prices data available only for 160 < 180 days\n",
      "Excluding YETI, prices data available only for 45 < 180 days\n",
      "Note: DCAU, marketcap data available only for 55 < 180 days\n",
      "Note: ROCO, marketcap data available only for 62 < 180 days\n"
     ]
    }
   ],
   "source": [
    "prices_data = pd.DataFrame()\n",
    "marketcaps = pd.DataFrame() \n",
    "for index, data in avalanche_tokens_data[['id', 'symbol']].iterrows():\n",
    "    id_ = data['id']\n",
    "    symbol = data['symbol'].upper()\n",
    "    data = cg.get_coin_market_chart_by_id(id_, vs_currency='USD', days='max')\n",
    "    \n",
    "    df = pd.DataFrame(data['prices'], columns=['date', symbol])\n",
    "    df = df[df[symbol] > 0]\n",
    "    df['date'] = pd.to_datetime(df['date'], unit='ms').dt.date\n",
    "    df['date'] = pd.to_datetime(df['date'])\n",
    "    df = df.set_index('date', drop=True)\n",
    "    df = df.loc[~df.index.duplicated(keep='first')]\n",
    "    \n",
    "    if len(df) < 180:\n",
    "        print(f'Excluding {symbol}, prices data available only for {len(df)} < 180 days')\n",
    "        continue\n",
    "    prices_data = pd.concat([prices_data, df], axis=1)\n",
    "    \n",
    "    df = pd.DataFrame(data['market_caps'], columns=['date', symbol])\n",
    "    df = df[df[symbol] > 0]\n",
    "    df['date'] = pd.to_datetime(df['date'], unit='ms').dt.date\n",
    "    df['date'] = pd.to_datetime(df['date'])\n",
    "    df = df.set_index('date', drop=True)\n",
    "    df = df.loc[~df.index.duplicated(keep='first')]\n",
    "    \n",
    "    if len(df) < 180:\n",
    "        print(f'Note: {symbol}, marketcap data available only for {len(df)} < 180 days')\n",
    "        ## continue\n",
    "    marketcaps = pd.concat([marketcaps, df], axis=1)\n",
    "    \n",
    "    "
   ]
  },
  {
   "cell_type": "code",
   "execution_count": 15,
   "id": "7c5c48ba-25f4-4023-bb9e-58970ab34d07",
   "metadata": {},
   "outputs": [],
   "source": [
    "avalanche_tokens_data = avalanche_tokens_data[avalanche_tokens_data['symbol'].isin(list(map(str.lower, marketcaps.columns)))]"
   ]
  },
  {
   "cell_type": "code",
   "execution_count": 16,
   "id": "dc9430b1-5729-4220-b3e9-90a96d962b12",
   "metadata": {},
   "outputs": [
    {
     "data": {
      "text/html": [
       "<div>\n",
       "<style scoped>\n",
       "    .dataframe tbody tr th:only-of-type {\n",
       "        vertical-align: middle;\n",
       "    }\n",
       "\n",
       "    .dataframe tbody tr th {\n",
       "        vertical-align: top;\n",
       "    }\n",
       "\n",
       "    .dataframe thead th {\n",
       "        text-align: right;\n",
       "    }\n",
       "</style>\n",
       "<table border=\"1\" class=\"dataframe\">\n",
       "  <thead>\n",
       "    <tr style=\"text-align: right;\">\n",
       "      <th></th>\n",
       "      <th>id</th>\n",
       "      <th>symbol</th>\n",
       "      <th>name</th>\n",
       "      <th>image</th>\n",
       "      <th>current_price</th>\n",
       "      <th>market_cap</th>\n",
       "      <th>market_cap_rank</th>\n",
       "      <th>fully_diluted_valuation</th>\n",
       "      <th>total_volume</th>\n",
       "      <th>high_24h</th>\n",
       "      <th>...</th>\n",
       "      <th>total_supply</th>\n",
       "      <th>max_supply</th>\n",
       "      <th>ath</th>\n",
       "      <th>ath_change_percentage</th>\n",
       "      <th>ath_date</th>\n",
       "      <th>atl</th>\n",
       "      <th>atl_change_percentage</th>\n",
       "      <th>atl_date</th>\n",
       "      <th>roi</th>\n",
       "      <th>last_updated</th>\n",
       "    </tr>\n",
       "  </thead>\n",
       "  <tbody>\n",
       "    <tr>\n",
       "      <th>14</th>\n",
       "      <td>avalanche-2</td>\n",
       "      <td>avax</td>\n",
       "      <td>Avalanche</td>\n",
       "      <td>https://assets.coingecko.com/coins/images/1255...</td>\n",
       "      <td>26.910000</td>\n",
       "      <td>7310362250</td>\n",
       "      <td>15</td>\n",
       "      <td>1.939465e+10</td>\n",
       "      <td>9.585964e+08</td>\n",
       "      <td>28.890000</td>\n",
       "      <td>...</td>\n",
       "      <td>4.048230e+08</td>\n",
       "      <td>7.200000e+08</td>\n",
       "      <td>144.96000</td>\n",
       "      <td>-81.48437</td>\n",
       "      <td>2021-11-21T14:18:56.538Z</td>\n",
       "      <td>2.800000</td>\n",
       "      <td>858.22440</td>\n",
       "      <td>2020-12-31T13:15:21.540Z</td>\n",
       "      <td>None</td>\n",
       "      <td>2022-05-31T10:35:35.201Z</td>\n",
       "    </tr>\n",
       "    <tr>\n",
       "      <th>304</th>\n",
       "      <td>joe</td>\n",
       "      <td>joe</td>\n",
       "      <td>JOE</td>\n",
       "      <td>https://assets.coingecko.com/coins/images/1756...</td>\n",
       "      <td>0.357717</td>\n",
       "      <td>97562173</td>\n",
       "      <td>305</td>\n",
       "      <td>1.790379e+08</td>\n",
       "      <td>6.483083e+06</td>\n",
       "      <td>0.381958</td>\n",
       "      <td>...</td>\n",
       "      <td>3.665385e+08</td>\n",
       "      <td>5.000000e+08</td>\n",
       "      <td>5.09000</td>\n",
       "      <td>-92.97671</td>\n",
       "      <td>2021-11-21T14:27:00.202Z</td>\n",
       "      <td>0.026588</td>\n",
       "      <td>1243.76436</td>\n",
       "      <td>2021-08-11T14:01:35.223Z</td>\n",
       "      <td>None</td>\n",
       "      <td>2022-05-31T10:36:51.348Z</td>\n",
       "    </tr>\n",
       "    <tr>\n",
       "      <th>472</th>\n",
       "      <td>wonderland</td>\n",
       "      <td>time</td>\n",
       "      <td>Wonderland</td>\n",
       "      <td>https://assets.coingecko.com/coins/images/1812...</td>\n",
       "      <td>50.040000</td>\n",
       "      <td>45365042</td>\n",
       "      <td>473</td>\n",
       "      <td>4.821136e+07</td>\n",
       "      <td>2.098220e+05</td>\n",
       "      <td>55.800000</td>\n",
       "      <td>...</td>\n",
       "      <td>1.216453e+07</td>\n",
       "      <td>9.567396e+05</td>\n",
       "      <td>10063.72000</td>\n",
       "      <td>-99.50015</td>\n",
       "      <td>2021-11-07T19:15:45.691Z</td>\n",
       "      <td>48.950000</td>\n",
       "      <td>2.76404</td>\n",
       "      <td>2022-05-31T09:44:40.055Z</td>\n",
       "      <td>None</td>\n",
       "      <td>2022-05-31T10:34:51.041Z</td>\n",
       "    </tr>\n",
       "    <tr>\n",
       "      <th>545</th>\n",
       "      <td>snowbank</td>\n",
       "      <td>sb</td>\n",
       "      <td>Snowbank</td>\n",
       "      <td>https://assets.coingecko.com/coins/images/1994...</td>\n",
       "      <td>220.240000</td>\n",
       "      <td>35114214</td>\n",
       "      <td>546</td>\n",
       "      <td>NaN</td>\n",
       "      <td>5.042700e+03</td>\n",
       "      <td>225.470000</td>\n",
       "      <td>...</td>\n",
       "      <td>1.596400e+05</td>\n",
       "      <td>NaN</td>\n",
       "      <td>8356.80000</td>\n",
       "      <td>-97.37463</td>\n",
       "      <td>2021-11-08T05:30:08.317Z</td>\n",
       "      <td>138.860000</td>\n",
       "      <td>57.99722</td>\n",
       "      <td>2022-01-23T06:18:28.046Z</td>\n",
       "      <td>None</td>\n",
       "      <td>2022-05-31T10:35:48.468Z</td>\n",
       "    </tr>\n",
       "    <tr>\n",
       "      <th>563</th>\n",
       "      <td>benqi</td>\n",
       "      <td>qi</td>\n",
       "      <td>BENQI</td>\n",
       "      <td>https://assets.coingecko.com/coins/images/1636...</td>\n",
       "      <td>0.014980</td>\n",
       "      <td>32907354</td>\n",
       "      <td>564</td>\n",
       "      <td>1.076677e+08</td>\n",
       "      <td>4.878122e+06</td>\n",
       "      <td>0.015734</td>\n",
       "      <td>...</td>\n",
       "      <td>7.200000e+09</td>\n",
       "      <td>7.200000e+09</td>\n",
       "      <td>0.39417</td>\n",
       "      <td>-96.21677</td>\n",
       "      <td>2021-08-24T03:58:11.390Z</td>\n",
       "      <td>0.008900</td>\n",
       "      <td>67.55289</td>\n",
       "      <td>2022-05-12T07:26:36.407Z</td>\n",
       "      <td>None</td>\n",
       "      <td>2022-05-31T10:37:06.593Z</td>\n",
       "    </tr>\n",
       "    <tr>\n",
       "      <th>680</th>\n",
       "      <td>avalaunch</td>\n",
       "      <td>xava</td>\n",
       "      <td>Avalaunch</td>\n",
       "      <td>https://assets.coingecko.com/coins/images/1546...</td>\n",
       "      <td>0.904038</td>\n",
       "      <td>22467804</td>\n",
       "      <td>681</td>\n",
       "      <td>9.017452e+07</td>\n",
       "      <td>1.688720e+06</td>\n",
       "      <td>0.963063</td>\n",
       "      <td>...</td>\n",
       "      <td>1.000000e+08</td>\n",
       "      <td>1.000000e+08</td>\n",
       "      <td>20.09000</td>\n",
       "      <td>-95.52361</td>\n",
       "      <td>2021-12-03T14:12:24.965Z</td>\n",
       "      <td>0.471748</td>\n",
       "      <td>90.60256</td>\n",
       "      <td>2021-07-21T05:06:03.647Z</td>\n",
       "      <td>None</td>\n",
       "      <td>2022-05-31T10:37:05.428Z</td>\n",
       "    </tr>\n",
       "    <tr>\n",
       "      <th>1042</th>\n",
       "      <td>crabada</td>\n",
       "      <td>cra</td>\n",
       "      <td>Crabada</td>\n",
       "      <td>https://assets.coingecko.com/coins/images/2001...</td>\n",
       "      <td>0.062328</td>\n",
       "      <td>7465109</td>\n",
       "      <td>1043</td>\n",
       "      <td>6.221782e+07</td>\n",
       "      <td>2.815210e+05</td>\n",
       "      <td>0.070301</td>\n",
       "      <td>...</td>\n",
       "      <td>1.000000e+09</td>\n",
       "      <td>1.000000e+09</td>\n",
       "      <td>2.96000</td>\n",
       "      <td>-97.89808</td>\n",
       "      <td>2021-11-22T17:18:31.018Z</td>\n",
       "      <td>0.057342</td>\n",
       "      <td>8.45196</td>\n",
       "      <td>2022-05-27T10:52:38.465Z</td>\n",
       "      <td>None</td>\n",
       "      <td>2022-05-31T10:35:46.212Z</td>\n",
       "    </tr>\n",
       "    <tr>\n",
       "      <th>1123</th>\n",
       "      <td>pangolin</td>\n",
       "      <td>png</td>\n",
       "      <td>Pangolin</td>\n",
       "      <td>https://assets.coingecko.com/coins/images/1402...</td>\n",
       "      <td>0.060206</td>\n",
       "      <td>6116850</td>\n",
       "      <td>1124</td>\n",
       "      <td>3.239066e+07</td>\n",
       "      <td>6.574250e+05</td>\n",
       "      <td>0.062965</td>\n",
       "      <td>...</td>\n",
       "      <td>5.380000e+08</td>\n",
       "      <td>5.380000e+08</td>\n",
       "      <td>18.85000</td>\n",
       "      <td>-99.68083</td>\n",
       "      <td>2021-02-19T15:34:15.118Z</td>\n",
       "      <td>0.049734</td>\n",
       "      <td>20.96856</td>\n",
       "      <td>2022-05-12T07:25:31.232Z</td>\n",
       "      <td>None</td>\n",
       "      <td>2022-05-31T10:37:05.746Z</td>\n",
       "    </tr>\n",
       "    <tr>\n",
       "      <th>1445</th>\n",
       "      <td>elk-finance</td>\n",
       "      <td>elk</td>\n",
       "      <td>Elk Finance</td>\n",
       "      <td>https://assets.coingecko.com/coins/images/1781...</td>\n",
       "      <td>0.478286</td>\n",
       "      <td>3132864</td>\n",
       "      <td>1446</td>\n",
       "      <td>NaN</td>\n",
       "      <td>1.246840e+05</td>\n",
       "      <td>0.498759</td>\n",
       "      <td>...</td>\n",
       "      <td>4.242424e+07</td>\n",
       "      <td>NaN</td>\n",
       "      <td>6.03000</td>\n",
       "      <td>-92.11516</td>\n",
       "      <td>2022-01-20T09:25:38.025Z</td>\n",
       "      <td>0.398954</td>\n",
       "      <td>19.13088</td>\n",
       "      <td>2022-05-12T07:19:50.553Z</td>\n",
       "      <td>None</td>\n",
       "      <td>2022-05-31T10:35:48.183Z</td>\n",
       "    </tr>\n",
       "    <tr>\n",
       "      <th>1450</th>\n",
       "      <td>yield-yak</td>\n",
       "      <td>yak</td>\n",
       "      <td>Yield Yak</td>\n",
       "      <td>https://assets.coingecko.com/coins/images/1765...</td>\n",
       "      <td>346.080000</td>\n",
       "      <td>3109903</td>\n",
       "      <td>1451</td>\n",
       "      <td>3.460046e+06</td>\n",
       "      <td>7.916300e+04</td>\n",
       "      <td>449.410000</td>\n",
       "      <td>...</td>\n",
       "      <td>1.000000e+04</td>\n",
       "      <td>1.000000e+04</td>\n",
       "      <td>16319.34000</td>\n",
       "      <td>-97.88344</td>\n",
       "      <td>2021-09-23T05:14:43.476Z</td>\n",
       "      <td>327.870000</td>\n",
       "      <td>5.35054</td>\n",
       "      <td>2022-05-12T16:16:14.771Z</td>\n",
       "      <td>None</td>\n",
       "      <td>2022-05-31T10:34:45.349Z</td>\n",
       "    </tr>\n",
       "    <tr>\n",
       "      <th>1554</th>\n",
       "      <td>maximizer</td>\n",
       "      <td>maxi</td>\n",
       "      <td>Maximizer</td>\n",
       "      <td>https://assets.coingecko.com/coins/images/2092...</td>\n",
       "      <td>4.390000</td>\n",
       "      <td>2523511</td>\n",
       "      <td>1555</td>\n",
       "      <td>NaN</td>\n",
       "      <td>1.109491e+04</td>\n",
       "      <td>4.490000</td>\n",
       "      <td>...</td>\n",
       "      <td>7.968600e+04</td>\n",
       "      <td>NaN</td>\n",
       "      <td>972.97000</td>\n",
       "      <td>-99.55211</td>\n",
       "      <td>2021-11-29T04:32:05.485Z</td>\n",
       "      <td>4.250000</td>\n",
       "      <td>2.57991</td>\n",
       "      <td>2022-05-27T20:24:05.372Z</td>\n",
       "      <td>None</td>\n",
       "      <td>2022-05-31T10:35:49.327Z</td>\n",
       "    </tr>\n",
       "    <tr>\n",
       "      <th>1624</th>\n",
       "      <td>dragon-crypto-aurum</td>\n",
       "      <td>dcau</td>\n",
       "      <td>Dragon Crypto Aurum</td>\n",
       "      <td>https://assets.coingecko.com/coins/images/2022...</td>\n",
       "      <td>14.740000</td>\n",
       "      <td>2252077</td>\n",
       "      <td>1625</td>\n",
       "      <td>2.281661e+06</td>\n",
       "      <td>3.120900e+04</td>\n",
       "      <td>15.190000</td>\n",
       "      <td>...</td>\n",
       "      <td>1.541299e+05</td>\n",
       "      <td>1.550000e+05</td>\n",
       "      <td>177.50000</td>\n",
       "      <td>-91.72885</td>\n",
       "      <td>2022-01-20T15:14:01.507Z</td>\n",
       "      <td>3.200000</td>\n",
       "      <td>359.03455</td>\n",
       "      <td>2021-11-12T03:59:32.529Z</td>\n",
       "      <td>None</td>\n",
       "      <td>2022-05-31T10:35:47.336Z</td>\n",
       "    </tr>\n",
       "    <tr>\n",
       "      <th>1687</th>\n",
       "      <td>kalao</td>\n",
       "      <td>klo</td>\n",
       "      <td>Kalao</td>\n",
       "      <td>https://assets.coingecko.com/coins/images/1864...</td>\n",
       "      <td>0.046406</td>\n",
       "      <td>2004627</td>\n",
       "      <td>1688</td>\n",
       "      <td>2.309420e+07</td>\n",
       "      <td>3.222290e+05</td>\n",
       "      <td>0.048281</td>\n",
       "      <td>...</td>\n",
       "      <td>5.000000e+08</td>\n",
       "      <td>5.000000e+08</td>\n",
       "      <td>1.84000</td>\n",
       "      <td>-97.48006</td>\n",
       "      <td>2021-11-03T18:58:12.199Z</td>\n",
       "      <td>0.036643</td>\n",
       "      <td>26.49155</td>\n",
       "      <td>2022-05-12T13:51:30.604Z</td>\n",
       "      <td>None</td>\n",
       "      <td>2022-05-31T10:35:44.739Z</td>\n",
       "    </tr>\n",
       "    <tr>\n",
       "      <th>1718</th>\n",
       "      <td>roco-finance</td>\n",
       "      <td>roco</td>\n",
       "      <td>Roco Finance</td>\n",
       "      <td>https://assets.coingecko.com/coins/images/1923...</td>\n",
       "      <td>0.121334</td>\n",
       "      <td>1881263</td>\n",
       "      <td>1719</td>\n",
       "      <td>1.212709e+07</td>\n",
       "      <td>3.328360e+05</td>\n",
       "      <td>0.128537</td>\n",
       "      <td>...</td>\n",
       "      <td>9.998273e+07</td>\n",
       "      <td>1.000000e+08</td>\n",
       "      <td>6.32000</td>\n",
       "      <td>-98.08601</td>\n",
       "      <td>2021-10-26T00:33:06.247Z</td>\n",
       "      <td>0.077814</td>\n",
       "      <td>55.51005</td>\n",
       "      <td>2022-05-12T07:19:50.600Z</td>\n",
       "      <td>None</td>\n",
       "      <td>2022-05-31T10:35:48.566Z</td>\n",
       "    </tr>\n",
       "  </tbody>\n",
       "</table>\n",
       "<p>14 rows × 26 columns</p>\n",
       "</div>"
      ],
      "text/plain": [
       "                       id symbol                 name  \\\n",
       "14            avalanche-2   avax            Avalanche   \n",
       "304                   joe    joe                  JOE   \n",
       "472            wonderland   time           Wonderland   \n",
       "545              snowbank     sb             Snowbank   \n",
       "563                 benqi     qi                BENQI   \n",
       "680             avalaunch   xava            Avalaunch   \n",
       "1042              crabada    cra              Crabada   \n",
       "1123             pangolin    png             Pangolin   \n",
       "1445          elk-finance    elk          Elk Finance   \n",
       "1450            yield-yak    yak            Yield Yak   \n",
       "1554            maximizer   maxi            Maximizer   \n",
       "1624  dragon-crypto-aurum   dcau  Dragon Crypto Aurum   \n",
       "1687                kalao    klo                Kalao   \n",
       "1718         roco-finance   roco         Roco Finance   \n",
       "\n",
       "                                                  image  current_price  \\\n",
       "14    https://assets.coingecko.com/coins/images/1255...      26.910000   \n",
       "304   https://assets.coingecko.com/coins/images/1756...       0.357717   \n",
       "472   https://assets.coingecko.com/coins/images/1812...      50.040000   \n",
       "545   https://assets.coingecko.com/coins/images/1994...     220.240000   \n",
       "563   https://assets.coingecko.com/coins/images/1636...       0.014980   \n",
       "680   https://assets.coingecko.com/coins/images/1546...       0.904038   \n",
       "1042  https://assets.coingecko.com/coins/images/2001...       0.062328   \n",
       "1123  https://assets.coingecko.com/coins/images/1402...       0.060206   \n",
       "1445  https://assets.coingecko.com/coins/images/1781...       0.478286   \n",
       "1450  https://assets.coingecko.com/coins/images/1765...     346.080000   \n",
       "1554  https://assets.coingecko.com/coins/images/2092...       4.390000   \n",
       "1624  https://assets.coingecko.com/coins/images/2022...      14.740000   \n",
       "1687  https://assets.coingecko.com/coins/images/1864...       0.046406   \n",
       "1718  https://assets.coingecko.com/coins/images/1923...       0.121334   \n",
       "\n",
       "      market_cap  market_cap_rank  fully_diluted_valuation  total_volume  \\\n",
       "14    7310362250               15             1.939465e+10  9.585964e+08   \n",
       "304     97562173              305             1.790379e+08  6.483083e+06   \n",
       "472     45365042              473             4.821136e+07  2.098220e+05   \n",
       "545     35114214              546                      NaN  5.042700e+03   \n",
       "563     32907354              564             1.076677e+08  4.878122e+06   \n",
       "680     22467804              681             9.017452e+07  1.688720e+06   \n",
       "1042     7465109             1043             6.221782e+07  2.815210e+05   \n",
       "1123     6116850             1124             3.239066e+07  6.574250e+05   \n",
       "1445     3132864             1446                      NaN  1.246840e+05   \n",
       "1450     3109903             1451             3.460046e+06  7.916300e+04   \n",
       "1554     2523511             1555                      NaN  1.109491e+04   \n",
       "1624     2252077             1625             2.281661e+06  3.120900e+04   \n",
       "1687     2004627             1688             2.309420e+07  3.222290e+05   \n",
       "1718     1881263             1719             1.212709e+07  3.328360e+05   \n",
       "\n",
       "        high_24h  ...  total_supply    max_supply          ath  \\\n",
       "14     28.890000  ...  4.048230e+08  7.200000e+08    144.96000   \n",
       "304     0.381958  ...  3.665385e+08  5.000000e+08      5.09000   \n",
       "472    55.800000  ...  1.216453e+07  9.567396e+05  10063.72000   \n",
       "545   225.470000  ...  1.596400e+05           NaN   8356.80000   \n",
       "563     0.015734  ...  7.200000e+09  7.200000e+09      0.39417   \n",
       "680     0.963063  ...  1.000000e+08  1.000000e+08     20.09000   \n",
       "1042    0.070301  ...  1.000000e+09  1.000000e+09      2.96000   \n",
       "1123    0.062965  ...  5.380000e+08  5.380000e+08     18.85000   \n",
       "1445    0.498759  ...  4.242424e+07           NaN      6.03000   \n",
       "1450  449.410000  ...  1.000000e+04  1.000000e+04  16319.34000   \n",
       "1554    4.490000  ...  7.968600e+04           NaN    972.97000   \n",
       "1624   15.190000  ...  1.541299e+05  1.550000e+05    177.50000   \n",
       "1687    0.048281  ...  5.000000e+08  5.000000e+08      1.84000   \n",
       "1718    0.128537  ...  9.998273e+07  1.000000e+08      6.32000   \n",
       "\n",
       "      ath_change_percentage                  ath_date         atl  \\\n",
       "14                -81.48437  2021-11-21T14:18:56.538Z    2.800000   \n",
       "304               -92.97671  2021-11-21T14:27:00.202Z    0.026588   \n",
       "472               -99.50015  2021-11-07T19:15:45.691Z   48.950000   \n",
       "545               -97.37463  2021-11-08T05:30:08.317Z  138.860000   \n",
       "563               -96.21677  2021-08-24T03:58:11.390Z    0.008900   \n",
       "680               -95.52361  2021-12-03T14:12:24.965Z    0.471748   \n",
       "1042              -97.89808  2021-11-22T17:18:31.018Z    0.057342   \n",
       "1123              -99.68083  2021-02-19T15:34:15.118Z    0.049734   \n",
       "1445              -92.11516  2022-01-20T09:25:38.025Z    0.398954   \n",
       "1450              -97.88344  2021-09-23T05:14:43.476Z  327.870000   \n",
       "1554              -99.55211  2021-11-29T04:32:05.485Z    4.250000   \n",
       "1624              -91.72885  2022-01-20T15:14:01.507Z    3.200000   \n",
       "1687              -97.48006  2021-11-03T18:58:12.199Z    0.036643   \n",
       "1718              -98.08601  2021-10-26T00:33:06.247Z    0.077814   \n",
       "\n",
       "      atl_change_percentage                  atl_date   roi  \\\n",
       "14                858.22440  2020-12-31T13:15:21.540Z  None   \n",
       "304              1243.76436  2021-08-11T14:01:35.223Z  None   \n",
       "472                 2.76404  2022-05-31T09:44:40.055Z  None   \n",
       "545                57.99722  2022-01-23T06:18:28.046Z  None   \n",
       "563                67.55289  2022-05-12T07:26:36.407Z  None   \n",
       "680                90.60256  2021-07-21T05:06:03.647Z  None   \n",
       "1042                8.45196  2022-05-27T10:52:38.465Z  None   \n",
       "1123               20.96856  2022-05-12T07:25:31.232Z  None   \n",
       "1445               19.13088  2022-05-12T07:19:50.553Z  None   \n",
       "1450                5.35054  2022-05-12T16:16:14.771Z  None   \n",
       "1554                2.57991  2022-05-27T20:24:05.372Z  None   \n",
       "1624              359.03455  2021-11-12T03:59:32.529Z  None   \n",
       "1687               26.49155  2022-05-12T13:51:30.604Z  None   \n",
       "1718               55.51005  2022-05-12T07:19:50.600Z  None   \n",
       "\n",
       "                  last_updated  \n",
       "14    2022-05-31T10:35:35.201Z  \n",
       "304   2022-05-31T10:36:51.348Z  \n",
       "472   2022-05-31T10:34:51.041Z  \n",
       "545   2022-05-31T10:35:48.468Z  \n",
       "563   2022-05-31T10:37:06.593Z  \n",
       "680   2022-05-31T10:37:05.428Z  \n",
       "1042  2022-05-31T10:35:46.212Z  \n",
       "1123  2022-05-31T10:37:05.746Z  \n",
       "1445  2022-05-31T10:35:48.183Z  \n",
       "1450  2022-05-31T10:34:45.349Z  \n",
       "1554  2022-05-31T10:35:49.327Z  \n",
       "1624  2022-05-31T10:35:47.336Z  \n",
       "1687  2022-05-31T10:35:44.739Z  \n",
       "1718  2022-05-31T10:35:48.566Z  \n",
       "\n",
       "[14 rows x 26 columns]"
      ]
     },
     "execution_count": 16,
     "metadata": {},
     "output_type": "execute_result"
    }
   ],
   "source": [
    "avalanche_tokens_data"
   ]
  },
  {
   "cell_type": "markdown",
   "id": "17d594a7-664f-4fb2-81ff-8ae57fd94421",
   "metadata": {
    "tags": []
   },
   "source": [
    "### Liquidity check"
   ]
  },
  {
   "cell_type": "code",
   "execution_count": 17,
   "id": "117d18e6-435d-40b7-a792-5784f53beafc",
   "metadata": {},
   "outputs": [
    {
     "name": "stdout",
     "output_type": "stream",
     "text": [
      "wrapped-avax\n",
      "id                                                wrapped-avax\n",
      "symbol                                                   wavax\n",
      "name                                              Wrapped AVAX\n",
      "platforms    {'avalanche': '0xb31f66aa3c1e785363f0875a1b74e...\n",
      "Name: 12919, dtype: object\n"
     ]
    }
   ],
   "source": [
    "for token in avalanche_tokens.values():\n",
    "    if 'wavax' in token['symbol']:\n",
    "        print(token['id'])\n",
    "        pprint(token)"
   ]
  },
  {
   "cell_type": "code",
   "execution_count": 18,
   "id": "7c6ac727-acb7-4ab1-b45a-1f63e2095d7b",
   "metadata": {},
   "outputs": [],
   "source": [
    "base_token = avalanche_tokens['wrapped-avax']"
   ]
  },
  {
   "cell_type": "code",
   "execution_count": 19,
   "id": "5516f638-2c73-46a8-a0fe-032ba0e29700",
   "metadata": {},
   "outputs": [],
   "source": [
    "base_token_address = base_token['platforms']['avalanche']"
   ]
  },
  {
   "cell_type": "code",
   "execution_count": 20,
   "id": "243cd412-f59b-4de4-9bae-c670d9cd8aeb",
   "metadata": {},
   "outputs": [],
   "source": [
    "dex_subgraph_urls = {\n",
    "    'Trader Joe': 'https://api.thegraph.com/subgraphs/name/traderjoe-xyz/exchange',\n",
    "    'Pangolin': 'https://api.thegraph.com/subgraphs/name/dasconnor/pangolin-dex'\n",
    "} "
   ]
  },
  {
   "cell_type": "code",
   "execution_count": 21,
   "id": "585186f1-5b76-4876-a6cf-ab9d8d7f0a9c",
   "metadata": {},
   "outputs": [],
   "source": [
    "query = \"\"\"\n",
    "    query pairs ($token0: ID!, $token1: ID!) {\n",
    "        pairs (where: {token0: $token0, token1: $token1}){\n",
    "            id\n",
    "            token0 {\n",
    "              symbol\n",
    "              id\n",
    "            }\n",
    "            token1 {\n",
    "              symbol\n",
    "              id\n",
    "            }\n",
    "            reserveUSD\n",
    "        }\n",
    "    }\n",
    "    \"\"\""
   ]
  },
  {
   "cell_type": "code",
   "execution_count": 22,
   "id": "664a32e2-8640-4cd6-a60f-f929fae917c7",
   "metadata": {},
   "outputs": [
    {
     "name": "stdout",
     "output_type": "stream",
     "text": [
      "AVAX fvweahmxkfeig8snevq42hc6whryy3efyavebmqdndgcgxn5z\n",
      "There is no pair AVAX-WAVAX on Trader Joe\n",
      "There is no pair AVAX-WAVAX on Pangolin\n",
      "JOE 0x6e84a6216ea6dacc71ee8e6b0a5b7322eebc0fdd\n",
      "TIME 0xb54f16fb19478766a268f172c9480f8da1a7c9c3\n",
      "SB 0x7d1232b90d3f809a54eeaeebc639c62df8a8942f\n",
      "QI 0x8729438eb15e2c8b576fcc6aecda6a148776c0f5\n",
      "XAVA 0xd1c3f94de7e5b45fa4edbba472491a9f4b166fc4\n",
      "CRA 0xa32608e873f9ddef944b24798db69d80bbb4d1ed\n",
      "PNG 0x60781c2586d68229fde47564546784ab3faca982\n",
      "ELK 0xeeeeeb57642040be42185f49c52f7e9b38f8eeee\n",
      "There is no pair ELK-WAVAX on Trader Joe\n",
      "There is no pair ELK-WAVAX on Pangolin\n",
      "YAK 0x59414b3089ce2af0010e7523dea7e2b35d776ec7\n",
      "MAXI 0x7c08413cbf02202a1c13643db173f2694e0f73f0\n",
      "DCAU 0x100cc3a819dd3e8573fd2e46d1e66ee866068f30\n",
      "KLO 0xb27c8941a7df8958a1778c0259f76d1f8b711c35\n",
      "ROCO 0xb2a85c5ecea99187a977ac34303b80acbddfa208\n"
     ]
    }
   ],
   "source": [
    "liquidities = {}\n",
    "for id_ in avalanche_tokens_data['id']:\n",
    "    token_addr = avalanche_tokens[id_]['platforms']['avalanche'].lower()\n",
    "    symbol = avalanche_tokens[id_]['symbol'].upper()\n",
    "    print(symbol, token_addr)\n",
    "    \n",
    "    token0, token1 = sorted([token_addr, base_token_address])\n",
    "    row = {}\n",
    "    for dex_name, url in dex_subgraph_urls.items():\n",
    "        request = requests.post(url, json={'query': query, 'variables': {'token0': token0, 'token1': token1}})\n",
    "        pairs = request.json()['data']['pairs']\n",
    "        if len(pairs) == 0:\n",
    "            print(f\"There is no pair {symbol}-{base_token['symbol'].upper()} on {dex_name}\")\n",
    "            row[dex_name] = 0\n",
    "            continue\n",
    "        pair = pairs[0]\n",
    "        row[dex_name] = float(pair['reserveUSD'])\n",
    "    liquidities[symbol] = row\n",
    "    \n",
    "liquidities = pd.DataFrame.from_dict(liquidities, orient='index') "
   ]
  },
  {
   "cell_type": "code",
   "execution_count": 23,
   "id": "7d299bc2-99fa-4bfd-98e7-c4021d4d1c18",
   "metadata": {},
   "outputs": [
    {
     "data": {
      "text/html": [
       "<div>\n",
       "<style scoped>\n",
       "    .dataframe tbody tr th:only-of-type {\n",
       "        vertical-align: middle;\n",
       "    }\n",
       "\n",
       "    .dataframe tbody tr th {\n",
       "        vertical-align: top;\n",
       "    }\n",
       "\n",
       "    .dataframe thead th {\n",
       "        text-align: right;\n",
       "    }\n",
       "</style>\n",
       "<table border=\"1\" class=\"dataframe\">\n",
       "  <thead>\n",
       "    <tr style=\"text-align: right;\">\n",
       "      <th></th>\n",
       "      <th>Trader Joe</th>\n",
       "      <th>Pangolin</th>\n",
       "    </tr>\n",
       "  </thead>\n",
       "  <tbody>\n",
       "    <tr>\n",
       "      <th>JOE</th>\n",
       "      <td>1.442178e+07</td>\n",
       "      <td>4.118423e+04</td>\n",
       "    </tr>\n",
       "    <tr>\n",
       "      <th>XAVA</th>\n",
       "      <td>1.018696e+06</td>\n",
       "      <td>2.425626e+06</td>\n",
       "    </tr>\n",
       "    <tr>\n",
       "      <th>CRA</th>\n",
       "      <td>7.116701e+05</td>\n",
       "      <td>8.002346e+04</td>\n",
       "    </tr>\n",
       "    <tr>\n",
       "      <th>DCAU</th>\n",
       "      <td>3.176061e+05</td>\n",
       "      <td>2.116686e+03</td>\n",
       "    </tr>\n",
       "    <tr>\n",
       "      <th>QI</th>\n",
       "      <td>2.301092e+05</td>\n",
       "      <td>4.087513e+06</td>\n",
       "    </tr>\n",
       "    <tr>\n",
       "      <th>KLO</th>\n",
       "      <td>1.643028e+05</td>\n",
       "      <td>3.284831e+05</td>\n",
       "    </tr>\n",
       "    <tr>\n",
       "      <th>TIME</th>\n",
       "      <td>9.665478e+04</td>\n",
       "      <td>1.904564e+04</td>\n",
       "    </tr>\n",
       "    <tr>\n",
       "      <th>YAK</th>\n",
       "      <td>5.477894e+04</td>\n",
       "      <td>4.447625e+05</td>\n",
       "    </tr>\n",
       "    <tr>\n",
       "      <th>SB</th>\n",
       "      <td>9.277555e+03</td>\n",
       "      <td>2.300122e+01</td>\n",
       "    </tr>\n",
       "    <tr>\n",
       "      <th>PNG</th>\n",
       "      <td>6.799149e+03</td>\n",
       "      <td>2.119605e+06</td>\n",
       "    </tr>\n",
       "    <tr>\n",
       "      <th>ROCO</th>\n",
       "      <td>6.690989e+03</td>\n",
       "      <td>1.250280e+05</td>\n",
       "    </tr>\n",
       "    <tr>\n",
       "      <th>MAXI</th>\n",
       "      <td>6.517945e+00</td>\n",
       "      <td>1.420009e+05</td>\n",
       "    </tr>\n",
       "    <tr>\n",
       "      <th>ELK</th>\n",
       "      <td>0.000000e+00</td>\n",
       "      <td>0.000000e+00</td>\n",
       "    </tr>\n",
       "  </tbody>\n",
       "</table>\n",
       "</div>"
      ],
      "text/plain": [
       "        Trader Joe      Pangolin\n",
       "JOE   1.442178e+07  4.118423e+04\n",
       "XAVA  1.018696e+06  2.425626e+06\n",
       "CRA   7.116701e+05  8.002346e+04\n",
       "DCAU  3.176061e+05  2.116686e+03\n",
       "QI    2.301092e+05  4.087513e+06\n",
       "KLO   1.643028e+05  3.284831e+05\n",
       "TIME  9.665478e+04  1.904564e+04\n",
       "YAK   5.477894e+04  4.447625e+05\n",
       "SB    9.277555e+03  2.300122e+01\n",
       "PNG   6.799149e+03  2.119605e+06\n",
       "ROCO  6.690989e+03  1.250280e+05\n",
       "MAXI  6.517945e+00  1.420009e+05\n",
       "ELK   0.000000e+00  0.000000e+00"
      ]
     },
     "execution_count": 23,
     "metadata": {},
     "output_type": "execute_result"
    }
   ],
   "source": [
    "liquidities = liquidities.drop('AVAX')\n",
    "liquidities.sort_values('Trader Joe', ascending=False)"
   ]
  },
  {
   "cell_type": "code",
   "execution_count": 24,
   "id": "1ce4a8e7-8b50-4cf0-bf7f-ab1291d23818",
   "metadata": {},
   "outputs": [
    {
     "data": {
      "text/plain": [
       "JOE      True\n",
       "TIME    False\n",
       "SB      False\n",
       "QI      False\n",
       "XAVA    False\n",
       "CRA     False\n",
       "PNG     False\n",
       "ELK     False\n",
       "YAK     False\n",
       "MAXI    False\n",
       "DCAU    False\n",
       "KLO     False\n",
       "ROCO    False\n",
       "dtype: bool"
      ]
     },
     "execution_count": 24,
     "metadata": {},
     "output_type": "execute_result"
    }
   ],
   "source": [
    "liq_check = (liquidities > 5e6).any(axis=1).sort_values(ascending=False)\n",
    "liq_check"
   ]
  },
  {
   "cell_type": "code",
   "execution_count": 25,
   "id": "4f1bbb13-6b10-4049-89b0-73b192701bef",
   "metadata": {},
   "outputs": [
    {
     "data": {
      "text/plain": [
       "TIME    False\n",
       "SB      False\n",
       "QI      False\n",
       "XAVA    False\n",
       "CRA     False\n",
       "PNG     False\n",
       "ELK     False\n",
       "YAK     False\n",
       "MAXI    False\n",
       "DCAU    False\n",
       "KLO     False\n",
       "ROCO    False\n",
       "dtype: bool"
      ]
     },
     "execution_count": 25,
     "metadata": {},
     "output_type": "execute_result"
    }
   ],
   "source": [
    "liq_check_failed = liq_check[~liq_check]\n",
    "liq_check_failed"
   ]
  },
  {
   "cell_type": "code",
   "execution_count": 26,
   "id": "7062691a-8ba9-497e-b8ba-c479f635f17b",
   "metadata": {},
   "outputs": [],
   "source": [
    "liquidities = liquidities[liq_check.values]"
   ]
  },
  {
   "cell_type": "code",
   "execution_count": 27,
   "id": "86e6c55a-2ccd-4789-8ed1-7cd67e5e92b0",
   "metadata": {},
   "outputs": [
    {
     "data": {
      "text/html": [
       "<div>\n",
       "<style scoped>\n",
       "    .dataframe tbody tr th:only-of-type {\n",
       "        vertical-align: middle;\n",
       "    }\n",
       "\n",
       "    .dataframe tbody tr th {\n",
       "        vertical-align: top;\n",
       "    }\n",
       "\n",
       "    .dataframe thead th {\n",
       "        text-align: right;\n",
       "    }\n",
       "</style>\n",
       "<table border=\"1\" class=\"dataframe\">\n",
       "  <thead>\n",
       "    <tr style=\"text-align: right;\">\n",
       "      <th></th>\n",
       "      <th>Trader Joe</th>\n",
       "      <th>Pangolin</th>\n",
       "    </tr>\n",
       "  </thead>\n",
       "  <tbody>\n",
       "    <tr>\n",
       "      <th>JOE</th>\n",
       "      <td>1.442178e+07</td>\n",
       "      <td>41184.23049</td>\n",
       "    </tr>\n",
       "  </tbody>\n",
       "</table>\n",
       "</div>"
      ],
      "text/plain": [
       "       Trader Joe     Pangolin\n",
       "JOE  1.442178e+07  41184.23049"
      ]
     },
     "execution_count": 27,
     "metadata": {},
     "output_type": "execute_result"
    }
   ],
   "source": [
    "liquidities"
   ]
  },
  {
   "cell_type": "code",
   "execution_count": 28,
   "id": "f5e33489-55c0-420a-9828-f0c354734d05",
   "metadata": {},
   "outputs": [],
   "source": [
    "avalanche_tokens_data = avalanche_tokens_data[\n",
    "    ~avalanche_tokens_data['symbol'].str.upper().isin(liq_check_failed.index)\n",
    "]"
   ]
  },
  {
   "cell_type": "code",
   "execution_count": 29,
   "id": "98c09c1f-022d-4ee3-aba9-adbe4c6c3b93",
   "metadata": {},
   "outputs": [
    {
     "data": {
      "text/html": [
       "<div>\n",
       "<style scoped>\n",
       "    .dataframe tbody tr th:only-of-type {\n",
       "        vertical-align: middle;\n",
       "    }\n",
       "\n",
       "    .dataframe tbody tr th {\n",
       "        vertical-align: top;\n",
       "    }\n",
       "\n",
       "    .dataframe thead th {\n",
       "        text-align: right;\n",
       "    }\n",
       "</style>\n",
       "<table border=\"1\" class=\"dataframe\">\n",
       "  <thead>\n",
       "    <tr style=\"text-align: right;\">\n",
       "      <th></th>\n",
       "      <th>id</th>\n",
       "      <th>symbol</th>\n",
       "      <th>name</th>\n",
       "      <th>image</th>\n",
       "      <th>current_price</th>\n",
       "      <th>market_cap</th>\n",
       "      <th>market_cap_rank</th>\n",
       "      <th>fully_diluted_valuation</th>\n",
       "      <th>total_volume</th>\n",
       "      <th>high_24h</th>\n",
       "      <th>...</th>\n",
       "      <th>total_supply</th>\n",
       "      <th>max_supply</th>\n",
       "      <th>ath</th>\n",
       "      <th>ath_change_percentage</th>\n",
       "      <th>ath_date</th>\n",
       "      <th>atl</th>\n",
       "      <th>atl_change_percentage</th>\n",
       "      <th>atl_date</th>\n",
       "      <th>roi</th>\n",
       "      <th>last_updated</th>\n",
       "    </tr>\n",
       "  </thead>\n",
       "  <tbody>\n",
       "    <tr>\n",
       "      <th>14</th>\n",
       "      <td>avalanche-2</td>\n",
       "      <td>avax</td>\n",
       "      <td>Avalanche</td>\n",
       "      <td>https://assets.coingecko.com/coins/images/1255...</td>\n",
       "      <td>26.910000</td>\n",
       "      <td>7310362250</td>\n",
       "      <td>15</td>\n",
       "      <td>1.939465e+10</td>\n",
       "      <td>958596385.0</td>\n",
       "      <td>28.890000</td>\n",
       "      <td>...</td>\n",
       "      <td>4.048230e+08</td>\n",
       "      <td>720000000.0</td>\n",
       "      <td>144.96</td>\n",
       "      <td>-81.48437</td>\n",
       "      <td>2021-11-21T14:18:56.538Z</td>\n",
       "      <td>2.800000</td>\n",
       "      <td>858.22440</td>\n",
       "      <td>2020-12-31T13:15:21.540Z</td>\n",
       "      <td>None</td>\n",
       "      <td>2022-05-31T10:35:35.201Z</td>\n",
       "    </tr>\n",
       "    <tr>\n",
       "      <th>304</th>\n",
       "      <td>joe</td>\n",
       "      <td>joe</td>\n",
       "      <td>JOE</td>\n",
       "      <td>https://assets.coingecko.com/coins/images/1756...</td>\n",
       "      <td>0.357717</td>\n",
       "      <td>97562173</td>\n",
       "      <td>305</td>\n",
       "      <td>1.790379e+08</td>\n",
       "      <td>6483083.0</td>\n",
       "      <td>0.381958</td>\n",
       "      <td>...</td>\n",
       "      <td>3.665385e+08</td>\n",
       "      <td>500000000.0</td>\n",
       "      <td>5.09</td>\n",
       "      <td>-92.97671</td>\n",
       "      <td>2021-11-21T14:27:00.202Z</td>\n",
       "      <td>0.026588</td>\n",
       "      <td>1243.76436</td>\n",
       "      <td>2021-08-11T14:01:35.223Z</td>\n",
       "      <td>None</td>\n",
       "      <td>2022-05-31T10:36:51.348Z</td>\n",
       "    </tr>\n",
       "  </tbody>\n",
       "</table>\n",
       "<p>2 rows × 26 columns</p>\n",
       "</div>"
      ],
      "text/plain": [
       "              id symbol       name  \\\n",
       "14   avalanche-2   avax  Avalanche   \n",
       "304          joe    joe        JOE   \n",
       "\n",
       "                                                 image  current_price  \\\n",
       "14   https://assets.coingecko.com/coins/images/1255...      26.910000   \n",
       "304  https://assets.coingecko.com/coins/images/1756...       0.357717   \n",
       "\n",
       "     market_cap  market_cap_rank  fully_diluted_valuation  total_volume  \\\n",
       "14   7310362250               15             1.939465e+10   958596385.0   \n",
       "304    97562173              305             1.790379e+08     6483083.0   \n",
       "\n",
       "      high_24h  ...  total_supply   max_supply     ath  ath_change_percentage  \\\n",
       "14   28.890000  ...  4.048230e+08  720000000.0  144.96              -81.48437   \n",
       "304   0.381958  ...  3.665385e+08  500000000.0    5.09              -92.97671   \n",
       "\n",
       "                     ath_date       atl  atl_change_percentage  \\\n",
       "14   2021-11-21T14:18:56.538Z  2.800000              858.22440   \n",
       "304  2021-11-21T14:27:00.202Z  0.026588             1243.76436   \n",
       "\n",
       "                     atl_date   roi              last_updated  \n",
       "14   2020-12-31T13:15:21.540Z  None  2022-05-31T10:35:35.201Z  \n",
       "304  2021-08-11T14:01:35.223Z  None  2022-05-31T10:36:51.348Z  \n",
       "\n",
       "[2 rows x 26 columns]"
      ]
     },
     "execution_count": 29,
     "metadata": {},
     "output_type": "execute_result"
    }
   ],
   "source": [
    "avalanche_tokens_data"
   ]
  },
  {
   "cell_type": "code",
   "execution_count": 30,
   "id": "c5b57d27-7998-4571-9d1d-b1abb9fb0eb3",
   "metadata": {},
   "outputs": [],
   "source": [
    "marketcaps = marketcaps[marketcaps.columns[marketcaps.columns.isin(avalanche_tokens_data['symbol'].str.upper())]]"
   ]
  },
  {
   "cell_type": "code",
   "execution_count": 31,
   "id": "7417e1a4-aa67-4d2e-90c7-d787f8b4b486",
   "metadata": {
    "tags": []
   },
   "outputs": [],
   "source": [
    "prices_data = prices_data[prices_data.columns[prices_data.columns.isin(avalanche_tokens_data['symbol'].str.upper())]]"
   ]
  },
  {
   "cell_type": "markdown",
   "id": "c9f072fa-ea66-4b85-b97a-3b8182c45e5f",
   "metadata": {},
   "source": [
    "### Other checks"
   ]
  },
  {
   "cell_type": "markdown",
   "id": "27c98e17-e311-4a4b-b473-72e5d6f1c482",
   "metadata": {},
   "source": [
    "Nothing here"
   ]
  },
  {
   "cell_type": "markdown",
   "id": "54333cf1-23c4-476c-9e54-a69cd91a6659",
   "metadata": {
    "tags": []
   },
   "source": [
    "## Modeling"
   ]
  },
  {
   "cell_type": "markdown",
   "id": "a1f2894d-f77e-4677-adcf-657f0aea8afe",
   "metadata": {
    "tags": []
   },
   "source": [
    "### Metrics description "
   ]
  },
  {
   "cell_type": "markdown",
   "id": "82e498a0-2598-4f8f-982c-e6cfda89459d",
   "metadata": {},
   "source": [
    "For performance investigation next three metrics are used:\n",
    "1. Monthly returns\n",
    "1. Tracking error for monthly returns compared to benchmark monthly returns\n",
    "1. Weights standard deviation (root-mean-square deviation, RMSD) from target weights"
   ]
  },
  {
   "cell_type": "markdown",
   "id": "e9afd26f-c962-4be0-89a7-e2844a4799f2",
   "metadata": {
    "tags": []
   },
   "source": [
    "Let $m$ be the number of assets and correspondent target weights are $w_1, w_2, \\ldots , w_m$, where $\\sum\\limits_{i} w_i = 1$"
   ]
  },
  {
   "cell_type": "markdown",
   "id": "0b50527e-5532-45b0-9796-205f53cedcae",
   "metadata": {},
   "source": [
    "#### Benchmark values calculation"
   ]
  },
  {
   "cell_type": "markdown",
   "id": "8d7c2e0c-0500-455d-8c5f-b978f5538337",
   "metadata": {},
   "source": [
    "For performance comparison, a benchmark portfolio is being fully rebalanced to the target weights at the first day of each month. Also there is a theoretical index, represented by a portfolio, whose weights are being adjusted to the target ones each day."
   ]
  },
  {
   "cell_type": "markdown",
   "id": "4ad9c151-ac9b-4598-8a52-04b51fe81f89",
   "metadata": {},
   "source": [
    "Let $p_i^{(k)}$ be the price of asset $i$ at the day $k$. Firstly assets daily returns are calculated: $$r_i^{(k)} = \\frac{p_i^{(k)}}{p_i^{(k-1)}}-1$$"
   ]
  },
  {
   "cell_type": "markdown",
   "id": "6fe9fa0e-bb3e-4721-acfa-9dd34950b5d7",
   "metadata": {},
   "source": [
    "Then benchmark's values of each asset $i$ at the day $k$, namely $V_i^{(k)}$, and benchmark's total values $V^{(k)}$ are calculated by the next recurrent formulas:\n",
    "$$V^{(1)} = 1, \\qquad V_i^{(1)} = V^{(1)} \\cdot w_i$$\n",
    "\n",
    "$$V^{(k+1)} = \\sum\\limits_i V_i^{(k)}\\cdot \\left(1+r_i^{(k+1)}\\right)$$ \n",
    "\n",
    "$$V_i^{(k+1)} = \\begin{cases}\n",
    "V^{(k+1)} \\cdot w_i & \\quad \\text{if $k+1$ is the first day of month}\\\\\n",
    "V_i^{(k)} \\cdot \\left(1+r_i^{(k+1)}\\right) & \\quad\\text{otherwise}\n",
    "\\end{cases}$$"
   ]
  },
  {
   "cell_type": "markdown",
   "id": "a143ee4e-cf4b-4f7a-971a-79a6d280481d",
   "metadata": {},
   "source": [
    "And values of the theoretical index are calculated by following:\n",
    "$$V^{(1)} = 1, \\qquad V_i^{(1)} = V^{(1)} \\cdot w_i$$\n",
    "\n",
    "$$V^{(k+1)} = \\sum\\limits_i V_i^{(k)}\\cdot \\left(1+r_i^{(k+1)}\\right), \\qquad V_i^{(k+1)} = V^{(k+1)} \\cdot w_i$$ "
   ]
  },
  {
   "cell_type": "markdown",
   "id": "dca940d5-7a9d-45ff-b010-83e6c6af6249",
   "metadata": {},
   "source": [
    "#### Metrics calculation"
   ]
  },
  {
   "cell_type": "markdown",
   "id": "1fb7e76a-83fb-48b9-8b71-9ac2e0bb8a5c",
   "metadata": {},
   "source": [
    "Given the sequence of portfolio $i$-th asset values $$V_i^{(1)}, V_i^{(2)}, \\ldots, V_i^{(n)}$$ and the sequence of portfolio's total values $$V^{(1)}, V^{(2)}, \\ldots, V^{(n)}$$ where $V^{(i)} = \\sum\\limits_{j=1}^m V_j^{(i)}$, mentioned above metrics are calculated in the next way:\n",
    "$$Return_k = \\frac{V^{(k)}}{V^{(k-1)}}-1$$\n",
    "\n",
    "$$TrackingError_k = \\sqrt{\\frac1k \\sum\\limits_{i=1}^{k} (Return_i - ReturnBenchmark_i)^2 }$$\n",
    "\n",
    "$$WeightsDeviation_k = \\sqrt{\\frac1m \\sum\\limits_{i=1}^m \\left(w_i - \\frac{V_i^{(k)}}{\\sum\\limits_{j}V_j^{(k)}}\\right)^2}$$"
   ]
  },
  {
   "cell_type": "markdown",
   "id": "a7987ba1-a680-4490-b344-c8fdb3535576",
   "metadata": {},
   "source": [
    "Note that for monthly returns sequence of values at each 25-th day of month is used, and for weights deviation sequence of each day values is used"
   ]
  },
  {
   "cell_type": "markdown",
   "id": "2fb2d3af-b228-4849-8c84-073112a41a1a",
   "metadata": {
    "tags": []
   },
   "source": [
    "### Assets data"
   ]
  },
  {
   "cell_type": "code",
   "execution_count": 32,
   "id": "d0ce9b29-2ca2-4a56-826c-e6b7acee6a60",
   "metadata": {},
   "outputs": [],
   "source": [
    "without_nan_index = (marketcaps.isnull().sum(axis=1) == 0) & (prices_data.isnull().sum(axis=1) == 0)\n",
    "marketcaps = marketcaps[without_nan_index]\n",
    "prices_data = prices_data[without_nan_index]"
   ]
  },
  {
   "cell_type": "code",
   "execution_count": 33,
   "id": "c4dd2949-13da-4686-93e2-4cdb9e9fdb57",
   "metadata": {},
   "outputs": [],
   "source": [
    "tickers = list(prices_data.columns)"
   ]
  },
  {
   "cell_type": "code",
   "execution_count": 34,
   "id": "b70246d1-4173-47d8-9a02-e787e2b79330",
   "metadata": {},
   "outputs": [
    {
     "data": {
      "application/vnd.plotly.v1+json": {
       "config": {
        "plotlyServerURL": "https://plot.ly"
       },
       "data": [
        {
         "hovertemplate": "%{y}",
         "legendgroup": "AVAX",
         "line": {
          "color": "#636efa",
          "dash": "solid"
         },
         "marker": {
          "symbol": "circle"
         },
         "mode": "lines",
         "name": "AVAX",
         "orientation": "v",
         "showlegend": true,
         "type": "scatter",
         "x": [
          "2021-08-26T00:00:00",
          "2021-08-27T00:00:00",
          "2021-08-28T00:00:00",
          "2021-08-29T00:00:00",
          "2021-08-30T00:00:00",
          "2021-08-31T00:00:00",
          "2021-09-01T00:00:00",
          "2021-09-02T00:00:00",
          "2021-09-03T00:00:00",
          "2021-09-04T00:00:00",
          "2021-09-05T00:00:00",
          "2021-09-06T00:00:00",
          "2021-09-07T00:00:00",
          "2021-09-08T00:00:00",
          "2021-09-09T00:00:00",
          "2021-09-10T00:00:00",
          "2021-09-11T00:00:00",
          "2021-09-12T00:00:00",
          "2021-09-13T00:00:00",
          "2021-09-14T00:00:00",
          "2021-09-15T00:00:00",
          "2021-09-16T00:00:00",
          "2021-09-17T00:00:00",
          "2021-09-18T00:00:00",
          "2021-09-19T00:00:00",
          "2021-09-20T00:00:00",
          "2021-09-21T00:00:00",
          "2021-09-22T00:00:00",
          "2021-09-23T00:00:00",
          "2021-09-24T00:00:00",
          "2021-09-25T00:00:00",
          "2021-09-26T00:00:00",
          "2021-09-27T00:00:00",
          "2021-09-28T00:00:00",
          "2021-09-29T00:00:00",
          "2021-09-30T00:00:00",
          "2021-10-01T00:00:00",
          "2021-10-02T00:00:00",
          "2021-10-03T00:00:00",
          "2021-10-04T00:00:00",
          "2021-10-05T00:00:00",
          "2021-10-06T00:00:00",
          "2021-10-07T00:00:00",
          "2021-10-08T00:00:00",
          "2021-10-09T00:00:00",
          "2021-10-10T00:00:00",
          "2021-10-11T00:00:00",
          "2021-10-12T00:00:00",
          "2021-10-13T00:00:00",
          "2021-10-14T00:00:00",
          "2021-10-15T00:00:00",
          "2021-10-16T00:00:00",
          "2021-10-17T00:00:00",
          "2021-10-18T00:00:00",
          "2021-10-19T00:00:00",
          "2021-10-20T00:00:00",
          "2021-10-21T00:00:00",
          "2021-10-22T00:00:00",
          "2021-10-23T00:00:00",
          "2021-10-24T00:00:00",
          "2021-10-25T00:00:00",
          "2021-10-26T00:00:00",
          "2021-10-27T00:00:00",
          "2021-10-28T00:00:00",
          "2021-10-29T00:00:00",
          "2021-10-30T00:00:00",
          "2021-10-31T00:00:00",
          "2021-11-01T00:00:00",
          "2021-11-02T00:00:00",
          "2021-11-03T00:00:00",
          "2021-11-04T00:00:00",
          "2021-11-05T00:00:00",
          "2021-11-06T00:00:00",
          "2021-11-07T00:00:00",
          "2021-11-08T00:00:00",
          "2021-11-09T00:00:00",
          "2021-11-10T00:00:00",
          "2021-11-11T00:00:00",
          "2021-11-12T00:00:00",
          "2021-11-13T00:00:00",
          "2021-11-14T00:00:00",
          "2021-11-15T00:00:00",
          "2021-11-16T00:00:00",
          "2021-11-17T00:00:00",
          "2021-11-18T00:00:00",
          "2021-11-19T00:00:00",
          "2021-11-20T00:00:00",
          "2021-11-21T00:00:00",
          "2021-11-22T00:00:00",
          "2021-11-23T00:00:00",
          "2021-11-24T00:00:00",
          "2021-11-25T00:00:00",
          "2021-11-26T00:00:00",
          "2021-11-27T00:00:00",
          "2021-11-28T00:00:00",
          "2021-11-29T00:00:00",
          "2021-11-30T00:00:00",
          "2021-12-01T00:00:00",
          "2021-12-02T00:00:00",
          "2021-12-03T00:00:00",
          "2021-12-04T00:00:00",
          "2021-12-05T00:00:00",
          "2021-12-06T00:00:00",
          "2021-12-07T00:00:00",
          "2021-12-08T00:00:00",
          "2021-12-09T00:00:00",
          "2021-12-10T00:00:00",
          "2021-12-11T00:00:00",
          "2021-12-12T00:00:00",
          "2021-12-13T00:00:00",
          "2021-12-14T00:00:00",
          "2021-12-15T00:00:00",
          "2021-12-16T00:00:00",
          "2021-12-17T00:00:00",
          "2021-12-18T00:00:00",
          "2021-12-19T00:00:00",
          "2021-12-20T00:00:00",
          "2021-12-21T00:00:00",
          "2021-12-22T00:00:00",
          "2021-12-23T00:00:00",
          "2021-12-24T00:00:00",
          "2021-12-25T00:00:00",
          "2021-12-26T00:00:00",
          "2021-12-27T00:00:00",
          "2021-12-28T00:00:00",
          "2021-12-29T00:00:00",
          "2021-12-30T00:00:00",
          "2021-12-31T00:00:00",
          "2022-01-01T00:00:00",
          "2022-01-02T00:00:00",
          "2022-01-03T00:00:00",
          "2022-01-04T00:00:00",
          "2022-01-05T00:00:00",
          "2022-01-06T00:00:00",
          "2022-01-07T00:00:00",
          "2022-01-08T00:00:00",
          "2022-01-09T00:00:00",
          "2022-01-10T00:00:00",
          "2022-01-11T00:00:00",
          "2022-01-12T00:00:00",
          "2022-01-13T00:00:00",
          "2022-01-14T00:00:00",
          "2022-01-15T00:00:00",
          "2022-01-16T00:00:00",
          "2022-01-17T00:00:00",
          "2022-01-18T00:00:00",
          "2022-01-19T00:00:00",
          "2022-01-20T00:00:00",
          "2022-01-21T00:00:00",
          "2022-01-22T00:00:00",
          "2022-01-23T00:00:00",
          "2022-01-24T00:00:00",
          "2022-01-25T00:00:00",
          "2022-01-26T00:00:00",
          "2022-01-27T00:00:00",
          "2022-01-28T00:00:00",
          "2022-01-29T00:00:00",
          "2022-01-30T00:00:00",
          "2022-01-31T00:00:00",
          "2022-02-01T00:00:00",
          "2022-02-02T00:00:00",
          "2022-02-03T00:00:00",
          "2022-02-04T00:00:00",
          "2022-02-05T00:00:00",
          "2022-02-06T00:00:00",
          "2022-02-07T00:00:00",
          "2022-02-08T00:00:00",
          "2022-02-09T00:00:00",
          "2022-02-10T00:00:00",
          "2022-02-11T00:00:00",
          "2022-02-12T00:00:00",
          "2022-02-13T00:00:00",
          "2022-02-14T00:00:00",
          "2022-02-15T00:00:00",
          "2022-02-16T00:00:00",
          "2022-02-17T00:00:00",
          "2022-02-18T00:00:00",
          "2022-02-19T00:00:00",
          "2022-02-20T00:00:00",
          "2022-02-21T00:00:00",
          "2022-02-22T00:00:00",
          "2022-02-23T00:00:00",
          "2022-02-24T00:00:00",
          "2022-02-25T00:00:00",
          "2022-02-26T00:00:00",
          "2022-02-27T00:00:00",
          "2022-02-28T00:00:00",
          "2022-03-01T00:00:00",
          "2022-03-02T00:00:00",
          "2022-03-03T00:00:00",
          "2022-03-04T00:00:00",
          "2022-03-05T00:00:00",
          "2022-03-06T00:00:00",
          "2022-03-07T00:00:00",
          "2022-03-08T00:00:00",
          "2022-03-09T00:00:00",
          "2022-03-10T00:00:00",
          "2022-03-11T00:00:00",
          "2022-03-12T00:00:00",
          "2022-03-13T00:00:00",
          "2022-03-14T00:00:00",
          "2022-03-15T00:00:00",
          "2022-03-16T00:00:00",
          "2022-03-17T00:00:00",
          "2022-03-18T00:00:00",
          "2022-03-19T00:00:00",
          "2022-03-20T00:00:00",
          "2022-03-21T00:00:00",
          "2022-03-22T00:00:00",
          "2022-03-23T00:00:00",
          "2022-03-24T00:00:00",
          "2022-03-25T00:00:00",
          "2022-03-26T00:00:00",
          "2022-03-27T00:00:00",
          "2022-03-28T00:00:00",
          "2022-03-29T00:00:00",
          "2022-03-30T00:00:00",
          "2022-03-31T00:00:00",
          "2022-04-01T00:00:00",
          "2022-04-02T00:00:00",
          "2022-04-03T00:00:00",
          "2022-04-04T00:00:00",
          "2022-04-05T00:00:00",
          "2022-04-06T00:00:00",
          "2022-04-07T00:00:00",
          "2022-04-08T00:00:00",
          "2022-04-09T00:00:00",
          "2022-04-10T00:00:00",
          "2022-04-11T00:00:00",
          "2022-04-12T00:00:00",
          "2022-04-13T00:00:00",
          "2022-04-14T00:00:00",
          "2022-04-15T00:00:00",
          "2022-04-16T00:00:00",
          "2022-04-17T00:00:00",
          "2022-04-18T00:00:00",
          "2022-04-19T00:00:00",
          "2022-04-20T00:00:00",
          "2022-04-21T00:00:00",
          "2022-04-22T00:00:00",
          "2022-04-23T00:00:00",
          "2022-04-24T00:00:00",
          "2022-04-25T00:00:00",
          "2022-04-26T00:00:00",
          "2022-04-27T00:00:00",
          "2022-04-28T00:00:00",
          "2022-04-29T00:00:00",
          "2022-04-30T00:00:00",
          "2022-05-01T00:00:00",
          "2022-05-02T00:00:00",
          "2022-05-03T00:00:00",
          "2022-05-04T00:00:00",
          "2022-05-05T00:00:00",
          "2022-05-06T00:00:00",
          "2022-05-07T00:00:00",
          "2022-05-08T00:00:00",
          "2022-05-09T00:00:00",
          "2022-05-10T00:00:00",
          "2022-05-11T00:00:00",
          "2022-05-12T00:00:00",
          "2022-05-13T00:00:00",
          "2022-05-14T00:00:00",
          "2022-05-15T00:00:00",
          "2022-05-16T00:00:00",
          "2022-05-17T00:00:00",
          "2022-05-18T00:00:00",
          "2022-05-19T00:00:00",
          "2022-05-20T00:00:00",
          "2022-05-21T00:00:00",
          "2022-05-22T00:00:00",
          "2022-05-23T00:00:00",
          "2022-05-24T00:00:00",
          "2022-05-25T00:00:00",
          "2022-05-26T00:00:00",
          "2022-05-27T00:00:00",
          "2022-05-28T00:00:00",
          "2022-05-29T00:00:00",
          "2022-05-30T00:00:00"
         ],
         "xaxis": "x",
         "y": [
          0,
          -0.10291041058161843,
          0.05933146595940508,
          0.0651151391356597,
          0.007607087598277662,
          -0.12493488598385771,
          -0.16027642234812867,
          -0.10064581540434725,
          0.007326722762917237,
          -0.029189706750877065,
          0.0013174354122471588,
          0.017736633697884807,
          0.0007178118109498755,
          -0.19250328585595666,
          -0.2212647495885386,
          -0.13206768271164449,
          0.026507024744307772,
          0.2345472415239498,
          0.2651065456491346,
          0.13421927362138963,
          0.0895148081699102,
          0.21527211006257652,
          0.4294875232275168,
          0.493254525376275,
          0.4514247619998706,
          0.48684508152213213,
          0.21670758616429064,
          0.22716831946039795,
          0.5728467803796258,
          0.6182044000021227,
          0.5375600030897547,
          0.45857626333630863,
          0.4209692110387975,
          0.41008458540502524,
          0.30201478550039096,
          0.3816827656584494,
          0.40871390360748694,
          0.4315148115442011,
          0.4725873090079409,
          0.4617234918276363,
          0.38293757917620086,
          0.3717605462265421,
          0.27423597873574024,
          0.2941386582762917,
          0.27726311584561025,
          0.2897658773164524,
          0.20042140160662902,
          0.17366293010988176,
          0.14849682704912226,
          0.17016576278288076,
          0.19054455398412395,
          0.195632714383563,
          0.2252411192269943,
          0.192669477118393,
          0.1758817577142857,
          0.2082761076204862,
          0.2672711771088805,
          0.30116310039144945,
          0.39213637425519865,
          0.393897201331983,
          0.3711911228517839,
          0.4779125032647804,
          0.46281680756591403,
          0.30778466344319466,
          0.36440533494559313,
          0.36975600713406,
          0.3196143683051229,
          0.3626018686843788,
          0.37556228262544566,
          0.4343878808556081,
          0.5901309303624005,
          0.6754062580241691,
          0.580565745785268,
          0.6615286427249489,
          0.867539733058831,
          0.932088410640677,
          0.8773588453585237,
          0.8023765298587482,
          0.8675033692338654,
          0.7975734204974749,
          1.0702794506313729,
          1.03509702700268,
          0.999879312399155,
          1.1073366500324848,
          1.299499615930468,
          1.0897870289963718,
          1.3602800574827518,
          1.671819596889259,
          1.758711238732265,
          1.849844988653421,
          1.6180676393331619,
          1.4577034788955299,
          1.5194258203509357,
          1.2130361135847356,
          1.373307291079827,
          1.3518846235133033,
          1.513734702957425,
          1.561884099299487,
          1.5277013805935065,
          1.290367869931699,
          1.2963795160811151,
          0.9574880157175356,
          0.8155603409584415,
          0.9690117902973163,
          0.9056017176332531,
          0.970568147903264,
          0.8305425407120779,
          0.7326309785246743,
          0.8243773910390908,
          0.8695233493094661,
          0.6721507615334839,
          0.8489471293595836,
          1.1361976188828087,
          1.090584064744513,
          1.365181121030052,
          1.451937433354546,
          1.2942449780100147,
          1.4220691330503512,
          1.6167830593768224,
          1.4710131184992679,
          1.5848996724581093,
          1.4392884234523455,
          1.4435955918409742,
          1.4467633483716282,
          1.4165954031023,
          1.2824219928686893,
          1.1956489079069765,
          1.1519826888428728,
          1.3233719690894779,
          1.4164735303466323,
          1.3997551092587504,
          1.2949184645717544,
          1.2038638056538948,
          1.0817226787234442,
          1.0246501691172907,
          0.84024255378726,
          0.7815477270986915,
          0.8874711441087113,
          0.7897052287677049,
          0.8986204618491602,
          1.035138030690343,
          0.9011598421844089,
          0.9153902147585007,
          0.9801374217505472,
          0.9556421363846741,
          0.8415052236480374,
          0.823612075056176,
          0.758340909318336,
          0.6844288813900541,
          0.3971202812721206,
          0.2660657187637485,
          0.37210153557737247,
          0.3358382717209729,
          0.4442927390907647,
          0.40170177796289996,
          0.3741129184162111,
          0.42442743535847627,
          0.5311792503596908,
          0.44380785658001387,
          0.4850288266216387,
          0.5576002984381001,
          0.44112343566447043,
          0.44346468334431965,
          0.6412932741158626,
          0.6424384847884121,
          0.6676596624056146,
          0.7680521743899076,
          0.8340949638077002,
          0.9119779215436978,
          0.9318603906379366,
          0.7312133379433807,
          0.7202120336660494,
          0.6586622035167768,
          0.7371416965237383,
          0.9668122241355284,
          1.0226629379038132,
          0.8696937912515856,
          0.7820397329222806,
          0.8062998488793884,
          0.6406510940062726,
          0.4839381698974121,
          0.5795715821631642,
          0.5663607135498847,
          0.6236995662005871,
          0.7163171908656534,
          0.7300682238831275,
          0.588294082141428,
          0.78767576676651,
          0.84039134143853,
          0.7629302485418714,
          0.6704574878488638,
          0.6057953406049637,
          0.630114798713227,
          0.5378944642025283,
          0.5238172072595588,
          0.5453747000987699,
          0.6464156267716952,
          0.5690874136535877,
          0.508904081724225,
          0.5041470990018899,
          0.44387924750327334,
          0.45659453395895766,
          0.48057197482012515,
          0.5704142127197926,
          0.6890434187682615,
          0.8221282175181104,
          0.902703180934652,
          0.7980018382318061,
          0.8341682626637243,
          0.7820843523044134,
          0.8228452072105858,
          0.8535512397444442,
          0.7728742537011211,
          0.8238792996837643,
          0.8976538376250347,
          0.8959296700088473,
          0.9655652731390887,
          1.0353650888760986,
          1.0283256518462522,
          1.049210282420161,
          1.0401989105528893,
          1.0684273608686965,
          1.0236144952378075,
          0.9305430711038722,
          0.7566244559567603,
          0.864061106454354,
          0.7742067767868519,
          0.7929215625455255,
          0.7397336900247253,
          0.5702636162743326,
          0.6218454423274415,
          0.6964151610926623,
          0.6287367479709465,
          0.6407323745181839,
          0.6528331649422654,
          0.604879607533725,
          0.64799024420786,
          0.7016037387161209,
          0.6595306931133609,
          0.5918220718419585,
          0.5728199598245476,
          0.5457615932929298,
          0.5174743509547866,
          0.5430169852971558,
          0.45403592025126893,
          0.4796767421655119,
          0.4248506660711302,
          0.3460352010398038,
          0.21100721180556503,
          0.24845404141251115,
          0.2805399210398234,
          0.26419277341408076,
          0.42176203153550884,
          0.25394801895179264,
          0.209117253314965,
          0.17033389098188723,
          0.0887012152026081,
          -0.10354594396582317,
          -0.058097701872869334,
          -0.34501574498648724,
          -0.3553346284554427,
          -0.31993034445550983,
          -0.2794117346909558,
          -0.2280088571340363,
          -0.30914543406224415,
          -0.26836304920312126,
          -0.37393997489243913,
          -0.35399148505552014,
          -0.3857242818821113,
          -0.3643907867373736,
          -0.32522728981690663,
          -0.3844765557056745,
          -0.3860394011006423,
          -0.42307436074771454,
          -0.49995362144070643,
          -0.5245765480855016,
          -0.47253171149962636,
          -0.44755317519691296
         ],
         "yaxis": "y"
        },
        {
         "hovertemplate": "%{y}",
         "legendgroup": "JOE",
         "line": {
          "color": "#EF553B",
          "dash": "solid"
         },
         "marker": {
          "symbol": "circle"
         },
         "mode": "lines",
         "name": "JOE",
         "orientation": "v",
         "showlegend": true,
         "type": "scatter",
         "x": [
          "2021-08-26T00:00:00",
          "2021-08-27T00:00:00",
          "2021-08-28T00:00:00",
          "2021-08-29T00:00:00",
          "2021-08-30T00:00:00",
          "2021-08-31T00:00:00",
          "2021-09-01T00:00:00",
          "2021-09-02T00:00:00",
          "2021-09-03T00:00:00",
          "2021-09-04T00:00:00",
          "2021-09-05T00:00:00",
          "2021-09-06T00:00:00",
          "2021-09-07T00:00:00",
          "2021-09-08T00:00:00",
          "2021-09-09T00:00:00",
          "2021-09-10T00:00:00",
          "2021-09-11T00:00:00",
          "2021-09-12T00:00:00",
          "2021-09-13T00:00:00",
          "2021-09-14T00:00:00",
          "2021-09-15T00:00:00",
          "2021-09-16T00:00:00",
          "2021-09-17T00:00:00",
          "2021-09-18T00:00:00",
          "2021-09-19T00:00:00",
          "2021-09-20T00:00:00",
          "2021-09-21T00:00:00",
          "2021-09-22T00:00:00",
          "2021-09-23T00:00:00",
          "2021-09-24T00:00:00",
          "2021-09-25T00:00:00",
          "2021-09-26T00:00:00",
          "2021-09-27T00:00:00",
          "2021-09-28T00:00:00",
          "2021-09-29T00:00:00",
          "2021-09-30T00:00:00",
          "2021-10-01T00:00:00",
          "2021-10-02T00:00:00",
          "2021-10-03T00:00:00",
          "2021-10-04T00:00:00",
          "2021-10-05T00:00:00",
          "2021-10-06T00:00:00",
          "2021-10-07T00:00:00",
          "2021-10-08T00:00:00",
          "2021-10-09T00:00:00",
          "2021-10-10T00:00:00",
          "2021-10-11T00:00:00",
          "2021-10-12T00:00:00",
          "2021-10-13T00:00:00",
          "2021-10-14T00:00:00",
          "2021-10-15T00:00:00",
          "2021-10-16T00:00:00",
          "2021-10-17T00:00:00",
          "2021-10-18T00:00:00",
          "2021-10-19T00:00:00",
          "2021-10-20T00:00:00",
          "2021-10-21T00:00:00",
          "2021-10-22T00:00:00",
          "2021-10-23T00:00:00",
          "2021-10-24T00:00:00",
          "2021-10-25T00:00:00",
          "2021-10-26T00:00:00",
          "2021-10-27T00:00:00",
          "2021-10-28T00:00:00",
          "2021-10-29T00:00:00",
          "2021-10-30T00:00:00",
          "2021-10-31T00:00:00",
          "2021-11-01T00:00:00",
          "2021-11-02T00:00:00",
          "2021-11-03T00:00:00",
          "2021-11-04T00:00:00",
          "2021-11-05T00:00:00",
          "2021-11-06T00:00:00",
          "2021-11-07T00:00:00",
          "2021-11-08T00:00:00",
          "2021-11-09T00:00:00",
          "2021-11-10T00:00:00",
          "2021-11-11T00:00:00",
          "2021-11-12T00:00:00",
          "2021-11-13T00:00:00",
          "2021-11-14T00:00:00",
          "2021-11-15T00:00:00",
          "2021-11-16T00:00:00",
          "2021-11-17T00:00:00",
          "2021-11-18T00:00:00",
          "2021-11-19T00:00:00",
          "2021-11-20T00:00:00",
          "2021-11-21T00:00:00",
          "2021-11-22T00:00:00",
          "2021-11-23T00:00:00",
          "2021-11-24T00:00:00",
          "2021-11-25T00:00:00",
          "2021-11-26T00:00:00",
          "2021-11-27T00:00:00",
          "2021-11-28T00:00:00",
          "2021-11-29T00:00:00",
          "2021-11-30T00:00:00",
          "2021-12-01T00:00:00",
          "2021-12-02T00:00:00",
          "2021-12-03T00:00:00",
          "2021-12-04T00:00:00",
          "2021-12-05T00:00:00",
          "2021-12-06T00:00:00",
          "2021-12-07T00:00:00",
          "2021-12-08T00:00:00",
          "2021-12-09T00:00:00",
          "2021-12-10T00:00:00",
          "2021-12-11T00:00:00",
          "2021-12-12T00:00:00",
          "2021-12-13T00:00:00",
          "2021-12-14T00:00:00",
          "2021-12-15T00:00:00",
          "2021-12-16T00:00:00",
          "2021-12-17T00:00:00",
          "2021-12-18T00:00:00",
          "2021-12-19T00:00:00",
          "2021-12-20T00:00:00",
          "2021-12-21T00:00:00",
          "2021-12-22T00:00:00",
          "2021-12-23T00:00:00",
          "2021-12-24T00:00:00",
          "2021-12-25T00:00:00",
          "2021-12-26T00:00:00",
          "2021-12-27T00:00:00",
          "2021-12-28T00:00:00",
          "2021-12-29T00:00:00",
          "2021-12-30T00:00:00",
          "2021-12-31T00:00:00",
          "2022-01-01T00:00:00",
          "2022-01-02T00:00:00",
          "2022-01-03T00:00:00",
          "2022-01-04T00:00:00",
          "2022-01-05T00:00:00",
          "2022-01-06T00:00:00",
          "2022-01-07T00:00:00",
          "2022-01-08T00:00:00",
          "2022-01-09T00:00:00",
          "2022-01-10T00:00:00",
          "2022-01-11T00:00:00",
          "2022-01-12T00:00:00",
          "2022-01-13T00:00:00",
          "2022-01-14T00:00:00",
          "2022-01-15T00:00:00",
          "2022-01-16T00:00:00",
          "2022-01-17T00:00:00",
          "2022-01-18T00:00:00",
          "2022-01-19T00:00:00",
          "2022-01-20T00:00:00",
          "2022-01-21T00:00:00",
          "2022-01-22T00:00:00",
          "2022-01-23T00:00:00",
          "2022-01-24T00:00:00",
          "2022-01-25T00:00:00",
          "2022-01-26T00:00:00",
          "2022-01-27T00:00:00",
          "2022-01-28T00:00:00",
          "2022-01-29T00:00:00",
          "2022-01-30T00:00:00",
          "2022-01-31T00:00:00",
          "2022-02-01T00:00:00",
          "2022-02-02T00:00:00",
          "2022-02-03T00:00:00",
          "2022-02-04T00:00:00",
          "2022-02-05T00:00:00",
          "2022-02-06T00:00:00",
          "2022-02-07T00:00:00",
          "2022-02-08T00:00:00",
          "2022-02-09T00:00:00",
          "2022-02-10T00:00:00",
          "2022-02-11T00:00:00",
          "2022-02-12T00:00:00",
          "2022-02-13T00:00:00",
          "2022-02-14T00:00:00",
          "2022-02-15T00:00:00",
          "2022-02-16T00:00:00",
          "2022-02-17T00:00:00",
          "2022-02-18T00:00:00",
          "2022-02-19T00:00:00",
          "2022-02-20T00:00:00",
          "2022-02-21T00:00:00",
          "2022-02-22T00:00:00",
          "2022-02-23T00:00:00",
          "2022-02-24T00:00:00",
          "2022-02-25T00:00:00",
          "2022-02-26T00:00:00",
          "2022-02-27T00:00:00",
          "2022-02-28T00:00:00",
          "2022-03-01T00:00:00",
          "2022-03-02T00:00:00",
          "2022-03-03T00:00:00",
          "2022-03-04T00:00:00",
          "2022-03-05T00:00:00",
          "2022-03-06T00:00:00",
          "2022-03-07T00:00:00",
          "2022-03-08T00:00:00",
          "2022-03-09T00:00:00",
          "2022-03-10T00:00:00",
          "2022-03-11T00:00:00",
          "2022-03-12T00:00:00",
          "2022-03-13T00:00:00",
          "2022-03-14T00:00:00",
          "2022-03-15T00:00:00",
          "2022-03-16T00:00:00",
          "2022-03-17T00:00:00",
          "2022-03-18T00:00:00",
          "2022-03-19T00:00:00",
          "2022-03-20T00:00:00",
          "2022-03-21T00:00:00",
          "2022-03-22T00:00:00",
          "2022-03-23T00:00:00",
          "2022-03-24T00:00:00",
          "2022-03-25T00:00:00",
          "2022-03-26T00:00:00",
          "2022-03-27T00:00:00",
          "2022-03-28T00:00:00",
          "2022-03-29T00:00:00",
          "2022-03-30T00:00:00",
          "2022-03-31T00:00:00",
          "2022-04-01T00:00:00",
          "2022-04-02T00:00:00",
          "2022-04-03T00:00:00",
          "2022-04-04T00:00:00",
          "2022-04-05T00:00:00",
          "2022-04-06T00:00:00",
          "2022-04-07T00:00:00",
          "2022-04-08T00:00:00",
          "2022-04-09T00:00:00",
          "2022-04-10T00:00:00",
          "2022-04-11T00:00:00",
          "2022-04-12T00:00:00",
          "2022-04-13T00:00:00",
          "2022-04-14T00:00:00",
          "2022-04-15T00:00:00",
          "2022-04-16T00:00:00",
          "2022-04-17T00:00:00",
          "2022-04-18T00:00:00",
          "2022-04-19T00:00:00",
          "2022-04-20T00:00:00",
          "2022-04-21T00:00:00",
          "2022-04-22T00:00:00",
          "2022-04-23T00:00:00",
          "2022-04-24T00:00:00",
          "2022-04-25T00:00:00",
          "2022-04-26T00:00:00",
          "2022-04-27T00:00:00",
          "2022-04-28T00:00:00",
          "2022-04-29T00:00:00",
          "2022-04-30T00:00:00",
          "2022-05-01T00:00:00",
          "2022-05-02T00:00:00",
          "2022-05-03T00:00:00",
          "2022-05-04T00:00:00",
          "2022-05-05T00:00:00",
          "2022-05-06T00:00:00",
          "2022-05-07T00:00:00",
          "2022-05-08T00:00:00",
          "2022-05-09T00:00:00",
          "2022-05-10T00:00:00",
          "2022-05-11T00:00:00",
          "2022-05-12T00:00:00",
          "2022-05-13T00:00:00",
          "2022-05-14T00:00:00",
          "2022-05-15T00:00:00",
          "2022-05-16T00:00:00",
          "2022-05-17T00:00:00",
          "2022-05-18T00:00:00",
          "2022-05-19T00:00:00",
          "2022-05-20T00:00:00",
          "2022-05-21T00:00:00",
          "2022-05-22T00:00:00",
          "2022-05-23T00:00:00",
          "2022-05-24T00:00:00",
          "2022-05-25T00:00:00",
          "2022-05-26T00:00:00",
          "2022-05-27T00:00:00",
          "2022-05-28T00:00:00",
          "2022-05-29T00:00:00",
          "2022-05-30T00:00:00"
         ],
         "xaxis": "x",
         "y": [
          0,
          0.468044529662931,
          0.7907963469955059,
          0.5942922153248227,
          0.9944530446369204,
          -0.0673601453080096,
          -0.13188002424781065,
          0.12906031853896738,
          0.5082525414358041,
          0.4055234302829551,
          0.5164538383788211,
          0.382786889751739,
          0.2194754118751956,
          0.0024546542846186625,
          -0.061575760656863654,
          0.07697971173215246,
          0.29027885080045257,
          0.7297819863629982,
          0.7259371052048453,
          0.5060856168001118,
          0.46290649485191526,
          0.8537976850935849,
          1.3945180815450584,
          1.2937435629072667,
          1.3799652509567037,
          1.6785369215153971,
          1.0033866266753955,
          1.273507301866469,
          2.4884880317380316,
          2.270196082141327,
          2.1774638761319896,
          1.7743344292272196,
          1.9536074450097716,
          2.1609732947347045,
          1.823325323696162,
          1.6069429961876187,
          1.4026923860589169,
          1.4935683235949542,
          1.2116616924840842,
          1.3049852684751162,
          1.1876378651011081,
          0.8985733110935432,
          0.7798180576056368,
          1.0517971018071797,
          0.9426921943139077,
          0.7607811260902482,
          0.6100727593825681,
          0.3735559513030724,
          0.45422189087376696,
          0.5782456952721691,
          0.44176987526496436,
          0.5631594556765036,
          0.7878251218027552,
          0.901236994055338,
          1.1555494715165073,
          1.3456710926663895,
          1.2518890060060346,
          1.4354425424309416,
          1.333585829355001,
          1.1105064943386025,
          1.1609019900883788,
          1.6421686370152622,
          1.5269194363830203,
          1.1634680774196986,
          1.3062308269678091,
          1.1411213752532223,
          0.9029827652218387,
          1.003840488975417,
          1.0304935257027426,
          0.9336241009200648,
          1.3260872850775085,
          1.5185482755285662,
          1.2869438505411632,
          1.277903080869533,
          1.3599026427197165,
          1.2615591882391257,
          1.1484853718358083,
          0.9293780318288551,
          0.9380591660908906,
          0.7849781191933225,
          1.083162482277939,
          1.124544514079881,
          1.218822838793566,
          1.397542989740272,
          1.7218978859158716,
          1.306099754079614,
          1.6441862755615557,
          2.290591819806996,
          2.632768607030002,
          2.3927389871689804,
          2.0485290667152216,
          1.821559729328686,
          1.9206172712645175,
          1.1098477495033556,
          1.3639019554727403,
          1.486788724586551,
          1.5788919953300704,
          1.5130402042135325,
          1.3834416792740702,
          1.0694267494642267,
          1.1320025449775981,
          0.8246212971658586,
          0.7393123754122317,
          0.7651928853234868,
          0.9823246778900918,
          1.0620857386154632,
          0.7927672790068561,
          0.57861190736562,
          0.7437815035887312,
          0.6577936622574181,
          0.41641185281514326,
          0.7158307267022661,
          0.8295145355301023,
          0.8722010197244123,
          0.8851208654555134,
          0.9170688743739948,
          0.7315514854798659,
          0.8190563050752828,
          0.9036955597369507,
          0.7506972138854122,
          0.9750974788514919,
          0.7485027595019362,
          0.7413365240769394,
          0.8440425650652326,
          0.733909296361998,
          0.8786433216421983,
          0.7770450906002269,
          0.6281256252750633,
          0.6665083005850003,
          0.6479467826622156,
          0.5393578570064952,
          0.4354386440568734,
          0.4286530324151059,
          0.31450145510544236,
          0.27488978243851125,
          0.14717815176751547,
          0.07351789600364889,
          0.17613301835095907,
          0.10963065799021243,
          0.20064365521481364,
          0.27434613915353356,
          0.18444870997592755,
          0.16506451918186893,
          0.2245953819059654,
          0.25997128168059436,
          0.1507553580183929,
          0.10564625548531748,
          0.02288065821643004,
          -0.062334247004349974,
          -0.2758420944787121,
          -0.3912217728780727,
          -0.32639366667052894,
          -0.3677259849200192,
          -0.3064021860164342,
          -0.27578760035341987,
          -0.21908762704971763,
          0.01267205515342007,
          0.06146904970604483,
          0.004033876997522334,
          0.13478038106178558,
          0.20122545242935064,
          0.02600598218364869,
          0.011393658526296147,
          0.15648751255149618,
          0.13571067737484555,
          0.0927090753546147,
          0.08910977899293804,
          0.061319178345796255,
          0.10366046842920995,
          0.11473835651390796,
          -0.017766014466165214,
          -0.04759836162984621,
          -0.08941985237549199,
          -0.06421899939962794,
          0.051851836747064395,
          0.01147559444284263,
          -0.06367951372591363,
          -0.08591004288106552,
          -0.08360295620223068,
          -0.20213240183728276,
          -0.22289664258863262,
          -0.16014103043245265,
          -0.18387952695532583,
          -0.19321895048197502,
          -0.09614729559837498,
          -0.1267811706354669,
          -0.17879412133755768,
          -0.041932787083411305,
          -0.09689367536468718,
          -0.10158500022302386,
          -0.14833581139539675,
          -0.15418708146190407,
          -0.1481542811835619,
          -0.17682675856461283,
          -0.21571927214553177,
          -0.2285615277271119,
          -0.19966494390894285,
          -0.22820628269259313,
          -0.29152288958149686,
          -0.2711840073324271,
          -0.34637296402360485,
          -0.33699535784644463,
          -0.3410917643402116,
          -0.2840626026262243,
          -0.21783860153160672,
          -0.20395992567754884,
          -0.18190502138000653,
          -0.22949287169486077,
          -0.1958210796445511,
          -0.2151888661670892,
          -0.2174253223907333,
          -0.19813298374734645,
          -0.2459452540367255,
          -0.2281799166568912,
          -0.21625679744615844,
          -0.11922288162602812,
          -0.12500448491909366,
          0.0017383083062514348,
          -0.04933583947738229,
          -0.00759551305945716,
          -0.00038414261645680625,
          0.08795969093118305,
          0.07406321700894791,
          0.1158712721766817,
          -0.023981960124126678,
          0.09439883688315054,
          0.01073657919477311,
          0.07496782556331483,
          0.04211666099413347,
          -0.10669457681671768,
          -0.058546851773876196,
          -0.004386354796960701,
          -0.054295319143045084,
          -0.06478701439372181,
          -0.08848288773316892,
          -0.11795323826665316,
          -0.0921840747883419,
          -0.009470298624490558,
          -0.03781507851102717,
          -0.07592570201077675,
          -0.11472866618223776,
          -0.15996174469984947,
          -0.17113180674418194,
          -0.1279719527741503,
          -0.1959815625209359,
          -0.18405098193420966,
          -0.22970921573380088,
          -0.29525710372058434,
          -0.35948007249895153,
          -0.333011563087827,
          -0.2887103919704608,
          -0.295791336300842,
          -0.20601275140611142,
          -0.3131740746468855,
          -0.34970274182659156,
          -0.377500218161376,
          -0.37361303532613444,
          -0.5201430435865344,
          -0.5366510909217883,
          -0.7196878555924582,
          -0.67744383678278,
          -0.632514763355513,
          -0.624254572944321,
          -0.5940808440274211,
          -0.6299799418618697,
          -0.6068181348734696,
          -0.6650760443332309,
          -0.6624081616781112,
          -0.6969555546666584,
          -0.69403701439653,
          -0.661789241842857,
          -0.6967328461884219,
          -0.6893075417365732,
          -0.7058713864814078,
          -0.7449556764822364,
          -0.7657671664436095,
          -0.7415772868258026,
          -0.7245485066803408
         ],
         "yaxis": "y"
        }
       ],
       "layout": {
        "hovermode": "x",
        "legend": {
         "title": {
          "text": "asset"
         },
         "tracegroupgap": 0
        },
        "margin": {
         "t": 60
        },
        "template": {
         "data": {
          "bar": [
           {
            "error_x": {
             "color": "#2a3f5f"
            },
            "error_y": {
             "color": "#2a3f5f"
            },
            "marker": {
             "line": {
              "color": "white",
              "width": 0.5
             },
             "pattern": {
              "fillmode": "overlay",
              "size": 10,
              "solidity": 0.2
             }
            },
            "type": "bar"
           }
          ],
          "barpolar": [
           {
            "marker": {
             "line": {
              "color": "white",
              "width": 0.5
             },
             "pattern": {
              "fillmode": "overlay",
              "size": 10,
              "solidity": 0.2
             }
            },
            "type": "barpolar"
           }
          ],
          "carpet": [
           {
            "aaxis": {
             "endlinecolor": "#2a3f5f",
             "gridcolor": "#C8D4E3",
             "linecolor": "#C8D4E3",
             "minorgridcolor": "#C8D4E3",
             "startlinecolor": "#2a3f5f"
            },
            "baxis": {
             "endlinecolor": "#2a3f5f",
             "gridcolor": "#C8D4E3",
             "linecolor": "#C8D4E3",
             "minorgridcolor": "#C8D4E3",
             "startlinecolor": "#2a3f5f"
            },
            "type": "carpet"
           }
          ],
          "choropleth": [
           {
            "colorbar": {
             "outlinewidth": 0,
             "ticks": ""
            },
            "type": "choropleth"
           }
          ],
          "contour": [
           {
            "colorbar": {
             "outlinewidth": 0,
             "ticks": ""
            },
            "colorscale": [
             [
              0,
              "#0d0887"
             ],
             [
              0.1111111111111111,
              "#46039f"
             ],
             [
              0.2222222222222222,
              "#7201a8"
             ],
             [
              0.3333333333333333,
              "#9c179e"
             ],
             [
              0.4444444444444444,
              "#bd3786"
             ],
             [
              0.5555555555555556,
              "#d8576b"
             ],
             [
              0.6666666666666666,
              "#ed7953"
             ],
             [
              0.7777777777777778,
              "#fb9f3a"
             ],
             [
              0.8888888888888888,
              "#fdca26"
             ],
             [
              1,
              "#f0f921"
             ]
            ],
            "type": "contour"
           }
          ],
          "contourcarpet": [
           {
            "colorbar": {
             "outlinewidth": 0,
             "ticks": ""
            },
            "type": "contourcarpet"
           }
          ],
          "heatmap": [
           {
            "colorbar": {
             "outlinewidth": 0,
             "ticks": ""
            },
            "colorscale": [
             [
              0,
              "#0d0887"
             ],
             [
              0.1111111111111111,
              "#46039f"
             ],
             [
              0.2222222222222222,
              "#7201a8"
             ],
             [
              0.3333333333333333,
              "#9c179e"
             ],
             [
              0.4444444444444444,
              "#bd3786"
             ],
             [
              0.5555555555555556,
              "#d8576b"
             ],
             [
              0.6666666666666666,
              "#ed7953"
             ],
             [
              0.7777777777777778,
              "#fb9f3a"
             ],
             [
              0.8888888888888888,
              "#fdca26"
             ],
             [
              1,
              "#f0f921"
             ]
            ],
            "type": "heatmap"
           }
          ],
          "heatmapgl": [
           {
            "colorbar": {
             "outlinewidth": 0,
             "ticks": ""
            },
            "colorscale": [
             [
              0,
              "#0d0887"
             ],
             [
              0.1111111111111111,
              "#46039f"
             ],
             [
              0.2222222222222222,
              "#7201a8"
             ],
             [
              0.3333333333333333,
              "#9c179e"
             ],
             [
              0.4444444444444444,
              "#bd3786"
             ],
             [
              0.5555555555555556,
              "#d8576b"
             ],
             [
              0.6666666666666666,
              "#ed7953"
             ],
             [
              0.7777777777777778,
              "#fb9f3a"
             ],
             [
              0.8888888888888888,
              "#fdca26"
             ],
             [
              1,
              "#f0f921"
             ]
            ],
            "type": "heatmapgl"
           }
          ],
          "histogram": [
           {
            "marker": {
             "pattern": {
              "fillmode": "overlay",
              "size": 10,
              "solidity": 0.2
             }
            },
            "type": "histogram"
           }
          ],
          "histogram2d": [
           {
            "colorbar": {
             "outlinewidth": 0,
             "ticks": ""
            },
            "colorscale": [
             [
              0,
              "#0d0887"
             ],
             [
              0.1111111111111111,
              "#46039f"
             ],
             [
              0.2222222222222222,
              "#7201a8"
             ],
             [
              0.3333333333333333,
              "#9c179e"
             ],
             [
              0.4444444444444444,
              "#bd3786"
             ],
             [
              0.5555555555555556,
              "#d8576b"
             ],
             [
              0.6666666666666666,
              "#ed7953"
             ],
             [
              0.7777777777777778,
              "#fb9f3a"
             ],
             [
              0.8888888888888888,
              "#fdca26"
             ],
             [
              1,
              "#f0f921"
             ]
            ],
            "type": "histogram2d"
           }
          ],
          "histogram2dcontour": [
           {
            "colorbar": {
             "outlinewidth": 0,
             "ticks": ""
            },
            "colorscale": [
             [
              0,
              "#0d0887"
             ],
             [
              0.1111111111111111,
              "#46039f"
             ],
             [
              0.2222222222222222,
              "#7201a8"
             ],
             [
              0.3333333333333333,
              "#9c179e"
             ],
             [
              0.4444444444444444,
              "#bd3786"
             ],
             [
              0.5555555555555556,
              "#d8576b"
             ],
             [
              0.6666666666666666,
              "#ed7953"
             ],
             [
              0.7777777777777778,
              "#fb9f3a"
             ],
             [
              0.8888888888888888,
              "#fdca26"
             ],
             [
              1,
              "#f0f921"
             ]
            ],
            "type": "histogram2dcontour"
           }
          ],
          "mesh3d": [
           {
            "colorbar": {
             "outlinewidth": 0,
             "ticks": ""
            },
            "type": "mesh3d"
           }
          ],
          "parcoords": [
           {
            "line": {
             "colorbar": {
              "outlinewidth": 0,
              "ticks": ""
             }
            },
            "type": "parcoords"
           }
          ],
          "pie": [
           {
            "automargin": true,
            "type": "pie"
           }
          ],
          "scatter": [
           {
            "marker": {
             "colorbar": {
              "outlinewidth": 0,
              "ticks": ""
             }
            },
            "type": "scatter"
           }
          ],
          "scatter3d": [
           {
            "line": {
             "colorbar": {
              "outlinewidth": 0,
              "ticks": ""
             }
            },
            "marker": {
             "colorbar": {
              "outlinewidth": 0,
              "ticks": ""
             }
            },
            "type": "scatter3d"
           }
          ],
          "scattercarpet": [
           {
            "marker": {
             "colorbar": {
              "outlinewidth": 0,
              "ticks": ""
             }
            },
            "type": "scattercarpet"
           }
          ],
          "scattergeo": [
           {
            "marker": {
             "colorbar": {
              "outlinewidth": 0,
              "ticks": ""
             }
            },
            "type": "scattergeo"
           }
          ],
          "scattergl": [
           {
            "marker": {
             "colorbar": {
              "outlinewidth": 0,
              "ticks": ""
             }
            },
            "type": "scattergl"
           }
          ],
          "scattermapbox": [
           {
            "marker": {
             "colorbar": {
              "outlinewidth": 0,
              "ticks": ""
             }
            },
            "type": "scattermapbox"
           }
          ],
          "scatterpolar": [
           {
            "marker": {
             "colorbar": {
              "outlinewidth": 0,
              "ticks": ""
             }
            },
            "type": "scatterpolar"
           }
          ],
          "scatterpolargl": [
           {
            "marker": {
             "colorbar": {
              "outlinewidth": 0,
              "ticks": ""
             }
            },
            "type": "scatterpolargl"
           }
          ],
          "scatterternary": [
           {
            "marker": {
             "colorbar": {
              "outlinewidth": 0,
              "ticks": ""
             }
            },
            "type": "scatterternary"
           }
          ],
          "surface": [
           {
            "colorbar": {
             "outlinewidth": 0,
             "ticks": ""
            },
            "colorscale": [
             [
              0,
              "#0d0887"
             ],
             [
              0.1111111111111111,
              "#46039f"
             ],
             [
              0.2222222222222222,
              "#7201a8"
             ],
             [
              0.3333333333333333,
              "#9c179e"
             ],
             [
              0.4444444444444444,
              "#bd3786"
             ],
             [
              0.5555555555555556,
              "#d8576b"
             ],
             [
              0.6666666666666666,
              "#ed7953"
             ],
             [
              0.7777777777777778,
              "#fb9f3a"
             ],
             [
              0.8888888888888888,
              "#fdca26"
             ],
             [
              1,
              "#f0f921"
             ]
            ],
            "type": "surface"
           }
          ],
          "table": [
           {
            "cells": {
             "fill": {
              "color": "#EBF0F8"
             },
             "line": {
              "color": "white"
             }
            },
            "header": {
             "fill": {
              "color": "#C8D4E3"
             },
             "line": {
              "color": "white"
             }
            },
            "type": "table"
           }
          ]
         },
         "layout": {
          "annotationdefaults": {
           "arrowcolor": "#2a3f5f",
           "arrowhead": 0,
           "arrowwidth": 1
          },
          "autotypenumbers": "strict",
          "coloraxis": {
           "colorbar": {
            "outlinewidth": 0,
            "ticks": ""
           }
          },
          "colorscale": {
           "diverging": [
            [
             0,
             "#8e0152"
            ],
            [
             0.1,
             "#c51b7d"
            ],
            [
             0.2,
             "#de77ae"
            ],
            [
             0.3,
             "#f1b6da"
            ],
            [
             0.4,
             "#fde0ef"
            ],
            [
             0.5,
             "#f7f7f7"
            ],
            [
             0.6,
             "#e6f5d0"
            ],
            [
             0.7,
             "#b8e186"
            ],
            [
             0.8,
             "#7fbc41"
            ],
            [
             0.9,
             "#4d9221"
            ],
            [
             1,
             "#276419"
            ]
           ],
           "sequential": [
            [
             0,
             "#0d0887"
            ],
            [
             0.1111111111111111,
             "#46039f"
            ],
            [
             0.2222222222222222,
             "#7201a8"
            ],
            [
             0.3333333333333333,
             "#9c179e"
            ],
            [
             0.4444444444444444,
             "#bd3786"
            ],
            [
             0.5555555555555556,
             "#d8576b"
            ],
            [
             0.6666666666666666,
             "#ed7953"
            ],
            [
             0.7777777777777778,
             "#fb9f3a"
            ],
            [
             0.8888888888888888,
             "#fdca26"
            ],
            [
             1,
             "#f0f921"
            ]
           ],
           "sequentialminus": [
            [
             0,
             "#0d0887"
            ],
            [
             0.1111111111111111,
             "#46039f"
            ],
            [
             0.2222222222222222,
             "#7201a8"
            ],
            [
             0.3333333333333333,
             "#9c179e"
            ],
            [
             0.4444444444444444,
             "#bd3786"
            ],
            [
             0.5555555555555556,
             "#d8576b"
            ],
            [
             0.6666666666666666,
             "#ed7953"
            ],
            [
             0.7777777777777778,
             "#fb9f3a"
            ],
            [
             0.8888888888888888,
             "#fdca26"
            ],
            [
             1,
             "#f0f921"
            ]
           ]
          },
          "colorway": [
           "#636efa",
           "#EF553B",
           "#00cc96",
           "#ab63fa",
           "#FFA15A",
           "#19d3f3",
           "#FF6692",
           "#B6E880",
           "#FF97FF",
           "#FECB52"
          ],
          "font": {
           "color": "#2a3f5f"
          },
          "geo": {
           "bgcolor": "white",
           "lakecolor": "white",
           "landcolor": "white",
           "showlakes": true,
           "showland": true,
           "subunitcolor": "#C8D4E3"
          },
          "hoverlabel": {
           "align": "left"
          },
          "hovermode": "closest",
          "mapbox": {
           "style": "light"
          },
          "paper_bgcolor": "white",
          "plot_bgcolor": "white",
          "polar": {
           "angularaxis": {
            "gridcolor": "#EBF0F8",
            "linecolor": "#EBF0F8",
            "ticks": ""
           },
           "bgcolor": "white",
           "radialaxis": {
            "gridcolor": "#EBF0F8",
            "linecolor": "#EBF0F8",
            "ticks": ""
           }
          },
          "scene": {
           "xaxis": {
            "backgroundcolor": "white",
            "gridcolor": "#DFE8F3",
            "gridwidth": 2,
            "linecolor": "#EBF0F8",
            "showbackground": true,
            "ticks": "",
            "zerolinecolor": "#EBF0F8"
           },
           "yaxis": {
            "backgroundcolor": "white",
            "gridcolor": "#DFE8F3",
            "gridwidth": 2,
            "linecolor": "#EBF0F8",
            "showbackground": true,
            "ticks": "",
            "zerolinecolor": "#EBF0F8"
           },
           "zaxis": {
            "backgroundcolor": "white",
            "gridcolor": "#DFE8F3",
            "gridwidth": 2,
            "linecolor": "#EBF0F8",
            "showbackground": true,
            "ticks": "",
            "zerolinecolor": "#EBF0F8"
           }
          },
          "shapedefaults": {
           "line": {
            "color": "#2a3f5f"
           }
          },
          "ternary": {
           "aaxis": {
            "gridcolor": "#DFE8F3",
            "linecolor": "#A2B1C6",
            "ticks": ""
           },
           "baxis": {
            "gridcolor": "#DFE8F3",
            "linecolor": "#A2B1C6",
            "ticks": ""
           },
           "bgcolor": "white",
           "caxis": {
            "gridcolor": "#DFE8F3",
            "linecolor": "#A2B1C6",
            "ticks": ""
           }
          },
          "title": {
           "x": 0.05
          },
          "xaxis": {
           "automargin": true,
           "gridcolor": "#EBF0F8",
           "linecolor": "#EBF0F8",
           "ticks": "",
           "title": {
            "standoff": 15
           },
           "zerolinecolor": "#EBF0F8",
           "zerolinewidth": 2
          },
          "yaxis": {
           "automargin": true,
           "gridcolor": "#EBF0F8",
           "linecolor": "#EBF0F8",
           "ticks": "",
           "title": {
            "standoff": 15
           },
           "zerolinecolor": "#EBF0F8",
           "zerolinewidth": 2
          }
         }
        },
        "title": {
         "text": "Assets return"
        },
        "xaxis": {
         "anchor": "y",
         "domain": [
          0,
          1
         ],
         "showspikes": true,
         "spikecolor": "#999999",
         "spikedash": "dot",
         "spikemode": "across",
         "spikethickness": 2,
         "title": {
          "text": "date"
         }
        },
        "yaxis": {
         "anchor": "x",
         "domain": [
          0,
          1
         ],
         "tickformat": ".2%",
         "title": {
          "text": "return, %"
         }
        }
       }
      },
      "text/html": [
       "<div>                            <div id=\"f8048ca5-1b1d-4325-8d04-54ceb54c82d8\" class=\"plotly-graph-div\" style=\"height:525px; width:100%;\"></div>            <script type=\"text/javascript\">                require([\"plotly\"], function(Plotly) {                    window.PLOTLYENV=window.PLOTLYENV || {};                                    if (document.getElementById(\"f8048ca5-1b1d-4325-8d04-54ceb54c82d8\")) {                    Plotly.newPlot(                        \"f8048ca5-1b1d-4325-8d04-54ceb54c82d8\",                        [{\"hovertemplate\":\"%{y}\",\"legendgroup\":\"AVAX\",\"line\":{\"color\":\"#636efa\",\"dash\":\"solid\"},\"marker\":{\"symbol\":\"circle\"},\"mode\":\"lines\",\"name\":\"AVAX\",\"orientation\":\"v\",\"showlegend\":true,\"x\":[\"2021-08-26T00:00:00\",\"2021-08-27T00:00:00\",\"2021-08-28T00:00:00\",\"2021-08-29T00:00:00\",\"2021-08-30T00:00:00\",\"2021-08-31T00:00:00\",\"2021-09-01T00:00:00\",\"2021-09-02T00:00:00\",\"2021-09-03T00:00:00\",\"2021-09-04T00:00:00\",\"2021-09-05T00:00:00\",\"2021-09-06T00:00:00\",\"2021-09-07T00:00:00\",\"2021-09-08T00:00:00\",\"2021-09-09T00:00:00\",\"2021-09-10T00:00:00\",\"2021-09-11T00:00:00\",\"2021-09-12T00:00:00\",\"2021-09-13T00:00:00\",\"2021-09-14T00:00:00\",\"2021-09-15T00:00:00\",\"2021-09-16T00:00:00\",\"2021-09-17T00:00:00\",\"2021-09-18T00:00:00\",\"2021-09-19T00:00:00\",\"2021-09-20T00:00:00\",\"2021-09-21T00:00:00\",\"2021-09-22T00:00:00\",\"2021-09-23T00:00:00\",\"2021-09-24T00:00:00\",\"2021-09-25T00:00:00\",\"2021-09-26T00:00:00\",\"2021-09-27T00:00:00\",\"2021-09-28T00:00:00\",\"2021-09-29T00:00:00\",\"2021-09-30T00:00:00\",\"2021-10-01T00:00:00\",\"2021-10-02T00:00:00\",\"2021-10-03T00:00:00\",\"2021-10-04T00:00:00\",\"2021-10-05T00:00:00\",\"2021-10-06T00:00:00\",\"2021-10-07T00:00:00\",\"2021-10-08T00:00:00\",\"2021-10-09T00:00:00\",\"2021-10-10T00:00:00\",\"2021-10-11T00:00:00\",\"2021-10-12T00:00:00\",\"2021-10-13T00:00:00\",\"2021-10-14T00:00:00\",\"2021-10-15T00:00:00\",\"2021-10-16T00:00:00\",\"2021-10-17T00:00:00\",\"2021-10-18T00:00:00\",\"2021-10-19T00:00:00\",\"2021-10-20T00:00:00\",\"2021-10-21T00:00:00\",\"2021-10-22T00:00:00\",\"2021-10-23T00:00:00\",\"2021-10-24T00:00:00\",\"2021-10-25T00:00:00\",\"2021-10-26T00:00:00\",\"2021-10-27T00:00:00\",\"2021-10-28T00:00:00\",\"2021-10-29T00:00:00\",\"2021-10-30T00:00:00\",\"2021-10-31T00:00:00\",\"2021-11-01T00:00:00\",\"2021-11-02T00:00:00\",\"2021-11-03T00:00:00\",\"2021-11-04T00:00:00\",\"2021-11-05T00:00:00\",\"2021-11-06T00:00:00\",\"2021-11-07T00:00:00\",\"2021-11-08T00:00:00\",\"2021-11-09T00:00:00\",\"2021-11-10T00:00:00\",\"2021-11-11T00:00:00\",\"2021-11-12T00:00:00\",\"2021-11-13T00:00:00\",\"2021-11-14T00:00:00\",\"2021-11-15T00:00:00\",\"2021-11-16T00:00:00\",\"2021-11-17T00:00:00\",\"2021-11-18T00:00:00\",\"2021-11-19T00:00:00\",\"2021-11-20T00:00:00\",\"2021-11-21T00:00:00\",\"2021-11-22T00:00:00\",\"2021-11-23T00:00:00\",\"2021-11-24T00:00:00\",\"2021-11-25T00:00:00\",\"2021-11-26T00:00:00\",\"2021-11-27T00:00:00\",\"2021-11-28T00:00:00\",\"2021-11-29T00:00:00\",\"2021-11-30T00:00:00\",\"2021-12-01T00:00:00\",\"2021-12-02T00:00:00\",\"2021-12-03T00:00:00\",\"2021-12-04T00:00:00\",\"2021-12-05T00:00:00\",\"2021-12-06T00:00:00\",\"2021-12-07T00:00:00\",\"2021-12-08T00:00:00\",\"2021-12-09T00:00:00\",\"2021-12-10T00:00:00\",\"2021-12-11T00:00:00\",\"2021-12-12T00:00:00\",\"2021-12-13T00:00:00\",\"2021-12-14T00:00:00\",\"2021-12-15T00:00:00\",\"2021-12-16T00:00:00\",\"2021-12-17T00:00:00\",\"2021-12-18T00:00:00\",\"2021-12-19T00:00:00\",\"2021-12-20T00:00:00\",\"2021-12-21T00:00:00\",\"2021-12-22T00:00:00\",\"2021-12-23T00:00:00\",\"2021-12-24T00:00:00\",\"2021-12-25T00:00:00\",\"2021-12-26T00:00:00\",\"2021-12-27T00:00:00\",\"2021-12-28T00:00:00\",\"2021-12-29T00:00:00\",\"2021-12-30T00:00:00\",\"2021-12-31T00:00:00\",\"2022-01-01T00:00:00\",\"2022-01-02T00:00:00\",\"2022-01-03T00:00:00\",\"2022-01-04T00:00:00\",\"2022-01-05T00:00:00\",\"2022-01-06T00:00:00\",\"2022-01-07T00:00:00\",\"2022-01-08T00:00:00\",\"2022-01-09T00:00:00\",\"2022-01-10T00:00:00\",\"2022-01-11T00:00:00\",\"2022-01-12T00:00:00\",\"2022-01-13T00:00:00\",\"2022-01-14T00:00:00\",\"2022-01-15T00:00:00\",\"2022-01-16T00:00:00\",\"2022-01-17T00:00:00\",\"2022-01-18T00:00:00\",\"2022-01-19T00:00:00\",\"2022-01-20T00:00:00\",\"2022-01-21T00:00:00\",\"2022-01-22T00:00:00\",\"2022-01-23T00:00:00\",\"2022-01-24T00:00:00\",\"2022-01-25T00:00:00\",\"2022-01-26T00:00:00\",\"2022-01-27T00:00:00\",\"2022-01-28T00:00:00\",\"2022-01-29T00:00:00\",\"2022-01-30T00:00:00\",\"2022-01-31T00:00:00\",\"2022-02-01T00:00:00\",\"2022-02-02T00:00:00\",\"2022-02-03T00:00:00\",\"2022-02-04T00:00:00\",\"2022-02-05T00:00:00\",\"2022-02-06T00:00:00\",\"2022-02-07T00:00:00\",\"2022-02-08T00:00:00\",\"2022-02-09T00:00:00\",\"2022-02-10T00:00:00\",\"2022-02-11T00:00:00\",\"2022-02-12T00:00:00\",\"2022-02-13T00:00:00\",\"2022-02-14T00:00:00\",\"2022-02-15T00:00:00\",\"2022-02-16T00:00:00\",\"2022-02-17T00:00:00\",\"2022-02-18T00:00:00\",\"2022-02-19T00:00:00\",\"2022-02-20T00:00:00\",\"2022-02-21T00:00:00\",\"2022-02-22T00:00:00\",\"2022-02-23T00:00:00\",\"2022-02-24T00:00:00\",\"2022-02-25T00:00:00\",\"2022-02-26T00:00:00\",\"2022-02-27T00:00:00\",\"2022-02-28T00:00:00\",\"2022-03-01T00:00:00\",\"2022-03-02T00:00:00\",\"2022-03-03T00:00:00\",\"2022-03-04T00:00:00\",\"2022-03-05T00:00:00\",\"2022-03-06T00:00:00\",\"2022-03-07T00:00:00\",\"2022-03-08T00:00:00\",\"2022-03-09T00:00:00\",\"2022-03-10T00:00:00\",\"2022-03-11T00:00:00\",\"2022-03-12T00:00:00\",\"2022-03-13T00:00:00\",\"2022-03-14T00:00:00\",\"2022-03-15T00:00:00\",\"2022-03-16T00:00:00\",\"2022-03-17T00:00:00\",\"2022-03-18T00:00:00\",\"2022-03-19T00:00:00\",\"2022-03-20T00:00:00\",\"2022-03-21T00:00:00\",\"2022-03-22T00:00:00\",\"2022-03-23T00:00:00\",\"2022-03-24T00:00:00\",\"2022-03-25T00:00:00\",\"2022-03-26T00:00:00\",\"2022-03-27T00:00:00\",\"2022-03-28T00:00:00\",\"2022-03-29T00:00:00\",\"2022-03-30T00:00:00\",\"2022-03-31T00:00:00\",\"2022-04-01T00:00:00\",\"2022-04-02T00:00:00\",\"2022-04-03T00:00:00\",\"2022-04-04T00:00:00\",\"2022-04-05T00:00:00\",\"2022-04-06T00:00:00\",\"2022-04-07T00:00:00\",\"2022-04-08T00:00:00\",\"2022-04-09T00:00:00\",\"2022-04-10T00:00:00\",\"2022-04-11T00:00:00\",\"2022-04-12T00:00:00\",\"2022-04-13T00:00:00\",\"2022-04-14T00:00:00\",\"2022-04-15T00:00:00\",\"2022-04-16T00:00:00\",\"2022-04-17T00:00:00\",\"2022-04-18T00:00:00\",\"2022-04-19T00:00:00\",\"2022-04-20T00:00:00\",\"2022-04-21T00:00:00\",\"2022-04-22T00:00:00\",\"2022-04-23T00:00:00\",\"2022-04-24T00:00:00\",\"2022-04-25T00:00:00\",\"2022-04-26T00:00:00\",\"2022-04-27T00:00:00\",\"2022-04-28T00:00:00\",\"2022-04-29T00:00:00\",\"2022-04-30T00:00:00\",\"2022-05-01T00:00:00\",\"2022-05-02T00:00:00\",\"2022-05-03T00:00:00\",\"2022-05-04T00:00:00\",\"2022-05-05T00:00:00\",\"2022-05-06T00:00:00\",\"2022-05-07T00:00:00\",\"2022-05-08T00:00:00\",\"2022-05-09T00:00:00\",\"2022-05-10T00:00:00\",\"2022-05-11T00:00:00\",\"2022-05-12T00:00:00\",\"2022-05-13T00:00:00\",\"2022-05-14T00:00:00\",\"2022-05-15T00:00:00\",\"2022-05-16T00:00:00\",\"2022-05-17T00:00:00\",\"2022-05-18T00:00:00\",\"2022-05-19T00:00:00\",\"2022-05-20T00:00:00\",\"2022-05-21T00:00:00\",\"2022-05-22T00:00:00\",\"2022-05-23T00:00:00\",\"2022-05-24T00:00:00\",\"2022-05-25T00:00:00\",\"2022-05-26T00:00:00\",\"2022-05-27T00:00:00\",\"2022-05-28T00:00:00\",\"2022-05-29T00:00:00\",\"2022-05-30T00:00:00\"],\"xaxis\":\"x\",\"y\":[0.0,-0.10291041058161843,0.05933146595940508,0.0651151391356597,0.007607087598277662,-0.12493488598385771,-0.16027642234812867,-0.10064581540434725,0.007326722762917237,-0.029189706750877065,0.0013174354122471588,0.017736633697884807,0.0007178118109498755,-0.19250328585595666,-0.2212647495885386,-0.13206768271164449,0.026507024744307772,0.2345472415239498,0.2651065456491346,0.13421927362138963,0.0895148081699102,0.21527211006257652,0.4294875232275168,0.493254525376275,0.4514247619998706,0.48684508152213213,0.21670758616429064,0.22716831946039795,0.5728467803796258,0.6182044000021227,0.5375600030897547,0.45857626333630863,0.4209692110387975,0.41008458540502524,0.30201478550039096,0.3816827656584494,0.40871390360748694,0.4315148115442011,0.4725873090079409,0.4617234918276363,0.38293757917620086,0.3717605462265421,0.27423597873574024,0.2941386582762917,0.27726311584561025,0.2897658773164524,0.20042140160662902,0.17366293010988176,0.14849682704912226,0.17016576278288076,0.19054455398412395,0.195632714383563,0.2252411192269943,0.192669477118393,0.1758817577142857,0.2082761076204862,0.2672711771088805,0.30116310039144945,0.39213637425519865,0.393897201331983,0.3711911228517839,0.4779125032647804,0.46281680756591403,0.30778466344319466,0.36440533494559313,0.36975600713406,0.3196143683051229,0.3626018686843788,0.37556228262544566,0.4343878808556081,0.5901309303624005,0.6754062580241691,0.580565745785268,0.6615286427249489,0.867539733058831,0.932088410640677,0.8773588453585237,0.8023765298587482,0.8675033692338654,0.7975734204974749,1.0702794506313729,1.03509702700268,0.999879312399155,1.1073366500324848,1.299499615930468,1.0897870289963718,1.3602800574827518,1.671819596889259,1.758711238732265,1.849844988653421,1.6180676393331619,1.4577034788955299,1.5194258203509357,1.2130361135847356,1.373307291079827,1.3518846235133033,1.513734702957425,1.561884099299487,1.5277013805935065,1.290367869931699,1.2963795160811151,0.9574880157175356,0.8155603409584415,0.9690117902973163,0.9056017176332531,0.970568147903264,0.8305425407120779,0.7326309785246743,0.8243773910390908,0.8695233493094661,0.6721507615334839,0.8489471293595836,1.1361976188828087,1.090584064744513,1.365181121030052,1.451937433354546,1.2942449780100147,1.4220691330503512,1.6167830593768224,1.4710131184992679,1.5848996724581093,1.4392884234523455,1.4435955918409742,1.4467633483716282,1.4165954031023,1.2824219928686893,1.1956489079069765,1.1519826888428728,1.3233719690894779,1.4164735303466323,1.3997551092587504,1.2949184645717544,1.2038638056538948,1.0817226787234442,1.0246501691172907,0.84024255378726,0.7815477270986915,0.8874711441087113,0.7897052287677049,0.8986204618491602,1.035138030690343,0.9011598421844089,0.9153902147585007,0.9801374217505472,0.9556421363846741,0.8415052236480374,0.823612075056176,0.758340909318336,0.6844288813900541,0.3971202812721206,0.2660657187637485,0.37210153557737247,0.3358382717209729,0.4442927390907647,0.40170177796289996,0.3741129184162111,0.42442743535847627,0.5311792503596908,0.44380785658001387,0.4850288266216387,0.5576002984381001,0.44112343566447043,0.44346468334431965,0.6412932741158626,0.6424384847884121,0.6676596624056146,0.7680521743899076,0.8340949638077002,0.9119779215436978,0.9318603906379366,0.7312133379433807,0.7202120336660494,0.6586622035167768,0.7371416965237383,0.9668122241355284,1.0226629379038132,0.8696937912515856,0.7820397329222806,0.8062998488793884,0.6406510940062726,0.4839381698974121,0.5795715821631642,0.5663607135498847,0.6236995662005871,0.7163171908656534,0.7300682238831275,0.588294082141428,0.78767576676651,0.84039134143853,0.7629302485418714,0.6704574878488638,0.6057953406049637,0.630114798713227,0.5378944642025283,0.5238172072595588,0.5453747000987699,0.6464156267716952,0.5690874136535877,0.508904081724225,0.5041470990018899,0.44387924750327334,0.45659453395895766,0.48057197482012515,0.5704142127197926,0.6890434187682615,0.8221282175181104,0.902703180934652,0.7980018382318061,0.8341682626637243,0.7820843523044134,0.8228452072105858,0.8535512397444442,0.7728742537011211,0.8238792996837643,0.8976538376250347,0.8959296700088473,0.9655652731390887,1.0353650888760986,1.0283256518462522,1.049210282420161,1.0401989105528893,1.0684273608686965,1.0236144952378075,0.9305430711038722,0.7566244559567603,0.864061106454354,0.7742067767868519,0.7929215625455255,0.7397336900247253,0.5702636162743326,0.6218454423274415,0.6964151610926623,0.6287367479709465,0.6407323745181839,0.6528331649422654,0.604879607533725,0.64799024420786,0.7016037387161209,0.6595306931133609,0.5918220718419585,0.5728199598245476,0.5457615932929298,0.5174743509547866,0.5430169852971558,0.45403592025126893,0.4796767421655119,0.4248506660711302,0.3460352010398038,0.21100721180556503,0.24845404141251115,0.2805399210398234,0.26419277341408076,0.42176203153550884,0.25394801895179264,0.209117253314965,0.17033389098188723,0.0887012152026081,-0.10354594396582317,-0.058097701872869334,-0.34501574498648724,-0.3553346284554427,-0.31993034445550983,-0.2794117346909558,-0.2280088571340363,-0.30914543406224415,-0.26836304920312126,-0.37393997489243913,-0.35399148505552014,-0.3857242818821113,-0.3643907867373736,-0.32522728981690663,-0.3844765557056745,-0.3860394011006423,-0.42307436074771454,-0.49995362144070643,-0.5245765480855016,-0.47253171149962636,-0.44755317519691296],\"yaxis\":\"y\",\"type\":\"scatter\"},{\"hovertemplate\":\"%{y}\",\"legendgroup\":\"JOE\",\"line\":{\"color\":\"#EF553B\",\"dash\":\"solid\"},\"marker\":{\"symbol\":\"circle\"},\"mode\":\"lines\",\"name\":\"JOE\",\"orientation\":\"v\",\"showlegend\":true,\"x\":[\"2021-08-26T00:00:00\",\"2021-08-27T00:00:00\",\"2021-08-28T00:00:00\",\"2021-08-29T00:00:00\",\"2021-08-30T00:00:00\",\"2021-08-31T00:00:00\",\"2021-09-01T00:00:00\",\"2021-09-02T00:00:00\",\"2021-09-03T00:00:00\",\"2021-09-04T00:00:00\",\"2021-09-05T00:00:00\",\"2021-09-06T00:00:00\",\"2021-09-07T00:00:00\",\"2021-09-08T00:00:00\",\"2021-09-09T00:00:00\",\"2021-09-10T00:00:00\",\"2021-09-11T00:00:00\",\"2021-09-12T00:00:00\",\"2021-09-13T00:00:00\",\"2021-09-14T00:00:00\",\"2021-09-15T00:00:00\",\"2021-09-16T00:00:00\",\"2021-09-17T00:00:00\",\"2021-09-18T00:00:00\",\"2021-09-19T00:00:00\",\"2021-09-20T00:00:00\",\"2021-09-21T00:00:00\",\"2021-09-22T00:00:00\",\"2021-09-23T00:00:00\",\"2021-09-24T00:00:00\",\"2021-09-25T00:00:00\",\"2021-09-26T00:00:00\",\"2021-09-27T00:00:00\",\"2021-09-28T00:00:00\",\"2021-09-29T00:00:00\",\"2021-09-30T00:00:00\",\"2021-10-01T00:00:00\",\"2021-10-02T00:00:00\",\"2021-10-03T00:00:00\",\"2021-10-04T00:00:00\",\"2021-10-05T00:00:00\",\"2021-10-06T00:00:00\",\"2021-10-07T00:00:00\",\"2021-10-08T00:00:00\",\"2021-10-09T00:00:00\",\"2021-10-10T00:00:00\",\"2021-10-11T00:00:00\",\"2021-10-12T00:00:00\",\"2021-10-13T00:00:00\",\"2021-10-14T00:00:00\",\"2021-10-15T00:00:00\",\"2021-10-16T00:00:00\",\"2021-10-17T00:00:00\",\"2021-10-18T00:00:00\",\"2021-10-19T00:00:00\",\"2021-10-20T00:00:00\",\"2021-10-21T00:00:00\",\"2021-10-22T00:00:00\",\"2021-10-23T00:00:00\",\"2021-10-24T00:00:00\",\"2021-10-25T00:00:00\",\"2021-10-26T00:00:00\",\"2021-10-27T00:00:00\",\"2021-10-28T00:00:00\",\"2021-10-29T00:00:00\",\"2021-10-30T00:00:00\",\"2021-10-31T00:00:00\",\"2021-11-01T00:00:00\",\"2021-11-02T00:00:00\",\"2021-11-03T00:00:00\",\"2021-11-04T00:00:00\",\"2021-11-05T00:00:00\",\"2021-11-06T00:00:00\",\"2021-11-07T00:00:00\",\"2021-11-08T00:00:00\",\"2021-11-09T00:00:00\",\"2021-11-10T00:00:00\",\"2021-11-11T00:00:00\",\"2021-11-12T00:00:00\",\"2021-11-13T00:00:00\",\"2021-11-14T00:00:00\",\"2021-11-15T00:00:00\",\"2021-11-16T00:00:00\",\"2021-11-17T00:00:00\",\"2021-11-18T00:00:00\",\"2021-11-19T00:00:00\",\"2021-11-20T00:00:00\",\"2021-11-21T00:00:00\",\"2021-11-22T00:00:00\",\"2021-11-23T00:00:00\",\"2021-11-24T00:00:00\",\"2021-11-25T00:00:00\",\"2021-11-26T00:00:00\",\"2021-11-27T00:00:00\",\"2021-11-28T00:00:00\",\"2021-11-29T00:00:00\",\"2021-11-30T00:00:00\",\"2021-12-01T00:00:00\",\"2021-12-02T00:00:00\",\"2021-12-03T00:00:00\",\"2021-12-04T00:00:00\",\"2021-12-05T00:00:00\",\"2021-12-06T00:00:00\",\"2021-12-07T00:00:00\",\"2021-12-08T00:00:00\",\"2021-12-09T00:00:00\",\"2021-12-10T00:00:00\",\"2021-12-11T00:00:00\",\"2021-12-12T00:00:00\",\"2021-12-13T00:00:00\",\"2021-12-14T00:00:00\",\"2021-12-15T00:00:00\",\"2021-12-16T00:00:00\",\"2021-12-17T00:00:00\",\"2021-12-18T00:00:00\",\"2021-12-19T00:00:00\",\"2021-12-20T00:00:00\",\"2021-12-21T00:00:00\",\"2021-12-22T00:00:00\",\"2021-12-23T00:00:00\",\"2021-12-24T00:00:00\",\"2021-12-25T00:00:00\",\"2021-12-26T00:00:00\",\"2021-12-27T00:00:00\",\"2021-12-28T00:00:00\",\"2021-12-29T00:00:00\",\"2021-12-30T00:00:00\",\"2021-12-31T00:00:00\",\"2022-01-01T00:00:00\",\"2022-01-02T00:00:00\",\"2022-01-03T00:00:00\",\"2022-01-04T00:00:00\",\"2022-01-05T00:00:00\",\"2022-01-06T00:00:00\",\"2022-01-07T00:00:00\",\"2022-01-08T00:00:00\",\"2022-01-09T00:00:00\",\"2022-01-10T00:00:00\",\"2022-01-11T00:00:00\",\"2022-01-12T00:00:00\",\"2022-01-13T00:00:00\",\"2022-01-14T00:00:00\",\"2022-01-15T00:00:00\",\"2022-01-16T00:00:00\",\"2022-01-17T00:00:00\",\"2022-01-18T00:00:00\",\"2022-01-19T00:00:00\",\"2022-01-20T00:00:00\",\"2022-01-21T00:00:00\",\"2022-01-22T00:00:00\",\"2022-01-23T00:00:00\",\"2022-01-24T00:00:00\",\"2022-01-25T00:00:00\",\"2022-01-26T00:00:00\",\"2022-01-27T00:00:00\",\"2022-01-28T00:00:00\",\"2022-01-29T00:00:00\",\"2022-01-30T00:00:00\",\"2022-01-31T00:00:00\",\"2022-02-01T00:00:00\",\"2022-02-02T00:00:00\",\"2022-02-03T00:00:00\",\"2022-02-04T00:00:00\",\"2022-02-05T00:00:00\",\"2022-02-06T00:00:00\",\"2022-02-07T00:00:00\",\"2022-02-08T00:00:00\",\"2022-02-09T00:00:00\",\"2022-02-10T00:00:00\",\"2022-02-11T00:00:00\",\"2022-02-12T00:00:00\",\"2022-02-13T00:00:00\",\"2022-02-14T00:00:00\",\"2022-02-15T00:00:00\",\"2022-02-16T00:00:00\",\"2022-02-17T00:00:00\",\"2022-02-18T00:00:00\",\"2022-02-19T00:00:00\",\"2022-02-20T00:00:00\",\"2022-02-21T00:00:00\",\"2022-02-22T00:00:00\",\"2022-02-23T00:00:00\",\"2022-02-24T00:00:00\",\"2022-02-25T00:00:00\",\"2022-02-26T00:00:00\",\"2022-02-27T00:00:00\",\"2022-02-28T00:00:00\",\"2022-03-01T00:00:00\",\"2022-03-02T00:00:00\",\"2022-03-03T00:00:00\",\"2022-03-04T00:00:00\",\"2022-03-05T00:00:00\",\"2022-03-06T00:00:00\",\"2022-03-07T00:00:00\",\"2022-03-08T00:00:00\",\"2022-03-09T00:00:00\",\"2022-03-10T00:00:00\",\"2022-03-11T00:00:00\",\"2022-03-12T00:00:00\",\"2022-03-13T00:00:00\",\"2022-03-14T00:00:00\",\"2022-03-15T00:00:00\",\"2022-03-16T00:00:00\",\"2022-03-17T00:00:00\",\"2022-03-18T00:00:00\",\"2022-03-19T00:00:00\",\"2022-03-20T00:00:00\",\"2022-03-21T00:00:00\",\"2022-03-22T00:00:00\",\"2022-03-23T00:00:00\",\"2022-03-24T00:00:00\",\"2022-03-25T00:00:00\",\"2022-03-26T00:00:00\",\"2022-03-27T00:00:00\",\"2022-03-28T00:00:00\",\"2022-03-29T00:00:00\",\"2022-03-30T00:00:00\",\"2022-03-31T00:00:00\",\"2022-04-01T00:00:00\",\"2022-04-02T00:00:00\",\"2022-04-03T00:00:00\",\"2022-04-04T00:00:00\",\"2022-04-05T00:00:00\",\"2022-04-06T00:00:00\",\"2022-04-07T00:00:00\",\"2022-04-08T00:00:00\",\"2022-04-09T00:00:00\",\"2022-04-10T00:00:00\",\"2022-04-11T00:00:00\",\"2022-04-12T00:00:00\",\"2022-04-13T00:00:00\",\"2022-04-14T00:00:00\",\"2022-04-15T00:00:00\",\"2022-04-16T00:00:00\",\"2022-04-17T00:00:00\",\"2022-04-18T00:00:00\",\"2022-04-19T00:00:00\",\"2022-04-20T00:00:00\",\"2022-04-21T00:00:00\",\"2022-04-22T00:00:00\",\"2022-04-23T00:00:00\",\"2022-04-24T00:00:00\",\"2022-04-25T00:00:00\",\"2022-04-26T00:00:00\",\"2022-04-27T00:00:00\",\"2022-04-28T00:00:00\",\"2022-04-29T00:00:00\",\"2022-04-30T00:00:00\",\"2022-05-01T00:00:00\",\"2022-05-02T00:00:00\",\"2022-05-03T00:00:00\",\"2022-05-04T00:00:00\",\"2022-05-05T00:00:00\",\"2022-05-06T00:00:00\",\"2022-05-07T00:00:00\",\"2022-05-08T00:00:00\",\"2022-05-09T00:00:00\",\"2022-05-10T00:00:00\",\"2022-05-11T00:00:00\",\"2022-05-12T00:00:00\",\"2022-05-13T00:00:00\",\"2022-05-14T00:00:00\",\"2022-05-15T00:00:00\",\"2022-05-16T00:00:00\",\"2022-05-17T00:00:00\",\"2022-05-18T00:00:00\",\"2022-05-19T00:00:00\",\"2022-05-20T00:00:00\",\"2022-05-21T00:00:00\",\"2022-05-22T00:00:00\",\"2022-05-23T00:00:00\",\"2022-05-24T00:00:00\",\"2022-05-25T00:00:00\",\"2022-05-26T00:00:00\",\"2022-05-27T00:00:00\",\"2022-05-28T00:00:00\",\"2022-05-29T00:00:00\",\"2022-05-30T00:00:00\"],\"xaxis\":\"x\",\"y\":[0.0,0.468044529662931,0.7907963469955059,0.5942922153248227,0.9944530446369204,-0.0673601453080096,-0.13188002424781065,0.12906031853896738,0.5082525414358041,0.4055234302829551,0.5164538383788211,0.382786889751739,0.2194754118751956,0.0024546542846186625,-0.061575760656863654,0.07697971173215246,0.29027885080045257,0.7297819863629982,0.7259371052048453,0.5060856168001118,0.46290649485191526,0.8537976850935849,1.3945180815450584,1.2937435629072667,1.3799652509567037,1.6785369215153971,1.0033866266753955,1.273507301866469,2.4884880317380316,2.270196082141327,2.1774638761319896,1.7743344292272196,1.9536074450097716,2.1609732947347045,1.823325323696162,1.6069429961876187,1.4026923860589169,1.4935683235949542,1.2116616924840842,1.3049852684751162,1.1876378651011081,0.8985733110935432,0.7798180576056368,1.0517971018071797,0.9426921943139077,0.7607811260902482,0.6100727593825681,0.3735559513030724,0.45422189087376696,0.5782456952721691,0.44176987526496436,0.5631594556765036,0.7878251218027552,0.901236994055338,1.1555494715165073,1.3456710926663895,1.2518890060060346,1.4354425424309416,1.333585829355001,1.1105064943386025,1.1609019900883788,1.6421686370152622,1.5269194363830203,1.1634680774196986,1.3062308269678091,1.1411213752532223,0.9029827652218387,1.003840488975417,1.0304935257027426,0.9336241009200648,1.3260872850775085,1.5185482755285662,1.2869438505411632,1.277903080869533,1.3599026427197165,1.2615591882391257,1.1484853718358083,0.9293780318288551,0.9380591660908906,0.7849781191933225,1.083162482277939,1.124544514079881,1.218822838793566,1.397542989740272,1.7218978859158716,1.306099754079614,1.6441862755615557,2.290591819806996,2.632768607030002,2.3927389871689804,2.0485290667152216,1.821559729328686,1.9206172712645175,1.1098477495033556,1.3639019554727403,1.486788724586551,1.5788919953300704,1.5130402042135325,1.3834416792740702,1.0694267494642267,1.1320025449775981,0.8246212971658586,0.7393123754122317,0.7651928853234868,0.9823246778900918,1.0620857386154632,0.7927672790068561,0.57861190736562,0.7437815035887312,0.6577936622574181,0.41641185281514326,0.7158307267022661,0.8295145355301023,0.8722010197244123,0.8851208654555134,0.9170688743739948,0.7315514854798659,0.8190563050752828,0.9036955597369507,0.7506972138854122,0.9750974788514919,0.7485027595019362,0.7413365240769394,0.8440425650652326,0.733909296361998,0.8786433216421983,0.7770450906002269,0.6281256252750633,0.6665083005850003,0.6479467826622156,0.5393578570064952,0.4354386440568734,0.4286530324151059,0.31450145510544236,0.27488978243851125,0.14717815176751547,0.07351789600364889,0.17613301835095907,0.10963065799021243,0.20064365521481364,0.27434613915353356,0.18444870997592755,0.16506451918186893,0.2245953819059654,0.25997128168059436,0.1507553580183929,0.10564625548531748,0.02288065821643004,-0.062334247004349974,-0.2758420944787121,-0.3912217728780727,-0.32639366667052894,-0.3677259849200192,-0.3064021860164342,-0.27578760035341987,-0.21908762704971763,0.01267205515342007,0.06146904970604483,0.004033876997522334,0.13478038106178558,0.20122545242935064,0.02600598218364869,0.011393658526296147,0.15648751255149618,0.13571067737484555,0.0927090753546147,0.08910977899293804,0.061319178345796255,0.10366046842920995,0.11473835651390796,-0.017766014466165214,-0.04759836162984621,-0.08941985237549199,-0.06421899939962794,0.051851836747064395,0.01147559444284263,-0.06367951372591363,-0.08591004288106552,-0.08360295620223068,-0.20213240183728276,-0.22289664258863262,-0.16014103043245265,-0.18387952695532583,-0.19321895048197502,-0.09614729559837498,-0.1267811706354669,-0.17879412133755768,-0.041932787083411305,-0.09689367536468718,-0.10158500022302386,-0.14833581139539675,-0.15418708146190407,-0.1481542811835619,-0.17682675856461283,-0.21571927214553177,-0.2285615277271119,-0.19966494390894285,-0.22820628269259313,-0.29152288958149686,-0.2711840073324271,-0.34637296402360485,-0.33699535784644463,-0.3410917643402116,-0.2840626026262243,-0.21783860153160672,-0.20395992567754884,-0.18190502138000653,-0.22949287169486077,-0.1958210796445511,-0.2151888661670892,-0.2174253223907333,-0.19813298374734645,-0.2459452540367255,-0.2281799166568912,-0.21625679744615844,-0.11922288162602812,-0.12500448491909366,0.0017383083062514348,-0.04933583947738229,-0.00759551305945716,-0.00038414261645680625,0.08795969093118305,0.07406321700894791,0.1158712721766817,-0.023981960124126678,0.09439883688315054,0.01073657919477311,0.07496782556331483,0.04211666099413347,-0.10669457681671768,-0.058546851773876196,-0.004386354796960701,-0.054295319143045084,-0.06478701439372181,-0.08848288773316892,-0.11795323826665316,-0.0921840747883419,-0.009470298624490558,-0.03781507851102717,-0.07592570201077675,-0.11472866618223776,-0.15996174469984947,-0.17113180674418194,-0.1279719527741503,-0.1959815625209359,-0.18405098193420966,-0.22970921573380088,-0.29525710372058434,-0.35948007249895153,-0.333011563087827,-0.2887103919704608,-0.295791336300842,-0.20601275140611142,-0.3131740746468855,-0.34970274182659156,-0.377500218161376,-0.37361303532613444,-0.5201430435865344,-0.5366510909217883,-0.7196878555924582,-0.67744383678278,-0.632514763355513,-0.624254572944321,-0.5940808440274211,-0.6299799418618697,-0.6068181348734696,-0.6650760443332309,-0.6624081616781112,-0.6969555546666584,-0.69403701439653,-0.661789241842857,-0.6967328461884219,-0.6893075417365732,-0.7058713864814078,-0.7449556764822364,-0.7657671664436095,-0.7415772868258026,-0.7245485066803408],\"yaxis\":\"y\",\"type\":\"scatter\"}],                        {\"template\":{\"data\":{\"barpolar\":[{\"marker\":{\"line\":{\"color\":\"white\",\"width\":0.5},\"pattern\":{\"fillmode\":\"overlay\",\"size\":10,\"solidity\":0.2}},\"type\":\"barpolar\"}],\"bar\":[{\"error_x\":{\"color\":\"#2a3f5f\"},\"error_y\":{\"color\":\"#2a3f5f\"},\"marker\":{\"line\":{\"color\":\"white\",\"width\":0.5},\"pattern\":{\"fillmode\":\"overlay\",\"size\":10,\"solidity\":0.2}},\"type\":\"bar\"}],\"carpet\":[{\"aaxis\":{\"endlinecolor\":\"#2a3f5f\",\"gridcolor\":\"#C8D4E3\",\"linecolor\":\"#C8D4E3\",\"minorgridcolor\":\"#C8D4E3\",\"startlinecolor\":\"#2a3f5f\"},\"baxis\":{\"endlinecolor\":\"#2a3f5f\",\"gridcolor\":\"#C8D4E3\",\"linecolor\":\"#C8D4E3\",\"minorgridcolor\":\"#C8D4E3\",\"startlinecolor\":\"#2a3f5f\"},\"type\":\"carpet\"}],\"choropleth\":[{\"colorbar\":{\"outlinewidth\":0,\"ticks\":\"\"},\"type\":\"choropleth\"}],\"contourcarpet\":[{\"colorbar\":{\"outlinewidth\":0,\"ticks\":\"\"},\"type\":\"contourcarpet\"}],\"contour\":[{\"colorbar\":{\"outlinewidth\":0,\"ticks\":\"\"},\"colorscale\":[[0.0,\"#0d0887\"],[0.1111111111111111,\"#46039f\"],[0.2222222222222222,\"#7201a8\"],[0.3333333333333333,\"#9c179e\"],[0.4444444444444444,\"#bd3786\"],[0.5555555555555556,\"#d8576b\"],[0.6666666666666666,\"#ed7953\"],[0.7777777777777778,\"#fb9f3a\"],[0.8888888888888888,\"#fdca26\"],[1.0,\"#f0f921\"]],\"type\":\"contour\"}],\"heatmapgl\":[{\"colorbar\":{\"outlinewidth\":0,\"ticks\":\"\"},\"colorscale\":[[0.0,\"#0d0887\"],[0.1111111111111111,\"#46039f\"],[0.2222222222222222,\"#7201a8\"],[0.3333333333333333,\"#9c179e\"],[0.4444444444444444,\"#bd3786\"],[0.5555555555555556,\"#d8576b\"],[0.6666666666666666,\"#ed7953\"],[0.7777777777777778,\"#fb9f3a\"],[0.8888888888888888,\"#fdca26\"],[1.0,\"#f0f921\"]],\"type\":\"heatmapgl\"}],\"heatmap\":[{\"colorbar\":{\"outlinewidth\":0,\"ticks\":\"\"},\"colorscale\":[[0.0,\"#0d0887\"],[0.1111111111111111,\"#46039f\"],[0.2222222222222222,\"#7201a8\"],[0.3333333333333333,\"#9c179e\"],[0.4444444444444444,\"#bd3786\"],[0.5555555555555556,\"#d8576b\"],[0.6666666666666666,\"#ed7953\"],[0.7777777777777778,\"#fb9f3a\"],[0.8888888888888888,\"#fdca26\"],[1.0,\"#f0f921\"]],\"type\":\"heatmap\"}],\"histogram2dcontour\":[{\"colorbar\":{\"outlinewidth\":0,\"ticks\":\"\"},\"colorscale\":[[0.0,\"#0d0887\"],[0.1111111111111111,\"#46039f\"],[0.2222222222222222,\"#7201a8\"],[0.3333333333333333,\"#9c179e\"],[0.4444444444444444,\"#bd3786\"],[0.5555555555555556,\"#d8576b\"],[0.6666666666666666,\"#ed7953\"],[0.7777777777777778,\"#fb9f3a\"],[0.8888888888888888,\"#fdca26\"],[1.0,\"#f0f921\"]],\"type\":\"histogram2dcontour\"}],\"histogram2d\":[{\"colorbar\":{\"outlinewidth\":0,\"ticks\":\"\"},\"colorscale\":[[0.0,\"#0d0887\"],[0.1111111111111111,\"#46039f\"],[0.2222222222222222,\"#7201a8\"],[0.3333333333333333,\"#9c179e\"],[0.4444444444444444,\"#bd3786\"],[0.5555555555555556,\"#d8576b\"],[0.6666666666666666,\"#ed7953\"],[0.7777777777777778,\"#fb9f3a\"],[0.8888888888888888,\"#fdca26\"],[1.0,\"#f0f921\"]],\"type\":\"histogram2d\"}],\"histogram\":[{\"marker\":{\"pattern\":{\"fillmode\":\"overlay\",\"size\":10,\"solidity\":0.2}},\"type\":\"histogram\"}],\"mesh3d\":[{\"colorbar\":{\"outlinewidth\":0,\"ticks\":\"\"},\"type\":\"mesh3d\"}],\"parcoords\":[{\"line\":{\"colorbar\":{\"outlinewidth\":0,\"ticks\":\"\"}},\"type\":\"parcoords\"}],\"pie\":[{\"automargin\":true,\"type\":\"pie\"}],\"scatter3d\":[{\"line\":{\"colorbar\":{\"outlinewidth\":0,\"ticks\":\"\"}},\"marker\":{\"colorbar\":{\"outlinewidth\":0,\"ticks\":\"\"}},\"type\":\"scatter3d\"}],\"scattercarpet\":[{\"marker\":{\"colorbar\":{\"outlinewidth\":0,\"ticks\":\"\"}},\"type\":\"scattercarpet\"}],\"scattergeo\":[{\"marker\":{\"colorbar\":{\"outlinewidth\":0,\"ticks\":\"\"}},\"type\":\"scattergeo\"}],\"scattergl\":[{\"marker\":{\"colorbar\":{\"outlinewidth\":0,\"ticks\":\"\"}},\"type\":\"scattergl\"}],\"scattermapbox\":[{\"marker\":{\"colorbar\":{\"outlinewidth\":0,\"ticks\":\"\"}},\"type\":\"scattermapbox\"}],\"scatterpolargl\":[{\"marker\":{\"colorbar\":{\"outlinewidth\":0,\"ticks\":\"\"}},\"type\":\"scatterpolargl\"}],\"scatterpolar\":[{\"marker\":{\"colorbar\":{\"outlinewidth\":0,\"ticks\":\"\"}},\"type\":\"scatterpolar\"}],\"scatter\":[{\"marker\":{\"colorbar\":{\"outlinewidth\":0,\"ticks\":\"\"}},\"type\":\"scatter\"}],\"scatterternary\":[{\"marker\":{\"colorbar\":{\"outlinewidth\":0,\"ticks\":\"\"}},\"type\":\"scatterternary\"}],\"surface\":[{\"colorbar\":{\"outlinewidth\":0,\"ticks\":\"\"},\"colorscale\":[[0.0,\"#0d0887\"],[0.1111111111111111,\"#46039f\"],[0.2222222222222222,\"#7201a8\"],[0.3333333333333333,\"#9c179e\"],[0.4444444444444444,\"#bd3786\"],[0.5555555555555556,\"#d8576b\"],[0.6666666666666666,\"#ed7953\"],[0.7777777777777778,\"#fb9f3a\"],[0.8888888888888888,\"#fdca26\"],[1.0,\"#f0f921\"]],\"type\":\"surface\"}],\"table\":[{\"cells\":{\"fill\":{\"color\":\"#EBF0F8\"},\"line\":{\"color\":\"white\"}},\"header\":{\"fill\":{\"color\":\"#C8D4E3\"},\"line\":{\"color\":\"white\"}},\"type\":\"table\"}]},\"layout\":{\"annotationdefaults\":{\"arrowcolor\":\"#2a3f5f\",\"arrowhead\":0,\"arrowwidth\":1},\"autotypenumbers\":\"strict\",\"coloraxis\":{\"colorbar\":{\"outlinewidth\":0,\"ticks\":\"\"}},\"colorscale\":{\"diverging\":[[0,\"#8e0152\"],[0.1,\"#c51b7d\"],[0.2,\"#de77ae\"],[0.3,\"#f1b6da\"],[0.4,\"#fde0ef\"],[0.5,\"#f7f7f7\"],[0.6,\"#e6f5d0\"],[0.7,\"#b8e186\"],[0.8,\"#7fbc41\"],[0.9,\"#4d9221\"],[1,\"#276419\"]],\"sequential\":[[0.0,\"#0d0887\"],[0.1111111111111111,\"#46039f\"],[0.2222222222222222,\"#7201a8\"],[0.3333333333333333,\"#9c179e\"],[0.4444444444444444,\"#bd3786\"],[0.5555555555555556,\"#d8576b\"],[0.6666666666666666,\"#ed7953\"],[0.7777777777777778,\"#fb9f3a\"],[0.8888888888888888,\"#fdca26\"],[1.0,\"#f0f921\"]],\"sequentialminus\":[[0.0,\"#0d0887\"],[0.1111111111111111,\"#46039f\"],[0.2222222222222222,\"#7201a8\"],[0.3333333333333333,\"#9c179e\"],[0.4444444444444444,\"#bd3786\"],[0.5555555555555556,\"#d8576b\"],[0.6666666666666666,\"#ed7953\"],[0.7777777777777778,\"#fb9f3a\"],[0.8888888888888888,\"#fdca26\"],[1.0,\"#f0f921\"]]},\"colorway\":[\"#636efa\",\"#EF553B\",\"#00cc96\",\"#ab63fa\",\"#FFA15A\",\"#19d3f3\",\"#FF6692\",\"#B6E880\",\"#FF97FF\",\"#FECB52\"],\"font\":{\"color\":\"#2a3f5f\"},\"geo\":{\"bgcolor\":\"white\",\"lakecolor\":\"white\",\"landcolor\":\"white\",\"showlakes\":true,\"showland\":true,\"subunitcolor\":\"#C8D4E3\"},\"hoverlabel\":{\"align\":\"left\"},\"hovermode\":\"closest\",\"mapbox\":{\"style\":\"light\"},\"paper_bgcolor\":\"white\",\"plot_bgcolor\":\"white\",\"polar\":{\"angularaxis\":{\"gridcolor\":\"#EBF0F8\",\"linecolor\":\"#EBF0F8\",\"ticks\":\"\"},\"bgcolor\":\"white\",\"radialaxis\":{\"gridcolor\":\"#EBF0F8\",\"linecolor\":\"#EBF0F8\",\"ticks\":\"\"}},\"scene\":{\"xaxis\":{\"backgroundcolor\":\"white\",\"gridcolor\":\"#DFE8F3\",\"gridwidth\":2,\"linecolor\":\"#EBF0F8\",\"showbackground\":true,\"ticks\":\"\",\"zerolinecolor\":\"#EBF0F8\"},\"yaxis\":{\"backgroundcolor\":\"white\",\"gridcolor\":\"#DFE8F3\",\"gridwidth\":2,\"linecolor\":\"#EBF0F8\",\"showbackground\":true,\"ticks\":\"\",\"zerolinecolor\":\"#EBF0F8\"},\"zaxis\":{\"backgroundcolor\":\"white\",\"gridcolor\":\"#DFE8F3\",\"gridwidth\":2,\"linecolor\":\"#EBF0F8\",\"showbackground\":true,\"ticks\":\"\",\"zerolinecolor\":\"#EBF0F8\"}},\"shapedefaults\":{\"line\":{\"color\":\"#2a3f5f\"}},\"ternary\":{\"aaxis\":{\"gridcolor\":\"#DFE8F3\",\"linecolor\":\"#A2B1C6\",\"ticks\":\"\"},\"baxis\":{\"gridcolor\":\"#DFE8F3\",\"linecolor\":\"#A2B1C6\",\"ticks\":\"\"},\"bgcolor\":\"white\",\"caxis\":{\"gridcolor\":\"#DFE8F3\",\"linecolor\":\"#A2B1C6\",\"ticks\":\"\"}},\"title\":{\"x\":0.05},\"xaxis\":{\"automargin\":true,\"gridcolor\":\"#EBF0F8\",\"linecolor\":\"#EBF0F8\",\"ticks\":\"\",\"title\":{\"standoff\":15},\"zerolinecolor\":\"#EBF0F8\",\"zerolinewidth\":2},\"yaxis\":{\"automargin\":true,\"gridcolor\":\"#EBF0F8\",\"linecolor\":\"#EBF0F8\",\"ticks\":\"\",\"title\":{\"standoff\":15},\"zerolinecolor\":\"#EBF0F8\",\"zerolinewidth\":2}}},\"xaxis\":{\"anchor\":\"y\",\"domain\":[0.0,1.0],\"title\":{\"text\":\"date\"},\"showspikes\":true,\"spikethickness\":2,\"spikedash\":\"dot\",\"spikecolor\":\"#999999\",\"spikemode\":\"across\"},\"yaxis\":{\"anchor\":\"x\",\"domain\":[0.0,1.0],\"title\":{\"text\":\"return, %\"},\"tickformat\":\".2%\"},\"legend\":{\"title\":{\"text\":\"asset\"},\"tracegroupgap\":0},\"margin\":{\"t\":60},\"hovermode\":\"x\",\"title\":{\"text\":\"Assets return\"}},                        {\"responsive\": true}                    ).then(function(){\n",
       "                            \n",
       "var gd = document.getElementById('f8048ca5-1b1d-4325-8d04-54ceb54c82d8');\n",
       "var x = new MutationObserver(function (mutations, observer) {{\n",
       "        var display = window.getComputedStyle(gd).display;\n",
       "        if (!display || display === 'none') {{\n",
       "            console.log([gd, 'removed!']);\n",
       "            Plotly.purge(gd);\n",
       "            observer.disconnect();\n",
       "        }}\n",
       "}});\n",
       "\n",
       "// Listen for the removal of the full notebook cells\n",
       "var notebookContainer = gd.closest('#notebook-container');\n",
       "if (notebookContainer) {{\n",
       "    x.observe(notebookContainer, {childList: true});\n",
       "}}\n",
       "\n",
       "// Listen for the clearing of the current output cell\n",
       "var outputEl = gd.closest('.output');\n",
       "if (outputEl) {{\n",
       "    x.observe(outputEl, {childList: true});\n",
       "}}\n",
       "\n",
       "                        })                };                });            </script>        </div>"
      ]
     },
     "metadata": {},
     "output_type": "display_data"
    }
   ],
   "source": [
    "fig = px.line(prices_data/prices_data.iloc[0]-1,\n",
    "       labels={'variable': 'asset', 'value': 'return, %'})\n",
    "fig.update_traces(\n",
    "    hovertemplate=\"%{y}\"\n",
    ")\n",
    "fig.update_yaxes(\n",
    "    tickformat=\".2%\",\n",
    ")\n",
    "fig.update_xaxes(\n",
    "    showspikes=True,\n",
    "    spikethickness=2,\n",
    "    spikedash=\"dot\",\n",
    "    spikecolor=\"#999999\",\n",
    "    spikemode=\"across\",\n",
    ")\n",
    "fig.update_layout(\n",
    "    hovermode=\"x\",\n",
    "    template='plotly_white',\n",
    "    title='Assets return'\n",
    ")\n",
    "fig.show()"
   ]
  },
  {
   "cell_type": "code",
   "execution_count": 35,
   "id": "f9df84a5-4056-4566-ba51-b9099cf6d844",
   "metadata": {},
   "outputs": [
    {
     "data": {
      "application/vnd.plotly.v1+json": {
       "config": {
        "plotlyServerURL": "https://plot.ly"
       },
       "data": [
        {
         "hovertemplate": "%{y}",
         "legendgroup": "AVAX",
         "line": {
          "color": "#636efa",
          "dash": "solid"
         },
         "marker": {
          "symbol": "circle"
         },
         "mode": "lines",
         "name": "AVAX",
         "orientation": "v",
         "showlegend": true,
         "type": "scatter",
         "x": [
          "2021-08-26T00:00:00",
          "2021-08-27T00:00:00",
          "2021-08-28T00:00:00",
          "2021-08-29T00:00:00",
          "2021-08-30T00:00:00",
          "2021-08-31T00:00:00",
          "2021-09-01T00:00:00",
          "2021-09-02T00:00:00",
          "2021-09-03T00:00:00",
          "2021-09-04T00:00:00",
          "2021-09-05T00:00:00",
          "2021-09-06T00:00:00",
          "2021-09-07T00:00:00",
          "2021-09-08T00:00:00",
          "2021-09-09T00:00:00",
          "2021-09-10T00:00:00",
          "2021-09-11T00:00:00",
          "2021-09-12T00:00:00",
          "2021-09-13T00:00:00",
          "2021-09-14T00:00:00",
          "2021-09-15T00:00:00",
          "2021-09-16T00:00:00",
          "2021-09-17T00:00:00",
          "2021-09-18T00:00:00",
          "2021-09-19T00:00:00",
          "2021-09-20T00:00:00",
          "2021-09-21T00:00:00",
          "2021-09-22T00:00:00",
          "2021-09-23T00:00:00",
          "2021-09-24T00:00:00",
          "2021-09-25T00:00:00",
          "2021-09-26T00:00:00",
          "2021-09-27T00:00:00",
          "2021-09-28T00:00:00",
          "2021-09-29T00:00:00",
          "2021-09-30T00:00:00",
          "2021-10-01T00:00:00",
          "2021-10-02T00:00:00",
          "2021-10-03T00:00:00",
          "2021-10-04T00:00:00",
          "2021-10-05T00:00:00",
          "2021-10-06T00:00:00",
          "2021-10-07T00:00:00",
          "2021-10-08T00:00:00",
          "2021-10-09T00:00:00",
          "2021-10-10T00:00:00",
          "2021-10-11T00:00:00",
          "2021-10-12T00:00:00",
          "2021-10-13T00:00:00",
          "2021-10-14T00:00:00",
          "2021-10-15T00:00:00",
          "2021-10-16T00:00:00",
          "2021-10-17T00:00:00",
          "2021-10-18T00:00:00",
          "2021-10-19T00:00:00",
          "2021-10-20T00:00:00",
          "2021-10-21T00:00:00",
          "2021-10-22T00:00:00",
          "2021-10-23T00:00:00",
          "2021-10-24T00:00:00",
          "2021-10-25T00:00:00",
          "2021-10-26T00:00:00",
          "2021-10-27T00:00:00",
          "2021-10-28T00:00:00",
          "2021-10-29T00:00:00",
          "2021-10-30T00:00:00",
          "2021-10-31T00:00:00",
          "2021-11-01T00:00:00",
          "2021-11-02T00:00:00",
          "2021-11-03T00:00:00",
          "2021-11-04T00:00:00",
          "2021-11-05T00:00:00",
          "2021-11-06T00:00:00",
          "2021-11-07T00:00:00",
          "2021-11-08T00:00:00",
          "2021-11-09T00:00:00",
          "2021-11-10T00:00:00",
          "2021-11-11T00:00:00",
          "2021-11-12T00:00:00",
          "2021-11-13T00:00:00",
          "2021-11-14T00:00:00",
          "2021-11-15T00:00:00",
          "2021-11-16T00:00:00",
          "2021-11-17T00:00:00",
          "2021-11-18T00:00:00",
          "2021-11-19T00:00:00",
          "2021-11-20T00:00:00",
          "2021-11-21T00:00:00",
          "2021-11-22T00:00:00",
          "2021-11-23T00:00:00",
          "2021-11-24T00:00:00",
          "2021-11-25T00:00:00",
          "2021-11-26T00:00:00",
          "2021-11-27T00:00:00",
          "2021-11-28T00:00:00",
          "2021-11-29T00:00:00",
          "2021-11-30T00:00:00",
          "2021-12-01T00:00:00",
          "2021-12-02T00:00:00",
          "2021-12-03T00:00:00",
          "2021-12-04T00:00:00",
          "2021-12-05T00:00:00",
          "2021-12-06T00:00:00",
          "2021-12-07T00:00:00",
          "2021-12-08T00:00:00",
          "2021-12-09T00:00:00",
          "2021-12-10T00:00:00",
          "2021-12-11T00:00:00",
          "2021-12-12T00:00:00",
          "2021-12-13T00:00:00",
          "2021-12-14T00:00:00",
          "2021-12-15T00:00:00",
          "2021-12-16T00:00:00",
          "2021-12-17T00:00:00",
          "2021-12-18T00:00:00",
          "2021-12-19T00:00:00",
          "2021-12-20T00:00:00",
          "2021-12-21T00:00:00",
          "2021-12-22T00:00:00",
          "2021-12-23T00:00:00",
          "2021-12-24T00:00:00",
          "2021-12-25T00:00:00",
          "2021-12-26T00:00:00",
          "2021-12-27T00:00:00",
          "2021-12-28T00:00:00",
          "2021-12-29T00:00:00",
          "2021-12-30T00:00:00",
          "2021-12-31T00:00:00",
          "2022-01-01T00:00:00",
          "2022-01-02T00:00:00",
          "2022-01-03T00:00:00",
          "2022-01-04T00:00:00",
          "2022-01-05T00:00:00",
          "2022-01-06T00:00:00",
          "2022-01-07T00:00:00",
          "2022-01-08T00:00:00",
          "2022-01-09T00:00:00",
          "2022-01-10T00:00:00",
          "2022-01-11T00:00:00",
          "2022-01-12T00:00:00",
          "2022-01-13T00:00:00",
          "2022-01-14T00:00:00",
          "2022-01-15T00:00:00",
          "2022-01-16T00:00:00",
          "2022-01-17T00:00:00",
          "2022-01-18T00:00:00",
          "2022-01-19T00:00:00",
          "2022-01-20T00:00:00",
          "2022-01-21T00:00:00",
          "2022-01-22T00:00:00",
          "2022-01-23T00:00:00",
          "2022-01-24T00:00:00",
          "2022-01-25T00:00:00",
          "2022-01-26T00:00:00",
          "2022-01-27T00:00:00",
          "2022-01-28T00:00:00",
          "2022-01-29T00:00:00",
          "2022-01-30T00:00:00",
          "2022-01-31T00:00:00",
          "2022-02-01T00:00:00",
          "2022-02-02T00:00:00",
          "2022-02-03T00:00:00",
          "2022-02-04T00:00:00",
          "2022-02-05T00:00:00",
          "2022-02-06T00:00:00",
          "2022-02-07T00:00:00",
          "2022-02-08T00:00:00",
          "2022-02-09T00:00:00",
          "2022-02-10T00:00:00",
          "2022-02-11T00:00:00",
          "2022-02-12T00:00:00",
          "2022-02-13T00:00:00",
          "2022-02-14T00:00:00",
          "2022-02-15T00:00:00",
          "2022-02-16T00:00:00",
          "2022-02-17T00:00:00",
          "2022-02-18T00:00:00",
          "2022-02-19T00:00:00",
          "2022-02-20T00:00:00",
          "2022-02-21T00:00:00",
          "2022-02-22T00:00:00",
          "2022-02-23T00:00:00",
          "2022-02-24T00:00:00",
          "2022-02-25T00:00:00",
          "2022-02-26T00:00:00",
          "2022-02-27T00:00:00",
          "2022-02-28T00:00:00",
          "2022-03-01T00:00:00",
          "2022-03-02T00:00:00",
          "2022-03-03T00:00:00",
          "2022-03-04T00:00:00",
          "2022-03-05T00:00:00",
          "2022-03-06T00:00:00",
          "2022-03-07T00:00:00",
          "2022-03-08T00:00:00",
          "2022-03-09T00:00:00",
          "2022-03-10T00:00:00",
          "2022-03-11T00:00:00",
          "2022-03-12T00:00:00",
          "2022-03-13T00:00:00",
          "2022-03-14T00:00:00",
          "2022-03-15T00:00:00",
          "2022-03-16T00:00:00",
          "2022-03-17T00:00:00",
          "2022-03-18T00:00:00",
          "2022-03-19T00:00:00",
          "2022-03-20T00:00:00",
          "2022-03-21T00:00:00",
          "2022-03-22T00:00:00",
          "2022-03-23T00:00:00",
          "2022-03-24T00:00:00",
          "2022-03-25T00:00:00",
          "2022-03-26T00:00:00",
          "2022-03-27T00:00:00",
          "2022-03-28T00:00:00",
          "2022-03-29T00:00:00",
          "2022-03-30T00:00:00",
          "2022-03-31T00:00:00",
          "2022-04-01T00:00:00",
          "2022-04-02T00:00:00",
          "2022-04-03T00:00:00",
          "2022-04-04T00:00:00",
          "2022-04-05T00:00:00",
          "2022-04-06T00:00:00",
          "2022-04-07T00:00:00",
          "2022-04-08T00:00:00",
          "2022-04-09T00:00:00",
          "2022-04-10T00:00:00",
          "2022-04-11T00:00:00",
          "2022-04-12T00:00:00",
          "2022-04-13T00:00:00",
          "2022-04-14T00:00:00",
          "2022-04-15T00:00:00",
          "2022-04-16T00:00:00",
          "2022-04-17T00:00:00",
          "2022-04-18T00:00:00",
          "2022-04-19T00:00:00",
          "2022-04-20T00:00:00",
          "2022-04-21T00:00:00",
          "2022-04-22T00:00:00",
          "2022-04-23T00:00:00",
          "2022-04-24T00:00:00",
          "2022-04-25T00:00:00",
          "2022-04-26T00:00:00",
          "2022-04-27T00:00:00",
          "2022-04-28T00:00:00",
          "2022-04-29T00:00:00",
          "2022-04-30T00:00:00",
          "2022-05-01T00:00:00",
          "2022-05-02T00:00:00",
          "2022-05-03T00:00:00",
          "2022-05-04T00:00:00",
          "2022-05-05T00:00:00",
          "2022-05-06T00:00:00",
          "2022-05-07T00:00:00",
          "2022-05-08T00:00:00",
          "2022-05-09T00:00:00",
          "2022-05-10T00:00:00",
          "2022-05-11T00:00:00",
          "2022-05-12T00:00:00",
          "2022-05-13T00:00:00",
          "2022-05-14T00:00:00",
          "2022-05-15T00:00:00",
          "2022-05-16T00:00:00",
          "2022-05-17T00:00:00",
          "2022-05-18T00:00:00",
          "2022-05-19T00:00:00",
          "2022-05-20T00:00:00",
          "2022-05-21T00:00:00",
          "2022-05-22T00:00:00",
          "2022-05-23T00:00:00",
          "2022-05-24T00:00:00",
          "2022-05-25T00:00:00",
          "2022-05-26T00:00:00",
          "2022-05-27T00:00:00",
          "2022-05-28T00:00:00",
          "2022-05-29T00:00:00",
          "2022-05-30T00:00:00"
         ],
         "xaxis": "x",
         "y": [
          null,
          -0.10291041058161843,
          0.18085359417247426,
          0.0054597388656030255,
          -0.053992333245821644,
          -0.131541327183457,
          -0.04038732180976756,
          0.07101218607023885,
          0.12005563549560683,
          -0.03625082973440452,
          0.03142441152021824,
          0.016397595512633423,
          -0.01672222589168093,
          -0.193082500767368,
          -0.03561805667911533,
          0.11454093908008511,
          0.18270400156475408,
          0.202668088736619,
          0.024753450574691582,
          -0.10345948527251181,
          -0.039414305938167415,
          0.11542505062772346,
          0.17626950490446958,
          0.04460829570920932,
          -0.02801248056881933,
          0.02440382750081871,
          -0.181685031423242,
          0.008597573825511295,
          0.2816878951627657,
          0.028837913640608726,
          -0.0498357295977333,
          -0.05136953328307636,
          -0.025783397990784218,
          -0.007660001039582753,
          -0.07664065051359514,
          0.06118822999958495,
          0.019563924962294754,
          0.01618562000298618,
          0.028691632900000652,
          -0.0073773671101535765,
          -0.053899327124398155,
          -0.008082095040267023,
          -0.07109445431935901,
          0.015619304330347417,
          -0.013039980161908216,
          0.009788712533646438,
          -0.06927185567640992,
          -0.02229089839695797,
          -0.021442359995474503,
          0.018867214278191158,
          0.017415302899290497,
          0.0042738093105476604,
          0.02476379617857516,
          -0.026583863043341704,
          -0.014075751686601468,
          0.027548985851408636,
          0.04882581813570419,
          0.026744018087659027,
          0.06991688731134493,
          0.001264838064249707,
          -0.016289636322177503,
          0.0778311488707999,
          -0.010214201223360142,
          -0.10598192700608122,
          0.043295102844626454,
          0.003921614824732522,
          -0.036606255835189394,
          0.03257580503194113,
          0.009511519277146219,
          0.0427647653422758,
          0.10857805729221037,
          0.05362786550056842,
          -0.056607471641384355,
          0.05122399821429546,
          0.12398888892822124,
          0.03456348287493838,
          -0.02832663607976671,
          -0.039940321311057514,
          0.03613387008552604,
          -0.03744568812482463,
          0.15170786740851283,
          -0.016994045715887918,
          -0.017305177166611063,
          0.053731911204391025,
          0.09118759733762571,
          -0.0911992267714462,
          0.12943569116527898,
          0.13199261605369217,
          0.03252152276455034,
          0.03303490000752518,
          -0.08132980925035371,
          -0.06125287140345914,
          0.025113827597763372,
          -0.12161092590673006,
          0.07242140176170908,
          -0.009026503920095741,
          0.06881718508892942,
          0.019154525847701498,
          -0.013342804506779826,
          -0.09389301777652281,
          0.0026247513459904948,
          -0.14757643411743837,
          -0.07250500315684905,
          0.08452015935634893,
          -0.03220400861819539,
          0.03409234451714216,
          -0.07105849515540841,
          -0.053487728370036125,
          0.05295207903562815,
          0.02474595360155285,
          -0.10557374843640466,
          0.10572992094562372,
          0.15535895265037625,
          -0.021352684665078114,
          0.13134944483521482,
          0.03668062101168457,
          -0.0643134091430666,
          0.055715129057930524,
          0.08039156424955074,
          -0.05570577979523805,
          0.0460890122784976,
          -0.056331489595994544,
          0.0017657478907446844,
          0.001296350566857729,
          -0.01232973564419515,
          -0.05552166906440603,
          -0.03801798494442776,
          -0.01988761450287102,
          0.07964249951228086,
          0.04007174163060956,
          -0.006918520264314165,
          -0.0436863929500616,
          -0.03967664225266987,
          -0.05542135889572841,
          -0.027416000310450328,
          -0.09108122387900175,
          -0.031895157824588516,
          0.05945584022187256,
          -0.05179730331038934,
          0.060856520577105444,
          0.07190355923385638,
          -0.06583248236017047,
          0.007485100546696488,
          0.03380366386606504,
          -0.012370497671933323,
          -0.0583628827652678,
          -0.00971658856140245,
          -0.03579224256662661,
          -0.04203509543376083,
          -0.17056736754646218,
          -0.09380334983688232,
          0.08375222173866526,
          -0.026428994441100362,
          0.08118832171956636,
          -0.02948914716186779,
          -0.01968240319048742,
          0.03661599877851174,
          0.0749436667332577,
          -0.05706150586820746,
          0.028550177126245968,
          0.04886872935763642,
          -0.07477968699057658,
          0.0016245989912513359,
          0.1370512164614932,
          0.00069774895846475,
          0.015355934393154191,
          0.0601996403987346,
          0.037353416587144306,
          0.04246397229852672,
          0.01039890098635965,
          -0.10386208737801106,
          -0.006354678557641269,
          -0.035780374131030745,
          0.04731493419248678,
          0.13221174074135278,
          0.02839656632337273,
          -0.07562760150772174,
          -0.046881504735932666,
          0.013613678476924296,
          -0.0917061223117982,
          -0.09551873928672217,
          0.06444568527566319,
          -0.008363577037254433,
          0.036606416488034865,
          0.05704110944722918,
          0.008011941551747004,
          -0.081947139300373,
          0.1255319697195274,
          0.029488330966957355,
          -0.04208946823022519,
          -0.05245400989034721,
          -0.038709244452050706,
          0.01514480550124242,
          -0.05657290798383974,
          -0.009153591010725992,
          0.014147033342654103,
          0.06538280112031569,
          -0.04696761368193103,
          -0.038355627229987976,
          -0.0031526077634432825,
          -0.040067790935214065,
          0.008806336456231634,
          0.016461300864556883,
          0.06068076353436491,
          0.07554007413306296,
          0.07879300038769954,
          0.04422024896046617,
          -0.05502768048740736,
          0.020114787239308374,
          -0.02839647344222962,
          0.0228725732614532,
          0.016845112471643553,
          -0.043525630321634146,
          0.02876969185838374,
          0.04044924351850576,
          -0.0009085785731844931,
          0.036729001202832734,
          0.035511319156314336,
          -0.003458562332782078,
          0.010296487920910868,
          -0.004397485189577055,
          0.013836126551090677,
          -0.021665187029854538,
          -0.045992665279360856,
          -0.09008792279763356,
          0.061160853210982635,
          -0.04820353225351859,
          0.010548255143386642,
          -0.029665476522735323,
          -0.09741150310653823,
          0.032849150625736456,
          0.04597831385104656,
          -0.03989495889563033,
          0.007364987965170711,
          0.007375237187987604,
          -0.02901294481842953,
          0.02686222472499633,
          0.032532652845910004,
          -0.024725524894829265,
          -0.040799860799427434,
          -0.011937334174178638,
          -0.01720372784093871,
          -0.01829987396561139,
          0.01683233349301627,
          -0.057666938143750124,
          0.01763424242628897,
          -0.0370527389746923,
          -0.05531489503293108,
          -0.10031534771893824,
          0.03092205334691145,
          0.02570048921545398,
          -0.012765824287983563,
          0.12464021424192784,
          -0.11803241953400334,
          -0.03575169381766141,
          -0.032075766206087764,
          -0.06975161226066096,
          -0.17658394836332936,
          0.05069779291758936,
          -0.3046155038416647,
          -0.01575439926986133,
          0.054918854901586656,
          0.059580087766323286,
          0.07133460261786806,
          -0.1051003987260708,
          0.05903179463504804,
          -0.1443023422673313,
          0.03186354189199636,
          -0.04912132904210764,
          0.03472951073192743,
          0.06161568476869306,
          -0.08780625682489618,
          -0.002539050964597278,
          -0.060321394749865975,
          -0.1332567933583778,
          -0.04924128580980314,
          0.10947048652373836,
          0.04735552230775619
         ],
         "yaxis": "y"
        },
        {
         "hovertemplate": "%{y}",
         "legendgroup": "JOE",
         "line": {
          "color": "#EF553B",
          "dash": "solid"
         },
         "marker": {
          "symbol": "circle"
         },
         "mode": "lines",
         "name": "JOE",
         "orientation": "v",
         "showlegend": true,
         "type": "scatter",
         "x": [
          "2021-08-26T00:00:00",
          "2021-08-27T00:00:00",
          "2021-08-28T00:00:00",
          "2021-08-29T00:00:00",
          "2021-08-30T00:00:00",
          "2021-08-31T00:00:00",
          "2021-09-01T00:00:00",
          "2021-09-02T00:00:00",
          "2021-09-03T00:00:00",
          "2021-09-04T00:00:00",
          "2021-09-05T00:00:00",
          "2021-09-06T00:00:00",
          "2021-09-07T00:00:00",
          "2021-09-08T00:00:00",
          "2021-09-09T00:00:00",
          "2021-09-10T00:00:00",
          "2021-09-11T00:00:00",
          "2021-09-12T00:00:00",
          "2021-09-13T00:00:00",
          "2021-09-14T00:00:00",
          "2021-09-15T00:00:00",
          "2021-09-16T00:00:00",
          "2021-09-17T00:00:00",
          "2021-09-18T00:00:00",
          "2021-09-19T00:00:00",
          "2021-09-20T00:00:00",
          "2021-09-21T00:00:00",
          "2021-09-22T00:00:00",
          "2021-09-23T00:00:00",
          "2021-09-24T00:00:00",
          "2021-09-25T00:00:00",
          "2021-09-26T00:00:00",
          "2021-09-27T00:00:00",
          "2021-09-28T00:00:00",
          "2021-09-29T00:00:00",
          "2021-09-30T00:00:00",
          "2021-10-01T00:00:00",
          "2021-10-02T00:00:00",
          "2021-10-03T00:00:00",
          "2021-10-04T00:00:00",
          "2021-10-05T00:00:00",
          "2021-10-06T00:00:00",
          "2021-10-07T00:00:00",
          "2021-10-08T00:00:00",
          "2021-10-09T00:00:00",
          "2021-10-10T00:00:00",
          "2021-10-11T00:00:00",
          "2021-10-12T00:00:00",
          "2021-10-13T00:00:00",
          "2021-10-14T00:00:00",
          "2021-10-15T00:00:00",
          "2021-10-16T00:00:00",
          "2021-10-17T00:00:00",
          "2021-10-18T00:00:00",
          "2021-10-19T00:00:00",
          "2021-10-20T00:00:00",
          "2021-10-21T00:00:00",
          "2021-10-22T00:00:00",
          "2021-10-23T00:00:00",
          "2021-10-24T00:00:00",
          "2021-10-25T00:00:00",
          "2021-10-26T00:00:00",
          "2021-10-27T00:00:00",
          "2021-10-28T00:00:00",
          "2021-10-29T00:00:00",
          "2021-10-30T00:00:00",
          "2021-10-31T00:00:00",
          "2021-11-01T00:00:00",
          "2021-11-02T00:00:00",
          "2021-11-03T00:00:00",
          "2021-11-04T00:00:00",
          "2021-11-05T00:00:00",
          "2021-11-06T00:00:00",
          "2021-11-07T00:00:00",
          "2021-11-08T00:00:00",
          "2021-11-09T00:00:00",
          "2021-11-10T00:00:00",
          "2021-11-11T00:00:00",
          "2021-11-12T00:00:00",
          "2021-11-13T00:00:00",
          "2021-11-14T00:00:00",
          "2021-11-15T00:00:00",
          "2021-11-16T00:00:00",
          "2021-11-17T00:00:00",
          "2021-11-18T00:00:00",
          "2021-11-19T00:00:00",
          "2021-11-20T00:00:00",
          "2021-11-21T00:00:00",
          "2021-11-22T00:00:00",
          "2021-11-23T00:00:00",
          "2021-11-24T00:00:00",
          "2021-11-25T00:00:00",
          "2021-11-26T00:00:00",
          "2021-11-27T00:00:00",
          "2021-11-28T00:00:00",
          "2021-11-29T00:00:00",
          "2021-11-30T00:00:00",
          "2021-12-01T00:00:00",
          "2021-12-02T00:00:00",
          "2021-12-03T00:00:00",
          "2021-12-04T00:00:00",
          "2021-12-05T00:00:00",
          "2021-12-06T00:00:00",
          "2021-12-07T00:00:00",
          "2021-12-08T00:00:00",
          "2021-12-09T00:00:00",
          "2021-12-10T00:00:00",
          "2021-12-11T00:00:00",
          "2021-12-12T00:00:00",
          "2021-12-13T00:00:00",
          "2021-12-14T00:00:00",
          "2021-12-15T00:00:00",
          "2021-12-16T00:00:00",
          "2021-12-17T00:00:00",
          "2021-12-18T00:00:00",
          "2021-12-19T00:00:00",
          "2021-12-20T00:00:00",
          "2021-12-21T00:00:00",
          "2021-12-22T00:00:00",
          "2021-12-23T00:00:00",
          "2021-12-24T00:00:00",
          "2021-12-25T00:00:00",
          "2021-12-26T00:00:00",
          "2021-12-27T00:00:00",
          "2021-12-28T00:00:00",
          "2021-12-29T00:00:00",
          "2021-12-30T00:00:00",
          "2021-12-31T00:00:00",
          "2022-01-01T00:00:00",
          "2022-01-02T00:00:00",
          "2022-01-03T00:00:00",
          "2022-01-04T00:00:00",
          "2022-01-05T00:00:00",
          "2022-01-06T00:00:00",
          "2022-01-07T00:00:00",
          "2022-01-08T00:00:00",
          "2022-01-09T00:00:00",
          "2022-01-10T00:00:00",
          "2022-01-11T00:00:00",
          "2022-01-12T00:00:00",
          "2022-01-13T00:00:00",
          "2022-01-14T00:00:00",
          "2022-01-15T00:00:00",
          "2022-01-16T00:00:00",
          "2022-01-17T00:00:00",
          "2022-01-18T00:00:00",
          "2022-01-19T00:00:00",
          "2022-01-20T00:00:00",
          "2022-01-21T00:00:00",
          "2022-01-22T00:00:00",
          "2022-01-23T00:00:00",
          "2022-01-24T00:00:00",
          "2022-01-25T00:00:00",
          "2022-01-26T00:00:00",
          "2022-01-27T00:00:00",
          "2022-01-28T00:00:00",
          "2022-01-29T00:00:00",
          "2022-01-30T00:00:00",
          "2022-01-31T00:00:00",
          "2022-02-01T00:00:00",
          "2022-02-02T00:00:00",
          "2022-02-03T00:00:00",
          "2022-02-04T00:00:00",
          "2022-02-05T00:00:00",
          "2022-02-06T00:00:00",
          "2022-02-07T00:00:00",
          "2022-02-08T00:00:00",
          "2022-02-09T00:00:00",
          "2022-02-10T00:00:00",
          "2022-02-11T00:00:00",
          "2022-02-12T00:00:00",
          "2022-02-13T00:00:00",
          "2022-02-14T00:00:00",
          "2022-02-15T00:00:00",
          "2022-02-16T00:00:00",
          "2022-02-17T00:00:00",
          "2022-02-18T00:00:00",
          "2022-02-19T00:00:00",
          "2022-02-20T00:00:00",
          "2022-02-21T00:00:00",
          "2022-02-22T00:00:00",
          "2022-02-23T00:00:00",
          "2022-02-24T00:00:00",
          "2022-02-25T00:00:00",
          "2022-02-26T00:00:00",
          "2022-02-27T00:00:00",
          "2022-02-28T00:00:00",
          "2022-03-01T00:00:00",
          "2022-03-02T00:00:00",
          "2022-03-03T00:00:00",
          "2022-03-04T00:00:00",
          "2022-03-05T00:00:00",
          "2022-03-06T00:00:00",
          "2022-03-07T00:00:00",
          "2022-03-08T00:00:00",
          "2022-03-09T00:00:00",
          "2022-03-10T00:00:00",
          "2022-03-11T00:00:00",
          "2022-03-12T00:00:00",
          "2022-03-13T00:00:00",
          "2022-03-14T00:00:00",
          "2022-03-15T00:00:00",
          "2022-03-16T00:00:00",
          "2022-03-17T00:00:00",
          "2022-03-18T00:00:00",
          "2022-03-19T00:00:00",
          "2022-03-20T00:00:00",
          "2022-03-21T00:00:00",
          "2022-03-22T00:00:00",
          "2022-03-23T00:00:00",
          "2022-03-24T00:00:00",
          "2022-03-25T00:00:00",
          "2022-03-26T00:00:00",
          "2022-03-27T00:00:00",
          "2022-03-28T00:00:00",
          "2022-03-29T00:00:00",
          "2022-03-30T00:00:00",
          "2022-03-31T00:00:00",
          "2022-04-01T00:00:00",
          "2022-04-02T00:00:00",
          "2022-04-03T00:00:00",
          "2022-04-04T00:00:00",
          "2022-04-05T00:00:00",
          "2022-04-06T00:00:00",
          "2022-04-07T00:00:00",
          "2022-04-08T00:00:00",
          "2022-04-09T00:00:00",
          "2022-04-10T00:00:00",
          "2022-04-11T00:00:00",
          "2022-04-12T00:00:00",
          "2022-04-13T00:00:00",
          "2022-04-14T00:00:00",
          "2022-04-15T00:00:00",
          "2022-04-16T00:00:00",
          "2022-04-17T00:00:00",
          "2022-04-18T00:00:00",
          "2022-04-19T00:00:00",
          "2022-04-20T00:00:00",
          "2022-04-21T00:00:00",
          "2022-04-22T00:00:00",
          "2022-04-23T00:00:00",
          "2022-04-24T00:00:00",
          "2022-04-25T00:00:00",
          "2022-04-26T00:00:00",
          "2022-04-27T00:00:00",
          "2022-04-28T00:00:00",
          "2022-04-29T00:00:00",
          "2022-04-30T00:00:00",
          "2022-05-01T00:00:00",
          "2022-05-02T00:00:00",
          "2022-05-03T00:00:00",
          "2022-05-04T00:00:00",
          "2022-05-05T00:00:00",
          "2022-05-06T00:00:00",
          "2022-05-07T00:00:00",
          "2022-05-08T00:00:00",
          "2022-05-09T00:00:00",
          "2022-05-10T00:00:00",
          "2022-05-11T00:00:00",
          "2022-05-12T00:00:00",
          "2022-05-13T00:00:00",
          "2022-05-14T00:00:00",
          "2022-05-15T00:00:00",
          "2022-05-16T00:00:00",
          "2022-05-17T00:00:00",
          "2022-05-18T00:00:00",
          "2022-05-19T00:00:00",
          "2022-05-20T00:00:00",
          "2022-05-21T00:00:00",
          "2022-05-22T00:00:00",
          "2022-05-23T00:00:00",
          "2022-05-24T00:00:00",
          "2022-05-25T00:00:00",
          "2022-05-26T00:00:00",
          "2022-05-27T00:00:00",
          "2022-05-28T00:00:00",
          "2022-05-29T00:00:00",
          "2022-05-30T00:00:00"
         ],
         "xaxis": "x",
         "y": [
          null,
          0.468044529662931,
          0.21985151731513208,
          -0.10973002709122481,
          0.25099591245922803,
          -0.5323831477507797,
          -0.06917984323231507,
          0.30058096815556423,
          0.33584762184142747,
          -0.06811134629685722,
          0.0789246238844512,
          -0.08814442302442915,
          -0.11810314307063163,
          -0.1779623889725358,
          -0.06387362726863333,
          0.14764694535810374,
          0.19805307077256074,
          0.3406264741066556,
          -0.002222754768210433,
          -0.1273809385879332,
          -0.02866976582641856,
          0.2672017600695922,
          0.2916825286812117,
          -0.04208551165868302,
          0.03758994224278189,
          0.12545211340319895,
          -0.25205935726211004,
          0.13483202472971323,
          0.5344081054299259,
          -0.06257494582486711,
          -0.028356772401432306,
          -0.12687144925012017,
          0.06461838698822175,
          0.07020765405886453,
          -0.10681772338949191,
          -0.07664094735822569,
          -0.0783487059085669,
          0.03782254360288673,
          -0.11305350186051766,
          0.042196135289666925,
          -0.05091026176129976,
          -0.13213546840587576,
          -0.06254973289364607,
          0.15281283558131342,
          -0.05317529077177008,
          -0.09363864679957923,
          -0.08559176633289034,
          -0.14689821109090462,
          0.05872781483285627,
          0.0852853372492437,
          -0.08647311405064173,
          0.08419483753551904,
          0.1437253667950471,
          0.0634356631806492,
          0.13376158693331597,
          0.0882010010264922,
          -0.03998091930004999,
          0.08151091636192986,
          -0.04182267136315687,
          -0.0955950847019229,
          0.023878389327377736,
          0.22271562946138057,
          -0.043619169124054724,
          -0.14383179524059486,
          0.06598791590138875,
          -0.07159276937238312,
          -0.1112214434845945,
          0.05299980935025461,
          0.013300977235445322,
          -0.04770733004388772,
          0.20296767296740903,
          0.08274022719858709,
          -0.09195949398222136,
          -0.003953210162764176,
          0.035997827360978896,
          -0.04167267441476008,
          -0.04999816807419388,
          -0.10198223496384962,
          0.004499447033615489,
          -0.07898677686209965,
          0.16705211110339757,
          0.01986500436427341,
          0.044375782238912365,
          0.08054728292047031,
          0.1352863734096117,
          -0.15276037135256026,
          0.14660533261141384,
          0.2444629375092573,
          0.1039863969646273,
          -0.06607346787695878,
          -0.10145487812517517,
          -0.07445208243695511,
          0.03510737019180499,
          -0.2776021116283165,
          0.12041352558694696,
          0.051984714860661585,
          0.0370370308635013,
          -0.02553491624922022,
          -0.05157041448129984,
          -0.13174852673780724,
          0.030238226856578843,
          -0.14417489722788734,
          -0.046754316573052956,
          0.014879736542506627,
          0.12300740297104329,
          0.04023612358509587,
          -0.13060487959605116,
          -0.1194551987583532,
          0.1046296404153857,
          -0.04931113281930599,
          -0.14560425397789567,
          0.21139252209166615,
          0.06625584159244569,
          0.023332137222917382,
          0.006900885959886249,
          0.016947459180958857,
          -0.09677137393131396,
          0.05053549971178972,
          0.0465292110120612,
          -0.08036912471061264,
          0.12817765584264373,
          -0.1147258410158668,
          -0.004098498207139367,
          0.05898115589273378,
          -0.0597238213421275,
          0.08347266237275153,
          -0.05408063886930925,
          -0.08380173700311877,
          0.02357476272965875,
          -0.01113796907958342,
          -0.06589346622000603,
          -0.06750815768836738,
          -0.0047272042381344415,
          -0.07990153992582283,
          -0.03013436958405924,
          -0.10017464445178859,
          -0.06420995348488323,
          0.09558771468022309,
          -0.05654323050464882,
          0.08202098290024362,
          0.06138581053471137,
          -0.07054396479540415,
          -0.016365580569928317,
          0.05109662318607078,
          0.028887827193639692,
          -0.08668128016102505,
          -0.039199558984242766,
          -0.07485721301751969,
          -0.083308746270916,
          -0.22770144562947747,
          -0.15932944668511784,
          0.10648887118388983,
          -0.06135975302547214,
          0.0969892759167521,
          0.044138815096870676,
          0.07829191178081496,
          0.2967806507246784,
          0.04818637416160554,
          -0.05410913556493058,
          0.13022120772981216,
          0.05855324296794251,
          -0.1458672640438472,
          -0.014241947816184375,
          0.1434593274359821,
          -0.017965464348864146,
          -0.03786316610109508,
          -0.0032939200770421007,
          -0.02551680389174238,
          0.03989496368981871,
          0.010037405888483564,
          -0.11886589369226574,
          -0.030371935407495942,
          -0.04391161151005052,
          0.027675601144618867,
          0.12403632481555449,
          -0.03838586471369243,
          -0.07430244346148018,
          -0.023742435929832162,
          0.0025239164492150135,
          -0.12934289393147502,
          -0.026024669756190777,
          0.0807558113829634,
          -0.02826486039090159,
          -0.01144368244042071,
          0.12031970128895697,
          -0.033892552279712884,
          -0.05956462338305524,
          0.166658980178104,
          -0.05736642225127564,
          -0.005194653974138763,
          -0.05203698867892714,
          -0.006870395802474949,
          0.0071325468624543475,
          -0.03365923752118971,
          -0.047247057634066336,
          -0.016374564776967304,
          0.03745805382641998,
          -0.035661737626551115,
          -0.08203825124386788,
          0.028707889005836096,
          -0.10316589845397761,
          0.014347029209328621,
          -0.006178548736040623,
          0.08655099242595132,
          0.09249970924489004,
          0.017744005113566885,
          0.02770577136623964,
          -0.05816910207067638,
          0.043700818348529014,
          -0.024083927136485328,
          -0.002849674434053373,
          0.024652393177765797,
          -0.059626184043358066,
          0.023559744799616533,
          0.01544805514659342,
          0.12380830290322598,
          -0.006564206962754948,
          0.14484964898777308,
          -0.05098551923205408,
          0.043906489958534634,
          0.007266563722653219,
          0.08837778322052281,
          -0.01277296763664204,
          0.03892513448525037,
          -0.12533097301447937,
          0.12128955835932365,
          -0.07644585764240008,
          0.06354894805500488,
          -0.030560137511061347,
          -0.1427971007285228,
          0.05389839106905647,
          0.05752861635118456,
          -0.05012884725571054,
          -0.011094050249566001,
          -0.025337408380921467,
          -0.03233109958867919,
          0.029215189711338185,
          0.09111293806017629,
          -0.028615779867252167,
          -0.03960841897290779,
          -0.04199117349751624,
          -0.051095157823017434,
          -0.013297087333649316,
          0.05207082901866289,
          -0.07799016323287089,
          0.01483869029687157,
          -0.05595721397866782,
          -0.0850949918208177,
          -0.09112964333152229,
          0.041323475312297964,
          0.0664196988518404,
          -0.009955079127329514,
          0.1274886117179106,
          -0.1349660506897956,
          -0.05318475297933134,
          -0.04274579968684422,
          0.006244472606496965,
          -0.23392889144283546,
          -0.03440201733999648,
          -0.3950300973726343,
          0.15070349127742455,
          0.13929069895654167,
          0.02247761158139583,
          0.08030364907788656,
          -0.08843903350270477,
          0.06259608493914026,
          -0.14817038787130532,
          0.007965637004998527,
          -0.10233479920686595,
          0.009630733428946936,
          0.10539762674255715,
          -0.10331902076671684,
          0.0244843675238966,
          -0.05331267079161173,
          -0.13288163138319775,
          -0.0815995026837899,
          0.1032727959207449,
          0.0658950598277448
         ],
         "yaxis": "y"
        }
       ],
       "layout": {
        "hovermode": "x",
        "legend": {
         "title": {
          "text": "asset"
         },
         "tracegroupgap": 0
        },
        "margin": {
         "t": 60
        },
        "template": {
         "data": {
          "bar": [
           {
            "error_x": {
             "color": "#2a3f5f"
            },
            "error_y": {
             "color": "#2a3f5f"
            },
            "marker": {
             "line": {
              "color": "white",
              "width": 0.5
             },
             "pattern": {
              "fillmode": "overlay",
              "size": 10,
              "solidity": 0.2
             }
            },
            "type": "bar"
           }
          ],
          "barpolar": [
           {
            "marker": {
             "line": {
              "color": "white",
              "width": 0.5
             },
             "pattern": {
              "fillmode": "overlay",
              "size": 10,
              "solidity": 0.2
             }
            },
            "type": "barpolar"
           }
          ],
          "carpet": [
           {
            "aaxis": {
             "endlinecolor": "#2a3f5f",
             "gridcolor": "#C8D4E3",
             "linecolor": "#C8D4E3",
             "minorgridcolor": "#C8D4E3",
             "startlinecolor": "#2a3f5f"
            },
            "baxis": {
             "endlinecolor": "#2a3f5f",
             "gridcolor": "#C8D4E3",
             "linecolor": "#C8D4E3",
             "minorgridcolor": "#C8D4E3",
             "startlinecolor": "#2a3f5f"
            },
            "type": "carpet"
           }
          ],
          "choropleth": [
           {
            "colorbar": {
             "outlinewidth": 0,
             "ticks": ""
            },
            "type": "choropleth"
           }
          ],
          "contour": [
           {
            "colorbar": {
             "outlinewidth": 0,
             "ticks": ""
            },
            "colorscale": [
             [
              0,
              "#0d0887"
             ],
             [
              0.1111111111111111,
              "#46039f"
             ],
             [
              0.2222222222222222,
              "#7201a8"
             ],
             [
              0.3333333333333333,
              "#9c179e"
             ],
             [
              0.4444444444444444,
              "#bd3786"
             ],
             [
              0.5555555555555556,
              "#d8576b"
             ],
             [
              0.6666666666666666,
              "#ed7953"
             ],
             [
              0.7777777777777778,
              "#fb9f3a"
             ],
             [
              0.8888888888888888,
              "#fdca26"
             ],
             [
              1,
              "#f0f921"
             ]
            ],
            "type": "contour"
           }
          ],
          "contourcarpet": [
           {
            "colorbar": {
             "outlinewidth": 0,
             "ticks": ""
            },
            "type": "contourcarpet"
           }
          ],
          "heatmap": [
           {
            "colorbar": {
             "outlinewidth": 0,
             "ticks": ""
            },
            "colorscale": [
             [
              0,
              "#0d0887"
             ],
             [
              0.1111111111111111,
              "#46039f"
             ],
             [
              0.2222222222222222,
              "#7201a8"
             ],
             [
              0.3333333333333333,
              "#9c179e"
             ],
             [
              0.4444444444444444,
              "#bd3786"
             ],
             [
              0.5555555555555556,
              "#d8576b"
             ],
             [
              0.6666666666666666,
              "#ed7953"
             ],
             [
              0.7777777777777778,
              "#fb9f3a"
             ],
             [
              0.8888888888888888,
              "#fdca26"
             ],
             [
              1,
              "#f0f921"
             ]
            ],
            "type": "heatmap"
           }
          ],
          "heatmapgl": [
           {
            "colorbar": {
             "outlinewidth": 0,
             "ticks": ""
            },
            "colorscale": [
             [
              0,
              "#0d0887"
             ],
             [
              0.1111111111111111,
              "#46039f"
             ],
             [
              0.2222222222222222,
              "#7201a8"
             ],
             [
              0.3333333333333333,
              "#9c179e"
             ],
             [
              0.4444444444444444,
              "#bd3786"
             ],
             [
              0.5555555555555556,
              "#d8576b"
             ],
             [
              0.6666666666666666,
              "#ed7953"
             ],
             [
              0.7777777777777778,
              "#fb9f3a"
             ],
             [
              0.8888888888888888,
              "#fdca26"
             ],
             [
              1,
              "#f0f921"
             ]
            ],
            "type": "heatmapgl"
           }
          ],
          "histogram": [
           {
            "marker": {
             "pattern": {
              "fillmode": "overlay",
              "size": 10,
              "solidity": 0.2
             }
            },
            "type": "histogram"
           }
          ],
          "histogram2d": [
           {
            "colorbar": {
             "outlinewidth": 0,
             "ticks": ""
            },
            "colorscale": [
             [
              0,
              "#0d0887"
             ],
             [
              0.1111111111111111,
              "#46039f"
             ],
             [
              0.2222222222222222,
              "#7201a8"
             ],
             [
              0.3333333333333333,
              "#9c179e"
             ],
             [
              0.4444444444444444,
              "#bd3786"
             ],
             [
              0.5555555555555556,
              "#d8576b"
             ],
             [
              0.6666666666666666,
              "#ed7953"
             ],
             [
              0.7777777777777778,
              "#fb9f3a"
             ],
             [
              0.8888888888888888,
              "#fdca26"
             ],
             [
              1,
              "#f0f921"
             ]
            ],
            "type": "histogram2d"
           }
          ],
          "histogram2dcontour": [
           {
            "colorbar": {
             "outlinewidth": 0,
             "ticks": ""
            },
            "colorscale": [
             [
              0,
              "#0d0887"
             ],
             [
              0.1111111111111111,
              "#46039f"
             ],
             [
              0.2222222222222222,
              "#7201a8"
             ],
             [
              0.3333333333333333,
              "#9c179e"
             ],
             [
              0.4444444444444444,
              "#bd3786"
             ],
             [
              0.5555555555555556,
              "#d8576b"
             ],
             [
              0.6666666666666666,
              "#ed7953"
             ],
             [
              0.7777777777777778,
              "#fb9f3a"
             ],
             [
              0.8888888888888888,
              "#fdca26"
             ],
             [
              1,
              "#f0f921"
             ]
            ],
            "type": "histogram2dcontour"
           }
          ],
          "mesh3d": [
           {
            "colorbar": {
             "outlinewidth": 0,
             "ticks": ""
            },
            "type": "mesh3d"
           }
          ],
          "parcoords": [
           {
            "line": {
             "colorbar": {
              "outlinewidth": 0,
              "ticks": ""
             }
            },
            "type": "parcoords"
           }
          ],
          "pie": [
           {
            "automargin": true,
            "type": "pie"
           }
          ],
          "scatter": [
           {
            "marker": {
             "colorbar": {
              "outlinewidth": 0,
              "ticks": ""
             }
            },
            "type": "scatter"
           }
          ],
          "scatter3d": [
           {
            "line": {
             "colorbar": {
              "outlinewidth": 0,
              "ticks": ""
             }
            },
            "marker": {
             "colorbar": {
              "outlinewidth": 0,
              "ticks": ""
             }
            },
            "type": "scatter3d"
           }
          ],
          "scattercarpet": [
           {
            "marker": {
             "colorbar": {
              "outlinewidth": 0,
              "ticks": ""
             }
            },
            "type": "scattercarpet"
           }
          ],
          "scattergeo": [
           {
            "marker": {
             "colorbar": {
              "outlinewidth": 0,
              "ticks": ""
             }
            },
            "type": "scattergeo"
           }
          ],
          "scattergl": [
           {
            "marker": {
             "colorbar": {
              "outlinewidth": 0,
              "ticks": ""
             }
            },
            "type": "scattergl"
           }
          ],
          "scattermapbox": [
           {
            "marker": {
             "colorbar": {
              "outlinewidth": 0,
              "ticks": ""
             }
            },
            "type": "scattermapbox"
           }
          ],
          "scatterpolar": [
           {
            "marker": {
             "colorbar": {
              "outlinewidth": 0,
              "ticks": ""
             }
            },
            "type": "scatterpolar"
           }
          ],
          "scatterpolargl": [
           {
            "marker": {
             "colorbar": {
              "outlinewidth": 0,
              "ticks": ""
             }
            },
            "type": "scatterpolargl"
           }
          ],
          "scatterternary": [
           {
            "marker": {
             "colorbar": {
              "outlinewidth": 0,
              "ticks": ""
             }
            },
            "type": "scatterternary"
           }
          ],
          "surface": [
           {
            "colorbar": {
             "outlinewidth": 0,
             "ticks": ""
            },
            "colorscale": [
             [
              0,
              "#0d0887"
             ],
             [
              0.1111111111111111,
              "#46039f"
             ],
             [
              0.2222222222222222,
              "#7201a8"
             ],
             [
              0.3333333333333333,
              "#9c179e"
             ],
             [
              0.4444444444444444,
              "#bd3786"
             ],
             [
              0.5555555555555556,
              "#d8576b"
             ],
             [
              0.6666666666666666,
              "#ed7953"
             ],
             [
              0.7777777777777778,
              "#fb9f3a"
             ],
             [
              0.8888888888888888,
              "#fdca26"
             ],
             [
              1,
              "#f0f921"
             ]
            ],
            "type": "surface"
           }
          ],
          "table": [
           {
            "cells": {
             "fill": {
              "color": "#EBF0F8"
             },
             "line": {
              "color": "white"
             }
            },
            "header": {
             "fill": {
              "color": "#C8D4E3"
             },
             "line": {
              "color": "white"
             }
            },
            "type": "table"
           }
          ]
         },
         "layout": {
          "annotationdefaults": {
           "arrowcolor": "#2a3f5f",
           "arrowhead": 0,
           "arrowwidth": 1
          },
          "autotypenumbers": "strict",
          "coloraxis": {
           "colorbar": {
            "outlinewidth": 0,
            "ticks": ""
           }
          },
          "colorscale": {
           "diverging": [
            [
             0,
             "#8e0152"
            ],
            [
             0.1,
             "#c51b7d"
            ],
            [
             0.2,
             "#de77ae"
            ],
            [
             0.3,
             "#f1b6da"
            ],
            [
             0.4,
             "#fde0ef"
            ],
            [
             0.5,
             "#f7f7f7"
            ],
            [
             0.6,
             "#e6f5d0"
            ],
            [
             0.7,
             "#b8e186"
            ],
            [
             0.8,
             "#7fbc41"
            ],
            [
             0.9,
             "#4d9221"
            ],
            [
             1,
             "#276419"
            ]
           ],
           "sequential": [
            [
             0,
             "#0d0887"
            ],
            [
             0.1111111111111111,
             "#46039f"
            ],
            [
             0.2222222222222222,
             "#7201a8"
            ],
            [
             0.3333333333333333,
             "#9c179e"
            ],
            [
             0.4444444444444444,
             "#bd3786"
            ],
            [
             0.5555555555555556,
             "#d8576b"
            ],
            [
             0.6666666666666666,
             "#ed7953"
            ],
            [
             0.7777777777777778,
             "#fb9f3a"
            ],
            [
             0.8888888888888888,
             "#fdca26"
            ],
            [
             1,
             "#f0f921"
            ]
           ],
           "sequentialminus": [
            [
             0,
             "#0d0887"
            ],
            [
             0.1111111111111111,
             "#46039f"
            ],
            [
             0.2222222222222222,
             "#7201a8"
            ],
            [
             0.3333333333333333,
             "#9c179e"
            ],
            [
             0.4444444444444444,
             "#bd3786"
            ],
            [
             0.5555555555555556,
             "#d8576b"
            ],
            [
             0.6666666666666666,
             "#ed7953"
            ],
            [
             0.7777777777777778,
             "#fb9f3a"
            ],
            [
             0.8888888888888888,
             "#fdca26"
            ],
            [
             1,
             "#f0f921"
            ]
           ]
          },
          "colorway": [
           "#636efa",
           "#EF553B",
           "#00cc96",
           "#ab63fa",
           "#FFA15A",
           "#19d3f3",
           "#FF6692",
           "#B6E880",
           "#FF97FF",
           "#FECB52"
          ],
          "font": {
           "color": "#2a3f5f"
          },
          "geo": {
           "bgcolor": "white",
           "lakecolor": "white",
           "landcolor": "white",
           "showlakes": true,
           "showland": true,
           "subunitcolor": "#C8D4E3"
          },
          "hoverlabel": {
           "align": "left"
          },
          "hovermode": "closest",
          "mapbox": {
           "style": "light"
          },
          "paper_bgcolor": "white",
          "plot_bgcolor": "white",
          "polar": {
           "angularaxis": {
            "gridcolor": "#EBF0F8",
            "linecolor": "#EBF0F8",
            "ticks": ""
           },
           "bgcolor": "white",
           "radialaxis": {
            "gridcolor": "#EBF0F8",
            "linecolor": "#EBF0F8",
            "ticks": ""
           }
          },
          "scene": {
           "xaxis": {
            "backgroundcolor": "white",
            "gridcolor": "#DFE8F3",
            "gridwidth": 2,
            "linecolor": "#EBF0F8",
            "showbackground": true,
            "ticks": "",
            "zerolinecolor": "#EBF0F8"
           },
           "yaxis": {
            "backgroundcolor": "white",
            "gridcolor": "#DFE8F3",
            "gridwidth": 2,
            "linecolor": "#EBF0F8",
            "showbackground": true,
            "ticks": "",
            "zerolinecolor": "#EBF0F8"
           },
           "zaxis": {
            "backgroundcolor": "white",
            "gridcolor": "#DFE8F3",
            "gridwidth": 2,
            "linecolor": "#EBF0F8",
            "showbackground": true,
            "ticks": "",
            "zerolinecolor": "#EBF0F8"
           }
          },
          "shapedefaults": {
           "line": {
            "color": "#2a3f5f"
           }
          },
          "ternary": {
           "aaxis": {
            "gridcolor": "#DFE8F3",
            "linecolor": "#A2B1C6",
            "ticks": ""
           },
           "baxis": {
            "gridcolor": "#DFE8F3",
            "linecolor": "#A2B1C6",
            "ticks": ""
           },
           "bgcolor": "white",
           "caxis": {
            "gridcolor": "#DFE8F3",
            "linecolor": "#A2B1C6",
            "ticks": ""
           }
          },
          "title": {
           "x": 0.05
          },
          "xaxis": {
           "automargin": true,
           "gridcolor": "#EBF0F8",
           "linecolor": "#EBF0F8",
           "ticks": "",
           "title": {
            "standoff": 15
           },
           "zerolinecolor": "#EBF0F8",
           "zerolinewidth": 2
          },
          "yaxis": {
           "automargin": true,
           "gridcolor": "#EBF0F8",
           "linecolor": "#EBF0F8",
           "ticks": "",
           "title": {
            "standoff": 15
           },
           "zerolinecolor": "#EBF0F8",
           "zerolinewidth": 2
          }
         }
        },
        "title": {
         "text": "Assets daily returns"
        },
        "xaxis": {
         "anchor": "y",
         "domain": [
          0,
          1
         ],
         "showspikes": true,
         "spikecolor": "#999999",
         "spikedash": "dot",
         "spikemode": "across",
         "spikethickness": 2,
         "title": {
          "text": "date"
         }
        },
        "yaxis": {
         "anchor": "x",
         "domain": [
          0,
          1
         ],
         "tickformat": ".2%",
         "title": {
          "text": "return, %"
         }
        }
       }
      },
      "text/html": [
       "<div>                            <div id=\"5b03c31f-8f6a-46e5-8647-0ec4b33f0abd\" class=\"plotly-graph-div\" style=\"height:525px; width:100%;\"></div>            <script type=\"text/javascript\">                require([\"plotly\"], function(Plotly) {                    window.PLOTLYENV=window.PLOTLYENV || {};                                    if (document.getElementById(\"5b03c31f-8f6a-46e5-8647-0ec4b33f0abd\")) {                    Plotly.newPlot(                        \"5b03c31f-8f6a-46e5-8647-0ec4b33f0abd\",                        [{\"hovertemplate\":\"%{y}\",\"legendgroup\":\"AVAX\",\"line\":{\"color\":\"#636efa\",\"dash\":\"solid\"},\"marker\":{\"symbol\":\"circle\"},\"mode\":\"lines\",\"name\":\"AVAX\",\"orientation\":\"v\",\"showlegend\":true,\"x\":[\"2021-08-26T00:00:00\",\"2021-08-27T00:00:00\",\"2021-08-28T00:00:00\",\"2021-08-29T00:00:00\",\"2021-08-30T00:00:00\",\"2021-08-31T00:00:00\",\"2021-09-01T00:00:00\",\"2021-09-02T00:00:00\",\"2021-09-03T00:00:00\",\"2021-09-04T00:00:00\",\"2021-09-05T00:00:00\",\"2021-09-06T00:00:00\",\"2021-09-07T00:00:00\",\"2021-09-08T00:00:00\",\"2021-09-09T00:00:00\",\"2021-09-10T00:00:00\",\"2021-09-11T00:00:00\",\"2021-09-12T00:00:00\",\"2021-09-13T00:00:00\",\"2021-09-14T00:00:00\",\"2021-09-15T00:00:00\",\"2021-09-16T00:00:00\",\"2021-09-17T00:00:00\",\"2021-09-18T00:00:00\",\"2021-09-19T00:00:00\",\"2021-09-20T00:00:00\",\"2021-09-21T00:00:00\",\"2021-09-22T00:00:00\",\"2021-09-23T00:00:00\",\"2021-09-24T00:00:00\",\"2021-09-25T00:00:00\",\"2021-09-26T00:00:00\",\"2021-09-27T00:00:00\",\"2021-09-28T00:00:00\",\"2021-09-29T00:00:00\",\"2021-09-30T00:00:00\",\"2021-10-01T00:00:00\",\"2021-10-02T00:00:00\",\"2021-10-03T00:00:00\",\"2021-10-04T00:00:00\",\"2021-10-05T00:00:00\",\"2021-10-06T00:00:00\",\"2021-10-07T00:00:00\",\"2021-10-08T00:00:00\",\"2021-10-09T00:00:00\",\"2021-10-10T00:00:00\",\"2021-10-11T00:00:00\",\"2021-10-12T00:00:00\",\"2021-10-13T00:00:00\",\"2021-10-14T00:00:00\",\"2021-10-15T00:00:00\",\"2021-10-16T00:00:00\",\"2021-10-17T00:00:00\",\"2021-10-18T00:00:00\",\"2021-10-19T00:00:00\",\"2021-10-20T00:00:00\",\"2021-10-21T00:00:00\",\"2021-10-22T00:00:00\",\"2021-10-23T00:00:00\",\"2021-10-24T00:00:00\",\"2021-10-25T00:00:00\",\"2021-10-26T00:00:00\",\"2021-10-27T00:00:00\",\"2021-10-28T00:00:00\",\"2021-10-29T00:00:00\",\"2021-10-30T00:00:00\",\"2021-10-31T00:00:00\",\"2021-11-01T00:00:00\",\"2021-11-02T00:00:00\",\"2021-11-03T00:00:00\",\"2021-11-04T00:00:00\",\"2021-11-05T00:00:00\",\"2021-11-06T00:00:00\",\"2021-11-07T00:00:00\",\"2021-11-08T00:00:00\",\"2021-11-09T00:00:00\",\"2021-11-10T00:00:00\",\"2021-11-11T00:00:00\",\"2021-11-12T00:00:00\",\"2021-11-13T00:00:00\",\"2021-11-14T00:00:00\",\"2021-11-15T00:00:00\",\"2021-11-16T00:00:00\",\"2021-11-17T00:00:00\",\"2021-11-18T00:00:00\",\"2021-11-19T00:00:00\",\"2021-11-20T00:00:00\",\"2021-11-21T00:00:00\",\"2021-11-22T00:00:00\",\"2021-11-23T00:00:00\",\"2021-11-24T00:00:00\",\"2021-11-25T00:00:00\",\"2021-11-26T00:00:00\",\"2021-11-27T00:00:00\",\"2021-11-28T00:00:00\",\"2021-11-29T00:00:00\",\"2021-11-30T00:00:00\",\"2021-12-01T00:00:00\",\"2021-12-02T00:00:00\",\"2021-12-03T00:00:00\",\"2021-12-04T00:00:00\",\"2021-12-05T00:00:00\",\"2021-12-06T00:00:00\",\"2021-12-07T00:00:00\",\"2021-12-08T00:00:00\",\"2021-12-09T00:00:00\",\"2021-12-10T00:00:00\",\"2021-12-11T00:00:00\",\"2021-12-12T00:00:00\",\"2021-12-13T00:00:00\",\"2021-12-14T00:00:00\",\"2021-12-15T00:00:00\",\"2021-12-16T00:00:00\",\"2021-12-17T00:00:00\",\"2021-12-18T00:00:00\",\"2021-12-19T00:00:00\",\"2021-12-20T00:00:00\",\"2021-12-21T00:00:00\",\"2021-12-22T00:00:00\",\"2021-12-23T00:00:00\",\"2021-12-24T00:00:00\",\"2021-12-25T00:00:00\",\"2021-12-26T00:00:00\",\"2021-12-27T00:00:00\",\"2021-12-28T00:00:00\",\"2021-12-29T00:00:00\",\"2021-12-30T00:00:00\",\"2021-12-31T00:00:00\",\"2022-01-01T00:00:00\",\"2022-01-02T00:00:00\",\"2022-01-03T00:00:00\",\"2022-01-04T00:00:00\",\"2022-01-05T00:00:00\",\"2022-01-06T00:00:00\",\"2022-01-07T00:00:00\",\"2022-01-08T00:00:00\",\"2022-01-09T00:00:00\",\"2022-01-10T00:00:00\",\"2022-01-11T00:00:00\",\"2022-01-12T00:00:00\",\"2022-01-13T00:00:00\",\"2022-01-14T00:00:00\",\"2022-01-15T00:00:00\",\"2022-01-16T00:00:00\",\"2022-01-17T00:00:00\",\"2022-01-18T00:00:00\",\"2022-01-19T00:00:00\",\"2022-01-20T00:00:00\",\"2022-01-21T00:00:00\",\"2022-01-22T00:00:00\",\"2022-01-23T00:00:00\",\"2022-01-24T00:00:00\",\"2022-01-25T00:00:00\",\"2022-01-26T00:00:00\",\"2022-01-27T00:00:00\",\"2022-01-28T00:00:00\",\"2022-01-29T00:00:00\",\"2022-01-30T00:00:00\",\"2022-01-31T00:00:00\",\"2022-02-01T00:00:00\",\"2022-02-02T00:00:00\",\"2022-02-03T00:00:00\",\"2022-02-04T00:00:00\",\"2022-02-05T00:00:00\",\"2022-02-06T00:00:00\",\"2022-02-07T00:00:00\",\"2022-02-08T00:00:00\",\"2022-02-09T00:00:00\",\"2022-02-10T00:00:00\",\"2022-02-11T00:00:00\",\"2022-02-12T00:00:00\",\"2022-02-13T00:00:00\",\"2022-02-14T00:00:00\",\"2022-02-15T00:00:00\",\"2022-02-16T00:00:00\",\"2022-02-17T00:00:00\",\"2022-02-18T00:00:00\",\"2022-02-19T00:00:00\",\"2022-02-20T00:00:00\",\"2022-02-21T00:00:00\",\"2022-02-22T00:00:00\",\"2022-02-23T00:00:00\",\"2022-02-24T00:00:00\",\"2022-02-25T00:00:00\",\"2022-02-26T00:00:00\",\"2022-02-27T00:00:00\",\"2022-02-28T00:00:00\",\"2022-03-01T00:00:00\",\"2022-03-02T00:00:00\",\"2022-03-03T00:00:00\",\"2022-03-04T00:00:00\",\"2022-03-05T00:00:00\",\"2022-03-06T00:00:00\",\"2022-03-07T00:00:00\",\"2022-03-08T00:00:00\",\"2022-03-09T00:00:00\",\"2022-03-10T00:00:00\",\"2022-03-11T00:00:00\",\"2022-03-12T00:00:00\",\"2022-03-13T00:00:00\",\"2022-03-14T00:00:00\",\"2022-03-15T00:00:00\",\"2022-03-16T00:00:00\",\"2022-03-17T00:00:00\",\"2022-03-18T00:00:00\",\"2022-03-19T00:00:00\",\"2022-03-20T00:00:00\",\"2022-03-21T00:00:00\",\"2022-03-22T00:00:00\",\"2022-03-23T00:00:00\",\"2022-03-24T00:00:00\",\"2022-03-25T00:00:00\",\"2022-03-26T00:00:00\",\"2022-03-27T00:00:00\",\"2022-03-28T00:00:00\",\"2022-03-29T00:00:00\",\"2022-03-30T00:00:00\",\"2022-03-31T00:00:00\",\"2022-04-01T00:00:00\",\"2022-04-02T00:00:00\",\"2022-04-03T00:00:00\",\"2022-04-04T00:00:00\",\"2022-04-05T00:00:00\",\"2022-04-06T00:00:00\",\"2022-04-07T00:00:00\",\"2022-04-08T00:00:00\",\"2022-04-09T00:00:00\",\"2022-04-10T00:00:00\",\"2022-04-11T00:00:00\",\"2022-04-12T00:00:00\",\"2022-04-13T00:00:00\",\"2022-04-14T00:00:00\",\"2022-04-15T00:00:00\",\"2022-04-16T00:00:00\",\"2022-04-17T00:00:00\",\"2022-04-18T00:00:00\",\"2022-04-19T00:00:00\",\"2022-04-20T00:00:00\",\"2022-04-21T00:00:00\",\"2022-04-22T00:00:00\",\"2022-04-23T00:00:00\",\"2022-04-24T00:00:00\",\"2022-04-25T00:00:00\",\"2022-04-26T00:00:00\",\"2022-04-27T00:00:00\",\"2022-04-28T00:00:00\",\"2022-04-29T00:00:00\",\"2022-04-30T00:00:00\",\"2022-05-01T00:00:00\",\"2022-05-02T00:00:00\",\"2022-05-03T00:00:00\",\"2022-05-04T00:00:00\",\"2022-05-05T00:00:00\",\"2022-05-06T00:00:00\",\"2022-05-07T00:00:00\",\"2022-05-08T00:00:00\",\"2022-05-09T00:00:00\",\"2022-05-10T00:00:00\",\"2022-05-11T00:00:00\",\"2022-05-12T00:00:00\",\"2022-05-13T00:00:00\",\"2022-05-14T00:00:00\",\"2022-05-15T00:00:00\",\"2022-05-16T00:00:00\",\"2022-05-17T00:00:00\",\"2022-05-18T00:00:00\",\"2022-05-19T00:00:00\",\"2022-05-20T00:00:00\",\"2022-05-21T00:00:00\",\"2022-05-22T00:00:00\",\"2022-05-23T00:00:00\",\"2022-05-24T00:00:00\",\"2022-05-25T00:00:00\",\"2022-05-26T00:00:00\",\"2022-05-27T00:00:00\",\"2022-05-28T00:00:00\",\"2022-05-29T00:00:00\",\"2022-05-30T00:00:00\"],\"xaxis\":\"x\",\"y\":[null,-0.10291041058161843,0.18085359417247426,0.0054597388656030255,-0.053992333245821644,-0.131541327183457,-0.04038732180976756,0.07101218607023885,0.12005563549560683,-0.03625082973440452,0.03142441152021824,0.016397595512633423,-0.01672222589168093,-0.193082500767368,-0.03561805667911533,0.11454093908008511,0.18270400156475408,0.202668088736619,0.024753450574691582,-0.10345948527251181,-0.039414305938167415,0.11542505062772346,0.17626950490446958,0.04460829570920932,-0.02801248056881933,0.02440382750081871,-0.181685031423242,0.008597573825511295,0.2816878951627657,0.028837913640608726,-0.0498357295977333,-0.05136953328307636,-0.025783397990784218,-0.007660001039582753,-0.07664065051359514,0.06118822999958495,0.019563924962294754,0.01618562000298618,0.028691632900000652,-0.0073773671101535765,-0.053899327124398155,-0.008082095040267023,-0.07109445431935901,0.015619304330347417,-0.013039980161908216,0.009788712533646438,-0.06927185567640992,-0.02229089839695797,-0.021442359995474503,0.018867214278191158,0.017415302899290497,0.0042738093105476604,0.02476379617857516,-0.026583863043341704,-0.014075751686601468,0.027548985851408636,0.04882581813570419,0.026744018087659027,0.06991688731134493,0.001264838064249707,-0.016289636322177503,0.0778311488707999,-0.010214201223360142,-0.10598192700608122,0.043295102844626454,0.003921614824732522,-0.036606255835189394,0.03257580503194113,0.009511519277146219,0.0427647653422758,0.10857805729221037,0.05362786550056842,-0.056607471641384355,0.05122399821429546,0.12398888892822124,0.03456348287493838,-0.02832663607976671,-0.039940321311057514,0.03613387008552604,-0.03744568812482463,0.15170786740851283,-0.016994045715887918,-0.017305177166611063,0.053731911204391025,0.09118759733762571,-0.0911992267714462,0.12943569116527898,0.13199261605369217,0.03252152276455034,0.03303490000752518,-0.08132980925035371,-0.06125287140345914,0.025113827597763372,-0.12161092590673006,0.07242140176170908,-0.009026503920095741,0.06881718508892942,0.019154525847701498,-0.013342804506779826,-0.09389301777652281,0.0026247513459904948,-0.14757643411743837,-0.07250500315684905,0.08452015935634893,-0.03220400861819539,0.03409234451714216,-0.07105849515540841,-0.053487728370036125,0.05295207903562815,0.02474595360155285,-0.10557374843640466,0.10572992094562372,0.15535895265037625,-0.021352684665078114,0.13134944483521482,0.03668062101168457,-0.0643134091430666,0.055715129057930524,0.08039156424955074,-0.05570577979523805,0.0460890122784976,-0.056331489595994544,0.0017657478907446844,0.001296350566857729,-0.01232973564419515,-0.05552166906440603,-0.03801798494442776,-0.01988761450287102,0.07964249951228086,0.04007174163060956,-0.006918520264314165,-0.0436863929500616,-0.03967664225266987,-0.05542135889572841,-0.027416000310450328,-0.09108122387900175,-0.031895157824588516,0.05945584022187256,-0.05179730331038934,0.060856520577105444,0.07190355923385638,-0.06583248236017047,0.007485100546696488,0.03380366386606504,-0.012370497671933323,-0.0583628827652678,-0.00971658856140245,-0.03579224256662661,-0.04203509543376083,-0.17056736754646218,-0.09380334983688232,0.08375222173866526,-0.026428994441100362,0.08118832171956636,-0.02948914716186779,-0.01968240319048742,0.03661599877851174,0.0749436667332577,-0.05706150586820746,0.028550177126245968,0.04886872935763642,-0.07477968699057658,0.0016245989912513359,0.1370512164614932,0.00069774895846475,0.015355934393154191,0.0601996403987346,0.037353416587144306,0.04246397229852672,0.01039890098635965,-0.10386208737801106,-0.006354678557641269,-0.035780374131030745,0.04731493419248678,0.13221174074135278,0.02839656632337273,-0.07562760150772174,-0.046881504735932666,0.013613678476924296,-0.0917061223117982,-0.09551873928672217,0.06444568527566319,-0.008363577037254433,0.036606416488034865,0.05704110944722918,0.008011941551747004,-0.081947139300373,0.1255319697195274,0.029488330966957355,-0.04208946823022519,-0.05245400989034721,-0.038709244452050706,0.01514480550124242,-0.05657290798383974,-0.009153591010725992,0.014147033342654103,0.06538280112031569,-0.04696761368193103,-0.038355627229987976,-0.0031526077634432825,-0.040067790935214065,0.008806336456231634,0.016461300864556883,0.06068076353436491,0.07554007413306296,0.07879300038769954,0.04422024896046617,-0.05502768048740736,0.020114787239308374,-0.02839647344222962,0.0228725732614532,0.016845112471643553,-0.043525630321634146,0.02876969185838374,0.04044924351850576,-0.0009085785731844931,0.036729001202832734,0.035511319156314336,-0.003458562332782078,0.010296487920910868,-0.004397485189577055,0.013836126551090677,-0.021665187029854538,-0.045992665279360856,-0.09008792279763356,0.061160853210982635,-0.04820353225351859,0.010548255143386642,-0.029665476522735323,-0.09741150310653823,0.032849150625736456,0.04597831385104656,-0.03989495889563033,0.007364987965170711,0.007375237187987604,-0.02901294481842953,0.02686222472499633,0.032532652845910004,-0.024725524894829265,-0.040799860799427434,-0.011937334174178638,-0.01720372784093871,-0.01829987396561139,0.01683233349301627,-0.057666938143750124,0.01763424242628897,-0.0370527389746923,-0.05531489503293108,-0.10031534771893824,0.03092205334691145,0.02570048921545398,-0.012765824287983563,0.12464021424192784,-0.11803241953400334,-0.03575169381766141,-0.032075766206087764,-0.06975161226066096,-0.17658394836332936,0.05069779291758936,-0.3046155038416647,-0.01575439926986133,0.054918854901586656,0.059580087766323286,0.07133460261786806,-0.1051003987260708,0.05903179463504804,-0.1443023422673313,0.03186354189199636,-0.04912132904210764,0.03472951073192743,0.06161568476869306,-0.08780625682489618,-0.002539050964597278,-0.060321394749865975,-0.1332567933583778,-0.04924128580980314,0.10947048652373836,0.04735552230775619],\"yaxis\":\"y\",\"type\":\"scatter\"},{\"hovertemplate\":\"%{y}\",\"legendgroup\":\"JOE\",\"line\":{\"color\":\"#EF553B\",\"dash\":\"solid\"},\"marker\":{\"symbol\":\"circle\"},\"mode\":\"lines\",\"name\":\"JOE\",\"orientation\":\"v\",\"showlegend\":true,\"x\":[\"2021-08-26T00:00:00\",\"2021-08-27T00:00:00\",\"2021-08-28T00:00:00\",\"2021-08-29T00:00:00\",\"2021-08-30T00:00:00\",\"2021-08-31T00:00:00\",\"2021-09-01T00:00:00\",\"2021-09-02T00:00:00\",\"2021-09-03T00:00:00\",\"2021-09-04T00:00:00\",\"2021-09-05T00:00:00\",\"2021-09-06T00:00:00\",\"2021-09-07T00:00:00\",\"2021-09-08T00:00:00\",\"2021-09-09T00:00:00\",\"2021-09-10T00:00:00\",\"2021-09-11T00:00:00\",\"2021-09-12T00:00:00\",\"2021-09-13T00:00:00\",\"2021-09-14T00:00:00\",\"2021-09-15T00:00:00\",\"2021-09-16T00:00:00\",\"2021-09-17T00:00:00\",\"2021-09-18T00:00:00\",\"2021-09-19T00:00:00\",\"2021-09-20T00:00:00\",\"2021-09-21T00:00:00\",\"2021-09-22T00:00:00\",\"2021-09-23T00:00:00\",\"2021-09-24T00:00:00\",\"2021-09-25T00:00:00\",\"2021-09-26T00:00:00\",\"2021-09-27T00:00:00\",\"2021-09-28T00:00:00\",\"2021-09-29T00:00:00\",\"2021-09-30T00:00:00\",\"2021-10-01T00:00:00\",\"2021-10-02T00:00:00\",\"2021-10-03T00:00:00\",\"2021-10-04T00:00:00\",\"2021-10-05T00:00:00\",\"2021-10-06T00:00:00\",\"2021-10-07T00:00:00\",\"2021-10-08T00:00:00\",\"2021-10-09T00:00:00\",\"2021-10-10T00:00:00\",\"2021-10-11T00:00:00\",\"2021-10-12T00:00:00\",\"2021-10-13T00:00:00\",\"2021-10-14T00:00:00\",\"2021-10-15T00:00:00\",\"2021-10-16T00:00:00\",\"2021-10-17T00:00:00\",\"2021-10-18T00:00:00\",\"2021-10-19T00:00:00\",\"2021-10-20T00:00:00\",\"2021-10-21T00:00:00\",\"2021-10-22T00:00:00\",\"2021-10-23T00:00:00\",\"2021-10-24T00:00:00\",\"2021-10-25T00:00:00\",\"2021-10-26T00:00:00\",\"2021-10-27T00:00:00\",\"2021-10-28T00:00:00\",\"2021-10-29T00:00:00\",\"2021-10-30T00:00:00\",\"2021-10-31T00:00:00\",\"2021-11-01T00:00:00\",\"2021-11-02T00:00:00\",\"2021-11-03T00:00:00\",\"2021-11-04T00:00:00\",\"2021-11-05T00:00:00\",\"2021-11-06T00:00:00\",\"2021-11-07T00:00:00\",\"2021-11-08T00:00:00\",\"2021-11-09T00:00:00\",\"2021-11-10T00:00:00\",\"2021-11-11T00:00:00\",\"2021-11-12T00:00:00\",\"2021-11-13T00:00:00\",\"2021-11-14T00:00:00\",\"2021-11-15T00:00:00\",\"2021-11-16T00:00:00\",\"2021-11-17T00:00:00\",\"2021-11-18T00:00:00\",\"2021-11-19T00:00:00\",\"2021-11-20T00:00:00\",\"2021-11-21T00:00:00\",\"2021-11-22T00:00:00\",\"2021-11-23T00:00:00\",\"2021-11-24T00:00:00\",\"2021-11-25T00:00:00\",\"2021-11-26T00:00:00\",\"2021-11-27T00:00:00\",\"2021-11-28T00:00:00\",\"2021-11-29T00:00:00\",\"2021-11-30T00:00:00\",\"2021-12-01T00:00:00\",\"2021-12-02T00:00:00\",\"2021-12-03T00:00:00\",\"2021-12-04T00:00:00\",\"2021-12-05T00:00:00\",\"2021-12-06T00:00:00\",\"2021-12-07T00:00:00\",\"2021-12-08T00:00:00\",\"2021-12-09T00:00:00\",\"2021-12-10T00:00:00\",\"2021-12-11T00:00:00\",\"2021-12-12T00:00:00\",\"2021-12-13T00:00:00\",\"2021-12-14T00:00:00\",\"2021-12-15T00:00:00\",\"2021-12-16T00:00:00\",\"2021-12-17T00:00:00\",\"2021-12-18T00:00:00\",\"2021-12-19T00:00:00\",\"2021-12-20T00:00:00\",\"2021-12-21T00:00:00\",\"2021-12-22T00:00:00\",\"2021-12-23T00:00:00\",\"2021-12-24T00:00:00\",\"2021-12-25T00:00:00\",\"2021-12-26T00:00:00\",\"2021-12-27T00:00:00\",\"2021-12-28T00:00:00\",\"2021-12-29T00:00:00\",\"2021-12-30T00:00:00\",\"2021-12-31T00:00:00\",\"2022-01-01T00:00:00\",\"2022-01-02T00:00:00\",\"2022-01-03T00:00:00\",\"2022-01-04T00:00:00\",\"2022-01-05T00:00:00\",\"2022-01-06T00:00:00\",\"2022-01-07T00:00:00\",\"2022-01-08T00:00:00\",\"2022-01-09T00:00:00\",\"2022-01-10T00:00:00\",\"2022-01-11T00:00:00\",\"2022-01-12T00:00:00\",\"2022-01-13T00:00:00\",\"2022-01-14T00:00:00\",\"2022-01-15T00:00:00\",\"2022-01-16T00:00:00\",\"2022-01-17T00:00:00\",\"2022-01-18T00:00:00\",\"2022-01-19T00:00:00\",\"2022-01-20T00:00:00\",\"2022-01-21T00:00:00\",\"2022-01-22T00:00:00\",\"2022-01-23T00:00:00\",\"2022-01-24T00:00:00\",\"2022-01-25T00:00:00\",\"2022-01-26T00:00:00\",\"2022-01-27T00:00:00\",\"2022-01-28T00:00:00\",\"2022-01-29T00:00:00\",\"2022-01-30T00:00:00\",\"2022-01-31T00:00:00\",\"2022-02-01T00:00:00\",\"2022-02-02T00:00:00\",\"2022-02-03T00:00:00\",\"2022-02-04T00:00:00\",\"2022-02-05T00:00:00\",\"2022-02-06T00:00:00\",\"2022-02-07T00:00:00\",\"2022-02-08T00:00:00\",\"2022-02-09T00:00:00\",\"2022-02-10T00:00:00\",\"2022-02-11T00:00:00\",\"2022-02-12T00:00:00\",\"2022-02-13T00:00:00\",\"2022-02-14T00:00:00\",\"2022-02-15T00:00:00\",\"2022-02-16T00:00:00\",\"2022-02-17T00:00:00\",\"2022-02-18T00:00:00\",\"2022-02-19T00:00:00\",\"2022-02-20T00:00:00\",\"2022-02-21T00:00:00\",\"2022-02-22T00:00:00\",\"2022-02-23T00:00:00\",\"2022-02-24T00:00:00\",\"2022-02-25T00:00:00\",\"2022-02-26T00:00:00\",\"2022-02-27T00:00:00\",\"2022-02-28T00:00:00\",\"2022-03-01T00:00:00\",\"2022-03-02T00:00:00\",\"2022-03-03T00:00:00\",\"2022-03-04T00:00:00\",\"2022-03-05T00:00:00\",\"2022-03-06T00:00:00\",\"2022-03-07T00:00:00\",\"2022-03-08T00:00:00\",\"2022-03-09T00:00:00\",\"2022-03-10T00:00:00\",\"2022-03-11T00:00:00\",\"2022-03-12T00:00:00\",\"2022-03-13T00:00:00\",\"2022-03-14T00:00:00\",\"2022-03-15T00:00:00\",\"2022-03-16T00:00:00\",\"2022-03-17T00:00:00\",\"2022-03-18T00:00:00\",\"2022-03-19T00:00:00\",\"2022-03-20T00:00:00\",\"2022-03-21T00:00:00\",\"2022-03-22T00:00:00\",\"2022-03-23T00:00:00\",\"2022-03-24T00:00:00\",\"2022-03-25T00:00:00\",\"2022-03-26T00:00:00\",\"2022-03-27T00:00:00\",\"2022-03-28T00:00:00\",\"2022-03-29T00:00:00\",\"2022-03-30T00:00:00\",\"2022-03-31T00:00:00\",\"2022-04-01T00:00:00\",\"2022-04-02T00:00:00\",\"2022-04-03T00:00:00\",\"2022-04-04T00:00:00\",\"2022-04-05T00:00:00\",\"2022-04-06T00:00:00\",\"2022-04-07T00:00:00\",\"2022-04-08T00:00:00\",\"2022-04-09T00:00:00\",\"2022-04-10T00:00:00\",\"2022-04-11T00:00:00\",\"2022-04-12T00:00:00\",\"2022-04-13T00:00:00\",\"2022-04-14T00:00:00\",\"2022-04-15T00:00:00\",\"2022-04-16T00:00:00\",\"2022-04-17T00:00:00\",\"2022-04-18T00:00:00\",\"2022-04-19T00:00:00\",\"2022-04-20T00:00:00\",\"2022-04-21T00:00:00\",\"2022-04-22T00:00:00\",\"2022-04-23T00:00:00\",\"2022-04-24T00:00:00\",\"2022-04-25T00:00:00\",\"2022-04-26T00:00:00\",\"2022-04-27T00:00:00\",\"2022-04-28T00:00:00\",\"2022-04-29T00:00:00\",\"2022-04-30T00:00:00\",\"2022-05-01T00:00:00\",\"2022-05-02T00:00:00\",\"2022-05-03T00:00:00\",\"2022-05-04T00:00:00\",\"2022-05-05T00:00:00\",\"2022-05-06T00:00:00\",\"2022-05-07T00:00:00\",\"2022-05-08T00:00:00\",\"2022-05-09T00:00:00\",\"2022-05-10T00:00:00\",\"2022-05-11T00:00:00\",\"2022-05-12T00:00:00\",\"2022-05-13T00:00:00\",\"2022-05-14T00:00:00\",\"2022-05-15T00:00:00\",\"2022-05-16T00:00:00\",\"2022-05-17T00:00:00\",\"2022-05-18T00:00:00\",\"2022-05-19T00:00:00\",\"2022-05-20T00:00:00\",\"2022-05-21T00:00:00\",\"2022-05-22T00:00:00\",\"2022-05-23T00:00:00\",\"2022-05-24T00:00:00\",\"2022-05-25T00:00:00\",\"2022-05-26T00:00:00\",\"2022-05-27T00:00:00\",\"2022-05-28T00:00:00\",\"2022-05-29T00:00:00\",\"2022-05-30T00:00:00\"],\"xaxis\":\"x\",\"y\":[null,0.468044529662931,0.21985151731513208,-0.10973002709122481,0.25099591245922803,-0.5323831477507797,-0.06917984323231507,0.30058096815556423,0.33584762184142747,-0.06811134629685722,0.0789246238844512,-0.08814442302442915,-0.11810314307063163,-0.1779623889725358,-0.06387362726863333,0.14764694535810374,0.19805307077256074,0.3406264741066556,-0.002222754768210433,-0.1273809385879332,-0.02866976582641856,0.2672017600695922,0.2916825286812117,-0.04208551165868302,0.03758994224278189,0.12545211340319895,-0.25205935726211004,0.13483202472971323,0.5344081054299259,-0.06257494582486711,-0.028356772401432306,-0.12687144925012017,0.06461838698822175,0.07020765405886453,-0.10681772338949191,-0.07664094735822569,-0.0783487059085669,0.03782254360288673,-0.11305350186051766,0.042196135289666925,-0.05091026176129976,-0.13213546840587576,-0.06254973289364607,0.15281283558131342,-0.05317529077177008,-0.09363864679957923,-0.08559176633289034,-0.14689821109090462,0.05872781483285627,0.0852853372492437,-0.08647311405064173,0.08419483753551904,0.1437253667950471,0.0634356631806492,0.13376158693331597,0.0882010010264922,-0.03998091930004999,0.08151091636192986,-0.04182267136315687,-0.0955950847019229,0.023878389327377736,0.22271562946138057,-0.043619169124054724,-0.14383179524059486,0.06598791590138875,-0.07159276937238312,-0.1112214434845945,0.05299980935025461,0.013300977235445322,-0.04770733004388772,0.20296767296740903,0.08274022719858709,-0.09195949398222136,-0.003953210162764176,0.035997827360978896,-0.04167267441476008,-0.04999816807419388,-0.10198223496384962,0.004499447033615489,-0.07898677686209965,0.16705211110339757,0.01986500436427341,0.044375782238912365,0.08054728292047031,0.1352863734096117,-0.15276037135256026,0.14660533261141384,0.2444629375092573,0.1039863969646273,-0.06607346787695878,-0.10145487812517517,-0.07445208243695511,0.03510737019180499,-0.2776021116283165,0.12041352558694696,0.051984714860661585,0.0370370308635013,-0.02553491624922022,-0.05157041448129984,-0.13174852673780724,0.030238226856578843,-0.14417489722788734,-0.046754316573052956,0.014879736542506627,0.12300740297104329,0.04023612358509587,-0.13060487959605116,-0.1194551987583532,0.1046296404153857,-0.04931113281930599,-0.14560425397789567,0.21139252209166615,0.06625584159244569,0.023332137222917382,0.006900885959886249,0.016947459180958857,-0.09677137393131396,0.05053549971178972,0.0465292110120612,-0.08036912471061264,0.12817765584264373,-0.1147258410158668,-0.004098498207139367,0.05898115589273378,-0.0597238213421275,0.08347266237275153,-0.05408063886930925,-0.08380173700311877,0.02357476272965875,-0.01113796907958342,-0.06589346622000603,-0.06750815768836738,-0.0047272042381344415,-0.07990153992582283,-0.03013436958405924,-0.10017464445178859,-0.06420995348488323,0.09558771468022309,-0.05654323050464882,0.08202098290024362,0.06138581053471137,-0.07054396479540415,-0.016365580569928317,0.05109662318607078,0.028887827193639692,-0.08668128016102505,-0.039199558984242766,-0.07485721301751969,-0.083308746270916,-0.22770144562947747,-0.15932944668511784,0.10648887118388983,-0.06135975302547214,0.0969892759167521,0.044138815096870676,0.07829191178081496,0.2967806507246784,0.04818637416160554,-0.05410913556493058,0.13022120772981216,0.05855324296794251,-0.1458672640438472,-0.014241947816184375,0.1434593274359821,-0.017965464348864146,-0.03786316610109508,-0.0032939200770421007,-0.02551680389174238,0.03989496368981871,0.010037405888483564,-0.11886589369226574,-0.030371935407495942,-0.04391161151005052,0.027675601144618867,0.12403632481555449,-0.03838586471369243,-0.07430244346148018,-0.023742435929832162,0.0025239164492150135,-0.12934289393147502,-0.026024669756190777,0.0807558113829634,-0.02826486039090159,-0.01144368244042071,0.12031970128895697,-0.033892552279712884,-0.05956462338305524,0.166658980178104,-0.05736642225127564,-0.005194653974138763,-0.05203698867892714,-0.006870395802474949,0.0071325468624543475,-0.03365923752118971,-0.047247057634066336,-0.016374564776967304,0.03745805382641998,-0.035661737626551115,-0.08203825124386788,0.028707889005836096,-0.10316589845397761,0.014347029209328621,-0.006178548736040623,0.08655099242595132,0.09249970924489004,0.017744005113566885,0.02770577136623964,-0.05816910207067638,0.043700818348529014,-0.024083927136485328,-0.002849674434053373,0.024652393177765797,-0.059626184043358066,0.023559744799616533,0.01544805514659342,0.12380830290322598,-0.006564206962754948,0.14484964898777308,-0.05098551923205408,0.043906489958534634,0.007266563722653219,0.08837778322052281,-0.01277296763664204,0.03892513448525037,-0.12533097301447937,0.12128955835932365,-0.07644585764240008,0.06354894805500488,-0.030560137511061347,-0.1427971007285228,0.05389839106905647,0.05752861635118456,-0.05012884725571054,-0.011094050249566001,-0.025337408380921467,-0.03233109958867919,0.029215189711338185,0.09111293806017629,-0.028615779867252167,-0.03960841897290779,-0.04199117349751624,-0.051095157823017434,-0.013297087333649316,0.05207082901866289,-0.07799016323287089,0.01483869029687157,-0.05595721397866782,-0.0850949918208177,-0.09112964333152229,0.041323475312297964,0.0664196988518404,-0.009955079127329514,0.1274886117179106,-0.1349660506897956,-0.05318475297933134,-0.04274579968684422,0.006244472606496965,-0.23392889144283546,-0.03440201733999648,-0.3950300973726343,0.15070349127742455,0.13929069895654167,0.02247761158139583,0.08030364907788656,-0.08843903350270477,0.06259608493914026,-0.14817038787130532,0.007965637004998527,-0.10233479920686595,0.009630733428946936,0.10539762674255715,-0.10331902076671684,0.0244843675238966,-0.05331267079161173,-0.13288163138319775,-0.0815995026837899,0.1032727959207449,0.0658950598277448],\"yaxis\":\"y\",\"type\":\"scatter\"}],                        {\"template\":{\"data\":{\"barpolar\":[{\"marker\":{\"line\":{\"color\":\"white\",\"width\":0.5},\"pattern\":{\"fillmode\":\"overlay\",\"size\":10,\"solidity\":0.2}},\"type\":\"barpolar\"}],\"bar\":[{\"error_x\":{\"color\":\"#2a3f5f\"},\"error_y\":{\"color\":\"#2a3f5f\"},\"marker\":{\"line\":{\"color\":\"white\",\"width\":0.5},\"pattern\":{\"fillmode\":\"overlay\",\"size\":10,\"solidity\":0.2}},\"type\":\"bar\"}],\"carpet\":[{\"aaxis\":{\"endlinecolor\":\"#2a3f5f\",\"gridcolor\":\"#C8D4E3\",\"linecolor\":\"#C8D4E3\",\"minorgridcolor\":\"#C8D4E3\",\"startlinecolor\":\"#2a3f5f\"},\"baxis\":{\"endlinecolor\":\"#2a3f5f\",\"gridcolor\":\"#C8D4E3\",\"linecolor\":\"#C8D4E3\",\"minorgridcolor\":\"#C8D4E3\",\"startlinecolor\":\"#2a3f5f\"},\"type\":\"carpet\"}],\"choropleth\":[{\"colorbar\":{\"outlinewidth\":0,\"ticks\":\"\"},\"type\":\"choropleth\"}],\"contourcarpet\":[{\"colorbar\":{\"outlinewidth\":0,\"ticks\":\"\"},\"type\":\"contourcarpet\"}],\"contour\":[{\"colorbar\":{\"outlinewidth\":0,\"ticks\":\"\"},\"colorscale\":[[0.0,\"#0d0887\"],[0.1111111111111111,\"#46039f\"],[0.2222222222222222,\"#7201a8\"],[0.3333333333333333,\"#9c179e\"],[0.4444444444444444,\"#bd3786\"],[0.5555555555555556,\"#d8576b\"],[0.6666666666666666,\"#ed7953\"],[0.7777777777777778,\"#fb9f3a\"],[0.8888888888888888,\"#fdca26\"],[1.0,\"#f0f921\"]],\"type\":\"contour\"}],\"heatmapgl\":[{\"colorbar\":{\"outlinewidth\":0,\"ticks\":\"\"},\"colorscale\":[[0.0,\"#0d0887\"],[0.1111111111111111,\"#46039f\"],[0.2222222222222222,\"#7201a8\"],[0.3333333333333333,\"#9c179e\"],[0.4444444444444444,\"#bd3786\"],[0.5555555555555556,\"#d8576b\"],[0.6666666666666666,\"#ed7953\"],[0.7777777777777778,\"#fb9f3a\"],[0.8888888888888888,\"#fdca26\"],[1.0,\"#f0f921\"]],\"type\":\"heatmapgl\"}],\"heatmap\":[{\"colorbar\":{\"outlinewidth\":0,\"ticks\":\"\"},\"colorscale\":[[0.0,\"#0d0887\"],[0.1111111111111111,\"#46039f\"],[0.2222222222222222,\"#7201a8\"],[0.3333333333333333,\"#9c179e\"],[0.4444444444444444,\"#bd3786\"],[0.5555555555555556,\"#d8576b\"],[0.6666666666666666,\"#ed7953\"],[0.7777777777777778,\"#fb9f3a\"],[0.8888888888888888,\"#fdca26\"],[1.0,\"#f0f921\"]],\"type\":\"heatmap\"}],\"histogram2dcontour\":[{\"colorbar\":{\"outlinewidth\":0,\"ticks\":\"\"},\"colorscale\":[[0.0,\"#0d0887\"],[0.1111111111111111,\"#46039f\"],[0.2222222222222222,\"#7201a8\"],[0.3333333333333333,\"#9c179e\"],[0.4444444444444444,\"#bd3786\"],[0.5555555555555556,\"#d8576b\"],[0.6666666666666666,\"#ed7953\"],[0.7777777777777778,\"#fb9f3a\"],[0.8888888888888888,\"#fdca26\"],[1.0,\"#f0f921\"]],\"type\":\"histogram2dcontour\"}],\"histogram2d\":[{\"colorbar\":{\"outlinewidth\":0,\"ticks\":\"\"},\"colorscale\":[[0.0,\"#0d0887\"],[0.1111111111111111,\"#46039f\"],[0.2222222222222222,\"#7201a8\"],[0.3333333333333333,\"#9c179e\"],[0.4444444444444444,\"#bd3786\"],[0.5555555555555556,\"#d8576b\"],[0.6666666666666666,\"#ed7953\"],[0.7777777777777778,\"#fb9f3a\"],[0.8888888888888888,\"#fdca26\"],[1.0,\"#f0f921\"]],\"type\":\"histogram2d\"}],\"histogram\":[{\"marker\":{\"pattern\":{\"fillmode\":\"overlay\",\"size\":10,\"solidity\":0.2}},\"type\":\"histogram\"}],\"mesh3d\":[{\"colorbar\":{\"outlinewidth\":0,\"ticks\":\"\"},\"type\":\"mesh3d\"}],\"parcoords\":[{\"line\":{\"colorbar\":{\"outlinewidth\":0,\"ticks\":\"\"}},\"type\":\"parcoords\"}],\"pie\":[{\"automargin\":true,\"type\":\"pie\"}],\"scatter3d\":[{\"line\":{\"colorbar\":{\"outlinewidth\":0,\"ticks\":\"\"}},\"marker\":{\"colorbar\":{\"outlinewidth\":0,\"ticks\":\"\"}},\"type\":\"scatter3d\"}],\"scattercarpet\":[{\"marker\":{\"colorbar\":{\"outlinewidth\":0,\"ticks\":\"\"}},\"type\":\"scattercarpet\"}],\"scattergeo\":[{\"marker\":{\"colorbar\":{\"outlinewidth\":0,\"ticks\":\"\"}},\"type\":\"scattergeo\"}],\"scattergl\":[{\"marker\":{\"colorbar\":{\"outlinewidth\":0,\"ticks\":\"\"}},\"type\":\"scattergl\"}],\"scattermapbox\":[{\"marker\":{\"colorbar\":{\"outlinewidth\":0,\"ticks\":\"\"}},\"type\":\"scattermapbox\"}],\"scatterpolargl\":[{\"marker\":{\"colorbar\":{\"outlinewidth\":0,\"ticks\":\"\"}},\"type\":\"scatterpolargl\"}],\"scatterpolar\":[{\"marker\":{\"colorbar\":{\"outlinewidth\":0,\"ticks\":\"\"}},\"type\":\"scatterpolar\"}],\"scatter\":[{\"marker\":{\"colorbar\":{\"outlinewidth\":0,\"ticks\":\"\"}},\"type\":\"scatter\"}],\"scatterternary\":[{\"marker\":{\"colorbar\":{\"outlinewidth\":0,\"ticks\":\"\"}},\"type\":\"scatterternary\"}],\"surface\":[{\"colorbar\":{\"outlinewidth\":0,\"ticks\":\"\"},\"colorscale\":[[0.0,\"#0d0887\"],[0.1111111111111111,\"#46039f\"],[0.2222222222222222,\"#7201a8\"],[0.3333333333333333,\"#9c179e\"],[0.4444444444444444,\"#bd3786\"],[0.5555555555555556,\"#d8576b\"],[0.6666666666666666,\"#ed7953\"],[0.7777777777777778,\"#fb9f3a\"],[0.8888888888888888,\"#fdca26\"],[1.0,\"#f0f921\"]],\"type\":\"surface\"}],\"table\":[{\"cells\":{\"fill\":{\"color\":\"#EBF0F8\"},\"line\":{\"color\":\"white\"}},\"header\":{\"fill\":{\"color\":\"#C8D4E3\"},\"line\":{\"color\":\"white\"}},\"type\":\"table\"}]},\"layout\":{\"annotationdefaults\":{\"arrowcolor\":\"#2a3f5f\",\"arrowhead\":0,\"arrowwidth\":1},\"autotypenumbers\":\"strict\",\"coloraxis\":{\"colorbar\":{\"outlinewidth\":0,\"ticks\":\"\"}},\"colorscale\":{\"diverging\":[[0,\"#8e0152\"],[0.1,\"#c51b7d\"],[0.2,\"#de77ae\"],[0.3,\"#f1b6da\"],[0.4,\"#fde0ef\"],[0.5,\"#f7f7f7\"],[0.6,\"#e6f5d0\"],[0.7,\"#b8e186\"],[0.8,\"#7fbc41\"],[0.9,\"#4d9221\"],[1,\"#276419\"]],\"sequential\":[[0.0,\"#0d0887\"],[0.1111111111111111,\"#46039f\"],[0.2222222222222222,\"#7201a8\"],[0.3333333333333333,\"#9c179e\"],[0.4444444444444444,\"#bd3786\"],[0.5555555555555556,\"#d8576b\"],[0.6666666666666666,\"#ed7953\"],[0.7777777777777778,\"#fb9f3a\"],[0.8888888888888888,\"#fdca26\"],[1.0,\"#f0f921\"]],\"sequentialminus\":[[0.0,\"#0d0887\"],[0.1111111111111111,\"#46039f\"],[0.2222222222222222,\"#7201a8\"],[0.3333333333333333,\"#9c179e\"],[0.4444444444444444,\"#bd3786\"],[0.5555555555555556,\"#d8576b\"],[0.6666666666666666,\"#ed7953\"],[0.7777777777777778,\"#fb9f3a\"],[0.8888888888888888,\"#fdca26\"],[1.0,\"#f0f921\"]]},\"colorway\":[\"#636efa\",\"#EF553B\",\"#00cc96\",\"#ab63fa\",\"#FFA15A\",\"#19d3f3\",\"#FF6692\",\"#B6E880\",\"#FF97FF\",\"#FECB52\"],\"font\":{\"color\":\"#2a3f5f\"},\"geo\":{\"bgcolor\":\"white\",\"lakecolor\":\"white\",\"landcolor\":\"white\",\"showlakes\":true,\"showland\":true,\"subunitcolor\":\"#C8D4E3\"},\"hoverlabel\":{\"align\":\"left\"},\"hovermode\":\"closest\",\"mapbox\":{\"style\":\"light\"},\"paper_bgcolor\":\"white\",\"plot_bgcolor\":\"white\",\"polar\":{\"angularaxis\":{\"gridcolor\":\"#EBF0F8\",\"linecolor\":\"#EBF0F8\",\"ticks\":\"\"},\"bgcolor\":\"white\",\"radialaxis\":{\"gridcolor\":\"#EBF0F8\",\"linecolor\":\"#EBF0F8\",\"ticks\":\"\"}},\"scene\":{\"xaxis\":{\"backgroundcolor\":\"white\",\"gridcolor\":\"#DFE8F3\",\"gridwidth\":2,\"linecolor\":\"#EBF0F8\",\"showbackground\":true,\"ticks\":\"\",\"zerolinecolor\":\"#EBF0F8\"},\"yaxis\":{\"backgroundcolor\":\"white\",\"gridcolor\":\"#DFE8F3\",\"gridwidth\":2,\"linecolor\":\"#EBF0F8\",\"showbackground\":true,\"ticks\":\"\",\"zerolinecolor\":\"#EBF0F8\"},\"zaxis\":{\"backgroundcolor\":\"white\",\"gridcolor\":\"#DFE8F3\",\"gridwidth\":2,\"linecolor\":\"#EBF0F8\",\"showbackground\":true,\"ticks\":\"\",\"zerolinecolor\":\"#EBF0F8\"}},\"shapedefaults\":{\"line\":{\"color\":\"#2a3f5f\"}},\"ternary\":{\"aaxis\":{\"gridcolor\":\"#DFE8F3\",\"linecolor\":\"#A2B1C6\",\"ticks\":\"\"},\"baxis\":{\"gridcolor\":\"#DFE8F3\",\"linecolor\":\"#A2B1C6\",\"ticks\":\"\"},\"bgcolor\":\"white\",\"caxis\":{\"gridcolor\":\"#DFE8F3\",\"linecolor\":\"#A2B1C6\",\"ticks\":\"\"}},\"title\":{\"x\":0.05},\"xaxis\":{\"automargin\":true,\"gridcolor\":\"#EBF0F8\",\"linecolor\":\"#EBF0F8\",\"ticks\":\"\",\"title\":{\"standoff\":15},\"zerolinecolor\":\"#EBF0F8\",\"zerolinewidth\":2},\"yaxis\":{\"automargin\":true,\"gridcolor\":\"#EBF0F8\",\"linecolor\":\"#EBF0F8\",\"ticks\":\"\",\"title\":{\"standoff\":15},\"zerolinecolor\":\"#EBF0F8\",\"zerolinewidth\":2}}},\"xaxis\":{\"anchor\":\"y\",\"domain\":[0.0,1.0],\"title\":{\"text\":\"date\"},\"showspikes\":true,\"spikethickness\":2,\"spikedash\":\"dot\",\"spikecolor\":\"#999999\",\"spikemode\":\"across\"},\"yaxis\":{\"anchor\":\"x\",\"domain\":[0.0,1.0],\"title\":{\"text\":\"return, %\"},\"tickformat\":\".2%\"},\"legend\":{\"title\":{\"text\":\"asset\"},\"tracegroupgap\":0},\"margin\":{\"t\":60},\"hovermode\":\"x\",\"title\":{\"text\":\"Assets daily returns\"}},                        {\"responsive\": true}                    ).then(function(){\n",
       "                            \n",
       "var gd = document.getElementById('5b03c31f-8f6a-46e5-8647-0ec4b33f0abd');\n",
       "var x = new MutationObserver(function (mutations, observer) {{\n",
       "        var display = window.getComputedStyle(gd).display;\n",
       "        if (!display || display === 'none') {{\n",
       "            console.log([gd, 'removed!']);\n",
       "            Plotly.purge(gd);\n",
       "            observer.disconnect();\n",
       "        }}\n",
       "}});\n",
       "\n",
       "// Listen for the removal of the full notebook cells\n",
       "var notebookContainer = gd.closest('#notebook-container');\n",
       "if (notebookContainer) {{\n",
       "    x.observe(notebookContainer, {childList: true});\n",
       "}}\n",
       "\n",
       "// Listen for the clearing of the current output cell\n",
       "var outputEl = gd.closest('.output');\n",
       "if (outputEl) {{\n",
       "    x.observe(outputEl, {childList: true});\n",
       "}}\n",
       "\n",
       "                        })                };                });            </script>        </div>"
      ]
     },
     "metadata": {},
     "output_type": "display_data"
    }
   ],
   "source": [
    "fig = px.line(prices_data.pct_change(),\n",
    "       labels={'variable': 'asset', 'value': 'return, %'})\n",
    "fig.update_traces(\n",
    "    hovertemplate=\"%{y}\"\n",
    ")\n",
    "fig.update_yaxes(\n",
    "    tickformat=\".2%\",\n",
    ")\n",
    "fig.update_xaxes(\n",
    "    showspikes=True,\n",
    "    spikethickness=2,\n",
    "    spikedash=\"dot\",\n",
    "    spikecolor=\"#999999\",\n",
    "    spikemode=\"across\",\n",
    ")\n",
    "fig.update_layout(\n",
    "    hovermode=\"x\",\n",
    "    template='plotly_white',\n",
    "    title='Assets daily returns'\n",
    ")\n",
    "fig.show()"
   ]
  },
  {
   "cell_type": "markdown",
   "id": "d5409083-1d1d-40a8-a0c0-4d38bb64d10e",
   "metadata": {
    "tags": []
   },
   "source": [
    "### Sqrt marketcap weights with limit 0.5"
   ]
  },
  {
   "cell_type": "markdown",
   "id": "dc4ed34b-0810-4887-944e-8923bbb41dde",
   "metadata": {},
   "source": [
    "**Weighting requirements**\n",
    "\n",
    "1. The maximum weight any one token can have is 50%.\n",
    "1. All excess weight is proportionally redistributed to all uncapped tokens."
   ]
  },
  {
   "cell_type": "code",
   "execution_count": 36,
   "id": "382a4b95-e88e-4747-82e5-2f208c579a02",
   "metadata": {},
   "outputs": [],
   "source": [
    "wlim = 0.5"
   ]
  },
  {
   "cell_type": "code",
   "execution_count": 37,
   "id": "07ab8f3f-af9e-429a-97f9-b023ecfd5ae5",
   "metadata": {},
   "outputs": [],
   "source": [
    "target_weights = np.sqrt(marketcaps)\n",
    "target_weights = target_weights.div(target_weights.sum(axis=1), axis=0)"
   ]
  },
  {
   "cell_type": "code",
   "execution_count": 38,
   "id": "c67d8235-80c5-481d-b074-5bb714ed1b7f",
   "metadata": {},
   "outputs": [],
   "source": [
    "overlim = target_weights[target_weights > wlim].sum(axis=1) - 0.5\n",
    "under_weights = target_weights[target_weights <= wlim]\n",
    "under_weights.fillna(0)\n",
    "target_weights[target_weights <= wlim] += under_weights.div(under_weights.sum(axis=1), axis=0).mul(overlim, axis=0)\n",
    "target_weights[target_weights > wlim] = 0.5"
   ]
  },
  {
   "cell_type": "code",
   "execution_count": 39,
   "id": "2930afcf-1fc0-4328-b8c6-fbcd08e5ad1f",
   "metadata": {},
   "outputs": [
    {
     "data": {
      "text/html": [
       "<div>\n",
       "<style scoped>\n",
       "    .dataframe tbody tr th:only-of-type {\n",
       "        vertical-align: middle;\n",
       "    }\n",
       "\n",
       "    .dataframe tbody tr th {\n",
       "        vertical-align: top;\n",
       "    }\n",
       "\n",
       "    .dataframe thead th {\n",
       "        text-align: right;\n",
       "    }\n",
       "</style>\n",
       "<table border=\"1\" class=\"dataframe\">\n",
       "  <thead>\n",
       "    <tr style=\"text-align: right;\">\n",
       "      <th></th>\n",
       "      <th>AVAX</th>\n",
       "      <th>JOE</th>\n",
       "    </tr>\n",
       "    <tr>\n",
       "      <th>date</th>\n",
       "      <th></th>\n",
       "      <th></th>\n",
       "    </tr>\n",
       "  </thead>\n",
       "  <tbody>\n",
       "    <tr>\n",
       "      <th>2021-08-26</th>\n",
       "      <td>0.5</td>\n",
       "      <td>0.5</td>\n",
       "    </tr>\n",
       "    <tr>\n",
       "      <th>2021-08-27</th>\n",
       "      <td>0.5</td>\n",
       "      <td>0.5</td>\n",
       "    </tr>\n",
       "    <tr>\n",
       "      <th>2021-08-28</th>\n",
       "      <td>0.5</td>\n",
       "      <td>0.5</td>\n",
       "    </tr>\n",
       "    <tr>\n",
       "      <th>2021-08-29</th>\n",
       "      <td>0.5</td>\n",
       "      <td>0.5</td>\n",
       "    </tr>\n",
       "    <tr>\n",
       "      <th>2021-08-30</th>\n",
       "      <td>0.5</td>\n",
       "      <td>0.5</td>\n",
       "    </tr>\n",
       "    <tr>\n",
       "      <th>...</th>\n",
       "      <td>...</td>\n",
       "      <td>...</td>\n",
       "    </tr>\n",
       "    <tr>\n",
       "      <th>2022-05-26</th>\n",
       "      <td>0.5</td>\n",
       "      <td>0.5</td>\n",
       "    </tr>\n",
       "    <tr>\n",
       "      <th>2022-05-27</th>\n",
       "      <td>0.5</td>\n",
       "      <td>0.5</td>\n",
       "    </tr>\n",
       "    <tr>\n",
       "      <th>2022-05-28</th>\n",
       "      <td>0.5</td>\n",
       "      <td>0.5</td>\n",
       "    </tr>\n",
       "    <tr>\n",
       "      <th>2022-05-29</th>\n",
       "      <td>0.5</td>\n",
       "      <td>0.5</td>\n",
       "    </tr>\n",
       "    <tr>\n",
       "      <th>2022-05-30</th>\n",
       "      <td>0.5</td>\n",
       "      <td>0.5</td>\n",
       "    </tr>\n",
       "  </tbody>\n",
       "</table>\n",
       "<p>278 rows × 2 columns</p>\n",
       "</div>"
      ],
      "text/plain": [
       "            AVAX  JOE\n",
       "date                 \n",
       "2021-08-26   0.5  0.5\n",
       "2021-08-27   0.5  0.5\n",
       "2021-08-28   0.5  0.5\n",
       "2021-08-29   0.5  0.5\n",
       "2021-08-30   0.5  0.5\n",
       "...          ...  ...\n",
       "2022-05-26   0.5  0.5\n",
       "2022-05-27   0.5  0.5\n",
       "2022-05-28   0.5  0.5\n",
       "2022-05-29   0.5  0.5\n",
       "2022-05-30   0.5  0.5\n",
       "\n",
       "[278 rows x 2 columns]"
      ]
     },
     "execution_count": 39,
     "metadata": {},
     "output_type": "execute_result"
    }
   ],
   "source": [
    "target_weights"
   ]
  },
  {
   "cell_type": "code",
   "execution_count": 40,
   "id": "f4ec0e6b-2e25-4fe2-b8a9-f1e87a03eb11",
   "metadata": {},
   "outputs": [
    {
     "data": {
      "application/vnd.plotly.v1+json": {
       "config": {
        "plotlyServerURL": "https://plot.ly"
       },
       "data": [
        {
         "hovertemplate": "%{y}",
         "legendgroup": "AVAX",
         "line": {
          "color": "#636efa",
          "dash": "solid"
         },
         "marker": {
          "symbol": "circle"
         },
         "mode": "lines",
         "name": "AVAX",
         "orientation": "v",
         "showlegend": true,
         "type": "scatter",
         "x": [
          "2021-08-26T00:00:00",
          "2021-08-27T00:00:00",
          "2021-08-28T00:00:00",
          "2021-08-29T00:00:00",
          "2021-08-30T00:00:00",
          "2021-08-31T00:00:00",
          "2021-09-01T00:00:00",
          "2021-09-02T00:00:00",
          "2021-09-03T00:00:00",
          "2021-09-04T00:00:00",
          "2021-09-05T00:00:00",
          "2021-09-06T00:00:00",
          "2021-09-07T00:00:00",
          "2021-09-08T00:00:00",
          "2021-09-09T00:00:00",
          "2021-09-10T00:00:00",
          "2021-09-11T00:00:00",
          "2021-09-12T00:00:00",
          "2021-09-13T00:00:00",
          "2021-09-14T00:00:00",
          "2021-09-15T00:00:00",
          "2021-09-16T00:00:00",
          "2021-09-17T00:00:00",
          "2021-09-18T00:00:00",
          "2021-09-19T00:00:00",
          "2021-09-20T00:00:00",
          "2021-09-21T00:00:00",
          "2021-09-22T00:00:00",
          "2021-09-23T00:00:00",
          "2021-09-24T00:00:00",
          "2021-09-25T00:00:00",
          "2021-09-26T00:00:00",
          "2021-09-27T00:00:00",
          "2021-09-28T00:00:00",
          "2021-09-29T00:00:00",
          "2021-09-30T00:00:00",
          "2021-10-01T00:00:00",
          "2021-10-02T00:00:00",
          "2021-10-03T00:00:00",
          "2021-10-04T00:00:00",
          "2021-10-05T00:00:00",
          "2021-10-06T00:00:00",
          "2021-10-07T00:00:00",
          "2021-10-08T00:00:00",
          "2021-10-09T00:00:00",
          "2021-10-10T00:00:00",
          "2021-10-11T00:00:00",
          "2021-10-12T00:00:00",
          "2021-10-13T00:00:00",
          "2021-10-14T00:00:00",
          "2021-10-15T00:00:00",
          "2021-10-16T00:00:00",
          "2021-10-17T00:00:00",
          "2021-10-18T00:00:00",
          "2021-10-19T00:00:00",
          "2021-10-20T00:00:00",
          "2021-10-21T00:00:00",
          "2021-10-22T00:00:00",
          "2021-10-23T00:00:00",
          "2021-10-24T00:00:00",
          "2021-10-25T00:00:00",
          "2021-10-26T00:00:00",
          "2021-10-27T00:00:00",
          "2021-10-28T00:00:00",
          "2021-10-29T00:00:00",
          "2021-10-30T00:00:00",
          "2021-10-31T00:00:00",
          "2021-11-01T00:00:00",
          "2021-11-02T00:00:00",
          "2021-11-03T00:00:00",
          "2021-11-04T00:00:00",
          "2021-11-05T00:00:00",
          "2021-11-06T00:00:00",
          "2021-11-07T00:00:00",
          "2021-11-08T00:00:00",
          "2021-11-09T00:00:00",
          "2021-11-10T00:00:00",
          "2021-11-11T00:00:00",
          "2021-11-12T00:00:00",
          "2021-11-13T00:00:00",
          "2021-11-14T00:00:00",
          "2021-11-15T00:00:00",
          "2021-11-16T00:00:00",
          "2021-11-17T00:00:00",
          "2021-11-18T00:00:00",
          "2021-11-19T00:00:00",
          "2021-11-20T00:00:00",
          "2021-11-21T00:00:00",
          "2021-11-22T00:00:00",
          "2021-11-23T00:00:00",
          "2021-11-24T00:00:00",
          "2021-11-25T00:00:00",
          "2021-11-26T00:00:00",
          "2021-11-27T00:00:00",
          "2021-11-28T00:00:00",
          "2021-11-29T00:00:00",
          "2021-11-30T00:00:00",
          "2021-12-01T00:00:00",
          "2021-12-02T00:00:00",
          "2021-12-03T00:00:00",
          "2021-12-04T00:00:00",
          "2021-12-05T00:00:00",
          "2021-12-06T00:00:00",
          "2021-12-07T00:00:00",
          "2021-12-08T00:00:00",
          "2021-12-09T00:00:00",
          "2021-12-10T00:00:00",
          "2021-12-11T00:00:00",
          "2021-12-12T00:00:00",
          "2021-12-13T00:00:00",
          "2021-12-14T00:00:00",
          "2021-12-15T00:00:00",
          "2021-12-16T00:00:00",
          "2021-12-17T00:00:00",
          "2021-12-18T00:00:00",
          "2021-12-19T00:00:00",
          "2021-12-20T00:00:00",
          "2021-12-21T00:00:00",
          "2021-12-22T00:00:00",
          "2021-12-23T00:00:00",
          "2021-12-24T00:00:00",
          "2021-12-25T00:00:00",
          "2021-12-26T00:00:00",
          "2021-12-27T00:00:00",
          "2021-12-28T00:00:00",
          "2021-12-29T00:00:00",
          "2021-12-30T00:00:00",
          "2021-12-31T00:00:00",
          "2022-01-01T00:00:00",
          "2022-01-02T00:00:00",
          "2022-01-03T00:00:00",
          "2022-01-04T00:00:00",
          "2022-01-05T00:00:00",
          "2022-01-06T00:00:00",
          "2022-01-07T00:00:00",
          "2022-01-08T00:00:00",
          "2022-01-09T00:00:00",
          "2022-01-10T00:00:00",
          "2022-01-11T00:00:00",
          "2022-01-12T00:00:00",
          "2022-01-13T00:00:00",
          "2022-01-14T00:00:00",
          "2022-01-15T00:00:00",
          "2022-01-16T00:00:00",
          "2022-01-17T00:00:00",
          "2022-01-18T00:00:00",
          "2022-01-19T00:00:00",
          "2022-01-20T00:00:00",
          "2022-01-21T00:00:00",
          "2022-01-22T00:00:00",
          "2022-01-23T00:00:00",
          "2022-01-24T00:00:00",
          "2022-01-25T00:00:00",
          "2022-01-26T00:00:00",
          "2022-01-27T00:00:00",
          "2022-01-28T00:00:00",
          "2022-01-29T00:00:00",
          "2022-01-30T00:00:00",
          "2022-01-31T00:00:00",
          "2022-02-01T00:00:00",
          "2022-02-02T00:00:00",
          "2022-02-03T00:00:00",
          "2022-02-04T00:00:00",
          "2022-02-05T00:00:00",
          "2022-02-06T00:00:00",
          "2022-02-07T00:00:00",
          "2022-02-08T00:00:00",
          "2022-02-09T00:00:00",
          "2022-02-10T00:00:00",
          "2022-02-11T00:00:00",
          "2022-02-12T00:00:00",
          "2022-02-13T00:00:00",
          "2022-02-14T00:00:00",
          "2022-02-15T00:00:00",
          "2022-02-16T00:00:00",
          "2022-02-17T00:00:00",
          "2022-02-18T00:00:00",
          "2022-02-19T00:00:00",
          "2022-02-20T00:00:00",
          "2022-02-21T00:00:00",
          "2022-02-22T00:00:00",
          "2022-02-23T00:00:00",
          "2022-02-24T00:00:00",
          "2022-02-25T00:00:00",
          "2022-02-26T00:00:00",
          "2022-02-27T00:00:00",
          "2022-02-28T00:00:00",
          "2022-03-01T00:00:00",
          "2022-03-02T00:00:00",
          "2022-03-03T00:00:00",
          "2022-03-04T00:00:00",
          "2022-03-05T00:00:00",
          "2022-03-06T00:00:00",
          "2022-03-07T00:00:00",
          "2022-03-08T00:00:00",
          "2022-03-09T00:00:00",
          "2022-03-10T00:00:00",
          "2022-03-11T00:00:00",
          "2022-03-12T00:00:00",
          "2022-03-13T00:00:00",
          "2022-03-14T00:00:00",
          "2022-03-15T00:00:00",
          "2022-03-16T00:00:00",
          "2022-03-17T00:00:00",
          "2022-03-18T00:00:00",
          "2022-03-19T00:00:00",
          "2022-03-20T00:00:00",
          "2022-03-21T00:00:00",
          "2022-03-22T00:00:00",
          "2022-03-23T00:00:00",
          "2022-03-24T00:00:00",
          "2022-03-25T00:00:00",
          "2022-03-26T00:00:00",
          "2022-03-27T00:00:00",
          "2022-03-28T00:00:00",
          "2022-03-29T00:00:00",
          "2022-03-30T00:00:00",
          "2022-03-31T00:00:00",
          "2022-04-01T00:00:00",
          "2022-04-02T00:00:00",
          "2022-04-03T00:00:00",
          "2022-04-04T00:00:00",
          "2022-04-05T00:00:00",
          "2022-04-06T00:00:00",
          "2022-04-07T00:00:00",
          "2022-04-08T00:00:00",
          "2022-04-09T00:00:00",
          "2022-04-10T00:00:00",
          "2022-04-11T00:00:00",
          "2022-04-12T00:00:00",
          "2022-04-13T00:00:00",
          "2022-04-14T00:00:00",
          "2022-04-15T00:00:00",
          "2022-04-16T00:00:00",
          "2022-04-17T00:00:00",
          "2022-04-18T00:00:00",
          "2022-04-19T00:00:00",
          "2022-04-20T00:00:00",
          "2022-04-21T00:00:00",
          "2022-04-22T00:00:00",
          "2022-04-23T00:00:00",
          "2022-04-24T00:00:00",
          "2022-04-25T00:00:00",
          "2022-04-26T00:00:00",
          "2022-04-27T00:00:00",
          "2022-04-28T00:00:00",
          "2022-04-29T00:00:00",
          "2022-04-30T00:00:00",
          "2022-05-01T00:00:00",
          "2022-05-02T00:00:00",
          "2022-05-03T00:00:00",
          "2022-05-04T00:00:00",
          "2022-05-05T00:00:00",
          "2022-05-06T00:00:00",
          "2022-05-07T00:00:00",
          "2022-05-08T00:00:00",
          "2022-05-09T00:00:00",
          "2022-05-10T00:00:00",
          "2022-05-11T00:00:00",
          "2022-05-12T00:00:00",
          "2022-05-13T00:00:00",
          "2022-05-14T00:00:00",
          "2022-05-15T00:00:00",
          "2022-05-16T00:00:00",
          "2022-05-17T00:00:00",
          "2022-05-18T00:00:00",
          "2022-05-19T00:00:00",
          "2022-05-20T00:00:00",
          "2022-05-21T00:00:00",
          "2022-05-22T00:00:00",
          "2022-05-23T00:00:00",
          "2022-05-24T00:00:00",
          "2022-05-25T00:00:00",
          "2022-05-26T00:00:00",
          "2022-05-27T00:00:00",
          "2022-05-28T00:00:00",
          "2022-05-29T00:00:00",
          "2022-05-30T00:00:00"
         ],
         "xaxis": "x",
         "y": [
          0.5,
          0.5,
          0.5,
          0.5,
          0.5,
          0.5,
          0.5,
          0.5,
          0.5,
          0.5,
          0.5,
          0.5,
          0.5,
          0.5,
          0.5,
          0.5,
          0.5,
          0.5,
          0.5,
          0.5,
          0.5,
          0.5,
          0.5,
          0.5,
          0.5,
          0.5,
          0.5,
          0.5,
          0.5,
          0.5,
          0.5,
          0.5,
          0.5,
          0.5,
          0.5,
          0.5,
          0.5,
          0.5,
          0.5,
          0.5,
          0.5,
          0.5,
          0.5,
          0.5,
          0.5,
          0.5,
          0.5,
          0.5,
          0.5,
          0.5,
          0.5,
          0.5,
          0.5,
          0.5,
          0.5,
          0.5,
          0.5,
          0.5,
          0.5,
          0.5,
          0.5,
          0.5,
          0.5,
          0.5,
          0.5,
          0.5,
          0.5,
          0.5,
          0.5,
          0.5,
          0.5,
          0.5,
          0.5,
          0.5,
          0.5,
          0.5,
          0.5,
          0.5,
          0.5,
          0.5,
          0.5,
          0.5,
          0.5,
          0.5,
          0.5,
          0.5,
          0.5,
          0.5,
          0.5,
          0.5,
          0.5,
          0.5,
          0.5,
          0.5,
          0.5,
          0.5,
          0.5,
          0.5,
          0.5,
          0.5,
          0.5,
          0.5,
          0.5,
          0.5,
          0.5,
          0.5,
          0.5,
          0.5,
          0.5,
          0.5,
          0.5,
          0.5,
          0.5,
          0.5,
          0.5,
          0.5,
          0.5,
          0.5,
          0.5,
          0.5,
          0.5,
          0.5,
          0.5,
          0.5,
          0.5,
          0.5,
          0.5,
          0.5,
          0.5,
          0.5,
          0.5,
          0.5,
          0.5,
          0.5,
          0.5,
          0.5,
          0.5,
          0.5,
          0.5,
          0.5,
          0.5,
          0.5,
          0.5,
          0.5,
          0.5,
          0.5,
          0.5,
          0.5,
          0.5,
          0.5,
          0.5,
          0.5,
          0.5,
          0.5,
          0.5,
          0.5,
          0.5,
          0.5,
          0.5,
          0.5,
          0.5,
          0.5,
          0.5,
          0.5,
          0.5,
          0.5,
          0.5,
          0.5,
          0.5,
          0.5,
          0.5,
          0.5,
          0.5,
          0.5,
          0.5,
          0.5,
          0.5,
          0.5,
          0.5,
          0.5,
          0.5,
          0.5,
          0.5,
          0.5,
          0.5,
          0.5,
          0.5,
          0.5,
          0.5,
          0.5,
          0.5,
          0.5,
          0.5,
          0.5,
          0.5,
          0.5,
          0.5,
          0.5,
          0.5,
          0.5,
          0.5,
          0.5,
          0.5,
          0.5,
          0.5,
          0.5,
          0.5,
          0.5,
          0.5,
          0.5,
          0.5,
          0.5,
          0.5,
          0.5,
          0.5,
          0.5,
          0.5,
          0.5,
          0.5,
          0.5,
          0.5,
          0.5,
          0.5,
          0.5,
          0.5,
          0.5,
          0.5,
          0.5,
          0.5,
          0.5,
          0.5,
          0.5,
          0.5,
          0.5,
          0.5,
          0.5,
          0.5,
          0.5,
          0.5,
          0.5,
          0.5,
          0.5,
          0.5,
          0.5,
          0.5,
          0.5,
          0.5,
          0.5,
          0.5,
          0.5,
          0.5,
          0.5,
          0.5,
          0.5,
          0.5,
          0.5,
          0.5,
          0.5,
          0.5,
          0.5,
          0.5,
          0.5,
          0.5,
          0.5,
          0.5,
          0.5,
          0.5,
          0.5,
          0.5,
          0.5,
          0.5,
          0.5,
          0.5,
          0.5,
          0.5,
          0.5,
          0.5,
          0.5
         ],
         "yaxis": "y"
        },
        {
         "hovertemplate": "%{y}",
         "legendgroup": "JOE",
         "line": {
          "color": "#EF553B",
          "dash": "solid"
         },
         "marker": {
          "symbol": "circle"
         },
         "mode": "lines",
         "name": "JOE",
         "orientation": "v",
         "showlegend": true,
         "type": "scatter",
         "x": [
          "2021-08-26T00:00:00",
          "2021-08-27T00:00:00",
          "2021-08-28T00:00:00",
          "2021-08-29T00:00:00",
          "2021-08-30T00:00:00",
          "2021-08-31T00:00:00",
          "2021-09-01T00:00:00",
          "2021-09-02T00:00:00",
          "2021-09-03T00:00:00",
          "2021-09-04T00:00:00",
          "2021-09-05T00:00:00",
          "2021-09-06T00:00:00",
          "2021-09-07T00:00:00",
          "2021-09-08T00:00:00",
          "2021-09-09T00:00:00",
          "2021-09-10T00:00:00",
          "2021-09-11T00:00:00",
          "2021-09-12T00:00:00",
          "2021-09-13T00:00:00",
          "2021-09-14T00:00:00",
          "2021-09-15T00:00:00",
          "2021-09-16T00:00:00",
          "2021-09-17T00:00:00",
          "2021-09-18T00:00:00",
          "2021-09-19T00:00:00",
          "2021-09-20T00:00:00",
          "2021-09-21T00:00:00",
          "2021-09-22T00:00:00",
          "2021-09-23T00:00:00",
          "2021-09-24T00:00:00",
          "2021-09-25T00:00:00",
          "2021-09-26T00:00:00",
          "2021-09-27T00:00:00",
          "2021-09-28T00:00:00",
          "2021-09-29T00:00:00",
          "2021-09-30T00:00:00",
          "2021-10-01T00:00:00",
          "2021-10-02T00:00:00",
          "2021-10-03T00:00:00",
          "2021-10-04T00:00:00",
          "2021-10-05T00:00:00",
          "2021-10-06T00:00:00",
          "2021-10-07T00:00:00",
          "2021-10-08T00:00:00",
          "2021-10-09T00:00:00",
          "2021-10-10T00:00:00",
          "2021-10-11T00:00:00",
          "2021-10-12T00:00:00",
          "2021-10-13T00:00:00",
          "2021-10-14T00:00:00",
          "2021-10-15T00:00:00",
          "2021-10-16T00:00:00",
          "2021-10-17T00:00:00",
          "2021-10-18T00:00:00",
          "2021-10-19T00:00:00",
          "2021-10-20T00:00:00",
          "2021-10-21T00:00:00",
          "2021-10-22T00:00:00",
          "2021-10-23T00:00:00",
          "2021-10-24T00:00:00",
          "2021-10-25T00:00:00",
          "2021-10-26T00:00:00",
          "2021-10-27T00:00:00",
          "2021-10-28T00:00:00",
          "2021-10-29T00:00:00",
          "2021-10-30T00:00:00",
          "2021-10-31T00:00:00",
          "2021-11-01T00:00:00",
          "2021-11-02T00:00:00",
          "2021-11-03T00:00:00",
          "2021-11-04T00:00:00",
          "2021-11-05T00:00:00",
          "2021-11-06T00:00:00",
          "2021-11-07T00:00:00",
          "2021-11-08T00:00:00",
          "2021-11-09T00:00:00",
          "2021-11-10T00:00:00",
          "2021-11-11T00:00:00",
          "2021-11-12T00:00:00",
          "2021-11-13T00:00:00",
          "2021-11-14T00:00:00",
          "2021-11-15T00:00:00",
          "2021-11-16T00:00:00",
          "2021-11-17T00:00:00",
          "2021-11-18T00:00:00",
          "2021-11-19T00:00:00",
          "2021-11-20T00:00:00",
          "2021-11-21T00:00:00",
          "2021-11-22T00:00:00",
          "2021-11-23T00:00:00",
          "2021-11-24T00:00:00",
          "2021-11-25T00:00:00",
          "2021-11-26T00:00:00",
          "2021-11-27T00:00:00",
          "2021-11-28T00:00:00",
          "2021-11-29T00:00:00",
          "2021-11-30T00:00:00",
          "2021-12-01T00:00:00",
          "2021-12-02T00:00:00",
          "2021-12-03T00:00:00",
          "2021-12-04T00:00:00",
          "2021-12-05T00:00:00",
          "2021-12-06T00:00:00",
          "2021-12-07T00:00:00",
          "2021-12-08T00:00:00",
          "2021-12-09T00:00:00",
          "2021-12-10T00:00:00",
          "2021-12-11T00:00:00",
          "2021-12-12T00:00:00",
          "2021-12-13T00:00:00",
          "2021-12-14T00:00:00",
          "2021-12-15T00:00:00",
          "2021-12-16T00:00:00",
          "2021-12-17T00:00:00",
          "2021-12-18T00:00:00",
          "2021-12-19T00:00:00",
          "2021-12-20T00:00:00",
          "2021-12-21T00:00:00",
          "2021-12-22T00:00:00",
          "2021-12-23T00:00:00",
          "2021-12-24T00:00:00",
          "2021-12-25T00:00:00",
          "2021-12-26T00:00:00",
          "2021-12-27T00:00:00",
          "2021-12-28T00:00:00",
          "2021-12-29T00:00:00",
          "2021-12-30T00:00:00",
          "2021-12-31T00:00:00",
          "2022-01-01T00:00:00",
          "2022-01-02T00:00:00",
          "2022-01-03T00:00:00",
          "2022-01-04T00:00:00",
          "2022-01-05T00:00:00",
          "2022-01-06T00:00:00",
          "2022-01-07T00:00:00",
          "2022-01-08T00:00:00",
          "2022-01-09T00:00:00",
          "2022-01-10T00:00:00",
          "2022-01-11T00:00:00",
          "2022-01-12T00:00:00",
          "2022-01-13T00:00:00",
          "2022-01-14T00:00:00",
          "2022-01-15T00:00:00",
          "2022-01-16T00:00:00",
          "2022-01-17T00:00:00",
          "2022-01-18T00:00:00",
          "2022-01-19T00:00:00",
          "2022-01-20T00:00:00",
          "2022-01-21T00:00:00",
          "2022-01-22T00:00:00",
          "2022-01-23T00:00:00",
          "2022-01-24T00:00:00",
          "2022-01-25T00:00:00",
          "2022-01-26T00:00:00",
          "2022-01-27T00:00:00",
          "2022-01-28T00:00:00",
          "2022-01-29T00:00:00",
          "2022-01-30T00:00:00",
          "2022-01-31T00:00:00",
          "2022-02-01T00:00:00",
          "2022-02-02T00:00:00",
          "2022-02-03T00:00:00",
          "2022-02-04T00:00:00",
          "2022-02-05T00:00:00",
          "2022-02-06T00:00:00",
          "2022-02-07T00:00:00",
          "2022-02-08T00:00:00",
          "2022-02-09T00:00:00",
          "2022-02-10T00:00:00",
          "2022-02-11T00:00:00",
          "2022-02-12T00:00:00",
          "2022-02-13T00:00:00",
          "2022-02-14T00:00:00",
          "2022-02-15T00:00:00",
          "2022-02-16T00:00:00",
          "2022-02-17T00:00:00",
          "2022-02-18T00:00:00",
          "2022-02-19T00:00:00",
          "2022-02-20T00:00:00",
          "2022-02-21T00:00:00",
          "2022-02-22T00:00:00",
          "2022-02-23T00:00:00",
          "2022-02-24T00:00:00",
          "2022-02-25T00:00:00",
          "2022-02-26T00:00:00",
          "2022-02-27T00:00:00",
          "2022-02-28T00:00:00",
          "2022-03-01T00:00:00",
          "2022-03-02T00:00:00",
          "2022-03-03T00:00:00",
          "2022-03-04T00:00:00",
          "2022-03-05T00:00:00",
          "2022-03-06T00:00:00",
          "2022-03-07T00:00:00",
          "2022-03-08T00:00:00",
          "2022-03-09T00:00:00",
          "2022-03-10T00:00:00",
          "2022-03-11T00:00:00",
          "2022-03-12T00:00:00",
          "2022-03-13T00:00:00",
          "2022-03-14T00:00:00",
          "2022-03-15T00:00:00",
          "2022-03-16T00:00:00",
          "2022-03-17T00:00:00",
          "2022-03-18T00:00:00",
          "2022-03-19T00:00:00",
          "2022-03-20T00:00:00",
          "2022-03-21T00:00:00",
          "2022-03-22T00:00:00",
          "2022-03-23T00:00:00",
          "2022-03-24T00:00:00",
          "2022-03-25T00:00:00",
          "2022-03-26T00:00:00",
          "2022-03-27T00:00:00",
          "2022-03-28T00:00:00",
          "2022-03-29T00:00:00",
          "2022-03-30T00:00:00",
          "2022-03-31T00:00:00",
          "2022-04-01T00:00:00",
          "2022-04-02T00:00:00",
          "2022-04-03T00:00:00",
          "2022-04-04T00:00:00",
          "2022-04-05T00:00:00",
          "2022-04-06T00:00:00",
          "2022-04-07T00:00:00",
          "2022-04-08T00:00:00",
          "2022-04-09T00:00:00",
          "2022-04-10T00:00:00",
          "2022-04-11T00:00:00",
          "2022-04-12T00:00:00",
          "2022-04-13T00:00:00",
          "2022-04-14T00:00:00",
          "2022-04-15T00:00:00",
          "2022-04-16T00:00:00",
          "2022-04-17T00:00:00",
          "2022-04-18T00:00:00",
          "2022-04-19T00:00:00",
          "2022-04-20T00:00:00",
          "2022-04-21T00:00:00",
          "2022-04-22T00:00:00",
          "2022-04-23T00:00:00",
          "2022-04-24T00:00:00",
          "2022-04-25T00:00:00",
          "2022-04-26T00:00:00",
          "2022-04-27T00:00:00",
          "2022-04-28T00:00:00",
          "2022-04-29T00:00:00",
          "2022-04-30T00:00:00",
          "2022-05-01T00:00:00",
          "2022-05-02T00:00:00",
          "2022-05-03T00:00:00",
          "2022-05-04T00:00:00",
          "2022-05-05T00:00:00",
          "2022-05-06T00:00:00",
          "2022-05-07T00:00:00",
          "2022-05-08T00:00:00",
          "2022-05-09T00:00:00",
          "2022-05-10T00:00:00",
          "2022-05-11T00:00:00",
          "2022-05-12T00:00:00",
          "2022-05-13T00:00:00",
          "2022-05-14T00:00:00",
          "2022-05-15T00:00:00",
          "2022-05-16T00:00:00",
          "2022-05-17T00:00:00",
          "2022-05-18T00:00:00",
          "2022-05-19T00:00:00",
          "2022-05-20T00:00:00",
          "2022-05-21T00:00:00",
          "2022-05-22T00:00:00",
          "2022-05-23T00:00:00",
          "2022-05-24T00:00:00",
          "2022-05-25T00:00:00",
          "2022-05-26T00:00:00",
          "2022-05-27T00:00:00",
          "2022-05-28T00:00:00",
          "2022-05-29T00:00:00",
          "2022-05-30T00:00:00"
         ],
         "xaxis": "x",
         "y": [
          0.5,
          0.5,
          0.5,
          0.49999999999999994,
          0.5,
          0.5,
          0.4999999999999999,
          0.5,
          0.5,
          0.49999999999999994,
          0.5,
          0.5,
          0.5,
          0.5,
          0.5,
          0.5,
          0.5,
          0.5,
          0.5,
          0.5,
          0.49999999999999994,
          0.5,
          0.5,
          0.5,
          0.49999999999999994,
          0.5,
          0.5,
          0.5,
          0.5,
          0.5,
          0.5,
          0.5,
          0.4999999999999999,
          0.4999999999999999,
          0.5,
          0.4999999999999999,
          0.49999999999999994,
          0.49999999999999994,
          0.5,
          0.5,
          0.5,
          0.5,
          0.49999999999999994,
          0.5,
          0.5,
          0.5,
          0.4999999999999999,
          0.5,
          0.49999999999999994,
          0.5,
          0.5,
          0.5,
          0.5,
          0.5,
          0.5,
          0.5,
          0.5,
          0.5,
          0.5,
          0.5,
          0.4999999999999999,
          0.5,
          0.5,
          0.49999999999999994,
          0.5,
          0.4999999999999999,
          0.5,
          0.5,
          0.5,
          0.5,
          0.5,
          0.5,
          0.5,
          0.5,
          0.5,
          0.49999999999999994,
          0.5,
          0.5,
          0.5,
          0.5,
          0.5,
          0.5,
          0.5,
          0.5,
          0.5,
          0.5,
          0.4999999999999999,
          0.5,
          0.4999999999999999,
          0.5,
          0.5,
          0.5,
          0.5,
          0.5,
          0.5,
          0.49999999999999994,
          0.5,
          0.49999999999999994,
          0.5,
          0.5,
          0.4999999999999999,
          0.5,
          0.49999999999999994,
          0.5,
          0.5,
          0.5,
          0.49999999999999994,
          0.5,
          0.5,
          0.5,
          0.5,
          0.5,
          0.5,
          0.5,
          0.5,
          0.5,
          0.5,
          0.49999999999999994,
          0.4999999999999999,
          0.5,
          0.5,
          0.5,
          0.49999999999999994,
          0.49999999999999994,
          0.5,
          0.5,
          0.49999999999999994,
          0.49999999999999994,
          0.5,
          0.5,
          0.4999999999999999,
          0.5,
          0.5,
          0.5,
          0.5,
          0.49999999999999994,
          0.5,
          0.49999999999999994,
          0.5,
          0.49999999999999994,
          0.5,
          0.49999999999999994,
          0.5,
          0.5,
          0.5,
          0.49999999999999994,
          0.4999999999999999,
          0.5,
          0.5,
          0.5,
          0.5,
          0.4999999999999999,
          0.5,
          0.5,
          0.5,
          0.5,
          0.5,
          0.5,
          0.49999999999999994,
          0.49999999999999994,
          0.5,
          0.5,
          0.5,
          0.5,
          0.5,
          0.5,
          0.4999999999999999,
          0.5,
          0.5,
          0.5,
          0.5,
          0.49999999999999994,
          0.5,
          0.49999999999999994,
          0.49999999999999994,
          0.49999999999999994,
          0.5,
          0.5,
          0.5,
          0.5,
          0.5,
          0.5,
          0.5,
          0.5,
          0.49999999999999994,
          0.5,
          0.5,
          0.49999999999999994,
          0.5,
          0.5,
          0.5,
          0.5,
          0.5,
          0.5,
          0.4999999999999999,
          0.5,
          0.4999999999999999,
          0.5,
          0.4999999999999999,
          0.5,
          0.49999999999999994,
          0.5,
          0.4999999999999999,
          0.5,
          0.4999999999999999,
          0.5,
          0.5,
          0.4999999999999999,
          0.5,
          0.5,
          0.49999999999999994,
          0.5,
          0.49999999999999994,
          0.5,
          0.5,
          0.5,
          0.49999999999999994,
          0.5,
          0.5,
          0.5,
          0.49999999999999994,
          0.5,
          0.5,
          0.5,
          0.49999999999999994,
          0.5,
          0.4999999999999999,
          0.5,
          0.49999999999999994,
          0.49999999999999994,
          0.5,
          0.5,
          0.5,
          0.5,
          0.5,
          0.5,
          0.5,
          0.4999999999999999,
          0.5,
          0.5,
          0.5,
          0.5,
          0.49999999999999994,
          0.49999999999999994,
          0.5,
          0.5,
          0.5,
          0.5,
          0.5,
          0.5,
          0.49999999999999994,
          0.5,
          0.5,
          0.5,
          0.5,
          0.5,
          0.5,
          0.5,
          0.5,
          0.5,
          0.5,
          0.5,
          0.5,
          0.5,
          0.5,
          0.4999999999999999,
          0.5,
          0.5,
          0.5,
          0.5,
          0.5,
          0.5,
          0.5,
          0.5,
          0.5,
          0.5,
          0.49999999999999994,
          0.5
         ],
         "yaxis": "y"
        }
       ],
       "layout": {
        "hoverdistance": 100,
        "hovermode": "x",
        "legend": {
         "title": {
          "text": ""
         },
         "tracegroupgap": 0
        },
        "margin": {
         "t": 60
        },
        "spikedistance": 1000,
        "template": {
         "data": {
          "bar": [
           {
            "error_x": {
             "color": "#2a3f5f"
            },
            "error_y": {
             "color": "#2a3f5f"
            },
            "marker": {
             "line": {
              "color": "white",
              "width": 0.5
             },
             "pattern": {
              "fillmode": "overlay",
              "size": 10,
              "solidity": 0.2
             }
            },
            "type": "bar"
           }
          ],
          "barpolar": [
           {
            "marker": {
             "line": {
              "color": "white",
              "width": 0.5
             },
             "pattern": {
              "fillmode": "overlay",
              "size": 10,
              "solidity": 0.2
             }
            },
            "type": "barpolar"
           }
          ],
          "carpet": [
           {
            "aaxis": {
             "endlinecolor": "#2a3f5f",
             "gridcolor": "#C8D4E3",
             "linecolor": "#C8D4E3",
             "minorgridcolor": "#C8D4E3",
             "startlinecolor": "#2a3f5f"
            },
            "baxis": {
             "endlinecolor": "#2a3f5f",
             "gridcolor": "#C8D4E3",
             "linecolor": "#C8D4E3",
             "minorgridcolor": "#C8D4E3",
             "startlinecolor": "#2a3f5f"
            },
            "type": "carpet"
           }
          ],
          "choropleth": [
           {
            "colorbar": {
             "outlinewidth": 0,
             "ticks": ""
            },
            "type": "choropleth"
           }
          ],
          "contour": [
           {
            "colorbar": {
             "outlinewidth": 0,
             "ticks": ""
            },
            "colorscale": [
             [
              0,
              "#0d0887"
             ],
             [
              0.1111111111111111,
              "#46039f"
             ],
             [
              0.2222222222222222,
              "#7201a8"
             ],
             [
              0.3333333333333333,
              "#9c179e"
             ],
             [
              0.4444444444444444,
              "#bd3786"
             ],
             [
              0.5555555555555556,
              "#d8576b"
             ],
             [
              0.6666666666666666,
              "#ed7953"
             ],
             [
              0.7777777777777778,
              "#fb9f3a"
             ],
             [
              0.8888888888888888,
              "#fdca26"
             ],
             [
              1,
              "#f0f921"
             ]
            ],
            "type": "contour"
           }
          ],
          "contourcarpet": [
           {
            "colorbar": {
             "outlinewidth": 0,
             "ticks": ""
            },
            "type": "contourcarpet"
           }
          ],
          "heatmap": [
           {
            "colorbar": {
             "outlinewidth": 0,
             "ticks": ""
            },
            "colorscale": [
             [
              0,
              "#0d0887"
             ],
             [
              0.1111111111111111,
              "#46039f"
             ],
             [
              0.2222222222222222,
              "#7201a8"
             ],
             [
              0.3333333333333333,
              "#9c179e"
             ],
             [
              0.4444444444444444,
              "#bd3786"
             ],
             [
              0.5555555555555556,
              "#d8576b"
             ],
             [
              0.6666666666666666,
              "#ed7953"
             ],
             [
              0.7777777777777778,
              "#fb9f3a"
             ],
             [
              0.8888888888888888,
              "#fdca26"
             ],
             [
              1,
              "#f0f921"
             ]
            ],
            "type": "heatmap"
           }
          ],
          "heatmapgl": [
           {
            "colorbar": {
             "outlinewidth": 0,
             "ticks": ""
            },
            "colorscale": [
             [
              0,
              "#0d0887"
             ],
             [
              0.1111111111111111,
              "#46039f"
             ],
             [
              0.2222222222222222,
              "#7201a8"
             ],
             [
              0.3333333333333333,
              "#9c179e"
             ],
             [
              0.4444444444444444,
              "#bd3786"
             ],
             [
              0.5555555555555556,
              "#d8576b"
             ],
             [
              0.6666666666666666,
              "#ed7953"
             ],
             [
              0.7777777777777778,
              "#fb9f3a"
             ],
             [
              0.8888888888888888,
              "#fdca26"
             ],
             [
              1,
              "#f0f921"
             ]
            ],
            "type": "heatmapgl"
           }
          ],
          "histogram": [
           {
            "marker": {
             "pattern": {
              "fillmode": "overlay",
              "size": 10,
              "solidity": 0.2
             }
            },
            "type": "histogram"
           }
          ],
          "histogram2d": [
           {
            "colorbar": {
             "outlinewidth": 0,
             "ticks": ""
            },
            "colorscale": [
             [
              0,
              "#0d0887"
             ],
             [
              0.1111111111111111,
              "#46039f"
             ],
             [
              0.2222222222222222,
              "#7201a8"
             ],
             [
              0.3333333333333333,
              "#9c179e"
             ],
             [
              0.4444444444444444,
              "#bd3786"
             ],
             [
              0.5555555555555556,
              "#d8576b"
             ],
             [
              0.6666666666666666,
              "#ed7953"
             ],
             [
              0.7777777777777778,
              "#fb9f3a"
             ],
             [
              0.8888888888888888,
              "#fdca26"
             ],
             [
              1,
              "#f0f921"
             ]
            ],
            "type": "histogram2d"
           }
          ],
          "histogram2dcontour": [
           {
            "colorbar": {
             "outlinewidth": 0,
             "ticks": ""
            },
            "colorscale": [
             [
              0,
              "#0d0887"
             ],
             [
              0.1111111111111111,
              "#46039f"
             ],
             [
              0.2222222222222222,
              "#7201a8"
             ],
             [
              0.3333333333333333,
              "#9c179e"
             ],
             [
              0.4444444444444444,
              "#bd3786"
             ],
             [
              0.5555555555555556,
              "#d8576b"
             ],
             [
              0.6666666666666666,
              "#ed7953"
             ],
             [
              0.7777777777777778,
              "#fb9f3a"
             ],
             [
              0.8888888888888888,
              "#fdca26"
             ],
             [
              1,
              "#f0f921"
             ]
            ],
            "type": "histogram2dcontour"
           }
          ],
          "mesh3d": [
           {
            "colorbar": {
             "outlinewidth": 0,
             "ticks": ""
            },
            "type": "mesh3d"
           }
          ],
          "parcoords": [
           {
            "line": {
             "colorbar": {
              "outlinewidth": 0,
              "ticks": ""
             }
            },
            "type": "parcoords"
           }
          ],
          "pie": [
           {
            "automargin": true,
            "type": "pie"
           }
          ],
          "scatter": [
           {
            "marker": {
             "colorbar": {
              "outlinewidth": 0,
              "ticks": ""
             }
            },
            "type": "scatter"
           }
          ],
          "scatter3d": [
           {
            "line": {
             "colorbar": {
              "outlinewidth": 0,
              "ticks": ""
             }
            },
            "marker": {
             "colorbar": {
              "outlinewidth": 0,
              "ticks": ""
             }
            },
            "type": "scatter3d"
           }
          ],
          "scattercarpet": [
           {
            "marker": {
             "colorbar": {
              "outlinewidth": 0,
              "ticks": ""
             }
            },
            "type": "scattercarpet"
           }
          ],
          "scattergeo": [
           {
            "marker": {
             "colorbar": {
              "outlinewidth": 0,
              "ticks": ""
             }
            },
            "type": "scattergeo"
           }
          ],
          "scattergl": [
           {
            "marker": {
             "colorbar": {
              "outlinewidth": 0,
              "ticks": ""
             }
            },
            "type": "scattergl"
           }
          ],
          "scattermapbox": [
           {
            "marker": {
             "colorbar": {
              "outlinewidth": 0,
              "ticks": ""
             }
            },
            "type": "scattermapbox"
           }
          ],
          "scatterpolar": [
           {
            "marker": {
             "colorbar": {
              "outlinewidth": 0,
              "ticks": ""
             }
            },
            "type": "scatterpolar"
           }
          ],
          "scatterpolargl": [
           {
            "marker": {
             "colorbar": {
              "outlinewidth": 0,
              "ticks": ""
             }
            },
            "type": "scatterpolargl"
           }
          ],
          "scatterternary": [
           {
            "marker": {
             "colorbar": {
              "outlinewidth": 0,
              "ticks": ""
             }
            },
            "type": "scatterternary"
           }
          ],
          "surface": [
           {
            "colorbar": {
             "outlinewidth": 0,
             "ticks": ""
            },
            "colorscale": [
             [
              0,
              "#0d0887"
             ],
             [
              0.1111111111111111,
              "#46039f"
             ],
             [
              0.2222222222222222,
              "#7201a8"
             ],
             [
              0.3333333333333333,
              "#9c179e"
             ],
             [
              0.4444444444444444,
              "#bd3786"
             ],
             [
              0.5555555555555556,
              "#d8576b"
             ],
             [
              0.6666666666666666,
              "#ed7953"
             ],
             [
              0.7777777777777778,
              "#fb9f3a"
             ],
             [
              0.8888888888888888,
              "#fdca26"
             ],
             [
              1,
              "#f0f921"
             ]
            ],
            "type": "surface"
           }
          ],
          "table": [
           {
            "cells": {
             "fill": {
              "color": "#EBF0F8"
             },
             "line": {
              "color": "white"
             }
            },
            "header": {
             "fill": {
              "color": "#C8D4E3"
             },
             "line": {
              "color": "white"
             }
            },
            "type": "table"
           }
          ]
         },
         "layout": {
          "annotationdefaults": {
           "arrowcolor": "#2a3f5f",
           "arrowhead": 0,
           "arrowwidth": 1
          },
          "autotypenumbers": "strict",
          "coloraxis": {
           "colorbar": {
            "outlinewidth": 0,
            "ticks": ""
           }
          },
          "colorscale": {
           "diverging": [
            [
             0,
             "#8e0152"
            ],
            [
             0.1,
             "#c51b7d"
            ],
            [
             0.2,
             "#de77ae"
            ],
            [
             0.3,
             "#f1b6da"
            ],
            [
             0.4,
             "#fde0ef"
            ],
            [
             0.5,
             "#f7f7f7"
            ],
            [
             0.6,
             "#e6f5d0"
            ],
            [
             0.7,
             "#b8e186"
            ],
            [
             0.8,
             "#7fbc41"
            ],
            [
             0.9,
             "#4d9221"
            ],
            [
             1,
             "#276419"
            ]
           ],
           "sequential": [
            [
             0,
             "#0d0887"
            ],
            [
             0.1111111111111111,
             "#46039f"
            ],
            [
             0.2222222222222222,
             "#7201a8"
            ],
            [
             0.3333333333333333,
             "#9c179e"
            ],
            [
             0.4444444444444444,
             "#bd3786"
            ],
            [
             0.5555555555555556,
             "#d8576b"
            ],
            [
             0.6666666666666666,
             "#ed7953"
            ],
            [
             0.7777777777777778,
             "#fb9f3a"
            ],
            [
             0.8888888888888888,
             "#fdca26"
            ],
            [
             1,
             "#f0f921"
            ]
           ],
           "sequentialminus": [
            [
             0,
             "#0d0887"
            ],
            [
             0.1111111111111111,
             "#46039f"
            ],
            [
             0.2222222222222222,
             "#7201a8"
            ],
            [
             0.3333333333333333,
             "#9c179e"
            ],
            [
             0.4444444444444444,
             "#bd3786"
            ],
            [
             0.5555555555555556,
             "#d8576b"
            ],
            [
             0.6666666666666666,
             "#ed7953"
            ],
            [
             0.7777777777777778,
             "#fb9f3a"
            ],
            [
             0.8888888888888888,
             "#fdca26"
            ],
            [
             1,
             "#f0f921"
            ]
           ]
          },
          "colorway": [
           "#636efa",
           "#EF553B",
           "#00cc96",
           "#ab63fa",
           "#FFA15A",
           "#19d3f3",
           "#FF6692",
           "#B6E880",
           "#FF97FF",
           "#FECB52"
          ],
          "font": {
           "color": "#2a3f5f"
          },
          "geo": {
           "bgcolor": "white",
           "lakecolor": "white",
           "landcolor": "white",
           "showlakes": true,
           "showland": true,
           "subunitcolor": "#C8D4E3"
          },
          "hoverlabel": {
           "align": "left"
          },
          "hovermode": "closest",
          "mapbox": {
           "style": "light"
          },
          "paper_bgcolor": "white",
          "plot_bgcolor": "white",
          "polar": {
           "angularaxis": {
            "gridcolor": "#EBF0F8",
            "linecolor": "#EBF0F8",
            "ticks": ""
           },
           "bgcolor": "white",
           "radialaxis": {
            "gridcolor": "#EBF0F8",
            "linecolor": "#EBF0F8",
            "ticks": ""
           }
          },
          "scene": {
           "xaxis": {
            "backgroundcolor": "white",
            "gridcolor": "#DFE8F3",
            "gridwidth": 2,
            "linecolor": "#EBF0F8",
            "showbackground": true,
            "ticks": "",
            "zerolinecolor": "#EBF0F8"
           },
           "yaxis": {
            "backgroundcolor": "white",
            "gridcolor": "#DFE8F3",
            "gridwidth": 2,
            "linecolor": "#EBF0F8",
            "showbackground": true,
            "ticks": "",
            "zerolinecolor": "#EBF0F8"
           },
           "zaxis": {
            "backgroundcolor": "white",
            "gridcolor": "#DFE8F3",
            "gridwidth": 2,
            "linecolor": "#EBF0F8",
            "showbackground": true,
            "ticks": "",
            "zerolinecolor": "#EBF0F8"
           }
          },
          "shapedefaults": {
           "line": {
            "color": "#2a3f5f"
           }
          },
          "ternary": {
           "aaxis": {
            "gridcolor": "#DFE8F3",
            "linecolor": "#A2B1C6",
            "ticks": ""
           },
           "baxis": {
            "gridcolor": "#DFE8F3",
            "linecolor": "#A2B1C6",
            "ticks": ""
           },
           "bgcolor": "white",
           "caxis": {
            "gridcolor": "#DFE8F3",
            "linecolor": "#A2B1C6",
            "ticks": ""
           }
          },
          "title": {
           "x": 0.05
          },
          "xaxis": {
           "automargin": true,
           "gridcolor": "#EBF0F8",
           "linecolor": "#EBF0F8",
           "ticks": "",
           "title": {
            "standoff": 15
           },
           "zerolinecolor": "#EBF0F8",
           "zerolinewidth": 2
          },
          "yaxis": {
           "automargin": true,
           "gridcolor": "#EBF0F8",
           "linecolor": "#EBF0F8",
           "ticks": "",
           "title": {
            "standoff": 15
           },
           "zerolinecolor": "#EBF0F8",
           "zerolinewidth": 2
          }
         }
        },
        "title": {
         "text": "Weights"
        },
        "xaxis": {
         "anchor": "y",
         "domain": [
          0,
          1
         ],
         "showspikes": true,
         "spikecolor": "#999999",
         "spikedash": "dot",
         "spikemode": "across",
         "spikethickness": 2,
         "title": {
          "text": "date"
         }
        },
        "yaxis": {
         "anchor": "x",
         "domain": [
          0,
          1
         ],
         "tickformat": ".2%",
         "title": {
          "text": "weight, %"
         }
        }
       }
      },
      "text/html": [
       "<div>                            <div id=\"75063a0c-b551-4bd9-9e6b-bb5b8f02152f\" class=\"plotly-graph-div\" style=\"height:525px; width:100%;\"></div>            <script type=\"text/javascript\">                require([\"plotly\"], function(Plotly) {                    window.PLOTLYENV=window.PLOTLYENV || {};                                    if (document.getElementById(\"75063a0c-b551-4bd9-9e6b-bb5b8f02152f\")) {                    Plotly.newPlot(                        \"75063a0c-b551-4bd9-9e6b-bb5b8f02152f\",                        [{\"hovertemplate\":\"%{y}\",\"legendgroup\":\"AVAX\",\"line\":{\"color\":\"#636efa\",\"dash\":\"solid\"},\"marker\":{\"symbol\":\"circle\"},\"mode\":\"lines\",\"name\":\"AVAX\",\"orientation\":\"v\",\"showlegend\":true,\"x\":[\"2021-08-26T00:00:00\",\"2021-08-27T00:00:00\",\"2021-08-28T00:00:00\",\"2021-08-29T00:00:00\",\"2021-08-30T00:00:00\",\"2021-08-31T00:00:00\",\"2021-09-01T00:00:00\",\"2021-09-02T00:00:00\",\"2021-09-03T00:00:00\",\"2021-09-04T00:00:00\",\"2021-09-05T00:00:00\",\"2021-09-06T00:00:00\",\"2021-09-07T00:00:00\",\"2021-09-08T00:00:00\",\"2021-09-09T00:00:00\",\"2021-09-10T00:00:00\",\"2021-09-11T00:00:00\",\"2021-09-12T00:00:00\",\"2021-09-13T00:00:00\",\"2021-09-14T00:00:00\",\"2021-09-15T00:00:00\",\"2021-09-16T00:00:00\",\"2021-09-17T00:00:00\",\"2021-09-18T00:00:00\",\"2021-09-19T00:00:00\",\"2021-09-20T00:00:00\",\"2021-09-21T00:00:00\",\"2021-09-22T00:00:00\",\"2021-09-23T00:00:00\",\"2021-09-24T00:00:00\",\"2021-09-25T00:00:00\",\"2021-09-26T00:00:00\",\"2021-09-27T00:00:00\",\"2021-09-28T00:00:00\",\"2021-09-29T00:00:00\",\"2021-09-30T00:00:00\",\"2021-10-01T00:00:00\",\"2021-10-02T00:00:00\",\"2021-10-03T00:00:00\",\"2021-10-04T00:00:00\",\"2021-10-05T00:00:00\",\"2021-10-06T00:00:00\",\"2021-10-07T00:00:00\",\"2021-10-08T00:00:00\",\"2021-10-09T00:00:00\",\"2021-10-10T00:00:00\",\"2021-10-11T00:00:00\",\"2021-10-12T00:00:00\",\"2021-10-13T00:00:00\",\"2021-10-14T00:00:00\",\"2021-10-15T00:00:00\",\"2021-10-16T00:00:00\",\"2021-10-17T00:00:00\",\"2021-10-18T00:00:00\",\"2021-10-19T00:00:00\",\"2021-10-20T00:00:00\",\"2021-10-21T00:00:00\",\"2021-10-22T00:00:00\",\"2021-10-23T00:00:00\",\"2021-10-24T00:00:00\",\"2021-10-25T00:00:00\",\"2021-10-26T00:00:00\",\"2021-10-27T00:00:00\",\"2021-10-28T00:00:00\",\"2021-10-29T00:00:00\",\"2021-10-30T00:00:00\",\"2021-10-31T00:00:00\",\"2021-11-01T00:00:00\",\"2021-11-02T00:00:00\",\"2021-11-03T00:00:00\",\"2021-11-04T00:00:00\",\"2021-11-05T00:00:00\",\"2021-11-06T00:00:00\",\"2021-11-07T00:00:00\",\"2021-11-08T00:00:00\",\"2021-11-09T00:00:00\",\"2021-11-10T00:00:00\",\"2021-11-11T00:00:00\",\"2021-11-12T00:00:00\",\"2021-11-13T00:00:00\",\"2021-11-14T00:00:00\",\"2021-11-15T00:00:00\",\"2021-11-16T00:00:00\",\"2021-11-17T00:00:00\",\"2021-11-18T00:00:00\",\"2021-11-19T00:00:00\",\"2021-11-20T00:00:00\",\"2021-11-21T00:00:00\",\"2021-11-22T00:00:00\",\"2021-11-23T00:00:00\",\"2021-11-24T00:00:00\",\"2021-11-25T00:00:00\",\"2021-11-26T00:00:00\",\"2021-11-27T00:00:00\",\"2021-11-28T00:00:00\",\"2021-11-29T00:00:00\",\"2021-11-30T00:00:00\",\"2021-12-01T00:00:00\",\"2021-12-02T00:00:00\",\"2021-12-03T00:00:00\",\"2021-12-04T00:00:00\",\"2021-12-05T00:00:00\",\"2021-12-06T00:00:00\",\"2021-12-07T00:00:00\",\"2021-12-08T00:00:00\",\"2021-12-09T00:00:00\",\"2021-12-10T00:00:00\",\"2021-12-11T00:00:00\",\"2021-12-12T00:00:00\",\"2021-12-13T00:00:00\",\"2021-12-14T00:00:00\",\"2021-12-15T00:00:00\",\"2021-12-16T00:00:00\",\"2021-12-17T00:00:00\",\"2021-12-18T00:00:00\",\"2021-12-19T00:00:00\",\"2021-12-20T00:00:00\",\"2021-12-21T00:00:00\",\"2021-12-22T00:00:00\",\"2021-12-23T00:00:00\",\"2021-12-24T00:00:00\",\"2021-12-25T00:00:00\",\"2021-12-26T00:00:00\",\"2021-12-27T00:00:00\",\"2021-12-28T00:00:00\",\"2021-12-29T00:00:00\",\"2021-12-30T00:00:00\",\"2021-12-31T00:00:00\",\"2022-01-01T00:00:00\",\"2022-01-02T00:00:00\",\"2022-01-03T00:00:00\",\"2022-01-04T00:00:00\",\"2022-01-05T00:00:00\",\"2022-01-06T00:00:00\",\"2022-01-07T00:00:00\",\"2022-01-08T00:00:00\",\"2022-01-09T00:00:00\",\"2022-01-10T00:00:00\",\"2022-01-11T00:00:00\",\"2022-01-12T00:00:00\",\"2022-01-13T00:00:00\",\"2022-01-14T00:00:00\",\"2022-01-15T00:00:00\",\"2022-01-16T00:00:00\",\"2022-01-17T00:00:00\",\"2022-01-18T00:00:00\",\"2022-01-19T00:00:00\",\"2022-01-20T00:00:00\",\"2022-01-21T00:00:00\",\"2022-01-22T00:00:00\",\"2022-01-23T00:00:00\",\"2022-01-24T00:00:00\",\"2022-01-25T00:00:00\",\"2022-01-26T00:00:00\",\"2022-01-27T00:00:00\",\"2022-01-28T00:00:00\",\"2022-01-29T00:00:00\",\"2022-01-30T00:00:00\",\"2022-01-31T00:00:00\",\"2022-02-01T00:00:00\",\"2022-02-02T00:00:00\",\"2022-02-03T00:00:00\",\"2022-02-04T00:00:00\",\"2022-02-05T00:00:00\",\"2022-02-06T00:00:00\",\"2022-02-07T00:00:00\",\"2022-02-08T00:00:00\",\"2022-02-09T00:00:00\",\"2022-02-10T00:00:00\",\"2022-02-11T00:00:00\",\"2022-02-12T00:00:00\",\"2022-02-13T00:00:00\",\"2022-02-14T00:00:00\",\"2022-02-15T00:00:00\",\"2022-02-16T00:00:00\",\"2022-02-17T00:00:00\",\"2022-02-18T00:00:00\",\"2022-02-19T00:00:00\",\"2022-02-20T00:00:00\",\"2022-02-21T00:00:00\",\"2022-02-22T00:00:00\",\"2022-02-23T00:00:00\",\"2022-02-24T00:00:00\",\"2022-02-25T00:00:00\",\"2022-02-26T00:00:00\",\"2022-02-27T00:00:00\",\"2022-02-28T00:00:00\",\"2022-03-01T00:00:00\",\"2022-03-02T00:00:00\",\"2022-03-03T00:00:00\",\"2022-03-04T00:00:00\",\"2022-03-05T00:00:00\",\"2022-03-06T00:00:00\",\"2022-03-07T00:00:00\",\"2022-03-08T00:00:00\",\"2022-03-09T00:00:00\",\"2022-03-10T00:00:00\",\"2022-03-11T00:00:00\",\"2022-03-12T00:00:00\",\"2022-03-13T00:00:00\",\"2022-03-14T00:00:00\",\"2022-03-15T00:00:00\",\"2022-03-16T00:00:00\",\"2022-03-17T00:00:00\",\"2022-03-18T00:00:00\",\"2022-03-19T00:00:00\",\"2022-03-20T00:00:00\",\"2022-03-21T00:00:00\",\"2022-03-22T00:00:00\",\"2022-03-23T00:00:00\",\"2022-03-24T00:00:00\",\"2022-03-25T00:00:00\",\"2022-03-26T00:00:00\",\"2022-03-27T00:00:00\",\"2022-03-28T00:00:00\",\"2022-03-29T00:00:00\",\"2022-03-30T00:00:00\",\"2022-03-31T00:00:00\",\"2022-04-01T00:00:00\",\"2022-04-02T00:00:00\",\"2022-04-03T00:00:00\",\"2022-04-04T00:00:00\",\"2022-04-05T00:00:00\",\"2022-04-06T00:00:00\",\"2022-04-07T00:00:00\",\"2022-04-08T00:00:00\",\"2022-04-09T00:00:00\",\"2022-04-10T00:00:00\",\"2022-04-11T00:00:00\",\"2022-04-12T00:00:00\",\"2022-04-13T00:00:00\",\"2022-04-14T00:00:00\",\"2022-04-15T00:00:00\",\"2022-04-16T00:00:00\",\"2022-04-17T00:00:00\",\"2022-04-18T00:00:00\",\"2022-04-19T00:00:00\",\"2022-04-20T00:00:00\",\"2022-04-21T00:00:00\",\"2022-04-22T00:00:00\",\"2022-04-23T00:00:00\",\"2022-04-24T00:00:00\",\"2022-04-25T00:00:00\",\"2022-04-26T00:00:00\",\"2022-04-27T00:00:00\",\"2022-04-28T00:00:00\",\"2022-04-29T00:00:00\",\"2022-04-30T00:00:00\",\"2022-05-01T00:00:00\",\"2022-05-02T00:00:00\",\"2022-05-03T00:00:00\",\"2022-05-04T00:00:00\",\"2022-05-05T00:00:00\",\"2022-05-06T00:00:00\",\"2022-05-07T00:00:00\",\"2022-05-08T00:00:00\",\"2022-05-09T00:00:00\",\"2022-05-10T00:00:00\",\"2022-05-11T00:00:00\",\"2022-05-12T00:00:00\",\"2022-05-13T00:00:00\",\"2022-05-14T00:00:00\",\"2022-05-15T00:00:00\",\"2022-05-16T00:00:00\",\"2022-05-17T00:00:00\",\"2022-05-18T00:00:00\",\"2022-05-19T00:00:00\",\"2022-05-20T00:00:00\",\"2022-05-21T00:00:00\",\"2022-05-22T00:00:00\",\"2022-05-23T00:00:00\",\"2022-05-24T00:00:00\",\"2022-05-25T00:00:00\",\"2022-05-26T00:00:00\",\"2022-05-27T00:00:00\",\"2022-05-28T00:00:00\",\"2022-05-29T00:00:00\",\"2022-05-30T00:00:00\"],\"xaxis\":\"x\",\"y\":[0.5,0.5,0.5,0.5,0.5,0.5,0.5,0.5,0.5,0.5,0.5,0.5,0.5,0.5,0.5,0.5,0.5,0.5,0.5,0.5,0.5,0.5,0.5,0.5,0.5,0.5,0.5,0.5,0.5,0.5,0.5,0.5,0.5,0.5,0.5,0.5,0.5,0.5,0.5,0.5,0.5,0.5,0.5,0.5,0.5,0.5,0.5,0.5,0.5,0.5,0.5,0.5,0.5,0.5,0.5,0.5,0.5,0.5,0.5,0.5,0.5,0.5,0.5,0.5,0.5,0.5,0.5,0.5,0.5,0.5,0.5,0.5,0.5,0.5,0.5,0.5,0.5,0.5,0.5,0.5,0.5,0.5,0.5,0.5,0.5,0.5,0.5,0.5,0.5,0.5,0.5,0.5,0.5,0.5,0.5,0.5,0.5,0.5,0.5,0.5,0.5,0.5,0.5,0.5,0.5,0.5,0.5,0.5,0.5,0.5,0.5,0.5,0.5,0.5,0.5,0.5,0.5,0.5,0.5,0.5,0.5,0.5,0.5,0.5,0.5,0.5,0.5,0.5,0.5,0.5,0.5,0.5,0.5,0.5,0.5,0.5,0.5,0.5,0.5,0.5,0.5,0.5,0.5,0.5,0.5,0.5,0.5,0.5,0.5,0.5,0.5,0.5,0.5,0.5,0.5,0.5,0.5,0.5,0.5,0.5,0.5,0.5,0.5,0.5,0.5,0.5,0.5,0.5,0.5,0.5,0.5,0.5,0.5,0.5,0.5,0.5,0.5,0.5,0.5,0.5,0.5,0.5,0.5,0.5,0.5,0.5,0.5,0.5,0.5,0.5,0.5,0.5,0.5,0.5,0.5,0.5,0.5,0.5,0.5,0.5,0.5,0.5,0.5,0.5,0.5,0.5,0.5,0.5,0.5,0.5,0.5,0.5,0.5,0.5,0.5,0.5,0.5,0.5,0.5,0.5,0.5,0.5,0.5,0.5,0.5,0.5,0.5,0.5,0.5,0.5,0.5,0.5,0.5,0.5,0.5,0.5,0.5,0.5,0.5,0.5,0.5,0.5,0.5,0.5,0.5,0.5,0.5,0.5,0.5,0.5,0.5,0.5,0.5,0.5,0.5,0.5,0.5,0.5,0.5,0.5,0.5,0.5,0.5,0.5,0.5,0.5,0.5,0.5,0.5,0.5,0.5,0.5,0.5,0.5,0.5,0.5,0.5,0.5],\"yaxis\":\"y\",\"type\":\"scatter\"},{\"hovertemplate\":\"%{y}\",\"legendgroup\":\"JOE\",\"line\":{\"color\":\"#EF553B\",\"dash\":\"solid\"},\"marker\":{\"symbol\":\"circle\"},\"mode\":\"lines\",\"name\":\"JOE\",\"orientation\":\"v\",\"showlegend\":true,\"x\":[\"2021-08-26T00:00:00\",\"2021-08-27T00:00:00\",\"2021-08-28T00:00:00\",\"2021-08-29T00:00:00\",\"2021-08-30T00:00:00\",\"2021-08-31T00:00:00\",\"2021-09-01T00:00:00\",\"2021-09-02T00:00:00\",\"2021-09-03T00:00:00\",\"2021-09-04T00:00:00\",\"2021-09-05T00:00:00\",\"2021-09-06T00:00:00\",\"2021-09-07T00:00:00\",\"2021-09-08T00:00:00\",\"2021-09-09T00:00:00\",\"2021-09-10T00:00:00\",\"2021-09-11T00:00:00\",\"2021-09-12T00:00:00\",\"2021-09-13T00:00:00\",\"2021-09-14T00:00:00\",\"2021-09-15T00:00:00\",\"2021-09-16T00:00:00\",\"2021-09-17T00:00:00\",\"2021-09-18T00:00:00\",\"2021-09-19T00:00:00\",\"2021-09-20T00:00:00\",\"2021-09-21T00:00:00\",\"2021-09-22T00:00:00\",\"2021-09-23T00:00:00\",\"2021-09-24T00:00:00\",\"2021-09-25T00:00:00\",\"2021-09-26T00:00:00\",\"2021-09-27T00:00:00\",\"2021-09-28T00:00:00\",\"2021-09-29T00:00:00\",\"2021-09-30T00:00:00\",\"2021-10-01T00:00:00\",\"2021-10-02T00:00:00\",\"2021-10-03T00:00:00\",\"2021-10-04T00:00:00\",\"2021-10-05T00:00:00\",\"2021-10-06T00:00:00\",\"2021-10-07T00:00:00\",\"2021-10-08T00:00:00\",\"2021-10-09T00:00:00\",\"2021-10-10T00:00:00\",\"2021-10-11T00:00:00\",\"2021-10-12T00:00:00\",\"2021-10-13T00:00:00\",\"2021-10-14T00:00:00\",\"2021-10-15T00:00:00\",\"2021-10-16T00:00:00\",\"2021-10-17T00:00:00\",\"2021-10-18T00:00:00\",\"2021-10-19T00:00:00\",\"2021-10-20T00:00:00\",\"2021-10-21T00:00:00\",\"2021-10-22T00:00:00\",\"2021-10-23T00:00:00\",\"2021-10-24T00:00:00\",\"2021-10-25T00:00:00\",\"2021-10-26T00:00:00\",\"2021-10-27T00:00:00\",\"2021-10-28T00:00:00\",\"2021-10-29T00:00:00\",\"2021-10-30T00:00:00\",\"2021-10-31T00:00:00\",\"2021-11-01T00:00:00\",\"2021-11-02T00:00:00\",\"2021-11-03T00:00:00\",\"2021-11-04T00:00:00\",\"2021-11-05T00:00:00\",\"2021-11-06T00:00:00\",\"2021-11-07T00:00:00\",\"2021-11-08T00:00:00\",\"2021-11-09T00:00:00\",\"2021-11-10T00:00:00\",\"2021-11-11T00:00:00\",\"2021-11-12T00:00:00\",\"2021-11-13T00:00:00\",\"2021-11-14T00:00:00\",\"2021-11-15T00:00:00\",\"2021-11-16T00:00:00\",\"2021-11-17T00:00:00\",\"2021-11-18T00:00:00\",\"2021-11-19T00:00:00\",\"2021-11-20T00:00:00\",\"2021-11-21T00:00:00\",\"2021-11-22T00:00:00\",\"2021-11-23T00:00:00\",\"2021-11-24T00:00:00\",\"2021-11-25T00:00:00\",\"2021-11-26T00:00:00\",\"2021-11-27T00:00:00\",\"2021-11-28T00:00:00\",\"2021-11-29T00:00:00\",\"2021-11-30T00:00:00\",\"2021-12-01T00:00:00\",\"2021-12-02T00:00:00\",\"2021-12-03T00:00:00\",\"2021-12-04T00:00:00\",\"2021-12-05T00:00:00\",\"2021-12-06T00:00:00\",\"2021-12-07T00:00:00\",\"2021-12-08T00:00:00\",\"2021-12-09T00:00:00\",\"2021-12-10T00:00:00\",\"2021-12-11T00:00:00\",\"2021-12-12T00:00:00\",\"2021-12-13T00:00:00\",\"2021-12-14T00:00:00\",\"2021-12-15T00:00:00\",\"2021-12-16T00:00:00\",\"2021-12-17T00:00:00\",\"2021-12-18T00:00:00\",\"2021-12-19T00:00:00\",\"2021-12-20T00:00:00\",\"2021-12-21T00:00:00\",\"2021-12-22T00:00:00\",\"2021-12-23T00:00:00\",\"2021-12-24T00:00:00\",\"2021-12-25T00:00:00\",\"2021-12-26T00:00:00\",\"2021-12-27T00:00:00\",\"2021-12-28T00:00:00\",\"2021-12-29T00:00:00\",\"2021-12-30T00:00:00\",\"2021-12-31T00:00:00\",\"2022-01-01T00:00:00\",\"2022-01-02T00:00:00\",\"2022-01-03T00:00:00\",\"2022-01-04T00:00:00\",\"2022-01-05T00:00:00\",\"2022-01-06T00:00:00\",\"2022-01-07T00:00:00\",\"2022-01-08T00:00:00\",\"2022-01-09T00:00:00\",\"2022-01-10T00:00:00\",\"2022-01-11T00:00:00\",\"2022-01-12T00:00:00\",\"2022-01-13T00:00:00\",\"2022-01-14T00:00:00\",\"2022-01-15T00:00:00\",\"2022-01-16T00:00:00\",\"2022-01-17T00:00:00\",\"2022-01-18T00:00:00\",\"2022-01-19T00:00:00\",\"2022-01-20T00:00:00\",\"2022-01-21T00:00:00\",\"2022-01-22T00:00:00\",\"2022-01-23T00:00:00\",\"2022-01-24T00:00:00\",\"2022-01-25T00:00:00\",\"2022-01-26T00:00:00\",\"2022-01-27T00:00:00\",\"2022-01-28T00:00:00\",\"2022-01-29T00:00:00\",\"2022-01-30T00:00:00\",\"2022-01-31T00:00:00\",\"2022-02-01T00:00:00\",\"2022-02-02T00:00:00\",\"2022-02-03T00:00:00\",\"2022-02-04T00:00:00\",\"2022-02-05T00:00:00\",\"2022-02-06T00:00:00\",\"2022-02-07T00:00:00\",\"2022-02-08T00:00:00\",\"2022-02-09T00:00:00\",\"2022-02-10T00:00:00\",\"2022-02-11T00:00:00\",\"2022-02-12T00:00:00\",\"2022-02-13T00:00:00\",\"2022-02-14T00:00:00\",\"2022-02-15T00:00:00\",\"2022-02-16T00:00:00\",\"2022-02-17T00:00:00\",\"2022-02-18T00:00:00\",\"2022-02-19T00:00:00\",\"2022-02-20T00:00:00\",\"2022-02-21T00:00:00\",\"2022-02-22T00:00:00\",\"2022-02-23T00:00:00\",\"2022-02-24T00:00:00\",\"2022-02-25T00:00:00\",\"2022-02-26T00:00:00\",\"2022-02-27T00:00:00\",\"2022-02-28T00:00:00\",\"2022-03-01T00:00:00\",\"2022-03-02T00:00:00\",\"2022-03-03T00:00:00\",\"2022-03-04T00:00:00\",\"2022-03-05T00:00:00\",\"2022-03-06T00:00:00\",\"2022-03-07T00:00:00\",\"2022-03-08T00:00:00\",\"2022-03-09T00:00:00\",\"2022-03-10T00:00:00\",\"2022-03-11T00:00:00\",\"2022-03-12T00:00:00\",\"2022-03-13T00:00:00\",\"2022-03-14T00:00:00\",\"2022-03-15T00:00:00\",\"2022-03-16T00:00:00\",\"2022-03-17T00:00:00\",\"2022-03-18T00:00:00\",\"2022-03-19T00:00:00\",\"2022-03-20T00:00:00\",\"2022-03-21T00:00:00\",\"2022-03-22T00:00:00\",\"2022-03-23T00:00:00\",\"2022-03-24T00:00:00\",\"2022-03-25T00:00:00\",\"2022-03-26T00:00:00\",\"2022-03-27T00:00:00\",\"2022-03-28T00:00:00\",\"2022-03-29T00:00:00\",\"2022-03-30T00:00:00\",\"2022-03-31T00:00:00\",\"2022-04-01T00:00:00\",\"2022-04-02T00:00:00\",\"2022-04-03T00:00:00\",\"2022-04-04T00:00:00\",\"2022-04-05T00:00:00\",\"2022-04-06T00:00:00\",\"2022-04-07T00:00:00\",\"2022-04-08T00:00:00\",\"2022-04-09T00:00:00\",\"2022-04-10T00:00:00\",\"2022-04-11T00:00:00\",\"2022-04-12T00:00:00\",\"2022-04-13T00:00:00\",\"2022-04-14T00:00:00\",\"2022-04-15T00:00:00\",\"2022-04-16T00:00:00\",\"2022-04-17T00:00:00\",\"2022-04-18T00:00:00\",\"2022-04-19T00:00:00\",\"2022-04-20T00:00:00\",\"2022-04-21T00:00:00\",\"2022-04-22T00:00:00\",\"2022-04-23T00:00:00\",\"2022-04-24T00:00:00\",\"2022-04-25T00:00:00\",\"2022-04-26T00:00:00\",\"2022-04-27T00:00:00\",\"2022-04-28T00:00:00\",\"2022-04-29T00:00:00\",\"2022-04-30T00:00:00\",\"2022-05-01T00:00:00\",\"2022-05-02T00:00:00\",\"2022-05-03T00:00:00\",\"2022-05-04T00:00:00\",\"2022-05-05T00:00:00\",\"2022-05-06T00:00:00\",\"2022-05-07T00:00:00\",\"2022-05-08T00:00:00\",\"2022-05-09T00:00:00\",\"2022-05-10T00:00:00\",\"2022-05-11T00:00:00\",\"2022-05-12T00:00:00\",\"2022-05-13T00:00:00\",\"2022-05-14T00:00:00\",\"2022-05-15T00:00:00\",\"2022-05-16T00:00:00\",\"2022-05-17T00:00:00\",\"2022-05-18T00:00:00\",\"2022-05-19T00:00:00\",\"2022-05-20T00:00:00\",\"2022-05-21T00:00:00\",\"2022-05-22T00:00:00\",\"2022-05-23T00:00:00\",\"2022-05-24T00:00:00\",\"2022-05-25T00:00:00\",\"2022-05-26T00:00:00\",\"2022-05-27T00:00:00\",\"2022-05-28T00:00:00\",\"2022-05-29T00:00:00\",\"2022-05-30T00:00:00\"],\"xaxis\":\"x\",\"y\":[0.5,0.5,0.5,0.49999999999999994,0.5,0.5,0.4999999999999999,0.5,0.5,0.49999999999999994,0.5,0.5,0.5,0.5,0.5,0.5,0.5,0.5,0.5,0.5,0.49999999999999994,0.5,0.5,0.5,0.49999999999999994,0.5,0.5,0.5,0.5,0.5,0.5,0.5,0.4999999999999999,0.4999999999999999,0.5,0.4999999999999999,0.49999999999999994,0.49999999999999994,0.5,0.5,0.5,0.5,0.49999999999999994,0.5,0.5,0.5,0.4999999999999999,0.5,0.49999999999999994,0.5,0.5,0.5,0.5,0.5,0.5,0.5,0.5,0.5,0.5,0.5,0.4999999999999999,0.5,0.5,0.49999999999999994,0.5,0.4999999999999999,0.5,0.5,0.5,0.5,0.5,0.5,0.5,0.5,0.5,0.49999999999999994,0.5,0.5,0.5,0.5,0.5,0.5,0.5,0.5,0.5,0.5,0.4999999999999999,0.5,0.4999999999999999,0.5,0.5,0.5,0.5,0.5,0.5,0.49999999999999994,0.5,0.49999999999999994,0.5,0.5,0.4999999999999999,0.5,0.49999999999999994,0.5,0.5,0.5,0.49999999999999994,0.5,0.5,0.5,0.5,0.5,0.5,0.5,0.5,0.5,0.5,0.49999999999999994,0.4999999999999999,0.5,0.5,0.5,0.49999999999999994,0.49999999999999994,0.5,0.5,0.49999999999999994,0.49999999999999994,0.5,0.5,0.4999999999999999,0.5,0.5,0.5,0.5,0.49999999999999994,0.5,0.49999999999999994,0.5,0.49999999999999994,0.5,0.49999999999999994,0.5,0.5,0.5,0.49999999999999994,0.4999999999999999,0.5,0.5,0.5,0.5,0.4999999999999999,0.5,0.5,0.5,0.5,0.5,0.5,0.49999999999999994,0.49999999999999994,0.5,0.5,0.5,0.5,0.5,0.5,0.4999999999999999,0.5,0.5,0.5,0.5,0.49999999999999994,0.5,0.49999999999999994,0.49999999999999994,0.49999999999999994,0.5,0.5,0.5,0.5,0.5,0.5,0.5,0.5,0.49999999999999994,0.5,0.5,0.49999999999999994,0.5,0.5,0.5,0.5,0.5,0.5,0.4999999999999999,0.5,0.4999999999999999,0.5,0.4999999999999999,0.5,0.49999999999999994,0.5,0.4999999999999999,0.5,0.4999999999999999,0.5,0.5,0.4999999999999999,0.5,0.5,0.49999999999999994,0.5,0.49999999999999994,0.5,0.5,0.5,0.49999999999999994,0.5,0.5,0.5,0.49999999999999994,0.5,0.5,0.5,0.49999999999999994,0.5,0.4999999999999999,0.5,0.49999999999999994,0.49999999999999994,0.5,0.5,0.5,0.5,0.5,0.5,0.5,0.4999999999999999,0.5,0.5,0.5,0.5,0.49999999999999994,0.49999999999999994,0.5,0.5,0.5,0.5,0.5,0.5,0.49999999999999994,0.5,0.5,0.5,0.5,0.5,0.5,0.5,0.5,0.5,0.5,0.5,0.5,0.5,0.5,0.4999999999999999,0.5,0.5,0.5,0.5,0.5,0.5,0.5,0.5,0.5,0.5,0.49999999999999994,0.5],\"yaxis\":\"y\",\"type\":\"scatter\"}],                        {\"template\":{\"data\":{\"barpolar\":[{\"marker\":{\"line\":{\"color\":\"white\",\"width\":0.5},\"pattern\":{\"fillmode\":\"overlay\",\"size\":10,\"solidity\":0.2}},\"type\":\"barpolar\"}],\"bar\":[{\"error_x\":{\"color\":\"#2a3f5f\"},\"error_y\":{\"color\":\"#2a3f5f\"},\"marker\":{\"line\":{\"color\":\"white\",\"width\":0.5},\"pattern\":{\"fillmode\":\"overlay\",\"size\":10,\"solidity\":0.2}},\"type\":\"bar\"}],\"carpet\":[{\"aaxis\":{\"endlinecolor\":\"#2a3f5f\",\"gridcolor\":\"#C8D4E3\",\"linecolor\":\"#C8D4E3\",\"minorgridcolor\":\"#C8D4E3\",\"startlinecolor\":\"#2a3f5f\"},\"baxis\":{\"endlinecolor\":\"#2a3f5f\",\"gridcolor\":\"#C8D4E3\",\"linecolor\":\"#C8D4E3\",\"minorgridcolor\":\"#C8D4E3\",\"startlinecolor\":\"#2a3f5f\"},\"type\":\"carpet\"}],\"choropleth\":[{\"colorbar\":{\"outlinewidth\":0,\"ticks\":\"\"},\"type\":\"choropleth\"}],\"contourcarpet\":[{\"colorbar\":{\"outlinewidth\":0,\"ticks\":\"\"},\"type\":\"contourcarpet\"}],\"contour\":[{\"colorbar\":{\"outlinewidth\":0,\"ticks\":\"\"},\"colorscale\":[[0.0,\"#0d0887\"],[0.1111111111111111,\"#46039f\"],[0.2222222222222222,\"#7201a8\"],[0.3333333333333333,\"#9c179e\"],[0.4444444444444444,\"#bd3786\"],[0.5555555555555556,\"#d8576b\"],[0.6666666666666666,\"#ed7953\"],[0.7777777777777778,\"#fb9f3a\"],[0.8888888888888888,\"#fdca26\"],[1.0,\"#f0f921\"]],\"type\":\"contour\"}],\"heatmapgl\":[{\"colorbar\":{\"outlinewidth\":0,\"ticks\":\"\"},\"colorscale\":[[0.0,\"#0d0887\"],[0.1111111111111111,\"#46039f\"],[0.2222222222222222,\"#7201a8\"],[0.3333333333333333,\"#9c179e\"],[0.4444444444444444,\"#bd3786\"],[0.5555555555555556,\"#d8576b\"],[0.6666666666666666,\"#ed7953\"],[0.7777777777777778,\"#fb9f3a\"],[0.8888888888888888,\"#fdca26\"],[1.0,\"#f0f921\"]],\"type\":\"heatmapgl\"}],\"heatmap\":[{\"colorbar\":{\"outlinewidth\":0,\"ticks\":\"\"},\"colorscale\":[[0.0,\"#0d0887\"],[0.1111111111111111,\"#46039f\"],[0.2222222222222222,\"#7201a8\"],[0.3333333333333333,\"#9c179e\"],[0.4444444444444444,\"#bd3786\"],[0.5555555555555556,\"#d8576b\"],[0.6666666666666666,\"#ed7953\"],[0.7777777777777778,\"#fb9f3a\"],[0.8888888888888888,\"#fdca26\"],[1.0,\"#f0f921\"]],\"type\":\"heatmap\"}],\"histogram2dcontour\":[{\"colorbar\":{\"outlinewidth\":0,\"ticks\":\"\"},\"colorscale\":[[0.0,\"#0d0887\"],[0.1111111111111111,\"#46039f\"],[0.2222222222222222,\"#7201a8\"],[0.3333333333333333,\"#9c179e\"],[0.4444444444444444,\"#bd3786\"],[0.5555555555555556,\"#d8576b\"],[0.6666666666666666,\"#ed7953\"],[0.7777777777777778,\"#fb9f3a\"],[0.8888888888888888,\"#fdca26\"],[1.0,\"#f0f921\"]],\"type\":\"histogram2dcontour\"}],\"histogram2d\":[{\"colorbar\":{\"outlinewidth\":0,\"ticks\":\"\"},\"colorscale\":[[0.0,\"#0d0887\"],[0.1111111111111111,\"#46039f\"],[0.2222222222222222,\"#7201a8\"],[0.3333333333333333,\"#9c179e\"],[0.4444444444444444,\"#bd3786\"],[0.5555555555555556,\"#d8576b\"],[0.6666666666666666,\"#ed7953\"],[0.7777777777777778,\"#fb9f3a\"],[0.8888888888888888,\"#fdca26\"],[1.0,\"#f0f921\"]],\"type\":\"histogram2d\"}],\"histogram\":[{\"marker\":{\"pattern\":{\"fillmode\":\"overlay\",\"size\":10,\"solidity\":0.2}},\"type\":\"histogram\"}],\"mesh3d\":[{\"colorbar\":{\"outlinewidth\":0,\"ticks\":\"\"},\"type\":\"mesh3d\"}],\"parcoords\":[{\"line\":{\"colorbar\":{\"outlinewidth\":0,\"ticks\":\"\"}},\"type\":\"parcoords\"}],\"pie\":[{\"automargin\":true,\"type\":\"pie\"}],\"scatter3d\":[{\"line\":{\"colorbar\":{\"outlinewidth\":0,\"ticks\":\"\"}},\"marker\":{\"colorbar\":{\"outlinewidth\":0,\"ticks\":\"\"}},\"type\":\"scatter3d\"}],\"scattercarpet\":[{\"marker\":{\"colorbar\":{\"outlinewidth\":0,\"ticks\":\"\"}},\"type\":\"scattercarpet\"}],\"scattergeo\":[{\"marker\":{\"colorbar\":{\"outlinewidth\":0,\"ticks\":\"\"}},\"type\":\"scattergeo\"}],\"scattergl\":[{\"marker\":{\"colorbar\":{\"outlinewidth\":0,\"ticks\":\"\"}},\"type\":\"scattergl\"}],\"scattermapbox\":[{\"marker\":{\"colorbar\":{\"outlinewidth\":0,\"ticks\":\"\"}},\"type\":\"scattermapbox\"}],\"scatterpolargl\":[{\"marker\":{\"colorbar\":{\"outlinewidth\":0,\"ticks\":\"\"}},\"type\":\"scatterpolargl\"}],\"scatterpolar\":[{\"marker\":{\"colorbar\":{\"outlinewidth\":0,\"ticks\":\"\"}},\"type\":\"scatterpolar\"}],\"scatter\":[{\"marker\":{\"colorbar\":{\"outlinewidth\":0,\"ticks\":\"\"}},\"type\":\"scatter\"}],\"scatterternary\":[{\"marker\":{\"colorbar\":{\"outlinewidth\":0,\"ticks\":\"\"}},\"type\":\"scatterternary\"}],\"surface\":[{\"colorbar\":{\"outlinewidth\":0,\"ticks\":\"\"},\"colorscale\":[[0.0,\"#0d0887\"],[0.1111111111111111,\"#46039f\"],[0.2222222222222222,\"#7201a8\"],[0.3333333333333333,\"#9c179e\"],[0.4444444444444444,\"#bd3786\"],[0.5555555555555556,\"#d8576b\"],[0.6666666666666666,\"#ed7953\"],[0.7777777777777778,\"#fb9f3a\"],[0.8888888888888888,\"#fdca26\"],[1.0,\"#f0f921\"]],\"type\":\"surface\"}],\"table\":[{\"cells\":{\"fill\":{\"color\":\"#EBF0F8\"},\"line\":{\"color\":\"white\"}},\"header\":{\"fill\":{\"color\":\"#C8D4E3\"},\"line\":{\"color\":\"white\"}},\"type\":\"table\"}]},\"layout\":{\"annotationdefaults\":{\"arrowcolor\":\"#2a3f5f\",\"arrowhead\":0,\"arrowwidth\":1},\"autotypenumbers\":\"strict\",\"coloraxis\":{\"colorbar\":{\"outlinewidth\":0,\"ticks\":\"\"}},\"colorscale\":{\"diverging\":[[0,\"#8e0152\"],[0.1,\"#c51b7d\"],[0.2,\"#de77ae\"],[0.3,\"#f1b6da\"],[0.4,\"#fde0ef\"],[0.5,\"#f7f7f7\"],[0.6,\"#e6f5d0\"],[0.7,\"#b8e186\"],[0.8,\"#7fbc41\"],[0.9,\"#4d9221\"],[1,\"#276419\"]],\"sequential\":[[0.0,\"#0d0887\"],[0.1111111111111111,\"#46039f\"],[0.2222222222222222,\"#7201a8\"],[0.3333333333333333,\"#9c179e\"],[0.4444444444444444,\"#bd3786\"],[0.5555555555555556,\"#d8576b\"],[0.6666666666666666,\"#ed7953\"],[0.7777777777777778,\"#fb9f3a\"],[0.8888888888888888,\"#fdca26\"],[1.0,\"#f0f921\"]],\"sequentialminus\":[[0.0,\"#0d0887\"],[0.1111111111111111,\"#46039f\"],[0.2222222222222222,\"#7201a8\"],[0.3333333333333333,\"#9c179e\"],[0.4444444444444444,\"#bd3786\"],[0.5555555555555556,\"#d8576b\"],[0.6666666666666666,\"#ed7953\"],[0.7777777777777778,\"#fb9f3a\"],[0.8888888888888888,\"#fdca26\"],[1.0,\"#f0f921\"]]},\"colorway\":[\"#636efa\",\"#EF553B\",\"#00cc96\",\"#ab63fa\",\"#FFA15A\",\"#19d3f3\",\"#FF6692\",\"#B6E880\",\"#FF97FF\",\"#FECB52\"],\"font\":{\"color\":\"#2a3f5f\"},\"geo\":{\"bgcolor\":\"white\",\"lakecolor\":\"white\",\"landcolor\":\"white\",\"showlakes\":true,\"showland\":true,\"subunitcolor\":\"#C8D4E3\"},\"hoverlabel\":{\"align\":\"left\"},\"hovermode\":\"closest\",\"mapbox\":{\"style\":\"light\"},\"paper_bgcolor\":\"white\",\"plot_bgcolor\":\"white\",\"polar\":{\"angularaxis\":{\"gridcolor\":\"#EBF0F8\",\"linecolor\":\"#EBF0F8\",\"ticks\":\"\"},\"bgcolor\":\"white\",\"radialaxis\":{\"gridcolor\":\"#EBF0F8\",\"linecolor\":\"#EBF0F8\",\"ticks\":\"\"}},\"scene\":{\"xaxis\":{\"backgroundcolor\":\"white\",\"gridcolor\":\"#DFE8F3\",\"gridwidth\":2,\"linecolor\":\"#EBF0F8\",\"showbackground\":true,\"ticks\":\"\",\"zerolinecolor\":\"#EBF0F8\"},\"yaxis\":{\"backgroundcolor\":\"white\",\"gridcolor\":\"#DFE8F3\",\"gridwidth\":2,\"linecolor\":\"#EBF0F8\",\"showbackground\":true,\"ticks\":\"\",\"zerolinecolor\":\"#EBF0F8\"},\"zaxis\":{\"backgroundcolor\":\"white\",\"gridcolor\":\"#DFE8F3\",\"gridwidth\":2,\"linecolor\":\"#EBF0F8\",\"showbackground\":true,\"ticks\":\"\",\"zerolinecolor\":\"#EBF0F8\"}},\"shapedefaults\":{\"line\":{\"color\":\"#2a3f5f\"}},\"ternary\":{\"aaxis\":{\"gridcolor\":\"#DFE8F3\",\"linecolor\":\"#A2B1C6\",\"ticks\":\"\"},\"baxis\":{\"gridcolor\":\"#DFE8F3\",\"linecolor\":\"#A2B1C6\",\"ticks\":\"\"},\"bgcolor\":\"white\",\"caxis\":{\"gridcolor\":\"#DFE8F3\",\"linecolor\":\"#A2B1C6\",\"ticks\":\"\"}},\"title\":{\"x\":0.05},\"xaxis\":{\"automargin\":true,\"gridcolor\":\"#EBF0F8\",\"linecolor\":\"#EBF0F8\",\"ticks\":\"\",\"title\":{\"standoff\":15},\"zerolinecolor\":\"#EBF0F8\",\"zerolinewidth\":2},\"yaxis\":{\"automargin\":true,\"gridcolor\":\"#EBF0F8\",\"linecolor\":\"#EBF0F8\",\"ticks\":\"\",\"title\":{\"standoff\":15},\"zerolinecolor\":\"#EBF0F8\",\"zerolinewidth\":2}}},\"xaxis\":{\"anchor\":\"y\",\"domain\":[0.0,1.0],\"title\":{\"text\":\"date\"},\"showspikes\":true,\"spikethickness\":2,\"spikedash\":\"dot\",\"spikecolor\":\"#999999\",\"spikemode\":\"across\"},\"yaxis\":{\"anchor\":\"x\",\"domain\":[0.0,1.0],\"title\":{\"text\":\"weight, %\"},\"tickformat\":\".2%\"},\"legend\":{\"title\":{\"text\":\"\"},\"tracegroupgap\":0},\"margin\":{\"t\":60},\"hovermode\":\"x\",\"hoverdistance\":100,\"spikedistance\":1000,\"title\":{\"text\":\"Weights\"}},                        {\"responsive\": true}                    ).then(function(){\n",
       "                            \n",
       "var gd = document.getElementById('75063a0c-b551-4bd9-9e6b-bb5b8f02152f');\n",
       "var x = new MutationObserver(function (mutations, observer) {{\n",
       "        var display = window.getComputedStyle(gd).display;\n",
       "        if (!display || display === 'none') {{\n",
       "            console.log([gd, 'removed!']);\n",
       "            Plotly.purge(gd);\n",
       "            observer.disconnect();\n",
       "        }}\n",
       "}});\n",
       "\n",
       "// Listen for the removal of the full notebook cells\n",
       "var notebookContainer = gd.closest('#notebook-container');\n",
       "if (notebookContainer) {{\n",
       "    x.observe(notebookContainer, {childList: true});\n",
       "}}\n",
       "\n",
       "// Listen for the clearing of the current output cell\n",
       "var outputEl = gd.closest('.output');\n",
       "if (outputEl) {{\n",
       "    x.observe(outputEl, {childList: true});\n",
       "}}\n",
       "\n",
       "                        })                };                });            </script>        </div>"
      ]
     },
     "metadata": {},
     "output_type": "display_data"
    }
   ],
   "source": [
    "fig = px.line(target_weights,\n",
    "              labels={'value': 'weight, %', 'variable': ''},\n",
    "              ## markers=True\n",
    "             )\n",
    "fig.update_traces(\n",
    "    hovertemplate=\"%{y}\"\n",
    ")\n",
    "fig.update_yaxes(\n",
    "    tickformat=\".2%\",\n",
    ")\n",
    "fig.update_xaxes(\n",
    "    showspikes=True,\n",
    "    spikethickness=2,\n",
    "    spikedash=\"dot\",\n",
    "    spikecolor=\"#999999\",\n",
    "    spikemode=\"across\",\n",
    ")\n",
    "fig.update_layout(\n",
    "    ## showlegend=False,\n",
    "    hovermode=\"x\",\n",
    "    hoverdistance=100,  ## Distance to show hover label of data point\n",
    "    spikedistance=1000,  ## Distance to show spike\n",
    "    template='plotly_white',\n",
    "    title='Weights'\n",
    ")"
   ]
  },
  {
   "cell_type": "markdown",
   "id": "1e1b01d9-5dff-43f1-9270-fd1631716765",
   "metadata": {},
   "source": [
    "#### Benchmark"
   ]
  },
  {
   "cell_type": "code",
   "execution_count": 41,
   "id": "729f79c6-7eeb-414f-8b8f-fd0341fcac78",
   "metadata": {},
   "outputs": [],
   "source": [
    "init_value = 1\n",
    "cai_benchmark_values = pd.DataFrame(target_weights, index=prices_data.index) * init_value"
   ]
  },
  {
   "cell_type": "code",
   "execution_count": 42,
   "id": "a1720f75-4047-4c08-95a6-83395053af6e",
   "metadata": {},
   "outputs": [],
   "source": [
    "assets_daily_returns = prices_data.pct_change()\n",
    "assets_daily_returns.iloc[0] = 0"
   ]
  },
  {
   "cell_type": "code",
   "execution_count": 43,
   "id": "a4fea7f0-fe6d-480c-a179-57ceeeeaffc5",
   "metadata": {},
   "outputs": [],
   "source": [
    "for i in range(1, len(prices_data.index)):\n",
    "    cai_benchmark_values.iloc[i] = cai_benchmark_values.iloc[i-1] * (1 + assets_daily_returns.iloc[i])\n",
    "    if cai_benchmark_values.index[i].day == 1:\n",
    "        cai_benchmark_values.iloc[i] = cai_benchmark_values.iloc[i].sum() * target_weights.iloc[i]"
   ]
  },
  {
   "cell_type": "markdown",
   "id": "f79cf7d7-ac3a-409f-95ed-56d67915df1a",
   "metadata": {},
   "source": [
    "#### Theoretical index"
   ]
  },
  {
   "cell_type": "code",
   "execution_count": 44,
   "id": "fcf0b7a8-b357-43ad-b8e9-d128a8008ed3",
   "metadata": {},
   "outputs": [],
   "source": [
    "init_value = 1\n",
    "cai_theoretical_values = pd.DataFrame(target_weights, index=prices_data.index) * init_value"
   ]
  },
  {
   "cell_type": "code",
   "execution_count": 45,
   "id": "f166d381-7cfa-4b03-a813-d459b4369e90",
   "metadata": {},
   "outputs": [],
   "source": [
    "assets_daily_returns = prices_data.pct_change()\n",
    "assets_daily_returns.iloc[0] = 0"
   ]
  },
  {
   "cell_type": "code",
   "execution_count": 46,
   "id": "676b0e6a-6e0d-42f2-8ac4-54a7394deee2",
   "metadata": {},
   "outputs": [],
   "source": [
    "for i in range(1, len(prices_data.index)):\n",
    "    cai_theoretical_values.iloc[i] = cai_theoretical_values.iloc[i-1] * (1 + assets_daily_returns.iloc[i])\n",
    "    cai_theoretical_values.iloc[i] = cai_theoretical_values.iloc[i].sum() * target_weights.iloc[i]"
   ]
  },
  {
   "cell_type": "markdown",
   "id": "f988d45e-7671-4779-bae3-f1860c933904",
   "metadata": {},
   "source": [
    "#### Without management"
   ]
  },
  {
   "cell_type": "code",
   "execution_count": 47,
   "id": "2c0c0e7d-baa7-4aeb-b38b-e3ebab16c7f5",
   "metadata": {
    "tags": []
   },
   "outputs": [],
   "source": [
    "init_value = 3e6\n",
    "v_tokens = VTokens(assets=tickers)\n",
    "cai = Index(v_tokens=v_tokens, assets=tickers,\n",
    "            target_weights=target_weights.iloc[0], id_='cai')\n",
    "cai.add_value(init_value, prices=dict(prices_data.iloc[0]))\n",
    "\n",
    "cai_without_reb = []\n",
    "for date, prices in prices_data.iterrows():\n",
    "    cai_without_reb.append(cai.get_values(prices))\n",
    "cai_without_reb = pd.DataFrame(cai_without_reb, index=prices_data.index)"
   ]
  },
  {
   "cell_type": "markdown",
   "id": "36ab0982-80e9-4da7-a030-52846472121d",
   "metadata": {},
   "source": [
    "#### Phuture rebalancing"
   ]
  },
  {
   "cell_type": "code",
   "execution_count": 48,
   "id": "4535f3ab-c4bc-43f6-bf50-0aa467ab6120",
   "metadata": {},
   "outputs": [],
   "source": [
    "engine = Engine(min_trade_value=100, max_price_impact_loss=0.03)"
   ]
  },
  {
   "cell_type": "code",
   "execution_count": 49,
   "id": "e5cf360b-57ae-4ed5-8638-e2d8a7957faa",
   "metadata": {},
   "outputs": [
    {
     "name": "stdout",
     "output_type": "stream",
     "text": [
      "2021-09-01 00:00:00 Reweight event at the contract side\n",
      "2021-09-01 00:00:00 Trade(assetSell=JOE, assetBuy=AVAX, value=21297.30, value_before_scaling=21297.30, PI_loss=0.83%)\n",
      "2021-10-01 00:00:00 Reweight event at the contract side\n",
      "2021-10-01 00:00:00 Trade(assetSell=JOE, assetBuy=AVAX, value=111680.75, value_before_scaling=698295.18, PI_loss=3.00%)\n",
      "2021-10-02 00:00:00 Trade(assetSell=JOE, assetBuy=AVAX, value=111680.09, value_before_scaling=586614.43, PI_loss=3.00%)\n",
      "2021-10-03 00:00:00 Trade(assetSell=JOE, assetBuy=AVAX, value=111679.37, value_before_scaling=474934.34, PI_loss=3.00%)\n",
      "2021-10-04 00:00:00 Trade(assetSell=JOE, assetBuy=AVAX, value=111678.56, value_before_scaling=363254.97, PI_loss=3.00%)\n",
      "2021-10-05 00:00:00 Trade(assetSell=JOE, assetBuy=AVAX, value=111677.55, value_before_scaling=251576.41, PI_loss=3.00%)\n",
      "2021-10-06 00:00:00 Trade(assetSell=JOE, assetBuy=AVAX, value=111680.91, value_before_scaling=139898.86, PI_loss=3.00%)\n",
      "2021-10-07 00:00:00 Trade(assetSell=JOE, assetBuy=AVAX, value=28217.94, value_before_scaling=28217.94, PI_loss=1.00%)\n",
      "2021-11-01 00:00:00 Reweight event at the contract side\n",
      "2021-11-01 00:00:00 Trade(assetSell=AVAX, assetBuy=JOE, value=111676.99, value_before_scaling=204003.93, PI_loss=3.00%)\n",
      "2021-11-02 00:00:00 Trade(assetSell=AVAX, assetBuy=JOE, value=92326.94, value_before_scaling=92326.94, PI_loss=2.54%)\n",
      "2021-12-01 00:00:00 Reweight event at the contract side\n",
      "2021-12-01 00:00:00 Trade(assetSell=AVAX, assetBuy=JOE, value=111681.29, value_before_scaling=796278.02, PI_loss=3.00%)\n",
      "2021-12-02 00:00:00 Trade(assetSell=AVAX, assetBuy=JOE, value=111680.67, value_before_scaling=684596.73, PI_loss=3.00%)\n",
      "2021-12-03 00:00:00 Trade(assetSell=AVAX, assetBuy=JOE, value=111680.00, value_before_scaling=572916.07, PI_loss=3.00%)\n",
      "2021-12-04 00:00:00 Trade(assetSell=AVAX, assetBuy=JOE, value=111679.28, value_before_scaling=461236.06, PI_loss=3.00%)\n",
      "2021-12-05 00:00:00 Trade(assetSell=AVAX, assetBuy=JOE, value=111678.45, value_before_scaling=349556.78, PI_loss=3.00%)\n",
      "2021-12-06 00:00:00 Trade(assetSell=AVAX, assetBuy=JOE, value=111677.40, value_before_scaling=237878.33, PI_loss=3.00%)\n",
      "2021-12-07 00:00:00 Trade(assetSell=AVAX, assetBuy=JOE, value=111678.39, value_before_scaling=126200.93, PI_loss=3.00%)\n",
      "2021-12-08 00:00:00 Trade(assetSell=AVAX, assetBuy=JOE, value=14522.53, value_before_scaling=14522.53, PI_loss=0.66%)\n",
      "2022-01-01 00:00:00 Reweight event at the contract side\n",
      "2022-01-01 00:00:00 Trade(assetSell=AVAX, assetBuy=JOE, value=111678.55, value_before_scaling=361518.31, PI_loss=3.00%)\n",
      "2022-01-02 00:00:00 Trade(assetSell=AVAX, assetBuy=JOE, value=111677.53, value_before_scaling=249839.77, PI_loss=3.00%)\n",
      "2022-01-03 00:00:00 Trade(assetSell=AVAX, assetBuy=JOE, value=111680.61, value_before_scaling=138162.23, PI_loss=3.00%)\n",
      "2022-01-04 00:00:00 Trade(assetSell=AVAX, assetBuy=JOE, value=26481.62, value_before_scaling=26481.62, PI_loss=0.95%)\n",
      "2022-02-01 00:00:00 Reweight event at the contract side\n",
      "2022-02-01 00:00:00 Trade(assetSell=JOE, assetBuy=AVAX, value=63602.25, value_before_scaling=63602.25, PI_loss=1.86%)\n",
      "2022-03-01 00:00:00 Reweight event at the contract side\n",
      "2022-03-01 00:00:00 Trade(assetSell=AVAX, assetBuy=JOE, value=111678.59, value_before_scaling=367134.23, PI_loss=3.00%)\n",
      "2022-03-02 00:00:00 Trade(assetSell=AVAX, assetBuy=JOE, value=111677.59, value_before_scaling=255455.64, PI_loss=3.00%)\n",
      "2022-03-03 00:00:00 Trade(assetSell=AVAX, assetBuy=JOE, value=111681.56, value_before_scaling=143778.04, PI_loss=3.00%)\n",
      "2022-03-04 00:00:00 Trade(assetSell=AVAX, assetBuy=JOE, value=32096.48, value_before_scaling=32096.48, PI_loss=1.09%)\n",
      "2022-04-01 00:00:00 Reweight event at the contract side\n",
      "2022-04-01 00:00:00 Trade(assetSell=AVAX, assetBuy=JOE, value=111681.78, value_before_scaling=145089.05, PI_loss=3.00%)\n",
      "2022-04-02 00:00:00 Trade(assetSell=AVAX, assetBuy=JOE, value=33407.27, value_before_scaling=33407.27, PI_loss=1.12%)\n",
      "2022-05-01 00:00:00 Reweight event at the contract side\n",
      "2022-05-01 00:00:00 Trade(assetSell=JOE, assetBuy=AVAX, value=83746.82, value_before_scaling=83746.82, PI_loss=2.34%)\n"
     ]
    }
   ],
   "source": [
    "min_trade = 0.001\n",
    "init_value = 3e6\n",
    "v_tokens = VTokens(assets=tickers)\n",
    "cai = Index(v_tokens=v_tokens, assets=tickers,\n",
    "            target_weights=target_weights.iloc[0], id_='cai')\n",
    "cai.add_value(init_value, prices=dict(prices_data.iloc[0]))\n",
    "\n",
    "cai_values = []\n",
    "rebalancing_hist = pd.DataFrame(False, index=prices_data.index, columns=['Trade execution', 'Order update']) \n",
    "for date, prices in prices_data.iterrows():\n",
    "    cai.target_weights = target_weights.loc[date]\n",
    "    if date.day == 1:\n",
    "        cai.update_order(prices)\n",
    "        rebalancing_hist['Order update'][date] = True\n",
    "        print(date, \"Reweight event at the contract side\")\n",
    "    engine.min_trade_value = min_trade * sum(cai.get_values(prices).values())\n",
    "    trade = engine.run([cai])\n",
    "    if trade:\n",
    "        rebalancing_hist['Trade execution'][date] = True\n",
    "        trade.execute(prices)\n",
    "        print(date, trade)\n",
    "    cai_values.append(cai.get_values(prices))\n",
    "cai_values = pd.DataFrame(cai_values, index=prices_data.index)"
   ]
  },
  {
   "cell_type": "code",
   "execution_count": 50,
   "id": "03b01c47-a0a0-4528-b779-5437b2412bca",
   "metadata": {},
   "outputs": [
    {
     "data": {
      "text/plain": [
       "Trade execution    30\n",
       "Order update        9\n",
       "dtype: int64"
      ]
     },
     "execution_count": 50,
     "metadata": {},
     "output_type": "execute_result"
    }
   ],
   "source": [
    "rebalancing_hist.sum(axis=0)"
   ]
  },
  {
   "cell_type": "code",
   "execution_count": 51,
   "id": "800a2cb3-16bb-4def-972f-00576cab4bbf",
   "metadata": {
    "tags": []
   },
   "outputs": [
    {
     "data": {
      "application/vnd.plotly.v1+json": {
       "config": {
        "plotlyServerURL": "https://plot.ly"
       },
       "data": [
        {
         "hovertemplate": "%{y}",
         "legendgroup": "cai",
         "line": {
          "color": "gold",
          "dash": "solid"
         },
         "marker": {
          "symbol": "circle"
         },
         "mode": "lines",
         "name": "cai",
         "orientation": "v",
         "showlegend": true,
         "type": "scatter",
         "x": [
          "2021-08-26T00:00:00",
          "2021-08-27T00:00:00",
          "2021-08-28T00:00:00",
          "2021-08-29T00:00:00",
          "2021-08-30T00:00:00",
          "2021-08-31T00:00:00",
          "2021-09-01T00:00:00",
          "2021-09-02T00:00:00",
          "2021-09-03T00:00:00",
          "2021-09-04T00:00:00",
          "2021-09-05T00:00:00",
          "2021-09-06T00:00:00",
          "2021-09-07T00:00:00",
          "2021-09-08T00:00:00",
          "2021-09-09T00:00:00",
          "2021-09-10T00:00:00",
          "2021-09-11T00:00:00",
          "2021-09-12T00:00:00",
          "2021-09-13T00:00:00",
          "2021-09-14T00:00:00",
          "2021-09-15T00:00:00",
          "2021-09-16T00:00:00",
          "2021-09-17T00:00:00",
          "2021-09-18T00:00:00",
          "2021-09-19T00:00:00",
          "2021-09-20T00:00:00",
          "2021-09-21T00:00:00",
          "2021-09-22T00:00:00",
          "2021-09-23T00:00:00",
          "2021-09-24T00:00:00",
          "2021-09-25T00:00:00",
          "2021-09-26T00:00:00",
          "2021-09-27T00:00:00",
          "2021-09-28T00:00:00",
          "2021-09-29T00:00:00",
          "2021-09-30T00:00:00",
          "2021-10-01T00:00:00",
          "2021-10-02T00:00:00",
          "2021-10-03T00:00:00",
          "2021-10-04T00:00:00",
          "2021-10-05T00:00:00",
          "2021-10-06T00:00:00",
          "2021-10-07T00:00:00",
          "2021-10-08T00:00:00",
          "2021-10-09T00:00:00",
          "2021-10-10T00:00:00",
          "2021-10-11T00:00:00",
          "2021-10-12T00:00:00",
          "2021-10-13T00:00:00",
          "2021-10-14T00:00:00",
          "2021-10-15T00:00:00",
          "2021-10-16T00:00:00",
          "2021-10-17T00:00:00",
          "2021-10-18T00:00:00",
          "2021-10-19T00:00:00",
          "2021-10-20T00:00:00",
          "2021-10-21T00:00:00",
          "2021-10-22T00:00:00",
          "2021-10-23T00:00:00",
          "2021-10-24T00:00:00",
          "2021-10-25T00:00:00",
          "2021-10-26T00:00:00",
          "2021-10-27T00:00:00",
          "2021-10-28T00:00:00",
          "2021-10-29T00:00:00",
          "2021-10-30T00:00:00",
          "2021-10-31T00:00:00",
          "2021-11-01T00:00:00",
          "2021-11-02T00:00:00",
          "2021-11-03T00:00:00",
          "2021-11-04T00:00:00",
          "2021-11-05T00:00:00",
          "2021-11-06T00:00:00",
          "2021-11-07T00:00:00",
          "2021-11-08T00:00:00",
          "2021-11-09T00:00:00",
          "2021-11-10T00:00:00",
          "2021-11-11T00:00:00",
          "2021-11-12T00:00:00",
          "2021-11-13T00:00:00",
          "2021-11-14T00:00:00",
          "2021-11-15T00:00:00",
          "2021-11-16T00:00:00",
          "2021-11-17T00:00:00",
          "2021-11-18T00:00:00",
          "2021-11-19T00:00:00",
          "2021-11-20T00:00:00",
          "2021-11-21T00:00:00",
          "2021-11-22T00:00:00",
          "2021-11-23T00:00:00",
          "2021-11-24T00:00:00",
          "2021-11-25T00:00:00",
          "2021-11-26T00:00:00",
          "2021-11-27T00:00:00",
          "2021-11-28T00:00:00",
          "2021-11-29T00:00:00",
          "2021-11-30T00:00:00",
          "2021-12-01T00:00:00",
          "2021-12-02T00:00:00",
          "2021-12-03T00:00:00",
          "2021-12-04T00:00:00",
          "2021-12-05T00:00:00",
          "2021-12-06T00:00:00",
          "2021-12-07T00:00:00",
          "2021-12-08T00:00:00",
          "2021-12-09T00:00:00",
          "2021-12-10T00:00:00",
          "2021-12-11T00:00:00",
          "2021-12-12T00:00:00",
          "2021-12-13T00:00:00",
          "2021-12-14T00:00:00",
          "2021-12-15T00:00:00",
          "2021-12-16T00:00:00",
          "2021-12-17T00:00:00",
          "2021-12-18T00:00:00",
          "2021-12-19T00:00:00",
          "2021-12-20T00:00:00",
          "2021-12-21T00:00:00",
          "2021-12-22T00:00:00",
          "2021-12-23T00:00:00",
          "2021-12-24T00:00:00",
          "2021-12-25T00:00:00",
          "2021-12-26T00:00:00",
          "2021-12-27T00:00:00",
          "2021-12-28T00:00:00",
          "2021-12-29T00:00:00",
          "2021-12-30T00:00:00",
          "2021-12-31T00:00:00",
          "2022-01-01T00:00:00",
          "2022-01-02T00:00:00",
          "2022-01-03T00:00:00",
          "2022-01-04T00:00:00",
          "2022-01-05T00:00:00",
          "2022-01-06T00:00:00",
          "2022-01-07T00:00:00",
          "2022-01-08T00:00:00",
          "2022-01-09T00:00:00",
          "2022-01-10T00:00:00",
          "2022-01-11T00:00:00",
          "2022-01-12T00:00:00",
          "2022-01-13T00:00:00",
          "2022-01-14T00:00:00",
          "2022-01-15T00:00:00",
          "2022-01-16T00:00:00",
          "2022-01-17T00:00:00",
          "2022-01-18T00:00:00",
          "2022-01-19T00:00:00",
          "2022-01-20T00:00:00",
          "2022-01-21T00:00:00",
          "2022-01-22T00:00:00",
          "2022-01-23T00:00:00",
          "2022-01-24T00:00:00",
          "2022-01-25T00:00:00",
          "2022-01-26T00:00:00",
          "2022-01-27T00:00:00",
          "2022-01-28T00:00:00",
          "2022-01-29T00:00:00",
          "2022-01-30T00:00:00",
          "2022-01-31T00:00:00",
          "2022-02-01T00:00:00",
          "2022-02-02T00:00:00",
          "2022-02-03T00:00:00",
          "2022-02-04T00:00:00",
          "2022-02-05T00:00:00",
          "2022-02-06T00:00:00",
          "2022-02-07T00:00:00",
          "2022-02-08T00:00:00",
          "2022-02-09T00:00:00",
          "2022-02-10T00:00:00",
          "2022-02-11T00:00:00",
          "2022-02-12T00:00:00",
          "2022-02-13T00:00:00",
          "2022-02-14T00:00:00",
          "2022-02-15T00:00:00",
          "2022-02-16T00:00:00",
          "2022-02-17T00:00:00",
          "2022-02-18T00:00:00",
          "2022-02-19T00:00:00",
          "2022-02-20T00:00:00",
          "2022-02-21T00:00:00",
          "2022-02-22T00:00:00",
          "2022-02-23T00:00:00",
          "2022-02-24T00:00:00",
          "2022-02-25T00:00:00",
          "2022-02-26T00:00:00",
          "2022-02-27T00:00:00",
          "2022-02-28T00:00:00",
          "2022-03-01T00:00:00",
          "2022-03-02T00:00:00",
          "2022-03-03T00:00:00",
          "2022-03-04T00:00:00",
          "2022-03-05T00:00:00",
          "2022-03-06T00:00:00",
          "2022-03-07T00:00:00",
          "2022-03-08T00:00:00",
          "2022-03-09T00:00:00",
          "2022-03-10T00:00:00",
          "2022-03-11T00:00:00",
          "2022-03-12T00:00:00",
          "2022-03-13T00:00:00",
          "2022-03-14T00:00:00",
          "2022-03-15T00:00:00",
          "2022-03-16T00:00:00",
          "2022-03-17T00:00:00",
          "2022-03-18T00:00:00",
          "2022-03-19T00:00:00",
          "2022-03-20T00:00:00",
          "2022-03-21T00:00:00",
          "2022-03-22T00:00:00",
          "2022-03-23T00:00:00",
          "2022-03-24T00:00:00",
          "2022-03-25T00:00:00",
          "2022-03-26T00:00:00",
          "2022-03-27T00:00:00",
          "2022-03-28T00:00:00",
          "2022-03-29T00:00:00",
          "2022-03-30T00:00:00",
          "2022-03-31T00:00:00",
          "2022-04-01T00:00:00",
          "2022-04-02T00:00:00",
          "2022-04-03T00:00:00",
          "2022-04-04T00:00:00",
          "2022-04-05T00:00:00",
          "2022-04-06T00:00:00",
          "2022-04-07T00:00:00",
          "2022-04-08T00:00:00",
          "2022-04-09T00:00:00",
          "2022-04-10T00:00:00",
          "2022-04-11T00:00:00",
          "2022-04-12T00:00:00",
          "2022-04-13T00:00:00",
          "2022-04-14T00:00:00",
          "2022-04-15T00:00:00",
          "2022-04-16T00:00:00",
          "2022-04-17T00:00:00",
          "2022-04-18T00:00:00",
          "2022-04-19T00:00:00",
          "2022-04-20T00:00:00",
          "2022-04-21T00:00:00",
          "2022-04-22T00:00:00",
          "2022-04-23T00:00:00",
          "2022-04-24T00:00:00",
          "2022-04-25T00:00:00",
          "2022-04-26T00:00:00",
          "2022-04-27T00:00:00",
          "2022-04-28T00:00:00",
          "2022-04-29T00:00:00",
          "2022-04-30T00:00:00",
          "2022-05-01T00:00:00",
          "2022-05-02T00:00:00",
          "2022-05-03T00:00:00",
          "2022-05-04T00:00:00",
          "2022-05-05T00:00:00",
          "2022-05-06T00:00:00",
          "2022-05-07T00:00:00",
          "2022-05-08T00:00:00",
          "2022-05-09T00:00:00",
          "2022-05-10T00:00:00",
          "2022-05-11T00:00:00",
          "2022-05-12T00:00:00",
          "2022-05-13T00:00:00",
          "2022-05-14T00:00:00",
          "2022-05-15T00:00:00",
          "2022-05-16T00:00:00",
          "2022-05-17T00:00:00",
          "2022-05-18T00:00:00",
          "2022-05-19T00:00:00",
          "2022-05-20T00:00:00",
          "2022-05-21T00:00:00",
          "2022-05-22T00:00:00",
          "2022-05-23T00:00:00",
          "2022-05-24T00:00:00",
          "2022-05-25T00:00:00",
          "2022-05-26T00:00:00",
          "2022-05-27T00:00:00",
          "2022-05-28T00:00:00",
          "2022-05-29T00:00:00",
          "2022-05-30T00:00:00"
         ],
         "xaxis": "x",
         "y": [
          0,
          0.18256705997758682,
          0.42506390703721797,
          0.3297036776352007,
          0.5010300668727952,
          -0.09614751560187373,
          -0.1461368936574261,
          0.012514683267990545,
          0.2539014640143351,
          0.18481260485332185,
          0.2548800190463165,
          0.1974868750107992,
          0.10851452426062669,
          -0.0964517126583081,
          -0.14256518221228953,
          -0.02907410964344903,
          0.1564480736140803,
          0.47836994381140574,
          0.49201481302446304,
          0.3173458926287742,
          0.27338238643000423,
          0.5295644751664077,
          0.9044066384246459,
          0.887261606148305,
          0.9084017757871055,
          1.073253156174323,
          0.603865447447008,
          0.7420349299188767,
          1.5153271977042864,
          1.4310254156749194,
          1.344419296448267,
          1.1059970994195267,
          1.1750487601910349,
          1.2715023673152208,
          1.0504985357289378,
          0.9845787946606106,
          0.896749108661647,
          0.9510951598879105,
          0.8428762303609041,
          0.8769061543098213,
          0.7775770687076948,
          0.6504461061950964,
          0.539370798620679,
          0.6577920909488637,
          0.6043457515590878,
          0.5423900930158785,
          0.4244392500260008,
          0.31514329830495624,
          0.3295051188688609,
          0.3919207250575538,
          0.35278900044101125,
          0.4031070269074788,
          0.5097267672935566,
          0.5317967086851572,
          0.6188728571392728,
          0.7140026352427515,
          0.7171761506642518,
          0.8107680027441966,
          0.8321887466272146,
          0.7471433529818154,
          0.7514492100632295,
          1.0087749545776976,
          0.9541431058119316,
          0.7100722294687392,
          0.8030856714544696,
          0.7428448821280165,
          0.617297237601302,
          0.6838874440462308,
          0.7021930003745103,
          0.6979603279526516,
          0.958849584738859,
          1.0922925783019903,
          0.936520539813573,
          0.9828066585609847,
          1.1446103345792715,
          1.143299422853619,
          1.0620364882626254,
          0.9237870971409625,
          0.9677091324528762,
          0.8602694989252573,
          1.1539712666672592,
          1.1495618088366073,
          1.1673099060554795,
          1.3087113187832946,
          1.56356914061154,
          1.259514491697269,
          1.5685784313444273,
          2.032308302295592,
          2.2295267548269604,
          2.1852502335868116,
          1.897565052579711,
          1.7032090295184439,
          1.7829200980340554,
          1.2534577700758307,
          1.459112950380458,
          1.4973890184182759,
          1.6361148484180505,
          1.6371675751485455,
          1.5592020492765952,
          1.2772986911559139,
          1.3088036599410042,
          0.9704660801459659,
          0.8501139878560864,
          0.9419284507830084,
          1.0284607689927143,
          1.1042732347601811,
          0.887625228105624,
          0.7220126952509522,
          0.8577909097402621,
          0.8331712539484966,
          0.6033603423287512,
          0.85469427811187,
          1.0592644528769934,
          1.0599821043930198,
          1.2031969861319953,
          1.2636770248008156,
          1.0840781643289752,
          1.1952901660377844,
          1.3381014405785896,
          1.1821902124563035,
          1.3613238100557061,
          1.1652607068277492,
          1.1634789785514417,
          1.2211926380146223,
          1.1460315751462713,
          1.1586219746262616,
          1.0600601764085864,
          0.9570043155241978,
          1.0618482115542158,
          1.094853276238407,
          1.0218813802302313,
          0.9109648933011125,
          0.8662364874641648,
          0.7411316356726925,
          0.6911821612720246,
          0.529962209135395,
          0.4581885963006487,
          0.5689260282869504,
          0.4842004570176386,
          0.5890787662410455,
          0.695512742115522,
          0.5801718194309957,
          0.5744912405971374,
          0.6402014886117198,
          0.6512248885727596,
          0.5327411767237682,
          0.4968209457867889,
          0.4164774243618494,
          0.3307703812457534,
          0.07058187919682313,
          -0.059250938096843564,
          0.028117420426047035,
          -0.013637515479006046,
          0.07263538858674878,
          0.07265459961778764,
          0.09551716594736104,
          0.2615458090037448,
          0.3392972821354827,
          0.26481721490696875,
          0.3638009121132557,
          0.4370539092544157,
          0.2782636646566312,
          0.27055519716712806,
          0.44858202519501766,
          0.4366191328973479,
          0.42234940408913535,
          0.4662711950267755,
          0.47988373551562713,
          0.5410866017878713,
          0.5568723959835307,
          0.3851190747628388,
          0.3621372003746499,
          0.3087445125489232,
          0.3599183936458348,
          0.5351170470910422,
          0.5364858915899129,
          0.42109081947434257,
          0.3674907576019768,
          0.3800141347223831,
          0.23272690136138507,
          0.14830667029836486,
          0.2299285993539011,
          0.20959533257114948,
          0.23030301231081163,
          0.3311673311182608,
          0.31906625313733716,
          0.22272061461930148,
          0.3953951487372698,
          0.3822722212872447,
          0.3455923566233774,
          0.27516324847977214,
          0.24563459954034417,
          0.2595430618170744,
          0.2025626831889884,
          0.16862082308605886,
          0.1676460622070386,
          0.22823459827981152,
          0.1771651844877673,
          0.10735673310667271,
          0.12037457397084705,
          0.04184998528374484,
          0.0536735737119447,
          0.060040241783053894,
          0.1368313813979427,
          0.23158808481912896,
          0.29370534904308365,
          0.34129853610216254,
          0.26561037001591514,
          0.30435927263361084,
          0.26985651907983144,
          0.2841370699489789,
          0.3102370409164674,
          0.24376573482457764,
          0.27667522453654203,
          0.3142028620395727,
          0.3844977459960093,
          0.4074604353307507,
          0.5274122140836301,
          0.48619225935447785,
          0.5259521500991309,
          0.5282759060236744,
          0.6075752991038084,
          0.5802972836953273,
          0.5787981196303071,
          0.4058747967743297,
          0.5376615600021895,
          0.43941828683842665,
          0.4964103467747629,
          0.45126803350481537,
          0.27298463939285145,
          0.3294762898067851,
          0.399090076560936,
          0.3353213921443525,
          0.33153179242216924,
          0.3174755038072412,
          0.2768911342630831,
          0.3128110443879395,
          0.3970248959916547,
          0.3594753110962352,
          0.3049036100615987,
          0.2676517907763749,
          0.22242741082430073,
          0.20333702563456435,
          0.24638754469941504,
          0.1606806587140639,
          0.17939417588771356,
          0.12365582230983829,
          0.04359782703486337,
          -0.056691564350678236,
          -0.022613260874071783,
          0.022518917326411092,
          0.010938812885411986,
          0.13842050795226069,
          -0.005857315415730424,
          -0.05022250959391583,
          -0.08580027313377026,
          -0.11470761378598515,
          -0.29750454114017566,
          -0.29198024600555683,
          -0.5385241524558656,
          -0.511411897131621,
          -0.46452550247017765,
          -0.4426688367982482,
          -0.4004285264785774,
          -0.4584601447930433,
          -0.42552024624510054,
          -0.5095396873275235,
          -0.49980978687031075,
          -0.537617266798824,
          -0.5271636155772257,
          -0.48815860773915243,
          -0.5369675404143441,
          -0.5321043123922514,
          -0.55872385351951,
          -0.6174455870998967,
          -0.6423642931171314,
          -0.6042834560191412,
          -0.582013715197446
         ],
         "yaxis": "y"
        }
       ],
       "layout": {
        "hoverdistance": 100,
        "hovermode": "x",
        "legend": {
         "title": {
          "text": ""
         },
         "tracegroupgap": 0
        },
        "margin": {
         "t": 60
        },
        "spikedistance": 1000,
        "template": {
         "data": {
          "bar": [
           {
            "error_x": {
             "color": "#2a3f5f"
            },
            "error_y": {
             "color": "#2a3f5f"
            },
            "marker": {
             "line": {
              "color": "white",
              "width": 0.5
             },
             "pattern": {
              "fillmode": "overlay",
              "size": 10,
              "solidity": 0.2
             }
            },
            "type": "bar"
           }
          ],
          "barpolar": [
           {
            "marker": {
             "line": {
              "color": "white",
              "width": 0.5
             },
             "pattern": {
              "fillmode": "overlay",
              "size": 10,
              "solidity": 0.2
             }
            },
            "type": "barpolar"
           }
          ],
          "carpet": [
           {
            "aaxis": {
             "endlinecolor": "#2a3f5f",
             "gridcolor": "#C8D4E3",
             "linecolor": "#C8D4E3",
             "minorgridcolor": "#C8D4E3",
             "startlinecolor": "#2a3f5f"
            },
            "baxis": {
             "endlinecolor": "#2a3f5f",
             "gridcolor": "#C8D4E3",
             "linecolor": "#C8D4E3",
             "minorgridcolor": "#C8D4E3",
             "startlinecolor": "#2a3f5f"
            },
            "type": "carpet"
           }
          ],
          "choropleth": [
           {
            "colorbar": {
             "outlinewidth": 0,
             "ticks": ""
            },
            "type": "choropleth"
           }
          ],
          "contour": [
           {
            "colorbar": {
             "outlinewidth": 0,
             "ticks": ""
            },
            "colorscale": [
             [
              0,
              "#0d0887"
             ],
             [
              0.1111111111111111,
              "#46039f"
             ],
             [
              0.2222222222222222,
              "#7201a8"
             ],
             [
              0.3333333333333333,
              "#9c179e"
             ],
             [
              0.4444444444444444,
              "#bd3786"
             ],
             [
              0.5555555555555556,
              "#d8576b"
             ],
             [
              0.6666666666666666,
              "#ed7953"
             ],
             [
              0.7777777777777778,
              "#fb9f3a"
             ],
             [
              0.8888888888888888,
              "#fdca26"
             ],
             [
              1,
              "#f0f921"
             ]
            ],
            "type": "contour"
           }
          ],
          "contourcarpet": [
           {
            "colorbar": {
             "outlinewidth": 0,
             "ticks": ""
            },
            "type": "contourcarpet"
           }
          ],
          "heatmap": [
           {
            "colorbar": {
             "outlinewidth": 0,
             "ticks": ""
            },
            "colorscale": [
             [
              0,
              "#0d0887"
             ],
             [
              0.1111111111111111,
              "#46039f"
             ],
             [
              0.2222222222222222,
              "#7201a8"
             ],
             [
              0.3333333333333333,
              "#9c179e"
             ],
             [
              0.4444444444444444,
              "#bd3786"
             ],
             [
              0.5555555555555556,
              "#d8576b"
             ],
             [
              0.6666666666666666,
              "#ed7953"
             ],
             [
              0.7777777777777778,
              "#fb9f3a"
             ],
             [
              0.8888888888888888,
              "#fdca26"
             ],
             [
              1,
              "#f0f921"
             ]
            ],
            "type": "heatmap"
           }
          ],
          "heatmapgl": [
           {
            "colorbar": {
             "outlinewidth": 0,
             "ticks": ""
            },
            "colorscale": [
             [
              0,
              "#0d0887"
             ],
             [
              0.1111111111111111,
              "#46039f"
             ],
             [
              0.2222222222222222,
              "#7201a8"
             ],
             [
              0.3333333333333333,
              "#9c179e"
             ],
             [
              0.4444444444444444,
              "#bd3786"
             ],
             [
              0.5555555555555556,
              "#d8576b"
             ],
             [
              0.6666666666666666,
              "#ed7953"
             ],
             [
              0.7777777777777778,
              "#fb9f3a"
             ],
             [
              0.8888888888888888,
              "#fdca26"
             ],
             [
              1,
              "#f0f921"
             ]
            ],
            "type": "heatmapgl"
           }
          ],
          "histogram": [
           {
            "marker": {
             "pattern": {
              "fillmode": "overlay",
              "size": 10,
              "solidity": 0.2
             }
            },
            "type": "histogram"
           }
          ],
          "histogram2d": [
           {
            "colorbar": {
             "outlinewidth": 0,
             "ticks": ""
            },
            "colorscale": [
             [
              0,
              "#0d0887"
             ],
             [
              0.1111111111111111,
              "#46039f"
             ],
             [
              0.2222222222222222,
              "#7201a8"
             ],
             [
              0.3333333333333333,
              "#9c179e"
             ],
             [
              0.4444444444444444,
              "#bd3786"
             ],
             [
              0.5555555555555556,
              "#d8576b"
             ],
             [
              0.6666666666666666,
              "#ed7953"
             ],
             [
              0.7777777777777778,
              "#fb9f3a"
             ],
             [
              0.8888888888888888,
              "#fdca26"
             ],
             [
              1,
              "#f0f921"
             ]
            ],
            "type": "histogram2d"
           }
          ],
          "histogram2dcontour": [
           {
            "colorbar": {
             "outlinewidth": 0,
             "ticks": ""
            },
            "colorscale": [
             [
              0,
              "#0d0887"
             ],
             [
              0.1111111111111111,
              "#46039f"
             ],
             [
              0.2222222222222222,
              "#7201a8"
             ],
             [
              0.3333333333333333,
              "#9c179e"
             ],
             [
              0.4444444444444444,
              "#bd3786"
             ],
             [
              0.5555555555555556,
              "#d8576b"
             ],
             [
              0.6666666666666666,
              "#ed7953"
             ],
             [
              0.7777777777777778,
              "#fb9f3a"
             ],
             [
              0.8888888888888888,
              "#fdca26"
             ],
             [
              1,
              "#f0f921"
             ]
            ],
            "type": "histogram2dcontour"
           }
          ],
          "mesh3d": [
           {
            "colorbar": {
             "outlinewidth": 0,
             "ticks": ""
            },
            "type": "mesh3d"
           }
          ],
          "parcoords": [
           {
            "line": {
             "colorbar": {
              "outlinewidth": 0,
              "ticks": ""
             }
            },
            "type": "parcoords"
           }
          ],
          "pie": [
           {
            "automargin": true,
            "type": "pie"
           }
          ],
          "scatter": [
           {
            "marker": {
             "colorbar": {
              "outlinewidth": 0,
              "ticks": ""
             }
            },
            "type": "scatter"
           }
          ],
          "scatter3d": [
           {
            "line": {
             "colorbar": {
              "outlinewidth": 0,
              "ticks": ""
             }
            },
            "marker": {
             "colorbar": {
              "outlinewidth": 0,
              "ticks": ""
             }
            },
            "type": "scatter3d"
           }
          ],
          "scattercarpet": [
           {
            "marker": {
             "colorbar": {
              "outlinewidth": 0,
              "ticks": ""
             }
            },
            "type": "scattercarpet"
           }
          ],
          "scattergeo": [
           {
            "marker": {
             "colorbar": {
              "outlinewidth": 0,
              "ticks": ""
             }
            },
            "type": "scattergeo"
           }
          ],
          "scattergl": [
           {
            "marker": {
             "colorbar": {
              "outlinewidth": 0,
              "ticks": ""
             }
            },
            "type": "scattergl"
           }
          ],
          "scattermapbox": [
           {
            "marker": {
             "colorbar": {
              "outlinewidth": 0,
              "ticks": ""
             }
            },
            "type": "scattermapbox"
           }
          ],
          "scatterpolar": [
           {
            "marker": {
             "colorbar": {
              "outlinewidth": 0,
              "ticks": ""
             }
            },
            "type": "scatterpolar"
           }
          ],
          "scatterpolargl": [
           {
            "marker": {
             "colorbar": {
              "outlinewidth": 0,
              "ticks": ""
             }
            },
            "type": "scatterpolargl"
           }
          ],
          "scatterternary": [
           {
            "marker": {
             "colorbar": {
              "outlinewidth": 0,
              "ticks": ""
             }
            },
            "type": "scatterternary"
           }
          ],
          "surface": [
           {
            "colorbar": {
             "outlinewidth": 0,
             "ticks": ""
            },
            "colorscale": [
             [
              0,
              "#0d0887"
             ],
             [
              0.1111111111111111,
              "#46039f"
             ],
             [
              0.2222222222222222,
              "#7201a8"
             ],
             [
              0.3333333333333333,
              "#9c179e"
             ],
             [
              0.4444444444444444,
              "#bd3786"
             ],
             [
              0.5555555555555556,
              "#d8576b"
             ],
             [
              0.6666666666666666,
              "#ed7953"
             ],
             [
              0.7777777777777778,
              "#fb9f3a"
             ],
             [
              0.8888888888888888,
              "#fdca26"
             ],
             [
              1,
              "#f0f921"
             ]
            ],
            "type": "surface"
           }
          ],
          "table": [
           {
            "cells": {
             "fill": {
              "color": "#EBF0F8"
             },
             "line": {
              "color": "white"
             }
            },
            "header": {
             "fill": {
              "color": "#C8D4E3"
             },
             "line": {
              "color": "white"
             }
            },
            "type": "table"
           }
          ]
         },
         "layout": {
          "annotationdefaults": {
           "arrowcolor": "#2a3f5f",
           "arrowhead": 0,
           "arrowwidth": 1
          },
          "autotypenumbers": "strict",
          "coloraxis": {
           "colorbar": {
            "outlinewidth": 0,
            "ticks": ""
           }
          },
          "colorscale": {
           "diverging": [
            [
             0,
             "#8e0152"
            ],
            [
             0.1,
             "#c51b7d"
            ],
            [
             0.2,
             "#de77ae"
            ],
            [
             0.3,
             "#f1b6da"
            ],
            [
             0.4,
             "#fde0ef"
            ],
            [
             0.5,
             "#f7f7f7"
            ],
            [
             0.6,
             "#e6f5d0"
            ],
            [
             0.7,
             "#b8e186"
            ],
            [
             0.8,
             "#7fbc41"
            ],
            [
             0.9,
             "#4d9221"
            ],
            [
             1,
             "#276419"
            ]
           ],
           "sequential": [
            [
             0,
             "#0d0887"
            ],
            [
             0.1111111111111111,
             "#46039f"
            ],
            [
             0.2222222222222222,
             "#7201a8"
            ],
            [
             0.3333333333333333,
             "#9c179e"
            ],
            [
             0.4444444444444444,
             "#bd3786"
            ],
            [
             0.5555555555555556,
             "#d8576b"
            ],
            [
             0.6666666666666666,
             "#ed7953"
            ],
            [
             0.7777777777777778,
             "#fb9f3a"
            ],
            [
             0.8888888888888888,
             "#fdca26"
            ],
            [
             1,
             "#f0f921"
            ]
           ],
           "sequentialminus": [
            [
             0,
             "#0d0887"
            ],
            [
             0.1111111111111111,
             "#46039f"
            ],
            [
             0.2222222222222222,
             "#7201a8"
            ],
            [
             0.3333333333333333,
             "#9c179e"
            ],
            [
             0.4444444444444444,
             "#bd3786"
            ],
            [
             0.5555555555555556,
             "#d8576b"
            ],
            [
             0.6666666666666666,
             "#ed7953"
            ],
            [
             0.7777777777777778,
             "#fb9f3a"
            ],
            [
             0.8888888888888888,
             "#fdca26"
            ],
            [
             1,
             "#f0f921"
            ]
           ]
          },
          "colorway": [
           "#636efa",
           "#EF553B",
           "#00cc96",
           "#ab63fa",
           "#FFA15A",
           "#19d3f3",
           "#FF6692",
           "#B6E880",
           "#FF97FF",
           "#FECB52"
          ],
          "font": {
           "color": "#2a3f5f"
          },
          "geo": {
           "bgcolor": "white",
           "lakecolor": "white",
           "landcolor": "white",
           "showlakes": true,
           "showland": true,
           "subunitcolor": "#C8D4E3"
          },
          "hoverlabel": {
           "align": "left"
          },
          "hovermode": "closest",
          "mapbox": {
           "style": "light"
          },
          "paper_bgcolor": "white",
          "plot_bgcolor": "white",
          "polar": {
           "angularaxis": {
            "gridcolor": "#EBF0F8",
            "linecolor": "#EBF0F8",
            "ticks": ""
           },
           "bgcolor": "white",
           "radialaxis": {
            "gridcolor": "#EBF0F8",
            "linecolor": "#EBF0F8",
            "ticks": ""
           }
          },
          "scene": {
           "xaxis": {
            "backgroundcolor": "white",
            "gridcolor": "#DFE8F3",
            "gridwidth": 2,
            "linecolor": "#EBF0F8",
            "showbackground": true,
            "ticks": "",
            "zerolinecolor": "#EBF0F8"
           },
           "yaxis": {
            "backgroundcolor": "white",
            "gridcolor": "#DFE8F3",
            "gridwidth": 2,
            "linecolor": "#EBF0F8",
            "showbackground": true,
            "ticks": "",
            "zerolinecolor": "#EBF0F8"
           },
           "zaxis": {
            "backgroundcolor": "white",
            "gridcolor": "#DFE8F3",
            "gridwidth": 2,
            "linecolor": "#EBF0F8",
            "showbackground": true,
            "ticks": "",
            "zerolinecolor": "#EBF0F8"
           }
          },
          "shapedefaults": {
           "line": {
            "color": "#2a3f5f"
           }
          },
          "ternary": {
           "aaxis": {
            "gridcolor": "#DFE8F3",
            "linecolor": "#A2B1C6",
            "ticks": ""
           },
           "baxis": {
            "gridcolor": "#DFE8F3",
            "linecolor": "#A2B1C6",
            "ticks": ""
           },
           "bgcolor": "white",
           "caxis": {
            "gridcolor": "#DFE8F3",
            "linecolor": "#A2B1C6",
            "ticks": ""
           }
          },
          "title": {
           "x": 0.05
          },
          "xaxis": {
           "automargin": true,
           "gridcolor": "#EBF0F8",
           "linecolor": "#EBF0F8",
           "ticks": "",
           "title": {
            "standoff": 15
           },
           "zerolinecolor": "#EBF0F8",
           "zerolinewidth": 2
          },
          "yaxis": {
           "automargin": true,
           "gridcolor": "#EBF0F8",
           "linecolor": "#EBF0F8",
           "ticks": "",
           "title": {
            "standoff": 15
           },
           "zerolinecolor": "#EBF0F8",
           "zerolinewidth": 2
          }
         }
        },
        "title": {
         "text": "Accumulated returns"
        },
        "xaxis": {
         "anchor": "y",
         "domain": [
          0,
          1
         ],
         "showspikes": true,
         "spikecolor": "#999999",
         "spikedash": "dot",
         "spikemode": "across",
         "spikethickness": 2,
         "title": {
          "text": "date"
         }
        },
        "yaxis": {
         "anchor": "x",
         "domain": [
          0,
          1
         ],
         "tickformat": ".2%",
         "title": {
          "text": "return, %"
         }
        }
       }
      },
      "text/html": [
       "<div>                            <div id=\"39420f8b-ee59-4bb6-8469-2605c064f365\" class=\"plotly-graph-div\" style=\"height:525px; width:100%;\"></div>            <script type=\"text/javascript\">                require([\"plotly\"], function(Plotly) {                    window.PLOTLYENV=window.PLOTLYENV || {};                                    if (document.getElementById(\"39420f8b-ee59-4bb6-8469-2605c064f365\")) {                    Plotly.newPlot(                        \"39420f8b-ee59-4bb6-8469-2605c064f365\",                        [{\"hovertemplate\":\"%{y}\",\"legendgroup\":\"cai\",\"line\":{\"color\":\"gold\",\"dash\":\"solid\"},\"marker\":{\"symbol\":\"circle\"},\"mode\":\"lines\",\"name\":\"cai\",\"orientation\":\"v\",\"showlegend\":true,\"x\":[\"2021-08-26T00:00:00\",\"2021-08-27T00:00:00\",\"2021-08-28T00:00:00\",\"2021-08-29T00:00:00\",\"2021-08-30T00:00:00\",\"2021-08-31T00:00:00\",\"2021-09-01T00:00:00\",\"2021-09-02T00:00:00\",\"2021-09-03T00:00:00\",\"2021-09-04T00:00:00\",\"2021-09-05T00:00:00\",\"2021-09-06T00:00:00\",\"2021-09-07T00:00:00\",\"2021-09-08T00:00:00\",\"2021-09-09T00:00:00\",\"2021-09-10T00:00:00\",\"2021-09-11T00:00:00\",\"2021-09-12T00:00:00\",\"2021-09-13T00:00:00\",\"2021-09-14T00:00:00\",\"2021-09-15T00:00:00\",\"2021-09-16T00:00:00\",\"2021-09-17T00:00:00\",\"2021-09-18T00:00:00\",\"2021-09-19T00:00:00\",\"2021-09-20T00:00:00\",\"2021-09-21T00:00:00\",\"2021-09-22T00:00:00\",\"2021-09-23T00:00:00\",\"2021-09-24T00:00:00\",\"2021-09-25T00:00:00\",\"2021-09-26T00:00:00\",\"2021-09-27T00:00:00\",\"2021-09-28T00:00:00\",\"2021-09-29T00:00:00\",\"2021-09-30T00:00:00\",\"2021-10-01T00:00:00\",\"2021-10-02T00:00:00\",\"2021-10-03T00:00:00\",\"2021-10-04T00:00:00\",\"2021-10-05T00:00:00\",\"2021-10-06T00:00:00\",\"2021-10-07T00:00:00\",\"2021-10-08T00:00:00\",\"2021-10-09T00:00:00\",\"2021-10-10T00:00:00\",\"2021-10-11T00:00:00\",\"2021-10-12T00:00:00\",\"2021-10-13T00:00:00\",\"2021-10-14T00:00:00\",\"2021-10-15T00:00:00\",\"2021-10-16T00:00:00\",\"2021-10-17T00:00:00\",\"2021-10-18T00:00:00\",\"2021-10-19T00:00:00\",\"2021-10-20T00:00:00\",\"2021-10-21T00:00:00\",\"2021-10-22T00:00:00\",\"2021-10-23T00:00:00\",\"2021-10-24T00:00:00\",\"2021-10-25T00:00:00\",\"2021-10-26T00:00:00\",\"2021-10-27T00:00:00\",\"2021-10-28T00:00:00\",\"2021-10-29T00:00:00\",\"2021-10-30T00:00:00\",\"2021-10-31T00:00:00\",\"2021-11-01T00:00:00\",\"2021-11-02T00:00:00\",\"2021-11-03T00:00:00\",\"2021-11-04T00:00:00\",\"2021-11-05T00:00:00\",\"2021-11-06T00:00:00\",\"2021-11-07T00:00:00\",\"2021-11-08T00:00:00\",\"2021-11-09T00:00:00\",\"2021-11-10T00:00:00\",\"2021-11-11T00:00:00\",\"2021-11-12T00:00:00\",\"2021-11-13T00:00:00\",\"2021-11-14T00:00:00\",\"2021-11-15T00:00:00\",\"2021-11-16T00:00:00\",\"2021-11-17T00:00:00\",\"2021-11-18T00:00:00\",\"2021-11-19T00:00:00\",\"2021-11-20T00:00:00\",\"2021-11-21T00:00:00\",\"2021-11-22T00:00:00\",\"2021-11-23T00:00:00\",\"2021-11-24T00:00:00\",\"2021-11-25T00:00:00\",\"2021-11-26T00:00:00\",\"2021-11-27T00:00:00\",\"2021-11-28T00:00:00\",\"2021-11-29T00:00:00\",\"2021-11-30T00:00:00\",\"2021-12-01T00:00:00\",\"2021-12-02T00:00:00\",\"2021-12-03T00:00:00\",\"2021-12-04T00:00:00\",\"2021-12-05T00:00:00\",\"2021-12-06T00:00:00\",\"2021-12-07T00:00:00\",\"2021-12-08T00:00:00\",\"2021-12-09T00:00:00\",\"2021-12-10T00:00:00\",\"2021-12-11T00:00:00\",\"2021-12-12T00:00:00\",\"2021-12-13T00:00:00\",\"2021-12-14T00:00:00\",\"2021-12-15T00:00:00\",\"2021-12-16T00:00:00\",\"2021-12-17T00:00:00\",\"2021-12-18T00:00:00\",\"2021-12-19T00:00:00\",\"2021-12-20T00:00:00\",\"2021-12-21T00:00:00\",\"2021-12-22T00:00:00\",\"2021-12-23T00:00:00\",\"2021-12-24T00:00:00\",\"2021-12-25T00:00:00\",\"2021-12-26T00:00:00\",\"2021-12-27T00:00:00\",\"2021-12-28T00:00:00\",\"2021-12-29T00:00:00\",\"2021-12-30T00:00:00\",\"2021-12-31T00:00:00\",\"2022-01-01T00:00:00\",\"2022-01-02T00:00:00\",\"2022-01-03T00:00:00\",\"2022-01-04T00:00:00\",\"2022-01-05T00:00:00\",\"2022-01-06T00:00:00\",\"2022-01-07T00:00:00\",\"2022-01-08T00:00:00\",\"2022-01-09T00:00:00\",\"2022-01-10T00:00:00\",\"2022-01-11T00:00:00\",\"2022-01-12T00:00:00\",\"2022-01-13T00:00:00\",\"2022-01-14T00:00:00\",\"2022-01-15T00:00:00\",\"2022-01-16T00:00:00\",\"2022-01-17T00:00:00\",\"2022-01-18T00:00:00\",\"2022-01-19T00:00:00\",\"2022-01-20T00:00:00\",\"2022-01-21T00:00:00\",\"2022-01-22T00:00:00\",\"2022-01-23T00:00:00\",\"2022-01-24T00:00:00\",\"2022-01-25T00:00:00\",\"2022-01-26T00:00:00\",\"2022-01-27T00:00:00\",\"2022-01-28T00:00:00\",\"2022-01-29T00:00:00\",\"2022-01-30T00:00:00\",\"2022-01-31T00:00:00\",\"2022-02-01T00:00:00\",\"2022-02-02T00:00:00\",\"2022-02-03T00:00:00\",\"2022-02-04T00:00:00\",\"2022-02-05T00:00:00\",\"2022-02-06T00:00:00\",\"2022-02-07T00:00:00\",\"2022-02-08T00:00:00\",\"2022-02-09T00:00:00\",\"2022-02-10T00:00:00\",\"2022-02-11T00:00:00\",\"2022-02-12T00:00:00\",\"2022-02-13T00:00:00\",\"2022-02-14T00:00:00\",\"2022-02-15T00:00:00\",\"2022-02-16T00:00:00\",\"2022-02-17T00:00:00\",\"2022-02-18T00:00:00\",\"2022-02-19T00:00:00\",\"2022-02-20T00:00:00\",\"2022-02-21T00:00:00\",\"2022-02-22T00:00:00\",\"2022-02-23T00:00:00\",\"2022-02-24T00:00:00\",\"2022-02-25T00:00:00\",\"2022-02-26T00:00:00\",\"2022-02-27T00:00:00\",\"2022-02-28T00:00:00\",\"2022-03-01T00:00:00\",\"2022-03-02T00:00:00\",\"2022-03-03T00:00:00\",\"2022-03-04T00:00:00\",\"2022-03-05T00:00:00\",\"2022-03-06T00:00:00\",\"2022-03-07T00:00:00\",\"2022-03-08T00:00:00\",\"2022-03-09T00:00:00\",\"2022-03-10T00:00:00\",\"2022-03-11T00:00:00\",\"2022-03-12T00:00:00\",\"2022-03-13T00:00:00\",\"2022-03-14T00:00:00\",\"2022-03-15T00:00:00\",\"2022-03-16T00:00:00\",\"2022-03-17T00:00:00\",\"2022-03-18T00:00:00\",\"2022-03-19T00:00:00\",\"2022-03-20T00:00:00\",\"2022-03-21T00:00:00\",\"2022-03-22T00:00:00\",\"2022-03-23T00:00:00\",\"2022-03-24T00:00:00\",\"2022-03-25T00:00:00\",\"2022-03-26T00:00:00\",\"2022-03-27T00:00:00\",\"2022-03-28T00:00:00\",\"2022-03-29T00:00:00\",\"2022-03-30T00:00:00\",\"2022-03-31T00:00:00\",\"2022-04-01T00:00:00\",\"2022-04-02T00:00:00\",\"2022-04-03T00:00:00\",\"2022-04-04T00:00:00\",\"2022-04-05T00:00:00\",\"2022-04-06T00:00:00\",\"2022-04-07T00:00:00\",\"2022-04-08T00:00:00\",\"2022-04-09T00:00:00\",\"2022-04-10T00:00:00\",\"2022-04-11T00:00:00\",\"2022-04-12T00:00:00\",\"2022-04-13T00:00:00\",\"2022-04-14T00:00:00\",\"2022-04-15T00:00:00\",\"2022-04-16T00:00:00\",\"2022-04-17T00:00:00\",\"2022-04-18T00:00:00\",\"2022-04-19T00:00:00\",\"2022-04-20T00:00:00\",\"2022-04-21T00:00:00\",\"2022-04-22T00:00:00\",\"2022-04-23T00:00:00\",\"2022-04-24T00:00:00\",\"2022-04-25T00:00:00\",\"2022-04-26T00:00:00\",\"2022-04-27T00:00:00\",\"2022-04-28T00:00:00\",\"2022-04-29T00:00:00\",\"2022-04-30T00:00:00\",\"2022-05-01T00:00:00\",\"2022-05-02T00:00:00\",\"2022-05-03T00:00:00\",\"2022-05-04T00:00:00\",\"2022-05-05T00:00:00\",\"2022-05-06T00:00:00\",\"2022-05-07T00:00:00\",\"2022-05-08T00:00:00\",\"2022-05-09T00:00:00\",\"2022-05-10T00:00:00\",\"2022-05-11T00:00:00\",\"2022-05-12T00:00:00\",\"2022-05-13T00:00:00\",\"2022-05-14T00:00:00\",\"2022-05-15T00:00:00\",\"2022-05-16T00:00:00\",\"2022-05-17T00:00:00\",\"2022-05-18T00:00:00\",\"2022-05-19T00:00:00\",\"2022-05-20T00:00:00\",\"2022-05-21T00:00:00\",\"2022-05-22T00:00:00\",\"2022-05-23T00:00:00\",\"2022-05-24T00:00:00\",\"2022-05-25T00:00:00\",\"2022-05-26T00:00:00\",\"2022-05-27T00:00:00\",\"2022-05-28T00:00:00\",\"2022-05-29T00:00:00\",\"2022-05-30T00:00:00\"],\"xaxis\":\"x\",\"y\":[0.0,0.18256705997758682,0.42506390703721797,0.3297036776352007,0.5010300668727952,-0.09614751560187373,-0.1461368936574261,0.012514683267990545,0.2539014640143351,0.18481260485332185,0.2548800190463165,0.1974868750107992,0.10851452426062669,-0.0964517126583081,-0.14256518221228953,-0.02907410964344903,0.1564480736140803,0.47836994381140574,0.49201481302446304,0.3173458926287742,0.27338238643000423,0.5295644751664077,0.9044066384246459,0.887261606148305,0.9084017757871055,1.073253156174323,0.603865447447008,0.7420349299188767,1.5153271977042864,1.4310254156749194,1.344419296448267,1.1059970994195267,1.1750487601910349,1.2715023673152208,1.0504985357289378,0.9845787946606106,0.896749108661647,0.9510951598879105,0.8428762303609041,0.8769061543098213,0.7775770687076948,0.6504461061950964,0.539370798620679,0.6577920909488637,0.6043457515590878,0.5423900930158785,0.4244392500260008,0.31514329830495624,0.3295051188688609,0.3919207250575538,0.35278900044101125,0.4031070269074788,0.5097267672935566,0.5317967086851572,0.6188728571392728,0.7140026352427515,0.7171761506642518,0.8107680027441966,0.8321887466272146,0.7471433529818154,0.7514492100632295,1.0087749545776976,0.9541431058119316,0.7100722294687392,0.8030856714544696,0.7428448821280165,0.617297237601302,0.6838874440462308,0.7021930003745103,0.6979603279526516,0.958849584738859,1.0922925783019903,0.936520539813573,0.9828066585609847,1.1446103345792715,1.143299422853619,1.0620364882626254,0.9237870971409625,0.9677091324528762,0.8602694989252573,1.1539712666672592,1.1495618088366073,1.1673099060554795,1.3087113187832946,1.56356914061154,1.259514491697269,1.5685784313444273,2.032308302295592,2.2295267548269604,2.1852502335868116,1.897565052579711,1.7032090295184439,1.7829200980340554,1.2534577700758307,1.459112950380458,1.4973890184182759,1.6361148484180505,1.6371675751485455,1.5592020492765952,1.2772986911559139,1.3088036599410042,0.9704660801459659,0.8501139878560864,0.9419284507830084,1.0284607689927143,1.1042732347601811,0.887625228105624,0.7220126952509522,0.8577909097402621,0.8331712539484966,0.6033603423287512,0.85469427811187,1.0592644528769934,1.0599821043930198,1.2031969861319953,1.2636770248008156,1.0840781643289752,1.1952901660377844,1.3381014405785896,1.1821902124563035,1.3613238100557061,1.1652607068277492,1.1634789785514417,1.2211926380146223,1.1460315751462713,1.1586219746262616,1.0600601764085864,0.9570043155241978,1.0618482115542158,1.094853276238407,1.0218813802302313,0.9109648933011125,0.8662364874641648,0.7411316356726925,0.6911821612720246,0.529962209135395,0.4581885963006487,0.5689260282869504,0.4842004570176386,0.5890787662410455,0.695512742115522,0.5801718194309957,0.5744912405971374,0.6402014886117198,0.6512248885727596,0.5327411767237682,0.4968209457867889,0.4164774243618494,0.3307703812457534,0.07058187919682313,-0.059250938096843564,0.028117420426047035,-0.013637515479006046,0.07263538858674878,0.07265459961778764,0.09551716594736104,0.2615458090037448,0.3392972821354827,0.26481721490696875,0.3638009121132557,0.4370539092544157,0.2782636646566312,0.27055519716712806,0.44858202519501766,0.4366191328973479,0.42234940408913535,0.4662711950267755,0.47988373551562713,0.5410866017878713,0.5568723959835307,0.3851190747628388,0.3621372003746499,0.3087445125489232,0.3599183936458348,0.5351170470910422,0.5364858915899129,0.42109081947434257,0.3674907576019768,0.3800141347223831,0.23272690136138507,0.14830667029836486,0.2299285993539011,0.20959533257114948,0.23030301231081163,0.3311673311182608,0.31906625313733716,0.22272061461930148,0.3953951487372698,0.3822722212872447,0.3455923566233774,0.27516324847977214,0.24563459954034417,0.2595430618170744,0.2025626831889884,0.16862082308605886,0.1676460622070386,0.22823459827981152,0.1771651844877673,0.10735673310667271,0.12037457397084705,0.04184998528374484,0.0536735737119447,0.060040241783053894,0.1368313813979427,0.23158808481912896,0.29370534904308365,0.34129853610216254,0.26561037001591514,0.30435927263361084,0.26985651907983144,0.2841370699489789,0.3102370409164674,0.24376573482457764,0.27667522453654203,0.3142028620395727,0.3844977459960093,0.4074604353307507,0.5274122140836301,0.48619225935447785,0.5259521500991309,0.5282759060236744,0.6075752991038084,0.5802972836953273,0.5787981196303071,0.4058747967743297,0.5376615600021895,0.43941828683842665,0.4964103467747629,0.45126803350481537,0.27298463939285145,0.3294762898067851,0.399090076560936,0.3353213921443525,0.33153179242216924,0.3174755038072412,0.2768911342630831,0.3128110443879395,0.3970248959916547,0.3594753110962352,0.3049036100615987,0.2676517907763749,0.22242741082430073,0.20333702563456435,0.24638754469941504,0.1606806587140639,0.17939417588771356,0.12365582230983829,0.04359782703486337,-0.056691564350678236,-0.022613260874071783,0.022518917326411092,0.010938812885411986,0.13842050795226069,-0.005857315415730424,-0.05022250959391583,-0.08580027313377026,-0.11470761378598515,-0.29750454114017566,-0.29198024600555683,-0.5385241524558656,-0.511411897131621,-0.46452550247017765,-0.4426688367982482,-0.4004285264785774,-0.4584601447930433,-0.42552024624510054,-0.5095396873275235,-0.49980978687031075,-0.537617266798824,-0.5271636155772257,-0.48815860773915243,-0.5369675404143441,-0.5321043123922514,-0.55872385351951,-0.6174455870998967,-0.6423642931171314,-0.6042834560191412,-0.582013715197446],\"yaxis\":\"y\",\"type\":\"scatter\"}],                        {\"template\":{\"data\":{\"barpolar\":[{\"marker\":{\"line\":{\"color\":\"white\",\"width\":0.5},\"pattern\":{\"fillmode\":\"overlay\",\"size\":10,\"solidity\":0.2}},\"type\":\"barpolar\"}],\"bar\":[{\"error_x\":{\"color\":\"#2a3f5f\"},\"error_y\":{\"color\":\"#2a3f5f\"},\"marker\":{\"line\":{\"color\":\"white\",\"width\":0.5},\"pattern\":{\"fillmode\":\"overlay\",\"size\":10,\"solidity\":0.2}},\"type\":\"bar\"}],\"carpet\":[{\"aaxis\":{\"endlinecolor\":\"#2a3f5f\",\"gridcolor\":\"#C8D4E3\",\"linecolor\":\"#C8D4E3\",\"minorgridcolor\":\"#C8D4E3\",\"startlinecolor\":\"#2a3f5f\"},\"baxis\":{\"endlinecolor\":\"#2a3f5f\",\"gridcolor\":\"#C8D4E3\",\"linecolor\":\"#C8D4E3\",\"minorgridcolor\":\"#C8D4E3\",\"startlinecolor\":\"#2a3f5f\"},\"type\":\"carpet\"}],\"choropleth\":[{\"colorbar\":{\"outlinewidth\":0,\"ticks\":\"\"},\"type\":\"choropleth\"}],\"contourcarpet\":[{\"colorbar\":{\"outlinewidth\":0,\"ticks\":\"\"},\"type\":\"contourcarpet\"}],\"contour\":[{\"colorbar\":{\"outlinewidth\":0,\"ticks\":\"\"},\"colorscale\":[[0.0,\"#0d0887\"],[0.1111111111111111,\"#46039f\"],[0.2222222222222222,\"#7201a8\"],[0.3333333333333333,\"#9c179e\"],[0.4444444444444444,\"#bd3786\"],[0.5555555555555556,\"#d8576b\"],[0.6666666666666666,\"#ed7953\"],[0.7777777777777778,\"#fb9f3a\"],[0.8888888888888888,\"#fdca26\"],[1.0,\"#f0f921\"]],\"type\":\"contour\"}],\"heatmapgl\":[{\"colorbar\":{\"outlinewidth\":0,\"ticks\":\"\"},\"colorscale\":[[0.0,\"#0d0887\"],[0.1111111111111111,\"#46039f\"],[0.2222222222222222,\"#7201a8\"],[0.3333333333333333,\"#9c179e\"],[0.4444444444444444,\"#bd3786\"],[0.5555555555555556,\"#d8576b\"],[0.6666666666666666,\"#ed7953\"],[0.7777777777777778,\"#fb9f3a\"],[0.8888888888888888,\"#fdca26\"],[1.0,\"#f0f921\"]],\"type\":\"heatmapgl\"}],\"heatmap\":[{\"colorbar\":{\"outlinewidth\":0,\"ticks\":\"\"},\"colorscale\":[[0.0,\"#0d0887\"],[0.1111111111111111,\"#46039f\"],[0.2222222222222222,\"#7201a8\"],[0.3333333333333333,\"#9c179e\"],[0.4444444444444444,\"#bd3786\"],[0.5555555555555556,\"#d8576b\"],[0.6666666666666666,\"#ed7953\"],[0.7777777777777778,\"#fb9f3a\"],[0.8888888888888888,\"#fdca26\"],[1.0,\"#f0f921\"]],\"type\":\"heatmap\"}],\"histogram2dcontour\":[{\"colorbar\":{\"outlinewidth\":0,\"ticks\":\"\"},\"colorscale\":[[0.0,\"#0d0887\"],[0.1111111111111111,\"#46039f\"],[0.2222222222222222,\"#7201a8\"],[0.3333333333333333,\"#9c179e\"],[0.4444444444444444,\"#bd3786\"],[0.5555555555555556,\"#d8576b\"],[0.6666666666666666,\"#ed7953\"],[0.7777777777777778,\"#fb9f3a\"],[0.8888888888888888,\"#fdca26\"],[1.0,\"#f0f921\"]],\"type\":\"histogram2dcontour\"}],\"histogram2d\":[{\"colorbar\":{\"outlinewidth\":0,\"ticks\":\"\"},\"colorscale\":[[0.0,\"#0d0887\"],[0.1111111111111111,\"#46039f\"],[0.2222222222222222,\"#7201a8\"],[0.3333333333333333,\"#9c179e\"],[0.4444444444444444,\"#bd3786\"],[0.5555555555555556,\"#d8576b\"],[0.6666666666666666,\"#ed7953\"],[0.7777777777777778,\"#fb9f3a\"],[0.8888888888888888,\"#fdca26\"],[1.0,\"#f0f921\"]],\"type\":\"histogram2d\"}],\"histogram\":[{\"marker\":{\"pattern\":{\"fillmode\":\"overlay\",\"size\":10,\"solidity\":0.2}},\"type\":\"histogram\"}],\"mesh3d\":[{\"colorbar\":{\"outlinewidth\":0,\"ticks\":\"\"},\"type\":\"mesh3d\"}],\"parcoords\":[{\"line\":{\"colorbar\":{\"outlinewidth\":0,\"ticks\":\"\"}},\"type\":\"parcoords\"}],\"pie\":[{\"automargin\":true,\"type\":\"pie\"}],\"scatter3d\":[{\"line\":{\"colorbar\":{\"outlinewidth\":0,\"ticks\":\"\"}},\"marker\":{\"colorbar\":{\"outlinewidth\":0,\"ticks\":\"\"}},\"type\":\"scatter3d\"}],\"scattercarpet\":[{\"marker\":{\"colorbar\":{\"outlinewidth\":0,\"ticks\":\"\"}},\"type\":\"scattercarpet\"}],\"scattergeo\":[{\"marker\":{\"colorbar\":{\"outlinewidth\":0,\"ticks\":\"\"}},\"type\":\"scattergeo\"}],\"scattergl\":[{\"marker\":{\"colorbar\":{\"outlinewidth\":0,\"ticks\":\"\"}},\"type\":\"scattergl\"}],\"scattermapbox\":[{\"marker\":{\"colorbar\":{\"outlinewidth\":0,\"ticks\":\"\"}},\"type\":\"scattermapbox\"}],\"scatterpolargl\":[{\"marker\":{\"colorbar\":{\"outlinewidth\":0,\"ticks\":\"\"}},\"type\":\"scatterpolargl\"}],\"scatterpolar\":[{\"marker\":{\"colorbar\":{\"outlinewidth\":0,\"ticks\":\"\"}},\"type\":\"scatterpolar\"}],\"scatter\":[{\"marker\":{\"colorbar\":{\"outlinewidth\":0,\"ticks\":\"\"}},\"type\":\"scatter\"}],\"scatterternary\":[{\"marker\":{\"colorbar\":{\"outlinewidth\":0,\"ticks\":\"\"}},\"type\":\"scatterternary\"}],\"surface\":[{\"colorbar\":{\"outlinewidth\":0,\"ticks\":\"\"},\"colorscale\":[[0.0,\"#0d0887\"],[0.1111111111111111,\"#46039f\"],[0.2222222222222222,\"#7201a8\"],[0.3333333333333333,\"#9c179e\"],[0.4444444444444444,\"#bd3786\"],[0.5555555555555556,\"#d8576b\"],[0.6666666666666666,\"#ed7953\"],[0.7777777777777778,\"#fb9f3a\"],[0.8888888888888888,\"#fdca26\"],[1.0,\"#f0f921\"]],\"type\":\"surface\"}],\"table\":[{\"cells\":{\"fill\":{\"color\":\"#EBF0F8\"},\"line\":{\"color\":\"white\"}},\"header\":{\"fill\":{\"color\":\"#C8D4E3\"},\"line\":{\"color\":\"white\"}},\"type\":\"table\"}]},\"layout\":{\"annotationdefaults\":{\"arrowcolor\":\"#2a3f5f\",\"arrowhead\":0,\"arrowwidth\":1},\"autotypenumbers\":\"strict\",\"coloraxis\":{\"colorbar\":{\"outlinewidth\":0,\"ticks\":\"\"}},\"colorscale\":{\"diverging\":[[0,\"#8e0152\"],[0.1,\"#c51b7d\"],[0.2,\"#de77ae\"],[0.3,\"#f1b6da\"],[0.4,\"#fde0ef\"],[0.5,\"#f7f7f7\"],[0.6,\"#e6f5d0\"],[0.7,\"#b8e186\"],[0.8,\"#7fbc41\"],[0.9,\"#4d9221\"],[1,\"#276419\"]],\"sequential\":[[0.0,\"#0d0887\"],[0.1111111111111111,\"#46039f\"],[0.2222222222222222,\"#7201a8\"],[0.3333333333333333,\"#9c179e\"],[0.4444444444444444,\"#bd3786\"],[0.5555555555555556,\"#d8576b\"],[0.6666666666666666,\"#ed7953\"],[0.7777777777777778,\"#fb9f3a\"],[0.8888888888888888,\"#fdca26\"],[1.0,\"#f0f921\"]],\"sequentialminus\":[[0.0,\"#0d0887\"],[0.1111111111111111,\"#46039f\"],[0.2222222222222222,\"#7201a8\"],[0.3333333333333333,\"#9c179e\"],[0.4444444444444444,\"#bd3786\"],[0.5555555555555556,\"#d8576b\"],[0.6666666666666666,\"#ed7953\"],[0.7777777777777778,\"#fb9f3a\"],[0.8888888888888888,\"#fdca26\"],[1.0,\"#f0f921\"]]},\"colorway\":[\"#636efa\",\"#EF553B\",\"#00cc96\",\"#ab63fa\",\"#FFA15A\",\"#19d3f3\",\"#FF6692\",\"#B6E880\",\"#FF97FF\",\"#FECB52\"],\"font\":{\"color\":\"#2a3f5f\"},\"geo\":{\"bgcolor\":\"white\",\"lakecolor\":\"white\",\"landcolor\":\"white\",\"showlakes\":true,\"showland\":true,\"subunitcolor\":\"#C8D4E3\"},\"hoverlabel\":{\"align\":\"left\"},\"hovermode\":\"closest\",\"mapbox\":{\"style\":\"light\"},\"paper_bgcolor\":\"white\",\"plot_bgcolor\":\"white\",\"polar\":{\"angularaxis\":{\"gridcolor\":\"#EBF0F8\",\"linecolor\":\"#EBF0F8\",\"ticks\":\"\"},\"bgcolor\":\"white\",\"radialaxis\":{\"gridcolor\":\"#EBF0F8\",\"linecolor\":\"#EBF0F8\",\"ticks\":\"\"}},\"scene\":{\"xaxis\":{\"backgroundcolor\":\"white\",\"gridcolor\":\"#DFE8F3\",\"gridwidth\":2,\"linecolor\":\"#EBF0F8\",\"showbackground\":true,\"ticks\":\"\",\"zerolinecolor\":\"#EBF0F8\"},\"yaxis\":{\"backgroundcolor\":\"white\",\"gridcolor\":\"#DFE8F3\",\"gridwidth\":2,\"linecolor\":\"#EBF0F8\",\"showbackground\":true,\"ticks\":\"\",\"zerolinecolor\":\"#EBF0F8\"},\"zaxis\":{\"backgroundcolor\":\"white\",\"gridcolor\":\"#DFE8F3\",\"gridwidth\":2,\"linecolor\":\"#EBF0F8\",\"showbackground\":true,\"ticks\":\"\",\"zerolinecolor\":\"#EBF0F8\"}},\"shapedefaults\":{\"line\":{\"color\":\"#2a3f5f\"}},\"ternary\":{\"aaxis\":{\"gridcolor\":\"#DFE8F3\",\"linecolor\":\"#A2B1C6\",\"ticks\":\"\"},\"baxis\":{\"gridcolor\":\"#DFE8F3\",\"linecolor\":\"#A2B1C6\",\"ticks\":\"\"},\"bgcolor\":\"white\",\"caxis\":{\"gridcolor\":\"#DFE8F3\",\"linecolor\":\"#A2B1C6\",\"ticks\":\"\"}},\"title\":{\"x\":0.05},\"xaxis\":{\"automargin\":true,\"gridcolor\":\"#EBF0F8\",\"linecolor\":\"#EBF0F8\",\"ticks\":\"\",\"title\":{\"standoff\":15},\"zerolinecolor\":\"#EBF0F8\",\"zerolinewidth\":2},\"yaxis\":{\"automargin\":true,\"gridcolor\":\"#EBF0F8\",\"linecolor\":\"#EBF0F8\",\"ticks\":\"\",\"title\":{\"standoff\":15},\"zerolinecolor\":\"#EBF0F8\",\"zerolinewidth\":2}}},\"xaxis\":{\"anchor\":\"y\",\"domain\":[0.0,1.0],\"title\":{\"text\":\"date\"},\"showspikes\":true,\"spikethickness\":2,\"spikedash\":\"dot\",\"spikecolor\":\"#999999\",\"spikemode\":\"across\"},\"yaxis\":{\"anchor\":\"x\",\"domain\":[0.0,1.0],\"title\":{\"text\":\"return, %\"},\"tickformat\":\".2%\"},\"legend\":{\"title\":{\"text\":\"\"},\"tracegroupgap\":0},\"margin\":{\"t\":60},\"hovermode\":\"x\",\"hoverdistance\":100,\"spikedistance\":1000,\"title\":{\"text\":\"Accumulated returns\"}},                        {\"responsive\": true}                    ).then(function(){\n",
       "                            \n",
       "var gd = document.getElementById('39420f8b-ee59-4bb6-8469-2605c064f365');\n",
       "var x = new MutationObserver(function (mutations, observer) {{\n",
       "        var display = window.getComputedStyle(gd).display;\n",
       "        if (!display || display === 'none') {{\n",
       "            console.log([gd, 'removed!']);\n",
       "            Plotly.purge(gd);\n",
       "            observer.disconnect();\n",
       "        }}\n",
       "}});\n",
       "\n",
       "// Listen for the removal of the full notebook cells\n",
       "var notebookContainer = gd.closest('#notebook-container');\n",
       "if (notebookContainer) {{\n",
       "    x.observe(notebookContainer, {childList: true});\n",
       "}}\n",
       "\n",
       "// Listen for the clearing of the current output cell\n",
       "var outputEl = gd.closest('.output');\n",
       "if (outputEl) {{\n",
       "    x.observe(outputEl, {childList: true});\n",
       "}}\n",
       "\n",
       "                        })                };                });            </script>        </div>"
      ]
     },
     "metadata": {},
     "output_type": "display_data"
    },
    {
     "data": {
      "application/vnd.plotly.v1+json": {
       "config": {
        "plotlyServerURL": "https://plot.ly"
       },
       "data": [
        {
         "hovertemplate": "%{y}",
         "legendgroup": "cai",
         "line": {
          "color": "gold",
          "dash": "solid"
         },
         "marker": {
          "symbol": "circle"
         },
         "mode": "lines+markers",
         "name": "cai",
         "orientation": "v",
         "showlegend": true,
         "type": "scatter",
         "x": [
          "2021-09-25T00:00:00",
          "2021-10-25T00:00:00",
          "2021-11-25T00:00:00",
          "2021-12-25T00:00:00",
          "2022-01-25T00:00:00",
          "2022-02-25T00:00:00",
          "2022-03-25T00:00:00",
          "2022-04-25T00:00:00",
          "2022-05-25T00:00:00"
         ],
         "xaxis": "x",
         "y": [
          0,
          -0.252928342333375,
          0.5434127429940458,
          -0.19900359787808408,
          -0.5444601745135438,
          0.2473132662869697,
          0.0649710094227276,
          -0.08158830192064337,
          -0.6111682116977912
         ],
         "yaxis": "y"
        },
        {
         "hovertemplate": "%{y}",
         "legendgroup": "cai_benchmark",
         "line": {
          "color": "gray",
          "dash": "solid"
         },
         "marker": {
          "symbol": "circle"
         },
         "mode": "lines+markers",
         "name": "cai_benchmark",
         "orientation": "v",
         "showlegend": true,
         "type": "scatter",
         "x": [
          "2021-09-25T00:00:00",
          "2021-10-25T00:00:00",
          "2021-11-25T00:00:00",
          "2021-12-25T00:00:00",
          "2022-01-25T00:00:00",
          "2022-02-25T00:00:00",
          "2022-03-25T00:00:00",
          "2022-04-25T00:00:00",
          "2022-05-25T00:00:00"
         ],
         "xaxis": "x",
         "y": [
          0,
          -0.24198429058623405,
          0.5445973385746554,
          -0.19592489189835927,
          -0.5453710129660715,
          0.24791329002784623,
          0.06346760473001356,
          -0.08058791524128328,
          -0.6109007953935857
         ],
         "yaxis": "y"
        },
        {
         "hovertemplate": "%{y}",
         "legendgroup": "cai_without_reb",
         "line": {
          "color": "#1f77b4",
          "dash": "solid"
         },
         "marker": {
          "symbol": "circle"
         },
         "mode": "lines+markers",
         "name": "cai_without_reb",
         "orientation": "v",
         "showlegend": true,
         "type": "scatter",
         "x": [
          "2021-09-25T00:00:00",
          "2021-10-25T00:00:00",
          "2021-11-25T00:00:00",
          "2021-12-25T00:00:00",
          "2022-01-25T00:00:00",
          "2022-02-25T00:00:00",
          "2022-03-25T00:00:00",
          "2022-04-25T00:00:00",
          "2022-05-25T00:00:00"
         ],
         "xaxis": "x",
         "y": [
          0,
          -0.2508854243911858,
          0.49465572910110156,
          -0.2067470371753054,
          -0.5300357156699009,
          0.23492985237579922,
          0.09254862539538466,
          -0.11639436112187485,
          -0.6059172777668542
         ],
         "yaxis": "y"
        },
        {
         "hovertemplate": "%{y}",
         "legendgroup": "cai_theoretical",
         "line": {
          "color": "#9467bd",
          "dash": "solid"
         },
         "marker": {
          "symbol": "circle"
         },
         "mode": "lines+markers",
         "name": "cai_theoretical",
         "orientation": "v",
         "showlegend": true,
         "type": "scatter",
         "x": [
          "2021-09-25T00:00:00",
          "2021-10-25T00:00:00",
          "2021-11-25T00:00:00",
          "2021-12-25T00:00:00",
          "2022-01-25T00:00:00",
          "2022-02-25T00:00:00",
          "2022-03-25T00:00:00",
          "2022-04-25T00:00:00",
          "2022-05-25T00:00:00"
         ],
         "xaxis": "x",
         "y": [
          0,
          -0.19680167925014835,
          0.5509519135027847,
          -0.2017845057705635,
          -0.5513964384402444,
          0.2624097352742185,
          0.06989047204958632,
          -0.07306819929304598,
          -0.6065232877450922
         ],
         "yaxis": "y"
        }
       ],
       "layout": {
        "hoverdistance": 100,
        "hovermode": "x",
        "legend": {
         "title": {
          "text": ""
         },
         "tracegroupgap": 0
        },
        "margin": {
         "t": 60
        },
        "spikedistance": 1000,
        "template": {
         "data": {
          "bar": [
           {
            "error_x": {
             "color": "#2a3f5f"
            },
            "error_y": {
             "color": "#2a3f5f"
            },
            "marker": {
             "line": {
              "color": "white",
              "width": 0.5
             },
             "pattern": {
              "fillmode": "overlay",
              "size": 10,
              "solidity": 0.2
             }
            },
            "type": "bar"
           }
          ],
          "barpolar": [
           {
            "marker": {
             "line": {
              "color": "white",
              "width": 0.5
             },
             "pattern": {
              "fillmode": "overlay",
              "size": 10,
              "solidity": 0.2
             }
            },
            "type": "barpolar"
           }
          ],
          "carpet": [
           {
            "aaxis": {
             "endlinecolor": "#2a3f5f",
             "gridcolor": "#C8D4E3",
             "linecolor": "#C8D4E3",
             "minorgridcolor": "#C8D4E3",
             "startlinecolor": "#2a3f5f"
            },
            "baxis": {
             "endlinecolor": "#2a3f5f",
             "gridcolor": "#C8D4E3",
             "linecolor": "#C8D4E3",
             "minorgridcolor": "#C8D4E3",
             "startlinecolor": "#2a3f5f"
            },
            "type": "carpet"
           }
          ],
          "choropleth": [
           {
            "colorbar": {
             "outlinewidth": 0,
             "ticks": ""
            },
            "type": "choropleth"
           }
          ],
          "contour": [
           {
            "colorbar": {
             "outlinewidth": 0,
             "ticks": ""
            },
            "colorscale": [
             [
              0,
              "#0d0887"
             ],
             [
              0.1111111111111111,
              "#46039f"
             ],
             [
              0.2222222222222222,
              "#7201a8"
             ],
             [
              0.3333333333333333,
              "#9c179e"
             ],
             [
              0.4444444444444444,
              "#bd3786"
             ],
             [
              0.5555555555555556,
              "#d8576b"
             ],
             [
              0.6666666666666666,
              "#ed7953"
             ],
             [
              0.7777777777777778,
              "#fb9f3a"
             ],
             [
              0.8888888888888888,
              "#fdca26"
             ],
             [
              1,
              "#f0f921"
             ]
            ],
            "type": "contour"
           }
          ],
          "contourcarpet": [
           {
            "colorbar": {
             "outlinewidth": 0,
             "ticks": ""
            },
            "type": "contourcarpet"
           }
          ],
          "heatmap": [
           {
            "colorbar": {
             "outlinewidth": 0,
             "ticks": ""
            },
            "colorscale": [
             [
              0,
              "#0d0887"
             ],
             [
              0.1111111111111111,
              "#46039f"
             ],
             [
              0.2222222222222222,
              "#7201a8"
             ],
             [
              0.3333333333333333,
              "#9c179e"
             ],
             [
              0.4444444444444444,
              "#bd3786"
             ],
             [
              0.5555555555555556,
              "#d8576b"
             ],
             [
              0.6666666666666666,
              "#ed7953"
             ],
             [
              0.7777777777777778,
              "#fb9f3a"
             ],
             [
              0.8888888888888888,
              "#fdca26"
             ],
             [
              1,
              "#f0f921"
             ]
            ],
            "type": "heatmap"
           }
          ],
          "heatmapgl": [
           {
            "colorbar": {
             "outlinewidth": 0,
             "ticks": ""
            },
            "colorscale": [
             [
              0,
              "#0d0887"
             ],
             [
              0.1111111111111111,
              "#46039f"
             ],
             [
              0.2222222222222222,
              "#7201a8"
             ],
             [
              0.3333333333333333,
              "#9c179e"
             ],
             [
              0.4444444444444444,
              "#bd3786"
             ],
             [
              0.5555555555555556,
              "#d8576b"
             ],
             [
              0.6666666666666666,
              "#ed7953"
             ],
             [
              0.7777777777777778,
              "#fb9f3a"
             ],
             [
              0.8888888888888888,
              "#fdca26"
             ],
             [
              1,
              "#f0f921"
             ]
            ],
            "type": "heatmapgl"
           }
          ],
          "histogram": [
           {
            "marker": {
             "pattern": {
              "fillmode": "overlay",
              "size": 10,
              "solidity": 0.2
             }
            },
            "type": "histogram"
           }
          ],
          "histogram2d": [
           {
            "colorbar": {
             "outlinewidth": 0,
             "ticks": ""
            },
            "colorscale": [
             [
              0,
              "#0d0887"
             ],
             [
              0.1111111111111111,
              "#46039f"
             ],
             [
              0.2222222222222222,
              "#7201a8"
             ],
             [
              0.3333333333333333,
              "#9c179e"
             ],
             [
              0.4444444444444444,
              "#bd3786"
             ],
             [
              0.5555555555555556,
              "#d8576b"
             ],
             [
              0.6666666666666666,
              "#ed7953"
             ],
             [
              0.7777777777777778,
              "#fb9f3a"
             ],
             [
              0.8888888888888888,
              "#fdca26"
             ],
             [
              1,
              "#f0f921"
             ]
            ],
            "type": "histogram2d"
           }
          ],
          "histogram2dcontour": [
           {
            "colorbar": {
             "outlinewidth": 0,
             "ticks": ""
            },
            "colorscale": [
             [
              0,
              "#0d0887"
             ],
             [
              0.1111111111111111,
              "#46039f"
             ],
             [
              0.2222222222222222,
              "#7201a8"
             ],
             [
              0.3333333333333333,
              "#9c179e"
             ],
             [
              0.4444444444444444,
              "#bd3786"
             ],
             [
              0.5555555555555556,
              "#d8576b"
             ],
             [
              0.6666666666666666,
              "#ed7953"
             ],
             [
              0.7777777777777778,
              "#fb9f3a"
             ],
             [
              0.8888888888888888,
              "#fdca26"
             ],
             [
              1,
              "#f0f921"
             ]
            ],
            "type": "histogram2dcontour"
           }
          ],
          "mesh3d": [
           {
            "colorbar": {
             "outlinewidth": 0,
             "ticks": ""
            },
            "type": "mesh3d"
           }
          ],
          "parcoords": [
           {
            "line": {
             "colorbar": {
              "outlinewidth": 0,
              "ticks": ""
             }
            },
            "type": "parcoords"
           }
          ],
          "pie": [
           {
            "automargin": true,
            "type": "pie"
           }
          ],
          "scatter": [
           {
            "marker": {
             "colorbar": {
              "outlinewidth": 0,
              "ticks": ""
             }
            },
            "type": "scatter"
           }
          ],
          "scatter3d": [
           {
            "line": {
             "colorbar": {
              "outlinewidth": 0,
              "ticks": ""
             }
            },
            "marker": {
             "colorbar": {
              "outlinewidth": 0,
              "ticks": ""
             }
            },
            "type": "scatter3d"
           }
          ],
          "scattercarpet": [
           {
            "marker": {
             "colorbar": {
              "outlinewidth": 0,
              "ticks": ""
             }
            },
            "type": "scattercarpet"
           }
          ],
          "scattergeo": [
           {
            "marker": {
             "colorbar": {
              "outlinewidth": 0,
              "ticks": ""
             }
            },
            "type": "scattergeo"
           }
          ],
          "scattergl": [
           {
            "marker": {
             "colorbar": {
              "outlinewidth": 0,
              "ticks": ""
             }
            },
            "type": "scattergl"
           }
          ],
          "scattermapbox": [
           {
            "marker": {
             "colorbar": {
              "outlinewidth": 0,
              "ticks": ""
             }
            },
            "type": "scattermapbox"
           }
          ],
          "scatterpolar": [
           {
            "marker": {
             "colorbar": {
              "outlinewidth": 0,
              "ticks": ""
             }
            },
            "type": "scatterpolar"
           }
          ],
          "scatterpolargl": [
           {
            "marker": {
             "colorbar": {
              "outlinewidth": 0,
              "ticks": ""
             }
            },
            "type": "scatterpolargl"
           }
          ],
          "scatterternary": [
           {
            "marker": {
             "colorbar": {
              "outlinewidth": 0,
              "ticks": ""
             }
            },
            "type": "scatterternary"
           }
          ],
          "surface": [
           {
            "colorbar": {
             "outlinewidth": 0,
             "ticks": ""
            },
            "colorscale": [
             [
              0,
              "#0d0887"
             ],
             [
              0.1111111111111111,
              "#46039f"
             ],
             [
              0.2222222222222222,
              "#7201a8"
             ],
             [
              0.3333333333333333,
              "#9c179e"
             ],
             [
              0.4444444444444444,
              "#bd3786"
             ],
             [
              0.5555555555555556,
              "#d8576b"
             ],
             [
              0.6666666666666666,
              "#ed7953"
             ],
             [
              0.7777777777777778,
              "#fb9f3a"
             ],
             [
              0.8888888888888888,
              "#fdca26"
             ],
             [
              1,
              "#f0f921"
             ]
            ],
            "type": "surface"
           }
          ],
          "table": [
           {
            "cells": {
             "fill": {
              "color": "#EBF0F8"
             },
             "line": {
              "color": "white"
             }
            },
            "header": {
             "fill": {
              "color": "#C8D4E3"
             },
             "line": {
              "color": "white"
             }
            },
            "type": "table"
           }
          ]
         },
         "layout": {
          "annotationdefaults": {
           "arrowcolor": "#2a3f5f",
           "arrowhead": 0,
           "arrowwidth": 1
          },
          "autotypenumbers": "strict",
          "coloraxis": {
           "colorbar": {
            "outlinewidth": 0,
            "ticks": ""
           }
          },
          "colorscale": {
           "diverging": [
            [
             0,
             "#8e0152"
            ],
            [
             0.1,
             "#c51b7d"
            ],
            [
             0.2,
             "#de77ae"
            ],
            [
             0.3,
             "#f1b6da"
            ],
            [
             0.4,
             "#fde0ef"
            ],
            [
             0.5,
             "#f7f7f7"
            ],
            [
             0.6,
             "#e6f5d0"
            ],
            [
             0.7,
             "#b8e186"
            ],
            [
             0.8,
             "#7fbc41"
            ],
            [
             0.9,
             "#4d9221"
            ],
            [
             1,
             "#276419"
            ]
           ],
           "sequential": [
            [
             0,
             "#0d0887"
            ],
            [
             0.1111111111111111,
             "#46039f"
            ],
            [
             0.2222222222222222,
             "#7201a8"
            ],
            [
             0.3333333333333333,
             "#9c179e"
            ],
            [
             0.4444444444444444,
             "#bd3786"
            ],
            [
             0.5555555555555556,
             "#d8576b"
            ],
            [
             0.6666666666666666,
             "#ed7953"
            ],
            [
             0.7777777777777778,
             "#fb9f3a"
            ],
            [
             0.8888888888888888,
             "#fdca26"
            ],
            [
             1,
             "#f0f921"
            ]
           ],
           "sequentialminus": [
            [
             0,
             "#0d0887"
            ],
            [
             0.1111111111111111,
             "#46039f"
            ],
            [
             0.2222222222222222,
             "#7201a8"
            ],
            [
             0.3333333333333333,
             "#9c179e"
            ],
            [
             0.4444444444444444,
             "#bd3786"
            ],
            [
             0.5555555555555556,
             "#d8576b"
            ],
            [
             0.6666666666666666,
             "#ed7953"
            ],
            [
             0.7777777777777778,
             "#fb9f3a"
            ],
            [
             0.8888888888888888,
             "#fdca26"
            ],
            [
             1,
             "#f0f921"
            ]
           ]
          },
          "colorway": [
           "#636efa",
           "#EF553B",
           "#00cc96",
           "#ab63fa",
           "#FFA15A",
           "#19d3f3",
           "#FF6692",
           "#B6E880",
           "#FF97FF",
           "#FECB52"
          ],
          "font": {
           "color": "#2a3f5f"
          },
          "geo": {
           "bgcolor": "white",
           "lakecolor": "white",
           "landcolor": "white",
           "showlakes": true,
           "showland": true,
           "subunitcolor": "#C8D4E3"
          },
          "hoverlabel": {
           "align": "left"
          },
          "hovermode": "closest",
          "mapbox": {
           "style": "light"
          },
          "paper_bgcolor": "white",
          "plot_bgcolor": "white",
          "polar": {
           "angularaxis": {
            "gridcolor": "#EBF0F8",
            "linecolor": "#EBF0F8",
            "ticks": ""
           },
           "bgcolor": "white",
           "radialaxis": {
            "gridcolor": "#EBF0F8",
            "linecolor": "#EBF0F8",
            "ticks": ""
           }
          },
          "scene": {
           "xaxis": {
            "backgroundcolor": "white",
            "gridcolor": "#DFE8F3",
            "gridwidth": 2,
            "linecolor": "#EBF0F8",
            "showbackground": true,
            "ticks": "",
            "zerolinecolor": "#EBF0F8"
           },
           "yaxis": {
            "backgroundcolor": "white",
            "gridcolor": "#DFE8F3",
            "gridwidth": 2,
            "linecolor": "#EBF0F8",
            "showbackground": true,
            "ticks": "",
            "zerolinecolor": "#EBF0F8"
           },
           "zaxis": {
            "backgroundcolor": "white",
            "gridcolor": "#DFE8F3",
            "gridwidth": 2,
            "linecolor": "#EBF0F8",
            "showbackground": true,
            "ticks": "",
            "zerolinecolor": "#EBF0F8"
           }
          },
          "shapedefaults": {
           "line": {
            "color": "#2a3f5f"
           }
          },
          "ternary": {
           "aaxis": {
            "gridcolor": "#DFE8F3",
            "linecolor": "#A2B1C6",
            "ticks": ""
           },
           "baxis": {
            "gridcolor": "#DFE8F3",
            "linecolor": "#A2B1C6",
            "ticks": ""
           },
           "bgcolor": "white",
           "caxis": {
            "gridcolor": "#DFE8F3",
            "linecolor": "#A2B1C6",
            "ticks": ""
           }
          },
          "title": {
           "x": 0.05
          },
          "xaxis": {
           "automargin": true,
           "gridcolor": "#EBF0F8",
           "linecolor": "#EBF0F8",
           "ticks": "",
           "title": {
            "standoff": 15
           },
           "zerolinecolor": "#EBF0F8",
           "zerolinewidth": 2
          },
          "yaxis": {
           "automargin": true,
           "gridcolor": "#EBF0F8",
           "linecolor": "#EBF0F8",
           "ticks": "",
           "title": {
            "standoff": 15
           },
           "zerolinecolor": "#EBF0F8",
           "zerolinewidth": 2
          }
         }
        },
        "title": {
         "text": "Monthly returns"
        },
        "xaxis": {
         "anchor": "y",
         "domain": [
          0,
          1
         ],
         "showspikes": true,
         "spikecolor": "#999999",
         "spikedash": "dot",
         "spikemode": "across",
         "spikethickness": 2,
         "title": {
          "text": "date"
         }
        },
        "yaxis": {
         "anchor": "x",
         "domain": [
          0,
          1
         ],
         "tickformat": ".2%",
         "title": {
          "text": "return, %"
         }
        }
       }
      },
      "text/html": [
       "<div>                            <div id=\"b5140294-145a-4918-bdb9-cdc468b4842d\" class=\"plotly-graph-div\" style=\"height:525px; width:100%;\"></div>            <script type=\"text/javascript\">                require([\"plotly\"], function(Plotly) {                    window.PLOTLYENV=window.PLOTLYENV || {};                                    if (document.getElementById(\"b5140294-145a-4918-bdb9-cdc468b4842d\")) {                    Plotly.newPlot(                        \"b5140294-145a-4918-bdb9-cdc468b4842d\",                        [{\"hovertemplate\":\"%{y}\",\"legendgroup\":\"cai\",\"line\":{\"color\":\"gold\",\"dash\":\"solid\"},\"marker\":{\"symbol\":\"circle\"},\"mode\":\"lines+markers\",\"name\":\"cai\",\"orientation\":\"v\",\"showlegend\":true,\"x\":[\"2021-09-25T00:00:00\",\"2021-10-25T00:00:00\",\"2021-11-25T00:00:00\",\"2021-12-25T00:00:00\",\"2022-01-25T00:00:00\",\"2022-02-25T00:00:00\",\"2022-03-25T00:00:00\",\"2022-04-25T00:00:00\",\"2022-05-25T00:00:00\"],\"xaxis\":\"x\",\"y\":[0.0,-0.252928342333375,0.5434127429940458,-0.19900359787808408,-0.5444601745135438,0.2473132662869697,0.0649710094227276,-0.08158830192064337,-0.6111682116977912],\"yaxis\":\"y\",\"type\":\"scatter\"},{\"hovertemplate\":\"%{y}\",\"legendgroup\":\"cai_benchmark\",\"line\":{\"color\":\"gray\",\"dash\":\"solid\"},\"marker\":{\"symbol\":\"circle\"},\"mode\":\"lines+markers\",\"name\":\"cai_benchmark\",\"orientation\":\"v\",\"showlegend\":true,\"x\":[\"2021-09-25T00:00:00\",\"2021-10-25T00:00:00\",\"2021-11-25T00:00:00\",\"2021-12-25T00:00:00\",\"2022-01-25T00:00:00\",\"2022-02-25T00:00:00\",\"2022-03-25T00:00:00\",\"2022-04-25T00:00:00\",\"2022-05-25T00:00:00\"],\"xaxis\":\"x\",\"y\":[0.0,-0.24198429058623405,0.5445973385746554,-0.19592489189835927,-0.5453710129660715,0.24791329002784623,0.06346760473001356,-0.08058791524128328,-0.6109007953935857],\"yaxis\":\"y\",\"type\":\"scatter\"},{\"hovertemplate\":\"%{y}\",\"legendgroup\":\"cai_without_reb\",\"line\":{\"color\":\"#1f77b4\",\"dash\":\"solid\"},\"marker\":{\"symbol\":\"circle\"},\"mode\":\"lines+markers\",\"name\":\"cai_without_reb\",\"orientation\":\"v\",\"showlegend\":true,\"x\":[\"2021-09-25T00:00:00\",\"2021-10-25T00:00:00\",\"2021-11-25T00:00:00\",\"2021-12-25T00:00:00\",\"2022-01-25T00:00:00\",\"2022-02-25T00:00:00\",\"2022-03-25T00:00:00\",\"2022-04-25T00:00:00\",\"2022-05-25T00:00:00\"],\"xaxis\":\"x\",\"y\":[0.0,-0.2508854243911858,0.49465572910110156,-0.2067470371753054,-0.5300357156699009,0.23492985237579922,0.09254862539538466,-0.11639436112187485,-0.6059172777668542],\"yaxis\":\"y\",\"type\":\"scatter\"},{\"hovertemplate\":\"%{y}\",\"legendgroup\":\"cai_theoretical\",\"line\":{\"color\":\"#9467bd\",\"dash\":\"solid\"},\"marker\":{\"symbol\":\"circle\"},\"mode\":\"lines+markers\",\"name\":\"cai_theoretical\",\"orientation\":\"v\",\"showlegend\":true,\"x\":[\"2021-09-25T00:00:00\",\"2021-10-25T00:00:00\",\"2021-11-25T00:00:00\",\"2021-12-25T00:00:00\",\"2022-01-25T00:00:00\",\"2022-02-25T00:00:00\",\"2022-03-25T00:00:00\",\"2022-04-25T00:00:00\",\"2022-05-25T00:00:00\"],\"xaxis\":\"x\",\"y\":[0.0,-0.19680167925014835,0.5509519135027847,-0.2017845057705635,-0.5513964384402444,0.2624097352742185,0.06989047204958632,-0.07306819929304598,-0.6065232877450922],\"yaxis\":\"y\",\"type\":\"scatter\"}],                        {\"template\":{\"data\":{\"barpolar\":[{\"marker\":{\"line\":{\"color\":\"white\",\"width\":0.5},\"pattern\":{\"fillmode\":\"overlay\",\"size\":10,\"solidity\":0.2}},\"type\":\"barpolar\"}],\"bar\":[{\"error_x\":{\"color\":\"#2a3f5f\"},\"error_y\":{\"color\":\"#2a3f5f\"},\"marker\":{\"line\":{\"color\":\"white\",\"width\":0.5},\"pattern\":{\"fillmode\":\"overlay\",\"size\":10,\"solidity\":0.2}},\"type\":\"bar\"}],\"carpet\":[{\"aaxis\":{\"endlinecolor\":\"#2a3f5f\",\"gridcolor\":\"#C8D4E3\",\"linecolor\":\"#C8D4E3\",\"minorgridcolor\":\"#C8D4E3\",\"startlinecolor\":\"#2a3f5f\"},\"baxis\":{\"endlinecolor\":\"#2a3f5f\",\"gridcolor\":\"#C8D4E3\",\"linecolor\":\"#C8D4E3\",\"minorgridcolor\":\"#C8D4E3\",\"startlinecolor\":\"#2a3f5f\"},\"type\":\"carpet\"}],\"choropleth\":[{\"colorbar\":{\"outlinewidth\":0,\"ticks\":\"\"},\"type\":\"choropleth\"}],\"contourcarpet\":[{\"colorbar\":{\"outlinewidth\":0,\"ticks\":\"\"},\"type\":\"contourcarpet\"}],\"contour\":[{\"colorbar\":{\"outlinewidth\":0,\"ticks\":\"\"},\"colorscale\":[[0.0,\"#0d0887\"],[0.1111111111111111,\"#46039f\"],[0.2222222222222222,\"#7201a8\"],[0.3333333333333333,\"#9c179e\"],[0.4444444444444444,\"#bd3786\"],[0.5555555555555556,\"#d8576b\"],[0.6666666666666666,\"#ed7953\"],[0.7777777777777778,\"#fb9f3a\"],[0.8888888888888888,\"#fdca26\"],[1.0,\"#f0f921\"]],\"type\":\"contour\"}],\"heatmapgl\":[{\"colorbar\":{\"outlinewidth\":0,\"ticks\":\"\"},\"colorscale\":[[0.0,\"#0d0887\"],[0.1111111111111111,\"#46039f\"],[0.2222222222222222,\"#7201a8\"],[0.3333333333333333,\"#9c179e\"],[0.4444444444444444,\"#bd3786\"],[0.5555555555555556,\"#d8576b\"],[0.6666666666666666,\"#ed7953\"],[0.7777777777777778,\"#fb9f3a\"],[0.8888888888888888,\"#fdca26\"],[1.0,\"#f0f921\"]],\"type\":\"heatmapgl\"}],\"heatmap\":[{\"colorbar\":{\"outlinewidth\":0,\"ticks\":\"\"},\"colorscale\":[[0.0,\"#0d0887\"],[0.1111111111111111,\"#46039f\"],[0.2222222222222222,\"#7201a8\"],[0.3333333333333333,\"#9c179e\"],[0.4444444444444444,\"#bd3786\"],[0.5555555555555556,\"#d8576b\"],[0.6666666666666666,\"#ed7953\"],[0.7777777777777778,\"#fb9f3a\"],[0.8888888888888888,\"#fdca26\"],[1.0,\"#f0f921\"]],\"type\":\"heatmap\"}],\"histogram2dcontour\":[{\"colorbar\":{\"outlinewidth\":0,\"ticks\":\"\"},\"colorscale\":[[0.0,\"#0d0887\"],[0.1111111111111111,\"#46039f\"],[0.2222222222222222,\"#7201a8\"],[0.3333333333333333,\"#9c179e\"],[0.4444444444444444,\"#bd3786\"],[0.5555555555555556,\"#d8576b\"],[0.6666666666666666,\"#ed7953\"],[0.7777777777777778,\"#fb9f3a\"],[0.8888888888888888,\"#fdca26\"],[1.0,\"#f0f921\"]],\"type\":\"histogram2dcontour\"}],\"histogram2d\":[{\"colorbar\":{\"outlinewidth\":0,\"ticks\":\"\"},\"colorscale\":[[0.0,\"#0d0887\"],[0.1111111111111111,\"#46039f\"],[0.2222222222222222,\"#7201a8\"],[0.3333333333333333,\"#9c179e\"],[0.4444444444444444,\"#bd3786\"],[0.5555555555555556,\"#d8576b\"],[0.6666666666666666,\"#ed7953\"],[0.7777777777777778,\"#fb9f3a\"],[0.8888888888888888,\"#fdca26\"],[1.0,\"#f0f921\"]],\"type\":\"histogram2d\"}],\"histogram\":[{\"marker\":{\"pattern\":{\"fillmode\":\"overlay\",\"size\":10,\"solidity\":0.2}},\"type\":\"histogram\"}],\"mesh3d\":[{\"colorbar\":{\"outlinewidth\":0,\"ticks\":\"\"},\"type\":\"mesh3d\"}],\"parcoords\":[{\"line\":{\"colorbar\":{\"outlinewidth\":0,\"ticks\":\"\"}},\"type\":\"parcoords\"}],\"pie\":[{\"automargin\":true,\"type\":\"pie\"}],\"scatter3d\":[{\"line\":{\"colorbar\":{\"outlinewidth\":0,\"ticks\":\"\"}},\"marker\":{\"colorbar\":{\"outlinewidth\":0,\"ticks\":\"\"}},\"type\":\"scatter3d\"}],\"scattercarpet\":[{\"marker\":{\"colorbar\":{\"outlinewidth\":0,\"ticks\":\"\"}},\"type\":\"scattercarpet\"}],\"scattergeo\":[{\"marker\":{\"colorbar\":{\"outlinewidth\":0,\"ticks\":\"\"}},\"type\":\"scattergeo\"}],\"scattergl\":[{\"marker\":{\"colorbar\":{\"outlinewidth\":0,\"ticks\":\"\"}},\"type\":\"scattergl\"}],\"scattermapbox\":[{\"marker\":{\"colorbar\":{\"outlinewidth\":0,\"ticks\":\"\"}},\"type\":\"scattermapbox\"}],\"scatterpolargl\":[{\"marker\":{\"colorbar\":{\"outlinewidth\":0,\"ticks\":\"\"}},\"type\":\"scatterpolargl\"}],\"scatterpolar\":[{\"marker\":{\"colorbar\":{\"outlinewidth\":0,\"ticks\":\"\"}},\"type\":\"scatterpolar\"}],\"scatter\":[{\"marker\":{\"colorbar\":{\"outlinewidth\":0,\"ticks\":\"\"}},\"type\":\"scatter\"}],\"scatterternary\":[{\"marker\":{\"colorbar\":{\"outlinewidth\":0,\"ticks\":\"\"}},\"type\":\"scatterternary\"}],\"surface\":[{\"colorbar\":{\"outlinewidth\":0,\"ticks\":\"\"},\"colorscale\":[[0.0,\"#0d0887\"],[0.1111111111111111,\"#46039f\"],[0.2222222222222222,\"#7201a8\"],[0.3333333333333333,\"#9c179e\"],[0.4444444444444444,\"#bd3786\"],[0.5555555555555556,\"#d8576b\"],[0.6666666666666666,\"#ed7953\"],[0.7777777777777778,\"#fb9f3a\"],[0.8888888888888888,\"#fdca26\"],[1.0,\"#f0f921\"]],\"type\":\"surface\"}],\"table\":[{\"cells\":{\"fill\":{\"color\":\"#EBF0F8\"},\"line\":{\"color\":\"white\"}},\"header\":{\"fill\":{\"color\":\"#C8D4E3\"},\"line\":{\"color\":\"white\"}},\"type\":\"table\"}]},\"layout\":{\"annotationdefaults\":{\"arrowcolor\":\"#2a3f5f\",\"arrowhead\":0,\"arrowwidth\":1},\"autotypenumbers\":\"strict\",\"coloraxis\":{\"colorbar\":{\"outlinewidth\":0,\"ticks\":\"\"}},\"colorscale\":{\"diverging\":[[0,\"#8e0152\"],[0.1,\"#c51b7d\"],[0.2,\"#de77ae\"],[0.3,\"#f1b6da\"],[0.4,\"#fde0ef\"],[0.5,\"#f7f7f7\"],[0.6,\"#e6f5d0\"],[0.7,\"#b8e186\"],[0.8,\"#7fbc41\"],[0.9,\"#4d9221\"],[1,\"#276419\"]],\"sequential\":[[0.0,\"#0d0887\"],[0.1111111111111111,\"#46039f\"],[0.2222222222222222,\"#7201a8\"],[0.3333333333333333,\"#9c179e\"],[0.4444444444444444,\"#bd3786\"],[0.5555555555555556,\"#d8576b\"],[0.6666666666666666,\"#ed7953\"],[0.7777777777777778,\"#fb9f3a\"],[0.8888888888888888,\"#fdca26\"],[1.0,\"#f0f921\"]],\"sequentialminus\":[[0.0,\"#0d0887\"],[0.1111111111111111,\"#46039f\"],[0.2222222222222222,\"#7201a8\"],[0.3333333333333333,\"#9c179e\"],[0.4444444444444444,\"#bd3786\"],[0.5555555555555556,\"#d8576b\"],[0.6666666666666666,\"#ed7953\"],[0.7777777777777778,\"#fb9f3a\"],[0.8888888888888888,\"#fdca26\"],[1.0,\"#f0f921\"]]},\"colorway\":[\"#636efa\",\"#EF553B\",\"#00cc96\",\"#ab63fa\",\"#FFA15A\",\"#19d3f3\",\"#FF6692\",\"#B6E880\",\"#FF97FF\",\"#FECB52\"],\"font\":{\"color\":\"#2a3f5f\"},\"geo\":{\"bgcolor\":\"white\",\"lakecolor\":\"white\",\"landcolor\":\"white\",\"showlakes\":true,\"showland\":true,\"subunitcolor\":\"#C8D4E3\"},\"hoverlabel\":{\"align\":\"left\"},\"hovermode\":\"closest\",\"mapbox\":{\"style\":\"light\"},\"paper_bgcolor\":\"white\",\"plot_bgcolor\":\"white\",\"polar\":{\"angularaxis\":{\"gridcolor\":\"#EBF0F8\",\"linecolor\":\"#EBF0F8\",\"ticks\":\"\"},\"bgcolor\":\"white\",\"radialaxis\":{\"gridcolor\":\"#EBF0F8\",\"linecolor\":\"#EBF0F8\",\"ticks\":\"\"}},\"scene\":{\"xaxis\":{\"backgroundcolor\":\"white\",\"gridcolor\":\"#DFE8F3\",\"gridwidth\":2,\"linecolor\":\"#EBF0F8\",\"showbackground\":true,\"ticks\":\"\",\"zerolinecolor\":\"#EBF0F8\"},\"yaxis\":{\"backgroundcolor\":\"white\",\"gridcolor\":\"#DFE8F3\",\"gridwidth\":2,\"linecolor\":\"#EBF0F8\",\"showbackground\":true,\"ticks\":\"\",\"zerolinecolor\":\"#EBF0F8\"},\"zaxis\":{\"backgroundcolor\":\"white\",\"gridcolor\":\"#DFE8F3\",\"gridwidth\":2,\"linecolor\":\"#EBF0F8\",\"showbackground\":true,\"ticks\":\"\",\"zerolinecolor\":\"#EBF0F8\"}},\"shapedefaults\":{\"line\":{\"color\":\"#2a3f5f\"}},\"ternary\":{\"aaxis\":{\"gridcolor\":\"#DFE8F3\",\"linecolor\":\"#A2B1C6\",\"ticks\":\"\"},\"baxis\":{\"gridcolor\":\"#DFE8F3\",\"linecolor\":\"#A2B1C6\",\"ticks\":\"\"},\"bgcolor\":\"white\",\"caxis\":{\"gridcolor\":\"#DFE8F3\",\"linecolor\":\"#A2B1C6\",\"ticks\":\"\"}},\"title\":{\"x\":0.05},\"xaxis\":{\"automargin\":true,\"gridcolor\":\"#EBF0F8\",\"linecolor\":\"#EBF0F8\",\"ticks\":\"\",\"title\":{\"standoff\":15},\"zerolinecolor\":\"#EBF0F8\",\"zerolinewidth\":2},\"yaxis\":{\"automargin\":true,\"gridcolor\":\"#EBF0F8\",\"linecolor\":\"#EBF0F8\",\"ticks\":\"\",\"title\":{\"standoff\":15},\"zerolinecolor\":\"#EBF0F8\",\"zerolinewidth\":2}}},\"xaxis\":{\"anchor\":\"y\",\"domain\":[0.0,1.0],\"title\":{\"text\":\"date\"},\"showspikes\":true,\"spikethickness\":2,\"spikedash\":\"dot\",\"spikecolor\":\"#999999\",\"spikemode\":\"across\"},\"yaxis\":{\"anchor\":\"x\",\"domain\":[0.0,1.0],\"title\":{\"text\":\"return, %\"},\"tickformat\":\".2%\"},\"legend\":{\"title\":{\"text\":\"\"},\"tracegroupgap\":0},\"margin\":{\"t\":60},\"hovermode\":\"x\",\"hoverdistance\":100,\"spikedistance\":1000,\"title\":{\"text\":\"Monthly returns\"}},                        {\"responsive\": true}                    ).then(function(){\n",
       "                            \n",
       "var gd = document.getElementById('b5140294-145a-4918-bdb9-cdc468b4842d');\n",
       "var x = new MutationObserver(function (mutations, observer) {{\n",
       "        var display = window.getComputedStyle(gd).display;\n",
       "        if (!display || display === 'none') {{\n",
       "            console.log([gd, 'removed!']);\n",
       "            Plotly.purge(gd);\n",
       "            observer.disconnect();\n",
       "        }}\n",
       "}});\n",
       "\n",
       "// Listen for the removal of the full notebook cells\n",
       "var notebookContainer = gd.closest('#notebook-container');\n",
       "if (notebookContainer) {{\n",
       "    x.observe(notebookContainer, {childList: true});\n",
       "}}\n",
       "\n",
       "// Listen for the clearing of the current output cell\n",
       "var outputEl = gd.closest('.output');\n",
       "if (outputEl) {{\n",
       "    x.observe(outputEl, {childList: true});\n",
       "}}\n",
       "\n",
       "                        })                };                });            </script>        </div>"
      ]
     },
     "metadata": {},
     "output_type": "display_data"
    },
    {
     "data": {
      "application/vnd.plotly.v1+json": {
       "config": {
        "plotlyServerURL": "https://plot.ly"
       },
       "data": [
        {
         "hovertemplate": "%{y}",
         "legendgroup": "cai",
         "line": {
          "color": "gold",
          "dash": "solid"
         },
         "marker": {
          "symbol": "circle"
         },
         "mode": "lines+markers",
         "name": "cai",
         "orientation": "v",
         "showlegend": true,
         "type": "scatter",
         "x": [
          "2021-09-25T00:00:00",
          "2021-10-25T00:00:00",
          "2021-11-25T00:00:00",
          "2021-12-25T00:00:00",
          "2022-01-25T00:00:00",
          "2022-02-25T00:00:00",
          "2022-03-25T00:00:00",
          "2022-04-25T00:00:00",
          "2022-05-25T00:00:00"
         ],
         "xaxis": "x",
         "y": [
          0,
          0.005472025873570485,
          0.004903768618795444,
          0.004267261041602006,
          0.004256889125414184,
          0.003976161130133303,
          0.003936617451674181,
          0.003694724970364461,
          0.0035165255627354875
         ],
         "yaxis": "y"
        },
        {
         "hovertemplate": "%{y}",
         "legendgroup": "cai_without_reb",
         "line": {
          "color": "#1f77b4",
          "dash": "solid"
         },
         "marker": {
          "symbol": "circle"
         },
         "mode": "lines+markers",
         "name": "cai_without_reb",
         "orientation": "v",
         "showlegend": true,
         "type": "scatter",
         "x": [
          "2021-09-25T00:00:00",
          "2021-10-25T00:00:00",
          "2021-11-25T00:00:00",
          "2021-12-25T00:00:00",
          "2022-01-25T00:00:00",
          "2022-02-25T00:00:00",
          "2022-03-25T00:00:00",
          "2022-04-25T00:00:00",
          "2022-05-25T00:00:00"
         ],
         "xaxis": "x",
         "y": [
          0,
          0.004450566902475861,
          0.021750389991210487,
          0.019217272138996926,
          0.021611773708327463,
          0.019744536745535984,
          0.023087249965971182,
          0.023813993018818834,
          0.022893605237951836
         ],
         "yaxis": "y"
        }
       ],
       "layout": {
        "hoverdistance": 100,
        "hovermode": "x",
        "legend": {
         "title": {
          "text": ""
         },
         "tracegroupgap": 0
        },
        "margin": {
         "t": 60
        },
        "spikedistance": 1000,
        "template": {
         "data": {
          "bar": [
           {
            "error_x": {
             "color": "#2a3f5f"
            },
            "error_y": {
             "color": "#2a3f5f"
            },
            "marker": {
             "line": {
              "color": "white",
              "width": 0.5
             },
             "pattern": {
              "fillmode": "overlay",
              "size": 10,
              "solidity": 0.2
             }
            },
            "type": "bar"
           }
          ],
          "barpolar": [
           {
            "marker": {
             "line": {
              "color": "white",
              "width": 0.5
             },
             "pattern": {
              "fillmode": "overlay",
              "size": 10,
              "solidity": 0.2
             }
            },
            "type": "barpolar"
           }
          ],
          "carpet": [
           {
            "aaxis": {
             "endlinecolor": "#2a3f5f",
             "gridcolor": "#C8D4E3",
             "linecolor": "#C8D4E3",
             "minorgridcolor": "#C8D4E3",
             "startlinecolor": "#2a3f5f"
            },
            "baxis": {
             "endlinecolor": "#2a3f5f",
             "gridcolor": "#C8D4E3",
             "linecolor": "#C8D4E3",
             "minorgridcolor": "#C8D4E3",
             "startlinecolor": "#2a3f5f"
            },
            "type": "carpet"
           }
          ],
          "choropleth": [
           {
            "colorbar": {
             "outlinewidth": 0,
             "ticks": ""
            },
            "type": "choropleth"
           }
          ],
          "contour": [
           {
            "colorbar": {
             "outlinewidth": 0,
             "ticks": ""
            },
            "colorscale": [
             [
              0,
              "#0d0887"
             ],
             [
              0.1111111111111111,
              "#46039f"
             ],
             [
              0.2222222222222222,
              "#7201a8"
             ],
             [
              0.3333333333333333,
              "#9c179e"
             ],
             [
              0.4444444444444444,
              "#bd3786"
             ],
             [
              0.5555555555555556,
              "#d8576b"
             ],
             [
              0.6666666666666666,
              "#ed7953"
             ],
             [
              0.7777777777777778,
              "#fb9f3a"
             ],
             [
              0.8888888888888888,
              "#fdca26"
             ],
             [
              1,
              "#f0f921"
             ]
            ],
            "type": "contour"
           }
          ],
          "contourcarpet": [
           {
            "colorbar": {
             "outlinewidth": 0,
             "ticks": ""
            },
            "type": "contourcarpet"
           }
          ],
          "heatmap": [
           {
            "colorbar": {
             "outlinewidth": 0,
             "ticks": ""
            },
            "colorscale": [
             [
              0,
              "#0d0887"
             ],
             [
              0.1111111111111111,
              "#46039f"
             ],
             [
              0.2222222222222222,
              "#7201a8"
             ],
             [
              0.3333333333333333,
              "#9c179e"
             ],
             [
              0.4444444444444444,
              "#bd3786"
             ],
             [
              0.5555555555555556,
              "#d8576b"
             ],
             [
              0.6666666666666666,
              "#ed7953"
             ],
             [
              0.7777777777777778,
              "#fb9f3a"
             ],
             [
              0.8888888888888888,
              "#fdca26"
             ],
             [
              1,
              "#f0f921"
             ]
            ],
            "type": "heatmap"
           }
          ],
          "heatmapgl": [
           {
            "colorbar": {
             "outlinewidth": 0,
             "ticks": ""
            },
            "colorscale": [
             [
              0,
              "#0d0887"
             ],
             [
              0.1111111111111111,
              "#46039f"
             ],
             [
              0.2222222222222222,
              "#7201a8"
             ],
             [
              0.3333333333333333,
              "#9c179e"
             ],
             [
              0.4444444444444444,
              "#bd3786"
             ],
             [
              0.5555555555555556,
              "#d8576b"
             ],
             [
              0.6666666666666666,
              "#ed7953"
             ],
             [
              0.7777777777777778,
              "#fb9f3a"
             ],
             [
              0.8888888888888888,
              "#fdca26"
             ],
             [
              1,
              "#f0f921"
             ]
            ],
            "type": "heatmapgl"
           }
          ],
          "histogram": [
           {
            "marker": {
             "pattern": {
              "fillmode": "overlay",
              "size": 10,
              "solidity": 0.2
             }
            },
            "type": "histogram"
           }
          ],
          "histogram2d": [
           {
            "colorbar": {
             "outlinewidth": 0,
             "ticks": ""
            },
            "colorscale": [
             [
              0,
              "#0d0887"
             ],
             [
              0.1111111111111111,
              "#46039f"
             ],
             [
              0.2222222222222222,
              "#7201a8"
             ],
             [
              0.3333333333333333,
              "#9c179e"
             ],
             [
              0.4444444444444444,
              "#bd3786"
             ],
             [
              0.5555555555555556,
              "#d8576b"
             ],
             [
              0.6666666666666666,
              "#ed7953"
             ],
             [
              0.7777777777777778,
              "#fb9f3a"
             ],
             [
              0.8888888888888888,
              "#fdca26"
             ],
             [
              1,
              "#f0f921"
             ]
            ],
            "type": "histogram2d"
           }
          ],
          "histogram2dcontour": [
           {
            "colorbar": {
             "outlinewidth": 0,
             "ticks": ""
            },
            "colorscale": [
             [
              0,
              "#0d0887"
             ],
             [
              0.1111111111111111,
              "#46039f"
             ],
             [
              0.2222222222222222,
              "#7201a8"
             ],
             [
              0.3333333333333333,
              "#9c179e"
             ],
             [
              0.4444444444444444,
              "#bd3786"
             ],
             [
              0.5555555555555556,
              "#d8576b"
             ],
             [
              0.6666666666666666,
              "#ed7953"
             ],
             [
              0.7777777777777778,
              "#fb9f3a"
             ],
             [
              0.8888888888888888,
              "#fdca26"
             ],
             [
              1,
              "#f0f921"
             ]
            ],
            "type": "histogram2dcontour"
           }
          ],
          "mesh3d": [
           {
            "colorbar": {
             "outlinewidth": 0,
             "ticks": ""
            },
            "type": "mesh3d"
           }
          ],
          "parcoords": [
           {
            "line": {
             "colorbar": {
              "outlinewidth": 0,
              "ticks": ""
             }
            },
            "type": "parcoords"
           }
          ],
          "pie": [
           {
            "automargin": true,
            "type": "pie"
           }
          ],
          "scatter": [
           {
            "marker": {
             "colorbar": {
              "outlinewidth": 0,
              "ticks": ""
             }
            },
            "type": "scatter"
           }
          ],
          "scatter3d": [
           {
            "line": {
             "colorbar": {
              "outlinewidth": 0,
              "ticks": ""
             }
            },
            "marker": {
             "colorbar": {
              "outlinewidth": 0,
              "ticks": ""
             }
            },
            "type": "scatter3d"
           }
          ],
          "scattercarpet": [
           {
            "marker": {
             "colorbar": {
              "outlinewidth": 0,
              "ticks": ""
             }
            },
            "type": "scattercarpet"
           }
          ],
          "scattergeo": [
           {
            "marker": {
             "colorbar": {
              "outlinewidth": 0,
              "ticks": ""
             }
            },
            "type": "scattergeo"
           }
          ],
          "scattergl": [
           {
            "marker": {
             "colorbar": {
              "outlinewidth": 0,
              "ticks": ""
             }
            },
            "type": "scattergl"
           }
          ],
          "scattermapbox": [
           {
            "marker": {
             "colorbar": {
              "outlinewidth": 0,
              "ticks": ""
             }
            },
            "type": "scattermapbox"
           }
          ],
          "scatterpolar": [
           {
            "marker": {
             "colorbar": {
              "outlinewidth": 0,
              "ticks": ""
             }
            },
            "type": "scatterpolar"
           }
          ],
          "scatterpolargl": [
           {
            "marker": {
             "colorbar": {
              "outlinewidth": 0,
              "ticks": ""
             }
            },
            "type": "scatterpolargl"
           }
          ],
          "scatterternary": [
           {
            "marker": {
             "colorbar": {
              "outlinewidth": 0,
              "ticks": ""
             }
            },
            "type": "scatterternary"
           }
          ],
          "surface": [
           {
            "colorbar": {
             "outlinewidth": 0,
             "ticks": ""
            },
            "colorscale": [
             [
              0,
              "#0d0887"
             ],
             [
              0.1111111111111111,
              "#46039f"
             ],
             [
              0.2222222222222222,
              "#7201a8"
             ],
             [
              0.3333333333333333,
              "#9c179e"
             ],
             [
              0.4444444444444444,
              "#bd3786"
             ],
             [
              0.5555555555555556,
              "#d8576b"
             ],
             [
              0.6666666666666666,
              "#ed7953"
             ],
             [
              0.7777777777777778,
              "#fb9f3a"
             ],
             [
              0.8888888888888888,
              "#fdca26"
             ],
             [
              1,
              "#f0f921"
             ]
            ],
            "type": "surface"
           }
          ],
          "table": [
           {
            "cells": {
             "fill": {
              "color": "#EBF0F8"
             },
             "line": {
              "color": "white"
             }
            },
            "header": {
             "fill": {
              "color": "#C8D4E3"
             },
             "line": {
              "color": "white"
             }
            },
            "type": "table"
           }
          ]
         },
         "layout": {
          "annotationdefaults": {
           "arrowcolor": "#2a3f5f",
           "arrowhead": 0,
           "arrowwidth": 1
          },
          "autotypenumbers": "strict",
          "coloraxis": {
           "colorbar": {
            "outlinewidth": 0,
            "ticks": ""
           }
          },
          "colorscale": {
           "diverging": [
            [
             0,
             "#8e0152"
            ],
            [
             0.1,
             "#c51b7d"
            ],
            [
             0.2,
             "#de77ae"
            ],
            [
             0.3,
             "#f1b6da"
            ],
            [
             0.4,
             "#fde0ef"
            ],
            [
             0.5,
             "#f7f7f7"
            ],
            [
             0.6,
             "#e6f5d0"
            ],
            [
             0.7,
             "#b8e186"
            ],
            [
             0.8,
             "#7fbc41"
            ],
            [
             0.9,
             "#4d9221"
            ],
            [
             1,
             "#276419"
            ]
           ],
           "sequential": [
            [
             0,
             "#0d0887"
            ],
            [
             0.1111111111111111,
             "#46039f"
            ],
            [
             0.2222222222222222,
             "#7201a8"
            ],
            [
             0.3333333333333333,
             "#9c179e"
            ],
            [
             0.4444444444444444,
             "#bd3786"
            ],
            [
             0.5555555555555556,
             "#d8576b"
            ],
            [
             0.6666666666666666,
             "#ed7953"
            ],
            [
             0.7777777777777778,
             "#fb9f3a"
            ],
            [
             0.8888888888888888,
             "#fdca26"
            ],
            [
             1,
             "#f0f921"
            ]
           ],
           "sequentialminus": [
            [
             0,
             "#0d0887"
            ],
            [
             0.1111111111111111,
             "#46039f"
            ],
            [
             0.2222222222222222,
             "#7201a8"
            ],
            [
             0.3333333333333333,
             "#9c179e"
            ],
            [
             0.4444444444444444,
             "#bd3786"
            ],
            [
             0.5555555555555556,
             "#d8576b"
            ],
            [
             0.6666666666666666,
             "#ed7953"
            ],
            [
             0.7777777777777778,
             "#fb9f3a"
            ],
            [
             0.8888888888888888,
             "#fdca26"
            ],
            [
             1,
             "#f0f921"
            ]
           ]
          },
          "colorway": [
           "#636efa",
           "#EF553B",
           "#00cc96",
           "#ab63fa",
           "#FFA15A",
           "#19d3f3",
           "#FF6692",
           "#B6E880",
           "#FF97FF",
           "#FECB52"
          ],
          "font": {
           "color": "#2a3f5f"
          },
          "geo": {
           "bgcolor": "white",
           "lakecolor": "white",
           "landcolor": "white",
           "showlakes": true,
           "showland": true,
           "subunitcolor": "#C8D4E3"
          },
          "hoverlabel": {
           "align": "left"
          },
          "hovermode": "closest",
          "mapbox": {
           "style": "light"
          },
          "paper_bgcolor": "white",
          "plot_bgcolor": "white",
          "polar": {
           "angularaxis": {
            "gridcolor": "#EBF0F8",
            "linecolor": "#EBF0F8",
            "ticks": ""
           },
           "bgcolor": "white",
           "radialaxis": {
            "gridcolor": "#EBF0F8",
            "linecolor": "#EBF0F8",
            "ticks": ""
           }
          },
          "scene": {
           "xaxis": {
            "backgroundcolor": "white",
            "gridcolor": "#DFE8F3",
            "gridwidth": 2,
            "linecolor": "#EBF0F8",
            "showbackground": true,
            "ticks": "",
            "zerolinecolor": "#EBF0F8"
           },
           "yaxis": {
            "backgroundcolor": "white",
            "gridcolor": "#DFE8F3",
            "gridwidth": 2,
            "linecolor": "#EBF0F8",
            "showbackground": true,
            "ticks": "",
            "zerolinecolor": "#EBF0F8"
           },
           "zaxis": {
            "backgroundcolor": "white",
            "gridcolor": "#DFE8F3",
            "gridwidth": 2,
            "linecolor": "#EBF0F8",
            "showbackground": true,
            "ticks": "",
            "zerolinecolor": "#EBF0F8"
           }
          },
          "shapedefaults": {
           "line": {
            "color": "#2a3f5f"
           }
          },
          "ternary": {
           "aaxis": {
            "gridcolor": "#DFE8F3",
            "linecolor": "#A2B1C6",
            "ticks": ""
           },
           "baxis": {
            "gridcolor": "#DFE8F3",
            "linecolor": "#A2B1C6",
            "ticks": ""
           },
           "bgcolor": "white",
           "caxis": {
            "gridcolor": "#DFE8F3",
            "linecolor": "#A2B1C6",
            "ticks": ""
           }
          },
          "title": {
           "x": 0.05
          },
          "xaxis": {
           "automargin": true,
           "gridcolor": "#EBF0F8",
           "linecolor": "#EBF0F8",
           "ticks": "",
           "title": {
            "standoff": 15
           },
           "zerolinecolor": "#EBF0F8",
           "zerolinewidth": 2
          },
          "yaxis": {
           "automargin": true,
           "gridcolor": "#EBF0F8",
           "linecolor": "#EBF0F8",
           "ticks": "",
           "title": {
            "standoff": 15
           },
           "zerolinecolor": "#EBF0F8",
           "zerolinewidth": 2
          }
         }
        },
        "title": {
         "text": "Tracking error"
        },
        "xaxis": {
         "anchor": "y",
         "domain": [
          0,
          1
         ],
         "showspikes": true,
         "spikecolor": "#999999",
         "spikedash": "dot",
         "spikemode": "across",
         "spikethickness": 2,
         "title": {
          "text": "date"
         }
        },
        "yaxis": {
         "anchor": "x",
         "domain": [
          0,
          1
         ],
         "tickformat": ".2%",
         "title": {
          "text": "tracking error, %"
         }
        }
       }
      },
      "text/html": [
       "<div>                            <div id=\"054afe49-0f97-43f5-a2b8-0aee185ffa93\" class=\"plotly-graph-div\" style=\"height:525px; width:100%;\"></div>            <script type=\"text/javascript\">                require([\"plotly\"], function(Plotly) {                    window.PLOTLYENV=window.PLOTLYENV || {};                                    if (document.getElementById(\"054afe49-0f97-43f5-a2b8-0aee185ffa93\")) {                    Plotly.newPlot(                        \"054afe49-0f97-43f5-a2b8-0aee185ffa93\",                        [{\"hovertemplate\":\"%{y}\",\"legendgroup\":\"cai\",\"line\":{\"color\":\"gold\",\"dash\":\"solid\"},\"marker\":{\"symbol\":\"circle\"},\"mode\":\"lines+markers\",\"name\":\"cai\",\"orientation\":\"v\",\"showlegend\":true,\"x\":[\"2021-09-25T00:00:00\",\"2021-10-25T00:00:00\",\"2021-11-25T00:00:00\",\"2021-12-25T00:00:00\",\"2022-01-25T00:00:00\",\"2022-02-25T00:00:00\",\"2022-03-25T00:00:00\",\"2022-04-25T00:00:00\",\"2022-05-25T00:00:00\"],\"xaxis\":\"x\",\"y\":[0.0,0.005472025873570485,0.004903768618795444,0.004267261041602006,0.004256889125414184,0.003976161130133303,0.003936617451674181,0.003694724970364461,0.0035165255627354875],\"yaxis\":\"y\",\"type\":\"scatter\"},{\"hovertemplate\":\"%{y}\",\"legendgroup\":\"cai_without_reb\",\"line\":{\"color\":\"#1f77b4\",\"dash\":\"solid\"},\"marker\":{\"symbol\":\"circle\"},\"mode\":\"lines+markers\",\"name\":\"cai_without_reb\",\"orientation\":\"v\",\"showlegend\":true,\"x\":[\"2021-09-25T00:00:00\",\"2021-10-25T00:00:00\",\"2021-11-25T00:00:00\",\"2021-12-25T00:00:00\",\"2022-01-25T00:00:00\",\"2022-02-25T00:00:00\",\"2022-03-25T00:00:00\",\"2022-04-25T00:00:00\",\"2022-05-25T00:00:00\"],\"xaxis\":\"x\",\"y\":[0.0,0.004450566902475861,0.021750389991210487,0.019217272138996926,0.021611773708327463,0.019744536745535984,0.023087249965971182,0.023813993018818834,0.022893605237951836],\"yaxis\":\"y\",\"type\":\"scatter\"}],                        {\"template\":{\"data\":{\"barpolar\":[{\"marker\":{\"line\":{\"color\":\"white\",\"width\":0.5},\"pattern\":{\"fillmode\":\"overlay\",\"size\":10,\"solidity\":0.2}},\"type\":\"barpolar\"}],\"bar\":[{\"error_x\":{\"color\":\"#2a3f5f\"},\"error_y\":{\"color\":\"#2a3f5f\"},\"marker\":{\"line\":{\"color\":\"white\",\"width\":0.5},\"pattern\":{\"fillmode\":\"overlay\",\"size\":10,\"solidity\":0.2}},\"type\":\"bar\"}],\"carpet\":[{\"aaxis\":{\"endlinecolor\":\"#2a3f5f\",\"gridcolor\":\"#C8D4E3\",\"linecolor\":\"#C8D4E3\",\"minorgridcolor\":\"#C8D4E3\",\"startlinecolor\":\"#2a3f5f\"},\"baxis\":{\"endlinecolor\":\"#2a3f5f\",\"gridcolor\":\"#C8D4E3\",\"linecolor\":\"#C8D4E3\",\"minorgridcolor\":\"#C8D4E3\",\"startlinecolor\":\"#2a3f5f\"},\"type\":\"carpet\"}],\"choropleth\":[{\"colorbar\":{\"outlinewidth\":0,\"ticks\":\"\"},\"type\":\"choropleth\"}],\"contourcarpet\":[{\"colorbar\":{\"outlinewidth\":0,\"ticks\":\"\"},\"type\":\"contourcarpet\"}],\"contour\":[{\"colorbar\":{\"outlinewidth\":0,\"ticks\":\"\"},\"colorscale\":[[0.0,\"#0d0887\"],[0.1111111111111111,\"#46039f\"],[0.2222222222222222,\"#7201a8\"],[0.3333333333333333,\"#9c179e\"],[0.4444444444444444,\"#bd3786\"],[0.5555555555555556,\"#d8576b\"],[0.6666666666666666,\"#ed7953\"],[0.7777777777777778,\"#fb9f3a\"],[0.8888888888888888,\"#fdca26\"],[1.0,\"#f0f921\"]],\"type\":\"contour\"}],\"heatmapgl\":[{\"colorbar\":{\"outlinewidth\":0,\"ticks\":\"\"},\"colorscale\":[[0.0,\"#0d0887\"],[0.1111111111111111,\"#46039f\"],[0.2222222222222222,\"#7201a8\"],[0.3333333333333333,\"#9c179e\"],[0.4444444444444444,\"#bd3786\"],[0.5555555555555556,\"#d8576b\"],[0.6666666666666666,\"#ed7953\"],[0.7777777777777778,\"#fb9f3a\"],[0.8888888888888888,\"#fdca26\"],[1.0,\"#f0f921\"]],\"type\":\"heatmapgl\"}],\"heatmap\":[{\"colorbar\":{\"outlinewidth\":0,\"ticks\":\"\"},\"colorscale\":[[0.0,\"#0d0887\"],[0.1111111111111111,\"#46039f\"],[0.2222222222222222,\"#7201a8\"],[0.3333333333333333,\"#9c179e\"],[0.4444444444444444,\"#bd3786\"],[0.5555555555555556,\"#d8576b\"],[0.6666666666666666,\"#ed7953\"],[0.7777777777777778,\"#fb9f3a\"],[0.8888888888888888,\"#fdca26\"],[1.0,\"#f0f921\"]],\"type\":\"heatmap\"}],\"histogram2dcontour\":[{\"colorbar\":{\"outlinewidth\":0,\"ticks\":\"\"},\"colorscale\":[[0.0,\"#0d0887\"],[0.1111111111111111,\"#46039f\"],[0.2222222222222222,\"#7201a8\"],[0.3333333333333333,\"#9c179e\"],[0.4444444444444444,\"#bd3786\"],[0.5555555555555556,\"#d8576b\"],[0.6666666666666666,\"#ed7953\"],[0.7777777777777778,\"#fb9f3a\"],[0.8888888888888888,\"#fdca26\"],[1.0,\"#f0f921\"]],\"type\":\"histogram2dcontour\"}],\"histogram2d\":[{\"colorbar\":{\"outlinewidth\":0,\"ticks\":\"\"},\"colorscale\":[[0.0,\"#0d0887\"],[0.1111111111111111,\"#46039f\"],[0.2222222222222222,\"#7201a8\"],[0.3333333333333333,\"#9c179e\"],[0.4444444444444444,\"#bd3786\"],[0.5555555555555556,\"#d8576b\"],[0.6666666666666666,\"#ed7953\"],[0.7777777777777778,\"#fb9f3a\"],[0.8888888888888888,\"#fdca26\"],[1.0,\"#f0f921\"]],\"type\":\"histogram2d\"}],\"histogram\":[{\"marker\":{\"pattern\":{\"fillmode\":\"overlay\",\"size\":10,\"solidity\":0.2}},\"type\":\"histogram\"}],\"mesh3d\":[{\"colorbar\":{\"outlinewidth\":0,\"ticks\":\"\"},\"type\":\"mesh3d\"}],\"parcoords\":[{\"line\":{\"colorbar\":{\"outlinewidth\":0,\"ticks\":\"\"}},\"type\":\"parcoords\"}],\"pie\":[{\"automargin\":true,\"type\":\"pie\"}],\"scatter3d\":[{\"line\":{\"colorbar\":{\"outlinewidth\":0,\"ticks\":\"\"}},\"marker\":{\"colorbar\":{\"outlinewidth\":0,\"ticks\":\"\"}},\"type\":\"scatter3d\"}],\"scattercarpet\":[{\"marker\":{\"colorbar\":{\"outlinewidth\":0,\"ticks\":\"\"}},\"type\":\"scattercarpet\"}],\"scattergeo\":[{\"marker\":{\"colorbar\":{\"outlinewidth\":0,\"ticks\":\"\"}},\"type\":\"scattergeo\"}],\"scattergl\":[{\"marker\":{\"colorbar\":{\"outlinewidth\":0,\"ticks\":\"\"}},\"type\":\"scattergl\"}],\"scattermapbox\":[{\"marker\":{\"colorbar\":{\"outlinewidth\":0,\"ticks\":\"\"}},\"type\":\"scattermapbox\"}],\"scatterpolargl\":[{\"marker\":{\"colorbar\":{\"outlinewidth\":0,\"ticks\":\"\"}},\"type\":\"scatterpolargl\"}],\"scatterpolar\":[{\"marker\":{\"colorbar\":{\"outlinewidth\":0,\"ticks\":\"\"}},\"type\":\"scatterpolar\"}],\"scatter\":[{\"marker\":{\"colorbar\":{\"outlinewidth\":0,\"ticks\":\"\"}},\"type\":\"scatter\"}],\"scatterternary\":[{\"marker\":{\"colorbar\":{\"outlinewidth\":0,\"ticks\":\"\"}},\"type\":\"scatterternary\"}],\"surface\":[{\"colorbar\":{\"outlinewidth\":0,\"ticks\":\"\"},\"colorscale\":[[0.0,\"#0d0887\"],[0.1111111111111111,\"#46039f\"],[0.2222222222222222,\"#7201a8\"],[0.3333333333333333,\"#9c179e\"],[0.4444444444444444,\"#bd3786\"],[0.5555555555555556,\"#d8576b\"],[0.6666666666666666,\"#ed7953\"],[0.7777777777777778,\"#fb9f3a\"],[0.8888888888888888,\"#fdca26\"],[1.0,\"#f0f921\"]],\"type\":\"surface\"}],\"table\":[{\"cells\":{\"fill\":{\"color\":\"#EBF0F8\"},\"line\":{\"color\":\"white\"}},\"header\":{\"fill\":{\"color\":\"#C8D4E3\"},\"line\":{\"color\":\"white\"}},\"type\":\"table\"}]},\"layout\":{\"annotationdefaults\":{\"arrowcolor\":\"#2a3f5f\",\"arrowhead\":0,\"arrowwidth\":1},\"autotypenumbers\":\"strict\",\"coloraxis\":{\"colorbar\":{\"outlinewidth\":0,\"ticks\":\"\"}},\"colorscale\":{\"diverging\":[[0,\"#8e0152\"],[0.1,\"#c51b7d\"],[0.2,\"#de77ae\"],[0.3,\"#f1b6da\"],[0.4,\"#fde0ef\"],[0.5,\"#f7f7f7\"],[0.6,\"#e6f5d0\"],[0.7,\"#b8e186\"],[0.8,\"#7fbc41\"],[0.9,\"#4d9221\"],[1,\"#276419\"]],\"sequential\":[[0.0,\"#0d0887\"],[0.1111111111111111,\"#46039f\"],[0.2222222222222222,\"#7201a8\"],[0.3333333333333333,\"#9c179e\"],[0.4444444444444444,\"#bd3786\"],[0.5555555555555556,\"#d8576b\"],[0.6666666666666666,\"#ed7953\"],[0.7777777777777778,\"#fb9f3a\"],[0.8888888888888888,\"#fdca26\"],[1.0,\"#f0f921\"]],\"sequentialminus\":[[0.0,\"#0d0887\"],[0.1111111111111111,\"#46039f\"],[0.2222222222222222,\"#7201a8\"],[0.3333333333333333,\"#9c179e\"],[0.4444444444444444,\"#bd3786\"],[0.5555555555555556,\"#d8576b\"],[0.6666666666666666,\"#ed7953\"],[0.7777777777777778,\"#fb9f3a\"],[0.8888888888888888,\"#fdca26\"],[1.0,\"#f0f921\"]]},\"colorway\":[\"#636efa\",\"#EF553B\",\"#00cc96\",\"#ab63fa\",\"#FFA15A\",\"#19d3f3\",\"#FF6692\",\"#B6E880\",\"#FF97FF\",\"#FECB52\"],\"font\":{\"color\":\"#2a3f5f\"},\"geo\":{\"bgcolor\":\"white\",\"lakecolor\":\"white\",\"landcolor\":\"white\",\"showlakes\":true,\"showland\":true,\"subunitcolor\":\"#C8D4E3\"},\"hoverlabel\":{\"align\":\"left\"},\"hovermode\":\"closest\",\"mapbox\":{\"style\":\"light\"},\"paper_bgcolor\":\"white\",\"plot_bgcolor\":\"white\",\"polar\":{\"angularaxis\":{\"gridcolor\":\"#EBF0F8\",\"linecolor\":\"#EBF0F8\",\"ticks\":\"\"},\"bgcolor\":\"white\",\"radialaxis\":{\"gridcolor\":\"#EBF0F8\",\"linecolor\":\"#EBF0F8\",\"ticks\":\"\"}},\"scene\":{\"xaxis\":{\"backgroundcolor\":\"white\",\"gridcolor\":\"#DFE8F3\",\"gridwidth\":2,\"linecolor\":\"#EBF0F8\",\"showbackground\":true,\"ticks\":\"\",\"zerolinecolor\":\"#EBF0F8\"},\"yaxis\":{\"backgroundcolor\":\"white\",\"gridcolor\":\"#DFE8F3\",\"gridwidth\":2,\"linecolor\":\"#EBF0F8\",\"showbackground\":true,\"ticks\":\"\",\"zerolinecolor\":\"#EBF0F8\"},\"zaxis\":{\"backgroundcolor\":\"white\",\"gridcolor\":\"#DFE8F3\",\"gridwidth\":2,\"linecolor\":\"#EBF0F8\",\"showbackground\":true,\"ticks\":\"\",\"zerolinecolor\":\"#EBF0F8\"}},\"shapedefaults\":{\"line\":{\"color\":\"#2a3f5f\"}},\"ternary\":{\"aaxis\":{\"gridcolor\":\"#DFE8F3\",\"linecolor\":\"#A2B1C6\",\"ticks\":\"\"},\"baxis\":{\"gridcolor\":\"#DFE8F3\",\"linecolor\":\"#A2B1C6\",\"ticks\":\"\"},\"bgcolor\":\"white\",\"caxis\":{\"gridcolor\":\"#DFE8F3\",\"linecolor\":\"#A2B1C6\",\"ticks\":\"\"}},\"title\":{\"x\":0.05},\"xaxis\":{\"automargin\":true,\"gridcolor\":\"#EBF0F8\",\"linecolor\":\"#EBF0F8\",\"ticks\":\"\",\"title\":{\"standoff\":15},\"zerolinecolor\":\"#EBF0F8\",\"zerolinewidth\":2},\"yaxis\":{\"automargin\":true,\"gridcolor\":\"#EBF0F8\",\"linecolor\":\"#EBF0F8\",\"ticks\":\"\",\"title\":{\"standoff\":15},\"zerolinecolor\":\"#EBF0F8\",\"zerolinewidth\":2}}},\"xaxis\":{\"anchor\":\"y\",\"domain\":[0.0,1.0],\"title\":{\"text\":\"date\"},\"showspikes\":true,\"spikethickness\":2,\"spikedash\":\"dot\",\"spikecolor\":\"#999999\",\"spikemode\":\"across\"},\"yaxis\":{\"anchor\":\"x\",\"domain\":[0.0,1.0],\"title\":{\"text\":\"tracking error, %\"},\"tickformat\":\".2%\"},\"legend\":{\"title\":{\"text\":\"\"},\"tracegroupgap\":0},\"margin\":{\"t\":60},\"hovermode\":\"x\",\"hoverdistance\":100,\"spikedistance\":1000,\"title\":{\"text\":\"Tracking error\"}},                        {\"responsive\": true}                    ).then(function(){\n",
       "                            \n",
       "var gd = document.getElementById('054afe49-0f97-43f5-a2b8-0aee185ffa93');\n",
       "var x = new MutationObserver(function (mutations, observer) {{\n",
       "        var display = window.getComputedStyle(gd).display;\n",
       "        if (!display || display === 'none') {{\n",
       "            console.log([gd, 'removed!']);\n",
       "            Plotly.purge(gd);\n",
       "            observer.disconnect();\n",
       "        }}\n",
       "}});\n",
       "\n",
       "// Listen for the removal of the full notebook cells\n",
       "var notebookContainer = gd.closest('#notebook-container');\n",
       "if (notebookContainer) {{\n",
       "    x.observe(notebookContainer, {childList: true});\n",
       "}}\n",
       "\n",
       "// Listen for the clearing of the current output cell\n",
       "var outputEl = gd.closest('.output');\n",
       "if (outputEl) {{\n",
       "    x.observe(outputEl, {childList: true});\n",
       "}}\n",
       "\n",
       "                        })                };                });            </script>        </div>"
      ]
     },
     "metadata": {},
     "output_type": "display_data"
    },
    {
     "data": {
      "application/vnd.plotly.v1+json": {
       "config": {
        "plotlyServerURL": "https://plot.ly"
       },
       "data": [
        {
         "hovertemplate": "%{y}",
         "legendgroup": "cai",
         "line": {
          "color": "gold",
          "dash": "solid"
         },
         "marker": {
          "symbol": "circle"
         },
         "mode": "lines",
         "name": "cai",
         "showlegend": true,
         "type": "scattergl",
         "x": [
          "2021-08-26T00:00:00",
          "2021-08-27T00:00:00",
          "2021-08-28T00:00:00",
          "2021-08-29T00:00:00",
          "2021-08-30T00:00:00",
          "2021-08-31T00:00:00",
          "2021-09-01T00:00:00",
          "2021-09-02T00:00:00",
          "2021-09-03T00:00:00",
          "2021-09-04T00:00:00",
          "2021-09-05T00:00:00",
          "2021-09-06T00:00:00",
          "2021-09-07T00:00:00",
          "2021-09-08T00:00:00",
          "2021-09-09T00:00:00",
          "2021-09-10T00:00:00",
          "2021-09-11T00:00:00",
          "2021-09-12T00:00:00",
          "2021-09-13T00:00:00",
          "2021-09-14T00:00:00",
          "2021-09-15T00:00:00",
          "2021-09-16T00:00:00",
          "2021-09-17T00:00:00",
          "2021-09-18T00:00:00",
          "2021-09-19T00:00:00",
          "2021-09-20T00:00:00",
          "2021-09-21T00:00:00",
          "2021-09-22T00:00:00",
          "2021-09-23T00:00:00",
          "2021-09-24T00:00:00",
          "2021-09-25T00:00:00",
          "2021-09-26T00:00:00",
          "2021-09-27T00:00:00",
          "2021-09-28T00:00:00",
          "2021-09-29T00:00:00",
          "2021-09-30T00:00:00",
          "2021-10-01T00:00:00",
          "2021-10-02T00:00:00",
          "2021-10-03T00:00:00",
          "2021-10-04T00:00:00",
          "2021-10-05T00:00:00",
          "2021-10-06T00:00:00",
          "2021-10-07T00:00:00",
          "2021-10-08T00:00:00",
          "2021-10-09T00:00:00",
          "2021-10-10T00:00:00",
          "2021-10-11T00:00:00",
          "2021-10-12T00:00:00",
          "2021-10-13T00:00:00",
          "2021-10-14T00:00:00",
          "2021-10-15T00:00:00",
          "2021-10-16T00:00:00",
          "2021-10-17T00:00:00",
          "2021-10-18T00:00:00",
          "2021-10-19T00:00:00",
          "2021-10-20T00:00:00",
          "2021-10-21T00:00:00",
          "2021-10-22T00:00:00",
          "2021-10-23T00:00:00",
          "2021-10-24T00:00:00",
          "2021-10-25T00:00:00",
          "2021-10-26T00:00:00",
          "2021-10-27T00:00:00",
          "2021-10-28T00:00:00",
          "2021-10-29T00:00:00",
          "2021-10-30T00:00:00",
          "2021-10-31T00:00:00",
          "2021-11-01T00:00:00",
          "2021-11-02T00:00:00",
          "2021-11-03T00:00:00",
          "2021-11-04T00:00:00",
          "2021-11-05T00:00:00",
          "2021-11-06T00:00:00",
          "2021-11-07T00:00:00",
          "2021-11-08T00:00:00",
          "2021-11-09T00:00:00",
          "2021-11-10T00:00:00",
          "2021-11-11T00:00:00",
          "2021-11-12T00:00:00",
          "2021-11-13T00:00:00",
          "2021-11-14T00:00:00",
          "2021-11-15T00:00:00",
          "2021-11-16T00:00:00",
          "2021-11-17T00:00:00",
          "2021-11-18T00:00:00",
          "2021-11-19T00:00:00",
          "2021-11-20T00:00:00",
          "2021-11-21T00:00:00",
          "2021-11-22T00:00:00",
          "2021-11-23T00:00:00",
          "2021-11-24T00:00:00",
          "2021-11-25T00:00:00",
          "2021-11-26T00:00:00",
          "2021-11-27T00:00:00",
          "2021-11-28T00:00:00",
          "2021-11-29T00:00:00",
          "2021-11-30T00:00:00",
          "2021-12-01T00:00:00",
          "2021-12-02T00:00:00",
          "2021-12-03T00:00:00",
          "2021-12-04T00:00:00",
          "2021-12-05T00:00:00",
          "2021-12-06T00:00:00",
          "2021-12-07T00:00:00",
          "2021-12-08T00:00:00",
          "2021-12-09T00:00:00",
          "2021-12-10T00:00:00",
          "2021-12-11T00:00:00",
          "2021-12-12T00:00:00",
          "2021-12-13T00:00:00",
          "2021-12-14T00:00:00",
          "2021-12-15T00:00:00",
          "2021-12-16T00:00:00",
          "2021-12-17T00:00:00",
          "2021-12-18T00:00:00",
          "2021-12-19T00:00:00",
          "2021-12-20T00:00:00",
          "2021-12-21T00:00:00",
          "2021-12-22T00:00:00",
          "2021-12-23T00:00:00",
          "2021-12-24T00:00:00",
          "2021-12-25T00:00:00",
          "2021-12-26T00:00:00",
          "2021-12-27T00:00:00",
          "2021-12-28T00:00:00",
          "2021-12-29T00:00:00",
          "2021-12-30T00:00:00",
          "2021-12-31T00:00:00",
          "2022-01-01T00:00:00",
          "2022-01-02T00:00:00",
          "2022-01-03T00:00:00",
          "2022-01-04T00:00:00",
          "2022-01-05T00:00:00",
          "2022-01-06T00:00:00",
          "2022-01-07T00:00:00",
          "2022-01-08T00:00:00",
          "2022-01-09T00:00:00",
          "2022-01-10T00:00:00",
          "2022-01-11T00:00:00",
          "2022-01-12T00:00:00",
          "2022-01-13T00:00:00",
          "2022-01-14T00:00:00",
          "2022-01-15T00:00:00",
          "2022-01-16T00:00:00",
          "2022-01-17T00:00:00",
          "2022-01-18T00:00:00",
          "2022-01-19T00:00:00",
          "2022-01-20T00:00:00",
          "2022-01-21T00:00:00",
          "2022-01-22T00:00:00",
          "2022-01-23T00:00:00",
          "2022-01-24T00:00:00",
          "2022-01-25T00:00:00",
          "2022-01-26T00:00:00",
          "2022-01-27T00:00:00",
          "2022-01-28T00:00:00",
          "2022-01-29T00:00:00",
          "2022-01-30T00:00:00",
          "2022-01-31T00:00:00",
          "2022-02-01T00:00:00",
          "2022-02-02T00:00:00",
          "2022-02-03T00:00:00",
          "2022-02-04T00:00:00",
          "2022-02-05T00:00:00",
          "2022-02-06T00:00:00",
          "2022-02-07T00:00:00",
          "2022-02-08T00:00:00",
          "2022-02-09T00:00:00",
          "2022-02-10T00:00:00",
          "2022-02-11T00:00:00",
          "2022-02-12T00:00:00",
          "2022-02-13T00:00:00",
          "2022-02-14T00:00:00",
          "2022-02-15T00:00:00",
          "2022-02-16T00:00:00",
          "2022-02-17T00:00:00",
          "2022-02-18T00:00:00",
          "2022-02-19T00:00:00",
          "2022-02-20T00:00:00",
          "2022-02-21T00:00:00",
          "2022-02-22T00:00:00",
          "2022-02-23T00:00:00",
          "2022-02-24T00:00:00",
          "2022-02-25T00:00:00",
          "2022-02-26T00:00:00",
          "2022-02-27T00:00:00",
          "2022-02-28T00:00:00",
          "2022-03-01T00:00:00",
          "2022-03-02T00:00:00",
          "2022-03-03T00:00:00",
          "2022-03-04T00:00:00",
          "2022-03-05T00:00:00",
          "2022-03-06T00:00:00",
          "2022-03-07T00:00:00",
          "2022-03-08T00:00:00",
          "2022-03-09T00:00:00",
          "2022-03-10T00:00:00",
          "2022-03-11T00:00:00",
          "2022-03-12T00:00:00",
          "2022-03-13T00:00:00",
          "2022-03-14T00:00:00",
          "2022-03-15T00:00:00",
          "2022-03-16T00:00:00",
          "2022-03-17T00:00:00",
          "2022-03-18T00:00:00",
          "2022-03-19T00:00:00",
          "2022-03-20T00:00:00",
          "2022-03-21T00:00:00",
          "2022-03-22T00:00:00",
          "2022-03-23T00:00:00",
          "2022-03-24T00:00:00",
          "2022-03-25T00:00:00",
          "2022-03-26T00:00:00",
          "2022-03-27T00:00:00",
          "2022-03-28T00:00:00",
          "2022-03-29T00:00:00",
          "2022-03-30T00:00:00",
          "2022-03-31T00:00:00",
          "2022-04-01T00:00:00",
          "2022-04-02T00:00:00",
          "2022-04-03T00:00:00",
          "2022-04-04T00:00:00",
          "2022-04-05T00:00:00",
          "2022-04-06T00:00:00",
          "2022-04-07T00:00:00",
          "2022-04-08T00:00:00",
          "2022-04-09T00:00:00",
          "2022-04-10T00:00:00",
          "2022-04-11T00:00:00",
          "2022-04-12T00:00:00",
          "2022-04-13T00:00:00",
          "2022-04-14T00:00:00",
          "2022-04-15T00:00:00",
          "2022-04-16T00:00:00",
          "2022-04-17T00:00:00",
          "2022-04-18T00:00:00",
          "2022-04-19T00:00:00",
          "2022-04-20T00:00:00",
          "2022-04-21T00:00:00",
          "2022-04-22T00:00:00",
          "2022-04-23T00:00:00",
          "2022-04-24T00:00:00",
          "2022-04-25T00:00:00",
          "2022-04-26T00:00:00",
          "2022-04-27T00:00:00",
          "2022-04-28T00:00:00",
          "2022-04-29T00:00:00",
          "2022-04-30T00:00:00",
          "2022-05-01T00:00:00",
          "2022-05-02T00:00:00",
          "2022-05-03T00:00:00",
          "2022-05-04T00:00:00",
          "2022-05-05T00:00:00",
          "2022-05-06T00:00:00",
          "2022-05-07T00:00:00",
          "2022-05-08T00:00:00",
          "2022-05-09T00:00:00",
          "2022-05-10T00:00:00",
          "2022-05-11T00:00:00",
          "2022-05-12T00:00:00",
          "2022-05-13T00:00:00",
          "2022-05-14T00:00:00",
          "2022-05-15T00:00:00",
          "2022-05-16T00:00:00",
          "2022-05-17T00:00:00",
          "2022-05-18T00:00:00",
          "2022-05-19T00:00:00",
          "2022-05-20T00:00:00",
          "2022-05-21T00:00:00",
          "2022-05-22T00:00:00",
          "2022-05-23T00:00:00",
          "2022-05-24T00:00:00",
          "2022-05-25T00:00:00",
          "2022-05-26T00:00:00",
          "2022-05-27T00:00:00",
          "2022-05-28T00:00:00",
          "2022-05-29T00:00:00",
          "2022-05-30T00:00:00"
         ],
         "xaxis": "x",
         "y": [
          7.652624922638296e-10,
          0.12070244538082844,
          0.12832141804065583,
          0.09949154258198384,
          0.164361458076809,
          0.01592481749965108,
          3.435584741351416e-05,
          0.04843373111190655,
          0.09158751523797337,
          0.08344076192032437,
          0.09434051227041218,
          0.0679274171291682,
          0.04105324253686948,
          0.04565949071020542,
          0.03827777172847163,
          0.04554400029324368,
          0.04873894697196235,
          0.07546191877375236,
          0.06893175474139909,
          0.06228718169119338,
          0.06502293077842727,
          0.09607772238361978,
          0.1183961512545707,
          0.09775208793389178,
          0.1133510992108627,
          0.13540941528758724,
          0.11433489264543067,
          0.1418711238112024,
          0.18210478223774096,
          0.1615956459645655,
          0.16658214782168954,
          0.1479020984778249,
          0.1678702838743358,
          0.18440941745922695,
          0.17718885791418928,
          0.14605803498983697,
          0.10338561471852148,
          0.08968484125220322,
          0.03353186716747947,
          0.02612947518301953,
          0.006304988268473227,
          0.04930503239764189,
          0.05311982288534822,
          0.02163094905647789,
          0.031979633589946904,
          0.058765082936951846,
          0.06312187872557448,
          0.09632486018359832,
          0.07723464549505824,
          0.06175311510421844,
          0.0880688736940555,
          0.0694027934433212,
          0.04229526417042248,
          0.02027334502254724,
          0.014640521917439836,
          0.028949676813742442,
          0.006863313353163869,
          0.019844917228633935,
          0.007719885237881585,
          0.03310752082724122,
          0.023134122473983665,
          0.008379434625765209,
          0.00020287136449900767,
          0.011015871776892339,
          0.005637936396827692,
          0.02516658085120327,
          0.045217509215550705,
          0.01860815473729302,
          0.00016930349719007642,
          0.022505099918391724,
          0.0020919540469404863,
          0.004721832413461136,
          0.004826243102228067,
          0.0182972794052558,
          0.038608150965404014,
          0.057565141111058066,
          0.06312189376355856,
          0.07948204134428827,
          0.08701872963017943,
          0.09767107465432256,
          0.09448449380246957,
          0.08558055628956474,
          0.07073464664642329,
          0.06456734372813167,
          0.05480424044538593,
          0.07205576103051148,
          0.06835825344687499,
          0.04498586880158195,
          0.028346485439759372,
          0.05338724813793774,
          0.05885499000146707,
          0.062343034704814865,
          0.05995393912421432,
          0.10742203540163223,
          0.09693488786015003,
          0.08248035200577536,
          0.08980245897064473,
          0.08674357555041937,
          0.08200499386227555,
          0.07629288126305031,
          0.05379732792708611,
          0.034234289461996914,
          0.007611649727769676,
          0.00531701861863082,
          0.034204846453538634,
          0.03567852533779084,
          0.019167852889525328,
          0.0011164672819776456,
          0.013091573386228406,
          0.005658483507280737,
          0.017099045509530814,
          0.005710251639806624,
          0.014350002838775161,
          0.0031918875721955453,
          0.032280452780848956,
          0.037061924391732504,
          0.04582726930462061,
          0.04704625059007389,
          0.054924389296889364,
          0.06145103941636723,
          0.04277219034701271,
          0.05857616832548057,
          0.060023299440266825,
          0.04617923346836822,
          0.05833812028958177,
          0.024262497719024306,
          0.028460379170620914,
          0.045225843117438214,
          0.04066173686339555,
          0.035697213444149056,
          0.03277911812002893,
          0.034457376646544885,
          0.02555309775185602,
          0.03209575109855753,
          0.03279253233978499,
          0.0352946335213363,
          0.043728738404828715,
          0.035397546745356945,
          0.03664547280553873,
          0.03173011364398834,
          0.034184566207652034,
          0.035442505063112195,
          0.041396619321925454,
          0.03727502580308639,
          0.0270862463773848,
          0.034690729527233566,
          0.04220202020958036,
          0.052448688990469006,
          0.06331079901870607,
          0.08078104385133247,
          0.09893677482436009,
          0.09393929138711526,
          0.1027203568314714,
          0.09924115269523615,
          0.08155962635390138,
          0.05821533053072525,
          0.0024997253574805256,
          0.008800549500661031,
          0.00801923570666141,
          0.00014425031230538843,
          0.002441962894752181,
          0.017537139737300617,
          0.021522932670202027,
          0.02012039347453695,
          0.024817431132872658,
          0.0382225797428975,
          0.053530503139591956,
          0.06892498372956979,
          0.06953000963610001,
          0.06961773717219341,
          0.07375206800596501,
          0.0797248437342711,
          0.0817867943061692,
          0.08638544436202367,
          0.08814199310364215,
          0.10430435565030252,
          0.10396175245021683,
          0.09821013651526736,
          0.10085142498623725,
          0.11095629435470131,
          0.0932239863144608,
          0.08954939245285559,
          0.09444607534416927,
          0.10583501714928154,
          0.09186912596365876,
          0.10208444126423097,
          0.09629953132112098,
          0.061423667115542896,
          0.05653537366814612,
          0.01997729245781918,
          0.011524901211401567,
          0.0033808276366264767,
          0.005361682952775143,
          0.0006374712577682518,
          0.009162479690125597,
          0.016796684683786145,
          0.0234260014016901,
          0.020483384165531082,
          0.0320730017817592,
          0.024232819216194607,
          0.041156431791802256,
          0.03979608184859218,
          0.04538641014303821,
          0.039405417112485824,
          0.035516029662552184,
          0.049972152556395616,
          0.05391449959314798,
          0.05473714464534746,
          0.04908437386065845,
          0.0479876160938314,
          0.0542880906659573,
          0.052397702061178386,
          0.056591391520127265,
          0.057844048242132795,
          0.06383460177256373,
          0.034720839453691726,
          0.045316219488200526,
          0.02033519475163037,
          0.007868560537301533,
          0.007568925648776703,
          0.010479836855147556,
          0.02818820981476347,
          0.030442450024546347,
          0.05161328692527978,
          0.04182422902595598,
          0.05547189172386241,
          0.048022247903210746,
          0.0606502053125684,
          0.060422976192471306,
          0.047676403090769454,
          0.05266929621788141,
          0.055382749350074784,
          0.05273498555389228,
          0.04815857247729427,
          0.03996983558981557,
          0.03911940058960306,
          0.03968804464328465,
          0.053363588609267515,
          0.05237554618703369,
          0.05268245826716758,
          0.04503406820182129,
          0.0363190296017242,
          0.03758286425759455,
          0.04604014746424545,
          0.040630424793343195,
          0.03994716781779514,
          0.03501827618753789,
          0.027041438664407058,
          0.00034603060974974786,
          0.0028557189425756635,
          0.012585885447766787,
          0.013296170535810697,
          0.013928080989303426,
          0.009084049411025558,
          0.004523710854279134,
          0.0017526183391191053,
          0.02137177114263944,
          0.003338099556612989,
          0.017769915201027997,
          0.05240578085384362,
          0.013532324326785694,
          0.005699629624525332,
          0.0032110726061168327,
          0.0011268661562641447,
          0.0034848112951411103,
          0.004324750162274654,
          0.003192167370270227,
          0.0026658521649513545,
          0.01705658219909803,
          0.023185412656803767,
          0.013095772796163474,
          0.017379828730922003,
          0.010702271120777457,
          0.00884524276544249,
          0.008737089378820867,
          0.017387650968856833,
          0.018786275194605934,
          0.014404525596687034
         ],
         "yaxis": "y"
        },
        {
         "hovertemplate": "%{y}",
         "legendgroup": "cai_without_reb",
         "line": {
          "color": "#1f77b4",
          "dash": "solid"
         },
         "marker": {
          "symbol": "circle"
         },
         "mode": "lines",
         "name": "cai_without_reb",
         "showlegend": true,
         "type": "scattergl",
         "x": [
          "2021-08-26T00:00:00",
          "2021-08-27T00:00:00",
          "2021-08-28T00:00:00",
          "2021-08-29T00:00:00",
          "2021-08-30T00:00:00",
          "2021-08-31T00:00:00",
          "2021-09-01T00:00:00",
          "2021-09-02T00:00:00",
          "2021-09-03T00:00:00",
          "2021-09-04T00:00:00",
          "2021-09-05T00:00:00",
          "2021-09-06T00:00:00",
          "2021-09-07T00:00:00",
          "2021-09-08T00:00:00",
          "2021-09-09T00:00:00",
          "2021-09-10T00:00:00",
          "2021-09-11T00:00:00",
          "2021-09-12T00:00:00",
          "2021-09-13T00:00:00",
          "2021-09-14T00:00:00",
          "2021-09-15T00:00:00",
          "2021-09-16T00:00:00",
          "2021-09-17T00:00:00",
          "2021-09-18T00:00:00",
          "2021-09-19T00:00:00",
          "2021-09-20T00:00:00",
          "2021-09-21T00:00:00",
          "2021-09-22T00:00:00",
          "2021-09-23T00:00:00",
          "2021-09-24T00:00:00",
          "2021-09-25T00:00:00",
          "2021-09-26T00:00:00",
          "2021-09-27T00:00:00",
          "2021-09-28T00:00:00",
          "2021-09-29T00:00:00",
          "2021-09-30T00:00:00",
          "2021-10-01T00:00:00",
          "2021-10-02T00:00:00",
          "2021-10-03T00:00:00",
          "2021-10-04T00:00:00",
          "2021-10-05T00:00:00",
          "2021-10-06T00:00:00",
          "2021-10-07T00:00:00",
          "2021-10-08T00:00:00",
          "2021-10-09T00:00:00",
          "2021-10-10T00:00:00",
          "2021-10-11T00:00:00",
          "2021-10-12T00:00:00",
          "2021-10-13T00:00:00",
          "2021-10-14T00:00:00",
          "2021-10-15T00:00:00",
          "2021-10-16T00:00:00",
          "2021-10-17T00:00:00",
          "2021-10-18T00:00:00",
          "2021-10-19T00:00:00",
          "2021-10-20T00:00:00",
          "2021-10-21T00:00:00",
          "2021-10-22T00:00:00",
          "2021-10-23T00:00:00",
          "2021-10-24T00:00:00",
          "2021-10-25T00:00:00",
          "2021-10-26T00:00:00",
          "2021-10-27T00:00:00",
          "2021-10-28T00:00:00",
          "2021-10-29T00:00:00",
          "2021-10-30T00:00:00",
          "2021-10-31T00:00:00",
          "2021-11-01T00:00:00",
          "2021-11-02T00:00:00",
          "2021-11-03T00:00:00",
          "2021-11-04T00:00:00",
          "2021-11-05T00:00:00",
          "2021-11-06T00:00:00",
          "2021-11-07T00:00:00",
          "2021-11-08T00:00:00",
          "2021-11-09T00:00:00",
          "2021-11-10T00:00:00",
          "2021-11-11T00:00:00",
          "2021-11-12T00:00:00",
          "2021-11-13T00:00:00",
          "2021-11-14T00:00:00",
          "2021-11-15T00:00:00",
          "2021-11-16T00:00:00",
          "2021-11-17T00:00:00",
          "2021-11-18T00:00:00",
          "2021-11-19T00:00:00",
          "2021-11-20T00:00:00",
          "2021-11-21T00:00:00",
          "2021-11-22T00:00:00",
          "2021-11-23T00:00:00",
          "2021-11-24T00:00:00",
          "2021-11-25T00:00:00",
          "2021-11-26T00:00:00",
          "2021-11-27T00:00:00",
          "2021-11-28T00:00:00",
          "2021-11-29T00:00:00",
          "2021-11-30T00:00:00",
          "2021-12-01T00:00:00",
          "2021-12-02T00:00:00",
          "2021-12-03T00:00:00",
          "2021-12-04T00:00:00",
          "2021-12-05T00:00:00",
          "2021-12-06T00:00:00",
          "2021-12-07T00:00:00",
          "2021-12-08T00:00:00",
          "2021-12-09T00:00:00",
          "2021-12-10T00:00:00",
          "2021-12-11T00:00:00",
          "2021-12-12T00:00:00",
          "2021-12-13T00:00:00",
          "2021-12-14T00:00:00",
          "2021-12-15T00:00:00",
          "2021-12-16T00:00:00",
          "2021-12-17T00:00:00",
          "2021-12-18T00:00:00",
          "2021-12-19T00:00:00",
          "2021-12-20T00:00:00",
          "2021-12-21T00:00:00",
          "2021-12-22T00:00:00",
          "2021-12-23T00:00:00",
          "2021-12-24T00:00:00",
          "2021-12-25T00:00:00",
          "2021-12-26T00:00:00",
          "2021-12-27T00:00:00",
          "2021-12-28T00:00:00",
          "2021-12-29T00:00:00",
          "2021-12-30T00:00:00",
          "2021-12-31T00:00:00",
          "2022-01-01T00:00:00",
          "2022-01-02T00:00:00",
          "2022-01-03T00:00:00",
          "2022-01-04T00:00:00",
          "2022-01-05T00:00:00",
          "2022-01-06T00:00:00",
          "2022-01-07T00:00:00",
          "2022-01-08T00:00:00",
          "2022-01-09T00:00:00",
          "2022-01-10T00:00:00",
          "2022-01-11T00:00:00",
          "2022-01-12T00:00:00",
          "2022-01-13T00:00:00",
          "2022-01-14T00:00:00",
          "2022-01-15T00:00:00",
          "2022-01-16T00:00:00",
          "2022-01-17T00:00:00",
          "2022-01-18T00:00:00",
          "2022-01-19T00:00:00",
          "2022-01-20T00:00:00",
          "2022-01-21T00:00:00",
          "2022-01-22T00:00:00",
          "2022-01-23T00:00:00",
          "2022-01-24T00:00:00",
          "2022-01-25T00:00:00",
          "2022-01-26T00:00:00",
          "2022-01-27T00:00:00",
          "2022-01-28T00:00:00",
          "2022-01-29T00:00:00",
          "2022-01-30T00:00:00",
          "2022-01-31T00:00:00",
          "2022-02-01T00:00:00",
          "2022-02-02T00:00:00",
          "2022-02-03T00:00:00",
          "2022-02-04T00:00:00",
          "2022-02-05T00:00:00",
          "2022-02-06T00:00:00",
          "2022-02-07T00:00:00",
          "2022-02-08T00:00:00",
          "2022-02-09T00:00:00",
          "2022-02-10T00:00:00",
          "2022-02-11T00:00:00",
          "2022-02-12T00:00:00",
          "2022-02-13T00:00:00",
          "2022-02-14T00:00:00",
          "2022-02-15T00:00:00",
          "2022-02-16T00:00:00",
          "2022-02-17T00:00:00",
          "2022-02-18T00:00:00",
          "2022-02-19T00:00:00",
          "2022-02-20T00:00:00",
          "2022-02-21T00:00:00",
          "2022-02-22T00:00:00",
          "2022-02-23T00:00:00",
          "2022-02-24T00:00:00",
          "2022-02-25T00:00:00",
          "2022-02-26T00:00:00",
          "2022-02-27T00:00:00",
          "2022-02-28T00:00:00",
          "2022-03-01T00:00:00",
          "2022-03-02T00:00:00",
          "2022-03-03T00:00:00",
          "2022-03-04T00:00:00",
          "2022-03-05T00:00:00",
          "2022-03-06T00:00:00",
          "2022-03-07T00:00:00",
          "2022-03-08T00:00:00",
          "2022-03-09T00:00:00",
          "2022-03-10T00:00:00",
          "2022-03-11T00:00:00",
          "2022-03-12T00:00:00",
          "2022-03-13T00:00:00",
          "2022-03-14T00:00:00",
          "2022-03-15T00:00:00",
          "2022-03-16T00:00:00",
          "2022-03-17T00:00:00",
          "2022-03-18T00:00:00",
          "2022-03-19T00:00:00",
          "2022-03-20T00:00:00",
          "2022-03-21T00:00:00",
          "2022-03-22T00:00:00",
          "2022-03-23T00:00:00",
          "2022-03-24T00:00:00",
          "2022-03-25T00:00:00",
          "2022-03-26T00:00:00",
          "2022-03-27T00:00:00",
          "2022-03-28T00:00:00",
          "2022-03-29T00:00:00",
          "2022-03-30T00:00:00",
          "2022-03-31T00:00:00",
          "2022-04-01T00:00:00",
          "2022-04-02T00:00:00",
          "2022-04-03T00:00:00",
          "2022-04-04T00:00:00",
          "2022-04-05T00:00:00",
          "2022-04-06T00:00:00",
          "2022-04-07T00:00:00",
          "2022-04-08T00:00:00",
          "2022-04-09T00:00:00",
          "2022-04-10T00:00:00",
          "2022-04-11T00:00:00",
          "2022-04-12T00:00:00",
          "2022-04-13T00:00:00",
          "2022-04-14T00:00:00",
          "2022-04-15T00:00:00",
          "2022-04-16T00:00:00",
          "2022-04-17T00:00:00",
          "2022-04-18T00:00:00",
          "2022-04-19T00:00:00",
          "2022-04-20T00:00:00",
          "2022-04-21T00:00:00",
          "2022-04-22T00:00:00",
          "2022-04-23T00:00:00",
          "2022-04-24T00:00:00",
          "2022-04-25T00:00:00",
          "2022-04-26T00:00:00",
          "2022-04-27T00:00:00",
          "2022-04-28T00:00:00",
          "2022-04-29T00:00:00",
          "2022-04-30T00:00:00",
          "2022-05-01T00:00:00",
          "2022-05-02T00:00:00",
          "2022-05-03T00:00:00",
          "2022-05-04T00:00:00",
          "2022-05-05T00:00:00",
          "2022-05-06T00:00:00",
          "2022-05-07T00:00:00",
          "2022-05-08T00:00:00",
          "2022-05-09T00:00:00",
          "2022-05-10T00:00:00",
          "2022-05-11T00:00:00",
          "2022-05-12T00:00:00",
          "2022-05-13T00:00:00",
          "2022-05-14T00:00:00",
          "2022-05-15T00:00:00",
          "2022-05-16T00:00:00",
          "2022-05-17T00:00:00",
          "2022-05-18T00:00:00",
          "2022-05-19T00:00:00",
          "2022-05-20T00:00:00",
          "2022-05-21T00:00:00",
          "2022-05-22T00:00:00",
          "2022-05-23T00:00:00",
          "2022-05-24T00:00:00",
          "2022-05-25T00:00:00",
          "2022-05-26T00:00:00",
          "2022-05-27T00:00:00",
          "2022-05-28T00:00:00",
          "2022-05-29T00:00:00",
          "2022-05-30T00:00:00"
         ],
         "xaxis": "x",
         "y": [
          7.652624922638296e-10,
          0.12070244538082844,
          0.12832141804065583,
          0.09949154258198384,
          0.164361458076809,
          0.01592481749965108,
          0.00831352516361733,
          0.05662208997546181,
          0.09956470652693453,
          0.09146719087566085,
          0.10230008023785259,
          0.07603555142804064,
          0.049265442551463645,
          0.05385723237632242,
          0.046498008044646655,
          0.05374212156305688,
          0.05692624258900439,
          0.0835323459672552,
          0.07703507835690346,
          0.07042109956480233,
          0.07314460392233979,
          0.10402591373658904,
          0.12618058961434664,
          0.10568912690301024,
          0.12117540779409261,
          0.14304712568711042,
          0.12215155724460097,
          0.14944814951016228,
          0.18924269279803949,
          0.16897057583569827,
          0.1739019696816911,
          0.15542002504979255,
          0.1751756067327585,
          0.1915189832649656,
          0.1843860752546952,
          0.15359428399854463,
          0.13039524159140983,
          0.13529057615498233,
          0.1003019052985771,
          0.11193615378639024,
          0.11268495844303136,
          0.08054418795244142,
          0.0827722884729585,
          0.11322071054502847,
          0.10332893147406472,
          0.07720176951960048,
          0.07287888508579932,
          0.03923750458321082,
          0.05873186865102198,
          0.0742392365246228,
          0.04771947501435703,
          0.06661008201868304,
          0.0933573911130301,
          0.11451017153001869,
          0.14703405999563912,
          0.1600185548390214,
          0.13989386425004474,
          0.1517793895925698,
          0.12634455938847935,
          0.102244113460905,
          0.11179077775146035,
          0.141290438211333,
          0.1333550101341916,
          0.12325282583050981,
          0.12829186219036837,
          0.10985364756725846,
          0.09051215177009822,
          0.0952398046854247,
          0.09614217807239478,
          0.07411437782991745,
          0.09396263435930993,
          0.1005187367815463,
          0.0913220889159149,
          0.07823139062605411,
          0.05823413689378176,
          0.03928212566851369,
          0.033673251867647386,
          0.01701632644586379,
          0.009270088459275627,
          0.0017578666603248472,
          0.0015508869765789024,
          0.010751827117465224,
          0.025949157464452505,
          0.032210222001474303,
          0.042059832692102256,
          0.02460399260369514,
          0.02836528480959019,
          0.0518894276745441,
          0.06837676085896116,
          0.043483116134309385,
          0.03798236034209165,
          0.034460893890267685,
          0.036873922911820456,
          0.011935129503473974,
          0.0009927077174755328,
          0.013940195872715666,
          0.006397219355158301,
          0.00481227742506074,
          0.014686977354431224,
          0.025338477279286065,
          0.018559483132741222,
          0.01756516030850966,
          0.010724429000897706,
          0.027290804465836926,
          0.009866823391182278,
          0.011347068141285721,
          0.005212810667566431,
          0.023256987090614467,
          0.01129376302626739,
          0.03001285126606751,
          0.04140095830266394,
          0.01867106487190809,
          0.038666835284315526,
          0.027554237022501205,
          0.05647366359834566,
          0.06121169377207622,
          0.06988598300883214,
          0.07109113257938035,
          0.07887300803483593,
          0.08531090975320996,
          0.06686431663417905,
          0.08247613449866109,
          0.08390327992037483,
          0.0702339827328638,
          0.08224133569199762,
          0.04851866462054169,
          0.05268513148146417,
          0.06929127611725719,
          0.08231621228786526,
          0.09454321680589184,
          0.10921205533827813,
          0.11520074219174767,
          0.10670435988184276,
          0.11295208862147493,
          0.11361589689738086,
          0.11599712025909759,
          0.12399536831393018,
          0.11609497892027096,
          0.1172810935239045,
          0.11260363359942391,
          0.11494115815262063,
          0.11613772706827649,
          0.12178813778280384,
          0.11787909967879856,
          0.10817078416587372,
          0.11542274518572831,
          0.12255078493267746,
          0.1322189241820709,
          0.14239820235963319,
          0.158621904713071,
          0.17529125305799986,
          0.17072212755753147,
          0.1787408825025152,
          0.17556907231734387,
          0.15934071622656354,
          0.13763192125726212,
          0.08447652182123322,
          0.09058502011319228,
          0.08982892356243166,
          0.06684617349130278,
          0.06458813894728616,
          0.08412964614028956,
          0.08800324927261449,
          0.08664112637437144,
          0.09119881146130168,
          0.10414380063512663,
          0.11881412435635305,
          0.13344822940792023,
          0.1340209508405031,
          0.1341039791604423,
          0.1380125094179394,
          0.14364410381804718,
          0.14558417425297554,
          0.14990345457096776,
          0.1515505476494231,
          0.166634998460479,
          0.16631656307555417,
          0.16096217020095102,
          0.16342303907443323,
          0.1728064450077103,
          0.15630734792495715,
          0.15286915524597602,
          0.15744935184414166,
          0.16805699006600874,
          0.1550404201473545,
          0.16457067035632988,
          0.159179956971038,
          0.151071778416581,
          0.17081935674391271,
          0.16242072419344428,
          0.16232232239926914,
          0.1549967079448577,
          0.15678514444021505,
          0.1513555112752472,
          0.1602047436948594,
          0.16702603254870532,
          0.1728988109229179,
          0.17029777433673332,
          0.18048925714498162,
          0.17361037139872149,
          0.18837898484415708,
          0.1872028206935701,
          0.19202414968457898,
          0.1868646993234107,
          0.18348985294571593,
          0.1959553446204616,
          0.1993180190532191,
          0.20001773791935457,
          0.19519594417194594,
          0.19425668487900033,
          0.1996358691185185,
          0.19802609583065492,
          0.20159242793017274,
          0.202654286528682,
          0.20771087141969438,
          0.18279793750645223,
          0.19196381201805873,
          0.17016654378952467,
          0.18087700113749983,
          0.17372446406295908,
          0.1711589567953212,
          0.1553148662508973,
          0.1532682483686412,
          0.13370994598862274,
          0.14282995551563143,
          0.1300781961038476,
          0.13707104527102426,
          0.12517109896999187,
          0.1253872309819171,
          0.13739379306257327,
          0.13271811036021428,
          0.13016233526359414,
          0.13265636106587878,
          0.13694377920170953,
          0.14454266557637335,
          0.1453265467060564,
          0.14480251363910512,
          0.13206515377697786,
          0.13299416687523757,
          0.13270573825704737,
          0.13985416740160428,
          0.14790078368831436,
          0.14674032913826157,
          0.13891851406997655,
          0.14393308942658614,
          0.14456357224642832,
          0.14909287022104067,
          0.15635341111913706,
          0.1540585794365896,
          0.1517836239977918,
          0.14289634275999166,
          0.14224336976894958,
          0.14166196181409202,
          0.14610719928152985,
          0.1502677291964909,
          0.15278442026181874,
          0.1347785651836831,
          0.1513455512378531,
          0.17027325245971037,
          0.20029592203932073,
          0.1665126320261753,
          0.14919715413970971,
          0.15727092907160717,
          0.15539043407025455,
          0.15121226346794245,
          0.15044871196735918,
          0.1514781067788395,
          0.15677946548157456,
          0.16964157332552143,
          0.1750509556206502,
          0.1661241082236781,
          0.16992788666027797,
          0.16399023234915414,
          0.16233031618951996,
          0.16223352594170304,
          0.1699348137509856,
          0.17117232141037433,
          0.1672882552692201
         ],
         "yaxis": "y"
        },
        {
         "hovertemplate": "%{y}",
         "legendgroup": "cai_benchmark",
         "line": {
          "color": "gray",
          "dash": "solid"
         },
         "marker": {
          "symbol": "circle"
         },
         "mode": "lines",
         "name": "cai_benchmark",
         "showlegend": true,
         "type": "scattergl",
         "x": [
          "2021-08-26T00:00:00",
          "2021-08-27T00:00:00",
          "2021-08-28T00:00:00",
          "2021-08-29T00:00:00",
          "2021-08-30T00:00:00",
          "2021-08-31T00:00:00",
          "2021-09-01T00:00:00",
          "2021-09-02T00:00:00",
          "2021-09-03T00:00:00",
          "2021-09-04T00:00:00",
          "2021-09-05T00:00:00",
          "2021-09-06T00:00:00",
          "2021-09-07T00:00:00",
          "2021-09-08T00:00:00",
          "2021-09-09T00:00:00",
          "2021-09-10T00:00:00",
          "2021-09-11T00:00:00",
          "2021-09-12T00:00:00",
          "2021-09-13T00:00:00",
          "2021-09-14T00:00:00",
          "2021-09-15T00:00:00",
          "2021-09-16T00:00:00",
          "2021-09-17T00:00:00",
          "2021-09-18T00:00:00",
          "2021-09-19T00:00:00",
          "2021-09-20T00:00:00",
          "2021-09-21T00:00:00",
          "2021-09-22T00:00:00",
          "2021-09-23T00:00:00",
          "2021-09-24T00:00:00",
          "2021-09-25T00:00:00",
          "2021-09-26T00:00:00",
          "2021-09-27T00:00:00",
          "2021-09-28T00:00:00",
          "2021-09-29T00:00:00",
          "2021-09-30T00:00:00",
          "2021-10-01T00:00:00",
          "2021-10-02T00:00:00",
          "2021-10-03T00:00:00",
          "2021-10-04T00:00:00",
          "2021-10-05T00:00:00",
          "2021-10-06T00:00:00",
          "2021-10-07T00:00:00",
          "2021-10-08T00:00:00",
          "2021-10-09T00:00:00",
          "2021-10-10T00:00:00",
          "2021-10-11T00:00:00",
          "2021-10-12T00:00:00",
          "2021-10-13T00:00:00",
          "2021-10-14T00:00:00",
          "2021-10-15T00:00:00",
          "2021-10-16T00:00:00",
          "2021-10-17T00:00:00",
          "2021-10-18T00:00:00",
          "2021-10-19T00:00:00",
          "2021-10-20T00:00:00",
          "2021-10-21T00:00:00",
          "2021-10-22T00:00:00",
          "2021-10-23T00:00:00",
          "2021-10-24T00:00:00",
          "2021-10-25T00:00:00",
          "2021-10-26T00:00:00",
          "2021-10-27T00:00:00",
          "2021-10-28T00:00:00",
          "2021-10-29T00:00:00",
          "2021-10-30T00:00:00",
          "2021-10-31T00:00:00",
          "2021-11-01T00:00:00",
          "2021-11-02T00:00:00",
          "2021-11-03T00:00:00",
          "2021-11-04T00:00:00",
          "2021-11-05T00:00:00",
          "2021-11-06T00:00:00",
          "2021-11-07T00:00:00",
          "2021-11-08T00:00:00",
          "2021-11-09T00:00:00",
          "2021-11-10T00:00:00",
          "2021-11-11T00:00:00",
          "2021-11-12T00:00:00",
          "2021-11-13T00:00:00",
          "2021-11-14T00:00:00",
          "2021-11-15T00:00:00",
          "2021-11-16T00:00:00",
          "2021-11-17T00:00:00",
          "2021-11-18T00:00:00",
          "2021-11-19T00:00:00",
          "2021-11-20T00:00:00",
          "2021-11-21T00:00:00",
          "2021-11-22T00:00:00",
          "2021-11-23T00:00:00",
          "2021-11-24T00:00:00",
          "2021-11-25T00:00:00",
          "2021-11-26T00:00:00",
          "2021-11-27T00:00:00",
          "2021-11-28T00:00:00",
          "2021-11-29T00:00:00",
          "2021-11-30T00:00:00",
          "2021-12-01T00:00:00",
          "2021-12-02T00:00:00",
          "2021-12-03T00:00:00",
          "2021-12-04T00:00:00",
          "2021-12-05T00:00:00",
          "2021-12-06T00:00:00",
          "2021-12-07T00:00:00",
          "2021-12-08T00:00:00",
          "2021-12-09T00:00:00",
          "2021-12-10T00:00:00",
          "2021-12-11T00:00:00",
          "2021-12-12T00:00:00",
          "2021-12-13T00:00:00",
          "2021-12-14T00:00:00",
          "2021-12-15T00:00:00",
          "2021-12-16T00:00:00",
          "2021-12-17T00:00:00",
          "2021-12-18T00:00:00",
          "2021-12-19T00:00:00",
          "2021-12-20T00:00:00",
          "2021-12-21T00:00:00",
          "2021-12-22T00:00:00",
          "2021-12-23T00:00:00",
          "2021-12-24T00:00:00",
          "2021-12-25T00:00:00",
          "2021-12-26T00:00:00",
          "2021-12-27T00:00:00",
          "2021-12-28T00:00:00",
          "2021-12-29T00:00:00",
          "2021-12-30T00:00:00",
          "2021-12-31T00:00:00",
          "2022-01-01T00:00:00",
          "2022-01-02T00:00:00",
          "2022-01-03T00:00:00",
          "2022-01-04T00:00:00",
          "2022-01-05T00:00:00",
          "2022-01-06T00:00:00",
          "2022-01-07T00:00:00",
          "2022-01-08T00:00:00",
          "2022-01-09T00:00:00",
          "2022-01-10T00:00:00",
          "2022-01-11T00:00:00",
          "2022-01-12T00:00:00",
          "2022-01-13T00:00:00",
          "2022-01-14T00:00:00",
          "2022-01-15T00:00:00",
          "2022-01-16T00:00:00",
          "2022-01-17T00:00:00",
          "2022-01-18T00:00:00",
          "2022-01-19T00:00:00",
          "2022-01-20T00:00:00",
          "2022-01-21T00:00:00",
          "2022-01-22T00:00:00",
          "2022-01-23T00:00:00",
          "2022-01-24T00:00:00",
          "2022-01-25T00:00:00",
          "2022-01-26T00:00:00",
          "2022-01-27T00:00:00",
          "2022-01-28T00:00:00",
          "2022-01-29T00:00:00",
          "2022-01-30T00:00:00",
          "2022-01-31T00:00:00",
          "2022-02-01T00:00:00",
          "2022-02-02T00:00:00",
          "2022-02-03T00:00:00",
          "2022-02-04T00:00:00",
          "2022-02-05T00:00:00",
          "2022-02-06T00:00:00",
          "2022-02-07T00:00:00",
          "2022-02-08T00:00:00",
          "2022-02-09T00:00:00",
          "2022-02-10T00:00:00",
          "2022-02-11T00:00:00",
          "2022-02-12T00:00:00",
          "2022-02-13T00:00:00",
          "2022-02-14T00:00:00",
          "2022-02-15T00:00:00",
          "2022-02-16T00:00:00",
          "2022-02-17T00:00:00",
          "2022-02-18T00:00:00",
          "2022-02-19T00:00:00",
          "2022-02-20T00:00:00",
          "2022-02-21T00:00:00",
          "2022-02-22T00:00:00",
          "2022-02-23T00:00:00",
          "2022-02-24T00:00:00",
          "2022-02-25T00:00:00",
          "2022-02-26T00:00:00",
          "2022-02-27T00:00:00",
          "2022-02-28T00:00:00",
          "2022-03-01T00:00:00",
          "2022-03-02T00:00:00",
          "2022-03-03T00:00:00",
          "2022-03-04T00:00:00",
          "2022-03-05T00:00:00",
          "2022-03-06T00:00:00",
          "2022-03-07T00:00:00",
          "2022-03-08T00:00:00",
          "2022-03-09T00:00:00",
          "2022-03-10T00:00:00",
          "2022-03-11T00:00:00",
          "2022-03-12T00:00:00",
          "2022-03-13T00:00:00",
          "2022-03-14T00:00:00",
          "2022-03-15T00:00:00",
          "2022-03-16T00:00:00",
          "2022-03-17T00:00:00",
          "2022-03-18T00:00:00",
          "2022-03-19T00:00:00",
          "2022-03-20T00:00:00",
          "2022-03-21T00:00:00",
          "2022-03-22T00:00:00",
          "2022-03-23T00:00:00",
          "2022-03-24T00:00:00",
          "2022-03-25T00:00:00",
          "2022-03-26T00:00:00",
          "2022-03-27T00:00:00",
          "2022-03-28T00:00:00",
          "2022-03-29T00:00:00",
          "2022-03-30T00:00:00",
          "2022-03-31T00:00:00",
          "2022-04-01T00:00:00",
          "2022-04-02T00:00:00",
          "2022-04-03T00:00:00",
          "2022-04-04T00:00:00",
          "2022-04-05T00:00:00",
          "2022-04-06T00:00:00",
          "2022-04-07T00:00:00",
          "2022-04-08T00:00:00",
          "2022-04-09T00:00:00",
          "2022-04-10T00:00:00",
          "2022-04-11T00:00:00",
          "2022-04-12T00:00:00",
          "2022-04-13T00:00:00",
          "2022-04-14T00:00:00",
          "2022-04-15T00:00:00",
          "2022-04-16T00:00:00",
          "2022-04-17T00:00:00",
          "2022-04-18T00:00:00",
          "2022-04-19T00:00:00",
          "2022-04-20T00:00:00",
          "2022-04-21T00:00:00",
          "2022-04-22T00:00:00",
          "2022-04-23T00:00:00",
          "2022-04-24T00:00:00",
          "2022-04-25T00:00:00",
          "2022-04-26T00:00:00",
          "2022-04-27T00:00:00",
          "2022-04-28T00:00:00",
          "2022-04-29T00:00:00",
          "2022-04-30T00:00:00",
          "2022-05-01T00:00:00",
          "2022-05-02T00:00:00",
          "2022-05-03T00:00:00",
          "2022-05-04T00:00:00",
          "2022-05-05T00:00:00",
          "2022-05-06T00:00:00",
          "2022-05-07T00:00:00",
          "2022-05-08T00:00:00",
          "2022-05-09T00:00:00",
          "2022-05-10T00:00:00",
          "2022-05-11T00:00:00",
          "2022-05-12T00:00:00",
          "2022-05-13T00:00:00",
          "2022-05-14T00:00:00",
          "2022-05-15T00:00:00",
          "2022-05-16T00:00:00",
          "2022-05-17T00:00:00",
          "2022-05-18T00:00:00",
          "2022-05-19T00:00:00",
          "2022-05-20T00:00:00",
          "2022-05-21T00:00:00",
          "2022-05-22T00:00:00",
          "2022-05-23T00:00:00",
          "2022-05-24T00:00:00",
          "2022-05-25T00:00:00",
          "2022-05-26T00:00:00",
          "2022-05-27T00:00:00",
          "2022-05-28T00:00:00",
          "2022-05-29T00:00:00",
          "2022-05-30T00:00:00"
         ],
         "xaxis": "x",
         "y": [
          0,
          0.12070244466016267,
          0.12832141732579774,
          0.09949154184702133,
          0.1643614573942398,
          0.01592481673516491,
          2.7755575615628914e-17,
          0.04839969740937014,
          0.09155431171755324,
          0.0834073624811433,
          0.09430737907978315,
          0.06789369505689966,
          0.041019118106019714,
          0.045625421147799966,
          0.038243617052470785,
          0.0455099292838716,
          0.04870491734381699,
          0.07542834513582766,
          0.0688980515538867,
          0.06225335871482804,
          0.06498915565276314,
          0.09604463464485488,
          0.11836372123229766,
          0.09771904478776836,
          0.11331850853631292,
          0.13537757860312855,
          0.11430233274924581,
          0.14183953332558802,
          0.18207498289988208,
          0.16156487799185848,
          0.16655160472081348,
          0.14787074813408133,
          0.1678397999741958,
          0.18437973419387138,
          0.17715881586506813,
          0.146026610157914,
          0,
          0.005267000390572013,
          0.031754595909464445,
          0.019603621054160858,
          0.018816192230858925,
          0.05203715075400425,
          0.04977172023203599,
          0.018252404287667473,
          0.02860812813054453,
          0.05542528037055669,
          0.05978907305889,
          0.09306230696043397,
          0.07392804205793219,
          0.05841805574458481,
          0.08478605501936226,
          0.06608098143706381,
          0.03893366446583152,
          0.016894092113153708,
          0.018020839604827282,
          0.032320900704162076,
          0.010246250323061812,
          0.023222568202541927,
          0.0043364495323917895,
          0.029736957977148065,
          0.019756420031083632,
          0.011761989411208956,
          0.0031810262043482362,
          0.007633121086778605,
          0.0022542195883618332,
          0.02179011468152864,
          0.0418592400825708,
          0,
          0.0009366804794889438,
          0.02173922418680649,
          0.001324585083391977,
          0.005489130324663055,
          0.0040589257628979025,
          0.017530886535282814,
          0.0378452584660334,
          0.05680780139695685,
          0.06236660002757491,
          0.0787338726498451,
          0.08627439647083776,
          0.09693275785174127,
          0.09374430415837895,
          0.08483546427937858,
          0.06998246381863707,
          0.06381261328722132,
          0.054045954703408366,
          0.07130415431981516,
          0.06760506129998128,
          0.04422459806705506,
          0.027581507832637298,
          0.05262849504167866,
          0.05809810830268494,
          0.06158744276650077,
          0.05919745571604934,
          0.10668983709246485,
          0.09619613283813397,
          0.08173366739706206,
          0.08905963074735149,
          0,
          0.009877492407479982,
          0.02053621625259386,
          0.013752118700587374,
          0.012757196266250603,
          0.00591337230704958,
          0.022490341750070614,
          0.014676313379767075,
          0.016155816797341155,
          0.0004005734368313085,
          0.018452970623088927,
          0.0064828949493984656,
          0.025215141149155795,
          0.03661786280916324,
          0.01386377010489881,
          0.03387977464850778,
          0.022754028209564542,
          0.05171760671543418,
          0.05646594851452311,
          0.06516136344878787,
          0.06636967814369438,
          0.07417334318912361,
          0.08063104132321305,
          0.06213200798485344,
          0.07778735166329617,
          0.0792189461188984,
          0.06551027137140716,
          0.07755182843328287,
          0.043747244545076835,
          0.04792145320883548,
          0.0645651153444457,
          0,
          0.01261985763236767,
          0.027899085543695606,
          0.03418107108156848,
          0.025276201531189812,
          0.03181927171800858,
          0.03251610295401142,
          0.035018392552890354,
          0.04345323499291803,
          0.03512131382438752,
          0.03636933934046141,
          0.03145360845998654,
          0.03390823993097175,
          0.03516627566511896,
          0.04112089616335762,
          0.03699894382414326,
          0.02680943930598023,
          0.03441444180952821,
          0.04192637157522716,
          0.05217411426077159,
          0.06303761735109553,
          0.08051065250159839,
          0.09867000172970528,
          0.09367144930060689,
          0.10245442997351792,
          0.09897444650144119,
          0.08128937513956253,
          0.05794146273535428,
          0.002222118079315827,
          0.008523019346364263,
          0.007741691199963596,
          0,
          0.00229771581996438,
          0.017681211134287417,
          0.02166691390632447,
          0.02026440852735026,
          0.024961324006787133,
          0.038365983913521556,
          0.053673095642019164,
          0.06906648728137102,
          0.06967146480570763,
          0.06975918529141828,
          0.07389317379164603,
          0.07986542013067588,
          0.08192717838624175,
          0.08652538185912742,
          0.08828175357898144,
          0.10444232023279562,
          0.1040997582280716,
          0.09834881365881715,
          0.10098979856096041,
          0.11109343225212456,
          0.09336321458616417,
          0.08968900852410727,
          0.09458517118995124,
          0.10597279602751714,
          0.09200849903420147,
          0.10222267036990335,
          0.09643842303728484,
          0,
          0.02202063494005707,
          0.012584055058632165,
          0.012474121694182383,
          0.004330538663302269,
          0.006311321043079882,
          0.0003122961466173746,
          0.010111894354572715,
          0.017745318972464036,
          0.02437359887405835,
          0.02143148306401202,
          0.03301874517927844,
          0.025180267716091304,
          0.04209961591126926,
          0.04073968914596138,
          0.04632818860711155,
          0.040349143340319665,
          0.03646087672613113,
          0.050912253638592836,
          0.05485303098152877,
          0.05567533360458676,
          0.05002481214164048,
          0.04892846268442699,
          0.05522646718257318,
          0.053336851349773146,
          0.05752878979681464,
          0.05878089758861574,
          0.06476866124933589,
          0.03566590152748986,
          0.04625802238587101,
          0.02128331716215981,
          0,
          0.008180788948207923,
          0.011091567180804729,
          0.02879823743436649,
          0.031052150747934548,
          0.05221870384952343,
          0.04243189938279665,
          0.056076291530713085,
          0.04862854594982438,
          0.06125312561830637,
          0.06102596417301423,
          0.04828278266432662,
          0.05327444202339243,
          0.05598717347687085,
          0.05334011431407876,
          0.04876483822688549,
          0.04057787998637252,
          0.03972761089327603,
          0.040296144405189194,
          0.053968553189087165,
          0.05298076795756662,
          0.05328760065903068,
          0.045641051337576594,
          0.036927761194882947,
          0.03819136534037257,
          0.04664690481997974,
          0.04123833787600162,
          0.040555216682415685,
          0.03562723686039318,
          0.02765162303593241,
          0,
          0.002509698252821546,
          0.012240068064977933,
          0.012950378258709871,
          0.013582312221670056,
          0.008738128669582984,
          0.0041777064026937705,
          0.0014065911415322152,
          0.021026362516831237,
          0.0029920827712986153,
          0.01811550024667319,
          0.05274798533482114,
          0.01387809499435158,
          0.005353641249572494,
          0.003557087406328846,
          0.0014728944687098788,
          0.0031387958250764514,
          0.003978743369217941,
          0.0028461493358056533,
          0.0030118716612989593,
          0.01740220197073497,
          0.02353068813265391,
          0.0134415597621447,
          0.017725432941008312,
          0.011048138071656138,
          0.009191160848738389,
          0.009083010145899184,
          0.01773325479878521,
          0.01913180832941322,
          0.014750262121211027
         ],
         "yaxis": "y"
        },
        {
         "hovertemplate": "%{y}",
         "legendgroup": "cai_theoretical",
         "line": {
          "color": "#9467bd",
          "dash": "solid"
         },
         "marker": {
          "symbol": "circle"
         },
         "mode": "lines",
         "name": "cai_theoretical",
         "showlegend": true,
         "type": "scattergl",
         "x": [
          "2021-08-26T00:00:00",
          "2021-08-27T00:00:00",
          "2021-08-28T00:00:00",
          "2021-08-29T00:00:00",
          "2021-08-30T00:00:00",
          "2021-08-31T00:00:00",
          "2021-09-01T00:00:00",
          "2021-09-02T00:00:00",
          "2021-09-03T00:00:00",
          "2021-09-04T00:00:00",
          "2021-09-05T00:00:00",
          "2021-09-06T00:00:00",
          "2021-09-07T00:00:00",
          "2021-09-08T00:00:00",
          "2021-09-09T00:00:00",
          "2021-09-10T00:00:00",
          "2021-09-11T00:00:00",
          "2021-09-12T00:00:00",
          "2021-09-13T00:00:00",
          "2021-09-14T00:00:00",
          "2021-09-15T00:00:00",
          "2021-09-16T00:00:00",
          "2021-09-17T00:00:00",
          "2021-09-18T00:00:00",
          "2021-09-19T00:00:00",
          "2021-09-20T00:00:00",
          "2021-09-21T00:00:00",
          "2021-09-22T00:00:00",
          "2021-09-23T00:00:00",
          "2021-09-24T00:00:00",
          "2021-09-25T00:00:00",
          "2021-09-26T00:00:00",
          "2021-09-27T00:00:00",
          "2021-09-28T00:00:00",
          "2021-09-29T00:00:00",
          "2021-09-30T00:00:00",
          "2021-10-01T00:00:00",
          "2021-10-02T00:00:00",
          "2021-10-03T00:00:00",
          "2021-10-04T00:00:00",
          "2021-10-05T00:00:00",
          "2021-10-06T00:00:00",
          "2021-10-07T00:00:00",
          "2021-10-08T00:00:00",
          "2021-10-09T00:00:00",
          "2021-10-10T00:00:00",
          "2021-10-11T00:00:00",
          "2021-10-12T00:00:00",
          "2021-10-13T00:00:00",
          "2021-10-14T00:00:00",
          "2021-10-15T00:00:00",
          "2021-10-16T00:00:00",
          "2021-10-17T00:00:00",
          "2021-10-18T00:00:00",
          "2021-10-19T00:00:00",
          "2021-10-20T00:00:00",
          "2021-10-21T00:00:00",
          "2021-10-22T00:00:00",
          "2021-10-23T00:00:00",
          "2021-10-24T00:00:00",
          "2021-10-25T00:00:00",
          "2021-10-26T00:00:00",
          "2021-10-27T00:00:00",
          "2021-10-28T00:00:00",
          "2021-10-29T00:00:00",
          "2021-10-30T00:00:00",
          "2021-10-31T00:00:00",
          "2021-11-01T00:00:00",
          "2021-11-02T00:00:00",
          "2021-11-03T00:00:00",
          "2021-11-04T00:00:00",
          "2021-11-05T00:00:00",
          "2021-11-06T00:00:00",
          "2021-11-07T00:00:00",
          "2021-11-08T00:00:00",
          "2021-11-09T00:00:00",
          "2021-11-10T00:00:00",
          "2021-11-11T00:00:00",
          "2021-11-12T00:00:00",
          "2021-11-13T00:00:00",
          "2021-11-14T00:00:00",
          "2021-11-15T00:00:00",
          "2021-11-16T00:00:00",
          "2021-11-17T00:00:00",
          "2021-11-18T00:00:00",
          "2021-11-19T00:00:00",
          "2021-11-20T00:00:00",
          "2021-11-21T00:00:00",
          "2021-11-22T00:00:00",
          "2021-11-23T00:00:00",
          "2021-11-24T00:00:00",
          "2021-11-25T00:00:00",
          "2021-11-26T00:00:00",
          "2021-11-27T00:00:00",
          "2021-11-28T00:00:00",
          "2021-11-29T00:00:00",
          "2021-11-30T00:00:00",
          "2021-12-01T00:00:00",
          "2021-12-02T00:00:00",
          "2021-12-03T00:00:00",
          "2021-12-04T00:00:00",
          "2021-12-05T00:00:00",
          "2021-12-06T00:00:00",
          "2021-12-07T00:00:00",
          "2021-12-08T00:00:00",
          "2021-12-09T00:00:00",
          "2021-12-10T00:00:00",
          "2021-12-11T00:00:00",
          "2021-12-12T00:00:00",
          "2021-12-13T00:00:00",
          "2021-12-14T00:00:00",
          "2021-12-15T00:00:00",
          "2021-12-16T00:00:00",
          "2021-12-17T00:00:00",
          "2021-12-18T00:00:00",
          "2021-12-19T00:00:00",
          "2021-12-20T00:00:00",
          "2021-12-21T00:00:00",
          "2021-12-22T00:00:00",
          "2021-12-23T00:00:00",
          "2021-12-24T00:00:00",
          "2021-12-25T00:00:00",
          "2021-12-26T00:00:00",
          "2021-12-27T00:00:00",
          "2021-12-28T00:00:00",
          "2021-12-29T00:00:00",
          "2021-12-30T00:00:00",
          "2021-12-31T00:00:00",
          "2022-01-01T00:00:00",
          "2022-01-02T00:00:00",
          "2022-01-03T00:00:00",
          "2022-01-04T00:00:00",
          "2022-01-05T00:00:00",
          "2022-01-06T00:00:00",
          "2022-01-07T00:00:00",
          "2022-01-08T00:00:00",
          "2022-01-09T00:00:00",
          "2022-01-10T00:00:00",
          "2022-01-11T00:00:00",
          "2022-01-12T00:00:00",
          "2022-01-13T00:00:00",
          "2022-01-14T00:00:00",
          "2022-01-15T00:00:00",
          "2022-01-16T00:00:00",
          "2022-01-17T00:00:00",
          "2022-01-18T00:00:00",
          "2022-01-19T00:00:00",
          "2022-01-20T00:00:00",
          "2022-01-21T00:00:00",
          "2022-01-22T00:00:00",
          "2022-01-23T00:00:00",
          "2022-01-24T00:00:00",
          "2022-01-25T00:00:00",
          "2022-01-26T00:00:00",
          "2022-01-27T00:00:00",
          "2022-01-28T00:00:00",
          "2022-01-29T00:00:00",
          "2022-01-30T00:00:00",
          "2022-01-31T00:00:00",
          "2022-02-01T00:00:00",
          "2022-02-02T00:00:00",
          "2022-02-03T00:00:00",
          "2022-02-04T00:00:00",
          "2022-02-05T00:00:00",
          "2022-02-06T00:00:00",
          "2022-02-07T00:00:00",
          "2022-02-08T00:00:00",
          "2022-02-09T00:00:00",
          "2022-02-10T00:00:00",
          "2022-02-11T00:00:00",
          "2022-02-12T00:00:00",
          "2022-02-13T00:00:00",
          "2022-02-14T00:00:00",
          "2022-02-15T00:00:00",
          "2022-02-16T00:00:00",
          "2022-02-17T00:00:00",
          "2022-02-18T00:00:00",
          "2022-02-19T00:00:00",
          "2022-02-20T00:00:00",
          "2022-02-21T00:00:00",
          "2022-02-22T00:00:00",
          "2022-02-23T00:00:00",
          "2022-02-24T00:00:00",
          "2022-02-25T00:00:00",
          "2022-02-26T00:00:00",
          "2022-02-27T00:00:00",
          "2022-02-28T00:00:00",
          "2022-03-01T00:00:00",
          "2022-03-02T00:00:00",
          "2022-03-03T00:00:00",
          "2022-03-04T00:00:00",
          "2022-03-05T00:00:00",
          "2022-03-06T00:00:00",
          "2022-03-07T00:00:00",
          "2022-03-08T00:00:00",
          "2022-03-09T00:00:00",
          "2022-03-10T00:00:00",
          "2022-03-11T00:00:00",
          "2022-03-12T00:00:00",
          "2022-03-13T00:00:00",
          "2022-03-14T00:00:00",
          "2022-03-15T00:00:00",
          "2022-03-16T00:00:00",
          "2022-03-17T00:00:00",
          "2022-03-18T00:00:00",
          "2022-03-19T00:00:00",
          "2022-03-20T00:00:00",
          "2022-03-21T00:00:00",
          "2022-03-22T00:00:00",
          "2022-03-23T00:00:00",
          "2022-03-24T00:00:00",
          "2022-03-25T00:00:00",
          "2022-03-26T00:00:00",
          "2022-03-27T00:00:00",
          "2022-03-28T00:00:00",
          "2022-03-29T00:00:00",
          "2022-03-30T00:00:00",
          "2022-03-31T00:00:00",
          "2022-04-01T00:00:00",
          "2022-04-02T00:00:00",
          "2022-04-03T00:00:00",
          "2022-04-04T00:00:00",
          "2022-04-05T00:00:00",
          "2022-04-06T00:00:00",
          "2022-04-07T00:00:00",
          "2022-04-08T00:00:00",
          "2022-04-09T00:00:00",
          "2022-04-10T00:00:00",
          "2022-04-11T00:00:00",
          "2022-04-12T00:00:00",
          "2022-04-13T00:00:00",
          "2022-04-14T00:00:00",
          "2022-04-15T00:00:00",
          "2022-04-16T00:00:00",
          "2022-04-17T00:00:00",
          "2022-04-18T00:00:00",
          "2022-04-19T00:00:00",
          "2022-04-20T00:00:00",
          "2022-04-21T00:00:00",
          "2022-04-22T00:00:00",
          "2022-04-23T00:00:00",
          "2022-04-24T00:00:00",
          "2022-04-25T00:00:00",
          "2022-04-26T00:00:00",
          "2022-04-27T00:00:00",
          "2022-04-28T00:00:00",
          "2022-04-29T00:00:00",
          "2022-04-30T00:00:00",
          "2022-05-01T00:00:00",
          "2022-05-02T00:00:00",
          "2022-05-03T00:00:00",
          "2022-05-04T00:00:00",
          "2022-05-05T00:00:00",
          "2022-05-06T00:00:00",
          "2022-05-07T00:00:00",
          "2022-05-08T00:00:00",
          "2022-05-09T00:00:00",
          "2022-05-10T00:00:00",
          "2022-05-11T00:00:00",
          "2022-05-12T00:00:00",
          "2022-05-13T00:00:00",
          "2022-05-14T00:00:00",
          "2022-05-15T00:00:00",
          "2022-05-16T00:00:00",
          "2022-05-17T00:00:00",
          "2022-05-18T00:00:00",
          "2022-05-19T00:00:00",
          "2022-05-20T00:00:00",
          "2022-05-21T00:00:00",
          "2022-05-22T00:00:00",
          "2022-05-23T00:00:00",
          "2022-05-24T00:00:00",
          "2022-05-25T00:00:00",
          "2022-05-26T00:00:00",
          "2022-05-27T00:00:00",
          "2022-05-28T00:00:00",
          "2022-05-29T00:00:00",
          "2022-05-30T00:00:00"
         ],
         "xaxis": "x",
         "y": [
          0,
          0,
          0,
          0,
          0,
          0,
          2.7755575615628914e-17,
          0,
          0,
          2.7755575615628914e-17,
          0,
          0,
          0,
          0,
          0,
          0,
          0,
          0,
          0,
          0,
          2.7755575615628914e-17,
          0,
          0,
          0,
          2.7755575615628914e-17,
          0,
          0,
          0,
          0,
          0,
          0,
          0,
          0,
          0,
          0,
          0,
          2.7755575615628914e-17,
          2.7755575615628914e-17,
          0,
          0,
          0,
          0,
          0,
          0,
          0,
          0,
          2.7755575615628914e-17,
          0,
          2.7755575615628914e-17,
          0,
          0,
          0,
          0,
          0,
          0,
          0,
          0,
          0,
          0,
          0,
          2.7755575615628914e-17,
          0,
          0,
          0,
          0,
          2.7755575615628914e-17,
          0,
          0,
          0,
          0,
          0,
          0,
          0,
          0,
          0,
          2.7755575615628914e-17,
          0,
          0,
          0,
          0,
          0,
          0,
          0,
          0,
          0,
          0,
          2.7755575615628914e-17,
          0,
          2.7755575615628914e-17,
          0,
          0,
          0,
          0,
          0,
          0,
          0,
          0,
          2.7755575615628914e-17,
          0,
          0,
          0,
          0,
          2.7755575615628914e-17,
          0,
          0,
          0,
          2.7755575615628914e-17,
          0,
          0,
          0,
          0,
          0,
          0,
          0,
          0,
          0,
          0,
          2.7755575615628914e-17,
          0,
          0,
          0,
          0,
          2.7755575615628914e-17,
          2.7755575615628914e-17,
          0,
          0,
          2.7755575615628914e-17,
          2.7755575615628914e-17,
          0,
          0,
          0,
          0,
          0,
          0,
          0,
          0,
          0,
          0,
          0,
          0,
          0,
          0,
          0,
          0,
          0,
          0,
          2.7755575615628914e-17,
          0,
          0,
          0,
          0,
          0,
          0,
          0,
          0,
          0,
          0,
          0,
          0,
          2.7755575615628914e-17,
          0,
          0,
          0,
          0,
          0,
          0,
          2.7755575615628914e-17,
          0,
          0,
          0,
          0,
          0,
          0,
          2.7755575615628914e-17,
          0,
          0,
          0,
          0,
          0,
          0,
          0,
          0,
          0,
          0,
          2.7755575615628914e-17,
          0,
          0,
          0,
          0,
          0,
          0,
          0,
          0,
          0,
          2.7755575615628914e-17,
          0,
          2.7755575615628914e-17,
          0,
          0,
          0,
          2.7755575615628914e-17,
          0,
          0,
          0,
          2.7755575615628914e-17,
          0,
          0,
          2.7755575615628914e-17,
          0,
          0,
          0,
          0,
          0,
          0,
          0,
          0,
          2.7755575615628914e-17,
          0,
          0,
          0,
          0,
          0,
          0,
          0,
          2.7755575615628914e-17,
          0,
          2.7755575615628914e-17,
          0,
          0,
          0,
          0,
          0,
          0,
          0,
          0,
          0,
          0,
          2.7755575615628914e-17,
          0,
          0,
          0,
          0,
          2.7755575615628914e-17,
          0,
          0,
          0,
          0,
          0,
          0,
          0,
          2.7755575615628914e-17,
          0,
          0,
          0,
          0,
          0,
          0,
          0,
          0,
          0,
          0,
          0,
          0,
          0,
          0,
          2.7755575615628914e-17,
          0,
          0,
          0,
          0,
          0,
          0,
          0,
          0,
          0,
          0,
          0,
          0
         ],
         "yaxis": "y"
        }
       ],
       "layout": {
        "hovermode": "x",
        "legend": {
         "title": {
          "text": ""
         },
         "tracegroupgap": 0
        },
        "margin": {
         "t": 60
        },
        "template": {
         "data": {
          "bar": [
           {
            "error_x": {
             "color": "#2a3f5f"
            },
            "error_y": {
             "color": "#2a3f5f"
            },
            "marker": {
             "line": {
              "color": "white",
              "width": 0.5
             },
             "pattern": {
              "fillmode": "overlay",
              "size": 10,
              "solidity": 0.2
             }
            },
            "type": "bar"
           }
          ],
          "barpolar": [
           {
            "marker": {
             "line": {
              "color": "white",
              "width": 0.5
             },
             "pattern": {
              "fillmode": "overlay",
              "size": 10,
              "solidity": 0.2
             }
            },
            "type": "barpolar"
           }
          ],
          "carpet": [
           {
            "aaxis": {
             "endlinecolor": "#2a3f5f",
             "gridcolor": "#C8D4E3",
             "linecolor": "#C8D4E3",
             "minorgridcolor": "#C8D4E3",
             "startlinecolor": "#2a3f5f"
            },
            "baxis": {
             "endlinecolor": "#2a3f5f",
             "gridcolor": "#C8D4E3",
             "linecolor": "#C8D4E3",
             "minorgridcolor": "#C8D4E3",
             "startlinecolor": "#2a3f5f"
            },
            "type": "carpet"
           }
          ],
          "choropleth": [
           {
            "colorbar": {
             "outlinewidth": 0,
             "ticks": ""
            },
            "type": "choropleth"
           }
          ],
          "contour": [
           {
            "colorbar": {
             "outlinewidth": 0,
             "ticks": ""
            },
            "colorscale": [
             [
              0,
              "#0d0887"
             ],
             [
              0.1111111111111111,
              "#46039f"
             ],
             [
              0.2222222222222222,
              "#7201a8"
             ],
             [
              0.3333333333333333,
              "#9c179e"
             ],
             [
              0.4444444444444444,
              "#bd3786"
             ],
             [
              0.5555555555555556,
              "#d8576b"
             ],
             [
              0.6666666666666666,
              "#ed7953"
             ],
             [
              0.7777777777777778,
              "#fb9f3a"
             ],
             [
              0.8888888888888888,
              "#fdca26"
             ],
             [
              1,
              "#f0f921"
             ]
            ],
            "type": "contour"
           }
          ],
          "contourcarpet": [
           {
            "colorbar": {
             "outlinewidth": 0,
             "ticks": ""
            },
            "type": "contourcarpet"
           }
          ],
          "heatmap": [
           {
            "colorbar": {
             "outlinewidth": 0,
             "ticks": ""
            },
            "colorscale": [
             [
              0,
              "#0d0887"
             ],
             [
              0.1111111111111111,
              "#46039f"
             ],
             [
              0.2222222222222222,
              "#7201a8"
             ],
             [
              0.3333333333333333,
              "#9c179e"
             ],
             [
              0.4444444444444444,
              "#bd3786"
             ],
             [
              0.5555555555555556,
              "#d8576b"
             ],
             [
              0.6666666666666666,
              "#ed7953"
             ],
             [
              0.7777777777777778,
              "#fb9f3a"
             ],
             [
              0.8888888888888888,
              "#fdca26"
             ],
             [
              1,
              "#f0f921"
             ]
            ],
            "type": "heatmap"
           }
          ],
          "heatmapgl": [
           {
            "colorbar": {
             "outlinewidth": 0,
             "ticks": ""
            },
            "colorscale": [
             [
              0,
              "#0d0887"
             ],
             [
              0.1111111111111111,
              "#46039f"
             ],
             [
              0.2222222222222222,
              "#7201a8"
             ],
             [
              0.3333333333333333,
              "#9c179e"
             ],
             [
              0.4444444444444444,
              "#bd3786"
             ],
             [
              0.5555555555555556,
              "#d8576b"
             ],
             [
              0.6666666666666666,
              "#ed7953"
             ],
             [
              0.7777777777777778,
              "#fb9f3a"
             ],
             [
              0.8888888888888888,
              "#fdca26"
             ],
             [
              1,
              "#f0f921"
             ]
            ],
            "type": "heatmapgl"
           }
          ],
          "histogram": [
           {
            "marker": {
             "pattern": {
              "fillmode": "overlay",
              "size": 10,
              "solidity": 0.2
             }
            },
            "type": "histogram"
           }
          ],
          "histogram2d": [
           {
            "colorbar": {
             "outlinewidth": 0,
             "ticks": ""
            },
            "colorscale": [
             [
              0,
              "#0d0887"
             ],
             [
              0.1111111111111111,
              "#46039f"
             ],
             [
              0.2222222222222222,
              "#7201a8"
             ],
             [
              0.3333333333333333,
              "#9c179e"
             ],
             [
              0.4444444444444444,
              "#bd3786"
             ],
             [
              0.5555555555555556,
              "#d8576b"
             ],
             [
              0.6666666666666666,
              "#ed7953"
             ],
             [
              0.7777777777777778,
              "#fb9f3a"
             ],
             [
              0.8888888888888888,
              "#fdca26"
             ],
             [
              1,
              "#f0f921"
             ]
            ],
            "type": "histogram2d"
           }
          ],
          "histogram2dcontour": [
           {
            "colorbar": {
             "outlinewidth": 0,
             "ticks": ""
            },
            "colorscale": [
             [
              0,
              "#0d0887"
             ],
             [
              0.1111111111111111,
              "#46039f"
             ],
             [
              0.2222222222222222,
              "#7201a8"
             ],
             [
              0.3333333333333333,
              "#9c179e"
             ],
             [
              0.4444444444444444,
              "#bd3786"
             ],
             [
              0.5555555555555556,
              "#d8576b"
             ],
             [
              0.6666666666666666,
              "#ed7953"
             ],
             [
              0.7777777777777778,
              "#fb9f3a"
             ],
             [
              0.8888888888888888,
              "#fdca26"
             ],
             [
              1,
              "#f0f921"
             ]
            ],
            "type": "histogram2dcontour"
           }
          ],
          "mesh3d": [
           {
            "colorbar": {
             "outlinewidth": 0,
             "ticks": ""
            },
            "type": "mesh3d"
           }
          ],
          "parcoords": [
           {
            "line": {
             "colorbar": {
              "outlinewidth": 0,
              "ticks": ""
             }
            },
            "type": "parcoords"
           }
          ],
          "pie": [
           {
            "automargin": true,
            "type": "pie"
           }
          ],
          "scatter": [
           {
            "marker": {
             "colorbar": {
              "outlinewidth": 0,
              "ticks": ""
             }
            },
            "type": "scatter"
           }
          ],
          "scatter3d": [
           {
            "line": {
             "colorbar": {
              "outlinewidth": 0,
              "ticks": ""
             }
            },
            "marker": {
             "colorbar": {
              "outlinewidth": 0,
              "ticks": ""
             }
            },
            "type": "scatter3d"
           }
          ],
          "scattercarpet": [
           {
            "marker": {
             "colorbar": {
              "outlinewidth": 0,
              "ticks": ""
             }
            },
            "type": "scattercarpet"
           }
          ],
          "scattergeo": [
           {
            "marker": {
             "colorbar": {
              "outlinewidth": 0,
              "ticks": ""
             }
            },
            "type": "scattergeo"
           }
          ],
          "scattergl": [
           {
            "marker": {
             "colorbar": {
              "outlinewidth": 0,
              "ticks": ""
             }
            },
            "type": "scattergl"
           }
          ],
          "scattermapbox": [
           {
            "marker": {
             "colorbar": {
              "outlinewidth": 0,
              "ticks": ""
             }
            },
            "type": "scattermapbox"
           }
          ],
          "scatterpolar": [
           {
            "marker": {
             "colorbar": {
              "outlinewidth": 0,
              "ticks": ""
             }
            },
            "type": "scatterpolar"
           }
          ],
          "scatterpolargl": [
           {
            "marker": {
             "colorbar": {
              "outlinewidth": 0,
              "ticks": ""
             }
            },
            "type": "scatterpolargl"
           }
          ],
          "scatterternary": [
           {
            "marker": {
             "colorbar": {
              "outlinewidth": 0,
              "ticks": ""
             }
            },
            "type": "scatterternary"
           }
          ],
          "surface": [
           {
            "colorbar": {
             "outlinewidth": 0,
             "ticks": ""
            },
            "colorscale": [
             [
              0,
              "#0d0887"
             ],
             [
              0.1111111111111111,
              "#46039f"
             ],
             [
              0.2222222222222222,
              "#7201a8"
             ],
             [
              0.3333333333333333,
              "#9c179e"
             ],
             [
              0.4444444444444444,
              "#bd3786"
             ],
             [
              0.5555555555555556,
              "#d8576b"
             ],
             [
              0.6666666666666666,
              "#ed7953"
             ],
             [
              0.7777777777777778,
              "#fb9f3a"
             ],
             [
              0.8888888888888888,
              "#fdca26"
             ],
             [
              1,
              "#f0f921"
             ]
            ],
            "type": "surface"
           }
          ],
          "table": [
           {
            "cells": {
             "fill": {
              "color": "#EBF0F8"
             },
             "line": {
              "color": "white"
             }
            },
            "header": {
             "fill": {
              "color": "#C8D4E3"
             },
             "line": {
              "color": "white"
             }
            },
            "type": "table"
           }
          ]
         },
         "layout": {
          "annotationdefaults": {
           "arrowcolor": "#2a3f5f",
           "arrowhead": 0,
           "arrowwidth": 1
          },
          "autotypenumbers": "strict",
          "coloraxis": {
           "colorbar": {
            "outlinewidth": 0,
            "ticks": ""
           }
          },
          "colorscale": {
           "diverging": [
            [
             0,
             "#8e0152"
            ],
            [
             0.1,
             "#c51b7d"
            ],
            [
             0.2,
             "#de77ae"
            ],
            [
             0.3,
             "#f1b6da"
            ],
            [
             0.4,
             "#fde0ef"
            ],
            [
             0.5,
             "#f7f7f7"
            ],
            [
             0.6,
             "#e6f5d0"
            ],
            [
             0.7,
             "#b8e186"
            ],
            [
             0.8,
             "#7fbc41"
            ],
            [
             0.9,
             "#4d9221"
            ],
            [
             1,
             "#276419"
            ]
           ],
           "sequential": [
            [
             0,
             "#0d0887"
            ],
            [
             0.1111111111111111,
             "#46039f"
            ],
            [
             0.2222222222222222,
             "#7201a8"
            ],
            [
             0.3333333333333333,
             "#9c179e"
            ],
            [
             0.4444444444444444,
             "#bd3786"
            ],
            [
             0.5555555555555556,
             "#d8576b"
            ],
            [
             0.6666666666666666,
             "#ed7953"
            ],
            [
             0.7777777777777778,
             "#fb9f3a"
            ],
            [
             0.8888888888888888,
             "#fdca26"
            ],
            [
             1,
             "#f0f921"
            ]
           ],
           "sequentialminus": [
            [
             0,
             "#0d0887"
            ],
            [
             0.1111111111111111,
             "#46039f"
            ],
            [
             0.2222222222222222,
             "#7201a8"
            ],
            [
             0.3333333333333333,
             "#9c179e"
            ],
            [
             0.4444444444444444,
             "#bd3786"
            ],
            [
             0.5555555555555556,
             "#d8576b"
            ],
            [
             0.6666666666666666,
             "#ed7953"
            ],
            [
             0.7777777777777778,
             "#fb9f3a"
            ],
            [
             0.8888888888888888,
             "#fdca26"
            ],
            [
             1,
             "#f0f921"
            ]
           ]
          },
          "colorway": [
           "#636efa",
           "#EF553B",
           "#00cc96",
           "#ab63fa",
           "#FFA15A",
           "#19d3f3",
           "#FF6692",
           "#B6E880",
           "#FF97FF",
           "#FECB52"
          ],
          "font": {
           "color": "#2a3f5f"
          },
          "geo": {
           "bgcolor": "white",
           "lakecolor": "white",
           "landcolor": "white",
           "showlakes": true,
           "showland": true,
           "subunitcolor": "#C8D4E3"
          },
          "hoverlabel": {
           "align": "left"
          },
          "hovermode": "closest",
          "mapbox": {
           "style": "light"
          },
          "paper_bgcolor": "white",
          "plot_bgcolor": "white",
          "polar": {
           "angularaxis": {
            "gridcolor": "#EBF0F8",
            "linecolor": "#EBF0F8",
            "ticks": ""
           },
           "bgcolor": "white",
           "radialaxis": {
            "gridcolor": "#EBF0F8",
            "linecolor": "#EBF0F8",
            "ticks": ""
           }
          },
          "scene": {
           "xaxis": {
            "backgroundcolor": "white",
            "gridcolor": "#DFE8F3",
            "gridwidth": 2,
            "linecolor": "#EBF0F8",
            "showbackground": true,
            "ticks": "",
            "zerolinecolor": "#EBF0F8"
           },
           "yaxis": {
            "backgroundcolor": "white",
            "gridcolor": "#DFE8F3",
            "gridwidth": 2,
            "linecolor": "#EBF0F8",
            "showbackground": true,
            "ticks": "",
            "zerolinecolor": "#EBF0F8"
           },
           "zaxis": {
            "backgroundcolor": "white",
            "gridcolor": "#DFE8F3",
            "gridwidth": 2,
            "linecolor": "#EBF0F8",
            "showbackground": true,
            "ticks": "",
            "zerolinecolor": "#EBF0F8"
           }
          },
          "shapedefaults": {
           "line": {
            "color": "#2a3f5f"
           }
          },
          "ternary": {
           "aaxis": {
            "gridcolor": "#DFE8F3",
            "linecolor": "#A2B1C6",
            "ticks": ""
           },
           "baxis": {
            "gridcolor": "#DFE8F3",
            "linecolor": "#A2B1C6",
            "ticks": ""
           },
           "bgcolor": "white",
           "caxis": {
            "gridcolor": "#DFE8F3",
            "linecolor": "#A2B1C6",
            "ticks": ""
           }
          },
          "title": {
           "x": 0.05
          },
          "xaxis": {
           "automargin": true,
           "gridcolor": "#EBF0F8",
           "linecolor": "#EBF0F8",
           "ticks": "",
           "title": {
            "standoff": 15
           },
           "zerolinecolor": "#EBF0F8",
           "zerolinewidth": 2
          },
          "yaxis": {
           "automargin": true,
           "gridcolor": "#EBF0F8",
           "linecolor": "#EBF0F8",
           "ticks": "",
           "title": {
            "standoff": 15
           },
           "zerolinecolor": "#EBF0F8",
           "zerolinewidth": 2
          }
         }
        },
        "title": {
         "text": "Weights deviation from target"
        },
        "xaxis": {
         "anchor": "y",
         "domain": [
          0,
          1
         ],
         "showspikes": true,
         "spikecolor": "#999999",
         "spikedash": "dot",
         "spikemode": "across",
         "spikethickness": 2,
         "title": {
          "text": "date"
         }
        },
        "yaxis": {
         "anchor": "x",
         "domain": [
          0,
          1
         ],
         "range": [
          0,
          0.20771087141969438
         ],
         "tickformat": ".2%",
         "title": {
          "text": "RMSD"
         }
        }
       }
      },
      "text/html": [
       "<div>                            <div id=\"5d437c64-7eeb-4daf-86ce-ed7fc5b75c19\" class=\"plotly-graph-div\" style=\"height:525px; width:100%;\"></div>            <script type=\"text/javascript\">                require([\"plotly\"], function(Plotly) {                    window.PLOTLYENV=window.PLOTLYENV || {};                                    if (document.getElementById(\"5d437c64-7eeb-4daf-86ce-ed7fc5b75c19\")) {                    Plotly.newPlot(                        \"5d437c64-7eeb-4daf-86ce-ed7fc5b75c19\",                        [{\"hovertemplate\":\"%{y}\",\"legendgroup\":\"cai\",\"line\":{\"color\":\"gold\",\"dash\":\"solid\"},\"marker\":{\"symbol\":\"circle\"},\"mode\":\"lines\",\"name\":\"cai\",\"showlegend\":true,\"x\":[\"2021-08-26T00:00:00\",\"2021-08-27T00:00:00\",\"2021-08-28T00:00:00\",\"2021-08-29T00:00:00\",\"2021-08-30T00:00:00\",\"2021-08-31T00:00:00\",\"2021-09-01T00:00:00\",\"2021-09-02T00:00:00\",\"2021-09-03T00:00:00\",\"2021-09-04T00:00:00\",\"2021-09-05T00:00:00\",\"2021-09-06T00:00:00\",\"2021-09-07T00:00:00\",\"2021-09-08T00:00:00\",\"2021-09-09T00:00:00\",\"2021-09-10T00:00:00\",\"2021-09-11T00:00:00\",\"2021-09-12T00:00:00\",\"2021-09-13T00:00:00\",\"2021-09-14T00:00:00\",\"2021-09-15T00:00:00\",\"2021-09-16T00:00:00\",\"2021-09-17T00:00:00\",\"2021-09-18T00:00:00\",\"2021-09-19T00:00:00\",\"2021-09-20T00:00:00\",\"2021-09-21T00:00:00\",\"2021-09-22T00:00:00\",\"2021-09-23T00:00:00\",\"2021-09-24T00:00:00\",\"2021-09-25T00:00:00\",\"2021-09-26T00:00:00\",\"2021-09-27T00:00:00\",\"2021-09-28T00:00:00\",\"2021-09-29T00:00:00\",\"2021-09-30T00:00:00\",\"2021-10-01T00:00:00\",\"2021-10-02T00:00:00\",\"2021-10-03T00:00:00\",\"2021-10-04T00:00:00\",\"2021-10-05T00:00:00\",\"2021-10-06T00:00:00\",\"2021-10-07T00:00:00\",\"2021-10-08T00:00:00\",\"2021-10-09T00:00:00\",\"2021-10-10T00:00:00\",\"2021-10-11T00:00:00\",\"2021-10-12T00:00:00\",\"2021-10-13T00:00:00\",\"2021-10-14T00:00:00\",\"2021-10-15T00:00:00\",\"2021-10-16T00:00:00\",\"2021-10-17T00:00:00\",\"2021-10-18T00:00:00\",\"2021-10-19T00:00:00\",\"2021-10-20T00:00:00\",\"2021-10-21T00:00:00\",\"2021-10-22T00:00:00\",\"2021-10-23T00:00:00\",\"2021-10-24T00:00:00\",\"2021-10-25T00:00:00\",\"2021-10-26T00:00:00\",\"2021-10-27T00:00:00\",\"2021-10-28T00:00:00\",\"2021-10-29T00:00:00\",\"2021-10-30T00:00:00\",\"2021-10-31T00:00:00\",\"2021-11-01T00:00:00\",\"2021-11-02T00:00:00\",\"2021-11-03T00:00:00\",\"2021-11-04T00:00:00\",\"2021-11-05T00:00:00\",\"2021-11-06T00:00:00\",\"2021-11-07T00:00:00\",\"2021-11-08T00:00:00\",\"2021-11-09T00:00:00\",\"2021-11-10T00:00:00\",\"2021-11-11T00:00:00\",\"2021-11-12T00:00:00\",\"2021-11-13T00:00:00\",\"2021-11-14T00:00:00\",\"2021-11-15T00:00:00\",\"2021-11-16T00:00:00\",\"2021-11-17T00:00:00\",\"2021-11-18T00:00:00\",\"2021-11-19T00:00:00\",\"2021-11-20T00:00:00\",\"2021-11-21T00:00:00\",\"2021-11-22T00:00:00\",\"2021-11-23T00:00:00\",\"2021-11-24T00:00:00\",\"2021-11-25T00:00:00\",\"2021-11-26T00:00:00\",\"2021-11-27T00:00:00\",\"2021-11-28T00:00:00\",\"2021-11-29T00:00:00\",\"2021-11-30T00:00:00\",\"2021-12-01T00:00:00\",\"2021-12-02T00:00:00\",\"2021-12-03T00:00:00\",\"2021-12-04T00:00:00\",\"2021-12-05T00:00:00\",\"2021-12-06T00:00:00\",\"2021-12-07T00:00:00\",\"2021-12-08T00:00:00\",\"2021-12-09T00:00:00\",\"2021-12-10T00:00:00\",\"2021-12-11T00:00:00\",\"2021-12-12T00:00:00\",\"2021-12-13T00:00:00\",\"2021-12-14T00:00:00\",\"2021-12-15T00:00:00\",\"2021-12-16T00:00:00\",\"2021-12-17T00:00:00\",\"2021-12-18T00:00:00\",\"2021-12-19T00:00:00\",\"2021-12-20T00:00:00\",\"2021-12-21T00:00:00\",\"2021-12-22T00:00:00\",\"2021-12-23T00:00:00\",\"2021-12-24T00:00:00\",\"2021-12-25T00:00:00\",\"2021-12-26T00:00:00\",\"2021-12-27T00:00:00\",\"2021-12-28T00:00:00\",\"2021-12-29T00:00:00\",\"2021-12-30T00:00:00\",\"2021-12-31T00:00:00\",\"2022-01-01T00:00:00\",\"2022-01-02T00:00:00\",\"2022-01-03T00:00:00\",\"2022-01-04T00:00:00\",\"2022-01-05T00:00:00\",\"2022-01-06T00:00:00\",\"2022-01-07T00:00:00\",\"2022-01-08T00:00:00\",\"2022-01-09T00:00:00\",\"2022-01-10T00:00:00\",\"2022-01-11T00:00:00\",\"2022-01-12T00:00:00\",\"2022-01-13T00:00:00\",\"2022-01-14T00:00:00\",\"2022-01-15T00:00:00\",\"2022-01-16T00:00:00\",\"2022-01-17T00:00:00\",\"2022-01-18T00:00:00\",\"2022-01-19T00:00:00\",\"2022-01-20T00:00:00\",\"2022-01-21T00:00:00\",\"2022-01-22T00:00:00\",\"2022-01-23T00:00:00\",\"2022-01-24T00:00:00\",\"2022-01-25T00:00:00\",\"2022-01-26T00:00:00\",\"2022-01-27T00:00:00\",\"2022-01-28T00:00:00\",\"2022-01-29T00:00:00\",\"2022-01-30T00:00:00\",\"2022-01-31T00:00:00\",\"2022-02-01T00:00:00\",\"2022-02-02T00:00:00\",\"2022-02-03T00:00:00\",\"2022-02-04T00:00:00\",\"2022-02-05T00:00:00\",\"2022-02-06T00:00:00\",\"2022-02-07T00:00:00\",\"2022-02-08T00:00:00\",\"2022-02-09T00:00:00\",\"2022-02-10T00:00:00\",\"2022-02-11T00:00:00\",\"2022-02-12T00:00:00\",\"2022-02-13T00:00:00\",\"2022-02-14T00:00:00\",\"2022-02-15T00:00:00\",\"2022-02-16T00:00:00\",\"2022-02-17T00:00:00\",\"2022-02-18T00:00:00\",\"2022-02-19T00:00:00\",\"2022-02-20T00:00:00\",\"2022-02-21T00:00:00\",\"2022-02-22T00:00:00\",\"2022-02-23T00:00:00\",\"2022-02-24T00:00:00\",\"2022-02-25T00:00:00\",\"2022-02-26T00:00:00\",\"2022-02-27T00:00:00\",\"2022-02-28T00:00:00\",\"2022-03-01T00:00:00\",\"2022-03-02T00:00:00\",\"2022-03-03T00:00:00\",\"2022-03-04T00:00:00\",\"2022-03-05T00:00:00\",\"2022-03-06T00:00:00\",\"2022-03-07T00:00:00\",\"2022-03-08T00:00:00\",\"2022-03-09T00:00:00\",\"2022-03-10T00:00:00\",\"2022-03-11T00:00:00\",\"2022-03-12T00:00:00\",\"2022-03-13T00:00:00\",\"2022-03-14T00:00:00\",\"2022-03-15T00:00:00\",\"2022-03-16T00:00:00\",\"2022-03-17T00:00:00\",\"2022-03-18T00:00:00\",\"2022-03-19T00:00:00\",\"2022-03-20T00:00:00\",\"2022-03-21T00:00:00\",\"2022-03-22T00:00:00\",\"2022-03-23T00:00:00\",\"2022-03-24T00:00:00\",\"2022-03-25T00:00:00\",\"2022-03-26T00:00:00\",\"2022-03-27T00:00:00\",\"2022-03-28T00:00:00\",\"2022-03-29T00:00:00\",\"2022-03-30T00:00:00\",\"2022-03-31T00:00:00\",\"2022-04-01T00:00:00\",\"2022-04-02T00:00:00\",\"2022-04-03T00:00:00\",\"2022-04-04T00:00:00\",\"2022-04-05T00:00:00\",\"2022-04-06T00:00:00\",\"2022-04-07T00:00:00\",\"2022-04-08T00:00:00\",\"2022-04-09T00:00:00\",\"2022-04-10T00:00:00\",\"2022-04-11T00:00:00\",\"2022-04-12T00:00:00\",\"2022-04-13T00:00:00\",\"2022-04-14T00:00:00\",\"2022-04-15T00:00:00\",\"2022-04-16T00:00:00\",\"2022-04-17T00:00:00\",\"2022-04-18T00:00:00\",\"2022-04-19T00:00:00\",\"2022-04-20T00:00:00\",\"2022-04-21T00:00:00\",\"2022-04-22T00:00:00\",\"2022-04-23T00:00:00\",\"2022-04-24T00:00:00\",\"2022-04-25T00:00:00\",\"2022-04-26T00:00:00\",\"2022-04-27T00:00:00\",\"2022-04-28T00:00:00\",\"2022-04-29T00:00:00\",\"2022-04-30T00:00:00\",\"2022-05-01T00:00:00\",\"2022-05-02T00:00:00\",\"2022-05-03T00:00:00\",\"2022-05-04T00:00:00\",\"2022-05-05T00:00:00\",\"2022-05-06T00:00:00\",\"2022-05-07T00:00:00\",\"2022-05-08T00:00:00\",\"2022-05-09T00:00:00\",\"2022-05-10T00:00:00\",\"2022-05-11T00:00:00\",\"2022-05-12T00:00:00\",\"2022-05-13T00:00:00\",\"2022-05-14T00:00:00\",\"2022-05-15T00:00:00\",\"2022-05-16T00:00:00\",\"2022-05-17T00:00:00\",\"2022-05-18T00:00:00\",\"2022-05-19T00:00:00\",\"2022-05-20T00:00:00\",\"2022-05-21T00:00:00\",\"2022-05-22T00:00:00\",\"2022-05-23T00:00:00\",\"2022-05-24T00:00:00\",\"2022-05-25T00:00:00\",\"2022-05-26T00:00:00\",\"2022-05-27T00:00:00\",\"2022-05-28T00:00:00\",\"2022-05-29T00:00:00\",\"2022-05-30T00:00:00\"],\"xaxis\":\"x\",\"y\":[7.652624922638296e-10,0.12070244538082844,0.12832141804065583,0.09949154258198384,0.164361458076809,0.01592481749965108,3.435584741351416e-05,0.04843373111190655,0.09158751523797337,0.08344076192032437,0.09434051227041218,0.0679274171291682,0.04105324253686948,0.04565949071020542,0.03827777172847163,0.04554400029324368,0.04873894697196235,0.07546191877375236,0.06893175474139909,0.06228718169119338,0.06502293077842727,0.09607772238361978,0.1183961512545707,0.09775208793389178,0.1133510992108627,0.13540941528758724,0.11433489264543067,0.1418711238112024,0.18210478223774096,0.1615956459645655,0.16658214782168954,0.1479020984778249,0.1678702838743358,0.18440941745922695,0.17718885791418928,0.14605803498983697,0.10338561471852148,0.08968484125220322,0.03353186716747947,0.02612947518301953,0.006304988268473227,0.04930503239764189,0.05311982288534822,0.02163094905647789,0.031979633589946904,0.058765082936951846,0.06312187872557448,0.09632486018359832,0.07723464549505824,0.06175311510421844,0.0880688736940555,0.0694027934433212,0.04229526417042248,0.02027334502254724,0.014640521917439836,0.028949676813742442,0.006863313353163869,0.019844917228633935,0.007719885237881585,0.03310752082724122,0.023134122473983665,0.008379434625765209,0.00020287136449900767,0.011015871776892339,0.005637936396827692,0.02516658085120327,0.045217509215550705,0.01860815473729302,0.00016930349719007642,0.022505099918391724,0.0020919540469404863,0.004721832413461136,0.004826243102228067,0.0182972794052558,0.038608150965404014,0.057565141111058066,0.06312189376355856,0.07948204134428827,0.08701872963017943,0.09767107465432256,0.09448449380246957,0.08558055628956474,0.07073464664642329,0.06456734372813167,0.05480424044538593,0.07205576103051148,0.06835825344687499,0.04498586880158195,0.028346485439759372,0.05338724813793774,0.05885499000146707,0.062343034704814865,0.05995393912421432,0.10742203540163223,0.09693488786015003,0.08248035200577536,0.08980245897064473,0.08674357555041937,0.08200499386227555,0.07629288126305031,0.05379732792708611,0.034234289461996914,0.007611649727769676,0.00531701861863082,0.034204846453538634,0.03567852533779084,0.019167852889525328,0.0011164672819776456,0.013091573386228406,0.005658483507280737,0.017099045509530814,0.005710251639806624,0.014350002838775161,0.0031918875721955453,0.032280452780848956,0.037061924391732504,0.04582726930462061,0.04704625059007389,0.054924389296889364,0.06145103941636723,0.04277219034701271,0.05857616832548057,0.060023299440266825,0.04617923346836822,0.05833812028958177,0.024262497719024306,0.028460379170620914,0.045225843117438214,0.04066173686339555,0.035697213444149056,0.03277911812002893,0.034457376646544885,0.02555309775185602,0.03209575109855753,0.03279253233978499,0.0352946335213363,0.043728738404828715,0.035397546745356945,0.03664547280553873,0.03173011364398834,0.034184566207652034,0.035442505063112195,0.041396619321925454,0.03727502580308639,0.0270862463773848,0.034690729527233566,0.04220202020958036,0.052448688990469006,0.06331079901870607,0.08078104385133247,0.09893677482436009,0.09393929138711526,0.1027203568314714,0.09924115269523615,0.08155962635390138,0.05821533053072525,0.0024997253574805256,0.008800549500661031,0.00801923570666141,0.00014425031230538843,0.002441962894752181,0.017537139737300617,0.021522932670202027,0.02012039347453695,0.024817431132872658,0.0382225797428975,0.053530503139591956,0.06892498372956979,0.06953000963610001,0.06961773717219341,0.07375206800596501,0.0797248437342711,0.0817867943061692,0.08638544436202367,0.08814199310364215,0.10430435565030252,0.10396175245021683,0.09821013651526736,0.10085142498623725,0.11095629435470131,0.0932239863144608,0.08954939245285559,0.09444607534416927,0.10583501714928154,0.09186912596365876,0.10208444126423097,0.09629953132112098,0.061423667115542896,0.05653537366814612,0.01997729245781918,0.011524901211401567,0.0033808276366264767,0.005361682952775143,0.0006374712577682518,0.009162479690125597,0.016796684683786145,0.0234260014016901,0.020483384165531082,0.0320730017817592,0.024232819216194607,0.041156431791802256,0.03979608184859218,0.04538641014303821,0.039405417112485824,0.035516029662552184,0.049972152556395616,0.05391449959314798,0.05473714464534746,0.04908437386065845,0.0479876160938314,0.0542880906659573,0.052397702061178386,0.056591391520127265,0.057844048242132795,0.06383460177256373,0.034720839453691726,0.045316219488200526,0.02033519475163037,0.007868560537301533,0.007568925648776703,0.010479836855147556,0.02818820981476347,0.030442450024546347,0.05161328692527978,0.04182422902595598,0.05547189172386241,0.048022247903210746,0.0606502053125684,0.060422976192471306,0.047676403090769454,0.05266929621788141,0.055382749350074784,0.05273498555389228,0.04815857247729427,0.03996983558981557,0.03911940058960306,0.03968804464328465,0.053363588609267515,0.05237554618703369,0.05268245826716758,0.04503406820182129,0.0363190296017242,0.03758286425759455,0.04604014746424545,0.040630424793343195,0.03994716781779514,0.03501827618753789,0.027041438664407058,0.00034603060974974786,0.0028557189425756635,0.012585885447766787,0.013296170535810697,0.013928080989303426,0.009084049411025558,0.004523710854279134,0.0017526183391191053,0.02137177114263944,0.003338099556612989,0.017769915201027997,0.05240578085384362,0.013532324326785694,0.005699629624525332,0.0032110726061168327,0.0011268661562641447,0.0034848112951411103,0.004324750162274654,0.003192167370270227,0.0026658521649513545,0.01705658219909803,0.023185412656803767,0.013095772796163474,0.017379828730922003,0.010702271120777457,0.00884524276544249,0.008737089378820867,0.017387650968856833,0.018786275194605934,0.014404525596687034],\"yaxis\":\"y\",\"type\":\"scattergl\"},{\"hovertemplate\":\"%{y}\",\"legendgroup\":\"cai_without_reb\",\"line\":{\"color\":\"#1f77b4\",\"dash\":\"solid\"},\"marker\":{\"symbol\":\"circle\"},\"mode\":\"lines\",\"name\":\"cai_without_reb\",\"showlegend\":true,\"x\":[\"2021-08-26T00:00:00\",\"2021-08-27T00:00:00\",\"2021-08-28T00:00:00\",\"2021-08-29T00:00:00\",\"2021-08-30T00:00:00\",\"2021-08-31T00:00:00\",\"2021-09-01T00:00:00\",\"2021-09-02T00:00:00\",\"2021-09-03T00:00:00\",\"2021-09-04T00:00:00\",\"2021-09-05T00:00:00\",\"2021-09-06T00:00:00\",\"2021-09-07T00:00:00\",\"2021-09-08T00:00:00\",\"2021-09-09T00:00:00\",\"2021-09-10T00:00:00\",\"2021-09-11T00:00:00\",\"2021-09-12T00:00:00\",\"2021-09-13T00:00:00\",\"2021-09-14T00:00:00\",\"2021-09-15T00:00:00\",\"2021-09-16T00:00:00\",\"2021-09-17T00:00:00\",\"2021-09-18T00:00:00\",\"2021-09-19T00:00:00\",\"2021-09-20T00:00:00\",\"2021-09-21T00:00:00\",\"2021-09-22T00:00:00\",\"2021-09-23T00:00:00\",\"2021-09-24T00:00:00\",\"2021-09-25T00:00:00\",\"2021-09-26T00:00:00\",\"2021-09-27T00:00:00\",\"2021-09-28T00:00:00\",\"2021-09-29T00:00:00\",\"2021-09-30T00:00:00\",\"2021-10-01T00:00:00\",\"2021-10-02T00:00:00\",\"2021-10-03T00:00:00\",\"2021-10-04T00:00:00\",\"2021-10-05T00:00:00\",\"2021-10-06T00:00:00\",\"2021-10-07T00:00:00\",\"2021-10-08T00:00:00\",\"2021-10-09T00:00:00\",\"2021-10-10T00:00:00\",\"2021-10-11T00:00:00\",\"2021-10-12T00:00:00\",\"2021-10-13T00:00:00\",\"2021-10-14T00:00:00\",\"2021-10-15T00:00:00\",\"2021-10-16T00:00:00\",\"2021-10-17T00:00:00\",\"2021-10-18T00:00:00\",\"2021-10-19T00:00:00\",\"2021-10-20T00:00:00\",\"2021-10-21T00:00:00\",\"2021-10-22T00:00:00\",\"2021-10-23T00:00:00\",\"2021-10-24T00:00:00\",\"2021-10-25T00:00:00\",\"2021-10-26T00:00:00\",\"2021-10-27T00:00:00\",\"2021-10-28T00:00:00\",\"2021-10-29T00:00:00\",\"2021-10-30T00:00:00\",\"2021-10-31T00:00:00\",\"2021-11-01T00:00:00\",\"2021-11-02T00:00:00\",\"2021-11-03T00:00:00\",\"2021-11-04T00:00:00\",\"2021-11-05T00:00:00\",\"2021-11-06T00:00:00\",\"2021-11-07T00:00:00\",\"2021-11-08T00:00:00\",\"2021-11-09T00:00:00\",\"2021-11-10T00:00:00\",\"2021-11-11T00:00:00\",\"2021-11-12T00:00:00\",\"2021-11-13T00:00:00\",\"2021-11-14T00:00:00\",\"2021-11-15T00:00:00\",\"2021-11-16T00:00:00\",\"2021-11-17T00:00:00\",\"2021-11-18T00:00:00\",\"2021-11-19T00:00:00\",\"2021-11-20T00:00:00\",\"2021-11-21T00:00:00\",\"2021-11-22T00:00:00\",\"2021-11-23T00:00:00\",\"2021-11-24T00:00:00\",\"2021-11-25T00:00:00\",\"2021-11-26T00:00:00\",\"2021-11-27T00:00:00\",\"2021-11-28T00:00:00\",\"2021-11-29T00:00:00\",\"2021-11-30T00:00:00\",\"2021-12-01T00:00:00\",\"2021-12-02T00:00:00\",\"2021-12-03T00:00:00\",\"2021-12-04T00:00:00\",\"2021-12-05T00:00:00\",\"2021-12-06T00:00:00\",\"2021-12-07T00:00:00\",\"2021-12-08T00:00:00\",\"2021-12-09T00:00:00\",\"2021-12-10T00:00:00\",\"2021-12-11T00:00:00\",\"2021-12-12T00:00:00\",\"2021-12-13T00:00:00\",\"2021-12-14T00:00:00\",\"2021-12-15T00:00:00\",\"2021-12-16T00:00:00\",\"2021-12-17T00:00:00\",\"2021-12-18T00:00:00\",\"2021-12-19T00:00:00\",\"2021-12-20T00:00:00\",\"2021-12-21T00:00:00\",\"2021-12-22T00:00:00\",\"2021-12-23T00:00:00\",\"2021-12-24T00:00:00\",\"2021-12-25T00:00:00\",\"2021-12-26T00:00:00\",\"2021-12-27T00:00:00\",\"2021-12-28T00:00:00\",\"2021-12-29T00:00:00\",\"2021-12-30T00:00:00\",\"2021-12-31T00:00:00\",\"2022-01-01T00:00:00\",\"2022-01-02T00:00:00\",\"2022-01-03T00:00:00\",\"2022-01-04T00:00:00\",\"2022-01-05T00:00:00\",\"2022-01-06T00:00:00\",\"2022-01-07T00:00:00\",\"2022-01-08T00:00:00\",\"2022-01-09T00:00:00\",\"2022-01-10T00:00:00\",\"2022-01-11T00:00:00\",\"2022-01-12T00:00:00\",\"2022-01-13T00:00:00\",\"2022-01-14T00:00:00\",\"2022-01-15T00:00:00\",\"2022-01-16T00:00:00\",\"2022-01-17T00:00:00\",\"2022-01-18T00:00:00\",\"2022-01-19T00:00:00\",\"2022-01-20T00:00:00\",\"2022-01-21T00:00:00\",\"2022-01-22T00:00:00\",\"2022-01-23T00:00:00\",\"2022-01-24T00:00:00\",\"2022-01-25T00:00:00\",\"2022-01-26T00:00:00\",\"2022-01-27T00:00:00\",\"2022-01-28T00:00:00\",\"2022-01-29T00:00:00\",\"2022-01-30T00:00:00\",\"2022-01-31T00:00:00\",\"2022-02-01T00:00:00\",\"2022-02-02T00:00:00\",\"2022-02-03T00:00:00\",\"2022-02-04T00:00:00\",\"2022-02-05T00:00:00\",\"2022-02-06T00:00:00\",\"2022-02-07T00:00:00\",\"2022-02-08T00:00:00\",\"2022-02-09T00:00:00\",\"2022-02-10T00:00:00\",\"2022-02-11T00:00:00\",\"2022-02-12T00:00:00\",\"2022-02-13T00:00:00\",\"2022-02-14T00:00:00\",\"2022-02-15T00:00:00\",\"2022-02-16T00:00:00\",\"2022-02-17T00:00:00\",\"2022-02-18T00:00:00\",\"2022-02-19T00:00:00\",\"2022-02-20T00:00:00\",\"2022-02-21T00:00:00\",\"2022-02-22T00:00:00\",\"2022-02-23T00:00:00\",\"2022-02-24T00:00:00\",\"2022-02-25T00:00:00\",\"2022-02-26T00:00:00\",\"2022-02-27T00:00:00\",\"2022-02-28T00:00:00\",\"2022-03-01T00:00:00\",\"2022-03-02T00:00:00\",\"2022-03-03T00:00:00\",\"2022-03-04T00:00:00\",\"2022-03-05T00:00:00\",\"2022-03-06T00:00:00\",\"2022-03-07T00:00:00\",\"2022-03-08T00:00:00\",\"2022-03-09T00:00:00\",\"2022-03-10T00:00:00\",\"2022-03-11T00:00:00\",\"2022-03-12T00:00:00\",\"2022-03-13T00:00:00\",\"2022-03-14T00:00:00\",\"2022-03-15T00:00:00\",\"2022-03-16T00:00:00\",\"2022-03-17T00:00:00\",\"2022-03-18T00:00:00\",\"2022-03-19T00:00:00\",\"2022-03-20T00:00:00\",\"2022-03-21T00:00:00\",\"2022-03-22T00:00:00\",\"2022-03-23T00:00:00\",\"2022-03-24T00:00:00\",\"2022-03-25T00:00:00\",\"2022-03-26T00:00:00\",\"2022-03-27T00:00:00\",\"2022-03-28T00:00:00\",\"2022-03-29T00:00:00\",\"2022-03-30T00:00:00\",\"2022-03-31T00:00:00\",\"2022-04-01T00:00:00\",\"2022-04-02T00:00:00\",\"2022-04-03T00:00:00\",\"2022-04-04T00:00:00\",\"2022-04-05T00:00:00\",\"2022-04-06T00:00:00\",\"2022-04-07T00:00:00\",\"2022-04-08T00:00:00\",\"2022-04-09T00:00:00\",\"2022-04-10T00:00:00\",\"2022-04-11T00:00:00\",\"2022-04-12T00:00:00\",\"2022-04-13T00:00:00\",\"2022-04-14T00:00:00\",\"2022-04-15T00:00:00\",\"2022-04-16T00:00:00\",\"2022-04-17T00:00:00\",\"2022-04-18T00:00:00\",\"2022-04-19T00:00:00\",\"2022-04-20T00:00:00\",\"2022-04-21T00:00:00\",\"2022-04-22T00:00:00\",\"2022-04-23T00:00:00\",\"2022-04-24T00:00:00\",\"2022-04-25T00:00:00\",\"2022-04-26T00:00:00\",\"2022-04-27T00:00:00\",\"2022-04-28T00:00:00\",\"2022-04-29T00:00:00\",\"2022-04-30T00:00:00\",\"2022-05-01T00:00:00\",\"2022-05-02T00:00:00\",\"2022-05-03T00:00:00\",\"2022-05-04T00:00:00\",\"2022-05-05T00:00:00\",\"2022-05-06T00:00:00\",\"2022-05-07T00:00:00\",\"2022-05-08T00:00:00\",\"2022-05-09T00:00:00\",\"2022-05-10T00:00:00\",\"2022-05-11T00:00:00\",\"2022-05-12T00:00:00\",\"2022-05-13T00:00:00\",\"2022-05-14T00:00:00\",\"2022-05-15T00:00:00\",\"2022-05-16T00:00:00\",\"2022-05-17T00:00:00\",\"2022-05-18T00:00:00\",\"2022-05-19T00:00:00\",\"2022-05-20T00:00:00\",\"2022-05-21T00:00:00\",\"2022-05-22T00:00:00\",\"2022-05-23T00:00:00\",\"2022-05-24T00:00:00\",\"2022-05-25T00:00:00\",\"2022-05-26T00:00:00\",\"2022-05-27T00:00:00\",\"2022-05-28T00:00:00\",\"2022-05-29T00:00:00\",\"2022-05-30T00:00:00\"],\"xaxis\":\"x\",\"y\":[7.652624922638296e-10,0.12070244538082844,0.12832141804065583,0.09949154258198384,0.164361458076809,0.01592481749965108,0.00831352516361733,0.05662208997546181,0.09956470652693453,0.09146719087566085,0.10230008023785259,0.07603555142804064,0.049265442551463645,0.05385723237632242,0.046498008044646655,0.05374212156305688,0.05692624258900439,0.0835323459672552,0.07703507835690346,0.07042109956480233,0.07314460392233979,0.10402591373658904,0.12618058961434664,0.10568912690301024,0.12117540779409261,0.14304712568711042,0.12215155724460097,0.14944814951016228,0.18924269279803949,0.16897057583569827,0.1739019696816911,0.15542002504979255,0.1751756067327585,0.1915189832649656,0.1843860752546952,0.15359428399854463,0.13039524159140983,0.13529057615498233,0.1003019052985771,0.11193615378639024,0.11268495844303136,0.08054418795244142,0.0827722884729585,0.11322071054502847,0.10332893147406472,0.07720176951960048,0.07287888508579932,0.03923750458321082,0.05873186865102198,0.0742392365246228,0.04771947501435703,0.06661008201868304,0.0933573911130301,0.11451017153001869,0.14703405999563912,0.1600185548390214,0.13989386425004474,0.1517793895925698,0.12634455938847935,0.102244113460905,0.11179077775146035,0.141290438211333,0.1333550101341916,0.12325282583050981,0.12829186219036837,0.10985364756725846,0.09051215177009822,0.0952398046854247,0.09614217807239478,0.07411437782991745,0.09396263435930993,0.1005187367815463,0.0913220889159149,0.07823139062605411,0.05823413689378176,0.03928212566851369,0.033673251867647386,0.01701632644586379,0.009270088459275627,0.0017578666603248472,0.0015508869765789024,0.010751827117465224,0.025949157464452505,0.032210222001474303,0.042059832692102256,0.02460399260369514,0.02836528480959019,0.0518894276745441,0.06837676085896116,0.043483116134309385,0.03798236034209165,0.034460893890267685,0.036873922911820456,0.011935129503473974,0.0009927077174755328,0.013940195872715666,0.006397219355158301,0.00481227742506074,0.014686977354431224,0.025338477279286065,0.018559483132741222,0.01756516030850966,0.010724429000897706,0.027290804465836926,0.009866823391182278,0.011347068141285721,0.005212810667566431,0.023256987090614467,0.01129376302626739,0.03001285126606751,0.04140095830266394,0.01867106487190809,0.038666835284315526,0.027554237022501205,0.05647366359834566,0.06121169377207622,0.06988598300883214,0.07109113257938035,0.07887300803483593,0.08531090975320996,0.06686431663417905,0.08247613449866109,0.08390327992037483,0.0702339827328638,0.08224133569199762,0.04851866462054169,0.05268513148146417,0.06929127611725719,0.08231621228786526,0.09454321680589184,0.10921205533827813,0.11520074219174767,0.10670435988184276,0.11295208862147493,0.11361589689738086,0.11599712025909759,0.12399536831393018,0.11609497892027096,0.1172810935239045,0.11260363359942391,0.11494115815262063,0.11613772706827649,0.12178813778280384,0.11787909967879856,0.10817078416587372,0.11542274518572831,0.12255078493267746,0.1322189241820709,0.14239820235963319,0.158621904713071,0.17529125305799986,0.17072212755753147,0.1787408825025152,0.17556907231734387,0.15934071622656354,0.13763192125726212,0.08447652182123322,0.09058502011319228,0.08982892356243166,0.06684617349130278,0.06458813894728616,0.08412964614028956,0.08800324927261449,0.08664112637437144,0.09119881146130168,0.10414380063512663,0.11881412435635305,0.13344822940792023,0.1340209508405031,0.1341039791604423,0.1380125094179394,0.14364410381804718,0.14558417425297554,0.14990345457096776,0.1515505476494231,0.166634998460479,0.16631656307555417,0.16096217020095102,0.16342303907443323,0.1728064450077103,0.15630734792495715,0.15286915524597602,0.15744935184414166,0.16805699006600874,0.1550404201473545,0.16457067035632988,0.159179956971038,0.151071778416581,0.17081935674391271,0.16242072419344428,0.16232232239926914,0.1549967079448577,0.15678514444021505,0.1513555112752472,0.1602047436948594,0.16702603254870532,0.1728988109229179,0.17029777433673332,0.18048925714498162,0.17361037139872149,0.18837898484415708,0.1872028206935701,0.19202414968457898,0.1868646993234107,0.18348985294571593,0.1959553446204616,0.1993180190532191,0.20001773791935457,0.19519594417194594,0.19425668487900033,0.1996358691185185,0.19802609583065492,0.20159242793017274,0.202654286528682,0.20771087141969438,0.18279793750645223,0.19196381201805873,0.17016654378952467,0.18087700113749983,0.17372446406295908,0.1711589567953212,0.1553148662508973,0.1532682483686412,0.13370994598862274,0.14282995551563143,0.1300781961038476,0.13707104527102426,0.12517109896999187,0.1253872309819171,0.13739379306257327,0.13271811036021428,0.13016233526359414,0.13265636106587878,0.13694377920170953,0.14454266557637335,0.1453265467060564,0.14480251363910512,0.13206515377697786,0.13299416687523757,0.13270573825704737,0.13985416740160428,0.14790078368831436,0.14674032913826157,0.13891851406997655,0.14393308942658614,0.14456357224642832,0.14909287022104067,0.15635341111913706,0.1540585794365896,0.1517836239977918,0.14289634275999166,0.14224336976894958,0.14166196181409202,0.14610719928152985,0.1502677291964909,0.15278442026181874,0.1347785651836831,0.1513455512378531,0.17027325245971037,0.20029592203932073,0.1665126320261753,0.14919715413970971,0.15727092907160717,0.15539043407025455,0.15121226346794245,0.15044871196735918,0.1514781067788395,0.15677946548157456,0.16964157332552143,0.1750509556206502,0.1661241082236781,0.16992788666027797,0.16399023234915414,0.16233031618951996,0.16223352594170304,0.1699348137509856,0.17117232141037433,0.1672882552692201],\"yaxis\":\"y\",\"type\":\"scattergl\"},{\"hovertemplate\":\"%{y}\",\"legendgroup\":\"cai_benchmark\",\"line\":{\"color\":\"gray\",\"dash\":\"solid\"},\"marker\":{\"symbol\":\"circle\"},\"mode\":\"lines\",\"name\":\"cai_benchmark\",\"showlegend\":true,\"x\":[\"2021-08-26T00:00:00\",\"2021-08-27T00:00:00\",\"2021-08-28T00:00:00\",\"2021-08-29T00:00:00\",\"2021-08-30T00:00:00\",\"2021-08-31T00:00:00\",\"2021-09-01T00:00:00\",\"2021-09-02T00:00:00\",\"2021-09-03T00:00:00\",\"2021-09-04T00:00:00\",\"2021-09-05T00:00:00\",\"2021-09-06T00:00:00\",\"2021-09-07T00:00:00\",\"2021-09-08T00:00:00\",\"2021-09-09T00:00:00\",\"2021-09-10T00:00:00\",\"2021-09-11T00:00:00\",\"2021-09-12T00:00:00\",\"2021-09-13T00:00:00\",\"2021-09-14T00:00:00\",\"2021-09-15T00:00:00\",\"2021-09-16T00:00:00\",\"2021-09-17T00:00:00\",\"2021-09-18T00:00:00\",\"2021-09-19T00:00:00\",\"2021-09-20T00:00:00\",\"2021-09-21T00:00:00\",\"2021-09-22T00:00:00\",\"2021-09-23T00:00:00\",\"2021-09-24T00:00:00\",\"2021-09-25T00:00:00\",\"2021-09-26T00:00:00\",\"2021-09-27T00:00:00\",\"2021-09-28T00:00:00\",\"2021-09-29T00:00:00\",\"2021-09-30T00:00:00\",\"2021-10-01T00:00:00\",\"2021-10-02T00:00:00\",\"2021-10-03T00:00:00\",\"2021-10-04T00:00:00\",\"2021-10-05T00:00:00\",\"2021-10-06T00:00:00\",\"2021-10-07T00:00:00\",\"2021-10-08T00:00:00\",\"2021-10-09T00:00:00\",\"2021-10-10T00:00:00\",\"2021-10-11T00:00:00\",\"2021-10-12T00:00:00\",\"2021-10-13T00:00:00\",\"2021-10-14T00:00:00\",\"2021-10-15T00:00:00\",\"2021-10-16T00:00:00\",\"2021-10-17T00:00:00\",\"2021-10-18T00:00:00\",\"2021-10-19T00:00:00\",\"2021-10-20T00:00:00\",\"2021-10-21T00:00:00\",\"2021-10-22T00:00:00\",\"2021-10-23T00:00:00\",\"2021-10-24T00:00:00\",\"2021-10-25T00:00:00\",\"2021-10-26T00:00:00\",\"2021-10-27T00:00:00\",\"2021-10-28T00:00:00\",\"2021-10-29T00:00:00\",\"2021-10-30T00:00:00\",\"2021-10-31T00:00:00\",\"2021-11-01T00:00:00\",\"2021-11-02T00:00:00\",\"2021-11-03T00:00:00\",\"2021-11-04T00:00:00\",\"2021-11-05T00:00:00\",\"2021-11-06T00:00:00\",\"2021-11-07T00:00:00\",\"2021-11-08T00:00:00\",\"2021-11-09T00:00:00\",\"2021-11-10T00:00:00\",\"2021-11-11T00:00:00\",\"2021-11-12T00:00:00\",\"2021-11-13T00:00:00\",\"2021-11-14T00:00:00\",\"2021-11-15T00:00:00\",\"2021-11-16T00:00:00\",\"2021-11-17T00:00:00\",\"2021-11-18T00:00:00\",\"2021-11-19T00:00:00\",\"2021-11-20T00:00:00\",\"2021-11-21T00:00:00\",\"2021-11-22T00:00:00\",\"2021-11-23T00:00:00\",\"2021-11-24T00:00:00\",\"2021-11-25T00:00:00\",\"2021-11-26T00:00:00\",\"2021-11-27T00:00:00\",\"2021-11-28T00:00:00\",\"2021-11-29T00:00:00\",\"2021-11-30T00:00:00\",\"2021-12-01T00:00:00\",\"2021-12-02T00:00:00\",\"2021-12-03T00:00:00\",\"2021-12-04T00:00:00\",\"2021-12-05T00:00:00\",\"2021-12-06T00:00:00\",\"2021-12-07T00:00:00\",\"2021-12-08T00:00:00\",\"2021-12-09T00:00:00\",\"2021-12-10T00:00:00\",\"2021-12-11T00:00:00\",\"2021-12-12T00:00:00\",\"2021-12-13T00:00:00\",\"2021-12-14T00:00:00\",\"2021-12-15T00:00:00\",\"2021-12-16T00:00:00\",\"2021-12-17T00:00:00\",\"2021-12-18T00:00:00\",\"2021-12-19T00:00:00\",\"2021-12-20T00:00:00\",\"2021-12-21T00:00:00\",\"2021-12-22T00:00:00\",\"2021-12-23T00:00:00\",\"2021-12-24T00:00:00\",\"2021-12-25T00:00:00\",\"2021-12-26T00:00:00\",\"2021-12-27T00:00:00\",\"2021-12-28T00:00:00\",\"2021-12-29T00:00:00\",\"2021-12-30T00:00:00\",\"2021-12-31T00:00:00\",\"2022-01-01T00:00:00\",\"2022-01-02T00:00:00\",\"2022-01-03T00:00:00\",\"2022-01-04T00:00:00\",\"2022-01-05T00:00:00\",\"2022-01-06T00:00:00\",\"2022-01-07T00:00:00\",\"2022-01-08T00:00:00\",\"2022-01-09T00:00:00\",\"2022-01-10T00:00:00\",\"2022-01-11T00:00:00\",\"2022-01-12T00:00:00\",\"2022-01-13T00:00:00\",\"2022-01-14T00:00:00\",\"2022-01-15T00:00:00\",\"2022-01-16T00:00:00\",\"2022-01-17T00:00:00\",\"2022-01-18T00:00:00\",\"2022-01-19T00:00:00\",\"2022-01-20T00:00:00\",\"2022-01-21T00:00:00\",\"2022-01-22T00:00:00\",\"2022-01-23T00:00:00\",\"2022-01-24T00:00:00\",\"2022-01-25T00:00:00\",\"2022-01-26T00:00:00\",\"2022-01-27T00:00:00\",\"2022-01-28T00:00:00\",\"2022-01-29T00:00:00\",\"2022-01-30T00:00:00\",\"2022-01-31T00:00:00\",\"2022-02-01T00:00:00\",\"2022-02-02T00:00:00\",\"2022-02-03T00:00:00\",\"2022-02-04T00:00:00\",\"2022-02-05T00:00:00\",\"2022-02-06T00:00:00\",\"2022-02-07T00:00:00\",\"2022-02-08T00:00:00\",\"2022-02-09T00:00:00\",\"2022-02-10T00:00:00\",\"2022-02-11T00:00:00\",\"2022-02-12T00:00:00\",\"2022-02-13T00:00:00\",\"2022-02-14T00:00:00\",\"2022-02-15T00:00:00\",\"2022-02-16T00:00:00\",\"2022-02-17T00:00:00\",\"2022-02-18T00:00:00\",\"2022-02-19T00:00:00\",\"2022-02-20T00:00:00\",\"2022-02-21T00:00:00\",\"2022-02-22T00:00:00\",\"2022-02-23T00:00:00\",\"2022-02-24T00:00:00\",\"2022-02-25T00:00:00\",\"2022-02-26T00:00:00\",\"2022-02-27T00:00:00\",\"2022-02-28T00:00:00\",\"2022-03-01T00:00:00\",\"2022-03-02T00:00:00\",\"2022-03-03T00:00:00\",\"2022-03-04T00:00:00\",\"2022-03-05T00:00:00\",\"2022-03-06T00:00:00\",\"2022-03-07T00:00:00\",\"2022-03-08T00:00:00\",\"2022-03-09T00:00:00\",\"2022-03-10T00:00:00\",\"2022-03-11T00:00:00\",\"2022-03-12T00:00:00\",\"2022-03-13T00:00:00\",\"2022-03-14T00:00:00\",\"2022-03-15T00:00:00\",\"2022-03-16T00:00:00\",\"2022-03-17T00:00:00\",\"2022-03-18T00:00:00\",\"2022-03-19T00:00:00\",\"2022-03-20T00:00:00\",\"2022-03-21T00:00:00\",\"2022-03-22T00:00:00\",\"2022-03-23T00:00:00\",\"2022-03-24T00:00:00\",\"2022-03-25T00:00:00\",\"2022-03-26T00:00:00\",\"2022-03-27T00:00:00\",\"2022-03-28T00:00:00\",\"2022-03-29T00:00:00\",\"2022-03-30T00:00:00\",\"2022-03-31T00:00:00\",\"2022-04-01T00:00:00\",\"2022-04-02T00:00:00\",\"2022-04-03T00:00:00\",\"2022-04-04T00:00:00\",\"2022-04-05T00:00:00\",\"2022-04-06T00:00:00\",\"2022-04-07T00:00:00\",\"2022-04-08T00:00:00\",\"2022-04-09T00:00:00\",\"2022-04-10T00:00:00\",\"2022-04-11T00:00:00\",\"2022-04-12T00:00:00\",\"2022-04-13T00:00:00\",\"2022-04-14T00:00:00\",\"2022-04-15T00:00:00\",\"2022-04-16T00:00:00\",\"2022-04-17T00:00:00\",\"2022-04-18T00:00:00\",\"2022-04-19T00:00:00\",\"2022-04-20T00:00:00\",\"2022-04-21T00:00:00\",\"2022-04-22T00:00:00\",\"2022-04-23T00:00:00\",\"2022-04-24T00:00:00\",\"2022-04-25T00:00:00\",\"2022-04-26T00:00:00\",\"2022-04-27T00:00:00\",\"2022-04-28T00:00:00\",\"2022-04-29T00:00:00\",\"2022-04-30T00:00:00\",\"2022-05-01T00:00:00\",\"2022-05-02T00:00:00\",\"2022-05-03T00:00:00\",\"2022-05-04T00:00:00\",\"2022-05-05T00:00:00\",\"2022-05-06T00:00:00\",\"2022-05-07T00:00:00\",\"2022-05-08T00:00:00\",\"2022-05-09T00:00:00\",\"2022-05-10T00:00:00\",\"2022-05-11T00:00:00\",\"2022-05-12T00:00:00\",\"2022-05-13T00:00:00\",\"2022-05-14T00:00:00\",\"2022-05-15T00:00:00\",\"2022-05-16T00:00:00\",\"2022-05-17T00:00:00\",\"2022-05-18T00:00:00\",\"2022-05-19T00:00:00\",\"2022-05-20T00:00:00\",\"2022-05-21T00:00:00\",\"2022-05-22T00:00:00\",\"2022-05-23T00:00:00\",\"2022-05-24T00:00:00\",\"2022-05-25T00:00:00\",\"2022-05-26T00:00:00\",\"2022-05-27T00:00:00\",\"2022-05-28T00:00:00\",\"2022-05-29T00:00:00\",\"2022-05-30T00:00:00\"],\"xaxis\":\"x\",\"y\":[0.0,0.12070244466016267,0.12832141732579774,0.09949154184702133,0.1643614573942398,0.01592481673516491,2.7755575615628914e-17,0.04839969740937014,0.09155431171755324,0.0834073624811433,0.09430737907978315,0.06789369505689966,0.041019118106019714,0.045625421147799966,0.038243617052470785,0.0455099292838716,0.04870491734381699,0.07542834513582766,0.0688980515538867,0.06225335871482804,0.06498915565276314,0.09604463464485488,0.11836372123229766,0.09771904478776836,0.11331850853631292,0.13537757860312855,0.11430233274924581,0.14183953332558802,0.18207498289988208,0.16156487799185848,0.16655160472081348,0.14787074813408133,0.1678397999741958,0.18437973419387138,0.17715881586506813,0.146026610157914,0.0,0.005267000390572013,0.031754595909464445,0.019603621054160858,0.018816192230858925,0.05203715075400425,0.04977172023203599,0.018252404287667473,0.02860812813054453,0.05542528037055669,0.05978907305889,0.09306230696043397,0.07392804205793219,0.05841805574458481,0.08478605501936226,0.06608098143706381,0.03893366446583152,0.016894092113153708,0.018020839604827282,0.032320900704162076,0.010246250323061812,0.023222568202541927,0.0043364495323917895,0.029736957977148065,0.019756420031083632,0.011761989411208956,0.0031810262043482362,0.007633121086778605,0.0022542195883618332,0.02179011468152864,0.0418592400825708,0.0,0.0009366804794889438,0.02173922418680649,0.001324585083391977,0.005489130324663055,0.0040589257628979025,0.017530886535282814,0.0378452584660334,0.05680780139695685,0.06236660002757491,0.0787338726498451,0.08627439647083776,0.09693275785174127,0.09374430415837895,0.08483546427937858,0.06998246381863707,0.06381261328722132,0.054045954703408366,0.07130415431981516,0.06760506129998128,0.04422459806705506,0.027581507832637298,0.05262849504167866,0.05809810830268494,0.06158744276650077,0.05919745571604934,0.10668983709246485,0.09619613283813397,0.08173366739706206,0.08905963074735149,0.0,0.009877492407479982,0.02053621625259386,0.013752118700587374,0.012757196266250603,0.00591337230704958,0.022490341750070614,0.014676313379767075,0.016155816797341155,0.0004005734368313085,0.018452970623088927,0.0064828949493984656,0.025215141149155795,0.03661786280916324,0.01386377010489881,0.03387977464850778,0.022754028209564542,0.05171760671543418,0.05646594851452311,0.06516136344878787,0.06636967814369438,0.07417334318912361,0.08063104132321305,0.06213200798485344,0.07778735166329617,0.0792189461188984,0.06551027137140716,0.07755182843328287,0.043747244545076835,0.04792145320883548,0.0645651153444457,0.0,0.01261985763236767,0.027899085543695606,0.03418107108156848,0.025276201531189812,0.03181927171800858,0.03251610295401142,0.035018392552890354,0.04345323499291803,0.03512131382438752,0.03636933934046141,0.03145360845998654,0.03390823993097175,0.03516627566511896,0.04112089616335762,0.03699894382414326,0.02680943930598023,0.03441444180952821,0.04192637157522716,0.05217411426077159,0.06303761735109553,0.08051065250159839,0.09867000172970528,0.09367144930060689,0.10245442997351792,0.09897444650144119,0.08128937513956253,0.05794146273535428,0.002222118079315827,0.008523019346364263,0.007741691199963596,0.0,0.00229771581996438,0.017681211134287417,0.02166691390632447,0.02026440852735026,0.024961324006787133,0.038365983913521556,0.053673095642019164,0.06906648728137102,0.06967146480570763,0.06975918529141828,0.07389317379164603,0.07986542013067588,0.08192717838624175,0.08652538185912742,0.08828175357898144,0.10444232023279562,0.1040997582280716,0.09834881365881715,0.10098979856096041,0.11109343225212456,0.09336321458616417,0.08968900852410727,0.09458517118995124,0.10597279602751714,0.09200849903420147,0.10222267036990335,0.09643842303728484,0.0,0.02202063494005707,0.012584055058632165,0.012474121694182383,0.004330538663302269,0.006311321043079882,0.0003122961466173746,0.010111894354572715,0.017745318972464036,0.02437359887405835,0.02143148306401202,0.03301874517927844,0.025180267716091304,0.04209961591126926,0.04073968914596138,0.04632818860711155,0.040349143340319665,0.03646087672613113,0.050912253638592836,0.05485303098152877,0.05567533360458676,0.05002481214164048,0.04892846268442699,0.05522646718257318,0.053336851349773146,0.05752878979681464,0.05878089758861574,0.06476866124933589,0.03566590152748986,0.04625802238587101,0.02128331716215981,0.0,0.008180788948207923,0.011091567180804729,0.02879823743436649,0.031052150747934548,0.05221870384952343,0.04243189938279665,0.056076291530713085,0.04862854594982438,0.06125312561830637,0.06102596417301423,0.04828278266432662,0.05327444202339243,0.05598717347687085,0.05334011431407876,0.04876483822688549,0.04057787998637252,0.03972761089327603,0.040296144405189194,0.053968553189087165,0.05298076795756662,0.05328760065903068,0.045641051337576594,0.036927761194882947,0.03819136534037257,0.04664690481997974,0.04123833787600162,0.040555216682415685,0.03562723686039318,0.02765162303593241,0.0,0.002509698252821546,0.012240068064977933,0.012950378258709871,0.013582312221670056,0.008738128669582984,0.0041777064026937705,0.0014065911415322152,0.021026362516831237,0.0029920827712986153,0.01811550024667319,0.05274798533482114,0.01387809499435158,0.005353641249572494,0.003557087406328846,0.0014728944687098788,0.0031387958250764514,0.003978743369217941,0.0028461493358056533,0.0030118716612989593,0.01740220197073497,0.02353068813265391,0.0134415597621447,0.017725432941008312,0.011048138071656138,0.009191160848738389,0.009083010145899184,0.01773325479878521,0.01913180832941322,0.014750262121211027],\"yaxis\":\"y\",\"type\":\"scattergl\"},{\"hovertemplate\":\"%{y}\",\"legendgroup\":\"cai_theoretical\",\"line\":{\"color\":\"#9467bd\",\"dash\":\"solid\"},\"marker\":{\"symbol\":\"circle\"},\"mode\":\"lines\",\"name\":\"cai_theoretical\",\"showlegend\":true,\"x\":[\"2021-08-26T00:00:00\",\"2021-08-27T00:00:00\",\"2021-08-28T00:00:00\",\"2021-08-29T00:00:00\",\"2021-08-30T00:00:00\",\"2021-08-31T00:00:00\",\"2021-09-01T00:00:00\",\"2021-09-02T00:00:00\",\"2021-09-03T00:00:00\",\"2021-09-04T00:00:00\",\"2021-09-05T00:00:00\",\"2021-09-06T00:00:00\",\"2021-09-07T00:00:00\",\"2021-09-08T00:00:00\",\"2021-09-09T00:00:00\",\"2021-09-10T00:00:00\",\"2021-09-11T00:00:00\",\"2021-09-12T00:00:00\",\"2021-09-13T00:00:00\",\"2021-09-14T00:00:00\",\"2021-09-15T00:00:00\",\"2021-09-16T00:00:00\",\"2021-09-17T00:00:00\",\"2021-09-18T00:00:00\",\"2021-09-19T00:00:00\",\"2021-09-20T00:00:00\",\"2021-09-21T00:00:00\",\"2021-09-22T00:00:00\",\"2021-09-23T00:00:00\",\"2021-09-24T00:00:00\",\"2021-09-25T00:00:00\",\"2021-09-26T00:00:00\",\"2021-09-27T00:00:00\",\"2021-09-28T00:00:00\",\"2021-09-29T00:00:00\",\"2021-09-30T00:00:00\",\"2021-10-01T00:00:00\",\"2021-10-02T00:00:00\",\"2021-10-03T00:00:00\",\"2021-10-04T00:00:00\",\"2021-10-05T00:00:00\",\"2021-10-06T00:00:00\",\"2021-10-07T00:00:00\",\"2021-10-08T00:00:00\",\"2021-10-09T00:00:00\",\"2021-10-10T00:00:00\",\"2021-10-11T00:00:00\",\"2021-10-12T00:00:00\",\"2021-10-13T00:00:00\",\"2021-10-14T00:00:00\",\"2021-10-15T00:00:00\",\"2021-10-16T00:00:00\",\"2021-10-17T00:00:00\",\"2021-10-18T00:00:00\",\"2021-10-19T00:00:00\",\"2021-10-20T00:00:00\",\"2021-10-21T00:00:00\",\"2021-10-22T00:00:00\",\"2021-10-23T00:00:00\",\"2021-10-24T00:00:00\",\"2021-10-25T00:00:00\",\"2021-10-26T00:00:00\",\"2021-10-27T00:00:00\",\"2021-10-28T00:00:00\",\"2021-10-29T00:00:00\",\"2021-10-30T00:00:00\",\"2021-10-31T00:00:00\",\"2021-11-01T00:00:00\",\"2021-11-02T00:00:00\",\"2021-11-03T00:00:00\",\"2021-11-04T00:00:00\",\"2021-11-05T00:00:00\",\"2021-11-06T00:00:00\",\"2021-11-07T00:00:00\",\"2021-11-08T00:00:00\",\"2021-11-09T00:00:00\",\"2021-11-10T00:00:00\",\"2021-11-11T00:00:00\",\"2021-11-12T00:00:00\",\"2021-11-13T00:00:00\",\"2021-11-14T00:00:00\",\"2021-11-15T00:00:00\",\"2021-11-16T00:00:00\",\"2021-11-17T00:00:00\",\"2021-11-18T00:00:00\",\"2021-11-19T00:00:00\",\"2021-11-20T00:00:00\",\"2021-11-21T00:00:00\",\"2021-11-22T00:00:00\",\"2021-11-23T00:00:00\",\"2021-11-24T00:00:00\",\"2021-11-25T00:00:00\",\"2021-11-26T00:00:00\",\"2021-11-27T00:00:00\",\"2021-11-28T00:00:00\",\"2021-11-29T00:00:00\",\"2021-11-30T00:00:00\",\"2021-12-01T00:00:00\",\"2021-12-02T00:00:00\",\"2021-12-03T00:00:00\",\"2021-12-04T00:00:00\",\"2021-12-05T00:00:00\",\"2021-12-06T00:00:00\",\"2021-12-07T00:00:00\",\"2021-12-08T00:00:00\",\"2021-12-09T00:00:00\",\"2021-12-10T00:00:00\",\"2021-12-11T00:00:00\",\"2021-12-12T00:00:00\",\"2021-12-13T00:00:00\",\"2021-12-14T00:00:00\",\"2021-12-15T00:00:00\",\"2021-12-16T00:00:00\",\"2021-12-17T00:00:00\",\"2021-12-18T00:00:00\",\"2021-12-19T00:00:00\",\"2021-12-20T00:00:00\",\"2021-12-21T00:00:00\",\"2021-12-22T00:00:00\",\"2021-12-23T00:00:00\",\"2021-12-24T00:00:00\",\"2021-12-25T00:00:00\",\"2021-12-26T00:00:00\",\"2021-12-27T00:00:00\",\"2021-12-28T00:00:00\",\"2021-12-29T00:00:00\",\"2021-12-30T00:00:00\",\"2021-12-31T00:00:00\",\"2022-01-01T00:00:00\",\"2022-01-02T00:00:00\",\"2022-01-03T00:00:00\",\"2022-01-04T00:00:00\",\"2022-01-05T00:00:00\",\"2022-01-06T00:00:00\",\"2022-01-07T00:00:00\",\"2022-01-08T00:00:00\",\"2022-01-09T00:00:00\",\"2022-01-10T00:00:00\",\"2022-01-11T00:00:00\",\"2022-01-12T00:00:00\",\"2022-01-13T00:00:00\",\"2022-01-14T00:00:00\",\"2022-01-15T00:00:00\",\"2022-01-16T00:00:00\",\"2022-01-17T00:00:00\",\"2022-01-18T00:00:00\",\"2022-01-19T00:00:00\",\"2022-01-20T00:00:00\",\"2022-01-21T00:00:00\",\"2022-01-22T00:00:00\",\"2022-01-23T00:00:00\",\"2022-01-24T00:00:00\",\"2022-01-25T00:00:00\",\"2022-01-26T00:00:00\",\"2022-01-27T00:00:00\",\"2022-01-28T00:00:00\",\"2022-01-29T00:00:00\",\"2022-01-30T00:00:00\",\"2022-01-31T00:00:00\",\"2022-02-01T00:00:00\",\"2022-02-02T00:00:00\",\"2022-02-03T00:00:00\",\"2022-02-04T00:00:00\",\"2022-02-05T00:00:00\",\"2022-02-06T00:00:00\",\"2022-02-07T00:00:00\",\"2022-02-08T00:00:00\",\"2022-02-09T00:00:00\",\"2022-02-10T00:00:00\",\"2022-02-11T00:00:00\",\"2022-02-12T00:00:00\",\"2022-02-13T00:00:00\",\"2022-02-14T00:00:00\",\"2022-02-15T00:00:00\",\"2022-02-16T00:00:00\",\"2022-02-17T00:00:00\",\"2022-02-18T00:00:00\",\"2022-02-19T00:00:00\",\"2022-02-20T00:00:00\",\"2022-02-21T00:00:00\",\"2022-02-22T00:00:00\",\"2022-02-23T00:00:00\",\"2022-02-24T00:00:00\",\"2022-02-25T00:00:00\",\"2022-02-26T00:00:00\",\"2022-02-27T00:00:00\",\"2022-02-28T00:00:00\",\"2022-03-01T00:00:00\",\"2022-03-02T00:00:00\",\"2022-03-03T00:00:00\",\"2022-03-04T00:00:00\",\"2022-03-05T00:00:00\",\"2022-03-06T00:00:00\",\"2022-03-07T00:00:00\",\"2022-03-08T00:00:00\",\"2022-03-09T00:00:00\",\"2022-03-10T00:00:00\",\"2022-03-11T00:00:00\",\"2022-03-12T00:00:00\",\"2022-03-13T00:00:00\",\"2022-03-14T00:00:00\",\"2022-03-15T00:00:00\",\"2022-03-16T00:00:00\",\"2022-03-17T00:00:00\",\"2022-03-18T00:00:00\",\"2022-03-19T00:00:00\",\"2022-03-20T00:00:00\",\"2022-03-21T00:00:00\",\"2022-03-22T00:00:00\",\"2022-03-23T00:00:00\",\"2022-03-24T00:00:00\",\"2022-03-25T00:00:00\",\"2022-03-26T00:00:00\",\"2022-03-27T00:00:00\",\"2022-03-28T00:00:00\",\"2022-03-29T00:00:00\",\"2022-03-30T00:00:00\",\"2022-03-31T00:00:00\",\"2022-04-01T00:00:00\",\"2022-04-02T00:00:00\",\"2022-04-03T00:00:00\",\"2022-04-04T00:00:00\",\"2022-04-05T00:00:00\",\"2022-04-06T00:00:00\",\"2022-04-07T00:00:00\",\"2022-04-08T00:00:00\",\"2022-04-09T00:00:00\",\"2022-04-10T00:00:00\",\"2022-04-11T00:00:00\",\"2022-04-12T00:00:00\",\"2022-04-13T00:00:00\",\"2022-04-14T00:00:00\",\"2022-04-15T00:00:00\",\"2022-04-16T00:00:00\",\"2022-04-17T00:00:00\",\"2022-04-18T00:00:00\",\"2022-04-19T00:00:00\",\"2022-04-20T00:00:00\",\"2022-04-21T00:00:00\",\"2022-04-22T00:00:00\",\"2022-04-23T00:00:00\",\"2022-04-24T00:00:00\",\"2022-04-25T00:00:00\",\"2022-04-26T00:00:00\",\"2022-04-27T00:00:00\",\"2022-04-28T00:00:00\",\"2022-04-29T00:00:00\",\"2022-04-30T00:00:00\",\"2022-05-01T00:00:00\",\"2022-05-02T00:00:00\",\"2022-05-03T00:00:00\",\"2022-05-04T00:00:00\",\"2022-05-05T00:00:00\",\"2022-05-06T00:00:00\",\"2022-05-07T00:00:00\",\"2022-05-08T00:00:00\",\"2022-05-09T00:00:00\",\"2022-05-10T00:00:00\",\"2022-05-11T00:00:00\",\"2022-05-12T00:00:00\",\"2022-05-13T00:00:00\",\"2022-05-14T00:00:00\",\"2022-05-15T00:00:00\",\"2022-05-16T00:00:00\",\"2022-05-17T00:00:00\",\"2022-05-18T00:00:00\",\"2022-05-19T00:00:00\",\"2022-05-20T00:00:00\",\"2022-05-21T00:00:00\",\"2022-05-22T00:00:00\",\"2022-05-23T00:00:00\",\"2022-05-24T00:00:00\",\"2022-05-25T00:00:00\",\"2022-05-26T00:00:00\",\"2022-05-27T00:00:00\",\"2022-05-28T00:00:00\",\"2022-05-29T00:00:00\",\"2022-05-30T00:00:00\"],\"xaxis\":\"x\",\"y\":[0.0,0.0,0.0,0.0,0.0,0.0,2.7755575615628914e-17,0.0,0.0,2.7755575615628914e-17,0.0,0.0,0.0,0.0,0.0,0.0,0.0,0.0,0.0,0.0,2.7755575615628914e-17,0.0,0.0,0.0,2.7755575615628914e-17,0.0,0.0,0.0,0.0,0.0,0.0,0.0,0.0,0.0,0.0,0.0,2.7755575615628914e-17,2.7755575615628914e-17,0.0,0.0,0.0,0.0,0.0,0.0,0.0,0.0,2.7755575615628914e-17,0.0,2.7755575615628914e-17,0.0,0.0,0.0,0.0,0.0,0.0,0.0,0.0,0.0,0.0,0.0,2.7755575615628914e-17,0.0,0.0,0.0,0.0,2.7755575615628914e-17,0.0,0.0,0.0,0.0,0.0,0.0,0.0,0.0,0.0,2.7755575615628914e-17,0.0,0.0,0.0,0.0,0.0,0.0,0.0,0.0,0.0,0.0,2.7755575615628914e-17,0.0,2.7755575615628914e-17,0.0,0.0,0.0,0.0,0.0,0.0,0.0,0.0,2.7755575615628914e-17,0.0,0.0,0.0,0.0,2.7755575615628914e-17,0.0,0.0,0.0,2.7755575615628914e-17,0.0,0.0,0.0,0.0,0.0,0.0,0.0,0.0,0.0,0.0,2.7755575615628914e-17,0.0,0.0,0.0,0.0,2.7755575615628914e-17,2.7755575615628914e-17,0.0,0.0,2.7755575615628914e-17,2.7755575615628914e-17,0.0,0.0,0.0,0.0,0.0,0.0,0.0,0.0,0.0,0.0,0.0,0.0,0.0,0.0,0.0,0.0,0.0,0.0,2.7755575615628914e-17,0.0,0.0,0.0,0.0,0.0,0.0,0.0,0.0,0.0,0.0,0.0,0.0,2.7755575615628914e-17,0.0,0.0,0.0,0.0,0.0,0.0,2.7755575615628914e-17,0.0,0.0,0.0,0.0,0.0,0.0,2.7755575615628914e-17,0.0,0.0,0.0,0.0,0.0,0.0,0.0,0.0,0.0,0.0,2.7755575615628914e-17,0.0,0.0,0.0,0.0,0.0,0.0,0.0,0.0,0.0,2.7755575615628914e-17,0.0,2.7755575615628914e-17,0.0,0.0,0.0,2.7755575615628914e-17,0.0,0.0,0.0,2.7755575615628914e-17,0.0,0.0,2.7755575615628914e-17,0.0,0.0,0.0,0.0,0.0,0.0,0.0,0.0,2.7755575615628914e-17,0.0,0.0,0.0,0.0,0.0,0.0,0.0,2.7755575615628914e-17,0.0,2.7755575615628914e-17,0.0,0.0,0.0,0.0,0.0,0.0,0.0,0.0,0.0,0.0,2.7755575615628914e-17,0.0,0.0,0.0,0.0,2.7755575615628914e-17,0.0,0.0,0.0,0.0,0.0,0.0,0.0,2.7755575615628914e-17,0.0,0.0,0.0,0.0,0.0,0.0,0.0,0.0,0.0,0.0,0.0,0.0,0.0,0.0,2.7755575615628914e-17,0.0,0.0,0.0,0.0,0.0,0.0,0.0,0.0,0.0,0.0,0.0,0.0],\"yaxis\":\"y\",\"type\":\"scattergl\"}],                        {\"template\":{\"data\":{\"barpolar\":[{\"marker\":{\"line\":{\"color\":\"white\",\"width\":0.5},\"pattern\":{\"fillmode\":\"overlay\",\"size\":10,\"solidity\":0.2}},\"type\":\"barpolar\"}],\"bar\":[{\"error_x\":{\"color\":\"#2a3f5f\"},\"error_y\":{\"color\":\"#2a3f5f\"},\"marker\":{\"line\":{\"color\":\"white\",\"width\":0.5},\"pattern\":{\"fillmode\":\"overlay\",\"size\":10,\"solidity\":0.2}},\"type\":\"bar\"}],\"carpet\":[{\"aaxis\":{\"endlinecolor\":\"#2a3f5f\",\"gridcolor\":\"#C8D4E3\",\"linecolor\":\"#C8D4E3\",\"minorgridcolor\":\"#C8D4E3\",\"startlinecolor\":\"#2a3f5f\"},\"baxis\":{\"endlinecolor\":\"#2a3f5f\",\"gridcolor\":\"#C8D4E3\",\"linecolor\":\"#C8D4E3\",\"minorgridcolor\":\"#C8D4E3\",\"startlinecolor\":\"#2a3f5f\"},\"type\":\"carpet\"}],\"choropleth\":[{\"colorbar\":{\"outlinewidth\":0,\"ticks\":\"\"},\"type\":\"choropleth\"}],\"contourcarpet\":[{\"colorbar\":{\"outlinewidth\":0,\"ticks\":\"\"},\"type\":\"contourcarpet\"}],\"contour\":[{\"colorbar\":{\"outlinewidth\":0,\"ticks\":\"\"},\"colorscale\":[[0.0,\"#0d0887\"],[0.1111111111111111,\"#46039f\"],[0.2222222222222222,\"#7201a8\"],[0.3333333333333333,\"#9c179e\"],[0.4444444444444444,\"#bd3786\"],[0.5555555555555556,\"#d8576b\"],[0.6666666666666666,\"#ed7953\"],[0.7777777777777778,\"#fb9f3a\"],[0.8888888888888888,\"#fdca26\"],[1.0,\"#f0f921\"]],\"type\":\"contour\"}],\"heatmapgl\":[{\"colorbar\":{\"outlinewidth\":0,\"ticks\":\"\"},\"colorscale\":[[0.0,\"#0d0887\"],[0.1111111111111111,\"#46039f\"],[0.2222222222222222,\"#7201a8\"],[0.3333333333333333,\"#9c179e\"],[0.4444444444444444,\"#bd3786\"],[0.5555555555555556,\"#d8576b\"],[0.6666666666666666,\"#ed7953\"],[0.7777777777777778,\"#fb9f3a\"],[0.8888888888888888,\"#fdca26\"],[1.0,\"#f0f921\"]],\"type\":\"heatmapgl\"}],\"heatmap\":[{\"colorbar\":{\"outlinewidth\":0,\"ticks\":\"\"},\"colorscale\":[[0.0,\"#0d0887\"],[0.1111111111111111,\"#46039f\"],[0.2222222222222222,\"#7201a8\"],[0.3333333333333333,\"#9c179e\"],[0.4444444444444444,\"#bd3786\"],[0.5555555555555556,\"#d8576b\"],[0.6666666666666666,\"#ed7953\"],[0.7777777777777778,\"#fb9f3a\"],[0.8888888888888888,\"#fdca26\"],[1.0,\"#f0f921\"]],\"type\":\"heatmap\"}],\"histogram2dcontour\":[{\"colorbar\":{\"outlinewidth\":0,\"ticks\":\"\"},\"colorscale\":[[0.0,\"#0d0887\"],[0.1111111111111111,\"#46039f\"],[0.2222222222222222,\"#7201a8\"],[0.3333333333333333,\"#9c179e\"],[0.4444444444444444,\"#bd3786\"],[0.5555555555555556,\"#d8576b\"],[0.6666666666666666,\"#ed7953\"],[0.7777777777777778,\"#fb9f3a\"],[0.8888888888888888,\"#fdca26\"],[1.0,\"#f0f921\"]],\"type\":\"histogram2dcontour\"}],\"histogram2d\":[{\"colorbar\":{\"outlinewidth\":0,\"ticks\":\"\"},\"colorscale\":[[0.0,\"#0d0887\"],[0.1111111111111111,\"#46039f\"],[0.2222222222222222,\"#7201a8\"],[0.3333333333333333,\"#9c179e\"],[0.4444444444444444,\"#bd3786\"],[0.5555555555555556,\"#d8576b\"],[0.6666666666666666,\"#ed7953\"],[0.7777777777777778,\"#fb9f3a\"],[0.8888888888888888,\"#fdca26\"],[1.0,\"#f0f921\"]],\"type\":\"histogram2d\"}],\"histogram\":[{\"marker\":{\"pattern\":{\"fillmode\":\"overlay\",\"size\":10,\"solidity\":0.2}},\"type\":\"histogram\"}],\"mesh3d\":[{\"colorbar\":{\"outlinewidth\":0,\"ticks\":\"\"},\"type\":\"mesh3d\"}],\"parcoords\":[{\"line\":{\"colorbar\":{\"outlinewidth\":0,\"ticks\":\"\"}},\"type\":\"parcoords\"}],\"pie\":[{\"automargin\":true,\"type\":\"pie\"}],\"scatter3d\":[{\"line\":{\"colorbar\":{\"outlinewidth\":0,\"ticks\":\"\"}},\"marker\":{\"colorbar\":{\"outlinewidth\":0,\"ticks\":\"\"}},\"type\":\"scatter3d\"}],\"scattercarpet\":[{\"marker\":{\"colorbar\":{\"outlinewidth\":0,\"ticks\":\"\"}},\"type\":\"scattercarpet\"}],\"scattergeo\":[{\"marker\":{\"colorbar\":{\"outlinewidth\":0,\"ticks\":\"\"}},\"type\":\"scattergeo\"}],\"scattergl\":[{\"marker\":{\"colorbar\":{\"outlinewidth\":0,\"ticks\":\"\"}},\"type\":\"scattergl\"}],\"scattermapbox\":[{\"marker\":{\"colorbar\":{\"outlinewidth\":0,\"ticks\":\"\"}},\"type\":\"scattermapbox\"}],\"scatterpolargl\":[{\"marker\":{\"colorbar\":{\"outlinewidth\":0,\"ticks\":\"\"}},\"type\":\"scatterpolargl\"}],\"scatterpolar\":[{\"marker\":{\"colorbar\":{\"outlinewidth\":0,\"ticks\":\"\"}},\"type\":\"scatterpolar\"}],\"scatter\":[{\"marker\":{\"colorbar\":{\"outlinewidth\":0,\"ticks\":\"\"}},\"type\":\"scatter\"}],\"scatterternary\":[{\"marker\":{\"colorbar\":{\"outlinewidth\":0,\"ticks\":\"\"}},\"type\":\"scatterternary\"}],\"surface\":[{\"colorbar\":{\"outlinewidth\":0,\"ticks\":\"\"},\"colorscale\":[[0.0,\"#0d0887\"],[0.1111111111111111,\"#46039f\"],[0.2222222222222222,\"#7201a8\"],[0.3333333333333333,\"#9c179e\"],[0.4444444444444444,\"#bd3786\"],[0.5555555555555556,\"#d8576b\"],[0.6666666666666666,\"#ed7953\"],[0.7777777777777778,\"#fb9f3a\"],[0.8888888888888888,\"#fdca26\"],[1.0,\"#f0f921\"]],\"type\":\"surface\"}],\"table\":[{\"cells\":{\"fill\":{\"color\":\"#EBF0F8\"},\"line\":{\"color\":\"white\"}},\"header\":{\"fill\":{\"color\":\"#C8D4E3\"},\"line\":{\"color\":\"white\"}},\"type\":\"table\"}]},\"layout\":{\"annotationdefaults\":{\"arrowcolor\":\"#2a3f5f\",\"arrowhead\":0,\"arrowwidth\":1},\"autotypenumbers\":\"strict\",\"coloraxis\":{\"colorbar\":{\"outlinewidth\":0,\"ticks\":\"\"}},\"colorscale\":{\"diverging\":[[0,\"#8e0152\"],[0.1,\"#c51b7d\"],[0.2,\"#de77ae\"],[0.3,\"#f1b6da\"],[0.4,\"#fde0ef\"],[0.5,\"#f7f7f7\"],[0.6,\"#e6f5d0\"],[0.7,\"#b8e186\"],[0.8,\"#7fbc41\"],[0.9,\"#4d9221\"],[1,\"#276419\"]],\"sequential\":[[0.0,\"#0d0887\"],[0.1111111111111111,\"#46039f\"],[0.2222222222222222,\"#7201a8\"],[0.3333333333333333,\"#9c179e\"],[0.4444444444444444,\"#bd3786\"],[0.5555555555555556,\"#d8576b\"],[0.6666666666666666,\"#ed7953\"],[0.7777777777777778,\"#fb9f3a\"],[0.8888888888888888,\"#fdca26\"],[1.0,\"#f0f921\"]],\"sequentialminus\":[[0.0,\"#0d0887\"],[0.1111111111111111,\"#46039f\"],[0.2222222222222222,\"#7201a8\"],[0.3333333333333333,\"#9c179e\"],[0.4444444444444444,\"#bd3786\"],[0.5555555555555556,\"#d8576b\"],[0.6666666666666666,\"#ed7953\"],[0.7777777777777778,\"#fb9f3a\"],[0.8888888888888888,\"#fdca26\"],[1.0,\"#f0f921\"]]},\"colorway\":[\"#636efa\",\"#EF553B\",\"#00cc96\",\"#ab63fa\",\"#FFA15A\",\"#19d3f3\",\"#FF6692\",\"#B6E880\",\"#FF97FF\",\"#FECB52\"],\"font\":{\"color\":\"#2a3f5f\"},\"geo\":{\"bgcolor\":\"white\",\"lakecolor\":\"white\",\"landcolor\":\"white\",\"showlakes\":true,\"showland\":true,\"subunitcolor\":\"#C8D4E3\"},\"hoverlabel\":{\"align\":\"left\"},\"hovermode\":\"closest\",\"mapbox\":{\"style\":\"light\"},\"paper_bgcolor\":\"white\",\"plot_bgcolor\":\"white\",\"polar\":{\"angularaxis\":{\"gridcolor\":\"#EBF0F8\",\"linecolor\":\"#EBF0F8\",\"ticks\":\"\"},\"bgcolor\":\"white\",\"radialaxis\":{\"gridcolor\":\"#EBF0F8\",\"linecolor\":\"#EBF0F8\",\"ticks\":\"\"}},\"scene\":{\"xaxis\":{\"backgroundcolor\":\"white\",\"gridcolor\":\"#DFE8F3\",\"gridwidth\":2,\"linecolor\":\"#EBF0F8\",\"showbackground\":true,\"ticks\":\"\",\"zerolinecolor\":\"#EBF0F8\"},\"yaxis\":{\"backgroundcolor\":\"white\",\"gridcolor\":\"#DFE8F3\",\"gridwidth\":2,\"linecolor\":\"#EBF0F8\",\"showbackground\":true,\"ticks\":\"\",\"zerolinecolor\":\"#EBF0F8\"},\"zaxis\":{\"backgroundcolor\":\"white\",\"gridcolor\":\"#DFE8F3\",\"gridwidth\":2,\"linecolor\":\"#EBF0F8\",\"showbackground\":true,\"ticks\":\"\",\"zerolinecolor\":\"#EBF0F8\"}},\"shapedefaults\":{\"line\":{\"color\":\"#2a3f5f\"}},\"ternary\":{\"aaxis\":{\"gridcolor\":\"#DFE8F3\",\"linecolor\":\"#A2B1C6\",\"ticks\":\"\"},\"baxis\":{\"gridcolor\":\"#DFE8F3\",\"linecolor\":\"#A2B1C6\",\"ticks\":\"\"},\"bgcolor\":\"white\",\"caxis\":{\"gridcolor\":\"#DFE8F3\",\"linecolor\":\"#A2B1C6\",\"ticks\":\"\"}},\"title\":{\"x\":0.05},\"xaxis\":{\"automargin\":true,\"gridcolor\":\"#EBF0F8\",\"linecolor\":\"#EBF0F8\",\"ticks\":\"\",\"title\":{\"standoff\":15},\"zerolinecolor\":\"#EBF0F8\",\"zerolinewidth\":2},\"yaxis\":{\"automargin\":true,\"gridcolor\":\"#EBF0F8\",\"linecolor\":\"#EBF0F8\",\"ticks\":\"\",\"title\":{\"standoff\":15},\"zerolinecolor\":\"#EBF0F8\",\"zerolinewidth\":2}}},\"xaxis\":{\"anchor\":\"y\",\"domain\":[0.0,1.0],\"title\":{\"text\":\"date\"},\"showspikes\":true,\"spikethickness\":2,\"spikedash\":\"dot\",\"spikecolor\":\"#999999\",\"spikemode\":\"across\"},\"yaxis\":{\"anchor\":\"x\",\"domain\":[0.0,1.0],\"title\":{\"text\":\"RMSD\"},\"tickformat\":\".2%\",\"range\":[0,0.20771087141969438]},\"legend\":{\"title\":{\"text\":\"\"},\"tracegroupgap\":0},\"margin\":{\"t\":60},\"hovermode\":\"x\",\"title\":{\"text\":\"Weights deviation from target\"}},                        {\"responsive\": true}                    ).then(function(){\n",
       "                            \n",
       "var gd = document.getElementById('5d437c64-7eeb-4daf-86ce-ed7fc5b75c19');\n",
       "var x = new MutationObserver(function (mutations, observer) {{\n",
       "        var display = window.getComputedStyle(gd).display;\n",
       "        if (!display || display === 'none') {{\n",
       "            console.log([gd, 'removed!']);\n",
       "            Plotly.purge(gd);\n",
       "            observer.disconnect();\n",
       "        }}\n",
       "}});\n",
       "\n",
       "// Listen for the removal of the full notebook cells\n",
       "var notebookContainer = gd.closest('#notebook-container');\n",
       "if (notebookContainer) {{\n",
       "    x.observe(notebookContainer, {childList: true});\n",
       "}}\n",
       "\n",
       "// Listen for the clearing of the current output cell\n",
       "var outputEl = gd.closest('.output');\n",
       "if (outputEl) {{\n",
       "    x.observe(outputEl, {childList: true});\n",
       "}}\n",
       "\n",
       "                        })                };                });            </script>        </div>"
      ]
     },
     "metadata": {},
     "output_type": "display_data"
    }
   ],
   "source": [
    "plotting.index_metrics(index_name='cai', \n",
    "                       index_values=cai_values, \n",
    "                       benchmark_values=cai_benchmark_values,\n",
    "                       target_weights=target_weights,\n",
    "                       ## rebalancing_hist=rebalancing_hist,\n",
    "                       values_theoretical=cai_theoretical_values,\n",
    "                       values_without_reb=cai_without_reb)"
   ]
  }
 ],
 "metadata": {
  "kernelspec": {
   "display_name": "Python 3 (ipykernel)",
   "language": "python",
   "name": "python3"
  },
  "language_info": {
   "codemirror_mode": {
    "name": "ipython",
    "version": 3
   },
   "file_extension": ".py",
   "mimetype": "text/x-python",
   "name": "python",
   "nbconvert_exporter": "python",
   "pygments_lexer": "ipython3",
   "version": "3.8.13"
  }
 },
 "nbformat": 4,
 "nbformat_minor": 5
}
