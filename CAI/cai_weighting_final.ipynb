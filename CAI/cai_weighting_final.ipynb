{
 "cells": [
  {
   "cell_type": "markdown",
   "id": "d757030a-ae9c-47a9-822c-0a57fd4391e9",
   "metadata": {},
   "source": [
    "# CAI - Colony Avalanche Ecosystem Index"
   ]
  },
  {
   "cell_type": "markdown",
   "id": "e582924a-dd0f-4ee3-9495-25cb063d8c11",
   "metadata": {},
   "source": [
    "Crypto index tracking is a popular passive investment strategy. Since an index cannot be traded directly, index tracking refers to the process of creating a set of crypto assets managed by smart contract that approximates its performance. A straightforward way to do that is to purchase all the assets that compose an index in appropriate quantities.\n",
    "\n",
    "In order to compensate for the price changes of the individual assets in the index we need to rebalance the portfolio. Choosing the optimal frequency is not an easy task and many factors (e.g., transaction costs, volatility, type of assets, etc.) need to be taken into account.\n",
    "\n",
    "Conventional approaches to index portfolio rebalancing include periodic and tolerance band rebalancing. With periodic rebalancing, the portfolio is adjusted from its current weights back to the target weights at a consistent time interval (e.g., monthly or quarterly)."
   ]
  },
  {
   "cell_type": "markdown",
   "id": "0d58a1fd-144f-456b-8c6a-8c511e144a49",
   "metadata": {
    "tags": []
   },
   "source": [
    "## Setting"
   ]
  },
  {
   "cell_type": "code",
   "execution_count": 3,
   "id": "e608fe6f-7008-4380-8c1a-4ff929b47495",
   "metadata": {},
   "outputs": [],
   "source": [
    "import pandas as pd\n",
    "import numpy as np\n",
    "import requests\n",
    "from pprint import pprint"
   ]
  },
  {
   "cell_type": "code",
   "execution_count": 4,
   "id": "d7bfb194-b9d5-454b-8f65-eaf0e28d8e9c",
   "metadata": {},
   "outputs": [],
   "source": [
    "from pycoingecko import CoinGeckoAPI\n",
    "cg = CoinGeckoAPI()"
   ]
  },
  {
   "cell_type": "code",
   "execution_count": 5,
   "id": "ef997725-1d4d-4d00-afce-d6c642fff6d0",
   "metadata": {},
   "outputs": [],
   "source": [
    "import plotly.express as px\n",
    "import plotly.graph_objects as go\n",
    "from plotly.subplots import make_subplots "
   ]
  },
  {
   "cell_type": "code",
   "execution_count": 6,
   "id": "b78b310e-348c-40aa-b74b-8e9fbdc37bcf",
   "metadata": {},
   "outputs": [
    {
     "data": {
      "text/html": [
       "        <script type=\"text/javascript\">\n",
       "        window.PlotlyConfig = {MathJaxConfig: 'local'};\n",
       "        if (window.MathJax) {MathJax.Hub.Config({SVG: {font: \"STIX-Web\"}});}\n",
       "        if (typeof require !== 'undefined') {\n",
       "        require.undef(\"plotly\");\n",
       "        requirejs.config({\n",
       "            paths: {\n",
       "                'plotly': ['https://cdn.plot.ly/plotly-2.8.3.min']\n",
       "            }\n",
       "        });\n",
       "        require(['plotly'], function(Plotly) {\n",
       "            window._Plotly = Plotly;\n",
       "        });\n",
       "        }\n",
       "        </script>\n",
       "        "
      ]
     },
     "metadata": {},
     "output_type": "display_data"
    }
   ],
   "source": [
    "from plotly.offline import plot, iplot, init_notebook_mode\n",
    "init_notebook_mode(connected=True)"
   ]
  },
  {
   "cell_type": "markdown",
   "id": "5df139d1-1570-4131-adf9-9f85dd3a144a",
   "metadata": {
    "tags": []
   },
   "source": [
    "## Data retrieving and filtering"
   ]
  },
  {
   "cell_type": "markdown",
   "id": "e4ded0e1-c192-4d90-8161-946902c0d543",
   "metadata": {
    "tags": []
   },
   "source": [
    "### Token inclusion cretira"
   ]
  },
  {
   "cell_type": "markdown",
   "id": "969a13da-69e8-46c6-93e4-95f1af9a4d2a",
   "metadata": {},
   "source": [
    "1. **Project and token characteristics**\n",
    "    1. The project's token should have been listed on CoinGecko with pricing data at least 6 months prior to the date of inclusion in the index.\n",
    "    1. The project should have a token that is native to Avalanche. This excludes wrapped variants, where the underlying tokens are locked on an alt-L1.\n",
    "    1. The project should be a going concern, with a dedicated team actively building, supporting and maintaining the project.\n",
    "    1. No rebasing or deflationary tokens.\n",
    "    1. The project must be widely considered to be building a useful protocol or product. Projects that have ponzi characteristics at the core of their offering will not be considered.\n",
    "    1. Synthetic tokens which derive their value from external price feeds are not permissible.\n",
    "    1. The project's token must not have the ability to pause token transfers.\n",
    "    1. The project's protocol or product must have significant usage.\n",
    "\n",
    "1. **Liquidity Requirements**\n",
    "    1. The token must be listed on a supported exchange.\n",
    "    1. The token should have at least $5mm of onchain liquidity on a single pair.\n",
    "\n",
    "1. **Security Requirements**\n",
    "    1. The project must have been audited by smart contract security professionals with the audit report(s) publicly available.\n",
    "\n"
   ]
  },
  {
   "cell_type": "markdown",
   "id": "2152f5aa-0cd7-449e-999b-c67e86869afa",
   "metadata": {
    "tags": []
   },
   "source": [
    "### Tokens list"
   ]
  },
  {
   "cell_type": "code",
   "execution_count": 7,
   "id": "258423d4-3b06-4247-900b-3ddf14c7ecab",
   "metadata": {},
   "outputs": [
    {
     "data": {
      "text/plain": [
       "{'gecko_says': '(V3) To the Moon!'}"
      ]
     },
     "execution_count": 7,
     "metadata": {},
     "output_type": "execute_result"
    }
   ],
   "source": [
    "cg.ping()"
   ]
  },
  {
   "cell_type": "code",
   "execution_count": 57,
   "id": "d1c7d3d6-4ab1-4e70-b36b-db5ea7d45ec0",
   "metadata": {},
   "outputs": [],
   "source": [
    "coins_list = pd.DataFrame(cg.get_coins_list(include_platform=True, order='market_cap_desc'))\n"
   ]
  },
  {
   "cell_type": "code",
   "execution_count": 37,
   "id": "f7109521-8bbc-4a3b-9931-02964db22d03",
   "metadata": {},
   "outputs": [],
   "source": [
    "tokens = {}\n",
    "tokens_by_addr = {}\n",
    "for index, coin in coins_list.iterrows():\n",
    "    if len(coin['platforms']) >= 1 and 'avalanche' == list(coin['platforms'].keys())[0]:\n",
    "        symbol = ''.join(c for c in coin['symbol'] if c.isalnum()).upper()\n",
    "        address = coin['platforms']['avalanche'].lower()\n",
    "        token = {\n",
    "            'symbol': symbol,\n",
    "            'address': address \n",
    "        }\n",
    "        tokens[symbol] = token\n",
    "        tokens_by_addr[address] = token\n",
    "        "
   ]
  },
  {
   "cell_type": "code",
   "execution_count": 38,
   "id": "b225ee5c-ae88-4827-b060-d06bc5d3fe12",
   "metadata": {},
   "outputs": [
    {
     "data": {
      "text/plain": [
       "({'symbol': 'USDC', 'address': '0xa7d7079b0fead91f3e65f86e8915cb59c1a4c664'},\n",
       " {'symbol': 'WAVAX', 'address': '0xb31f66aa3c1e785363f0875a1b74e27b85fd66c7'})"
      ]
     },
     "execution_count": 38,
     "metadata": {},
     "output_type": "execute_result"
    }
   ],
   "source": [
    "tokens['USDC'], tokens['WAVAX']"
   ]
  },
  {
   "cell_type": "markdown",
   "id": "9dd8ba08-1ee0-4f73-8303-2fbce6bc6de8",
   "metadata": {},
   "source": [
    "#### Market data"
   ]
  },
  {
   "cell_type": "code",
   "execution_count": 39,
   "id": "c9409a92-f940-4813-b432-5e142362a848",
   "metadata": {},
   "outputs": [],
   "source": [
    "tokens_data = [] \n",
    "tokens_data_page = pd.DataFrame(cg.get_coins_markets(vs_currency='USD', order='market_cap_desc'))\n",
    "tokens_data.append(tokens_data_page)\n",
    "for i in range(2, 20):\n",
    "    tokens_data_page = pd.DataFrame(cg.get_coins_markets(vs_currency='USD', order='market_cap_desc', page=i))\n",
    "    tokens_data.append(tokens_data_page)\n",
    "tokens_data = pd.concat(tokens_data)\n",
    "tokens_data = tokens_data.set_index(tokens_data['symbol'].str.upper())"
   ]
  },
  {
   "cell_type": "code",
   "execution_count": 40,
   "id": "eee4c543-2fbd-4454-a31e-36ea196b4c54",
   "metadata": {},
   "outputs": [
    {
     "data": {
      "text/html": [
       "<div>\n",
       "<style scoped>\n",
       "    .dataframe tbody tr th:only-of-type {\n",
       "        vertical-align: middle;\n",
       "    }\n",
       "\n",
       "    .dataframe tbody tr th {\n",
       "        vertical-align: top;\n",
       "    }\n",
       "\n",
       "    .dataframe thead th {\n",
       "        text-align: right;\n",
       "    }\n",
       "</style>\n",
       "<table border=\"1\" class=\"dataframe\">\n",
       "  <thead>\n",
       "    <tr style=\"text-align: right;\">\n",
       "      <th></th>\n",
       "      <th>id</th>\n",
       "      <th>symbol</th>\n",
       "      <th>name</th>\n",
       "      <th>image</th>\n",
       "      <th>current_price</th>\n",
       "      <th>market_cap</th>\n",
       "      <th>market_cap_rank</th>\n",
       "      <th>fully_diluted_valuation</th>\n",
       "      <th>total_volume</th>\n",
       "      <th>high_24h</th>\n",
       "      <th>...</th>\n",
       "      <th>total_supply</th>\n",
       "      <th>max_supply</th>\n",
       "      <th>ath</th>\n",
       "      <th>ath_change_percentage</th>\n",
       "      <th>ath_date</th>\n",
       "      <th>atl</th>\n",
       "      <th>atl_change_percentage</th>\n",
       "      <th>atl_date</th>\n",
       "      <th>roi</th>\n",
       "      <th>last_updated</th>\n",
       "    </tr>\n",
       "    <tr>\n",
       "      <th>symbol</th>\n",
       "      <th></th>\n",
       "      <th></th>\n",
       "      <th></th>\n",
       "      <th></th>\n",
       "      <th></th>\n",
       "      <th></th>\n",
       "      <th></th>\n",
       "      <th></th>\n",
       "      <th></th>\n",
       "      <th></th>\n",
       "      <th></th>\n",
       "      <th></th>\n",
       "      <th></th>\n",
       "      <th></th>\n",
       "      <th></th>\n",
       "      <th></th>\n",
       "      <th></th>\n",
       "      <th></th>\n",
       "      <th></th>\n",
       "      <th></th>\n",
       "      <th></th>\n",
       "    </tr>\n",
       "  </thead>\n",
       "  <tbody>\n",
       "    <tr>\n",
       "      <th>BTC</th>\n",
       "      <td>bitcoin</td>\n",
       "      <td>btc</td>\n",
       "      <td>Bitcoin</td>\n",
       "      <td>https://assets.coingecko.com/coins/images/1/la...</td>\n",
       "      <td>31784.000000</td>\n",
       "      <td>605628168616</td>\n",
       "      <td>1</td>\n",
       "      <td>6.674651e+11</td>\n",
       "      <td>3.180007e+10</td>\n",
       "      <td>31879.000000</td>\n",
       "      <td>...</td>\n",
       "      <td>2.100000e+07</td>\n",
       "      <td>21000000.0</td>\n",
       "      <td>69045.000000</td>\n",
       "      <td>-53.95376</td>\n",
       "      <td>2021-11-10T14:24:11.849Z</td>\n",
       "      <td>67.810000</td>\n",
       "      <td>46785.39867</td>\n",
       "      <td>2013-07-06T00:00:00.000Z</td>\n",
       "      <td>None</td>\n",
       "      <td>2022-05-31T12:08:58.534Z</td>\n",
       "    </tr>\n",
       "    <tr>\n",
       "      <th>ETH</th>\n",
       "      <td>ethereum</td>\n",
       "      <td>eth</td>\n",
       "      <td>Ethereum</td>\n",
       "      <td>https://assets.coingecko.com/coins/images/279/...</td>\n",
       "      <td>1977.310000</td>\n",
       "      <td>239244103480</td>\n",
       "      <td>2</td>\n",
       "      <td>NaN</td>\n",
       "      <td>1.790467e+10</td>\n",
       "      <td>2007.880000</td>\n",
       "      <td>...</td>\n",
       "      <td>NaN</td>\n",
       "      <td>NaN</td>\n",
       "      <td>4878.260000</td>\n",
       "      <td>-59.42067</td>\n",
       "      <td>2021-11-10T14:24:19.604Z</td>\n",
       "      <td>0.432979</td>\n",
       "      <td>457096.74719</td>\n",
       "      <td>2015-10-20T00:00:00.000Z</td>\n",
       "      <td>{'times': 82.16306202141442, 'currency': 'btc'...</td>\n",
       "      <td>2022-05-31T12:09:04.842Z</td>\n",
       "    </tr>\n",
       "    <tr>\n",
       "      <th>USDT</th>\n",
       "      <td>tether</td>\n",
       "      <td>usdt</td>\n",
       "      <td>Tether</td>\n",
       "      <td>https://assets.coingecko.com/coins/images/325/...</td>\n",
       "      <td>1.001000</td>\n",
       "      <td>72585031133</td>\n",
       "      <td>3</td>\n",
       "      <td>NaN</td>\n",
       "      <td>5.624883e+10</td>\n",
       "      <td>1.004000</td>\n",
       "      <td>...</td>\n",
       "      <td>7.253725e+10</td>\n",
       "      <td>NaN</td>\n",
       "      <td>1.320000</td>\n",
       "      <td>-24.38291</td>\n",
       "      <td>2018-07-24T00:00:00.000Z</td>\n",
       "      <td>0.572521</td>\n",
       "      <td>74.75099</td>\n",
       "      <td>2015-03-02T00:00:00.000Z</td>\n",
       "      <td>None</td>\n",
       "      <td>2022-05-31T12:07:36.278Z</td>\n",
       "    </tr>\n",
       "    <tr>\n",
       "      <th>USDC</th>\n",
       "      <td>usd-coin</td>\n",
       "      <td>usdc</td>\n",
       "      <td>USD Coin</td>\n",
       "      <td>https://assets.coingecko.com/coins/images/6319...</td>\n",
       "      <td>1.002000</td>\n",
       "      <td>54005206022</td>\n",
       "      <td>4</td>\n",
       "      <td>NaN</td>\n",
       "      <td>5.939366e+09</td>\n",
       "      <td>1.006000</td>\n",
       "      <td>...</td>\n",
       "      <td>5.390582e+10</td>\n",
       "      <td>NaN</td>\n",
       "      <td>1.170000</td>\n",
       "      <td>-14.56049</td>\n",
       "      <td>2019-05-08T00:40:28.300Z</td>\n",
       "      <td>0.891848</td>\n",
       "      <td>12.34588</td>\n",
       "      <td>2021-05-19T13:14:05.611Z</td>\n",
       "      <td>None</td>\n",
       "      <td>2022-05-31T12:10:50.304Z</td>\n",
       "    </tr>\n",
       "    <tr>\n",
       "      <th>BNB</th>\n",
       "      <td>binancecoin</td>\n",
       "      <td>bnb</td>\n",
       "      <td>BNB</td>\n",
       "      <td>https://assets.coingecko.com/coins/images/825/...</td>\n",
       "      <td>320.890000</td>\n",
       "      <td>53954057598</td>\n",
       "      <td>5</td>\n",
       "      <td>5.395406e+10</td>\n",
       "      <td>1.548256e+09</td>\n",
       "      <td>323.510000</td>\n",
       "      <td>...</td>\n",
       "      <td>1.681370e+08</td>\n",
       "      <td>168137035.9</td>\n",
       "      <td>686.310000</td>\n",
       "      <td>-53.25345</td>\n",
       "      <td>2021-05-10T07:24:17.097Z</td>\n",
       "      <td>0.039818</td>\n",
       "      <td>805633.85911</td>\n",
       "      <td>2017-10-19T00:00:00.000Z</td>\n",
       "      <td>None</td>\n",
       "      <td>2022-05-31T12:09:12.067Z</td>\n",
       "    </tr>\n",
       "    <tr>\n",
       "      <th>...</th>\n",
       "      <td>...</td>\n",
       "      <td>...</td>\n",
       "      <td>...</td>\n",
       "      <td>...</td>\n",
       "      <td>...</td>\n",
       "      <td>...</td>\n",
       "      <td>...</td>\n",
       "      <td>...</td>\n",
       "      <td>...</td>\n",
       "      <td>...</td>\n",
       "      <td>...</td>\n",
       "      <td>...</td>\n",
       "      <td>...</td>\n",
       "      <td>...</td>\n",
       "      <td>...</td>\n",
       "      <td>...</td>\n",
       "      <td>...</td>\n",
       "      <td>...</td>\n",
       "      <td>...</td>\n",
       "      <td>...</td>\n",
       "      <td>...</td>\n",
       "    </tr>\n",
       "    <tr>\n",
       "      <th>ZODI</th>\n",
       "      <td>zodium</td>\n",
       "      <td>zodi</td>\n",
       "      <td>Zodium</td>\n",
       "      <td>https://assets.coingecko.com/coins/images/2118...</td>\n",
       "      <td>0.019434</td>\n",
       "      <td>1332861</td>\n",
       "      <td>1896</td>\n",
       "      <td>NaN</td>\n",
       "      <td>5.433400e+04</td>\n",
       "      <td>0.019772</td>\n",
       "      <td>...</td>\n",
       "      <td>8.888889e+08</td>\n",
       "      <td>NaN</td>\n",
       "      <td>0.731751</td>\n",
       "      <td>-97.34523</td>\n",
       "      <td>2021-12-31T02:34:09.727Z</td>\n",
       "      <td>0.016507</td>\n",
       "      <td>17.68628</td>\n",
       "      <td>2022-05-30T11:17:55.338Z</td>\n",
       "      <td>None</td>\n",
       "      <td>2022-05-31T12:08:27.240Z</td>\n",
       "    </tr>\n",
       "    <tr>\n",
       "      <th>ARC</th>\n",
       "      <td>arcticcoin</td>\n",
       "      <td>arc</td>\n",
       "      <td>Advanced Technology Coin</td>\n",
       "      <td>https://assets.coingecko.com/coins/images/633/...</td>\n",
       "      <td>0.044531</td>\n",
       "      <td>1328617</td>\n",
       "      <td>1897</td>\n",
       "      <td>NaN</td>\n",
       "      <td>1.169000e+01</td>\n",
       "      <td>NaN</td>\n",
       "      <td>...</td>\n",
       "      <td>6.000000e+07</td>\n",
       "      <td>NaN</td>\n",
       "      <td>6.440000</td>\n",
       "      <td>-99.30852</td>\n",
       "      <td>2017-06-10T00:00:00.000Z</td>\n",
       "      <td>0.000199</td>\n",
       "      <td>22234.27196</td>\n",
       "      <td>2021-04-15T15:41:14.410Z</td>\n",
       "      <td>None</td>\n",
       "      <td>2022-05-26T02:01:28.582Z</td>\n",
       "    </tr>\n",
       "    <tr>\n",
       "      <th>CLAM</th>\n",
       "      <td>otterclam</td>\n",
       "      <td>clam</td>\n",
       "      <td>OtterClam</td>\n",
       "      <td>https://assets.coingecko.com/coins/images/2067...</td>\n",
       "      <td>2.460000</td>\n",
       "      <td>1325527</td>\n",
       "      <td>1898</td>\n",
       "      <td>NaN</td>\n",
       "      <td>7.165640e+03</td>\n",
       "      <td>2.510000</td>\n",
       "      <td>...</td>\n",
       "      <td>6.195656e+05</td>\n",
       "      <td>NaN</td>\n",
       "      <td>69.120000</td>\n",
       "      <td>-96.44827</td>\n",
       "      <td>2021-11-22T04:04:57.130Z</td>\n",
       "      <td>2.080000</td>\n",
       "      <td>17.96050</td>\n",
       "      <td>2022-05-18T01:05:16.558Z</td>\n",
       "      <td>None</td>\n",
       "      <td>2022-05-31T12:10:47.281Z</td>\n",
       "    </tr>\n",
       "    <tr>\n",
       "      <th>GAMI</th>\n",
       "      <td>gami-world</td>\n",
       "      <td>gami</td>\n",
       "      <td>GAMI World</td>\n",
       "      <td>https://assets.coingecko.com/coins/images/1984...</td>\n",
       "      <td>0.184267</td>\n",
       "      <td>1324359</td>\n",
       "      <td>1899</td>\n",
       "      <td>2.763880e+07</td>\n",
       "      <td>2.638500e+04</td>\n",
       "      <td>0.184346</td>\n",
       "      <td>...</td>\n",
       "      <td>1.500000e+08</td>\n",
       "      <td>150000000.0</td>\n",
       "      <td>5.580000</td>\n",
       "      <td>-96.69522</td>\n",
       "      <td>2021-11-09T20:47:32.804Z</td>\n",
       "      <td>0.160766</td>\n",
       "      <td>14.62633</td>\n",
       "      <td>2022-05-30T00:11:47.395Z</td>\n",
       "      <td>None</td>\n",
       "      <td>2022-05-31T12:08:25.386Z</td>\n",
       "    </tr>\n",
       "    <tr>\n",
       "      <th>XSN</th>\n",
       "      <td>stakenet</td>\n",
       "      <td>xsn</td>\n",
       "      <td>Stakenet</td>\n",
       "      <td>https://assets.coingecko.com/coins/images/3650...</td>\n",
       "      <td>0.010404</td>\n",
       "      <td>1318355</td>\n",
       "      <td>1900</td>\n",
       "      <td>NaN</td>\n",
       "      <td>9.194600e+02</td>\n",
       "      <td>NaN</td>\n",
       "      <td>...</td>\n",
       "      <td>1.307660e+08</td>\n",
       "      <td>NaN</td>\n",
       "      <td>0.888030</td>\n",
       "      <td>-98.82846</td>\n",
       "      <td>2018-06-10T14:19:44.058Z</td>\n",
       "      <td>0.008100</td>\n",
       "      <td>28.43591</td>\n",
       "      <td>2022-05-01T11:52:28.899Z</td>\n",
       "      <td>None</td>\n",
       "      <td>2022-05-06T16:31:45.718Z</td>\n",
       "    </tr>\n",
       "  </tbody>\n",
       "</table>\n",
       "<p>1900 rows × 26 columns</p>\n",
       "</div>"
      ],
      "text/plain": [
       "                 id symbol                      name  \\\n",
       "symbol                                                 \n",
       "BTC         bitcoin    btc                   Bitcoin   \n",
       "ETH        ethereum    eth                  Ethereum   \n",
       "USDT         tether   usdt                    Tether   \n",
       "USDC       usd-coin   usdc                  USD Coin   \n",
       "BNB     binancecoin    bnb                       BNB   \n",
       "...             ...    ...                       ...   \n",
       "ZODI         zodium   zodi                    Zodium   \n",
       "ARC      arcticcoin    arc  Advanced Technology Coin   \n",
       "CLAM      otterclam   clam                 OtterClam   \n",
       "GAMI     gami-world   gami                GAMI World   \n",
       "XSN        stakenet    xsn                  Stakenet   \n",
       "\n",
       "                                                    image  current_price  \\\n",
       "symbol                                                                     \n",
       "BTC     https://assets.coingecko.com/coins/images/1/la...   31784.000000   \n",
       "ETH     https://assets.coingecko.com/coins/images/279/...    1977.310000   \n",
       "USDT    https://assets.coingecko.com/coins/images/325/...       1.001000   \n",
       "USDC    https://assets.coingecko.com/coins/images/6319...       1.002000   \n",
       "BNB     https://assets.coingecko.com/coins/images/825/...     320.890000   \n",
       "...                                                   ...            ...   \n",
       "ZODI    https://assets.coingecko.com/coins/images/2118...       0.019434   \n",
       "ARC     https://assets.coingecko.com/coins/images/633/...       0.044531   \n",
       "CLAM    https://assets.coingecko.com/coins/images/2067...       2.460000   \n",
       "GAMI    https://assets.coingecko.com/coins/images/1984...       0.184267   \n",
       "XSN     https://assets.coingecko.com/coins/images/3650...       0.010404   \n",
       "\n",
       "          market_cap  market_cap_rank  fully_diluted_valuation  total_volume  \\\n",
       "symbol                                                                         \n",
       "BTC     605628168616                1             6.674651e+11  3.180007e+10   \n",
       "ETH     239244103480                2                      NaN  1.790467e+10   \n",
       "USDT     72585031133                3                      NaN  5.624883e+10   \n",
       "USDC     54005206022                4                      NaN  5.939366e+09   \n",
       "BNB      53954057598                5             5.395406e+10  1.548256e+09   \n",
       "...              ...              ...                      ...           ...   \n",
       "ZODI         1332861             1896                      NaN  5.433400e+04   \n",
       "ARC          1328617             1897                      NaN  1.169000e+01   \n",
       "CLAM         1325527             1898                      NaN  7.165640e+03   \n",
       "GAMI         1324359             1899             2.763880e+07  2.638500e+04   \n",
       "XSN          1318355             1900                      NaN  9.194600e+02   \n",
       "\n",
       "            high_24h  ...  total_supply   max_supply           ath  \\\n",
       "symbol                ...                                            \n",
       "BTC     31879.000000  ...  2.100000e+07   21000000.0  69045.000000   \n",
       "ETH      2007.880000  ...           NaN          NaN   4878.260000   \n",
       "USDT        1.004000  ...  7.253725e+10          NaN      1.320000   \n",
       "USDC        1.006000  ...  5.390582e+10          NaN      1.170000   \n",
       "BNB       323.510000  ...  1.681370e+08  168137035.9    686.310000   \n",
       "...              ...  ...           ...          ...           ...   \n",
       "ZODI        0.019772  ...  8.888889e+08          NaN      0.731751   \n",
       "ARC              NaN  ...  6.000000e+07          NaN      6.440000   \n",
       "CLAM        2.510000  ...  6.195656e+05          NaN     69.120000   \n",
       "GAMI        0.184346  ...  1.500000e+08  150000000.0      5.580000   \n",
       "XSN              NaN  ...  1.307660e+08          NaN      0.888030   \n",
       "\n",
       "        ath_change_percentage                  ath_date        atl  \\\n",
       "symbol                                                               \n",
       "BTC                 -53.95376  2021-11-10T14:24:11.849Z  67.810000   \n",
       "ETH                 -59.42067  2021-11-10T14:24:19.604Z   0.432979   \n",
       "USDT                -24.38291  2018-07-24T00:00:00.000Z   0.572521   \n",
       "USDC                -14.56049  2019-05-08T00:40:28.300Z   0.891848   \n",
       "BNB                 -53.25345  2021-05-10T07:24:17.097Z   0.039818   \n",
       "...                       ...                       ...        ...   \n",
       "ZODI                -97.34523  2021-12-31T02:34:09.727Z   0.016507   \n",
       "ARC                 -99.30852  2017-06-10T00:00:00.000Z   0.000199   \n",
       "CLAM                -96.44827  2021-11-22T04:04:57.130Z   2.080000   \n",
       "GAMI                -96.69522  2021-11-09T20:47:32.804Z   0.160766   \n",
       "XSN                 -98.82846  2018-06-10T14:19:44.058Z   0.008100   \n",
       "\n",
       "        atl_change_percentage                  atl_date  \\\n",
       "symbol                                                    \n",
       "BTC               46785.39867  2013-07-06T00:00:00.000Z   \n",
       "ETH              457096.74719  2015-10-20T00:00:00.000Z   \n",
       "USDT                 74.75099  2015-03-02T00:00:00.000Z   \n",
       "USDC                 12.34588  2021-05-19T13:14:05.611Z   \n",
       "BNB              805633.85911  2017-10-19T00:00:00.000Z   \n",
       "...                       ...                       ...   \n",
       "ZODI                 17.68628  2022-05-30T11:17:55.338Z   \n",
       "ARC               22234.27196  2021-04-15T15:41:14.410Z   \n",
       "CLAM                 17.96050  2022-05-18T01:05:16.558Z   \n",
       "GAMI                 14.62633  2022-05-30T00:11:47.395Z   \n",
       "XSN                  28.43591  2022-05-01T11:52:28.899Z   \n",
       "\n",
       "                                                      roi  \\\n",
       "symbol                                                      \n",
       "BTC                                                  None   \n",
       "ETH     {'times': 82.16306202141442, 'currency': 'btc'...   \n",
       "USDT                                                 None   \n",
       "USDC                                                 None   \n",
       "BNB                                                  None   \n",
       "...                                                   ...   \n",
       "ZODI                                                 None   \n",
       "ARC                                                  None   \n",
       "CLAM                                                 None   \n",
       "GAMI                                                 None   \n",
       "XSN                                                  None   \n",
       "\n",
       "                    last_updated  \n",
       "symbol                            \n",
       "BTC     2022-05-31T12:08:58.534Z  \n",
       "ETH     2022-05-31T12:09:04.842Z  \n",
       "USDT    2022-05-31T12:07:36.278Z  \n",
       "USDC    2022-05-31T12:10:50.304Z  \n",
       "BNB     2022-05-31T12:09:12.067Z  \n",
       "...                          ...  \n",
       "ZODI    2022-05-31T12:08:27.240Z  \n",
       "ARC     2022-05-26T02:01:28.582Z  \n",
       "CLAM    2022-05-31T12:10:47.281Z  \n",
       "GAMI    2022-05-31T12:08:25.386Z  \n",
       "XSN     2022-05-06T16:31:45.718Z  \n",
       "\n",
       "[1900 rows x 26 columns]"
      ]
     },
     "execution_count": 40,
     "metadata": {},
     "output_type": "execute_result"
    }
   ],
   "source": [
    "tokens_data"
   ]
  },
  {
   "cell_type": "markdown",
   "id": "b78782ff-8b2c-4899-8770-8e5748f66ff4",
   "metadata": {},
   "source": [
    "### Liquidity check"
   ]
  },
  {
   "cell_type": "code",
   "execution_count": 41,
   "id": "04b6e81f-1dd5-4bf5-bb91-f98d7ff064bd",
   "metadata": {},
   "outputs": [],
   "source": [
    "dex_subgraph_urls = {\n",
    "    'Trader Joe': 'https://api.thegraph.com/subgraphs/name/traderjoe-xyz/exchange',\n",
    "    'Pangolin': 'https://api.thegraph.com/subgraphs/name/dasconnor/pangolin-dex'\n",
    "} "
   ]
  },
  {
   "cell_type": "code",
   "execution_count": 43,
   "id": "fe0d95d2-eef4-4559-9d02-99ab022172cb",
   "metadata": {},
   "outputs": [],
   "source": [
    "query = \"\"\"\n",
    "    query pairs ($token0_ids: [ID!]!, $token1_ids: [ID!]!) {\n",
    "        pairs (first:1000, where: {token0_in: $token0_ids, token1_in: $token1_ids}){\n",
    "            id\n",
    "            token0 {\n",
    "              id\n",
    "            }\n",
    "            token1 {\n",
    "              id\n",
    "            }\n",
    "            reserveUSD\n",
    "        }\n",
    "    }\n",
    "    \"\"\""
   ]
  },
  {
   "cell_type": "code",
   "execution_count": 67,
   "id": "d31ce49e-906e-47cf-9b45-bd77034020a0",
   "metadata": {},
   "outputs": [
    {
     "data": {
      "text/plain": [
       "[{'symbol': 'WAVAX', 'address': '0xb31f66aa3c1e785363f0875a1b74e27b85fd66c7'},\n",
       " {'symbol': 'USDC', 'address': '0xa7d7079b0fead91f3e65f86e8915cb59c1a4c664'}]"
      ]
     },
     "execution_count": 67,
     "metadata": {},
     "output_type": "execute_result"
    }
   ],
   "source": [
    "base_tokens = [tokens['WAVAX'], tokens['USDC']] \n",
    "base_tokens"
   ]
  },
  {
   "cell_type": "code",
   "execution_count": 76,
   "id": "4d1db3ef-e702-4ef4-95de-5844d91814ab",
   "metadata": {},
   "outputs": [],
   "source": [
    "topn = 10000 \n",
    "topn_tokens = [tokens[symb] \n",
    "               for symb in tokens_data[:topn].index \n",
    "               if symb in tokens.keys()]\n",
    "topn_tokens.extend(base_tokens)"
   ]
  },
  {
   "cell_type": "code",
   "execution_count": 77,
   "id": "f4a95914-bda9-4c72-b0ad-18732c23718a",
   "metadata": {},
   "outputs": [],
   "source": [
    "base_tokens_ids = [token['address'] for token in base_tokens]\n",
    "tokens_ids = [token['address'] for token in topn_tokens] "
   ]
  },
  {
   "cell_type": "code",
   "execution_count": 78,
   "id": "4c5dbfa2-363c-442d-8f43-723d636516e2",
   "metadata": {},
   "outputs": [
    {
     "name": "stdout",
     "output_type": "stream",
     "text": [
      "Trader Joe: 71 pairs\n",
      "Pangolin: 42 pairs\n"
     ]
    }
   ],
   "source": [
    "rows = {token['symbol']: {} for token in topn_tokens}\n",
    "for dex_name, url in dex_subgraph_urls.items():\n",
    "    request = requests.post(url, json={'query': query, 'variables': {'token0_ids': base_tokens_ids, 'token1_ids': tokens_ids}})\n",
    "    pairs1 = request.json()['data']['pairs']\n",
    "\n",
    "    request = requests.post(url, json={'query': query, 'variables': {'token0_ids': tokens_ids, 'token1_ids': base_tokens_ids}})\n",
    "    pairs2 = request.json()['data']['pairs']\n",
    "    \n",
    "    pairs = pairs1 + pairs2\n",
    "    \n",
    "    print(f\"{dex_name}: {len(pairs)} pairs\")\n",
    "    \n",
    "    for pair in pairs:\n",
    "        if pair['token0']['id'] in base_tokens_ids:\n",
    "            base_token = tokens_by_addr[pair['token0']['id']]\n",
    "            token = tokens_by_addr[pair['token1']['id']]\n",
    "        else:\n",
    "            base_token = tokens_by_addr[pair['token1']['id']]\n",
    "            token = tokens_by_addr[pair['token0']['id']]\n",
    "        \n",
    "        colname = f\"{dex_name}_{base_token['symbol']}\" \n",
    "        \n",
    "        rows[token['symbol']][colname] = float(pair['reserveUSD'])"
   ]
  },
  {
   "cell_type": "code",
   "execution_count": 92,
   "id": "dc2a4c5b-0c33-4f16-a138-93b7d87f7bf3",
   "metadata": {},
   "outputs": [],
   "source": [
    "liquidities = pd.DataFrame.from_dict(rows, orient='index')\n",
    "liq_check = (liquidities > 5e6).any(axis=1).sort_values(ascending=False)\n",
    "liq_check_passed = liq_check[liq_check]"
   ]
  },
  {
   "cell_type": "code",
   "execution_count": 93,
   "id": "7b533b1f-6ea4-470b-9b76-a52c1c114606",
   "metadata": {},
   "outputs": [
    {
     "data": {
      "text/html": [
       "<div>\n",
       "<style scoped>\n",
       "    .dataframe tbody tr th:only-of-type {\n",
       "        vertical-align: middle;\n",
       "    }\n",
       "\n",
       "    .dataframe tbody tr th {\n",
       "        vertical-align: top;\n",
       "    }\n",
       "\n",
       "    .dataframe thead th {\n",
       "        text-align: right;\n",
       "    }\n",
       "</style>\n",
       "<table border=\"1\" class=\"dataframe\">\n",
       "  <thead>\n",
       "    <tr style=\"text-align: right;\">\n",
       "      <th></th>\n",
       "      <th>Trader Joe_USDC</th>\n",
       "      <th>Trader Joe_WAVAX</th>\n",
       "      <th>Pangolin_USDC</th>\n",
       "      <th>Pangolin_WAVAX</th>\n",
       "    </tr>\n",
       "  </thead>\n",
       "  <tbody>\n",
       "    <tr>\n",
       "      <th>USDT</th>\n",
       "      <td>1.431719e+06</td>\n",
       "      <td>2.236342e+07</td>\n",
       "      <td>2.973052e+05</td>\n",
       "      <td>6.876778e+06</td>\n",
       "    </tr>\n",
       "    <tr>\n",
       "      <th>SUSD</th>\n",
       "      <td>1.007826e+04</td>\n",
       "      <td>NaN</td>\n",
       "      <td>9.990253e-07</td>\n",
       "      <td>4.690038e-02</td>\n",
       "    </tr>\n",
       "    <tr>\n",
       "      <th>JOE</th>\n",
       "      <td>7.753963e+05</td>\n",
       "      <td>1.399675e+07</td>\n",
       "      <td>4.321410e+00</td>\n",
       "      <td>3.975147e+04</td>\n",
       "    </tr>\n",
       "    <tr>\n",
       "      <th>SAVAX</th>\n",
       "      <td>1.904018e-01</td>\n",
       "      <td>1.074871e+07</td>\n",
       "      <td>NaN</td>\n",
       "      <td>7.860691e+05</td>\n",
       "    </tr>\n",
       "    <tr>\n",
       "      <th>FITFI</th>\n",
       "      <td>3.365560e+00</td>\n",
       "      <td>1.089591e+04</td>\n",
       "      <td>NaN</td>\n",
       "      <td>1.399533e+05</td>\n",
       "    </tr>\n",
       "    <tr>\n",
       "      <th>TIME</th>\n",
       "      <td>2.423131e-02</td>\n",
       "      <td>9.993160e+04</td>\n",
       "      <td>NaN</td>\n",
       "      <td>1.953027e+04</td>\n",
       "    </tr>\n",
       "    <tr>\n",
       "      <th>SB</th>\n",
       "      <td>1.510778e-03</td>\n",
       "      <td>9.122887e+03</td>\n",
       "      <td>NaN</td>\n",
       "      <td>2.300122e+01</td>\n",
       "    </tr>\n",
       "    <tr>\n",
       "      <th>QI</th>\n",
       "      <td>2.208191e-04</td>\n",
       "      <td>2.248235e+05</td>\n",
       "      <td>NaN</td>\n",
       "      <td>3.993570e+06</td>\n",
       "    </tr>\n",
       "    <tr>\n",
       "      <th>THOR</th>\n",
       "      <td>1.187335e+01</td>\n",
       "      <td>3.663627e+06</td>\n",
       "      <td>NaN</td>\n",
       "      <td>1.602317e+01</td>\n",
       "    </tr>\n",
       "    <tr>\n",
       "      <th>XAVA</th>\n",
       "      <td>6.128991e-01</td>\n",
       "      <td>9.972637e+05</td>\n",
       "      <td>4.321397e+00</td>\n",
       "      <td>2.360850e+06</td>\n",
       "    </tr>\n",
       "    <tr>\n",
       "      <th>CREAM</th>\n",
       "      <td>4.493320e-02</td>\n",
       "      <td>1.585718e+04</td>\n",
       "      <td>NaN</td>\n",
       "      <td>NaN</td>\n",
       "    </tr>\n",
       "    <tr>\n",
       "      <th>PTP</th>\n",
       "      <td>1.717650e-01</td>\n",
       "      <td>2.897141e+06</td>\n",
       "      <td>NaN</td>\n",
       "      <td>4.055326e+03</td>\n",
       "    </tr>\n",
       "    <tr>\n",
       "      <th>CRA</th>\n",
       "      <td>1.345197e+01</td>\n",
       "      <td>6.520256e+05</td>\n",
       "      <td>NaN</td>\n",
       "      <td>7.278184e+04</td>\n",
       "    </tr>\n",
       "    <tr>\n",
       "      <th>YAK</th>\n",
       "      <td>5.188806e+02</td>\n",
       "      <td>5.191960e+04</td>\n",
       "      <td>NaN</td>\n",
       "      <td>4.318492e+05</td>\n",
       "    </tr>\n",
       "    <tr>\n",
       "      <th>EGG</th>\n",
       "      <td>2.143914e-02</td>\n",
       "      <td>1.518876e+06</td>\n",
       "      <td>NaN</td>\n",
       "      <td>2.858726e+00</td>\n",
       "    </tr>\n",
       "    <tr>\n",
       "      <th>IME</th>\n",
       "      <td>4.019699e-01</td>\n",
       "      <td>4.576235e+05</td>\n",
       "      <td>NaN</td>\n",
       "      <td>1.333776e+04</td>\n",
       "    </tr>\n",
       "    <tr>\n",
       "      <th>DCAU</th>\n",
       "      <td>9.884971e-02</td>\n",
       "      <td>3.108424e+05</td>\n",
       "      <td>NaN</td>\n",
       "      <td>2.117571e+03</td>\n",
       "    </tr>\n",
       "    <tr>\n",
       "      <th>GAIA</th>\n",
       "      <td>5.913846e+03</td>\n",
       "      <td>2.285501e-02</td>\n",
       "      <td>NaN</td>\n",
       "      <td>NaN</td>\n",
       "    </tr>\n",
       "    <tr>\n",
       "      <th>KLO</th>\n",
       "      <td>1.000513e-06</td>\n",
       "      <td>1.603719e+05</td>\n",
       "      <td>1.002381e-06</td>\n",
       "      <td>3.136214e+05</td>\n",
       "    </tr>\n",
       "    <tr>\n",
       "      <th>ONION</th>\n",
       "      <td>4.074296e+02</td>\n",
       "      <td>3.118372e+02</td>\n",
       "      <td>NaN</td>\n",
       "      <td>NaN</td>\n",
       "    </tr>\n",
       "    <tr>\n",
       "      <th>ROCO</th>\n",
       "      <td>8.654134e-02</td>\n",
       "      <td>6.494642e+03</td>\n",
       "      <td>NaN</td>\n",
       "      <td>1.245430e+05</td>\n",
       "    </tr>\n",
       "    <tr>\n",
       "      <th>WAVAX</th>\n",
       "      <td>2.082603e+07</td>\n",
       "      <td>NaN</td>\n",
       "      <td>9.555495e+06</td>\n",
       "      <td>NaN</td>\n",
       "    </tr>\n",
       "    <tr>\n",
       "      <th>LEO</th>\n",
       "      <td>NaN</td>\n",
       "      <td>4.620959e+04</td>\n",
       "      <td>NaN</td>\n",
       "      <td>NaN</td>\n",
       "    </tr>\n",
       "    <tr>\n",
       "      <th>CAKE</th>\n",
       "      <td>NaN</td>\n",
       "      <td>8.226388e+00</td>\n",
       "      <td>NaN</td>\n",
       "      <td>NaN</td>\n",
       "    </tr>\n",
       "    <tr>\n",
       "      <th>YUSD</th>\n",
       "      <td>NaN</td>\n",
       "      <td>4.231225e+04</td>\n",
       "      <td>NaN</td>\n",
       "      <td>NaN</td>\n",
       "    </tr>\n",
       "    <tr>\n",
       "      <th>AURORA</th>\n",
       "      <td>NaN</td>\n",
       "      <td>3.848313e+02</td>\n",
       "      <td>NaN</td>\n",
       "      <td>NaN</td>\n",
       "    </tr>\n",
       "    <tr>\n",
       "      <th>SUN</th>\n",
       "      <td>NaN</td>\n",
       "      <td>1.459487e+04</td>\n",
       "      <td>NaN</td>\n",
       "      <td>NaN</td>\n",
       "    </tr>\n",
       "    <tr>\n",
       "      <th>BFC</th>\n",
       "      <td>NaN</td>\n",
       "      <td>1.177856e+04</td>\n",
       "      <td>NaN</td>\n",
       "      <td>NaN</td>\n",
       "    </tr>\n",
       "    <tr>\n",
       "      <th>ALPHA</th>\n",
       "      <td>NaN</td>\n",
       "      <td>2.679494e+05</td>\n",
       "      <td>NaN</td>\n",
       "      <td>NaN</td>\n",
       "    </tr>\n",
       "    <tr>\n",
       "      <th>JPEG</th>\n",
       "      <td>NaN</td>\n",
       "      <td>7.102681e+04</td>\n",
       "      <td>NaN</td>\n",
       "      <td>NaN</td>\n",
       "    </tr>\n",
       "    <tr>\n",
       "      <th>HEC</th>\n",
       "      <td>NaN</td>\n",
       "      <td>3.564629e+05</td>\n",
       "      <td>NaN</td>\n",
       "      <td>5.713234e+04</td>\n",
       "    </tr>\n",
       "    <tr>\n",
       "      <th>BANANA</th>\n",
       "      <td>NaN</td>\n",
       "      <td>3.640437e+03</td>\n",
       "      <td>NaN</td>\n",
       "      <td>NaN</td>\n",
       "    </tr>\n",
       "    <tr>\n",
       "      <th>GF</th>\n",
       "      <td>NaN</td>\n",
       "      <td>5.781260e+03</td>\n",
       "      <td>NaN</td>\n",
       "      <td>5.173716e+02</td>\n",
       "    </tr>\n",
       "    <tr>\n",
       "      <th>ORCA</th>\n",
       "      <td>NaN</td>\n",
       "      <td>7.401697e-15</td>\n",
       "      <td>9.989406e-07</td>\n",
       "      <td>4.239400e+03</td>\n",
       "    </tr>\n",
       "    <tr>\n",
       "      <th>LOOT</th>\n",
       "      <td>NaN</td>\n",
       "      <td>5.694519e+02</td>\n",
       "      <td>1.573887e-05</td>\n",
       "      <td>1.149925e+04</td>\n",
       "    </tr>\n",
       "    <tr>\n",
       "      <th>SBR</th>\n",
       "      <td>NaN</td>\n",
       "      <td>2.431503e+00</td>\n",
       "      <td>NaN</td>\n",
       "      <td>NaN</td>\n",
       "    </tr>\n",
       "    <tr>\n",
       "      <th>MAG</th>\n",
       "      <td>NaN</td>\n",
       "      <td>4.183138e-01</td>\n",
       "      <td>NaN</td>\n",
       "      <td>NaN</td>\n",
       "    </tr>\n",
       "    <tr>\n",
       "      <th>VTX</th>\n",
       "      <td>NaN</td>\n",
       "      <td>1.493632e+06</td>\n",
       "      <td>NaN</td>\n",
       "      <td>NaN</td>\n",
       "    </tr>\n",
       "    <tr>\n",
       "      <th>POLAR</th>\n",
       "      <td>NaN</td>\n",
       "      <td>3.352705e+05</td>\n",
       "      <td>NaN</td>\n",
       "      <td>NaN</td>\n",
       "    </tr>\n",
       "    <tr>\n",
       "      <th>BPT</th>\n",
       "      <td>NaN</td>\n",
       "      <td>1.635501e+05</td>\n",
       "      <td>NaN</td>\n",
       "      <td>1.194667e+05</td>\n",
       "    </tr>\n",
       "    <tr>\n",
       "      <th>PNG</th>\n",
       "      <td>NaN</td>\n",
       "      <td>6.578776e+03</td>\n",
       "      <td>2.347028e+04</td>\n",
       "      <td>2.065923e+06</td>\n",
       "    </tr>\n",
       "    <tr>\n",
       "      <th>GHOST</th>\n",
       "      <td>NaN</td>\n",
       "      <td>2.044596e-03</td>\n",
       "      <td>NaN</td>\n",
       "      <td>NaN</td>\n",
       "    </tr>\n",
       "    <tr>\n",
       "      <th>VEE</th>\n",
       "      <td>NaN</td>\n",
       "      <td>7.514849e-02</td>\n",
       "      <td>NaN</td>\n",
       "      <td>3.813787e+04</td>\n",
       "    </tr>\n",
       "    <tr>\n",
       "      <th>BTCP</th>\n",
       "      <td>NaN</td>\n",
       "      <td>7.629215e-01</td>\n",
       "      <td>NaN</td>\n",
       "      <td>NaN</td>\n",
       "    </tr>\n",
       "    <tr>\n",
       "      <th>SIN</th>\n",
       "      <td>NaN</td>\n",
       "      <td>2.271964e+01</td>\n",
       "      <td>NaN</td>\n",
       "      <td>NaN</td>\n",
       "    </tr>\n",
       "    <tr>\n",
       "      <th>OTO</th>\n",
       "      <td>NaN</td>\n",
       "      <td>2.797078e+04</td>\n",
       "      <td>NaN</td>\n",
       "      <td>NaN</td>\n",
       "    </tr>\n",
       "    <tr>\n",
       "      <th>MAXI</th>\n",
       "      <td>NaN</td>\n",
       "      <td>1.790986e+00</td>\n",
       "      <td>NaN</td>\n",
       "      <td>6.530434e+03</td>\n",
       "    </tr>\n",
       "    <tr>\n",
       "      <th>YETI</th>\n",
       "      <td>NaN</td>\n",
       "      <td>1.631865e+06</td>\n",
       "      <td>NaN</td>\n",
       "      <td>NaN</td>\n",
       "    </tr>\n",
       "    <tr>\n",
       "      <th>DON</th>\n",
       "      <td>NaN</td>\n",
       "      <td>5.812683e+04</td>\n",
       "      <td>NaN</td>\n",
       "      <td>1.008130e+02</td>\n",
       "    </tr>\n",
       "    <tr>\n",
       "      <th>BIRD</th>\n",
       "      <td>NaN</td>\n",
       "      <td>1.097530e+02</td>\n",
       "      <td>NaN</td>\n",
       "      <td>9.113456e+02</td>\n",
       "    </tr>\n",
       "    <tr>\n",
       "      <th>MINT</th>\n",
       "      <td>NaN</td>\n",
       "      <td>NaN</td>\n",
       "      <td>3.544734e+02</td>\n",
       "      <td>1.903479e+02</td>\n",
       "    </tr>\n",
       "    <tr>\n",
       "      <th>SWAPXI</th>\n",
       "      <td>NaN</td>\n",
       "      <td>NaN</td>\n",
       "      <td>NaN</td>\n",
       "      <td>2.534281e+05</td>\n",
       "    </tr>\n",
       "    <tr>\n",
       "      <th>ACRE</th>\n",
       "      <td>NaN</td>\n",
       "      <td>NaN</td>\n",
       "      <td>NaN</td>\n",
       "      <td>9.665562e+04</td>\n",
       "    </tr>\n",
       "  </tbody>\n",
       "</table>\n",
       "</div>"
      ],
      "text/plain": [
       "        Trader Joe_USDC  Trader Joe_WAVAX  Pangolin_USDC  Pangolin_WAVAX\n",
       "USDT       1.431719e+06      2.236342e+07   2.973052e+05    6.876778e+06\n",
       "SUSD       1.007826e+04               NaN   9.990253e-07    4.690038e-02\n",
       "JOE        7.753963e+05      1.399675e+07   4.321410e+00    3.975147e+04\n",
       "SAVAX      1.904018e-01      1.074871e+07            NaN    7.860691e+05\n",
       "FITFI      3.365560e+00      1.089591e+04            NaN    1.399533e+05\n",
       "TIME       2.423131e-02      9.993160e+04            NaN    1.953027e+04\n",
       "SB         1.510778e-03      9.122887e+03            NaN    2.300122e+01\n",
       "QI         2.208191e-04      2.248235e+05            NaN    3.993570e+06\n",
       "THOR       1.187335e+01      3.663627e+06            NaN    1.602317e+01\n",
       "XAVA       6.128991e-01      9.972637e+05   4.321397e+00    2.360850e+06\n",
       "CREAM      4.493320e-02      1.585718e+04            NaN             NaN\n",
       "PTP        1.717650e-01      2.897141e+06            NaN    4.055326e+03\n",
       "CRA        1.345197e+01      6.520256e+05            NaN    7.278184e+04\n",
       "YAK        5.188806e+02      5.191960e+04            NaN    4.318492e+05\n",
       "EGG        2.143914e-02      1.518876e+06            NaN    2.858726e+00\n",
       "IME        4.019699e-01      4.576235e+05            NaN    1.333776e+04\n",
       "DCAU       9.884971e-02      3.108424e+05            NaN    2.117571e+03\n",
       "GAIA       5.913846e+03      2.285501e-02            NaN             NaN\n",
       "KLO        1.000513e-06      1.603719e+05   1.002381e-06    3.136214e+05\n",
       "ONION      4.074296e+02      3.118372e+02            NaN             NaN\n",
       "ROCO       8.654134e-02      6.494642e+03            NaN    1.245430e+05\n",
       "WAVAX      2.082603e+07               NaN   9.555495e+06             NaN\n",
       "LEO                 NaN      4.620959e+04            NaN             NaN\n",
       "CAKE                NaN      8.226388e+00            NaN             NaN\n",
       "YUSD                NaN      4.231225e+04            NaN             NaN\n",
       "AURORA              NaN      3.848313e+02            NaN             NaN\n",
       "SUN                 NaN      1.459487e+04            NaN             NaN\n",
       "BFC                 NaN      1.177856e+04            NaN             NaN\n",
       "ALPHA               NaN      2.679494e+05            NaN             NaN\n",
       "JPEG                NaN      7.102681e+04            NaN             NaN\n",
       "HEC                 NaN      3.564629e+05            NaN    5.713234e+04\n",
       "BANANA              NaN      3.640437e+03            NaN             NaN\n",
       "GF                  NaN      5.781260e+03            NaN    5.173716e+02\n",
       "ORCA                NaN      7.401697e-15   9.989406e-07    4.239400e+03\n",
       "LOOT                NaN      5.694519e+02   1.573887e-05    1.149925e+04\n",
       "SBR                 NaN      2.431503e+00            NaN             NaN\n",
       "MAG                 NaN      4.183138e-01            NaN             NaN\n",
       "VTX                 NaN      1.493632e+06            NaN             NaN\n",
       "POLAR               NaN      3.352705e+05            NaN             NaN\n",
       "BPT                 NaN      1.635501e+05            NaN    1.194667e+05\n",
       "PNG                 NaN      6.578776e+03   2.347028e+04    2.065923e+06\n",
       "GHOST               NaN      2.044596e-03            NaN             NaN\n",
       "VEE                 NaN      7.514849e-02            NaN    3.813787e+04\n",
       "BTCP                NaN      7.629215e-01            NaN             NaN\n",
       "SIN                 NaN      2.271964e+01            NaN             NaN\n",
       "OTO                 NaN      2.797078e+04            NaN             NaN\n",
       "MAXI                NaN      1.790986e+00            NaN    6.530434e+03\n",
       "YETI                NaN      1.631865e+06            NaN             NaN\n",
       "DON                 NaN      5.812683e+04            NaN    1.008130e+02\n",
       "BIRD                NaN      1.097530e+02            NaN    9.113456e+02\n",
       "MINT                NaN               NaN   3.544734e+02    1.903479e+02\n",
       "SWAPXI              NaN               NaN            NaN    2.534281e+05\n",
       "ACRE                NaN               NaN            NaN    9.665562e+04"
      ]
     },
     "execution_count": 93,
     "metadata": {},
     "output_type": "execute_result"
    }
   ],
   "source": [
    "liquidities"
   ]
  },
  {
   "cell_type": "code",
   "execution_count": 94,
   "id": "2be47a8a-446f-41eb-a899-64bdc18702f4",
   "metadata": {},
   "outputs": [],
   "source": [
    "lq_passed = tokens_data[\n",
    "    tokens_data.index.isin(liq_check_passed.index)\n",
    "]"
   ]
  },
  {
   "cell_type": "code",
   "execution_count": 95,
   "id": "e072b9b5-26a7-402c-8a70-7ff460a9519b",
   "metadata": {
    "tags": []
   },
   "outputs": [
    {
     "data": {
      "text/html": [
       "<div>\n",
       "<style scoped>\n",
       "    .dataframe tbody tr th:only-of-type {\n",
       "        vertical-align: middle;\n",
       "    }\n",
       "\n",
       "    .dataframe tbody tr th {\n",
       "        vertical-align: top;\n",
       "    }\n",
       "\n",
       "    .dataframe thead th {\n",
       "        text-align: right;\n",
       "    }\n",
       "</style>\n",
       "<table border=\"1\" class=\"dataframe\">\n",
       "  <thead>\n",
       "    <tr style=\"text-align: right;\">\n",
       "      <th></th>\n",
       "      <th>id</th>\n",
       "      <th>symbol</th>\n",
       "      <th>name</th>\n",
       "      <th>image</th>\n",
       "      <th>current_price</th>\n",
       "      <th>market_cap</th>\n",
       "      <th>market_cap_rank</th>\n",
       "      <th>fully_diluted_valuation</th>\n",
       "      <th>total_volume</th>\n",
       "      <th>high_24h</th>\n",
       "      <th>...</th>\n",
       "      <th>total_supply</th>\n",
       "      <th>max_supply</th>\n",
       "      <th>ath</th>\n",
       "      <th>ath_change_percentage</th>\n",
       "      <th>ath_date</th>\n",
       "      <th>atl</th>\n",
       "      <th>atl_change_percentage</th>\n",
       "      <th>atl_date</th>\n",
       "      <th>roi</th>\n",
       "      <th>last_updated</th>\n",
       "    </tr>\n",
       "    <tr>\n",
       "      <th>symbol</th>\n",
       "      <th></th>\n",
       "      <th></th>\n",
       "      <th></th>\n",
       "      <th></th>\n",
       "      <th></th>\n",
       "      <th></th>\n",
       "      <th></th>\n",
       "      <th></th>\n",
       "      <th></th>\n",
       "      <th></th>\n",
       "      <th></th>\n",
       "      <th></th>\n",
       "      <th></th>\n",
       "      <th></th>\n",
       "      <th></th>\n",
       "      <th></th>\n",
       "      <th></th>\n",
       "      <th></th>\n",
       "      <th></th>\n",
       "      <th></th>\n",
       "      <th></th>\n",
       "    </tr>\n",
       "  </thead>\n",
       "  <tbody>\n",
       "    <tr>\n",
       "      <th>USDT</th>\n",
       "      <td>tether</td>\n",
       "      <td>usdt</td>\n",
       "      <td>Tether</td>\n",
       "      <td>https://assets.coingecko.com/coins/images/325/...</td>\n",
       "      <td>1.001000</td>\n",
       "      <td>72585031133</td>\n",
       "      <td>3</td>\n",
       "      <td>NaN</td>\n",
       "      <td>5.624883e+10</td>\n",
       "      <td>1.004000</td>\n",
       "      <td>...</td>\n",
       "      <td>7.253725e+10</td>\n",
       "      <td>NaN</td>\n",
       "      <td>1.32</td>\n",
       "      <td>-24.38291</td>\n",
       "      <td>2018-07-24T00:00:00.000Z</td>\n",
       "      <td>0.572521</td>\n",
       "      <td>74.75099</td>\n",
       "      <td>2015-03-02T00:00:00.000Z</td>\n",
       "      <td>None</td>\n",
       "      <td>2022-05-31T12:07:36.278Z</td>\n",
       "    </tr>\n",
       "    <tr>\n",
       "      <th>JOE</th>\n",
       "      <td>joe</td>\n",
       "      <td>joe</td>\n",
       "      <td>JOE</td>\n",
       "      <td>https://assets.coingecko.com/coins/images/1756...</td>\n",
       "      <td>0.360321</td>\n",
       "      <td>97954394</td>\n",
       "      <td>302</td>\n",
       "      <td>179752031.0</td>\n",
       "      <td>6.240668e+06</td>\n",
       "      <td>0.381958</td>\n",
       "      <td>...</td>\n",
       "      <td>3.665541e+08</td>\n",
       "      <td>500000000.0</td>\n",
       "      <td>5.09</td>\n",
       "      <td>-92.93303</td>\n",
       "      <td>2021-11-21T14:27:00.202Z</td>\n",
       "      <td>0.026588</td>\n",
       "      <td>1252.12170</td>\n",
       "      <td>2021-08-11T14:01:35.223Z</td>\n",
       "      <td>None</td>\n",
       "      <td>2022-05-31T12:09:46.071Z</td>\n",
       "    </tr>\n",
       "    <tr>\n",
       "      <th>SAVAX</th>\n",
       "      <td>benqi-liquid-staked-avax</td>\n",
       "      <td>savax</td>\n",
       "      <td>BENQI Liquid Staked AVAX</td>\n",
       "      <td>https://assets.coingecko.com/coins/images/2365...</td>\n",
       "      <td>27.400000</td>\n",
       "      <td>84429203</td>\n",
       "      <td>331</td>\n",
       "      <td>NaN</td>\n",
       "      <td>5.651810e+05</td>\n",
       "      <td>29.170000</td>\n",
       "      <td>...</td>\n",
       "      <td>3.069385e+06</td>\n",
       "      <td>NaN</td>\n",
       "      <td>103.55</td>\n",
       "      <td>-73.44343</td>\n",
       "      <td>2022-04-02T13:44:54.612Z</td>\n",
       "      <td>21.730000</td>\n",
       "      <td>26.52463</td>\n",
       "      <td>2022-05-27T19:24:15.546Z</td>\n",
       "      <td>None</td>\n",
       "      <td>2022-05-31T12:08:44.856Z</td>\n",
       "    </tr>\n",
       "  </tbody>\n",
       "</table>\n",
       "<p>3 rows × 26 columns</p>\n",
       "</div>"
      ],
      "text/plain": [
       "                              id symbol                      name  \\\n",
       "symbol                                                              \n",
       "USDT                      tether   usdt                    Tether   \n",
       "JOE                          joe    joe                       JOE   \n",
       "SAVAX   benqi-liquid-staked-avax  savax  BENQI Liquid Staked AVAX   \n",
       "\n",
       "                                                    image  current_price  \\\n",
       "symbol                                                                     \n",
       "USDT    https://assets.coingecko.com/coins/images/325/...       1.001000   \n",
       "JOE     https://assets.coingecko.com/coins/images/1756...       0.360321   \n",
       "SAVAX   https://assets.coingecko.com/coins/images/2365...      27.400000   \n",
       "\n",
       "         market_cap  market_cap_rank  fully_diluted_valuation  total_volume  \\\n",
       "symbol                                                                        \n",
       "USDT    72585031133                3                      NaN  5.624883e+10   \n",
       "JOE        97954394              302              179752031.0  6.240668e+06   \n",
       "SAVAX      84429203              331                      NaN  5.651810e+05   \n",
       "\n",
       "         high_24h  ...  total_supply   max_supply     ath  \\\n",
       "symbol             ...                                      \n",
       "USDT     1.004000  ...  7.253725e+10          NaN    1.32   \n",
       "JOE      0.381958  ...  3.665541e+08  500000000.0    5.09   \n",
       "SAVAX   29.170000  ...  3.069385e+06          NaN  103.55   \n",
       "\n",
       "        ath_change_percentage                  ath_date        atl  \\\n",
       "symbol                                                               \n",
       "USDT                -24.38291  2018-07-24T00:00:00.000Z   0.572521   \n",
       "JOE                 -92.93303  2021-11-21T14:27:00.202Z   0.026588   \n",
       "SAVAX               -73.44343  2022-04-02T13:44:54.612Z  21.730000   \n",
       "\n",
       "        atl_change_percentage                  atl_date   roi  \\\n",
       "symbol                                                          \n",
       "USDT                 74.75099  2015-03-02T00:00:00.000Z  None   \n",
       "JOE                1252.12170  2021-08-11T14:01:35.223Z  None   \n",
       "SAVAX                26.52463  2022-05-27T19:24:15.546Z  None   \n",
       "\n",
       "                    last_updated  \n",
       "symbol                            \n",
       "USDT    2022-05-31T12:07:36.278Z  \n",
       "JOE     2022-05-31T12:09:46.071Z  \n",
       "SAVAX   2022-05-31T12:08:44.856Z  \n",
       "\n",
       "[3 rows x 26 columns]"
      ]
     },
     "execution_count": 95,
     "metadata": {},
     "output_type": "execute_result"
    }
   ],
   "source": [
    "lq_passed"
   ]
  },
  {
   "cell_type": "markdown",
   "id": "b5c93985-272a-40d1-8627-db309eb43512",
   "metadata": {},
   "source": [
    "### Non quantative checks"
   ]
  },
  {
   "cell_type": "code",
   "execution_count": 96,
   "id": "f2dfa053-3828-484a-a767-35105f2ea7e0",
   "metadata": {},
   "outputs": [],
   "source": [
    "exclude_list = [\n",
    "    {\n",
    "        'symbol': 'USDT',\n",
    "        'reason': 'Stable coin'\n",
    "    }\n",
    "]\n",
    "exclude_symbols = [token['symbol'] for token in exclude_list]"
   ]
  },
  {
   "cell_type": "code",
   "execution_count": 97,
   "id": "edf17292-34d6-48fe-9213-5dc5f19ced41",
   "metadata": {},
   "outputs": [],
   "source": [
    "nq_passed = lq_passed[\n",
    "    ~lq_passed.index.isin(exclude_symbols)\n",
    "]"
   ]
  },
  {
   "cell_type": "code",
   "execution_count": 98,
   "id": "481665f8-384b-4826-b3ee-ec99b0b04c5d",
   "metadata": {
    "tags": []
   },
   "outputs": [
    {
     "data": {
      "text/html": [
       "<div>\n",
       "<style scoped>\n",
       "    .dataframe tbody tr th:only-of-type {\n",
       "        vertical-align: middle;\n",
       "    }\n",
       "\n",
       "    .dataframe tbody tr th {\n",
       "        vertical-align: top;\n",
       "    }\n",
       "\n",
       "    .dataframe thead th {\n",
       "        text-align: right;\n",
       "    }\n",
       "</style>\n",
       "<table border=\"1\" class=\"dataframe\">\n",
       "  <thead>\n",
       "    <tr style=\"text-align: right;\">\n",
       "      <th></th>\n",
       "      <th>id</th>\n",
       "      <th>symbol</th>\n",
       "      <th>name</th>\n",
       "      <th>image</th>\n",
       "      <th>current_price</th>\n",
       "      <th>market_cap</th>\n",
       "      <th>market_cap_rank</th>\n",
       "      <th>fully_diluted_valuation</th>\n",
       "      <th>total_volume</th>\n",
       "      <th>high_24h</th>\n",
       "      <th>...</th>\n",
       "      <th>total_supply</th>\n",
       "      <th>max_supply</th>\n",
       "      <th>ath</th>\n",
       "      <th>ath_change_percentage</th>\n",
       "      <th>ath_date</th>\n",
       "      <th>atl</th>\n",
       "      <th>atl_change_percentage</th>\n",
       "      <th>atl_date</th>\n",
       "      <th>roi</th>\n",
       "      <th>last_updated</th>\n",
       "    </tr>\n",
       "    <tr>\n",
       "      <th>symbol</th>\n",
       "      <th></th>\n",
       "      <th></th>\n",
       "      <th></th>\n",
       "      <th></th>\n",
       "      <th></th>\n",
       "      <th></th>\n",
       "      <th></th>\n",
       "      <th></th>\n",
       "      <th></th>\n",
       "      <th></th>\n",
       "      <th></th>\n",
       "      <th></th>\n",
       "      <th></th>\n",
       "      <th></th>\n",
       "      <th></th>\n",
       "      <th></th>\n",
       "      <th></th>\n",
       "      <th></th>\n",
       "      <th></th>\n",
       "      <th></th>\n",
       "      <th></th>\n",
       "    </tr>\n",
       "  </thead>\n",
       "  <tbody>\n",
       "    <tr>\n",
       "      <th>JOE</th>\n",
       "      <td>joe</td>\n",
       "      <td>joe</td>\n",
       "      <td>JOE</td>\n",
       "      <td>https://assets.coingecko.com/coins/images/1756...</td>\n",
       "      <td>0.360321</td>\n",
       "      <td>97954394</td>\n",
       "      <td>302</td>\n",
       "      <td>179752031.0</td>\n",
       "      <td>6240668.0</td>\n",
       "      <td>0.381958</td>\n",
       "      <td>...</td>\n",
       "      <td>3.665541e+08</td>\n",
       "      <td>500000000.0</td>\n",
       "      <td>5.09</td>\n",
       "      <td>-92.93303</td>\n",
       "      <td>2021-11-21T14:27:00.202Z</td>\n",
       "      <td>0.026588</td>\n",
       "      <td>1252.12170</td>\n",
       "      <td>2021-08-11T14:01:35.223Z</td>\n",
       "      <td>None</td>\n",
       "      <td>2022-05-31T12:09:46.071Z</td>\n",
       "    </tr>\n",
       "    <tr>\n",
       "      <th>SAVAX</th>\n",
       "      <td>benqi-liquid-staked-avax</td>\n",
       "      <td>savax</td>\n",
       "      <td>BENQI Liquid Staked AVAX</td>\n",
       "      <td>https://assets.coingecko.com/coins/images/2365...</td>\n",
       "      <td>27.400000</td>\n",
       "      <td>84429203</td>\n",
       "      <td>331</td>\n",
       "      <td>NaN</td>\n",
       "      <td>565181.0</td>\n",
       "      <td>29.170000</td>\n",
       "      <td>...</td>\n",
       "      <td>3.069385e+06</td>\n",
       "      <td>NaN</td>\n",
       "      <td>103.55</td>\n",
       "      <td>-73.44343</td>\n",
       "      <td>2022-04-02T13:44:54.612Z</td>\n",
       "      <td>21.730000</td>\n",
       "      <td>26.52463</td>\n",
       "      <td>2022-05-27T19:24:15.546Z</td>\n",
       "      <td>None</td>\n",
       "      <td>2022-05-31T12:08:44.856Z</td>\n",
       "    </tr>\n",
       "  </tbody>\n",
       "</table>\n",
       "<p>2 rows × 26 columns</p>\n",
       "</div>"
      ],
      "text/plain": [
       "                              id symbol                      name  \\\n",
       "symbol                                                              \n",
       "JOE                          joe    joe                       JOE   \n",
       "SAVAX   benqi-liquid-staked-avax  savax  BENQI Liquid Staked AVAX   \n",
       "\n",
       "                                                    image  current_price  \\\n",
       "symbol                                                                     \n",
       "JOE     https://assets.coingecko.com/coins/images/1756...       0.360321   \n",
       "SAVAX   https://assets.coingecko.com/coins/images/2365...      27.400000   \n",
       "\n",
       "        market_cap  market_cap_rank  fully_diluted_valuation  total_volume  \\\n",
       "symbol                                                                       \n",
       "JOE       97954394              302              179752031.0     6240668.0   \n",
       "SAVAX     84429203              331                      NaN      565181.0   \n",
       "\n",
       "         high_24h  ...  total_supply   max_supply     ath  \\\n",
       "symbol             ...                                      \n",
       "JOE      0.381958  ...  3.665541e+08  500000000.0    5.09   \n",
       "SAVAX   29.170000  ...  3.069385e+06          NaN  103.55   \n",
       "\n",
       "        ath_change_percentage                  ath_date        atl  \\\n",
       "symbol                                                               \n",
       "JOE                 -92.93303  2021-11-21T14:27:00.202Z   0.026588   \n",
       "SAVAX               -73.44343  2022-04-02T13:44:54.612Z  21.730000   \n",
       "\n",
       "        atl_change_percentage                  atl_date   roi  \\\n",
       "symbol                                                          \n",
       "JOE                1252.12170  2021-08-11T14:01:35.223Z  None   \n",
       "SAVAX                26.52463  2022-05-27T19:24:15.546Z  None   \n",
       "\n",
       "                    last_updated  \n",
       "symbol                            \n",
       "JOE     2022-05-31T12:09:46.071Z  \n",
       "SAVAX   2022-05-31T12:08:44.856Z  \n",
       "\n",
       "[2 rows x 26 columns]"
      ]
     },
     "execution_count": 98,
     "metadata": {},
     "output_type": "execute_result"
    }
   ],
   "source": [
    "nq_passed"
   ]
  },
  {
   "cell_type": "markdown",
   "id": "e2cdeba5-92e2-4b12-b85c-6328f257cb2d",
   "metadata": {
    "tags": []
   },
   "source": [
    "### Retrieving marketcaps and prices"
   ]
  },
  {
   "cell_type": "code",
   "execution_count": 100,
   "id": "696516f2-4ff8-41c2-a7c5-f1f7a672fb32",
   "metadata": {},
   "outputs": [
    {
     "name": "stdout",
     "output_type": "stream",
     "text": [
      "Note: JOE, marketcap data available only for 279 < 365 days\n",
      "Note: SAVAX, marketcap data available only for 89 < 365 days\n"
     ]
    }
   ],
   "source": [
    "exclude_list = []\n",
    "\n",
    "prices_data = pd.DataFrame()\n",
    "marketcaps = pd.DataFrame() \n",
    "for index, data in nq_passed[['id', 'symbol']].iterrows():\n",
    "    id_ = data['id']\n",
    "    symbol = data['symbol'].upper()\n",
    "    data = cg.get_coin_market_chart_by_id(id_, vs_currency='USD', days='max')\n",
    "  \n",
    "    df_prices = pd.DataFrame(data['prices'], columns=['date', symbol])\n",
    "    df_prices = df_prices[df_prices[symbol] > 0]\n",
    "    df_prices['date'] = pd.to_datetime(df_prices['date'], unit='ms').dt.date\n",
    "    df_prices['date'] = pd.to_datetime(df_prices['date'])\n",
    "    df_prices = df_prices.set_index('date', drop=True)\n",
    "    df_prices = df_prices.loc[~df_prices.index.duplicated(keep='first')]\n",
    "    \n",
    "    # if len(df_prices) < 365:\n",
    "    if len(df_prices) < 100:\n",
    "        print(f'Excluding {symbol}, prices data available only for {len(df_prices)} < 365 days')\n",
    "        exclude_list.append(symbol)\n",
    "        continue\n",
    "    prices_data = pd.concat([prices_data, df_prices], axis=1)\n",
    "    \n",
    "    df_mcaps = pd.DataFrame(data['market_caps'], columns=['date', symbol])\n",
    "    df_mcaps = df_mcaps[df_mcaps[symbol] > 0]\n",
    "    df_mcaps['date'] = pd.to_datetime(df_mcaps['date'], unit='ms').dt.date\n",
    "    df_mcaps['date'] = pd.to_datetime(df_mcaps['date'])\n",
    "    df_mcaps = df_mcaps.set_index('date', drop=True)\n",
    "    df_mcaps = df_mcaps.loc[~df_mcaps.index.duplicated(keep='first')]\n",
    "    \n",
    "    if len(df_mcaps) < 365:\n",
    "        print(f'Note: {symbol}, marketcap data available only for {len(df_mcaps)} < 365 days')\n",
    "        ## continue\n",
    "    df_mcaps = df_mcaps.reindex(df_prices.index)\n",
    "    marketcaps = pd.concat([marketcaps, df_mcaps], axis=1)"
   ]
  },
  {
   "cell_type": "code",
   "execution_count": 101,
   "id": "3a69dc83-c50f-46ec-9a21-636dc2dee04c",
   "metadata": {},
   "outputs": [],
   "source": [
    "lt_passed = nq_passed[\n",
    "    ~nq_passed.index.isin(exclude_list)\n",
    "]"
   ]
  },
  {
   "cell_type": "code",
   "execution_count": 102,
   "id": "a031c5fc-dfdc-4e4f-a9ca-830e8a6f7906",
   "metadata": {},
   "outputs": [
    {
     "data": {
      "text/html": [
       "<div>\n",
       "<style scoped>\n",
       "    .dataframe tbody tr th:only-of-type {\n",
       "        vertical-align: middle;\n",
       "    }\n",
       "\n",
       "    .dataframe tbody tr th {\n",
       "        vertical-align: top;\n",
       "    }\n",
       "\n",
       "    .dataframe thead th {\n",
       "        text-align: right;\n",
       "    }\n",
       "</style>\n",
       "<table border=\"1\" class=\"dataframe\">\n",
       "  <thead>\n",
       "    <tr style=\"text-align: right;\">\n",
       "      <th></th>\n",
       "      <th>id</th>\n",
       "      <th>symbol</th>\n",
       "      <th>name</th>\n",
       "      <th>image</th>\n",
       "      <th>current_price</th>\n",
       "      <th>market_cap</th>\n",
       "      <th>market_cap_rank</th>\n",
       "      <th>fully_diluted_valuation</th>\n",
       "      <th>total_volume</th>\n",
       "      <th>high_24h</th>\n",
       "      <th>...</th>\n",
       "      <th>total_supply</th>\n",
       "      <th>max_supply</th>\n",
       "      <th>ath</th>\n",
       "      <th>ath_change_percentage</th>\n",
       "      <th>ath_date</th>\n",
       "      <th>atl</th>\n",
       "      <th>atl_change_percentage</th>\n",
       "      <th>atl_date</th>\n",
       "      <th>roi</th>\n",
       "      <th>last_updated</th>\n",
       "    </tr>\n",
       "    <tr>\n",
       "      <th>symbol</th>\n",
       "      <th></th>\n",
       "      <th></th>\n",
       "      <th></th>\n",
       "      <th></th>\n",
       "      <th></th>\n",
       "      <th></th>\n",
       "      <th></th>\n",
       "      <th></th>\n",
       "      <th></th>\n",
       "      <th></th>\n",
       "      <th></th>\n",
       "      <th></th>\n",
       "      <th></th>\n",
       "      <th></th>\n",
       "      <th></th>\n",
       "      <th></th>\n",
       "      <th></th>\n",
       "      <th></th>\n",
       "      <th></th>\n",
       "      <th></th>\n",
       "      <th></th>\n",
       "    </tr>\n",
       "  </thead>\n",
       "  <tbody>\n",
       "    <tr>\n",
       "      <th>JOE</th>\n",
       "      <td>joe</td>\n",
       "      <td>joe</td>\n",
       "      <td>JOE</td>\n",
       "      <td>https://assets.coingecko.com/coins/images/1756...</td>\n",
       "      <td>0.360321</td>\n",
       "      <td>97954394</td>\n",
       "      <td>302</td>\n",
       "      <td>179752031.0</td>\n",
       "      <td>6240668.0</td>\n",
       "      <td>0.381958</td>\n",
       "      <td>...</td>\n",
       "      <td>3.665541e+08</td>\n",
       "      <td>500000000.0</td>\n",
       "      <td>5.09</td>\n",
       "      <td>-92.93303</td>\n",
       "      <td>2021-11-21T14:27:00.202Z</td>\n",
       "      <td>0.026588</td>\n",
       "      <td>1252.12170</td>\n",
       "      <td>2021-08-11T14:01:35.223Z</td>\n",
       "      <td>None</td>\n",
       "      <td>2022-05-31T12:09:46.071Z</td>\n",
       "    </tr>\n",
       "    <tr>\n",
       "      <th>SAVAX</th>\n",
       "      <td>benqi-liquid-staked-avax</td>\n",
       "      <td>savax</td>\n",
       "      <td>BENQI Liquid Staked AVAX</td>\n",
       "      <td>https://assets.coingecko.com/coins/images/2365...</td>\n",
       "      <td>27.400000</td>\n",
       "      <td>84429203</td>\n",
       "      <td>331</td>\n",
       "      <td>NaN</td>\n",
       "      <td>565181.0</td>\n",
       "      <td>29.170000</td>\n",
       "      <td>...</td>\n",
       "      <td>3.069385e+06</td>\n",
       "      <td>NaN</td>\n",
       "      <td>103.55</td>\n",
       "      <td>-73.44343</td>\n",
       "      <td>2022-04-02T13:44:54.612Z</td>\n",
       "      <td>21.730000</td>\n",
       "      <td>26.52463</td>\n",
       "      <td>2022-05-27T19:24:15.546Z</td>\n",
       "      <td>None</td>\n",
       "      <td>2022-05-31T12:08:44.856Z</td>\n",
       "    </tr>\n",
       "  </tbody>\n",
       "</table>\n",
       "<p>2 rows × 26 columns</p>\n",
       "</div>"
      ],
      "text/plain": [
       "                              id symbol                      name  \\\n",
       "symbol                                                              \n",
       "JOE                          joe    joe                       JOE   \n",
       "SAVAX   benqi-liquid-staked-avax  savax  BENQI Liquid Staked AVAX   \n",
       "\n",
       "                                                    image  current_price  \\\n",
       "symbol                                                                     \n",
       "JOE     https://assets.coingecko.com/coins/images/1756...       0.360321   \n",
       "SAVAX   https://assets.coingecko.com/coins/images/2365...      27.400000   \n",
       "\n",
       "        market_cap  market_cap_rank  fully_diluted_valuation  total_volume  \\\n",
       "symbol                                                                       \n",
       "JOE       97954394              302              179752031.0     6240668.0   \n",
       "SAVAX     84429203              331                      NaN      565181.0   \n",
       "\n",
       "         high_24h  ...  total_supply   max_supply     ath  \\\n",
       "symbol             ...                                      \n",
       "JOE      0.381958  ...  3.665541e+08  500000000.0    5.09   \n",
       "SAVAX   29.170000  ...  3.069385e+06          NaN  103.55   \n",
       "\n",
       "        ath_change_percentage                  ath_date        atl  \\\n",
       "symbol                                                               \n",
       "JOE                 -92.93303  2021-11-21T14:27:00.202Z   0.026588   \n",
       "SAVAX               -73.44343  2022-04-02T13:44:54.612Z  21.730000   \n",
       "\n",
       "        atl_change_percentage                  atl_date   roi  \\\n",
       "symbol                                                          \n",
       "JOE                1252.12170  2021-08-11T14:01:35.223Z  None   \n",
       "SAVAX                26.52463  2022-05-27T19:24:15.546Z  None   \n",
       "\n",
       "                    last_updated  \n",
       "symbol                            \n",
       "JOE     2022-05-31T12:09:46.071Z  \n",
       "SAVAX   2022-05-31T12:08:44.856Z  \n",
       "\n",
       "[2 rows x 26 columns]"
      ]
     },
     "execution_count": 102,
     "metadata": {},
     "output_type": "execute_result"
    }
   ],
   "source": [
    "lt_passed"
   ]
  },
  {
   "cell_type": "markdown",
   "id": "253d7d1d-2504-4c8e-9a7e-34950229b4ae",
   "metadata": {
    "tags": []
   },
   "source": [
    "### Marketcap ranking & top10 filtering"
   ]
  },
  {
   "cell_type": "code",
   "execution_count": 103,
   "id": "222947eb-0350-4f1d-9526-1fe690e1174c",
   "metadata": {},
   "outputs": [],
   "source": [
    "chosen_tokens = lt_passed.sort_values(\"market_cap\", ascending=False).iloc[:10]"
   ]
  },
  {
   "cell_type": "code",
   "execution_count": 104,
   "id": "054cf6e0-4865-48ce-aaeb-b110053d65ea",
   "metadata": {},
   "outputs": [
    {
     "data": {
      "text/html": [
       "<div>\n",
       "<style scoped>\n",
       "    .dataframe tbody tr th:only-of-type {\n",
       "        vertical-align: middle;\n",
       "    }\n",
       "\n",
       "    .dataframe tbody tr th {\n",
       "        vertical-align: top;\n",
       "    }\n",
       "\n",
       "    .dataframe thead th {\n",
       "        text-align: right;\n",
       "    }\n",
       "</style>\n",
       "<table border=\"1\" class=\"dataframe\">\n",
       "  <thead>\n",
       "    <tr style=\"text-align: right;\">\n",
       "      <th></th>\n",
       "      <th>id</th>\n",
       "      <th>symbol</th>\n",
       "      <th>name</th>\n",
       "      <th>image</th>\n",
       "      <th>current_price</th>\n",
       "      <th>market_cap</th>\n",
       "      <th>market_cap_rank</th>\n",
       "      <th>fully_diluted_valuation</th>\n",
       "      <th>total_volume</th>\n",
       "      <th>high_24h</th>\n",
       "      <th>...</th>\n",
       "      <th>total_supply</th>\n",
       "      <th>max_supply</th>\n",
       "      <th>ath</th>\n",
       "      <th>ath_change_percentage</th>\n",
       "      <th>ath_date</th>\n",
       "      <th>atl</th>\n",
       "      <th>atl_change_percentage</th>\n",
       "      <th>atl_date</th>\n",
       "      <th>roi</th>\n",
       "      <th>last_updated</th>\n",
       "    </tr>\n",
       "    <tr>\n",
       "      <th>symbol</th>\n",
       "      <th></th>\n",
       "      <th></th>\n",
       "      <th></th>\n",
       "      <th></th>\n",
       "      <th></th>\n",
       "      <th></th>\n",
       "      <th></th>\n",
       "      <th></th>\n",
       "      <th></th>\n",
       "      <th></th>\n",
       "      <th></th>\n",
       "      <th></th>\n",
       "      <th></th>\n",
       "      <th></th>\n",
       "      <th></th>\n",
       "      <th></th>\n",
       "      <th></th>\n",
       "      <th></th>\n",
       "      <th></th>\n",
       "      <th></th>\n",
       "      <th></th>\n",
       "    </tr>\n",
       "  </thead>\n",
       "  <tbody>\n",
       "    <tr>\n",
       "      <th>JOE</th>\n",
       "      <td>joe</td>\n",
       "      <td>joe</td>\n",
       "      <td>JOE</td>\n",
       "      <td>https://assets.coingecko.com/coins/images/1756...</td>\n",
       "      <td>0.360321</td>\n",
       "      <td>97954394</td>\n",
       "      <td>302</td>\n",
       "      <td>179752031.0</td>\n",
       "      <td>6240668.0</td>\n",
       "      <td>0.381958</td>\n",
       "      <td>...</td>\n",
       "      <td>3.665541e+08</td>\n",
       "      <td>500000000.0</td>\n",
       "      <td>5.09</td>\n",
       "      <td>-92.93303</td>\n",
       "      <td>2021-11-21T14:27:00.202Z</td>\n",
       "      <td>0.026588</td>\n",
       "      <td>1252.12170</td>\n",
       "      <td>2021-08-11T14:01:35.223Z</td>\n",
       "      <td>None</td>\n",
       "      <td>2022-05-31T12:09:46.071Z</td>\n",
       "    </tr>\n",
       "    <tr>\n",
       "      <th>SAVAX</th>\n",
       "      <td>benqi-liquid-staked-avax</td>\n",
       "      <td>savax</td>\n",
       "      <td>BENQI Liquid Staked AVAX</td>\n",
       "      <td>https://assets.coingecko.com/coins/images/2365...</td>\n",
       "      <td>27.400000</td>\n",
       "      <td>84429203</td>\n",
       "      <td>331</td>\n",
       "      <td>NaN</td>\n",
       "      <td>565181.0</td>\n",
       "      <td>29.170000</td>\n",
       "      <td>...</td>\n",
       "      <td>3.069385e+06</td>\n",
       "      <td>NaN</td>\n",
       "      <td>103.55</td>\n",
       "      <td>-73.44343</td>\n",
       "      <td>2022-04-02T13:44:54.612Z</td>\n",
       "      <td>21.730000</td>\n",
       "      <td>26.52463</td>\n",
       "      <td>2022-05-27T19:24:15.546Z</td>\n",
       "      <td>None</td>\n",
       "      <td>2022-05-31T12:08:44.856Z</td>\n",
       "    </tr>\n",
       "  </tbody>\n",
       "</table>\n",
       "<p>2 rows × 26 columns</p>\n",
       "</div>"
      ],
      "text/plain": [
       "                              id symbol                      name  \\\n",
       "symbol                                                              \n",
       "JOE                          joe    joe                       JOE   \n",
       "SAVAX   benqi-liquid-staked-avax  savax  BENQI Liquid Staked AVAX   \n",
       "\n",
       "                                                    image  current_price  \\\n",
       "symbol                                                                     \n",
       "JOE     https://assets.coingecko.com/coins/images/1756...       0.360321   \n",
       "SAVAX   https://assets.coingecko.com/coins/images/2365...      27.400000   \n",
       "\n",
       "        market_cap  market_cap_rank  fully_diluted_valuation  total_volume  \\\n",
       "symbol                                                                       \n",
       "JOE       97954394              302              179752031.0     6240668.0   \n",
       "SAVAX     84429203              331                      NaN      565181.0   \n",
       "\n",
       "         high_24h  ...  total_supply   max_supply     ath  \\\n",
       "symbol             ...                                      \n",
       "JOE      0.381958  ...  3.665541e+08  500000000.0    5.09   \n",
       "SAVAX   29.170000  ...  3.069385e+06          NaN  103.55   \n",
       "\n",
       "        ath_change_percentage                  ath_date        atl  \\\n",
       "symbol                                                               \n",
       "JOE                 -92.93303  2021-11-21T14:27:00.202Z   0.026588   \n",
       "SAVAX               -73.44343  2022-04-02T13:44:54.612Z  21.730000   \n",
       "\n",
       "        atl_change_percentage                  atl_date   roi  \\\n",
       "symbol                                                          \n",
       "JOE                1252.12170  2021-08-11T14:01:35.223Z  None   \n",
       "SAVAX                26.52463  2022-05-27T19:24:15.546Z  None   \n",
       "\n",
       "                    last_updated  \n",
       "symbol                            \n",
       "JOE     2022-05-31T12:09:46.071Z  \n",
       "SAVAX   2022-05-31T12:08:44.856Z  \n",
       "\n",
       "[2 rows x 26 columns]"
      ]
     },
     "execution_count": 104,
     "metadata": {},
     "output_type": "execute_result"
    }
   ],
   "source": [
    "chosen_tokens"
   ]
  },
  {
   "cell_type": "code",
   "execution_count": 105,
   "id": "664871be-8220-479f-93db-71f6f2a68e57",
   "metadata": {},
   "outputs": [],
   "source": [
    "chosen_tokens_symbols = list(chosen_tokens.index)\n",
    "prices_data = prices_data[chosen_tokens_symbols]\n",
    "marketcaps = marketcaps[chosen_tokens_symbols]"
   ]
  },
  {
   "cell_type": "code",
   "execution_count": 106,
   "id": "9526c535-e544-4ac9-a0a0-1f34fa9ae535",
   "metadata": {},
   "outputs": [],
   "source": [
    "without_nan_index = (marketcaps.isnull().sum(axis=1) == 0) & (prices_data.isnull().sum(axis=1) == 0)\n",
    "marketcaps = marketcaps[without_nan_index]\n",
    "prices_data = prices_data[without_nan_index]"
   ]
  },
  {
   "cell_type": "code",
   "execution_count": 112,
   "id": "81e27fa2-32ac-48d6-83f6-6f3aef4bc51c",
   "metadata": {},
   "outputs": [
    {
     "data": {
      "text/html": [
       "<div>\n",
       "<style scoped>\n",
       "    .dataframe tbody tr th:only-of-type {\n",
       "        vertical-align: middle;\n",
       "    }\n",
       "\n",
       "    .dataframe tbody tr th {\n",
       "        vertical-align: top;\n",
       "    }\n",
       "\n",
       "    .dataframe thead th {\n",
       "        text-align: right;\n",
       "    }\n",
       "</style>\n",
       "<table border=\"1\" class=\"dataframe\">\n",
       "  <thead>\n",
       "    <tr style=\"text-align: right;\">\n",
       "      <th></th>\n",
       "      <th>JOE</th>\n",
       "      <th>SAVAX</th>\n",
       "    </tr>\n",
       "    <tr>\n",
       "      <th>date</th>\n",
       "      <th></th>\n",
       "      <th></th>\n",
       "    </tr>\n",
       "  </thead>\n",
       "  <tbody>\n",
       "    <tr>\n",
       "      <th>2022-03-04</th>\n",
       "      <td>1.080919</td>\n",
       "      <td>76.932708</td>\n",
       "    </tr>\n",
       "    <tr>\n",
       "      <th>2022-03-05</th>\n",
       "      <td>1.073492</td>\n",
       "      <td>75.384519</td>\n",
       "    </tr>\n",
       "    <tr>\n",
       "      <th>2022-03-06</th>\n",
       "      <td>1.081149</td>\n",
       "      <td>76.174594</td>\n",
       "    </tr>\n",
       "    <tr>\n",
       "      <th>2022-03-07</th>\n",
       "      <td>1.044759</td>\n",
       "      <td>71.884256</td>\n",
       "    </tr>\n",
       "    <tr>\n",
       "      <th>2022-03-08</th>\n",
       "      <td>0.995397</td>\n",
       "      <td>71.811984</td>\n",
       "    </tr>\n",
       "    <tr>\n",
       "      <th>...</th>\n",
       "      <td>...</td>\n",
       "      <td>...</td>\n",
       "    </tr>\n",
       "    <tr>\n",
       "      <th>2022-05-27</th>\n",
       "      <td>0.323698</td>\n",
       "      <td>23.766473</td>\n",
       "    </tr>\n",
       "    <tr>\n",
       "      <th>2022-05-28</th>\n",
       "      <td>0.297285</td>\n",
       "      <td>22.606452</td>\n",
       "    </tr>\n",
       "    <tr>\n",
       "      <th>2022-05-29</th>\n",
       "      <td>0.327986</td>\n",
       "      <td>25.233276</td>\n",
       "    </tr>\n",
       "    <tr>\n",
       "      <th>2022-05-30</th>\n",
       "      <td>0.349599</td>\n",
       "      <td>26.383659</td>\n",
       "    </tr>\n",
       "    <tr>\n",
       "      <th>2022-05-31</th>\n",
       "      <td>0.365804</td>\n",
       "      <td>27.904355</td>\n",
       "    </tr>\n",
       "  </tbody>\n",
       "</table>\n",
       "<p>89 rows × 2 columns</p>\n",
       "</div>"
      ],
      "text/plain": [
       "                 JOE      SAVAX\n",
       "date                           \n",
       "2022-03-04  1.080919  76.932708\n",
       "2022-03-05  1.073492  75.384519\n",
       "2022-03-06  1.081149  76.174594\n",
       "2022-03-07  1.044759  71.884256\n",
       "2022-03-08  0.995397  71.811984\n",
       "...              ...        ...\n",
       "2022-05-27  0.323698  23.766473\n",
       "2022-05-28  0.297285  22.606452\n",
       "2022-05-29  0.327986  25.233276\n",
       "2022-05-30  0.349599  26.383659\n",
       "2022-05-31  0.365804  27.904355\n",
       "\n",
       "[89 rows x 2 columns]"
      ]
     },
     "execution_count": 112,
     "metadata": {},
     "output_type": "execute_result"
    }
   ],
   "source": [
    "prices_data"
   ]
  },
  {
   "cell_type": "code",
   "execution_count": 113,
   "id": "e6bf47f9-5ad3-41e2-ad95-b044d080ad14",
   "metadata": {},
   "outputs": [
    {
     "data": {
      "text/html": [
       "<div>\n",
       "<style scoped>\n",
       "    .dataframe tbody tr th:only-of-type {\n",
       "        vertical-align: middle;\n",
       "    }\n",
       "\n",
       "    .dataframe tbody tr th {\n",
       "        vertical-align: top;\n",
       "    }\n",
       "\n",
       "    .dataframe thead th {\n",
       "        text-align: right;\n",
       "    }\n",
       "</style>\n",
       "<table border=\"1\" class=\"dataframe\">\n",
       "  <thead>\n",
       "    <tr style=\"text-align: right;\">\n",
       "      <th></th>\n",
       "      <th>JOE</th>\n",
       "      <th>SAVAX</th>\n",
       "    </tr>\n",
       "    <tr>\n",
       "      <th>date</th>\n",
       "      <th></th>\n",
       "      <th></th>\n",
       "    </tr>\n",
       "  </thead>\n",
       "  <tbody>\n",
       "    <tr>\n",
       "      <th>2022-03-04</th>\n",
       "      <td>1.919397e+08</td>\n",
       "      <td>9.115304e+07</td>\n",
       "    </tr>\n",
       "    <tr>\n",
       "      <th>2022-03-05</th>\n",
       "      <td>1.919817e+08</td>\n",
       "      <td>9.218265e+07</td>\n",
       "    </tr>\n",
       "    <tr>\n",
       "      <th>2022-03-06</th>\n",
       "      <td>1.932482e+08</td>\n",
       "      <td>9.336747e+07</td>\n",
       "    </tr>\n",
       "    <tr>\n",
       "      <th>2022-03-07</th>\n",
       "      <td>1.865492e+08</td>\n",
       "      <td>8.787878e+07</td>\n",
       "    </tr>\n",
       "    <tr>\n",
       "      <th>2022-03-08</th>\n",
       "      <td>1.788986e+08</td>\n",
       "      <td>8.984552e+07</td>\n",
       "    </tr>\n",
       "    <tr>\n",
       "      <th>...</th>\n",
       "      <td>...</td>\n",
       "      <td>...</td>\n",
       "    </tr>\n",
       "    <tr>\n",
       "      <th>2022-05-27</th>\n",
       "      <td>8.954120e+07</td>\n",
       "      <td>9.132924e+07</td>\n",
       "    </tr>\n",
       "    <tr>\n",
       "      <th>2022-05-28</th>\n",
       "      <td>8.081476e+07</td>\n",
       "      <td>8.383269e+07</td>\n",
       "    </tr>\n",
       "    <tr>\n",
       "      <th>2022-05-29</th>\n",
       "      <td>8.970251e+07</td>\n",
       "      <td>7.960557e+07</td>\n",
       "    </tr>\n",
       "    <tr>\n",
       "      <th>2022-05-30</th>\n",
       "      <td>9.520841e+07</td>\n",
       "      <td>8.208110e+07</td>\n",
       "    </tr>\n",
       "    <tr>\n",
       "      <th>2022-05-31</th>\n",
       "      <td>9.962590e+07</td>\n",
       "      <td>8.593763e+07</td>\n",
       "    </tr>\n",
       "  </tbody>\n",
       "</table>\n",
       "<p>89 rows × 2 columns</p>\n",
       "</div>"
      ],
      "text/plain": [
       "                     JOE         SAVAX\n",
       "date                                  \n",
       "2022-03-04  1.919397e+08  9.115304e+07\n",
       "2022-03-05  1.919817e+08  9.218265e+07\n",
       "2022-03-06  1.932482e+08  9.336747e+07\n",
       "2022-03-07  1.865492e+08  8.787878e+07\n",
       "2022-03-08  1.788986e+08  8.984552e+07\n",
       "...                  ...           ...\n",
       "2022-05-27  8.954120e+07  9.132924e+07\n",
       "2022-05-28  8.081476e+07  8.383269e+07\n",
       "2022-05-29  8.970251e+07  7.960557e+07\n",
       "2022-05-30  9.520841e+07  8.208110e+07\n",
       "2022-05-31  9.962590e+07  8.593763e+07\n",
       "\n",
       "[89 rows x 2 columns]"
      ]
     },
     "execution_count": 113,
     "metadata": {},
     "output_type": "execute_result"
    }
   ],
   "source": [
    "marketcaps"
   ]
  },
  {
   "cell_type": "markdown",
   "id": "2fb2d3af-b228-4849-8c84-073112a41a1a",
   "metadata": {
    "tags": []
   },
   "source": [
    "### Assets data"
   ]
  },
  {
   "cell_type": "code",
   "execution_count": 110,
   "id": "c4dd2949-13da-4686-93e2-4cdb9e9fdb57",
   "metadata": {},
   "outputs": [],
   "source": [
    "tickers = list(prices_data.columns)"
   ]
  },
  {
   "cell_type": "code",
   "execution_count": 111,
   "id": "b70246d1-4173-47d8-9a02-e787e2b79330",
   "metadata": {},
   "outputs": [
    {
     "name": "stderr",
     "output_type": "stream",
     "text": [
      "/home/evgeniy/.local/lib/python3.10/site-packages/plotly/io/_renderers.py:396: DeprecationWarning:\n",
      "\n",
      "distutils Version classes are deprecated. Use packaging.version instead.\n",
      "\n"
     ]
    },
    {
     "data": {
      "application/vnd.plotly.v1+json": {
       "config": {
        "plotlyServerURL": "https://plot.ly"
       },
       "data": [
        {
         "hovertemplate": "%{y}",
         "legendgroup": "JOE",
         "line": {
          "color": "#636efa",
          "dash": "solid"
         },
         "marker": {
          "symbol": "circle"
         },
         "mode": "lines",
         "name": "JOE",
         "orientation": "v",
         "showlegend": true,
         "type": "scatter",
         "x": [
          "2022-03-04T00:00:00",
          "2022-03-05T00:00:00",
          "2022-03-06T00:00:00",
          "2022-03-07T00:00:00",
          "2022-03-08T00:00:00",
          "2022-03-09T00:00:00",
          "2022-03-10T00:00:00",
          "2022-03-11T00:00:00",
          "2022-03-12T00:00:00",
          "2022-03-13T00:00:00",
          "2022-03-14T00:00:00",
          "2022-03-15T00:00:00",
          "2022-03-16T00:00:00",
          "2022-03-17T00:00:00",
          "2022-03-18T00:00:00",
          "2022-03-19T00:00:00",
          "2022-03-20T00:00:00",
          "2022-03-21T00:00:00",
          "2022-03-22T00:00:00",
          "2022-03-23T00:00:00",
          "2022-03-24T00:00:00",
          "2022-03-25T00:00:00",
          "2022-03-26T00:00:00",
          "2022-03-27T00:00:00",
          "2022-03-28T00:00:00",
          "2022-03-29T00:00:00",
          "2022-03-30T00:00:00",
          "2022-03-31T00:00:00",
          "2022-04-01T00:00:00",
          "2022-04-02T00:00:00",
          "2022-04-03T00:00:00",
          "2022-04-04T00:00:00",
          "2022-04-05T00:00:00",
          "2022-04-06T00:00:00",
          "2022-04-07T00:00:00",
          "2022-04-08T00:00:00",
          "2022-04-09T00:00:00",
          "2022-04-10T00:00:00",
          "2022-04-11T00:00:00",
          "2022-04-12T00:00:00",
          "2022-04-13T00:00:00",
          "2022-04-14T00:00:00",
          "2022-04-15T00:00:00",
          "2022-04-16T00:00:00",
          "2022-04-17T00:00:00",
          "2022-04-18T00:00:00",
          "2022-04-19T00:00:00",
          "2022-04-20T00:00:00",
          "2022-04-21T00:00:00",
          "2022-04-22T00:00:00",
          "2022-04-23T00:00:00",
          "2022-04-24T00:00:00",
          "2022-04-25T00:00:00",
          "2022-04-26T00:00:00",
          "2022-04-27T00:00:00",
          "2022-04-28T00:00:00",
          "2022-04-29T00:00:00",
          "2022-04-30T00:00:00",
          "2022-05-01T00:00:00",
          "2022-05-02T00:00:00",
          "2022-05-03T00:00:00",
          "2022-05-04T00:00:00",
          "2022-05-05T00:00:00",
          "2022-05-06T00:00:00",
          "2022-05-07T00:00:00",
          "2022-05-08T00:00:00",
          "2022-05-09T00:00:00",
          "2022-05-10T00:00:00",
          "2022-05-11T00:00:00",
          "2022-05-12T00:00:00",
          "2022-05-13T00:00:00",
          "2022-05-14T00:00:00",
          "2022-05-15T00:00:00",
          "2022-05-16T00:00:00",
          "2022-05-17T00:00:00",
          "2022-05-18T00:00:00",
          "2022-05-19T00:00:00",
          "2022-05-20T00:00:00",
          "2022-05-21T00:00:00",
          "2022-05-22T00:00:00",
          "2022-05-23T00:00:00",
          "2022-05-24T00:00:00",
          "2022-05-25T00:00:00",
          "2022-05-26T00:00:00",
          "2022-05-27T00:00:00",
          "2022-05-28T00:00:00",
          "2022-05-29T00:00:00",
          "2022-05-30T00:00:00",
          "2022-05-31T00:00:00"
         ],
         "xaxis": "x",
         "y": [
          0,
          -0.006870395802474949,
          0.00021314763995450292,
          -0.03345326426827544,
          -0.07911975359741086,
          -0.09419876684395967,
          -0.060269215496363215,
          -0.09378164817292489,
          -0.16812621700191832,
          -0.14424487677274445,
          -0.23252962291707857,
          -0.2215187029997755,
          -0.2263285876333876,
          -0.1593665590814698,
          -0.08160821021497433,
          -0.06531226160077086,
          -0.03941601682185414,
          -0.09529232458680059,
          -0.05575585880504841,
          -0.07849696590064081,
          -0.0811229495378164,
          -0.05847043120779705,
          -0.11461024655886443,
          -0.09375068991959601,
          -0.07975090060091161,
          0.03418357864391153,
          0.027394983596210398,
          0.1762127863419205,
          0.11624296670289658,
          0.16525327731172235,
          0.17372066450433832,
          0.27745149495335086,
          0.2611346483509316,
          0.31022448414200055,
          0.1460127746770894,
          0.28501215799181634,
          0.18677830149322072,
          0.2621968141276203,
          0.22362390592185655,
          0.04889395977410471,
          0.10542765660798059,
          0.16902138016896995,
          0.11041968596381979,
          0.09810063416963,
          0.0702776099583251,
          0.03567435796322904,
          0.06593178081029305,
          0.16305195713163467,
          0.129770318352179,
          0.0850219022397305,
          0.0394605592941768,
          -0.013650842033761101,
          -0.026766412928709626,
          0.023910666778899525,
          -0.05594429325906458,
          -0.04193574300374181,
          -0.09554634963779474,
          -0.17251082561767528,
          -0.2479196189398324,
          -0.21684104388022885,
          -0.164823861861632,
          -0.17313810640205696,
          -0.0677226315048125,
          -0.1935484260780832,
          -0.23643935382691328,
          -0.2690783642569854,
          -0.2645141441250922,
          -0.4365655350617944,
          -0.45594881729455017,
          -0.6708654089743809,
          -0.6212636770066527,
          -0.568509229856679,
          -0.55881034792444,
          -0.5233812089273694,
          -0.5655329141590604,
          -0.5383369755505001,
          -0.6067417649490224,
          -0.6036092125993799,
          -0.644173784235474,
          -0.6407469168044149,
          -0.6028824944356538,
          -0.6439122862398832,
          -0.6351937037854365,
          -0.6546425017582307,
          -0.7005341695350168,
          -0.7249704323717476,
          -0.6965673599619044,
          -0.6765726479929035,
          -0.6615803860943975
         ],
         "yaxis": "y"
        },
        {
         "hovertemplate": "%{y}",
         "legendgroup": "SAVAX",
         "line": {
          "color": "#EF553B",
          "dash": "solid"
         },
         "marker": {
          "symbol": "circle"
         },
         "mode": "lines",
         "name": "SAVAX",
         "orientation": "v",
         "showlegend": true,
         "type": "scatter",
         "x": [
          "2022-03-04T00:00:00",
          "2022-03-05T00:00:00",
          "2022-03-06T00:00:00",
          "2022-03-07T00:00:00",
          "2022-03-08T00:00:00",
          "2022-03-09T00:00:00",
          "2022-03-10T00:00:00",
          "2022-03-11T00:00:00",
          "2022-03-12T00:00:00",
          "2022-03-13T00:00:00",
          "2022-03-14T00:00:00",
          "2022-03-15T00:00:00",
          "2022-03-16T00:00:00",
          "2022-03-17T00:00:00",
          "2022-03-18T00:00:00",
          "2022-03-19T00:00:00",
          "2022-03-20T00:00:00",
          "2022-03-21T00:00:00",
          "2022-03-22T00:00:00",
          "2022-03-23T00:00:00",
          "2022-03-24T00:00:00",
          "2022-03-25T00:00:00",
          "2022-03-26T00:00:00",
          "2022-03-27T00:00:00",
          "2022-03-28T00:00:00",
          "2022-03-29T00:00:00",
          "2022-03-30T00:00:00",
          "2022-03-31T00:00:00",
          "2022-04-01T00:00:00",
          "2022-04-02T00:00:00",
          "2022-04-03T00:00:00",
          "2022-04-04T00:00:00",
          "2022-04-05T00:00:00",
          "2022-04-06T00:00:00",
          "2022-04-07T00:00:00",
          "2022-04-08T00:00:00",
          "2022-04-09T00:00:00",
          "2022-04-10T00:00:00",
          "2022-04-11T00:00:00",
          "2022-04-12T00:00:00",
          "2022-04-13T00:00:00",
          "2022-04-14T00:00:00",
          "2022-04-15T00:00:00",
          "2022-04-16T00:00:00",
          "2022-04-17T00:00:00",
          "2022-04-18T00:00:00",
          "2022-04-19T00:00:00",
          "2022-04-20T00:00:00",
          "2022-04-21T00:00:00",
          "2022-04-22T00:00:00",
          "2022-04-23T00:00:00",
          "2022-04-24T00:00:00",
          "2022-04-25T00:00:00",
          "2022-04-26T00:00:00",
          "2022-04-27T00:00:00",
          "2022-04-28T00:00:00",
          "2022-04-29T00:00:00",
          "2022-04-30T00:00:00",
          "2022-05-01T00:00:00",
          "2022-05-02T00:00:00",
          "2022-05-03T00:00:00",
          "2022-05-04T00:00:00",
          "2022-05-05T00:00:00",
          "2022-05-06T00:00:00",
          "2022-05-07T00:00:00",
          "2022-05-08T00:00:00",
          "2022-05-09T00:00:00",
          "2022-05-10T00:00:00",
          "2022-05-11T00:00:00",
          "2022-05-12T00:00:00",
          "2022-05-13T00:00:00",
          "2022-05-14T00:00:00",
          "2022-05-15T00:00:00",
          "2022-05-16T00:00:00",
          "2022-05-17T00:00:00",
          "2022-05-18T00:00:00",
          "2022-05-19T00:00:00",
          "2022-05-20T00:00:00",
          "2022-05-21T00:00:00",
          "2022-05-22T00:00:00",
          "2022-05-23T00:00:00",
          "2022-05-24T00:00:00",
          "2022-05-25T00:00:00",
          "2022-05-26T00:00:00",
          "2022-05-27T00:00:00",
          "2022-05-28T00:00:00",
          "2022-05-29T00:00:00",
          "2022-05-30T00:00:00",
          "2022-05-31T00:00:00"
         ],
         "xaxis": "x",
         "y": [
          0,
          -0.020123935559465345,
          -0.009854245703393216,
          -0.06562166110080447,
          -0.06656107904800068,
          -0.05012037779622913,
          0.008224677027003802,
          -0.04344904743758504,
          -0.07595802980105848,
          -0.07977951561920005,
          -0.11746327425878655,
          -0.11278830185583899,
          -0.09515460025721145,
          -0.0394601013103566,
          0.038614081017612545,
          0.11549208431568725,
          0.16780011593061195,
          0.10020553895143736,
          0.12087674355890887,
          0.09184050944353639,
          0.1266953887628406,
          0.14522577861248176,
          0.09433554901086683,
          0.12171049707319859,
          0.16630644928969462,
          0.1762840465393376,
          0.2008943375066854,
          0.24607456528019322,
          0.2515151905774813,
          0.25722980614993185,
          0.25519885692528055,
          0.27108667035626866,
          0.2397800003027486,
          0.18427446318370277,
          0.08812156860280984,
          0.14591999204316597,
          0.09330225835524297,
          0.1079538756613938,
          0.07984867293082676,
          -0.02708560735905796,
          0.004671066270918622,
          0.04078315037371927,
          0.005151608523273454,
          0.013635299021399927,
          0.018029786190329133,
          -0.012595051196452212,
          0.011332765067617823,
          0.04412685157187557,
          0.016390282081072405,
          -0.018215796686936958,
          -0.027058224857573143,
          -0.04614710425054913,
          -0.059049585830340146,
          -0.0495193435571466,
          -0.09718949591380444,
          -0.08323938913932605,
          -0.11658112584105051,
          -0.1641592723354608,
          -0.25085406228470775,
          -0.229153237116558,
          -0.2053869128571557,
          -0.21449109403570565,
          -0.12300596787574358,
          -0.22053163537380982,
          -0.25151340242768994,
          -0.27710308526878047,
          -0.32499959938877176,
          -0.44397992302002154,
          -0.42007149149833367,
          -0.6085568100346084,
          -0.6152397952355463,
          -0.5817051849789099,
          -0.5572617548297609,
          -0.5290056529833251,
          -0.5738037241961078,
          -0.5497603475238316,
          -0.6101361163588707,
          -0.6012601512974434,
          -0.6206943607148845,
          -0.6096665792365199,
          -0.5825934413254537,
          -0.6200263480674753,
          -0.6194123099122253,
          -0.6420850873727011,
          -0.6910745366173574,
          -0.7061529162213294,
          -0.672008483923868,
          -0.6570553670885337,
          -0.637288803607128
         ],
         "yaxis": "y"
        }
       ],
       "layout": {
        "autosize": true,
        "hovermode": "x",
        "legend": {
         "title": {
          "text": "asset"
         },
         "tracegroupgap": 0
        },
        "margin": {
         "t": 60
        },
        "template": {
         "data": {
          "bar": [
           {
            "error_x": {
             "color": "#2a3f5f"
            },
            "error_y": {
             "color": "#2a3f5f"
            },
            "marker": {
             "line": {
              "color": "white",
              "width": 0.5
             },
             "pattern": {
              "fillmode": "overlay",
              "size": 10,
              "solidity": 0.2
             }
            },
            "type": "bar"
           }
          ],
          "barpolar": [
           {
            "marker": {
             "line": {
              "color": "white",
              "width": 0.5
             },
             "pattern": {
              "fillmode": "overlay",
              "size": 10,
              "solidity": 0.2
             }
            },
            "type": "barpolar"
           }
          ],
          "carpet": [
           {
            "aaxis": {
             "endlinecolor": "#2a3f5f",
             "gridcolor": "#C8D4E3",
             "linecolor": "#C8D4E3",
             "minorgridcolor": "#C8D4E3",
             "startlinecolor": "#2a3f5f"
            },
            "baxis": {
             "endlinecolor": "#2a3f5f",
             "gridcolor": "#C8D4E3",
             "linecolor": "#C8D4E3",
             "minorgridcolor": "#C8D4E3",
             "startlinecolor": "#2a3f5f"
            },
            "type": "carpet"
           }
          ],
          "choropleth": [
           {
            "colorbar": {
             "outlinewidth": 0,
             "ticks": ""
            },
            "type": "choropleth"
           }
          ],
          "contour": [
           {
            "colorbar": {
             "outlinewidth": 0,
             "ticks": ""
            },
            "colorscale": [
             [
              0,
              "#0d0887"
             ],
             [
              0.1111111111111111,
              "#46039f"
             ],
             [
              0.2222222222222222,
              "#7201a8"
             ],
             [
              0.3333333333333333,
              "#9c179e"
             ],
             [
              0.4444444444444444,
              "#bd3786"
             ],
             [
              0.5555555555555556,
              "#d8576b"
             ],
             [
              0.6666666666666666,
              "#ed7953"
             ],
             [
              0.7777777777777778,
              "#fb9f3a"
             ],
             [
              0.8888888888888888,
              "#fdca26"
             ],
             [
              1,
              "#f0f921"
             ]
            ],
            "type": "contour"
           }
          ],
          "contourcarpet": [
           {
            "colorbar": {
             "outlinewidth": 0,
             "ticks": ""
            },
            "type": "contourcarpet"
           }
          ],
          "heatmap": [
           {
            "colorbar": {
             "outlinewidth": 0,
             "ticks": ""
            },
            "colorscale": [
             [
              0,
              "#0d0887"
             ],
             [
              0.1111111111111111,
              "#46039f"
             ],
             [
              0.2222222222222222,
              "#7201a8"
             ],
             [
              0.3333333333333333,
              "#9c179e"
             ],
             [
              0.4444444444444444,
              "#bd3786"
             ],
             [
              0.5555555555555556,
              "#d8576b"
             ],
             [
              0.6666666666666666,
              "#ed7953"
             ],
             [
              0.7777777777777778,
              "#fb9f3a"
             ],
             [
              0.8888888888888888,
              "#fdca26"
             ],
             [
              1,
              "#f0f921"
             ]
            ],
            "type": "heatmap"
           }
          ],
          "heatmapgl": [
           {
            "colorbar": {
             "outlinewidth": 0,
             "ticks": ""
            },
            "colorscale": [
             [
              0,
              "#0d0887"
             ],
             [
              0.1111111111111111,
              "#46039f"
             ],
             [
              0.2222222222222222,
              "#7201a8"
             ],
             [
              0.3333333333333333,
              "#9c179e"
             ],
             [
              0.4444444444444444,
              "#bd3786"
             ],
             [
              0.5555555555555556,
              "#d8576b"
             ],
             [
              0.6666666666666666,
              "#ed7953"
             ],
             [
              0.7777777777777778,
              "#fb9f3a"
             ],
             [
              0.8888888888888888,
              "#fdca26"
             ],
             [
              1,
              "#f0f921"
             ]
            ],
            "type": "heatmapgl"
           }
          ],
          "histogram": [
           {
            "marker": {
             "pattern": {
              "fillmode": "overlay",
              "size": 10,
              "solidity": 0.2
             }
            },
            "type": "histogram"
           }
          ],
          "histogram2d": [
           {
            "colorbar": {
             "outlinewidth": 0,
             "ticks": ""
            },
            "colorscale": [
             [
              0,
              "#0d0887"
             ],
             [
              0.1111111111111111,
              "#46039f"
             ],
             [
              0.2222222222222222,
              "#7201a8"
             ],
             [
              0.3333333333333333,
              "#9c179e"
             ],
             [
              0.4444444444444444,
              "#bd3786"
             ],
             [
              0.5555555555555556,
              "#d8576b"
             ],
             [
              0.6666666666666666,
              "#ed7953"
             ],
             [
              0.7777777777777778,
              "#fb9f3a"
             ],
             [
              0.8888888888888888,
              "#fdca26"
             ],
             [
              1,
              "#f0f921"
             ]
            ],
            "type": "histogram2d"
           }
          ],
          "histogram2dcontour": [
           {
            "colorbar": {
             "outlinewidth": 0,
             "ticks": ""
            },
            "colorscale": [
             [
              0,
              "#0d0887"
             ],
             [
              0.1111111111111111,
              "#46039f"
             ],
             [
              0.2222222222222222,
              "#7201a8"
             ],
             [
              0.3333333333333333,
              "#9c179e"
             ],
             [
              0.4444444444444444,
              "#bd3786"
             ],
             [
              0.5555555555555556,
              "#d8576b"
             ],
             [
              0.6666666666666666,
              "#ed7953"
             ],
             [
              0.7777777777777778,
              "#fb9f3a"
             ],
             [
              0.8888888888888888,
              "#fdca26"
             ],
             [
              1,
              "#f0f921"
             ]
            ],
            "type": "histogram2dcontour"
           }
          ],
          "mesh3d": [
           {
            "colorbar": {
             "outlinewidth": 0,
             "ticks": ""
            },
            "type": "mesh3d"
           }
          ],
          "parcoords": [
           {
            "line": {
             "colorbar": {
              "outlinewidth": 0,
              "ticks": ""
             }
            },
            "type": "parcoords"
           }
          ],
          "pie": [
           {
            "automargin": true,
            "type": "pie"
           }
          ],
          "scatter": [
           {
            "marker": {
             "colorbar": {
              "outlinewidth": 0,
              "ticks": ""
             }
            },
            "type": "scatter"
           }
          ],
          "scatter3d": [
           {
            "line": {
             "colorbar": {
              "outlinewidth": 0,
              "ticks": ""
             }
            },
            "marker": {
             "colorbar": {
              "outlinewidth": 0,
              "ticks": ""
             }
            },
            "type": "scatter3d"
           }
          ],
          "scattercarpet": [
           {
            "marker": {
             "colorbar": {
              "outlinewidth": 0,
              "ticks": ""
             }
            },
            "type": "scattercarpet"
           }
          ],
          "scattergeo": [
           {
            "marker": {
             "colorbar": {
              "outlinewidth": 0,
              "ticks": ""
             }
            },
            "type": "scattergeo"
           }
          ],
          "scattergl": [
           {
            "marker": {
             "colorbar": {
              "outlinewidth": 0,
              "ticks": ""
             }
            },
            "type": "scattergl"
           }
          ],
          "scattermapbox": [
           {
            "marker": {
             "colorbar": {
              "outlinewidth": 0,
              "ticks": ""
             }
            },
            "type": "scattermapbox"
           }
          ],
          "scatterpolar": [
           {
            "marker": {
             "colorbar": {
              "outlinewidth": 0,
              "ticks": ""
             }
            },
            "type": "scatterpolar"
           }
          ],
          "scatterpolargl": [
           {
            "marker": {
             "colorbar": {
              "outlinewidth": 0,
              "ticks": ""
             }
            },
            "type": "scatterpolargl"
           }
          ],
          "scatterternary": [
           {
            "marker": {
             "colorbar": {
              "outlinewidth": 0,
              "ticks": ""
             }
            },
            "type": "scatterternary"
           }
          ],
          "surface": [
           {
            "colorbar": {
             "outlinewidth": 0,
             "ticks": ""
            },
            "colorscale": [
             [
              0,
              "#0d0887"
             ],
             [
              0.1111111111111111,
              "#46039f"
             ],
             [
              0.2222222222222222,
              "#7201a8"
             ],
             [
              0.3333333333333333,
              "#9c179e"
             ],
             [
              0.4444444444444444,
              "#bd3786"
             ],
             [
              0.5555555555555556,
              "#d8576b"
             ],
             [
              0.6666666666666666,
              "#ed7953"
             ],
             [
              0.7777777777777778,
              "#fb9f3a"
             ],
             [
              0.8888888888888888,
              "#fdca26"
             ],
             [
              1,
              "#f0f921"
             ]
            ],
            "type": "surface"
           }
          ],
          "table": [
           {
            "cells": {
             "fill": {
              "color": "#EBF0F8"
             },
             "line": {
              "color": "white"
             }
            },
            "header": {
             "fill": {
              "color": "#C8D4E3"
             },
             "line": {
              "color": "white"
             }
            },
            "type": "table"
           }
          ]
         },
         "layout": {
          "annotationdefaults": {
           "arrowcolor": "#2a3f5f",
           "arrowhead": 0,
           "arrowwidth": 1
          },
          "autotypenumbers": "strict",
          "coloraxis": {
           "colorbar": {
            "outlinewidth": 0,
            "ticks": ""
           }
          },
          "colorscale": {
           "diverging": [
            [
             0,
             "#8e0152"
            ],
            [
             0.1,
             "#c51b7d"
            ],
            [
             0.2,
             "#de77ae"
            ],
            [
             0.3,
             "#f1b6da"
            ],
            [
             0.4,
             "#fde0ef"
            ],
            [
             0.5,
             "#f7f7f7"
            ],
            [
             0.6,
             "#e6f5d0"
            ],
            [
             0.7,
             "#b8e186"
            ],
            [
             0.8,
             "#7fbc41"
            ],
            [
             0.9,
             "#4d9221"
            ],
            [
             1,
             "#276419"
            ]
           ],
           "sequential": [
            [
             0,
             "#0d0887"
            ],
            [
             0.1111111111111111,
             "#46039f"
            ],
            [
             0.2222222222222222,
             "#7201a8"
            ],
            [
             0.3333333333333333,
             "#9c179e"
            ],
            [
             0.4444444444444444,
             "#bd3786"
            ],
            [
             0.5555555555555556,
             "#d8576b"
            ],
            [
             0.6666666666666666,
             "#ed7953"
            ],
            [
             0.7777777777777778,
             "#fb9f3a"
            ],
            [
             0.8888888888888888,
             "#fdca26"
            ],
            [
             1,
             "#f0f921"
            ]
           ],
           "sequentialminus": [
            [
             0,
             "#0d0887"
            ],
            [
             0.1111111111111111,
             "#46039f"
            ],
            [
             0.2222222222222222,
             "#7201a8"
            ],
            [
             0.3333333333333333,
             "#9c179e"
            ],
            [
             0.4444444444444444,
             "#bd3786"
            ],
            [
             0.5555555555555556,
             "#d8576b"
            ],
            [
             0.6666666666666666,
             "#ed7953"
            ],
            [
             0.7777777777777778,
             "#fb9f3a"
            ],
            [
             0.8888888888888888,
             "#fdca26"
            ],
            [
             1,
             "#f0f921"
            ]
           ]
          },
          "colorway": [
           "#636efa",
           "#EF553B",
           "#00cc96",
           "#ab63fa",
           "#FFA15A",
           "#19d3f3",
           "#FF6692",
           "#B6E880",
           "#FF97FF",
           "#FECB52"
          ],
          "font": {
           "color": "#2a3f5f"
          },
          "geo": {
           "bgcolor": "white",
           "lakecolor": "white",
           "landcolor": "white",
           "showlakes": true,
           "showland": true,
           "subunitcolor": "#C8D4E3"
          },
          "hoverlabel": {
           "align": "left"
          },
          "hovermode": "closest",
          "mapbox": {
           "style": "light"
          },
          "paper_bgcolor": "white",
          "plot_bgcolor": "white",
          "polar": {
           "angularaxis": {
            "gridcolor": "#EBF0F8",
            "linecolor": "#EBF0F8",
            "ticks": ""
           },
           "bgcolor": "white",
           "radialaxis": {
            "gridcolor": "#EBF0F8",
            "linecolor": "#EBF0F8",
            "ticks": ""
           }
          },
          "scene": {
           "xaxis": {
            "backgroundcolor": "white",
            "gridcolor": "#DFE8F3",
            "gridwidth": 2,
            "linecolor": "#EBF0F8",
            "showbackground": true,
            "ticks": "",
            "zerolinecolor": "#EBF0F8"
           },
           "yaxis": {
            "backgroundcolor": "white",
            "gridcolor": "#DFE8F3",
            "gridwidth": 2,
            "linecolor": "#EBF0F8",
            "showbackground": true,
            "ticks": "",
            "zerolinecolor": "#EBF0F8"
           },
           "zaxis": {
            "backgroundcolor": "white",
            "gridcolor": "#DFE8F3",
            "gridwidth": 2,
            "linecolor": "#EBF0F8",
            "showbackground": true,
            "ticks": "",
            "zerolinecolor": "#EBF0F8"
           }
          },
          "shapedefaults": {
           "line": {
            "color": "#2a3f5f"
           }
          },
          "ternary": {
           "aaxis": {
            "gridcolor": "#DFE8F3",
            "linecolor": "#A2B1C6",
            "ticks": ""
           },
           "baxis": {
            "gridcolor": "#DFE8F3",
            "linecolor": "#A2B1C6",
            "ticks": ""
           },
           "bgcolor": "white",
           "caxis": {
            "gridcolor": "#DFE8F3",
            "linecolor": "#A2B1C6",
            "ticks": ""
           }
          },
          "title": {
           "x": 0.05
          },
          "xaxis": {
           "automargin": true,
           "gridcolor": "#EBF0F8",
           "linecolor": "#EBF0F8",
           "ticks": "",
           "title": {
            "standoff": 15
           },
           "zerolinecolor": "#EBF0F8",
           "zerolinewidth": 2
          },
          "yaxis": {
           "automargin": true,
           "gridcolor": "#EBF0F8",
           "linecolor": "#EBF0F8",
           "ticks": "",
           "title": {
            "standoff": 15
           },
           "zerolinecolor": "#EBF0F8",
           "zerolinewidth": 2
          }
         }
        },
        "title": {
         "text": "Assets return"
        },
        "xaxis": {
         "anchor": "y",
         "autorange": true,
         "domain": [
          0,
          1
         ],
         "range": [
          "2022-03-04",
          "2022-05-31"
         ],
         "showspikes": true,
         "spikecolor": "#999999",
         "spikedash": "dot",
         "spikemode": "across",
         "spikethickness": 2,
         "title": {
          "text": "date"
         },
         "type": "date"
        },
        "yaxis": {
         "anchor": "x",
         "autorange": true,
         "domain": [
          0,
          1
         ],
         "range": [
          -0.7824812610669558,
          0.3677353128372088
         ],
         "tickformat": ".2%",
         "title": {
          "text": "return, %"
         },
         "type": "linear"
        }
       }
      },
      "image/png": "[encoded data removed]",
      "text/html": [
       "<div>                            <div id=\"16a89263-e0be-47b8-b17f-d0eafaf5f329\" class=\"plotly-graph-div\" style=\"height:525px; width:100%;\"></div>            <script type=\"text/javascript\">                require([\"plotly\"], function(Plotly) {                    window.PLOTLYENV=window.PLOTLYENV || {};                                    if (document.getElementById(\"16a89263-e0be-47b8-b17f-d0eafaf5f329\")) {                    Plotly.newPlot(                        \"16a89263-e0be-47b8-b17f-d0eafaf5f329\",                        [{\"hovertemplate\":\"%{y}\",\"legendgroup\":\"JOE\",\"line\":{\"color\":\"#636efa\",\"dash\":\"solid\"},\"marker\":{\"symbol\":\"circle\"},\"mode\":\"lines\",\"name\":\"JOE\",\"orientation\":\"v\",\"showlegend\":true,\"x\":[\"2022-03-04T00:00:00\",\"2022-03-05T00:00:00\",\"2022-03-06T00:00:00\",\"2022-03-07T00:00:00\",\"2022-03-08T00:00:00\",\"2022-03-09T00:00:00\",\"2022-03-10T00:00:00\",\"2022-03-11T00:00:00\",\"2022-03-12T00:00:00\",\"2022-03-13T00:00:00\",\"2022-03-14T00:00:00\",\"2022-03-15T00:00:00\",\"2022-03-16T00:00:00\",\"2022-03-17T00:00:00\",\"2022-03-18T00:00:00\",\"2022-03-19T00:00:00\",\"2022-03-20T00:00:00\",\"2022-03-21T00:00:00\",\"2022-03-22T00:00:00\",\"2022-03-23T00:00:00\",\"2022-03-24T00:00:00\",\"2022-03-25T00:00:00\",\"2022-03-26T00:00:00\",\"2022-03-27T00:00:00\",\"2022-03-28T00:00:00\",\"2022-03-29T00:00:00\",\"2022-03-30T00:00:00\",\"2022-03-31T00:00:00\",\"2022-04-01T00:00:00\",\"2022-04-02T00:00:00\",\"2022-04-03T00:00:00\",\"2022-04-04T00:00:00\",\"2022-04-05T00:00:00\",\"2022-04-06T00:00:00\",\"2022-04-07T00:00:00\",\"2022-04-08T00:00:00\",\"2022-04-09T00:00:00\",\"2022-04-10T00:00:00\",\"2022-04-11T00:00:00\",\"2022-04-12T00:00:00\",\"2022-04-13T00:00:00\",\"2022-04-14T00:00:00\",\"2022-04-15T00:00:00\",\"2022-04-16T00:00:00\",\"2022-04-17T00:00:00\",\"2022-04-18T00:00:00\",\"2022-04-19T00:00:00\",\"2022-04-20T00:00:00\",\"2022-04-21T00:00:00\",\"2022-04-22T00:00:00\",\"2022-04-23T00:00:00\",\"2022-04-24T00:00:00\",\"2022-04-25T00:00:00\",\"2022-04-26T00:00:00\",\"2022-04-27T00:00:00\",\"2022-04-28T00:00:00\",\"2022-04-29T00:00:00\",\"2022-04-30T00:00:00\",\"2022-05-01T00:00:00\",\"2022-05-02T00:00:00\",\"2022-05-03T00:00:00\",\"2022-05-04T00:00:00\",\"2022-05-05T00:00:00\",\"2022-05-06T00:00:00\",\"2022-05-07T00:00:00\",\"2022-05-08T00:00:00\",\"2022-05-09T00:00:00\",\"2022-05-10T00:00:00\",\"2022-05-11T00:00:00\",\"2022-05-12T00:00:00\",\"2022-05-13T00:00:00\",\"2022-05-14T00:00:00\",\"2022-05-15T00:00:00\",\"2022-05-16T00:00:00\",\"2022-05-17T00:00:00\",\"2022-05-18T00:00:00\",\"2022-05-19T00:00:00\",\"2022-05-20T00:00:00\",\"2022-05-21T00:00:00\",\"2022-05-22T00:00:00\",\"2022-05-23T00:00:00\",\"2022-05-24T00:00:00\",\"2022-05-25T00:00:00\",\"2022-05-26T00:00:00\",\"2022-05-27T00:00:00\",\"2022-05-28T00:00:00\",\"2022-05-29T00:00:00\",\"2022-05-30T00:00:00\",\"2022-05-31T00:00:00\"],\"xaxis\":\"x\",\"y\":[0.0,-0.006870395802474949,0.00021314763995450292,-0.03345326426827544,-0.07911975359741086,-0.09419876684395967,-0.060269215496363215,-0.09378164817292489,-0.16812621700191832,-0.14424487677274445,-0.23252962291707857,-0.2215187029997755,-0.2263285876333876,-0.1593665590814698,-0.08160821021497433,-0.06531226160077086,-0.03941601682185414,-0.09529232458680059,-0.05575585880504841,-0.07849696590064081,-0.0811229495378164,-0.05847043120779705,-0.11461024655886443,-0.09375068991959601,-0.07975090060091161,0.03418357864391153,0.027394983596210398,0.1762127863419205,0.11624296670289658,0.16525327731172235,0.17372066450433832,0.27745149495335086,0.2611346483509316,0.31022448414200055,0.1460127746770894,0.28501215799181634,0.18677830149322072,0.2621968141276203,0.22362390592185655,0.04889395977410471,0.10542765660798059,0.16902138016896995,0.11041968596381979,0.09810063416963,0.0702776099583251,0.03567435796322904,0.06593178081029305,0.16305195713163467,0.129770318352179,0.0850219022397305,0.0394605592941768,-0.013650842033761101,-0.026766412928709626,0.023910666778899525,-0.05594429325906458,-0.04193574300374181,-0.09554634963779474,-0.17251082561767528,-0.2479196189398324,-0.21684104388022885,-0.164823861861632,-0.17313810640205696,-0.0677226315048125,-0.1935484260780832,-0.23643935382691328,-0.2690783642569854,-0.2645141441250922,-0.4365655350617944,-0.45594881729455017,-0.6708654089743809,-0.6212636770066527,-0.568509229856679,-0.55881034792444,-0.5233812089273694,-0.5655329141590604,-0.5383369755505001,-0.6067417649490224,-0.6036092125993799,-0.644173784235474,-0.6407469168044149,-0.6028824944356538,-0.6439122862398832,-0.6351937037854365,-0.6546425017582307,-0.7005341695350168,-0.7249704323717476,-0.6965673599619044,-0.6765726479929035,-0.6615803860943975],\"yaxis\":\"y\",\"type\":\"scatter\"},{\"hovertemplate\":\"%{y}\",\"legendgroup\":\"SAVAX\",\"line\":{\"color\":\"#EF553B\",\"dash\":\"solid\"},\"marker\":{\"symbol\":\"circle\"},\"mode\":\"lines\",\"name\":\"SAVAX\",\"orientation\":\"v\",\"showlegend\":true,\"x\":[\"2022-03-04T00:00:00\",\"2022-03-05T00:00:00\",\"2022-03-06T00:00:00\",\"2022-03-07T00:00:00\",\"2022-03-08T00:00:00\",\"2022-03-09T00:00:00\",\"2022-03-10T00:00:00\",\"2022-03-11T00:00:00\",\"2022-03-12T00:00:00\",\"2022-03-13T00:00:00\",\"2022-03-14T00:00:00\",\"2022-03-15T00:00:00\",\"2022-03-16T00:00:00\",\"2022-03-17T00:00:00\",\"2022-03-18T00:00:00\",\"2022-03-19T00:00:00\",\"2022-03-20T00:00:00\",\"2022-03-21T00:00:00\",\"2022-03-22T00:00:00\",\"2022-03-23T00:00:00\",\"2022-03-24T00:00:00\",\"2022-03-25T00:00:00\",\"2022-03-26T00:00:00\",\"2022-03-27T00:00:00\",\"2022-03-28T00:00:00\",\"2022-03-29T00:00:00\",\"2022-03-30T00:00:00\",\"2022-03-31T00:00:00\",\"2022-04-01T00:00:00\",\"2022-04-02T00:00:00\",\"2022-04-03T00:00:00\",\"2022-04-04T00:00:00\",\"2022-04-05T00:00:00\",\"2022-04-06T00:00:00\",\"2022-04-07T00:00:00\",\"2022-04-08T00:00:00\",\"2022-04-09T00:00:00\",\"2022-04-10T00:00:00\",\"2022-04-11T00:00:00\",\"2022-04-12T00:00:00\",\"2022-04-13T00:00:00\",\"2022-04-14T00:00:00\",\"2022-04-15T00:00:00\",\"2022-04-16T00:00:00\",\"2022-04-17T00:00:00\",\"2022-04-18T00:00:00\",\"2022-04-19T00:00:00\",\"2022-04-20T00:00:00\",\"2022-04-21T00:00:00\",\"2022-04-22T00:00:00\",\"2022-04-23T00:00:00\",\"2022-04-24T00:00:00\",\"2022-04-25T00:00:00\",\"2022-04-26T00:00:00\",\"2022-04-27T00:00:00\",\"2022-04-28T00:00:00\",\"2022-04-29T00:00:00\",\"2022-04-30T00:00:00\",\"2022-05-01T00:00:00\",\"2022-05-02T00:00:00\",\"2022-05-03T00:00:00\",\"2022-05-04T00:00:00\",\"2022-05-05T00:00:00\",\"2022-05-06T00:00:00\",\"2022-05-07T00:00:00\",\"2022-05-08T00:00:00\",\"2022-05-09T00:00:00\",\"2022-05-10T00:00:00\",\"2022-05-11T00:00:00\",\"2022-05-12T00:00:00\",\"2022-05-13T00:00:00\",\"2022-05-14T00:00:00\",\"2022-05-15T00:00:00\",\"2022-05-16T00:00:00\",\"2022-05-17T00:00:00\",\"2022-05-18T00:00:00\",\"2022-05-19T00:00:00\",\"2022-05-20T00:00:00\",\"2022-05-21T00:00:00\",\"2022-05-22T00:00:00\",\"2022-05-23T00:00:00\",\"2022-05-24T00:00:00\",\"2022-05-25T00:00:00\",\"2022-05-26T00:00:00\",\"2022-05-27T00:00:00\",\"2022-05-28T00:00:00\",\"2022-05-29T00:00:00\",\"2022-05-30T00:00:00\",\"2022-05-31T00:00:00\"],\"xaxis\":\"x\",\"y\":[0.0,-0.020123935559465345,-0.009854245703393216,-0.06562166110080447,-0.06656107904800068,-0.05012037779622913,0.008224677027003802,-0.04344904743758504,-0.07595802980105848,-0.07977951561920005,-0.11746327425878655,-0.11278830185583899,-0.09515460025721145,-0.0394601013103566,0.038614081017612545,0.11549208431568725,0.16780011593061195,0.10020553895143736,0.12087674355890887,0.09184050944353639,0.1266953887628406,0.14522577861248176,0.09433554901086683,0.12171049707319859,0.16630644928969462,0.1762840465393376,0.2008943375066854,0.24607456528019322,0.2515151905774813,0.25722980614993185,0.25519885692528055,0.27108667035626866,0.2397800003027486,0.18427446318370277,0.08812156860280984,0.14591999204316597,0.09330225835524297,0.1079538756613938,0.07984867293082676,-0.02708560735905796,0.004671066270918622,0.04078315037371927,0.005151608523273454,0.013635299021399927,0.018029786190329133,-0.012595051196452212,0.011332765067617823,0.04412685157187557,0.016390282081072405,-0.018215796686936958,-0.027058224857573143,-0.04614710425054913,-0.059049585830340146,-0.0495193435571466,-0.09718949591380444,-0.08323938913932605,-0.11658112584105051,-0.1641592723354608,-0.25085406228470775,-0.229153237116558,-0.2053869128571557,-0.21449109403570565,-0.12300596787574358,-0.22053163537380982,-0.25151340242768994,-0.27710308526878047,-0.32499959938877176,-0.44397992302002154,-0.42007149149833367,-0.6085568100346084,-0.6152397952355463,-0.5817051849789099,-0.5572617548297609,-0.5290056529833251,-0.5738037241961078,-0.5497603475238316,-0.6101361163588707,-0.6012601512974434,-0.6206943607148845,-0.6096665792365199,-0.5825934413254537,-0.6200263480674753,-0.6194123099122253,-0.6420850873727011,-0.6910745366173574,-0.7061529162213294,-0.672008483923868,-0.6570553670885337,-0.637288803607128],\"yaxis\":\"y\",\"type\":\"scatter\"}],                        {\"template\":{\"data\":{\"barpolar\":[{\"marker\":{\"line\":{\"color\":\"white\",\"width\":0.5},\"pattern\":{\"fillmode\":\"overlay\",\"size\":10,\"solidity\":0.2}},\"type\":\"barpolar\"}],\"bar\":[{\"error_x\":{\"color\":\"#2a3f5f\"},\"error_y\":{\"color\":\"#2a3f5f\"},\"marker\":{\"line\":{\"color\":\"white\",\"width\":0.5},\"pattern\":{\"fillmode\":\"overlay\",\"size\":10,\"solidity\":0.2}},\"type\":\"bar\"}],\"carpet\":[{\"aaxis\":{\"endlinecolor\":\"#2a3f5f\",\"gridcolor\":\"#C8D4E3\",\"linecolor\":\"#C8D4E3\",\"minorgridcolor\":\"#C8D4E3\",\"startlinecolor\":\"#2a3f5f\"},\"baxis\":{\"endlinecolor\":\"#2a3f5f\",\"gridcolor\":\"#C8D4E3\",\"linecolor\":\"#C8D4E3\",\"minorgridcolor\":\"#C8D4E3\",\"startlinecolor\":\"#2a3f5f\"},\"type\":\"carpet\"}],\"choropleth\":[{\"colorbar\":{\"outlinewidth\":0,\"ticks\":\"\"},\"type\":\"choropleth\"}],\"contourcarpet\":[{\"colorbar\":{\"outlinewidth\":0,\"ticks\":\"\"},\"type\":\"contourcarpet\"}],\"contour\":[{\"colorbar\":{\"outlinewidth\":0,\"ticks\":\"\"},\"colorscale\":[[0.0,\"#0d0887\"],[0.1111111111111111,\"#46039f\"],[0.2222222222222222,\"#7201a8\"],[0.3333333333333333,\"#9c179e\"],[0.4444444444444444,\"#bd3786\"],[0.5555555555555556,\"#d8576b\"],[0.6666666666666666,\"#ed7953\"],[0.7777777777777778,\"#fb9f3a\"],[0.8888888888888888,\"#fdca26\"],[1.0,\"#f0f921\"]],\"type\":\"contour\"}],\"heatmapgl\":[{\"colorbar\":{\"outlinewidth\":0,\"ticks\":\"\"},\"colorscale\":[[0.0,\"#0d0887\"],[0.1111111111111111,\"#46039f\"],[0.2222222222222222,\"#7201a8\"],[0.3333333333333333,\"#9c179e\"],[0.4444444444444444,\"#bd3786\"],[0.5555555555555556,\"#d8576b\"],[0.6666666666666666,\"#ed7953\"],[0.7777777777777778,\"#fb9f3a\"],[0.8888888888888888,\"#fdca26\"],[1.0,\"#f0f921\"]],\"type\":\"heatmapgl\"}],\"heatmap\":[{\"colorbar\":{\"outlinewidth\":0,\"ticks\":\"\"},\"colorscale\":[[0.0,\"#0d0887\"],[0.1111111111111111,\"#46039f\"],[0.2222222222222222,\"#7201a8\"],[0.3333333333333333,\"#9c179e\"],[0.4444444444444444,\"#bd3786\"],[0.5555555555555556,\"#d8576b\"],[0.6666666666666666,\"#ed7953\"],[0.7777777777777778,\"#fb9f3a\"],[0.8888888888888888,\"#fdca26\"],[1.0,\"#f0f921\"]],\"type\":\"heatmap\"}],\"histogram2dcontour\":[{\"colorbar\":{\"outlinewidth\":0,\"ticks\":\"\"},\"colorscale\":[[0.0,\"#0d0887\"],[0.1111111111111111,\"#46039f\"],[0.2222222222222222,\"#7201a8\"],[0.3333333333333333,\"#9c179e\"],[0.4444444444444444,\"#bd3786\"],[0.5555555555555556,\"#d8576b\"],[0.6666666666666666,\"#ed7953\"],[0.7777777777777778,\"#fb9f3a\"],[0.8888888888888888,\"#fdca26\"],[1.0,\"#f0f921\"]],\"type\":\"histogram2dcontour\"}],\"histogram2d\":[{\"colorbar\":{\"outlinewidth\":0,\"ticks\":\"\"},\"colorscale\":[[0.0,\"#0d0887\"],[0.1111111111111111,\"#46039f\"],[0.2222222222222222,\"#7201a8\"],[0.3333333333333333,\"#9c179e\"],[0.4444444444444444,\"#bd3786\"],[0.5555555555555556,\"#d8576b\"],[0.6666666666666666,\"#ed7953\"],[0.7777777777777778,\"#fb9f3a\"],[0.8888888888888888,\"#fdca26\"],[1.0,\"#f0f921\"]],\"type\":\"histogram2d\"}],\"histogram\":[{\"marker\":{\"pattern\":{\"fillmode\":\"overlay\",\"size\":10,\"solidity\":0.2}},\"type\":\"histogram\"}],\"mesh3d\":[{\"colorbar\":{\"outlinewidth\":0,\"ticks\":\"\"},\"type\":\"mesh3d\"}],\"parcoords\":[{\"line\":{\"colorbar\":{\"outlinewidth\":0,\"ticks\":\"\"}},\"type\":\"parcoords\"}],\"pie\":[{\"automargin\":true,\"type\":\"pie\"}],\"scatter3d\":[{\"line\":{\"colorbar\":{\"outlinewidth\":0,\"ticks\":\"\"}},\"marker\":{\"colorbar\":{\"outlinewidth\":0,\"ticks\":\"\"}},\"type\":\"scatter3d\"}],\"scattercarpet\":[{\"marker\":{\"colorbar\":{\"outlinewidth\":0,\"ticks\":\"\"}},\"type\":\"scattercarpet\"}],\"scattergeo\":[{\"marker\":{\"colorbar\":{\"outlinewidth\":0,\"ticks\":\"\"}},\"type\":\"scattergeo\"}],\"scattergl\":[{\"marker\":{\"colorbar\":{\"outlinewidth\":0,\"ticks\":\"\"}},\"type\":\"scattergl\"}],\"scattermapbox\":[{\"marker\":{\"colorbar\":{\"outlinewidth\":0,\"ticks\":\"\"}},\"type\":\"scattermapbox\"}],\"scatterpolargl\":[{\"marker\":{\"colorbar\":{\"outlinewidth\":0,\"ticks\":\"\"}},\"type\":\"scatterpolargl\"}],\"scatterpolar\":[{\"marker\":{\"colorbar\":{\"outlinewidth\":0,\"ticks\":\"\"}},\"type\":\"scatterpolar\"}],\"scatter\":[{\"marker\":{\"colorbar\":{\"outlinewidth\":0,\"ticks\":\"\"}},\"type\":\"scatter\"}],\"scatterternary\":[{\"marker\":{\"colorbar\":{\"outlinewidth\":0,\"ticks\":\"\"}},\"type\":\"scatterternary\"}],\"surface\":[{\"colorbar\":{\"outlinewidth\":0,\"ticks\":\"\"},\"colorscale\":[[0.0,\"#0d0887\"],[0.1111111111111111,\"#46039f\"],[0.2222222222222222,\"#7201a8\"],[0.3333333333333333,\"#9c179e\"],[0.4444444444444444,\"#bd3786\"],[0.5555555555555556,\"#d8576b\"],[0.6666666666666666,\"#ed7953\"],[0.7777777777777778,\"#fb9f3a\"],[0.8888888888888888,\"#fdca26\"],[1.0,\"#f0f921\"]],\"type\":\"surface\"}],\"table\":[{\"cells\":{\"fill\":{\"color\":\"#EBF0F8\"},\"line\":{\"color\":\"white\"}},\"header\":{\"fill\":{\"color\":\"#C8D4E3\"},\"line\":{\"color\":\"white\"}},\"type\":\"table\"}]},\"layout\":{\"annotationdefaults\":{\"arrowcolor\":\"#2a3f5f\",\"arrowhead\":0,\"arrowwidth\":1},\"autotypenumbers\":\"strict\",\"coloraxis\":{\"colorbar\":{\"outlinewidth\":0,\"ticks\":\"\"}},\"colorscale\":{\"diverging\":[[0,\"#8e0152\"],[0.1,\"#c51b7d\"],[0.2,\"#de77ae\"],[0.3,\"#f1b6da\"],[0.4,\"#fde0ef\"],[0.5,\"#f7f7f7\"],[0.6,\"#e6f5d0\"],[0.7,\"#b8e186\"],[0.8,\"#7fbc41\"],[0.9,\"#4d9221\"],[1,\"#276419\"]],\"sequential\":[[0.0,\"#0d0887\"],[0.1111111111111111,\"#46039f\"],[0.2222222222222222,\"#7201a8\"],[0.3333333333333333,\"#9c179e\"],[0.4444444444444444,\"#bd3786\"],[0.5555555555555556,\"#d8576b\"],[0.6666666666666666,\"#ed7953\"],[0.7777777777777778,\"#fb9f3a\"],[0.8888888888888888,\"#fdca26\"],[1.0,\"#f0f921\"]],\"sequentialminus\":[[0.0,\"#0d0887\"],[0.1111111111111111,\"#46039f\"],[0.2222222222222222,\"#7201a8\"],[0.3333333333333333,\"#9c179e\"],[0.4444444444444444,\"#bd3786\"],[0.5555555555555556,\"#d8576b\"],[0.6666666666666666,\"#ed7953\"],[0.7777777777777778,\"#fb9f3a\"],[0.8888888888888888,\"#fdca26\"],[1.0,\"#f0f921\"]]},\"colorway\":[\"#636efa\",\"#EF553B\",\"#00cc96\",\"#ab63fa\",\"#FFA15A\",\"#19d3f3\",\"#FF6692\",\"#B6E880\",\"#FF97FF\",\"#FECB52\"],\"font\":{\"color\":\"#2a3f5f\"},\"geo\":{\"bgcolor\":\"white\",\"lakecolor\":\"white\",\"landcolor\":\"white\",\"showlakes\":true,\"showland\":true,\"subunitcolor\":\"#C8D4E3\"},\"hoverlabel\":{\"align\":\"left\"},\"hovermode\":\"closest\",\"mapbox\":{\"style\":\"light\"},\"paper_bgcolor\":\"white\",\"plot_bgcolor\":\"white\",\"polar\":{\"angularaxis\":{\"gridcolor\":\"#EBF0F8\",\"linecolor\":\"#EBF0F8\",\"ticks\":\"\"},\"bgcolor\":\"white\",\"radialaxis\":{\"gridcolor\":\"#EBF0F8\",\"linecolor\":\"#EBF0F8\",\"ticks\":\"\"}},\"scene\":{\"xaxis\":{\"backgroundcolor\":\"white\",\"gridcolor\":\"#DFE8F3\",\"gridwidth\":2,\"linecolor\":\"#EBF0F8\",\"showbackground\":true,\"ticks\":\"\",\"zerolinecolor\":\"#EBF0F8\"},\"yaxis\":{\"backgroundcolor\":\"white\",\"gridcolor\":\"#DFE8F3\",\"gridwidth\":2,\"linecolor\":\"#EBF0F8\",\"showbackground\":true,\"ticks\":\"\",\"zerolinecolor\":\"#EBF0F8\"},\"zaxis\":{\"backgroundcolor\":\"white\",\"gridcolor\":\"#DFE8F3\",\"gridwidth\":2,\"linecolor\":\"#EBF0F8\",\"showbackground\":true,\"ticks\":\"\",\"zerolinecolor\":\"#EBF0F8\"}},\"shapedefaults\":{\"line\":{\"color\":\"#2a3f5f\"}},\"ternary\":{\"aaxis\":{\"gridcolor\":\"#DFE8F3\",\"linecolor\":\"#A2B1C6\",\"ticks\":\"\"},\"baxis\":{\"gridcolor\":\"#DFE8F3\",\"linecolor\":\"#A2B1C6\",\"ticks\":\"\"},\"bgcolor\":\"white\",\"caxis\":{\"gridcolor\":\"#DFE8F3\",\"linecolor\":\"#A2B1C6\",\"ticks\":\"\"}},\"title\":{\"x\":0.05},\"xaxis\":{\"automargin\":true,\"gridcolor\":\"#EBF0F8\",\"linecolor\":\"#EBF0F8\",\"ticks\":\"\",\"title\":{\"standoff\":15},\"zerolinecolor\":\"#EBF0F8\",\"zerolinewidth\":2},\"yaxis\":{\"automargin\":true,\"gridcolor\":\"#EBF0F8\",\"linecolor\":\"#EBF0F8\",\"ticks\":\"\",\"title\":{\"standoff\":15},\"zerolinecolor\":\"#EBF0F8\",\"zerolinewidth\":2}}},\"xaxis\":{\"anchor\":\"y\",\"domain\":[0.0,1.0],\"title\":{\"text\":\"date\"},\"showspikes\":true,\"spikethickness\":2,\"spikedash\":\"dot\",\"spikecolor\":\"#999999\",\"spikemode\":\"across\"},\"yaxis\":{\"anchor\":\"x\",\"domain\":[0.0,1.0],\"title\":{\"text\":\"return, %\"},\"tickformat\":\".2%\"},\"legend\":{\"title\":{\"text\":\"asset\"},\"tracegroupgap\":0},\"margin\":{\"t\":60},\"hovermode\":\"x\",\"title\":{\"text\":\"Assets return\"}},                        {\"responsive\": true}                    ).then(function(){\n",
       "                            \n",
       "var gd = document.getElementById('16a89263-e0be-47b8-b17f-d0eafaf5f329');\n",
       "var x = new MutationObserver(function (mutations, observer) {{\n",
       "        var display = window.getComputedStyle(gd).display;\n",
       "        if (!display || display === 'none') {{\n",
       "            console.log([gd, 'removed!']);\n",
       "            Plotly.purge(gd);\n",
       "            observer.disconnect();\n",
       "        }}\n",
       "}});\n",
       "\n",
       "// Listen for the removal of the full notebook cells\n",
       "var notebookContainer = gd.closest('#notebook-container');\n",
       "if (notebookContainer) {{\n",
       "    x.observe(notebookContainer, {childList: true});\n",
       "}}\n",
       "\n",
       "// Listen for the clearing of the current output cell\n",
       "var outputEl = gd.closest('.output');\n",
       "if (outputEl) {{\n",
       "    x.observe(outputEl, {childList: true});\n",
       "}}\n",
       "\n",
       "                        })                };                });            </script>        </div>"
      ]
     },
     "metadata": {},
     "output_type": "display_data"
    }
   ],
   "source": [
    "fig = px.line(prices_data/prices_data.iloc[0]-1,\n",
    "       labels={'variable': 'asset', 'value': 'return, %'})\n",
    "fig.update_traces(\n",
    "    hovertemplate=\"%{y}\"\n",
    ")\n",
    "fig.update_yaxes(\n",
    "    tickformat=\".2%\",\n",
    ")\n",
    "fig.update_xaxes(\n",
    "    showspikes=True,\n",
    "    spikethickness=2,\n",
    "    spikedash=\"dot\",\n",
    "    spikecolor=\"#999999\",\n",
    "    spikemode=\"across\",\n",
    ")\n",
    "fig.update_layout(\n",
    "    hovermode=\"x\",\n",
    "    template='plotly_white',\n",
    "    title='Assets return'\n",
    ")\n",
    "fig.show()"
   ]
  },
  {
   "cell_type": "code",
   "execution_count": 114,
   "id": "f9df84a5-4056-4566-ba51-b9099cf6d844",
   "metadata": {},
   "outputs": [
    {
     "name": "stderr",
     "output_type": "stream",
     "text": [
      "/home/evgeniy/.local/lib/python3.10/site-packages/plotly/io/_renderers.py:396: DeprecationWarning:\n",
      "\n",
      "distutils Version classes are deprecated. Use packaging.version instead.\n",
      "\n"
     ]
    },
    {
     "data": {
      "application/vnd.plotly.v1+json": {
       "config": {
        "plotlyServerURL": "https://plot.ly"
       },
       "data": [
        {
         "hovertemplate": "%{y}",
         "legendgroup": "JOE",
         "line": {
          "color": "#636efa",
          "dash": "solid"
         },
         "marker": {
          "symbol": "circle"
         },
         "mode": "lines",
         "name": "JOE",
         "orientation": "v",
         "showlegend": true,
         "type": "scatter",
         "x": [
          "2022-03-04T00:00:00",
          "2022-03-05T00:00:00",
          "2022-03-06T00:00:00",
          "2022-03-07T00:00:00",
          "2022-03-08T00:00:00",
          "2022-03-09T00:00:00",
          "2022-03-10T00:00:00",
          "2022-03-11T00:00:00",
          "2022-03-12T00:00:00",
          "2022-03-13T00:00:00",
          "2022-03-14T00:00:00",
          "2022-03-15T00:00:00",
          "2022-03-16T00:00:00",
          "2022-03-17T00:00:00",
          "2022-03-18T00:00:00",
          "2022-03-19T00:00:00",
          "2022-03-20T00:00:00",
          "2022-03-21T00:00:00",
          "2022-03-22T00:00:00",
          "2022-03-23T00:00:00",
          "2022-03-24T00:00:00",
          "2022-03-25T00:00:00",
          "2022-03-26T00:00:00",
          "2022-03-27T00:00:00",
          "2022-03-28T00:00:00",
          "2022-03-29T00:00:00",
          "2022-03-30T00:00:00",
          "2022-03-31T00:00:00",
          "2022-04-01T00:00:00",
          "2022-04-02T00:00:00",
          "2022-04-03T00:00:00",
          "2022-04-04T00:00:00",
          "2022-04-05T00:00:00",
          "2022-04-06T00:00:00",
          "2022-04-07T00:00:00",
          "2022-04-08T00:00:00",
          "2022-04-09T00:00:00",
          "2022-04-10T00:00:00",
          "2022-04-11T00:00:00",
          "2022-04-12T00:00:00",
          "2022-04-13T00:00:00",
          "2022-04-14T00:00:00",
          "2022-04-15T00:00:00",
          "2022-04-16T00:00:00",
          "2022-04-17T00:00:00",
          "2022-04-18T00:00:00",
          "2022-04-19T00:00:00",
          "2022-04-20T00:00:00",
          "2022-04-21T00:00:00",
          "2022-04-22T00:00:00",
          "2022-04-23T00:00:00",
          "2022-04-24T00:00:00",
          "2022-04-25T00:00:00",
          "2022-04-26T00:00:00",
          "2022-04-27T00:00:00",
          "2022-04-28T00:00:00",
          "2022-04-29T00:00:00",
          "2022-04-30T00:00:00",
          "2022-05-01T00:00:00",
          "2022-05-02T00:00:00",
          "2022-05-03T00:00:00",
          "2022-05-04T00:00:00",
          "2022-05-05T00:00:00",
          "2022-05-06T00:00:00",
          "2022-05-07T00:00:00",
          "2022-05-08T00:00:00",
          "2022-05-09T00:00:00",
          "2022-05-10T00:00:00",
          "2022-05-11T00:00:00",
          "2022-05-12T00:00:00",
          "2022-05-13T00:00:00",
          "2022-05-14T00:00:00",
          "2022-05-15T00:00:00",
          "2022-05-16T00:00:00",
          "2022-05-17T00:00:00",
          "2022-05-18T00:00:00",
          "2022-05-19T00:00:00",
          "2022-05-20T00:00:00",
          "2022-05-21T00:00:00",
          "2022-05-22T00:00:00",
          "2022-05-23T00:00:00",
          "2022-05-24T00:00:00",
          "2022-05-25T00:00:00",
          "2022-05-26T00:00:00",
          "2022-05-27T00:00:00",
          "2022-05-28T00:00:00",
          "2022-05-29T00:00:00",
          "2022-05-30T00:00:00",
          "2022-05-31T00:00:00"
         ],
         "xaxis": "x",
         "y": [
          null,
          -0.006870395802474949,
          0.0071325468624543475,
          -0.03365923752118971,
          -0.047247057634066336,
          -0.016374564776967304,
          0.03745805382641998,
          -0.035661737626551115,
          -0.08203825124386788,
          0.028707889005836096,
          -0.10316589845397761,
          0.014347029209328621,
          -0.006178548736040623,
          0.08655099242595132,
          0.09249970924489004,
          0.017744005113566885,
          0.02770577136623964,
          -0.05816910207067638,
          0.043700818348529014,
          -0.024083927136485328,
          -0.002849674434053373,
          0.024652393177765797,
          -0.059626184043358066,
          0.023559744799616533,
          0.01544805514659342,
          0.12380830290322598,
          -0.006564206962754948,
          0.14484964898777308,
          -0.05098551923205408,
          0.043906489958534634,
          0.007266563722653219,
          0.08837778322052281,
          -0.01277296763664204,
          0.03892513448525037,
          -0.12533097301447937,
          0.12128955835932365,
          -0.07644585764240008,
          0.06354894805500488,
          -0.030560137511061347,
          -0.1427971007285228,
          0.05389839106905647,
          0.05752861635118456,
          -0.05012884725571054,
          -0.011094050249566001,
          -0.025337408380921467,
          -0.03233109958867919,
          0.029215189711338185,
          0.09111293806017629,
          -0.028615779867252167,
          -0.03960841897290779,
          -0.04199117349751624,
          -0.051095157823017434,
          -0.013297087333649316,
          0.05207082901866289,
          -0.07799016323287089,
          0.01483869029687157,
          -0.05595721397866782,
          -0.0850949918208177,
          -0.09112964333152229,
          0.041323475312297964,
          0.0664196988518404,
          -0.009955079127329514,
          0.1274886117179106,
          -0.1349660506897956,
          -0.05318475297933134,
          -0.04274579968684422,
          0.006244472606496965,
          -0.23392889144283546,
          -0.03440201733999648,
          -0.3950300973726343,
          0.15070349127742455,
          0.13929069895654167,
          0.02247761158139583,
          0.08030364907788656,
          -0.08843903350270477,
          0.06259608493914026,
          -0.14817038787130532,
          0.007965637004998527,
          -0.10233479920686595,
          0.009630733428946936,
          0.10539762674255715,
          -0.10331902076671684,
          0.0244843675238966,
          -0.05331267079161173,
          -0.13288163138319775,
          -0.0815995026837899,
          0.1032727959207449,
          0.0658950598277448,
          0.046354341416915856
         ],
         "yaxis": "y"
        },
        {
         "hovertemplate": "%{y}",
         "legendgroup": "SAVAX",
         "line": {
          "color": "#EF553B",
          "dash": "solid"
         },
         "marker": {
          "symbol": "circle"
         },
         "mode": "lines",
         "name": "SAVAX",
         "orientation": "v",
         "showlegend": true,
         "type": "scatter",
         "x": [
          "2022-03-04T00:00:00",
          "2022-03-05T00:00:00",
          "2022-03-06T00:00:00",
          "2022-03-07T00:00:00",
          "2022-03-08T00:00:00",
          "2022-03-09T00:00:00",
          "2022-03-10T00:00:00",
          "2022-03-11T00:00:00",
          "2022-03-12T00:00:00",
          "2022-03-13T00:00:00",
          "2022-03-14T00:00:00",
          "2022-03-15T00:00:00",
          "2022-03-16T00:00:00",
          "2022-03-17T00:00:00",
          "2022-03-18T00:00:00",
          "2022-03-19T00:00:00",
          "2022-03-20T00:00:00",
          "2022-03-21T00:00:00",
          "2022-03-22T00:00:00",
          "2022-03-23T00:00:00",
          "2022-03-24T00:00:00",
          "2022-03-25T00:00:00",
          "2022-03-26T00:00:00",
          "2022-03-27T00:00:00",
          "2022-03-28T00:00:00",
          "2022-03-29T00:00:00",
          "2022-03-30T00:00:00",
          "2022-03-31T00:00:00",
          "2022-04-01T00:00:00",
          "2022-04-02T00:00:00",
          "2022-04-03T00:00:00",
          "2022-04-04T00:00:00",
          "2022-04-05T00:00:00",
          "2022-04-06T00:00:00",
          "2022-04-07T00:00:00",
          "2022-04-08T00:00:00",
          "2022-04-09T00:00:00",
          "2022-04-10T00:00:00",
          "2022-04-11T00:00:00",
          "2022-04-12T00:00:00",
          "2022-04-13T00:00:00",
          "2022-04-14T00:00:00",
          "2022-04-15T00:00:00",
          "2022-04-16T00:00:00",
          "2022-04-17T00:00:00",
          "2022-04-18T00:00:00",
          "2022-04-19T00:00:00",
          "2022-04-20T00:00:00",
          "2022-04-21T00:00:00",
          "2022-04-22T00:00:00",
          "2022-04-23T00:00:00",
          "2022-04-24T00:00:00",
          "2022-04-25T00:00:00",
          "2022-04-26T00:00:00",
          "2022-04-27T00:00:00",
          "2022-04-28T00:00:00",
          "2022-04-29T00:00:00",
          "2022-04-30T00:00:00",
          "2022-05-01T00:00:00",
          "2022-05-02T00:00:00",
          "2022-05-03T00:00:00",
          "2022-05-04T00:00:00",
          "2022-05-05T00:00:00",
          "2022-05-06T00:00:00",
          "2022-05-07T00:00:00",
          "2022-05-08T00:00:00",
          "2022-05-09T00:00:00",
          "2022-05-10T00:00:00",
          "2022-05-11T00:00:00",
          "2022-05-12T00:00:00",
          "2022-05-13T00:00:00",
          "2022-05-14T00:00:00",
          "2022-05-15T00:00:00",
          "2022-05-16T00:00:00",
          "2022-05-17T00:00:00",
          "2022-05-18T00:00:00",
          "2022-05-19T00:00:00",
          "2022-05-20T00:00:00",
          "2022-05-21T00:00:00",
          "2022-05-22T00:00:00",
          "2022-05-23T00:00:00",
          "2022-05-24T00:00:00",
          "2022-05-25T00:00:00",
          "2022-05-26T00:00:00",
          "2022-05-27T00:00:00",
          "2022-05-28T00:00:00",
          "2022-05-29T00:00:00",
          "2022-05-30T00:00:00",
          "2022-05-31T00:00:00"
         ],
         "xaxis": "x",
         "y": [
          null,
          -0.020123935559465345,
          0.010480600791014982,
          -0.05632243046583385,
          -0.0010053935414459092,
          0.01761304449894152,
          0.06142363038367904,
          -0.051252191740596476,
          -0.03398562541429517,
          -0.00413561931317763,
          -0.04095079307536098,
          0.00529719870753409,
          0.019875416020227243,
          0.06155139757873185,
          0.08128156095803729,
          0.07401979686502136,
          0.0468923377856274,
          -0.0578819748834406,
          0.018788493491109337,
          -0.025904930477172128,
          0.03192305013217389,
          0.016446672307755206,
          -0.044436853022355005,
          0.025015131864330797,
          0.039757096267581726,
          0.008554867595664373,
          0.020922064734068435,
          0.03762215072752495,
          0.00436621166090867,
          0.004566157578809404,
          -0.0016154160637272819,
          0.012657606675890998,
          -0.02462984687326264,
          -0.0447704730722317,
          -0.0811913940307416,
          0.053117615814353814,
          -0.045917458507819475,
          0.01340125038083495,
          -0.025366762414897104,
          -0.09902709793554076,
          0.03264076867418342,
          0.03594418642595065,
          -0.0342353177390039,
          0.008440209841170443,
          0.004335373060874836,
          -0.030082457116884176,
          0.024233032549678457,
          0.03242660342569348,
          -0.026564367585267368,
          -0.034048022081786256,
          -0.009006488534646584,
          -0.01961975513918257,
          -0.013526699596223879,
          0.010128315084066974,
          -0.05015373225485942,
          0.015451865824931188,
          -0.03636907640525977,
          -0.05385683721066814,
          -0.10372166260847904,
          0.02896742019896914,
          0.030831451079202266,
          -0.011457376333034563,
          0.11646605845627489,
          -0.11120448250011394,
          -0.039747305291521484,
          -0.03418856519821423,
          -0.06625635432100274,
          -0.17626704150621297,
          0.04299922343010776,
          -0.32501474884077564,
          -0.01707268224931635,
          0.0871571691702524,
          0.05843589083913581,
          0.06382123558259778,
          -0.09511381929855034,
          0.0564138591472334,
          -0.13409696036986607,
          0.022766830768037094,
          -0.04873907004950018,
          0.029073602752515804,
          0.06935900558581953,
          -0.08967972822681058,
          0.0016160019309945373,
          -0.05957307093996356,
          -0.1368745685533077,
          -0.04880911867499749,
          0.11619796207737587,
          0.04558995005182798,
          0.05763776885380989
         ],
         "yaxis": "y"
        }
       ],
       "layout": {
        "autosize": true,
        "hovermode": "x",
        "legend": {
         "title": {
          "text": "asset"
         },
         "tracegroupgap": 0
        },
        "margin": {
         "t": 60
        },
        "template": {
         "data": {
          "bar": [
           {
            "error_x": {
             "color": "#2a3f5f"
            },
            "error_y": {
             "color": "#2a3f5f"
            },
            "marker": {
             "line": {
              "color": "white",
              "width": 0.5
             },
             "pattern": {
              "fillmode": "overlay",
              "size": 10,
              "solidity": 0.2
             }
            },
            "type": "bar"
           }
          ],
          "barpolar": [
           {
            "marker": {
             "line": {
              "color": "white",
              "width": 0.5
             },
             "pattern": {
              "fillmode": "overlay",
              "size": 10,
              "solidity": 0.2
             }
            },
            "type": "barpolar"
           }
          ],
          "carpet": [
           {
            "aaxis": {
             "endlinecolor": "#2a3f5f",
             "gridcolor": "#C8D4E3",
             "linecolor": "#C8D4E3",
             "minorgridcolor": "#C8D4E3",
             "startlinecolor": "#2a3f5f"
            },
            "baxis": {
             "endlinecolor": "#2a3f5f",
             "gridcolor": "#C8D4E3",
             "linecolor": "#C8D4E3",
             "minorgridcolor": "#C8D4E3",
             "startlinecolor": "#2a3f5f"
            },
            "type": "carpet"
           }
          ],
          "choropleth": [
           {
            "colorbar": {
             "outlinewidth": 0,
             "ticks": ""
            },
            "type": "choropleth"
           }
          ],
          "contour": [
           {
            "colorbar": {
             "outlinewidth": 0,
             "ticks": ""
            },
            "colorscale": [
             [
              0,
              "#0d0887"
             ],
             [
              0.1111111111111111,
              "#46039f"
             ],
             [
              0.2222222222222222,
              "#7201a8"
             ],
             [
              0.3333333333333333,
              "#9c179e"
             ],
             [
              0.4444444444444444,
              "#bd3786"
             ],
             [
              0.5555555555555556,
              "#d8576b"
             ],
             [
              0.6666666666666666,
              "#ed7953"
             ],
             [
              0.7777777777777778,
              "#fb9f3a"
             ],
             [
              0.8888888888888888,
              "#fdca26"
             ],
             [
              1,
              "#f0f921"
             ]
            ],
            "type": "contour"
           }
          ],
          "contourcarpet": [
           {
            "colorbar": {
             "outlinewidth": 0,
             "ticks": ""
            },
            "type": "contourcarpet"
           }
          ],
          "heatmap": [
           {
            "colorbar": {
             "outlinewidth": 0,
             "ticks": ""
            },
            "colorscale": [
             [
              0,
              "#0d0887"
             ],
             [
              0.1111111111111111,
              "#46039f"
             ],
             [
              0.2222222222222222,
              "#7201a8"
             ],
             [
              0.3333333333333333,
              "#9c179e"
             ],
             [
              0.4444444444444444,
              "#bd3786"
             ],
             [
              0.5555555555555556,
              "#d8576b"
             ],
             [
              0.6666666666666666,
              "#ed7953"
             ],
             [
              0.7777777777777778,
              "#fb9f3a"
             ],
             [
              0.8888888888888888,
              "#fdca26"
             ],
             [
              1,
              "#f0f921"
             ]
            ],
            "type": "heatmap"
           }
          ],
          "heatmapgl": [
           {
            "colorbar": {
             "outlinewidth": 0,
             "ticks": ""
            },
            "colorscale": [
             [
              0,
              "#0d0887"
             ],
             [
              0.1111111111111111,
              "#46039f"
             ],
             [
              0.2222222222222222,
              "#7201a8"
             ],
             [
              0.3333333333333333,
              "#9c179e"
             ],
             [
              0.4444444444444444,
              "#bd3786"
             ],
             [
              0.5555555555555556,
              "#d8576b"
             ],
             [
              0.6666666666666666,
              "#ed7953"
             ],
             [
              0.7777777777777778,
              "#fb9f3a"
             ],
             [
              0.8888888888888888,
              "#fdca26"
             ],
             [
              1,
              "#f0f921"
             ]
            ],
            "type": "heatmapgl"
           }
          ],
          "histogram": [
           {
            "marker": {
             "pattern": {
              "fillmode": "overlay",
              "size": 10,
              "solidity": 0.2
             }
            },
            "type": "histogram"
           }
          ],
          "histogram2d": [
           {
            "colorbar": {
             "outlinewidth": 0,
             "ticks": ""
            },
            "colorscale": [
             [
              0,
              "#0d0887"
             ],
             [
              0.1111111111111111,
              "#46039f"
             ],
             [
              0.2222222222222222,
              "#7201a8"
             ],
             [
              0.3333333333333333,
              "#9c179e"
             ],
             [
              0.4444444444444444,
              "#bd3786"
             ],
             [
              0.5555555555555556,
              "#d8576b"
             ],
             [
              0.6666666666666666,
              "#ed7953"
             ],
             [
              0.7777777777777778,
              "#fb9f3a"
             ],
             [
              0.8888888888888888,
              "#fdca26"
             ],
             [
              1,
              "#f0f921"
             ]
            ],
            "type": "histogram2d"
           }
          ],
          "histogram2dcontour": [
           {
            "colorbar": {
             "outlinewidth": 0,
             "ticks": ""
            },
            "colorscale": [
             [
              0,
              "#0d0887"
             ],
             [
              0.1111111111111111,
              "#46039f"
             ],
             [
              0.2222222222222222,
              "#7201a8"
             ],
             [
              0.3333333333333333,
              "#9c179e"
             ],
             [
              0.4444444444444444,
              "#bd3786"
             ],
             [
              0.5555555555555556,
              "#d8576b"
             ],
             [
              0.6666666666666666,
              "#ed7953"
             ],
             [
              0.7777777777777778,
              "#fb9f3a"
             ],
             [
              0.8888888888888888,
              "#fdca26"
             ],
             [
              1,
              "#f0f921"
             ]
            ],
            "type": "histogram2dcontour"
           }
          ],
          "mesh3d": [
           {
            "colorbar": {
             "outlinewidth": 0,
             "ticks": ""
            },
            "type": "mesh3d"
           }
          ],
          "parcoords": [
           {
            "line": {
             "colorbar": {
              "outlinewidth": 0,
              "ticks": ""
             }
            },
            "type": "parcoords"
           }
          ],
          "pie": [
           {
            "automargin": true,
            "type": "pie"
           }
          ],
          "scatter": [
           {
            "marker": {
             "colorbar": {
              "outlinewidth": 0,
              "ticks": ""
             }
            },
            "type": "scatter"
           }
          ],
          "scatter3d": [
           {
            "line": {
             "colorbar": {
              "outlinewidth": 0,
              "ticks": ""
             }
            },
            "marker": {
             "colorbar": {
              "outlinewidth": 0,
              "ticks": ""
             }
            },
            "type": "scatter3d"
           }
          ],
          "scattercarpet": [
           {
            "marker": {
             "colorbar": {
              "outlinewidth": 0,
              "ticks": ""
             }
            },
            "type": "scattercarpet"
           }
          ],
          "scattergeo": [
           {
            "marker": {
             "colorbar": {
              "outlinewidth": 0,
              "ticks": ""
             }
            },
            "type": "scattergeo"
           }
          ],
          "scattergl": [
           {
            "marker": {
             "colorbar": {
              "outlinewidth": 0,
              "ticks": ""
             }
            },
            "type": "scattergl"
           }
          ],
          "scattermapbox": [
           {
            "marker": {
             "colorbar": {
              "outlinewidth": 0,
              "ticks": ""
             }
            },
            "type": "scattermapbox"
           }
          ],
          "scatterpolar": [
           {
            "marker": {
             "colorbar": {
              "outlinewidth": 0,
              "ticks": ""
             }
            },
            "type": "scatterpolar"
           }
          ],
          "scatterpolargl": [
           {
            "marker": {
             "colorbar": {
              "outlinewidth": 0,
              "ticks": ""
             }
            },
            "type": "scatterpolargl"
           }
          ],
          "scatterternary": [
           {
            "marker": {
             "colorbar": {
              "outlinewidth": 0,
              "ticks": ""
             }
            },
            "type": "scatterternary"
           }
          ],
          "surface": [
           {
            "colorbar": {
             "outlinewidth": 0,
             "ticks": ""
            },
            "colorscale": [
             [
              0,
              "#0d0887"
             ],
             [
              0.1111111111111111,
              "#46039f"
             ],
             [
              0.2222222222222222,
              "#7201a8"
             ],
             [
              0.3333333333333333,
              "#9c179e"
             ],
             [
              0.4444444444444444,
              "#bd3786"
             ],
             [
              0.5555555555555556,
              "#d8576b"
             ],
             [
              0.6666666666666666,
              "#ed7953"
             ],
             [
              0.7777777777777778,
              "#fb9f3a"
             ],
             [
              0.8888888888888888,
              "#fdca26"
             ],
             [
              1,
              "#f0f921"
             ]
            ],
            "type": "surface"
           }
          ],
          "table": [
           {
            "cells": {
             "fill": {
              "color": "#EBF0F8"
             },
             "line": {
              "color": "white"
             }
            },
            "header": {
             "fill": {
              "color": "#C8D4E3"
             },
             "line": {
              "color": "white"
             }
            },
            "type": "table"
           }
          ]
         },
         "layout": {
          "annotationdefaults": {
           "arrowcolor": "#2a3f5f",
           "arrowhead": 0,
           "arrowwidth": 1
          },
          "autotypenumbers": "strict",
          "coloraxis": {
           "colorbar": {
            "outlinewidth": 0,
            "ticks": ""
           }
          },
          "colorscale": {
           "diverging": [
            [
             0,
             "#8e0152"
            ],
            [
             0.1,
             "#c51b7d"
            ],
            [
             0.2,
             "#de77ae"
            ],
            [
             0.3,
             "#f1b6da"
            ],
            [
             0.4,
             "#fde0ef"
            ],
            [
             0.5,
             "#f7f7f7"
            ],
            [
             0.6,
             "#e6f5d0"
            ],
            [
             0.7,
             "#b8e186"
            ],
            [
             0.8,
             "#7fbc41"
            ],
            [
             0.9,
             "#4d9221"
            ],
            [
             1,
             "#276419"
            ]
           ],
           "sequential": [
            [
             0,
             "#0d0887"
            ],
            [
             0.1111111111111111,
             "#46039f"
            ],
            [
             0.2222222222222222,
             "#7201a8"
            ],
            [
             0.3333333333333333,
             "#9c179e"
            ],
            [
             0.4444444444444444,
             "#bd3786"
            ],
            [
             0.5555555555555556,
             "#d8576b"
            ],
            [
             0.6666666666666666,
             "#ed7953"
            ],
            [
             0.7777777777777778,
             "#fb9f3a"
            ],
            [
             0.8888888888888888,
             "#fdca26"
            ],
            [
             1,
             "#f0f921"
            ]
           ],
           "sequentialminus": [
            [
             0,
             "#0d0887"
            ],
            [
             0.1111111111111111,
             "#46039f"
            ],
            [
             0.2222222222222222,
             "#7201a8"
            ],
            [
             0.3333333333333333,
             "#9c179e"
            ],
            [
             0.4444444444444444,
             "#bd3786"
            ],
            [
             0.5555555555555556,
             "#d8576b"
            ],
            [
             0.6666666666666666,
             "#ed7953"
            ],
            [
             0.7777777777777778,
             "#fb9f3a"
            ],
            [
             0.8888888888888888,
             "#fdca26"
            ],
            [
             1,
             "#f0f921"
            ]
           ]
          },
          "colorway": [
           "#636efa",
           "#EF553B",
           "#00cc96",
           "#ab63fa",
           "#FFA15A",
           "#19d3f3",
           "#FF6692",
           "#B6E880",
           "#FF97FF",
           "#FECB52"
          ],
          "font": {
           "color": "#2a3f5f"
          },
          "geo": {
           "bgcolor": "white",
           "lakecolor": "white",
           "landcolor": "white",
           "showlakes": true,
           "showland": true,
           "subunitcolor": "#C8D4E3"
          },
          "hoverlabel": {
           "align": "left"
          },
          "hovermode": "closest",
          "mapbox": {
           "style": "light"
          },
          "paper_bgcolor": "white",
          "plot_bgcolor": "white",
          "polar": {
           "angularaxis": {
            "gridcolor": "#EBF0F8",
            "linecolor": "#EBF0F8",
            "ticks": ""
           },
           "bgcolor": "white",
           "radialaxis": {
            "gridcolor": "#EBF0F8",
            "linecolor": "#EBF0F8",
            "ticks": ""
           }
          },
          "scene": {
           "xaxis": {
            "backgroundcolor": "white",
            "gridcolor": "#DFE8F3",
            "gridwidth": 2,
            "linecolor": "#EBF0F8",
            "showbackground": true,
            "ticks": "",
            "zerolinecolor": "#EBF0F8"
           },
           "yaxis": {
            "backgroundcolor": "white",
            "gridcolor": "#DFE8F3",
            "gridwidth": 2,
            "linecolor": "#EBF0F8",
            "showbackground": true,
            "ticks": "",
            "zerolinecolor": "#EBF0F8"
           },
           "zaxis": {
            "backgroundcolor": "white",
            "gridcolor": "#DFE8F3",
            "gridwidth": 2,
            "linecolor": "#EBF0F8",
            "showbackground": true,
            "ticks": "",
            "zerolinecolor": "#EBF0F8"
           }
          },
          "shapedefaults": {
           "line": {
            "color": "#2a3f5f"
           }
          },
          "ternary": {
           "aaxis": {
            "gridcolor": "#DFE8F3",
            "linecolor": "#A2B1C6",
            "ticks": ""
           },
           "baxis": {
            "gridcolor": "#DFE8F3",
            "linecolor": "#A2B1C6",
            "ticks": ""
           },
           "bgcolor": "white",
           "caxis": {
            "gridcolor": "#DFE8F3",
            "linecolor": "#A2B1C6",
            "ticks": ""
           }
          },
          "title": {
           "x": 0.05
          },
          "xaxis": {
           "automargin": true,
           "gridcolor": "#EBF0F8",
           "linecolor": "#EBF0F8",
           "ticks": "",
           "title": {
            "standoff": 15
           },
           "zerolinecolor": "#EBF0F8",
           "zerolinewidth": 2
          },
          "yaxis": {
           "automargin": true,
           "gridcolor": "#EBF0F8",
           "linecolor": "#EBF0F8",
           "ticks": "",
           "title": {
            "standoff": 15
           },
           "zerolinecolor": "#EBF0F8",
           "zerolinewidth": 2
          }
         }
        },
        "title": {
         "text": "Assets daily returns"
        },
        "xaxis": {
         "anchor": "y",
         "autorange": true,
         "domain": [
          0,
          1
         ],
         "range": [
          "2022-03-04",
          "2022-05-31"
         ],
         "showspikes": true,
         "spikecolor": "#999999",
         "spikedash": "dot",
         "spikemode": "across",
         "spikethickness": 2,
         "title": {
          "text": "date"
         },
         "type": "date"
        },
        "yaxis": {
         "anchor": "x",
         "autorange": true,
         "domain": [
          0,
          1
         ],
         "range": [
          -0.42534863007541535,
          0.1810220239802056
         ],
         "tickformat": ".2%",
         "title": {
          "text": "return, %"
         },
         "type": "linear"
        }
       }
      },
      "image/png": "[encoded data removed]",
      "text/html": [
       "<div>                            <div id=\"ac211493-7490-4ec6-ac70-68fecf0d6d65\" class=\"plotly-graph-div\" style=\"height:525px; width:100%;\"></div>            <script type=\"text/javascript\">                require([\"plotly\"], function(Plotly) {                    window.PLOTLYENV=window.PLOTLYENV || {};                                    if (document.getElementById(\"ac211493-7490-4ec6-ac70-68fecf0d6d65\")) {                    Plotly.newPlot(                        \"ac211493-7490-4ec6-ac70-68fecf0d6d65\",                        [{\"hovertemplate\":\"%{y}\",\"legendgroup\":\"JOE\",\"line\":{\"color\":\"#636efa\",\"dash\":\"solid\"},\"marker\":{\"symbol\":\"circle\"},\"mode\":\"lines\",\"name\":\"JOE\",\"orientation\":\"v\",\"showlegend\":true,\"x\":[\"2022-03-04T00:00:00\",\"2022-03-05T00:00:00\",\"2022-03-06T00:00:00\",\"2022-03-07T00:00:00\",\"2022-03-08T00:00:00\",\"2022-03-09T00:00:00\",\"2022-03-10T00:00:00\",\"2022-03-11T00:00:00\",\"2022-03-12T00:00:00\",\"2022-03-13T00:00:00\",\"2022-03-14T00:00:00\",\"2022-03-15T00:00:00\",\"2022-03-16T00:00:00\",\"2022-03-17T00:00:00\",\"2022-03-18T00:00:00\",\"2022-03-19T00:00:00\",\"2022-03-20T00:00:00\",\"2022-03-21T00:00:00\",\"2022-03-22T00:00:00\",\"2022-03-23T00:00:00\",\"2022-03-24T00:00:00\",\"2022-03-25T00:00:00\",\"2022-03-26T00:00:00\",\"2022-03-27T00:00:00\",\"2022-03-28T00:00:00\",\"2022-03-29T00:00:00\",\"2022-03-30T00:00:00\",\"2022-03-31T00:00:00\",\"2022-04-01T00:00:00\",\"2022-04-02T00:00:00\",\"2022-04-03T00:00:00\",\"2022-04-04T00:00:00\",\"2022-04-05T00:00:00\",\"2022-04-06T00:00:00\",\"2022-04-07T00:00:00\",\"2022-04-08T00:00:00\",\"2022-04-09T00:00:00\",\"2022-04-10T00:00:00\",\"2022-04-11T00:00:00\",\"2022-04-12T00:00:00\",\"2022-04-13T00:00:00\",\"2022-04-14T00:00:00\",\"2022-04-15T00:00:00\",\"2022-04-16T00:00:00\",\"2022-04-17T00:00:00\",\"2022-04-18T00:00:00\",\"2022-04-19T00:00:00\",\"2022-04-20T00:00:00\",\"2022-04-21T00:00:00\",\"2022-04-22T00:00:00\",\"2022-04-23T00:00:00\",\"2022-04-24T00:00:00\",\"2022-04-25T00:00:00\",\"2022-04-26T00:00:00\",\"2022-04-27T00:00:00\",\"2022-04-28T00:00:00\",\"2022-04-29T00:00:00\",\"2022-04-30T00:00:00\",\"2022-05-01T00:00:00\",\"2022-05-02T00:00:00\",\"2022-05-03T00:00:00\",\"2022-05-04T00:00:00\",\"2022-05-05T00:00:00\",\"2022-05-06T00:00:00\",\"2022-05-07T00:00:00\",\"2022-05-08T00:00:00\",\"2022-05-09T00:00:00\",\"2022-05-10T00:00:00\",\"2022-05-11T00:00:00\",\"2022-05-12T00:00:00\",\"2022-05-13T00:00:00\",\"2022-05-14T00:00:00\",\"2022-05-15T00:00:00\",\"2022-05-16T00:00:00\",\"2022-05-17T00:00:00\",\"2022-05-18T00:00:00\",\"2022-05-19T00:00:00\",\"2022-05-20T00:00:00\",\"2022-05-21T00:00:00\",\"2022-05-22T00:00:00\",\"2022-05-23T00:00:00\",\"2022-05-24T00:00:00\",\"2022-05-25T00:00:00\",\"2022-05-26T00:00:00\",\"2022-05-27T00:00:00\",\"2022-05-28T00:00:00\",\"2022-05-29T00:00:00\",\"2022-05-30T00:00:00\",\"2022-05-31T00:00:00\"],\"xaxis\":\"x\",\"y\":[null,-0.006870395802474949,0.0071325468624543475,-0.03365923752118971,-0.047247057634066336,-0.016374564776967304,0.03745805382641998,-0.035661737626551115,-0.08203825124386788,0.028707889005836096,-0.10316589845397761,0.014347029209328621,-0.006178548736040623,0.08655099242595132,0.09249970924489004,0.017744005113566885,0.02770577136623964,-0.05816910207067638,0.043700818348529014,-0.024083927136485328,-0.002849674434053373,0.024652393177765797,-0.059626184043358066,0.023559744799616533,0.01544805514659342,0.12380830290322598,-0.006564206962754948,0.14484964898777308,-0.05098551923205408,0.043906489958534634,0.007266563722653219,0.08837778322052281,-0.01277296763664204,0.03892513448525037,-0.12533097301447937,0.12128955835932365,-0.07644585764240008,0.06354894805500488,-0.030560137511061347,-0.1427971007285228,0.05389839106905647,0.05752861635118456,-0.05012884725571054,-0.011094050249566001,-0.025337408380921467,-0.03233109958867919,0.029215189711338185,0.09111293806017629,-0.028615779867252167,-0.03960841897290779,-0.04199117349751624,-0.051095157823017434,-0.013297087333649316,0.05207082901866289,-0.07799016323287089,0.01483869029687157,-0.05595721397866782,-0.0850949918208177,-0.09112964333152229,0.041323475312297964,0.0664196988518404,-0.009955079127329514,0.1274886117179106,-0.1349660506897956,-0.05318475297933134,-0.04274579968684422,0.006244472606496965,-0.23392889144283546,-0.03440201733999648,-0.3950300973726343,0.15070349127742455,0.13929069895654167,0.02247761158139583,0.08030364907788656,-0.08843903350270477,0.06259608493914026,-0.14817038787130532,0.007965637004998527,-0.10233479920686595,0.009630733428946936,0.10539762674255715,-0.10331902076671684,0.0244843675238966,-0.05331267079161173,-0.13288163138319775,-0.0815995026837899,0.1032727959207449,0.0658950598277448,0.046354341416915856],\"yaxis\":\"y\",\"type\":\"scatter\"},{\"hovertemplate\":\"%{y}\",\"legendgroup\":\"SAVAX\",\"line\":{\"color\":\"#EF553B\",\"dash\":\"solid\"},\"marker\":{\"symbol\":\"circle\"},\"mode\":\"lines\",\"name\":\"SAVAX\",\"orientation\":\"v\",\"showlegend\":true,\"x\":[\"2022-03-04T00:00:00\",\"2022-03-05T00:00:00\",\"2022-03-06T00:00:00\",\"2022-03-07T00:00:00\",\"2022-03-08T00:00:00\",\"2022-03-09T00:00:00\",\"2022-03-10T00:00:00\",\"2022-03-11T00:00:00\",\"2022-03-12T00:00:00\",\"2022-03-13T00:00:00\",\"2022-03-14T00:00:00\",\"2022-03-15T00:00:00\",\"2022-03-16T00:00:00\",\"2022-03-17T00:00:00\",\"2022-03-18T00:00:00\",\"2022-03-19T00:00:00\",\"2022-03-20T00:00:00\",\"2022-03-21T00:00:00\",\"2022-03-22T00:00:00\",\"2022-03-23T00:00:00\",\"2022-03-24T00:00:00\",\"2022-03-25T00:00:00\",\"2022-03-26T00:00:00\",\"2022-03-27T00:00:00\",\"2022-03-28T00:00:00\",\"2022-03-29T00:00:00\",\"2022-03-30T00:00:00\",\"2022-03-31T00:00:00\",\"2022-04-01T00:00:00\",\"2022-04-02T00:00:00\",\"2022-04-03T00:00:00\",\"2022-04-04T00:00:00\",\"2022-04-05T00:00:00\",\"2022-04-06T00:00:00\",\"2022-04-07T00:00:00\",\"2022-04-08T00:00:00\",\"2022-04-09T00:00:00\",\"2022-04-10T00:00:00\",\"2022-04-11T00:00:00\",\"2022-04-12T00:00:00\",\"2022-04-13T00:00:00\",\"2022-04-14T00:00:00\",\"2022-04-15T00:00:00\",\"2022-04-16T00:00:00\",\"2022-04-17T00:00:00\",\"2022-04-18T00:00:00\",\"2022-04-19T00:00:00\",\"2022-04-20T00:00:00\",\"2022-04-21T00:00:00\",\"2022-04-22T00:00:00\",\"2022-04-23T00:00:00\",\"2022-04-24T00:00:00\",\"2022-04-25T00:00:00\",\"2022-04-26T00:00:00\",\"2022-04-27T00:00:00\",\"2022-04-28T00:00:00\",\"2022-04-29T00:00:00\",\"2022-04-30T00:00:00\",\"2022-05-01T00:00:00\",\"2022-05-02T00:00:00\",\"2022-05-03T00:00:00\",\"2022-05-04T00:00:00\",\"2022-05-05T00:00:00\",\"2022-05-06T00:00:00\",\"2022-05-07T00:00:00\",\"2022-05-08T00:00:00\",\"2022-05-09T00:00:00\",\"2022-05-10T00:00:00\",\"2022-05-11T00:00:00\",\"2022-05-12T00:00:00\",\"2022-05-13T00:00:00\",\"2022-05-14T00:00:00\",\"2022-05-15T00:00:00\",\"2022-05-16T00:00:00\",\"2022-05-17T00:00:00\",\"2022-05-18T00:00:00\",\"2022-05-19T00:00:00\",\"2022-05-20T00:00:00\",\"2022-05-21T00:00:00\",\"2022-05-22T00:00:00\",\"2022-05-23T00:00:00\",\"2022-05-24T00:00:00\",\"2022-05-25T00:00:00\",\"2022-05-26T00:00:00\",\"2022-05-27T00:00:00\",\"2022-05-28T00:00:00\",\"2022-05-29T00:00:00\",\"2022-05-30T00:00:00\",\"2022-05-31T00:00:00\"],\"xaxis\":\"x\",\"y\":[null,-0.020123935559465345,0.010480600791014982,-0.05632243046583385,-0.0010053935414459092,0.01761304449894152,0.06142363038367904,-0.051252191740596476,-0.03398562541429517,-0.00413561931317763,-0.04095079307536098,0.00529719870753409,0.019875416020227243,0.06155139757873185,0.08128156095803729,0.07401979686502136,0.0468923377856274,-0.0578819748834406,0.018788493491109337,-0.025904930477172128,0.03192305013217389,0.016446672307755206,-0.044436853022355005,0.025015131864330797,0.039757096267581726,0.008554867595664373,0.020922064734068435,0.03762215072752495,0.00436621166090867,0.004566157578809404,-0.0016154160637272819,0.012657606675890998,-0.02462984687326264,-0.0447704730722317,-0.0811913940307416,0.053117615814353814,-0.045917458507819475,0.01340125038083495,-0.025366762414897104,-0.09902709793554076,0.03264076867418342,0.03594418642595065,-0.0342353177390039,0.008440209841170443,0.004335373060874836,-0.030082457116884176,0.024233032549678457,0.03242660342569348,-0.026564367585267368,-0.034048022081786256,-0.009006488534646584,-0.01961975513918257,-0.013526699596223879,0.010128315084066974,-0.05015373225485942,0.015451865824931188,-0.03636907640525977,-0.05385683721066814,-0.10372166260847904,0.02896742019896914,0.030831451079202266,-0.011457376333034563,0.11646605845627489,-0.11120448250011394,-0.039747305291521484,-0.03418856519821423,-0.06625635432100274,-0.17626704150621297,0.04299922343010776,-0.32501474884077564,-0.01707268224931635,0.0871571691702524,0.05843589083913581,0.06382123558259778,-0.09511381929855034,0.0564138591472334,-0.13409696036986607,0.022766830768037094,-0.04873907004950018,0.029073602752515804,0.06935900558581953,-0.08967972822681058,0.0016160019309945373,-0.05957307093996356,-0.1368745685533077,-0.04880911867499749,0.11619796207737587,0.04558995005182798,0.05763776885380989],\"yaxis\":\"y\",\"type\":\"scatter\"}],                        {\"template\":{\"data\":{\"barpolar\":[{\"marker\":{\"line\":{\"color\":\"white\",\"width\":0.5},\"pattern\":{\"fillmode\":\"overlay\",\"size\":10,\"solidity\":0.2}},\"type\":\"barpolar\"}],\"bar\":[{\"error_x\":{\"color\":\"#2a3f5f\"},\"error_y\":{\"color\":\"#2a3f5f\"},\"marker\":{\"line\":{\"color\":\"white\",\"width\":0.5},\"pattern\":{\"fillmode\":\"overlay\",\"size\":10,\"solidity\":0.2}},\"type\":\"bar\"}],\"carpet\":[{\"aaxis\":{\"endlinecolor\":\"#2a3f5f\",\"gridcolor\":\"#C8D4E3\",\"linecolor\":\"#C8D4E3\",\"minorgridcolor\":\"#C8D4E3\",\"startlinecolor\":\"#2a3f5f\"},\"baxis\":{\"endlinecolor\":\"#2a3f5f\",\"gridcolor\":\"#C8D4E3\",\"linecolor\":\"#C8D4E3\",\"minorgridcolor\":\"#C8D4E3\",\"startlinecolor\":\"#2a3f5f\"},\"type\":\"carpet\"}],\"choropleth\":[{\"colorbar\":{\"outlinewidth\":0,\"ticks\":\"\"},\"type\":\"choropleth\"}],\"contourcarpet\":[{\"colorbar\":{\"outlinewidth\":0,\"ticks\":\"\"},\"type\":\"contourcarpet\"}],\"contour\":[{\"colorbar\":{\"outlinewidth\":0,\"ticks\":\"\"},\"colorscale\":[[0.0,\"#0d0887\"],[0.1111111111111111,\"#46039f\"],[0.2222222222222222,\"#7201a8\"],[0.3333333333333333,\"#9c179e\"],[0.4444444444444444,\"#bd3786\"],[0.5555555555555556,\"#d8576b\"],[0.6666666666666666,\"#ed7953\"],[0.7777777777777778,\"#fb9f3a\"],[0.8888888888888888,\"#fdca26\"],[1.0,\"#f0f921\"]],\"type\":\"contour\"}],\"heatmapgl\":[{\"colorbar\":{\"outlinewidth\":0,\"ticks\":\"\"},\"colorscale\":[[0.0,\"#0d0887\"],[0.1111111111111111,\"#46039f\"],[0.2222222222222222,\"#7201a8\"],[0.3333333333333333,\"#9c179e\"],[0.4444444444444444,\"#bd3786\"],[0.5555555555555556,\"#d8576b\"],[0.6666666666666666,\"#ed7953\"],[0.7777777777777778,\"#fb9f3a\"],[0.8888888888888888,\"#fdca26\"],[1.0,\"#f0f921\"]],\"type\":\"heatmapgl\"}],\"heatmap\":[{\"colorbar\":{\"outlinewidth\":0,\"ticks\":\"\"},\"colorscale\":[[0.0,\"#0d0887\"],[0.1111111111111111,\"#46039f\"],[0.2222222222222222,\"#7201a8\"],[0.3333333333333333,\"#9c179e\"],[0.4444444444444444,\"#bd3786\"],[0.5555555555555556,\"#d8576b\"],[0.6666666666666666,\"#ed7953\"],[0.7777777777777778,\"#fb9f3a\"],[0.8888888888888888,\"#fdca26\"],[1.0,\"#f0f921\"]],\"type\":\"heatmap\"}],\"histogram2dcontour\":[{\"colorbar\":{\"outlinewidth\":0,\"ticks\":\"\"},\"colorscale\":[[0.0,\"#0d0887\"],[0.1111111111111111,\"#46039f\"],[0.2222222222222222,\"#7201a8\"],[0.3333333333333333,\"#9c179e\"],[0.4444444444444444,\"#bd3786\"],[0.5555555555555556,\"#d8576b\"],[0.6666666666666666,\"#ed7953\"],[0.7777777777777778,\"#fb9f3a\"],[0.8888888888888888,\"#fdca26\"],[1.0,\"#f0f921\"]],\"type\":\"histogram2dcontour\"}],\"histogram2d\":[{\"colorbar\":{\"outlinewidth\":0,\"ticks\":\"\"},\"colorscale\":[[0.0,\"#0d0887\"],[0.1111111111111111,\"#46039f\"],[0.2222222222222222,\"#7201a8\"],[0.3333333333333333,\"#9c179e\"],[0.4444444444444444,\"#bd3786\"],[0.5555555555555556,\"#d8576b\"],[0.6666666666666666,\"#ed7953\"],[0.7777777777777778,\"#fb9f3a\"],[0.8888888888888888,\"#fdca26\"],[1.0,\"#f0f921\"]],\"type\":\"histogram2d\"}],\"histogram\":[{\"marker\":{\"pattern\":{\"fillmode\":\"overlay\",\"size\":10,\"solidity\":0.2}},\"type\":\"histogram\"}],\"mesh3d\":[{\"colorbar\":{\"outlinewidth\":0,\"ticks\":\"\"},\"type\":\"mesh3d\"}],\"parcoords\":[{\"line\":{\"colorbar\":{\"outlinewidth\":0,\"ticks\":\"\"}},\"type\":\"parcoords\"}],\"pie\":[{\"automargin\":true,\"type\":\"pie\"}],\"scatter3d\":[{\"line\":{\"colorbar\":{\"outlinewidth\":0,\"ticks\":\"\"}},\"marker\":{\"colorbar\":{\"outlinewidth\":0,\"ticks\":\"\"}},\"type\":\"scatter3d\"}],\"scattercarpet\":[{\"marker\":{\"colorbar\":{\"outlinewidth\":0,\"ticks\":\"\"}},\"type\":\"scattercarpet\"}],\"scattergeo\":[{\"marker\":{\"colorbar\":{\"outlinewidth\":0,\"ticks\":\"\"}},\"type\":\"scattergeo\"}],\"scattergl\":[{\"marker\":{\"colorbar\":{\"outlinewidth\":0,\"ticks\":\"\"}},\"type\":\"scattergl\"}],\"scattermapbox\":[{\"marker\":{\"colorbar\":{\"outlinewidth\":0,\"ticks\":\"\"}},\"type\":\"scattermapbox\"}],\"scatterpolargl\":[{\"marker\":{\"colorbar\":{\"outlinewidth\":0,\"ticks\":\"\"}},\"type\":\"scatterpolargl\"}],\"scatterpolar\":[{\"marker\":{\"colorbar\":{\"outlinewidth\":0,\"ticks\":\"\"}},\"type\":\"scatterpolar\"}],\"scatter\":[{\"marker\":{\"colorbar\":{\"outlinewidth\":0,\"ticks\":\"\"}},\"type\":\"scatter\"}],\"scatterternary\":[{\"marker\":{\"colorbar\":{\"outlinewidth\":0,\"ticks\":\"\"}},\"type\":\"scatterternary\"}],\"surface\":[{\"colorbar\":{\"outlinewidth\":0,\"ticks\":\"\"},\"colorscale\":[[0.0,\"#0d0887\"],[0.1111111111111111,\"#46039f\"],[0.2222222222222222,\"#7201a8\"],[0.3333333333333333,\"#9c179e\"],[0.4444444444444444,\"#bd3786\"],[0.5555555555555556,\"#d8576b\"],[0.6666666666666666,\"#ed7953\"],[0.7777777777777778,\"#fb9f3a\"],[0.8888888888888888,\"#fdca26\"],[1.0,\"#f0f921\"]],\"type\":\"surface\"}],\"table\":[{\"cells\":{\"fill\":{\"color\":\"#EBF0F8\"},\"line\":{\"color\":\"white\"}},\"header\":{\"fill\":{\"color\":\"#C8D4E3\"},\"line\":{\"color\":\"white\"}},\"type\":\"table\"}]},\"layout\":{\"annotationdefaults\":{\"arrowcolor\":\"#2a3f5f\",\"arrowhead\":0,\"arrowwidth\":1},\"autotypenumbers\":\"strict\",\"coloraxis\":{\"colorbar\":{\"outlinewidth\":0,\"ticks\":\"\"}},\"colorscale\":{\"diverging\":[[0,\"#8e0152\"],[0.1,\"#c51b7d\"],[0.2,\"#de77ae\"],[0.3,\"#f1b6da\"],[0.4,\"#fde0ef\"],[0.5,\"#f7f7f7\"],[0.6,\"#e6f5d0\"],[0.7,\"#b8e186\"],[0.8,\"#7fbc41\"],[0.9,\"#4d9221\"],[1,\"#276419\"]],\"sequential\":[[0.0,\"#0d0887\"],[0.1111111111111111,\"#46039f\"],[0.2222222222222222,\"#7201a8\"],[0.3333333333333333,\"#9c179e\"],[0.4444444444444444,\"#bd3786\"],[0.5555555555555556,\"#d8576b\"],[0.6666666666666666,\"#ed7953\"],[0.7777777777777778,\"#fb9f3a\"],[0.8888888888888888,\"#fdca26\"],[1.0,\"#f0f921\"]],\"sequentialminus\":[[0.0,\"#0d0887\"],[0.1111111111111111,\"#46039f\"],[0.2222222222222222,\"#7201a8\"],[0.3333333333333333,\"#9c179e\"],[0.4444444444444444,\"#bd3786\"],[0.5555555555555556,\"#d8576b\"],[0.6666666666666666,\"#ed7953\"],[0.7777777777777778,\"#fb9f3a\"],[0.8888888888888888,\"#fdca26\"],[1.0,\"#f0f921\"]]},\"colorway\":[\"#636efa\",\"#EF553B\",\"#00cc96\",\"#ab63fa\",\"#FFA15A\",\"#19d3f3\",\"#FF6692\",\"#B6E880\",\"#FF97FF\",\"#FECB52\"],\"font\":{\"color\":\"#2a3f5f\"},\"geo\":{\"bgcolor\":\"white\",\"lakecolor\":\"white\",\"landcolor\":\"white\",\"showlakes\":true,\"showland\":true,\"subunitcolor\":\"#C8D4E3\"},\"hoverlabel\":{\"align\":\"left\"},\"hovermode\":\"closest\",\"mapbox\":{\"style\":\"light\"},\"paper_bgcolor\":\"white\",\"plot_bgcolor\":\"white\",\"polar\":{\"angularaxis\":{\"gridcolor\":\"#EBF0F8\",\"linecolor\":\"#EBF0F8\",\"ticks\":\"\"},\"bgcolor\":\"white\",\"radialaxis\":{\"gridcolor\":\"#EBF0F8\",\"linecolor\":\"#EBF0F8\",\"ticks\":\"\"}},\"scene\":{\"xaxis\":{\"backgroundcolor\":\"white\",\"gridcolor\":\"#DFE8F3\",\"gridwidth\":2,\"linecolor\":\"#EBF0F8\",\"showbackground\":true,\"ticks\":\"\",\"zerolinecolor\":\"#EBF0F8\"},\"yaxis\":{\"backgroundcolor\":\"white\",\"gridcolor\":\"#DFE8F3\",\"gridwidth\":2,\"linecolor\":\"#EBF0F8\",\"showbackground\":true,\"ticks\":\"\",\"zerolinecolor\":\"#EBF0F8\"},\"zaxis\":{\"backgroundcolor\":\"white\",\"gridcolor\":\"#DFE8F3\",\"gridwidth\":2,\"linecolor\":\"#EBF0F8\",\"showbackground\":true,\"ticks\":\"\",\"zerolinecolor\":\"#EBF0F8\"}},\"shapedefaults\":{\"line\":{\"color\":\"#2a3f5f\"}},\"ternary\":{\"aaxis\":{\"gridcolor\":\"#DFE8F3\",\"linecolor\":\"#A2B1C6\",\"ticks\":\"\"},\"baxis\":{\"gridcolor\":\"#DFE8F3\",\"linecolor\":\"#A2B1C6\",\"ticks\":\"\"},\"bgcolor\":\"white\",\"caxis\":{\"gridcolor\":\"#DFE8F3\",\"linecolor\":\"#A2B1C6\",\"ticks\":\"\"}},\"title\":{\"x\":0.05},\"xaxis\":{\"automargin\":true,\"gridcolor\":\"#EBF0F8\",\"linecolor\":\"#EBF0F8\",\"ticks\":\"\",\"title\":{\"standoff\":15},\"zerolinecolor\":\"#EBF0F8\",\"zerolinewidth\":2},\"yaxis\":{\"automargin\":true,\"gridcolor\":\"#EBF0F8\",\"linecolor\":\"#EBF0F8\",\"ticks\":\"\",\"title\":{\"standoff\":15},\"zerolinecolor\":\"#EBF0F8\",\"zerolinewidth\":2}}},\"xaxis\":{\"anchor\":\"y\",\"domain\":[0.0,1.0],\"title\":{\"text\":\"date\"},\"showspikes\":true,\"spikethickness\":2,\"spikedash\":\"dot\",\"spikecolor\":\"#999999\",\"spikemode\":\"across\"},\"yaxis\":{\"anchor\":\"x\",\"domain\":[0.0,1.0],\"title\":{\"text\":\"return, %\"},\"tickformat\":\".2%\"},\"legend\":{\"title\":{\"text\":\"asset\"},\"tracegroupgap\":0},\"margin\":{\"t\":60},\"hovermode\":\"x\",\"title\":{\"text\":\"Assets daily returns\"}},                        {\"responsive\": true}                    ).then(function(){\n",
       "                            \n",
       "var gd = document.getElementById('ac211493-7490-4ec6-ac70-68fecf0d6d65');\n",
       "var x = new MutationObserver(function (mutations, observer) {{\n",
       "        var display = window.getComputedStyle(gd).display;\n",
       "        if (!display || display === 'none') {{\n",
       "            console.log([gd, 'removed!']);\n",
       "            Plotly.purge(gd);\n",
       "            observer.disconnect();\n",
       "        }}\n",
       "}});\n",
       "\n",
       "// Listen for the removal of the full notebook cells\n",
       "var notebookContainer = gd.closest('#notebook-container');\n",
       "if (notebookContainer) {{\n",
       "    x.observe(notebookContainer, {childList: true});\n",
       "}}\n",
       "\n",
       "// Listen for the clearing of the current output cell\n",
       "var outputEl = gd.closest('.output');\n",
       "if (outputEl) {{\n",
       "    x.observe(outputEl, {childList: true});\n",
       "}}\n",
       "\n",
       "                        })                };                });            </script>        </div>"
      ]
     },
     "metadata": {},
     "output_type": "display_data"
    }
   ],
   "source": [
    "fig = px.line(prices_data.pct_change(),\n",
    "       labels={'variable': 'asset', 'value': 'return, %'})\n",
    "fig.update_traces(\n",
    "    hovertemplate=\"%{y}\"\n",
    ")\n",
    "fig.update_yaxes(\n",
    "    tickformat=\".2%\",\n",
    ")\n",
    "fig.update_xaxes(\n",
    "    showspikes=True,\n",
    "    spikethickness=2,\n",
    "    spikedash=\"dot\",\n",
    "    spikecolor=\"#999999\",\n",
    "    spikemode=\"across\",\n",
    ")\n",
    "fig.update_layout(\n",
    "    hovermode=\"x\",\n",
    "    template='plotly_white',\n",
    "    title='Assets daily returns'\n",
    ")\n",
    "fig.show()"
   ]
  },
  {
   "cell_type": "markdown",
   "id": "82d89ce5-997b-49d1-84be-6ae7c781e94c",
   "metadata": {},
   "source": [
    "## Weighting "
   ]
  },
  {
   "cell_type": "markdown",
   "id": "feea0f04-caa3-4f30-ac21-58ac69cfc423",
   "metadata": {},
   "source": [
    "**Weighting requirements**\n",
    "* The maximum weight any one token can have is 50%.\n",
    "* All excess weight is proportionally redistributed to all uncapped tokens. After this has been completed, if another token now exceeds the 50% threshold the excess will be redistributed to the remaining uncapped tokens. This process will occur iteratively until there are no tokens that exceed the maximum weight.\n",
    "* Any asset with a weight below 0.5% will be removed from the index.\n"
   ]
  },
  {
   "cell_type": "markdown",
   "id": "65245cf9-368d-4ac1-8024-3d8f467d4b30",
   "metadata": {},
   "source": [
    "### Iterative proportional adjusting"
   ]
  },
  {
   "cell_type": "code",
   "execution_count": 115,
   "id": "faf78228-d142-4756-ab32-daec733829e4",
   "metadata": {},
   "outputs": [],
   "source": [
    "def adjust_weights(w, b):\n",
    "    assert abs(w.sum() - 1) < 0.01, w.sum()\n",
    "    assert b * w.shape[0] >=1\n",
    "    wa = w.copy()\n",
    "    \n",
    "    while (wa > b).any():\n",
    "        c = (wa[wa>b]-b).sum()\n",
    "        wa[wa > b] = b\n",
    "        w_less = wa[wa < b]\n",
    "        wa[wa < b] += c * (w_less / w_less.sum())\n",
    "    \n",
    "    return wa"
   ]
  },
  {
   "cell_type": "markdown",
   "id": "a915db76-8a37-4ddb-bbff-087f5b19b4a1",
   "metadata": {
    "tags": []
   },
   "source": [
    "### Weight mcaps"
   ]
  },
  {
   "cell_type": "code",
   "execution_count": 116,
   "id": "d6689034-061e-4939-9f5c-35e0ec009b9c",
   "metadata": {},
   "outputs": [],
   "source": [
    "weights = marketcaps.div(marketcaps.sum(axis=1), axis=0)\n",
    "weights = weights.sort_values(weights.last_valid_index(), axis=1, ascending=False)"
   ]
  },
  {
   "cell_type": "code",
   "execution_count": 117,
   "id": "44c5fb5b-9c0c-40b4-aeeb-62107b6bc8a2",
   "metadata": {},
   "outputs": [
    {
     "data": {
      "application/vnd.plotly.v1+json": {
       "config": {
        "plotlyServerURL": "https://plot.ly"
       },
       "data": [
        {
         "hovertemplate": "%{y}",
         "legendgroup": "JOE",
         "line": {
          "color": "#636efa",
          "dash": "solid"
         },
         "marker": {
          "symbol": "circle"
         },
         "mode": "lines",
         "name": "JOE",
         "orientation": "v",
         "showlegend": true,
         "type": "scatter",
         "x": [
          "2022-03-04T00:00:00",
          "2022-03-05T00:00:00",
          "2022-03-06T00:00:00",
          "2022-03-07T00:00:00",
          "2022-03-08T00:00:00",
          "2022-03-09T00:00:00",
          "2022-03-10T00:00:00",
          "2022-03-11T00:00:00",
          "2022-03-12T00:00:00",
          "2022-03-13T00:00:00",
          "2022-03-14T00:00:00",
          "2022-03-15T00:00:00",
          "2022-03-16T00:00:00",
          "2022-03-17T00:00:00",
          "2022-03-18T00:00:00",
          "2022-03-19T00:00:00",
          "2022-03-20T00:00:00",
          "2022-03-21T00:00:00",
          "2022-03-22T00:00:00",
          "2022-03-23T00:00:00",
          "2022-03-24T00:00:00",
          "2022-03-25T00:00:00",
          "2022-03-26T00:00:00",
          "2022-03-27T00:00:00",
          "2022-03-28T00:00:00",
          "2022-03-29T00:00:00",
          "2022-03-30T00:00:00",
          "2022-03-31T00:00:00",
          "2022-04-01T00:00:00",
          "2022-04-02T00:00:00",
          "2022-04-03T00:00:00",
          "2022-04-04T00:00:00",
          "2022-04-05T00:00:00",
          "2022-04-06T00:00:00",
          "2022-04-07T00:00:00",
          "2022-04-08T00:00:00",
          "2022-04-09T00:00:00",
          "2022-04-10T00:00:00",
          "2022-04-11T00:00:00",
          "2022-04-12T00:00:00",
          "2022-04-13T00:00:00",
          "2022-04-14T00:00:00",
          "2022-04-15T00:00:00",
          "2022-04-16T00:00:00",
          "2022-04-17T00:00:00",
          "2022-04-18T00:00:00",
          "2022-04-19T00:00:00",
          "2022-04-20T00:00:00",
          "2022-04-21T00:00:00",
          "2022-04-22T00:00:00",
          "2022-04-23T00:00:00",
          "2022-04-24T00:00:00",
          "2022-04-25T00:00:00",
          "2022-04-26T00:00:00",
          "2022-04-27T00:00:00",
          "2022-04-28T00:00:00",
          "2022-04-29T00:00:00",
          "2022-04-30T00:00:00",
          "2022-05-01T00:00:00",
          "2022-05-02T00:00:00",
          "2022-05-03T00:00:00",
          "2022-05-04T00:00:00",
          "2022-05-05T00:00:00",
          "2022-05-06T00:00:00",
          "2022-05-07T00:00:00",
          "2022-05-08T00:00:00",
          "2022-05-09T00:00:00",
          "2022-05-10T00:00:00",
          "2022-05-11T00:00:00",
          "2022-05-12T00:00:00",
          "2022-05-13T00:00:00",
          "2022-05-14T00:00:00",
          "2022-05-15T00:00:00",
          "2022-05-16T00:00:00",
          "2022-05-17T00:00:00",
          "2022-05-18T00:00:00",
          "2022-05-19T00:00:00",
          "2022-05-20T00:00:00",
          "2022-05-21T00:00:00",
          "2022-05-22T00:00:00",
          "2022-05-23T00:00:00",
          "2022-05-24T00:00:00",
          "2022-05-25T00:00:00",
          "2022-05-26T00:00:00",
          "2022-05-27T00:00:00",
          "2022-05-28T00:00:00",
          "2022-05-29T00:00:00",
          "2022-05-30T00:00:00",
          "2022-05-31T00:00:00"
         ],
         "xaxis": "x",
         "y": [
          0.678010022092461,
          0.6756009829339158,
          0.6742415219267741,
          0.6797747118619181,
          0.6656837919046702,
          0.6174686845142167,
          0.6124372540605715,
          0.6165549873923472,
          0.6058860555210441,
          0.6142769201428377,
          0.5981348054343115,
          0.6025487964502286,
          0.5965549872826148,
          0.59887715000573,
          0.6028441276142714,
          0.5909344227621983,
          0.5874067899523082,
          0.5874284338692914,
          0.5958069233436879,
          0.5961901734314533,
          0.5846835284921905,
          0.5824267881173266,
          0.5844661371238999,
          0.582619692971508,
          0.5793583616001414,
          0.6006584293446889,
          0.5938917523892742,
          0.6140070818361322,
          0.6069964524853046,
          0.6146130549361695,
          0.6165339051189374,
          0.6292385205260299,
          0.6302557405507586,
          0.6468212830072635,
          0.6330355610626278,
          0.6442758963392649,
          0.6327414886225369,
          0.6421485150936974,
          0.617331861632191,
          0.6042753776054115,
          0.6088672603211709,
          0.5627810002111183,
          0.5412268618901303,
          0.5345182077736264,
          0.5266558934716542,
          0.5239978286288711,
          0.5238561244934942,
          0.5379277378937478,
          0.5385283689610262,
          0.5372940159975725,
          0.5298712932821544,
          0.5180565724611257,
          0.5177154433275852,
          0.5281380529084911,
          0.5191875728952455,
          0.49972705582650445,
          0.49214612541903846,
          0.4874368811963414,
          0.4888450233755112,
          0.4899904267341929,
          0.4968207546001667,
          0.48010346793620456,
          0.48169396267703396,
          0.47530333549636355,
          0.4710286926342161,
          0.4678968861869507,
          0.487057148687774,
          0.46820271724147616,
          0.44901558101018524,
          0.41185996602771713,
          0.4580888027742062,
          0.47168035078872156,
          0.4633188466982673,
          0.4675048357051542,
          0.47239865742382614,
          0.4580394566196309,
          0.45388312323387775,
          0.48850365654988387,
          0.47345119222657633,
          0.4727571874043851,
          0.48171639080147377,
          0.4778564153806797,
          0.4835647338524292,
          0.4866298378939075,
          0.49505712920326755,
          0.4908351921608601,
          0.5298182439604443,
          0.5370222471648785,
          0.5368829688131161
         ],
         "yaxis": "y"
        },
        {
         "hovertemplate": "%{y}",
         "legendgroup": "SAVAX",
         "line": {
          "color": "#EF553B",
          "dash": "solid"
         },
         "marker": {
          "symbol": "circle"
         },
         "mode": "lines",
         "name": "SAVAX",
         "orientation": "v",
         "showlegend": true,
         "type": "scatter",
         "x": [
          "2022-03-04T00:00:00",
          "2022-03-05T00:00:00",
          "2022-03-06T00:00:00",
          "2022-03-07T00:00:00",
          "2022-03-08T00:00:00",
          "2022-03-09T00:00:00",
          "2022-03-10T00:00:00",
          "2022-03-11T00:00:00",
          "2022-03-12T00:00:00",
          "2022-03-13T00:00:00",
          "2022-03-14T00:00:00",
          "2022-03-15T00:00:00",
          "2022-03-16T00:00:00",
          "2022-03-17T00:00:00",
          "2022-03-18T00:00:00",
          "2022-03-19T00:00:00",
          "2022-03-20T00:00:00",
          "2022-03-21T00:00:00",
          "2022-03-22T00:00:00",
          "2022-03-23T00:00:00",
          "2022-03-24T00:00:00",
          "2022-03-25T00:00:00",
          "2022-03-26T00:00:00",
          "2022-03-27T00:00:00",
          "2022-03-28T00:00:00",
          "2022-03-29T00:00:00",
          "2022-03-30T00:00:00",
          "2022-03-31T00:00:00",
          "2022-04-01T00:00:00",
          "2022-04-02T00:00:00",
          "2022-04-03T00:00:00",
          "2022-04-04T00:00:00",
          "2022-04-05T00:00:00",
          "2022-04-06T00:00:00",
          "2022-04-07T00:00:00",
          "2022-04-08T00:00:00",
          "2022-04-09T00:00:00",
          "2022-04-10T00:00:00",
          "2022-04-11T00:00:00",
          "2022-04-12T00:00:00",
          "2022-04-13T00:00:00",
          "2022-04-14T00:00:00",
          "2022-04-15T00:00:00",
          "2022-04-16T00:00:00",
          "2022-04-17T00:00:00",
          "2022-04-18T00:00:00",
          "2022-04-19T00:00:00",
          "2022-04-20T00:00:00",
          "2022-04-21T00:00:00",
          "2022-04-22T00:00:00",
          "2022-04-23T00:00:00",
          "2022-04-24T00:00:00",
          "2022-04-25T00:00:00",
          "2022-04-26T00:00:00",
          "2022-04-27T00:00:00",
          "2022-04-28T00:00:00",
          "2022-04-29T00:00:00",
          "2022-04-30T00:00:00",
          "2022-05-01T00:00:00",
          "2022-05-02T00:00:00",
          "2022-05-03T00:00:00",
          "2022-05-04T00:00:00",
          "2022-05-05T00:00:00",
          "2022-05-06T00:00:00",
          "2022-05-07T00:00:00",
          "2022-05-08T00:00:00",
          "2022-05-09T00:00:00",
          "2022-05-10T00:00:00",
          "2022-05-11T00:00:00",
          "2022-05-12T00:00:00",
          "2022-05-13T00:00:00",
          "2022-05-14T00:00:00",
          "2022-05-15T00:00:00",
          "2022-05-16T00:00:00",
          "2022-05-17T00:00:00",
          "2022-05-18T00:00:00",
          "2022-05-19T00:00:00",
          "2022-05-20T00:00:00",
          "2022-05-21T00:00:00",
          "2022-05-22T00:00:00",
          "2022-05-23T00:00:00",
          "2022-05-24T00:00:00",
          "2022-05-25T00:00:00",
          "2022-05-26T00:00:00",
          "2022-05-27T00:00:00",
          "2022-05-28T00:00:00",
          "2022-05-29T00:00:00",
          "2022-05-30T00:00:00",
          "2022-05-31T00:00:00"
         ],
         "xaxis": "x",
         "y": [
          0.321989977907539,
          0.32439901706608404,
          0.325758478073226,
          0.32022528813808193,
          0.33431620809532964,
          0.3825313154857834,
          0.3875627459394286,
          0.3834450126076529,
          0.394113944478956,
          0.38572307985716225,
          0.40186519456568853,
          0.3974512035497715,
          0.40344501271738525,
          0.40112284999426995,
          0.3971558723857285,
          0.40906557723780174,
          0.4125932100476918,
          0.41257156613070844,
          0.404193076656312,
          0.4038098265685466,
          0.41531647150780954,
          0.41757321188267343,
          0.41553386287609995,
          0.417380307028492,
          0.4206416383998585,
          0.39934157065531106,
          0.40610824761072584,
          0.3859929181638678,
          0.39300354751469535,
          0.3853869450638305,
          0.3834660948810627,
          0.37076147947397003,
          0.36974425944924144,
          0.3531787169927365,
          0.3669644389373722,
          0.3557241036607352,
          0.3672585113774631,
          0.35785148490630253,
          0.382668138367809,
          0.3957246223945885,
          0.3911327396788291,
          0.43721899978888173,
          0.4587731381098698,
          0.4654817922263736,
          0.47334410652834574,
          0.4760021713711289,
          0.4761438755065059,
          0.46207226210625224,
          0.4614716310389739,
          0.46270598400242746,
          0.47012870671784557,
          0.4819434275388743,
          0.4822845566724149,
          0.4718619470915088,
          0.4808124271047544,
          0.5002729441734955,
          0.5078538745809615,
          0.5125631188036586,
          0.5111549766244887,
          0.5100095732658071,
          0.5031792453998333,
          0.5198965320637955,
          0.518306037322966,
          0.5246966645036364,
          0.5289713073657839,
          0.5321031138130492,
          0.5129428513122261,
          0.5317972827585237,
          0.5509844189898148,
          0.5881400339722829,
          0.5419111972257937,
          0.5283196492112784,
          0.5366811533017327,
          0.5324951642948459,
          0.5276013425761737,
          0.541960543380369,
          0.5461168767661223,
          0.5114963434501161,
          0.5265488077734237,
          0.5272428125956149,
          0.5182836091985262,
          0.5221435846193204,
          0.5164352661475708,
          0.5133701621060925,
          0.5049428707967324,
          0.5091648078391399,
          0.4701817560395556,
          0.46297775283512166,
          0.4631170311868838
         ],
         "yaxis": "y"
        }
       ],
       "layout": {
        "autosize": true,
        "hoverdistance": 100,
        "hovermode": "x",
        "legend": {
         "title": {
          "text": ""
         },
         "tracegroupgap": 0
        },
        "margin": {
         "t": 60
        },
        "spikedistance": 1000,
        "template": {
         "data": {
          "bar": [
           {
            "error_x": {
             "color": "#2a3f5f"
            },
            "error_y": {
             "color": "#2a3f5f"
            },
            "marker": {
             "line": {
              "color": "white",
              "width": 0.5
             },
             "pattern": {
              "fillmode": "overlay",
              "size": 10,
              "solidity": 0.2
             }
            },
            "type": "bar"
           }
          ],
          "barpolar": [
           {
            "marker": {
             "line": {
              "color": "white",
              "width": 0.5
             },
             "pattern": {
              "fillmode": "overlay",
              "size": 10,
              "solidity": 0.2
             }
            },
            "type": "barpolar"
           }
          ],
          "carpet": [
           {
            "aaxis": {
             "endlinecolor": "#2a3f5f",
             "gridcolor": "#C8D4E3",
             "linecolor": "#C8D4E3",
             "minorgridcolor": "#C8D4E3",
             "startlinecolor": "#2a3f5f"
            },
            "baxis": {
             "endlinecolor": "#2a3f5f",
             "gridcolor": "#C8D4E3",
             "linecolor": "#C8D4E3",
             "minorgridcolor": "#C8D4E3",
             "startlinecolor": "#2a3f5f"
            },
            "type": "carpet"
           }
          ],
          "choropleth": [
           {
            "colorbar": {
             "outlinewidth": 0,
             "ticks": ""
            },
            "type": "choropleth"
           }
          ],
          "contour": [
           {
            "colorbar": {
             "outlinewidth": 0,
             "ticks": ""
            },
            "colorscale": [
             [
              0,
              "#0d0887"
             ],
             [
              0.1111111111111111,
              "#46039f"
             ],
             [
              0.2222222222222222,
              "#7201a8"
             ],
             [
              0.3333333333333333,
              "#9c179e"
             ],
             [
              0.4444444444444444,
              "#bd3786"
             ],
             [
              0.5555555555555556,
              "#d8576b"
             ],
             [
              0.6666666666666666,
              "#ed7953"
             ],
             [
              0.7777777777777778,
              "#fb9f3a"
             ],
             [
              0.8888888888888888,
              "#fdca26"
             ],
             [
              1,
              "#f0f921"
             ]
            ],
            "type": "contour"
           }
          ],
          "contourcarpet": [
           {
            "colorbar": {
             "outlinewidth": 0,
             "ticks": ""
            },
            "type": "contourcarpet"
           }
          ],
          "heatmap": [
           {
            "colorbar": {
             "outlinewidth": 0,
             "ticks": ""
            },
            "colorscale": [
             [
              0,
              "#0d0887"
             ],
             [
              0.1111111111111111,
              "#46039f"
             ],
             [
              0.2222222222222222,
              "#7201a8"
             ],
             [
              0.3333333333333333,
              "#9c179e"
             ],
             [
              0.4444444444444444,
              "#bd3786"
             ],
             [
              0.5555555555555556,
              "#d8576b"
             ],
             [
              0.6666666666666666,
              "#ed7953"
             ],
             [
              0.7777777777777778,
              "#fb9f3a"
             ],
             [
              0.8888888888888888,
              "#fdca26"
             ],
             [
              1,
              "#f0f921"
             ]
            ],
            "type": "heatmap"
           }
          ],
          "heatmapgl": [
           {
            "colorbar": {
             "outlinewidth": 0,
             "ticks": ""
            },
            "colorscale": [
             [
              0,
              "#0d0887"
             ],
             [
              0.1111111111111111,
              "#46039f"
             ],
             [
              0.2222222222222222,
              "#7201a8"
             ],
             [
              0.3333333333333333,
              "#9c179e"
             ],
             [
              0.4444444444444444,
              "#bd3786"
             ],
             [
              0.5555555555555556,
              "#d8576b"
             ],
             [
              0.6666666666666666,
              "#ed7953"
             ],
             [
              0.7777777777777778,
              "#fb9f3a"
             ],
             [
              0.8888888888888888,
              "#fdca26"
             ],
             [
              1,
              "#f0f921"
             ]
            ],
            "type": "heatmapgl"
           }
          ],
          "histogram": [
           {
            "marker": {
             "pattern": {
              "fillmode": "overlay",
              "size": 10,
              "solidity": 0.2
             }
            },
            "type": "histogram"
           }
          ],
          "histogram2d": [
           {
            "colorbar": {
             "outlinewidth": 0,
             "ticks": ""
            },
            "colorscale": [
             [
              0,
              "#0d0887"
             ],
             [
              0.1111111111111111,
              "#46039f"
             ],
             [
              0.2222222222222222,
              "#7201a8"
             ],
             [
              0.3333333333333333,
              "#9c179e"
             ],
             [
              0.4444444444444444,
              "#bd3786"
             ],
             [
              0.5555555555555556,
              "#d8576b"
             ],
             [
              0.6666666666666666,
              "#ed7953"
             ],
             [
              0.7777777777777778,
              "#fb9f3a"
             ],
             [
              0.8888888888888888,
              "#fdca26"
             ],
             [
              1,
              "#f0f921"
             ]
            ],
            "type": "histogram2d"
           }
          ],
          "histogram2dcontour": [
           {
            "colorbar": {
             "outlinewidth": 0,
             "ticks": ""
            },
            "colorscale": [
             [
              0,
              "#0d0887"
             ],
             [
              0.1111111111111111,
              "#46039f"
             ],
             [
              0.2222222222222222,
              "#7201a8"
             ],
             [
              0.3333333333333333,
              "#9c179e"
             ],
             [
              0.4444444444444444,
              "#bd3786"
             ],
             [
              0.5555555555555556,
              "#d8576b"
             ],
             [
              0.6666666666666666,
              "#ed7953"
             ],
             [
              0.7777777777777778,
              "#fb9f3a"
             ],
             [
              0.8888888888888888,
              "#fdca26"
             ],
             [
              1,
              "#f0f921"
             ]
            ],
            "type": "histogram2dcontour"
           }
          ],
          "mesh3d": [
           {
            "colorbar": {
             "outlinewidth": 0,
             "ticks": ""
            },
            "type": "mesh3d"
           }
          ],
          "parcoords": [
           {
            "line": {
             "colorbar": {
              "outlinewidth": 0,
              "ticks": ""
             }
            },
            "type": "parcoords"
           }
          ],
          "pie": [
           {
            "automargin": true,
            "type": "pie"
           }
          ],
          "scatter": [
           {
            "marker": {
             "colorbar": {
              "outlinewidth": 0,
              "ticks": ""
             }
            },
            "type": "scatter"
           }
          ],
          "scatter3d": [
           {
            "line": {
             "colorbar": {
              "outlinewidth": 0,
              "ticks": ""
             }
            },
            "marker": {
             "colorbar": {
              "outlinewidth": 0,
              "ticks": ""
             }
            },
            "type": "scatter3d"
           }
          ],
          "scattercarpet": [
           {
            "marker": {
             "colorbar": {
              "outlinewidth": 0,
              "ticks": ""
             }
            },
            "type": "scattercarpet"
           }
          ],
          "scattergeo": [
           {
            "marker": {
             "colorbar": {
              "outlinewidth": 0,
              "ticks": ""
             }
            },
            "type": "scattergeo"
           }
          ],
          "scattergl": [
           {
            "marker": {
             "colorbar": {
              "outlinewidth": 0,
              "ticks": ""
             }
            },
            "type": "scattergl"
           }
          ],
          "scattermapbox": [
           {
            "marker": {
             "colorbar": {
              "outlinewidth": 0,
              "ticks": ""
             }
            },
            "type": "scattermapbox"
           }
          ],
          "scatterpolar": [
           {
            "marker": {
             "colorbar": {
              "outlinewidth": 0,
              "ticks": ""
             }
            },
            "type": "scatterpolar"
           }
          ],
          "scatterpolargl": [
           {
            "marker": {
             "colorbar": {
              "outlinewidth": 0,
              "ticks": ""
             }
            },
            "type": "scatterpolargl"
           }
          ],
          "scatterternary": [
           {
            "marker": {
             "colorbar": {
              "outlinewidth": 0,
              "ticks": ""
             }
            },
            "type": "scatterternary"
           }
          ],
          "surface": [
           {
            "colorbar": {
             "outlinewidth": 0,
             "ticks": ""
            },
            "colorscale": [
             [
              0,
              "#0d0887"
             ],
             [
              0.1111111111111111,
              "#46039f"
             ],
             [
              0.2222222222222222,
              "#7201a8"
             ],
             [
              0.3333333333333333,
              "#9c179e"
             ],
             [
              0.4444444444444444,
              "#bd3786"
             ],
             [
              0.5555555555555556,
              "#d8576b"
             ],
             [
              0.6666666666666666,
              "#ed7953"
             ],
             [
              0.7777777777777778,
              "#fb9f3a"
             ],
             [
              0.8888888888888888,
              "#fdca26"
             ],
             [
              1,
              "#f0f921"
             ]
            ],
            "type": "surface"
           }
          ],
          "table": [
           {
            "cells": {
             "fill": {
              "color": "#EBF0F8"
             },
             "line": {
              "color": "white"
             }
            },
            "header": {
             "fill": {
              "color": "#C8D4E3"
             },
             "line": {
              "color": "white"
             }
            },
            "type": "table"
           }
          ]
         },
         "layout": {
          "annotationdefaults": {
           "arrowcolor": "#2a3f5f",
           "arrowhead": 0,
           "arrowwidth": 1
          },
          "autotypenumbers": "strict",
          "coloraxis": {
           "colorbar": {
            "outlinewidth": 0,
            "ticks": ""
           }
          },
          "colorscale": {
           "diverging": [
            [
             0,
             "#8e0152"
            ],
            [
             0.1,
             "#c51b7d"
            ],
            [
             0.2,
             "#de77ae"
            ],
            [
             0.3,
             "#f1b6da"
            ],
            [
             0.4,
             "#fde0ef"
            ],
            [
             0.5,
             "#f7f7f7"
            ],
            [
             0.6,
             "#e6f5d0"
            ],
            [
             0.7,
             "#b8e186"
            ],
            [
             0.8,
             "#7fbc41"
            ],
            [
             0.9,
             "#4d9221"
            ],
            [
             1,
             "#276419"
            ]
           ],
           "sequential": [
            [
             0,
             "#0d0887"
            ],
            [
             0.1111111111111111,
             "#46039f"
            ],
            [
             0.2222222222222222,
             "#7201a8"
            ],
            [
             0.3333333333333333,
             "#9c179e"
            ],
            [
             0.4444444444444444,
             "#bd3786"
            ],
            [
             0.5555555555555556,
             "#d8576b"
            ],
            [
             0.6666666666666666,
             "#ed7953"
            ],
            [
             0.7777777777777778,
             "#fb9f3a"
            ],
            [
             0.8888888888888888,
             "#fdca26"
            ],
            [
             1,
             "#f0f921"
            ]
           ],
           "sequentialminus": [
            [
             0,
             "#0d0887"
            ],
            [
             0.1111111111111111,
             "#46039f"
            ],
            [
             0.2222222222222222,
             "#7201a8"
            ],
            [
             0.3333333333333333,
             "#9c179e"
            ],
            [
             0.4444444444444444,
             "#bd3786"
            ],
            [
             0.5555555555555556,
             "#d8576b"
            ],
            [
             0.6666666666666666,
             "#ed7953"
            ],
            [
             0.7777777777777778,
             "#fb9f3a"
            ],
            [
             0.8888888888888888,
             "#fdca26"
            ],
            [
             1,
             "#f0f921"
            ]
           ]
          },
          "colorway": [
           "#636efa",
           "#EF553B",
           "#00cc96",
           "#ab63fa",
           "#FFA15A",
           "#19d3f3",
           "#FF6692",
           "#B6E880",
           "#FF97FF",
           "#FECB52"
          ],
          "font": {
           "color": "#2a3f5f"
          },
          "geo": {
           "bgcolor": "white",
           "lakecolor": "white",
           "landcolor": "white",
           "showlakes": true,
           "showland": true,
           "subunitcolor": "#C8D4E3"
          },
          "hoverlabel": {
           "align": "left"
          },
          "hovermode": "closest",
          "mapbox": {
           "style": "light"
          },
          "paper_bgcolor": "white",
          "plot_bgcolor": "white",
          "polar": {
           "angularaxis": {
            "gridcolor": "#EBF0F8",
            "linecolor": "#EBF0F8",
            "ticks": ""
           },
           "bgcolor": "white",
           "radialaxis": {
            "gridcolor": "#EBF0F8",
            "linecolor": "#EBF0F8",
            "ticks": ""
           }
          },
          "scene": {
           "xaxis": {
            "backgroundcolor": "white",
            "gridcolor": "#DFE8F3",
            "gridwidth": 2,
            "linecolor": "#EBF0F8",
            "showbackground": true,
            "ticks": "",
            "zerolinecolor": "#EBF0F8"
           },
           "yaxis": {
            "backgroundcolor": "white",
            "gridcolor": "#DFE8F3",
            "gridwidth": 2,
            "linecolor": "#EBF0F8",
            "showbackground": true,
            "ticks": "",
            "zerolinecolor": "#EBF0F8"
           },
           "zaxis": {
            "backgroundcolor": "white",
            "gridcolor": "#DFE8F3",
            "gridwidth": 2,
            "linecolor": "#EBF0F8",
            "showbackground": true,
            "ticks": "",
            "zerolinecolor": "#EBF0F8"
           }
          },
          "shapedefaults": {
           "line": {
            "color": "#2a3f5f"
           }
          },
          "ternary": {
           "aaxis": {
            "gridcolor": "#DFE8F3",
            "linecolor": "#A2B1C6",
            "ticks": ""
           },
           "baxis": {
            "gridcolor": "#DFE8F3",
            "linecolor": "#A2B1C6",
            "ticks": ""
           },
           "bgcolor": "white",
           "caxis": {
            "gridcolor": "#DFE8F3",
            "linecolor": "#A2B1C6",
            "ticks": ""
           }
          },
          "title": {
           "x": 0.05
          },
          "xaxis": {
           "automargin": true,
           "gridcolor": "#EBF0F8",
           "linecolor": "#EBF0F8",
           "ticks": "",
           "title": {
            "standoff": 15
           },
           "zerolinecolor": "#EBF0F8",
           "zerolinewidth": 2
          },
          "yaxis": {
           "automargin": true,
           "gridcolor": "#EBF0F8",
           "linecolor": "#EBF0F8",
           "ticks": "",
           "title": {
            "standoff": 15
           },
           "zerolinecolor": "#EBF0F8",
           "zerolinewidth": 2
          }
         }
        },
        "title": {
         "text": "Weights without max constraint"
        },
        "xaxis": {
         "anchor": "y",
         "autorange": true,
         "domain": [
          0,
          1
         ],
         "range": [
          "2022-03-04",
          "2022-05-31"
         ],
         "showspikes": true,
         "spikecolor": "#999999",
         "spikedash": "dot",
         "spikemode": "across",
         "spikethickness": 2,
         "title": {
          "text": "date"
         },
         "type": "date"
        },
        "yaxis": {
         "anchor": "x",
         "autorange": true,
         "domain": [
          0,
          1
         ],
         "range": [
          0.30025032015342434,
          0.6997496798465757
         ],
         "tickformat": ".2%",
         "title": {
          "text": "weight, %"
         },
         "type": "linear"
        }
       }
      },
      "image/png": "[encoded data removed]",
      "text/html": [
       "<div>                            <div id=\"7b4fc40c-c07c-4d77-8508-abde113c0f0e\" class=\"plotly-graph-div\" style=\"height:525px; width:100%;\"></div>            <script type=\"text/javascript\">                require([\"plotly\"], function(Plotly) {                    window.PLOTLYENV=window.PLOTLYENV || {};                                    if (document.getElementById(\"7b4fc40c-c07c-4d77-8508-abde113c0f0e\")) {                    Plotly.newPlot(                        \"7b4fc40c-c07c-4d77-8508-abde113c0f0e\",                        [{\"hovertemplate\":\"%{y}\",\"legendgroup\":\"JOE\",\"line\":{\"color\":\"#636efa\",\"dash\":\"solid\"},\"marker\":{\"symbol\":\"circle\"},\"mode\":\"lines\",\"name\":\"JOE\",\"orientation\":\"v\",\"showlegend\":true,\"x\":[\"2022-03-04T00:00:00\",\"2022-03-05T00:00:00\",\"2022-03-06T00:00:00\",\"2022-03-07T00:00:00\",\"2022-03-08T00:00:00\",\"2022-03-09T00:00:00\",\"2022-03-10T00:00:00\",\"2022-03-11T00:00:00\",\"2022-03-12T00:00:00\",\"2022-03-13T00:00:00\",\"2022-03-14T00:00:00\",\"2022-03-15T00:00:00\",\"2022-03-16T00:00:00\",\"2022-03-17T00:00:00\",\"2022-03-18T00:00:00\",\"2022-03-19T00:00:00\",\"2022-03-20T00:00:00\",\"2022-03-21T00:00:00\",\"2022-03-22T00:00:00\",\"2022-03-23T00:00:00\",\"2022-03-24T00:00:00\",\"2022-03-25T00:00:00\",\"2022-03-26T00:00:00\",\"2022-03-27T00:00:00\",\"2022-03-28T00:00:00\",\"2022-03-29T00:00:00\",\"2022-03-30T00:00:00\",\"2022-03-31T00:00:00\",\"2022-04-01T00:00:00\",\"2022-04-02T00:00:00\",\"2022-04-03T00:00:00\",\"2022-04-04T00:00:00\",\"2022-04-05T00:00:00\",\"2022-04-06T00:00:00\",\"2022-04-07T00:00:00\",\"2022-04-08T00:00:00\",\"2022-04-09T00:00:00\",\"2022-04-10T00:00:00\",\"2022-04-11T00:00:00\",\"2022-04-12T00:00:00\",\"2022-04-13T00:00:00\",\"2022-04-14T00:00:00\",\"2022-04-15T00:00:00\",\"2022-04-16T00:00:00\",\"2022-04-17T00:00:00\",\"2022-04-18T00:00:00\",\"2022-04-19T00:00:00\",\"2022-04-20T00:00:00\",\"2022-04-21T00:00:00\",\"2022-04-22T00:00:00\",\"2022-04-23T00:00:00\",\"2022-04-24T00:00:00\",\"2022-04-25T00:00:00\",\"2022-04-26T00:00:00\",\"2022-04-27T00:00:00\",\"2022-04-28T00:00:00\",\"2022-04-29T00:00:00\",\"2022-04-30T00:00:00\",\"2022-05-01T00:00:00\",\"2022-05-02T00:00:00\",\"2022-05-03T00:00:00\",\"2022-05-04T00:00:00\",\"2022-05-05T00:00:00\",\"2022-05-06T00:00:00\",\"2022-05-07T00:00:00\",\"2022-05-08T00:00:00\",\"2022-05-09T00:00:00\",\"2022-05-10T00:00:00\",\"2022-05-11T00:00:00\",\"2022-05-12T00:00:00\",\"2022-05-13T00:00:00\",\"2022-05-14T00:00:00\",\"2022-05-15T00:00:00\",\"2022-05-16T00:00:00\",\"2022-05-17T00:00:00\",\"2022-05-18T00:00:00\",\"2022-05-19T00:00:00\",\"2022-05-20T00:00:00\",\"2022-05-21T00:00:00\",\"2022-05-22T00:00:00\",\"2022-05-23T00:00:00\",\"2022-05-24T00:00:00\",\"2022-05-25T00:00:00\",\"2022-05-26T00:00:00\",\"2022-05-27T00:00:00\",\"2022-05-28T00:00:00\",\"2022-05-29T00:00:00\",\"2022-05-30T00:00:00\",\"2022-05-31T00:00:00\"],\"xaxis\":\"x\",\"y\":[0.678010022092461,0.6756009829339158,0.6742415219267741,0.6797747118619181,0.6656837919046702,0.6174686845142167,0.6124372540605715,0.6165549873923472,0.6058860555210441,0.6142769201428377,0.5981348054343115,0.6025487964502286,0.5965549872826148,0.59887715000573,0.6028441276142714,0.5909344227621983,0.5874067899523082,0.5874284338692914,0.5958069233436879,0.5961901734314533,0.5846835284921905,0.5824267881173266,0.5844661371238999,0.582619692971508,0.5793583616001414,0.6006584293446889,0.5938917523892742,0.6140070818361322,0.6069964524853046,0.6146130549361695,0.6165339051189374,0.6292385205260299,0.6302557405507586,0.6468212830072635,0.6330355610626278,0.6442758963392649,0.6327414886225369,0.6421485150936974,0.617331861632191,0.6042753776054115,0.6088672603211709,0.5627810002111183,0.5412268618901303,0.5345182077736264,0.5266558934716542,0.5239978286288711,0.5238561244934942,0.5379277378937478,0.5385283689610262,0.5372940159975725,0.5298712932821544,0.5180565724611257,0.5177154433275852,0.5281380529084911,0.5191875728952455,0.49972705582650445,0.49214612541903846,0.4874368811963414,0.4888450233755112,0.4899904267341929,0.4968207546001667,0.48010346793620456,0.48169396267703396,0.47530333549636355,0.4710286926342161,0.4678968861869507,0.487057148687774,0.46820271724147616,0.44901558101018524,0.41185996602771713,0.4580888027742062,0.47168035078872156,0.4633188466982673,0.4675048357051542,0.47239865742382614,0.4580394566196309,0.45388312323387775,0.48850365654988387,0.47345119222657633,0.4727571874043851,0.48171639080147377,0.4778564153806797,0.4835647338524292,0.4866298378939075,0.49505712920326755,0.4908351921608601,0.5298182439604443,0.5370222471648785,0.5368829688131161],\"yaxis\":\"y\",\"type\":\"scatter\"},{\"hovertemplate\":\"%{y}\",\"legendgroup\":\"SAVAX\",\"line\":{\"color\":\"#EF553B\",\"dash\":\"solid\"},\"marker\":{\"symbol\":\"circle\"},\"mode\":\"lines\",\"name\":\"SAVAX\",\"orientation\":\"v\",\"showlegend\":true,\"x\":[\"2022-03-04T00:00:00\",\"2022-03-05T00:00:00\",\"2022-03-06T00:00:00\",\"2022-03-07T00:00:00\",\"2022-03-08T00:00:00\",\"2022-03-09T00:00:00\",\"2022-03-10T00:00:00\",\"2022-03-11T00:00:00\",\"2022-03-12T00:00:00\",\"2022-03-13T00:00:00\",\"2022-03-14T00:00:00\",\"2022-03-15T00:00:00\",\"2022-03-16T00:00:00\",\"2022-03-17T00:00:00\",\"2022-03-18T00:00:00\",\"2022-03-19T00:00:00\",\"2022-03-20T00:00:00\",\"2022-03-21T00:00:00\",\"2022-03-22T00:00:00\",\"2022-03-23T00:00:00\",\"2022-03-24T00:00:00\",\"2022-03-25T00:00:00\",\"2022-03-26T00:00:00\",\"2022-03-27T00:00:00\",\"2022-03-28T00:00:00\",\"2022-03-29T00:00:00\",\"2022-03-30T00:00:00\",\"2022-03-31T00:00:00\",\"2022-04-01T00:00:00\",\"2022-04-02T00:00:00\",\"2022-04-03T00:00:00\",\"2022-04-04T00:00:00\",\"2022-04-05T00:00:00\",\"2022-04-06T00:00:00\",\"2022-04-07T00:00:00\",\"2022-04-08T00:00:00\",\"2022-04-09T00:00:00\",\"2022-04-10T00:00:00\",\"2022-04-11T00:00:00\",\"2022-04-12T00:00:00\",\"2022-04-13T00:00:00\",\"2022-04-14T00:00:00\",\"2022-04-15T00:00:00\",\"2022-04-16T00:00:00\",\"2022-04-17T00:00:00\",\"2022-04-18T00:00:00\",\"2022-04-19T00:00:00\",\"2022-04-20T00:00:00\",\"2022-04-21T00:00:00\",\"2022-04-22T00:00:00\",\"2022-04-23T00:00:00\",\"2022-04-24T00:00:00\",\"2022-04-25T00:00:00\",\"2022-04-26T00:00:00\",\"2022-04-27T00:00:00\",\"2022-04-28T00:00:00\",\"2022-04-29T00:00:00\",\"2022-04-30T00:00:00\",\"2022-05-01T00:00:00\",\"2022-05-02T00:00:00\",\"2022-05-03T00:00:00\",\"2022-05-04T00:00:00\",\"2022-05-05T00:00:00\",\"2022-05-06T00:00:00\",\"2022-05-07T00:00:00\",\"2022-05-08T00:00:00\",\"2022-05-09T00:00:00\",\"2022-05-10T00:00:00\",\"2022-05-11T00:00:00\",\"2022-05-12T00:00:00\",\"2022-05-13T00:00:00\",\"2022-05-14T00:00:00\",\"2022-05-15T00:00:00\",\"2022-05-16T00:00:00\",\"2022-05-17T00:00:00\",\"2022-05-18T00:00:00\",\"2022-05-19T00:00:00\",\"2022-05-20T00:00:00\",\"2022-05-21T00:00:00\",\"2022-05-22T00:00:00\",\"2022-05-23T00:00:00\",\"2022-05-24T00:00:00\",\"2022-05-25T00:00:00\",\"2022-05-26T00:00:00\",\"2022-05-27T00:00:00\",\"2022-05-28T00:00:00\",\"2022-05-29T00:00:00\",\"2022-05-30T00:00:00\",\"2022-05-31T00:00:00\"],\"xaxis\":\"x\",\"y\":[0.321989977907539,0.32439901706608404,0.325758478073226,0.32022528813808193,0.33431620809532964,0.3825313154857834,0.3875627459394286,0.3834450126076529,0.394113944478956,0.38572307985716225,0.40186519456568853,0.3974512035497715,0.40344501271738525,0.40112284999426995,0.3971558723857285,0.40906557723780174,0.4125932100476918,0.41257156613070844,0.404193076656312,0.4038098265685466,0.41531647150780954,0.41757321188267343,0.41553386287609995,0.417380307028492,0.4206416383998585,0.39934157065531106,0.40610824761072584,0.3859929181638678,0.39300354751469535,0.3853869450638305,0.3834660948810627,0.37076147947397003,0.36974425944924144,0.3531787169927365,0.3669644389373722,0.3557241036607352,0.3672585113774631,0.35785148490630253,0.382668138367809,0.3957246223945885,0.3911327396788291,0.43721899978888173,0.4587731381098698,0.4654817922263736,0.47334410652834574,0.4760021713711289,0.4761438755065059,0.46207226210625224,0.4614716310389739,0.46270598400242746,0.47012870671784557,0.4819434275388743,0.4822845566724149,0.4718619470915088,0.4808124271047544,0.5002729441734955,0.5078538745809615,0.5125631188036586,0.5111549766244887,0.5100095732658071,0.5031792453998333,0.5198965320637955,0.518306037322966,0.5246966645036364,0.5289713073657839,0.5321031138130492,0.5129428513122261,0.5317972827585237,0.5509844189898148,0.5881400339722829,0.5419111972257937,0.5283196492112784,0.5366811533017327,0.5324951642948459,0.5276013425761737,0.541960543380369,0.5461168767661223,0.5114963434501161,0.5265488077734237,0.5272428125956149,0.5182836091985262,0.5221435846193204,0.5164352661475708,0.5133701621060925,0.5049428707967324,0.5091648078391399,0.4701817560395556,0.46297775283512166,0.4631170311868838],\"yaxis\":\"y\",\"type\":\"scatter\"}],                        {\"template\":{\"data\":{\"barpolar\":[{\"marker\":{\"line\":{\"color\":\"white\",\"width\":0.5},\"pattern\":{\"fillmode\":\"overlay\",\"size\":10,\"solidity\":0.2}},\"type\":\"barpolar\"}],\"bar\":[{\"error_x\":{\"color\":\"#2a3f5f\"},\"error_y\":{\"color\":\"#2a3f5f\"},\"marker\":{\"line\":{\"color\":\"white\",\"width\":0.5},\"pattern\":{\"fillmode\":\"overlay\",\"size\":10,\"solidity\":0.2}},\"type\":\"bar\"}],\"carpet\":[{\"aaxis\":{\"endlinecolor\":\"#2a3f5f\",\"gridcolor\":\"#C8D4E3\",\"linecolor\":\"#C8D4E3\",\"minorgridcolor\":\"#C8D4E3\",\"startlinecolor\":\"#2a3f5f\"},\"baxis\":{\"endlinecolor\":\"#2a3f5f\",\"gridcolor\":\"#C8D4E3\",\"linecolor\":\"#C8D4E3\",\"minorgridcolor\":\"#C8D4E3\",\"startlinecolor\":\"#2a3f5f\"},\"type\":\"carpet\"}],\"choropleth\":[{\"colorbar\":{\"outlinewidth\":0,\"ticks\":\"\"},\"type\":\"choropleth\"}],\"contourcarpet\":[{\"colorbar\":{\"outlinewidth\":0,\"ticks\":\"\"},\"type\":\"contourcarpet\"}],\"contour\":[{\"colorbar\":{\"outlinewidth\":0,\"ticks\":\"\"},\"colorscale\":[[0.0,\"#0d0887\"],[0.1111111111111111,\"#46039f\"],[0.2222222222222222,\"#7201a8\"],[0.3333333333333333,\"#9c179e\"],[0.4444444444444444,\"#bd3786\"],[0.5555555555555556,\"#d8576b\"],[0.6666666666666666,\"#ed7953\"],[0.7777777777777778,\"#fb9f3a\"],[0.8888888888888888,\"#fdca26\"],[1.0,\"#f0f921\"]],\"type\":\"contour\"}],\"heatmapgl\":[{\"colorbar\":{\"outlinewidth\":0,\"ticks\":\"\"},\"colorscale\":[[0.0,\"#0d0887\"],[0.1111111111111111,\"#46039f\"],[0.2222222222222222,\"#7201a8\"],[0.3333333333333333,\"#9c179e\"],[0.4444444444444444,\"#bd3786\"],[0.5555555555555556,\"#d8576b\"],[0.6666666666666666,\"#ed7953\"],[0.7777777777777778,\"#fb9f3a\"],[0.8888888888888888,\"#fdca26\"],[1.0,\"#f0f921\"]],\"type\":\"heatmapgl\"}],\"heatmap\":[{\"colorbar\":{\"outlinewidth\":0,\"ticks\":\"\"},\"colorscale\":[[0.0,\"#0d0887\"],[0.1111111111111111,\"#46039f\"],[0.2222222222222222,\"#7201a8\"],[0.3333333333333333,\"#9c179e\"],[0.4444444444444444,\"#bd3786\"],[0.5555555555555556,\"#d8576b\"],[0.6666666666666666,\"#ed7953\"],[0.7777777777777778,\"#fb9f3a\"],[0.8888888888888888,\"#fdca26\"],[1.0,\"#f0f921\"]],\"type\":\"heatmap\"}],\"histogram2dcontour\":[{\"colorbar\":{\"outlinewidth\":0,\"ticks\":\"\"},\"colorscale\":[[0.0,\"#0d0887\"],[0.1111111111111111,\"#46039f\"],[0.2222222222222222,\"#7201a8\"],[0.3333333333333333,\"#9c179e\"],[0.4444444444444444,\"#bd3786\"],[0.5555555555555556,\"#d8576b\"],[0.6666666666666666,\"#ed7953\"],[0.7777777777777778,\"#fb9f3a\"],[0.8888888888888888,\"#fdca26\"],[1.0,\"#f0f921\"]],\"type\":\"histogram2dcontour\"}],\"histogram2d\":[{\"colorbar\":{\"outlinewidth\":0,\"ticks\":\"\"},\"colorscale\":[[0.0,\"#0d0887\"],[0.1111111111111111,\"#46039f\"],[0.2222222222222222,\"#7201a8\"],[0.3333333333333333,\"#9c179e\"],[0.4444444444444444,\"#bd3786\"],[0.5555555555555556,\"#d8576b\"],[0.6666666666666666,\"#ed7953\"],[0.7777777777777778,\"#fb9f3a\"],[0.8888888888888888,\"#fdca26\"],[1.0,\"#f0f921\"]],\"type\":\"histogram2d\"}],\"histogram\":[{\"marker\":{\"pattern\":{\"fillmode\":\"overlay\",\"size\":10,\"solidity\":0.2}},\"type\":\"histogram\"}],\"mesh3d\":[{\"colorbar\":{\"outlinewidth\":0,\"ticks\":\"\"},\"type\":\"mesh3d\"}],\"parcoords\":[{\"line\":{\"colorbar\":{\"outlinewidth\":0,\"ticks\":\"\"}},\"type\":\"parcoords\"}],\"pie\":[{\"automargin\":true,\"type\":\"pie\"}],\"scatter3d\":[{\"line\":{\"colorbar\":{\"outlinewidth\":0,\"ticks\":\"\"}},\"marker\":{\"colorbar\":{\"outlinewidth\":0,\"ticks\":\"\"}},\"type\":\"scatter3d\"}],\"scattercarpet\":[{\"marker\":{\"colorbar\":{\"outlinewidth\":0,\"ticks\":\"\"}},\"type\":\"scattercarpet\"}],\"scattergeo\":[{\"marker\":{\"colorbar\":{\"outlinewidth\":0,\"ticks\":\"\"}},\"type\":\"scattergeo\"}],\"scattergl\":[{\"marker\":{\"colorbar\":{\"outlinewidth\":0,\"ticks\":\"\"}},\"type\":\"scattergl\"}],\"scattermapbox\":[{\"marker\":{\"colorbar\":{\"outlinewidth\":0,\"ticks\":\"\"}},\"type\":\"scattermapbox\"}],\"scatterpolargl\":[{\"marker\":{\"colorbar\":{\"outlinewidth\":0,\"ticks\":\"\"}},\"type\":\"scatterpolargl\"}],\"scatterpolar\":[{\"marker\":{\"colorbar\":{\"outlinewidth\":0,\"ticks\":\"\"}},\"type\":\"scatterpolar\"}],\"scatter\":[{\"marker\":{\"colorbar\":{\"outlinewidth\":0,\"ticks\":\"\"}},\"type\":\"scatter\"}],\"scatterternary\":[{\"marker\":{\"colorbar\":{\"outlinewidth\":0,\"ticks\":\"\"}},\"type\":\"scatterternary\"}],\"surface\":[{\"colorbar\":{\"outlinewidth\":0,\"ticks\":\"\"},\"colorscale\":[[0.0,\"#0d0887\"],[0.1111111111111111,\"#46039f\"],[0.2222222222222222,\"#7201a8\"],[0.3333333333333333,\"#9c179e\"],[0.4444444444444444,\"#bd3786\"],[0.5555555555555556,\"#d8576b\"],[0.6666666666666666,\"#ed7953\"],[0.7777777777777778,\"#fb9f3a\"],[0.8888888888888888,\"#fdca26\"],[1.0,\"#f0f921\"]],\"type\":\"surface\"}],\"table\":[{\"cells\":{\"fill\":{\"color\":\"#EBF0F8\"},\"line\":{\"color\":\"white\"}},\"header\":{\"fill\":{\"color\":\"#C8D4E3\"},\"line\":{\"color\":\"white\"}},\"type\":\"table\"}]},\"layout\":{\"annotationdefaults\":{\"arrowcolor\":\"#2a3f5f\",\"arrowhead\":0,\"arrowwidth\":1},\"autotypenumbers\":\"strict\",\"coloraxis\":{\"colorbar\":{\"outlinewidth\":0,\"ticks\":\"\"}},\"colorscale\":{\"diverging\":[[0,\"#8e0152\"],[0.1,\"#c51b7d\"],[0.2,\"#de77ae\"],[0.3,\"#f1b6da\"],[0.4,\"#fde0ef\"],[0.5,\"#f7f7f7\"],[0.6,\"#e6f5d0\"],[0.7,\"#b8e186\"],[0.8,\"#7fbc41\"],[0.9,\"#4d9221\"],[1,\"#276419\"]],\"sequential\":[[0.0,\"#0d0887\"],[0.1111111111111111,\"#46039f\"],[0.2222222222222222,\"#7201a8\"],[0.3333333333333333,\"#9c179e\"],[0.4444444444444444,\"#bd3786\"],[0.5555555555555556,\"#d8576b\"],[0.6666666666666666,\"#ed7953\"],[0.7777777777777778,\"#fb9f3a\"],[0.8888888888888888,\"#fdca26\"],[1.0,\"#f0f921\"]],\"sequentialminus\":[[0.0,\"#0d0887\"],[0.1111111111111111,\"#46039f\"],[0.2222222222222222,\"#7201a8\"],[0.3333333333333333,\"#9c179e\"],[0.4444444444444444,\"#bd3786\"],[0.5555555555555556,\"#d8576b\"],[0.6666666666666666,\"#ed7953\"],[0.7777777777777778,\"#fb9f3a\"],[0.8888888888888888,\"#fdca26\"],[1.0,\"#f0f921\"]]},\"colorway\":[\"#636efa\",\"#EF553B\",\"#00cc96\",\"#ab63fa\",\"#FFA15A\",\"#19d3f3\",\"#FF6692\",\"#B6E880\",\"#FF97FF\",\"#FECB52\"],\"font\":{\"color\":\"#2a3f5f\"},\"geo\":{\"bgcolor\":\"white\",\"lakecolor\":\"white\",\"landcolor\":\"white\",\"showlakes\":true,\"showland\":true,\"subunitcolor\":\"#C8D4E3\"},\"hoverlabel\":{\"align\":\"left\"},\"hovermode\":\"closest\",\"mapbox\":{\"style\":\"light\"},\"paper_bgcolor\":\"white\",\"plot_bgcolor\":\"white\",\"polar\":{\"angularaxis\":{\"gridcolor\":\"#EBF0F8\",\"linecolor\":\"#EBF0F8\",\"ticks\":\"\"},\"bgcolor\":\"white\",\"radialaxis\":{\"gridcolor\":\"#EBF0F8\",\"linecolor\":\"#EBF0F8\",\"ticks\":\"\"}},\"scene\":{\"xaxis\":{\"backgroundcolor\":\"white\",\"gridcolor\":\"#DFE8F3\",\"gridwidth\":2,\"linecolor\":\"#EBF0F8\",\"showbackground\":true,\"ticks\":\"\",\"zerolinecolor\":\"#EBF0F8\"},\"yaxis\":{\"backgroundcolor\":\"white\",\"gridcolor\":\"#DFE8F3\",\"gridwidth\":2,\"linecolor\":\"#EBF0F8\",\"showbackground\":true,\"ticks\":\"\",\"zerolinecolor\":\"#EBF0F8\"},\"zaxis\":{\"backgroundcolor\":\"white\",\"gridcolor\":\"#DFE8F3\",\"gridwidth\":2,\"linecolor\":\"#EBF0F8\",\"showbackground\":true,\"ticks\":\"\",\"zerolinecolor\":\"#EBF0F8\"}},\"shapedefaults\":{\"line\":{\"color\":\"#2a3f5f\"}},\"ternary\":{\"aaxis\":{\"gridcolor\":\"#DFE8F3\",\"linecolor\":\"#A2B1C6\",\"ticks\":\"\"},\"baxis\":{\"gridcolor\":\"#DFE8F3\",\"linecolor\":\"#A2B1C6\",\"ticks\":\"\"},\"bgcolor\":\"white\",\"caxis\":{\"gridcolor\":\"#DFE8F3\",\"linecolor\":\"#A2B1C6\",\"ticks\":\"\"}},\"title\":{\"x\":0.05},\"xaxis\":{\"automargin\":true,\"gridcolor\":\"#EBF0F8\",\"linecolor\":\"#EBF0F8\",\"ticks\":\"\",\"title\":{\"standoff\":15},\"zerolinecolor\":\"#EBF0F8\",\"zerolinewidth\":2},\"yaxis\":{\"automargin\":true,\"gridcolor\":\"#EBF0F8\",\"linecolor\":\"#EBF0F8\",\"ticks\":\"\",\"title\":{\"standoff\":15},\"zerolinecolor\":\"#EBF0F8\",\"zerolinewidth\":2}}},\"xaxis\":{\"anchor\":\"y\",\"domain\":[0.0,1.0],\"title\":{\"text\":\"date\"},\"showspikes\":true,\"spikethickness\":2,\"spikedash\":\"dot\",\"spikecolor\":\"#999999\",\"spikemode\":\"across\"},\"yaxis\":{\"anchor\":\"x\",\"domain\":[0.0,1.0],\"title\":{\"text\":\"weight, %\"},\"tickformat\":\".2%\"},\"legend\":{\"title\":{\"text\":\"\"},\"tracegroupgap\":0},\"margin\":{\"t\":60},\"hovermode\":\"x\",\"hoverdistance\":100,\"spikedistance\":1000,\"title\":{\"text\":\"Weights without max constraint\"}},                        {\"responsive\": true}                    ).then(function(){\n",
       "                            \n",
       "var gd = document.getElementById('7b4fc40c-c07c-4d77-8508-abde113c0f0e');\n",
       "var x = new MutationObserver(function (mutations, observer) {{\n",
       "        var display = window.getComputedStyle(gd).display;\n",
       "        if (!display || display === 'none') {{\n",
       "            console.log([gd, 'removed!']);\n",
       "            Plotly.purge(gd);\n",
       "            observer.disconnect();\n",
       "        }}\n",
       "}});\n",
       "\n",
       "// Listen for the removal of the full notebook cells\n",
       "var notebookContainer = gd.closest('#notebook-container');\n",
       "if (notebookContainer) {{\n",
       "    x.observe(notebookContainer, {childList: true});\n",
       "}}\n",
       "\n",
       "// Listen for the clearing of the current output cell\n",
       "var outputEl = gd.closest('.output');\n",
       "if (outputEl) {{\n",
       "    x.observe(outputEl, {childList: true});\n",
       "}}\n",
       "\n",
       "                        })                };                });            </script>        </div>"
      ]
     },
     "metadata": {},
     "output_type": "display_data"
    }
   ],
   "source": [
    "fig = px.line(weights,\n",
    "              labels={'value': 'weight, %', 'variable': ''})\n",
    "fig.update_traces(\n",
    "    hovertemplate=\"%{y}\"\n",
    ")\n",
    "fig.update_yaxes(\n",
    "    tickformat=\".2%\",\n",
    ")\n",
    "fig.update_xaxes(\n",
    "    showspikes=True,\n",
    "    spikethickness=2,\n",
    "    spikedash=\"dot\",\n",
    "    spikecolor=\"#999999\",\n",
    "    spikemode=\"across\",\n",
    ")\n",
    "fig.update_layout(\n",
    "    ## showlegend=False,\n",
    "    hovermode=\"x\",\n",
    "    hoverdistance=100,  ## Distance to show hover label of data point\n",
    "    spikedistance=1000,  ## Distance to show spike\n",
    "    template='plotly_white',\n",
    "    title='Weights without max constraint'\n",
    ")"
   ]
  },
  {
   "cell_type": "code",
   "execution_count": 118,
   "id": "3ecde2b2-feb3-421f-b673-4375458f7c72",
   "metadata": {},
   "outputs": [
    {
     "data": {
      "text/html": [
       "<div>\n",
       "<style scoped>\n",
       "    .dataframe tbody tr th:only-of-type {\n",
       "        vertical-align: middle;\n",
       "    }\n",
       "\n",
       "    .dataframe tbody tr th {\n",
       "        vertical-align: top;\n",
       "    }\n",
       "\n",
       "    .dataframe thead th {\n",
       "        text-align: right;\n",
       "    }\n",
       "</style>\n",
       "<table border=\"1\" class=\"dataframe\">\n",
       "  <thead>\n",
       "    <tr style=\"text-align: right;\">\n",
       "      <th></th>\n",
       "      <th>JOE</th>\n",
       "      <th>SAVAX</th>\n",
       "    </tr>\n",
       "    <tr>\n",
       "      <th>date</th>\n",
       "      <th></th>\n",
       "      <th></th>\n",
       "    </tr>\n",
       "  </thead>\n",
       "  <tbody>\n",
       "    <tr>\n",
       "      <th>2022-03-04</th>\n",
       "      <td>0.678010</td>\n",
       "      <td>0.321990</td>\n",
       "    </tr>\n",
       "    <tr>\n",
       "      <th>2022-03-05</th>\n",
       "      <td>0.675601</td>\n",
       "      <td>0.324399</td>\n",
       "    </tr>\n",
       "    <tr>\n",
       "      <th>2022-03-06</th>\n",
       "      <td>0.674242</td>\n",
       "      <td>0.325758</td>\n",
       "    </tr>\n",
       "    <tr>\n",
       "      <th>2022-03-07</th>\n",
       "      <td>0.679775</td>\n",
       "      <td>0.320225</td>\n",
       "    </tr>\n",
       "    <tr>\n",
       "      <th>2022-03-08</th>\n",
       "      <td>0.665684</td>\n",
       "      <td>0.334316</td>\n",
       "    </tr>\n",
       "    <tr>\n",
       "      <th>...</th>\n",
       "      <td>...</td>\n",
       "      <td>...</td>\n",
       "    </tr>\n",
       "    <tr>\n",
       "      <th>2022-05-27</th>\n",
       "      <td>0.495057</td>\n",
       "      <td>0.504943</td>\n",
       "    </tr>\n",
       "    <tr>\n",
       "      <th>2022-05-28</th>\n",
       "      <td>0.490835</td>\n",
       "      <td>0.509165</td>\n",
       "    </tr>\n",
       "    <tr>\n",
       "      <th>2022-05-29</th>\n",
       "      <td>0.529818</td>\n",
       "      <td>0.470182</td>\n",
       "    </tr>\n",
       "    <tr>\n",
       "      <th>2022-05-30</th>\n",
       "      <td>0.537022</td>\n",
       "      <td>0.462978</td>\n",
       "    </tr>\n",
       "    <tr>\n",
       "      <th>2022-05-31</th>\n",
       "      <td>0.536883</td>\n",
       "      <td>0.463117</td>\n",
       "    </tr>\n",
       "  </tbody>\n",
       "</table>\n",
       "<p>89 rows × 2 columns</p>\n",
       "</div>"
      ],
      "text/plain": [
       "                 JOE     SAVAX\n",
       "date                          \n",
       "2022-03-04  0.678010  0.321990\n",
       "2022-03-05  0.675601  0.324399\n",
       "2022-03-06  0.674242  0.325758\n",
       "2022-03-07  0.679775  0.320225\n",
       "2022-03-08  0.665684  0.334316\n",
       "...              ...       ...\n",
       "2022-05-27  0.495057  0.504943\n",
       "2022-05-28  0.490835  0.509165\n",
       "2022-05-29  0.529818  0.470182\n",
       "2022-05-30  0.537022  0.462978\n",
       "2022-05-31  0.536883  0.463117\n",
       "\n",
       "[89 rows x 2 columns]"
      ]
     },
     "execution_count": 118,
     "metadata": {},
     "output_type": "execute_result"
    }
   ],
   "source": [
    "weights"
   ]
  },
  {
   "cell_type": "markdown",
   "id": "ea071e7f-8974-4b5d-9d03-1a56a62e7dd8",
   "metadata": {},
   "source": [
    "### Adjust weights"
   ]
  },
  {
   "cell_type": "code",
   "execution_count": 119,
   "id": "c9ed3d4c-278f-455f-a7a3-cfad20b083cd",
   "metadata": {},
   "outputs": [],
   "source": [
    "adjusted_weights = weights.apply(adjust_weights, args=[0.5], axis=1)\n",
    "adjusted_weights = adjusted_weights.loc[:, adjusted_weights.iloc[-1] > 0.005]"
   ]
  },
  {
   "cell_type": "code",
   "execution_count": 120,
   "id": "94496cf0-b786-474f-b71d-b1d0751cc3c5",
   "metadata": {},
   "outputs": [
    {
     "name": "stderr",
     "output_type": "stream",
     "text": [
      "/home/evgeniy/.local/lib/python3.10/site-packages/plotly/io/_renderers.py:396: DeprecationWarning:\n",
      "\n",
      "distutils Version classes are deprecated. Use packaging.version instead.\n",
      "\n"
     ]
    },
    {
     "data": {
      "application/vnd.plotly.v1+json": {
       "config": {
        "plotlyServerURL": "https://plot.ly"
       },
       "data": [
        {
         "hovertemplate": "%{y}",
         "legendgroup": "JOE",
         "line": {
          "color": "#636efa",
          "dash": "solid"
         },
         "marker": {
          "symbol": "circle"
         },
         "mode": "lines",
         "name": "JOE",
         "orientation": "v",
         "showlegend": true,
         "type": "scatter",
         "x": [
          "2022-03-04T00:00:00",
          "2022-03-05T00:00:00",
          "2022-03-06T00:00:00",
          "2022-03-07T00:00:00",
          "2022-03-08T00:00:00",
          "2022-03-09T00:00:00",
          "2022-03-10T00:00:00",
          "2022-03-11T00:00:00",
          "2022-03-12T00:00:00",
          "2022-03-13T00:00:00",
          "2022-03-14T00:00:00",
          "2022-03-15T00:00:00",
          "2022-03-16T00:00:00",
          "2022-03-17T00:00:00",
          "2022-03-18T00:00:00",
          "2022-03-19T00:00:00",
          "2022-03-20T00:00:00",
          "2022-03-21T00:00:00",
          "2022-03-22T00:00:00",
          "2022-03-23T00:00:00",
          "2022-03-24T00:00:00",
          "2022-03-25T00:00:00",
          "2022-03-26T00:00:00",
          "2022-03-27T00:00:00",
          "2022-03-28T00:00:00",
          "2022-03-29T00:00:00",
          "2022-03-30T00:00:00",
          "2022-03-31T00:00:00",
          "2022-04-01T00:00:00",
          "2022-04-02T00:00:00",
          "2022-04-03T00:00:00",
          "2022-04-04T00:00:00",
          "2022-04-05T00:00:00",
          "2022-04-06T00:00:00",
          "2022-04-07T00:00:00",
          "2022-04-08T00:00:00",
          "2022-04-09T00:00:00",
          "2022-04-10T00:00:00",
          "2022-04-11T00:00:00",
          "2022-04-12T00:00:00",
          "2022-04-13T00:00:00",
          "2022-04-14T00:00:00",
          "2022-04-15T00:00:00",
          "2022-04-16T00:00:00",
          "2022-04-17T00:00:00",
          "2022-04-18T00:00:00",
          "2022-04-19T00:00:00",
          "2022-04-20T00:00:00",
          "2022-04-21T00:00:00",
          "2022-04-22T00:00:00",
          "2022-04-23T00:00:00",
          "2022-04-24T00:00:00",
          "2022-04-25T00:00:00",
          "2022-04-26T00:00:00",
          "2022-04-27T00:00:00",
          "2022-04-28T00:00:00",
          "2022-04-29T00:00:00",
          "2022-04-30T00:00:00",
          "2022-05-01T00:00:00",
          "2022-05-02T00:00:00",
          "2022-05-03T00:00:00",
          "2022-05-04T00:00:00",
          "2022-05-05T00:00:00",
          "2022-05-06T00:00:00",
          "2022-05-07T00:00:00",
          "2022-05-08T00:00:00",
          "2022-05-09T00:00:00",
          "2022-05-10T00:00:00",
          "2022-05-11T00:00:00",
          "2022-05-12T00:00:00",
          "2022-05-13T00:00:00",
          "2022-05-14T00:00:00",
          "2022-05-15T00:00:00",
          "2022-05-16T00:00:00",
          "2022-05-17T00:00:00",
          "2022-05-18T00:00:00",
          "2022-05-19T00:00:00",
          "2022-05-20T00:00:00",
          "2022-05-21T00:00:00",
          "2022-05-22T00:00:00",
          "2022-05-23T00:00:00",
          "2022-05-24T00:00:00",
          "2022-05-25T00:00:00",
          "2022-05-26T00:00:00",
          "2022-05-27T00:00:00",
          "2022-05-28T00:00:00",
          "2022-05-29T00:00:00",
          "2022-05-30T00:00:00",
          "2022-05-31T00:00:00"
         ],
         "xaxis": "x",
         "y": [
          0.5,
          0.5,
          0.5,
          0.5,
          0.5,
          0.5,
          0.5,
          0.5,
          0.5,
          0.5,
          0.5,
          0.5,
          0.5,
          0.5,
          0.5,
          0.5,
          0.5,
          0.5,
          0.5,
          0.5,
          0.5,
          0.5,
          0.5,
          0.5,
          0.5,
          0.5,
          0.5,
          0.5,
          0.5,
          0.5,
          0.5,
          0.5,
          0.5,
          0.5,
          0.5,
          0.5,
          0.5,
          0.5,
          0.5,
          0.5,
          0.5,
          0.5,
          0.5,
          0.5,
          0.5,
          0.5,
          0.5,
          0.5,
          0.5,
          0.5,
          0.5,
          0.5,
          0.5,
          0.5,
          0.5,
          0.5,
          0.5,
          0.49999999999999994,
          0.49999999999999994,
          0.5,
          0.5,
          0.5,
          0.49999999999999994,
          0.49999999999999994,
          0.5,
          0.4999999999999999,
          0.5,
          0.49999999999999983,
          0.5,
          0.5,
          0.49999999999999994,
          0.49999999999999994,
          0.5,
          0.5,
          0.4999999999999999,
          0.49999999999999994,
          0.5,
          0.49999999999999994,
          0.5,
          0.5,
          0.5,
          0.5,
          0.5,
          0.5,
          0.49999999999999994,
          0.49999999999999994,
          0.5,
          0.5,
          0.5
         ],
         "yaxis": "y"
        },
        {
         "hovertemplate": "%{y}",
         "legendgroup": "SAVAX",
         "line": {
          "color": "#EF553B",
          "dash": "solid"
         },
         "marker": {
          "symbol": "circle"
         },
         "mode": "lines",
         "name": "SAVAX",
         "orientation": "v",
         "showlegend": true,
         "type": "scatter",
         "x": [
          "2022-03-04T00:00:00",
          "2022-03-05T00:00:00",
          "2022-03-06T00:00:00",
          "2022-03-07T00:00:00",
          "2022-03-08T00:00:00",
          "2022-03-09T00:00:00",
          "2022-03-10T00:00:00",
          "2022-03-11T00:00:00",
          "2022-03-12T00:00:00",
          "2022-03-13T00:00:00",
          "2022-03-14T00:00:00",
          "2022-03-15T00:00:00",
          "2022-03-16T00:00:00",
          "2022-03-17T00:00:00",
          "2022-03-18T00:00:00",
          "2022-03-19T00:00:00",
          "2022-03-20T00:00:00",
          "2022-03-21T00:00:00",
          "2022-03-22T00:00:00",
          "2022-03-23T00:00:00",
          "2022-03-24T00:00:00",
          "2022-03-25T00:00:00",
          "2022-03-26T00:00:00",
          "2022-03-27T00:00:00",
          "2022-03-28T00:00:00",
          "2022-03-29T00:00:00",
          "2022-03-30T00:00:00",
          "2022-03-31T00:00:00",
          "2022-04-01T00:00:00",
          "2022-04-02T00:00:00",
          "2022-04-03T00:00:00",
          "2022-04-04T00:00:00",
          "2022-04-05T00:00:00",
          "2022-04-06T00:00:00",
          "2022-04-07T00:00:00",
          "2022-04-08T00:00:00",
          "2022-04-09T00:00:00",
          "2022-04-10T00:00:00",
          "2022-04-11T00:00:00",
          "2022-04-12T00:00:00",
          "2022-04-13T00:00:00",
          "2022-04-14T00:00:00",
          "2022-04-15T00:00:00",
          "2022-04-16T00:00:00",
          "2022-04-17T00:00:00",
          "2022-04-18T00:00:00",
          "2022-04-19T00:00:00",
          "2022-04-20T00:00:00",
          "2022-04-21T00:00:00",
          "2022-04-22T00:00:00",
          "2022-04-23T00:00:00",
          "2022-04-24T00:00:00",
          "2022-04-25T00:00:00",
          "2022-04-26T00:00:00",
          "2022-04-27T00:00:00",
          "2022-04-28T00:00:00",
          "2022-04-29T00:00:00",
          "2022-04-30T00:00:00",
          "2022-05-01T00:00:00",
          "2022-05-02T00:00:00",
          "2022-05-03T00:00:00",
          "2022-05-04T00:00:00",
          "2022-05-05T00:00:00",
          "2022-05-06T00:00:00",
          "2022-05-07T00:00:00",
          "2022-05-08T00:00:00",
          "2022-05-09T00:00:00",
          "2022-05-10T00:00:00",
          "2022-05-11T00:00:00",
          "2022-05-12T00:00:00",
          "2022-05-13T00:00:00",
          "2022-05-14T00:00:00",
          "2022-05-15T00:00:00",
          "2022-05-16T00:00:00",
          "2022-05-17T00:00:00",
          "2022-05-18T00:00:00",
          "2022-05-19T00:00:00",
          "2022-05-20T00:00:00",
          "2022-05-21T00:00:00",
          "2022-05-22T00:00:00",
          "2022-05-23T00:00:00",
          "2022-05-24T00:00:00",
          "2022-05-25T00:00:00",
          "2022-05-26T00:00:00",
          "2022-05-27T00:00:00",
          "2022-05-28T00:00:00",
          "2022-05-29T00:00:00",
          "2022-05-30T00:00:00",
          "2022-05-31T00:00:00"
         ],
         "xaxis": "x",
         "y": [
          0.5,
          0.49999999999999983,
          0.5,
          0.5,
          0.49999999999999983,
          0.5,
          0.5,
          0.5,
          0.5,
          0.5,
          0.5,
          0.5,
          0.5,
          0.5,
          0.49999999999999994,
          0.5,
          0.5,
          0.4999999999999999,
          0.4999999999999999,
          0.4999999999999999,
          0.5,
          0.5,
          0.4999999999999999,
          0.49999999999999994,
          0.49999999999999994,
          0.5,
          0.5,
          0.5,
          0.5,
          0.49999999999999994,
          0.5,
          0.49999999999999994,
          0.5,
          0.5,
          0.5,
          0.5,
          0.5,
          0.49999999999999994,
          0.5,
          0.5,
          0.5,
          0.5,
          0.5,
          0.49999999999999994,
          0.49999999999999994,
          0.5,
          0.5,
          0.5,
          0.5,
          0.5,
          0.5,
          0.5,
          0.5,
          0.49999999999999994,
          0.49999999999999994,
          0.5,
          0.5,
          0.5,
          0.5,
          0.5,
          0.5,
          0.5,
          0.5,
          0.5,
          0.5,
          0.5,
          0.5,
          0.5,
          0.5,
          0.5,
          0.5,
          0.5,
          0.5,
          0.5,
          0.5,
          0.5,
          0.5,
          0.5,
          0.5,
          0.5,
          0.5,
          0.5,
          0.5,
          0.5,
          0.5,
          0.5,
          0.4999999999999999,
          0.5,
          0.49999999999999994
         ],
         "yaxis": "y"
        }
       ],
       "layout": {
        "autosize": true,
        "hoverdistance": 100,
        "hovermode": "x",
        "legend": {
         "title": {
          "text": ""
         },
         "tracegroupgap": 0
        },
        "margin": {
         "t": 60
        },
        "spikedistance": 1000,
        "template": {
         "data": {
          "bar": [
           {
            "error_x": {
             "color": "#2a3f5f"
            },
            "error_y": {
             "color": "#2a3f5f"
            },
            "marker": {
             "line": {
              "color": "white",
              "width": 0.5
             },
             "pattern": {
              "fillmode": "overlay",
              "size": 10,
              "solidity": 0.2
             }
            },
            "type": "bar"
           }
          ],
          "barpolar": [
           {
            "marker": {
             "line": {
              "color": "white",
              "width": 0.5
             },
             "pattern": {
              "fillmode": "overlay",
              "size": 10,
              "solidity": 0.2
             }
            },
            "type": "barpolar"
           }
          ],
          "carpet": [
           {
            "aaxis": {
             "endlinecolor": "#2a3f5f",
             "gridcolor": "#C8D4E3",
             "linecolor": "#C8D4E3",
             "minorgridcolor": "#C8D4E3",
             "startlinecolor": "#2a3f5f"
            },
            "baxis": {
             "endlinecolor": "#2a3f5f",
             "gridcolor": "#C8D4E3",
             "linecolor": "#C8D4E3",
             "minorgridcolor": "#C8D4E3",
             "startlinecolor": "#2a3f5f"
            },
            "type": "carpet"
           }
          ],
          "choropleth": [
           {
            "colorbar": {
             "outlinewidth": 0,
             "ticks": ""
            },
            "type": "choropleth"
           }
          ],
          "contour": [
           {
            "colorbar": {
             "outlinewidth": 0,
             "ticks": ""
            },
            "colorscale": [
             [
              0,
              "#0d0887"
             ],
             [
              0.1111111111111111,
              "#46039f"
             ],
             [
              0.2222222222222222,
              "#7201a8"
             ],
             [
              0.3333333333333333,
              "#9c179e"
             ],
             [
              0.4444444444444444,
              "#bd3786"
             ],
             [
              0.5555555555555556,
              "#d8576b"
             ],
             [
              0.6666666666666666,
              "#ed7953"
             ],
             [
              0.7777777777777778,
              "#fb9f3a"
             ],
             [
              0.8888888888888888,
              "#fdca26"
             ],
             [
              1,
              "#f0f921"
             ]
            ],
            "type": "contour"
           }
          ],
          "contourcarpet": [
           {
            "colorbar": {
             "outlinewidth": 0,
             "ticks": ""
            },
            "type": "contourcarpet"
           }
          ],
          "heatmap": [
           {
            "colorbar": {
             "outlinewidth": 0,
             "ticks": ""
            },
            "colorscale": [
             [
              0,
              "#0d0887"
             ],
             [
              0.1111111111111111,
              "#46039f"
             ],
             [
              0.2222222222222222,
              "#7201a8"
             ],
             [
              0.3333333333333333,
              "#9c179e"
             ],
             [
              0.4444444444444444,
              "#bd3786"
             ],
             [
              0.5555555555555556,
              "#d8576b"
             ],
             [
              0.6666666666666666,
              "#ed7953"
             ],
             [
              0.7777777777777778,
              "#fb9f3a"
             ],
             [
              0.8888888888888888,
              "#fdca26"
             ],
             [
              1,
              "#f0f921"
             ]
            ],
            "type": "heatmap"
           }
          ],
          "heatmapgl": [
           {
            "colorbar": {
             "outlinewidth": 0,
             "ticks": ""
            },
            "colorscale": [
             [
              0,
              "#0d0887"
             ],
             [
              0.1111111111111111,
              "#46039f"
             ],
             [
              0.2222222222222222,
              "#7201a8"
             ],
             [
              0.3333333333333333,
              "#9c179e"
             ],
             [
              0.4444444444444444,
              "#bd3786"
             ],
             [
              0.5555555555555556,
              "#d8576b"
             ],
             [
              0.6666666666666666,
              "#ed7953"
             ],
             [
              0.7777777777777778,
              "#fb9f3a"
             ],
             [
              0.8888888888888888,
              "#fdca26"
             ],
             [
              1,
              "#f0f921"
             ]
            ],
            "type": "heatmapgl"
           }
          ],
          "histogram": [
           {
            "marker": {
             "pattern": {
              "fillmode": "overlay",
              "size": 10,
              "solidity": 0.2
             }
            },
            "type": "histogram"
           }
          ],
          "histogram2d": [
           {
            "colorbar": {
             "outlinewidth": 0,
             "ticks": ""
            },
            "colorscale": [
             [
              0,
              "#0d0887"
             ],
             [
              0.1111111111111111,
              "#46039f"
             ],
             [
              0.2222222222222222,
              "#7201a8"
             ],
             [
              0.3333333333333333,
              "#9c179e"
             ],
             [
              0.4444444444444444,
              "#bd3786"
             ],
             [
              0.5555555555555556,
              "#d8576b"
             ],
             [
              0.6666666666666666,
              "#ed7953"
             ],
             [
              0.7777777777777778,
              "#fb9f3a"
             ],
             [
              0.8888888888888888,
              "#fdca26"
             ],
             [
              1,
              "#f0f921"
             ]
            ],
            "type": "histogram2d"
           }
          ],
          "histogram2dcontour": [
           {
            "colorbar": {
             "outlinewidth": 0,
             "ticks": ""
            },
            "colorscale": [
             [
              0,
              "#0d0887"
             ],
             [
              0.1111111111111111,
              "#46039f"
             ],
             [
              0.2222222222222222,
              "#7201a8"
             ],
             [
              0.3333333333333333,
              "#9c179e"
             ],
             [
              0.4444444444444444,
              "#bd3786"
             ],
             [
              0.5555555555555556,
              "#d8576b"
             ],
             [
              0.6666666666666666,
              "#ed7953"
             ],
             [
              0.7777777777777778,
              "#fb9f3a"
             ],
             [
              0.8888888888888888,
              "#fdca26"
             ],
             [
              1,
              "#f0f921"
             ]
            ],
            "type": "histogram2dcontour"
           }
          ],
          "mesh3d": [
           {
            "colorbar": {
             "outlinewidth": 0,
             "ticks": ""
            },
            "type": "mesh3d"
           }
          ],
          "parcoords": [
           {
            "line": {
             "colorbar": {
              "outlinewidth": 0,
              "ticks": ""
             }
            },
            "type": "parcoords"
           }
          ],
          "pie": [
           {
            "automargin": true,
            "type": "pie"
           }
          ],
          "scatter": [
           {
            "marker": {
             "colorbar": {
              "outlinewidth": 0,
              "ticks": ""
             }
            },
            "type": "scatter"
           }
          ],
          "scatter3d": [
           {
            "line": {
             "colorbar": {
              "outlinewidth": 0,
              "ticks": ""
             }
            },
            "marker": {
             "colorbar": {
              "outlinewidth": 0,
              "ticks": ""
             }
            },
            "type": "scatter3d"
           }
          ],
          "scattercarpet": [
           {
            "marker": {
             "colorbar": {
              "outlinewidth": 0,
              "ticks": ""
             }
            },
            "type": "scattercarpet"
           }
          ],
          "scattergeo": [
           {
            "marker": {
             "colorbar": {
              "outlinewidth": 0,
              "ticks": ""
             }
            },
            "type": "scattergeo"
           }
          ],
          "scattergl": [
           {
            "marker": {
             "colorbar": {
              "outlinewidth": 0,
              "ticks": ""
             }
            },
            "type": "scattergl"
           }
          ],
          "scattermapbox": [
           {
            "marker": {
             "colorbar": {
              "outlinewidth": 0,
              "ticks": ""
             }
            },
            "type": "scattermapbox"
           }
          ],
          "scatterpolar": [
           {
            "marker": {
             "colorbar": {
              "outlinewidth": 0,
              "ticks": ""
             }
            },
            "type": "scatterpolar"
           }
          ],
          "scatterpolargl": [
           {
            "marker": {
             "colorbar": {
              "outlinewidth": 0,
              "ticks": ""
             }
            },
            "type": "scatterpolargl"
           }
          ],
          "scatterternary": [
           {
            "marker": {
             "colorbar": {
              "outlinewidth": 0,
              "ticks": ""
             }
            },
            "type": "scatterternary"
           }
          ],
          "surface": [
           {
            "colorbar": {
             "outlinewidth": 0,
             "ticks": ""
            },
            "colorscale": [
             [
              0,
              "#0d0887"
             ],
             [
              0.1111111111111111,
              "#46039f"
             ],
             [
              0.2222222222222222,
              "#7201a8"
             ],
             [
              0.3333333333333333,
              "#9c179e"
             ],
             [
              0.4444444444444444,
              "#bd3786"
             ],
             [
              0.5555555555555556,
              "#d8576b"
             ],
             [
              0.6666666666666666,
              "#ed7953"
             ],
             [
              0.7777777777777778,
              "#fb9f3a"
             ],
             [
              0.8888888888888888,
              "#fdca26"
             ],
             [
              1,
              "#f0f921"
             ]
            ],
            "type": "surface"
           }
          ],
          "table": [
           {
            "cells": {
             "fill": {
              "color": "#EBF0F8"
             },
             "line": {
              "color": "white"
             }
            },
            "header": {
             "fill": {
              "color": "#C8D4E3"
             },
             "line": {
              "color": "white"
             }
            },
            "type": "table"
           }
          ]
         },
         "layout": {
          "annotationdefaults": {
           "arrowcolor": "#2a3f5f",
           "arrowhead": 0,
           "arrowwidth": 1
          },
          "autotypenumbers": "strict",
          "coloraxis": {
           "colorbar": {
            "outlinewidth": 0,
            "ticks": ""
           }
          },
          "colorscale": {
           "diverging": [
            [
             0,
             "#8e0152"
            ],
            [
             0.1,
             "#c51b7d"
            ],
            [
             0.2,
             "#de77ae"
            ],
            [
             0.3,
             "#f1b6da"
            ],
            [
             0.4,
             "#fde0ef"
            ],
            [
             0.5,
             "#f7f7f7"
            ],
            [
             0.6,
             "#e6f5d0"
            ],
            [
             0.7,
             "#b8e186"
            ],
            [
             0.8,
             "#7fbc41"
            ],
            [
             0.9,
             "#4d9221"
            ],
            [
             1,
             "#276419"
            ]
           ],
           "sequential": [
            [
             0,
             "#0d0887"
            ],
            [
             0.1111111111111111,
             "#46039f"
            ],
            [
             0.2222222222222222,
             "#7201a8"
            ],
            [
             0.3333333333333333,
             "#9c179e"
            ],
            [
             0.4444444444444444,
             "#bd3786"
            ],
            [
             0.5555555555555556,
             "#d8576b"
            ],
            [
             0.6666666666666666,
             "#ed7953"
            ],
            [
             0.7777777777777778,
             "#fb9f3a"
            ],
            [
             0.8888888888888888,
             "#fdca26"
            ],
            [
             1,
             "#f0f921"
            ]
           ],
           "sequentialminus": [
            [
             0,
             "#0d0887"
            ],
            [
             0.1111111111111111,
             "#46039f"
            ],
            [
             0.2222222222222222,
             "#7201a8"
            ],
            [
             0.3333333333333333,
             "#9c179e"
            ],
            [
             0.4444444444444444,
             "#bd3786"
            ],
            [
             0.5555555555555556,
             "#d8576b"
            ],
            [
             0.6666666666666666,
             "#ed7953"
            ],
            [
             0.7777777777777778,
             "#fb9f3a"
            ],
            [
             0.8888888888888888,
             "#fdca26"
            ],
            [
             1,
             "#f0f921"
            ]
           ]
          },
          "colorway": [
           "#636efa",
           "#EF553B",
           "#00cc96",
           "#ab63fa",
           "#FFA15A",
           "#19d3f3",
           "#FF6692",
           "#B6E880",
           "#FF97FF",
           "#FECB52"
          ],
          "font": {
           "color": "#2a3f5f"
          },
          "geo": {
           "bgcolor": "white",
           "lakecolor": "white",
           "landcolor": "white",
           "showlakes": true,
           "showland": true,
           "subunitcolor": "#C8D4E3"
          },
          "hoverlabel": {
           "align": "left"
          },
          "hovermode": "closest",
          "mapbox": {
           "style": "light"
          },
          "paper_bgcolor": "white",
          "plot_bgcolor": "white",
          "polar": {
           "angularaxis": {
            "gridcolor": "#EBF0F8",
            "linecolor": "#EBF0F8",
            "ticks": ""
           },
           "bgcolor": "white",
           "radialaxis": {
            "gridcolor": "#EBF0F8",
            "linecolor": "#EBF0F8",
            "ticks": ""
           }
          },
          "scene": {
           "xaxis": {
            "backgroundcolor": "white",
            "gridcolor": "#DFE8F3",
            "gridwidth": 2,
            "linecolor": "#EBF0F8",
            "showbackground": true,
            "ticks": "",
            "zerolinecolor": "#EBF0F8"
           },
           "yaxis": {
            "backgroundcolor": "white",
            "gridcolor": "#DFE8F3",
            "gridwidth": 2,
            "linecolor": "#EBF0F8",
            "showbackground": true,
            "ticks": "",
            "zerolinecolor": "#EBF0F8"
           },
           "zaxis": {
            "backgroundcolor": "white",
            "gridcolor": "#DFE8F3",
            "gridwidth": 2,
            "linecolor": "#EBF0F8",
            "showbackground": true,
            "ticks": "",
            "zerolinecolor": "#EBF0F8"
           }
          },
          "shapedefaults": {
           "line": {
            "color": "#2a3f5f"
           }
          },
          "ternary": {
           "aaxis": {
            "gridcolor": "#DFE8F3",
            "linecolor": "#A2B1C6",
            "ticks": ""
           },
           "baxis": {
            "gridcolor": "#DFE8F3",
            "linecolor": "#A2B1C6",
            "ticks": ""
           },
           "bgcolor": "white",
           "caxis": {
            "gridcolor": "#DFE8F3",
            "linecolor": "#A2B1C6",
            "ticks": ""
           }
          },
          "title": {
           "x": 0.05
          },
          "xaxis": {
           "automargin": true,
           "gridcolor": "#EBF0F8",
           "linecolor": "#EBF0F8",
           "ticks": "",
           "title": {
            "standoff": 15
           },
           "zerolinecolor": "#EBF0F8",
           "zerolinewidth": 2
          },
          "yaxis": {
           "automargin": true,
           "gridcolor": "#EBF0F8",
           "linecolor": "#EBF0F8",
           "ticks": "",
           "title": {
            "standoff": 15
           },
           "zerolinecolor": "#EBF0F8",
           "zerolinewidth": 2
          }
         }
        },
        "title": {
         "text": "Weights with max constraint"
        },
        "xaxis": {
         "anchor": "y",
         "autorange": true,
         "domain": [
          0,
          1
         ],
         "range": [
          "2022-03-04",
          "2022-05-31"
         ],
         "showspikes": true,
         "spikecolor": "#999999",
         "spikedash": "dot",
         "spikemode": "across",
         "spikethickness": 2,
         "title": {
          "text": "date"
         },
         "type": "date"
        },
        "yaxis": {
         "anchor": "x",
         "autorange": true,
         "domain": [
          0,
          1
         ],
         "range": [
          0.49999999999999983,
          0.5
         ],
         "tickformat": ".2%",
         "title": {
          "text": "weight, %"
         },
         "type": "linear"
        }
       }
      },
      "image/png": "[encoded data removed]",
      "text/html": [
       "<div>                            <div id=\"631c4073-8cc7-4a28-afd4-5be3cd039364\" class=\"plotly-graph-div\" style=\"height:525px; width:100%;\"></div>            <script type=\"text/javascript\">                require([\"plotly\"], function(Plotly) {                    window.PLOTLYENV=window.PLOTLYENV || {};                                    if (document.getElementById(\"631c4073-8cc7-4a28-afd4-5be3cd039364\")) {                    Plotly.newPlot(                        \"631c4073-8cc7-4a28-afd4-5be3cd039364\",                        [{\"hovertemplate\":\"%{y}\",\"legendgroup\":\"JOE\",\"line\":{\"color\":\"#636efa\",\"dash\":\"solid\"},\"marker\":{\"symbol\":\"circle\"},\"mode\":\"lines\",\"name\":\"JOE\",\"orientation\":\"v\",\"showlegend\":true,\"x\":[\"2022-03-04T00:00:00\",\"2022-03-05T00:00:00\",\"2022-03-06T00:00:00\",\"2022-03-07T00:00:00\",\"2022-03-08T00:00:00\",\"2022-03-09T00:00:00\",\"2022-03-10T00:00:00\",\"2022-03-11T00:00:00\",\"2022-03-12T00:00:00\",\"2022-03-13T00:00:00\",\"2022-03-14T00:00:00\",\"2022-03-15T00:00:00\",\"2022-03-16T00:00:00\",\"2022-03-17T00:00:00\",\"2022-03-18T00:00:00\",\"2022-03-19T00:00:00\",\"2022-03-20T00:00:00\",\"2022-03-21T00:00:00\",\"2022-03-22T00:00:00\",\"2022-03-23T00:00:00\",\"2022-03-24T00:00:00\",\"2022-03-25T00:00:00\",\"2022-03-26T00:00:00\",\"2022-03-27T00:00:00\",\"2022-03-28T00:00:00\",\"2022-03-29T00:00:00\",\"2022-03-30T00:00:00\",\"2022-03-31T00:00:00\",\"2022-04-01T00:00:00\",\"2022-04-02T00:00:00\",\"2022-04-03T00:00:00\",\"2022-04-04T00:00:00\",\"2022-04-05T00:00:00\",\"2022-04-06T00:00:00\",\"2022-04-07T00:00:00\",\"2022-04-08T00:00:00\",\"2022-04-09T00:00:00\",\"2022-04-10T00:00:00\",\"2022-04-11T00:00:00\",\"2022-04-12T00:00:00\",\"2022-04-13T00:00:00\",\"2022-04-14T00:00:00\",\"2022-04-15T00:00:00\",\"2022-04-16T00:00:00\",\"2022-04-17T00:00:00\",\"2022-04-18T00:00:00\",\"2022-04-19T00:00:00\",\"2022-04-20T00:00:00\",\"2022-04-21T00:00:00\",\"2022-04-22T00:00:00\",\"2022-04-23T00:00:00\",\"2022-04-24T00:00:00\",\"2022-04-25T00:00:00\",\"2022-04-26T00:00:00\",\"2022-04-27T00:00:00\",\"2022-04-28T00:00:00\",\"2022-04-29T00:00:00\",\"2022-04-30T00:00:00\",\"2022-05-01T00:00:00\",\"2022-05-02T00:00:00\",\"2022-05-03T00:00:00\",\"2022-05-04T00:00:00\",\"2022-05-05T00:00:00\",\"2022-05-06T00:00:00\",\"2022-05-07T00:00:00\",\"2022-05-08T00:00:00\",\"2022-05-09T00:00:00\",\"2022-05-10T00:00:00\",\"2022-05-11T00:00:00\",\"2022-05-12T00:00:00\",\"2022-05-13T00:00:00\",\"2022-05-14T00:00:00\",\"2022-05-15T00:00:00\",\"2022-05-16T00:00:00\",\"2022-05-17T00:00:00\",\"2022-05-18T00:00:00\",\"2022-05-19T00:00:00\",\"2022-05-20T00:00:00\",\"2022-05-21T00:00:00\",\"2022-05-22T00:00:00\",\"2022-05-23T00:00:00\",\"2022-05-24T00:00:00\",\"2022-05-25T00:00:00\",\"2022-05-26T00:00:00\",\"2022-05-27T00:00:00\",\"2022-05-28T00:00:00\",\"2022-05-29T00:00:00\",\"2022-05-30T00:00:00\",\"2022-05-31T00:00:00\"],\"xaxis\":\"x\",\"y\":[0.5,0.5,0.5,0.5,0.5,0.5,0.5,0.5,0.5,0.5,0.5,0.5,0.5,0.5,0.5,0.5,0.5,0.5,0.5,0.5,0.5,0.5,0.5,0.5,0.5,0.5,0.5,0.5,0.5,0.5,0.5,0.5,0.5,0.5,0.5,0.5,0.5,0.5,0.5,0.5,0.5,0.5,0.5,0.5,0.5,0.5,0.5,0.5,0.5,0.5,0.5,0.5,0.5,0.5,0.5,0.5,0.5,0.49999999999999994,0.49999999999999994,0.5,0.5,0.5,0.49999999999999994,0.49999999999999994,0.5,0.4999999999999999,0.5,0.49999999999999983,0.5,0.5,0.49999999999999994,0.49999999999999994,0.5,0.5,0.4999999999999999,0.49999999999999994,0.5,0.49999999999999994,0.5,0.5,0.5,0.5,0.5,0.5,0.49999999999999994,0.49999999999999994,0.5,0.5,0.5],\"yaxis\":\"y\",\"type\":\"scatter\"},{\"hovertemplate\":\"%{y}\",\"legendgroup\":\"SAVAX\",\"line\":{\"color\":\"#EF553B\",\"dash\":\"solid\"},\"marker\":{\"symbol\":\"circle\"},\"mode\":\"lines\",\"name\":\"SAVAX\",\"orientation\":\"v\",\"showlegend\":true,\"x\":[\"2022-03-04T00:00:00\",\"2022-03-05T00:00:00\",\"2022-03-06T00:00:00\",\"2022-03-07T00:00:00\",\"2022-03-08T00:00:00\",\"2022-03-09T00:00:00\",\"2022-03-10T00:00:00\",\"2022-03-11T00:00:00\",\"2022-03-12T00:00:00\",\"2022-03-13T00:00:00\",\"2022-03-14T00:00:00\",\"2022-03-15T00:00:00\",\"2022-03-16T00:00:00\",\"2022-03-17T00:00:00\",\"2022-03-18T00:00:00\",\"2022-03-19T00:00:00\",\"2022-03-20T00:00:00\",\"2022-03-21T00:00:00\",\"2022-03-22T00:00:00\",\"2022-03-23T00:00:00\",\"2022-03-24T00:00:00\",\"2022-03-25T00:00:00\",\"2022-03-26T00:00:00\",\"2022-03-27T00:00:00\",\"2022-03-28T00:00:00\",\"2022-03-29T00:00:00\",\"2022-03-30T00:00:00\",\"2022-03-31T00:00:00\",\"2022-04-01T00:00:00\",\"2022-04-02T00:00:00\",\"2022-04-03T00:00:00\",\"2022-04-04T00:00:00\",\"2022-04-05T00:00:00\",\"2022-04-06T00:00:00\",\"2022-04-07T00:00:00\",\"2022-04-08T00:00:00\",\"2022-04-09T00:00:00\",\"2022-04-10T00:00:00\",\"2022-04-11T00:00:00\",\"2022-04-12T00:00:00\",\"2022-04-13T00:00:00\",\"2022-04-14T00:00:00\",\"2022-04-15T00:00:00\",\"2022-04-16T00:00:00\",\"2022-04-17T00:00:00\",\"2022-04-18T00:00:00\",\"2022-04-19T00:00:00\",\"2022-04-20T00:00:00\",\"2022-04-21T00:00:00\",\"2022-04-22T00:00:00\",\"2022-04-23T00:00:00\",\"2022-04-24T00:00:00\",\"2022-04-25T00:00:00\",\"2022-04-26T00:00:00\",\"2022-04-27T00:00:00\",\"2022-04-28T00:00:00\",\"2022-04-29T00:00:00\",\"2022-04-30T00:00:00\",\"2022-05-01T00:00:00\",\"2022-05-02T00:00:00\",\"2022-05-03T00:00:00\",\"2022-05-04T00:00:00\",\"2022-05-05T00:00:00\",\"2022-05-06T00:00:00\",\"2022-05-07T00:00:00\",\"2022-05-08T00:00:00\",\"2022-05-09T00:00:00\",\"2022-05-10T00:00:00\",\"2022-05-11T00:00:00\",\"2022-05-12T00:00:00\",\"2022-05-13T00:00:00\",\"2022-05-14T00:00:00\",\"2022-05-15T00:00:00\",\"2022-05-16T00:00:00\",\"2022-05-17T00:00:00\",\"2022-05-18T00:00:00\",\"2022-05-19T00:00:00\",\"2022-05-20T00:00:00\",\"2022-05-21T00:00:00\",\"2022-05-22T00:00:00\",\"2022-05-23T00:00:00\",\"2022-05-24T00:00:00\",\"2022-05-25T00:00:00\",\"2022-05-26T00:00:00\",\"2022-05-27T00:00:00\",\"2022-05-28T00:00:00\",\"2022-05-29T00:00:00\",\"2022-05-30T00:00:00\",\"2022-05-31T00:00:00\"],\"xaxis\":\"x\",\"y\":[0.5,0.49999999999999983,0.5,0.5,0.49999999999999983,0.5,0.5,0.5,0.5,0.5,0.5,0.5,0.5,0.5,0.49999999999999994,0.5,0.5,0.4999999999999999,0.4999999999999999,0.4999999999999999,0.5,0.5,0.4999999999999999,0.49999999999999994,0.49999999999999994,0.5,0.5,0.5,0.5,0.49999999999999994,0.5,0.49999999999999994,0.5,0.5,0.5,0.5,0.5,0.49999999999999994,0.5,0.5,0.5,0.5,0.5,0.49999999999999994,0.49999999999999994,0.5,0.5,0.5,0.5,0.5,0.5,0.5,0.5,0.49999999999999994,0.49999999999999994,0.5,0.5,0.5,0.5,0.5,0.5,0.5,0.5,0.5,0.5,0.5,0.5,0.5,0.5,0.5,0.5,0.5,0.5,0.5,0.5,0.5,0.5,0.5,0.5,0.5,0.5,0.5,0.5,0.5,0.5,0.5,0.4999999999999999,0.5,0.49999999999999994],\"yaxis\":\"y\",\"type\":\"scatter\"}],                        {\"template\":{\"data\":{\"barpolar\":[{\"marker\":{\"line\":{\"color\":\"white\",\"width\":0.5},\"pattern\":{\"fillmode\":\"overlay\",\"size\":10,\"solidity\":0.2}},\"type\":\"barpolar\"}],\"bar\":[{\"error_x\":{\"color\":\"#2a3f5f\"},\"error_y\":{\"color\":\"#2a3f5f\"},\"marker\":{\"line\":{\"color\":\"white\",\"width\":0.5},\"pattern\":{\"fillmode\":\"overlay\",\"size\":10,\"solidity\":0.2}},\"type\":\"bar\"}],\"carpet\":[{\"aaxis\":{\"endlinecolor\":\"#2a3f5f\",\"gridcolor\":\"#C8D4E3\",\"linecolor\":\"#C8D4E3\",\"minorgridcolor\":\"#C8D4E3\",\"startlinecolor\":\"#2a3f5f\"},\"baxis\":{\"endlinecolor\":\"#2a3f5f\",\"gridcolor\":\"#C8D4E3\",\"linecolor\":\"#C8D4E3\",\"minorgridcolor\":\"#C8D4E3\",\"startlinecolor\":\"#2a3f5f\"},\"type\":\"carpet\"}],\"choropleth\":[{\"colorbar\":{\"outlinewidth\":0,\"ticks\":\"\"},\"type\":\"choropleth\"}],\"contourcarpet\":[{\"colorbar\":{\"outlinewidth\":0,\"ticks\":\"\"},\"type\":\"contourcarpet\"}],\"contour\":[{\"colorbar\":{\"outlinewidth\":0,\"ticks\":\"\"},\"colorscale\":[[0.0,\"#0d0887\"],[0.1111111111111111,\"#46039f\"],[0.2222222222222222,\"#7201a8\"],[0.3333333333333333,\"#9c179e\"],[0.4444444444444444,\"#bd3786\"],[0.5555555555555556,\"#d8576b\"],[0.6666666666666666,\"#ed7953\"],[0.7777777777777778,\"#fb9f3a\"],[0.8888888888888888,\"#fdca26\"],[1.0,\"#f0f921\"]],\"type\":\"contour\"}],\"heatmapgl\":[{\"colorbar\":{\"outlinewidth\":0,\"ticks\":\"\"},\"colorscale\":[[0.0,\"#0d0887\"],[0.1111111111111111,\"#46039f\"],[0.2222222222222222,\"#7201a8\"],[0.3333333333333333,\"#9c179e\"],[0.4444444444444444,\"#bd3786\"],[0.5555555555555556,\"#d8576b\"],[0.6666666666666666,\"#ed7953\"],[0.7777777777777778,\"#fb9f3a\"],[0.8888888888888888,\"#fdca26\"],[1.0,\"#f0f921\"]],\"type\":\"heatmapgl\"}],\"heatmap\":[{\"colorbar\":{\"outlinewidth\":0,\"ticks\":\"\"},\"colorscale\":[[0.0,\"#0d0887\"],[0.1111111111111111,\"#46039f\"],[0.2222222222222222,\"#7201a8\"],[0.3333333333333333,\"#9c179e\"],[0.4444444444444444,\"#bd3786\"],[0.5555555555555556,\"#d8576b\"],[0.6666666666666666,\"#ed7953\"],[0.7777777777777778,\"#fb9f3a\"],[0.8888888888888888,\"#fdca26\"],[1.0,\"#f0f921\"]],\"type\":\"heatmap\"}],\"histogram2dcontour\":[{\"colorbar\":{\"outlinewidth\":0,\"ticks\":\"\"},\"colorscale\":[[0.0,\"#0d0887\"],[0.1111111111111111,\"#46039f\"],[0.2222222222222222,\"#7201a8\"],[0.3333333333333333,\"#9c179e\"],[0.4444444444444444,\"#bd3786\"],[0.5555555555555556,\"#d8576b\"],[0.6666666666666666,\"#ed7953\"],[0.7777777777777778,\"#fb9f3a\"],[0.8888888888888888,\"#fdca26\"],[1.0,\"#f0f921\"]],\"type\":\"histogram2dcontour\"}],\"histogram2d\":[{\"colorbar\":{\"outlinewidth\":0,\"ticks\":\"\"},\"colorscale\":[[0.0,\"#0d0887\"],[0.1111111111111111,\"#46039f\"],[0.2222222222222222,\"#7201a8\"],[0.3333333333333333,\"#9c179e\"],[0.4444444444444444,\"#bd3786\"],[0.5555555555555556,\"#d8576b\"],[0.6666666666666666,\"#ed7953\"],[0.7777777777777778,\"#fb9f3a\"],[0.8888888888888888,\"#fdca26\"],[1.0,\"#f0f921\"]],\"type\":\"histogram2d\"}],\"histogram\":[{\"marker\":{\"pattern\":{\"fillmode\":\"overlay\",\"size\":10,\"solidity\":0.2}},\"type\":\"histogram\"}],\"mesh3d\":[{\"colorbar\":{\"outlinewidth\":0,\"ticks\":\"\"},\"type\":\"mesh3d\"}],\"parcoords\":[{\"line\":{\"colorbar\":{\"outlinewidth\":0,\"ticks\":\"\"}},\"type\":\"parcoords\"}],\"pie\":[{\"automargin\":true,\"type\":\"pie\"}],\"scatter3d\":[{\"line\":{\"colorbar\":{\"outlinewidth\":0,\"ticks\":\"\"}},\"marker\":{\"colorbar\":{\"outlinewidth\":0,\"ticks\":\"\"}},\"type\":\"scatter3d\"}],\"scattercarpet\":[{\"marker\":{\"colorbar\":{\"outlinewidth\":0,\"ticks\":\"\"}},\"type\":\"scattercarpet\"}],\"scattergeo\":[{\"marker\":{\"colorbar\":{\"outlinewidth\":0,\"ticks\":\"\"}},\"type\":\"scattergeo\"}],\"scattergl\":[{\"marker\":{\"colorbar\":{\"outlinewidth\":0,\"ticks\":\"\"}},\"type\":\"scattergl\"}],\"scattermapbox\":[{\"marker\":{\"colorbar\":{\"outlinewidth\":0,\"ticks\":\"\"}},\"type\":\"scattermapbox\"}],\"scatterpolargl\":[{\"marker\":{\"colorbar\":{\"outlinewidth\":0,\"ticks\":\"\"}},\"type\":\"scatterpolargl\"}],\"scatterpolar\":[{\"marker\":{\"colorbar\":{\"outlinewidth\":0,\"ticks\":\"\"}},\"type\":\"scatterpolar\"}],\"scatter\":[{\"marker\":{\"colorbar\":{\"outlinewidth\":0,\"ticks\":\"\"}},\"type\":\"scatter\"}],\"scatterternary\":[{\"marker\":{\"colorbar\":{\"outlinewidth\":0,\"ticks\":\"\"}},\"type\":\"scatterternary\"}],\"surface\":[{\"colorbar\":{\"outlinewidth\":0,\"ticks\":\"\"},\"colorscale\":[[0.0,\"#0d0887\"],[0.1111111111111111,\"#46039f\"],[0.2222222222222222,\"#7201a8\"],[0.3333333333333333,\"#9c179e\"],[0.4444444444444444,\"#bd3786\"],[0.5555555555555556,\"#d8576b\"],[0.6666666666666666,\"#ed7953\"],[0.7777777777777778,\"#fb9f3a\"],[0.8888888888888888,\"#fdca26\"],[1.0,\"#f0f921\"]],\"type\":\"surface\"}],\"table\":[{\"cells\":{\"fill\":{\"color\":\"#EBF0F8\"},\"line\":{\"color\":\"white\"}},\"header\":{\"fill\":{\"color\":\"#C8D4E3\"},\"line\":{\"color\":\"white\"}},\"type\":\"table\"}]},\"layout\":{\"annotationdefaults\":{\"arrowcolor\":\"#2a3f5f\",\"arrowhead\":0,\"arrowwidth\":1},\"autotypenumbers\":\"strict\",\"coloraxis\":{\"colorbar\":{\"outlinewidth\":0,\"ticks\":\"\"}},\"colorscale\":{\"diverging\":[[0,\"#8e0152\"],[0.1,\"#c51b7d\"],[0.2,\"#de77ae\"],[0.3,\"#f1b6da\"],[0.4,\"#fde0ef\"],[0.5,\"#f7f7f7\"],[0.6,\"#e6f5d0\"],[0.7,\"#b8e186\"],[0.8,\"#7fbc41\"],[0.9,\"#4d9221\"],[1,\"#276419\"]],\"sequential\":[[0.0,\"#0d0887\"],[0.1111111111111111,\"#46039f\"],[0.2222222222222222,\"#7201a8\"],[0.3333333333333333,\"#9c179e\"],[0.4444444444444444,\"#bd3786\"],[0.5555555555555556,\"#d8576b\"],[0.6666666666666666,\"#ed7953\"],[0.7777777777777778,\"#fb9f3a\"],[0.8888888888888888,\"#fdca26\"],[1.0,\"#f0f921\"]],\"sequentialminus\":[[0.0,\"#0d0887\"],[0.1111111111111111,\"#46039f\"],[0.2222222222222222,\"#7201a8\"],[0.3333333333333333,\"#9c179e\"],[0.4444444444444444,\"#bd3786\"],[0.5555555555555556,\"#d8576b\"],[0.6666666666666666,\"#ed7953\"],[0.7777777777777778,\"#fb9f3a\"],[0.8888888888888888,\"#fdca26\"],[1.0,\"#f0f921\"]]},\"colorway\":[\"#636efa\",\"#EF553B\",\"#00cc96\",\"#ab63fa\",\"#FFA15A\",\"#19d3f3\",\"#FF6692\",\"#B6E880\",\"#FF97FF\",\"#FECB52\"],\"font\":{\"color\":\"#2a3f5f\"},\"geo\":{\"bgcolor\":\"white\",\"lakecolor\":\"white\",\"landcolor\":\"white\",\"showlakes\":true,\"showland\":true,\"subunitcolor\":\"#C8D4E3\"},\"hoverlabel\":{\"align\":\"left\"},\"hovermode\":\"closest\",\"mapbox\":{\"style\":\"light\"},\"paper_bgcolor\":\"white\",\"plot_bgcolor\":\"white\",\"polar\":{\"angularaxis\":{\"gridcolor\":\"#EBF0F8\",\"linecolor\":\"#EBF0F8\",\"ticks\":\"\"},\"bgcolor\":\"white\",\"radialaxis\":{\"gridcolor\":\"#EBF0F8\",\"linecolor\":\"#EBF0F8\",\"ticks\":\"\"}},\"scene\":{\"xaxis\":{\"backgroundcolor\":\"white\",\"gridcolor\":\"#DFE8F3\",\"gridwidth\":2,\"linecolor\":\"#EBF0F8\",\"showbackground\":true,\"ticks\":\"\",\"zerolinecolor\":\"#EBF0F8\"},\"yaxis\":{\"backgroundcolor\":\"white\",\"gridcolor\":\"#DFE8F3\",\"gridwidth\":2,\"linecolor\":\"#EBF0F8\",\"showbackground\":true,\"ticks\":\"\",\"zerolinecolor\":\"#EBF0F8\"},\"zaxis\":{\"backgroundcolor\":\"white\",\"gridcolor\":\"#DFE8F3\",\"gridwidth\":2,\"linecolor\":\"#EBF0F8\",\"showbackground\":true,\"ticks\":\"\",\"zerolinecolor\":\"#EBF0F8\"}},\"shapedefaults\":{\"line\":{\"color\":\"#2a3f5f\"}},\"ternary\":{\"aaxis\":{\"gridcolor\":\"#DFE8F3\",\"linecolor\":\"#A2B1C6\",\"ticks\":\"\"},\"baxis\":{\"gridcolor\":\"#DFE8F3\",\"linecolor\":\"#A2B1C6\",\"ticks\":\"\"},\"bgcolor\":\"white\",\"caxis\":{\"gridcolor\":\"#DFE8F3\",\"linecolor\":\"#A2B1C6\",\"ticks\":\"\"}},\"title\":{\"x\":0.05},\"xaxis\":{\"automargin\":true,\"gridcolor\":\"#EBF0F8\",\"linecolor\":\"#EBF0F8\",\"ticks\":\"\",\"title\":{\"standoff\":15},\"zerolinecolor\":\"#EBF0F8\",\"zerolinewidth\":2},\"yaxis\":{\"automargin\":true,\"gridcolor\":\"#EBF0F8\",\"linecolor\":\"#EBF0F8\",\"ticks\":\"\",\"title\":{\"standoff\":15},\"zerolinecolor\":\"#EBF0F8\",\"zerolinewidth\":2}}},\"xaxis\":{\"anchor\":\"y\",\"domain\":[0.0,1.0],\"title\":{\"text\":\"date\"},\"showspikes\":true,\"spikethickness\":2,\"spikedash\":\"dot\",\"spikecolor\":\"#999999\",\"spikemode\":\"across\"},\"yaxis\":{\"anchor\":\"x\",\"domain\":[0.0,1.0],\"title\":{\"text\":\"weight, %\"},\"tickformat\":\".2%\"},\"legend\":{\"title\":{\"text\":\"\"},\"tracegroupgap\":0},\"margin\":{\"t\":60},\"hovermode\":\"x\",\"hoverdistance\":100,\"spikedistance\":1000,\"title\":{\"text\":\"Weights with max constraint\"}},                        {\"responsive\": true}                    ).then(function(){\n",
       "                            \n",
       "var gd = document.getElementById('631c4073-8cc7-4a28-afd4-5be3cd039364');\n",
       "var x = new MutationObserver(function (mutations, observer) {{\n",
       "        var display = window.getComputedStyle(gd).display;\n",
       "        if (!display || display === 'none') {{\n",
       "            console.log([gd, 'removed!']);\n",
       "            Plotly.purge(gd);\n",
       "            observer.disconnect();\n",
       "        }}\n",
       "}});\n",
       "\n",
       "// Listen for the removal of the full notebook cells\n",
       "var notebookContainer = gd.closest('#notebook-container');\n",
       "if (notebookContainer) {{\n",
       "    x.observe(notebookContainer, {childList: true});\n",
       "}}\n",
       "\n",
       "// Listen for the clearing of the current output cell\n",
       "var outputEl = gd.closest('.output');\n",
       "if (outputEl) {{\n",
       "    x.observe(outputEl, {childList: true});\n",
       "}}\n",
       "\n",
       "                        })                };                });            </script>        </div>"
      ]
     },
     "metadata": {},
     "output_type": "display_data"
    }
   ],
   "source": [
    "fig = px.line(adjusted_weights,\n",
    "              labels={'value': 'weight, %', 'variable': ''})\n",
    "fig.update_traces(\n",
    "    hovertemplate=\"%{y}\"\n",
    ")\n",
    "fig.update_yaxes(\n",
    "    tickformat=\".2%\",\n",
    ")\n",
    "fig.update_xaxes(\n",
    "    showspikes=True,\n",
    "    spikethickness=2,\n",
    "    spikedash=\"dot\",\n",
    "    spikecolor=\"#999999\",\n",
    "    spikemode=\"across\",\n",
    ")\n",
    "fig.update_layout(\n",
    "    hovermode=\"x\",\n",
    "    hoverdistance=100,  ## Distance to show hover label of data point\n",
    "    spikedistance=1000,  ## Distance to show spike\n",
    "    template='plotly_white',\n",
    "    title='Weights with max constraint'\n",
    ")"
   ]
  },
  {
   "cell_type": "code",
   "execution_count": 121,
   "id": "12a63759-8259-4e94-a430-062bea73c3c4",
   "metadata": {},
   "outputs": [
    {
     "data": {
      "text/html": [
       "<div>\n",
       "<style scoped>\n",
       "    .dataframe tbody tr th:only-of-type {\n",
       "        vertical-align: middle;\n",
       "    }\n",
       "\n",
       "    .dataframe tbody tr th {\n",
       "        vertical-align: top;\n",
       "    }\n",
       "\n",
       "    .dataframe thead th {\n",
       "        text-align: right;\n",
       "    }\n",
       "</style>\n",
       "<table border=\"1\" class=\"dataframe\">\n",
       "  <thead>\n",
       "    <tr style=\"text-align: right;\">\n",
       "      <th></th>\n",
       "      <th>JOE</th>\n",
       "      <th>SAVAX</th>\n",
       "    </tr>\n",
       "    <tr>\n",
       "      <th>date</th>\n",
       "      <th></th>\n",
       "      <th></th>\n",
       "    </tr>\n",
       "  </thead>\n",
       "  <tbody>\n",
       "    <tr>\n",
       "      <th>2022-03-04</th>\n",
       "      <td>0.5</td>\n",
       "      <td>0.5</td>\n",
       "    </tr>\n",
       "    <tr>\n",
       "      <th>2022-03-05</th>\n",
       "      <td>0.5</td>\n",
       "      <td>0.5</td>\n",
       "    </tr>\n",
       "    <tr>\n",
       "      <th>2022-03-06</th>\n",
       "      <td>0.5</td>\n",
       "      <td>0.5</td>\n",
       "    </tr>\n",
       "    <tr>\n",
       "      <th>2022-03-07</th>\n",
       "      <td>0.5</td>\n",
       "      <td>0.5</td>\n",
       "    </tr>\n",
       "    <tr>\n",
       "      <th>2022-03-08</th>\n",
       "      <td>0.5</td>\n",
       "      <td>0.5</td>\n",
       "    </tr>\n",
       "    <tr>\n",
       "      <th>...</th>\n",
       "      <td>...</td>\n",
       "      <td>...</td>\n",
       "    </tr>\n",
       "    <tr>\n",
       "      <th>2022-05-27</th>\n",
       "      <td>0.5</td>\n",
       "      <td>0.5</td>\n",
       "    </tr>\n",
       "    <tr>\n",
       "      <th>2022-05-28</th>\n",
       "      <td>0.5</td>\n",
       "      <td>0.5</td>\n",
       "    </tr>\n",
       "    <tr>\n",
       "      <th>2022-05-29</th>\n",
       "      <td>0.5</td>\n",
       "      <td>0.5</td>\n",
       "    </tr>\n",
       "    <tr>\n",
       "      <th>2022-05-30</th>\n",
       "      <td>0.5</td>\n",
       "      <td>0.5</td>\n",
       "    </tr>\n",
       "    <tr>\n",
       "      <th>2022-05-31</th>\n",
       "      <td>0.5</td>\n",
       "      <td>0.5</td>\n",
       "    </tr>\n",
       "  </tbody>\n",
       "</table>\n",
       "<p>89 rows × 2 columns</p>\n",
       "</div>"
      ],
      "text/plain": [
       "            JOE  SAVAX\n",
       "date                  \n",
       "2022-03-04  0.5    0.5\n",
       "2022-03-05  0.5    0.5\n",
       "2022-03-06  0.5    0.5\n",
       "2022-03-07  0.5    0.5\n",
       "2022-03-08  0.5    0.5\n",
       "...         ...    ...\n",
       "2022-05-27  0.5    0.5\n",
       "2022-05-28  0.5    0.5\n",
       "2022-05-29  0.5    0.5\n",
       "2022-05-30  0.5    0.5\n",
       "2022-05-31  0.5    0.5\n",
       "\n",
       "[89 rows x 2 columns]"
      ]
     },
     "execution_count": 121,
     "metadata": {},
     "output_type": "execute_result"
    }
   ],
   "source": [
    "adjusted_weights"
   ]
  },
  {
   "cell_type": "markdown",
   "id": "8b697ddb-a01c-4ec5-a0a8-5b3947a0f3cd",
   "metadata": {},
   "source": [
    "### Convert weights to the [1, 255] scale"
   ]
  },
  {
   "cell_type": "markdown",
   "id": "8866ad8e-c327-434e-b575-580176c04233",
   "metadata": {},
   "source": [
    "On the contract side weights are integer numbers from the interval $[1, 255]$ with total sum $255$, so it's needed to convert retrieved weights to this format.\n",
    "\n",
    "Note that one can't just round weights to integers after scaling, since it doesn't guarantee that their sum will be $255$. To fix that firstly floor function is applied to the weights and then $1$ is being added to the $k$ weights with largest fractional parts."
   ]
  },
  {
   "cell_type": "code",
   "execution_count": 122,
   "id": "4861d21f-0720-43eb-a385-c9f1c6cbeb04",
   "metadata": {},
   "outputs": [],
   "source": [
    "def convert_weights(weights):\n",
    "    w_scaled = weights * 255\n",
    "    w_res = np.floor(w_scaled).astype(int)\n",
    "    \n",
    "    remainders = w_scaled - w_res\n",
    "    \n",
    "    k = round(remainders.sum())\n",
    "    k_largest_rems = np.argsort(remainders)[::-1][:k]\n",
    "    \n",
    "    w_res[k_largest_rems] += 1\n",
    "    \n",
    "    return w_res "
   ]
  },
  {
   "cell_type": "code",
   "execution_count": 123,
   "id": "bc28c07f-d3f9-4d3a-a413-5f97a4640b3c",
   "metadata": {},
   "outputs": [
    {
     "data": {
      "text/plain": [
       "JOE      0.5\n",
       "SAVAX    0.5\n",
       "Name: 2022-05-31 00:00:00, dtype: float64"
      ]
     },
     "execution_count": 123,
     "metadata": {},
     "output_type": "execute_result"
    }
   ],
   "source": [
    "last_weights = adjusted_weights.iloc[-1]\n",
    "last_weights"
   ]
  },
  {
   "cell_type": "code",
   "execution_count": 124,
   "id": "f7b4a26f-70b8-46d3-9949-1578d656bb11",
   "metadata": {},
   "outputs": [
    {
     "data": {
      "text/plain": [
       "JOE      128\n",
       "SAVAX    127\n",
       "Name: 2022-05-31 00:00:00, dtype: int64"
      ]
     },
     "execution_count": 124,
     "metadata": {},
     "output_type": "execute_result"
    }
   ],
   "source": [
    "converted_last_weights = convert_weights(last_weights)\n",
    "converted_last_weights"
   ]
  },
  {
   "cell_type": "markdown",
   "id": "edc13887-a711-44f7-a5ec-7d4089c14030",
   "metadata": {},
   "source": [
    "## Summary table"
   ]
  },
  {
   "cell_type": "code",
   "execution_count": 126,
   "id": "290800e8-eb71-44b0-adba-9683d53f0062",
   "metadata": {},
   "outputs": [],
   "source": [
    "cai = pd.DataFrame()\n",
    "cai.index = chosen_tokens.index\n",
    "cai['name'] = chosen_tokens['name']\n",
    "cai['market_cap'] = marketcaps.iloc[-1].astype(int)\n",
    "cai['price'] = prices_data.iloc[-1]\n",
    "cai['weight'] = last_weights\n",
    "cai['weight_converted'] = converted_last_weights\n",
    "cai['address'] = [tokens[symb]['address'] for symb in cai.index]"
   ]
  },
  {
   "cell_type": "code",
   "execution_count": 127,
   "id": "8f824765-314e-4a60-87c5-2cfa9a7fdb7c",
   "metadata": {},
   "outputs": [
    {
     "data": {
      "text/html": [
       "<div>\n",
       "<style scoped>\n",
       "    .dataframe tbody tr th:only-of-type {\n",
       "        vertical-align: middle;\n",
       "    }\n",
       "\n",
       "    .dataframe tbody tr th {\n",
       "        vertical-align: top;\n",
       "    }\n",
       "\n",
       "    .dataframe thead th {\n",
       "        text-align: right;\n",
       "    }\n",
       "</style>\n",
       "<table border=\"1\" class=\"dataframe\">\n",
       "  <thead>\n",
       "    <tr style=\"text-align: right;\">\n",
       "      <th></th>\n",
       "      <th>name</th>\n",
       "      <th>market_cap</th>\n",
       "      <th>price</th>\n",
       "      <th>weight</th>\n",
       "      <th>weight_converted</th>\n",
       "      <th>address</th>\n",
       "    </tr>\n",
       "    <tr>\n",
       "      <th>symbol</th>\n",
       "      <th></th>\n",
       "      <th></th>\n",
       "      <th></th>\n",
       "      <th></th>\n",
       "      <th></th>\n",
       "      <th></th>\n",
       "    </tr>\n",
       "  </thead>\n",
       "  <tbody>\n",
       "    <tr>\n",
       "      <th>JOE</th>\n",
       "      <td>JOE</td>\n",
       "      <td>99625899</td>\n",
       "      <td>0.365804</td>\n",
       "      <td>0.5</td>\n",
       "      <td>128</td>\n",
       "      <td>0x6e84a6216ea6dacc71ee8e6b0a5b7322eebc0fdd</td>\n",
       "    </tr>\n",
       "    <tr>\n",
       "      <th>SAVAX</th>\n",
       "      <td>BENQI Liquid Staked AVAX</td>\n",
       "      <td>85937631</td>\n",
       "      <td>27.904355</td>\n",
       "      <td>0.5</td>\n",
       "      <td>127</td>\n",
       "      <td>0x2b2c81e08f1af8835a78bb2a90ae924ace0ea4be</td>\n",
       "    </tr>\n",
       "  </tbody>\n",
       "</table>\n",
       "</div>"
      ],
      "text/plain": [
       "                            name  market_cap      price  weight  \\\n",
       "symbol                                                            \n",
       "JOE                          JOE    99625899   0.365804     0.5   \n",
       "SAVAX   BENQI Liquid Staked AVAX    85937631  27.904355     0.5   \n",
       "\n",
       "        weight_converted                                     address  \n",
       "symbol                                                                \n",
       "JOE                  128  0x6e84a6216ea6dacc71ee8e6b0a5b7322eebc0fdd  \n",
       "SAVAX                127  0x2b2c81e08f1af8835a78bb2a90ae924ace0ea4be  "
      ]
     },
     "execution_count": 127,
     "metadata": {},
     "output_type": "execute_result"
    }
   ],
   "source": [
    "cai"
   ]
  }
 ],
 "metadata": {
  "kernelspec": {
   "display_name": "Python 3",
   "language": "python",
   "name": "python3"
  },
  "language_info": {
   "codemirror_mode": {
    "name": "ipython",
    "version": 3
   },
   "file_extension": ".py",
   "mimetype": "text/x-python",
   "name": "python",
   "nbconvert_exporter": "python",
   "pygments_lexer": "ipython3",
   "version": "3.10.4"
  }
 },
 "nbformat": 4,
 "nbformat_minor": 5
}
