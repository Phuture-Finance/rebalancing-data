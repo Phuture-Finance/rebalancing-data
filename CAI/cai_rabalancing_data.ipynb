{
 "cells": [
  {
   "cell_type": "markdown",
   "id": "d757030a-ae9c-47a9-822c-0a57fd4391e9",
   "metadata": {},
   "source": [
    "# CAI - Colony Avalanche Ecosystem Index"
   ]
  },
  {
   "cell_type": "markdown",
   "id": "e582924a-dd0f-4ee3-9495-25cb063d8c11",
   "metadata": {},
   "source": [
    "Crypto index tracking is a popular passive investment strategy. Since an index cannot be traded directly, index tracking refers to the process of creating a set of crypto assets managed by smart contract that approximates its performance. A straightforward way to do that is to purchase all the assets that compose an index in appropriate quantities.\n",
    "\n",
    "In order to compensate for the price changes of the individual assets in the index we need to rebalance the portfolio. Choosing the optimal frequency is not an easy task and many factors (e.g., transaction costs, volatility, type of assets, etc.) need to be taken into account.\n",
    "\n",
    "Conventional approaches to index portfolio rebalancing include periodic and tolerance band rebalancing. With periodic rebalancing, the portfolio is adjusted from its current weights back to the target weights at a consistent time interval (e.g., monthly or quarterly)."
   ]
  },
  {
   "cell_type": "markdown",
   "id": "0d58a1fd-144f-456b-8c6a-8c511e144a49",
   "metadata": {
    "tags": []
   },
   "source": [
    "## Setting"
   ]
  },
  {
   "cell_type": "code",
   "execution_count": 50,
   "id": "e608fe6f-7008-4380-8c1a-4ff929b47495",
   "metadata": {},
   "outputs": [],
   "source": [
    "import pandas as pd\n",
    "import numpy as np\n",
    "import requests\n",
    "from pprint import pprint"
   ]
  },
  {
   "cell_type": "code",
   "execution_count": 51,
   "id": "d7bfb194-b9d5-454b-8f65-eaf0e28d8e9c",
   "metadata": {},
   "outputs": [],
   "source": [
    "from pycoingecko import CoinGeckoAPI\n",
    "cg = CoinGeckoAPI()"
   ]
  },
  {
   "cell_type": "code",
   "execution_count": 52,
   "id": "ef997725-1d4d-4d00-afce-d6c642fff6d0",
   "metadata": {},
   "outputs": [],
   "source": [
    "import plotly.express as px\n",
    "import plotly.graph_objects as go\n",
    "from plotly.subplots import make_subplots "
   ]
  },
  {
   "cell_type": "code",
   "execution_count": 53,
   "id": "b78b310e-348c-40aa-b74b-8e9fbdc37bcf",
   "metadata": {},
   "outputs": [
    {
     "data": {
      "text/html": [
       "        <script type=\"text/javascript\">\n",
       "        window.PlotlyConfig = {MathJaxConfig: 'local'};\n",
       "        if (window.MathJax) {MathJax.Hub.Config({SVG: {font: \"STIX-Web\"}});}\n",
       "        if (typeof require !== 'undefined') {\n",
       "        require.undef(\"plotly\");\n",
       "        requirejs.config({\n",
       "            paths: {\n",
       "                'plotly': ['https://cdn.plot.ly/plotly-2.8.3.min']\n",
       "            }\n",
       "        });\n",
       "        require(['plotly'], function(Plotly) {\n",
       "            window._Plotly = Plotly;\n",
       "        });\n",
       "        }\n",
       "        </script>\n",
       "        "
      ]
     },
     "metadata": {},
     "output_type": "display_data"
    }
   ],
   "source": [
    "from plotly.offline import plot, iplot, init_notebook_mode\n",
    "init_notebook_mode(connected=True)"
   ]
  },
  {
   "cell_type": "markdown",
   "id": "5df139d1-1570-4131-adf9-9f85dd3a144a",
   "metadata": {
    "tags": []
   },
   "source": [
    "## Data retrieving and filtering"
   ]
  },
  {
   "cell_type": "markdown",
   "id": "e4ded0e1-c192-4d90-8161-946902c0d543",
   "metadata": {
    "tags": []
   },
   "source": [
    "### Token inclusion cretira"
   ]
  },
  {
   "cell_type": "markdown",
   "id": "969a13da-69e8-46c6-93e4-95f1af9a4d2a",
   "metadata": {},
   "source": [
    "1. **Project and token characteristics**\n",
    "    1.     The project’s token should have been listed on CoinGecko with pricing data at least 6 months prior to the date of inclusion in the index. \n",
    "    1. The project should have a token that is native to Avalanche. This excludes wrapped variants, where the underlying tokens are locked on an alt-L1.\n",
    "    1. The project should be a going concern, with a dedicated team actively building, supporting and maintaining the project. \n",
    "    1. No rebasing or deflationary tokens.\n",
    "    1. The project must be widely considered to be building a useful protocol or product. Projects that have ponzi characteristics at the core of their offering will not be considered.\n",
    "    1. Synthetic tokens which derive their value from external price feeds are not permissible. \n",
    "    1. The project’s token must not have the ability to pause token transfers.\n",
    "    1. The project’s protocol or product must have significant usage.\n",
    "\n",
    "1. **Liquidity Requirements**\n",
    "    1. The token must be listed on a supported exchange.\n",
    "    1. The token should have at least $5mm of onchain liquidity on a single pair.\n",
    "    1. The token must have shown consistent DeFi liquidity on Avalanche.\n",
    "\n",
    "1. **Security Requirements**\n",
    "    1. The project must have been audited by smart contract security professionals with the audit report(s) publicly available.\n",
    "\n"
   ]
  },
  {
   "cell_type": "markdown",
   "id": "2152f5aa-0cd7-449e-999b-c67e86869afa",
   "metadata": {
    "tags": []
   },
   "source": [
    "### Tokens list"
   ]
  },
  {
   "cell_type": "code",
   "execution_count": 54,
   "id": "258423d4-3b06-4247-900b-3ddf14c7ecab",
   "metadata": {},
   "outputs": [
    {
     "data": {
      "text/plain": [
       "{'gecko_says': '(V3) To the Moon!'}"
      ]
     },
     "execution_count": 54,
     "metadata": {},
     "output_type": "execute_result"
    }
   ],
   "source": [
    "cg.ping()"
   ]
  },
  {
   "cell_type": "code",
   "execution_count": 55,
   "id": "d1c7d3d6-4ab1-4e70-b36b-db5ea7d45ec0",
   "metadata": {},
   "outputs": [],
   "source": [
    "coins_list = pd.DataFrame(cg.get_coins_list(include_platform=True, order='market_cap_desc'))\n"
   ]
  },
  {
   "cell_type": "code",
   "execution_count": 56,
   "id": "f7109521-8bbc-4a3b-9931-02964db22d03",
   "metadata": {},
   "outputs": [],
   "source": [
    "tokens = {}\n",
    "tokens_by_addr = {}\n",
    "for index, coin in coins_list.iterrows():\n",
    "    if len(coin['platforms']) >= 1 and 'avalanche' == list(coin['platforms'].keys())[0]:\n",
    "        symbol = ''.join(c for c in coin['symbol'] if c.isalnum()).upper()\n",
    "        address = coin['platforms']['avalanche'].lower()\n",
    "        token = {\n",
    "            'symbol': symbol,\n",
    "            'address': address \n",
    "        }\n",
    "        tokens[symbol] = token\n",
    "        tokens_by_addr[address] = token\n",
    "        "
   ]
  },
  {
   "cell_type": "code",
   "execution_count": 57,
   "id": "b225ee5c-ae88-4827-b060-d06bc5d3fe12",
   "metadata": {},
   "outputs": [
    {
     "data": {
      "text/plain": [
       "({'symbol': 'USDC', 'address': '0xa7d7079b0fead91f3e65f86e8915cb59c1a4c664'},\n",
       " {'symbol': 'WAVAX', 'address': '0xb31f66aa3c1e785363f0875a1b74e27b85fd66c7'})"
      ]
     },
     "execution_count": 57,
     "metadata": {},
     "output_type": "execute_result"
    }
   ],
   "source": [
    "tokens['USDC'], tokens['WAVAX']"
   ]
  },
  {
   "cell_type": "markdown",
   "id": "9dd8ba08-1ee0-4f73-8303-2fbce6bc6de8",
   "metadata": {},
   "source": [
    "#### Market data"
   ]
  },
  {
   "cell_type": "code",
   "execution_count": 58,
   "id": "c9409a92-f940-4813-b432-5e142362a848",
   "metadata": {},
   "outputs": [],
   "source": [
    "tokens_data = [] \n",
    "tokens_data_page = pd.DataFrame(cg.get_coins_markets(vs_currency='USD', order='market_cap_desc'))\n",
    "tokens_data.append(tokens_data_page)\n",
    "for i in range(2, 20):\n",
    "    tokens_data_page = pd.DataFrame(cg.get_coins_markets(vs_currency='USD', order='market_cap_desc', page=i))\n",
    "    tokens_data.append(tokens_data_page)\n",
    "tokens_data = pd.concat(tokens_data)\n",
    "tokens_data = tokens_data.set_index(tokens_data['symbol'].str.upper())"
   ]
  },
  {
   "cell_type": "code",
   "execution_count": 59,
   "id": "eee4c543-2fbd-4454-a31e-36ea196b4c54",
   "metadata": {},
   "outputs": [
    {
     "data": {
      "text/html": [
       "<div>\n",
       "<style scoped>\n",
       "    .dataframe tbody tr th:only-of-type {\n",
       "        vertical-align: middle;\n",
       "    }\n",
       "\n",
       "    .dataframe tbody tr th {\n",
       "        vertical-align: top;\n",
       "    }\n",
       "\n",
       "    .dataframe thead th {\n",
       "        text-align: right;\n",
       "    }\n",
       "</style>\n",
       "<table border=\"1\" class=\"dataframe\">\n",
       "  <thead>\n",
       "    <tr style=\"text-align: right;\">\n",
       "      <th></th>\n",
       "      <th>id</th>\n",
       "      <th>symbol</th>\n",
       "      <th>name</th>\n",
       "      <th>image</th>\n",
       "      <th>current_price</th>\n",
       "      <th>market_cap</th>\n",
       "      <th>market_cap_rank</th>\n",
       "      <th>fully_diluted_valuation</th>\n",
       "      <th>total_volume</th>\n",
       "      <th>high_24h</th>\n",
       "      <th>...</th>\n",
       "      <th>total_supply</th>\n",
       "      <th>max_supply</th>\n",
       "      <th>ath</th>\n",
       "      <th>ath_change_percentage</th>\n",
       "      <th>ath_date</th>\n",
       "      <th>atl</th>\n",
       "      <th>atl_change_percentage</th>\n",
       "      <th>atl_date</th>\n",
       "      <th>roi</th>\n",
       "      <th>last_updated</th>\n",
       "    </tr>\n",
       "    <tr>\n",
       "      <th>symbol</th>\n",
       "      <th></th>\n",
       "      <th></th>\n",
       "      <th></th>\n",
       "      <th></th>\n",
       "      <th></th>\n",
       "      <th></th>\n",
       "      <th></th>\n",
       "      <th></th>\n",
       "      <th></th>\n",
       "      <th></th>\n",
       "      <th></th>\n",
       "      <th></th>\n",
       "      <th></th>\n",
       "      <th></th>\n",
       "      <th></th>\n",
       "      <th></th>\n",
       "      <th></th>\n",
       "      <th></th>\n",
       "      <th></th>\n",
       "      <th></th>\n",
       "      <th></th>\n",
       "    </tr>\n",
       "  </thead>\n",
       "  <tbody>\n",
       "    <tr>\n",
       "      <th>BTC</th>\n",
       "      <td>bitcoin</td>\n",
       "      <td>btc</td>\n",
       "      <td>Bitcoin</td>\n",
       "      <td>https://assets.coingecko.com/coins/images/1/la...</td>\n",
       "      <td>30895.000000</td>\n",
       "      <td>590370801179</td>\n",
       "      <td>1</td>\n",
       "      <td>6.506159e+11</td>\n",
       "      <td>2.794116e+10</td>\n",
       "      <td>32227.000000</td>\n",
       "      <td>...</td>\n",
       "      <td>2.100000e+07</td>\n",
       "      <td>21000000.0</td>\n",
       "      <td>69045.00000</td>\n",
       "      <td>-54.92651</td>\n",
       "      <td>2021-11-10T14:24:11.849Z</td>\n",
       "      <td>67.810000</td>\n",
       "      <td>4.579492e+04</td>\n",
       "      <td>2013-07-06T00:00:00.000Z</td>\n",
       "      <td>None</td>\n",
       "      <td>2022-06-01T15:35:35.405Z</td>\n",
       "    </tr>\n",
       "    <tr>\n",
       "      <th>ETH</th>\n",
       "      <td>ethereum</td>\n",
       "      <td>eth</td>\n",
       "      <td>Ethereum</td>\n",
       "      <td>https://assets.coingecko.com/coins/images/279/...</td>\n",
       "      <td>1900.480000</td>\n",
       "      <td>230202657569</td>\n",
       "      <td>2</td>\n",
       "      <td>NaN</td>\n",
       "      <td>1.654759e+10</td>\n",
       "      <td>1995.170000</td>\n",
       "      <td>...</td>\n",
       "      <td>NaN</td>\n",
       "      <td>NaN</td>\n",
       "      <td>4878.26000</td>\n",
       "      <td>-60.88808</td>\n",
       "      <td>2021-11-10T14:24:19.604Z</td>\n",
       "      <td>0.432979</td>\n",
       "      <td>4.405638e+05</td>\n",
       "      <td>2015-10-20T00:00:00.000Z</td>\n",
       "      <td>{'times': 81.21291176233039, 'currency': 'btc'...</td>\n",
       "      <td>2022-06-01T15:34:52.113Z</td>\n",
       "    </tr>\n",
       "    <tr>\n",
       "      <th>USDT</th>\n",
       "      <td>tether</td>\n",
       "      <td>usdt</td>\n",
       "      <td>Tether</td>\n",
       "      <td>https://assets.coingecko.com/coins/images/325/...</td>\n",
       "      <td>1.002000</td>\n",
       "      <td>72669221034</td>\n",
       "      <td>3</td>\n",
       "      <td>NaN</td>\n",
       "      <td>4.918891e+10</td>\n",
       "      <td>1.004000</td>\n",
       "      <td>...</td>\n",
       "      <td>7.253845e+10</td>\n",
       "      <td>NaN</td>\n",
       "      <td>1.32000</td>\n",
       "      <td>-24.45775</td>\n",
       "      <td>2018-07-24T00:00:00.000Z</td>\n",
       "      <td>0.572521</td>\n",
       "      <td>7.457804e+01</td>\n",
       "      <td>2015-03-02T00:00:00.000Z</td>\n",
       "      <td>None</td>\n",
       "      <td>2022-06-01T15:32:39.218Z</td>\n",
       "    </tr>\n",
       "    <tr>\n",
       "      <th>USDC</th>\n",
       "      <td>usd-coin</td>\n",
       "      <td>usdc</td>\n",
       "      <td>USD Coin</td>\n",
       "      <td>https://assets.coingecko.com/coins/images/6319...</td>\n",
       "      <td>0.999750</td>\n",
       "      <td>54079514472</td>\n",
       "      <td>4</td>\n",
       "      <td>NaN</td>\n",
       "      <td>5.022641e+09</td>\n",
       "      <td>1.005000</td>\n",
       "      <td>...</td>\n",
       "      <td>5.400154e+10</td>\n",
       "      <td>NaN</td>\n",
       "      <td>1.17000</td>\n",
       "      <td>-14.74719</td>\n",
       "      <td>2019-05-08T00:40:28.300Z</td>\n",
       "      <td>0.891848</td>\n",
       "      <td>1.210037e+01</td>\n",
       "      <td>2021-05-19T13:14:05.611Z</td>\n",
       "      <td>None</td>\n",
       "      <td>2022-06-01T15:34:28.859Z</td>\n",
       "    </tr>\n",
       "    <tr>\n",
       "      <th>BNB</th>\n",
       "      <td>binancecoin</td>\n",
       "      <td>bnb</td>\n",
       "      <td>BNB</td>\n",
       "      <td>https://assets.coingecko.com/coins/images/825/...</td>\n",
       "      <td>308.590000</td>\n",
       "      <td>52097838007</td>\n",
       "      <td>5</td>\n",
       "      <td>5.209784e+10</td>\n",
       "      <td>1.643765e+09</td>\n",
       "      <td>323.630000</td>\n",
       "      <td>...</td>\n",
       "      <td>1.681370e+08</td>\n",
       "      <td>168137035.9</td>\n",
       "      <td>686.31000</td>\n",
       "      <td>-54.61706</td>\n",
       "      <td>2021-05-10T07:24:17.097Z</td>\n",
       "      <td>0.039818</td>\n",
       "      <td>7.821304e+05</td>\n",
       "      <td>2017-10-19T00:00:00.000Z</td>\n",
       "      <td>None</td>\n",
       "      <td>2022-06-01T15:35:00.119Z</td>\n",
       "    </tr>\n",
       "    <tr>\n",
       "      <th>...</th>\n",
       "      <td>...</td>\n",
       "      <td>...</td>\n",
       "      <td>...</td>\n",
       "      <td>...</td>\n",
       "      <td>...</td>\n",
       "      <td>...</td>\n",
       "      <td>...</td>\n",
       "      <td>...</td>\n",
       "      <td>...</td>\n",
       "      <td>...</td>\n",
       "      <td>...</td>\n",
       "      <td>...</td>\n",
       "      <td>...</td>\n",
       "      <td>...</td>\n",
       "      <td>...</td>\n",
       "      <td>...</td>\n",
       "      <td>...</td>\n",
       "      <td>...</td>\n",
       "      <td>...</td>\n",
       "      <td>...</td>\n",
       "      <td>...</td>\n",
       "    </tr>\n",
       "    <tr>\n",
       "      <th>STND</th>\n",
       "      <td>standard-protocol</td>\n",
       "      <td>stnd</td>\n",
       "      <td>Standard Protocol</td>\n",
       "      <td>https://assets.coingecko.com/coins/images/1510...</td>\n",
       "      <td>0.047453</td>\n",
       "      <td>1327474</td>\n",
       "      <td>1896</td>\n",
       "      <td>4.741756e+06</td>\n",
       "      <td>2.706890e+05</td>\n",
       "      <td>0.050753</td>\n",
       "      <td>...</td>\n",
       "      <td>1.000000e+08</td>\n",
       "      <td>100000000.0</td>\n",
       "      <td>3.06000</td>\n",
       "      <td>-98.49793</td>\n",
       "      <td>2021-05-14T15:00:55.747Z</td>\n",
       "      <td>0.029200</td>\n",
       "      <td>5.757135e+01</td>\n",
       "      <td>2022-05-12T07:29:23.387Z</td>\n",
       "      <td>None</td>\n",
       "      <td>2022-06-01T15:34:22.403Z</td>\n",
       "    </tr>\n",
       "    <tr>\n",
       "      <th>PTF</th>\n",
       "      <td>powertrade-fuel</td>\n",
       "      <td>ptf</td>\n",
       "      <td>PowerTrade Fuel</td>\n",
       "      <td>https://assets.coingecko.com/coins/images/1259...</td>\n",
       "      <td>0.053594</td>\n",
       "      <td>1321183</td>\n",
       "      <td>1897</td>\n",
       "      <td>2.150910e+07</td>\n",
       "      <td>2.031450e+05</td>\n",
       "      <td>0.057725</td>\n",
       "      <td>...</td>\n",
       "      <td>4.000000e+08</td>\n",
       "      <td>400000000.0</td>\n",
       "      <td>2.67000</td>\n",
       "      <td>-97.98757</td>\n",
       "      <td>2021-04-06T13:03:51.475Z</td>\n",
       "      <td>0.045175</td>\n",
       "      <td>1.905963e+01</td>\n",
       "      <td>2022-05-27T22:52:41.600Z</td>\n",
       "      <td>None</td>\n",
       "      <td>2022-06-01T15:35:16.664Z</td>\n",
       "    </tr>\n",
       "    <tr>\n",
       "      <th>XSN</th>\n",
       "      <td>stakenet</td>\n",
       "      <td>xsn</td>\n",
       "      <td>Stakenet</td>\n",
       "      <td>https://assets.coingecko.com/coins/images/3650...</td>\n",
       "      <td>0.010404</td>\n",
       "      <td>1318355</td>\n",
       "      <td>1898</td>\n",
       "      <td>NaN</td>\n",
       "      <td>9.194600e+02</td>\n",
       "      <td>NaN</td>\n",
       "      <td>...</td>\n",
       "      <td>1.307944e+08</td>\n",
       "      <td>NaN</td>\n",
       "      <td>0.88803</td>\n",
       "      <td>-98.82846</td>\n",
       "      <td>2018-06-10T14:19:44.058Z</td>\n",
       "      <td>0.008100</td>\n",
       "      <td>2.843591e+01</td>\n",
       "      <td>2022-05-01T11:52:28.899Z</td>\n",
       "      <td>None</td>\n",
       "      <td>2022-05-06T16:31:45.718Z</td>\n",
       "    </tr>\n",
       "    <tr>\n",
       "      <th>BIOS</th>\n",
       "      <td>bios</td>\n",
       "      <td>bios</td>\n",
       "      <td>0x_nodes</td>\n",
       "      <td>https://assets.coingecko.com/coins/images/1560...</td>\n",
       "      <td>0.252255</td>\n",
       "      <td>1310914</td>\n",
       "      <td>1899</td>\n",
       "      <td>2.529433e+06</td>\n",
       "      <td>4.960400e+02</td>\n",
       "      <td>0.265146</td>\n",
       "      <td>...</td>\n",
       "      <td>1.000000e+07</td>\n",
       "      <td>10000000.0</td>\n",
       "      <td>23.65000</td>\n",
       "      <td>-98.92425</td>\n",
       "      <td>2021-05-18T02:33:17.245Z</td>\n",
       "      <td>0.000000</td>\n",
       "      <td>8.684781e+27</td>\n",
       "      <td>2021-12-07T12:22:13.267Z</td>\n",
       "      <td>None</td>\n",
       "      <td>2022-06-01T15:35:24.019Z</td>\n",
       "    </tr>\n",
       "    <tr>\n",
       "      <th>DFY</th>\n",
       "      <td>defi-for-you</td>\n",
       "      <td>dfy</td>\n",
       "      <td>Defi For You</td>\n",
       "      <td>https://assets.coingecko.com/coins/images/1456...</td>\n",
       "      <td>0.003102</td>\n",
       "      <td>1308930</td>\n",
       "      <td>1900</td>\n",
       "      <td>NaN</td>\n",
       "      <td>2.384500e+05</td>\n",
       "      <td>0.003208</td>\n",
       "      <td>...</td>\n",
       "      <td>8.464165e+08</td>\n",
       "      <td>NaN</td>\n",
       "      <td>0.27096</td>\n",
       "      <td>-98.85861</td>\n",
       "      <td>2021-04-21T07:49:21.117Z</td>\n",
       "      <td>0.002816</td>\n",
       "      <td>9.845300e+00</td>\n",
       "      <td>2022-05-29T16:04:03.493Z</td>\n",
       "      <td>None</td>\n",
       "      <td>2022-06-01T15:33:58.683Z</td>\n",
       "    </tr>\n",
       "  </tbody>\n",
       "</table>\n",
       "<p>1900 rows × 26 columns</p>\n",
       "</div>"
      ],
      "text/plain": [
       "                       id symbol               name  \\\n",
       "symbol                                                \n",
       "BTC               bitcoin    btc            Bitcoin   \n",
       "ETH              ethereum    eth           Ethereum   \n",
       "USDT               tether   usdt             Tether   \n",
       "USDC             usd-coin   usdc           USD Coin   \n",
       "BNB           binancecoin    bnb                BNB   \n",
       "...                   ...    ...                ...   \n",
       "STND    standard-protocol   stnd  Standard Protocol   \n",
       "PTF       powertrade-fuel    ptf    PowerTrade Fuel   \n",
       "XSN              stakenet    xsn           Stakenet   \n",
       "BIOS                 bios   bios           0x_nodes   \n",
       "DFY          defi-for-you    dfy       Defi For You   \n",
       "\n",
       "                                                    image  current_price  \\\n",
       "symbol                                                                     \n",
       "BTC     https://assets.coingecko.com/coins/images/1/la...   30895.000000   \n",
       "ETH     https://assets.coingecko.com/coins/images/279/...    1900.480000   \n",
       "USDT    https://assets.coingecko.com/coins/images/325/...       1.002000   \n",
       "USDC    https://assets.coingecko.com/coins/images/6319...       0.999750   \n",
       "BNB     https://assets.coingecko.com/coins/images/825/...     308.590000   \n",
       "...                                                   ...            ...   \n",
       "STND    https://assets.coingecko.com/coins/images/1510...       0.047453   \n",
       "PTF     https://assets.coingecko.com/coins/images/1259...       0.053594   \n",
       "XSN     https://assets.coingecko.com/coins/images/3650...       0.010404   \n",
       "BIOS    https://assets.coingecko.com/coins/images/1560...       0.252255   \n",
       "DFY     https://assets.coingecko.com/coins/images/1456...       0.003102   \n",
       "\n",
       "          market_cap  market_cap_rank  fully_diluted_valuation  total_volume  \\\n",
       "symbol                                                                         \n",
       "BTC     590370801179                1             6.506159e+11  2.794116e+10   \n",
       "ETH     230202657569                2                      NaN  1.654759e+10   \n",
       "USDT     72669221034                3                      NaN  4.918891e+10   \n",
       "USDC     54079514472                4                      NaN  5.022641e+09   \n",
       "BNB      52097838007                5             5.209784e+10  1.643765e+09   \n",
       "...              ...              ...                      ...           ...   \n",
       "STND         1327474             1896             4.741756e+06  2.706890e+05   \n",
       "PTF          1321183             1897             2.150910e+07  2.031450e+05   \n",
       "XSN          1318355             1898                      NaN  9.194600e+02   \n",
       "BIOS         1310914             1899             2.529433e+06  4.960400e+02   \n",
       "DFY          1308930             1900                      NaN  2.384500e+05   \n",
       "\n",
       "            high_24h  ...  total_supply   max_supply          ath  \\\n",
       "symbol                ...                                           \n",
       "BTC     32227.000000  ...  2.100000e+07   21000000.0  69045.00000   \n",
       "ETH      1995.170000  ...           NaN          NaN   4878.26000   \n",
       "USDT        1.004000  ...  7.253845e+10          NaN      1.32000   \n",
       "USDC        1.005000  ...  5.400154e+10          NaN      1.17000   \n",
       "BNB       323.630000  ...  1.681370e+08  168137035.9    686.31000   \n",
       "...              ...  ...           ...          ...          ...   \n",
       "STND        0.050753  ...  1.000000e+08  100000000.0      3.06000   \n",
       "PTF         0.057725  ...  4.000000e+08  400000000.0      2.67000   \n",
       "XSN              NaN  ...  1.307944e+08          NaN      0.88803   \n",
       "BIOS        0.265146  ...  1.000000e+07   10000000.0     23.65000   \n",
       "DFY         0.003208  ...  8.464165e+08          NaN      0.27096   \n",
       "\n",
       "        ath_change_percentage                  ath_date        atl  \\\n",
       "symbol                                                               \n",
       "BTC                 -54.92651  2021-11-10T14:24:11.849Z  67.810000   \n",
       "ETH                 -60.88808  2021-11-10T14:24:19.604Z   0.432979   \n",
       "USDT                -24.45775  2018-07-24T00:00:00.000Z   0.572521   \n",
       "USDC                -14.74719  2019-05-08T00:40:28.300Z   0.891848   \n",
       "BNB                 -54.61706  2021-05-10T07:24:17.097Z   0.039818   \n",
       "...                       ...                       ...        ...   \n",
       "STND                -98.49793  2021-05-14T15:00:55.747Z   0.029200   \n",
       "PTF                 -97.98757  2021-04-06T13:03:51.475Z   0.045175   \n",
       "XSN                 -98.82846  2018-06-10T14:19:44.058Z   0.008100   \n",
       "BIOS                -98.92425  2021-05-18T02:33:17.245Z   0.000000   \n",
       "DFY                 -98.85861  2021-04-21T07:49:21.117Z   0.002816   \n",
       "\n",
       "        atl_change_percentage                  atl_date  \\\n",
       "symbol                                                    \n",
       "BTC              4.579492e+04  2013-07-06T00:00:00.000Z   \n",
       "ETH              4.405638e+05  2015-10-20T00:00:00.000Z   \n",
       "USDT             7.457804e+01  2015-03-02T00:00:00.000Z   \n",
       "USDC             1.210037e+01  2021-05-19T13:14:05.611Z   \n",
       "BNB              7.821304e+05  2017-10-19T00:00:00.000Z   \n",
       "...                       ...                       ...   \n",
       "STND             5.757135e+01  2022-05-12T07:29:23.387Z   \n",
       "PTF              1.905963e+01  2022-05-27T22:52:41.600Z   \n",
       "XSN              2.843591e+01  2022-05-01T11:52:28.899Z   \n",
       "BIOS             8.684781e+27  2021-12-07T12:22:13.267Z   \n",
       "DFY              9.845300e+00  2022-05-29T16:04:03.493Z   \n",
       "\n",
       "                                                      roi  \\\n",
       "symbol                                                      \n",
       "BTC                                                  None   \n",
       "ETH     {'times': 81.21291176233039, 'currency': 'btc'...   \n",
       "USDT                                                 None   \n",
       "USDC                                                 None   \n",
       "BNB                                                  None   \n",
       "...                                                   ...   \n",
       "STND                                                 None   \n",
       "PTF                                                  None   \n",
       "XSN                                                  None   \n",
       "BIOS                                                 None   \n",
       "DFY                                                  None   \n",
       "\n",
       "                    last_updated  \n",
       "symbol                            \n",
       "BTC     2022-06-01T15:35:35.405Z  \n",
       "ETH     2022-06-01T15:34:52.113Z  \n",
       "USDT    2022-06-01T15:32:39.218Z  \n",
       "USDC    2022-06-01T15:34:28.859Z  \n",
       "BNB     2022-06-01T15:35:00.119Z  \n",
       "...                          ...  \n",
       "STND    2022-06-01T15:34:22.403Z  \n",
       "PTF     2022-06-01T15:35:16.664Z  \n",
       "XSN     2022-05-06T16:31:45.718Z  \n",
       "BIOS    2022-06-01T15:35:24.019Z  \n",
       "DFY     2022-06-01T15:33:58.683Z  \n",
       "\n",
       "[1900 rows x 26 columns]"
      ]
     },
     "execution_count": 59,
     "metadata": {},
     "output_type": "execute_result"
    }
   ],
   "source": [
    "tokens_data"
   ]
  },
  {
   "cell_type": "markdown",
   "id": "b78782ff-8b2c-4899-8770-8e5748f66ff4",
   "metadata": {},
   "source": [
    "### Liquidity check"
   ]
  },
  {
   "cell_type": "code",
   "execution_count": 60,
   "id": "04b6e81f-1dd5-4bf5-bb91-f98d7ff064bd",
   "metadata": {},
   "outputs": [],
   "source": [
    "dex_subgraph_urls = {\n",
    "    'Trader Joe': 'https://api.thegraph.com/subgraphs/name/traderjoe-xyz/exchange',\n",
    "    'Pangolin': 'https://api.thegraph.com/subgraphs/name/dasconnor/pangolin-dex'\n",
    "} "
   ]
  },
  {
   "cell_type": "code",
   "execution_count": 61,
   "id": "fe0d95d2-eef4-4559-9d02-99ab022172cb",
   "metadata": {},
   "outputs": [],
   "source": [
    "query = \"\"\"\n",
    "    query pairs ($token0_ids: [ID!]!, $token1_ids: [ID!]!) {\n",
    "        pairs (first:1000, where: {token0_in: $token0_ids, token1_in: $token1_ids}){\n",
    "            id\n",
    "            token0 {\n",
    "              id\n",
    "            }\n",
    "            token1 {\n",
    "              id\n",
    "            }\n",
    "            reserveUSD\n",
    "        }\n",
    "    }\n",
    "    \"\"\""
   ]
  },
  {
   "cell_type": "code",
   "execution_count": 62,
   "id": "d31ce49e-906e-47cf-9b45-bd77034020a0",
   "metadata": {},
   "outputs": [
    {
     "data": {
      "text/plain": [
       "[{'symbol': 'WAVAX', 'address': '0xb31f66aa3c1e785363f0875a1b74e27b85fd66c7'},\n",
       " {'symbol': 'USDC', 'address': '0xa7d7079b0fead91f3e65f86e8915cb59c1a4c664'}]"
      ]
     },
     "execution_count": 62,
     "metadata": {},
     "output_type": "execute_result"
    }
   ],
   "source": [
    "base_tokens = [tokens['WAVAX'], tokens['USDC']] \n",
    "base_tokens"
   ]
  },
  {
   "cell_type": "code",
   "execution_count": 63,
   "id": "4d1db3ef-e702-4ef4-95de-5844d91814ab",
   "metadata": {},
   "outputs": [],
   "source": [
    "topn = 10000 \n",
    "topn_tokens = [tokens[symb] \n",
    "               for symb in tokens_data[:topn].index \n",
    "               if symb in tokens.keys()]\n",
    "topn_tokens.extend(base_tokens)"
   ]
  },
  {
   "cell_type": "code",
   "execution_count": 64,
   "id": "f4a95914-bda9-4c72-b0ad-18732c23718a",
   "metadata": {},
   "outputs": [],
   "source": [
    "base_tokens_ids = [token['address'] for token in base_tokens]\n",
    "tokens_ids = [token['address'] for token in topn_tokens] "
   ]
  },
  {
   "cell_type": "code",
   "execution_count": 65,
   "id": "4c5dbfa2-363c-442d-8f43-723d636516e2",
   "metadata": {},
   "outputs": [
    {
     "name": "stdout",
     "output_type": "stream",
     "text": [
      "Trader Joe: 71 pairs\n",
      "Pangolin: 42 pairs\n"
     ]
    }
   ],
   "source": [
    "rows = {token['symbol']: {} for token in topn_tokens}\n",
    "for dex_name, url in dex_subgraph_urls.items():\n",
    "    request = requests.post(url, json={'query': query, 'variables': {'token0_ids': base_tokens_ids, 'token1_ids': tokens_ids}})\n",
    "    pairs1 = request.json()['data']['pairs']\n",
    "\n",
    "    request = requests.post(url, json={'query': query, 'variables': {'token0_ids': tokens_ids, 'token1_ids': base_tokens_ids}})\n",
    "    pairs2 = request.json()['data']['pairs']\n",
    "    \n",
    "    pairs = pairs1 + pairs2\n",
    "    \n",
    "    print(f\"{dex_name}: {len(pairs)} pairs\")\n",
    "    \n",
    "    for pair in pairs:\n",
    "        if pair['token0']['id'] in base_tokens_ids:\n",
    "            base_token = tokens_by_addr[pair['token0']['id']]\n",
    "            token = tokens_by_addr[pair['token1']['id']]\n",
    "        else:\n",
    "            base_token = tokens_by_addr[pair['token1']['id']]\n",
    "            token = tokens_by_addr[pair['token0']['id']]\n",
    "        \n",
    "        colname = f\"{dex_name}_{base_token['symbol']}\" \n",
    "        \n",
    "        rows[token['symbol']][colname] = float(pair['reserveUSD'])"
   ]
  },
  {
   "cell_type": "code",
   "execution_count": 66,
   "id": "dc2a4c5b-0c33-4f16-a138-93b7d87f7bf3",
   "metadata": {},
   "outputs": [],
   "source": [
    "liquidities = pd.DataFrame.from_dict(rows, orient='index')\n",
    "liquidities = liquidities.rename(index={'WAVAX': 'AVAX'})\n",
    "liq_check = (liquidities > 5e6).any(axis=1).sort_values(ascending=False)\n",
    "liq_check_passed = liq_check[liq_check]"
   ]
  },
  {
   "cell_type": "code",
   "execution_count": 67,
   "id": "7b533b1f-6ea4-470b-9b76-a52c1c114606",
   "metadata": {},
   "outputs": [
    {
     "data": {
      "text/html": [
       "<div>\n",
       "<style scoped>\n",
       "    .dataframe tbody tr th:only-of-type {\n",
       "        vertical-align: middle;\n",
       "    }\n",
       "\n",
       "    .dataframe tbody tr th {\n",
       "        vertical-align: top;\n",
       "    }\n",
       "\n",
       "    .dataframe thead th {\n",
       "        text-align: right;\n",
       "    }\n",
       "</style>\n",
       "<table border=\"1\" class=\"dataframe\">\n",
       "  <thead>\n",
       "    <tr style=\"text-align: right;\">\n",
       "      <th></th>\n",
       "      <th>Trader Joe_USDC</th>\n",
       "      <th>Trader Joe_WAVAX</th>\n",
       "      <th>Pangolin_USDC</th>\n",
       "      <th>Pangolin_WAVAX</th>\n",
       "    </tr>\n",
       "  </thead>\n",
       "  <tbody>\n",
       "    <tr>\n",
       "      <th>USDT</th>\n",
       "      <td>1.431881e+06</td>\n",
       "      <td>2.193955e+07</td>\n",
       "      <td>2.463465e+05</td>\n",
       "      <td>6.750316e+06</td>\n",
       "    </tr>\n",
       "    <tr>\n",
       "      <th>SUSD</th>\n",
       "      <td>1.007826e+04</td>\n",
       "      <td>NaN</td>\n",
       "      <td>9.990253e-07</td>\n",
       "      <td>4.690038e-02</td>\n",
       "    </tr>\n",
       "    <tr>\n",
       "      <th>JOE</th>\n",
       "      <td>7.411027e+05</td>\n",
       "      <td>1.307024e+07</td>\n",
       "      <td>4.321410e+00</td>\n",
       "      <td>3.805477e+04</td>\n",
       "    </tr>\n",
       "    <tr>\n",
       "      <th>SAVAX</th>\n",
       "      <td>1.904018e-01</td>\n",
       "      <td>1.051433e+07</td>\n",
       "      <td>NaN</td>\n",
       "      <td>7.778932e+05</td>\n",
       "    </tr>\n",
       "    <tr>\n",
       "      <th>FITFI</th>\n",
       "      <td>3.365560e+00</td>\n",
       "      <td>9.536993e+03</td>\n",
       "      <td>NaN</td>\n",
       "      <td>1.332207e+05</td>\n",
       "    </tr>\n",
       "    <tr>\n",
       "      <th>TIME</th>\n",
       "      <td>2.291381e-02</td>\n",
       "      <td>9.930914e+04</td>\n",
       "      <td>NaN</td>\n",
       "      <td>1.924915e+04</td>\n",
       "    </tr>\n",
       "    <tr>\n",
       "      <th>SB</th>\n",
       "      <td>1.510778e-03</td>\n",
       "      <td>8.968323e+03</td>\n",
       "      <td>NaN</td>\n",
       "      <td>2.300122e+01</td>\n",
       "    </tr>\n",
       "    <tr>\n",
       "      <th>THOR</th>\n",
       "      <td>1.187335e+01</td>\n",
       "      <td>3.208087e+06</td>\n",
       "      <td>NaN</td>\n",
       "      <td>1.194725e+01</td>\n",
       "    </tr>\n",
       "    <tr>\n",
       "      <th>QI</th>\n",
       "      <td>2.208191e-04</td>\n",
       "      <td>2.051914e+05</td>\n",
       "      <td>NaN</td>\n",
       "      <td>3.751503e+06</td>\n",
       "    </tr>\n",
       "    <tr>\n",
       "      <th>XAVA</th>\n",
       "      <td>6.128991e-01</td>\n",
       "      <td>9.572737e+05</td>\n",
       "      <td>4.321397e+00</td>\n",
       "      <td>2.255211e+06</td>\n",
       "    </tr>\n",
       "    <tr>\n",
       "      <th>CREAM</th>\n",
       "      <td>4.493320e-02</td>\n",
       "      <td>1.581400e+04</td>\n",
       "      <td>NaN</td>\n",
       "      <td>NaN</td>\n",
       "    </tr>\n",
       "    <tr>\n",
       "      <th>PTP</th>\n",
       "      <td>1.775998e-01</td>\n",
       "      <td>2.705665e+06</td>\n",
       "      <td>NaN</td>\n",
       "      <td>3.837487e+03</td>\n",
       "    </tr>\n",
       "    <tr>\n",
       "      <th>CRA</th>\n",
       "      <td>1.345197e+01</td>\n",
       "      <td>6.428547e+05</td>\n",
       "      <td>NaN</td>\n",
       "      <td>7.265074e+04</td>\n",
       "    </tr>\n",
       "    <tr>\n",
       "      <th>YAK</th>\n",
       "      <td>5.188806e+02</td>\n",
       "      <td>5.159639e+04</td>\n",
       "      <td>NaN</td>\n",
       "      <td>4.289658e+05</td>\n",
       "    </tr>\n",
       "    <tr>\n",
       "      <th>EGG</th>\n",
       "      <td>2.143914e-02</td>\n",
       "      <td>1.466546e+06</td>\n",
       "      <td>NaN</td>\n",
       "      <td>2.858726e+00</td>\n",
       "    </tr>\n",
       "    <tr>\n",
       "      <th>GAIA</th>\n",
       "      <td>5.913846e+03</td>\n",
       "      <td>2.285501e-02</td>\n",
       "      <td>NaN</td>\n",
       "      <td>NaN</td>\n",
       "    </tr>\n",
       "    <tr>\n",
       "      <th>ONION</th>\n",
       "      <td>4.074296e+02</td>\n",
       "      <td>3.118372e+02</td>\n",
       "      <td>NaN</td>\n",
       "      <td>NaN</td>\n",
       "    </tr>\n",
       "    <tr>\n",
       "      <th>DCAU</th>\n",
       "      <td>9.884971e-02</td>\n",
       "      <td>3.031879e+05</td>\n",
       "      <td>NaN</td>\n",
       "      <td>2.042559e+03</td>\n",
       "    </tr>\n",
       "    <tr>\n",
       "      <th>IME</th>\n",
       "      <td>4.019699e-01</td>\n",
       "      <td>4.434626e+05</td>\n",
       "      <td>NaN</td>\n",
       "      <td>1.355448e+04</td>\n",
       "    </tr>\n",
       "    <tr>\n",
       "      <th>KLO</th>\n",
       "      <td>1.000513e-06</td>\n",
       "      <td>1.544615e+05</td>\n",
       "      <td>1.002381e-06</td>\n",
       "      <td>3.064532e+05</td>\n",
       "    </tr>\n",
       "    <tr>\n",
       "      <th>ROCO</th>\n",
       "      <td>8.654134e-02</td>\n",
       "      <td>6.321024e+03</td>\n",
       "      <td>NaN</td>\n",
       "      <td>1.190455e+05</td>\n",
       "    </tr>\n",
       "    <tr>\n",
       "      <th>AVAX</th>\n",
       "      <td>2.040602e+07</td>\n",
       "      <td>NaN</td>\n",
       "      <td>9.472083e+06</td>\n",
       "      <td>NaN</td>\n",
       "    </tr>\n",
       "    <tr>\n",
       "      <th>LEO</th>\n",
       "      <td>NaN</td>\n",
       "      <td>4.589852e+04</td>\n",
       "      <td>NaN</td>\n",
       "      <td>NaN</td>\n",
       "    </tr>\n",
       "    <tr>\n",
       "      <th>CAKE</th>\n",
       "      <td>NaN</td>\n",
       "      <td>8.226388e+00</td>\n",
       "      <td>NaN</td>\n",
       "      <td>NaN</td>\n",
       "    </tr>\n",
       "    <tr>\n",
       "      <th>YUSD</th>\n",
       "      <td>NaN</td>\n",
       "      <td>4.178042e+04</td>\n",
       "      <td>NaN</td>\n",
       "      <td>NaN</td>\n",
       "    </tr>\n",
       "    <tr>\n",
       "      <th>AURORA</th>\n",
       "      <td>NaN</td>\n",
       "      <td>3.552027e+02</td>\n",
       "      <td>NaN</td>\n",
       "      <td>NaN</td>\n",
       "    </tr>\n",
       "    <tr>\n",
       "      <th>SUN</th>\n",
       "      <td>NaN</td>\n",
       "      <td>1.363428e+04</td>\n",
       "      <td>NaN</td>\n",
       "      <td>NaN</td>\n",
       "    </tr>\n",
       "    <tr>\n",
       "      <th>BFC</th>\n",
       "      <td>NaN</td>\n",
       "      <td>1.177856e+04</td>\n",
       "      <td>NaN</td>\n",
       "      <td>NaN</td>\n",
       "    </tr>\n",
       "    <tr>\n",
       "      <th>ALPHA</th>\n",
       "      <td>NaN</td>\n",
       "      <td>3.129938e+05</td>\n",
       "      <td>NaN</td>\n",
       "      <td>NaN</td>\n",
       "    </tr>\n",
       "    <tr>\n",
       "      <th>JPEG</th>\n",
       "      <td>NaN</td>\n",
       "      <td>7.376654e+04</td>\n",
       "      <td>NaN</td>\n",
       "      <td>NaN</td>\n",
       "    </tr>\n",
       "    <tr>\n",
       "      <th>HEC</th>\n",
       "      <td>NaN</td>\n",
       "      <td>3.452878e+05</td>\n",
       "      <td>NaN</td>\n",
       "      <td>5.473018e+04</td>\n",
       "    </tr>\n",
       "    <tr>\n",
       "      <th>GF</th>\n",
       "      <td>NaN</td>\n",
       "      <td>5.781260e+03</td>\n",
       "      <td>NaN</td>\n",
       "      <td>5.173716e+02</td>\n",
       "    </tr>\n",
       "    <tr>\n",
       "      <th>BANANA</th>\n",
       "      <td>NaN</td>\n",
       "      <td>3.618560e+03</td>\n",
       "      <td>NaN</td>\n",
       "      <td>NaN</td>\n",
       "    </tr>\n",
       "    <tr>\n",
       "      <th>ORCA</th>\n",
       "      <td>NaN</td>\n",
       "      <td>7.401697e-15</td>\n",
       "      <td>9.989406e-07</td>\n",
       "      <td>4.369897e+03</td>\n",
       "    </tr>\n",
       "    <tr>\n",
       "      <th>LOOT</th>\n",
       "      <td>NaN</td>\n",
       "      <td>5.642975e+02</td>\n",
       "      <td>1.573887e-05</td>\n",
       "      <td>1.091496e+04</td>\n",
       "    </tr>\n",
       "    <tr>\n",
       "      <th>SBR</th>\n",
       "      <td>NaN</td>\n",
       "      <td>2.431503e+00</td>\n",
       "      <td>NaN</td>\n",
       "      <td>NaN</td>\n",
       "    </tr>\n",
       "    <tr>\n",
       "      <th>MAG</th>\n",
       "      <td>NaN</td>\n",
       "      <td>4.183138e-01</td>\n",
       "      <td>NaN</td>\n",
       "      <td>NaN</td>\n",
       "    </tr>\n",
       "    <tr>\n",
       "      <th>POLAR</th>\n",
       "      <td>NaN</td>\n",
       "      <td>3.239280e+05</td>\n",
       "      <td>NaN</td>\n",
       "      <td>NaN</td>\n",
       "    </tr>\n",
       "    <tr>\n",
       "      <th>BPT</th>\n",
       "      <td>NaN</td>\n",
       "      <td>1.655508e+05</td>\n",
       "      <td>NaN</td>\n",
       "      <td>1.198051e+05</td>\n",
       "    </tr>\n",
       "    <tr>\n",
       "      <th>VTX</th>\n",
       "      <td>NaN</td>\n",
       "      <td>1.445934e+06</td>\n",
       "      <td>NaN</td>\n",
       "      <td>NaN</td>\n",
       "    </tr>\n",
       "    <tr>\n",
       "      <th>PNG</th>\n",
       "      <td>NaN</td>\n",
       "      <td>6.600595e+03</td>\n",
       "      <td>2.209161e+04</td>\n",
       "      <td>1.943731e+06</td>\n",
       "    </tr>\n",
       "    <tr>\n",
       "      <th>GHOST</th>\n",
       "      <td>NaN</td>\n",
       "      <td>2.044596e-03</td>\n",
       "      <td>NaN</td>\n",
       "      <td>NaN</td>\n",
       "    </tr>\n",
       "    <tr>\n",
       "      <th>BTCP</th>\n",
       "      <td>NaN</td>\n",
       "      <td>7.629215e-01</td>\n",
       "      <td>NaN</td>\n",
       "      <td>NaN</td>\n",
       "    </tr>\n",
       "    <tr>\n",
       "      <th>VEE</th>\n",
       "      <td>NaN</td>\n",
       "      <td>7.514849e-02</td>\n",
       "      <td>NaN</td>\n",
       "      <td>3.623919e+04</td>\n",
       "    </tr>\n",
       "    <tr>\n",
       "      <th>SIN</th>\n",
       "      <td>NaN</td>\n",
       "      <td>2.271964e+01</td>\n",
       "      <td>NaN</td>\n",
       "      <td>NaN</td>\n",
       "    </tr>\n",
       "    <tr>\n",
       "      <th>OTO</th>\n",
       "      <td>NaN</td>\n",
       "      <td>2.797078e+04</td>\n",
       "      <td>NaN</td>\n",
       "      <td>NaN</td>\n",
       "    </tr>\n",
       "    <tr>\n",
       "      <th>MAXI</th>\n",
       "      <td>NaN</td>\n",
       "      <td>1.205798e-01</td>\n",
       "      <td>NaN</td>\n",
       "      <td>6.728519e+03</td>\n",
       "    </tr>\n",
       "    <tr>\n",
       "      <th>YETI</th>\n",
       "      <td>NaN</td>\n",
       "      <td>1.575990e+06</td>\n",
       "      <td>NaN</td>\n",
       "      <td>NaN</td>\n",
       "    </tr>\n",
       "    <tr>\n",
       "      <th>DON</th>\n",
       "      <td>NaN</td>\n",
       "      <td>5.724235e+04</td>\n",
       "      <td>NaN</td>\n",
       "      <td>1.008130e+02</td>\n",
       "    </tr>\n",
       "    <tr>\n",
       "      <th>BIRD</th>\n",
       "      <td>NaN</td>\n",
       "      <td>1.097530e+02</td>\n",
       "      <td>NaN</td>\n",
       "      <td>9.113456e+02</td>\n",
       "    </tr>\n",
       "    <tr>\n",
       "      <th>MINT</th>\n",
       "      <td>NaN</td>\n",
       "      <td>NaN</td>\n",
       "      <td>3.544734e+02</td>\n",
       "      <td>1.903479e+02</td>\n",
       "    </tr>\n",
       "    <tr>\n",
       "      <th>SWAPXI</th>\n",
       "      <td>NaN</td>\n",
       "      <td>NaN</td>\n",
       "      <td>NaN</td>\n",
       "      <td>2.482046e+05</td>\n",
       "    </tr>\n",
       "    <tr>\n",
       "      <th>ACRE</th>\n",
       "      <td>NaN</td>\n",
       "      <td>NaN</td>\n",
       "      <td>NaN</td>\n",
       "      <td>9.241943e+04</td>\n",
       "    </tr>\n",
       "  </tbody>\n",
       "</table>\n",
       "</div>"
      ],
      "text/plain": [
       "        Trader Joe_USDC  Trader Joe_WAVAX  Pangolin_USDC  Pangolin_WAVAX\n",
       "USDT       1.431881e+06      2.193955e+07   2.463465e+05    6.750316e+06\n",
       "SUSD       1.007826e+04               NaN   9.990253e-07    4.690038e-02\n",
       "JOE        7.411027e+05      1.307024e+07   4.321410e+00    3.805477e+04\n",
       "SAVAX      1.904018e-01      1.051433e+07            NaN    7.778932e+05\n",
       "FITFI      3.365560e+00      9.536993e+03            NaN    1.332207e+05\n",
       "TIME       2.291381e-02      9.930914e+04            NaN    1.924915e+04\n",
       "SB         1.510778e-03      8.968323e+03            NaN    2.300122e+01\n",
       "THOR       1.187335e+01      3.208087e+06            NaN    1.194725e+01\n",
       "QI         2.208191e-04      2.051914e+05            NaN    3.751503e+06\n",
       "XAVA       6.128991e-01      9.572737e+05   4.321397e+00    2.255211e+06\n",
       "CREAM      4.493320e-02      1.581400e+04            NaN             NaN\n",
       "PTP        1.775998e-01      2.705665e+06            NaN    3.837487e+03\n",
       "CRA        1.345197e+01      6.428547e+05            NaN    7.265074e+04\n",
       "YAK        5.188806e+02      5.159639e+04            NaN    4.289658e+05\n",
       "EGG        2.143914e-02      1.466546e+06            NaN    2.858726e+00\n",
       "GAIA       5.913846e+03      2.285501e-02            NaN             NaN\n",
       "ONION      4.074296e+02      3.118372e+02            NaN             NaN\n",
       "DCAU       9.884971e-02      3.031879e+05            NaN    2.042559e+03\n",
       "IME        4.019699e-01      4.434626e+05            NaN    1.355448e+04\n",
       "KLO        1.000513e-06      1.544615e+05   1.002381e-06    3.064532e+05\n",
       "ROCO       8.654134e-02      6.321024e+03            NaN    1.190455e+05\n",
       "AVAX       2.040602e+07               NaN   9.472083e+06             NaN\n",
       "LEO                 NaN      4.589852e+04            NaN             NaN\n",
       "CAKE                NaN      8.226388e+00            NaN             NaN\n",
       "YUSD                NaN      4.178042e+04            NaN             NaN\n",
       "AURORA              NaN      3.552027e+02            NaN             NaN\n",
       "SUN                 NaN      1.363428e+04            NaN             NaN\n",
       "BFC                 NaN      1.177856e+04            NaN             NaN\n",
       "ALPHA               NaN      3.129938e+05            NaN             NaN\n",
       "JPEG                NaN      7.376654e+04            NaN             NaN\n",
       "HEC                 NaN      3.452878e+05            NaN    5.473018e+04\n",
       "GF                  NaN      5.781260e+03            NaN    5.173716e+02\n",
       "BANANA              NaN      3.618560e+03            NaN             NaN\n",
       "ORCA                NaN      7.401697e-15   9.989406e-07    4.369897e+03\n",
       "LOOT                NaN      5.642975e+02   1.573887e-05    1.091496e+04\n",
       "SBR                 NaN      2.431503e+00            NaN             NaN\n",
       "MAG                 NaN      4.183138e-01            NaN             NaN\n",
       "POLAR               NaN      3.239280e+05            NaN             NaN\n",
       "BPT                 NaN      1.655508e+05            NaN    1.198051e+05\n",
       "VTX                 NaN      1.445934e+06            NaN             NaN\n",
       "PNG                 NaN      6.600595e+03   2.209161e+04    1.943731e+06\n",
       "GHOST               NaN      2.044596e-03            NaN             NaN\n",
       "BTCP                NaN      7.629215e-01            NaN             NaN\n",
       "VEE                 NaN      7.514849e-02            NaN    3.623919e+04\n",
       "SIN                 NaN      2.271964e+01            NaN             NaN\n",
       "OTO                 NaN      2.797078e+04            NaN             NaN\n",
       "MAXI                NaN      1.205798e-01            NaN    6.728519e+03\n",
       "YETI                NaN      1.575990e+06            NaN             NaN\n",
       "DON                 NaN      5.724235e+04            NaN    1.008130e+02\n",
       "BIRD                NaN      1.097530e+02            NaN    9.113456e+02\n",
       "MINT                NaN               NaN   3.544734e+02    1.903479e+02\n",
       "SWAPXI              NaN               NaN            NaN    2.482046e+05\n",
       "ACRE                NaN               NaN            NaN    9.241943e+04"
      ]
     },
     "execution_count": 67,
     "metadata": {},
     "output_type": "execute_result"
    }
   ],
   "source": [
    "liquidities"
   ]
  },
  {
   "cell_type": "code",
   "execution_count": 68,
   "id": "2be47a8a-446f-41eb-a899-64bdc18702f4",
   "metadata": {},
   "outputs": [],
   "source": [
    "lq_passed = tokens_data[\n",
    "    tokens_data.index.isin(liq_check_passed.index)\n",
    "]"
   ]
  },
  {
   "cell_type": "code",
   "execution_count": 69,
   "id": "e072b9b5-26a7-402c-8a70-7ff460a9519b",
   "metadata": {
    "tags": []
   },
   "outputs": [
    {
     "data": {
      "text/html": [
       "<div>\n",
       "<style scoped>\n",
       "    .dataframe tbody tr th:only-of-type {\n",
       "        vertical-align: middle;\n",
       "    }\n",
       "\n",
       "    .dataframe tbody tr th {\n",
       "        vertical-align: top;\n",
       "    }\n",
       "\n",
       "    .dataframe thead th {\n",
       "        text-align: right;\n",
       "    }\n",
       "</style>\n",
       "<table border=\"1\" class=\"dataframe\">\n",
       "  <thead>\n",
       "    <tr style=\"text-align: right;\">\n",
       "      <th></th>\n",
       "      <th>id</th>\n",
       "      <th>symbol</th>\n",
       "      <th>name</th>\n",
       "      <th>image</th>\n",
       "      <th>current_price</th>\n",
       "      <th>market_cap</th>\n",
       "      <th>market_cap_rank</th>\n",
       "      <th>fully_diluted_valuation</th>\n",
       "      <th>total_volume</th>\n",
       "      <th>high_24h</th>\n",
       "      <th>...</th>\n",
       "      <th>total_supply</th>\n",
       "      <th>max_supply</th>\n",
       "      <th>ath</th>\n",
       "      <th>ath_change_percentage</th>\n",
       "      <th>ath_date</th>\n",
       "      <th>atl</th>\n",
       "      <th>atl_change_percentage</th>\n",
       "      <th>atl_date</th>\n",
       "      <th>roi</th>\n",
       "      <th>last_updated</th>\n",
       "    </tr>\n",
       "    <tr>\n",
       "      <th>symbol</th>\n",
       "      <th></th>\n",
       "      <th></th>\n",
       "      <th></th>\n",
       "      <th></th>\n",
       "      <th></th>\n",
       "      <th></th>\n",
       "      <th></th>\n",
       "      <th></th>\n",
       "      <th></th>\n",
       "      <th></th>\n",
       "      <th></th>\n",
       "      <th></th>\n",
       "      <th></th>\n",
       "      <th></th>\n",
       "      <th></th>\n",
       "      <th></th>\n",
       "      <th></th>\n",
       "      <th></th>\n",
       "      <th></th>\n",
       "      <th></th>\n",
       "      <th></th>\n",
       "    </tr>\n",
       "  </thead>\n",
       "  <tbody>\n",
       "    <tr>\n",
       "      <th>USDT</th>\n",
       "      <td>tether</td>\n",
       "      <td>usdt</td>\n",
       "      <td>Tether</td>\n",
       "      <td>https://assets.coingecko.com/coins/images/325/...</td>\n",
       "      <td>1.002000</td>\n",
       "      <td>72669221034</td>\n",
       "      <td>3</td>\n",
       "      <td>NaN</td>\n",
       "      <td>4.918891e+10</td>\n",
       "      <td>1.004000</td>\n",
       "      <td>...</td>\n",
       "      <td>7.253845e+10</td>\n",
       "      <td>NaN</td>\n",
       "      <td>1.32</td>\n",
       "      <td>-24.45775</td>\n",
       "      <td>2018-07-24T00:00:00.000Z</td>\n",
       "      <td>0.572521</td>\n",
       "      <td>74.57804</td>\n",
       "      <td>2015-03-02T00:00:00.000Z</td>\n",
       "      <td>None</td>\n",
       "      <td>2022-06-01T15:32:39.218Z</td>\n",
       "    </tr>\n",
       "    <tr>\n",
       "      <th>AVAX</th>\n",
       "      <td>avalanche-2</td>\n",
       "      <td>avax</td>\n",
       "      <td>Avalanche</td>\n",
       "      <td>https://assets.coingecko.com/coins/images/1255...</td>\n",
       "      <td>25.230000</td>\n",
       "      <td>6850727884</td>\n",
       "      <td>15</td>\n",
       "      <td>1.817407e+10</td>\n",
       "      <td>5.862155e+08</td>\n",
       "      <td>27.180000</td>\n",
       "      <td>...</td>\n",
       "      <td>4.048404e+08</td>\n",
       "      <td>720000000.0</td>\n",
       "      <td>144.96</td>\n",
       "      <td>-82.50840</td>\n",
       "      <td>2021-11-21T14:18:56.538Z</td>\n",
       "      <td>2.800000</td>\n",
       "      <td>805.22846</td>\n",
       "      <td>2020-12-31T13:15:21.540Z</td>\n",
       "      <td>None</td>\n",
       "      <td>2022-06-01T15:34:32.517Z</td>\n",
       "    </tr>\n",
       "    <tr>\n",
       "      <th>JOE</th>\n",
       "      <td>joe</td>\n",
       "      <td>joe</td>\n",
       "      <td>JOE</td>\n",
       "      <td>https://assets.coingecko.com/coins/images/1756...</td>\n",
       "      <td>0.320046</td>\n",
       "      <td>87988550</td>\n",
       "      <td>318</td>\n",
       "      <td>1.612696e+08</td>\n",
       "      <td>5.518032e+06</td>\n",
       "      <td>0.362665</td>\n",
       "      <td>...</td>\n",
       "      <td>3.668719e+08</td>\n",
       "      <td>500000000.0</td>\n",
       "      <td>5.09</td>\n",
       "      <td>-93.62241</td>\n",
       "      <td>2021-11-21T14:27:00.202Z</td>\n",
       "      <td>0.026588</td>\n",
       "      <td>1120.22223</td>\n",
       "      <td>2021-08-11T14:01:35.223Z</td>\n",
       "      <td>None</td>\n",
       "      <td>2022-06-01T15:34:32.414Z</td>\n",
       "    </tr>\n",
       "    <tr>\n",
       "      <th>SAVAX</th>\n",
       "      <td>benqi-liquid-staked-avax</td>\n",
       "      <td>savax</td>\n",
       "      <td>BENQI Liquid Staked AVAX</td>\n",
       "      <td>https://assets.coingecko.com/coins/images/2365...</td>\n",
       "      <td>25.540000</td>\n",
       "      <td>78581563</td>\n",
       "      <td>336</td>\n",
       "      <td>NaN</td>\n",
       "      <td>1.193569e+06</td>\n",
       "      <td>27.580000</td>\n",
       "      <td>...</td>\n",
       "      <td>3.067506e+06</td>\n",
       "      <td>NaN</td>\n",
       "      <td>103.55</td>\n",
       "      <td>-75.18234</td>\n",
       "      <td>2022-04-02T13:44:54.612Z</td>\n",
       "      <td>21.730000</td>\n",
       "      <td>18.23984</td>\n",
       "      <td>2022-05-27T19:24:15.546Z</td>\n",
       "      <td>None</td>\n",
       "      <td>2022-06-01T15:34:35.095Z</td>\n",
       "    </tr>\n",
       "  </tbody>\n",
       "</table>\n",
       "<p>4 rows × 26 columns</p>\n",
       "</div>"
      ],
      "text/plain": [
       "                              id symbol                      name  \\\n",
       "symbol                                                              \n",
       "USDT                      tether   usdt                    Tether   \n",
       "AVAX                 avalanche-2   avax                 Avalanche   \n",
       "JOE                          joe    joe                       JOE   \n",
       "SAVAX   benqi-liquid-staked-avax  savax  BENQI Liquid Staked AVAX   \n",
       "\n",
       "                                                    image  current_price  \\\n",
       "symbol                                                                     \n",
       "USDT    https://assets.coingecko.com/coins/images/325/...       1.002000   \n",
       "AVAX    https://assets.coingecko.com/coins/images/1255...      25.230000   \n",
       "JOE     https://assets.coingecko.com/coins/images/1756...       0.320046   \n",
       "SAVAX   https://assets.coingecko.com/coins/images/2365...      25.540000   \n",
       "\n",
       "         market_cap  market_cap_rank  fully_diluted_valuation  total_volume  \\\n",
       "symbol                                                                        \n",
       "USDT    72669221034                3                      NaN  4.918891e+10   \n",
       "AVAX     6850727884               15             1.817407e+10  5.862155e+08   \n",
       "JOE        87988550              318             1.612696e+08  5.518032e+06   \n",
       "SAVAX      78581563              336                      NaN  1.193569e+06   \n",
       "\n",
       "         high_24h  ...  total_supply   max_supply     ath  \\\n",
       "symbol             ...                                      \n",
       "USDT     1.004000  ...  7.253845e+10          NaN    1.32   \n",
       "AVAX    27.180000  ...  4.048404e+08  720000000.0  144.96   \n",
       "JOE      0.362665  ...  3.668719e+08  500000000.0    5.09   \n",
       "SAVAX   27.580000  ...  3.067506e+06          NaN  103.55   \n",
       "\n",
       "        ath_change_percentage                  ath_date        atl  \\\n",
       "symbol                                                               \n",
       "USDT                -24.45775  2018-07-24T00:00:00.000Z   0.572521   \n",
       "AVAX                -82.50840  2021-11-21T14:18:56.538Z   2.800000   \n",
       "JOE                 -93.62241  2021-11-21T14:27:00.202Z   0.026588   \n",
       "SAVAX               -75.18234  2022-04-02T13:44:54.612Z  21.730000   \n",
       "\n",
       "        atl_change_percentage                  atl_date   roi  \\\n",
       "symbol                                                          \n",
       "USDT                 74.57804  2015-03-02T00:00:00.000Z  None   \n",
       "AVAX                805.22846  2020-12-31T13:15:21.540Z  None   \n",
       "JOE                1120.22223  2021-08-11T14:01:35.223Z  None   \n",
       "SAVAX                18.23984  2022-05-27T19:24:15.546Z  None   \n",
       "\n",
       "                    last_updated  \n",
       "symbol                            \n",
       "USDT    2022-06-01T15:32:39.218Z  \n",
       "AVAX    2022-06-01T15:34:32.517Z  \n",
       "JOE     2022-06-01T15:34:32.414Z  \n",
       "SAVAX   2022-06-01T15:34:35.095Z  \n",
       "\n",
       "[4 rows x 26 columns]"
      ]
     },
     "execution_count": 69,
     "metadata": {},
     "output_type": "execute_result"
    }
   ],
   "source": [
    "lq_passed"
   ]
  },
  {
   "cell_type": "markdown",
   "id": "b5c93985-272a-40d1-8627-db309eb43512",
   "metadata": {},
   "source": [
    "### Non quantative checks"
   ]
  },
  {
   "cell_type": "code",
   "execution_count": 70,
   "id": "f2dfa053-3828-484a-a767-35105f2ea7e0",
   "metadata": {},
   "outputs": [],
   "source": [
    "exclude_list = [\n",
    "    {\n",
    "        'symbol': 'USDT',\n",
    "        'reason': 'Stable coin'\n",
    "    }\n",
    "]\n",
    "exclude_symbols = [token['symbol'] for token in exclude_list]"
   ]
  },
  {
   "cell_type": "code",
   "execution_count": 71,
   "id": "edf17292-34d6-48fe-9213-5dc5f19ced41",
   "metadata": {},
   "outputs": [],
   "source": [
    "nq_passed = lq_passed[\n",
    "    ~lq_passed.index.isin(exclude_symbols)\n",
    "]"
   ]
  },
  {
   "cell_type": "code",
   "execution_count": 72,
   "id": "481665f8-384b-4826-b3ee-ec99b0b04c5d",
   "metadata": {
    "tags": []
   },
   "outputs": [
    {
     "data": {
      "text/html": [
       "<div>\n",
       "<style scoped>\n",
       "    .dataframe tbody tr th:only-of-type {\n",
       "        vertical-align: middle;\n",
       "    }\n",
       "\n",
       "    .dataframe tbody tr th {\n",
       "        vertical-align: top;\n",
       "    }\n",
       "\n",
       "    .dataframe thead th {\n",
       "        text-align: right;\n",
       "    }\n",
       "</style>\n",
       "<table border=\"1\" class=\"dataframe\">\n",
       "  <thead>\n",
       "    <tr style=\"text-align: right;\">\n",
       "      <th></th>\n",
       "      <th>id</th>\n",
       "      <th>symbol</th>\n",
       "      <th>name</th>\n",
       "      <th>image</th>\n",
       "      <th>current_price</th>\n",
       "      <th>market_cap</th>\n",
       "      <th>market_cap_rank</th>\n",
       "      <th>fully_diluted_valuation</th>\n",
       "      <th>total_volume</th>\n",
       "      <th>high_24h</th>\n",
       "      <th>...</th>\n",
       "      <th>total_supply</th>\n",
       "      <th>max_supply</th>\n",
       "      <th>ath</th>\n",
       "      <th>ath_change_percentage</th>\n",
       "      <th>ath_date</th>\n",
       "      <th>atl</th>\n",
       "      <th>atl_change_percentage</th>\n",
       "      <th>atl_date</th>\n",
       "      <th>roi</th>\n",
       "      <th>last_updated</th>\n",
       "    </tr>\n",
       "    <tr>\n",
       "      <th>symbol</th>\n",
       "      <th></th>\n",
       "      <th></th>\n",
       "      <th></th>\n",
       "      <th></th>\n",
       "      <th></th>\n",
       "      <th></th>\n",
       "      <th></th>\n",
       "      <th></th>\n",
       "      <th></th>\n",
       "      <th></th>\n",
       "      <th></th>\n",
       "      <th></th>\n",
       "      <th></th>\n",
       "      <th></th>\n",
       "      <th></th>\n",
       "      <th></th>\n",
       "      <th></th>\n",
       "      <th></th>\n",
       "      <th></th>\n",
       "      <th></th>\n",
       "      <th></th>\n",
       "    </tr>\n",
       "  </thead>\n",
       "  <tbody>\n",
       "    <tr>\n",
       "      <th>AVAX</th>\n",
       "      <td>avalanche-2</td>\n",
       "      <td>avax</td>\n",
       "      <td>Avalanche</td>\n",
       "      <td>https://assets.coingecko.com/coins/images/1255...</td>\n",
       "      <td>25.230000</td>\n",
       "      <td>6850727884</td>\n",
       "      <td>15</td>\n",
       "      <td>1.817407e+10</td>\n",
       "      <td>586215549.0</td>\n",
       "      <td>27.180000</td>\n",
       "      <td>...</td>\n",
       "      <td>4.048404e+08</td>\n",
       "      <td>720000000.0</td>\n",
       "      <td>144.96</td>\n",
       "      <td>-82.50840</td>\n",
       "      <td>2021-11-21T14:18:56.538Z</td>\n",
       "      <td>2.800000</td>\n",
       "      <td>805.22846</td>\n",
       "      <td>2020-12-31T13:15:21.540Z</td>\n",
       "      <td>None</td>\n",
       "      <td>2022-06-01T15:34:32.517Z</td>\n",
       "    </tr>\n",
       "    <tr>\n",
       "      <th>JOE</th>\n",
       "      <td>joe</td>\n",
       "      <td>joe</td>\n",
       "      <td>JOE</td>\n",
       "      <td>https://assets.coingecko.com/coins/images/1756...</td>\n",
       "      <td>0.320046</td>\n",
       "      <td>87988550</td>\n",
       "      <td>318</td>\n",
       "      <td>1.612696e+08</td>\n",
       "      <td>5518032.0</td>\n",
       "      <td>0.362665</td>\n",
       "      <td>...</td>\n",
       "      <td>3.668719e+08</td>\n",
       "      <td>500000000.0</td>\n",
       "      <td>5.09</td>\n",
       "      <td>-93.62241</td>\n",
       "      <td>2021-11-21T14:27:00.202Z</td>\n",
       "      <td>0.026588</td>\n",
       "      <td>1120.22223</td>\n",
       "      <td>2021-08-11T14:01:35.223Z</td>\n",
       "      <td>None</td>\n",
       "      <td>2022-06-01T15:34:32.414Z</td>\n",
       "    </tr>\n",
       "    <tr>\n",
       "      <th>SAVAX</th>\n",
       "      <td>benqi-liquid-staked-avax</td>\n",
       "      <td>savax</td>\n",
       "      <td>BENQI Liquid Staked AVAX</td>\n",
       "      <td>https://assets.coingecko.com/coins/images/2365...</td>\n",
       "      <td>25.540000</td>\n",
       "      <td>78581563</td>\n",
       "      <td>336</td>\n",
       "      <td>NaN</td>\n",
       "      <td>1193569.0</td>\n",
       "      <td>27.580000</td>\n",
       "      <td>...</td>\n",
       "      <td>3.067506e+06</td>\n",
       "      <td>NaN</td>\n",
       "      <td>103.55</td>\n",
       "      <td>-75.18234</td>\n",
       "      <td>2022-04-02T13:44:54.612Z</td>\n",
       "      <td>21.730000</td>\n",
       "      <td>18.23984</td>\n",
       "      <td>2022-05-27T19:24:15.546Z</td>\n",
       "      <td>None</td>\n",
       "      <td>2022-06-01T15:34:35.095Z</td>\n",
       "    </tr>\n",
       "  </tbody>\n",
       "</table>\n",
       "<p>3 rows × 26 columns</p>\n",
       "</div>"
      ],
      "text/plain": [
       "                              id symbol                      name  \\\n",
       "symbol                                                              \n",
       "AVAX                 avalanche-2   avax                 Avalanche   \n",
       "JOE                          joe    joe                       JOE   \n",
       "SAVAX   benqi-liquid-staked-avax  savax  BENQI Liquid Staked AVAX   \n",
       "\n",
       "                                                    image  current_price  \\\n",
       "symbol                                                                     \n",
       "AVAX    https://assets.coingecko.com/coins/images/1255...      25.230000   \n",
       "JOE     https://assets.coingecko.com/coins/images/1756...       0.320046   \n",
       "SAVAX   https://assets.coingecko.com/coins/images/2365...      25.540000   \n",
       "\n",
       "        market_cap  market_cap_rank  fully_diluted_valuation  total_volume  \\\n",
       "symbol                                                                       \n",
       "AVAX    6850727884               15             1.817407e+10   586215549.0   \n",
       "JOE       87988550              318             1.612696e+08     5518032.0   \n",
       "SAVAX     78581563              336                      NaN     1193569.0   \n",
       "\n",
       "         high_24h  ...  total_supply   max_supply     ath  \\\n",
       "symbol             ...                                      \n",
       "AVAX    27.180000  ...  4.048404e+08  720000000.0  144.96   \n",
       "JOE      0.362665  ...  3.668719e+08  500000000.0    5.09   \n",
       "SAVAX   27.580000  ...  3.067506e+06          NaN  103.55   \n",
       "\n",
       "        ath_change_percentage                  ath_date        atl  \\\n",
       "symbol                                                               \n",
       "AVAX                -82.50840  2021-11-21T14:18:56.538Z   2.800000   \n",
       "JOE                 -93.62241  2021-11-21T14:27:00.202Z   0.026588   \n",
       "SAVAX               -75.18234  2022-04-02T13:44:54.612Z  21.730000   \n",
       "\n",
       "        atl_change_percentage                  atl_date   roi  \\\n",
       "symbol                                                          \n",
       "AVAX                805.22846  2020-12-31T13:15:21.540Z  None   \n",
       "JOE                1120.22223  2021-08-11T14:01:35.223Z  None   \n",
       "SAVAX                18.23984  2022-05-27T19:24:15.546Z  None   \n",
       "\n",
       "                    last_updated  \n",
       "symbol                            \n",
       "AVAX    2022-06-01T15:34:32.517Z  \n",
       "JOE     2022-06-01T15:34:32.414Z  \n",
       "SAVAX   2022-06-01T15:34:35.095Z  \n",
       "\n",
       "[3 rows x 26 columns]"
      ]
     },
     "execution_count": 72,
     "metadata": {},
     "output_type": "execute_result"
    }
   ],
   "source": [
    "nq_passed"
   ]
  },
  {
   "cell_type": "markdown",
   "id": "e2cdeba5-92e2-4b12-b85c-6328f257cb2d",
   "metadata": {
    "tags": []
   },
   "source": [
    "### Retrieving marketcaps and prices"
   ]
  },
  {
   "cell_type": "code",
   "execution_count": 73,
   "id": "696516f2-4ff8-41c2-a7c5-f1f7a672fb32",
   "metadata": {},
   "outputs": [
    {
     "name": "stdout",
     "output_type": "stream",
     "text": [
      "Excluding SAVAX, prices data available only for 103 < 180 days\n"
     ]
    }
   ],
   "source": [
    "min_lifetime = 180\n",
    "exclude_list = []\n",
    "\n",
    "prices_data = pd.DataFrame()\n",
    "marketcaps = pd.DataFrame() \n",
    "for index, data in nq_passed[['id', 'symbol']].iterrows():\n",
    "    id_ = data['id']\n",
    "    symbol = data['symbol'].upper()\n",
    "    data = cg.get_coin_market_chart_by_id(id_, vs_currency='USD', days='max')\n",
    "  \n",
    "    df_prices = pd.DataFrame(data['prices'], columns=['date', symbol])\n",
    "    df_prices = df_prices[df_prices[symbol] > 0]\n",
    "    df_prices['date'] = pd.to_datetime(df_prices['date'], unit='ms').dt.date\n",
    "    df_prices['date'] = pd.to_datetime(df_prices['date'])\n",
    "    df_prices = df_prices.set_index('date', drop=True)\n",
    "    df_prices = df_prices.loc[~df_prices.index.duplicated(keep='first')]\n",
    "    \n",
    "    if len(df_prices) < min_lifetime:\n",
    "        print(f'Excluding {symbol}, prices data available only for {len(df_prices)} < {min_lifetime} days')\n",
    "        exclude_list.append(symbol)\n",
    "        continue\n",
    "    prices_data = pd.concat([prices_data, df_prices], axis=1)\n",
    "    \n",
    "    df_mcaps = pd.DataFrame(data['market_caps'], columns=['date', symbol])\n",
    "    df_mcaps = df_mcaps[df_mcaps[symbol] > 0]\n",
    "    df_mcaps['date'] = pd.to_datetime(df_mcaps['date'], unit='ms').dt.date\n",
    "    df_mcaps['date'] = pd.to_datetime(df_mcaps['date'])\n",
    "    df_mcaps = df_mcaps.set_index('date', drop=True)\n",
    "    df_mcaps = df_mcaps.loc[~df_mcaps.index.duplicated(keep='first')]\n",
    "    \n",
    "    if len(df_mcaps) < min_lifetime:\n",
    "        print(f'Note: {symbol}, marketcap data available only for {len(df_mcaps)} < {min_lifetime} days')\n",
    "        \n",
    "    df_mcaps = df_mcaps.reindex(df_prices.index)\n",
    "    marketcaps = pd.concat([marketcaps, df_mcaps], axis=1)"
   ]
  },
  {
   "cell_type": "code",
   "execution_count": 74,
   "id": "3a69dc83-c50f-46ec-9a21-636dc2dee04c",
   "metadata": {},
   "outputs": [],
   "source": [
    "lt_passed = nq_passed[\n",
    "    ~nq_passed.index.isin(exclude_list)\n",
    "]"
   ]
  },
  {
   "cell_type": "code",
   "execution_count": 75,
   "id": "a031c5fc-dfdc-4e4f-a9ca-830e8a6f7906",
   "metadata": {},
   "outputs": [
    {
     "data": {
      "text/html": [
       "<div>\n",
       "<style scoped>\n",
       "    .dataframe tbody tr th:only-of-type {\n",
       "        vertical-align: middle;\n",
       "    }\n",
       "\n",
       "    .dataframe tbody tr th {\n",
       "        vertical-align: top;\n",
       "    }\n",
       "\n",
       "    .dataframe thead th {\n",
       "        text-align: right;\n",
       "    }\n",
       "</style>\n",
       "<table border=\"1\" class=\"dataframe\">\n",
       "  <thead>\n",
       "    <tr style=\"text-align: right;\">\n",
       "      <th></th>\n",
       "      <th>id</th>\n",
       "      <th>symbol</th>\n",
       "      <th>name</th>\n",
       "      <th>image</th>\n",
       "      <th>current_price</th>\n",
       "      <th>market_cap</th>\n",
       "      <th>market_cap_rank</th>\n",
       "      <th>fully_diluted_valuation</th>\n",
       "      <th>total_volume</th>\n",
       "      <th>high_24h</th>\n",
       "      <th>...</th>\n",
       "      <th>total_supply</th>\n",
       "      <th>max_supply</th>\n",
       "      <th>ath</th>\n",
       "      <th>ath_change_percentage</th>\n",
       "      <th>ath_date</th>\n",
       "      <th>atl</th>\n",
       "      <th>atl_change_percentage</th>\n",
       "      <th>atl_date</th>\n",
       "      <th>roi</th>\n",
       "      <th>last_updated</th>\n",
       "    </tr>\n",
       "    <tr>\n",
       "      <th>symbol</th>\n",
       "      <th></th>\n",
       "      <th></th>\n",
       "      <th></th>\n",
       "      <th></th>\n",
       "      <th></th>\n",
       "      <th></th>\n",
       "      <th></th>\n",
       "      <th></th>\n",
       "      <th></th>\n",
       "      <th></th>\n",
       "      <th></th>\n",
       "      <th></th>\n",
       "      <th></th>\n",
       "      <th></th>\n",
       "      <th></th>\n",
       "      <th></th>\n",
       "      <th></th>\n",
       "      <th></th>\n",
       "      <th></th>\n",
       "      <th></th>\n",
       "      <th></th>\n",
       "    </tr>\n",
       "  </thead>\n",
       "  <tbody>\n",
       "    <tr>\n",
       "      <th>AVAX</th>\n",
       "      <td>avalanche-2</td>\n",
       "      <td>avax</td>\n",
       "      <td>Avalanche</td>\n",
       "      <td>https://assets.coingecko.com/coins/images/1255...</td>\n",
       "      <td>25.230000</td>\n",
       "      <td>6850727884</td>\n",
       "      <td>15</td>\n",
       "      <td>1.817407e+10</td>\n",
       "      <td>586215549.0</td>\n",
       "      <td>27.180000</td>\n",
       "      <td>...</td>\n",
       "      <td>4.048404e+08</td>\n",
       "      <td>720000000.0</td>\n",
       "      <td>144.96</td>\n",
       "      <td>-82.50840</td>\n",
       "      <td>2021-11-21T14:18:56.538Z</td>\n",
       "      <td>2.800000</td>\n",
       "      <td>805.22846</td>\n",
       "      <td>2020-12-31T13:15:21.540Z</td>\n",
       "      <td>None</td>\n",
       "      <td>2022-06-01T15:34:32.517Z</td>\n",
       "    </tr>\n",
       "    <tr>\n",
       "      <th>JOE</th>\n",
       "      <td>joe</td>\n",
       "      <td>joe</td>\n",
       "      <td>JOE</td>\n",
       "      <td>https://assets.coingecko.com/coins/images/1756...</td>\n",
       "      <td>0.320046</td>\n",
       "      <td>87988550</td>\n",
       "      <td>318</td>\n",
       "      <td>1.612696e+08</td>\n",
       "      <td>5518032.0</td>\n",
       "      <td>0.362665</td>\n",
       "      <td>...</td>\n",
       "      <td>3.668719e+08</td>\n",
       "      <td>500000000.0</td>\n",
       "      <td>5.09</td>\n",
       "      <td>-93.62241</td>\n",
       "      <td>2021-11-21T14:27:00.202Z</td>\n",
       "      <td>0.026588</td>\n",
       "      <td>1120.22223</td>\n",
       "      <td>2021-08-11T14:01:35.223Z</td>\n",
       "      <td>None</td>\n",
       "      <td>2022-06-01T15:34:32.414Z</td>\n",
       "    </tr>\n",
       "  </tbody>\n",
       "</table>\n",
       "<p>2 rows × 26 columns</p>\n",
       "</div>"
      ],
      "text/plain": [
       "                 id symbol       name  \\\n",
       "symbol                                  \n",
       "AVAX    avalanche-2   avax  Avalanche   \n",
       "JOE             joe    joe        JOE   \n",
       "\n",
       "                                                    image  current_price  \\\n",
       "symbol                                                                     \n",
       "AVAX    https://assets.coingecko.com/coins/images/1255...      25.230000   \n",
       "JOE     https://assets.coingecko.com/coins/images/1756...       0.320046   \n",
       "\n",
       "        market_cap  market_cap_rank  fully_diluted_valuation  total_volume  \\\n",
       "symbol                                                                       \n",
       "AVAX    6850727884               15             1.817407e+10   586215549.0   \n",
       "JOE       87988550              318             1.612696e+08     5518032.0   \n",
       "\n",
       "         high_24h  ...  total_supply   max_supply     ath  \\\n",
       "symbol             ...                                      \n",
       "AVAX    27.180000  ...  4.048404e+08  720000000.0  144.96   \n",
       "JOE      0.362665  ...  3.668719e+08  500000000.0    5.09   \n",
       "\n",
       "        ath_change_percentage                  ath_date       atl  \\\n",
       "symbol                                                              \n",
       "AVAX                -82.50840  2021-11-21T14:18:56.538Z  2.800000   \n",
       "JOE                 -93.62241  2021-11-21T14:27:00.202Z  0.026588   \n",
       "\n",
       "        atl_change_percentage                  atl_date   roi  \\\n",
       "symbol                                                          \n",
       "AVAX                805.22846  2020-12-31T13:15:21.540Z  None   \n",
       "JOE                1120.22223  2021-08-11T14:01:35.223Z  None   \n",
       "\n",
       "                    last_updated  \n",
       "symbol                            \n",
       "AVAX    2022-06-01T15:34:32.517Z  \n",
       "JOE     2022-06-01T15:34:32.414Z  \n",
       "\n",
       "[2 rows x 26 columns]"
      ]
     },
     "execution_count": 75,
     "metadata": {},
     "output_type": "execute_result"
    }
   ],
   "source": [
    "lt_passed"
   ]
  },
  {
   "cell_type": "markdown",
   "id": "253d7d1d-2504-4c8e-9a7e-34950229b4ae",
   "metadata": {
    "tags": []
   },
   "source": [
    "### Marketcap ranking & top10 filtering"
   ]
  },
  {
   "cell_type": "code",
   "execution_count": 76,
   "id": "222947eb-0350-4f1d-9526-1fe690e1174c",
   "metadata": {},
   "outputs": [],
   "source": [
    "chosen_tokens = lt_passed.sort_values(\"market_cap\", ascending=False).iloc[:10]"
   ]
  },
  {
   "cell_type": "code",
   "execution_count": 77,
   "id": "054cf6e0-4865-48ce-aaeb-b110053d65ea",
   "metadata": {},
   "outputs": [
    {
     "data": {
      "text/html": [
       "<div>\n",
       "<style scoped>\n",
       "    .dataframe tbody tr th:only-of-type {\n",
       "        vertical-align: middle;\n",
       "    }\n",
       "\n",
       "    .dataframe tbody tr th {\n",
       "        vertical-align: top;\n",
       "    }\n",
       "\n",
       "    .dataframe thead th {\n",
       "        text-align: right;\n",
       "    }\n",
       "</style>\n",
       "<table border=\"1\" class=\"dataframe\">\n",
       "  <thead>\n",
       "    <tr style=\"text-align: right;\">\n",
       "      <th></th>\n",
       "      <th>id</th>\n",
       "      <th>symbol</th>\n",
       "      <th>name</th>\n",
       "      <th>image</th>\n",
       "      <th>current_price</th>\n",
       "      <th>market_cap</th>\n",
       "      <th>market_cap_rank</th>\n",
       "      <th>fully_diluted_valuation</th>\n",
       "      <th>total_volume</th>\n",
       "      <th>high_24h</th>\n",
       "      <th>...</th>\n",
       "      <th>total_supply</th>\n",
       "      <th>max_supply</th>\n",
       "      <th>ath</th>\n",
       "      <th>ath_change_percentage</th>\n",
       "      <th>ath_date</th>\n",
       "      <th>atl</th>\n",
       "      <th>atl_change_percentage</th>\n",
       "      <th>atl_date</th>\n",
       "      <th>roi</th>\n",
       "      <th>last_updated</th>\n",
       "    </tr>\n",
       "    <tr>\n",
       "      <th>symbol</th>\n",
       "      <th></th>\n",
       "      <th></th>\n",
       "      <th></th>\n",
       "      <th></th>\n",
       "      <th></th>\n",
       "      <th></th>\n",
       "      <th></th>\n",
       "      <th></th>\n",
       "      <th></th>\n",
       "      <th></th>\n",
       "      <th></th>\n",
       "      <th></th>\n",
       "      <th></th>\n",
       "      <th></th>\n",
       "      <th></th>\n",
       "      <th></th>\n",
       "      <th></th>\n",
       "      <th></th>\n",
       "      <th></th>\n",
       "      <th></th>\n",
       "      <th></th>\n",
       "    </tr>\n",
       "  </thead>\n",
       "  <tbody>\n",
       "    <tr>\n",
       "      <th>AVAX</th>\n",
       "      <td>avalanche-2</td>\n",
       "      <td>avax</td>\n",
       "      <td>Avalanche</td>\n",
       "      <td>https://assets.coingecko.com/coins/images/1255...</td>\n",
       "      <td>25.230000</td>\n",
       "      <td>6850727884</td>\n",
       "      <td>15</td>\n",
       "      <td>1.817407e+10</td>\n",
       "      <td>586215549.0</td>\n",
       "      <td>27.180000</td>\n",
       "      <td>...</td>\n",
       "      <td>4.048404e+08</td>\n",
       "      <td>720000000.0</td>\n",
       "      <td>144.96</td>\n",
       "      <td>-82.50840</td>\n",
       "      <td>2021-11-21T14:18:56.538Z</td>\n",
       "      <td>2.800000</td>\n",
       "      <td>805.22846</td>\n",
       "      <td>2020-12-31T13:15:21.540Z</td>\n",
       "      <td>None</td>\n",
       "      <td>2022-06-01T15:34:32.517Z</td>\n",
       "    </tr>\n",
       "    <tr>\n",
       "      <th>JOE</th>\n",
       "      <td>joe</td>\n",
       "      <td>joe</td>\n",
       "      <td>JOE</td>\n",
       "      <td>https://assets.coingecko.com/coins/images/1756...</td>\n",
       "      <td>0.320046</td>\n",
       "      <td>87988550</td>\n",
       "      <td>318</td>\n",
       "      <td>1.612696e+08</td>\n",
       "      <td>5518032.0</td>\n",
       "      <td>0.362665</td>\n",
       "      <td>...</td>\n",
       "      <td>3.668719e+08</td>\n",
       "      <td>500000000.0</td>\n",
       "      <td>5.09</td>\n",
       "      <td>-93.62241</td>\n",
       "      <td>2021-11-21T14:27:00.202Z</td>\n",
       "      <td>0.026588</td>\n",
       "      <td>1120.22223</td>\n",
       "      <td>2021-08-11T14:01:35.223Z</td>\n",
       "      <td>None</td>\n",
       "      <td>2022-06-01T15:34:32.414Z</td>\n",
       "    </tr>\n",
       "  </tbody>\n",
       "</table>\n",
       "<p>2 rows × 26 columns</p>\n",
       "</div>"
      ],
      "text/plain": [
       "                 id symbol       name  \\\n",
       "symbol                                  \n",
       "AVAX    avalanche-2   avax  Avalanche   \n",
       "JOE             joe    joe        JOE   \n",
       "\n",
       "                                                    image  current_price  \\\n",
       "symbol                                                                     \n",
       "AVAX    https://assets.coingecko.com/coins/images/1255...      25.230000   \n",
       "JOE     https://assets.coingecko.com/coins/images/1756...       0.320046   \n",
       "\n",
       "        market_cap  market_cap_rank  fully_diluted_valuation  total_volume  \\\n",
       "symbol                                                                       \n",
       "AVAX    6850727884               15             1.817407e+10   586215549.0   \n",
       "JOE       87988550              318             1.612696e+08     5518032.0   \n",
       "\n",
       "         high_24h  ...  total_supply   max_supply     ath  \\\n",
       "symbol             ...                                      \n",
       "AVAX    27.180000  ...  4.048404e+08  720000000.0  144.96   \n",
       "JOE      0.362665  ...  3.668719e+08  500000000.0    5.09   \n",
       "\n",
       "        ath_change_percentage                  ath_date       atl  \\\n",
       "symbol                                                              \n",
       "AVAX                -82.50840  2021-11-21T14:18:56.538Z  2.800000   \n",
       "JOE                 -93.62241  2021-11-21T14:27:00.202Z  0.026588   \n",
       "\n",
       "        atl_change_percentage                  atl_date   roi  \\\n",
       "symbol                                                          \n",
       "AVAX                805.22846  2020-12-31T13:15:21.540Z  None   \n",
       "JOE                1120.22223  2021-08-11T14:01:35.223Z  None   \n",
       "\n",
       "                    last_updated  \n",
       "symbol                            \n",
       "AVAX    2022-06-01T15:34:32.517Z  \n",
       "JOE     2022-06-01T15:34:32.414Z  \n",
       "\n",
       "[2 rows x 26 columns]"
      ]
     },
     "execution_count": 77,
     "metadata": {},
     "output_type": "execute_result"
    }
   ],
   "source": [
    "chosen_tokens"
   ]
  },
  {
   "cell_type": "code",
   "execution_count": 78,
   "id": "664871be-8220-479f-93db-71f6f2a68e57",
   "metadata": {},
   "outputs": [],
   "source": [
    "chosen_tokens_symbols = list(chosen_tokens.index)\n",
    "prices_data = prices_data[chosen_tokens_symbols]\n",
    "marketcaps = marketcaps[chosen_tokens_symbols]"
   ]
  },
  {
   "cell_type": "code",
   "execution_count": 79,
   "id": "9526c535-e544-4ac9-a0a0-1f34fa9ae535",
   "metadata": {},
   "outputs": [],
   "source": [
    "without_nan_index = (marketcaps.isnull().sum(axis=1) == 0) & (prices_data.isnull().sum(axis=1) == 0)\n",
    "marketcaps = marketcaps[without_nan_index]\n",
    "prices_data = prices_data[without_nan_index]"
   ]
  },
  {
   "cell_type": "code",
   "execution_count": 80,
   "id": "81e27fa2-32ac-48d6-83f6-6f3aef4bc51c",
   "metadata": {},
   "outputs": [
    {
     "data": {
      "text/html": [
       "<div>\n",
       "<style scoped>\n",
       "    .dataframe tbody tr th:only-of-type {\n",
       "        vertical-align: middle;\n",
       "    }\n",
       "\n",
       "    .dataframe tbody tr th {\n",
       "        vertical-align: top;\n",
       "    }\n",
       "\n",
       "    .dataframe thead th {\n",
       "        text-align: right;\n",
       "    }\n",
       "</style>\n",
       "<table border=\"1\" class=\"dataframe\">\n",
       "  <thead>\n",
       "    <tr style=\"text-align: right;\">\n",
       "      <th></th>\n",
       "      <th>AVAX</th>\n",
       "      <th>JOE</th>\n",
       "    </tr>\n",
       "    <tr>\n",
       "      <th>date</th>\n",
       "      <th></th>\n",
       "      <th></th>\n",
       "    </tr>\n",
       "  </thead>\n",
       "  <tbody>\n",
       "    <tr>\n",
       "      <th>2021-08-26</th>\n",
       "      <td>47.184934</td>\n",
       "      <td>1.269184</td>\n",
       "    </tr>\n",
       "    <tr>\n",
       "      <th>2021-08-27</th>\n",
       "      <td>42.329113</td>\n",
       "      <td>1.863219</td>\n",
       "    </tr>\n",
       "    <tr>\n",
       "      <th>2021-08-28</th>\n",
       "      <td>49.984485</td>\n",
       "      <td>2.272851</td>\n",
       "    </tr>\n",
       "    <tr>\n",
       "      <th>2021-08-29</th>\n",
       "      <td>50.257387</td>\n",
       "      <td>2.023451</td>\n",
       "    </tr>\n",
       "    <tr>\n",
       "      <th>2021-08-30</th>\n",
       "      <td>47.543874</td>\n",
       "      <td>2.531329</td>\n",
       "    </tr>\n",
       "    <tr>\n",
       "      <th>...</th>\n",
       "      <td>...</td>\n",
       "      <td>...</td>\n",
       "    </tr>\n",
       "    <tr>\n",
       "      <th>2022-05-28</th>\n",
       "      <td>22.432824</td>\n",
       "      <td>0.297285</td>\n",
       "    </tr>\n",
       "    <tr>\n",
       "      <th>2022-05-29</th>\n",
       "      <td>24.888556</td>\n",
       "      <td>0.327986</td>\n",
       "    </tr>\n",
       "    <tr>\n",
       "      <th>2022-05-30</th>\n",
       "      <td>26.067167</td>\n",
       "      <td>0.349599</td>\n",
       "    </tr>\n",
       "    <tr>\n",
       "      <th>2022-05-31</th>\n",
       "      <td>27.638595</td>\n",
       "      <td>0.365804</td>\n",
       "    </tr>\n",
       "    <tr>\n",
       "      <th>2022-06-01</th>\n",
       "      <td>26.584636</td>\n",
       "      <td>0.344530</td>\n",
       "    </tr>\n",
       "  </tbody>\n",
       "</table>\n",
       "<p>280 rows × 2 columns</p>\n",
       "</div>"
      ],
      "text/plain": [
       "                 AVAX       JOE\n",
       "date                           \n",
       "2021-08-26  47.184934  1.269184\n",
       "2021-08-27  42.329113  1.863219\n",
       "2021-08-28  49.984485  2.272851\n",
       "2021-08-29  50.257387  2.023451\n",
       "2021-08-30  47.543874  2.531329\n",
       "...               ...       ...\n",
       "2022-05-28  22.432824  0.297285\n",
       "2022-05-29  24.888556  0.327986\n",
       "2022-05-30  26.067167  0.349599\n",
       "2022-05-31  27.638595  0.365804\n",
       "2022-06-01  26.584636  0.344530\n",
       "\n",
       "[280 rows x 2 columns]"
      ]
     },
     "execution_count": 80,
     "metadata": {},
     "output_type": "execute_result"
    }
   ],
   "source": [
    "prices_data"
   ]
  },
  {
   "cell_type": "code",
   "execution_count": 81,
   "id": "e6bf47f9-5ad3-41e2-ad95-b044d080ad14",
   "metadata": {},
   "outputs": [
    {
     "data": {
      "text/html": [
       "<div>\n",
       "<style scoped>\n",
       "    .dataframe tbody tr th:only-of-type {\n",
       "        vertical-align: middle;\n",
       "    }\n",
       "\n",
       "    .dataframe tbody tr th {\n",
       "        vertical-align: top;\n",
       "    }\n",
       "\n",
       "    .dataframe thead th {\n",
       "        text-align: right;\n",
       "    }\n",
       "</style>\n",
       "<table border=\"1\" class=\"dataframe\">\n",
       "  <thead>\n",
       "    <tr style=\"text-align: right;\">\n",
       "      <th></th>\n",
       "      <th>AVAX</th>\n",
       "      <th>JOE</th>\n",
       "    </tr>\n",
       "    <tr>\n",
       "      <th>date</th>\n",
       "      <th></th>\n",
       "      <th></th>\n",
       "    </tr>\n",
       "  </thead>\n",
       "  <tbody>\n",
       "    <tr>\n",
       "      <th>2021-08-26</th>\n",
       "      <td>8.215166e+09</td>\n",
       "      <td>8.181409e+07</td>\n",
       "    </tr>\n",
       "    <tr>\n",
       "      <th>2021-08-27</th>\n",
       "      <td>7.408226e+09</td>\n",
       "      <td>1.257190e+08</td>\n",
       "    </tr>\n",
       "    <tr>\n",
       "      <th>2021-08-28</th>\n",
       "      <td>8.709313e+09</td>\n",
       "      <td>1.459951e+08</td>\n",
       "    </tr>\n",
       "    <tr>\n",
       "      <th>2021-08-29</th>\n",
       "      <td>8.769450e+09</td>\n",
       "      <td>1.361720e+08</td>\n",
       "    </tr>\n",
       "    <tr>\n",
       "      <th>2021-08-30</th>\n",
       "      <td>8.299403e+09</td>\n",
       "      <td>1.720847e+08</td>\n",
       "    </tr>\n",
       "    <tr>\n",
       "      <th>...</th>\n",
       "      <td>...</td>\n",
       "      <td>...</td>\n",
       "    </tr>\n",
       "    <tr>\n",
       "      <th>2022-05-28</th>\n",
       "      <td>6.070138e+09</td>\n",
       "      <td>8.081476e+07</td>\n",
       "    </tr>\n",
       "    <tr>\n",
       "      <th>2022-05-29</th>\n",
       "      <td>6.803542e+09</td>\n",
       "      <td>8.970251e+07</td>\n",
       "    </tr>\n",
       "    <tr>\n",
       "      <th>2022-05-30</th>\n",
       "      <td>7.078289e+09</td>\n",
       "      <td>9.520841e+07</td>\n",
       "    </tr>\n",
       "    <tr>\n",
       "      <th>2022-05-31</th>\n",
       "      <td>7.508371e+09</td>\n",
       "      <td>9.962590e+07</td>\n",
       "    </tr>\n",
       "    <tr>\n",
       "      <th>2022-06-01</th>\n",
       "      <td>7.208556e+09</td>\n",
       "      <td>9.394533e+07</td>\n",
       "    </tr>\n",
       "  </tbody>\n",
       "</table>\n",
       "<p>280 rows × 2 columns</p>\n",
       "</div>"
      ],
      "text/plain": [
       "                    AVAX           JOE\n",
       "date                                  \n",
       "2021-08-26  8.215166e+09  8.181409e+07\n",
       "2021-08-27  7.408226e+09  1.257190e+08\n",
       "2021-08-28  8.709313e+09  1.459951e+08\n",
       "2021-08-29  8.769450e+09  1.361720e+08\n",
       "2021-08-30  8.299403e+09  1.720847e+08\n",
       "...                  ...           ...\n",
       "2022-05-28  6.070138e+09  8.081476e+07\n",
       "2022-05-29  6.803542e+09  8.970251e+07\n",
       "2022-05-30  7.078289e+09  9.520841e+07\n",
       "2022-05-31  7.508371e+09  9.962590e+07\n",
       "2022-06-01  7.208556e+09  9.394533e+07\n",
       "\n",
       "[280 rows x 2 columns]"
      ]
     },
     "execution_count": 81,
     "metadata": {},
     "output_type": "execute_result"
    }
   ],
   "source": [
    "marketcaps"
   ]
  },
  {
   "cell_type": "markdown",
   "id": "2fb2d3af-b228-4849-8c84-073112a41a1a",
   "metadata": {
    "tags": []
   },
   "source": [
    "### Assets data"
   ]
  },
  {
   "cell_type": "code",
   "execution_count": 82,
   "id": "c4dd2949-13da-4686-93e2-4cdb9e9fdb57",
   "metadata": {},
   "outputs": [],
   "source": [
    "tickers = list(prices_data.columns)"
   ]
  },
  {
   "cell_type": "code",
   "execution_count": 83,
   "id": "b70246d1-4173-47d8-9a02-e787e2b79330",
   "metadata": {},
   "outputs": [
    {
     "name": "stderr",
     "output_type": "stream",
     "text": [
      "/home/evgeniy/.local/lib/python3.10/site-packages/plotly/io/_renderers.py:396: DeprecationWarning:\n",
      "\n",
      "distutils Version classes are deprecated. Use packaging.version instead.\n",
      "\n"
     ]
    },
    {
     "data": {
      "application/vnd.plotly.v1+json": {
       "config": {
        "plotlyServerURL": "https://plot.ly"
       },
       "data": [
        {
         "hovertemplate": "%{y}",
         "legendgroup": "AVAX",
         "line": {
          "color": "#636efa",
          "dash": "solid"
         },
         "marker": {
          "symbol": "circle"
         },
         "mode": "lines",
         "name": "AVAX",
         "orientation": "v",
         "showlegend": true,
         "type": "scatter",
         "x": [
          "2021-08-26T00:00:00",
          "2021-08-27T00:00:00",
          "2021-08-28T00:00:00",
          "2021-08-29T00:00:00",
          "2021-08-30T00:00:00",
          "2021-08-31T00:00:00",
          "2021-09-01T00:00:00",
          "2021-09-02T00:00:00",
          "2021-09-03T00:00:00",
          "2021-09-04T00:00:00",
          "2021-09-05T00:00:00",
          "2021-09-06T00:00:00",
          "2021-09-07T00:00:00",
          "2021-09-08T00:00:00",
          "2021-09-09T00:00:00",
          "2021-09-10T00:00:00",
          "2021-09-11T00:00:00",
          "2021-09-12T00:00:00",
          "2021-09-13T00:00:00",
          "2021-09-14T00:00:00",
          "2021-09-15T00:00:00",
          "2021-09-16T00:00:00",
          "2021-09-17T00:00:00",
          "2021-09-18T00:00:00",
          "2021-09-19T00:00:00",
          "2021-09-20T00:00:00",
          "2021-09-21T00:00:00",
          "2021-09-22T00:00:00",
          "2021-09-23T00:00:00",
          "2021-09-24T00:00:00",
          "2021-09-25T00:00:00",
          "2021-09-26T00:00:00",
          "2021-09-27T00:00:00",
          "2021-09-28T00:00:00",
          "2021-09-29T00:00:00",
          "2021-09-30T00:00:00",
          "2021-10-01T00:00:00",
          "2021-10-02T00:00:00",
          "2021-10-03T00:00:00",
          "2021-10-04T00:00:00",
          "2021-10-05T00:00:00",
          "2021-10-06T00:00:00",
          "2021-10-07T00:00:00",
          "2021-10-08T00:00:00",
          "2021-10-09T00:00:00",
          "2021-10-10T00:00:00",
          "2021-10-11T00:00:00",
          "2021-10-12T00:00:00",
          "2021-10-13T00:00:00",
          "2021-10-14T00:00:00",
          "2021-10-15T00:00:00",
          "2021-10-16T00:00:00",
          "2021-10-17T00:00:00",
          "2021-10-18T00:00:00",
          "2021-10-19T00:00:00",
          "2021-10-20T00:00:00",
          "2021-10-21T00:00:00",
          "2021-10-22T00:00:00",
          "2021-10-23T00:00:00",
          "2021-10-24T00:00:00",
          "2021-10-25T00:00:00",
          "2021-10-26T00:00:00",
          "2021-10-27T00:00:00",
          "2021-10-28T00:00:00",
          "2021-10-29T00:00:00",
          "2021-10-30T00:00:00",
          "2021-10-31T00:00:00",
          "2021-11-01T00:00:00",
          "2021-11-02T00:00:00",
          "2021-11-03T00:00:00",
          "2021-11-04T00:00:00",
          "2021-11-05T00:00:00",
          "2021-11-06T00:00:00",
          "2021-11-07T00:00:00",
          "2021-11-08T00:00:00",
          "2021-11-09T00:00:00",
          "2021-11-10T00:00:00",
          "2021-11-11T00:00:00",
          "2021-11-12T00:00:00",
          "2021-11-13T00:00:00",
          "2021-11-14T00:00:00",
          "2021-11-15T00:00:00",
          "2021-11-16T00:00:00",
          "2021-11-17T00:00:00",
          "2021-11-18T00:00:00",
          "2021-11-19T00:00:00",
          "2021-11-20T00:00:00",
          "2021-11-21T00:00:00",
          "2021-11-22T00:00:00",
          "2021-11-23T00:00:00",
          "2021-11-24T00:00:00",
          "2021-11-25T00:00:00",
          "2021-11-26T00:00:00",
          "2021-11-27T00:00:00",
          "2021-11-28T00:00:00",
          "2021-11-29T00:00:00",
          "2021-11-30T00:00:00",
          "2021-12-01T00:00:00",
          "2021-12-02T00:00:00",
          "2021-12-03T00:00:00",
          "2021-12-04T00:00:00",
          "2021-12-05T00:00:00",
          "2021-12-06T00:00:00",
          "2021-12-07T00:00:00",
          "2021-12-08T00:00:00",
          "2021-12-09T00:00:00",
          "2021-12-10T00:00:00",
          "2021-12-11T00:00:00",
          "2021-12-12T00:00:00",
          "2021-12-13T00:00:00",
          "2021-12-14T00:00:00",
          "2021-12-15T00:00:00",
          "2021-12-16T00:00:00",
          "2021-12-17T00:00:00",
          "2021-12-18T00:00:00",
          "2021-12-19T00:00:00",
          "2021-12-20T00:00:00",
          "2021-12-21T00:00:00",
          "2021-12-22T00:00:00",
          "2021-12-23T00:00:00",
          "2021-12-24T00:00:00",
          "2021-12-25T00:00:00",
          "2021-12-26T00:00:00",
          "2021-12-27T00:00:00",
          "2021-12-28T00:00:00",
          "2021-12-29T00:00:00",
          "2021-12-30T00:00:00",
          "2021-12-31T00:00:00",
          "2022-01-01T00:00:00",
          "2022-01-02T00:00:00",
          "2022-01-03T00:00:00",
          "2022-01-04T00:00:00",
          "2022-01-05T00:00:00",
          "2022-01-06T00:00:00",
          "2022-01-07T00:00:00",
          "2022-01-08T00:00:00",
          "2022-01-09T00:00:00",
          "2022-01-10T00:00:00",
          "2022-01-11T00:00:00",
          "2022-01-12T00:00:00",
          "2022-01-13T00:00:00",
          "2022-01-14T00:00:00",
          "2022-01-15T00:00:00",
          "2022-01-16T00:00:00",
          "2022-01-17T00:00:00",
          "2022-01-18T00:00:00",
          "2022-01-19T00:00:00",
          "2022-01-20T00:00:00",
          "2022-01-21T00:00:00",
          "2022-01-22T00:00:00",
          "2022-01-23T00:00:00",
          "2022-01-24T00:00:00",
          "2022-01-25T00:00:00",
          "2022-01-26T00:00:00",
          "2022-01-27T00:00:00",
          "2022-01-28T00:00:00",
          "2022-01-29T00:00:00",
          "2022-01-30T00:00:00",
          "2022-01-31T00:00:00",
          "2022-02-01T00:00:00",
          "2022-02-02T00:00:00",
          "2022-02-03T00:00:00",
          "2022-02-04T00:00:00",
          "2022-02-05T00:00:00",
          "2022-02-06T00:00:00",
          "2022-02-07T00:00:00",
          "2022-02-08T00:00:00",
          "2022-02-09T00:00:00",
          "2022-02-10T00:00:00",
          "2022-02-11T00:00:00",
          "2022-02-12T00:00:00",
          "2022-02-13T00:00:00",
          "2022-02-14T00:00:00",
          "2022-02-15T00:00:00",
          "2022-02-16T00:00:00",
          "2022-02-17T00:00:00",
          "2022-02-18T00:00:00",
          "2022-02-19T00:00:00",
          "2022-02-20T00:00:00",
          "2022-02-21T00:00:00",
          "2022-02-22T00:00:00",
          "2022-02-23T00:00:00",
          "2022-02-24T00:00:00",
          "2022-02-25T00:00:00",
          "2022-02-26T00:00:00",
          "2022-02-27T00:00:00",
          "2022-02-28T00:00:00",
          "2022-03-01T00:00:00",
          "2022-03-02T00:00:00",
          "2022-03-03T00:00:00",
          "2022-03-04T00:00:00",
          "2022-03-05T00:00:00",
          "2022-03-06T00:00:00",
          "2022-03-07T00:00:00",
          "2022-03-08T00:00:00",
          "2022-03-09T00:00:00",
          "2022-03-10T00:00:00",
          "2022-03-11T00:00:00",
          "2022-03-12T00:00:00",
          "2022-03-13T00:00:00",
          "2022-03-14T00:00:00",
          "2022-03-15T00:00:00",
          "2022-03-16T00:00:00",
          "2022-03-17T00:00:00",
          "2022-03-18T00:00:00",
          "2022-03-19T00:00:00",
          "2022-03-20T00:00:00",
          "2022-03-21T00:00:00",
          "2022-03-22T00:00:00",
          "2022-03-23T00:00:00",
          "2022-03-24T00:00:00",
          "2022-03-25T00:00:00",
          "2022-03-26T00:00:00",
          "2022-03-27T00:00:00",
          "2022-03-28T00:00:00",
          "2022-03-29T00:00:00",
          "2022-03-30T00:00:00",
          "2022-03-31T00:00:00",
          "2022-04-01T00:00:00",
          "2022-04-02T00:00:00",
          "2022-04-03T00:00:00",
          "2022-04-04T00:00:00",
          "2022-04-05T00:00:00",
          "2022-04-06T00:00:00",
          "2022-04-07T00:00:00",
          "2022-04-08T00:00:00",
          "2022-04-09T00:00:00",
          "2022-04-10T00:00:00",
          "2022-04-11T00:00:00",
          "2022-04-12T00:00:00",
          "2022-04-13T00:00:00",
          "2022-04-14T00:00:00",
          "2022-04-15T00:00:00",
          "2022-04-16T00:00:00",
          "2022-04-17T00:00:00",
          "2022-04-18T00:00:00",
          "2022-04-19T00:00:00",
          "2022-04-20T00:00:00",
          "2022-04-21T00:00:00",
          "2022-04-22T00:00:00",
          "2022-04-23T00:00:00",
          "2022-04-24T00:00:00",
          "2022-04-25T00:00:00",
          "2022-04-26T00:00:00",
          "2022-04-27T00:00:00",
          "2022-04-28T00:00:00",
          "2022-04-29T00:00:00",
          "2022-04-30T00:00:00",
          "2022-05-01T00:00:00",
          "2022-05-02T00:00:00",
          "2022-05-03T00:00:00",
          "2022-05-04T00:00:00",
          "2022-05-05T00:00:00",
          "2022-05-06T00:00:00",
          "2022-05-07T00:00:00",
          "2022-05-08T00:00:00",
          "2022-05-09T00:00:00",
          "2022-05-10T00:00:00",
          "2022-05-11T00:00:00",
          "2022-05-12T00:00:00",
          "2022-05-13T00:00:00",
          "2022-05-14T00:00:00",
          "2022-05-15T00:00:00",
          "2022-05-16T00:00:00",
          "2022-05-17T00:00:00",
          "2022-05-18T00:00:00",
          "2022-05-19T00:00:00",
          "2022-05-20T00:00:00",
          "2022-05-21T00:00:00",
          "2022-05-22T00:00:00",
          "2022-05-23T00:00:00",
          "2022-05-24T00:00:00",
          "2022-05-25T00:00:00",
          "2022-05-26T00:00:00",
          "2022-05-27T00:00:00",
          "2022-05-28T00:00:00",
          "2022-05-29T00:00:00",
          "2022-05-30T00:00:00",
          "2022-05-31T00:00:00",
          "2022-06-01T00:00:00"
         ],
         "xaxis": "x",
         "y": [
          0,
          -0.10291041058161843,
          0.05933146595940508,
          0.0651151391356597,
          0.007607087598277662,
          -0.12493488598385771,
          -0.16027642234812867,
          -0.10064581540434725,
          0.007326722762917237,
          -0.029189706750877065,
          0.0013174354122471588,
          0.017736633697884807,
          0.0007178118109498755,
          -0.19250328585595666,
          -0.2212647495885386,
          -0.13206768271164449,
          0.026507024744307772,
          0.2345472415239498,
          0.2651065456491346,
          0.13421927362138963,
          0.0895148081699102,
          0.21527211006257652,
          0.4294875232275168,
          0.493254525376275,
          0.4514247619998706,
          0.48684508152213213,
          0.21670758616429064,
          0.22716831946039795,
          0.5728467803796258,
          0.6182044000021227,
          0.5375600030897547,
          0.45857626333630863,
          0.4209692110387975,
          0.41008458540502524,
          0.30201478550039096,
          0.3816827656584494,
          0.40871390360748694,
          0.4315148115442011,
          0.4725873090079409,
          0.4617234918276363,
          0.38293757917620086,
          0.3717605462265421,
          0.27423597873574024,
          0.2941386582762917,
          0.27726311584561025,
          0.2897658773164524,
          0.20042140160662902,
          0.17366293010988176,
          0.14849682704912226,
          0.17016576278288076,
          0.19054455398412395,
          0.195632714383563,
          0.2252411192269943,
          0.192669477118393,
          0.1758817577142857,
          0.2082761076204862,
          0.2672711771088805,
          0.30116310039144945,
          0.39213637425519865,
          0.393897201331983,
          0.3711911228517839,
          0.4779125032647804,
          0.46281680756591403,
          0.30778466344319466,
          0.36440533494559313,
          0.36975600713406,
          0.3196143683051229,
          0.3626018686843788,
          0.37556228262544566,
          0.4343878808556081,
          0.5901309303624005,
          0.6754062580241691,
          0.580565745785268,
          0.6615286427249489,
          0.867539733058831,
          0.932088410640677,
          0.8773588453585237,
          0.8023765298587482,
          0.8675033692338654,
          0.7975734204974749,
          1.0702794506313729,
          1.03509702700268,
          0.999879312399155,
          1.1073366500324848,
          1.299499615930468,
          1.0897870289963718,
          1.3602800574827518,
          1.671819596889259,
          1.758711238732265,
          1.849844988653421,
          1.6180676393331619,
          1.4577034788955299,
          1.5194258203509357,
          1.2130361135847356,
          1.373307291079827,
          1.3518846235133033,
          1.513734702957425,
          1.561884099299487,
          1.5277013805935065,
          1.290367869931699,
          1.2963795160811151,
          0.9574880157175356,
          0.8155603409584415,
          0.9690117902973163,
          0.9056017176332531,
          0.970568147903264,
          0.8305425407120779,
          0.7326309785246743,
          0.8243773910390908,
          0.8695233493094661,
          0.6721507615334839,
          0.8489471293595836,
          1.1361976188828087,
          1.090584064744513,
          1.365181121030052,
          1.451937433354546,
          1.2942449780100147,
          1.4220691330503512,
          1.6167830593768224,
          1.4710131184992679,
          1.5848996724581093,
          1.4392884234523455,
          1.4435955918409742,
          1.4467633483716282,
          1.4165954031023,
          1.2824219928686893,
          1.1956489079069765,
          1.1519826888428728,
          1.3233719690894779,
          1.4164735303466323,
          1.3997551092587504,
          1.2949184645717544,
          1.2038638056538948,
          1.0817226787234442,
          1.0246501691172907,
          0.84024255378726,
          0.7815477270986915,
          0.8874711441087113,
          0.7897052287677049,
          0.8986204618491602,
          1.035138030690343,
          0.9011598421844089,
          0.9153902147585007,
          0.9801374217505472,
          0.9556421363846741,
          0.8415052236480374,
          0.823612075056176,
          0.758340909318336,
          0.6844288813900541,
          0.3971202812721206,
          0.2660657187637485,
          0.37210153557737247,
          0.3358382717209729,
          0.4442927390907647,
          0.40170177796289996,
          0.3741129184162111,
          0.42442743535847627,
          0.5311792503596908,
          0.44380785658001387,
          0.4850288266216387,
          0.5576002984381001,
          0.44112343566447043,
          0.44346468334431965,
          0.6412932741158626,
          0.6424384847884121,
          0.6676596624056146,
          0.7680521743899076,
          0.8340949638077002,
          0.9119779215436978,
          0.9318603906379366,
          0.7312133379433807,
          0.7202120336660494,
          0.6586622035167768,
          0.7371416965237383,
          0.9668122241355284,
          1.0226629379038132,
          0.8696937912515856,
          0.7820397329222806,
          0.8062998488793884,
          0.6406510940062726,
          0.4839381698974121,
          0.5795715821631642,
          0.5663607135498847,
          0.6236995662005871,
          0.7163171908656534,
          0.7300682238831275,
          0.588294082141428,
          0.78767576676651,
          0.84039134143853,
          0.7629302485418714,
          0.6704574878488638,
          0.6057953406049637,
          0.630114798713227,
          0.5378944642025283,
          0.5238172072595588,
          0.5453747000987699,
          0.6464156267716952,
          0.5690874136535877,
          0.508904081724225,
          0.5041470990018899,
          0.44387924750327334,
          0.45659453395895766,
          0.48057197482012515,
          0.5704142127197926,
          0.6890434187682615,
          0.8221282175181104,
          0.902703180934652,
          0.7980018382318061,
          0.8341682626637243,
          0.7820843523044134,
          0.8228452072105858,
          0.8535512397444442,
          0.7728742537011211,
          0.8238792996837643,
          0.8976538376250347,
          0.8959296700088473,
          0.9655652731390887,
          1.0353650888760986,
          1.0283256518462522,
          1.049210282420161,
          1.0401989105528893,
          1.0684273608686965,
          1.0236144952378075,
          0.9305430711038722,
          0.7566244559567603,
          0.864061106454354,
          0.7742067767868519,
          0.7929215625455255,
          0.7397336900247253,
          0.5702636162743326,
          0.6218454423274415,
          0.6964151610926623,
          0.6287367479709465,
          0.6407323745181839,
          0.6528331649422654,
          0.604879607533725,
          0.64799024420786,
          0.7016037387161209,
          0.6595306931133609,
          0.5918220718419585,
          0.5728199598245476,
          0.5457615932929298,
          0.5174743509547866,
          0.5430169852971558,
          0.45403592025126893,
          0.4796767421655119,
          0.4248506660711302,
          0.3460352010398038,
          0.21100721180556503,
          0.24845404141251115,
          0.2805399210398234,
          0.26419277341408076,
          0.42176203153550884,
          0.25394801895179264,
          0.209117253314965,
          0.17033389098188723,
          0.0887012152026081,
          -0.10354594396582317,
          -0.058097701872869334,
          -0.34501574498648724,
          -0.3553346284554427,
          -0.31993034445550983,
          -0.2794117346909558,
          -0.2280088571340363,
          -0.30914543406224415,
          -0.26836304920312126,
          -0.37393997489243913,
          -0.35399148505552014,
          -0.3857242818821113,
          -0.3643907867373736,
          -0.32522728981690663,
          -0.3844765557056745,
          -0.3860394011006423,
          -0.42307436074771454,
          -0.49995362144070643,
          -0.5245765480855016,
          -0.47253171149962636,
          -0.44755317519691296,
          -0.4142495754766502,
          -0.4365863464459049
         ],
         "yaxis": "y"
        },
        {
         "hovertemplate": "%{y}",
         "legendgroup": "JOE",
         "line": {
          "color": "#EF553B",
          "dash": "solid"
         },
         "marker": {
          "symbol": "circle"
         },
         "mode": "lines",
         "name": "JOE",
         "orientation": "v",
         "showlegend": true,
         "type": "scatter",
         "x": [
          "2021-08-26T00:00:00",
          "2021-08-27T00:00:00",
          "2021-08-28T00:00:00",
          "2021-08-29T00:00:00",
          "2021-08-30T00:00:00",
          "2021-08-31T00:00:00",
          "2021-09-01T00:00:00",
          "2021-09-02T00:00:00",
          "2021-09-03T00:00:00",
          "2021-09-04T00:00:00",
          "2021-09-05T00:00:00",
          "2021-09-06T00:00:00",
          "2021-09-07T00:00:00",
          "2021-09-08T00:00:00",
          "2021-09-09T00:00:00",
          "2021-09-10T00:00:00",
          "2021-09-11T00:00:00",
          "2021-09-12T00:00:00",
          "2021-09-13T00:00:00",
          "2021-09-14T00:00:00",
          "2021-09-15T00:00:00",
          "2021-09-16T00:00:00",
          "2021-09-17T00:00:00",
          "2021-09-18T00:00:00",
          "2021-09-19T00:00:00",
          "2021-09-20T00:00:00",
          "2021-09-21T00:00:00",
          "2021-09-22T00:00:00",
          "2021-09-23T00:00:00",
          "2021-09-24T00:00:00",
          "2021-09-25T00:00:00",
          "2021-09-26T00:00:00",
          "2021-09-27T00:00:00",
          "2021-09-28T00:00:00",
          "2021-09-29T00:00:00",
          "2021-09-30T00:00:00",
          "2021-10-01T00:00:00",
          "2021-10-02T00:00:00",
          "2021-10-03T00:00:00",
          "2021-10-04T00:00:00",
          "2021-10-05T00:00:00",
          "2021-10-06T00:00:00",
          "2021-10-07T00:00:00",
          "2021-10-08T00:00:00",
          "2021-10-09T00:00:00",
          "2021-10-10T00:00:00",
          "2021-10-11T00:00:00",
          "2021-10-12T00:00:00",
          "2021-10-13T00:00:00",
          "2021-10-14T00:00:00",
          "2021-10-15T00:00:00",
          "2021-10-16T00:00:00",
          "2021-10-17T00:00:00",
          "2021-10-18T00:00:00",
          "2021-10-19T00:00:00",
          "2021-10-20T00:00:00",
          "2021-10-21T00:00:00",
          "2021-10-22T00:00:00",
          "2021-10-23T00:00:00",
          "2021-10-24T00:00:00",
          "2021-10-25T00:00:00",
          "2021-10-26T00:00:00",
          "2021-10-27T00:00:00",
          "2021-10-28T00:00:00",
          "2021-10-29T00:00:00",
          "2021-10-30T00:00:00",
          "2021-10-31T00:00:00",
          "2021-11-01T00:00:00",
          "2021-11-02T00:00:00",
          "2021-11-03T00:00:00",
          "2021-11-04T00:00:00",
          "2021-11-05T00:00:00",
          "2021-11-06T00:00:00",
          "2021-11-07T00:00:00",
          "2021-11-08T00:00:00",
          "2021-11-09T00:00:00",
          "2021-11-10T00:00:00",
          "2021-11-11T00:00:00",
          "2021-11-12T00:00:00",
          "2021-11-13T00:00:00",
          "2021-11-14T00:00:00",
          "2021-11-15T00:00:00",
          "2021-11-16T00:00:00",
          "2021-11-17T00:00:00",
          "2021-11-18T00:00:00",
          "2021-11-19T00:00:00",
          "2021-11-20T00:00:00",
          "2021-11-21T00:00:00",
          "2021-11-22T00:00:00",
          "2021-11-23T00:00:00",
          "2021-11-24T00:00:00",
          "2021-11-25T00:00:00",
          "2021-11-26T00:00:00",
          "2021-11-27T00:00:00",
          "2021-11-28T00:00:00",
          "2021-11-29T00:00:00",
          "2021-11-30T00:00:00",
          "2021-12-01T00:00:00",
          "2021-12-02T00:00:00",
          "2021-12-03T00:00:00",
          "2021-12-04T00:00:00",
          "2021-12-05T00:00:00",
          "2021-12-06T00:00:00",
          "2021-12-07T00:00:00",
          "2021-12-08T00:00:00",
          "2021-12-09T00:00:00",
          "2021-12-10T00:00:00",
          "2021-12-11T00:00:00",
          "2021-12-12T00:00:00",
          "2021-12-13T00:00:00",
          "2021-12-14T00:00:00",
          "2021-12-15T00:00:00",
          "2021-12-16T00:00:00",
          "2021-12-17T00:00:00",
          "2021-12-18T00:00:00",
          "2021-12-19T00:00:00",
          "2021-12-20T00:00:00",
          "2021-12-21T00:00:00",
          "2021-12-22T00:00:00",
          "2021-12-23T00:00:00",
          "2021-12-24T00:00:00",
          "2021-12-25T00:00:00",
          "2021-12-26T00:00:00",
          "2021-12-27T00:00:00",
          "2021-12-28T00:00:00",
          "2021-12-29T00:00:00",
          "2021-12-30T00:00:00",
          "2021-12-31T00:00:00",
          "2022-01-01T00:00:00",
          "2022-01-02T00:00:00",
          "2022-01-03T00:00:00",
          "2022-01-04T00:00:00",
          "2022-01-05T00:00:00",
          "2022-01-06T00:00:00",
          "2022-01-07T00:00:00",
          "2022-01-08T00:00:00",
          "2022-01-09T00:00:00",
          "2022-01-10T00:00:00",
          "2022-01-11T00:00:00",
          "2022-01-12T00:00:00",
          "2022-01-13T00:00:00",
          "2022-01-14T00:00:00",
          "2022-01-15T00:00:00",
          "2022-01-16T00:00:00",
          "2022-01-17T00:00:00",
          "2022-01-18T00:00:00",
          "2022-01-19T00:00:00",
          "2022-01-20T00:00:00",
          "2022-01-21T00:00:00",
          "2022-01-22T00:00:00",
          "2022-01-23T00:00:00",
          "2022-01-24T00:00:00",
          "2022-01-25T00:00:00",
          "2022-01-26T00:00:00",
          "2022-01-27T00:00:00",
          "2022-01-28T00:00:00",
          "2022-01-29T00:00:00",
          "2022-01-30T00:00:00",
          "2022-01-31T00:00:00",
          "2022-02-01T00:00:00",
          "2022-02-02T00:00:00",
          "2022-02-03T00:00:00",
          "2022-02-04T00:00:00",
          "2022-02-05T00:00:00",
          "2022-02-06T00:00:00",
          "2022-02-07T00:00:00",
          "2022-02-08T00:00:00",
          "2022-02-09T00:00:00",
          "2022-02-10T00:00:00",
          "2022-02-11T00:00:00",
          "2022-02-12T00:00:00",
          "2022-02-13T00:00:00",
          "2022-02-14T00:00:00",
          "2022-02-15T00:00:00",
          "2022-02-16T00:00:00",
          "2022-02-17T00:00:00",
          "2022-02-18T00:00:00",
          "2022-02-19T00:00:00",
          "2022-02-20T00:00:00",
          "2022-02-21T00:00:00",
          "2022-02-22T00:00:00",
          "2022-02-23T00:00:00",
          "2022-02-24T00:00:00",
          "2022-02-25T00:00:00",
          "2022-02-26T00:00:00",
          "2022-02-27T00:00:00",
          "2022-02-28T00:00:00",
          "2022-03-01T00:00:00",
          "2022-03-02T00:00:00",
          "2022-03-03T00:00:00",
          "2022-03-04T00:00:00",
          "2022-03-05T00:00:00",
          "2022-03-06T00:00:00",
          "2022-03-07T00:00:00",
          "2022-03-08T00:00:00",
          "2022-03-09T00:00:00",
          "2022-03-10T00:00:00",
          "2022-03-11T00:00:00",
          "2022-03-12T00:00:00",
          "2022-03-13T00:00:00",
          "2022-03-14T00:00:00",
          "2022-03-15T00:00:00",
          "2022-03-16T00:00:00",
          "2022-03-17T00:00:00",
          "2022-03-18T00:00:00",
          "2022-03-19T00:00:00",
          "2022-03-20T00:00:00",
          "2022-03-21T00:00:00",
          "2022-03-22T00:00:00",
          "2022-03-23T00:00:00",
          "2022-03-24T00:00:00",
          "2022-03-25T00:00:00",
          "2022-03-26T00:00:00",
          "2022-03-27T00:00:00",
          "2022-03-28T00:00:00",
          "2022-03-29T00:00:00",
          "2022-03-30T00:00:00",
          "2022-03-31T00:00:00",
          "2022-04-01T00:00:00",
          "2022-04-02T00:00:00",
          "2022-04-03T00:00:00",
          "2022-04-04T00:00:00",
          "2022-04-05T00:00:00",
          "2022-04-06T00:00:00",
          "2022-04-07T00:00:00",
          "2022-04-08T00:00:00",
          "2022-04-09T00:00:00",
          "2022-04-10T00:00:00",
          "2022-04-11T00:00:00",
          "2022-04-12T00:00:00",
          "2022-04-13T00:00:00",
          "2022-04-14T00:00:00",
          "2022-04-15T00:00:00",
          "2022-04-16T00:00:00",
          "2022-04-17T00:00:00",
          "2022-04-18T00:00:00",
          "2022-04-19T00:00:00",
          "2022-04-20T00:00:00",
          "2022-04-21T00:00:00",
          "2022-04-22T00:00:00",
          "2022-04-23T00:00:00",
          "2022-04-24T00:00:00",
          "2022-04-25T00:00:00",
          "2022-04-26T00:00:00",
          "2022-04-27T00:00:00",
          "2022-04-28T00:00:00",
          "2022-04-29T00:00:00",
          "2022-04-30T00:00:00",
          "2022-05-01T00:00:00",
          "2022-05-02T00:00:00",
          "2022-05-03T00:00:00",
          "2022-05-04T00:00:00",
          "2022-05-05T00:00:00",
          "2022-05-06T00:00:00",
          "2022-05-07T00:00:00",
          "2022-05-08T00:00:00",
          "2022-05-09T00:00:00",
          "2022-05-10T00:00:00",
          "2022-05-11T00:00:00",
          "2022-05-12T00:00:00",
          "2022-05-13T00:00:00",
          "2022-05-14T00:00:00",
          "2022-05-15T00:00:00",
          "2022-05-16T00:00:00",
          "2022-05-17T00:00:00",
          "2022-05-18T00:00:00",
          "2022-05-19T00:00:00",
          "2022-05-20T00:00:00",
          "2022-05-21T00:00:00",
          "2022-05-22T00:00:00",
          "2022-05-23T00:00:00",
          "2022-05-24T00:00:00",
          "2022-05-25T00:00:00",
          "2022-05-26T00:00:00",
          "2022-05-27T00:00:00",
          "2022-05-28T00:00:00",
          "2022-05-29T00:00:00",
          "2022-05-30T00:00:00",
          "2022-05-31T00:00:00",
          "2022-06-01T00:00:00"
         ],
         "xaxis": "x",
         "y": [
          0,
          0.468044529662931,
          0.7907963469955059,
          0.5942922153248227,
          0.9944530446369204,
          -0.0673601453080096,
          -0.13188002424781065,
          0.12906031853896738,
          0.5082525414358041,
          0.4055234302829551,
          0.5164538383788211,
          0.382786889751739,
          0.2194754118751956,
          0.0024546542846186625,
          -0.061575760656863654,
          0.07697971173215246,
          0.29027885080045257,
          0.7297819863629982,
          0.7259371052048453,
          0.5060856168001118,
          0.46290649485191526,
          0.8537976850935849,
          1.3945180815450584,
          1.2937435629072667,
          1.3799652509567037,
          1.6785369215153971,
          1.0033866266753955,
          1.273507301866469,
          2.4884880317380316,
          2.270196082141327,
          2.1774638761319896,
          1.7743344292272196,
          1.9536074450097716,
          2.1609732947347045,
          1.823325323696162,
          1.6069429961876187,
          1.4026923860589169,
          1.4935683235949542,
          1.2116616924840842,
          1.3049852684751162,
          1.1876378651011081,
          0.8985733110935432,
          0.7798180576056368,
          1.0517971018071797,
          0.9426921943139077,
          0.7607811260902482,
          0.6100727593825681,
          0.3735559513030724,
          0.45422189087376696,
          0.5782456952721691,
          0.44176987526496436,
          0.5631594556765036,
          0.7878251218027552,
          0.901236994055338,
          1.1555494715165073,
          1.3456710926663895,
          1.2518890060060346,
          1.4354425424309416,
          1.333585829355001,
          1.1105064943386025,
          1.1609019900883788,
          1.6421686370152622,
          1.5269194363830203,
          1.1634680774196986,
          1.3062308269678091,
          1.1411213752532223,
          0.9029827652218387,
          1.003840488975417,
          1.0304935257027426,
          0.9336241009200648,
          1.3260872850775085,
          1.5185482755285662,
          1.2869438505411632,
          1.277903080869533,
          1.3599026427197165,
          1.2615591882391257,
          1.1484853718358083,
          0.9293780318288551,
          0.9380591660908906,
          0.7849781191933225,
          1.083162482277939,
          1.124544514079881,
          1.218822838793566,
          1.397542989740272,
          1.7218978859158716,
          1.306099754079614,
          1.6441862755615557,
          2.290591819806996,
          2.632768607030002,
          2.3927389871689804,
          2.0485290667152216,
          1.821559729328686,
          1.9206172712645175,
          1.1098477495033556,
          1.3639019554727403,
          1.486788724586551,
          1.5788919953300704,
          1.5130402042135325,
          1.3834416792740702,
          1.0694267494642267,
          1.1320025449775981,
          0.8246212971658586,
          0.7393123754122317,
          0.7651928853234868,
          0.9823246778900918,
          1.0620857386154632,
          0.7927672790068561,
          0.57861190736562,
          0.7437815035887312,
          0.6577936622574181,
          0.41641185281514326,
          0.7158307267022661,
          0.8295145355301023,
          0.8722010197244123,
          0.8851208654555134,
          0.9170688743739948,
          0.7315514854798659,
          0.8190563050752828,
          0.9036955597369507,
          0.7506972138854122,
          0.9750974788514919,
          0.7485027595019362,
          0.7413365240769394,
          0.8440425650652326,
          0.733909296361998,
          0.8786433216421983,
          0.7770450906002269,
          0.6281256252750633,
          0.6665083005850003,
          0.6479467826622156,
          0.5393578570064952,
          0.4354386440568734,
          0.4286530324151059,
          0.31450145510544236,
          0.27488978243851125,
          0.14717815176751547,
          0.07351789600364889,
          0.17613301835095907,
          0.10963065799021243,
          0.20064365521481364,
          0.27434613915353356,
          0.18444870997592755,
          0.16506451918186893,
          0.2245953819059654,
          0.25997128168059436,
          0.1507553580183929,
          0.10564625548531748,
          0.02288065821643004,
          -0.062334247004349974,
          -0.2758420944787121,
          -0.3912217728780727,
          -0.32639366667052894,
          -0.3677259849200192,
          -0.3064021860164342,
          -0.27578760035341987,
          -0.21908762704971763,
          0.01267205515342007,
          0.06146904970604483,
          0.004033876997522334,
          0.13478038106178558,
          0.20122545242935064,
          0.02600598218364869,
          0.011393658526296147,
          0.15648751255149618,
          0.13571067737484555,
          0.0927090753546147,
          0.08910977899293804,
          0.061319178345796255,
          0.10366046842920995,
          0.11473835651390796,
          -0.017766014466165214,
          -0.04759836162984621,
          -0.08941985237549199,
          -0.06421899939962794,
          0.051851836747064395,
          0.01147559444284263,
          -0.06367951372591363,
          -0.08591004288106552,
          -0.08360295620223068,
          -0.20213240183728276,
          -0.22289664258863262,
          -0.16014103043245265,
          -0.18387952695532583,
          -0.19321895048197502,
          -0.09614729559837498,
          -0.1267811706354669,
          -0.17879412133755768,
          -0.041932787083411305,
          -0.09689367536468718,
          -0.10158500022302386,
          -0.14833581139539675,
          -0.15418708146190407,
          -0.1481542811835619,
          -0.17682675856461283,
          -0.21571927214553177,
          -0.2285615277271119,
          -0.19966494390894285,
          -0.22820628269259313,
          -0.29152288958149686,
          -0.2711840073324271,
          -0.34637296402360485,
          -0.33699535784644463,
          -0.3410917643402116,
          -0.2840626026262243,
          -0.21783860153160672,
          -0.20395992567754884,
          -0.18190502138000653,
          -0.22949287169486077,
          -0.1958210796445511,
          -0.2151888661670892,
          -0.2174253223907333,
          -0.19813298374734645,
          -0.2459452540367255,
          -0.2281799166568912,
          -0.21625679744615844,
          -0.11922288162602812,
          -0.12500448491909366,
          0.0017383083062514348,
          -0.04933583947738229,
          -0.00759551305945716,
          -0.00038414261645680625,
          0.08795969093118305,
          0.07406321700894791,
          0.1158712721766817,
          -0.023981960124126678,
          0.09439883688315054,
          0.01073657919477311,
          0.07496782556331483,
          0.04211666099413347,
          -0.10669457681671768,
          -0.058546851773876196,
          -0.004386354796960701,
          -0.054295319143045084,
          -0.06478701439372181,
          -0.08848288773316892,
          -0.11795323826665316,
          -0.0921840747883419,
          -0.009470298624490558,
          -0.03781507851102717,
          -0.07592570201077675,
          -0.11472866618223776,
          -0.15996174469984947,
          -0.17113180674418194,
          -0.1279719527741503,
          -0.1959815625209359,
          -0.18405098193420966,
          -0.22970921573380088,
          -0.29525710372058434,
          -0.35948007249895153,
          -0.333011563087827,
          -0.2887103919704608,
          -0.295791336300842,
          -0.20601275140611142,
          -0.3131740746468855,
          -0.34970274182659156,
          -0.377500218161376,
          -0.37361303532613444,
          -0.5201430435865344,
          -0.5366510909217883,
          -0.7196878555924582,
          -0.67744383678278,
          -0.632514763355513,
          -0.624254572944321,
          -0.5940808440274211,
          -0.6299799418618697,
          -0.6068181348734696,
          -0.6650760443332309,
          -0.6624081616781112,
          -0.6969555546666584,
          -0.69403701439653,
          -0.661789241842857,
          -0.6967328461884219,
          -0.6893075417365732,
          -0.7058713864814078,
          -0.7449556764822364,
          -0.7657671664436095,
          -0.7415772868258026,
          -0.7245485066803408,
          -0.7117801341152019,
          -0.7285418031181622
         ],
         "yaxis": "y"
        }
       ],
       "layout": {
        "autosize": true,
        "hovermode": "x",
        "legend": {
         "title": {
          "text": "asset"
         },
         "tracegroupgap": 0
        },
        "margin": {
         "t": 60
        },
        "template": {
         "data": {
          "bar": [
           {
            "error_x": {
             "color": "#2a3f5f"
            },
            "error_y": {
             "color": "#2a3f5f"
            },
            "marker": {
             "line": {
              "color": "white",
              "width": 0.5
             },
             "pattern": {
              "fillmode": "overlay",
              "size": 10,
              "solidity": 0.2
             }
            },
            "type": "bar"
           }
          ],
          "barpolar": [
           {
            "marker": {
             "line": {
              "color": "white",
              "width": 0.5
             },
             "pattern": {
              "fillmode": "overlay",
              "size": 10,
              "solidity": 0.2
             }
            },
            "type": "barpolar"
           }
          ],
          "carpet": [
           {
            "aaxis": {
             "endlinecolor": "#2a3f5f",
             "gridcolor": "#C8D4E3",
             "linecolor": "#C8D4E3",
             "minorgridcolor": "#C8D4E3",
             "startlinecolor": "#2a3f5f"
            },
            "baxis": {
             "endlinecolor": "#2a3f5f",
             "gridcolor": "#C8D4E3",
             "linecolor": "#C8D4E3",
             "minorgridcolor": "#C8D4E3",
             "startlinecolor": "#2a3f5f"
            },
            "type": "carpet"
           }
          ],
          "choropleth": [
           {
            "colorbar": {
             "outlinewidth": 0,
             "ticks": ""
            },
            "type": "choropleth"
           }
          ],
          "contour": [
           {
            "colorbar": {
             "outlinewidth": 0,
             "ticks": ""
            },
            "colorscale": [
             [
              0,
              "#0d0887"
             ],
             [
              0.1111111111111111,
              "#46039f"
             ],
             [
              0.2222222222222222,
              "#7201a8"
             ],
             [
              0.3333333333333333,
              "#9c179e"
             ],
             [
              0.4444444444444444,
              "#bd3786"
             ],
             [
              0.5555555555555556,
              "#d8576b"
             ],
             [
              0.6666666666666666,
              "#ed7953"
             ],
             [
              0.7777777777777778,
              "#fb9f3a"
             ],
             [
              0.8888888888888888,
              "#fdca26"
             ],
             [
              1,
              "#f0f921"
             ]
            ],
            "type": "contour"
           }
          ],
          "contourcarpet": [
           {
            "colorbar": {
             "outlinewidth": 0,
             "ticks": ""
            },
            "type": "contourcarpet"
           }
          ],
          "heatmap": [
           {
            "colorbar": {
             "outlinewidth": 0,
             "ticks": ""
            },
            "colorscale": [
             [
              0,
              "#0d0887"
             ],
             [
              0.1111111111111111,
              "#46039f"
             ],
             [
              0.2222222222222222,
              "#7201a8"
             ],
             [
              0.3333333333333333,
              "#9c179e"
             ],
             [
              0.4444444444444444,
              "#bd3786"
             ],
             [
              0.5555555555555556,
              "#d8576b"
             ],
             [
              0.6666666666666666,
              "#ed7953"
             ],
             [
              0.7777777777777778,
              "#fb9f3a"
             ],
             [
              0.8888888888888888,
              "#fdca26"
             ],
             [
              1,
              "#f0f921"
             ]
            ],
            "type": "heatmap"
           }
          ],
          "heatmapgl": [
           {
            "colorbar": {
             "outlinewidth": 0,
             "ticks": ""
            },
            "colorscale": [
             [
              0,
              "#0d0887"
             ],
             [
              0.1111111111111111,
              "#46039f"
             ],
             [
              0.2222222222222222,
              "#7201a8"
             ],
             [
              0.3333333333333333,
              "#9c179e"
             ],
             [
              0.4444444444444444,
              "#bd3786"
             ],
             [
              0.5555555555555556,
              "#d8576b"
             ],
             [
              0.6666666666666666,
              "#ed7953"
             ],
             [
              0.7777777777777778,
              "#fb9f3a"
             ],
             [
              0.8888888888888888,
              "#fdca26"
             ],
             [
              1,
              "#f0f921"
             ]
            ],
            "type": "heatmapgl"
           }
          ],
          "histogram": [
           {
            "marker": {
             "pattern": {
              "fillmode": "overlay",
              "size": 10,
              "solidity": 0.2
             }
            },
            "type": "histogram"
           }
          ],
          "histogram2d": [
           {
            "colorbar": {
             "outlinewidth": 0,
             "ticks": ""
            },
            "colorscale": [
             [
              0,
              "#0d0887"
             ],
             [
              0.1111111111111111,
              "#46039f"
             ],
             [
              0.2222222222222222,
              "#7201a8"
             ],
             [
              0.3333333333333333,
              "#9c179e"
             ],
             [
              0.4444444444444444,
              "#bd3786"
             ],
             [
              0.5555555555555556,
              "#d8576b"
             ],
             [
              0.6666666666666666,
              "#ed7953"
             ],
             [
              0.7777777777777778,
              "#fb9f3a"
             ],
             [
              0.8888888888888888,
              "#fdca26"
             ],
             [
              1,
              "#f0f921"
             ]
            ],
            "type": "histogram2d"
           }
          ],
          "histogram2dcontour": [
           {
            "colorbar": {
             "outlinewidth": 0,
             "ticks": ""
            },
            "colorscale": [
             [
              0,
              "#0d0887"
             ],
             [
              0.1111111111111111,
              "#46039f"
             ],
             [
              0.2222222222222222,
              "#7201a8"
             ],
             [
              0.3333333333333333,
              "#9c179e"
             ],
             [
              0.4444444444444444,
              "#bd3786"
             ],
             [
              0.5555555555555556,
              "#d8576b"
             ],
             [
              0.6666666666666666,
              "#ed7953"
             ],
             [
              0.7777777777777778,
              "#fb9f3a"
             ],
             [
              0.8888888888888888,
              "#fdca26"
             ],
             [
              1,
              "#f0f921"
             ]
            ],
            "type": "histogram2dcontour"
           }
          ],
          "mesh3d": [
           {
            "colorbar": {
             "outlinewidth": 0,
             "ticks": ""
            },
            "type": "mesh3d"
           }
          ],
          "parcoords": [
           {
            "line": {
             "colorbar": {
              "outlinewidth": 0,
              "ticks": ""
             }
            },
            "type": "parcoords"
           }
          ],
          "pie": [
           {
            "automargin": true,
            "type": "pie"
           }
          ],
          "scatter": [
           {
            "marker": {
             "colorbar": {
              "outlinewidth": 0,
              "ticks": ""
             }
            },
            "type": "scatter"
           }
          ],
          "scatter3d": [
           {
            "line": {
             "colorbar": {
              "outlinewidth": 0,
              "ticks": ""
             }
            },
            "marker": {
             "colorbar": {
              "outlinewidth": 0,
              "ticks": ""
             }
            },
            "type": "scatter3d"
           }
          ],
          "scattercarpet": [
           {
            "marker": {
             "colorbar": {
              "outlinewidth": 0,
              "ticks": ""
             }
            },
            "type": "scattercarpet"
           }
          ],
          "scattergeo": [
           {
            "marker": {
             "colorbar": {
              "outlinewidth": 0,
              "ticks": ""
             }
            },
            "type": "scattergeo"
           }
          ],
          "scattergl": [
           {
            "marker": {
             "colorbar": {
              "outlinewidth": 0,
              "ticks": ""
             }
            },
            "type": "scattergl"
           }
          ],
          "scattermapbox": [
           {
            "marker": {
             "colorbar": {
              "outlinewidth": 0,
              "ticks": ""
             }
            },
            "type": "scattermapbox"
           }
          ],
          "scatterpolar": [
           {
            "marker": {
             "colorbar": {
              "outlinewidth": 0,
              "ticks": ""
             }
            },
            "type": "scatterpolar"
           }
          ],
          "scatterpolargl": [
           {
            "marker": {
             "colorbar": {
              "outlinewidth": 0,
              "ticks": ""
             }
            },
            "type": "scatterpolargl"
           }
          ],
          "scatterternary": [
           {
            "marker": {
             "colorbar": {
              "outlinewidth": 0,
              "ticks": ""
             }
            },
            "type": "scatterternary"
           }
          ],
          "surface": [
           {
            "colorbar": {
             "outlinewidth": 0,
             "ticks": ""
            },
            "colorscale": [
             [
              0,
              "#0d0887"
             ],
             [
              0.1111111111111111,
              "#46039f"
             ],
             [
              0.2222222222222222,
              "#7201a8"
             ],
             [
              0.3333333333333333,
              "#9c179e"
             ],
             [
              0.4444444444444444,
              "#bd3786"
             ],
             [
              0.5555555555555556,
              "#d8576b"
             ],
             [
              0.6666666666666666,
              "#ed7953"
             ],
             [
              0.7777777777777778,
              "#fb9f3a"
             ],
             [
              0.8888888888888888,
              "#fdca26"
             ],
             [
              1,
              "#f0f921"
             ]
            ],
            "type": "surface"
           }
          ],
          "table": [
           {
            "cells": {
             "fill": {
              "color": "#EBF0F8"
             },
             "line": {
              "color": "white"
             }
            },
            "header": {
             "fill": {
              "color": "#C8D4E3"
             },
             "line": {
              "color": "white"
             }
            },
            "type": "table"
           }
          ]
         },
         "layout": {
          "annotationdefaults": {
           "arrowcolor": "#2a3f5f",
           "arrowhead": 0,
           "arrowwidth": 1
          },
          "autotypenumbers": "strict",
          "coloraxis": {
           "colorbar": {
            "outlinewidth": 0,
            "ticks": ""
           }
          },
          "colorscale": {
           "diverging": [
            [
             0,
             "#8e0152"
            ],
            [
             0.1,
             "#c51b7d"
            ],
            [
             0.2,
             "#de77ae"
            ],
            [
             0.3,
             "#f1b6da"
            ],
            [
             0.4,
             "#fde0ef"
            ],
            [
             0.5,
             "#f7f7f7"
            ],
            [
             0.6,
             "#e6f5d0"
            ],
            [
             0.7,
             "#b8e186"
            ],
            [
             0.8,
             "#7fbc41"
            ],
            [
             0.9,
             "#4d9221"
            ],
            [
             1,
             "#276419"
            ]
           ],
           "sequential": [
            [
             0,
             "#0d0887"
            ],
            [
             0.1111111111111111,
             "#46039f"
            ],
            [
             0.2222222222222222,
             "#7201a8"
            ],
            [
             0.3333333333333333,
             "#9c179e"
            ],
            [
             0.4444444444444444,
             "#bd3786"
            ],
            [
             0.5555555555555556,
             "#d8576b"
            ],
            [
             0.6666666666666666,
             "#ed7953"
            ],
            [
             0.7777777777777778,
             "#fb9f3a"
            ],
            [
             0.8888888888888888,
             "#fdca26"
            ],
            [
             1,
             "#f0f921"
            ]
           ],
           "sequentialminus": [
            [
             0,
             "#0d0887"
            ],
            [
             0.1111111111111111,
             "#46039f"
            ],
            [
             0.2222222222222222,
             "#7201a8"
            ],
            [
             0.3333333333333333,
             "#9c179e"
            ],
            [
             0.4444444444444444,
             "#bd3786"
            ],
            [
             0.5555555555555556,
             "#d8576b"
            ],
            [
             0.6666666666666666,
             "#ed7953"
            ],
            [
             0.7777777777777778,
             "#fb9f3a"
            ],
            [
             0.8888888888888888,
             "#fdca26"
            ],
            [
             1,
             "#f0f921"
            ]
           ]
          },
          "colorway": [
           "#636efa",
           "#EF553B",
           "#00cc96",
           "#ab63fa",
           "#FFA15A",
           "#19d3f3",
           "#FF6692",
           "#B6E880",
           "#FF97FF",
           "#FECB52"
          ],
          "font": {
           "color": "#2a3f5f"
          },
          "geo": {
           "bgcolor": "white",
           "lakecolor": "white",
           "landcolor": "white",
           "showlakes": true,
           "showland": true,
           "subunitcolor": "#C8D4E3"
          },
          "hoverlabel": {
           "align": "left"
          },
          "hovermode": "closest",
          "mapbox": {
           "style": "light"
          },
          "paper_bgcolor": "white",
          "plot_bgcolor": "white",
          "polar": {
           "angularaxis": {
            "gridcolor": "#EBF0F8",
            "linecolor": "#EBF0F8",
            "ticks": ""
           },
           "bgcolor": "white",
           "radialaxis": {
            "gridcolor": "#EBF0F8",
            "linecolor": "#EBF0F8",
            "ticks": ""
           }
          },
          "scene": {
           "xaxis": {
            "backgroundcolor": "white",
            "gridcolor": "#DFE8F3",
            "gridwidth": 2,
            "linecolor": "#EBF0F8",
            "showbackground": true,
            "ticks": "",
            "zerolinecolor": "#EBF0F8"
           },
           "yaxis": {
            "backgroundcolor": "white",
            "gridcolor": "#DFE8F3",
            "gridwidth": 2,
            "linecolor": "#EBF0F8",
            "showbackground": true,
            "ticks": "",
            "zerolinecolor": "#EBF0F8"
           },
           "zaxis": {
            "backgroundcolor": "white",
            "gridcolor": "#DFE8F3",
            "gridwidth": 2,
            "linecolor": "#EBF0F8",
            "showbackground": true,
            "ticks": "",
            "zerolinecolor": "#EBF0F8"
           }
          },
          "shapedefaults": {
           "line": {
            "color": "#2a3f5f"
           }
          },
          "ternary": {
           "aaxis": {
            "gridcolor": "#DFE8F3",
            "linecolor": "#A2B1C6",
            "ticks": ""
           },
           "baxis": {
            "gridcolor": "#DFE8F3",
            "linecolor": "#A2B1C6",
            "ticks": ""
           },
           "bgcolor": "white",
           "caxis": {
            "gridcolor": "#DFE8F3",
            "linecolor": "#A2B1C6",
            "ticks": ""
           }
          },
          "title": {
           "x": 0.05
          },
          "xaxis": {
           "automargin": true,
           "gridcolor": "#EBF0F8",
           "linecolor": "#EBF0F8",
           "ticks": "",
           "title": {
            "standoff": 15
           },
           "zerolinecolor": "#EBF0F8",
           "zerolinewidth": 2
          },
          "yaxis": {
           "automargin": true,
           "gridcolor": "#EBF0F8",
           "linecolor": "#EBF0F8",
           "ticks": "",
           "title": {
            "standoff": 15
           },
           "zerolinecolor": "#EBF0F8",
           "zerolinewidth": 2
          }
         }
        },
        "title": {
         "text": "Assets return"
        },
        "xaxis": {
         "anchor": "y",
         "autorange": true,
         "domain": [
          0,
          1
         ],
         "range": [
          "2021-08-26",
          "2022-06-01"
         ],
         "showspikes": true,
         "spikecolor": "#999999",
         "spikedash": "dot",
         "spikemode": "across",
         "spikethickness": 2,
         "title": {
          "text": "date"
         },
         "type": "date"
        },
        "yaxis": {
         "anchor": "x",
         "autorange": true,
         "domain": [
          0,
          1
         ],
         "range": [
          -0.9545747094143657,
          2.821576150000758
         ],
         "tickformat": ".2%",
         "title": {
          "text": "return, %"
         },
         "type": "linear"
        }
       }
      },
      "image/png": "[encoded data removed]",
      "text/html": [
       "<div>                            <div id=\"6b17fac4-529c-4241-abf1-0fc52c6e1fa8\" class=\"plotly-graph-div\" style=\"height:525px; width:100%;\"></div>            <script type=\"text/javascript\">                require([\"plotly\"], function(Plotly) {                    window.PLOTLYENV=window.PLOTLYENV || {};                                    if (document.getElementById(\"6b17fac4-529c-4241-abf1-0fc52c6e1fa8\")) {                    Plotly.newPlot(                        \"6b17fac4-529c-4241-abf1-0fc52c6e1fa8\",                        [{\"hovertemplate\":\"%{y}\",\"legendgroup\":\"AVAX\",\"line\":{\"color\":\"#636efa\",\"dash\":\"solid\"},\"marker\":{\"symbol\":\"circle\"},\"mode\":\"lines\",\"name\":\"AVAX\",\"orientation\":\"v\",\"showlegend\":true,\"x\":[\"2021-08-26T00:00:00\",\"2021-08-27T00:00:00\",\"2021-08-28T00:00:00\",\"2021-08-29T00:00:00\",\"2021-08-30T00:00:00\",\"2021-08-31T00:00:00\",\"2021-09-01T00:00:00\",\"2021-09-02T00:00:00\",\"2021-09-03T00:00:00\",\"2021-09-04T00:00:00\",\"2021-09-05T00:00:00\",\"2021-09-06T00:00:00\",\"2021-09-07T00:00:00\",\"2021-09-08T00:00:00\",\"2021-09-09T00:00:00\",\"2021-09-10T00:00:00\",\"2021-09-11T00:00:00\",\"2021-09-12T00:00:00\",\"2021-09-13T00:00:00\",\"2021-09-14T00:00:00\",\"2021-09-15T00:00:00\",\"2021-09-16T00:00:00\",\"2021-09-17T00:00:00\",\"2021-09-18T00:00:00\",\"2021-09-19T00:00:00\",\"2021-09-20T00:00:00\",\"2021-09-21T00:00:00\",\"2021-09-22T00:00:00\",\"2021-09-23T00:00:00\",\"2021-09-24T00:00:00\",\"2021-09-25T00:00:00\",\"2021-09-26T00:00:00\",\"2021-09-27T00:00:00\",\"2021-09-28T00:00:00\",\"2021-09-29T00:00:00\",\"2021-09-30T00:00:00\",\"2021-10-01T00:00:00\",\"2021-10-02T00:00:00\",\"2021-10-03T00:00:00\",\"2021-10-04T00:00:00\",\"2021-10-05T00:00:00\",\"2021-10-06T00:00:00\",\"2021-10-07T00:00:00\",\"2021-10-08T00:00:00\",\"2021-10-09T00:00:00\",\"2021-10-10T00:00:00\",\"2021-10-11T00:00:00\",\"2021-10-12T00:00:00\",\"2021-10-13T00:00:00\",\"2021-10-14T00:00:00\",\"2021-10-15T00:00:00\",\"2021-10-16T00:00:00\",\"2021-10-17T00:00:00\",\"2021-10-18T00:00:00\",\"2021-10-19T00:00:00\",\"2021-10-20T00:00:00\",\"2021-10-21T00:00:00\",\"2021-10-22T00:00:00\",\"2021-10-23T00:00:00\",\"2021-10-24T00:00:00\",\"2021-10-25T00:00:00\",\"2021-10-26T00:00:00\",\"2021-10-27T00:00:00\",\"2021-10-28T00:00:00\",\"2021-10-29T00:00:00\",\"2021-10-30T00:00:00\",\"2021-10-31T00:00:00\",\"2021-11-01T00:00:00\",\"2021-11-02T00:00:00\",\"2021-11-03T00:00:00\",\"2021-11-04T00:00:00\",\"2021-11-05T00:00:00\",\"2021-11-06T00:00:00\",\"2021-11-07T00:00:00\",\"2021-11-08T00:00:00\",\"2021-11-09T00:00:00\",\"2021-11-10T00:00:00\",\"2021-11-11T00:00:00\",\"2021-11-12T00:00:00\",\"2021-11-13T00:00:00\",\"2021-11-14T00:00:00\",\"2021-11-15T00:00:00\",\"2021-11-16T00:00:00\",\"2021-11-17T00:00:00\",\"2021-11-18T00:00:00\",\"2021-11-19T00:00:00\",\"2021-11-20T00:00:00\",\"2021-11-21T00:00:00\",\"2021-11-22T00:00:00\",\"2021-11-23T00:00:00\",\"2021-11-24T00:00:00\",\"2021-11-25T00:00:00\",\"2021-11-26T00:00:00\",\"2021-11-27T00:00:00\",\"2021-11-28T00:00:00\",\"2021-11-29T00:00:00\",\"2021-11-30T00:00:00\",\"2021-12-01T00:00:00\",\"2021-12-02T00:00:00\",\"2021-12-03T00:00:00\",\"2021-12-04T00:00:00\",\"2021-12-05T00:00:00\",\"2021-12-06T00:00:00\",\"2021-12-07T00:00:00\",\"2021-12-08T00:00:00\",\"2021-12-09T00:00:00\",\"2021-12-10T00:00:00\",\"2021-12-11T00:00:00\",\"2021-12-12T00:00:00\",\"2021-12-13T00:00:00\",\"2021-12-14T00:00:00\",\"2021-12-15T00:00:00\",\"2021-12-16T00:00:00\",\"2021-12-17T00:00:00\",\"2021-12-18T00:00:00\",\"2021-12-19T00:00:00\",\"2021-12-20T00:00:00\",\"2021-12-21T00:00:00\",\"2021-12-22T00:00:00\",\"2021-12-23T00:00:00\",\"2021-12-24T00:00:00\",\"2021-12-25T00:00:00\",\"2021-12-26T00:00:00\",\"2021-12-27T00:00:00\",\"2021-12-28T00:00:00\",\"2021-12-29T00:00:00\",\"2021-12-30T00:00:00\",\"2021-12-31T00:00:00\",\"2022-01-01T00:00:00\",\"2022-01-02T00:00:00\",\"2022-01-03T00:00:00\",\"2022-01-04T00:00:00\",\"2022-01-05T00:00:00\",\"2022-01-06T00:00:00\",\"2022-01-07T00:00:00\",\"2022-01-08T00:00:00\",\"2022-01-09T00:00:00\",\"2022-01-10T00:00:00\",\"2022-01-11T00:00:00\",\"2022-01-12T00:00:00\",\"2022-01-13T00:00:00\",\"2022-01-14T00:00:00\",\"2022-01-15T00:00:00\",\"2022-01-16T00:00:00\",\"2022-01-17T00:00:00\",\"2022-01-18T00:00:00\",\"2022-01-19T00:00:00\",\"2022-01-20T00:00:00\",\"2022-01-21T00:00:00\",\"2022-01-22T00:00:00\",\"2022-01-23T00:00:00\",\"2022-01-24T00:00:00\",\"2022-01-25T00:00:00\",\"2022-01-26T00:00:00\",\"2022-01-27T00:00:00\",\"2022-01-28T00:00:00\",\"2022-01-29T00:00:00\",\"2022-01-30T00:00:00\",\"2022-01-31T00:00:00\",\"2022-02-01T00:00:00\",\"2022-02-02T00:00:00\",\"2022-02-03T00:00:00\",\"2022-02-04T00:00:00\",\"2022-02-05T00:00:00\",\"2022-02-06T00:00:00\",\"2022-02-07T00:00:00\",\"2022-02-08T00:00:00\",\"2022-02-09T00:00:00\",\"2022-02-10T00:00:00\",\"2022-02-11T00:00:00\",\"2022-02-12T00:00:00\",\"2022-02-13T00:00:00\",\"2022-02-14T00:00:00\",\"2022-02-15T00:00:00\",\"2022-02-16T00:00:00\",\"2022-02-17T00:00:00\",\"2022-02-18T00:00:00\",\"2022-02-19T00:00:00\",\"2022-02-20T00:00:00\",\"2022-02-21T00:00:00\",\"2022-02-22T00:00:00\",\"2022-02-23T00:00:00\",\"2022-02-24T00:00:00\",\"2022-02-25T00:00:00\",\"2022-02-26T00:00:00\",\"2022-02-27T00:00:00\",\"2022-02-28T00:00:00\",\"2022-03-01T00:00:00\",\"2022-03-02T00:00:00\",\"2022-03-03T00:00:00\",\"2022-03-04T00:00:00\",\"2022-03-05T00:00:00\",\"2022-03-06T00:00:00\",\"2022-03-07T00:00:00\",\"2022-03-08T00:00:00\",\"2022-03-09T00:00:00\",\"2022-03-10T00:00:00\",\"2022-03-11T00:00:00\",\"2022-03-12T00:00:00\",\"2022-03-13T00:00:00\",\"2022-03-14T00:00:00\",\"2022-03-15T00:00:00\",\"2022-03-16T00:00:00\",\"2022-03-17T00:00:00\",\"2022-03-18T00:00:00\",\"2022-03-19T00:00:00\",\"2022-03-20T00:00:00\",\"2022-03-21T00:00:00\",\"2022-03-22T00:00:00\",\"2022-03-23T00:00:00\",\"2022-03-24T00:00:00\",\"2022-03-25T00:00:00\",\"2022-03-26T00:00:00\",\"2022-03-27T00:00:00\",\"2022-03-28T00:00:00\",\"2022-03-29T00:00:00\",\"2022-03-30T00:00:00\",\"2022-03-31T00:00:00\",\"2022-04-01T00:00:00\",\"2022-04-02T00:00:00\",\"2022-04-03T00:00:00\",\"2022-04-04T00:00:00\",\"2022-04-05T00:00:00\",\"2022-04-06T00:00:00\",\"2022-04-07T00:00:00\",\"2022-04-08T00:00:00\",\"2022-04-09T00:00:00\",\"2022-04-10T00:00:00\",\"2022-04-11T00:00:00\",\"2022-04-12T00:00:00\",\"2022-04-13T00:00:00\",\"2022-04-14T00:00:00\",\"2022-04-15T00:00:00\",\"2022-04-16T00:00:00\",\"2022-04-17T00:00:00\",\"2022-04-18T00:00:00\",\"2022-04-19T00:00:00\",\"2022-04-20T00:00:00\",\"2022-04-21T00:00:00\",\"2022-04-22T00:00:00\",\"2022-04-23T00:00:00\",\"2022-04-24T00:00:00\",\"2022-04-25T00:00:00\",\"2022-04-26T00:00:00\",\"2022-04-27T00:00:00\",\"2022-04-28T00:00:00\",\"2022-04-29T00:00:00\",\"2022-04-30T00:00:00\",\"2022-05-01T00:00:00\",\"2022-05-02T00:00:00\",\"2022-05-03T00:00:00\",\"2022-05-04T00:00:00\",\"2022-05-05T00:00:00\",\"2022-05-06T00:00:00\",\"2022-05-07T00:00:00\",\"2022-05-08T00:00:00\",\"2022-05-09T00:00:00\",\"2022-05-10T00:00:00\",\"2022-05-11T00:00:00\",\"2022-05-12T00:00:00\",\"2022-05-13T00:00:00\",\"2022-05-14T00:00:00\",\"2022-05-15T00:00:00\",\"2022-05-16T00:00:00\",\"2022-05-17T00:00:00\",\"2022-05-18T00:00:00\",\"2022-05-19T00:00:00\",\"2022-05-20T00:00:00\",\"2022-05-21T00:00:00\",\"2022-05-22T00:00:00\",\"2022-05-23T00:00:00\",\"2022-05-24T00:00:00\",\"2022-05-25T00:00:00\",\"2022-05-26T00:00:00\",\"2022-05-27T00:00:00\",\"2022-05-28T00:00:00\",\"2022-05-29T00:00:00\",\"2022-05-30T00:00:00\",\"2022-05-31T00:00:00\",\"2022-06-01T00:00:00\"],\"xaxis\":\"x\",\"y\":[0.0,-0.10291041058161843,0.05933146595940508,0.0651151391356597,0.007607087598277662,-0.12493488598385771,-0.16027642234812867,-0.10064581540434725,0.007326722762917237,-0.029189706750877065,0.0013174354122471588,0.017736633697884807,0.0007178118109498755,-0.19250328585595666,-0.2212647495885386,-0.13206768271164449,0.026507024744307772,0.2345472415239498,0.2651065456491346,0.13421927362138963,0.0895148081699102,0.21527211006257652,0.4294875232275168,0.493254525376275,0.4514247619998706,0.48684508152213213,0.21670758616429064,0.22716831946039795,0.5728467803796258,0.6182044000021227,0.5375600030897547,0.45857626333630863,0.4209692110387975,0.41008458540502524,0.30201478550039096,0.3816827656584494,0.40871390360748694,0.4315148115442011,0.4725873090079409,0.4617234918276363,0.38293757917620086,0.3717605462265421,0.27423597873574024,0.2941386582762917,0.27726311584561025,0.2897658773164524,0.20042140160662902,0.17366293010988176,0.14849682704912226,0.17016576278288076,0.19054455398412395,0.195632714383563,0.2252411192269943,0.192669477118393,0.1758817577142857,0.2082761076204862,0.2672711771088805,0.30116310039144945,0.39213637425519865,0.393897201331983,0.3711911228517839,0.4779125032647804,0.46281680756591403,0.30778466344319466,0.36440533494559313,0.36975600713406,0.3196143683051229,0.3626018686843788,0.37556228262544566,0.4343878808556081,0.5901309303624005,0.6754062580241691,0.580565745785268,0.6615286427249489,0.867539733058831,0.932088410640677,0.8773588453585237,0.8023765298587482,0.8675033692338654,0.7975734204974749,1.0702794506313729,1.03509702700268,0.999879312399155,1.1073366500324848,1.299499615930468,1.0897870289963718,1.3602800574827518,1.671819596889259,1.758711238732265,1.849844988653421,1.6180676393331619,1.4577034788955299,1.5194258203509357,1.2130361135847356,1.373307291079827,1.3518846235133033,1.513734702957425,1.561884099299487,1.5277013805935065,1.290367869931699,1.2963795160811151,0.9574880157175356,0.8155603409584415,0.9690117902973163,0.9056017176332531,0.970568147903264,0.8305425407120779,0.7326309785246743,0.8243773910390908,0.8695233493094661,0.6721507615334839,0.8489471293595836,1.1361976188828087,1.090584064744513,1.365181121030052,1.451937433354546,1.2942449780100147,1.4220691330503512,1.6167830593768224,1.4710131184992679,1.5848996724581093,1.4392884234523455,1.4435955918409742,1.4467633483716282,1.4165954031023,1.2824219928686893,1.1956489079069765,1.1519826888428728,1.3233719690894779,1.4164735303466323,1.3997551092587504,1.2949184645717544,1.2038638056538948,1.0817226787234442,1.0246501691172907,0.84024255378726,0.7815477270986915,0.8874711441087113,0.7897052287677049,0.8986204618491602,1.035138030690343,0.9011598421844089,0.9153902147585007,0.9801374217505472,0.9556421363846741,0.8415052236480374,0.823612075056176,0.758340909318336,0.6844288813900541,0.3971202812721206,0.2660657187637485,0.37210153557737247,0.3358382717209729,0.4442927390907647,0.40170177796289996,0.3741129184162111,0.42442743535847627,0.5311792503596908,0.44380785658001387,0.4850288266216387,0.5576002984381001,0.44112343566447043,0.44346468334431965,0.6412932741158626,0.6424384847884121,0.6676596624056146,0.7680521743899076,0.8340949638077002,0.9119779215436978,0.9318603906379366,0.7312133379433807,0.7202120336660494,0.6586622035167768,0.7371416965237383,0.9668122241355284,1.0226629379038132,0.8696937912515856,0.7820397329222806,0.8062998488793884,0.6406510940062726,0.4839381698974121,0.5795715821631642,0.5663607135498847,0.6236995662005871,0.7163171908656534,0.7300682238831275,0.588294082141428,0.78767576676651,0.84039134143853,0.7629302485418714,0.6704574878488638,0.6057953406049637,0.630114798713227,0.5378944642025283,0.5238172072595588,0.5453747000987699,0.6464156267716952,0.5690874136535877,0.508904081724225,0.5041470990018899,0.44387924750327334,0.45659453395895766,0.48057197482012515,0.5704142127197926,0.6890434187682615,0.8221282175181104,0.902703180934652,0.7980018382318061,0.8341682626637243,0.7820843523044134,0.8228452072105858,0.8535512397444442,0.7728742537011211,0.8238792996837643,0.8976538376250347,0.8959296700088473,0.9655652731390887,1.0353650888760986,1.0283256518462522,1.049210282420161,1.0401989105528893,1.0684273608686965,1.0236144952378075,0.9305430711038722,0.7566244559567603,0.864061106454354,0.7742067767868519,0.7929215625455255,0.7397336900247253,0.5702636162743326,0.6218454423274415,0.6964151610926623,0.6287367479709465,0.6407323745181839,0.6528331649422654,0.604879607533725,0.64799024420786,0.7016037387161209,0.6595306931133609,0.5918220718419585,0.5728199598245476,0.5457615932929298,0.5174743509547866,0.5430169852971558,0.45403592025126893,0.4796767421655119,0.4248506660711302,0.3460352010398038,0.21100721180556503,0.24845404141251115,0.2805399210398234,0.26419277341408076,0.42176203153550884,0.25394801895179264,0.209117253314965,0.17033389098188723,0.0887012152026081,-0.10354594396582317,-0.058097701872869334,-0.34501574498648724,-0.3553346284554427,-0.31993034445550983,-0.2794117346909558,-0.2280088571340363,-0.30914543406224415,-0.26836304920312126,-0.37393997489243913,-0.35399148505552014,-0.3857242818821113,-0.3643907867373736,-0.32522728981690663,-0.3844765557056745,-0.3860394011006423,-0.42307436074771454,-0.49995362144070643,-0.5245765480855016,-0.47253171149962636,-0.44755317519691296,-0.4142495754766502,-0.4365863464459049],\"yaxis\":\"y\",\"type\":\"scatter\"},{\"hovertemplate\":\"%{y}\",\"legendgroup\":\"JOE\",\"line\":{\"color\":\"#EF553B\",\"dash\":\"solid\"},\"marker\":{\"symbol\":\"circle\"},\"mode\":\"lines\",\"name\":\"JOE\",\"orientation\":\"v\",\"showlegend\":true,\"x\":[\"2021-08-26T00:00:00\",\"2021-08-27T00:00:00\",\"2021-08-28T00:00:00\",\"2021-08-29T00:00:00\",\"2021-08-30T00:00:00\",\"2021-08-31T00:00:00\",\"2021-09-01T00:00:00\",\"2021-09-02T00:00:00\",\"2021-09-03T00:00:00\",\"2021-09-04T00:00:00\",\"2021-09-05T00:00:00\",\"2021-09-06T00:00:00\",\"2021-09-07T00:00:00\",\"2021-09-08T00:00:00\",\"2021-09-09T00:00:00\",\"2021-09-10T00:00:00\",\"2021-09-11T00:00:00\",\"2021-09-12T00:00:00\",\"2021-09-13T00:00:00\",\"2021-09-14T00:00:00\",\"2021-09-15T00:00:00\",\"2021-09-16T00:00:00\",\"2021-09-17T00:00:00\",\"2021-09-18T00:00:00\",\"2021-09-19T00:00:00\",\"2021-09-20T00:00:00\",\"2021-09-21T00:00:00\",\"2021-09-22T00:00:00\",\"2021-09-23T00:00:00\",\"2021-09-24T00:00:00\",\"2021-09-25T00:00:00\",\"2021-09-26T00:00:00\",\"2021-09-27T00:00:00\",\"2021-09-28T00:00:00\",\"2021-09-29T00:00:00\",\"2021-09-30T00:00:00\",\"2021-10-01T00:00:00\",\"2021-10-02T00:00:00\",\"2021-10-03T00:00:00\",\"2021-10-04T00:00:00\",\"2021-10-05T00:00:00\",\"2021-10-06T00:00:00\",\"2021-10-07T00:00:00\",\"2021-10-08T00:00:00\",\"2021-10-09T00:00:00\",\"2021-10-10T00:00:00\",\"2021-10-11T00:00:00\",\"2021-10-12T00:00:00\",\"2021-10-13T00:00:00\",\"2021-10-14T00:00:00\",\"2021-10-15T00:00:00\",\"2021-10-16T00:00:00\",\"2021-10-17T00:00:00\",\"2021-10-18T00:00:00\",\"2021-10-19T00:00:00\",\"2021-10-20T00:00:00\",\"2021-10-21T00:00:00\",\"2021-10-22T00:00:00\",\"2021-10-23T00:00:00\",\"2021-10-24T00:00:00\",\"2021-10-25T00:00:00\",\"2021-10-26T00:00:00\",\"2021-10-27T00:00:00\",\"2021-10-28T00:00:00\",\"2021-10-29T00:00:00\",\"2021-10-30T00:00:00\",\"2021-10-31T00:00:00\",\"2021-11-01T00:00:00\",\"2021-11-02T00:00:00\",\"2021-11-03T00:00:00\",\"2021-11-04T00:00:00\",\"2021-11-05T00:00:00\",\"2021-11-06T00:00:00\",\"2021-11-07T00:00:00\",\"2021-11-08T00:00:00\",\"2021-11-09T00:00:00\",\"2021-11-10T00:00:00\",\"2021-11-11T00:00:00\",\"2021-11-12T00:00:00\",\"2021-11-13T00:00:00\",\"2021-11-14T00:00:00\",\"2021-11-15T00:00:00\",\"2021-11-16T00:00:00\",\"2021-11-17T00:00:00\",\"2021-11-18T00:00:00\",\"2021-11-19T00:00:00\",\"2021-11-20T00:00:00\",\"2021-11-21T00:00:00\",\"2021-11-22T00:00:00\",\"2021-11-23T00:00:00\",\"2021-11-24T00:00:00\",\"2021-11-25T00:00:00\",\"2021-11-26T00:00:00\",\"2021-11-27T00:00:00\",\"2021-11-28T00:00:00\",\"2021-11-29T00:00:00\",\"2021-11-30T00:00:00\",\"2021-12-01T00:00:00\",\"2021-12-02T00:00:00\",\"2021-12-03T00:00:00\",\"2021-12-04T00:00:00\",\"2021-12-05T00:00:00\",\"2021-12-06T00:00:00\",\"2021-12-07T00:00:00\",\"2021-12-08T00:00:00\",\"2021-12-09T00:00:00\",\"2021-12-10T00:00:00\",\"2021-12-11T00:00:00\",\"2021-12-12T00:00:00\",\"2021-12-13T00:00:00\",\"2021-12-14T00:00:00\",\"2021-12-15T00:00:00\",\"2021-12-16T00:00:00\",\"2021-12-17T00:00:00\",\"2021-12-18T00:00:00\",\"2021-12-19T00:00:00\",\"2021-12-20T00:00:00\",\"2021-12-21T00:00:00\",\"2021-12-22T00:00:00\",\"2021-12-23T00:00:00\",\"2021-12-24T00:00:00\",\"2021-12-25T00:00:00\",\"2021-12-26T00:00:00\",\"2021-12-27T00:00:00\",\"2021-12-28T00:00:00\",\"2021-12-29T00:00:00\",\"2021-12-30T00:00:00\",\"2021-12-31T00:00:00\",\"2022-01-01T00:00:00\",\"2022-01-02T00:00:00\",\"2022-01-03T00:00:00\",\"2022-01-04T00:00:00\",\"2022-01-05T00:00:00\",\"2022-01-06T00:00:00\",\"2022-01-07T00:00:00\",\"2022-01-08T00:00:00\",\"2022-01-09T00:00:00\",\"2022-01-10T00:00:00\",\"2022-01-11T00:00:00\",\"2022-01-12T00:00:00\",\"2022-01-13T00:00:00\",\"2022-01-14T00:00:00\",\"2022-01-15T00:00:00\",\"2022-01-16T00:00:00\",\"2022-01-17T00:00:00\",\"2022-01-18T00:00:00\",\"2022-01-19T00:00:00\",\"2022-01-20T00:00:00\",\"2022-01-21T00:00:00\",\"2022-01-22T00:00:00\",\"2022-01-23T00:00:00\",\"2022-01-24T00:00:00\",\"2022-01-25T00:00:00\",\"2022-01-26T00:00:00\",\"2022-01-27T00:00:00\",\"2022-01-28T00:00:00\",\"2022-01-29T00:00:00\",\"2022-01-30T00:00:00\",\"2022-01-31T00:00:00\",\"2022-02-01T00:00:00\",\"2022-02-02T00:00:00\",\"2022-02-03T00:00:00\",\"2022-02-04T00:00:00\",\"2022-02-05T00:00:00\",\"2022-02-06T00:00:00\",\"2022-02-07T00:00:00\",\"2022-02-08T00:00:00\",\"2022-02-09T00:00:00\",\"2022-02-10T00:00:00\",\"2022-02-11T00:00:00\",\"2022-02-12T00:00:00\",\"2022-02-13T00:00:00\",\"2022-02-14T00:00:00\",\"2022-02-15T00:00:00\",\"2022-02-16T00:00:00\",\"2022-02-17T00:00:00\",\"2022-02-18T00:00:00\",\"2022-02-19T00:00:00\",\"2022-02-20T00:00:00\",\"2022-02-21T00:00:00\",\"2022-02-22T00:00:00\",\"2022-02-23T00:00:00\",\"2022-02-24T00:00:00\",\"2022-02-25T00:00:00\",\"2022-02-26T00:00:00\",\"2022-02-27T00:00:00\",\"2022-02-28T00:00:00\",\"2022-03-01T00:00:00\",\"2022-03-02T00:00:00\",\"2022-03-03T00:00:00\",\"2022-03-04T00:00:00\",\"2022-03-05T00:00:00\",\"2022-03-06T00:00:00\",\"2022-03-07T00:00:00\",\"2022-03-08T00:00:00\",\"2022-03-09T00:00:00\",\"2022-03-10T00:00:00\",\"2022-03-11T00:00:00\",\"2022-03-12T00:00:00\",\"2022-03-13T00:00:00\",\"2022-03-14T00:00:00\",\"2022-03-15T00:00:00\",\"2022-03-16T00:00:00\",\"2022-03-17T00:00:00\",\"2022-03-18T00:00:00\",\"2022-03-19T00:00:00\",\"2022-03-20T00:00:00\",\"2022-03-21T00:00:00\",\"2022-03-22T00:00:00\",\"2022-03-23T00:00:00\",\"2022-03-24T00:00:00\",\"2022-03-25T00:00:00\",\"2022-03-26T00:00:00\",\"2022-03-27T00:00:00\",\"2022-03-28T00:00:00\",\"2022-03-29T00:00:00\",\"2022-03-30T00:00:00\",\"2022-03-31T00:00:00\",\"2022-04-01T00:00:00\",\"2022-04-02T00:00:00\",\"2022-04-03T00:00:00\",\"2022-04-04T00:00:00\",\"2022-04-05T00:00:00\",\"2022-04-06T00:00:00\",\"2022-04-07T00:00:00\",\"2022-04-08T00:00:00\",\"2022-04-09T00:00:00\",\"2022-04-10T00:00:00\",\"2022-04-11T00:00:00\",\"2022-04-12T00:00:00\",\"2022-04-13T00:00:00\",\"2022-04-14T00:00:00\",\"2022-04-15T00:00:00\",\"2022-04-16T00:00:00\",\"2022-04-17T00:00:00\",\"2022-04-18T00:00:00\",\"2022-04-19T00:00:00\",\"2022-04-20T00:00:00\",\"2022-04-21T00:00:00\",\"2022-04-22T00:00:00\",\"2022-04-23T00:00:00\",\"2022-04-24T00:00:00\",\"2022-04-25T00:00:00\",\"2022-04-26T00:00:00\",\"2022-04-27T00:00:00\",\"2022-04-28T00:00:00\",\"2022-04-29T00:00:00\",\"2022-04-30T00:00:00\",\"2022-05-01T00:00:00\",\"2022-05-02T00:00:00\",\"2022-05-03T00:00:00\",\"2022-05-04T00:00:00\",\"2022-05-05T00:00:00\",\"2022-05-06T00:00:00\",\"2022-05-07T00:00:00\",\"2022-05-08T00:00:00\",\"2022-05-09T00:00:00\",\"2022-05-10T00:00:00\",\"2022-05-11T00:00:00\",\"2022-05-12T00:00:00\",\"2022-05-13T00:00:00\",\"2022-05-14T00:00:00\",\"2022-05-15T00:00:00\",\"2022-05-16T00:00:00\",\"2022-05-17T00:00:00\",\"2022-05-18T00:00:00\",\"2022-05-19T00:00:00\",\"2022-05-20T00:00:00\",\"2022-05-21T00:00:00\",\"2022-05-22T00:00:00\",\"2022-05-23T00:00:00\",\"2022-05-24T00:00:00\",\"2022-05-25T00:00:00\",\"2022-05-26T00:00:00\",\"2022-05-27T00:00:00\",\"2022-05-28T00:00:00\",\"2022-05-29T00:00:00\",\"2022-05-30T00:00:00\",\"2022-05-31T00:00:00\",\"2022-06-01T00:00:00\"],\"xaxis\":\"x\",\"y\":[0.0,0.468044529662931,0.7907963469955059,0.5942922153248227,0.9944530446369204,-0.0673601453080096,-0.13188002424781065,0.12906031853896738,0.5082525414358041,0.4055234302829551,0.5164538383788211,0.382786889751739,0.2194754118751956,0.0024546542846186625,-0.061575760656863654,0.07697971173215246,0.29027885080045257,0.7297819863629982,0.7259371052048453,0.5060856168001118,0.46290649485191526,0.8537976850935849,1.3945180815450584,1.2937435629072667,1.3799652509567037,1.6785369215153971,1.0033866266753955,1.273507301866469,2.4884880317380316,2.270196082141327,2.1774638761319896,1.7743344292272196,1.9536074450097716,2.1609732947347045,1.823325323696162,1.6069429961876187,1.4026923860589169,1.4935683235949542,1.2116616924840842,1.3049852684751162,1.1876378651011081,0.8985733110935432,0.7798180576056368,1.0517971018071797,0.9426921943139077,0.7607811260902482,0.6100727593825681,0.3735559513030724,0.45422189087376696,0.5782456952721691,0.44176987526496436,0.5631594556765036,0.7878251218027552,0.901236994055338,1.1555494715165073,1.3456710926663895,1.2518890060060346,1.4354425424309416,1.333585829355001,1.1105064943386025,1.1609019900883788,1.6421686370152622,1.5269194363830203,1.1634680774196986,1.3062308269678091,1.1411213752532223,0.9029827652218387,1.003840488975417,1.0304935257027426,0.9336241009200648,1.3260872850775085,1.5185482755285662,1.2869438505411632,1.277903080869533,1.3599026427197165,1.2615591882391257,1.1484853718358083,0.9293780318288551,0.9380591660908906,0.7849781191933225,1.083162482277939,1.124544514079881,1.218822838793566,1.397542989740272,1.7218978859158716,1.306099754079614,1.6441862755615557,2.290591819806996,2.632768607030002,2.3927389871689804,2.0485290667152216,1.821559729328686,1.9206172712645175,1.1098477495033556,1.3639019554727403,1.486788724586551,1.5788919953300704,1.5130402042135325,1.3834416792740702,1.0694267494642267,1.1320025449775981,0.8246212971658586,0.7393123754122317,0.7651928853234868,0.9823246778900918,1.0620857386154632,0.7927672790068561,0.57861190736562,0.7437815035887312,0.6577936622574181,0.41641185281514326,0.7158307267022661,0.8295145355301023,0.8722010197244123,0.8851208654555134,0.9170688743739948,0.7315514854798659,0.8190563050752828,0.9036955597369507,0.7506972138854122,0.9750974788514919,0.7485027595019362,0.7413365240769394,0.8440425650652326,0.733909296361998,0.8786433216421983,0.7770450906002269,0.6281256252750633,0.6665083005850003,0.6479467826622156,0.5393578570064952,0.4354386440568734,0.4286530324151059,0.31450145510544236,0.27488978243851125,0.14717815176751547,0.07351789600364889,0.17613301835095907,0.10963065799021243,0.20064365521481364,0.27434613915353356,0.18444870997592755,0.16506451918186893,0.2245953819059654,0.25997128168059436,0.1507553580183929,0.10564625548531748,0.02288065821643004,-0.062334247004349974,-0.2758420944787121,-0.3912217728780727,-0.32639366667052894,-0.3677259849200192,-0.3064021860164342,-0.27578760035341987,-0.21908762704971763,0.01267205515342007,0.06146904970604483,0.004033876997522334,0.13478038106178558,0.20122545242935064,0.02600598218364869,0.011393658526296147,0.15648751255149618,0.13571067737484555,0.0927090753546147,0.08910977899293804,0.061319178345796255,0.10366046842920995,0.11473835651390796,-0.017766014466165214,-0.04759836162984621,-0.08941985237549199,-0.06421899939962794,0.051851836747064395,0.01147559444284263,-0.06367951372591363,-0.08591004288106552,-0.08360295620223068,-0.20213240183728276,-0.22289664258863262,-0.16014103043245265,-0.18387952695532583,-0.19321895048197502,-0.09614729559837498,-0.1267811706354669,-0.17879412133755768,-0.041932787083411305,-0.09689367536468718,-0.10158500022302386,-0.14833581139539675,-0.15418708146190407,-0.1481542811835619,-0.17682675856461283,-0.21571927214553177,-0.2285615277271119,-0.19966494390894285,-0.22820628269259313,-0.29152288958149686,-0.2711840073324271,-0.34637296402360485,-0.33699535784644463,-0.3410917643402116,-0.2840626026262243,-0.21783860153160672,-0.20395992567754884,-0.18190502138000653,-0.22949287169486077,-0.1958210796445511,-0.2151888661670892,-0.2174253223907333,-0.19813298374734645,-0.2459452540367255,-0.2281799166568912,-0.21625679744615844,-0.11922288162602812,-0.12500448491909366,0.0017383083062514348,-0.04933583947738229,-0.00759551305945716,-0.00038414261645680625,0.08795969093118305,0.07406321700894791,0.1158712721766817,-0.023981960124126678,0.09439883688315054,0.01073657919477311,0.07496782556331483,0.04211666099413347,-0.10669457681671768,-0.058546851773876196,-0.004386354796960701,-0.054295319143045084,-0.06478701439372181,-0.08848288773316892,-0.11795323826665316,-0.0921840747883419,-0.009470298624490558,-0.03781507851102717,-0.07592570201077675,-0.11472866618223776,-0.15996174469984947,-0.17113180674418194,-0.1279719527741503,-0.1959815625209359,-0.18405098193420966,-0.22970921573380088,-0.29525710372058434,-0.35948007249895153,-0.333011563087827,-0.2887103919704608,-0.295791336300842,-0.20601275140611142,-0.3131740746468855,-0.34970274182659156,-0.377500218161376,-0.37361303532613444,-0.5201430435865344,-0.5366510909217883,-0.7196878555924582,-0.67744383678278,-0.632514763355513,-0.624254572944321,-0.5940808440274211,-0.6299799418618697,-0.6068181348734696,-0.6650760443332309,-0.6624081616781112,-0.6969555546666584,-0.69403701439653,-0.661789241842857,-0.6967328461884219,-0.6893075417365732,-0.7058713864814078,-0.7449556764822364,-0.7657671664436095,-0.7415772868258026,-0.7245485066803408,-0.7117801341152019,-0.7285418031181622],\"yaxis\":\"y\",\"type\":\"scatter\"}],                        {\"template\":{\"data\":{\"barpolar\":[{\"marker\":{\"line\":{\"color\":\"white\",\"width\":0.5},\"pattern\":{\"fillmode\":\"overlay\",\"size\":10,\"solidity\":0.2}},\"type\":\"barpolar\"}],\"bar\":[{\"error_x\":{\"color\":\"#2a3f5f\"},\"error_y\":{\"color\":\"#2a3f5f\"},\"marker\":{\"line\":{\"color\":\"white\",\"width\":0.5},\"pattern\":{\"fillmode\":\"overlay\",\"size\":10,\"solidity\":0.2}},\"type\":\"bar\"}],\"carpet\":[{\"aaxis\":{\"endlinecolor\":\"#2a3f5f\",\"gridcolor\":\"#C8D4E3\",\"linecolor\":\"#C8D4E3\",\"minorgridcolor\":\"#C8D4E3\",\"startlinecolor\":\"#2a3f5f\"},\"baxis\":{\"endlinecolor\":\"#2a3f5f\",\"gridcolor\":\"#C8D4E3\",\"linecolor\":\"#C8D4E3\",\"minorgridcolor\":\"#C8D4E3\",\"startlinecolor\":\"#2a3f5f\"},\"type\":\"carpet\"}],\"choropleth\":[{\"colorbar\":{\"outlinewidth\":0,\"ticks\":\"\"},\"type\":\"choropleth\"}],\"contourcarpet\":[{\"colorbar\":{\"outlinewidth\":0,\"ticks\":\"\"},\"type\":\"contourcarpet\"}],\"contour\":[{\"colorbar\":{\"outlinewidth\":0,\"ticks\":\"\"},\"colorscale\":[[0.0,\"#0d0887\"],[0.1111111111111111,\"#46039f\"],[0.2222222222222222,\"#7201a8\"],[0.3333333333333333,\"#9c179e\"],[0.4444444444444444,\"#bd3786\"],[0.5555555555555556,\"#d8576b\"],[0.6666666666666666,\"#ed7953\"],[0.7777777777777778,\"#fb9f3a\"],[0.8888888888888888,\"#fdca26\"],[1.0,\"#f0f921\"]],\"type\":\"contour\"}],\"heatmapgl\":[{\"colorbar\":{\"outlinewidth\":0,\"ticks\":\"\"},\"colorscale\":[[0.0,\"#0d0887\"],[0.1111111111111111,\"#46039f\"],[0.2222222222222222,\"#7201a8\"],[0.3333333333333333,\"#9c179e\"],[0.4444444444444444,\"#bd3786\"],[0.5555555555555556,\"#d8576b\"],[0.6666666666666666,\"#ed7953\"],[0.7777777777777778,\"#fb9f3a\"],[0.8888888888888888,\"#fdca26\"],[1.0,\"#f0f921\"]],\"type\":\"heatmapgl\"}],\"heatmap\":[{\"colorbar\":{\"outlinewidth\":0,\"ticks\":\"\"},\"colorscale\":[[0.0,\"#0d0887\"],[0.1111111111111111,\"#46039f\"],[0.2222222222222222,\"#7201a8\"],[0.3333333333333333,\"#9c179e\"],[0.4444444444444444,\"#bd3786\"],[0.5555555555555556,\"#d8576b\"],[0.6666666666666666,\"#ed7953\"],[0.7777777777777778,\"#fb9f3a\"],[0.8888888888888888,\"#fdca26\"],[1.0,\"#f0f921\"]],\"type\":\"heatmap\"}],\"histogram2dcontour\":[{\"colorbar\":{\"outlinewidth\":0,\"ticks\":\"\"},\"colorscale\":[[0.0,\"#0d0887\"],[0.1111111111111111,\"#46039f\"],[0.2222222222222222,\"#7201a8\"],[0.3333333333333333,\"#9c179e\"],[0.4444444444444444,\"#bd3786\"],[0.5555555555555556,\"#d8576b\"],[0.6666666666666666,\"#ed7953\"],[0.7777777777777778,\"#fb9f3a\"],[0.8888888888888888,\"#fdca26\"],[1.0,\"#f0f921\"]],\"type\":\"histogram2dcontour\"}],\"histogram2d\":[{\"colorbar\":{\"outlinewidth\":0,\"ticks\":\"\"},\"colorscale\":[[0.0,\"#0d0887\"],[0.1111111111111111,\"#46039f\"],[0.2222222222222222,\"#7201a8\"],[0.3333333333333333,\"#9c179e\"],[0.4444444444444444,\"#bd3786\"],[0.5555555555555556,\"#d8576b\"],[0.6666666666666666,\"#ed7953\"],[0.7777777777777778,\"#fb9f3a\"],[0.8888888888888888,\"#fdca26\"],[1.0,\"#f0f921\"]],\"type\":\"histogram2d\"}],\"histogram\":[{\"marker\":{\"pattern\":{\"fillmode\":\"overlay\",\"size\":10,\"solidity\":0.2}},\"type\":\"histogram\"}],\"mesh3d\":[{\"colorbar\":{\"outlinewidth\":0,\"ticks\":\"\"},\"type\":\"mesh3d\"}],\"parcoords\":[{\"line\":{\"colorbar\":{\"outlinewidth\":0,\"ticks\":\"\"}},\"type\":\"parcoords\"}],\"pie\":[{\"automargin\":true,\"type\":\"pie\"}],\"scatter3d\":[{\"line\":{\"colorbar\":{\"outlinewidth\":0,\"ticks\":\"\"}},\"marker\":{\"colorbar\":{\"outlinewidth\":0,\"ticks\":\"\"}},\"type\":\"scatter3d\"}],\"scattercarpet\":[{\"marker\":{\"colorbar\":{\"outlinewidth\":0,\"ticks\":\"\"}},\"type\":\"scattercarpet\"}],\"scattergeo\":[{\"marker\":{\"colorbar\":{\"outlinewidth\":0,\"ticks\":\"\"}},\"type\":\"scattergeo\"}],\"scattergl\":[{\"marker\":{\"colorbar\":{\"outlinewidth\":0,\"ticks\":\"\"}},\"type\":\"scattergl\"}],\"scattermapbox\":[{\"marker\":{\"colorbar\":{\"outlinewidth\":0,\"ticks\":\"\"}},\"type\":\"scattermapbox\"}],\"scatterpolargl\":[{\"marker\":{\"colorbar\":{\"outlinewidth\":0,\"ticks\":\"\"}},\"type\":\"scatterpolargl\"}],\"scatterpolar\":[{\"marker\":{\"colorbar\":{\"outlinewidth\":0,\"ticks\":\"\"}},\"type\":\"scatterpolar\"}],\"scatter\":[{\"marker\":{\"colorbar\":{\"outlinewidth\":0,\"ticks\":\"\"}},\"type\":\"scatter\"}],\"scatterternary\":[{\"marker\":{\"colorbar\":{\"outlinewidth\":0,\"ticks\":\"\"}},\"type\":\"scatterternary\"}],\"surface\":[{\"colorbar\":{\"outlinewidth\":0,\"ticks\":\"\"},\"colorscale\":[[0.0,\"#0d0887\"],[0.1111111111111111,\"#46039f\"],[0.2222222222222222,\"#7201a8\"],[0.3333333333333333,\"#9c179e\"],[0.4444444444444444,\"#bd3786\"],[0.5555555555555556,\"#d8576b\"],[0.6666666666666666,\"#ed7953\"],[0.7777777777777778,\"#fb9f3a\"],[0.8888888888888888,\"#fdca26\"],[1.0,\"#f0f921\"]],\"type\":\"surface\"}],\"table\":[{\"cells\":{\"fill\":{\"color\":\"#EBF0F8\"},\"line\":{\"color\":\"white\"}},\"header\":{\"fill\":{\"color\":\"#C8D4E3\"},\"line\":{\"color\":\"white\"}},\"type\":\"table\"}]},\"layout\":{\"annotationdefaults\":{\"arrowcolor\":\"#2a3f5f\",\"arrowhead\":0,\"arrowwidth\":1},\"autotypenumbers\":\"strict\",\"coloraxis\":{\"colorbar\":{\"outlinewidth\":0,\"ticks\":\"\"}},\"colorscale\":{\"diverging\":[[0,\"#8e0152\"],[0.1,\"#c51b7d\"],[0.2,\"#de77ae\"],[0.3,\"#f1b6da\"],[0.4,\"#fde0ef\"],[0.5,\"#f7f7f7\"],[0.6,\"#e6f5d0\"],[0.7,\"#b8e186\"],[0.8,\"#7fbc41\"],[0.9,\"#4d9221\"],[1,\"#276419\"]],\"sequential\":[[0.0,\"#0d0887\"],[0.1111111111111111,\"#46039f\"],[0.2222222222222222,\"#7201a8\"],[0.3333333333333333,\"#9c179e\"],[0.4444444444444444,\"#bd3786\"],[0.5555555555555556,\"#d8576b\"],[0.6666666666666666,\"#ed7953\"],[0.7777777777777778,\"#fb9f3a\"],[0.8888888888888888,\"#fdca26\"],[1.0,\"#f0f921\"]],\"sequentialminus\":[[0.0,\"#0d0887\"],[0.1111111111111111,\"#46039f\"],[0.2222222222222222,\"#7201a8\"],[0.3333333333333333,\"#9c179e\"],[0.4444444444444444,\"#bd3786\"],[0.5555555555555556,\"#d8576b\"],[0.6666666666666666,\"#ed7953\"],[0.7777777777777778,\"#fb9f3a\"],[0.8888888888888888,\"#fdca26\"],[1.0,\"#f0f921\"]]},\"colorway\":[\"#636efa\",\"#EF553B\",\"#00cc96\",\"#ab63fa\",\"#FFA15A\",\"#19d3f3\",\"#FF6692\",\"#B6E880\",\"#FF97FF\",\"#FECB52\"],\"font\":{\"color\":\"#2a3f5f\"},\"geo\":{\"bgcolor\":\"white\",\"lakecolor\":\"white\",\"landcolor\":\"white\",\"showlakes\":true,\"showland\":true,\"subunitcolor\":\"#C8D4E3\"},\"hoverlabel\":{\"align\":\"left\"},\"hovermode\":\"closest\",\"mapbox\":{\"style\":\"light\"},\"paper_bgcolor\":\"white\",\"plot_bgcolor\":\"white\",\"polar\":{\"angularaxis\":{\"gridcolor\":\"#EBF0F8\",\"linecolor\":\"#EBF0F8\",\"ticks\":\"\"},\"bgcolor\":\"white\",\"radialaxis\":{\"gridcolor\":\"#EBF0F8\",\"linecolor\":\"#EBF0F8\",\"ticks\":\"\"}},\"scene\":{\"xaxis\":{\"backgroundcolor\":\"white\",\"gridcolor\":\"#DFE8F3\",\"gridwidth\":2,\"linecolor\":\"#EBF0F8\",\"showbackground\":true,\"ticks\":\"\",\"zerolinecolor\":\"#EBF0F8\"},\"yaxis\":{\"backgroundcolor\":\"white\",\"gridcolor\":\"#DFE8F3\",\"gridwidth\":2,\"linecolor\":\"#EBF0F8\",\"showbackground\":true,\"ticks\":\"\",\"zerolinecolor\":\"#EBF0F8\"},\"zaxis\":{\"backgroundcolor\":\"white\",\"gridcolor\":\"#DFE8F3\",\"gridwidth\":2,\"linecolor\":\"#EBF0F8\",\"showbackground\":true,\"ticks\":\"\",\"zerolinecolor\":\"#EBF0F8\"}},\"shapedefaults\":{\"line\":{\"color\":\"#2a3f5f\"}},\"ternary\":{\"aaxis\":{\"gridcolor\":\"#DFE8F3\",\"linecolor\":\"#A2B1C6\",\"ticks\":\"\"},\"baxis\":{\"gridcolor\":\"#DFE8F3\",\"linecolor\":\"#A2B1C6\",\"ticks\":\"\"},\"bgcolor\":\"white\",\"caxis\":{\"gridcolor\":\"#DFE8F3\",\"linecolor\":\"#A2B1C6\",\"ticks\":\"\"}},\"title\":{\"x\":0.05},\"xaxis\":{\"automargin\":true,\"gridcolor\":\"#EBF0F8\",\"linecolor\":\"#EBF0F8\",\"ticks\":\"\",\"title\":{\"standoff\":15},\"zerolinecolor\":\"#EBF0F8\",\"zerolinewidth\":2},\"yaxis\":{\"automargin\":true,\"gridcolor\":\"#EBF0F8\",\"linecolor\":\"#EBF0F8\",\"ticks\":\"\",\"title\":{\"standoff\":15},\"zerolinecolor\":\"#EBF0F8\",\"zerolinewidth\":2}}},\"xaxis\":{\"anchor\":\"y\",\"domain\":[0.0,1.0],\"title\":{\"text\":\"date\"},\"showspikes\":true,\"spikethickness\":2,\"spikedash\":\"dot\",\"spikecolor\":\"#999999\",\"spikemode\":\"across\"},\"yaxis\":{\"anchor\":\"x\",\"domain\":[0.0,1.0],\"title\":{\"text\":\"return, %\"},\"tickformat\":\".2%\"},\"legend\":{\"title\":{\"text\":\"asset\"},\"tracegroupgap\":0},\"margin\":{\"t\":60},\"hovermode\":\"x\",\"title\":{\"text\":\"Assets return\"}},                        {\"responsive\": true}                    ).then(function(){\n",
       "                            \n",
       "var gd = document.getElementById('6b17fac4-529c-4241-abf1-0fc52c6e1fa8');\n",
       "var x = new MutationObserver(function (mutations, observer) {{\n",
       "        var display = window.getComputedStyle(gd).display;\n",
       "        if (!display || display === 'none') {{\n",
       "            console.log([gd, 'removed!']);\n",
       "            Plotly.purge(gd);\n",
       "            observer.disconnect();\n",
       "        }}\n",
       "}});\n",
       "\n",
       "// Listen for the removal of the full notebook cells\n",
       "var notebookContainer = gd.closest('#notebook-container');\n",
       "if (notebookContainer) {{\n",
       "    x.observe(notebookContainer, {childList: true});\n",
       "}}\n",
       "\n",
       "// Listen for the clearing of the current output cell\n",
       "var outputEl = gd.closest('.output');\n",
       "if (outputEl) {{\n",
       "    x.observe(outputEl, {childList: true});\n",
       "}}\n",
       "\n",
       "                        })                };                });            </script>        </div>"
      ]
     },
     "metadata": {},
     "output_type": "display_data"
    }
   ],
   "source": [
    "fig = px.line(prices_data/prices_data.iloc[0]-1,\n",
    "       labels={'variable': 'asset', 'value': 'return, %'})\n",
    "fig.update_traces(\n",
    "    hovertemplate=\"%{y}\"\n",
    ")\n",
    "fig.update_yaxes(\n",
    "    tickformat=\".2%\",\n",
    ")\n",
    "fig.update_xaxes(\n",
    "    showspikes=True,\n",
    "    spikethickness=2,\n",
    "    spikedash=\"dot\",\n",
    "    spikecolor=\"#999999\",\n",
    "    spikemode=\"across\",\n",
    ")\n",
    "fig.update_layout(\n",
    "    hovermode=\"x\",\n",
    "    template='plotly_white',\n",
    "    title='Assets return'\n",
    ")\n",
    "fig.show()"
   ]
  },
  {
   "cell_type": "code",
   "execution_count": 84,
   "id": "f9df84a5-4056-4566-ba51-b9099cf6d844",
   "metadata": {},
   "outputs": [
    {
     "data": {
      "application/vnd.plotly.v1+json": {
       "config": {
        "plotlyServerURL": "https://plot.ly"
       },
       "data": [
        {
         "hovertemplate": "%{y}",
         "legendgroup": "AVAX",
         "line": {
          "color": "#636efa",
          "dash": "solid"
         },
         "marker": {
          "symbol": "circle"
         },
         "mode": "lines",
         "name": "AVAX",
         "orientation": "v",
         "showlegend": true,
         "type": "scatter",
         "x": [
          "2021-08-26T00:00:00",
          "2021-08-27T00:00:00",
          "2021-08-28T00:00:00",
          "2021-08-29T00:00:00",
          "2021-08-30T00:00:00",
          "2021-08-31T00:00:00",
          "2021-09-01T00:00:00",
          "2021-09-02T00:00:00",
          "2021-09-03T00:00:00",
          "2021-09-04T00:00:00",
          "2021-09-05T00:00:00",
          "2021-09-06T00:00:00",
          "2021-09-07T00:00:00",
          "2021-09-08T00:00:00",
          "2021-09-09T00:00:00",
          "2021-09-10T00:00:00",
          "2021-09-11T00:00:00",
          "2021-09-12T00:00:00",
          "2021-09-13T00:00:00",
          "2021-09-14T00:00:00",
          "2021-09-15T00:00:00",
          "2021-09-16T00:00:00",
          "2021-09-17T00:00:00",
          "2021-09-18T00:00:00",
          "2021-09-19T00:00:00",
          "2021-09-20T00:00:00",
          "2021-09-21T00:00:00",
          "2021-09-22T00:00:00",
          "2021-09-23T00:00:00",
          "2021-09-24T00:00:00",
          "2021-09-25T00:00:00",
          "2021-09-26T00:00:00",
          "2021-09-27T00:00:00",
          "2021-09-28T00:00:00",
          "2021-09-29T00:00:00",
          "2021-09-30T00:00:00",
          "2021-10-01T00:00:00",
          "2021-10-02T00:00:00",
          "2021-10-03T00:00:00",
          "2021-10-04T00:00:00",
          "2021-10-05T00:00:00",
          "2021-10-06T00:00:00",
          "2021-10-07T00:00:00",
          "2021-10-08T00:00:00",
          "2021-10-09T00:00:00",
          "2021-10-10T00:00:00",
          "2021-10-11T00:00:00",
          "2021-10-12T00:00:00",
          "2021-10-13T00:00:00",
          "2021-10-14T00:00:00",
          "2021-10-15T00:00:00",
          "2021-10-16T00:00:00",
          "2021-10-17T00:00:00",
          "2021-10-18T00:00:00",
          "2021-10-19T00:00:00",
          "2021-10-20T00:00:00",
          "2021-10-21T00:00:00",
          "2021-10-22T00:00:00",
          "2021-10-23T00:00:00",
          "2021-10-24T00:00:00",
          "2021-10-25T00:00:00",
          "2021-10-26T00:00:00",
          "2021-10-27T00:00:00",
          "2021-10-28T00:00:00",
          "2021-10-29T00:00:00",
          "2021-10-30T00:00:00",
          "2021-10-31T00:00:00",
          "2021-11-01T00:00:00",
          "2021-11-02T00:00:00",
          "2021-11-03T00:00:00",
          "2021-11-04T00:00:00",
          "2021-11-05T00:00:00",
          "2021-11-06T00:00:00",
          "2021-11-07T00:00:00",
          "2021-11-08T00:00:00",
          "2021-11-09T00:00:00",
          "2021-11-10T00:00:00",
          "2021-11-11T00:00:00",
          "2021-11-12T00:00:00",
          "2021-11-13T00:00:00",
          "2021-11-14T00:00:00",
          "2021-11-15T00:00:00",
          "2021-11-16T00:00:00",
          "2021-11-17T00:00:00",
          "2021-11-18T00:00:00",
          "2021-11-19T00:00:00",
          "2021-11-20T00:00:00",
          "2021-11-21T00:00:00",
          "2021-11-22T00:00:00",
          "2021-11-23T00:00:00",
          "2021-11-24T00:00:00",
          "2021-11-25T00:00:00",
          "2021-11-26T00:00:00",
          "2021-11-27T00:00:00",
          "2021-11-28T00:00:00",
          "2021-11-29T00:00:00",
          "2021-11-30T00:00:00",
          "2021-12-01T00:00:00",
          "2021-12-02T00:00:00",
          "2021-12-03T00:00:00",
          "2021-12-04T00:00:00",
          "2021-12-05T00:00:00",
          "2021-12-06T00:00:00",
          "2021-12-07T00:00:00",
          "2021-12-08T00:00:00",
          "2021-12-09T00:00:00",
          "2021-12-10T00:00:00",
          "2021-12-11T00:00:00",
          "2021-12-12T00:00:00",
          "2021-12-13T00:00:00",
          "2021-12-14T00:00:00",
          "2021-12-15T00:00:00",
          "2021-12-16T00:00:00",
          "2021-12-17T00:00:00",
          "2021-12-18T00:00:00",
          "2021-12-19T00:00:00",
          "2021-12-20T00:00:00",
          "2021-12-21T00:00:00",
          "2021-12-22T00:00:00",
          "2021-12-23T00:00:00",
          "2021-12-24T00:00:00",
          "2021-12-25T00:00:00",
          "2021-12-26T00:00:00",
          "2021-12-27T00:00:00",
          "2021-12-28T00:00:00",
          "2021-12-29T00:00:00",
          "2021-12-30T00:00:00",
          "2021-12-31T00:00:00",
          "2022-01-01T00:00:00",
          "2022-01-02T00:00:00",
          "2022-01-03T00:00:00",
          "2022-01-04T00:00:00",
          "2022-01-05T00:00:00",
          "2022-01-06T00:00:00",
          "2022-01-07T00:00:00",
          "2022-01-08T00:00:00",
          "2022-01-09T00:00:00",
          "2022-01-10T00:00:00",
          "2022-01-11T00:00:00",
          "2022-01-12T00:00:00",
          "2022-01-13T00:00:00",
          "2022-01-14T00:00:00",
          "2022-01-15T00:00:00",
          "2022-01-16T00:00:00",
          "2022-01-17T00:00:00",
          "2022-01-18T00:00:00",
          "2022-01-19T00:00:00",
          "2022-01-20T00:00:00",
          "2022-01-21T00:00:00",
          "2022-01-22T00:00:00",
          "2022-01-23T00:00:00",
          "2022-01-24T00:00:00",
          "2022-01-25T00:00:00",
          "2022-01-26T00:00:00",
          "2022-01-27T00:00:00",
          "2022-01-28T00:00:00",
          "2022-01-29T00:00:00",
          "2022-01-30T00:00:00",
          "2022-01-31T00:00:00",
          "2022-02-01T00:00:00",
          "2022-02-02T00:00:00",
          "2022-02-03T00:00:00",
          "2022-02-04T00:00:00",
          "2022-02-05T00:00:00",
          "2022-02-06T00:00:00",
          "2022-02-07T00:00:00",
          "2022-02-08T00:00:00",
          "2022-02-09T00:00:00",
          "2022-02-10T00:00:00",
          "2022-02-11T00:00:00",
          "2022-02-12T00:00:00",
          "2022-02-13T00:00:00",
          "2022-02-14T00:00:00",
          "2022-02-15T00:00:00",
          "2022-02-16T00:00:00",
          "2022-02-17T00:00:00",
          "2022-02-18T00:00:00",
          "2022-02-19T00:00:00",
          "2022-02-20T00:00:00",
          "2022-02-21T00:00:00",
          "2022-02-22T00:00:00",
          "2022-02-23T00:00:00",
          "2022-02-24T00:00:00",
          "2022-02-25T00:00:00",
          "2022-02-26T00:00:00",
          "2022-02-27T00:00:00",
          "2022-02-28T00:00:00",
          "2022-03-01T00:00:00",
          "2022-03-02T00:00:00",
          "2022-03-03T00:00:00",
          "2022-03-04T00:00:00",
          "2022-03-05T00:00:00",
          "2022-03-06T00:00:00",
          "2022-03-07T00:00:00",
          "2022-03-08T00:00:00",
          "2022-03-09T00:00:00",
          "2022-03-10T00:00:00",
          "2022-03-11T00:00:00",
          "2022-03-12T00:00:00",
          "2022-03-13T00:00:00",
          "2022-03-14T00:00:00",
          "2022-03-15T00:00:00",
          "2022-03-16T00:00:00",
          "2022-03-17T00:00:00",
          "2022-03-18T00:00:00",
          "2022-03-19T00:00:00",
          "2022-03-20T00:00:00",
          "2022-03-21T00:00:00",
          "2022-03-22T00:00:00",
          "2022-03-23T00:00:00",
          "2022-03-24T00:00:00",
          "2022-03-25T00:00:00",
          "2022-03-26T00:00:00",
          "2022-03-27T00:00:00",
          "2022-03-28T00:00:00",
          "2022-03-29T00:00:00",
          "2022-03-30T00:00:00",
          "2022-03-31T00:00:00",
          "2022-04-01T00:00:00",
          "2022-04-02T00:00:00",
          "2022-04-03T00:00:00",
          "2022-04-04T00:00:00",
          "2022-04-05T00:00:00",
          "2022-04-06T00:00:00",
          "2022-04-07T00:00:00",
          "2022-04-08T00:00:00",
          "2022-04-09T00:00:00",
          "2022-04-10T00:00:00",
          "2022-04-11T00:00:00",
          "2022-04-12T00:00:00",
          "2022-04-13T00:00:00",
          "2022-04-14T00:00:00",
          "2022-04-15T00:00:00",
          "2022-04-16T00:00:00",
          "2022-04-17T00:00:00",
          "2022-04-18T00:00:00",
          "2022-04-19T00:00:00",
          "2022-04-20T00:00:00",
          "2022-04-21T00:00:00",
          "2022-04-22T00:00:00",
          "2022-04-23T00:00:00",
          "2022-04-24T00:00:00",
          "2022-04-25T00:00:00",
          "2022-04-26T00:00:00",
          "2022-04-27T00:00:00",
          "2022-04-28T00:00:00",
          "2022-04-29T00:00:00",
          "2022-04-30T00:00:00",
          "2022-05-01T00:00:00",
          "2022-05-02T00:00:00",
          "2022-05-03T00:00:00",
          "2022-05-04T00:00:00",
          "2022-05-05T00:00:00",
          "2022-05-06T00:00:00",
          "2022-05-07T00:00:00",
          "2022-05-08T00:00:00",
          "2022-05-09T00:00:00",
          "2022-05-10T00:00:00",
          "2022-05-11T00:00:00",
          "2022-05-12T00:00:00",
          "2022-05-13T00:00:00",
          "2022-05-14T00:00:00",
          "2022-05-15T00:00:00",
          "2022-05-16T00:00:00",
          "2022-05-17T00:00:00",
          "2022-05-18T00:00:00",
          "2022-05-19T00:00:00",
          "2022-05-20T00:00:00",
          "2022-05-21T00:00:00",
          "2022-05-22T00:00:00",
          "2022-05-23T00:00:00",
          "2022-05-24T00:00:00",
          "2022-05-25T00:00:00",
          "2022-05-26T00:00:00",
          "2022-05-27T00:00:00",
          "2022-05-28T00:00:00",
          "2022-05-29T00:00:00",
          "2022-05-30T00:00:00",
          "2022-05-31T00:00:00",
          "2022-06-01T00:00:00"
         ],
         "xaxis": "x",
         "y": [
          null,
          -0.10291041058161843,
          0.18085359417247426,
          0.0054597388656030255,
          -0.053992333245821644,
          -0.131541327183457,
          -0.04038732180976756,
          0.07101218607023885,
          0.12005563549560683,
          -0.03625082973440452,
          0.03142441152021824,
          0.016397595512633423,
          -0.01672222589168093,
          -0.193082500767368,
          -0.03561805667911533,
          0.11454093908008511,
          0.18270400156475408,
          0.202668088736619,
          0.024753450574691582,
          -0.10345948527251181,
          -0.039414305938167415,
          0.11542505062772346,
          0.17626950490446958,
          0.04460829570920932,
          -0.02801248056881933,
          0.02440382750081871,
          -0.181685031423242,
          0.008597573825511295,
          0.2816878951627657,
          0.028837913640608726,
          -0.0498357295977333,
          -0.05136953328307636,
          -0.025783397990784218,
          -0.007660001039582753,
          -0.07664065051359514,
          0.06118822999958495,
          0.019563924962294754,
          0.01618562000298618,
          0.028691632900000652,
          -0.0073773671101535765,
          -0.053899327124398155,
          -0.008082095040267023,
          -0.07109445431935901,
          0.015619304330347417,
          -0.013039980161908216,
          0.009788712533646438,
          -0.06927185567640992,
          -0.02229089839695797,
          -0.021442359995474503,
          0.018867214278191158,
          0.017415302899290497,
          0.0042738093105476604,
          0.02476379617857516,
          -0.026583863043341704,
          -0.014075751686601468,
          0.027548985851408636,
          0.04882581813570419,
          0.026744018087659027,
          0.06991688731134493,
          0.001264838064249707,
          -0.016289636322177503,
          0.0778311488707999,
          -0.010214201223360142,
          -0.10598192700608122,
          0.043295102844626454,
          0.003921614824732522,
          -0.036606255835189394,
          0.03257580503194113,
          0.009511519277146219,
          0.0427647653422758,
          0.10857805729221037,
          0.05362786550056842,
          -0.056607471641384355,
          0.05122399821429546,
          0.12398888892822124,
          0.03456348287493838,
          -0.02832663607976671,
          -0.039940321311057514,
          0.03613387008552604,
          -0.03744568812482463,
          0.15170786740851283,
          -0.016994045715887918,
          -0.017305177166611063,
          0.053731911204391025,
          0.09118759733762571,
          -0.0911992267714462,
          0.12943569116527898,
          0.13199261605369217,
          0.03252152276455034,
          0.03303490000752518,
          -0.08132980925035371,
          -0.06125287140345914,
          0.025113827597763372,
          -0.12161092590673006,
          0.07242140176170908,
          -0.009026503920095741,
          0.06881718508892942,
          0.019154525847701498,
          -0.013342804506779826,
          -0.09389301777652281,
          0.0026247513459904948,
          -0.14757643411743837,
          -0.07250500315684905,
          0.08452015935634893,
          -0.03220400861819539,
          0.03409234451714216,
          -0.07105849515540841,
          -0.053487728370036125,
          0.05295207903562815,
          0.02474595360155285,
          -0.10557374843640466,
          0.10572992094562372,
          0.15535895265037625,
          -0.021352684665078114,
          0.13134944483521482,
          0.03668062101168457,
          -0.0643134091430666,
          0.055715129057930524,
          0.08039156424955074,
          -0.05570577979523805,
          0.0460890122784976,
          -0.056331489595994544,
          0.0017657478907446844,
          0.001296350566857729,
          -0.01232973564419515,
          -0.05552166906440603,
          -0.03801798494442776,
          -0.01988761450287102,
          0.07964249951228086,
          0.04007174163060956,
          -0.006918520264314165,
          -0.0436863929500616,
          -0.03967664225266987,
          -0.05542135889572841,
          -0.027416000310450328,
          -0.09108122387900175,
          -0.031895157824588516,
          0.05945584022187256,
          -0.05179730331038934,
          0.060856520577105444,
          0.07190355923385638,
          -0.06583248236017047,
          0.007485100546696488,
          0.03380366386606504,
          -0.012370497671933323,
          -0.0583628827652678,
          -0.00971658856140245,
          -0.03579224256662661,
          -0.04203509543376083,
          -0.17056736754646218,
          -0.09380334983688232,
          0.08375222173866526,
          -0.026428994441100362,
          0.08118832171956636,
          -0.02948914716186779,
          -0.01968240319048742,
          0.03661599877851174,
          0.0749436667332577,
          -0.05706150586820746,
          0.028550177126245968,
          0.04886872935763642,
          -0.07477968699057658,
          0.0016245989912513359,
          0.1370512164614932,
          0.00069774895846475,
          0.015355934393154191,
          0.0601996403987346,
          0.037353416587144306,
          0.04246397229852672,
          0.01039890098635965,
          -0.10386208737801106,
          -0.006354678557641269,
          -0.035780374131030745,
          0.04731493419248678,
          0.13221174074135278,
          0.02839656632337273,
          -0.07562760150772174,
          -0.046881504735932666,
          0.013613678476924296,
          -0.0917061223117982,
          -0.09551873928672217,
          0.06444568527566319,
          -0.008363577037254433,
          0.036606416488034865,
          0.05704110944722918,
          0.008011941551747004,
          -0.081947139300373,
          0.1255319697195274,
          0.029488330966957355,
          -0.04208946823022519,
          -0.05245400989034721,
          -0.038709244452050706,
          0.01514480550124242,
          -0.05657290798383974,
          -0.009153591010725992,
          0.014147033342654103,
          0.06538280112031569,
          -0.04696761368193103,
          -0.038355627229987976,
          -0.0031526077634432825,
          -0.040067790935214065,
          0.008806336456231634,
          0.016461300864556883,
          0.06068076353436491,
          0.07554007413306296,
          0.07879300038769954,
          0.04422024896046617,
          -0.05502768048740736,
          0.020114787239308374,
          -0.02839647344222962,
          0.0228725732614532,
          0.016845112471643553,
          -0.043525630321634146,
          0.02876969185838374,
          0.04044924351850576,
          -0.0009085785731844931,
          0.036729001202832734,
          0.035511319156314336,
          -0.003458562332782078,
          0.010296487920910868,
          -0.004397485189577055,
          0.013836126551090677,
          -0.021665187029854538,
          -0.045992665279360856,
          -0.09008792279763356,
          0.061160853210982635,
          -0.04820353225351859,
          0.010548255143386642,
          -0.029665476522735323,
          -0.09741150310653823,
          0.032849150625736456,
          0.04597831385104656,
          -0.03989495889563033,
          0.007364987965170711,
          0.007375237187987604,
          -0.02901294481842953,
          0.02686222472499633,
          0.032532652845910004,
          -0.024725524894829265,
          -0.040799860799427434,
          -0.011937334174178638,
          -0.01720372784093871,
          -0.01829987396561139,
          0.01683233349301627,
          -0.057666938143750124,
          0.01763424242628897,
          -0.0370527389746923,
          -0.05531489503293108,
          -0.10031534771893824,
          0.03092205334691145,
          0.02570048921545398,
          -0.012765824287983563,
          0.12464021424192784,
          -0.11803241953400334,
          -0.03575169381766141,
          -0.032075766206087764,
          -0.06975161226066096,
          -0.17658394836332936,
          0.05069779291758936,
          -0.3046155038416647,
          -0.01575439926986133,
          0.054918854901586656,
          0.059580087766323286,
          0.07133460261786806,
          -0.1051003987260708,
          0.05903179463504804,
          -0.1443023422673313,
          0.03186354189199636,
          -0.04912132904210764,
          0.03472951073192743,
          0.06161568476869306,
          -0.08780625682489618,
          -0.002539050964597278,
          -0.060321394749865975,
          -0.1332567933583778,
          -0.04924128580980314,
          0.10947048652373836,
          0.04735552230775619,
          0.06028381054074017,
          -0.03813359757687085
         ],
         "yaxis": "y"
        },
        {
         "hovertemplate": "%{y}",
         "legendgroup": "JOE",
         "line": {
          "color": "#EF553B",
          "dash": "solid"
         },
         "marker": {
          "symbol": "circle"
         },
         "mode": "lines",
         "name": "JOE",
         "orientation": "v",
         "showlegend": true,
         "type": "scatter",
         "x": [
          "2021-08-26T00:00:00",
          "2021-08-27T00:00:00",
          "2021-08-28T00:00:00",
          "2021-08-29T00:00:00",
          "2021-08-30T00:00:00",
          "2021-08-31T00:00:00",
          "2021-09-01T00:00:00",
          "2021-09-02T00:00:00",
          "2021-09-03T00:00:00",
          "2021-09-04T00:00:00",
          "2021-09-05T00:00:00",
          "2021-09-06T00:00:00",
          "2021-09-07T00:00:00",
          "2021-09-08T00:00:00",
          "2021-09-09T00:00:00",
          "2021-09-10T00:00:00",
          "2021-09-11T00:00:00",
          "2021-09-12T00:00:00",
          "2021-09-13T00:00:00",
          "2021-09-14T00:00:00",
          "2021-09-15T00:00:00",
          "2021-09-16T00:00:00",
          "2021-09-17T00:00:00",
          "2021-09-18T00:00:00",
          "2021-09-19T00:00:00",
          "2021-09-20T00:00:00",
          "2021-09-21T00:00:00",
          "2021-09-22T00:00:00",
          "2021-09-23T00:00:00",
          "2021-09-24T00:00:00",
          "2021-09-25T00:00:00",
          "2021-09-26T00:00:00",
          "2021-09-27T00:00:00",
          "2021-09-28T00:00:00",
          "2021-09-29T00:00:00",
          "2021-09-30T00:00:00",
          "2021-10-01T00:00:00",
          "2021-10-02T00:00:00",
          "2021-10-03T00:00:00",
          "2021-10-04T00:00:00",
          "2021-10-05T00:00:00",
          "2021-10-06T00:00:00",
          "2021-10-07T00:00:00",
          "2021-10-08T00:00:00",
          "2021-10-09T00:00:00",
          "2021-10-10T00:00:00",
          "2021-10-11T00:00:00",
          "2021-10-12T00:00:00",
          "2021-10-13T00:00:00",
          "2021-10-14T00:00:00",
          "2021-10-15T00:00:00",
          "2021-10-16T00:00:00",
          "2021-10-17T00:00:00",
          "2021-10-18T00:00:00",
          "2021-10-19T00:00:00",
          "2021-10-20T00:00:00",
          "2021-10-21T00:00:00",
          "2021-10-22T00:00:00",
          "2021-10-23T00:00:00",
          "2021-10-24T00:00:00",
          "2021-10-25T00:00:00",
          "2021-10-26T00:00:00",
          "2021-10-27T00:00:00",
          "2021-10-28T00:00:00",
          "2021-10-29T00:00:00",
          "2021-10-30T00:00:00",
          "2021-10-31T00:00:00",
          "2021-11-01T00:00:00",
          "2021-11-02T00:00:00",
          "2021-11-03T00:00:00",
          "2021-11-04T00:00:00",
          "2021-11-05T00:00:00",
          "2021-11-06T00:00:00",
          "2021-11-07T00:00:00",
          "2021-11-08T00:00:00",
          "2021-11-09T00:00:00",
          "2021-11-10T00:00:00",
          "2021-11-11T00:00:00",
          "2021-11-12T00:00:00",
          "2021-11-13T00:00:00",
          "2021-11-14T00:00:00",
          "2021-11-15T00:00:00",
          "2021-11-16T00:00:00",
          "2021-11-17T00:00:00",
          "2021-11-18T00:00:00",
          "2021-11-19T00:00:00",
          "2021-11-20T00:00:00",
          "2021-11-21T00:00:00",
          "2021-11-22T00:00:00",
          "2021-11-23T00:00:00",
          "2021-11-24T00:00:00",
          "2021-11-25T00:00:00",
          "2021-11-26T00:00:00",
          "2021-11-27T00:00:00",
          "2021-11-28T00:00:00",
          "2021-11-29T00:00:00",
          "2021-11-30T00:00:00",
          "2021-12-01T00:00:00",
          "2021-12-02T00:00:00",
          "2021-12-03T00:00:00",
          "2021-12-04T00:00:00",
          "2021-12-05T00:00:00",
          "2021-12-06T00:00:00",
          "2021-12-07T00:00:00",
          "2021-12-08T00:00:00",
          "2021-12-09T00:00:00",
          "2021-12-10T00:00:00",
          "2021-12-11T00:00:00",
          "2021-12-12T00:00:00",
          "2021-12-13T00:00:00",
          "2021-12-14T00:00:00",
          "2021-12-15T00:00:00",
          "2021-12-16T00:00:00",
          "2021-12-17T00:00:00",
          "2021-12-18T00:00:00",
          "2021-12-19T00:00:00",
          "2021-12-20T00:00:00",
          "2021-12-21T00:00:00",
          "2021-12-22T00:00:00",
          "2021-12-23T00:00:00",
          "2021-12-24T00:00:00",
          "2021-12-25T00:00:00",
          "2021-12-26T00:00:00",
          "2021-12-27T00:00:00",
          "2021-12-28T00:00:00",
          "2021-12-29T00:00:00",
          "2021-12-30T00:00:00",
          "2021-12-31T00:00:00",
          "2022-01-01T00:00:00",
          "2022-01-02T00:00:00",
          "2022-01-03T00:00:00",
          "2022-01-04T00:00:00",
          "2022-01-05T00:00:00",
          "2022-01-06T00:00:00",
          "2022-01-07T00:00:00",
          "2022-01-08T00:00:00",
          "2022-01-09T00:00:00",
          "2022-01-10T00:00:00",
          "2022-01-11T00:00:00",
          "2022-01-12T00:00:00",
          "2022-01-13T00:00:00",
          "2022-01-14T00:00:00",
          "2022-01-15T00:00:00",
          "2022-01-16T00:00:00",
          "2022-01-17T00:00:00",
          "2022-01-18T00:00:00",
          "2022-01-19T00:00:00",
          "2022-01-20T00:00:00",
          "2022-01-21T00:00:00",
          "2022-01-22T00:00:00",
          "2022-01-23T00:00:00",
          "2022-01-24T00:00:00",
          "2022-01-25T00:00:00",
          "2022-01-26T00:00:00",
          "2022-01-27T00:00:00",
          "2022-01-28T00:00:00",
          "2022-01-29T00:00:00",
          "2022-01-30T00:00:00",
          "2022-01-31T00:00:00",
          "2022-02-01T00:00:00",
          "2022-02-02T00:00:00",
          "2022-02-03T00:00:00",
          "2022-02-04T00:00:00",
          "2022-02-05T00:00:00",
          "2022-02-06T00:00:00",
          "2022-02-07T00:00:00",
          "2022-02-08T00:00:00",
          "2022-02-09T00:00:00",
          "2022-02-10T00:00:00",
          "2022-02-11T00:00:00",
          "2022-02-12T00:00:00",
          "2022-02-13T00:00:00",
          "2022-02-14T00:00:00",
          "2022-02-15T00:00:00",
          "2022-02-16T00:00:00",
          "2022-02-17T00:00:00",
          "2022-02-18T00:00:00",
          "2022-02-19T00:00:00",
          "2022-02-20T00:00:00",
          "2022-02-21T00:00:00",
          "2022-02-22T00:00:00",
          "2022-02-23T00:00:00",
          "2022-02-24T00:00:00",
          "2022-02-25T00:00:00",
          "2022-02-26T00:00:00",
          "2022-02-27T00:00:00",
          "2022-02-28T00:00:00",
          "2022-03-01T00:00:00",
          "2022-03-02T00:00:00",
          "2022-03-03T00:00:00",
          "2022-03-04T00:00:00",
          "2022-03-05T00:00:00",
          "2022-03-06T00:00:00",
          "2022-03-07T00:00:00",
          "2022-03-08T00:00:00",
          "2022-03-09T00:00:00",
          "2022-03-10T00:00:00",
          "2022-03-11T00:00:00",
          "2022-03-12T00:00:00",
          "2022-03-13T00:00:00",
          "2022-03-14T00:00:00",
          "2022-03-15T00:00:00",
          "2022-03-16T00:00:00",
          "2022-03-17T00:00:00",
          "2022-03-18T00:00:00",
          "2022-03-19T00:00:00",
          "2022-03-20T00:00:00",
          "2022-03-21T00:00:00",
          "2022-03-22T00:00:00",
          "2022-03-23T00:00:00",
          "2022-03-24T00:00:00",
          "2022-03-25T00:00:00",
          "2022-03-26T00:00:00",
          "2022-03-27T00:00:00",
          "2022-03-28T00:00:00",
          "2022-03-29T00:00:00",
          "2022-03-30T00:00:00",
          "2022-03-31T00:00:00",
          "2022-04-01T00:00:00",
          "2022-04-02T00:00:00",
          "2022-04-03T00:00:00",
          "2022-04-04T00:00:00",
          "2022-04-05T00:00:00",
          "2022-04-06T00:00:00",
          "2022-04-07T00:00:00",
          "2022-04-08T00:00:00",
          "2022-04-09T00:00:00",
          "2022-04-10T00:00:00",
          "2022-04-11T00:00:00",
          "2022-04-12T00:00:00",
          "2022-04-13T00:00:00",
          "2022-04-14T00:00:00",
          "2022-04-15T00:00:00",
          "2022-04-16T00:00:00",
          "2022-04-17T00:00:00",
          "2022-04-18T00:00:00",
          "2022-04-19T00:00:00",
          "2022-04-20T00:00:00",
          "2022-04-21T00:00:00",
          "2022-04-22T00:00:00",
          "2022-04-23T00:00:00",
          "2022-04-24T00:00:00",
          "2022-04-25T00:00:00",
          "2022-04-26T00:00:00",
          "2022-04-27T00:00:00",
          "2022-04-28T00:00:00",
          "2022-04-29T00:00:00",
          "2022-04-30T00:00:00",
          "2022-05-01T00:00:00",
          "2022-05-02T00:00:00",
          "2022-05-03T00:00:00",
          "2022-05-04T00:00:00",
          "2022-05-05T00:00:00",
          "2022-05-06T00:00:00",
          "2022-05-07T00:00:00",
          "2022-05-08T00:00:00",
          "2022-05-09T00:00:00",
          "2022-05-10T00:00:00",
          "2022-05-11T00:00:00",
          "2022-05-12T00:00:00",
          "2022-05-13T00:00:00",
          "2022-05-14T00:00:00",
          "2022-05-15T00:00:00",
          "2022-05-16T00:00:00",
          "2022-05-17T00:00:00",
          "2022-05-18T00:00:00",
          "2022-05-19T00:00:00",
          "2022-05-20T00:00:00",
          "2022-05-21T00:00:00",
          "2022-05-22T00:00:00",
          "2022-05-23T00:00:00",
          "2022-05-24T00:00:00",
          "2022-05-25T00:00:00",
          "2022-05-26T00:00:00",
          "2022-05-27T00:00:00",
          "2022-05-28T00:00:00",
          "2022-05-29T00:00:00",
          "2022-05-30T00:00:00",
          "2022-05-31T00:00:00",
          "2022-06-01T00:00:00"
         ],
         "xaxis": "x",
         "y": [
          null,
          0.468044529662931,
          0.21985151731513208,
          -0.10973002709122481,
          0.25099591245922803,
          -0.5323831477507797,
          -0.06917984323231507,
          0.30058096815556423,
          0.33584762184142747,
          -0.06811134629685722,
          0.0789246238844512,
          -0.08814442302442915,
          -0.11810314307063163,
          -0.1779623889725358,
          -0.06387362726863333,
          0.14764694535810374,
          0.19805307077256074,
          0.3406264741066556,
          -0.002222754768210433,
          -0.1273809385879332,
          -0.02866976582641856,
          0.2672017600695922,
          0.2916825286812117,
          -0.04208551165868302,
          0.03758994224278189,
          0.12545211340319895,
          -0.25205935726211004,
          0.13483202472971323,
          0.5344081054299259,
          -0.06257494582486711,
          -0.028356772401432306,
          -0.12687144925012017,
          0.06461838698822175,
          0.07020765405886453,
          -0.10681772338949191,
          -0.07664094735822569,
          -0.0783487059085669,
          0.03782254360288673,
          -0.11305350186051766,
          0.042196135289666925,
          -0.05091026176129976,
          -0.13213546840587576,
          -0.06254973289364607,
          0.15281283558131342,
          -0.05317529077177008,
          -0.09363864679957923,
          -0.08559176633289034,
          -0.14689821109090462,
          0.05872781483285627,
          0.0852853372492437,
          -0.08647311405064173,
          0.08419483753551904,
          0.1437253667950471,
          0.0634356631806492,
          0.13376158693331597,
          0.0882010010264922,
          -0.03998091930004999,
          0.08151091636192986,
          -0.04182267136315687,
          -0.0955950847019229,
          0.023878389327377736,
          0.22271562946138057,
          -0.043619169124054724,
          -0.14383179524059486,
          0.06598791590138875,
          -0.07159276937238312,
          -0.1112214434845945,
          0.05299980935025461,
          0.013300977235445322,
          -0.04770733004388772,
          0.20296767296740903,
          0.08274022719858709,
          -0.09195949398222136,
          -0.003953210162764176,
          0.035997827360978896,
          -0.04167267441476008,
          -0.04999816807419388,
          -0.10198223496384962,
          0.004499447033615489,
          -0.07898677686209965,
          0.16705211110339757,
          0.01986500436427341,
          0.044375782238912365,
          0.08054728292047031,
          0.1352863734096117,
          -0.15276037135256026,
          0.14660533261141384,
          0.2444629375092573,
          0.1039863969646273,
          -0.06607346787695878,
          -0.10145487812517517,
          -0.07445208243695511,
          0.03510737019180499,
          -0.2776021116283165,
          0.12041352558694696,
          0.051984714860661585,
          0.0370370308635013,
          -0.02553491624922022,
          -0.05157041448129984,
          -0.13174852673780724,
          0.030238226856578843,
          -0.14417489722788734,
          -0.046754316573052956,
          0.014879736542506627,
          0.12300740297104329,
          0.04023612358509587,
          -0.13060487959605116,
          -0.1194551987583532,
          0.1046296404153857,
          -0.04931113281930599,
          -0.14560425397789567,
          0.21139252209166615,
          0.06625584159244569,
          0.023332137222917382,
          0.006900885959886249,
          0.016947459180958857,
          -0.09677137393131396,
          0.05053549971178972,
          0.0465292110120612,
          -0.08036912471061264,
          0.12817765584264373,
          -0.1147258410158668,
          -0.004098498207139367,
          0.05898115589273378,
          -0.0597238213421275,
          0.08347266237275153,
          -0.05408063886930925,
          -0.08380173700311877,
          0.02357476272965875,
          -0.01113796907958342,
          -0.06589346622000603,
          -0.06750815768836738,
          -0.0047272042381344415,
          -0.07990153992582283,
          -0.03013436958405924,
          -0.10017464445178859,
          -0.06420995348488323,
          0.09558771468022309,
          -0.05654323050464882,
          0.08202098290024362,
          0.06138581053471137,
          -0.07054396479540415,
          -0.016365580569928317,
          0.05109662318607078,
          0.028887827193639692,
          -0.08668128016102505,
          -0.039199558984242766,
          -0.07485721301751969,
          -0.083308746270916,
          -0.22770144562947747,
          -0.15932944668511784,
          0.10648887118388983,
          -0.06135975302547214,
          0.0969892759167521,
          0.044138815096870676,
          0.07829191178081496,
          0.2967806507246784,
          0.04818637416160554,
          -0.05410913556493058,
          0.13022120772981216,
          0.05855324296794251,
          -0.1458672640438472,
          -0.014241947816184375,
          0.1434593274359821,
          -0.017965464348864146,
          -0.03786316610109508,
          -0.0032939200770421007,
          -0.02551680389174238,
          0.03989496368981871,
          0.010037405888483564,
          -0.11886589369226574,
          -0.030371935407495942,
          -0.04391161151005052,
          0.027675601144618867,
          0.12403632481555449,
          -0.03838586471369243,
          -0.07430244346148018,
          -0.023742435929832162,
          0.0025239164492150135,
          -0.12934289393147502,
          -0.026024669756190777,
          0.0807558113829634,
          -0.02826486039090159,
          -0.01144368244042071,
          0.12031970128895697,
          -0.033892552279712884,
          -0.05956462338305524,
          0.166658980178104,
          -0.05736642225127564,
          -0.005194653974138763,
          -0.05203698867892714,
          -0.006870395802474949,
          0.0071325468624543475,
          -0.03365923752118971,
          -0.047247057634066336,
          -0.016374564776967304,
          0.03745805382641998,
          -0.035661737626551115,
          -0.08203825124386788,
          0.028707889005836096,
          -0.10316589845397761,
          0.014347029209328621,
          -0.006178548736040623,
          0.08655099242595132,
          0.09249970924489004,
          0.017744005113566885,
          0.02770577136623964,
          -0.05816910207067638,
          0.043700818348529014,
          -0.024083927136485328,
          -0.002849674434053373,
          0.024652393177765797,
          -0.059626184043358066,
          0.023559744799616533,
          0.01544805514659342,
          0.12380830290322598,
          -0.006564206962754948,
          0.14484964898777308,
          -0.05098551923205408,
          0.043906489958534634,
          0.007266563722653219,
          0.08837778322052281,
          -0.01277296763664204,
          0.03892513448525037,
          -0.12533097301447937,
          0.12128955835932365,
          -0.07644585764240008,
          0.06354894805500488,
          -0.030560137511061347,
          -0.1427971007285228,
          0.05389839106905647,
          0.05752861635118456,
          -0.05012884725571054,
          -0.011094050249566001,
          -0.025337408380921467,
          -0.03233109958867919,
          0.029215189711338185,
          0.09111293806017629,
          -0.028615779867252167,
          -0.03960841897290779,
          -0.04199117349751624,
          -0.051095157823017434,
          -0.013297087333649316,
          0.05207082901866289,
          -0.07799016323287089,
          0.01483869029687157,
          -0.05595721397866782,
          -0.0850949918208177,
          -0.09112964333152229,
          0.041323475312297964,
          0.0664196988518404,
          -0.009955079127329514,
          0.1274886117179106,
          -0.1349660506897956,
          -0.05318475297933134,
          -0.04274579968684422,
          0.006244472606496965,
          -0.23392889144283546,
          -0.03440201733999648,
          -0.3950300973726343,
          0.15070349127742455,
          0.13929069895654167,
          0.02247761158139583,
          0.08030364907788656,
          -0.08843903350270477,
          0.06259608493914026,
          -0.14817038787130532,
          0.007965637004998527,
          -0.10233479920686595,
          0.009630733428946936,
          0.10539762674255715,
          -0.10331902076671684,
          0.0244843675238966,
          -0.05331267079161173,
          -0.13288163138319775,
          -0.0815995026837899,
          0.1032727959207449,
          0.0658950598277448,
          0.046354341416915856,
          -0.058155842073911335
         ],
         "yaxis": "y"
        }
       ],
       "layout": {
        "autosize": true,
        "hovermode": "x",
        "legend": {
         "title": {
          "text": "asset"
         },
         "tracegroupgap": 0
        },
        "margin": {
         "t": 60
        },
        "template": {
         "data": {
          "bar": [
           {
            "error_x": {
             "color": "#2a3f5f"
            },
            "error_y": {
             "color": "#2a3f5f"
            },
            "marker": {
             "line": {
              "color": "white",
              "width": 0.5
             },
             "pattern": {
              "fillmode": "overlay",
              "size": 10,
              "solidity": 0.2
             }
            },
            "type": "bar"
           }
          ],
          "barpolar": [
           {
            "marker": {
             "line": {
              "color": "white",
              "width": 0.5
             },
             "pattern": {
              "fillmode": "overlay",
              "size": 10,
              "solidity": 0.2
             }
            },
            "type": "barpolar"
           }
          ],
          "carpet": [
           {
            "aaxis": {
             "endlinecolor": "#2a3f5f",
             "gridcolor": "#C8D4E3",
             "linecolor": "#C8D4E3",
             "minorgridcolor": "#C8D4E3",
             "startlinecolor": "#2a3f5f"
            },
            "baxis": {
             "endlinecolor": "#2a3f5f",
             "gridcolor": "#C8D4E3",
             "linecolor": "#C8D4E3",
             "minorgridcolor": "#C8D4E3",
             "startlinecolor": "#2a3f5f"
            },
            "type": "carpet"
           }
          ],
          "choropleth": [
           {
            "colorbar": {
             "outlinewidth": 0,
             "ticks": ""
            },
            "type": "choropleth"
           }
          ],
          "contour": [
           {
            "colorbar": {
             "outlinewidth": 0,
             "ticks": ""
            },
            "colorscale": [
             [
              0,
              "#0d0887"
             ],
             [
              0.1111111111111111,
              "#46039f"
             ],
             [
              0.2222222222222222,
              "#7201a8"
             ],
             [
              0.3333333333333333,
              "#9c179e"
             ],
             [
              0.4444444444444444,
              "#bd3786"
             ],
             [
              0.5555555555555556,
              "#d8576b"
             ],
             [
              0.6666666666666666,
              "#ed7953"
             ],
             [
              0.7777777777777778,
              "#fb9f3a"
             ],
             [
              0.8888888888888888,
              "#fdca26"
             ],
             [
              1,
              "#f0f921"
             ]
            ],
            "type": "contour"
           }
          ],
          "contourcarpet": [
           {
            "colorbar": {
             "outlinewidth": 0,
             "ticks": ""
            },
            "type": "contourcarpet"
           }
          ],
          "heatmap": [
           {
            "colorbar": {
             "outlinewidth": 0,
             "ticks": ""
            },
            "colorscale": [
             [
              0,
              "#0d0887"
             ],
             [
              0.1111111111111111,
              "#46039f"
             ],
             [
              0.2222222222222222,
              "#7201a8"
             ],
             [
              0.3333333333333333,
              "#9c179e"
             ],
             [
              0.4444444444444444,
              "#bd3786"
             ],
             [
              0.5555555555555556,
              "#d8576b"
             ],
             [
              0.6666666666666666,
              "#ed7953"
             ],
             [
              0.7777777777777778,
              "#fb9f3a"
             ],
             [
              0.8888888888888888,
              "#fdca26"
             ],
             [
              1,
              "#f0f921"
             ]
            ],
            "type": "heatmap"
           }
          ],
          "heatmapgl": [
           {
            "colorbar": {
             "outlinewidth": 0,
             "ticks": ""
            },
            "colorscale": [
             [
              0,
              "#0d0887"
             ],
             [
              0.1111111111111111,
              "#46039f"
             ],
             [
              0.2222222222222222,
              "#7201a8"
             ],
             [
              0.3333333333333333,
              "#9c179e"
             ],
             [
              0.4444444444444444,
              "#bd3786"
             ],
             [
              0.5555555555555556,
              "#d8576b"
             ],
             [
              0.6666666666666666,
              "#ed7953"
             ],
             [
              0.7777777777777778,
              "#fb9f3a"
             ],
             [
              0.8888888888888888,
              "#fdca26"
             ],
             [
              1,
              "#f0f921"
             ]
            ],
            "type": "heatmapgl"
           }
          ],
          "histogram": [
           {
            "marker": {
             "pattern": {
              "fillmode": "overlay",
              "size": 10,
              "solidity": 0.2
             }
            },
            "type": "histogram"
           }
          ],
          "histogram2d": [
           {
            "colorbar": {
             "outlinewidth": 0,
             "ticks": ""
            },
            "colorscale": [
             [
              0,
              "#0d0887"
             ],
             [
              0.1111111111111111,
              "#46039f"
             ],
             [
              0.2222222222222222,
              "#7201a8"
             ],
             [
              0.3333333333333333,
              "#9c179e"
             ],
             [
              0.4444444444444444,
              "#bd3786"
             ],
             [
              0.5555555555555556,
              "#d8576b"
             ],
             [
              0.6666666666666666,
              "#ed7953"
             ],
             [
              0.7777777777777778,
              "#fb9f3a"
             ],
             [
              0.8888888888888888,
              "#fdca26"
             ],
             [
              1,
              "#f0f921"
             ]
            ],
            "type": "histogram2d"
           }
          ],
          "histogram2dcontour": [
           {
            "colorbar": {
             "outlinewidth": 0,
             "ticks": ""
            },
            "colorscale": [
             [
              0,
              "#0d0887"
             ],
             [
              0.1111111111111111,
              "#46039f"
             ],
             [
              0.2222222222222222,
              "#7201a8"
             ],
             [
              0.3333333333333333,
              "#9c179e"
             ],
             [
              0.4444444444444444,
              "#bd3786"
             ],
             [
              0.5555555555555556,
              "#d8576b"
             ],
             [
              0.6666666666666666,
              "#ed7953"
             ],
             [
              0.7777777777777778,
              "#fb9f3a"
             ],
             [
              0.8888888888888888,
              "#fdca26"
             ],
             [
              1,
              "#f0f921"
             ]
            ],
            "type": "histogram2dcontour"
           }
          ],
          "mesh3d": [
           {
            "colorbar": {
             "outlinewidth": 0,
             "ticks": ""
            },
            "type": "mesh3d"
           }
          ],
          "parcoords": [
           {
            "line": {
             "colorbar": {
              "outlinewidth": 0,
              "ticks": ""
             }
            },
            "type": "parcoords"
           }
          ],
          "pie": [
           {
            "automargin": true,
            "type": "pie"
           }
          ],
          "scatter": [
           {
            "marker": {
             "colorbar": {
              "outlinewidth": 0,
              "ticks": ""
             }
            },
            "type": "scatter"
           }
          ],
          "scatter3d": [
           {
            "line": {
             "colorbar": {
              "outlinewidth": 0,
              "ticks": ""
             }
            },
            "marker": {
             "colorbar": {
              "outlinewidth": 0,
              "ticks": ""
             }
            },
            "type": "scatter3d"
           }
          ],
          "scattercarpet": [
           {
            "marker": {
             "colorbar": {
              "outlinewidth": 0,
              "ticks": ""
             }
            },
            "type": "scattercarpet"
           }
          ],
          "scattergeo": [
           {
            "marker": {
             "colorbar": {
              "outlinewidth": 0,
              "ticks": ""
             }
            },
            "type": "scattergeo"
           }
          ],
          "scattergl": [
           {
            "marker": {
             "colorbar": {
              "outlinewidth": 0,
              "ticks": ""
             }
            },
            "type": "scattergl"
           }
          ],
          "scattermapbox": [
           {
            "marker": {
             "colorbar": {
              "outlinewidth": 0,
              "ticks": ""
             }
            },
            "type": "scattermapbox"
           }
          ],
          "scatterpolar": [
           {
            "marker": {
             "colorbar": {
              "outlinewidth": 0,
              "ticks": ""
             }
            },
            "type": "scatterpolar"
           }
          ],
          "scatterpolargl": [
           {
            "marker": {
             "colorbar": {
              "outlinewidth": 0,
              "ticks": ""
             }
            },
            "type": "scatterpolargl"
           }
          ],
          "scatterternary": [
           {
            "marker": {
             "colorbar": {
              "outlinewidth": 0,
              "ticks": ""
             }
            },
            "type": "scatterternary"
           }
          ],
          "surface": [
           {
            "colorbar": {
             "outlinewidth": 0,
             "ticks": ""
            },
            "colorscale": [
             [
              0,
              "#0d0887"
             ],
             [
              0.1111111111111111,
              "#46039f"
             ],
             [
              0.2222222222222222,
              "#7201a8"
             ],
             [
              0.3333333333333333,
              "#9c179e"
             ],
             [
              0.4444444444444444,
              "#bd3786"
             ],
             [
              0.5555555555555556,
              "#d8576b"
             ],
             [
              0.6666666666666666,
              "#ed7953"
             ],
             [
              0.7777777777777778,
              "#fb9f3a"
             ],
             [
              0.8888888888888888,
              "#fdca26"
             ],
             [
              1,
              "#f0f921"
             ]
            ],
            "type": "surface"
           }
          ],
          "table": [
           {
            "cells": {
             "fill": {
              "color": "#EBF0F8"
             },
             "line": {
              "color": "white"
             }
            },
            "header": {
             "fill": {
              "color": "#C8D4E3"
             },
             "line": {
              "color": "white"
             }
            },
            "type": "table"
           }
          ]
         },
         "layout": {
          "annotationdefaults": {
           "arrowcolor": "#2a3f5f",
           "arrowhead": 0,
           "arrowwidth": 1
          },
          "autotypenumbers": "strict",
          "coloraxis": {
           "colorbar": {
            "outlinewidth": 0,
            "ticks": ""
           }
          },
          "colorscale": {
           "diverging": [
            [
             0,
             "#8e0152"
            ],
            [
             0.1,
             "#c51b7d"
            ],
            [
             0.2,
             "#de77ae"
            ],
            [
             0.3,
             "#f1b6da"
            ],
            [
             0.4,
             "#fde0ef"
            ],
            [
             0.5,
             "#f7f7f7"
            ],
            [
             0.6,
             "#e6f5d0"
            ],
            [
             0.7,
             "#b8e186"
            ],
            [
             0.8,
             "#7fbc41"
            ],
            [
             0.9,
             "#4d9221"
            ],
            [
             1,
             "#276419"
            ]
           ],
           "sequential": [
            [
             0,
             "#0d0887"
            ],
            [
             0.1111111111111111,
             "#46039f"
            ],
            [
             0.2222222222222222,
             "#7201a8"
            ],
            [
             0.3333333333333333,
             "#9c179e"
            ],
            [
             0.4444444444444444,
             "#bd3786"
            ],
            [
             0.5555555555555556,
             "#d8576b"
            ],
            [
             0.6666666666666666,
             "#ed7953"
            ],
            [
             0.7777777777777778,
             "#fb9f3a"
            ],
            [
             0.8888888888888888,
             "#fdca26"
            ],
            [
             1,
             "#f0f921"
            ]
           ],
           "sequentialminus": [
            [
             0,
             "#0d0887"
            ],
            [
             0.1111111111111111,
             "#46039f"
            ],
            [
             0.2222222222222222,
             "#7201a8"
            ],
            [
             0.3333333333333333,
             "#9c179e"
            ],
            [
             0.4444444444444444,
             "#bd3786"
            ],
            [
             0.5555555555555556,
             "#d8576b"
            ],
            [
             0.6666666666666666,
             "#ed7953"
            ],
            [
             0.7777777777777778,
             "#fb9f3a"
            ],
            [
             0.8888888888888888,
             "#fdca26"
            ],
            [
             1,
             "#f0f921"
            ]
           ]
          },
          "colorway": [
           "#636efa",
           "#EF553B",
           "#00cc96",
           "#ab63fa",
           "#FFA15A",
           "#19d3f3",
           "#FF6692",
           "#B6E880",
           "#FF97FF",
           "#FECB52"
          ],
          "font": {
           "color": "#2a3f5f"
          },
          "geo": {
           "bgcolor": "white",
           "lakecolor": "white",
           "landcolor": "white",
           "showlakes": true,
           "showland": true,
           "subunitcolor": "#C8D4E3"
          },
          "hoverlabel": {
           "align": "left"
          },
          "hovermode": "closest",
          "mapbox": {
           "style": "light"
          },
          "paper_bgcolor": "white",
          "plot_bgcolor": "white",
          "polar": {
           "angularaxis": {
            "gridcolor": "#EBF0F8",
            "linecolor": "#EBF0F8",
            "ticks": ""
           },
           "bgcolor": "white",
           "radialaxis": {
            "gridcolor": "#EBF0F8",
            "linecolor": "#EBF0F8",
            "ticks": ""
           }
          },
          "scene": {
           "xaxis": {
            "backgroundcolor": "white",
            "gridcolor": "#DFE8F3",
            "gridwidth": 2,
            "linecolor": "#EBF0F8",
            "showbackground": true,
            "ticks": "",
            "zerolinecolor": "#EBF0F8"
           },
           "yaxis": {
            "backgroundcolor": "white",
            "gridcolor": "#DFE8F3",
            "gridwidth": 2,
            "linecolor": "#EBF0F8",
            "showbackground": true,
            "ticks": "",
            "zerolinecolor": "#EBF0F8"
           },
           "zaxis": {
            "backgroundcolor": "white",
            "gridcolor": "#DFE8F3",
            "gridwidth": 2,
            "linecolor": "#EBF0F8",
            "showbackground": true,
            "ticks": "",
            "zerolinecolor": "#EBF0F8"
           }
          },
          "shapedefaults": {
           "line": {
            "color": "#2a3f5f"
           }
          },
          "ternary": {
           "aaxis": {
            "gridcolor": "#DFE8F3",
            "linecolor": "#A2B1C6",
            "ticks": ""
           },
           "baxis": {
            "gridcolor": "#DFE8F3",
            "linecolor": "#A2B1C6",
            "ticks": ""
           },
           "bgcolor": "white",
           "caxis": {
            "gridcolor": "#DFE8F3",
            "linecolor": "#A2B1C6",
            "ticks": ""
           }
          },
          "title": {
           "x": 0.05
          },
          "xaxis": {
           "automargin": true,
           "gridcolor": "#EBF0F8",
           "linecolor": "#EBF0F8",
           "ticks": "",
           "title": {
            "standoff": 15
           },
           "zerolinecolor": "#EBF0F8",
           "zerolinewidth": 2
          },
          "yaxis": {
           "automargin": true,
           "gridcolor": "#EBF0F8",
           "linecolor": "#EBF0F8",
           "ticks": "",
           "title": {
            "standoff": 15
           },
           "zerolinecolor": "#EBF0F8",
           "zerolinewidth": 2
          }
         }
        },
        "title": {
         "text": "Assets daily returns"
        },
        "xaxis": {
         "anchor": "y",
         "autorange": true,
         "domain": [
          0,
          1
         ],
         "range": [
          "2021-08-26",
          "2022-06-01"
         ],
         "showspikes": true,
         "spikecolor": "#999999",
         "spikedash": "dot",
         "spikemode": "across",
         "spikethickness": 2,
         "title": {
          "text": "date"
         },
         "type": "date"
        },
        "yaxis": {
         "anchor": "x",
         "autorange": true,
         "domain": [
          0,
          1
         ],
         "range": [
          -0.5916493284830411,
          0.5936742861621873
         ],
         "tickformat": ".2%",
         "title": {
          "text": "return, %"
         },
         "type": "linear"
        }
       }
      },
      "image/png": "[encoded data removed]",
      "text/html": [
       "<div>                            <div id=\"6ede5f81-30c8-4b20-b983-45ee0f686471\" class=\"plotly-graph-div\" style=\"height:525px; width:100%;\"></div>            <script type=\"text/javascript\">                require([\"plotly\"], function(Plotly) {                    window.PLOTLYENV=window.PLOTLYENV || {};                                    if (document.getElementById(\"6ede5f81-30c8-4b20-b983-45ee0f686471\")) {                    Plotly.newPlot(                        \"6ede5f81-30c8-4b20-b983-45ee0f686471\",                        [{\"hovertemplate\":\"%{y}\",\"legendgroup\":\"AVAX\",\"line\":{\"color\":\"#636efa\",\"dash\":\"solid\"},\"marker\":{\"symbol\":\"circle\"},\"mode\":\"lines\",\"name\":\"AVAX\",\"orientation\":\"v\",\"showlegend\":true,\"x\":[\"2021-08-26T00:00:00\",\"2021-08-27T00:00:00\",\"2021-08-28T00:00:00\",\"2021-08-29T00:00:00\",\"2021-08-30T00:00:00\",\"2021-08-31T00:00:00\",\"2021-09-01T00:00:00\",\"2021-09-02T00:00:00\",\"2021-09-03T00:00:00\",\"2021-09-04T00:00:00\",\"2021-09-05T00:00:00\",\"2021-09-06T00:00:00\",\"2021-09-07T00:00:00\",\"2021-09-08T00:00:00\",\"2021-09-09T00:00:00\",\"2021-09-10T00:00:00\",\"2021-09-11T00:00:00\",\"2021-09-12T00:00:00\",\"2021-09-13T00:00:00\",\"2021-09-14T00:00:00\",\"2021-09-15T00:00:00\",\"2021-09-16T00:00:00\",\"2021-09-17T00:00:00\",\"2021-09-18T00:00:00\",\"2021-09-19T00:00:00\",\"2021-09-20T00:00:00\",\"2021-09-21T00:00:00\",\"2021-09-22T00:00:00\",\"2021-09-23T00:00:00\",\"2021-09-24T00:00:00\",\"2021-09-25T00:00:00\",\"2021-09-26T00:00:00\",\"2021-09-27T00:00:00\",\"2021-09-28T00:00:00\",\"2021-09-29T00:00:00\",\"2021-09-30T00:00:00\",\"2021-10-01T00:00:00\",\"2021-10-02T00:00:00\",\"2021-10-03T00:00:00\",\"2021-10-04T00:00:00\",\"2021-10-05T00:00:00\",\"2021-10-06T00:00:00\",\"2021-10-07T00:00:00\",\"2021-10-08T00:00:00\",\"2021-10-09T00:00:00\",\"2021-10-10T00:00:00\",\"2021-10-11T00:00:00\",\"2021-10-12T00:00:00\",\"2021-10-13T00:00:00\",\"2021-10-14T00:00:00\",\"2021-10-15T00:00:00\",\"2021-10-16T00:00:00\",\"2021-10-17T00:00:00\",\"2021-10-18T00:00:00\",\"2021-10-19T00:00:00\",\"2021-10-20T00:00:00\",\"2021-10-21T00:00:00\",\"2021-10-22T00:00:00\",\"2021-10-23T00:00:00\",\"2021-10-24T00:00:00\",\"2021-10-25T00:00:00\",\"2021-10-26T00:00:00\",\"2021-10-27T00:00:00\",\"2021-10-28T00:00:00\",\"2021-10-29T00:00:00\",\"2021-10-30T00:00:00\",\"2021-10-31T00:00:00\",\"2021-11-01T00:00:00\",\"2021-11-02T00:00:00\",\"2021-11-03T00:00:00\",\"2021-11-04T00:00:00\",\"2021-11-05T00:00:00\",\"2021-11-06T00:00:00\",\"2021-11-07T00:00:00\",\"2021-11-08T00:00:00\",\"2021-11-09T00:00:00\",\"2021-11-10T00:00:00\",\"2021-11-11T00:00:00\",\"2021-11-12T00:00:00\",\"2021-11-13T00:00:00\",\"2021-11-14T00:00:00\",\"2021-11-15T00:00:00\",\"2021-11-16T00:00:00\",\"2021-11-17T00:00:00\",\"2021-11-18T00:00:00\",\"2021-11-19T00:00:00\",\"2021-11-20T00:00:00\",\"2021-11-21T00:00:00\",\"2021-11-22T00:00:00\",\"2021-11-23T00:00:00\",\"2021-11-24T00:00:00\",\"2021-11-25T00:00:00\",\"2021-11-26T00:00:00\",\"2021-11-27T00:00:00\",\"2021-11-28T00:00:00\",\"2021-11-29T00:00:00\",\"2021-11-30T00:00:00\",\"2021-12-01T00:00:00\",\"2021-12-02T00:00:00\",\"2021-12-03T00:00:00\",\"2021-12-04T00:00:00\",\"2021-12-05T00:00:00\",\"2021-12-06T00:00:00\",\"2021-12-07T00:00:00\",\"2021-12-08T00:00:00\",\"2021-12-09T00:00:00\",\"2021-12-10T00:00:00\",\"2021-12-11T00:00:00\",\"2021-12-12T00:00:00\",\"2021-12-13T00:00:00\",\"2021-12-14T00:00:00\",\"2021-12-15T00:00:00\",\"2021-12-16T00:00:00\",\"2021-12-17T00:00:00\",\"2021-12-18T00:00:00\",\"2021-12-19T00:00:00\",\"2021-12-20T00:00:00\",\"2021-12-21T00:00:00\",\"2021-12-22T00:00:00\",\"2021-12-23T00:00:00\",\"2021-12-24T00:00:00\",\"2021-12-25T00:00:00\",\"2021-12-26T00:00:00\",\"2021-12-27T00:00:00\",\"2021-12-28T00:00:00\",\"2021-12-29T00:00:00\",\"2021-12-30T00:00:00\",\"2021-12-31T00:00:00\",\"2022-01-01T00:00:00\",\"2022-01-02T00:00:00\",\"2022-01-03T00:00:00\",\"2022-01-04T00:00:00\",\"2022-01-05T00:00:00\",\"2022-01-06T00:00:00\",\"2022-01-07T00:00:00\",\"2022-01-08T00:00:00\",\"2022-01-09T00:00:00\",\"2022-01-10T00:00:00\",\"2022-01-11T00:00:00\",\"2022-01-12T00:00:00\",\"2022-01-13T00:00:00\",\"2022-01-14T00:00:00\",\"2022-01-15T00:00:00\",\"2022-01-16T00:00:00\",\"2022-01-17T00:00:00\",\"2022-01-18T00:00:00\",\"2022-01-19T00:00:00\",\"2022-01-20T00:00:00\",\"2022-01-21T00:00:00\",\"2022-01-22T00:00:00\",\"2022-01-23T00:00:00\",\"2022-01-24T00:00:00\",\"2022-01-25T00:00:00\",\"2022-01-26T00:00:00\",\"2022-01-27T00:00:00\",\"2022-01-28T00:00:00\",\"2022-01-29T00:00:00\",\"2022-01-30T00:00:00\",\"2022-01-31T00:00:00\",\"2022-02-01T00:00:00\",\"2022-02-02T00:00:00\",\"2022-02-03T00:00:00\",\"2022-02-04T00:00:00\",\"2022-02-05T00:00:00\",\"2022-02-06T00:00:00\",\"2022-02-07T00:00:00\",\"2022-02-08T00:00:00\",\"2022-02-09T00:00:00\",\"2022-02-10T00:00:00\",\"2022-02-11T00:00:00\",\"2022-02-12T00:00:00\",\"2022-02-13T00:00:00\",\"2022-02-14T00:00:00\",\"2022-02-15T00:00:00\",\"2022-02-16T00:00:00\",\"2022-02-17T00:00:00\",\"2022-02-18T00:00:00\",\"2022-02-19T00:00:00\",\"2022-02-20T00:00:00\",\"2022-02-21T00:00:00\",\"2022-02-22T00:00:00\",\"2022-02-23T00:00:00\",\"2022-02-24T00:00:00\",\"2022-02-25T00:00:00\",\"2022-02-26T00:00:00\",\"2022-02-27T00:00:00\",\"2022-02-28T00:00:00\",\"2022-03-01T00:00:00\",\"2022-03-02T00:00:00\",\"2022-03-03T00:00:00\",\"2022-03-04T00:00:00\",\"2022-03-05T00:00:00\",\"2022-03-06T00:00:00\",\"2022-03-07T00:00:00\",\"2022-03-08T00:00:00\",\"2022-03-09T00:00:00\",\"2022-03-10T00:00:00\",\"2022-03-11T00:00:00\",\"2022-03-12T00:00:00\",\"2022-03-13T00:00:00\",\"2022-03-14T00:00:00\",\"2022-03-15T00:00:00\",\"2022-03-16T00:00:00\",\"2022-03-17T00:00:00\",\"2022-03-18T00:00:00\",\"2022-03-19T00:00:00\",\"2022-03-20T00:00:00\",\"2022-03-21T00:00:00\",\"2022-03-22T00:00:00\",\"2022-03-23T00:00:00\",\"2022-03-24T00:00:00\",\"2022-03-25T00:00:00\",\"2022-03-26T00:00:00\",\"2022-03-27T00:00:00\",\"2022-03-28T00:00:00\",\"2022-03-29T00:00:00\",\"2022-03-30T00:00:00\",\"2022-03-31T00:00:00\",\"2022-04-01T00:00:00\",\"2022-04-02T00:00:00\",\"2022-04-03T00:00:00\",\"2022-04-04T00:00:00\",\"2022-04-05T00:00:00\",\"2022-04-06T00:00:00\",\"2022-04-07T00:00:00\",\"2022-04-08T00:00:00\",\"2022-04-09T00:00:00\",\"2022-04-10T00:00:00\",\"2022-04-11T00:00:00\",\"2022-04-12T00:00:00\",\"2022-04-13T00:00:00\",\"2022-04-14T00:00:00\",\"2022-04-15T00:00:00\",\"2022-04-16T00:00:00\",\"2022-04-17T00:00:00\",\"2022-04-18T00:00:00\",\"2022-04-19T00:00:00\",\"2022-04-20T00:00:00\",\"2022-04-21T00:00:00\",\"2022-04-22T00:00:00\",\"2022-04-23T00:00:00\",\"2022-04-24T00:00:00\",\"2022-04-25T00:00:00\",\"2022-04-26T00:00:00\",\"2022-04-27T00:00:00\",\"2022-04-28T00:00:00\",\"2022-04-29T00:00:00\",\"2022-04-30T00:00:00\",\"2022-05-01T00:00:00\",\"2022-05-02T00:00:00\",\"2022-05-03T00:00:00\",\"2022-05-04T00:00:00\",\"2022-05-05T00:00:00\",\"2022-05-06T00:00:00\",\"2022-05-07T00:00:00\",\"2022-05-08T00:00:00\",\"2022-05-09T00:00:00\",\"2022-05-10T00:00:00\",\"2022-05-11T00:00:00\",\"2022-05-12T00:00:00\",\"2022-05-13T00:00:00\",\"2022-05-14T00:00:00\",\"2022-05-15T00:00:00\",\"2022-05-16T00:00:00\",\"2022-05-17T00:00:00\",\"2022-05-18T00:00:00\",\"2022-05-19T00:00:00\",\"2022-05-20T00:00:00\",\"2022-05-21T00:00:00\",\"2022-05-22T00:00:00\",\"2022-05-23T00:00:00\",\"2022-05-24T00:00:00\",\"2022-05-25T00:00:00\",\"2022-05-26T00:00:00\",\"2022-05-27T00:00:00\",\"2022-05-28T00:00:00\",\"2022-05-29T00:00:00\",\"2022-05-30T00:00:00\",\"2022-05-31T00:00:00\",\"2022-06-01T00:00:00\"],\"xaxis\":\"x\",\"y\":[null,-0.10291041058161843,0.18085359417247426,0.0054597388656030255,-0.053992333245821644,-0.131541327183457,-0.04038732180976756,0.07101218607023885,0.12005563549560683,-0.03625082973440452,0.03142441152021824,0.016397595512633423,-0.01672222589168093,-0.193082500767368,-0.03561805667911533,0.11454093908008511,0.18270400156475408,0.202668088736619,0.024753450574691582,-0.10345948527251181,-0.039414305938167415,0.11542505062772346,0.17626950490446958,0.04460829570920932,-0.02801248056881933,0.02440382750081871,-0.181685031423242,0.008597573825511295,0.2816878951627657,0.028837913640608726,-0.0498357295977333,-0.05136953328307636,-0.025783397990784218,-0.007660001039582753,-0.07664065051359514,0.06118822999958495,0.019563924962294754,0.01618562000298618,0.028691632900000652,-0.0073773671101535765,-0.053899327124398155,-0.008082095040267023,-0.07109445431935901,0.015619304330347417,-0.013039980161908216,0.009788712533646438,-0.06927185567640992,-0.02229089839695797,-0.021442359995474503,0.018867214278191158,0.017415302899290497,0.0042738093105476604,0.02476379617857516,-0.026583863043341704,-0.014075751686601468,0.027548985851408636,0.04882581813570419,0.026744018087659027,0.06991688731134493,0.001264838064249707,-0.016289636322177503,0.0778311488707999,-0.010214201223360142,-0.10598192700608122,0.043295102844626454,0.003921614824732522,-0.036606255835189394,0.03257580503194113,0.009511519277146219,0.0427647653422758,0.10857805729221037,0.05362786550056842,-0.056607471641384355,0.05122399821429546,0.12398888892822124,0.03456348287493838,-0.02832663607976671,-0.039940321311057514,0.03613387008552604,-0.03744568812482463,0.15170786740851283,-0.016994045715887918,-0.017305177166611063,0.053731911204391025,0.09118759733762571,-0.0911992267714462,0.12943569116527898,0.13199261605369217,0.03252152276455034,0.03303490000752518,-0.08132980925035371,-0.06125287140345914,0.025113827597763372,-0.12161092590673006,0.07242140176170908,-0.009026503920095741,0.06881718508892942,0.019154525847701498,-0.013342804506779826,-0.09389301777652281,0.0026247513459904948,-0.14757643411743837,-0.07250500315684905,0.08452015935634893,-0.03220400861819539,0.03409234451714216,-0.07105849515540841,-0.053487728370036125,0.05295207903562815,0.02474595360155285,-0.10557374843640466,0.10572992094562372,0.15535895265037625,-0.021352684665078114,0.13134944483521482,0.03668062101168457,-0.0643134091430666,0.055715129057930524,0.08039156424955074,-0.05570577979523805,0.0460890122784976,-0.056331489595994544,0.0017657478907446844,0.001296350566857729,-0.01232973564419515,-0.05552166906440603,-0.03801798494442776,-0.01988761450287102,0.07964249951228086,0.04007174163060956,-0.006918520264314165,-0.0436863929500616,-0.03967664225266987,-0.05542135889572841,-0.027416000310450328,-0.09108122387900175,-0.031895157824588516,0.05945584022187256,-0.05179730331038934,0.060856520577105444,0.07190355923385638,-0.06583248236017047,0.007485100546696488,0.03380366386606504,-0.012370497671933323,-0.0583628827652678,-0.00971658856140245,-0.03579224256662661,-0.04203509543376083,-0.17056736754646218,-0.09380334983688232,0.08375222173866526,-0.026428994441100362,0.08118832171956636,-0.02948914716186779,-0.01968240319048742,0.03661599877851174,0.0749436667332577,-0.05706150586820746,0.028550177126245968,0.04886872935763642,-0.07477968699057658,0.0016245989912513359,0.1370512164614932,0.00069774895846475,0.015355934393154191,0.0601996403987346,0.037353416587144306,0.04246397229852672,0.01039890098635965,-0.10386208737801106,-0.006354678557641269,-0.035780374131030745,0.04731493419248678,0.13221174074135278,0.02839656632337273,-0.07562760150772174,-0.046881504735932666,0.013613678476924296,-0.0917061223117982,-0.09551873928672217,0.06444568527566319,-0.008363577037254433,0.036606416488034865,0.05704110944722918,0.008011941551747004,-0.081947139300373,0.1255319697195274,0.029488330966957355,-0.04208946823022519,-0.05245400989034721,-0.038709244452050706,0.01514480550124242,-0.05657290798383974,-0.009153591010725992,0.014147033342654103,0.06538280112031569,-0.04696761368193103,-0.038355627229987976,-0.0031526077634432825,-0.040067790935214065,0.008806336456231634,0.016461300864556883,0.06068076353436491,0.07554007413306296,0.07879300038769954,0.04422024896046617,-0.05502768048740736,0.020114787239308374,-0.02839647344222962,0.0228725732614532,0.016845112471643553,-0.043525630321634146,0.02876969185838374,0.04044924351850576,-0.0009085785731844931,0.036729001202832734,0.035511319156314336,-0.003458562332782078,0.010296487920910868,-0.004397485189577055,0.013836126551090677,-0.021665187029854538,-0.045992665279360856,-0.09008792279763356,0.061160853210982635,-0.04820353225351859,0.010548255143386642,-0.029665476522735323,-0.09741150310653823,0.032849150625736456,0.04597831385104656,-0.03989495889563033,0.007364987965170711,0.007375237187987604,-0.02901294481842953,0.02686222472499633,0.032532652845910004,-0.024725524894829265,-0.040799860799427434,-0.011937334174178638,-0.01720372784093871,-0.01829987396561139,0.01683233349301627,-0.057666938143750124,0.01763424242628897,-0.0370527389746923,-0.05531489503293108,-0.10031534771893824,0.03092205334691145,0.02570048921545398,-0.012765824287983563,0.12464021424192784,-0.11803241953400334,-0.03575169381766141,-0.032075766206087764,-0.06975161226066096,-0.17658394836332936,0.05069779291758936,-0.3046155038416647,-0.01575439926986133,0.054918854901586656,0.059580087766323286,0.07133460261786806,-0.1051003987260708,0.05903179463504804,-0.1443023422673313,0.03186354189199636,-0.04912132904210764,0.03472951073192743,0.06161568476869306,-0.08780625682489618,-0.002539050964597278,-0.060321394749865975,-0.1332567933583778,-0.04924128580980314,0.10947048652373836,0.04735552230775619,0.06028381054074017,-0.03813359757687085],\"yaxis\":\"y\",\"type\":\"scatter\"},{\"hovertemplate\":\"%{y}\",\"legendgroup\":\"JOE\",\"line\":{\"color\":\"#EF553B\",\"dash\":\"solid\"},\"marker\":{\"symbol\":\"circle\"},\"mode\":\"lines\",\"name\":\"JOE\",\"orientation\":\"v\",\"showlegend\":true,\"x\":[\"2021-08-26T00:00:00\",\"2021-08-27T00:00:00\",\"2021-08-28T00:00:00\",\"2021-08-29T00:00:00\",\"2021-08-30T00:00:00\",\"2021-08-31T00:00:00\",\"2021-09-01T00:00:00\",\"2021-09-02T00:00:00\",\"2021-09-03T00:00:00\",\"2021-09-04T00:00:00\",\"2021-09-05T00:00:00\",\"2021-09-06T00:00:00\",\"2021-09-07T00:00:00\",\"2021-09-08T00:00:00\",\"2021-09-09T00:00:00\",\"2021-09-10T00:00:00\",\"2021-09-11T00:00:00\",\"2021-09-12T00:00:00\",\"2021-09-13T00:00:00\",\"2021-09-14T00:00:00\",\"2021-09-15T00:00:00\",\"2021-09-16T00:00:00\",\"2021-09-17T00:00:00\",\"2021-09-18T00:00:00\",\"2021-09-19T00:00:00\",\"2021-09-20T00:00:00\",\"2021-09-21T00:00:00\",\"2021-09-22T00:00:00\",\"2021-09-23T00:00:00\",\"2021-09-24T00:00:00\",\"2021-09-25T00:00:00\",\"2021-09-26T00:00:00\",\"2021-09-27T00:00:00\",\"2021-09-28T00:00:00\",\"2021-09-29T00:00:00\",\"2021-09-30T00:00:00\",\"2021-10-01T00:00:00\",\"2021-10-02T00:00:00\",\"2021-10-03T00:00:00\",\"2021-10-04T00:00:00\",\"2021-10-05T00:00:00\",\"2021-10-06T00:00:00\",\"2021-10-07T00:00:00\",\"2021-10-08T00:00:00\",\"2021-10-09T00:00:00\",\"2021-10-10T00:00:00\",\"2021-10-11T00:00:00\",\"2021-10-12T00:00:00\",\"2021-10-13T00:00:00\",\"2021-10-14T00:00:00\",\"2021-10-15T00:00:00\",\"2021-10-16T00:00:00\",\"2021-10-17T00:00:00\",\"2021-10-18T00:00:00\",\"2021-10-19T00:00:00\",\"2021-10-20T00:00:00\",\"2021-10-21T00:00:00\",\"2021-10-22T00:00:00\",\"2021-10-23T00:00:00\",\"2021-10-24T00:00:00\",\"2021-10-25T00:00:00\",\"2021-10-26T00:00:00\",\"2021-10-27T00:00:00\",\"2021-10-28T00:00:00\",\"2021-10-29T00:00:00\",\"2021-10-30T00:00:00\",\"2021-10-31T00:00:00\",\"2021-11-01T00:00:00\",\"2021-11-02T00:00:00\",\"2021-11-03T00:00:00\",\"2021-11-04T00:00:00\",\"2021-11-05T00:00:00\",\"2021-11-06T00:00:00\",\"2021-11-07T00:00:00\",\"2021-11-08T00:00:00\",\"2021-11-09T00:00:00\",\"2021-11-10T00:00:00\",\"2021-11-11T00:00:00\",\"2021-11-12T00:00:00\",\"2021-11-13T00:00:00\",\"2021-11-14T00:00:00\",\"2021-11-15T00:00:00\",\"2021-11-16T00:00:00\",\"2021-11-17T00:00:00\",\"2021-11-18T00:00:00\",\"2021-11-19T00:00:00\",\"2021-11-20T00:00:00\",\"2021-11-21T00:00:00\",\"2021-11-22T00:00:00\",\"2021-11-23T00:00:00\",\"2021-11-24T00:00:00\",\"2021-11-25T00:00:00\",\"2021-11-26T00:00:00\",\"2021-11-27T00:00:00\",\"2021-11-28T00:00:00\",\"2021-11-29T00:00:00\",\"2021-11-30T00:00:00\",\"2021-12-01T00:00:00\",\"2021-12-02T00:00:00\",\"2021-12-03T00:00:00\",\"2021-12-04T00:00:00\",\"2021-12-05T00:00:00\",\"2021-12-06T00:00:00\",\"2021-12-07T00:00:00\",\"2021-12-08T00:00:00\",\"2021-12-09T00:00:00\",\"2021-12-10T00:00:00\",\"2021-12-11T00:00:00\",\"2021-12-12T00:00:00\",\"2021-12-13T00:00:00\",\"2021-12-14T00:00:00\",\"2021-12-15T00:00:00\",\"2021-12-16T00:00:00\",\"2021-12-17T00:00:00\",\"2021-12-18T00:00:00\",\"2021-12-19T00:00:00\",\"2021-12-20T00:00:00\",\"2021-12-21T00:00:00\",\"2021-12-22T00:00:00\",\"2021-12-23T00:00:00\",\"2021-12-24T00:00:00\",\"2021-12-25T00:00:00\",\"2021-12-26T00:00:00\",\"2021-12-27T00:00:00\",\"2021-12-28T00:00:00\",\"2021-12-29T00:00:00\",\"2021-12-30T00:00:00\",\"2021-12-31T00:00:00\",\"2022-01-01T00:00:00\",\"2022-01-02T00:00:00\",\"2022-01-03T00:00:00\",\"2022-01-04T00:00:00\",\"2022-01-05T00:00:00\",\"2022-01-06T00:00:00\",\"2022-01-07T00:00:00\",\"2022-01-08T00:00:00\",\"2022-01-09T00:00:00\",\"2022-01-10T00:00:00\",\"2022-01-11T00:00:00\",\"2022-01-12T00:00:00\",\"2022-01-13T00:00:00\",\"2022-01-14T00:00:00\",\"2022-01-15T00:00:00\",\"2022-01-16T00:00:00\",\"2022-01-17T00:00:00\",\"2022-01-18T00:00:00\",\"2022-01-19T00:00:00\",\"2022-01-20T00:00:00\",\"2022-01-21T00:00:00\",\"2022-01-22T00:00:00\",\"2022-01-23T00:00:00\",\"2022-01-24T00:00:00\",\"2022-01-25T00:00:00\",\"2022-01-26T00:00:00\",\"2022-01-27T00:00:00\",\"2022-01-28T00:00:00\",\"2022-01-29T00:00:00\",\"2022-01-30T00:00:00\",\"2022-01-31T00:00:00\",\"2022-02-01T00:00:00\",\"2022-02-02T00:00:00\",\"2022-02-03T00:00:00\",\"2022-02-04T00:00:00\",\"2022-02-05T00:00:00\",\"2022-02-06T00:00:00\",\"2022-02-07T00:00:00\",\"2022-02-08T00:00:00\",\"2022-02-09T00:00:00\",\"2022-02-10T00:00:00\",\"2022-02-11T00:00:00\",\"2022-02-12T00:00:00\",\"2022-02-13T00:00:00\",\"2022-02-14T00:00:00\",\"2022-02-15T00:00:00\",\"2022-02-16T00:00:00\",\"2022-02-17T00:00:00\",\"2022-02-18T00:00:00\",\"2022-02-19T00:00:00\",\"2022-02-20T00:00:00\",\"2022-02-21T00:00:00\",\"2022-02-22T00:00:00\",\"2022-02-23T00:00:00\",\"2022-02-24T00:00:00\",\"2022-02-25T00:00:00\",\"2022-02-26T00:00:00\",\"2022-02-27T00:00:00\",\"2022-02-28T00:00:00\",\"2022-03-01T00:00:00\",\"2022-03-02T00:00:00\",\"2022-03-03T00:00:00\",\"2022-03-04T00:00:00\",\"2022-03-05T00:00:00\",\"2022-03-06T00:00:00\",\"2022-03-07T00:00:00\",\"2022-03-08T00:00:00\",\"2022-03-09T00:00:00\",\"2022-03-10T00:00:00\",\"2022-03-11T00:00:00\",\"2022-03-12T00:00:00\",\"2022-03-13T00:00:00\",\"2022-03-14T00:00:00\",\"2022-03-15T00:00:00\",\"2022-03-16T00:00:00\",\"2022-03-17T00:00:00\",\"2022-03-18T00:00:00\",\"2022-03-19T00:00:00\",\"2022-03-20T00:00:00\",\"2022-03-21T00:00:00\",\"2022-03-22T00:00:00\",\"2022-03-23T00:00:00\",\"2022-03-24T00:00:00\",\"2022-03-25T00:00:00\",\"2022-03-26T00:00:00\",\"2022-03-27T00:00:00\",\"2022-03-28T00:00:00\",\"2022-03-29T00:00:00\",\"2022-03-30T00:00:00\",\"2022-03-31T00:00:00\",\"2022-04-01T00:00:00\",\"2022-04-02T00:00:00\",\"2022-04-03T00:00:00\",\"2022-04-04T00:00:00\",\"2022-04-05T00:00:00\",\"2022-04-06T00:00:00\",\"2022-04-07T00:00:00\",\"2022-04-08T00:00:00\",\"2022-04-09T00:00:00\",\"2022-04-10T00:00:00\",\"2022-04-11T00:00:00\",\"2022-04-12T00:00:00\",\"2022-04-13T00:00:00\",\"2022-04-14T00:00:00\",\"2022-04-15T00:00:00\",\"2022-04-16T00:00:00\",\"2022-04-17T00:00:00\",\"2022-04-18T00:00:00\",\"2022-04-19T00:00:00\",\"2022-04-20T00:00:00\",\"2022-04-21T00:00:00\",\"2022-04-22T00:00:00\",\"2022-04-23T00:00:00\",\"2022-04-24T00:00:00\",\"2022-04-25T00:00:00\",\"2022-04-26T00:00:00\",\"2022-04-27T00:00:00\",\"2022-04-28T00:00:00\",\"2022-04-29T00:00:00\",\"2022-04-30T00:00:00\",\"2022-05-01T00:00:00\",\"2022-05-02T00:00:00\",\"2022-05-03T00:00:00\",\"2022-05-04T00:00:00\",\"2022-05-05T00:00:00\",\"2022-05-06T00:00:00\",\"2022-05-07T00:00:00\",\"2022-05-08T00:00:00\",\"2022-05-09T00:00:00\",\"2022-05-10T00:00:00\",\"2022-05-11T00:00:00\",\"2022-05-12T00:00:00\",\"2022-05-13T00:00:00\",\"2022-05-14T00:00:00\",\"2022-05-15T00:00:00\",\"2022-05-16T00:00:00\",\"2022-05-17T00:00:00\",\"2022-05-18T00:00:00\",\"2022-05-19T00:00:00\",\"2022-05-20T00:00:00\",\"2022-05-21T00:00:00\",\"2022-05-22T00:00:00\",\"2022-05-23T00:00:00\",\"2022-05-24T00:00:00\",\"2022-05-25T00:00:00\",\"2022-05-26T00:00:00\",\"2022-05-27T00:00:00\",\"2022-05-28T00:00:00\",\"2022-05-29T00:00:00\",\"2022-05-30T00:00:00\",\"2022-05-31T00:00:00\",\"2022-06-01T00:00:00\"],\"xaxis\":\"x\",\"y\":[null,0.468044529662931,0.21985151731513208,-0.10973002709122481,0.25099591245922803,-0.5323831477507797,-0.06917984323231507,0.30058096815556423,0.33584762184142747,-0.06811134629685722,0.0789246238844512,-0.08814442302442915,-0.11810314307063163,-0.1779623889725358,-0.06387362726863333,0.14764694535810374,0.19805307077256074,0.3406264741066556,-0.002222754768210433,-0.1273809385879332,-0.02866976582641856,0.2672017600695922,0.2916825286812117,-0.04208551165868302,0.03758994224278189,0.12545211340319895,-0.25205935726211004,0.13483202472971323,0.5344081054299259,-0.06257494582486711,-0.028356772401432306,-0.12687144925012017,0.06461838698822175,0.07020765405886453,-0.10681772338949191,-0.07664094735822569,-0.0783487059085669,0.03782254360288673,-0.11305350186051766,0.042196135289666925,-0.05091026176129976,-0.13213546840587576,-0.06254973289364607,0.15281283558131342,-0.05317529077177008,-0.09363864679957923,-0.08559176633289034,-0.14689821109090462,0.05872781483285627,0.0852853372492437,-0.08647311405064173,0.08419483753551904,0.1437253667950471,0.0634356631806492,0.13376158693331597,0.0882010010264922,-0.03998091930004999,0.08151091636192986,-0.04182267136315687,-0.0955950847019229,0.023878389327377736,0.22271562946138057,-0.043619169124054724,-0.14383179524059486,0.06598791590138875,-0.07159276937238312,-0.1112214434845945,0.05299980935025461,0.013300977235445322,-0.04770733004388772,0.20296767296740903,0.08274022719858709,-0.09195949398222136,-0.003953210162764176,0.035997827360978896,-0.04167267441476008,-0.04999816807419388,-0.10198223496384962,0.004499447033615489,-0.07898677686209965,0.16705211110339757,0.01986500436427341,0.044375782238912365,0.08054728292047031,0.1352863734096117,-0.15276037135256026,0.14660533261141384,0.2444629375092573,0.1039863969646273,-0.06607346787695878,-0.10145487812517517,-0.07445208243695511,0.03510737019180499,-0.2776021116283165,0.12041352558694696,0.051984714860661585,0.0370370308635013,-0.02553491624922022,-0.05157041448129984,-0.13174852673780724,0.030238226856578843,-0.14417489722788734,-0.046754316573052956,0.014879736542506627,0.12300740297104329,0.04023612358509587,-0.13060487959605116,-0.1194551987583532,0.1046296404153857,-0.04931113281930599,-0.14560425397789567,0.21139252209166615,0.06625584159244569,0.023332137222917382,0.006900885959886249,0.016947459180958857,-0.09677137393131396,0.05053549971178972,0.0465292110120612,-0.08036912471061264,0.12817765584264373,-0.1147258410158668,-0.004098498207139367,0.05898115589273378,-0.0597238213421275,0.08347266237275153,-0.05408063886930925,-0.08380173700311877,0.02357476272965875,-0.01113796907958342,-0.06589346622000603,-0.06750815768836738,-0.0047272042381344415,-0.07990153992582283,-0.03013436958405924,-0.10017464445178859,-0.06420995348488323,0.09558771468022309,-0.05654323050464882,0.08202098290024362,0.06138581053471137,-0.07054396479540415,-0.016365580569928317,0.05109662318607078,0.028887827193639692,-0.08668128016102505,-0.039199558984242766,-0.07485721301751969,-0.083308746270916,-0.22770144562947747,-0.15932944668511784,0.10648887118388983,-0.06135975302547214,0.0969892759167521,0.044138815096870676,0.07829191178081496,0.2967806507246784,0.04818637416160554,-0.05410913556493058,0.13022120772981216,0.05855324296794251,-0.1458672640438472,-0.014241947816184375,0.1434593274359821,-0.017965464348864146,-0.03786316610109508,-0.0032939200770421007,-0.02551680389174238,0.03989496368981871,0.010037405888483564,-0.11886589369226574,-0.030371935407495942,-0.04391161151005052,0.027675601144618867,0.12403632481555449,-0.03838586471369243,-0.07430244346148018,-0.023742435929832162,0.0025239164492150135,-0.12934289393147502,-0.026024669756190777,0.0807558113829634,-0.02826486039090159,-0.01144368244042071,0.12031970128895697,-0.033892552279712884,-0.05956462338305524,0.166658980178104,-0.05736642225127564,-0.005194653974138763,-0.05203698867892714,-0.006870395802474949,0.0071325468624543475,-0.03365923752118971,-0.047247057634066336,-0.016374564776967304,0.03745805382641998,-0.035661737626551115,-0.08203825124386788,0.028707889005836096,-0.10316589845397761,0.014347029209328621,-0.006178548736040623,0.08655099242595132,0.09249970924489004,0.017744005113566885,0.02770577136623964,-0.05816910207067638,0.043700818348529014,-0.024083927136485328,-0.002849674434053373,0.024652393177765797,-0.059626184043358066,0.023559744799616533,0.01544805514659342,0.12380830290322598,-0.006564206962754948,0.14484964898777308,-0.05098551923205408,0.043906489958534634,0.007266563722653219,0.08837778322052281,-0.01277296763664204,0.03892513448525037,-0.12533097301447937,0.12128955835932365,-0.07644585764240008,0.06354894805500488,-0.030560137511061347,-0.1427971007285228,0.05389839106905647,0.05752861635118456,-0.05012884725571054,-0.011094050249566001,-0.025337408380921467,-0.03233109958867919,0.029215189711338185,0.09111293806017629,-0.028615779867252167,-0.03960841897290779,-0.04199117349751624,-0.051095157823017434,-0.013297087333649316,0.05207082901866289,-0.07799016323287089,0.01483869029687157,-0.05595721397866782,-0.0850949918208177,-0.09112964333152229,0.041323475312297964,0.0664196988518404,-0.009955079127329514,0.1274886117179106,-0.1349660506897956,-0.05318475297933134,-0.04274579968684422,0.006244472606496965,-0.23392889144283546,-0.03440201733999648,-0.3950300973726343,0.15070349127742455,0.13929069895654167,0.02247761158139583,0.08030364907788656,-0.08843903350270477,0.06259608493914026,-0.14817038787130532,0.007965637004998527,-0.10233479920686595,0.009630733428946936,0.10539762674255715,-0.10331902076671684,0.0244843675238966,-0.05331267079161173,-0.13288163138319775,-0.0815995026837899,0.1032727959207449,0.0658950598277448,0.046354341416915856,-0.058155842073911335],\"yaxis\":\"y\",\"type\":\"scatter\"}],                        {\"template\":{\"data\":{\"barpolar\":[{\"marker\":{\"line\":{\"color\":\"white\",\"width\":0.5},\"pattern\":{\"fillmode\":\"overlay\",\"size\":10,\"solidity\":0.2}},\"type\":\"barpolar\"}],\"bar\":[{\"error_x\":{\"color\":\"#2a3f5f\"},\"error_y\":{\"color\":\"#2a3f5f\"},\"marker\":{\"line\":{\"color\":\"white\",\"width\":0.5},\"pattern\":{\"fillmode\":\"overlay\",\"size\":10,\"solidity\":0.2}},\"type\":\"bar\"}],\"carpet\":[{\"aaxis\":{\"endlinecolor\":\"#2a3f5f\",\"gridcolor\":\"#C8D4E3\",\"linecolor\":\"#C8D4E3\",\"minorgridcolor\":\"#C8D4E3\",\"startlinecolor\":\"#2a3f5f\"},\"baxis\":{\"endlinecolor\":\"#2a3f5f\",\"gridcolor\":\"#C8D4E3\",\"linecolor\":\"#C8D4E3\",\"minorgridcolor\":\"#C8D4E3\",\"startlinecolor\":\"#2a3f5f\"},\"type\":\"carpet\"}],\"choropleth\":[{\"colorbar\":{\"outlinewidth\":0,\"ticks\":\"\"},\"type\":\"choropleth\"}],\"contourcarpet\":[{\"colorbar\":{\"outlinewidth\":0,\"ticks\":\"\"},\"type\":\"contourcarpet\"}],\"contour\":[{\"colorbar\":{\"outlinewidth\":0,\"ticks\":\"\"},\"colorscale\":[[0.0,\"#0d0887\"],[0.1111111111111111,\"#46039f\"],[0.2222222222222222,\"#7201a8\"],[0.3333333333333333,\"#9c179e\"],[0.4444444444444444,\"#bd3786\"],[0.5555555555555556,\"#d8576b\"],[0.6666666666666666,\"#ed7953\"],[0.7777777777777778,\"#fb9f3a\"],[0.8888888888888888,\"#fdca26\"],[1.0,\"#f0f921\"]],\"type\":\"contour\"}],\"heatmapgl\":[{\"colorbar\":{\"outlinewidth\":0,\"ticks\":\"\"},\"colorscale\":[[0.0,\"#0d0887\"],[0.1111111111111111,\"#46039f\"],[0.2222222222222222,\"#7201a8\"],[0.3333333333333333,\"#9c179e\"],[0.4444444444444444,\"#bd3786\"],[0.5555555555555556,\"#d8576b\"],[0.6666666666666666,\"#ed7953\"],[0.7777777777777778,\"#fb9f3a\"],[0.8888888888888888,\"#fdca26\"],[1.0,\"#f0f921\"]],\"type\":\"heatmapgl\"}],\"heatmap\":[{\"colorbar\":{\"outlinewidth\":0,\"ticks\":\"\"},\"colorscale\":[[0.0,\"#0d0887\"],[0.1111111111111111,\"#46039f\"],[0.2222222222222222,\"#7201a8\"],[0.3333333333333333,\"#9c179e\"],[0.4444444444444444,\"#bd3786\"],[0.5555555555555556,\"#d8576b\"],[0.6666666666666666,\"#ed7953\"],[0.7777777777777778,\"#fb9f3a\"],[0.8888888888888888,\"#fdca26\"],[1.0,\"#f0f921\"]],\"type\":\"heatmap\"}],\"histogram2dcontour\":[{\"colorbar\":{\"outlinewidth\":0,\"ticks\":\"\"},\"colorscale\":[[0.0,\"#0d0887\"],[0.1111111111111111,\"#46039f\"],[0.2222222222222222,\"#7201a8\"],[0.3333333333333333,\"#9c179e\"],[0.4444444444444444,\"#bd3786\"],[0.5555555555555556,\"#d8576b\"],[0.6666666666666666,\"#ed7953\"],[0.7777777777777778,\"#fb9f3a\"],[0.8888888888888888,\"#fdca26\"],[1.0,\"#f0f921\"]],\"type\":\"histogram2dcontour\"}],\"histogram2d\":[{\"colorbar\":{\"outlinewidth\":0,\"ticks\":\"\"},\"colorscale\":[[0.0,\"#0d0887\"],[0.1111111111111111,\"#46039f\"],[0.2222222222222222,\"#7201a8\"],[0.3333333333333333,\"#9c179e\"],[0.4444444444444444,\"#bd3786\"],[0.5555555555555556,\"#d8576b\"],[0.6666666666666666,\"#ed7953\"],[0.7777777777777778,\"#fb9f3a\"],[0.8888888888888888,\"#fdca26\"],[1.0,\"#f0f921\"]],\"type\":\"histogram2d\"}],\"histogram\":[{\"marker\":{\"pattern\":{\"fillmode\":\"overlay\",\"size\":10,\"solidity\":0.2}},\"type\":\"histogram\"}],\"mesh3d\":[{\"colorbar\":{\"outlinewidth\":0,\"ticks\":\"\"},\"type\":\"mesh3d\"}],\"parcoords\":[{\"line\":{\"colorbar\":{\"outlinewidth\":0,\"ticks\":\"\"}},\"type\":\"parcoords\"}],\"pie\":[{\"automargin\":true,\"type\":\"pie\"}],\"scatter3d\":[{\"line\":{\"colorbar\":{\"outlinewidth\":0,\"ticks\":\"\"}},\"marker\":{\"colorbar\":{\"outlinewidth\":0,\"ticks\":\"\"}},\"type\":\"scatter3d\"}],\"scattercarpet\":[{\"marker\":{\"colorbar\":{\"outlinewidth\":0,\"ticks\":\"\"}},\"type\":\"scattercarpet\"}],\"scattergeo\":[{\"marker\":{\"colorbar\":{\"outlinewidth\":0,\"ticks\":\"\"}},\"type\":\"scattergeo\"}],\"scattergl\":[{\"marker\":{\"colorbar\":{\"outlinewidth\":0,\"ticks\":\"\"}},\"type\":\"scattergl\"}],\"scattermapbox\":[{\"marker\":{\"colorbar\":{\"outlinewidth\":0,\"ticks\":\"\"}},\"type\":\"scattermapbox\"}],\"scatterpolargl\":[{\"marker\":{\"colorbar\":{\"outlinewidth\":0,\"ticks\":\"\"}},\"type\":\"scatterpolargl\"}],\"scatterpolar\":[{\"marker\":{\"colorbar\":{\"outlinewidth\":0,\"ticks\":\"\"}},\"type\":\"scatterpolar\"}],\"scatter\":[{\"marker\":{\"colorbar\":{\"outlinewidth\":0,\"ticks\":\"\"}},\"type\":\"scatter\"}],\"scatterternary\":[{\"marker\":{\"colorbar\":{\"outlinewidth\":0,\"ticks\":\"\"}},\"type\":\"scatterternary\"}],\"surface\":[{\"colorbar\":{\"outlinewidth\":0,\"ticks\":\"\"},\"colorscale\":[[0.0,\"#0d0887\"],[0.1111111111111111,\"#46039f\"],[0.2222222222222222,\"#7201a8\"],[0.3333333333333333,\"#9c179e\"],[0.4444444444444444,\"#bd3786\"],[0.5555555555555556,\"#d8576b\"],[0.6666666666666666,\"#ed7953\"],[0.7777777777777778,\"#fb9f3a\"],[0.8888888888888888,\"#fdca26\"],[1.0,\"#f0f921\"]],\"type\":\"surface\"}],\"table\":[{\"cells\":{\"fill\":{\"color\":\"#EBF0F8\"},\"line\":{\"color\":\"white\"}},\"header\":{\"fill\":{\"color\":\"#C8D4E3\"},\"line\":{\"color\":\"white\"}},\"type\":\"table\"}]},\"layout\":{\"annotationdefaults\":{\"arrowcolor\":\"#2a3f5f\",\"arrowhead\":0,\"arrowwidth\":1},\"autotypenumbers\":\"strict\",\"coloraxis\":{\"colorbar\":{\"outlinewidth\":0,\"ticks\":\"\"}},\"colorscale\":{\"diverging\":[[0,\"#8e0152\"],[0.1,\"#c51b7d\"],[0.2,\"#de77ae\"],[0.3,\"#f1b6da\"],[0.4,\"#fde0ef\"],[0.5,\"#f7f7f7\"],[0.6,\"#e6f5d0\"],[0.7,\"#b8e186\"],[0.8,\"#7fbc41\"],[0.9,\"#4d9221\"],[1,\"#276419\"]],\"sequential\":[[0.0,\"#0d0887\"],[0.1111111111111111,\"#46039f\"],[0.2222222222222222,\"#7201a8\"],[0.3333333333333333,\"#9c179e\"],[0.4444444444444444,\"#bd3786\"],[0.5555555555555556,\"#d8576b\"],[0.6666666666666666,\"#ed7953\"],[0.7777777777777778,\"#fb9f3a\"],[0.8888888888888888,\"#fdca26\"],[1.0,\"#f0f921\"]],\"sequentialminus\":[[0.0,\"#0d0887\"],[0.1111111111111111,\"#46039f\"],[0.2222222222222222,\"#7201a8\"],[0.3333333333333333,\"#9c179e\"],[0.4444444444444444,\"#bd3786\"],[0.5555555555555556,\"#d8576b\"],[0.6666666666666666,\"#ed7953\"],[0.7777777777777778,\"#fb9f3a\"],[0.8888888888888888,\"#fdca26\"],[1.0,\"#f0f921\"]]},\"colorway\":[\"#636efa\",\"#EF553B\",\"#00cc96\",\"#ab63fa\",\"#FFA15A\",\"#19d3f3\",\"#FF6692\",\"#B6E880\",\"#FF97FF\",\"#FECB52\"],\"font\":{\"color\":\"#2a3f5f\"},\"geo\":{\"bgcolor\":\"white\",\"lakecolor\":\"white\",\"landcolor\":\"white\",\"showlakes\":true,\"showland\":true,\"subunitcolor\":\"#C8D4E3\"},\"hoverlabel\":{\"align\":\"left\"},\"hovermode\":\"closest\",\"mapbox\":{\"style\":\"light\"},\"paper_bgcolor\":\"white\",\"plot_bgcolor\":\"white\",\"polar\":{\"angularaxis\":{\"gridcolor\":\"#EBF0F8\",\"linecolor\":\"#EBF0F8\",\"ticks\":\"\"},\"bgcolor\":\"white\",\"radialaxis\":{\"gridcolor\":\"#EBF0F8\",\"linecolor\":\"#EBF0F8\",\"ticks\":\"\"}},\"scene\":{\"xaxis\":{\"backgroundcolor\":\"white\",\"gridcolor\":\"#DFE8F3\",\"gridwidth\":2,\"linecolor\":\"#EBF0F8\",\"showbackground\":true,\"ticks\":\"\",\"zerolinecolor\":\"#EBF0F8\"},\"yaxis\":{\"backgroundcolor\":\"white\",\"gridcolor\":\"#DFE8F3\",\"gridwidth\":2,\"linecolor\":\"#EBF0F8\",\"showbackground\":true,\"ticks\":\"\",\"zerolinecolor\":\"#EBF0F8\"},\"zaxis\":{\"backgroundcolor\":\"white\",\"gridcolor\":\"#DFE8F3\",\"gridwidth\":2,\"linecolor\":\"#EBF0F8\",\"showbackground\":true,\"ticks\":\"\",\"zerolinecolor\":\"#EBF0F8\"}},\"shapedefaults\":{\"line\":{\"color\":\"#2a3f5f\"}},\"ternary\":{\"aaxis\":{\"gridcolor\":\"#DFE8F3\",\"linecolor\":\"#A2B1C6\",\"ticks\":\"\"},\"baxis\":{\"gridcolor\":\"#DFE8F3\",\"linecolor\":\"#A2B1C6\",\"ticks\":\"\"},\"bgcolor\":\"white\",\"caxis\":{\"gridcolor\":\"#DFE8F3\",\"linecolor\":\"#A2B1C6\",\"ticks\":\"\"}},\"title\":{\"x\":0.05},\"xaxis\":{\"automargin\":true,\"gridcolor\":\"#EBF0F8\",\"linecolor\":\"#EBF0F8\",\"ticks\":\"\",\"title\":{\"standoff\":15},\"zerolinecolor\":\"#EBF0F8\",\"zerolinewidth\":2},\"yaxis\":{\"automargin\":true,\"gridcolor\":\"#EBF0F8\",\"linecolor\":\"#EBF0F8\",\"ticks\":\"\",\"title\":{\"standoff\":15},\"zerolinecolor\":\"#EBF0F8\",\"zerolinewidth\":2}}},\"xaxis\":{\"anchor\":\"y\",\"domain\":[0.0,1.0],\"title\":{\"text\":\"date\"},\"showspikes\":true,\"spikethickness\":2,\"spikedash\":\"dot\",\"spikecolor\":\"#999999\",\"spikemode\":\"across\"},\"yaxis\":{\"anchor\":\"x\",\"domain\":[0.0,1.0],\"title\":{\"text\":\"return, %\"},\"tickformat\":\".2%\"},\"legend\":{\"title\":{\"text\":\"asset\"},\"tracegroupgap\":0},\"margin\":{\"t\":60},\"hovermode\":\"x\",\"title\":{\"text\":\"Assets daily returns\"}},                        {\"responsive\": true}                    ).then(function(){\n",
       "                            \n",
       "var gd = document.getElementById('6ede5f81-30c8-4b20-b983-45ee0f686471');\n",
       "var x = new MutationObserver(function (mutations, observer) {{\n",
       "        var display = window.getComputedStyle(gd).display;\n",
       "        if (!display || display === 'none') {{\n",
       "            console.log([gd, 'removed!']);\n",
       "            Plotly.purge(gd);\n",
       "            observer.disconnect();\n",
       "        }}\n",
       "}});\n",
       "\n",
       "// Listen for the removal of the full notebook cells\n",
       "var notebookContainer = gd.closest('#notebook-container');\n",
       "if (notebookContainer) {{\n",
       "    x.observe(notebookContainer, {childList: true});\n",
       "}}\n",
       "\n",
       "// Listen for the clearing of the current output cell\n",
       "var outputEl = gd.closest('.output');\n",
       "if (outputEl) {{\n",
       "    x.observe(outputEl, {childList: true});\n",
       "}}\n",
       "\n",
       "                        })                };                });            </script>        </div>"
      ]
     },
     "metadata": {},
     "output_type": "display_data"
    }
   ],
   "source": [
    "fig = px.line(prices_data.pct_change(),\n",
    "       labels={'variable': 'asset', 'value': 'return, %'})\n",
    "fig.update_traces(\n",
    "    hovertemplate=\"%{y}\"\n",
    ")\n",
    "fig.update_yaxes(\n",
    "    tickformat=\".2%\",\n",
    ")\n",
    "fig.update_xaxes(\n",
    "    showspikes=True,\n",
    "    spikethickness=2,\n",
    "    spikedash=\"dot\",\n",
    "    spikecolor=\"#999999\",\n",
    "    spikemode=\"across\",\n",
    ")\n",
    "fig.update_layout(\n",
    "    hovermode=\"x\",\n",
    "    template='plotly_white',\n",
    "    title='Assets daily returns'\n",
    ")\n",
    "fig.show()"
   ]
  },
  {
   "cell_type": "markdown",
   "id": "82d89ce5-997b-49d1-84be-6ae7c781e94c",
   "metadata": {},
   "source": [
    "## Weighting "
   ]
  },
  {
   "cell_type": "markdown",
   "id": "feea0f04-caa3-4f30-ac21-58ac69cfc423",
   "metadata": {},
   "source": [
    "**Weighting requirements**\n",
    "* The maximum weight any one token can have is 50%.\n",
    "* All excess weight is proportionally redistributed to all uncapped tokens.\n",
    "* Any asset with a weight below 0.5% will be removed from the index."
   ]
  },
  {
   "cell_type": "markdown",
   "id": "65245cf9-368d-4ac1-8024-3d8f467d4b30",
   "metadata": {},
   "source": [
    "### Iterative proportional adjusting"
   ]
  },
  {
   "cell_type": "code",
   "execution_count": 85,
   "id": "faf78228-d142-4756-ab32-daec733829e4",
   "metadata": {},
   "outputs": [],
   "source": [
    "def adjust_weights(w, b):\n",
    "    assert abs(w.sum() - 1) < 0.01, w.sum()\n",
    "    assert b * w.shape[0] >=1\n",
    "    wa = w.copy()\n",
    "    \n",
    "    while (wa > b).any():\n",
    "        c = (wa[wa>b]-b).sum()\n",
    "        wa[wa > b] = b\n",
    "        w_less = wa[wa < b]\n",
    "        wa[wa < b] += c * (w_less / w_less.sum())\n",
    "    \n",
    "    return wa"
   ]
  },
  {
   "cell_type": "markdown",
   "id": "a915db76-8a37-4ddb-bbff-087f5b19b4a1",
   "metadata": {
    "tags": []
   },
   "source": [
    "### Weight mcaps"
   ]
  },
  {
   "cell_type": "code",
   "execution_count": 86,
   "id": "d6689034-061e-4939-9f5c-35e0ec009b9c",
   "metadata": {},
   "outputs": [],
   "source": [
    "weights = marketcaps.div(marketcaps.sum(axis=1), axis=0)\n",
    "weights = weights.sort_values(weights.last_valid_index(), axis=1, ascending=False)"
   ]
  },
  {
   "cell_type": "code",
   "execution_count": 87,
   "id": "44c5fb5b-9c0c-40b4-aeeb-62107b6bc8a2",
   "metadata": {},
   "outputs": [
    {
     "data": {
      "application/vnd.plotly.v1+json": {
       "config": {
        "plotlyServerURL": "https://plot.ly"
       },
       "data": [
        {
         "hovertemplate": "%{y}",
         "legendgroup": "AVAX",
         "line": {
          "color": "#636efa",
          "dash": "solid"
         },
         "marker": {
          "symbol": "circle"
         },
         "mode": "lines",
         "name": "AVAX",
         "orientation": "v",
         "showlegend": true,
         "type": "scatter",
         "x": [
          "2021-08-26T00:00:00",
          "2021-08-27T00:00:00",
          "2021-08-28T00:00:00",
          "2021-08-29T00:00:00",
          "2021-08-30T00:00:00",
          "2021-08-31T00:00:00",
          "2021-09-01T00:00:00",
          "2021-09-02T00:00:00",
          "2021-09-03T00:00:00",
          "2021-09-04T00:00:00",
          "2021-09-05T00:00:00",
          "2021-09-06T00:00:00",
          "2021-09-07T00:00:00",
          "2021-09-08T00:00:00",
          "2021-09-09T00:00:00",
          "2021-09-10T00:00:00",
          "2021-09-11T00:00:00",
          "2021-09-12T00:00:00",
          "2021-09-13T00:00:00",
          "2021-09-14T00:00:00",
          "2021-09-15T00:00:00",
          "2021-09-16T00:00:00",
          "2021-09-17T00:00:00",
          "2021-09-18T00:00:00",
          "2021-09-19T00:00:00",
          "2021-09-20T00:00:00",
          "2021-09-21T00:00:00",
          "2021-09-22T00:00:00",
          "2021-09-23T00:00:00",
          "2021-09-24T00:00:00",
          "2021-09-25T00:00:00",
          "2021-09-26T00:00:00",
          "2021-09-27T00:00:00",
          "2021-09-28T00:00:00",
          "2021-09-29T00:00:00",
          "2021-09-30T00:00:00",
          "2021-10-01T00:00:00",
          "2021-10-02T00:00:00",
          "2021-10-03T00:00:00",
          "2021-10-04T00:00:00",
          "2021-10-05T00:00:00",
          "2021-10-06T00:00:00",
          "2021-10-07T00:00:00",
          "2021-10-08T00:00:00",
          "2021-10-09T00:00:00",
          "2021-10-10T00:00:00",
          "2021-10-11T00:00:00",
          "2021-10-12T00:00:00",
          "2021-10-13T00:00:00",
          "2021-10-14T00:00:00",
          "2021-10-15T00:00:00",
          "2021-10-16T00:00:00",
          "2021-10-17T00:00:00",
          "2021-10-18T00:00:00",
          "2021-10-19T00:00:00",
          "2021-10-20T00:00:00",
          "2021-10-21T00:00:00",
          "2021-10-22T00:00:00",
          "2021-10-23T00:00:00",
          "2021-10-24T00:00:00",
          "2021-10-25T00:00:00",
          "2021-10-26T00:00:00",
          "2021-10-27T00:00:00",
          "2021-10-28T00:00:00",
          "2021-10-29T00:00:00",
          "2021-10-30T00:00:00",
          "2021-10-31T00:00:00",
          "2021-11-01T00:00:00",
          "2021-11-02T00:00:00",
          "2021-11-03T00:00:00",
          "2021-11-04T00:00:00",
          "2021-11-05T00:00:00",
          "2021-11-06T00:00:00",
          "2021-11-07T00:00:00",
          "2021-11-08T00:00:00",
          "2021-11-09T00:00:00",
          "2021-11-10T00:00:00",
          "2021-11-11T00:00:00",
          "2021-11-12T00:00:00",
          "2021-11-13T00:00:00",
          "2021-11-14T00:00:00",
          "2021-11-15T00:00:00",
          "2021-11-16T00:00:00",
          "2021-11-17T00:00:00",
          "2021-11-18T00:00:00",
          "2021-11-19T00:00:00",
          "2021-11-20T00:00:00",
          "2021-11-21T00:00:00",
          "2021-11-22T00:00:00",
          "2021-11-23T00:00:00",
          "2021-11-24T00:00:00",
          "2021-11-25T00:00:00",
          "2021-11-26T00:00:00",
          "2021-11-27T00:00:00",
          "2021-11-28T00:00:00",
          "2021-11-29T00:00:00",
          "2021-11-30T00:00:00",
          "2021-12-01T00:00:00",
          "2021-12-02T00:00:00",
          "2021-12-03T00:00:00",
          "2021-12-04T00:00:00",
          "2021-12-05T00:00:00",
          "2021-12-06T00:00:00",
          "2021-12-07T00:00:00",
          "2021-12-08T00:00:00",
          "2021-12-09T00:00:00",
          "2021-12-10T00:00:00",
          "2021-12-11T00:00:00",
          "2021-12-12T00:00:00",
          "2021-12-13T00:00:00",
          "2021-12-14T00:00:00",
          "2021-12-15T00:00:00",
          "2021-12-16T00:00:00",
          "2021-12-17T00:00:00",
          "2021-12-18T00:00:00",
          "2021-12-19T00:00:00",
          "2021-12-20T00:00:00",
          "2021-12-21T00:00:00",
          "2021-12-22T00:00:00",
          "2021-12-23T00:00:00",
          "2021-12-24T00:00:00",
          "2021-12-25T00:00:00",
          "2021-12-26T00:00:00",
          "2021-12-27T00:00:00",
          "2021-12-28T00:00:00",
          "2021-12-29T00:00:00",
          "2021-12-30T00:00:00",
          "2021-12-31T00:00:00",
          "2022-01-01T00:00:00",
          "2022-01-02T00:00:00",
          "2022-01-03T00:00:00",
          "2022-01-04T00:00:00",
          "2022-01-05T00:00:00",
          "2022-01-06T00:00:00",
          "2022-01-07T00:00:00",
          "2022-01-08T00:00:00",
          "2022-01-09T00:00:00",
          "2022-01-10T00:00:00",
          "2022-01-11T00:00:00",
          "2022-01-12T00:00:00",
          "2022-01-13T00:00:00",
          "2022-01-14T00:00:00",
          "2022-01-15T00:00:00",
          "2022-01-16T00:00:00",
          "2022-01-17T00:00:00",
          "2022-01-18T00:00:00",
          "2022-01-19T00:00:00",
          "2022-01-20T00:00:00",
          "2022-01-21T00:00:00",
          "2022-01-22T00:00:00",
          "2022-01-23T00:00:00",
          "2022-01-24T00:00:00",
          "2022-01-25T00:00:00",
          "2022-01-26T00:00:00",
          "2022-01-27T00:00:00",
          "2022-01-28T00:00:00",
          "2022-01-29T00:00:00",
          "2022-01-30T00:00:00",
          "2022-01-31T00:00:00",
          "2022-02-01T00:00:00",
          "2022-02-02T00:00:00",
          "2022-02-03T00:00:00",
          "2022-02-04T00:00:00",
          "2022-02-05T00:00:00",
          "2022-02-06T00:00:00",
          "2022-02-07T00:00:00",
          "2022-02-08T00:00:00",
          "2022-02-09T00:00:00",
          "2022-02-10T00:00:00",
          "2022-02-11T00:00:00",
          "2022-02-12T00:00:00",
          "2022-02-13T00:00:00",
          "2022-02-14T00:00:00",
          "2022-02-15T00:00:00",
          "2022-02-16T00:00:00",
          "2022-02-17T00:00:00",
          "2022-02-18T00:00:00",
          "2022-02-19T00:00:00",
          "2022-02-20T00:00:00",
          "2022-02-21T00:00:00",
          "2022-02-22T00:00:00",
          "2022-02-23T00:00:00",
          "2022-02-24T00:00:00",
          "2022-02-25T00:00:00",
          "2022-02-26T00:00:00",
          "2022-02-27T00:00:00",
          "2022-02-28T00:00:00",
          "2022-03-01T00:00:00",
          "2022-03-02T00:00:00",
          "2022-03-03T00:00:00",
          "2022-03-04T00:00:00",
          "2022-03-05T00:00:00",
          "2022-03-06T00:00:00",
          "2022-03-07T00:00:00",
          "2022-03-08T00:00:00",
          "2022-03-09T00:00:00",
          "2022-03-10T00:00:00",
          "2022-03-11T00:00:00",
          "2022-03-12T00:00:00",
          "2022-03-13T00:00:00",
          "2022-03-14T00:00:00",
          "2022-03-15T00:00:00",
          "2022-03-16T00:00:00",
          "2022-03-17T00:00:00",
          "2022-03-18T00:00:00",
          "2022-03-19T00:00:00",
          "2022-03-20T00:00:00",
          "2022-03-21T00:00:00",
          "2022-03-22T00:00:00",
          "2022-03-23T00:00:00",
          "2022-03-24T00:00:00",
          "2022-03-25T00:00:00",
          "2022-03-26T00:00:00",
          "2022-03-27T00:00:00",
          "2022-03-28T00:00:00",
          "2022-03-29T00:00:00",
          "2022-03-30T00:00:00",
          "2022-03-31T00:00:00",
          "2022-04-01T00:00:00",
          "2022-04-02T00:00:00",
          "2022-04-03T00:00:00",
          "2022-04-04T00:00:00",
          "2022-04-05T00:00:00",
          "2022-04-06T00:00:00",
          "2022-04-07T00:00:00",
          "2022-04-08T00:00:00",
          "2022-04-09T00:00:00",
          "2022-04-10T00:00:00",
          "2022-04-11T00:00:00",
          "2022-04-12T00:00:00",
          "2022-04-13T00:00:00",
          "2022-04-14T00:00:00",
          "2022-04-15T00:00:00",
          "2022-04-16T00:00:00",
          "2022-04-17T00:00:00",
          "2022-04-18T00:00:00",
          "2022-04-19T00:00:00",
          "2022-04-20T00:00:00",
          "2022-04-21T00:00:00",
          "2022-04-22T00:00:00",
          "2022-04-23T00:00:00",
          "2022-04-24T00:00:00",
          "2022-04-25T00:00:00",
          "2022-04-26T00:00:00",
          "2022-04-27T00:00:00",
          "2022-04-28T00:00:00",
          "2022-04-29T00:00:00",
          "2022-04-30T00:00:00",
          "2022-05-01T00:00:00",
          "2022-05-02T00:00:00",
          "2022-05-03T00:00:00",
          "2022-05-04T00:00:00",
          "2022-05-05T00:00:00",
          "2022-05-06T00:00:00",
          "2022-05-07T00:00:00",
          "2022-05-08T00:00:00",
          "2022-05-09T00:00:00",
          "2022-05-10T00:00:00",
          "2022-05-11T00:00:00",
          "2022-05-12T00:00:00",
          "2022-05-13T00:00:00",
          "2022-05-14T00:00:00",
          "2022-05-15T00:00:00",
          "2022-05-16T00:00:00",
          "2022-05-17T00:00:00",
          "2022-05-18T00:00:00",
          "2022-05-19T00:00:00",
          "2022-05-20T00:00:00",
          "2022-05-21T00:00:00",
          "2022-05-22T00:00:00",
          "2022-05-23T00:00:00",
          "2022-05-24T00:00:00",
          "2022-05-25T00:00:00",
          "2022-05-26T00:00:00",
          "2022-05-27T00:00:00",
          "2022-05-28T00:00:00",
          "2022-05-29T00:00:00",
          "2022-05-30T00:00:00",
          "2022-05-31T00:00:00",
          "2022-06-01T00:00:00"
         ],
         "xaxis": "x",
         "y": [
          0.990139292643459,
          0.9833129883064218,
          0.9835132702863664,
          0.9847094360373788,
          0.9796866045883926,
          0.9886756952592236,
          0.9890608040149261,
          0.9867735069844994,
          0.9837861243137663,
          0.9843483429008709,
          0.9834331296229677,
          0.9878515886751106,
          0.9890067348915202,
          0.9887056536372991,
          0.9888062465235662,
          0.9885034486085646,
          0.9882369280601351,
          0.9867903694568205,
          0.9870145629124938,
          0.9872246189682113,
          0.987046328816814,
          0.9849694667208422,
          0.9835100836324705,
          0.9846424185515984,
          0.9837134641545802,
          0.981939360677761,
          0.983088595648428,
          0.9810217051781623,
          0.9771019781156157,
          0.97883042137147,
          0.9787231042246681,
          0.9799120791358659,
          0.9779269832416942,
          0.9760614488814167,
          0.9763968101014956,
          0.9792897152607477,
          0.9812077526199855,
          0.9805855341595242,
          0.9830855459158001,
          0.9821224528478423,
          0.9819248180726419,
          0.9841229369890857,
          0.9838740117035053,
          0.9815389168633526,
          0.9822908714737765,
          0.9838908610175738,
          0.9840476459430038,
          0.9859244102939961,
          0.984814562097494,
          0.9838416961132277,
          0.9852901648368871,
          0.9840767795208042,
          0.9821632301470795,
          0.9803799910965807,
          0.977285795743682,
          0.976057094148663,
          0.9778091031410645,
          0.9764825414571957,
          0.9788209714739462,
          0.9807744678806347,
          0.9798668513103214,
          0.9774480794395277,
          0.9777447500828834,
          0.9786063757427169,
          0.9780387325656861,
          0.9795571148139653,
          0.9809268799079248,
          0.9806390337031489,
          0.9801995050394959,
          0.9823410149589241,
          0.9803073623386312,
          0.9797414496702429,
          0.9803389500317152,
          0.9812600126794339,
          0.9825623687051316,
          0.9841749289156146,
          0.984223453744174,
          0.9852065055535758,
          0.9854528988201129,
          0.9860904148801978,
          0.9858535256641435,
          0.9852497516792897,
          0.984267719106001,
          0.9838216783622117,
          0.9832231289087747,
          0.9840870228545822,
          0.9837274332975827,
          0.9822957571495365,
          0.9810861663540896,
          0.9830129356781372,
          0.9833902156724936,
          0.9835111030588387,
          0.9829556736781137,
          0.9859632114623553,
          0.9851985002476193,
          0.9843754574404978,
          0.9844904097523695,
          0.9850495686538392,
          0.9854893654487977,
          0.9860864874783648,
          0.9855261963509365,
          0.9865601982560229,
          0.986150208542532,
          0.9869851206453494,
          0.9848051003938404,
          0.9846830313236162,
          0.9855811298818387,
          0.9868030677290676,
          0.9858320151520036,
          0.9862674793635573,
          0.9868662145946325,
          0.9857127348464719,
          0.9866705568282362,
          0.9861789799983808,
          0.987510660657388,
          0.9877307829444566,
          0.9880438206426099,
          0.9881952531545444,
          0.9884978292058106,
          0.988517265201044,
          0.9878285146960006,
          0.9884997300688161,
          0.9885751684813106,
          0.9878667650328014,
          0.9884380874097797,
          0.9868302093244822,
          0.9869246844961895,
          0.9877105006195593,
          0.9863074955966122,
          0.9869515713057613,
          0.9895068196606848,
          0.9895722800562337,
          0.9886955668900064,
          0.989041670881651,
          0.9890343272596499,
          0.9889821669016776,
          0.9899613501397723,
          0.9895697257958849,
          0.9896462338491483,
          0.9894502754071168,
          0.9894624075584151,
          0.9895490033765536,
          0.9897384182015678,
          0.9895653880477175,
          0.9890984868028757,
          0.989370574819889,
          0.9896277923570759,
          0.9901080383727482,
          0.990470900105921,
          0.9910842117253249,
          0.9916979667780336,
          0.9915355713911395,
          0.9918272041357461,
          0.991651617701128,
          0.9910916784532694,
          0.9900594788006757,
          0.9875077995148867,
          0.9878409362656675,
          0.9877851595180067,
          0.9866261584381849,
          0.9864153168332899,
          0.9873803756056355,
          0.9875177045413663,
          0.9874731970941164,
          0.987610318296064,
          0.9882056295461343,
          0.9889397230582897,
          0.9895348924873743,
          0.9895464546284535,
          0.9895031579891637,
          0.9896817060250812,
          0.9898869140627558,
          0.9899839741157381,
          0.9900751642379987,
          0.9902109861398194,
          0.9908023543277421,
          0.990739808067416,
          0.9904974954000215,
          0.9905902877451537,
          0.9909304802069486,
          0.9902351845232795,
          0.9901729734720397,
          0.9902646445782143,
          0.9906317225113295,
          0.99003010126538,
          0.9904678582959202,
          0.9901319481680526,
          0.9897968471559991,
          0.9906943918345854,
          0.9902572224110615,
          0.9902474292566968,
          0.990555659436929,
          0.9906209380465595,
          0.9904262338433817,
          0.9907222371245924,
          0.9910066210229549,
          0.9912188010393493,
          0.9910784269555079,
          0.9915099563008964,
          0.9911847257850733,
          0.9917680459510366,
          0.9916859773543106,
          0.9918981723319378,
          0.9917210063969574,
          0.9915313677348279,
          0.9919665134283404,
          0.9920943842142785,
          0.9921084861262194,
          0.9918709212873136,
          0.9917893974189853,
          0.9918718359479125,
          0.9917538358801202,
          0.9917801408658068,
          0.9918102205293021,
          0.9919380420227768,
          0.9910674929229671,
          0.9912663412444706,
          0.9901927635286082,
          0.9902269655735438,
          0.989931543505021,
          0.9897877266482243,
          0.9890576520816817,
          0.9888993844898353,
          0.9879218770387568,
          0.9884660653411496,
          0.9877119560954856,
          0.9879672894954026,
          0.9873891711503153,
          0.9874548535845739,
          0.9880436389226386,
          0.9876703078405241,
          0.9874943175451099,
          0.9875674304227431,
          0.987793162454742,
          0.9881522061612601,
          0.9881136812010161,
          0.9881265627011288,
          0.9874397070979726,
          0.9874513806930374,
          0.9874173165124387,
          0.9877323144880494,
          0.9882346431349744,
          0.9881597474014199,
          0.9877187282589939,
          0.9879542407283416,
          0.9879262142727037,
          0.988146837451204,
          0.9885232719021584,
          0.9883607042873083,
          0.9882742505947875,
          0.9877799316918747,
          0.9877253298449419,
          0.9876612898909615,
          0.9878800406496934,
          0.9880951583243969,
          0.9882535386259933,
          0.9872506670075792,
          0.9880534020507578,
          0.9889714661344858,
          0.9909331256763414,
          0.9888837741326458,
          0.987798683986429,
          0.9883104445312305,
          0.9881550447501314,
          0.9878523891524212,
          0.987698499711206,
          0.9878559270348036,
          0.9861549766973086,
          0.9868951781359518,
          0.9871916458844195,
          0.9866803292239108,
          0.9869053060707184,
          0.9865956303067291,
          0.9865031929419824,
          0.9862495150147018,
          0.9868614229965139,
          0.9869868965651312,
          0.9867277548883637,
          0.9869051070600277,
          0.9871351840075923
         ],
         "yaxis": "y"
        },
        {
         "hovertemplate": "%{y}",
         "legendgroup": "JOE",
         "line": {
          "color": "#EF553B",
          "dash": "solid"
         },
         "marker": {
          "symbol": "circle"
         },
         "mode": "lines",
         "name": "JOE",
         "orientation": "v",
         "showlegend": true,
         "type": "scatter",
         "x": [
          "2021-08-26T00:00:00",
          "2021-08-27T00:00:00",
          "2021-08-28T00:00:00",
          "2021-08-29T00:00:00",
          "2021-08-30T00:00:00",
          "2021-08-31T00:00:00",
          "2021-09-01T00:00:00",
          "2021-09-02T00:00:00",
          "2021-09-03T00:00:00",
          "2021-09-04T00:00:00",
          "2021-09-05T00:00:00",
          "2021-09-06T00:00:00",
          "2021-09-07T00:00:00",
          "2021-09-08T00:00:00",
          "2021-09-09T00:00:00",
          "2021-09-10T00:00:00",
          "2021-09-11T00:00:00",
          "2021-09-12T00:00:00",
          "2021-09-13T00:00:00",
          "2021-09-14T00:00:00",
          "2021-09-15T00:00:00",
          "2021-09-16T00:00:00",
          "2021-09-17T00:00:00",
          "2021-09-18T00:00:00",
          "2021-09-19T00:00:00",
          "2021-09-20T00:00:00",
          "2021-09-21T00:00:00",
          "2021-09-22T00:00:00",
          "2021-09-23T00:00:00",
          "2021-09-24T00:00:00",
          "2021-09-25T00:00:00",
          "2021-09-26T00:00:00",
          "2021-09-27T00:00:00",
          "2021-09-28T00:00:00",
          "2021-09-29T00:00:00",
          "2021-09-30T00:00:00",
          "2021-10-01T00:00:00",
          "2021-10-02T00:00:00",
          "2021-10-03T00:00:00",
          "2021-10-04T00:00:00",
          "2021-10-05T00:00:00",
          "2021-10-06T00:00:00",
          "2021-10-07T00:00:00",
          "2021-10-08T00:00:00",
          "2021-10-09T00:00:00",
          "2021-10-10T00:00:00",
          "2021-10-11T00:00:00",
          "2021-10-12T00:00:00",
          "2021-10-13T00:00:00",
          "2021-10-14T00:00:00",
          "2021-10-15T00:00:00",
          "2021-10-16T00:00:00",
          "2021-10-17T00:00:00",
          "2021-10-18T00:00:00",
          "2021-10-19T00:00:00",
          "2021-10-20T00:00:00",
          "2021-10-21T00:00:00",
          "2021-10-22T00:00:00",
          "2021-10-23T00:00:00",
          "2021-10-24T00:00:00",
          "2021-10-25T00:00:00",
          "2021-10-26T00:00:00",
          "2021-10-27T00:00:00",
          "2021-10-28T00:00:00",
          "2021-10-29T00:00:00",
          "2021-10-30T00:00:00",
          "2021-10-31T00:00:00",
          "2021-11-01T00:00:00",
          "2021-11-02T00:00:00",
          "2021-11-03T00:00:00",
          "2021-11-04T00:00:00",
          "2021-11-05T00:00:00",
          "2021-11-06T00:00:00",
          "2021-11-07T00:00:00",
          "2021-11-08T00:00:00",
          "2021-11-09T00:00:00",
          "2021-11-10T00:00:00",
          "2021-11-11T00:00:00",
          "2021-11-12T00:00:00",
          "2021-11-13T00:00:00",
          "2021-11-14T00:00:00",
          "2021-11-15T00:00:00",
          "2021-11-16T00:00:00",
          "2021-11-17T00:00:00",
          "2021-11-18T00:00:00",
          "2021-11-19T00:00:00",
          "2021-11-20T00:00:00",
          "2021-11-21T00:00:00",
          "2021-11-22T00:00:00",
          "2021-11-23T00:00:00",
          "2021-11-24T00:00:00",
          "2021-11-25T00:00:00",
          "2021-11-26T00:00:00",
          "2021-11-27T00:00:00",
          "2021-11-28T00:00:00",
          "2021-11-29T00:00:00",
          "2021-11-30T00:00:00",
          "2021-12-01T00:00:00",
          "2021-12-02T00:00:00",
          "2021-12-03T00:00:00",
          "2021-12-04T00:00:00",
          "2021-12-05T00:00:00",
          "2021-12-06T00:00:00",
          "2021-12-07T00:00:00",
          "2021-12-08T00:00:00",
          "2021-12-09T00:00:00",
          "2021-12-10T00:00:00",
          "2021-12-11T00:00:00",
          "2021-12-12T00:00:00",
          "2021-12-13T00:00:00",
          "2021-12-14T00:00:00",
          "2021-12-15T00:00:00",
          "2021-12-16T00:00:00",
          "2021-12-17T00:00:00",
          "2021-12-18T00:00:00",
          "2021-12-19T00:00:00",
          "2021-12-20T00:00:00",
          "2021-12-21T00:00:00",
          "2021-12-22T00:00:00",
          "2021-12-23T00:00:00",
          "2021-12-24T00:00:00",
          "2021-12-25T00:00:00",
          "2021-12-26T00:00:00",
          "2021-12-27T00:00:00",
          "2021-12-28T00:00:00",
          "2021-12-29T00:00:00",
          "2021-12-30T00:00:00",
          "2021-12-31T00:00:00",
          "2022-01-01T00:00:00",
          "2022-01-02T00:00:00",
          "2022-01-03T00:00:00",
          "2022-01-04T00:00:00",
          "2022-01-05T00:00:00",
          "2022-01-06T00:00:00",
          "2022-01-07T00:00:00",
          "2022-01-08T00:00:00",
          "2022-01-09T00:00:00",
          "2022-01-10T00:00:00",
          "2022-01-11T00:00:00",
          "2022-01-12T00:00:00",
          "2022-01-13T00:00:00",
          "2022-01-14T00:00:00",
          "2022-01-15T00:00:00",
          "2022-01-16T00:00:00",
          "2022-01-17T00:00:00",
          "2022-01-18T00:00:00",
          "2022-01-19T00:00:00",
          "2022-01-20T00:00:00",
          "2022-01-21T00:00:00",
          "2022-01-22T00:00:00",
          "2022-01-23T00:00:00",
          "2022-01-24T00:00:00",
          "2022-01-25T00:00:00",
          "2022-01-26T00:00:00",
          "2022-01-27T00:00:00",
          "2022-01-28T00:00:00",
          "2022-01-29T00:00:00",
          "2022-01-30T00:00:00",
          "2022-01-31T00:00:00",
          "2022-02-01T00:00:00",
          "2022-02-02T00:00:00",
          "2022-02-03T00:00:00",
          "2022-02-04T00:00:00",
          "2022-02-05T00:00:00",
          "2022-02-06T00:00:00",
          "2022-02-07T00:00:00",
          "2022-02-08T00:00:00",
          "2022-02-09T00:00:00",
          "2022-02-10T00:00:00",
          "2022-02-11T00:00:00",
          "2022-02-12T00:00:00",
          "2022-02-13T00:00:00",
          "2022-02-14T00:00:00",
          "2022-02-15T00:00:00",
          "2022-02-16T00:00:00",
          "2022-02-17T00:00:00",
          "2022-02-18T00:00:00",
          "2022-02-19T00:00:00",
          "2022-02-20T00:00:00",
          "2022-02-21T00:00:00",
          "2022-02-22T00:00:00",
          "2022-02-23T00:00:00",
          "2022-02-24T00:00:00",
          "2022-02-25T00:00:00",
          "2022-02-26T00:00:00",
          "2022-02-27T00:00:00",
          "2022-02-28T00:00:00",
          "2022-03-01T00:00:00",
          "2022-03-02T00:00:00",
          "2022-03-03T00:00:00",
          "2022-03-04T00:00:00",
          "2022-03-05T00:00:00",
          "2022-03-06T00:00:00",
          "2022-03-07T00:00:00",
          "2022-03-08T00:00:00",
          "2022-03-09T00:00:00",
          "2022-03-10T00:00:00",
          "2022-03-11T00:00:00",
          "2022-03-12T00:00:00",
          "2022-03-13T00:00:00",
          "2022-03-14T00:00:00",
          "2022-03-15T00:00:00",
          "2022-03-16T00:00:00",
          "2022-03-17T00:00:00",
          "2022-03-18T00:00:00",
          "2022-03-19T00:00:00",
          "2022-03-20T00:00:00",
          "2022-03-21T00:00:00",
          "2022-03-22T00:00:00",
          "2022-03-23T00:00:00",
          "2022-03-24T00:00:00",
          "2022-03-25T00:00:00",
          "2022-03-26T00:00:00",
          "2022-03-27T00:00:00",
          "2022-03-28T00:00:00",
          "2022-03-29T00:00:00",
          "2022-03-30T00:00:00",
          "2022-03-31T00:00:00",
          "2022-04-01T00:00:00",
          "2022-04-02T00:00:00",
          "2022-04-03T00:00:00",
          "2022-04-04T00:00:00",
          "2022-04-05T00:00:00",
          "2022-04-06T00:00:00",
          "2022-04-07T00:00:00",
          "2022-04-08T00:00:00",
          "2022-04-09T00:00:00",
          "2022-04-10T00:00:00",
          "2022-04-11T00:00:00",
          "2022-04-12T00:00:00",
          "2022-04-13T00:00:00",
          "2022-04-14T00:00:00",
          "2022-04-15T00:00:00",
          "2022-04-16T00:00:00",
          "2022-04-17T00:00:00",
          "2022-04-18T00:00:00",
          "2022-04-19T00:00:00",
          "2022-04-20T00:00:00",
          "2022-04-21T00:00:00",
          "2022-04-22T00:00:00",
          "2022-04-23T00:00:00",
          "2022-04-24T00:00:00",
          "2022-04-25T00:00:00",
          "2022-04-26T00:00:00",
          "2022-04-27T00:00:00",
          "2022-04-28T00:00:00",
          "2022-04-29T00:00:00",
          "2022-04-30T00:00:00",
          "2022-05-01T00:00:00",
          "2022-05-02T00:00:00",
          "2022-05-03T00:00:00",
          "2022-05-04T00:00:00",
          "2022-05-05T00:00:00",
          "2022-05-06T00:00:00",
          "2022-05-07T00:00:00",
          "2022-05-08T00:00:00",
          "2022-05-09T00:00:00",
          "2022-05-10T00:00:00",
          "2022-05-11T00:00:00",
          "2022-05-12T00:00:00",
          "2022-05-13T00:00:00",
          "2022-05-14T00:00:00",
          "2022-05-15T00:00:00",
          "2022-05-16T00:00:00",
          "2022-05-17T00:00:00",
          "2022-05-18T00:00:00",
          "2022-05-19T00:00:00",
          "2022-05-20T00:00:00",
          "2022-05-21T00:00:00",
          "2022-05-22T00:00:00",
          "2022-05-23T00:00:00",
          "2022-05-24T00:00:00",
          "2022-05-25T00:00:00",
          "2022-05-26T00:00:00",
          "2022-05-27T00:00:00",
          "2022-05-28T00:00:00",
          "2022-05-29T00:00:00",
          "2022-05-30T00:00:00",
          "2022-05-31T00:00:00",
          "2022-06-01T00:00:00"
         ],
         "xaxis": "x",
         "y": [
          0.009860707356540968,
          0.016687011693578262,
          0.016486729713633623,
          0.015290563962621084,
          0.02031339541160737,
          0.011324304740776486,
          0.010939195985073853,
          0.013226493015500666,
          0.01621387568623367,
          0.015651657099129114,
          0.016566870377032344,
          0.012148411324889434,
          0.010993265108479856,
          0.01129434636270083,
          0.011193753476433817,
          0.011496551391435345,
          0.011763071939864889,
          0.013209630543179389,
          0.012985437087506267,
          0.012775381031788652,
          0.01295367118318601,
          0.015030533279157798,
          0.016489916367529535,
          0.015357581448401634,
          0.016286535845419857,
          0.01806063932223896,
          0.016911404351571926,
          0.01897829482183774,
          0.022898021884384365,
          0.021169578628530104,
          0.021276895775331824,
          0.02008792086413416,
          0.022073016758305728,
          0.023938551118583323,
          0.023603189898504337,
          0.02071028473925231,
          0.018792247380014546,
          0.01941446584047581,
          0.01691445408419989,
          0.017877547152157777,
          0.018075181927358165,
          0.01587706301091426,
          0.016125988296494618,
          0.018461083136647412,
          0.017709128526223528,
          0.01610913898242608,
          0.01595235405699625,
          0.014075589706003838,
          0.015185437902505972,
          0.016158303886772255,
          0.014709835163112963,
          0.015923220479195872,
          0.017836769852920417,
          0.019620008903419243,
          0.022714204256318045,
          0.023942905851336908,
          0.02219089685893549,
          0.023517458542804296,
          0.021179028526053748,
          0.019225532119365327,
          0.020133148689678606,
          0.0225519205604723,
          0.022255249917116526,
          0.021393624257283084,
          0.021961267434314008,
          0.0204428851860346,
          0.019073120092075155,
          0.019360966296851124,
          0.01980049496050407,
          0.01765898504107588,
          0.01969263766136872,
          0.02025855032975719,
          0.019661049968284754,
          0.01873998732056621,
          0.01743763129486832,
          0.015825071084385255,
          0.015776546255825957,
          0.01479349444642409,
          0.014547101179887008,
          0.013909585119802111,
          0.014146474335856486,
          0.014750248320710365,
          0.015732280893998946,
          0.016178321637788314,
          0.016776871091225377,
          0.01591297714541779,
          0.016272566702417314,
          0.017704242850463417,
          0.018913833645910344,
          0.016987064321862783,
          0.016609784327506375,
          0.016488896941161277,
          0.017044326321886332,
          0.014036788537644698,
          0.014801499752380636,
          0.0156245425595022,
          0.01550959024763059,
          0.014950431346160788,
          0.014510634551202257,
          0.01391351252163512,
          0.014473803649063387,
          0.013439801743977029,
          0.01384979145746792,
          0.013014879354650576,
          0.015194899606159482,
          0.015316968676383786,
          0.014418870118161368,
          0.013196932270932375,
          0.014167984847996435,
          0.013732520636442608,
          0.013133785405367512,
          0.014287265153528126,
          0.013329443171763699,
          0.013821020001619232,
          0.01248933934261196,
          0.012269217055543409,
          0.011956179357390097,
          0.011804746845455688,
          0.011502170794189349,
          0.011482734798955996,
          0.012171485303999356,
          0.011500269931183903,
          0.011424831518689414,
          0.012133234967198642,
          0.011561912590220255,
          0.013169790675517845,
          0.013075315503810457,
          0.012289499380440742,
          0.013692504403387812,
          0.013048428694238681,
          0.010493180339315218,
          0.01042771994376636,
          0.011304433109993574,
          0.010958329118349033,
          0.010965672740350077,
          0.011017833098322473,
          0.010038649860227667,
          0.010430274204115159,
          0.010353766150851705,
          0.010549724592883078,
          0.010537592441584868,
          0.01045099662344641,
          0.010261581798432153,
          0.010434611952282458,
          0.01090151319712424,
          0.010629425180111047,
          0.010372207642924148,
          0.009891961627251788,
          0.009529099894079057,
          0.008915788274675067,
          0.008302033221966465,
          0.008464428608860496,
          0.008172795864253879,
          0.008348382298871975,
          0.008908321546730684,
          0.009940521199324355,
          0.01249220048511333,
          0.012159063734332426,
          0.01221484048199323,
          0.013373841561815073,
          0.01358468316671023,
          0.012619624394364558,
          0.012482295458633642,
          0.012526802905883476,
          0.01238968170393593,
          0.011794370453865641,
          0.01106027694171034,
          0.010465107512625704,
          0.010453545371546497,
          0.010496842010836328,
          0.010318293974918683,
          0.01011308593724413,
          0.010016025884261925,
          0.009924835762001386,
          0.009789013860180685,
          0.009197645672257898,
          0.00926019193258403,
          0.009502504599978461,
          0.009409712254846252,
          0.009069519793051447,
          0.009764815476720501,
          0.009827026527960327,
          0.009735355421785776,
          0.009368277488670486,
          0.009969898734619863,
          0.009532141704079854,
          0.00986805183194736,
          0.010203152844000907,
          0.009305608165414704,
          0.009742777588938569,
          0.00975257074330315,
          0.009444340563071025,
          0.009379061953440465,
          0.009573766156618278,
          0.009277762875407564,
          0.008993378977045195,
          0.008781198960650698,
          0.00892157304449222,
          0.008490043699103503,
          0.008815274214926663,
          0.008231954048963337,
          0.008314022645689359,
          0.008101827668062219,
          0.008278993603042777,
          0.00846863226517221,
          0.008033486571659573,
          0.007905615785721496,
          0.007891513873780632,
          0.008129078712686439,
          0.008210602581014786,
          0.00812816405208756,
          0.008246164119879794,
          0.008219859134193258,
          0.008189779470697843,
          0.008061957977223231,
          0.008932507077032917,
          0.008733658755529403,
          0.009807236471391744,
          0.009773034426456117,
          0.01006845649497906,
          0.010212273351775686,
          0.01094234791831833,
          0.011100615510164795,
          0.012078122961243127,
          0.011533934658850406,
          0.012288043904514412,
          0.01203271050459747,
          0.012610828849684706,
          0.012545146415426214,
          0.011956361077361385,
          0.012329692159475924,
          0.012505682454890065,
          0.012432569577256854,
          0.012206837545258021,
          0.011847793838739856,
          0.011886318798983964,
          0.011873437298871236,
          0.012560292902027361,
          0.012548619306962572,
          0.012582683487561305,
          0.012267685511950583,
          0.011765356865025545,
          0.011840252598580256,
          0.012281271741006156,
          0.012045759271658468,
          0.012073785727296385,
          0.011853162548795912,
          0.011476728097841601,
          0.011639295712691731,
          0.011725749405212491,
          0.012220068308125292,
          0.012274670155058167,
          0.012338710109038515,
          0.012119959350306646,
          0.01190484167560312,
          0.011746461374006706,
          0.012749332992420712,
          0.011946597949242148,
          0.01102853386551421,
          0.009066874323658596,
          0.0111162258673542,
          0.012201316013570846,
          0.011689555468769531,
          0.011844955249868542,
          0.012147610847578798,
          0.012301500288793999,
          0.012144072965196416,
          0.013845023302691446,
          0.01310482186404815,
          0.01280835411558045,
          0.013319670776089329,
          0.013094693929281705,
          0.013404369693270825,
          0.013496807058017493,
          0.013750484985298078,
          0.013138577003486163,
          0.013013103434868811,
          0.013272245111636301,
          0.013094892939972328,
          0.01286481599240782
         ],
         "yaxis": "y"
        }
       ],
       "layout": {
        "autosize": true,
        "hoverdistance": 100,
        "hovermode": "x",
        "legend": {
         "title": {
          "text": ""
         },
         "tracegroupgap": 0
        },
        "margin": {
         "t": 60
        },
        "spikedistance": 1000,
        "template": {
         "data": {
          "bar": [
           {
            "error_x": {
             "color": "#2a3f5f"
            },
            "error_y": {
             "color": "#2a3f5f"
            },
            "marker": {
             "line": {
              "color": "white",
              "width": 0.5
             },
             "pattern": {
              "fillmode": "overlay",
              "size": 10,
              "solidity": 0.2
             }
            },
            "type": "bar"
           }
          ],
          "barpolar": [
           {
            "marker": {
             "line": {
              "color": "white",
              "width": 0.5
             },
             "pattern": {
              "fillmode": "overlay",
              "size": 10,
              "solidity": 0.2
             }
            },
            "type": "barpolar"
           }
          ],
          "carpet": [
           {
            "aaxis": {
             "endlinecolor": "#2a3f5f",
             "gridcolor": "#C8D4E3",
             "linecolor": "#C8D4E3",
             "minorgridcolor": "#C8D4E3",
             "startlinecolor": "#2a3f5f"
            },
            "baxis": {
             "endlinecolor": "#2a3f5f",
             "gridcolor": "#C8D4E3",
             "linecolor": "#C8D4E3",
             "minorgridcolor": "#C8D4E3",
             "startlinecolor": "#2a3f5f"
            },
            "type": "carpet"
           }
          ],
          "choropleth": [
           {
            "colorbar": {
             "outlinewidth": 0,
             "ticks": ""
            },
            "type": "choropleth"
           }
          ],
          "contour": [
           {
            "colorbar": {
             "outlinewidth": 0,
             "ticks": ""
            },
            "colorscale": [
             [
              0,
              "#0d0887"
             ],
             [
              0.1111111111111111,
              "#46039f"
             ],
             [
              0.2222222222222222,
              "#7201a8"
             ],
             [
              0.3333333333333333,
              "#9c179e"
             ],
             [
              0.4444444444444444,
              "#bd3786"
             ],
             [
              0.5555555555555556,
              "#d8576b"
             ],
             [
              0.6666666666666666,
              "#ed7953"
             ],
             [
              0.7777777777777778,
              "#fb9f3a"
             ],
             [
              0.8888888888888888,
              "#fdca26"
             ],
             [
              1,
              "#f0f921"
             ]
            ],
            "type": "contour"
           }
          ],
          "contourcarpet": [
           {
            "colorbar": {
             "outlinewidth": 0,
             "ticks": ""
            },
            "type": "contourcarpet"
           }
          ],
          "heatmap": [
           {
            "colorbar": {
             "outlinewidth": 0,
             "ticks": ""
            },
            "colorscale": [
             [
              0,
              "#0d0887"
             ],
             [
              0.1111111111111111,
              "#46039f"
             ],
             [
              0.2222222222222222,
              "#7201a8"
             ],
             [
              0.3333333333333333,
              "#9c179e"
             ],
             [
              0.4444444444444444,
              "#bd3786"
             ],
             [
              0.5555555555555556,
              "#d8576b"
             ],
             [
              0.6666666666666666,
              "#ed7953"
             ],
             [
              0.7777777777777778,
              "#fb9f3a"
             ],
             [
              0.8888888888888888,
              "#fdca26"
             ],
             [
              1,
              "#f0f921"
             ]
            ],
            "type": "heatmap"
           }
          ],
          "heatmapgl": [
           {
            "colorbar": {
             "outlinewidth": 0,
             "ticks": ""
            },
            "colorscale": [
             [
              0,
              "#0d0887"
             ],
             [
              0.1111111111111111,
              "#46039f"
             ],
             [
              0.2222222222222222,
              "#7201a8"
             ],
             [
              0.3333333333333333,
              "#9c179e"
             ],
             [
              0.4444444444444444,
              "#bd3786"
             ],
             [
              0.5555555555555556,
              "#d8576b"
             ],
             [
              0.6666666666666666,
              "#ed7953"
             ],
             [
              0.7777777777777778,
              "#fb9f3a"
             ],
             [
              0.8888888888888888,
              "#fdca26"
             ],
             [
              1,
              "#f0f921"
             ]
            ],
            "type": "heatmapgl"
           }
          ],
          "histogram": [
           {
            "marker": {
             "pattern": {
              "fillmode": "overlay",
              "size": 10,
              "solidity": 0.2
             }
            },
            "type": "histogram"
           }
          ],
          "histogram2d": [
           {
            "colorbar": {
             "outlinewidth": 0,
             "ticks": ""
            },
            "colorscale": [
             [
              0,
              "#0d0887"
             ],
             [
              0.1111111111111111,
              "#46039f"
             ],
             [
              0.2222222222222222,
              "#7201a8"
             ],
             [
              0.3333333333333333,
              "#9c179e"
             ],
             [
              0.4444444444444444,
              "#bd3786"
             ],
             [
              0.5555555555555556,
              "#d8576b"
             ],
             [
              0.6666666666666666,
              "#ed7953"
             ],
             [
              0.7777777777777778,
              "#fb9f3a"
             ],
             [
              0.8888888888888888,
              "#fdca26"
             ],
             [
              1,
              "#f0f921"
             ]
            ],
            "type": "histogram2d"
           }
          ],
          "histogram2dcontour": [
           {
            "colorbar": {
             "outlinewidth": 0,
             "ticks": ""
            },
            "colorscale": [
             [
              0,
              "#0d0887"
             ],
             [
              0.1111111111111111,
              "#46039f"
             ],
             [
              0.2222222222222222,
              "#7201a8"
             ],
             [
              0.3333333333333333,
              "#9c179e"
             ],
             [
              0.4444444444444444,
              "#bd3786"
             ],
             [
              0.5555555555555556,
              "#d8576b"
             ],
             [
              0.6666666666666666,
              "#ed7953"
             ],
             [
              0.7777777777777778,
              "#fb9f3a"
             ],
             [
              0.8888888888888888,
              "#fdca26"
             ],
             [
              1,
              "#f0f921"
             ]
            ],
            "type": "histogram2dcontour"
           }
          ],
          "mesh3d": [
           {
            "colorbar": {
             "outlinewidth": 0,
             "ticks": ""
            },
            "type": "mesh3d"
           }
          ],
          "parcoords": [
           {
            "line": {
             "colorbar": {
              "outlinewidth": 0,
              "ticks": ""
             }
            },
            "type": "parcoords"
           }
          ],
          "pie": [
           {
            "automargin": true,
            "type": "pie"
           }
          ],
          "scatter": [
           {
            "marker": {
             "colorbar": {
              "outlinewidth": 0,
              "ticks": ""
             }
            },
            "type": "scatter"
           }
          ],
          "scatter3d": [
           {
            "line": {
             "colorbar": {
              "outlinewidth": 0,
              "ticks": ""
             }
            },
            "marker": {
             "colorbar": {
              "outlinewidth": 0,
              "ticks": ""
             }
            },
            "type": "scatter3d"
           }
          ],
          "scattercarpet": [
           {
            "marker": {
             "colorbar": {
              "outlinewidth": 0,
              "ticks": ""
             }
            },
            "type": "scattercarpet"
           }
          ],
          "scattergeo": [
           {
            "marker": {
             "colorbar": {
              "outlinewidth": 0,
              "ticks": ""
             }
            },
            "type": "scattergeo"
           }
          ],
          "scattergl": [
           {
            "marker": {
             "colorbar": {
              "outlinewidth": 0,
              "ticks": ""
             }
            },
            "type": "scattergl"
           }
          ],
          "scattermapbox": [
           {
            "marker": {
             "colorbar": {
              "outlinewidth": 0,
              "ticks": ""
             }
            },
            "type": "scattermapbox"
           }
          ],
          "scatterpolar": [
           {
            "marker": {
             "colorbar": {
              "outlinewidth": 0,
              "ticks": ""
             }
            },
            "type": "scatterpolar"
           }
          ],
          "scatterpolargl": [
           {
            "marker": {
             "colorbar": {
              "outlinewidth": 0,
              "ticks": ""
             }
            },
            "type": "scatterpolargl"
           }
          ],
          "scatterternary": [
           {
            "marker": {
             "colorbar": {
              "outlinewidth": 0,
              "ticks": ""
             }
            },
            "type": "scatterternary"
           }
          ],
          "surface": [
           {
            "colorbar": {
             "outlinewidth": 0,
             "ticks": ""
            },
            "colorscale": [
             [
              0,
              "#0d0887"
             ],
             [
              0.1111111111111111,
              "#46039f"
             ],
             [
              0.2222222222222222,
              "#7201a8"
             ],
             [
              0.3333333333333333,
              "#9c179e"
             ],
             [
              0.4444444444444444,
              "#bd3786"
             ],
             [
              0.5555555555555556,
              "#d8576b"
             ],
             [
              0.6666666666666666,
              "#ed7953"
             ],
             [
              0.7777777777777778,
              "#fb9f3a"
             ],
             [
              0.8888888888888888,
              "#fdca26"
             ],
             [
              1,
              "#f0f921"
             ]
            ],
            "type": "surface"
           }
          ],
          "table": [
           {
            "cells": {
             "fill": {
              "color": "#EBF0F8"
             },
             "line": {
              "color": "white"
             }
            },
            "header": {
             "fill": {
              "color": "#C8D4E3"
             },
             "line": {
              "color": "white"
             }
            },
            "type": "table"
           }
          ]
         },
         "layout": {
          "annotationdefaults": {
           "arrowcolor": "#2a3f5f",
           "arrowhead": 0,
           "arrowwidth": 1
          },
          "autotypenumbers": "strict",
          "coloraxis": {
           "colorbar": {
            "outlinewidth": 0,
            "ticks": ""
           }
          },
          "colorscale": {
           "diverging": [
            [
             0,
             "#8e0152"
            ],
            [
             0.1,
             "#c51b7d"
            ],
            [
             0.2,
             "#de77ae"
            ],
            [
             0.3,
             "#f1b6da"
            ],
            [
             0.4,
             "#fde0ef"
            ],
            [
             0.5,
             "#f7f7f7"
            ],
            [
             0.6,
             "#e6f5d0"
            ],
            [
             0.7,
             "#b8e186"
            ],
            [
             0.8,
             "#7fbc41"
            ],
            [
             0.9,
             "#4d9221"
            ],
            [
             1,
             "#276419"
            ]
           ],
           "sequential": [
            [
             0,
             "#0d0887"
            ],
            [
             0.1111111111111111,
             "#46039f"
            ],
            [
             0.2222222222222222,
             "#7201a8"
            ],
            [
             0.3333333333333333,
             "#9c179e"
            ],
            [
             0.4444444444444444,
             "#bd3786"
            ],
            [
             0.5555555555555556,
             "#d8576b"
            ],
            [
             0.6666666666666666,
             "#ed7953"
            ],
            [
             0.7777777777777778,
             "#fb9f3a"
            ],
            [
             0.8888888888888888,
             "#fdca26"
            ],
            [
             1,
             "#f0f921"
            ]
           ],
           "sequentialminus": [
            [
             0,
             "#0d0887"
            ],
            [
             0.1111111111111111,
             "#46039f"
            ],
            [
             0.2222222222222222,
             "#7201a8"
            ],
            [
             0.3333333333333333,
             "#9c179e"
            ],
            [
             0.4444444444444444,
             "#bd3786"
            ],
            [
             0.5555555555555556,
             "#d8576b"
            ],
            [
             0.6666666666666666,
             "#ed7953"
            ],
            [
             0.7777777777777778,
             "#fb9f3a"
            ],
            [
             0.8888888888888888,
             "#fdca26"
            ],
            [
             1,
             "#f0f921"
            ]
           ]
          },
          "colorway": [
           "#636efa",
           "#EF553B",
           "#00cc96",
           "#ab63fa",
           "#FFA15A",
           "#19d3f3",
           "#FF6692",
           "#B6E880",
           "#FF97FF",
           "#FECB52"
          ],
          "font": {
           "color": "#2a3f5f"
          },
          "geo": {
           "bgcolor": "white",
           "lakecolor": "white",
           "landcolor": "white",
           "showlakes": true,
           "showland": true,
           "subunitcolor": "#C8D4E3"
          },
          "hoverlabel": {
           "align": "left"
          },
          "hovermode": "closest",
          "mapbox": {
           "style": "light"
          },
          "paper_bgcolor": "white",
          "plot_bgcolor": "white",
          "polar": {
           "angularaxis": {
            "gridcolor": "#EBF0F8",
            "linecolor": "#EBF0F8",
            "ticks": ""
           },
           "bgcolor": "white",
           "radialaxis": {
            "gridcolor": "#EBF0F8",
            "linecolor": "#EBF0F8",
            "ticks": ""
           }
          },
          "scene": {
           "xaxis": {
            "backgroundcolor": "white",
            "gridcolor": "#DFE8F3",
            "gridwidth": 2,
            "linecolor": "#EBF0F8",
            "showbackground": true,
            "ticks": "",
            "zerolinecolor": "#EBF0F8"
           },
           "yaxis": {
            "backgroundcolor": "white",
            "gridcolor": "#DFE8F3",
            "gridwidth": 2,
            "linecolor": "#EBF0F8",
            "showbackground": true,
            "ticks": "",
            "zerolinecolor": "#EBF0F8"
           },
           "zaxis": {
            "backgroundcolor": "white",
            "gridcolor": "#DFE8F3",
            "gridwidth": 2,
            "linecolor": "#EBF0F8",
            "showbackground": true,
            "ticks": "",
            "zerolinecolor": "#EBF0F8"
           }
          },
          "shapedefaults": {
           "line": {
            "color": "#2a3f5f"
           }
          },
          "ternary": {
           "aaxis": {
            "gridcolor": "#DFE8F3",
            "linecolor": "#A2B1C6",
            "ticks": ""
           },
           "baxis": {
            "gridcolor": "#DFE8F3",
            "linecolor": "#A2B1C6",
            "ticks": ""
           },
           "bgcolor": "white",
           "caxis": {
            "gridcolor": "#DFE8F3",
            "linecolor": "#A2B1C6",
            "ticks": ""
           }
          },
          "title": {
           "x": 0.05
          },
          "xaxis": {
           "automargin": true,
           "gridcolor": "#EBF0F8",
           "linecolor": "#EBF0F8",
           "ticks": "",
           "title": {
            "standoff": 15
           },
           "zerolinecolor": "#EBF0F8",
           "zerolinewidth": 2
          },
          "yaxis": {
           "automargin": true,
           "gridcolor": "#EBF0F8",
           "linecolor": "#EBF0F8",
           "ticks": "",
           "title": {
            "standoff": 15
           },
           "zerolinecolor": "#EBF0F8",
           "zerolinewidth": 2
          }
         }
        },
        "title": {
         "text": "Weights without max constraint"
        },
        "xaxis": {
         "anchor": "y",
         "autorange": true,
         "domain": [
          0,
          1
         ],
         "range": [
          "2021-08-26",
          "2022-06-01"
         ],
         "showspikes": true,
         "spikecolor": "#999999",
         "spikedash": "dot",
         "spikemode": "across",
         "spikethickness": 2,
         "title": {
          "text": "date"
         },
         "type": "date"
        },
        "yaxis": {
         "anchor": "x",
         "autorange": true,
         "domain": [
          0,
          1
         ],
         "range": [
          -0.046787206806910404,
          1.0467872068069104
         ],
         "tickformat": ".2%",
         "title": {
          "text": "weight, %"
         },
         "type": "linear"
        }
       }
      },
      "image/png": "[encoded data removed]",
      "text/html": [
       "<div>                            <div id=\"089d1164-2bf0-4f73-ab54-70ca686360b5\" class=\"plotly-graph-div\" style=\"height:525px; width:100%;\"></div>            <script type=\"text/javascript\">                require([\"plotly\"], function(Plotly) {                    window.PLOTLYENV=window.PLOTLYENV || {};                                    if (document.getElementById(\"089d1164-2bf0-4f73-ab54-70ca686360b5\")) {                    Plotly.newPlot(                        \"089d1164-2bf0-4f73-ab54-70ca686360b5\",                        [{\"hovertemplate\":\"%{y}\",\"legendgroup\":\"AVAX\",\"line\":{\"color\":\"#636efa\",\"dash\":\"solid\"},\"marker\":{\"symbol\":\"circle\"},\"mode\":\"lines\",\"name\":\"AVAX\",\"orientation\":\"v\",\"showlegend\":true,\"x\":[\"2021-08-26T00:00:00\",\"2021-08-27T00:00:00\",\"2021-08-28T00:00:00\",\"2021-08-29T00:00:00\",\"2021-08-30T00:00:00\",\"2021-08-31T00:00:00\",\"2021-09-01T00:00:00\",\"2021-09-02T00:00:00\",\"2021-09-03T00:00:00\",\"2021-09-04T00:00:00\",\"2021-09-05T00:00:00\",\"2021-09-06T00:00:00\",\"2021-09-07T00:00:00\",\"2021-09-08T00:00:00\",\"2021-09-09T00:00:00\",\"2021-09-10T00:00:00\",\"2021-09-11T00:00:00\",\"2021-09-12T00:00:00\",\"2021-09-13T00:00:00\",\"2021-09-14T00:00:00\",\"2021-09-15T00:00:00\",\"2021-09-16T00:00:00\",\"2021-09-17T00:00:00\",\"2021-09-18T00:00:00\",\"2021-09-19T00:00:00\",\"2021-09-20T00:00:00\",\"2021-09-21T00:00:00\",\"2021-09-22T00:00:00\",\"2021-09-23T00:00:00\",\"2021-09-24T00:00:00\",\"2021-09-25T00:00:00\",\"2021-09-26T00:00:00\",\"2021-09-27T00:00:00\",\"2021-09-28T00:00:00\",\"2021-09-29T00:00:00\",\"2021-09-30T00:00:00\",\"2021-10-01T00:00:00\",\"2021-10-02T00:00:00\",\"2021-10-03T00:00:00\",\"2021-10-04T00:00:00\",\"2021-10-05T00:00:00\",\"2021-10-06T00:00:00\",\"2021-10-07T00:00:00\",\"2021-10-08T00:00:00\",\"2021-10-09T00:00:00\",\"2021-10-10T00:00:00\",\"2021-10-11T00:00:00\",\"2021-10-12T00:00:00\",\"2021-10-13T00:00:00\",\"2021-10-14T00:00:00\",\"2021-10-15T00:00:00\",\"2021-10-16T00:00:00\",\"2021-10-17T00:00:00\",\"2021-10-18T00:00:00\",\"2021-10-19T00:00:00\",\"2021-10-20T00:00:00\",\"2021-10-21T00:00:00\",\"2021-10-22T00:00:00\",\"2021-10-23T00:00:00\",\"2021-10-24T00:00:00\",\"2021-10-25T00:00:00\",\"2021-10-26T00:00:00\",\"2021-10-27T00:00:00\",\"2021-10-28T00:00:00\",\"2021-10-29T00:00:00\",\"2021-10-30T00:00:00\",\"2021-10-31T00:00:00\",\"2021-11-01T00:00:00\",\"2021-11-02T00:00:00\",\"2021-11-03T00:00:00\",\"2021-11-04T00:00:00\",\"2021-11-05T00:00:00\",\"2021-11-06T00:00:00\",\"2021-11-07T00:00:00\",\"2021-11-08T00:00:00\",\"2021-11-09T00:00:00\",\"2021-11-10T00:00:00\",\"2021-11-11T00:00:00\",\"2021-11-12T00:00:00\",\"2021-11-13T00:00:00\",\"2021-11-14T00:00:00\",\"2021-11-15T00:00:00\",\"2021-11-16T00:00:00\",\"2021-11-17T00:00:00\",\"2021-11-18T00:00:00\",\"2021-11-19T00:00:00\",\"2021-11-20T00:00:00\",\"2021-11-21T00:00:00\",\"2021-11-22T00:00:00\",\"2021-11-23T00:00:00\",\"2021-11-24T00:00:00\",\"2021-11-25T00:00:00\",\"2021-11-26T00:00:00\",\"2021-11-27T00:00:00\",\"2021-11-28T00:00:00\",\"2021-11-29T00:00:00\",\"2021-11-30T00:00:00\",\"2021-12-01T00:00:00\",\"2021-12-02T00:00:00\",\"2021-12-03T00:00:00\",\"2021-12-04T00:00:00\",\"2021-12-05T00:00:00\",\"2021-12-06T00:00:00\",\"2021-12-07T00:00:00\",\"2021-12-08T00:00:00\",\"2021-12-09T00:00:00\",\"2021-12-10T00:00:00\",\"2021-12-11T00:00:00\",\"2021-12-12T00:00:00\",\"2021-12-13T00:00:00\",\"2021-12-14T00:00:00\",\"2021-12-15T00:00:00\",\"2021-12-16T00:00:00\",\"2021-12-17T00:00:00\",\"2021-12-18T00:00:00\",\"2021-12-19T00:00:00\",\"2021-12-20T00:00:00\",\"2021-12-21T00:00:00\",\"2021-12-22T00:00:00\",\"2021-12-23T00:00:00\",\"2021-12-24T00:00:00\",\"2021-12-25T00:00:00\",\"2021-12-26T00:00:00\",\"2021-12-27T00:00:00\",\"2021-12-28T00:00:00\",\"2021-12-29T00:00:00\",\"2021-12-30T00:00:00\",\"2021-12-31T00:00:00\",\"2022-01-01T00:00:00\",\"2022-01-02T00:00:00\",\"2022-01-03T00:00:00\",\"2022-01-04T00:00:00\",\"2022-01-05T00:00:00\",\"2022-01-06T00:00:00\",\"2022-01-07T00:00:00\",\"2022-01-08T00:00:00\",\"2022-01-09T00:00:00\",\"2022-01-10T00:00:00\",\"2022-01-11T00:00:00\",\"2022-01-12T00:00:00\",\"2022-01-13T00:00:00\",\"2022-01-14T00:00:00\",\"2022-01-15T00:00:00\",\"2022-01-16T00:00:00\",\"2022-01-17T00:00:00\",\"2022-01-18T00:00:00\",\"2022-01-19T00:00:00\",\"2022-01-20T00:00:00\",\"2022-01-21T00:00:00\",\"2022-01-22T00:00:00\",\"2022-01-23T00:00:00\",\"2022-01-24T00:00:00\",\"2022-01-25T00:00:00\",\"2022-01-26T00:00:00\",\"2022-01-27T00:00:00\",\"2022-01-28T00:00:00\",\"2022-01-29T00:00:00\",\"2022-01-30T00:00:00\",\"2022-01-31T00:00:00\",\"2022-02-01T00:00:00\",\"2022-02-02T00:00:00\",\"2022-02-03T00:00:00\",\"2022-02-04T00:00:00\",\"2022-02-05T00:00:00\",\"2022-02-06T00:00:00\",\"2022-02-07T00:00:00\",\"2022-02-08T00:00:00\",\"2022-02-09T00:00:00\",\"2022-02-10T00:00:00\",\"2022-02-11T00:00:00\",\"2022-02-12T00:00:00\",\"2022-02-13T00:00:00\",\"2022-02-14T00:00:00\",\"2022-02-15T00:00:00\",\"2022-02-16T00:00:00\",\"2022-02-17T00:00:00\",\"2022-02-18T00:00:00\",\"2022-02-19T00:00:00\",\"2022-02-20T00:00:00\",\"2022-02-21T00:00:00\",\"2022-02-22T00:00:00\",\"2022-02-23T00:00:00\",\"2022-02-24T00:00:00\",\"2022-02-25T00:00:00\",\"2022-02-26T00:00:00\",\"2022-02-27T00:00:00\",\"2022-02-28T00:00:00\",\"2022-03-01T00:00:00\",\"2022-03-02T00:00:00\",\"2022-03-03T00:00:00\",\"2022-03-04T00:00:00\",\"2022-03-05T00:00:00\",\"2022-03-06T00:00:00\",\"2022-03-07T00:00:00\",\"2022-03-08T00:00:00\",\"2022-03-09T00:00:00\",\"2022-03-10T00:00:00\",\"2022-03-11T00:00:00\",\"2022-03-12T00:00:00\",\"2022-03-13T00:00:00\",\"2022-03-14T00:00:00\",\"2022-03-15T00:00:00\",\"2022-03-16T00:00:00\",\"2022-03-17T00:00:00\",\"2022-03-18T00:00:00\",\"2022-03-19T00:00:00\",\"2022-03-20T00:00:00\",\"2022-03-21T00:00:00\",\"2022-03-22T00:00:00\",\"2022-03-23T00:00:00\",\"2022-03-24T00:00:00\",\"2022-03-25T00:00:00\",\"2022-03-26T00:00:00\",\"2022-03-27T00:00:00\",\"2022-03-28T00:00:00\",\"2022-03-29T00:00:00\",\"2022-03-30T00:00:00\",\"2022-03-31T00:00:00\",\"2022-04-01T00:00:00\",\"2022-04-02T00:00:00\",\"2022-04-03T00:00:00\",\"2022-04-04T00:00:00\",\"2022-04-05T00:00:00\",\"2022-04-06T00:00:00\",\"2022-04-07T00:00:00\",\"2022-04-08T00:00:00\",\"2022-04-09T00:00:00\",\"2022-04-10T00:00:00\",\"2022-04-11T00:00:00\",\"2022-04-12T00:00:00\",\"2022-04-13T00:00:00\",\"2022-04-14T00:00:00\",\"2022-04-15T00:00:00\",\"2022-04-16T00:00:00\",\"2022-04-17T00:00:00\",\"2022-04-18T00:00:00\",\"2022-04-19T00:00:00\",\"2022-04-20T00:00:00\",\"2022-04-21T00:00:00\",\"2022-04-22T00:00:00\",\"2022-04-23T00:00:00\",\"2022-04-24T00:00:00\",\"2022-04-25T00:00:00\",\"2022-04-26T00:00:00\",\"2022-04-27T00:00:00\",\"2022-04-28T00:00:00\",\"2022-04-29T00:00:00\",\"2022-04-30T00:00:00\",\"2022-05-01T00:00:00\",\"2022-05-02T00:00:00\",\"2022-05-03T00:00:00\",\"2022-05-04T00:00:00\",\"2022-05-05T00:00:00\",\"2022-05-06T00:00:00\",\"2022-05-07T00:00:00\",\"2022-05-08T00:00:00\",\"2022-05-09T00:00:00\",\"2022-05-10T00:00:00\",\"2022-05-11T00:00:00\",\"2022-05-12T00:00:00\",\"2022-05-13T00:00:00\",\"2022-05-14T00:00:00\",\"2022-05-15T00:00:00\",\"2022-05-16T00:00:00\",\"2022-05-17T00:00:00\",\"2022-05-18T00:00:00\",\"2022-05-19T00:00:00\",\"2022-05-20T00:00:00\",\"2022-05-21T00:00:00\",\"2022-05-22T00:00:00\",\"2022-05-23T00:00:00\",\"2022-05-24T00:00:00\",\"2022-05-25T00:00:00\",\"2022-05-26T00:00:00\",\"2022-05-27T00:00:00\",\"2022-05-28T00:00:00\",\"2022-05-29T00:00:00\",\"2022-05-30T00:00:00\",\"2022-05-31T00:00:00\",\"2022-06-01T00:00:00\"],\"xaxis\":\"x\",\"y\":[0.990139292643459,0.9833129883064218,0.9835132702863664,0.9847094360373788,0.9796866045883926,0.9886756952592236,0.9890608040149261,0.9867735069844994,0.9837861243137663,0.9843483429008709,0.9834331296229677,0.9878515886751106,0.9890067348915202,0.9887056536372991,0.9888062465235662,0.9885034486085646,0.9882369280601351,0.9867903694568205,0.9870145629124938,0.9872246189682113,0.987046328816814,0.9849694667208422,0.9835100836324705,0.9846424185515984,0.9837134641545802,0.981939360677761,0.983088595648428,0.9810217051781623,0.9771019781156157,0.97883042137147,0.9787231042246681,0.9799120791358659,0.9779269832416942,0.9760614488814167,0.9763968101014956,0.9792897152607477,0.9812077526199855,0.9805855341595242,0.9830855459158001,0.9821224528478423,0.9819248180726419,0.9841229369890857,0.9838740117035053,0.9815389168633526,0.9822908714737765,0.9838908610175738,0.9840476459430038,0.9859244102939961,0.984814562097494,0.9838416961132277,0.9852901648368871,0.9840767795208042,0.9821632301470795,0.9803799910965807,0.977285795743682,0.976057094148663,0.9778091031410645,0.9764825414571957,0.9788209714739462,0.9807744678806347,0.9798668513103214,0.9774480794395277,0.9777447500828834,0.9786063757427169,0.9780387325656861,0.9795571148139653,0.9809268799079248,0.9806390337031489,0.9801995050394959,0.9823410149589241,0.9803073623386312,0.9797414496702429,0.9803389500317152,0.9812600126794339,0.9825623687051316,0.9841749289156146,0.984223453744174,0.9852065055535758,0.9854528988201129,0.9860904148801978,0.9858535256641435,0.9852497516792897,0.984267719106001,0.9838216783622117,0.9832231289087747,0.9840870228545822,0.9837274332975827,0.9822957571495365,0.9810861663540896,0.9830129356781372,0.9833902156724936,0.9835111030588387,0.9829556736781137,0.9859632114623553,0.9851985002476193,0.9843754574404978,0.9844904097523695,0.9850495686538392,0.9854893654487977,0.9860864874783648,0.9855261963509365,0.9865601982560229,0.986150208542532,0.9869851206453494,0.9848051003938404,0.9846830313236162,0.9855811298818387,0.9868030677290676,0.9858320151520036,0.9862674793635573,0.9868662145946325,0.9857127348464719,0.9866705568282362,0.9861789799983808,0.987510660657388,0.9877307829444566,0.9880438206426099,0.9881952531545444,0.9884978292058106,0.988517265201044,0.9878285146960006,0.9884997300688161,0.9885751684813106,0.9878667650328014,0.9884380874097797,0.9868302093244822,0.9869246844961895,0.9877105006195593,0.9863074955966122,0.9869515713057613,0.9895068196606848,0.9895722800562337,0.9886955668900064,0.989041670881651,0.9890343272596499,0.9889821669016776,0.9899613501397723,0.9895697257958849,0.9896462338491483,0.9894502754071168,0.9894624075584151,0.9895490033765536,0.9897384182015678,0.9895653880477175,0.9890984868028757,0.989370574819889,0.9896277923570759,0.9901080383727482,0.990470900105921,0.9910842117253249,0.9916979667780336,0.9915355713911395,0.9918272041357461,0.991651617701128,0.9910916784532694,0.9900594788006757,0.9875077995148867,0.9878409362656675,0.9877851595180067,0.9866261584381849,0.9864153168332899,0.9873803756056355,0.9875177045413663,0.9874731970941164,0.987610318296064,0.9882056295461343,0.9889397230582897,0.9895348924873743,0.9895464546284535,0.9895031579891637,0.9896817060250812,0.9898869140627558,0.9899839741157381,0.9900751642379987,0.9902109861398194,0.9908023543277421,0.990739808067416,0.9904974954000215,0.9905902877451537,0.9909304802069486,0.9902351845232795,0.9901729734720397,0.9902646445782143,0.9906317225113295,0.99003010126538,0.9904678582959202,0.9901319481680526,0.9897968471559991,0.9906943918345854,0.9902572224110615,0.9902474292566968,0.990555659436929,0.9906209380465595,0.9904262338433817,0.9907222371245924,0.9910066210229549,0.9912188010393493,0.9910784269555079,0.9915099563008964,0.9911847257850733,0.9917680459510366,0.9916859773543106,0.9918981723319378,0.9917210063969574,0.9915313677348279,0.9919665134283404,0.9920943842142785,0.9921084861262194,0.9918709212873136,0.9917893974189853,0.9918718359479125,0.9917538358801202,0.9917801408658068,0.9918102205293021,0.9919380420227768,0.9910674929229671,0.9912663412444706,0.9901927635286082,0.9902269655735438,0.989931543505021,0.9897877266482243,0.9890576520816817,0.9888993844898353,0.9879218770387568,0.9884660653411496,0.9877119560954856,0.9879672894954026,0.9873891711503153,0.9874548535845739,0.9880436389226386,0.9876703078405241,0.9874943175451099,0.9875674304227431,0.987793162454742,0.9881522061612601,0.9881136812010161,0.9881265627011288,0.9874397070979726,0.9874513806930374,0.9874173165124387,0.9877323144880494,0.9882346431349744,0.9881597474014199,0.9877187282589939,0.9879542407283416,0.9879262142727037,0.988146837451204,0.9885232719021584,0.9883607042873083,0.9882742505947875,0.9877799316918747,0.9877253298449419,0.9876612898909615,0.9878800406496934,0.9880951583243969,0.9882535386259933,0.9872506670075792,0.9880534020507578,0.9889714661344858,0.9909331256763414,0.9888837741326458,0.987798683986429,0.9883104445312305,0.9881550447501314,0.9878523891524212,0.987698499711206,0.9878559270348036,0.9861549766973086,0.9868951781359518,0.9871916458844195,0.9866803292239108,0.9869053060707184,0.9865956303067291,0.9865031929419824,0.9862495150147018,0.9868614229965139,0.9869868965651312,0.9867277548883637,0.9869051070600277,0.9871351840075923],\"yaxis\":\"y\",\"type\":\"scatter\"},{\"hovertemplate\":\"%{y}\",\"legendgroup\":\"JOE\",\"line\":{\"color\":\"#EF553B\",\"dash\":\"solid\"},\"marker\":{\"symbol\":\"circle\"},\"mode\":\"lines\",\"name\":\"JOE\",\"orientation\":\"v\",\"showlegend\":true,\"x\":[\"2021-08-26T00:00:00\",\"2021-08-27T00:00:00\",\"2021-08-28T00:00:00\",\"2021-08-29T00:00:00\",\"2021-08-30T00:00:00\",\"2021-08-31T00:00:00\",\"2021-09-01T00:00:00\",\"2021-09-02T00:00:00\",\"2021-09-03T00:00:00\",\"2021-09-04T00:00:00\",\"2021-09-05T00:00:00\",\"2021-09-06T00:00:00\",\"2021-09-07T00:00:00\",\"2021-09-08T00:00:00\",\"2021-09-09T00:00:00\",\"2021-09-10T00:00:00\",\"2021-09-11T00:00:00\",\"2021-09-12T00:00:00\",\"2021-09-13T00:00:00\",\"2021-09-14T00:00:00\",\"2021-09-15T00:00:00\",\"2021-09-16T00:00:00\",\"2021-09-17T00:00:00\",\"2021-09-18T00:00:00\",\"2021-09-19T00:00:00\",\"2021-09-20T00:00:00\",\"2021-09-21T00:00:00\",\"2021-09-22T00:00:00\",\"2021-09-23T00:00:00\",\"2021-09-24T00:00:00\",\"2021-09-25T00:00:00\",\"2021-09-26T00:00:00\",\"2021-09-27T00:00:00\",\"2021-09-28T00:00:00\",\"2021-09-29T00:00:00\",\"2021-09-30T00:00:00\",\"2021-10-01T00:00:00\",\"2021-10-02T00:00:00\",\"2021-10-03T00:00:00\",\"2021-10-04T00:00:00\",\"2021-10-05T00:00:00\",\"2021-10-06T00:00:00\",\"2021-10-07T00:00:00\",\"2021-10-08T00:00:00\",\"2021-10-09T00:00:00\",\"2021-10-10T00:00:00\",\"2021-10-11T00:00:00\",\"2021-10-12T00:00:00\",\"2021-10-13T00:00:00\",\"2021-10-14T00:00:00\",\"2021-10-15T00:00:00\",\"2021-10-16T00:00:00\",\"2021-10-17T00:00:00\",\"2021-10-18T00:00:00\",\"2021-10-19T00:00:00\",\"2021-10-20T00:00:00\",\"2021-10-21T00:00:00\",\"2021-10-22T00:00:00\",\"2021-10-23T00:00:00\",\"2021-10-24T00:00:00\",\"2021-10-25T00:00:00\",\"2021-10-26T00:00:00\",\"2021-10-27T00:00:00\",\"2021-10-28T00:00:00\",\"2021-10-29T00:00:00\",\"2021-10-30T00:00:00\",\"2021-10-31T00:00:00\",\"2021-11-01T00:00:00\",\"2021-11-02T00:00:00\",\"2021-11-03T00:00:00\",\"2021-11-04T00:00:00\",\"2021-11-05T00:00:00\",\"2021-11-06T00:00:00\",\"2021-11-07T00:00:00\",\"2021-11-08T00:00:00\",\"2021-11-09T00:00:00\",\"2021-11-10T00:00:00\",\"2021-11-11T00:00:00\",\"2021-11-12T00:00:00\",\"2021-11-13T00:00:00\",\"2021-11-14T00:00:00\",\"2021-11-15T00:00:00\",\"2021-11-16T00:00:00\",\"2021-11-17T00:00:00\",\"2021-11-18T00:00:00\",\"2021-11-19T00:00:00\",\"2021-11-20T00:00:00\",\"2021-11-21T00:00:00\",\"2021-11-22T00:00:00\",\"2021-11-23T00:00:00\",\"2021-11-24T00:00:00\",\"2021-11-25T00:00:00\",\"2021-11-26T00:00:00\",\"2021-11-27T00:00:00\",\"2021-11-28T00:00:00\",\"2021-11-29T00:00:00\",\"2021-11-30T00:00:00\",\"2021-12-01T00:00:00\",\"2021-12-02T00:00:00\",\"2021-12-03T00:00:00\",\"2021-12-04T00:00:00\",\"2021-12-05T00:00:00\",\"2021-12-06T00:00:00\",\"2021-12-07T00:00:00\",\"2021-12-08T00:00:00\",\"2021-12-09T00:00:00\",\"2021-12-10T00:00:00\",\"2021-12-11T00:00:00\",\"2021-12-12T00:00:00\",\"2021-12-13T00:00:00\",\"2021-12-14T00:00:00\",\"2021-12-15T00:00:00\",\"2021-12-16T00:00:00\",\"2021-12-17T00:00:00\",\"2021-12-18T00:00:00\",\"2021-12-19T00:00:00\",\"2021-12-20T00:00:00\",\"2021-12-21T00:00:00\",\"2021-12-22T00:00:00\",\"2021-12-23T00:00:00\",\"2021-12-24T00:00:00\",\"2021-12-25T00:00:00\",\"2021-12-26T00:00:00\",\"2021-12-27T00:00:00\",\"2021-12-28T00:00:00\",\"2021-12-29T00:00:00\",\"2021-12-30T00:00:00\",\"2021-12-31T00:00:00\",\"2022-01-01T00:00:00\",\"2022-01-02T00:00:00\",\"2022-01-03T00:00:00\",\"2022-01-04T00:00:00\",\"2022-01-05T00:00:00\",\"2022-01-06T00:00:00\",\"2022-01-07T00:00:00\",\"2022-01-08T00:00:00\",\"2022-01-09T00:00:00\",\"2022-01-10T00:00:00\",\"2022-01-11T00:00:00\",\"2022-01-12T00:00:00\",\"2022-01-13T00:00:00\",\"2022-01-14T00:00:00\",\"2022-01-15T00:00:00\",\"2022-01-16T00:00:00\",\"2022-01-17T00:00:00\",\"2022-01-18T00:00:00\",\"2022-01-19T00:00:00\",\"2022-01-20T00:00:00\",\"2022-01-21T00:00:00\",\"2022-01-22T00:00:00\",\"2022-01-23T00:00:00\",\"2022-01-24T00:00:00\",\"2022-01-25T00:00:00\",\"2022-01-26T00:00:00\",\"2022-01-27T00:00:00\",\"2022-01-28T00:00:00\",\"2022-01-29T00:00:00\",\"2022-01-30T00:00:00\",\"2022-01-31T00:00:00\",\"2022-02-01T00:00:00\",\"2022-02-02T00:00:00\",\"2022-02-03T00:00:00\",\"2022-02-04T00:00:00\",\"2022-02-05T00:00:00\",\"2022-02-06T00:00:00\",\"2022-02-07T00:00:00\",\"2022-02-08T00:00:00\",\"2022-02-09T00:00:00\",\"2022-02-10T00:00:00\",\"2022-02-11T00:00:00\",\"2022-02-12T00:00:00\",\"2022-02-13T00:00:00\",\"2022-02-14T00:00:00\",\"2022-02-15T00:00:00\",\"2022-02-16T00:00:00\",\"2022-02-17T00:00:00\",\"2022-02-18T00:00:00\",\"2022-02-19T00:00:00\",\"2022-02-20T00:00:00\",\"2022-02-21T00:00:00\",\"2022-02-22T00:00:00\",\"2022-02-23T00:00:00\",\"2022-02-24T00:00:00\",\"2022-02-25T00:00:00\",\"2022-02-26T00:00:00\",\"2022-02-27T00:00:00\",\"2022-02-28T00:00:00\",\"2022-03-01T00:00:00\",\"2022-03-02T00:00:00\",\"2022-03-03T00:00:00\",\"2022-03-04T00:00:00\",\"2022-03-05T00:00:00\",\"2022-03-06T00:00:00\",\"2022-03-07T00:00:00\",\"2022-03-08T00:00:00\",\"2022-03-09T00:00:00\",\"2022-03-10T00:00:00\",\"2022-03-11T00:00:00\",\"2022-03-12T00:00:00\",\"2022-03-13T00:00:00\",\"2022-03-14T00:00:00\",\"2022-03-15T00:00:00\",\"2022-03-16T00:00:00\",\"2022-03-17T00:00:00\",\"2022-03-18T00:00:00\",\"2022-03-19T00:00:00\",\"2022-03-20T00:00:00\",\"2022-03-21T00:00:00\",\"2022-03-22T00:00:00\",\"2022-03-23T00:00:00\",\"2022-03-24T00:00:00\",\"2022-03-25T00:00:00\",\"2022-03-26T00:00:00\",\"2022-03-27T00:00:00\",\"2022-03-28T00:00:00\",\"2022-03-29T00:00:00\",\"2022-03-30T00:00:00\",\"2022-03-31T00:00:00\",\"2022-04-01T00:00:00\",\"2022-04-02T00:00:00\",\"2022-04-03T00:00:00\",\"2022-04-04T00:00:00\",\"2022-04-05T00:00:00\",\"2022-04-06T00:00:00\",\"2022-04-07T00:00:00\",\"2022-04-08T00:00:00\",\"2022-04-09T00:00:00\",\"2022-04-10T00:00:00\",\"2022-04-11T00:00:00\",\"2022-04-12T00:00:00\",\"2022-04-13T00:00:00\",\"2022-04-14T00:00:00\",\"2022-04-15T00:00:00\",\"2022-04-16T00:00:00\",\"2022-04-17T00:00:00\",\"2022-04-18T00:00:00\",\"2022-04-19T00:00:00\",\"2022-04-20T00:00:00\",\"2022-04-21T00:00:00\",\"2022-04-22T00:00:00\",\"2022-04-23T00:00:00\",\"2022-04-24T00:00:00\",\"2022-04-25T00:00:00\",\"2022-04-26T00:00:00\",\"2022-04-27T00:00:00\",\"2022-04-28T00:00:00\",\"2022-04-29T00:00:00\",\"2022-04-30T00:00:00\",\"2022-05-01T00:00:00\",\"2022-05-02T00:00:00\",\"2022-05-03T00:00:00\",\"2022-05-04T00:00:00\",\"2022-05-05T00:00:00\",\"2022-05-06T00:00:00\",\"2022-05-07T00:00:00\",\"2022-05-08T00:00:00\",\"2022-05-09T00:00:00\",\"2022-05-10T00:00:00\",\"2022-05-11T00:00:00\",\"2022-05-12T00:00:00\",\"2022-05-13T00:00:00\",\"2022-05-14T00:00:00\",\"2022-05-15T00:00:00\",\"2022-05-16T00:00:00\",\"2022-05-17T00:00:00\",\"2022-05-18T00:00:00\",\"2022-05-19T00:00:00\",\"2022-05-20T00:00:00\",\"2022-05-21T00:00:00\",\"2022-05-22T00:00:00\",\"2022-05-23T00:00:00\",\"2022-05-24T00:00:00\",\"2022-05-25T00:00:00\",\"2022-05-26T00:00:00\",\"2022-05-27T00:00:00\",\"2022-05-28T00:00:00\",\"2022-05-29T00:00:00\",\"2022-05-30T00:00:00\",\"2022-05-31T00:00:00\",\"2022-06-01T00:00:00\"],\"xaxis\":\"x\",\"y\":[0.009860707356540968,0.016687011693578262,0.016486729713633623,0.015290563962621084,0.02031339541160737,0.011324304740776486,0.010939195985073853,0.013226493015500666,0.01621387568623367,0.015651657099129114,0.016566870377032344,0.012148411324889434,0.010993265108479856,0.01129434636270083,0.011193753476433817,0.011496551391435345,0.011763071939864889,0.013209630543179389,0.012985437087506267,0.012775381031788652,0.01295367118318601,0.015030533279157798,0.016489916367529535,0.015357581448401634,0.016286535845419857,0.01806063932223896,0.016911404351571926,0.01897829482183774,0.022898021884384365,0.021169578628530104,0.021276895775331824,0.02008792086413416,0.022073016758305728,0.023938551118583323,0.023603189898504337,0.02071028473925231,0.018792247380014546,0.01941446584047581,0.01691445408419989,0.017877547152157777,0.018075181927358165,0.01587706301091426,0.016125988296494618,0.018461083136647412,0.017709128526223528,0.01610913898242608,0.01595235405699625,0.014075589706003838,0.015185437902505972,0.016158303886772255,0.014709835163112963,0.015923220479195872,0.017836769852920417,0.019620008903419243,0.022714204256318045,0.023942905851336908,0.02219089685893549,0.023517458542804296,0.021179028526053748,0.019225532119365327,0.020133148689678606,0.0225519205604723,0.022255249917116526,0.021393624257283084,0.021961267434314008,0.0204428851860346,0.019073120092075155,0.019360966296851124,0.01980049496050407,0.01765898504107588,0.01969263766136872,0.02025855032975719,0.019661049968284754,0.01873998732056621,0.01743763129486832,0.015825071084385255,0.015776546255825957,0.01479349444642409,0.014547101179887008,0.013909585119802111,0.014146474335856486,0.014750248320710365,0.015732280893998946,0.016178321637788314,0.016776871091225377,0.01591297714541779,0.016272566702417314,0.017704242850463417,0.018913833645910344,0.016987064321862783,0.016609784327506375,0.016488896941161277,0.017044326321886332,0.014036788537644698,0.014801499752380636,0.0156245425595022,0.01550959024763059,0.014950431346160788,0.014510634551202257,0.01391351252163512,0.014473803649063387,0.013439801743977029,0.01384979145746792,0.013014879354650576,0.015194899606159482,0.015316968676383786,0.014418870118161368,0.013196932270932375,0.014167984847996435,0.013732520636442608,0.013133785405367512,0.014287265153528126,0.013329443171763699,0.013821020001619232,0.01248933934261196,0.012269217055543409,0.011956179357390097,0.011804746845455688,0.011502170794189349,0.011482734798955996,0.012171485303999356,0.011500269931183903,0.011424831518689414,0.012133234967198642,0.011561912590220255,0.013169790675517845,0.013075315503810457,0.012289499380440742,0.013692504403387812,0.013048428694238681,0.010493180339315218,0.01042771994376636,0.011304433109993574,0.010958329118349033,0.010965672740350077,0.011017833098322473,0.010038649860227667,0.010430274204115159,0.010353766150851705,0.010549724592883078,0.010537592441584868,0.01045099662344641,0.010261581798432153,0.010434611952282458,0.01090151319712424,0.010629425180111047,0.010372207642924148,0.009891961627251788,0.009529099894079057,0.008915788274675067,0.008302033221966465,0.008464428608860496,0.008172795864253879,0.008348382298871975,0.008908321546730684,0.009940521199324355,0.01249220048511333,0.012159063734332426,0.01221484048199323,0.013373841561815073,0.01358468316671023,0.012619624394364558,0.012482295458633642,0.012526802905883476,0.01238968170393593,0.011794370453865641,0.01106027694171034,0.010465107512625704,0.010453545371546497,0.010496842010836328,0.010318293974918683,0.01011308593724413,0.010016025884261925,0.009924835762001386,0.009789013860180685,0.009197645672257898,0.00926019193258403,0.009502504599978461,0.009409712254846252,0.009069519793051447,0.009764815476720501,0.009827026527960327,0.009735355421785776,0.009368277488670486,0.009969898734619863,0.009532141704079854,0.00986805183194736,0.010203152844000907,0.009305608165414704,0.009742777588938569,0.00975257074330315,0.009444340563071025,0.009379061953440465,0.009573766156618278,0.009277762875407564,0.008993378977045195,0.008781198960650698,0.00892157304449222,0.008490043699103503,0.008815274214926663,0.008231954048963337,0.008314022645689359,0.008101827668062219,0.008278993603042777,0.00846863226517221,0.008033486571659573,0.007905615785721496,0.007891513873780632,0.008129078712686439,0.008210602581014786,0.00812816405208756,0.008246164119879794,0.008219859134193258,0.008189779470697843,0.008061957977223231,0.008932507077032917,0.008733658755529403,0.009807236471391744,0.009773034426456117,0.01006845649497906,0.010212273351775686,0.01094234791831833,0.011100615510164795,0.012078122961243127,0.011533934658850406,0.012288043904514412,0.01203271050459747,0.012610828849684706,0.012545146415426214,0.011956361077361385,0.012329692159475924,0.012505682454890065,0.012432569577256854,0.012206837545258021,0.011847793838739856,0.011886318798983964,0.011873437298871236,0.012560292902027361,0.012548619306962572,0.012582683487561305,0.012267685511950583,0.011765356865025545,0.011840252598580256,0.012281271741006156,0.012045759271658468,0.012073785727296385,0.011853162548795912,0.011476728097841601,0.011639295712691731,0.011725749405212491,0.012220068308125292,0.012274670155058167,0.012338710109038515,0.012119959350306646,0.01190484167560312,0.011746461374006706,0.012749332992420712,0.011946597949242148,0.01102853386551421,0.009066874323658596,0.0111162258673542,0.012201316013570846,0.011689555468769531,0.011844955249868542,0.012147610847578798,0.012301500288793999,0.012144072965196416,0.013845023302691446,0.01310482186404815,0.01280835411558045,0.013319670776089329,0.013094693929281705,0.013404369693270825,0.013496807058017493,0.013750484985298078,0.013138577003486163,0.013013103434868811,0.013272245111636301,0.013094892939972328,0.01286481599240782],\"yaxis\":\"y\",\"type\":\"scatter\"}],                        {\"template\":{\"data\":{\"barpolar\":[{\"marker\":{\"line\":{\"color\":\"white\",\"width\":0.5},\"pattern\":{\"fillmode\":\"overlay\",\"size\":10,\"solidity\":0.2}},\"type\":\"barpolar\"}],\"bar\":[{\"error_x\":{\"color\":\"#2a3f5f\"},\"error_y\":{\"color\":\"#2a3f5f\"},\"marker\":{\"line\":{\"color\":\"white\",\"width\":0.5},\"pattern\":{\"fillmode\":\"overlay\",\"size\":10,\"solidity\":0.2}},\"type\":\"bar\"}],\"carpet\":[{\"aaxis\":{\"endlinecolor\":\"#2a3f5f\",\"gridcolor\":\"#C8D4E3\",\"linecolor\":\"#C8D4E3\",\"minorgridcolor\":\"#C8D4E3\",\"startlinecolor\":\"#2a3f5f\"},\"baxis\":{\"endlinecolor\":\"#2a3f5f\",\"gridcolor\":\"#C8D4E3\",\"linecolor\":\"#C8D4E3\",\"minorgridcolor\":\"#C8D4E3\",\"startlinecolor\":\"#2a3f5f\"},\"type\":\"carpet\"}],\"choropleth\":[{\"colorbar\":{\"outlinewidth\":0,\"ticks\":\"\"},\"type\":\"choropleth\"}],\"contourcarpet\":[{\"colorbar\":{\"outlinewidth\":0,\"ticks\":\"\"},\"type\":\"contourcarpet\"}],\"contour\":[{\"colorbar\":{\"outlinewidth\":0,\"ticks\":\"\"},\"colorscale\":[[0.0,\"#0d0887\"],[0.1111111111111111,\"#46039f\"],[0.2222222222222222,\"#7201a8\"],[0.3333333333333333,\"#9c179e\"],[0.4444444444444444,\"#bd3786\"],[0.5555555555555556,\"#d8576b\"],[0.6666666666666666,\"#ed7953\"],[0.7777777777777778,\"#fb9f3a\"],[0.8888888888888888,\"#fdca26\"],[1.0,\"#f0f921\"]],\"type\":\"contour\"}],\"heatmapgl\":[{\"colorbar\":{\"outlinewidth\":0,\"ticks\":\"\"},\"colorscale\":[[0.0,\"#0d0887\"],[0.1111111111111111,\"#46039f\"],[0.2222222222222222,\"#7201a8\"],[0.3333333333333333,\"#9c179e\"],[0.4444444444444444,\"#bd3786\"],[0.5555555555555556,\"#d8576b\"],[0.6666666666666666,\"#ed7953\"],[0.7777777777777778,\"#fb9f3a\"],[0.8888888888888888,\"#fdca26\"],[1.0,\"#f0f921\"]],\"type\":\"heatmapgl\"}],\"heatmap\":[{\"colorbar\":{\"outlinewidth\":0,\"ticks\":\"\"},\"colorscale\":[[0.0,\"#0d0887\"],[0.1111111111111111,\"#46039f\"],[0.2222222222222222,\"#7201a8\"],[0.3333333333333333,\"#9c179e\"],[0.4444444444444444,\"#bd3786\"],[0.5555555555555556,\"#d8576b\"],[0.6666666666666666,\"#ed7953\"],[0.7777777777777778,\"#fb9f3a\"],[0.8888888888888888,\"#fdca26\"],[1.0,\"#f0f921\"]],\"type\":\"heatmap\"}],\"histogram2dcontour\":[{\"colorbar\":{\"outlinewidth\":0,\"ticks\":\"\"},\"colorscale\":[[0.0,\"#0d0887\"],[0.1111111111111111,\"#46039f\"],[0.2222222222222222,\"#7201a8\"],[0.3333333333333333,\"#9c179e\"],[0.4444444444444444,\"#bd3786\"],[0.5555555555555556,\"#d8576b\"],[0.6666666666666666,\"#ed7953\"],[0.7777777777777778,\"#fb9f3a\"],[0.8888888888888888,\"#fdca26\"],[1.0,\"#f0f921\"]],\"type\":\"histogram2dcontour\"}],\"histogram2d\":[{\"colorbar\":{\"outlinewidth\":0,\"ticks\":\"\"},\"colorscale\":[[0.0,\"#0d0887\"],[0.1111111111111111,\"#46039f\"],[0.2222222222222222,\"#7201a8\"],[0.3333333333333333,\"#9c179e\"],[0.4444444444444444,\"#bd3786\"],[0.5555555555555556,\"#d8576b\"],[0.6666666666666666,\"#ed7953\"],[0.7777777777777778,\"#fb9f3a\"],[0.8888888888888888,\"#fdca26\"],[1.0,\"#f0f921\"]],\"type\":\"histogram2d\"}],\"histogram\":[{\"marker\":{\"pattern\":{\"fillmode\":\"overlay\",\"size\":10,\"solidity\":0.2}},\"type\":\"histogram\"}],\"mesh3d\":[{\"colorbar\":{\"outlinewidth\":0,\"ticks\":\"\"},\"type\":\"mesh3d\"}],\"parcoords\":[{\"line\":{\"colorbar\":{\"outlinewidth\":0,\"ticks\":\"\"}},\"type\":\"parcoords\"}],\"pie\":[{\"automargin\":true,\"type\":\"pie\"}],\"scatter3d\":[{\"line\":{\"colorbar\":{\"outlinewidth\":0,\"ticks\":\"\"}},\"marker\":{\"colorbar\":{\"outlinewidth\":0,\"ticks\":\"\"}},\"type\":\"scatter3d\"}],\"scattercarpet\":[{\"marker\":{\"colorbar\":{\"outlinewidth\":0,\"ticks\":\"\"}},\"type\":\"scattercarpet\"}],\"scattergeo\":[{\"marker\":{\"colorbar\":{\"outlinewidth\":0,\"ticks\":\"\"}},\"type\":\"scattergeo\"}],\"scattergl\":[{\"marker\":{\"colorbar\":{\"outlinewidth\":0,\"ticks\":\"\"}},\"type\":\"scattergl\"}],\"scattermapbox\":[{\"marker\":{\"colorbar\":{\"outlinewidth\":0,\"ticks\":\"\"}},\"type\":\"scattermapbox\"}],\"scatterpolargl\":[{\"marker\":{\"colorbar\":{\"outlinewidth\":0,\"ticks\":\"\"}},\"type\":\"scatterpolargl\"}],\"scatterpolar\":[{\"marker\":{\"colorbar\":{\"outlinewidth\":0,\"ticks\":\"\"}},\"type\":\"scatterpolar\"}],\"scatter\":[{\"marker\":{\"colorbar\":{\"outlinewidth\":0,\"ticks\":\"\"}},\"type\":\"scatter\"}],\"scatterternary\":[{\"marker\":{\"colorbar\":{\"outlinewidth\":0,\"ticks\":\"\"}},\"type\":\"scatterternary\"}],\"surface\":[{\"colorbar\":{\"outlinewidth\":0,\"ticks\":\"\"},\"colorscale\":[[0.0,\"#0d0887\"],[0.1111111111111111,\"#46039f\"],[0.2222222222222222,\"#7201a8\"],[0.3333333333333333,\"#9c179e\"],[0.4444444444444444,\"#bd3786\"],[0.5555555555555556,\"#d8576b\"],[0.6666666666666666,\"#ed7953\"],[0.7777777777777778,\"#fb9f3a\"],[0.8888888888888888,\"#fdca26\"],[1.0,\"#f0f921\"]],\"type\":\"surface\"}],\"table\":[{\"cells\":{\"fill\":{\"color\":\"#EBF0F8\"},\"line\":{\"color\":\"white\"}},\"header\":{\"fill\":{\"color\":\"#C8D4E3\"},\"line\":{\"color\":\"white\"}},\"type\":\"table\"}]},\"layout\":{\"annotationdefaults\":{\"arrowcolor\":\"#2a3f5f\",\"arrowhead\":0,\"arrowwidth\":1},\"autotypenumbers\":\"strict\",\"coloraxis\":{\"colorbar\":{\"outlinewidth\":0,\"ticks\":\"\"}},\"colorscale\":{\"diverging\":[[0,\"#8e0152\"],[0.1,\"#c51b7d\"],[0.2,\"#de77ae\"],[0.3,\"#f1b6da\"],[0.4,\"#fde0ef\"],[0.5,\"#f7f7f7\"],[0.6,\"#e6f5d0\"],[0.7,\"#b8e186\"],[0.8,\"#7fbc41\"],[0.9,\"#4d9221\"],[1,\"#276419\"]],\"sequential\":[[0.0,\"#0d0887\"],[0.1111111111111111,\"#46039f\"],[0.2222222222222222,\"#7201a8\"],[0.3333333333333333,\"#9c179e\"],[0.4444444444444444,\"#bd3786\"],[0.5555555555555556,\"#d8576b\"],[0.6666666666666666,\"#ed7953\"],[0.7777777777777778,\"#fb9f3a\"],[0.8888888888888888,\"#fdca26\"],[1.0,\"#f0f921\"]],\"sequentialminus\":[[0.0,\"#0d0887\"],[0.1111111111111111,\"#46039f\"],[0.2222222222222222,\"#7201a8\"],[0.3333333333333333,\"#9c179e\"],[0.4444444444444444,\"#bd3786\"],[0.5555555555555556,\"#d8576b\"],[0.6666666666666666,\"#ed7953\"],[0.7777777777777778,\"#fb9f3a\"],[0.8888888888888888,\"#fdca26\"],[1.0,\"#f0f921\"]]},\"colorway\":[\"#636efa\",\"#EF553B\",\"#00cc96\",\"#ab63fa\",\"#FFA15A\",\"#19d3f3\",\"#FF6692\",\"#B6E880\",\"#FF97FF\",\"#FECB52\"],\"font\":{\"color\":\"#2a3f5f\"},\"geo\":{\"bgcolor\":\"white\",\"lakecolor\":\"white\",\"landcolor\":\"white\",\"showlakes\":true,\"showland\":true,\"subunitcolor\":\"#C8D4E3\"},\"hoverlabel\":{\"align\":\"left\"},\"hovermode\":\"closest\",\"mapbox\":{\"style\":\"light\"},\"paper_bgcolor\":\"white\",\"plot_bgcolor\":\"white\",\"polar\":{\"angularaxis\":{\"gridcolor\":\"#EBF0F8\",\"linecolor\":\"#EBF0F8\",\"ticks\":\"\"},\"bgcolor\":\"white\",\"radialaxis\":{\"gridcolor\":\"#EBF0F8\",\"linecolor\":\"#EBF0F8\",\"ticks\":\"\"}},\"scene\":{\"xaxis\":{\"backgroundcolor\":\"white\",\"gridcolor\":\"#DFE8F3\",\"gridwidth\":2,\"linecolor\":\"#EBF0F8\",\"showbackground\":true,\"ticks\":\"\",\"zerolinecolor\":\"#EBF0F8\"},\"yaxis\":{\"backgroundcolor\":\"white\",\"gridcolor\":\"#DFE8F3\",\"gridwidth\":2,\"linecolor\":\"#EBF0F8\",\"showbackground\":true,\"ticks\":\"\",\"zerolinecolor\":\"#EBF0F8\"},\"zaxis\":{\"backgroundcolor\":\"white\",\"gridcolor\":\"#DFE8F3\",\"gridwidth\":2,\"linecolor\":\"#EBF0F8\",\"showbackground\":true,\"ticks\":\"\",\"zerolinecolor\":\"#EBF0F8\"}},\"shapedefaults\":{\"line\":{\"color\":\"#2a3f5f\"}},\"ternary\":{\"aaxis\":{\"gridcolor\":\"#DFE8F3\",\"linecolor\":\"#A2B1C6\",\"ticks\":\"\"},\"baxis\":{\"gridcolor\":\"#DFE8F3\",\"linecolor\":\"#A2B1C6\",\"ticks\":\"\"},\"bgcolor\":\"white\",\"caxis\":{\"gridcolor\":\"#DFE8F3\",\"linecolor\":\"#A2B1C6\",\"ticks\":\"\"}},\"title\":{\"x\":0.05},\"xaxis\":{\"automargin\":true,\"gridcolor\":\"#EBF0F8\",\"linecolor\":\"#EBF0F8\",\"ticks\":\"\",\"title\":{\"standoff\":15},\"zerolinecolor\":\"#EBF0F8\",\"zerolinewidth\":2},\"yaxis\":{\"automargin\":true,\"gridcolor\":\"#EBF0F8\",\"linecolor\":\"#EBF0F8\",\"ticks\":\"\",\"title\":{\"standoff\":15},\"zerolinecolor\":\"#EBF0F8\",\"zerolinewidth\":2}}},\"xaxis\":{\"anchor\":\"y\",\"domain\":[0.0,1.0],\"title\":{\"text\":\"date\"},\"showspikes\":true,\"spikethickness\":2,\"spikedash\":\"dot\",\"spikecolor\":\"#999999\",\"spikemode\":\"across\"},\"yaxis\":{\"anchor\":\"x\",\"domain\":[0.0,1.0],\"title\":{\"text\":\"weight, %\"},\"tickformat\":\".2%\"},\"legend\":{\"title\":{\"text\":\"\"},\"tracegroupgap\":0},\"margin\":{\"t\":60},\"hovermode\":\"x\",\"hoverdistance\":100,\"spikedistance\":1000,\"title\":{\"text\":\"Weights without max constraint\"}},                        {\"responsive\": true}                    ).then(function(){\n",
       "                            \n",
       "var gd = document.getElementById('089d1164-2bf0-4f73-ab54-70ca686360b5');\n",
       "var x = new MutationObserver(function (mutations, observer) {{\n",
       "        var display = window.getComputedStyle(gd).display;\n",
       "        if (!display || display === 'none') {{\n",
       "            console.log([gd, 'removed!']);\n",
       "            Plotly.purge(gd);\n",
       "            observer.disconnect();\n",
       "        }}\n",
       "}});\n",
       "\n",
       "// Listen for the removal of the full notebook cells\n",
       "var notebookContainer = gd.closest('#notebook-container');\n",
       "if (notebookContainer) {{\n",
       "    x.observe(notebookContainer, {childList: true});\n",
       "}}\n",
       "\n",
       "// Listen for the clearing of the current output cell\n",
       "var outputEl = gd.closest('.output');\n",
       "if (outputEl) {{\n",
       "    x.observe(outputEl, {childList: true});\n",
       "}}\n",
       "\n",
       "                        })                };                });            </script>        </div>"
      ]
     },
     "metadata": {},
     "output_type": "display_data"
    }
   ],
   "source": [
    "fig = px.line(weights,\n",
    "              labels={'value': 'weight, %', 'variable': ''})\n",
    "fig.update_traces(\n",
    "    hovertemplate=\"%{y}\"\n",
    ")\n",
    "fig.update_yaxes(\n",
    "    tickformat=\".2%\",\n",
    ")\n",
    "fig.update_xaxes(\n",
    "    showspikes=True,\n",
    "    spikethickness=2,\n",
    "    spikedash=\"dot\",\n",
    "    spikecolor=\"#999999\",\n",
    "    spikemode=\"across\",\n",
    ")\n",
    "fig.update_layout(\n",
    "    ## showlegend=False,\n",
    "    hovermode=\"x\",\n",
    "    hoverdistance=100,  ## Distance to show hover label of data point\n",
    "    spikedistance=1000,  ## Distance to show spike\n",
    "    template='plotly_white',\n",
    "    title='Weights without max constraint'\n",
    ")"
   ]
  },
  {
   "cell_type": "code",
   "execution_count": 88,
   "id": "3ecde2b2-feb3-421f-b673-4375458f7c72",
   "metadata": {},
   "outputs": [
    {
     "data": {
      "text/html": [
       "<div>\n",
       "<style scoped>\n",
       "    .dataframe tbody tr th:only-of-type {\n",
       "        vertical-align: middle;\n",
       "    }\n",
       "\n",
       "    .dataframe tbody tr th {\n",
       "        vertical-align: top;\n",
       "    }\n",
       "\n",
       "    .dataframe thead th {\n",
       "        text-align: right;\n",
       "    }\n",
       "</style>\n",
       "<table border=\"1\" class=\"dataframe\">\n",
       "  <thead>\n",
       "    <tr style=\"text-align: right;\">\n",
       "      <th></th>\n",
       "      <th>AVAX</th>\n",
       "      <th>JOE</th>\n",
       "    </tr>\n",
       "    <tr>\n",
       "      <th>date</th>\n",
       "      <th></th>\n",
       "      <th></th>\n",
       "    </tr>\n",
       "  </thead>\n",
       "  <tbody>\n",
       "    <tr>\n",
       "      <th>2021-08-26</th>\n",
       "      <td>0.990139</td>\n",
       "      <td>0.009861</td>\n",
       "    </tr>\n",
       "    <tr>\n",
       "      <th>2021-08-27</th>\n",
       "      <td>0.983313</td>\n",
       "      <td>0.016687</td>\n",
       "    </tr>\n",
       "    <tr>\n",
       "      <th>2021-08-28</th>\n",
       "      <td>0.983513</td>\n",
       "      <td>0.016487</td>\n",
       "    </tr>\n",
       "    <tr>\n",
       "      <th>2021-08-29</th>\n",
       "      <td>0.984709</td>\n",
       "      <td>0.015291</td>\n",
       "    </tr>\n",
       "    <tr>\n",
       "      <th>2021-08-30</th>\n",
       "      <td>0.979687</td>\n",
       "      <td>0.020313</td>\n",
       "    </tr>\n",
       "    <tr>\n",
       "      <th>...</th>\n",
       "      <td>...</td>\n",
       "      <td>...</td>\n",
       "    </tr>\n",
       "    <tr>\n",
       "      <th>2022-05-28</th>\n",
       "      <td>0.986861</td>\n",
       "      <td>0.013139</td>\n",
       "    </tr>\n",
       "    <tr>\n",
       "      <th>2022-05-29</th>\n",
       "      <td>0.986987</td>\n",
       "      <td>0.013013</td>\n",
       "    </tr>\n",
       "    <tr>\n",
       "      <th>2022-05-30</th>\n",
       "      <td>0.986728</td>\n",
       "      <td>0.013272</td>\n",
       "    </tr>\n",
       "    <tr>\n",
       "      <th>2022-05-31</th>\n",
       "      <td>0.986905</td>\n",
       "      <td>0.013095</td>\n",
       "    </tr>\n",
       "    <tr>\n",
       "      <th>2022-06-01</th>\n",
       "      <td>0.987135</td>\n",
       "      <td>0.012865</td>\n",
       "    </tr>\n",
       "  </tbody>\n",
       "</table>\n",
       "<p>280 rows × 2 columns</p>\n",
       "</div>"
      ],
      "text/plain": [
       "                AVAX       JOE\n",
       "date                          \n",
       "2021-08-26  0.990139  0.009861\n",
       "2021-08-27  0.983313  0.016687\n",
       "2021-08-28  0.983513  0.016487\n",
       "2021-08-29  0.984709  0.015291\n",
       "2021-08-30  0.979687  0.020313\n",
       "...              ...       ...\n",
       "2022-05-28  0.986861  0.013139\n",
       "2022-05-29  0.986987  0.013013\n",
       "2022-05-30  0.986728  0.013272\n",
       "2022-05-31  0.986905  0.013095\n",
       "2022-06-01  0.987135  0.012865\n",
       "\n",
       "[280 rows x 2 columns]"
      ]
     },
     "execution_count": 88,
     "metadata": {},
     "output_type": "execute_result"
    }
   ],
   "source": [
    "weights"
   ]
  },
  {
   "cell_type": "markdown",
   "id": "ea071e7f-8974-4b5d-9d03-1a56a62e7dd8",
   "metadata": {},
   "source": [
    "### Adjust weights"
   ]
  },
  {
   "cell_type": "code",
   "execution_count": 89,
   "id": "c9ed3d4c-278f-455f-a7a3-cfad20b083cd",
   "metadata": {},
   "outputs": [],
   "source": [
    "adjusted_weights = weights.apply(adjust_weights, args=[0.5], axis=1)\n",
    "adjusted_weights = adjusted_weights.loc[:, adjusted_weights.iloc[-1] > 0.005]"
   ]
  },
  {
   "cell_type": "code",
   "execution_count": 90,
   "id": "94496cf0-b786-474f-b71d-b1d0751cc3c5",
   "metadata": {},
   "outputs": [
    {
     "name": "stderr",
     "output_type": "stream",
     "text": [
      "/home/evgeniy/.local/lib/python3.10/site-packages/plotly/io/_renderers.py:396: DeprecationWarning:\n",
      "\n",
      "distutils Version classes are deprecated. Use packaging.version instead.\n",
      "\n"
     ]
    },
    {
     "data": {
      "application/vnd.plotly.v1+json": {
       "config": {
        "plotlyServerURL": "https://plot.ly"
       },
       "data": [
        {
         "hovertemplate": "%{y}",
         "legendgroup": "AVAX",
         "line": {
          "color": "#636efa",
          "dash": "solid"
         },
         "marker": {
          "symbol": "circle"
         },
         "mode": "lines",
         "name": "AVAX",
         "orientation": "v",
         "showlegend": true,
         "type": "scatter",
         "x": [
          "2021-08-26T00:00:00",
          "2021-08-27T00:00:00",
          "2021-08-28T00:00:00",
          "2021-08-29T00:00:00",
          "2021-08-30T00:00:00",
          "2021-08-31T00:00:00",
          "2021-09-01T00:00:00",
          "2021-09-02T00:00:00",
          "2021-09-03T00:00:00",
          "2021-09-04T00:00:00",
          "2021-09-05T00:00:00",
          "2021-09-06T00:00:00",
          "2021-09-07T00:00:00",
          "2021-09-08T00:00:00",
          "2021-09-09T00:00:00",
          "2021-09-10T00:00:00",
          "2021-09-11T00:00:00",
          "2021-09-12T00:00:00",
          "2021-09-13T00:00:00",
          "2021-09-14T00:00:00",
          "2021-09-15T00:00:00",
          "2021-09-16T00:00:00",
          "2021-09-17T00:00:00",
          "2021-09-18T00:00:00",
          "2021-09-19T00:00:00",
          "2021-09-20T00:00:00",
          "2021-09-21T00:00:00",
          "2021-09-22T00:00:00",
          "2021-09-23T00:00:00",
          "2021-09-24T00:00:00",
          "2021-09-25T00:00:00",
          "2021-09-26T00:00:00",
          "2021-09-27T00:00:00",
          "2021-09-28T00:00:00",
          "2021-09-29T00:00:00",
          "2021-09-30T00:00:00",
          "2021-10-01T00:00:00",
          "2021-10-02T00:00:00",
          "2021-10-03T00:00:00",
          "2021-10-04T00:00:00",
          "2021-10-05T00:00:00",
          "2021-10-06T00:00:00",
          "2021-10-07T00:00:00",
          "2021-10-08T00:00:00",
          "2021-10-09T00:00:00",
          "2021-10-10T00:00:00",
          "2021-10-11T00:00:00",
          "2021-10-12T00:00:00",
          "2021-10-13T00:00:00",
          "2021-10-14T00:00:00",
          "2021-10-15T00:00:00",
          "2021-10-16T00:00:00",
          "2021-10-17T00:00:00",
          "2021-10-18T00:00:00",
          "2021-10-19T00:00:00",
          "2021-10-20T00:00:00",
          "2021-10-21T00:00:00",
          "2021-10-22T00:00:00",
          "2021-10-23T00:00:00",
          "2021-10-24T00:00:00",
          "2021-10-25T00:00:00",
          "2021-10-26T00:00:00",
          "2021-10-27T00:00:00",
          "2021-10-28T00:00:00",
          "2021-10-29T00:00:00",
          "2021-10-30T00:00:00",
          "2021-10-31T00:00:00",
          "2021-11-01T00:00:00",
          "2021-11-02T00:00:00",
          "2021-11-03T00:00:00",
          "2021-11-04T00:00:00",
          "2021-11-05T00:00:00",
          "2021-11-06T00:00:00",
          "2021-11-07T00:00:00",
          "2021-11-08T00:00:00",
          "2021-11-09T00:00:00",
          "2021-11-10T00:00:00",
          "2021-11-11T00:00:00",
          "2021-11-12T00:00:00",
          "2021-11-13T00:00:00",
          "2021-11-14T00:00:00",
          "2021-11-15T00:00:00",
          "2021-11-16T00:00:00",
          "2021-11-17T00:00:00",
          "2021-11-18T00:00:00",
          "2021-11-19T00:00:00",
          "2021-11-20T00:00:00",
          "2021-11-21T00:00:00",
          "2021-11-22T00:00:00",
          "2021-11-23T00:00:00",
          "2021-11-24T00:00:00",
          "2021-11-25T00:00:00",
          "2021-11-26T00:00:00",
          "2021-11-27T00:00:00",
          "2021-11-28T00:00:00",
          "2021-11-29T00:00:00",
          "2021-11-30T00:00:00",
          "2021-12-01T00:00:00",
          "2021-12-02T00:00:00",
          "2021-12-03T00:00:00",
          "2021-12-04T00:00:00",
          "2021-12-05T00:00:00",
          "2021-12-06T00:00:00",
          "2021-12-07T00:00:00",
          "2021-12-08T00:00:00",
          "2021-12-09T00:00:00",
          "2021-12-10T00:00:00",
          "2021-12-11T00:00:00",
          "2021-12-12T00:00:00",
          "2021-12-13T00:00:00",
          "2021-12-14T00:00:00",
          "2021-12-15T00:00:00",
          "2021-12-16T00:00:00",
          "2021-12-17T00:00:00",
          "2021-12-18T00:00:00",
          "2021-12-19T00:00:00",
          "2021-12-20T00:00:00",
          "2021-12-21T00:00:00",
          "2021-12-22T00:00:00",
          "2021-12-23T00:00:00",
          "2021-12-24T00:00:00",
          "2021-12-25T00:00:00",
          "2021-12-26T00:00:00",
          "2021-12-27T00:00:00",
          "2021-12-28T00:00:00",
          "2021-12-29T00:00:00",
          "2021-12-30T00:00:00",
          "2021-12-31T00:00:00",
          "2022-01-01T00:00:00",
          "2022-01-02T00:00:00",
          "2022-01-03T00:00:00",
          "2022-01-04T00:00:00",
          "2022-01-05T00:00:00",
          "2022-01-06T00:00:00",
          "2022-01-07T00:00:00",
          "2022-01-08T00:00:00",
          "2022-01-09T00:00:00",
          "2022-01-10T00:00:00",
          "2022-01-11T00:00:00",
          "2022-01-12T00:00:00",
          "2022-01-13T00:00:00",
          "2022-01-14T00:00:00",
          "2022-01-15T00:00:00",
          "2022-01-16T00:00:00",
          "2022-01-17T00:00:00",
          "2022-01-18T00:00:00",
          "2022-01-19T00:00:00",
          "2022-01-20T00:00:00",
          "2022-01-21T00:00:00",
          "2022-01-22T00:00:00",
          "2022-01-23T00:00:00",
          "2022-01-24T00:00:00",
          "2022-01-25T00:00:00",
          "2022-01-26T00:00:00",
          "2022-01-27T00:00:00",
          "2022-01-28T00:00:00",
          "2022-01-29T00:00:00",
          "2022-01-30T00:00:00",
          "2022-01-31T00:00:00",
          "2022-02-01T00:00:00",
          "2022-02-02T00:00:00",
          "2022-02-03T00:00:00",
          "2022-02-04T00:00:00",
          "2022-02-05T00:00:00",
          "2022-02-06T00:00:00",
          "2022-02-07T00:00:00",
          "2022-02-08T00:00:00",
          "2022-02-09T00:00:00",
          "2022-02-10T00:00:00",
          "2022-02-11T00:00:00",
          "2022-02-12T00:00:00",
          "2022-02-13T00:00:00",
          "2022-02-14T00:00:00",
          "2022-02-15T00:00:00",
          "2022-02-16T00:00:00",
          "2022-02-17T00:00:00",
          "2022-02-18T00:00:00",
          "2022-02-19T00:00:00",
          "2022-02-20T00:00:00",
          "2022-02-21T00:00:00",
          "2022-02-22T00:00:00",
          "2022-02-23T00:00:00",
          "2022-02-24T00:00:00",
          "2022-02-25T00:00:00",
          "2022-02-26T00:00:00",
          "2022-02-27T00:00:00",
          "2022-02-28T00:00:00",
          "2022-03-01T00:00:00",
          "2022-03-02T00:00:00",
          "2022-03-03T00:00:00",
          "2022-03-04T00:00:00",
          "2022-03-05T00:00:00",
          "2022-03-06T00:00:00",
          "2022-03-07T00:00:00",
          "2022-03-08T00:00:00",
          "2022-03-09T00:00:00",
          "2022-03-10T00:00:00",
          "2022-03-11T00:00:00",
          "2022-03-12T00:00:00",
          "2022-03-13T00:00:00",
          "2022-03-14T00:00:00",
          "2022-03-15T00:00:00",
          "2022-03-16T00:00:00",
          "2022-03-17T00:00:00",
          "2022-03-18T00:00:00",
          "2022-03-19T00:00:00",
          "2022-03-20T00:00:00",
          "2022-03-21T00:00:00",
          "2022-03-22T00:00:00",
          "2022-03-23T00:00:00",
          "2022-03-24T00:00:00",
          "2022-03-25T00:00:00",
          "2022-03-26T00:00:00",
          "2022-03-27T00:00:00",
          "2022-03-28T00:00:00",
          "2022-03-29T00:00:00",
          "2022-03-30T00:00:00",
          "2022-03-31T00:00:00",
          "2022-04-01T00:00:00",
          "2022-04-02T00:00:00",
          "2022-04-03T00:00:00",
          "2022-04-04T00:00:00",
          "2022-04-05T00:00:00",
          "2022-04-06T00:00:00",
          "2022-04-07T00:00:00",
          "2022-04-08T00:00:00",
          "2022-04-09T00:00:00",
          "2022-04-10T00:00:00",
          "2022-04-11T00:00:00",
          "2022-04-12T00:00:00",
          "2022-04-13T00:00:00",
          "2022-04-14T00:00:00",
          "2022-04-15T00:00:00",
          "2022-04-16T00:00:00",
          "2022-04-17T00:00:00",
          "2022-04-18T00:00:00",
          "2022-04-19T00:00:00",
          "2022-04-20T00:00:00",
          "2022-04-21T00:00:00",
          "2022-04-22T00:00:00",
          "2022-04-23T00:00:00",
          "2022-04-24T00:00:00",
          "2022-04-25T00:00:00",
          "2022-04-26T00:00:00",
          "2022-04-27T00:00:00",
          "2022-04-28T00:00:00",
          "2022-04-29T00:00:00",
          "2022-04-30T00:00:00",
          "2022-05-01T00:00:00",
          "2022-05-02T00:00:00",
          "2022-05-03T00:00:00",
          "2022-05-04T00:00:00",
          "2022-05-05T00:00:00",
          "2022-05-06T00:00:00",
          "2022-05-07T00:00:00",
          "2022-05-08T00:00:00",
          "2022-05-09T00:00:00",
          "2022-05-10T00:00:00",
          "2022-05-11T00:00:00",
          "2022-05-12T00:00:00",
          "2022-05-13T00:00:00",
          "2022-05-14T00:00:00",
          "2022-05-15T00:00:00",
          "2022-05-16T00:00:00",
          "2022-05-17T00:00:00",
          "2022-05-18T00:00:00",
          "2022-05-19T00:00:00",
          "2022-05-20T00:00:00",
          "2022-05-21T00:00:00",
          "2022-05-22T00:00:00",
          "2022-05-23T00:00:00",
          "2022-05-24T00:00:00",
          "2022-05-25T00:00:00",
          "2022-05-26T00:00:00",
          "2022-05-27T00:00:00",
          "2022-05-28T00:00:00",
          "2022-05-29T00:00:00",
          "2022-05-30T00:00:00",
          "2022-05-31T00:00:00",
          "2022-06-01T00:00:00"
         ],
         "xaxis": "x",
         "y": [
          0.5,
          0.5,
          0.5,
          0.5,
          0.5,
          0.5,
          0.5,
          0.5,
          0.5,
          0.5,
          0.5,
          0.5,
          0.5,
          0.5,
          0.5,
          0.5,
          0.5,
          0.5,
          0.5,
          0.5,
          0.5,
          0.5,
          0.5,
          0.5,
          0.5,
          0.5,
          0.5,
          0.5,
          0.5,
          0.5,
          0.5,
          0.5,
          0.5,
          0.5,
          0.5,
          0.5,
          0.5,
          0.5,
          0.5,
          0.5,
          0.5,
          0.5,
          0.5,
          0.5,
          0.5,
          0.5,
          0.5,
          0.5,
          0.5,
          0.5,
          0.5,
          0.5,
          0.5,
          0.5,
          0.5,
          0.5,
          0.5,
          0.5,
          0.5,
          0.5,
          0.5,
          0.5,
          0.5,
          0.5,
          0.5,
          0.5,
          0.5,
          0.5,
          0.5,
          0.5,
          0.5,
          0.5,
          0.5,
          0.5,
          0.5,
          0.5,
          0.5,
          0.5,
          0.5,
          0.5,
          0.5,
          0.5,
          0.5,
          0.5,
          0.5,
          0.5,
          0.5,
          0.5,
          0.5,
          0.5,
          0.5,
          0.5,
          0.5,
          0.5,
          0.5,
          0.5,
          0.5,
          0.5,
          0.5,
          0.5,
          0.5,
          0.5,
          0.5,
          0.5,
          0.5,
          0.5,
          0.5,
          0.5,
          0.5,
          0.5,
          0.5,
          0.5,
          0.5,
          0.5,
          0.5,
          0.5,
          0.5,
          0.5,
          0.5,
          0.5,
          0.5,
          0.5,
          0.5,
          0.5,
          0.5,
          0.5,
          0.5,
          0.5,
          0.5,
          0.5,
          0.5,
          0.5,
          0.5,
          0.5,
          0.5,
          0.5,
          0.5,
          0.5,
          0.5,
          0.5,
          0.5,
          0.5,
          0.5,
          0.5,
          0.5,
          0.5,
          0.5,
          0.5,
          0.5,
          0.5,
          0.5,
          0.5,
          0.5,
          0.5,
          0.5,
          0.5,
          0.5,
          0.5,
          0.5,
          0.5,
          0.5,
          0.5,
          0.5,
          0.5,
          0.5,
          0.5,
          0.5,
          0.5,
          0.5,
          0.5,
          0.5,
          0.5,
          0.5,
          0.5,
          0.5,
          0.5,
          0.5,
          0.5,
          0.5,
          0.5,
          0.5,
          0.5,
          0.5,
          0.5,
          0.5,
          0.5,
          0.5,
          0.5,
          0.5,
          0.5,
          0.5,
          0.5,
          0.5,
          0.5,
          0.5,
          0.5,
          0.5,
          0.5,
          0.5,
          0.5,
          0.5,
          0.5,
          0.5,
          0.5,
          0.5,
          0.5,
          0.5,
          0.5,
          0.5,
          0.5,
          0.5,
          0.5,
          0.5,
          0.5,
          0.5,
          0.5,
          0.5,
          0.5,
          0.5,
          0.5,
          0.5,
          0.5,
          0.5,
          0.5,
          0.5,
          0.5,
          0.5,
          0.5,
          0.5,
          0.5,
          0.5,
          0.5,
          0.5,
          0.5,
          0.5,
          0.5,
          0.5,
          0.5,
          0.5,
          0.5,
          0.5,
          0.5,
          0.5,
          0.5,
          0.5,
          0.5,
          0.5,
          0.5,
          0.5,
          0.5,
          0.5,
          0.5,
          0.5,
          0.5,
          0.5,
          0.5,
          0.5,
          0.5,
          0.5,
          0.5,
          0.5,
          0.5,
          0.5,
          0.5,
          0.5,
          0.5,
          0.5,
          0.5,
          0.5,
          0.5,
          0.5,
          0.5,
          0.5,
          0.5,
          0.5,
          0.5,
          0.5,
          0.5,
          0.5,
          0.5
         ],
         "yaxis": "y"
        },
        {
         "hovertemplate": "%{y}",
         "legendgroup": "JOE",
         "line": {
          "color": "#EF553B",
          "dash": "solid"
         },
         "marker": {
          "symbol": "circle"
         },
         "mode": "lines",
         "name": "JOE",
         "orientation": "v",
         "showlegend": true,
         "type": "scatter",
         "x": [
          "2021-08-26T00:00:00",
          "2021-08-27T00:00:00",
          "2021-08-28T00:00:00",
          "2021-08-29T00:00:00",
          "2021-08-30T00:00:00",
          "2021-08-31T00:00:00",
          "2021-09-01T00:00:00",
          "2021-09-02T00:00:00",
          "2021-09-03T00:00:00",
          "2021-09-04T00:00:00",
          "2021-09-05T00:00:00",
          "2021-09-06T00:00:00",
          "2021-09-07T00:00:00",
          "2021-09-08T00:00:00",
          "2021-09-09T00:00:00",
          "2021-09-10T00:00:00",
          "2021-09-11T00:00:00",
          "2021-09-12T00:00:00",
          "2021-09-13T00:00:00",
          "2021-09-14T00:00:00",
          "2021-09-15T00:00:00",
          "2021-09-16T00:00:00",
          "2021-09-17T00:00:00",
          "2021-09-18T00:00:00",
          "2021-09-19T00:00:00",
          "2021-09-20T00:00:00",
          "2021-09-21T00:00:00",
          "2021-09-22T00:00:00",
          "2021-09-23T00:00:00",
          "2021-09-24T00:00:00",
          "2021-09-25T00:00:00",
          "2021-09-26T00:00:00",
          "2021-09-27T00:00:00",
          "2021-09-28T00:00:00",
          "2021-09-29T00:00:00",
          "2021-09-30T00:00:00",
          "2021-10-01T00:00:00",
          "2021-10-02T00:00:00",
          "2021-10-03T00:00:00",
          "2021-10-04T00:00:00",
          "2021-10-05T00:00:00",
          "2021-10-06T00:00:00",
          "2021-10-07T00:00:00",
          "2021-10-08T00:00:00",
          "2021-10-09T00:00:00",
          "2021-10-10T00:00:00",
          "2021-10-11T00:00:00",
          "2021-10-12T00:00:00",
          "2021-10-13T00:00:00",
          "2021-10-14T00:00:00",
          "2021-10-15T00:00:00",
          "2021-10-16T00:00:00",
          "2021-10-17T00:00:00",
          "2021-10-18T00:00:00",
          "2021-10-19T00:00:00",
          "2021-10-20T00:00:00",
          "2021-10-21T00:00:00",
          "2021-10-22T00:00:00",
          "2021-10-23T00:00:00",
          "2021-10-24T00:00:00",
          "2021-10-25T00:00:00",
          "2021-10-26T00:00:00",
          "2021-10-27T00:00:00",
          "2021-10-28T00:00:00",
          "2021-10-29T00:00:00",
          "2021-10-30T00:00:00",
          "2021-10-31T00:00:00",
          "2021-11-01T00:00:00",
          "2021-11-02T00:00:00",
          "2021-11-03T00:00:00",
          "2021-11-04T00:00:00",
          "2021-11-05T00:00:00",
          "2021-11-06T00:00:00",
          "2021-11-07T00:00:00",
          "2021-11-08T00:00:00",
          "2021-11-09T00:00:00",
          "2021-11-10T00:00:00",
          "2021-11-11T00:00:00",
          "2021-11-12T00:00:00",
          "2021-11-13T00:00:00",
          "2021-11-14T00:00:00",
          "2021-11-15T00:00:00",
          "2021-11-16T00:00:00",
          "2021-11-17T00:00:00",
          "2021-11-18T00:00:00",
          "2021-11-19T00:00:00",
          "2021-11-20T00:00:00",
          "2021-11-21T00:00:00",
          "2021-11-22T00:00:00",
          "2021-11-23T00:00:00",
          "2021-11-24T00:00:00",
          "2021-11-25T00:00:00",
          "2021-11-26T00:00:00",
          "2021-11-27T00:00:00",
          "2021-11-28T00:00:00",
          "2021-11-29T00:00:00",
          "2021-11-30T00:00:00",
          "2021-12-01T00:00:00",
          "2021-12-02T00:00:00",
          "2021-12-03T00:00:00",
          "2021-12-04T00:00:00",
          "2021-12-05T00:00:00",
          "2021-12-06T00:00:00",
          "2021-12-07T00:00:00",
          "2021-12-08T00:00:00",
          "2021-12-09T00:00:00",
          "2021-12-10T00:00:00",
          "2021-12-11T00:00:00",
          "2021-12-12T00:00:00",
          "2021-12-13T00:00:00",
          "2021-12-14T00:00:00",
          "2021-12-15T00:00:00",
          "2021-12-16T00:00:00",
          "2021-12-17T00:00:00",
          "2021-12-18T00:00:00",
          "2021-12-19T00:00:00",
          "2021-12-20T00:00:00",
          "2021-12-21T00:00:00",
          "2021-12-22T00:00:00",
          "2021-12-23T00:00:00",
          "2021-12-24T00:00:00",
          "2021-12-25T00:00:00",
          "2021-12-26T00:00:00",
          "2021-12-27T00:00:00",
          "2021-12-28T00:00:00",
          "2021-12-29T00:00:00",
          "2021-12-30T00:00:00",
          "2021-12-31T00:00:00",
          "2022-01-01T00:00:00",
          "2022-01-02T00:00:00",
          "2022-01-03T00:00:00",
          "2022-01-04T00:00:00",
          "2022-01-05T00:00:00",
          "2022-01-06T00:00:00",
          "2022-01-07T00:00:00",
          "2022-01-08T00:00:00",
          "2022-01-09T00:00:00",
          "2022-01-10T00:00:00",
          "2022-01-11T00:00:00",
          "2022-01-12T00:00:00",
          "2022-01-13T00:00:00",
          "2022-01-14T00:00:00",
          "2022-01-15T00:00:00",
          "2022-01-16T00:00:00",
          "2022-01-17T00:00:00",
          "2022-01-18T00:00:00",
          "2022-01-19T00:00:00",
          "2022-01-20T00:00:00",
          "2022-01-21T00:00:00",
          "2022-01-22T00:00:00",
          "2022-01-23T00:00:00",
          "2022-01-24T00:00:00",
          "2022-01-25T00:00:00",
          "2022-01-26T00:00:00",
          "2022-01-27T00:00:00",
          "2022-01-28T00:00:00",
          "2022-01-29T00:00:00",
          "2022-01-30T00:00:00",
          "2022-01-31T00:00:00",
          "2022-02-01T00:00:00",
          "2022-02-02T00:00:00",
          "2022-02-03T00:00:00",
          "2022-02-04T00:00:00",
          "2022-02-05T00:00:00",
          "2022-02-06T00:00:00",
          "2022-02-07T00:00:00",
          "2022-02-08T00:00:00",
          "2022-02-09T00:00:00",
          "2022-02-10T00:00:00",
          "2022-02-11T00:00:00",
          "2022-02-12T00:00:00",
          "2022-02-13T00:00:00",
          "2022-02-14T00:00:00",
          "2022-02-15T00:00:00",
          "2022-02-16T00:00:00",
          "2022-02-17T00:00:00",
          "2022-02-18T00:00:00",
          "2022-02-19T00:00:00",
          "2022-02-20T00:00:00",
          "2022-02-21T00:00:00",
          "2022-02-22T00:00:00",
          "2022-02-23T00:00:00",
          "2022-02-24T00:00:00",
          "2022-02-25T00:00:00",
          "2022-02-26T00:00:00",
          "2022-02-27T00:00:00",
          "2022-02-28T00:00:00",
          "2022-03-01T00:00:00",
          "2022-03-02T00:00:00",
          "2022-03-03T00:00:00",
          "2022-03-04T00:00:00",
          "2022-03-05T00:00:00",
          "2022-03-06T00:00:00",
          "2022-03-07T00:00:00",
          "2022-03-08T00:00:00",
          "2022-03-09T00:00:00",
          "2022-03-10T00:00:00",
          "2022-03-11T00:00:00",
          "2022-03-12T00:00:00",
          "2022-03-13T00:00:00",
          "2022-03-14T00:00:00",
          "2022-03-15T00:00:00",
          "2022-03-16T00:00:00",
          "2022-03-17T00:00:00",
          "2022-03-18T00:00:00",
          "2022-03-19T00:00:00",
          "2022-03-20T00:00:00",
          "2022-03-21T00:00:00",
          "2022-03-22T00:00:00",
          "2022-03-23T00:00:00",
          "2022-03-24T00:00:00",
          "2022-03-25T00:00:00",
          "2022-03-26T00:00:00",
          "2022-03-27T00:00:00",
          "2022-03-28T00:00:00",
          "2022-03-29T00:00:00",
          "2022-03-30T00:00:00",
          "2022-03-31T00:00:00",
          "2022-04-01T00:00:00",
          "2022-04-02T00:00:00",
          "2022-04-03T00:00:00",
          "2022-04-04T00:00:00",
          "2022-04-05T00:00:00",
          "2022-04-06T00:00:00",
          "2022-04-07T00:00:00",
          "2022-04-08T00:00:00",
          "2022-04-09T00:00:00",
          "2022-04-10T00:00:00",
          "2022-04-11T00:00:00",
          "2022-04-12T00:00:00",
          "2022-04-13T00:00:00",
          "2022-04-14T00:00:00",
          "2022-04-15T00:00:00",
          "2022-04-16T00:00:00",
          "2022-04-17T00:00:00",
          "2022-04-18T00:00:00",
          "2022-04-19T00:00:00",
          "2022-04-20T00:00:00",
          "2022-04-21T00:00:00",
          "2022-04-22T00:00:00",
          "2022-04-23T00:00:00",
          "2022-04-24T00:00:00",
          "2022-04-25T00:00:00",
          "2022-04-26T00:00:00",
          "2022-04-27T00:00:00",
          "2022-04-28T00:00:00",
          "2022-04-29T00:00:00",
          "2022-04-30T00:00:00",
          "2022-05-01T00:00:00",
          "2022-05-02T00:00:00",
          "2022-05-03T00:00:00",
          "2022-05-04T00:00:00",
          "2022-05-05T00:00:00",
          "2022-05-06T00:00:00",
          "2022-05-07T00:00:00",
          "2022-05-08T00:00:00",
          "2022-05-09T00:00:00",
          "2022-05-10T00:00:00",
          "2022-05-11T00:00:00",
          "2022-05-12T00:00:00",
          "2022-05-13T00:00:00",
          "2022-05-14T00:00:00",
          "2022-05-15T00:00:00",
          "2022-05-16T00:00:00",
          "2022-05-17T00:00:00",
          "2022-05-18T00:00:00",
          "2022-05-19T00:00:00",
          "2022-05-20T00:00:00",
          "2022-05-21T00:00:00",
          "2022-05-22T00:00:00",
          "2022-05-23T00:00:00",
          "2022-05-24T00:00:00",
          "2022-05-25T00:00:00",
          "2022-05-26T00:00:00",
          "2022-05-27T00:00:00",
          "2022-05-28T00:00:00",
          "2022-05-29T00:00:00",
          "2022-05-30T00:00:00",
          "2022-05-31T00:00:00",
          "2022-06-01T00:00:00"
         ],
         "xaxis": "x",
         "y": [
          0.5,
          0.5,
          0.5,
          0.4999999999999999,
          0.5,
          0.5,
          0.5,
          0.5,
          0.5,
          0.5,
          0.5,
          0.5,
          0.5,
          0.49999999999999994,
          0.5,
          0.5,
          0.49999999999999994,
          0.4999999999999999,
          0.5,
          0.5,
          0.5,
          0.5,
          0.5,
          0.5,
          0.5,
          0.49999999999999994,
          0.4999999999999999,
          0.5,
          0.5,
          0.5,
          0.49999999999999994,
          0.5,
          0.5,
          0.5,
          0.49999999999999994,
          0.5,
          0.5,
          0.5,
          0.5,
          0.5,
          0.5,
          0.49999999999999994,
          0.49999999999999994,
          0.5,
          0.5,
          0.4999999999999999,
          0.5,
          0.5,
          0.49999999999999994,
          0.49999999999999994,
          0.5,
          0.5,
          0.49999999999999994,
          0.49999999999999994,
          0.5,
          0.49999999999999994,
          0.5,
          0.5,
          0.49999999999999994,
          0.5,
          0.49999999999999994,
          0.5,
          0.49999999999999994,
          0.5,
          0.5,
          0.49999999999999994,
          0.5,
          0.5,
          0.5,
          0.5,
          0.49999999999999994,
          0.5,
          0.5,
          0.5,
          0.4999999999999999,
          0.4999999999999999,
          0.49999999999999994,
          0.4999999999999999,
          0.4999999999999999,
          0.4999999999999999,
          0.5,
          0.5,
          0.4999999999999999,
          0.5,
          0.5,
          0.49999999999999994,
          0.5,
          0.49999999999999994,
          0.5,
          0.5,
          0.5,
          0.5,
          0.5,
          0.5,
          0.5,
          0.5,
          0.5,
          0.5,
          0.5,
          0.49999999999999994,
          0.4999999999999999,
          0.49999999999999994,
          0.4999999999999999,
          0.49999999999999994,
          0.4999999999999999,
          0.5,
          0.5,
          0.49999999999999994,
          0.5,
          0.4999999999999999,
          0.5,
          0.5,
          0.49999999999999994,
          0.5,
          0.5,
          0.5,
          0.49999999999999994,
          0.5,
          0.5,
          0.5,
          0.5,
          0.5,
          0.49999999999999994,
          0.5,
          0.49999999999999994,
          0.5,
          0.5,
          0.5,
          0.5,
          0.49999999999999994,
          0.5,
          0.5,
          0.49999999999999994,
          0.5,
          0.5,
          0.5,
          0.49999999999999994,
          0.5,
          0.5,
          0.4999999999999999,
          0.49999999999999994,
          0.5,
          0.5,
          0.5,
          0.49999999999999994,
          0.5,
          0.5,
          0.5,
          0.5,
          0.49999999999999994,
          0.5,
          0.49999999999999994,
          0.5,
          0.49999999999999994,
          0.5,
          0.5,
          0.5,
          0.4999999999999999,
          0.49999999999999994,
          0.5,
          0.5,
          0.5,
          0.5,
          0.4999999999999999,
          0.5,
          0.5,
          0.5,
          0.49999999999999994,
          0.5,
          0.5,
          0.4999999999999999,
          0.4999999999999999,
          0.5,
          0.5,
          0.5,
          0.5,
          0.5,
          0.5,
          0.49999999999999994,
          0.5,
          0.5,
          0.5,
          0.5,
          0.49999999999999994,
          0.4999999999999999,
          0.5,
          0.49999999999999994,
          0.5,
          0.5,
          0.5,
          0.5,
          0.5,
          0.49999999999999994,
          0.49999999999999994,
          0.49999999999999994,
          0.5,
          0.5,
          0.5,
          0.49999999999999994,
          0.5,
          0.49999999999999994,
          0.5,
          0.5,
          0.5,
          0.5,
          0.5,
          0.5,
          0.5,
          0.5,
          0.5,
          0.5,
          0.5,
          0.5,
          0.49999999999999994,
          0.5,
          0.5,
          0.49999999999999994,
          0.49999999999999994,
          0.49999999999999994,
          0.5,
          0.5,
          0.5,
          0.5,
          0.4999999999999999,
          0.49999999999999994,
          0.5,
          0.5,
          0.5,
          0.5,
          0.49999999999999994,
          0.5,
          0.49999999999999994,
          0.49999999999999994,
          0.5,
          0.49999999999999994,
          0.5,
          0.5,
          0.49999999999999994,
          0.49999999999999994,
          0.5,
          0.5,
          0.5,
          0.5,
          0.5,
          0.5,
          0.5,
          0.49999999999999994,
          0.5,
          0.5,
          0.49999999999999994,
          0.5,
          0.5,
          0.5,
          0.5,
          0.5,
          0.5,
          0.49999999999999994,
          0.4999999999999999,
          0.5,
          0.5,
          0.5,
          0.49999999999999983,
          0.5,
          0.49999999999999994,
          0.5,
          0.5,
          0.5,
          0.5,
          0.5,
          0.5,
          0.5,
          0.5,
          0.49999999999999994,
          0.4999999999999999,
          0.4999999999999999,
          0.5,
          0.5,
          0.5,
          0.5,
          0.5
         ],
         "yaxis": "y"
        }
       ],
       "layout": {
        "autosize": true,
        "hoverdistance": 100,
        "hovermode": "x",
        "legend": {
         "title": {
          "text": ""
         },
         "tracegroupgap": 0
        },
        "margin": {
         "t": 60
        },
        "spikedistance": 1000,
        "template": {
         "data": {
          "bar": [
           {
            "error_x": {
             "color": "#2a3f5f"
            },
            "error_y": {
             "color": "#2a3f5f"
            },
            "marker": {
             "line": {
              "color": "white",
              "width": 0.5
             },
             "pattern": {
              "fillmode": "overlay",
              "size": 10,
              "solidity": 0.2
             }
            },
            "type": "bar"
           }
          ],
          "barpolar": [
           {
            "marker": {
             "line": {
              "color": "white",
              "width": 0.5
             },
             "pattern": {
              "fillmode": "overlay",
              "size": 10,
              "solidity": 0.2
             }
            },
            "type": "barpolar"
           }
          ],
          "carpet": [
           {
            "aaxis": {
             "endlinecolor": "#2a3f5f",
             "gridcolor": "#C8D4E3",
             "linecolor": "#C8D4E3",
             "minorgridcolor": "#C8D4E3",
             "startlinecolor": "#2a3f5f"
            },
            "baxis": {
             "endlinecolor": "#2a3f5f",
             "gridcolor": "#C8D4E3",
             "linecolor": "#C8D4E3",
             "minorgridcolor": "#C8D4E3",
             "startlinecolor": "#2a3f5f"
            },
            "type": "carpet"
           }
          ],
          "choropleth": [
           {
            "colorbar": {
             "outlinewidth": 0,
             "ticks": ""
            },
            "type": "choropleth"
           }
          ],
          "contour": [
           {
            "colorbar": {
             "outlinewidth": 0,
             "ticks": ""
            },
            "colorscale": [
             [
              0,
              "#0d0887"
             ],
             [
              0.1111111111111111,
              "#46039f"
             ],
             [
              0.2222222222222222,
              "#7201a8"
             ],
             [
              0.3333333333333333,
              "#9c179e"
             ],
             [
              0.4444444444444444,
              "#bd3786"
             ],
             [
              0.5555555555555556,
              "#d8576b"
             ],
             [
              0.6666666666666666,
              "#ed7953"
             ],
             [
              0.7777777777777778,
              "#fb9f3a"
             ],
             [
              0.8888888888888888,
              "#fdca26"
             ],
             [
              1,
              "#f0f921"
             ]
            ],
            "type": "contour"
           }
          ],
          "contourcarpet": [
           {
            "colorbar": {
             "outlinewidth": 0,
             "ticks": ""
            },
            "type": "contourcarpet"
           }
          ],
          "heatmap": [
           {
            "colorbar": {
             "outlinewidth": 0,
             "ticks": ""
            },
            "colorscale": [
             [
              0,
              "#0d0887"
             ],
             [
              0.1111111111111111,
              "#46039f"
             ],
             [
              0.2222222222222222,
              "#7201a8"
             ],
             [
              0.3333333333333333,
              "#9c179e"
             ],
             [
              0.4444444444444444,
              "#bd3786"
             ],
             [
              0.5555555555555556,
              "#d8576b"
             ],
             [
              0.6666666666666666,
              "#ed7953"
             ],
             [
              0.7777777777777778,
              "#fb9f3a"
             ],
             [
              0.8888888888888888,
              "#fdca26"
             ],
             [
              1,
              "#f0f921"
             ]
            ],
            "type": "heatmap"
           }
          ],
          "heatmapgl": [
           {
            "colorbar": {
             "outlinewidth": 0,
             "ticks": ""
            },
            "colorscale": [
             [
              0,
              "#0d0887"
             ],
             [
              0.1111111111111111,
              "#46039f"
             ],
             [
              0.2222222222222222,
              "#7201a8"
             ],
             [
              0.3333333333333333,
              "#9c179e"
             ],
             [
              0.4444444444444444,
              "#bd3786"
             ],
             [
              0.5555555555555556,
              "#d8576b"
             ],
             [
              0.6666666666666666,
              "#ed7953"
             ],
             [
              0.7777777777777778,
              "#fb9f3a"
             ],
             [
              0.8888888888888888,
              "#fdca26"
             ],
             [
              1,
              "#f0f921"
             ]
            ],
            "type": "heatmapgl"
           }
          ],
          "histogram": [
           {
            "marker": {
             "pattern": {
              "fillmode": "overlay",
              "size": 10,
              "solidity": 0.2
             }
            },
            "type": "histogram"
           }
          ],
          "histogram2d": [
           {
            "colorbar": {
             "outlinewidth": 0,
             "ticks": ""
            },
            "colorscale": [
             [
              0,
              "#0d0887"
             ],
             [
              0.1111111111111111,
              "#46039f"
             ],
             [
              0.2222222222222222,
              "#7201a8"
             ],
             [
              0.3333333333333333,
              "#9c179e"
             ],
             [
              0.4444444444444444,
              "#bd3786"
             ],
             [
              0.5555555555555556,
              "#d8576b"
             ],
             [
              0.6666666666666666,
              "#ed7953"
             ],
             [
              0.7777777777777778,
              "#fb9f3a"
             ],
             [
              0.8888888888888888,
              "#fdca26"
             ],
             [
              1,
              "#f0f921"
             ]
            ],
            "type": "histogram2d"
           }
          ],
          "histogram2dcontour": [
           {
            "colorbar": {
             "outlinewidth": 0,
             "ticks": ""
            },
            "colorscale": [
             [
              0,
              "#0d0887"
             ],
             [
              0.1111111111111111,
              "#46039f"
             ],
             [
              0.2222222222222222,
              "#7201a8"
             ],
             [
              0.3333333333333333,
              "#9c179e"
             ],
             [
              0.4444444444444444,
              "#bd3786"
             ],
             [
              0.5555555555555556,
              "#d8576b"
             ],
             [
              0.6666666666666666,
              "#ed7953"
             ],
             [
              0.7777777777777778,
              "#fb9f3a"
             ],
             [
              0.8888888888888888,
              "#fdca26"
             ],
             [
              1,
              "#f0f921"
             ]
            ],
            "type": "histogram2dcontour"
           }
          ],
          "mesh3d": [
           {
            "colorbar": {
             "outlinewidth": 0,
             "ticks": ""
            },
            "type": "mesh3d"
           }
          ],
          "parcoords": [
           {
            "line": {
             "colorbar": {
              "outlinewidth": 0,
              "ticks": ""
             }
            },
            "type": "parcoords"
           }
          ],
          "pie": [
           {
            "automargin": true,
            "type": "pie"
           }
          ],
          "scatter": [
           {
            "marker": {
             "colorbar": {
              "outlinewidth": 0,
              "ticks": ""
             }
            },
            "type": "scatter"
           }
          ],
          "scatter3d": [
           {
            "line": {
             "colorbar": {
              "outlinewidth": 0,
              "ticks": ""
             }
            },
            "marker": {
             "colorbar": {
              "outlinewidth": 0,
              "ticks": ""
             }
            },
            "type": "scatter3d"
           }
          ],
          "scattercarpet": [
           {
            "marker": {
             "colorbar": {
              "outlinewidth": 0,
              "ticks": ""
             }
            },
            "type": "scattercarpet"
           }
          ],
          "scattergeo": [
           {
            "marker": {
             "colorbar": {
              "outlinewidth": 0,
              "ticks": ""
             }
            },
            "type": "scattergeo"
           }
          ],
          "scattergl": [
           {
            "marker": {
             "colorbar": {
              "outlinewidth": 0,
              "ticks": ""
             }
            },
            "type": "scattergl"
           }
          ],
          "scattermapbox": [
           {
            "marker": {
             "colorbar": {
              "outlinewidth": 0,
              "ticks": ""
             }
            },
            "type": "scattermapbox"
           }
          ],
          "scatterpolar": [
           {
            "marker": {
             "colorbar": {
              "outlinewidth": 0,
              "ticks": ""
             }
            },
            "type": "scatterpolar"
           }
          ],
          "scatterpolargl": [
           {
            "marker": {
             "colorbar": {
              "outlinewidth": 0,
              "ticks": ""
             }
            },
            "type": "scatterpolargl"
           }
          ],
          "scatterternary": [
           {
            "marker": {
             "colorbar": {
              "outlinewidth": 0,
              "ticks": ""
             }
            },
            "type": "scatterternary"
           }
          ],
          "surface": [
           {
            "colorbar": {
             "outlinewidth": 0,
             "ticks": ""
            },
            "colorscale": [
             [
              0,
              "#0d0887"
             ],
             [
              0.1111111111111111,
              "#46039f"
             ],
             [
              0.2222222222222222,
              "#7201a8"
             ],
             [
              0.3333333333333333,
              "#9c179e"
             ],
             [
              0.4444444444444444,
              "#bd3786"
             ],
             [
              0.5555555555555556,
              "#d8576b"
             ],
             [
              0.6666666666666666,
              "#ed7953"
             ],
             [
              0.7777777777777778,
              "#fb9f3a"
             ],
             [
              0.8888888888888888,
              "#fdca26"
             ],
             [
              1,
              "#f0f921"
             ]
            ],
            "type": "surface"
           }
          ],
          "table": [
           {
            "cells": {
             "fill": {
              "color": "#EBF0F8"
             },
             "line": {
              "color": "white"
             }
            },
            "header": {
             "fill": {
              "color": "#C8D4E3"
             },
             "line": {
              "color": "white"
             }
            },
            "type": "table"
           }
          ]
         },
         "layout": {
          "annotationdefaults": {
           "arrowcolor": "#2a3f5f",
           "arrowhead": 0,
           "arrowwidth": 1
          },
          "autotypenumbers": "strict",
          "coloraxis": {
           "colorbar": {
            "outlinewidth": 0,
            "ticks": ""
           }
          },
          "colorscale": {
           "diverging": [
            [
             0,
             "#8e0152"
            ],
            [
             0.1,
             "#c51b7d"
            ],
            [
             0.2,
             "#de77ae"
            ],
            [
             0.3,
             "#f1b6da"
            ],
            [
             0.4,
             "#fde0ef"
            ],
            [
             0.5,
             "#f7f7f7"
            ],
            [
             0.6,
             "#e6f5d0"
            ],
            [
             0.7,
             "#b8e186"
            ],
            [
             0.8,
             "#7fbc41"
            ],
            [
             0.9,
             "#4d9221"
            ],
            [
             1,
             "#276419"
            ]
           ],
           "sequential": [
            [
             0,
             "#0d0887"
            ],
            [
             0.1111111111111111,
             "#46039f"
            ],
            [
             0.2222222222222222,
             "#7201a8"
            ],
            [
             0.3333333333333333,
             "#9c179e"
            ],
            [
             0.4444444444444444,
             "#bd3786"
            ],
            [
             0.5555555555555556,
             "#d8576b"
            ],
            [
             0.6666666666666666,
             "#ed7953"
            ],
            [
             0.7777777777777778,
             "#fb9f3a"
            ],
            [
             0.8888888888888888,
             "#fdca26"
            ],
            [
             1,
             "#f0f921"
            ]
           ],
           "sequentialminus": [
            [
             0,
             "#0d0887"
            ],
            [
             0.1111111111111111,
             "#46039f"
            ],
            [
             0.2222222222222222,
             "#7201a8"
            ],
            [
             0.3333333333333333,
             "#9c179e"
            ],
            [
             0.4444444444444444,
             "#bd3786"
            ],
            [
             0.5555555555555556,
             "#d8576b"
            ],
            [
             0.6666666666666666,
             "#ed7953"
            ],
            [
             0.7777777777777778,
             "#fb9f3a"
            ],
            [
             0.8888888888888888,
             "#fdca26"
            ],
            [
             1,
             "#f0f921"
            ]
           ]
          },
          "colorway": [
           "#636efa",
           "#EF553B",
           "#00cc96",
           "#ab63fa",
           "#FFA15A",
           "#19d3f3",
           "#FF6692",
           "#B6E880",
           "#FF97FF",
           "#FECB52"
          ],
          "font": {
           "color": "#2a3f5f"
          },
          "geo": {
           "bgcolor": "white",
           "lakecolor": "white",
           "landcolor": "white",
           "showlakes": true,
           "showland": true,
           "subunitcolor": "#C8D4E3"
          },
          "hoverlabel": {
           "align": "left"
          },
          "hovermode": "closest",
          "mapbox": {
           "style": "light"
          },
          "paper_bgcolor": "white",
          "plot_bgcolor": "white",
          "polar": {
           "angularaxis": {
            "gridcolor": "#EBF0F8",
            "linecolor": "#EBF0F8",
            "ticks": ""
           },
           "bgcolor": "white",
           "radialaxis": {
            "gridcolor": "#EBF0F8",
            "linecolor": "#EBF0F8",
            "ticks": ""
           }
          },
          "scene": {
           "xaxis": {
            "backgroundcolor": "white",
            "gridcolor": "#DFE8F3",
            "gridwidth": 2,
            "linecolor": "#EBF0F8",
            "showbackground": true,
            "ticks": "",
            "zerolinecolor": "#EBF0F8"
           },
           "yaxis": {
            "backgroundcolor": "white",
            "gridcolor": "#DFE8F3",
            "gridwidth": 2,
            "linecolor": "#EBF0F8",
            "showbackground": true,
            "ticks": "",
            "zerolinecolor": "#EBF0F8"
           },
           "zaxis": {
            "backgroundcolor": "white",
            "gridcolor": "#DFE8F3",
            "gridwidth": 2,
            "linecolor": "#EBF0F8",
            "showbackground": true,
            "ticks": "",
            "zerolinecolor": "#EBF0F8"
           }
          },
          "shapedefaults": {
           "line": {
            "color": "#2a3f5f"
           }
          },
          "ternary": {
           "aaxis": {
            "gridcolor": "#DFE8F3",
            "linecolor": "#A2B1C6",
            "ticks": ""
           },
           "baxis": {
            "gridcolor": "#DFE8F3",
            "linecolor": "#A2B1C6",
            "ticks": ""
           },
           "bgcolor": "white",
           "caxis": {
            "gridcolor": "#DFE8F3",
            "linecolor": "#A2B1C6",
            "ticks": ""
           }
          },
          "title": {
           "x": 0.05
          },
          "xaxis": {
           "automargin": true,
           "gridcolor": "#EBF0F8",
           "linecolor": "#EBF0F8",
           "ticks": "",
           "title": {
            "standoff": 15
           },
           "zerolinecolor": "#EBF0F8",
           "zerolinewidth": 2
          },
          "yaxis": {
           "automargin": true,
           "gridcolor": "#EBF0F8",
           "linecolor": "#EBF0F8",
           "ticks": "",
           "title": {
            "standoff": 15
           },
           "zerolinecolor": "#EBF0F8",
           "zerolinewidth": 2
          }
         }
        },
        "title": {
         "text": "Weights with max constraint"
        },
        "xaxis": {
         "anchor": "y",
         "autorange": true,
         "domain": [
          0,
          1
         ],
         "range": [
          "2021-08-26",
          "2022-06-01"
         ],
         "showspikes": true,
         "spikecolor": "#999999",
         "spikedash": "dot",
         "spikemode": "across",
         "spikethickness": 2,
         "title": {
          "text": "date"
         },
         "type": "date"
        },
        "yaxis": {
         "anchor": "x",
         "domain": [
          0,
          1
         ],
         "range": [
          0,
          1
         ],
         "tickformat": ".2%",
         "title": {
          "text": "weight, %"
         },
         "type": "linear"
        }
       }
      },
      "image/png": "[encoded data removed]",
      "text/html": [
       "<div>                            <div id=\"c06efc94-6533-43dd-9577-b15922bb801b\" class=\"plotly-graph-div\" style=\"height:525px; width:100%;\"></div>            <script type=\"text/javascript\">                require([\"plotly\"], function(Plotly) {                    window.PLOTLYENV=window.PLOTLYENV || {};                                    if (document.getElementById(\"c06efc94-6533-43dd-9577-b15922bb801b\")) {                    Plotly.newPlot(                        \"c06efc94-6533-43dd-9577-b15922bb801b\",                        [{\"hovertemplate\":\"%{y}\",\"legendgroup\":\"AVAX\",\"line\":{\"color\":\"#636efa\",\"dash\":\"solid\"},\"marker\":{\"symbol\":\"circle\"},\"mode\":\"lines\",\"name\":\"AVAX\",\"orientation\":\"v\",\"showlegend\":true,\"x\":[\"2021-08-26T00:00:00\",\"2021-08-27T00:00:00\",\"2021-08-28T00:00:00\",\"2021-08-29T00:00:00\",\"2021-08-30T00:00:00\",\"2021-08-31T00:00:00\",\"2021-09-01T00:00:00\",\"2021-09-02T00:00:00\",\"2021-09-03T00:00:00\",\"2021-09-04T00:00:00\",\"2021-09-05T00:00:00\",\"2021-09-06T00:00:00\",\"2021-09-07T00:00:00\",\"2021-09-08T00:00:00\",\"2021-09-09T00:00:00\",\"2021-09-10T00:00:00\",\"2021-09-11T00:00:00\",\"2021-09-12T00:00:00\",\"2021-09-13T00:00:00\",\"2021-09-14T00:00:00\",\"2021-09-15T00:00:00\",\"2021-09-16T00:00:00\",\"2021-09-17T00:00:00\",\"2021-09-18T00:00:00\",\"2021-09-19T00:00:00\",\"2021-09-20T00:00:00\",\"2021-09-21T00:00:00\",\"2021-09-22T00:00:00\",\"2021-09-23T00:00:00\",\"2021-09-24T00:00:00\",\"2021-09-25T00:00:00\",\"2021-09-26T00:00:00\",\"2021-09-27T00:00:00\",\"2021-09-28T00:00:00\",\"2021-09-29T00:00:00\",\"2021-09-30T00:00:00\",\"2021-10-01T00:00:00\",\"2021-10-02T00:00:00\",\"2021-10-03T00:00:00\",\"2021-10-04T00:00:00\",\"2021-10-05T00:00:00\",\"2021-10-06T00:00:00\",\"2021-10-07T00:00:00\",\"2021-10-08T00:00:00\",\"2021-10-09T00:00:00\",\"2021-10-10T00:00:00\",\"2021-10-11T00:00:00\",\"2021-10-12T00:00:00\",\"2021-10-13T00:00:00\",\"2021-10-14T00:00:00\",\"2021-10-15T00:00:00\",\"2021-10-16T00:00:00\",\"2021-10-17T00:00:00\",\"2021-10-18T00:00:00\",\"2021-10-19T00:00:00\",\"2021-10-20T00:00:00\",\"2021-10-21T00:00:00\",\"2021-10-22T00:00:00\",\"2021-10-23T00:00:00\",\"2021-10-24T00:00:00\",\"2021-10-25T00:00:00\",\"2021-10-26T00:00:00\",\"2021-10-27T00:00:00\",\"2021-10-28T00:00:00\",\"2021-10-29T00:00:00\",\"2021-10-30T00:00:00\",\"2021-10-31T00:00:00\",\"2021-11-01T00:00:00\",\"2021-11-02T00:00:00\",\"2021-11-03T00:00:00\",\"2021-11-04T00:00:00\",\"2021-11-05T00:00:00\",\"2021-11-06T00:00:00\",\"2021-11-07T00:00:00\",\"2021-11-08T00:00:00\",\"2021-11-09T00:00:00\",\"2021-11-10T00:00:00\",\"2021-11-11T00:00:00\",\"2021-11-12T00:00:00\",\"2021-11-13T00:00:00\",\"2021-11-14T00:00:00\",\"2021-11-15T00:00:00\",\"2021-11-16T00:00:00\",\"2021-11-17T00:00:00\",\"2021-11-18T00:00:00\",\"2021-11-19T00:00:00\",\"2021-11-20T00:00:00\",\"2021-11-21T00:00:00\",\"2021-11-22T00:00:00\",\"2021-11-23T00:00:00\",\"2021-11-24T00:00:00\",\"2021-11-25T00:00:00\",\"2021-11-26T00:00:00\",\"2021-11-27T00:00:00\",\"2021-11-28T00:00:00\",\"2021-11-29T00:00:00\",\"2021-11-30T00:00:00\",\"2021-12-01T00:00:00\",\"2021-12-02T00:00:00\",\"2021-12-03T00:00:00\",\"2021-12-04T00:00:00\",\"2021-12-05T00:00:00\",\"2021-12-06T00:00:00\",\"2021-12-07T00:00:00\",\"2021-12-08T00:00:00\",\"2021-12-09T00:00:00\",\"2021-12-10T00:00:00\",\"2021-12-11T00:00:00\",\"2021-12-12T00:00:00\",\"2021-12-13T00:00:00\",\"2021-12-14T00:00:00\",\"2021-12-15T00:00:00\",\"2021-12-16T00:00:00\",\"2021-12-17T00:00:00\",\"2021-12-18T00:00:00\",\"2021-12-19T00:00:00\",\"2021-12-20T00:00:00\",\"2021-12-21T00:00:00\",\"2021-12-22T00:00:00\",\"2021-12-23T00:00:00\",\"2021-12-24T00:00:00\",\"2021-12-25T00:00:00\",\"2021-12-26T00:00:00\",\"2021-12-27T00:00:00\",\"2021-12-28T00:00:00\",\"2021-12-29T00:00:00\",\"2021-12-30T00:00:00\",\"2021-12-31T00:00:00\",\"2022-01-01T00:00:00\",\"2022-01-02T00:00:00\",\"2022-01-03T00:00:00\",\"2022-01-04T00:00:00\",\"2022-01-05T00:00:00\",\"2022-01-06T00:00:00\",\"2022-01-07T00:00:00\",\"2022-01-08T00:00:00\",\"2022-01-09T00:00:00\",\"2022-01-10T00:00:00\",\"2022-01-11T00:00:00\",\"2022-01-12T00:00:00\",\"2022-01-13T00:00:00\",\"2022-01-14T00:00:00\",\"2022-01-15T00:00:00\",\"2022-01-16T00:00:00\",\"2022-01-17T00:00:00\",\"2022-01-18T00:00:00\",\"2022-01-19T00:00:00\",\"2022-01-20T00:00:00\",\"2022-01-21T00:00:00\",\"2022-01-22T00:00:00\",\"2022-01-23T00:00:00\",\"2022-01-24T00:00:00\",\"2022-01-25T00:00:00\",\"2022-01-26T00:00:00\",\"2022-01-27T00:00:00\",\"2022-01-28T00:00:00\",\"2022-01-29T00:00:00\",\"2022-01-30T00:00:00\",\"2022-01-31T00:00:00\",\"2022-02-01T00:00:00\",\"2022-02-02T00:00:00\",\"2022-02-03T00:00:00\",\"2022-02-04T00:00:00\",\"2022-02-05T00:00:00\",\"2022-02-06T00:00:00\",\"2022-02-07T00:00:00\",\"2022-02-08T00:00:00\",\"2022-02-09T00:00:00\",\"2022-02-10T00:00:00\",\"2022-02-11T00:00:00\",\"2022-02-12T00:00:00\",\"2022-02-13T00:00:00\",\"2022-02-14T00:00:00\",\"2022-02-15T00:00:00\",\"2022-02-16T00:00:00\",\"2022-02-17T00:00:00\",\"2022-02-18T00:00:00\",\"2022-02-19T00:00:00\",\"2022-02-20T00:00:00\",\"2022-02-21T00:00:00\",\"2022-02-22T00:00:00\",\"2022-02-23T00:00:00\",\"2022-02-24T00:00:00\",\"2022-02-25T00:00:00\",\"2022-02-26T00:00:00\",\"2022-02-27T00:00:00\",\"2022-02-28T00:00:00\",\"2022-03-01T00:00:00\",\"2022-03-02T00:00:00\",\"2022-03-03T00:00:00\",\"2022-03-04T00:00:00\",\"2022-03-05T00:00:00\",\"2022-03-06T00:00:00\",\"2022-03-07T00:00:00\",\"2022-03-08T00:00:00\",\"2022-03-09T00:00:00\",\"2022-03-10T00:00:00\",\"2022-03-11T00:00:00\",\"2022-03-12T00:00:00\",\"2022-03-13T00:00:00\",\"2022-03-14T00:00:00\",\"2022-03-15T00:00:00\",\"2022-03-16T00:00:00\",\"2022-03-17T00:00:00\",\"2022-03-18T00:00:00\",\"2022-03-19T00:00:00\",\"2022-03-20T00:00:00\",\"2022-03-21T00:00:00\",\"2022-03-22T00:00:00\",\"2022-03-23T00:00:00\",\"2022-03-24T00:00:00\",\"2022-03-25T00:00:00\",\"2022-03-26T00:00:00\",\"2022-03-27T00:00:00\",\"2022-03-28T00:00:00\",\"2022-03-29T00:00:00\",\"2022-03-30T00:00:00\",\"2022-03-31T00:00:00\",\"2022-04-01T00:00:00\",\"2022-04-02T00:00:00\",\"2022-04-03T00:00:00\",\"2022-04-04T00:00:00\",\"2022-04-05T00:00:00\",\"2022-04-06T00:00:00\",\"2022-04-07T00:00:00\",\"2022-04-08T00:00:00\",\"2022-04-09T00:00:00\",\"2022-04-10T00:00:00\",\"2022-04-11T00:00:00\",\"2022-04-12T00:00:00\",\"2022-04-13T00:00:00\",\"2022-04-14T00:00:00\",\"2022-04-15T00:00:00\",\"2022-04-16T00:00:00\",\"2022-04-17T00:00:00\",\"2022-04-18T00:00:00\",\"2022-04-19T00:00:00\",\"2022-04-20T00:00:00\",\"2022-04-21T00:00:00\",\"2022-04-22T00:00:00\",\"2022-04-23T00:00:00\",\"2022-04-24T00:00:00\",\"2022-04-25T00:00:00\",\"2022-04-26T00:00:00\",\"2022-04-27T00:00:00\",\"2022-04-28T00:00:00\",\"2022-04-29T00:00:00\",\"2022-04-30T00:00:00\",\"2022-05-01T00:00:00\",\"2022-05-02T00:00:00\",\"2022-05-03T00:00:00\",\"2022-05-04T00:00:00\",\"2022-05-05T00:00:00\",\"2022-05-06T00:00:00\",\"2022-05-07T00:00:00\",\"2022-05-08T00:00:00\",\"2022-05-09T00:00:00\",\"2022-05-10T00:00:00\",\"2022-05-11T00:00:00\",\"2022-05-12T00:00:00\",\"2022-05-13T00:00:00\",\"2022-05-14T00:00:00\",\"2022-05-15T00:00:00\",\"2022-05-16T00:00:00\",\"2022-05-17T00:00:00\",\"2022-05-18T00:00:00\",\"2022-05-19T00:00:00\",\"2022-05-20T00:00:00\",\"2022-05-21T00:00:00\",\"2022-05-22T00:00:00\",\"2022-05-23T00:00:00\",\"2022-05-24T00:00:00\",\"2022-05-25T00:00:00\",\"2022-05-26T00:00:00\",\"2022-05-27T00:00:00\",\"2022-05-28T00:00:00\",\"2022-05-29T00:00:00\",\"2022-05-30T00:00:00\",\"2022-05-31T00:00:00\",\"2022-06-01T00:00:00\"],\"xaxis\":\"x\",\"y\":[0.5,0.5,0.5,0.5,0.5,0.5,0.5,0.5,0.5,0.5,0.5,0.5,0.5,0.5,0.5,0.5,0.5,0.5,0.5,0.5,0.5,0.5,0.5,0.5,0.5,0.5,0.5,0.5,0.5,0.5,0.5,0.5,0.5,0.5,0.5,0.5,0.5,0.5,0.5,0.5,0.5,0.5,0.5,0.5,0.5,0.5,0.5,0.5,0.5,0.5,0.5,0.5,0.5,0.5,0.5,0.5,0.5,0.5,0.5,0.5,0.5,0.5,0.5,0.5,0.5,0.5,0.5,0.5,0.5,0.5,0.5,0.5,0.5,0.5,0.5,0.5,0.5,0.5,0.5,0.5,0.5,0.5,0.5,0.5,0.5,0.5,0.5,0.5,0.5,0.5,0.5,0.5,0.5,0.5,0.5,0.5,0.5,0.5,0.5,0.5,0.5,0.5,0.5,0.5,0.5,0.5,0.5,0.5,0.5,0.5,0.5,0.5,0.5,0.5,0.5,0.5,0.5,0.5,0.5,0.5,0.5,0.5,0.5,0.5,0.5,0.5,0.5,0.5,0.5,0.5,0.5,0.5,0.5,0.5,0.5,0.5,0.5,0.5,0.5,0.5,0.5,0.5,0.5,0.5,0.5,0.5,0.5,0.5,0.5,0.5,0.5,0.5,0.5,0.5,0.5,0.5,0.5,0.5,0.5,0.5,0.5,0.5,0.5,0.5,0.5,0.5,0.5,0.5,0.5,0.5,0.5,0.5,0.5,0.5,0.5,0.5,0.5,0.5,0.5,0.5,0.5,0.5,0.5,0.5,0.5,0.5,0.5,0.5,0.5,0.5,0.5,0.5,0.5,0.5,0.5,0.5,0.5,0.5,0.5,0.5,0.5,0.5,0.5,0.5,0.5,0.5,0.5,0.5,0.5,0.5,0.5,0.5,0.5,0.5,0.5,0.5,0.5,0.5,0.5,0.5,0.5,0.5,0.5,0.5,0.5,0.5,0.5,0.5,0.5,0.5,0.5,0.5,0.5,0.5,0.5,0.5,0.5,0.5,0.5,0.5,0.5,0.5,0.5,0.5,0.5,0.5,0.5,0.5,0.5,0.5,0.5,0.5,0.5,0.5,0.5,0.5,0.5,0.5,0.5,0.5,0.5,0.5,0.5,0.5,0.5,0.5,0.5,0.5,0.5,0.5,0.5,0.5,0.5,0.5,0.5,0.5,0.5,0.5,0.5,0.5],\"yaxis\":\"y\",\"type\":\"scatter\"},{\"hovertemplate\":\"%{y}\",\"legendgroup\":\"JOE\",\"line\":{\"color\":\"#EF553B\",\"dash\":\"solid\"},\"marker\":{\"symbol\":\"circle\"},\"mode\":\"lines\",\"name\":\"JOE\",\"orientation\":\"v\",\"showlegend\":true,\"x\":[\"2021-08-26T00:00:00\",\"2021-08-27T00:00:00\",\"2021-08-28T00:00:00\",\"2021-08-29T00:00:00\",\"2021-08-30T00:00:00\",\"2021-08-31T00:00:00\",\"2021-09-01T00:00:00\",\"2021-09-02T00:00:00\",\"2021-09-03T00:00:00\",\"2021-09-04T00:00:00\",\"2021-09-05T00:00:00\",\"2021-09-06T00:00:00\",\"2021-09-07T00:00:00\",\"2021-09-08T00:00:00\",\"2021-09-09T00:00:00\",\"2021-09-10T00:00:00\",\"2021-09-11T00:00:00\",\"2021-09-12T00:00:00\",\"2021-09-13T00:00:00\",\"2021-09-14T00:00:00\",\"2021-09-15T00:00:00\",\"2021-09-16T00:00:00\",\"2021-09-17T00:00:00\",\"2021-09-18T00:00:00\",\"2021-09-19T00:00:00\",\"2021-09-20T00:00:00\",\"2021-09-21T00:00:00\",\"2021-09-22T00:00:00\",\"2021-09-23T00:00:00\",\"2021-09-24T00:00:00\",\"2021-09-25T00:00:00\",\"2021-09-26T00:00:00\",\"2021-09-27T00:00:00\",\"2021-09-28T00:00:00\",\"2021-09-29T00:00:00\",\"2021-09-30T00:00:00\",\"2021-10-01T00:00:00\",\"2021-10-02T00:00:00\",\"2021-10-03T00:00:00\",\"2021-10-04T00:00:00\",\"2021-10-05T00:00:00\",\"2021-10-06T00:00:00\",\"2021-10-07T00:00:00\",\"2021-10-08T00:00:00\",\"2021-10-09T00:00:00\",\"2021-10-10T00:00:00\",\"2021-10-11T00:00:00\",\"2021-10-12T00:00:00\",\"2021-10-13T00:00:00\",\"2021-10-14T00:00:00\",\"2021-10-15T00:00:00\",\"2021-10-16T00:00:00\",\"2021-10-17T00:00:00\",\"2021-10-18T00:00:00\",\"2021-10-19T00:00:00\",\"2021-10-20T00:00:00\",\"2021-10-21T00:00:00\",\"2021-10-22T00:00:00\",\"2021-10-23T00:00:00\",\"2021-10-24T00:00:00\",\"2021-10-25T00:00:00\",\"2021-10-26T00:00:00\",\"2021-10-27T00:00:00\",\"2021-10-28T00:00:00\",\"2021-10-29T00:00:00\",\"2021-10-30T00:00:00\",\"2021-10-31T00:00:00\",\"2021-11-01T00:00:00\",\"2021-11-02T00:00:00\",\"2021-11-03T00:00:00\",\"2021-11-04T00:00:00\",\"2021-11-05T00:00:00\",\"2021-11-06T00:00:00\",\"2021-11-07T00:00:00\",\"2021-11-08T00:00:00\",\"2021-11-09T00:00:00\",\"2021-11-10T00:00:00\",\"2021-11-11T00:00:00\",\"2021-11-12T00:00:00\",\"2021-11-13T00:00:00\",\"2021-11-14T00:00:00\",\"2021-11-15T00:00:00\",\"2021-11-16T00:00:00\",\"2021-11-17T00:00:00\",\"2021-11-18T00:00:00\",\"2021-11-19T00:00:00\",\"2021-11-20T00:00:00\",\"2021-11-21T00:00:00\",\"2021-11-22T00:00:00\",\"2021-11-23T00:00:00\",\"2021-11-24T00:00:00\",\"2021-11-25T00:00:00\",\"2021-11-26T00:00:00\",\"2021-11-27T00:00:00\",\"2021-11-28T00:00:00\",\"2021-11-29T00:00:00\",\"2021-11-30T00:00:00\",\"2021-12-01T00:00:00\",\"2021-12-02T00:00:00\",\"2021-12-03T00:00:00\",\"2021-12-04T00:00:00\",\"2021-12-05T00:00:00\",\"2021-12-06T00:00:00\",\"2021-12-07T00:00:00\",\"2021-12-08T00:00:00\",\"2021-12-09T00:00:00\",\"2021-12-10T00:00:00\",\"2021-12-11T00:00:00\",\"2021-12-12T00:00:00\",\"2021-12-13T00:00:00\",\"2021-12-14T00:00:00\",\"2021-12-15T00:00:00\",\"2021-12-16T00:00:00\",\"2021-12-17T00:00:00\",\"2021-12-18T00:00:00\",\"2021-12-19T00:00:00\",\"2021-12-20T00:00:00\",\"2021-12-21T00:00:00\",\"2021-12-22T00:00:00\",\"2021-12-23T00:00:00\",\"2021-12-24T00:00:00\",\"2021-12-25T00:00:00\",\"2021-12-26T00:00:00\",\"2021-12-27T00:00:00\",\"2021-12-28T00:00:00\",\"2021-12-29T00:00:00\",\"2021-12-30T00:00:00\",\"2021-12-31T00:00:00\",\"2022-01-01T00:00:00\",\"2022-01-02T00:00:00\",\"2022-01-03T00:00:00\",\"2022-01-04T00:00:00\",\"2022-01-05T00:00:00\",\"2022-01-06T00:00:00\",\"2022-01-07T00:00:00\",\"2022-01-08T00:00:00\",\"2022-01-09T00:00:00\",\"2022-01-10T00:00:00\",\"2022-01-11T00:00:00\",\"2022-01-12T00:00:00\",\"2022-01-13T00:00:00\",\"2022-01-14T00:00:00\",\"2022-01-15T00:00:00\",\"2022-01-16T00:00:00\",\"2022-01-17T00:00:00\",\"2022-01-18T00:00:00\",\"2022-01-19T00:00:00\",\"2022-01-20T00:00:00\",\"2022-01-21T00:00:00\",\"2022-01-22T00:00:00\",\"2022-01-23T00:00:00\",\"2022-01-24T00:00:00\",\"2022-01-25T00:00:00\",\"2022-01-26T00:00:00\",\"2022-01-27T00:00:00\",\"2022-01-28T00:00:00\",\"2022-01-29T00:00:00\",\"2022-01-30T00:00:00\",\"2022-01-31T00:00:00\",\"2022-02-01T00:00:00\",\"2022-02-02T00:00:00\",\"2022-02-03T00:00:00\",\"2022-02-04T00:00:00\",\"2022-02-05T00:00:00\",\"2022-02-06T00:00:00\",\"2022-02-07T00:00:00\",\"2022-02-08T00:00:00\",\"2022-02-09T00:00:00\",\"2022-02-10T00:00:00\",\"2022-02-11T00:00:00\",\"2022-02-12T00:00:00\",\"2022-02-13T00:00:00\",\"2022-02-14T00:00:00\",\"2022-02-15T00:00:00\",\"2022-02-16T00:00:00\",\"2022-02-17T00:00:00\",\"2022-02-18T00:00:00\",\"2022-02-19T00:00:00\",\"2022-02-20T00:00:00\",\"2022-02-21T00:00:00\",\"2022-02-22T00:00:00\",\"2022-02-23T00:00:00\",\"2022-02-24T00:00:00\",\"2022-02-25T00:00:00\",\"2022-02-26T00:00:00\",\"2022-02-27T00:00:00\",\"2022-02-28T00:00:00\",\"2022-03-01T00:00:00\",\"2022-03-02T00:00:00\",\"2022-03-03T00:00:00\",\"2022-03-04T00:00:00\",\"2022-03-05T00:00:00\",\"2022-03-06T00:00:00\",\"2022-03-07T00:00:00\",\"2022-03-08T00:00:00\",\"2022-03-09T00:00:00\",\"2022-03-10T00:00:00\",\"2022-03-11T00:00:00\",\"2022-03-12T00:00:00\",\"2022-03-13T00:00:00\",\"2022-03-14T00:00:00\",\"2022-03-15T00:00:00\",\"2022-03-16T00:00:00\",\"2022-03-17T00:00:00\",\"2022-03-18T00:00:00\",\"2022-03-19T00:00:00\",\"2022-03-20T00:00:00\",\"2022-03-21T00:00:00\",\"2022-03-22T00:00:00\",\"2022-03-23T00:00:00\",\"2022-03-24T00:00:00\",\"2022-03-25T00:00:00\",\"2022-03-26T00:00:00\",\"2022-03-27T00:00:00\",\"2022-03-28T00:00:00\",\"2022-03-29T00:00:00\",\"2022-03-30T00:00:00\",\"2022-03-31T00:00:00\",\"2022-04-01T00:00:00\",\"2022-04-02T00:00:00\",\"2022-04-03T00:00:00\",\"2022-04-04T00:00:00\",\"2022-04-05T00:00:00\",\"2022-04-06T00:00:00\",\"2022-04-07T00:00:00\",\"2022-04-08T00:00:00\",\"2022-04-09T00:00:00\",\"2022-04-10T00:00:00\",\"2022-04-11T00:00:00\",\"2022-04-12T00:00:00\",\"2022-04-13T00:00:00\",\"2022-04-14T00:00:00\",\"2022-04-15T00:00:00\",\"2022-04-16T00:00:00\",\"2022-04-17T00:00:00\",\"2022-04-18T00:00:00\",\"2022-04-19T00:00:00\",\"2022-04-20T00:00:00\",\"2022-04-21T00:00:00\",\"2022-04-22T00:00:00\",\"2022-04-23T00:00:00\",\"2022-04-24T00:00:00\",\"2022-04-25T00:00:00\",\"2022-04-26T00:00:00\",\"2022-04-27T00:00:00\",\"2022-04-28T00:00:00\",\"2022-04-29T00:00:00\",\"2022-04-30T00:00:00\",\"2022-05-01T00:00:00\",\"2022-05-02T00:00:00\",\"2022-05-03T00:00:00\",\"2022-05-04T00:00:00\",\"2022-05-05T00:00:00\",\"2022-05-06T00:00:00\",\"2022-05-07T00:00:00\",\"2022-05-08T00:00:00\",\"2022-05-09T00:00:00\",\"2022-05-10T00:00:00\",\"2022-05-11T00:00:00\",\"2022-05-12T00:00:00\",\"2022-05-13T00:00:00\",\"2022-05-14T00:00:00\",\"2022-05-15T00:00:00\",\"2022-05-16T00:00:00\",\"2022-05-17T00:00:00\",\"2022-05-18T00:00:00\",\"2022-05-19T00:00:00\",\"2022-05-20T00:00:00\",\"2022-05-21T00:00:00\",\"2022-05-22T00:00:00\",\"2022-05-23T00:00:00\",\"2022-05-24T00:00:00\",\"2022-05-25T00:00:00\",\"2022-05-26T00:00:00\",\"2022-05-27T00:00:00\",\"2022-05-28T00:00:00\",\"2022-05-29T00:00:00\",\"2022-05-30T00:00:00\",\"2022-05-31T00:00:00\",\"2022-06-01T00:00:00\"],\"xaxis\":\"x\",\"y\":[0.5,0.5,0.5,0.4999999999999999,0.5,0.5,0.5,0.5,0.5,0.5,0.5,0.5,0.5,0.49999999999999994,0.5,0.5,0.49999999999999994,0.4999999999999999,0.5,0.5,0.5,0.5,0.5,0.5,0.5,0.49999999999999994,0.4999999999999999,0.5,0.5,0.5,0.49999999999999994,0.5,0.5,0.5,0.49999999999999994,0.5,0.5,0.5,0.5,0.5,0.5,0.49999999999999994,0.49999999999999994,0.5,0.5,0.4999999999999999,0.5,0.5,0.49999999999999994,0.49999999999999994,0.5,0.5,0.49999999999999994,0.49999999999999994,0.5,0.49999999999999994,0.5,0.5,0.49999999999999994,0.5,0.49999999999999994,0.5,0.49999999999999994,0.5,0.5,0.49999999999999994,0.5,0.5,0.5,0.5,0.49999999999999994,0.5,0.5,0.5,0.4999999999999999,0.4999999999999999,0.49999999999999994,0.4999999999999999,0.4999999999999999,0.4999999999999999,0.5,0.5,0.4999999999999999,0.5,0.5,0.49999999999999994,0.5,0.49999999999999994,0.5,0.5,0.5,0.5,0.5,0.5,0.5,0.5,0.5,0.5,0.5,0.49999999999999994,0.4999999999999999,0.49999999999999994,0.4999999999999999,0.49999999999999994,0.4999999999999999,0.5,0.5,0.49999999999999994,0.5,0.4999999999999999,0.5,0.5,0.49999999999999994,0.5,0.5,0.5,0.49999999999999994,0.5,0.5,0.5,0.5,0.5,0.49999999999999994,0.5,0.49999999999999994,0.5,0.5,0.5,0.5,0.49999999999999994,0.5,0.5,0.49999999999999994,0.5,0.5,0.5,0.49999999999999994,0.5,0.5,0.4999999999999999,0.49999999999999994,0.5,0.5,0.5,0.49999999999999994,0.5,0.5,0.5,0.5,0.49999999999999994,0.5,0.49999999999999994,0.5,0.49999999999999994,0.5,0.5,0.5,0.4999999999999999,0.49999999999999994,0.5,0.5,0.5,0.5,0.4999999999999999,0.5,0.5,0.5,0.49999999999999994,0.5,0.5,0.4999999999999999,0.4999999999999999,0.5,0.5,0.5,0.5,0.5,0.5,0.49999999999999994,0.5,0.5,0.5,0.5,0.49999999999999994,0.4999999999999999,0.5,0.49999999999999994,0.5,0.5,0.5,0.5,0.5,0.49999999999999994,0.49999999999999994,0.49999999999999994,0.5,0.5,0.5,0.49999999999999994,0.5,0.49999999999999994,0.5,0.5,0.5,0.5,0.5,0.5,0.5,0.5,0.5,0.5,0.5,0.5,0.49999999999999994,0.5,0.5,0.49999999999999994,0.49999999999999994,0.49999999999999994,0.5,0.5,0.5,0.5,0.4999999999999999,0.49999999999999994,0.5,0.5,0.5,0.5,0.49999999999999994,0.5,0.49999999999999994,0.49999999999999994,0.5,0.49999999999999994,0.5,0.5,0.49999999999999994,0.49999999999999994,0.5,0.5,0.5,0.5,0.5,0.5,0.5,0.49999999999999994,0.5,0.5,0.49999999999999994,0.5,0.5,0.5,0.5,0.5,0.5,0.49999999999999994,0.4999999999999999,0.5,0.5,0.5,0.49999999999999983,0.5,0.49999999999999994,0.5,0.5,0.5,0.5,0.5,0.5,0.5,0.5,0.49999999999999994,0.4999999999999999,0.4999999999999999,0.5,0.5,0.5,0.5,0.5],\"yaxis\":\"y\",\"type\":\"scatter\"}],                        {\"template\":{\"data\":{\"barpolar\":[{\"marker\":{\"line\":{\"color\":\"white\",\"width\":0.5},\"pattern\":{\"fillmode\":\"overlay\",\"size\":10,\"solidity\":0.2}},\"type\":\"barpolar\"}],\"bar\":[{\"error_x\":{\"color\":\"#2a3f5f\"},\"error_y\":{\"color\":\"#2a3f5f\"},\"marker\":{\"line\":{\"color\":\"white\",\"width\":0.5},\"pattern\":{\"fillmode\":\"overlay\",\"size\":10,\"solidity\":0.2}},\"type\":\"bar\"}],\"carpet\":[{\"aaxis\":{\"endlinecolor\":\"#2a3f5f\",\"gridcolor\":\"#C8D4E3\",\"linecolor\":\"#C8D4E3\",\"minorgridcolor\":\"#C8D4E3\",\"startlinecolor\":\"#2a3f5f\"},\"baxis\":{\"endlinecolor\":\"#2a3f5f\",\"gridcolor\":\"#C8D4E3\",\"linecolor\":\"#C8D4E3\",\"minorgridcolor\":\"#C8D4E3\",\"startlinecolor\":\"#2a3f5f\"},\"type\":\"carpet\"}],\"choropleth\":[{\"colorbar\":{\"outlinewidth\":0,\"ticks\":\"\"},\"type\":\"choropleth\"}],\"contourcarpet\":[{\"colorbar\":{\"outlinewidth\":0,\"ticks\":\"\"},\"type\":\"contourcarpet\"}],\"contour\":[{\"colorbar\":{\"outlinewidth\":0,\"ticks\":\"\"},\"colorscale\":[[0.0,\"#0d0887\"],[0.1111111111111111,\"#46039f\"],[0.2222222222222222,\"#7201a8\"],[0.3333333333333333,\"#9c179e\"],[0.4444444444444444,\"#bd3786\"],[0.5555555555555556,\"#d8576b\"],[0.6666666666666666,\"#ed7953\"],[0.7777777777777778,\"#fb9f3a\"],[0.8888888888888888,\"#fdca26\"],[1.0,\"#f0f921\"]],\"type\":\"contour\"}],\"heatmapgl\":[{\"colorbar\":{\"outlinewidth\":0,\"ticks\":\"\"},\"colorscale\":[[0.0,\"#0d0887\"],[0.1111111111111111,\"#46039f\"],[0.2222222222222222,\"#7201a8\"],[0.3333333333333333,\"#9c179e\"],[0.4444444444444444,\"#bd3786\"],[0.5555555555555556,\"#d8576b\"],[0.6666666666666666,\"#ed7953\"],[0.7777777777777778,\"#fb9f3a\"],[0.8888888888888888,\"#fdca26\"],[1.0,\"#f0f921\"]],\"type\":\"heatmapgl\"}],\"heatmap\":[{\"colorbar\":{\"outlinewidth\":0,\"ticks\":\"\"},\"colorscale\":[[0.0,\"#0d0887\"],[0.1111111111111111,\"#46039f\"],[0.2222222222222222,\"#7201a8\"],[0.3333333333333333,\"#9c179e\"],[0.4444444444444444,\"#bd3786\"],[0.5555555555555556,\"#d8576b\"],[0.6666666666666666,\"#ed7953\"],[0.7777777777777778,\"#fb9f3a\"],[0.8888888888888888,\"#fdca26\"],[1.0,\"#f0f921\"]],\"type\":\"heatmap\"}],\"histogram2dcontour\":[{\"colorbar\":{\"outlinewidth\":0,\"ticks\":\"\"},\"colorscale\":[[0.0,\"#0d0887\"],[0.1111111111111111,\"#46039f\"],[0.2222222222222222,\"#7201a8\"],[0.3333333333333333,\"#9c179e\"],[0.4444444444444444,\"#bd3786\"],[0.5555555555555556,\"#d8576b\"],[0.6666666666666666,\"#ed7953\"],[0.7777777777777778,\"#fb9f3a\"],[0.8888888888888888,\"#fdca26\"],[1.0,\"#f0f921\"]],\"type\":\"histogram2dcontour\"}],\"histogram2d\":[{\"colorbar\":{\"outlinewidth\":0,\"ticks\":\"\"},\"colorscale\":[[0.0,\"#0d0887\"],[0.1111111111111111,\"#46039f\"],[0.2222222222222222,\"#7201a8\"],[0.3333333333333333,\"#9c179e\"],[0.4444444444444444,\"#bd3786\"],[0.5555555555555556,\"#d8576b\"],[0.6666666666666666,\"#ed7953\"],[0.7777777777777778,\"#fb9f3a\"],[0.8888888888888888,\"#fdca26\"],[1.0,\"#f0f921\"]],\"type\":\"histogram2d\"}],\"histogram\":[{\"marker\":{\"pattern\":{\"fillmode\":\"overlay\",\"size\":10,\"solidity\":0.2}},\"type\":\"histogram\"}],\"mesh3d\":[{\"colorbar\":{\"outlinewidth\":0,\"ticks\":\"\"},\"type\":\"mesh3d\"}],\"parcoords\":[{\"line\":{\"colorbar\":{\"outlinewidth\":0,\"ticks\":\"\"}},\"type\":\"parcoords\"}],\"pie\":[{\"automargin\":true,\"type\":\"pie\"}],\"scatter3d\":[{\"line\":{\"colorbar\":{\"outlinewidth\":0,\"ticks\":\"\"}},\"marker\":{\"colorbar\":{\"outlinewidth\":0,\"ticks\":\"\"}},\"type\":\"scatter3d\"}],\"scattercarpet\":[{\"marker\":{\"colorbar\":{\"outlinewidth\":0,\"ticks\":\"\"}},\"type\":\"scattercarpet\"}],\"scattergeo\":[{\"marker\":{\"colorbar\":{\"outlinewidth\":0,\"ticks\":\"\"}},\"type\":\"scattergeo\"}],\"scattergl\":[{\"marker\":{\"colorbar\":{\"outlinewidth\":0,\"ticks\":\"\"}},\"type\":\"scattergl\"}],\"scattermapbox\":[{\"marker\":{\"colorbar\":{\"outlinewidth\":0,\"ticks\":\"\"}},\"type\":\"scattermapbox\"}],\"scatterpolargl\":[{\"marker\":{\"colorbar\":{\"outlinewidth\":0,\"ticks\":\"\"}},\"type\":\"scatterpolargl\"}],\"scatterpolar\":[{\"marker\":{\"colorbar\":{\"outlinewidth\":0,\"ticks\":\"\"}},\"type\":\"scatterpolar\"}],\"scatter\":[{\"marker\":{\"colorbar\":{\"outlinewidth\":0,\"ticks\":\"\"}},\"type\":\"scatter\"}],\"scatterternary\":[{\"marker\":{\"colorbar\":{\"outlinewidth\":0,\"ticks\":\"\"}},\"type\":\"scatterternary\"}],\"surface\":[{\"colorbar\":{\"outlinewidth\":0,\"ticks\":\"\"},\"colorscale\":[[0.0,\"#0d0887\"],[0.1111111111111111,\"#46039f\"],[0.2222222222222222,\"#7201a8\"],[0.3333333333333333,\"#9c179e\"],[0.4444444444444444,\"#bd3786\"],[0.5555555555555556,\"#d8576b\"],[0.6666666666666666,\"#ed7953\"],[0.7777777777777778,\"#fb9f3a\"],[0.8888888888888888,\"#fdca26\"],[1.0,\"#f0f921\"]],\"type\":\"surface\"}],\"table\":[{\"cells\":{\"fill\":{\"color\":\"#EBF0F8\"},\"line\":{\"color\":\"white\"}},\"header\":{\"fill\":{\"color\":\"#C8D4E3\"},\"line\":{\"color\":\"white\"}},\"type\":\"table\"}]},\"layout\":{\"annotationdefaults\":{\"arrowcolor\":\"#2a3f5f\",\"arrowhead\":0,\"arrowwidth\":1},\"autotypenumbers\":\"strict\",\"coloraxis\":{\"colorbar\":{\"outlinewidth\":0,\"ticks\":\"\"}},\"colorscale\":{\"diverging\":[[0,\"#8e0152\"],[0.1,\"#c51b7d\"],[0.2,\"#de77ae\"],[0.3,\"#f1b6da\"],[0.4,\"#fde0ef\"],[0.5,\"#f7f7f7\"],[0.6,\"#e6f5d0\"],[0.7,\"#b8e186\"],[0.8,\"#7fbc41\"],[0.9,\"#4d9221\"],[1,\"#276419\"]],\"sequential\":[[0.0,\"#0d0887\"],[0.1111111111111111,\"#46039f\"],[0.2222222222222222,\"#7201a8\"],[0.3333333333333333,\"#9c179e\"],[0.4444444444444444,\"#bd3786\"],[0.5555555555555556,\"#d8576b\"],[0.6666666666666666,\"#ed7953\"],[0.7777777777777778,\"#fb9f3a\"],[0.8888888888888888,\"#fdca26\"],[1.0,\"#f0f921\"]],\"sequentialminus\":[[0.0,\"#0d0887\"],[0.1111111111111111,\"#46039f\"],[0.2222222222222222,\"#7201a8\"],[0.3333333333333333,\"#9c179e\"],[0.4444444444444444,\"#bd3786\"],[0.5555555555555556,\"#d8576b\"],[0.6666666666666666,\"#ed7953\"],[0.7777777777777778,\"#fb9f3a\"],[0.8888888888888888,\"#fdca26\"],[1.0,\"#f0f921\"]]},\"colorway\":[\"#636efa\",\"#EF553B\",\"#00cc96\",\"#ab63fa\",\"#FFA15A\",\"#19d3f3\",\"#FF6692\",\"#B6E880\",\"#FF97FF\",\"#FECB52\"],\"font\":{\"color\":\"#2a3f5f\"},\"geo\":{\"bgcolor\":\"white\",\"lakecolor\":\"white\",\"landcolor\":\"white\",\"showlakes\":true,\"showland\":true,\"subunitcolor\":\"#C8D4E3\"},\"hoverlabel\":{\"align\":\"left\"},\"hovermode\":\"closest\",\"mapbox\":{\"style\":\"light\"},\"paper_bgcolor\":\"white\",\"plot_bgcolor\":\"white\",\"polar\":{\"angularaxis\":{\"gridcolor\":\"#EBF0F8\",\"linecolor\":\"#EBF0F8\",\"ticks\":\"\"},\"bgcolor\":\"white\",\"radialaxis\":{\"gridcolor\":\"#EBF0F8\",\"linecolor\":\"#EBF0F8\",\"ticks\":\"\"}},\"scene\":{\"xaxis\":{\"backgroundcolor\":\"white\",\"gridcolor\":\"#DFE8F3\",\"gridwidth\":2,\"linecolor\":\"#EBF0F8\",\"showbackground\":true,\"ticks\":\"\",\"zerolinecolor\":\"#EBF0F8\"},\"yaxis\":{\"backgroundcolor\":\"white\",\"gridcolor\":\"#DFE8F3\",\"gridwidth\":2,\"linecolor\":\"#EBF0F8\",\"showbackground\":true,\"ticks\":\"\",\"zerolinecolor\":\"#EBF0F8\"},\"zaxis\":{\"backgroundcolor\":\"white\",\"gridcolor\":\"#DFE8F3\",\"gridwidth\":2,\"linecolor\":\"#EBF0F8\",\"showbackground\":true,\"ticks\":\"\",\"zerolinecolor\":\"#EBF0F8\"}},\"shapedefaults\":{\"line\":{\"color\":\"#2a3f5f\"}},\"ternary\":{\"aaxis\":{\"gridcolor\":\"#DFE8F3\",\"linecolor\":\"#A2B1C6\",\"ticks\":\"\"},\"baxis\":{\"gridcolor\":\"#DFE8F3\",\"linecolor\":\"#A2B1C6\",\"ticks\":\"\"},\"bgcolor\":\"white\",\"caxis\":{\"gridcolor\":\"#DFE8F3\",\"linecolor\":\"#A2B1C6\",\"ticks\":\"\"}},\"title\":{\"x\":0.05},\"xaxis\":{\"automargin\":true,\"gridcolor\":\"#EBF0F8\",\"linecolor\":\"#EBF0F8\",\"ticks\":\"\",\"title\":{\"standoff\":15},\"zerolinecolor\":\"#EBF0F8\",\"zerolinewidth\":2},\"yaxis\":{\"automargin\":true,\"gridcolor\":\"#EBF0F8\",\"linecolor\":\"#EBF0F8\",\"ticks\":\"\",\"title\":{\"standoff\":15},\"zerolinecolor\":\"#EBF0F8\",\"zerolinewidth\":2}}},\"xaxis\":{\"anchor\":\"y\",\"domain\":[0.0,1.0],\"title\":{\"text\":\"date\"},\"showspikes\":true,\"spikethickness\":2,\"spikedash\":\"dot\",\"spikecolor\":\"#999999\",\"spikemode\":\"across\"},\"yaxis\":{\"anchor\":\"x\",\"domain\":[0.0,1.0],\"title\":{\"text\":\"weight, %\"},\"tickformat\":\".2%\",\"range\":[0,1]},\"legend\":{\"title\":{\"text\":\"\"},\"tracegroupgap\":0},\"margin\":{\"t\":60},\"hovermode\":\"x\",\"hoverdistance\":100,\"spikedistance\":1000,\"title\":{\"text\":\"Weights with max constraint\"}},                        {\"responsive\": true}                    ).then(function(){\n",
       "                            \n",
       "var gd = document.getElementById('c06efc94-6533-43dd-9577-b15922bb801b');\n",
       "var x = new MutationObserver(function (mutations, observer) {{\n",
       "        var display = window.getComputedStyle(gd).display;\n",
       "        if (!display || display === 'none') {{\n",
       "            console.log([gd, 'removed!']);\n",
       "            Plotly.purge(gd);\n",
       "            observer.disconnect();\n",
       "        }}\n",
       "}});\n",
       "\n",
       "// Listen for the removal of the full notebook cells\n",
       "var notebookContainer = gd.closest('#notebook-container');\n",
       "if (notebookContainer) {{\n",
       "    x.observe(notebookContainer, {childList: true});\n",
       "}}\n",
       "\n",
       "// Listen for the clearing of the current output cell\n",
       "var outputEl = gd.closest('.output');\n",
       "if (outputEl) {{\n",
       "    x.observe(outputEl, {childList: true});\n",
       "}}\n",
       "\n",
       "                        })                };                });            </script>        </div>"
      ]
     },
     "metadata": {},
     "output_type": "display_data"
    }
   ],
   "source": [
    "fig = px.line(adjusted_weights,\n",
    "              labels={'value': 'weight, %', 'variable': ''})\n",
    "fig.update_traces(\n",
    "    hovertemplate=\"%{y}\"\n",
    ")\n",
    "fig.update_yaxes(\n",
    "    tickformat=\".2%\",\n",
    "    range=[0, 1],\n",
    ")\n",
    "fig.update_xaxes(\n",
    "    showspikes=True,\n",
    "    spikethickness=2,\n",
    "    spikedash=\"dot\",\n",
    "    spikecolor=\"#999999\",\n",
    "    spikemode=\"across\",\n",
    ")\n",
    "fig.update_layout(\n",
    "    hovermode=\"x\",\n",
    "    hoverdistance=100,  ## Distance to show hover label of data point\n",
    "    spikedistance=1000,  ## Distance to show spike\n",
    "    template='plotly_white',\n",
    "    title='Weights with max constraint'\n",
    ")"
   ]
  },
  {
   "cell_type": "code",
   "execution_count": 91,
   "id": "12a63759-8259-4e94-a430-062bea73c3c4",
   "metadata": {},
   "outputs": [
    {
     "data": {
      "text/html": [
       "<div>\n",
       "<style scoped>\n",
       "    .dataframe tbody tr th:only-of-type {\n",
       "        vertical-align: middle;\n",
       "    }\n",
       "\n",
       "    .dataframe tbody tr th {\n",
       "        vertical-align: top;\n",
       "    }\n",
       "\n",
       "    .dataframe thead th {\n",
       "        text-align: right;\n",
       "    }\n",
       "</style>\n",
       "<table border=\"1\" class=\"dataframe\">\n",
       "  <thead>\n",
       "    <tr style=\"text-align: right;\">\n",
       "      <th></th>\n",
       "      <th>AVAX</th>\n",
       "      <th>JOE</th>\n",
       "    </tr>\n",
       "    <tr>\n",
       "      <th>date</th>\n",
       "      <th></th>\n",
       "      <th></th>\n",
       "    </tr>\n",
       "  </thead>\n",
       "  <tbody>\n",
       "    <tr>\n",
       "      <th>2021-08-26</th>\n",
       "      <td>0.5</td>\n",
       "      <td>0.5</td>\n",
       "    </tr>\n",
       "    <tr>\n",
       "      <th>2021-08-27</th>\n",
       "      <td>0.5</td>\n",
       "      <td>0.5</td>\n",
       "    </tr>\n",
       "    <tr>\n",
       "      <th>2021-08-28</th>\n",
       "      <td>0.5</td>\n",
       "      <td>0.5</td>\n",
       "    </tr>\n",
       "    <tr>\n",
       "      <th>2021-08-29</th>\n",
       "      <td>0.5</td>\n",
       "      <td>0.5</td>\n",
       "    </tr>\n",
       "    <tr>\n",
       "      <th>2021-08-30</th>\n",
       "      <td>0.5</td>\n",
       "      <td>0.5</td>\n",
       "    </tr>\n",
       "    <tr>\n",
       "      <th>...</th>\n",
       "      <td>...</td>\n",
       "      <td>...</td>\n",
       "    </tr>\n",
       "    <tr>\n",
       "      <th>2022-05-28</th>\n",
       "      <td>0.5</td>\n",
       "      <td>0.5</td>\n",
       "    </tr>\n",
       "    <tr>\n",
       "      <th>2022-05-29</th>\n",
       "      <td>0.5</td>\n",
       "      <td>0.5</td>\n",
       "    </tr>\n",
       "    <tr>\n",
       "      <th>2022-05-30</th>\n",
       "      <td>0.5</td>\n",
       "      <td>0.5</td>\n",
       "    </tr>\n",
       "    <tr>\n",
       "      <th>2022-05-31</th>\n",
       "      <td>0.5</td>\n",
       "      <td>0.5</td>\n",
       "    </tr>\n",
       "    <tr>\n",
       "      <th>2022-06-01</th>\n",
       "      <td>0.5</td>\n",
       "      <td>0.5</td>\n",
       "    </tr>\n",
       "  </tbody>\n",
       "</table>\n",
       "<p>280 rows × 2 columns</p>\n",
       "</div>"
      ],
      "text/plain": [
       "            AVAX  JOE\n",
       "date                 \n",
       "2021-08-26   0.5  0.5\n",
       "2021-08-27   0.5  0.5\n",
       "2021-08-28   0.5  0.5\n",
       "2021-08-29   0.5  0.5\n",
       "2021-08-30   0.5  0.5\n",
       "...          ...  ...\n",
       "2022-05-28   0.5  0.5\n",
       "2022-05-29   0.5  0.5\n",
       "2022-05-30   0.5  0.5\n",
       "2022-05-31   0.5  0.5\n",
       "2022-06-01   0.5  0.5\n",
       "\n",
       "[280 rows x 2 columns]"
      ]
     },
     "execution_count": 91,
     "metadata": {},
     "output_type": "execute_result"
    }
   ],
   "source": [
    "adjusted_weights"
   ]
  },
  {
   "cell_type": "markdown",
   "id": "8b697ddb-a01c-4ec5-a0a8-5b3947a0f3cd",
   "metadata": {},
   "source": [
    "### Convert weights to the [1, 255] scale"
   ]
  },
  {
   "cell_type": "markdown",
   "id": "8866ad8e-c327-434e-b575-580176c04233",
   "metadata": {},
   "source": [
    "On the contract side weights are integer numbers from the interval $[1, 255]$ with total sum $255$, so it's needed to convert retrieved weights to this format.\n",
    "\n",
    "Note that one can't just round weights to integers after scaling, since it doesn't guarantee that their sum will be $255$. To fix that firstly floor function is applied to the weights and then $1$ is being added to the $k$ weights with largest fractional parts."
   ]
  },
  {
   "cell_type": "code",
   "execution_count": 92,
   "id": "4861d21f-0720-43eb-a385-c9f1c6cbeb04",
   "metadata": {},
   "outputs": [],
   "source": [
    "def convert_weights(weights):\n",
    "    w_scaled = weights * 255\n",
    "    w_res = np.floor(w_scaled).astype(int)\n",
    "    \n",
    "    remainders = w_scaled - w_res\n",
    "    \n",
    "    k = round(remainders.sum())\n",
    "    k_largest_rems = np.argsort(remainders)[::-1][:k]\n",
    "    \n",
    "    w_res[k_largest_rems] += 1\n",
    "    \n",
    "    return w_res "
   ]
  },
  {
   "cell_type": "code",
   "execution_count": 93,
   "id": "bc28c07f-d3f9-4d3a-a413-5f97a4640b3c",
   "metadata": {},
   "outputs": [
    {
     "data": {
      "text/plain": [
       "AVAX    0.5\n",
       "JOE     0.5\n",
       "Name: 2022-06-01 00:00:00, dtype: float64"
      ]
     },
     "execution_count": 93,
     "metadata": {},
     "output_type": "execute_result"
    }
   ],
   "source": [
    "last_weights = adjusted_weights.iloc[-1]\n",
    "last_weights"
   ]
  },
  {
   "cell_type": "code",
   "execution_count": 94,
   "id": "f7b4a26f-70b8-46d3-9949-1578d656bb11",
   "metadata": {},
   "outputs": [
    {
     "data": {
      "text/plain": [
       "AVAX    127\n",
       "JOE     128\n",
       "Name: 2022-06-01 00:00:00, dtype: int64"
      ]
     },
     "execution_count": 94,
     "metadata": {},
     "output_type": "execute_result"
    }
   ],
   "source": [
    "converted_last_weights = convert_weights(last_weights)\n",
    "converted_last_weights"
   ]
  },
  {
   "cell_type": "markdown",
   "id": "edc13887-a711-44f7-a5ec-7d4089c14030",
   "metadata": {},
   "source": [
    "## Summary table"
   ]
  },
  {
   "cell_type": "code",
   "execution_count": 95,
   "id": "290800e8-eb71-44b0-adba-9683d53f0062",
   "metadata": {},
   "outputs": [],
   "source": [
    "cai = pd.DataFrame()\n",
    "cai.index = chosen_tokens.index\n",
    "cai['name'] = chosen_tokens['name']\n",
    "cai['market_cap'] = marketcaps.iloc[-1].astype(int)\n",
    "cai['price'] = prices_data.iloc[-1]\n",
    "cai['weight'] = last_weights\n",
    "cai['weight_converted'] = converted_last_weights\n",
    "cai['address'] = [tokens[symb]['address'] for symb in cai.index]"
   ]
  },
  {
   "cell_type": "code",
   "execution_count": 96,
   "id": "8f824765-314e-4a60-87c5-2cfa9a7fdb7c",
   "metadata": {},
   "outputs": [
    {
     "data": {
      "text/html": [
       "<div>\n",
       "<style scoped>\n",
       "    .dataframe tbody tr th:only-of-type {\n",
       "        vertical-align: middle;\n",
       "    }\n",
       "\n",
       "    .dataframe tbody tr th {\n",
       "        vertical-align: top;\n",
       "    }\n",
       "\n",
       "    .dataframe thead th {\n",
       "        text-align: right;\n",
       "    }\n",
       "</style>\n",
       "<table border=\"1\" class=\"dataframe\">\n",
       "  <thead>\n",
       "    <tr style=\"text-align: right;\">\n",
       "      <th></th>\n",
       "      <th>name</th>\n",
       "      <th>market_cap</th>\n",
       "      <th>price</th>\n",
       "      <th>weight</th>\n",
       "      <th>weight_converted</th>\n",
       "      <th>address</th>\n",
       "    </tr>\n",
       "    <tr>\n",
       "      <th>symbol</th>\n",
       "      <th></th>\n",
       "      <th></th>\n",
       "      <th></th>\n",
       "      <th></th>\n",
       "      <th></th>\n",
       "      <th></th>\n",
       "    </tr>\n",
       "  </thead>\n",
       "  <tbody>\n",
       "    <tr>\n",
       "      <th>AVAX</th>\n",
       "      <td>Avalanche</td>\n",
       "      <td>7208555806</td>\n",
       "      <td>26.584636</td>\n",
       "      <td>0.5</td>\n",
       "      <td>127</td>\n",
       "      <td>fvweahmxkfeig8snevq42hc6whryy3efyavebmqdndgcgxn5z</td>\n",
       "    </tr>\n",
       "    <tr>\n",
       "      <th>JOE</th>\n",
       "      <td>JOE</td>\n",
       "      <td>93945333</td>\n",
       "      <td>0.344530</td>\n",
       "      <td>0.5</td>\n",
       "      <td>128</td>\n",
       "      <td>0x6e84a6216ea6dacc71ee8e6b0a5b7322eebc0fdd</td>\n",
       "    </tr>\n",
       "  </tbody>\n",
       "</table>\n",
       "</div>"
      ],
      "text/plain": [
       "             name  market_cap      price  weight  weight_converted  \\\n",
       "symbol                                                               \n",
       "AVAX    Avalanche  7208555806  26.584636     0.5               127   \n",
       "JOE           JOE    93945333   0.344530     0.5               128   \n",
       "\n",
       "                                                  address  \n",
       "symbol                                                     \n",
       "AVAX    fvweahmxkfeig8snevq42hc6whryy3efyavebmqdndgcgxn5z  \n",
       "JOE            0x6e84a6216ea6dacc71ee8e6b0a5b7322eebc0fdd  "
      ]
     },
     "execution_count": 96,
     "metadata": {},
     "output_type": "execute_result"
    }
   ],
   "source": [
    "cai"
   ]
  }
 ],
 "metadata": {
  "kernelspec": {
   "display_name": "Python 3",
   "language": "python",
   "name": "python3"
  },
  "language_info": {
   "codemirror_mode": {
    "name": "ipython",
    "version": 3
   },
   "file_extension": ".py",
   "mimetype": "text/x-python",
   "name": "python",
   "nbconvert_exporter": "python",
   "pygments_lexer": "ipython3",
   "version": "3.10.4"
  }
 },
 "nbformat": 4,
 "nbformat_minor": 5
}
