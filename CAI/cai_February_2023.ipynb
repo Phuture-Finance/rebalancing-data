{
 "cells": [
  {
   "attachments": {},
   "cell_type": "markdown",
   "id": "098511ce-c7e3-49dd-a41b-23657ecabf6f",
   "metadata": {},
   "source": [
    "# CAI - Rebalancing data for February 2023 "
   ]
  },
  {
   "cell_type": "markdown",
   "id": "d1f1d7e0-f33f-466f-a327-756617b3aba8",
   "metadata": {
    "tags": []
   },
   "source": [
    "## Setting"
   ]
  },
  {
   "cell_type": "code",
   "execution_count": 75,
   "id": "5cc35cd0-4d79-4135-819d-bce7d6d021c9",
   "metadata": {},
   "outputs": [],
   "source": [
    "import pandas as pd\n",
    "import numpy as np\n",
    "import requests\n",
    "import decouple\n",
    "import sys \n",
    "sys.path.append('../')\n",
    "\n",
    "from web3 import Web3\n",
    "from abis import index_anatomy, gmx_token_contract\n",
    "\n",
    "\n",
    "infura_url = decouple.config(\"AVALANCHE_INFURA_URL\")\n",
    "web3_object = Web3(Web3.HTTPProvider(infura_url))"
   ]
  },
  {
   "cell_type": "code",
   "execution_count": 76,
   "id": "f7ec58bd-df9f-47f7-b145-450d08e6fcfc",
   "metadata": {},
   "outputs": [],
   "source": [
    "from pycoingecko import CoinGeckoAPI\n",
    "key = decouple.config(\"CG_KEY\")\n",
    "cg = CoinGeckoAPI(api_key= key)"
   ]
  },
  {
   "cell_type": "code",
   "execution_count": 77,
   "id": "26168a37-e401-4e26-b63b-9c708ca0902c",
   "metadata": {},
   "outputs": [],
   "source": [
    "import plotly.express as px\n",
    "import plotly.graph_objects as go"
   ]
  },
  {
   "cell_type": "code",
   "execution_count": 78,
   "id": "9eb0768b-c6fb-4401-9205-31490edb4cf2",
   "metadata": {},
   "outputs": [
    {
     "data": {
      "text/html": [
       "        <script type=\"text/javascript\">\n",
       "        window.PlotlyConfig = {MathJaxConfig: 'local'};\n",
       "        if (window.MathJax && window.MathJax.Hub && window.MathJax.Hub.Config) {window.MathJax.Hub.Config({SVG: {font: \"STIX-Web\"}});}\n",
       "        if (typeof require !== 'undefined') {\n",
       "        require.undef(\"plotly\");\n",
       "        requirejs.config({\n",
       "            paths: {\n",
       "                'plotly': ['https://cdn.plot.ly/plotly-2.12.1.min']\n",
       "            }\n",
       "        });\n",
       "        require(['plotly'], function(Plotly) {\n",
       "            window._Plotly = Plotly;\n",
       "        });\n",
       "        }\n",
       "        </script>\n",
       "        "
      ]
     },
     "metadata": {},
     "output_type": "display_data"
    }
   ],
   "source": [
    "from plotly.offline import plot, iplot, init_notebook_mode\n",
    "init_notebook_mode(connected=True)"
   ]
  },
  {
   "cell_type": "markdown",
   "id": "f54edc25-7b1b-41e3-8b84-bd8159ab60b5",
   "metadata": {
    "tags": []
   },
   "source": [
    "## Data retrieving and filtering"
   ]
  },
  {
   "cell_type": "markdown",
   "id": "06459122-606f-4b8b-9dcd-98490a913211",
   "metadata": {
    "tags": []
   },
   "source": [
    "### Token inclusion criteria\n",
    "\n",
    "1. **Project and token characteristics**\n",
    "    1. Any token included in our index must meet all the criteria below:\n",
    "    1. The project’s token should have been listed on CoinGecko with pricing data at least 6 months prior to the date of inclusion in the index.\n",
    "    1. The project should have a token that is native to Avalanche. This excludes wrapped variants, where the underlying tokens are locked on an alt-L1.\n",
    "    1. The project should be a going concern, with a dedicated team actively building, supporting and maintaining the project.\n",
    "    1. No rebasing or deflationary tokens.\n",
    "    1. The project must be widely considered to be building a useful protocol or product. Projects that have ponzi characteristics at the core of their offering will not be considered.\n",
    "    1. Synthetic tokens which derive their value from external price feeds are not permissible.\n",
    "    1. The project’s token must not have the ability to pause token transfers.\n",
    "    1. The project’s protocol or product must have significant usage.\n",
    "    <br>\n",
    "1. **Pricing requirements**\n",
    "    1. Token should have a Chainlink price feed to allow for manipulation resistant pricing.\n",
    "    <br>\n",
    "1. **Token Supply requirements**\n",
    "    1. The project's token must have a circulating supply greater than 30% of the max supply. In cases where a token does not have a max supply, the minting mechanics would need to be assessed.\n",
    "    <br>\n",
    "1. **Liquidity Requirements**\n",
    "    1. The token must be listed on a supported exchange. \n",
    "    1. The token should have in aggregate at least $2mm of onchain liquidity across Trader Joe, Platypus, Pangolin.\n",
    "    1. The token must have shown consistent DeFi liquidity on Avalanche.\n",
    "    <br>\n",
    "1. **Security Requirements**\n",
    "    1. The project must have been audited by smart contract security professionals with the audit report(s) publicly available. Alternatively, the protocol must have been operating long enough to create a consensus about its safety in the decentralised finance community."
   ]
  },
  {
   "cell_type": "markdown",
   "id": "785b167b-e990-4d6d-a8d5-75a6378e1197",
   "metadata": {},
   "source": [
    "### Tokens list"
   ]
  },
  {
   "cell_type": "code",
   "execution_count": 79,
   "id": "602314b9-24a8-421c-bbb4-c00ef886139d",
   "metadata": {},
   "outputs": [],
   "source": [
    "def normalize_symb(symb):\n",
    "    return ''.join(c for c in symb if c.isalnum()).upper()"
   ]
  },
  {
   "cell_type": "markdown",
   "id": "c80728c3-e3d5-4270-9400-f39c1e9c0e55",
   "metadata": {},
   "source": [
    "#### CoinGecko"
   ]
  },
  {
   "cell_type": "markdown",
   "id": "375c513b-7aa0-4ec9-82aa-475feabf6f84",
   "metadata": {},
   "source": [
    "##### Tokens addresses"
   ]
  },
  {
   "cell_type": "code",
   "execution_count": 80,
   "id": "7788b765-2a08-4661-8b4b-1cb20ac72e44",
   "metadata": {},
   "outputs": [],
   "source": [
    "coins_list = cg.get_coins_list(include_platform=True)\n",
    "coins = {}\n",
    "for coin in coins_list:\n",
    "    if 'avalanche' in coin['platforms']:\n",
    "        coin['addr'] = coin['platforms']['avalanche']\n",
    "        coin['symbol'] = normalize_symb(coin['symbol'])\n",
    "        coins[coin['id']] = coin\n",
    "\n",
    "# Adding AVAX\n",
    "coins['avalanche-2'] = {'id': 'avalanche-2','symbol':normalize_symb('avax'), 'name':'Avalanche','addr':'0xb31f66aa3c1e785363f0875a1b74e27b85fd66c7',}\n"
   ]
  },
  {
   "cell_type": "markdown",
   "id": "74a45df3-0ae7-4907-b444-67b1c5a88b73",
   "metadata": {
    "tags": []
   },
   "source": [
    "##### Market data"
   ]
  },
  {
   "cell_type": "code",
   "execution_count": 81,
   "id": "dce08acf-3b3e-4042-a0f2-7de6c8219f1d",
   "metadata": {},
   "outputs": [
    {
     "name": "stderr",
     "output_type": "stream",
     "text": [
      "/var/folders/4t/6j5ypx_s6r771shjr5dcct5w0000gn/T/ipykernel_53697/3118279002.py:8: FutureWarning:\n",
      "\n",
      "The frame.append method is deprecated and will be removed from pandas in a future version. Use pandas.concat instead.\n",
      "\n"
     ]
    }
   ],
   "source": [
    "cat_id = \"avalanche-ecosystem\"\n",
    "cg_tokens_data = cg.get_coins_markets(vs_currency='USD', order='market_cap_desc', category=cat_id)\n",
    "for i in range(2, 30):\n",
    "    cg_tokens_data.extend(cg.get_coins_markets(vs_currency='USD', order='market_cap_desc', category=cat_id, page=i))\n",
    "    \n",
    "cg_tokens_data = pd.DataFrame.from_records(cg_tokens_data)\n",
    "\n",
    "cg_tokens_data = cg_tokens_data.append(cg.get_coins_markets(ids='avalanche-2',vs_currency='USD'),ignore_index=False)"
   ]
  },
  {
   "cell_type": "code",
   "execution_count": 82,
   "id": "054f69e9-0dbb-4427-b9ca-1b4287f2f795",
   "metadata": {},
   "outputs": [],
   "source": [
    "tokens_market_data = cg_tokens_data.set_index('id')[\n",
    "    ['name', 'symbol', 'market_cap', 'market_cap_rank', 'current_price', 'total_supply', 'circulating_supply']\n",
    "]\n",
    "tokens_market_data['symbol'] = tokens_market_data['symbol'].apply(normalize_symb)"
   ]
  },
  {
   "cell_type": "code",
   "execution_count": 83,
   "id": "d33dbd5c-4967-41a2-99ee-6dc9a0b4490f",
   "metadata": {},
   "outputs": [],
   "source": [
    "tokens_market_data = tokens_market_data[tokens_market_data['market_cap'] > 0]\n",
    "tokens_market_data = tokens_market_data[~tokens_market_data.index.duplicated(keep='first')]\n"
   ]
  },
  {
   "cell_type": "code",
   "execution_count": 84,
   "id": "c0257f8a-94ae-401a-99ec-cfc601b7643f",
   "metadata": {},
   "outputs": [],
   "source": [
    "tokens_market_data = tokens_market_data.join(pd.DataFrame.from_dict(coins, orient='index')['addr'])\n"
   ]
  },
  {
   "cell_type": "code",
   "execution_count": 85,
   "id": "a6179bb3",
   "metadata": {},
   "outputs": [
    {
     "data": {
      "text/html": [
       "<div>\n",
       "<style scoped>\n",
       "    .dataframe tbody tr th:only-of-type {\n",
       "        vertical-align: middle;\n",
       "    }\n",
       "\n",
       "    .dataframe tbody tr th {\n",
       "        vertical-align: top;\n",
       "    }\n",
       "\n",
       "    .dataframe thead th {\n",
       "        text-align: right;\n",
       "    }\n",
       "</style>\n",
       "<table border=\"1\" class=\"dataframe\">\n",
       "  <thead>\n",
       "    <tr style=\"text-align: right;\">\n",
       "      <th></th>\n",
       "      <th>name</th>\n",
       "      <th>symbol</th>\n",
       "      <th>market_cap</th>\n",
       "      <th>market_cap_rank</th>\n",
       "      <th>current_price</th>\n",
       "      <th>total_supply</th>\n",
       "      <th>circulating_supply</th>\n",
       "      <th>addr</th>\n",
       "    </tr>\n",
       "    <tr>\n",
       "      <th>id</th>\n",
       "      <th></th>\n",
       "      <th></th>\n",
       "      <th></th>\n",
       "      <th></th>\n",
       "      <th></th>\n",
       "      <th></th>\n",
       "      <th></th>\n",
       "      <th></th>\n",
       "    </tr>\n",
       "  </thead>\n",
       "  <tbody>\n",
       "    <tr>\n",
       "      <th>tether</th>\n",
       "      <td>Tether</td>\n",
       "      <td>USDT</td>\n",
       "      <td>6.827244e+10</td>\n",
       "      <td>3.0</td>\n",
       "      <td>1.001</td>\n",
       "      <td>6.818278e+10</td>\n",
       "      <td>6.818278e+10</td>\n",
       "      <td>0x9702230a8ea53601f5cd2dc00fdbc13d4df4a8c7</td>\n",
       "    </tr>\n",
       "    <tr>\n",
       "      <th>usd-coin</th>\n",
       "      <td>USD Coin</td>\n",
       "      <td>USDC</td>\n",
       "      <td>4.186761e+10</td>\n",
       "      <td>5.0</td>\n",
       "      <td>1.001</td>\n",
       "      <td>4.180206e+10</td>\n",
       "      <td>4.180826e+10</td>\n",
       "      <td>0xb97ef9ef8734c71904d8002f8b6bc66dd9c48a6e</td>\n",
       "    </tr>\n",
       "    <tr>\n",
       "      <th>binance-usd</th>\n",
       "      <td>Binance USD</td>\n",
       "      <td>BUSD</td>\n",
       "      <td>1.619211e+10</td>\n",
       "      <td>7.0</td>\n",
       "      <td>1.001</td>\n",
       "      <td>1.618576e+10</td>\n",
       "      <td>1.618576e+10</td>\n",
       "      <td>0x9c9e5fd8bbc25984b178fdce6117defa39d2db39</td>\n",
       "    </tr>\n",
       "    <tr>\n",
       "      <th>avalanche-2</th>\n",
       "      <td>Avalanche</td>\n",
       "      <td>AVAX</td>\n",
       "      <td>6.315178e+09</td>\n",
       "      <td>17.0</td>\n",
       "      <td>20.030</td>\n",
       "      <td>4.205053e+08</td>\n",
       "      <td>3.150992e+08</td>\n",
       "      <td>0xb31f66aa3c1e785363f0875a1b74e27b85fd66c7</td>\n",
       "    </tr>\n",
       "    <tr>\n",
       "      <th>uniswap</th>\n",
       "      <td>Uniswap</td>\n",
       "      <td>UNI</td>\n",
       "      <td>5.104406e+09</td>\n",
       "      <td>20.0</td>\n",
       "      <td>6.770</td>\n",
       "      <td>1.000000e+09</td>\n",
       "      <td>7.537667e+08</td>\n",
       "      <td>0x8ebaf22b6f053dffeaf46f4dd9efa95d89ba8580</td>\n",
       "    </tr>\n",
       "  </tbody>\n",
       "</table>\n",
       "</div>"
      ],
      "text/plain": [
       "                    name symbol    market_cap  market_cap_rank  current_price  \\\n",
       "id                                                                              \n",
       "tether            Tether   USDT  6.827244e+10              3.0          1.001   \n",
       "usd-coin        USD Coin   USDC  4.186761e+10              5.0          1.001   \n",
       "binance-usd  Binance USD   BUSD  1.619211e+10              7.0          1.001   \n",
       "avalanche-2    Avalanche   AVAX  6.315178e+09             17.0         20.030   \n",
       "uniswap          Uniswap    UNI  5.104406e+09             20.0          6.770   \n",
       "\n",
       "             total_supply  circulating_supply  \\\n",
       "id                                              \n",
       "tether       6.818278e+10        6.818278e+10   \n",
       "usd-coin     4.180206e+10        4.180826e+10   \n",
       "binance-usd  1.618576e+10        1.618576e+10   \n",
       "avalanche-2  4.205053e+08        3.150992e+08   \n",
       "uniswap      1.000000e+09        7.537667e+08   \n",
       "\n",
       "                                                   addr  \n",
       "id                                                       \n",
       "tether       0x9702230a8ea53601f5cd2dc00fdbc13d4df4a8c7  \n",
       "usd-coin     0xb97ef9ef8734c71904d8002f8b6bc66dd9c48a6e  \n",
       "binance-usd  0x9c9e5fd8bbc25984b178fdce6117defa39d2db39  \n",
       "avalanche-2  0xb31f66aa3c1e785363f0875a1b74e27b85fd66c7  \n",
       "uniswap      0x8ebaf22b6f053dffeaf46f4dd9efa95d89ba8580  "
      ]
     },
     "execution_count": 85,
     "metadata": {},
     "output_type": "execute_result"
    }
   ],
   "source": [
    "tokens_market_data = tokens_market_data[~tokens_market_data['addr'].isna()]\n",
    "tokens_market_data.head()"
   ]
  },
  {
   "cell_type": "code",
   "execution_count": 86,
   "id": "30a6d624-9247-45a0-95af-5f79dce6703f",
   "metadata": {},
   "outputs": [],
   "source": [
    "tokens_market_data = tokens_market_data.sort_values('market_cap', ascending=False)\n",
    "\n",
    "#Adjusting Pangolin's max supply to reflect tokenomic changes here: https://app.pangolin.exchange/#/vote/10\n",
    "tokens_market_data.loc[['pangolin'],[\"total_supply\"]] = 230000000.0"
   ]
  },
  {
   "cell_type": "markdown",
   "id": "c0c93d4d-da55-46ad-bdba-0beb4904384b",
   "metadata": {},
   "source": [
    "### Token's supply check "
   ]
  },
  {
   "cell_type": "code",
   "execution_count": 87,
   "id": "2e8f966a-441d-4e40-ba0e-1d140cdd8e74",
   "metadata": {},
   "outputs": [],
   "source": [
    "sp_passed_index = (tokens_market_data['circulating_supply'] / tokens_market_data['total_supply']) > 0.3\n",
    "sp_passed = tokens_market_data[sp_passed_index]"
   ]
  },
  {
   "cell_type": "markdown",
   "id": "a6bbaa4d-eb21-4d5c-9965-438e549e2fe4",
   "metadata": {},
   "source": [
    "### Retrieve historical data & token age check"
   ]
  },
  {
   "cell_type": "code",
   "execution_count": 88,
   "id": "95211db9-aaa9-415b-9442-173aa282a6dd",
   "metadata": {},
   "outputs": [
    {
     "name": "stdout",
     "output_type": "stream",
     "text": [
      "Note: BTCB, marketcap data available only for 113 < 180 days\n",
      "Excluding XEN, prices data available only for 120 < 180 days\n",
      "Note: KENSHI, marketcap data available only for 5 < 180 days\n",
      "Note: CLY, marketcap data available only for 158 < 180 days\n",
      "Note: BUILD, marketcap data available only for 165 < 180 days\n",
      "Excluding USP, prices data available only for 1 < 180 days\n",
      "Note: 3ULL, marketcap data available only for 137 < 180 days\n",
      "Note: MAGIC, marketcap data available only for 27 < 180 days\n",
      "Excluding CAI, prices data available only for 154 < 180 days\n",
      "Note: DCAR, marketcap data available only for 146 < 180 days\n",
      "Note: CHRO, marketcap data available only for 92 < 180 days\n",
      "Note: FRF, marketcap data available only for 1 < 180 days\n"
     ]
    }
   ],
   "source": [
    "exclude_list = []\n",
    "\n",
    "prices_data = pd.DataFrame()\n",
    "marketcaps = pd.DataFrame() \n",
    "for id_, row in sp_passed.iterrows():\n",
    "    symbol = row['symbol']\n",
    "    data = cg.get_coin_market_chart_by_id(id_, vs_currency='USD', days='max')\n",
    "  \n",
    "    df_prices = pd.DataFrame(data['prices'], columns=['date', id_])\n",
    "    df_prices = df_prices[df_prices[id_] > 0]\n",
    "    df_prices['date'] = pd.to_datetime(df_prices['date'], unit='ms').dt.date\n",
    "    df_prices['date'] = pd.to_datetime(df_prices['date'])\n",
    "    df_prices = df_prices.set_index('date', drop=True)\n",
    "    df_prices = df_prices.loc[~df_prices.index.duplicated(keep='first')]\n",
    "    \n",
    "    if len(df_prices) < 6 * 30:\n",
    "        print(f'Excluding {symbol}, prices data available only for {len(df_prices)} < {6*30} days')\n",
    "        exclude_list.append(id_)\n",
    "        continue\n",
    "    prices_data = pd.concat([prices_data, df_prices], axis=1)\n",
    "    \n",
    "    df_mcaps = pd.DataFrame(data['market_caps'], columns=['date', id_])\n",
    "    df_mcaps = df_mcaps[df_mcaps[id_] > 0]\n",
    "    df_mcaps['date'] = pd.to_datetime(df_mcaps['date'], unit='ms').dt.date\n",
    "    df_mcaps['date'] = pd.to_datetime(df_mcaps['date'])\n",
    "    df_mcaps = df_mcaps.set_index('date', drop=True)\n",
    "    df_mcaps = df_mcaps.loc[~df_mcaps.index.duplicated(keep='first')]\n",
    "    \n",
    "    if len(df_mcaps) < 6 * 30:\n",
    "        print(f'Note: {symbol}, marketcap data available only for {len(df_mcaps)} < {6 * 30} days')\n",
    "        ## continue\n",
    "    df_mcaps = df_mcaps.reindex(df_prices.index)\n",
    "    marketcaps = pd.concat([marketcaps, df_mcaps], axis=1)\n",
    "    \n",
    "    "
   ]
  },
  {
   "cell_type": "markdown",
   "id": "bae26b9a-9b08-4558-b472-18d3cf9f1342",
   "metadata": {},
   "source": [
    "### Non quantative checks"
   ]
  },
  {
   "cell_type": "code",
   "execution_count": 89,
   "id": "d6ae8446-7b24-4b35-9c29-cb06547ccfa2",
   "metadata": {},
   "outputs": [
    {
     "data": {
      "text/plain": [
       "['xen-crypto',\n",
       " 'platypus-usd',\n",
       " 'colony-avalanche-index',\n",
       " 'tether',\n",
       " 'usd-coin',\n",
       " 'spell-token',\n",
       " 'stacktical',\n",
       " 'zookeeper',\n",
       " 'pendle',\n",
       " 'everrise',\n",
       " 'wrapped-bitcoin',\n",
       " 'dai',\n",
       " 'bitcoin-avalanche-bridged-btc-b',\n",
       " 'gmx',\n",
       " 'woo-network',\n",
       " 'avalaunch']"
      ]
     },
     "execution_count": 89,
     "metadata": {},
     "output_type": "execute_result"
    }
   ],
   "source": [
    "manual_exclusions = [\n",
    "    {\n",
    "        'gecko_id': 'tether',\n",
    "        'reason': 'stablecoin'\n",
    "    },\n",
    "    {\n",
    "        'gecko_id': 'usd-coin',\n",
    "        'reason': 'stablecoin'\n",
    "    },\n",
    "    {\n",
    "        'gecko_id': 'spell-token',\n",
    "        'reason': 'Not a native Avalanche asset'\n",
    "    },\n",
    "    {\n",
    "        'gecko_id': 'stacktical',\n",
    "        'reason': 'Not a native Avalanche asset'\n",
    "    },\n",
    "    {\n",
    "        'gecko_id': 'zookeeper',\n",
    "        'reason': 'Not a native Avalanche asset'\n",
    "    },\n",
    "    {\n",
    "        'gecko_id': 'pendle',\n",
    "        'reason': 'Not a native Avalanche asset'\n",
    "    },\n",
    "    {\n",
    "        'gecko_id': 'everrise',\n",
    "        'reason': 'Not a native Avalanche asset'\n",
    "    },\n",
    "    {\n",
    "        'gecko_id': 'wrapped-bitcoin',\n",
    "        'reason' : 'Not a native Avalanche asset'\n",
    "    },\n",
    "    {\n",
    "        'gecko_id': 'dai',\n",
    "        'reason' : 'stablecoin'\n",
    "    },\n",
    "    {\n",
    "        'gecko_id': 'bitcoin-avalanche-bridged-btc-b',\n",
    "        'reason': 'Not a native Avalanche asset'\n",
    "    },\n",
    "    {\n",
    "        'gecko_id': 'gmx',\n",
    "        'reason': 'Bridged asset'\n",
    "    },\n",
    "    {\n",
    "        'gecko_id': 'woo-network',\n",
    "        'reason': 'Bridged asset'\n",
    "    },\n",
    "    {\n",
    "        'gecko_id': 'avalaunch',\n",
    "        'reason': 'Inconsistent liquidity'\n",
    "    }\n",
    "]\n",
    "for token in manual_exclusions:\n",
    "    exclude_list.append(token['gecko_id'])\n",
    "\n",
    "exclude_list"
   ]
  },
  {
   "cell_type": "code",
   "execution_count": 90,
   "id": "771b0608",
   "metadata": {},
   "outputs": [
    {
     "data": {
      "text/html": [
       "<div>\n",
       "<style scoped>\n",
       "    .dataframe tbody tr th:only-of-type {\n",
       "        vertical-align: middle;\n",
       "    }\n",
       "\n",
       "    .dataframe tbody tr th {\n",
       "        vertical-align: top;\n",
       "    }\n",
       "\n",
       "    .dataframe thead th {\n",
       "        text-align: right;\n",
       "    }\n",
       "</style>\n",
       "<table border=\"1\" class=\"dataframe\">\n",
       "  <thead>\n",
       "    <tr style=\"text-align: right;\">\n",
       "      <th></th>\n",
       "      <th>name</th>\n",
       "      <th>symbol</th>\n",
       "      <th>market_cap</th>\n",
       "      <th>market_cap_rank</th>\n",
       "      <th>current_price</th>\n",
       "      <th>total_supply</th>\n",
       "      <th>circulating_supply</th>\n",
       "      <th>addr</th>\n",
       "    </tr>\n",
       "    <tr>\n",
       "      <th>id</th>\n",
       "      <th></th>\n",
       "      <th></th>\n",
       "      <th></th>\n",
       "      <th></th>\n",
       "      <th></th>\n",
       "      <th></th>\n",
       "      <th></th>\n",
       "      <th></th>\n",
       "    </tr>\n",
       "  </thead>\n",
       "  <tbody>\n",
       "    <tr>\n",
       "      <th>binance-usd</th>\n",
       "      <td>Binance USD</td>\n",
       "      <td>BUSD</td>\n",
       "      <td>1.619211e+10</td>\n",
       "      <td>7.0</td>\n",
       "      <td>1.001000</td>\n",
       "      <td>1.618576e+10</td>\n",
       "      <td>1.618576e+10</td>\n",
       "      <td>0x9c9e5fd8bbc25984b178fdce6117defa39d2db39</td>\n",
       "    </tr>\n",
       "    <tr>\n",
       "      <th>avalanche-2</th>\n",
       "      <td>Avalanche</td>\n",
       "      <td>AVAX</td>\n",
       "      <td>6.315178e+09</td>\n",
       "      <td>17.0</td>\n",
       "      <td>20.030000</td>\n",
       "      <td>4.205053e+08</td>\n",
       "      <td>3.150992e+08</td>\n",
       "      <td>0xb31f66aa3c1e785363f0875a1b74e27b85fd66c7</td>\n",
       "    </tr>\n",
       "    <tr>\n",
       "      <th>uniswap</th>\n",
       "      <td>Uniswap</td>\n",
       "      <td>UNI</td>\n",
       "      <td>5.104406e+09</td>\n",
       "      <td>20.0</td>\n",
       "      <td>6.770000</td>\n",
       "      <td>1.000000e+09</td>\n",
       "      <td>7.537667e+08</td>\n",
       "      <td>0x8ebaf22b6f053dffeaf46f4dd9efa95d89ba8580</td>\n",
       "    </tr>\n",
       "    <tr>\n",
       "      <th>chainlink</th>\n",
       "      <td>Chainlink</td>\n",
       "      <td>LINK</td>\n",
       "      <td>3.437642e+09</td>\n",
       "      <td>24.0</td>\n",
       "      <td>6.990000</td>\n",
       "      <td>1.000000e+09</td>\n",
       "      <td>4.916000e+08</td>\n",
       "      <td>0x5947bb275c521040051d82396192181b413227a3</td>\n",
       "    </tr>\n",
       "    <tr>\n",
       "      <th>the-graph</th>\n",
       "      <td>The Graph</td>\n",
       "      <td>GRT</td>\n",
       "      <td>1.579925e+09</td>\n",
       "      <td>41.0</td>\n",
       "      <td>0.176452</td>\n",
       "      <td>1.000000e+10</td>\n",
       "      <td>8.893377e+09</td>\n",
       "      <td>0x8a0cac13c7da965a312f08ea4229c37869e85cb9</td>\n",
       "    </tr>\n",
       "    <tr>\n",
       "      <th>...</th>\n",
       "      <td>...</td>\n",
       "      <td>...</td>\n",
       "      <td>...</td>\n",
       "      <td>...</td>\n",
       "      <td>...</td>\n",
       "      <td>...</td>\n",
       "      <td>...</td>\n",
       "      <td>...</td>\n",
       "    </tr>\n",
       "    <tr>\n",
       "      <th>bscstarter</th>\n",
       "      <td>Starter.xyz</td>\n",
       "      <td>START</td>\n",
       "      <td>1.394361e+04</td>\n",
       "      <td>3673.0</td>\n",
       "      <td>0.014882</td>\n",
       "      <td>1.000000e+06</td>\n",
       "      <td>9.369142e+05</td>\n",
       "      <td>0xf44fb887334fa17d2c5c0f970b5d320ab53ed557</td>\n",
       "    </tr>\n",
       "    <tr>\n",
       "      <th>ape-in</th>\n",
       "      <td>Ape In</td>\n",
       "      <td>APEIN</td>\n",
       "      <td>1.242091e+04</td>\n",
       "      <td>3697.0</td>\n",
       "      <td>0.331224</td>\n",
       "      <td>3.750000e+04</td>\n",
       "      <td>3.750000e+04</td>\n",
       "      <td>0x938fe3788222a74924e062120e7bfac829c719fb</td>\n",
       "    </tr>\n",
       "    <tr>\n",
       "      <th>fortressdao</th>\n",
       "      <td>Fortress</td>\n",
       "      <td>FORT</td>\n",
       "      <td>1.189670e+04</td>\n",
       "      <td>3706.0</td>\n",
       "      <td>0.008486</td>\n",
       "      <td>1.409126e+06</td>\n",
       "      <td>1.401945e+06</td>\n",
       "      <td>0xf6d46849db378ae01d93732585bec2c4480d1fd5</td>\n",
       "    </tr>\n",
       "    <tr>\n",
       "      <th>morphie</th>\n",
       "      <td>Morphie</td>\n",
       "      <td>MRFI</td>\n",
       "      <td>8.163660e+03</td>\n",
       "      <td>3752.0</td>\n",
       "      <td>0.000001</td>\n",
       "      <td>2.000000e+10</td>\n",
       "      <td>8.069296e+09</td>\n",
       "      <td>0x05e481b19129b560e921e487adb281e70bdba463</td>\n",
       "    </tr>\n",
       "    <tr>\n",
       "      <th>hermes</th>\n",
       "      <td>HERMES</td>\n",
       "      <td>HERMES</td>\n",
       "      <td>3.360470e+03</td>\n",
       "      <td>3835.0</td>\n",
       "      <td>0.534707</td>\n",
       "      <td>9.878883e+03</td>\n",
       "      <td>6.284703e+03</td>\n",
       "      <td>0xb15f02f9da8cd1f99e9dd375f21dc96d25ddd82c</td>\n",
       "    </tr>\n",
       "  </tbody>\n",
       "</table>\n",
       "<p>119 rows × 8 columns</p>\n",
       "</div>"
      ],
      "text/plain": [
       "                    name  symbol    market_cap  market_cap_rank  \\\n",
       "id                                                                \n",
       "binance-usd  Binance USD    BUSD  1.619211e+10              7.0   \n",
       "avalanche-2    Avalanche    AVAX  6.315178e+09             17.0   \n",
       "uniswap          Uniswap     UNI  5.104406e+09             20.0   \n",
       "chainlink      Chainlink    LINK  3.437642e+09             24.0   \n",
       "the-graph      The Graph     GRT  1.579925e+09             41.0   \n",
       "...                  ...     ...           ...              ...   \n",
       "bscstarter   Starter.xyz   START  1.394361e+04           3673.0   \n",
       "ape-in            Ape In   APEIN  1.242091e+04           3697.0   \n",
       "fortressdao     Fortress    FORT  1.189670e+04           3706.0   \n",
       "morphie          Morphie    MRFI  8.163660e+03           3752.0   \n",
       "hermes            HERMES  HERMES  3.360470e+03           3835.0   \n",
       "\n",
       "             current_price  total_supply  circulating_supply  \\\n",
       "id                                                             \n",
       "binance-usd       1.001000  1.618576e+10        1.618576e+10   \n",
       "avalanche-2      20.030000  4.205053e+08        3.150992e+08   \n",
       "uniswap           6.770000  1.000000e+09        7.537667e+08   \n",
       "chainlink         6.990000  1.000000e+09        4.916000e+08   \n",
       "the-graph         0.176452  1.000000e+10        8.893377e+09   \n",
       "...                    ...           ...                 ...   \n",
       "bscstarter        0.014882  1.000000e+06        9.369142e+05   \n",
       "ape-in            0.331224  3.750000e+04        3.750000e+04   \n",
       "fortressdao       0.008486  1.409126e+06        1.401945e+06   \n",
       "morphie           0.000001  2.000000e+10        8.069296e+09   \n",
       "hermes            0.534707  9.878883e+03        6.284703e+03   \n",
       "\n",
       "                                                   addr  \n",
       "id                                                       \n",
       "binance-usd  0x9c9e5fd8bbc25984b178fdce6117defa39d2db39  \n",
       "avalanche-2  0xb31f66aa3c1e785363f0875a1b74e27b85fd66c7  \n",
       "uniswap      0x8ebaf22b6f053dffeaf46f4dd9efa95d89ba8580  \n",
       "chainlink    0x5947bb275c521040051d82396192181b413227a3  \n",
       "the-graph    0x8a0cac13c7da965a312f08ea4229c37869e85cb9  \n",
       "...                                                 ...  \n",
       "bscstarter   0xf44fb887334fa17d2c5c0f970b5d320ab53ed557  \n",
       "ape-in       0x938fe3788222a74924e062120e7bfac829c719fb  \n",
       "fortressdao  0xf6d46849db378ae01d93732585bec2c4480d1fd5  \n",
       "morphie      0x05e481b19129b560e921e487adb281e70bdba463  \n",
       "hermes       0xb15f02f9da8cd1f99e9dd375f21dc96d25ddd82c  \n",
       "\n",
       "[119 rows x 8 columns]"
      ]
     },
     "execution_count": 90,
     "metadata": {},
     "output_type": "execute_result"
    }
   ],
   "source": [
    "passed_q_and_non_q_checks = sp_passed.query('index not in @exclude_list')\n",
    "passed_q_and_non_q_checks"
   ]
  },
  {
   "cell_type": "markdown",
   "id": "038e3d9e-2841-451f-9066-8d6009da1ed9",
   "metadata": {
    "tags": []
   },
   "source": [
    "### Liquidity check"
   ]
  },
  {
   "cell_type": "markdown",
   "id": "44432461-712c-40ed-90aa-a447cdbc2239",
   "metadata": {},
   "source": [
    "To derive a slippage threshold, consider an abstract univ2-like pool with $5m\\$$ overall liquidity. \n",
    "I.e if pool has reserves $R_1$, $R_2$ and $p_1$ and $p_2$ are the correspondent tokens prices (in USD), then\n",
    "$$R_1p_1 = R_2p_2 = 2.5m \\$$$\n",
    "\n",
    "Swapping $x$ token1 for token2 will result in the output amount $y$ such that\n",
    "$$R_1\\cdot R_2 = (R_1 + x) \\cdot (R_2 - y)$$\n",
    "$$y = \\frac{R_2\\cdot x}{R_1 + x}$$\n",
    "Then the delivery price will be\n",
    "$$p_d = \\frac{y}{x} = \\frac{R_2}{R_1 + x}$$\n",
    "The spot price may be estimated as a delivery price for relatively small input amount $x_0$\n",
    "$$p_s = \\frac{y_0}{x_0} = \\frac{R_2}{R_1 + x_0}$$\n",
    "\n",
    "Then the theoretical slippage for this pool will be\n",
    "$$slippage = \\frac{p_d}{p_s} - 1 = \\frac{R_1+x_0}{R_1+x} - 1 = \\frac{p_1R_1+p_1x_0}{p_1R_1+p_1x}-1$$"
   ]
  },
  {
   "cell_type": "code",
   "execution_count": 91,
   "id": "3bea8b74-3c19-4f6b-833b-c82890309690",
   "metadata": {},
   "outputs": [],
   "source": [
    "liq = 2*10**6\n",
    "liq_os = liq / 2 # one-side liquidity \n",
    "trade_value_tiny = 1e2\n",
    "trade_value = 1e5"
   ]
  },
  {
   "cell_type": "code",
   "execution_count": 92,
   "id": "7c70f2f5-26ae-436a-a4fb-80eaac2562df",
   "metadata": {},
   "outputs": [
    {
     "data": {
      "text/plain": [
       "-0.09"
      ]
     },
     "execution_count": 92,
     "metadata": {},
     "output_type": "execute_result"
    }
   ],
   "source": [
    "max_slippage = (liq_os + trade_value_tiny) / (liq_os + trade_value) - 1\n",
    "# round to the nearest .5\n",
    "max_slippage = round(2 * max_slippage, 2) / 2 \n",
    "max_slippage"
   ]
  },
  {
   "cell_type": "code",
   "execution_count": 93,
   "id": "9297450e-bdc5-424b-8ec2-08fb7ec5a9df",
   "metadata": {},
   "outputs": [],
   "source": [
    "url_0x = \"https://avalanche.api.0x.org/swap/v1/quote\""
   ]
  },
  {
   "cell_type": "code",
   "execution_count": 94,
   "id": "21129b64-07e4-4286-9734-402420c7f7aa",
   "metadata": {},
   "outputs": [],
   "source": [
    "decimals = 18\n",
    "slippages = []\n",
    "for id, data in passed_q_and_non_q_checks.iterrows():\n",
    "    try:\n",
    "        query = {\n",
    "            'buyToken': data['addr'],\n",
    "            'sellToken': 'AVAX',\n",
    "            'sellAmount': int(trade_value_tiny / tokens_market_data.loc['avalanche-2']['current_price'] * 10 ** decimals),\n",
    "            'enableSlippageProtection':'true'\n",
    "        }\n",
    "        \n",
    "        # spot price is calculated as a price for 100$ swap\n",
    "        resp = requests.get(url_0x, params=query)\n",
    "        swap = resp.json()\n",
    "        spot_price = float(swap['price'])\n",
    "        \n",
    "        query['sellAmount'] = int(trade_value / tokens_market_data.loc['avalanche-2']['current_price'] * 10 ** decimals)\n",
    "        resp = requests.get(url_0x, params=query)\n",
    "        swap = resp.json()\n",
    "        del_price = float(swap['price'])\n",
    "        \n",
    "        slippage = del_price / spot_price - 1\n",
    "        slippages.append({\n",
    "            'id': id,\n",
    "            'spot_price': spot_price,\n",
    "            'delivery_price': del_price,\n",
    "            'slippage': slippage\n",
    "        })\n",
    "    except KeyError:\n",
    "        continue\n",
    "    "
   ]
  },
  {
   "cell_type": "code",
   "execution_count": 95,
   "id": "163461d3-e40a-46e2-a1b5-81d670b27e01",
   "metadata": {},
   "outputs": [
    {
     "data": {
      "text/html": [
       "<div>\n",
       "<style scoped>\n",
       "    .dataframe tbody tr th:only-of-type {\n",
       "        vertical-align: middle;\n",
       "    }\n",
       "\n",
       "    .dataframe tbody tr th {\n",
       "        vertical-align: top;\n",
       "    }\n",
       "\n",
       "    .dataframe thead th {\n",
       "        text-align: right;\n",
       "    }\n",
       "</style>\n",
       "<table border=\"1\" class=\"dataframe\">\n",
       "  <thead>\n",
       "    <tr style=\"text-align: right;\">\n",
       "      <th></th>\n",
       "      <th>id</th>\n",
       "      <th>spot_price</th>\n",
       "      <th>delivery_price</th>\n",
       "      <th>slippage</th>\n",
       "    </tr>\n",
       "  </thead>\n",
       "  <tbody>\n",
       "    <tr>\n",
       "      <th>0</th>\n",
       "      <td>binance-usd</td>\n",
       "      <td>1.993130e+01</td>\n",
       "      <td>12.333403</td>\n",
       "      <td>-0.381204</td>\n",
       "    </tr>\n",
       "    <tr>\n",
       "      <th>1</th>\n",
       "      <td>avalanche-2</td>\n",
       "      <td>1.000000e+00</td>\n",
       "      <td>1.000000</td>\n",
       "      <td>0.000000</td>\n",
       "    </tr>\n",
       "    <tr>\n",
       "      <th>2</th>\n",
       "      <td>uniswap</td>\n",
       "      <td>2.034090e+00</td>\n",
       "      <td>0.006049</td>\n",
       "      <td>-0.997026</td>\n",
       "    </tr>\n",
       "    <tr>\n",
       "      <th>3</th>\n",
       "      <td>chainlink</td>\n",
       "      <td>2.858453e+00</td>\n",
       "      <td>2.392711</td>\n",
       "      <td>-0.162935</td>\n",
       "    </tr>\n",
       "    <tr>\n",
       "      <th>4</th>\n",
       "      <td>the-graph</td>\n",
       "      <td>2.588700e+00</td>\n",
       "      <td>0.002866</td>\n",
       "      <td>-0.998893</td>\n",
       "    </tr>\n",
       "    <tr>\n",
       "      <th>...</th>\n",
       "      <td>...</td>\n",
       "      <td>...</td>\n",
       "      <td>...</td>\n",
       "      <td>...</td>\n",
       "    </tr>\n",
       "    <tr>\n",
       "      <th>102</th>\n",
       "      <td>bscstarter</td>\n",
       "      <td>1.113340e+02</td>\n",
       "      <td>0.295079</td>\n",
       "      <td>-0.997350</td>\n",
       "    </tr>\n",
       "    <tr>\n",
       "      <th>103</th>\n",
       "      <td>ape-in</td>\n",
       "      <td>5.969708e+01</td>\n",
       "      <td>6.520010</td>\n",
       "      <td>-0.890782</td>\n",
       "    </tr>\n",
       "    <tr>\n",
       "      <th>104</th>\n",
       "      <td>fortressdao</td>\n",
       "      <td>2.315216e+03</td>\n",
       "      <td>194.781611</td>\n",
       "      <td>-0.915869</td>\n",
       "    </tr>\n",
       "    <tr>\n",
       "      <th>105</th>\n",
       "      <td>morphie</td>\n",
       "      <td>1.676687e+07</td>\n",
       "      <td>94387.156470</td>\n",
       "      <td>-0.994371</td>\n",
       "    </tr>\n",
       "    <tr>\n",
       "      <th>106</th>\n",
       "      <td>hermes</td>\n",
       "      <td>3.556299e+01</td>\n",
       "      <td>0.706322</td>\n",
       "      <td>-0.980139</td>\n",
       "    </tr>\n",
       "  </tbody>\n",
       "</table>\n",
       "<p>107 rows × 4 columns</p>\n",
       "</div>"
      ],
      "text/plain": [
       "              id    spot_price  delivery_price  slippage\n",
       "0    binance-usd  1.993130e+01       12.333403 -0.381204\n",
       "1    avalanche-2  1.000000e+00        1.000000  0.000000\n",
       "2        uniswap  2.034090e+00        0.006049 -0.997026\n",
       "3      chainlink  2.858453e+00        2.392711 -0.162935\n",
       "4      the-graph  2.588700e+00        0.002866 -0.998893\n",
       "..           ...           ...             ...       ...\n",
       "102   bscstarter  1.113340e+02        0.295079 -0.997350\n",
       "103       ape-in  5.969708e+01        6.520010 -0.890782\n",
       "104  fortressdao  2.315216e+03      194.781611 -0.915869\n",
       "105      morphie  1.676687e+07    94387.156470 -0.994371\n",
       "106       hermes  3.556299e+01        0.706322 -0.980139\n",
       "\n",
       "[107 rows x 4 columns]"
      ]
     },
     "execution_count": 95,
     "metadata": {},
     "output_type": "execute_result"
    }
   ],
   "source": [
    "slippages_df = pd.DataFrame(slippages)\n",
    "slippages_df"
   ]
  },
  {
   "cell_type": "code",
   "execution_count": 96,
   "id": "b597ff4d-9598-4d29-9e10-98b58a1aa2f3",
   "metadata": {},
   "outputs": [
    {
     "data": {
      "text/html": [
       "<div>\n",
       "<style scoped>\n",
       "    .dataframe tbody tr th:only-of-type {\n",
       "        vertical-align: middle;\n",
       "    }\n",
       "\n",
       "    .dataframe tbody tr th {\n",
       "        vertical-align: top;\n",
       "    }\n",
       "\n",
       "    .dataframe thead th {\n",
       "        text-align: right;\n",
       "    }\n",
       "</style>\n",
       "<table border=\"1\" class=\"dataframe\">\n",
       "  <thead>\n",
       "    <tr style=\"text-align: right;\">\n",
       "      <th></th>\n",
       "      <th>name</th>\n",
       "      <th>symbol</th>\n",
       "      <th>market_cap</th>\n",
       "      <th>market_cap_rank</th>\n",
       "      <th>current_price</th>\n",
       "      <th>total_supply</th>\n",
       "      <th>circulating_supply</th>\n",
       "      <th>addr</th>\n",
       "    </tr>\n",
       "    <tr>\n",
       "      <th>id</th>\n",
       "      <th></th>\n",
       "      <th></th>\n",
       "      <th></th>\n",
       "      <th></th>\n",
       "      <th></th>\n",
       "      <th></th>\n",
       "      <th></th>\n",
       "      <th></th>\n",
       "    </tr>\n",
       "  </thead>\n",
       "  <tbody>\n",
       "    <tr>\n",
       "      <th>avalanche-2</th>\n",
       "      <td>Avalanche</td>\n",
       "      <td>AVAX</td>\n",
       "      <td>6.315178e+09</td>\n",
       "      <td>17.0</td>\n",
       "      <td>20.030000</td>\n",
       "      <td>4.205053e+08</td>\n",
       "      <td>3.150992e+08</td>\n",
       "      <td>0xb31f66aa3c1e785363f0875a1b74e27b85fd66c7</td>\n",
       "    </tr>\n",
       "    <tr>\n",
       "      <th>benqi-liquid-staked-avax</th>\n",
       "      <td>BENQI Liquid Staked AVAX</td>\n",
       "      <td>SAVAX</td>\n",
       "      <td>1.110209e+08</td>\n",
       "      <td>270.0</td>\n",
       "      <td>21.340000</td>\n",
       "      <td>5.202131e+06</td>\n",
       "      <td>5.202129e+06</td>\n",
       "      <td>0x2b2c81e08f1af8835a78bb2a90ae924ace0ea4be</td>\n",
       "    </tr>\n",
       "    <tr>\n",
       "      <th>joe</th>\n",
       "      <td>JOE</td>\n",
       "      <td>JOE</td>\n",
       "      <td>9.028190e+07</td>\n",
       "      <td>319.0</td>\n",
       "      <td>0.269670</td>\n",
       "      <td>4.727930e+08</td>\n",
       "      <td>3.344258e+08</td>\n",
       "      <td>0x6e84a6216ea6dacc71ee8e6b0a5b7322eebc0fdd</td>\n",
       "    </tr>\n",
       "    <tr>\n",
       "      <th>benqi</th>\n",
       "      <td>BENQI</td>\n",
       "      <td>QI</td>\n",
       "      <td>3.445885e+07</td>\n",
       "      <td>579.0</td>\n",
       "      <td>0.010431</td>\n",
       "      <td>7.200000e+09</td>\n",
       "      <td>3.304107e+09</td>\n",
       "      <td>0x8729438eb15e2c8b576fcc6aecda6a148776c0f5</td>\n",
       "    </tr>\n",
       "  </tbody>\n",
       "</table>\n",
       "</div>"
      ],
      "text/plain": [
       "                                              name symbol    market_cap  \\\n",
       "id                                                                        \n",
       "avalanche-2                              Avalanche   AVAX  6.315178e+09   \n",
       "benqi-liquid-staked-avax  BENQI Liquid Staked AVAX  SAVAX  1.110209e+08   \n",
       "joe                                            JOE    JOE  9.028190e+07   \n",
       "benqi                                        BENQI     QI  3.445885e+07   \n",
       "\n",
       "                          market_cap_rank  current_price  total_supply  \\\n",
       "id                                                                       \n",
       "avalanche-2                          17.0      20.030000  4.205053e+08   \n",
       "benqi-liquid-staked-avax            270.0      21.340000  5.202131e+06   \n",
       "joe                                 319.0       0.269670  4.727930e+08   \n",
       "benqi                               579.0       0.010431  7.200000e+09   \n",
       "\n",
       "                          circulating_supply  \\\n",
       "id                                             \n",
       "avalanche-2                     3.150992e+08   \n",
       "benqi-liquid-staked-avax        5.202129e+06   \n",
       "joe                             3.344258e+08   \n",
       "benqi                           3.304107e+09   \n",
       "\n",
       "                                                                addr  \n",
       "id                                                                    \n",
       "avalanche-2               0xb31f66aa3c1e785363f0875a1b74e27b85fd66c7  \n",
       "benqi-liquid-staked-avax  0x2b2c81e08f1af8835a78bb2a90ae924ace0ea4be  \n",
       "joe                       0x6e84a6216ea6dacc71ee8e6b0a5b7322eebc0fdd  \n",
       "benqi                     0x8729438eb15e2c8b576fcc6aecda6a148776c0f5  "
      ]
     },
     "execution_count": 96,
     "metadata": {},
     "output_type": "execute_result"
    }
   ],
   "source": [
    "include_list = list(slippages_df[abs(slippages_df['slippage']) < abs(max_slippage)]['id'])\n",
    "qualified_assets = passed_q_and_non_q_checks.query('index in @include_list')\n",
    "qualified_assets\n"
   ]
  },
  {
   "attachments": {},
   "cell_type": "markdown",
   "id": "f37255c2-3901-4432-ae9a-2fe4be0da6b0",
   "metadata": {
    "tags": []
   },
   "source": [
    "### Marketcap ranking & filtering"
   ]
  },
  {
   "cell_type": "code",
   "execution_count": 97,
   "id": "63307972-a354-407e-8981-bc16e700b3d7",
   "metadata": {},
   "outputs": [],
   "source": [
    "chosen_tokens = qualified_assets.sort_values(\"market_cap\", ascending=False)"
   ]
  },
  {
   "cell_type": "markdown",
   "id": "aace23a3-65b0-4d5c-8e8a-ef6e5bf5fa75",
   "metadata": {},
   "source": [
    "## Weighting "
   ]
  },
  {
   "cell_type": "markdown",
   "id": "6f09b1a8-c752-4cd6-bbfa-0a79ec7e15a0",
   "metadata": {},
   "source": [
    "**Weighting requirements**\n",
    "* The maximum weight any one token can have is 50%.\n",
    "* All excess weight is proportionally redistributed to all uncapped tokens. \n",
    "* Any asset with a weight below 0.5% will be removed from the index.\n"
   ]
  },
  {
   "cell_type": "markdown",
   "id": "1b09f606-595a-4497-849f-77aaa65684a2",
   "metadata": {
    "tags": []
   },
   "source": [
    "### Weight mcaps"
   ]
  },
  {
   "cell_type": "code",
   "execution_count": 98,
   "id": "30397f34-29d6-401e-b8c1-233b5679c4ca",
   "metadata": {
    "tags": []
   },
   "outputs": [],
   "source": [
    "# exclude savax from weighting since it should be a part of avax weight\n",
    "if 'benqi-liquid-staked-avax' in chosen_tokens.index:\n",
    "    chosen_tokens_ex_savax = chosen_tokens.drop('benqi-liquid-staked-avax')\n",
    "    weights = chosen_tokens_ex_savax['market_cap'].div(chosen_tokens_ex_savax['market_cap'].sum())\n",
    "else:\n",
    "    weights = chosen_tokens['market_cap'].div(chosen_tokens['market_cap'].sum())\n",
    "\n"
   ]
  },
  {
   "cell_type": "markdown",
   "id": "a0e004fb-94f0-4540-9103-c81b1edcddc4",
   "metadata": {},
   "source": [
    "### Adjust weights"
   ]
  },
  {
   "cell_type": "markdown",
   "id": "b81afd8a-8635-4d0e-b977-b2a3ec809c33",
   "metadata": {},
   "source": [
    "This process adjusts weights to adhere to the weight constraints described in our methodology. In addition the `remove_tiny_weights` function checks for any assets with a weight below the minimum threshold of $0.5\\%$ and proportionally increases all remaining weights (which are $> 0.5\\%$). Note that after this procedure readjusting weights to respect maximum may be needed."
   ]
  },
  {
   "cell_type": "code",
   "execution_count": 99,
   "id": "f34cb625-e58d-424c-b33f-f3c393d1efb3",
   "metadata": {},
   "outputs": [],
   "source": [
    "def adjust_weights(weights, max_weight):\n",
    "    w = weights.copy()\n",
    "    \n",
    "    while (w > max_weight).any(axis=None):\n",
    "        w[w > max_weight] = max_weight\n",
    "        c = 1 - w.sum()\n",
    "        w_less = w[w < max_weight]\n",
    "        w[(w < max_weight) & (w > 0)] += w_less.div(w_less.sum()).mul(c)\n",
    "    \n",
    "    return w"
   ]
  },
  {
   "cell_type": "code",
   "execution_count": 100,
   "id": "e291c891-011e-49c8-80c1-3024207d89c7",
   "metadata": {},
   "outputs": [],
   "source": [
    "def remove_tiny_weights(weights, min_weight):\n",
    "    w = weights.copy()\n",
    "    \n",
    "    w[w < min_weight] = 0\n",
    "    w = w.div(w.sum())\n",
    "    \n",
    "    return w"
   ]
  },
  {
   "cell_type": "code",
   "execution_count": 101,
   "id": "fa93ce86-f09a-49da-9555-2a8917d225e5",
   "metadata": {},
   "outputs": [],
   "source": [
    "adjusted_weights = adjust_weights(weights, max_weight=0.5) \n",
    "adjusted_weights = remove_tiny_weights(adjusted_weights, min_weight=0.005)\n",
    "adjusted_weights = adjust_weights(adjusted_weights, max_weight=0.5)"
   ]
  },
  {
   "cell_type": "markdown",
   "id": "5ccc806e-2c1f-4555-a6ba-98c8ed3063af",
   "metadata": {},
   "source": [
    "### Split AVAX "
   ]
  },
  {
   "cell_type": "code",
   "execution_count": 102,
   "id": "f7f18f7b-f202-4732-87e5-f90ab7137262",
   "metadata": {},
   "outputs": [
    {
     "data": {
      "text/plain": [
       "id\n",
       "joe                         0.361878\n",
       "benqi-liquid-staked-avax    0.300000\n",
       "avalanche-2                 0.200000\n",
       "benqi                       0.138122\n",
       "Name: market_cap, dtype: float64"
      ]
     },
     "execution_count": 102,
     "metadata": {},
     "output_type": "execute_result"
    }
   ],
   "source": [
    "if 'avalanche-2' and 'benqi-liquid-staked-avax' in chosen_tokens.index:\n",
    "    split = 0.6\n",
    "    adjusted_weights['benqi-liquid-staked-avax'] = adjusted_weights['avalanche-2'] * split\n",
    "    adjusted_weights['avalanche-2'] = adjusted_weights['avalanche-2'] * (1 - split)\n",
    "\n",
    "adjusted_weights =  adjusted_weights.sort_values(ascending = False)\n",
    "adjusted_weights\n"
   ]
  },
  {
   "cell_type": "markdown",
   "id": "7a29b38b-441a-48f6-aca7-4ca1c0ea4207",
   "metadata": {},
   "source": [
    "### Convert weights to the [1, 255] scale"
   ]
  },
  {
   "cell_type": "markdown",
   "id": "b478e9d0-feb7-4f4c-b81d-e989e39ebbc0",
   "metadata": {},
   "source": [
    "On the contract side weights are integer numbers from the interval $[1, 255]$ with total sum $255$, so it's needed to convert retrieved weights to this format.\n",
    "\n",
    "Note that one can't just round weights to integers after scaling, since it doesn't guarantee that their sum will be $255$. To fix that firstly floor function is applied to the weights and then $1$ is being added to the $k$ weights with largest fractional parts."
   ]
  },
  {
   "cell_type": "code",
   "execution_count": 103,
   "id": "5dcd7bd0-0094-4eb9-9c83-e51b108071a9",
   "metadata": {},
   "outputs": [],
   "source": [
    "def convert_weights(weights):\n",
    "    w_scaled = weights * 255\n",
    "    w_res = np.floor(w_scaled).astype(int)    \n",
    "    remainders = w_scaled - w_res    \n",
    "    k = round(remainders.sum())\n",
    "    w_below_max = w_res[w_res<128]\n",
    "    for i in range(k):\n",
    "        w_below_max[i] +=1\n",
    "    for i in w_below_max.index:\n",
    "        w_res[i] = w_below_max[i]\n",
    "    return w_res"
   ]
  },
  {
   "cell_type": "code",
   "execution_count": 104,
   "id": "02330a37-5e19-4c7a-95e6-21aa80199afe",
   "metadata": {},
   "outputs": [],
   "source": [
    "converted_weights = convert_weights(adjusted_weights)"
   ]
  },
  {
   "cell_type": "markdown",
   "id": "c4c5d752-6063-4676-9a5e-97a884e21b0f",
   "metadata": {},
   "source": [
    "## Summary table"
   ]
  },
  {
   "cell_type": "code",
   "execution_count": 105,
   "id": "477090af-03b4-4616-839c-0046e9590d4c",
   "metadata": {},
   "outputs": [
    {
     "data": {
      "text/html": [
       "<div>\n",
       "<style scoped>\n",
       "    .dataframe tbody tr th:only-of-type {\n",
       "        vertical-align: middle;\n",
       "    }\n",
       "\n",
       "    .dataframe tbody tr th {\n",
       "        vertical-align: top;\n",
       "    }\n",
       "\n",
       "    .dataframe thead th {\n",
       "        text-align: right;\n",
       "    }\n",
       "</style>\n",
       "<table border=\"1\" class=\"dataframe\">\n",
       "  <thead>\n",
       "    <tr style=\"text-align: right;\">\n",
       "      <th></th>\n",
       "      <th>name</th>\n",
       "      <th>symbol</th>\n",
       "      <th>market_cap</th>\n",
       "      <th>price</th>\n",
       "      <th>weight</th>\n",
       "      <th>weight_converted</th>\n",
       "      <th>address</th>\n",
       "    </tr>\n",
       "    <tr>\n",
       "      <th>id</th>\n",
       "      <th></th>\n",
       "      <th></th>\n",
       "      <th></th>\n",
       "      <th></th>\n",
       "      <th></th>\n",
       "      <th></th>\n",
       "      <th></th>\n",
       "    </tr>\n",
       "  </thead>\n",
       "  <tbody>\n",
       "    <tr>\n",
       "      <th>avalanche-2</th>\n",
       "      <td>Avalanche</td>\n",
       "      <td>AVAX</td>\n",
       "      <td>6.315178e+09</td>\n",
       "      <td>20.030000</td>\n",
       "      <td>0.200000</td>\n",
       "      <td>51</td>\n",
       "      <td>0xb31f66aa3c1e785363f0875a1b74e27b85fd66c7</td>\n",
       "    </tr>\n",
       "    <tr>\n",
       "      <th>benqi-liquid-staked-avax</th>\n",
       "      <td>BENQI Liquid Staked AVAX</td>\n",
       "      <td>SAVAX</td>\n",
       "      <td>1.110209e+08</td>\n",
       "      <td>21.340000</td>\n",
       "      <td>0.300000</td>\n",
       "      <td>76</td>\n",
       "      <td>0x2b2c81e08f1af8835a78bb2a90ae924ace0ea4be</td>\n",
       "    </tr>\n",
       "    <tr>\n",
       "      <th>joe</th>\n",
       "      <td>JOE</td>\n",
       "      <td>JOE</td>\n",
       "      <td>9.028190e+07</td>\n",
       "      <td>0.269670</td>\n",
       "      <td>0.361878</td>\n",
       "      <td>93</td>\n",
       "      <td>0x6e84a6216ea6dacc71ee8e6b0a5b7322eebc0fdd</td>\n",
       "    </tr>\n",
       "    <tr>\n",
       "      <th>benqi</th>\n",
       "      <td>BENQI</td>\n",
       "      <td>QI</td>\n",
       "      <td>3.445885e+07</td>\n",
       "      <td>0.010431</td>\n",
       "      <td>0.138122</td>\n",
       "      <td>35</td>\n",
       "      <td>0x8729438eb15e2c8b576fcc6aecda6a148776c0f5</td>\n",
       "    </tr>\n",
       "  </tbody>\n",
       "</table>\n",
       "</div>"
      ],
      "text/plain": [
       "                                              name symbol    market_cap  \\\n",
       "id                                                                        \n",
       "avalanche-2                              Avalanche   AVAX  6.315178e+09   \n",
       "benqi-liquid-staked-avax  BENQI Liquid Staked AVAX  SAVAX  1.110209e+08   \n",
       "joe                                            JOE    JOE  9.028190e+07   \n",
       "benqi                                        BENQI     QI  3.445885e+07   \n",
       "\n",
       "                              price    weight  weight_converted  \\\n",
       "id                                                                \n",
       "avalanche-2               20.030000  0.200000                51   \n",
       "benqi-liquid-staked-avax  21.340000  0.300000                76   \n",
       "joe                        0.269670  0.361878                93   \n",
       "benqi                      0.010431  0.138122                35   \n",
       "\n",
       "                                                             address  \n",
       "id                                                                    \n",
       "avalanche-2               0xb31f66aa3c1e785363f0875a1b74e27b85fd66c7  \n",
       "benqi-liquid-staked-avax  0x2b2c81e08f1af8835a78bb2a90ae924ace0ea4be  \n",
       "joe                       0x6e84a6216ea6dacc71ee8e6b0a5b7322eebc0fdd  \n",
       "benqi                     0x8729438eb15e2c8b576fcc6aecda6a148776c0f5  "
      ]
     },
     "execution_count": 105,
     "metadata": {},
     "output_type": "execute_result"
    }
   ],
   "source": [
    "cai = pd.DataFrame()\n",
    "cai.index = chosen_tokens.index\n",
    "cai['name'] = chosen_tokens['name']\n",
    "cai['symbol'] = chosen_tokens['symbol']\n",
    "cai['market_cap'] = chosen_tokens['market_cap']\n",
    "cai['price'] = chosen_tokens['current_price']\n",
    "cai['weight'] = adjusted_weights\n",
    "cai['weight_converted'] = converted_weights\n",
    "cai['address'] = chosen_tokens['addr']\n",
    "\n",
    "cai = cai[cai['weight'] > 0]\n",
    "cai = cai.sort_values(\"market_cap\", ascending=False)\n",
    "cai"
   ]
  },
  {
   "cell_type": "code",
   "execution_count": 107,
   "id": "2cf759e4",
   "metadata": {},
   "outputs": [
    {
     "data": {
      "text/html": [
       "<div>\n",
       "<style scoped>\n",
       "    .dataframe tbody tr th:only-of-type {\n",
       "        vertical-align: middle;\n",
       "    }\n",
       "\n",
       "    .dataframe tbody tr th {\n",
       "        vertical-align: top;\n",
       "    }\n",
       "\n",
       "    .dataframe thead th {\n",
       "        text-align: right;\n",
       "    }\n",
       "</style>\n",
       "<table border=\"1\" class=\"dataframe\">\n",
       "  <thead>\n",
       "    <tr style=\"text-align: right;\">\n",
       "      <th></th>\n",
       "      <th>name</th>\n",
       "      <th>symbol</th>\n",
       "      <th>market_cap</th>\n",
       "      <th>price</th>\n",
       "      <th>weight</th>\n",
       "      <th>weight_converted</th>\n",
       "      <th>address</th>\n",
       "    </tr>\n",
       "    <tr>\n",
       "      <th>id</th>\n",
       "      <th></th>\n",
       "      <th></th>\n",
       "      <th></th>\n",
       "      <th></th>\n",
       "      <th></th>\n",
       "      <th></th>\n",
       "      <th></th>\n",
       "    </tr>\n",
       "  </thead>\n",
       "  <tbody>\n",
       "    <tr>\n",
       "      <th>avalanche-2</th>\n",
       "      <td>Avalanche</td>\n",
       "      <td>AVAX</td>\n",
       "      <td>6.315178e+09</td>\n",
       "      <td>20.030000</td>\n",
       "      <td>0.200000</td>\n",
       "      <td>51</td>\n",
       "      <td>0xb31f66aa3c1e785363f0875a1b74e27b85fd66c7</td>\n",
       "    </tr>\n",
       "    <tr>\n",
       "      <th>benqi-liquid-staked-avax</th>\n",
       "      <td>BENQI Liquid Staked AVAX</td>\n",
       "      <td>SAVAX</td>\n",
       "      <td>1.110209e+08</td>\n",
       "      <td>21.340000</td>\n",
       "      <td>0.300000</td>\n",
       "      <td>76</td>\n",
       "      <td>0x2b2c81e08f1af8835a78bb2a90ae924ace0ea4be</td>\n",
       "    </tr>\n",
       "    <tr>\n",
       "      <th>joe</th>\n",
       "      <td>JOE</td>\n",
       "      <td>JOE</td>\n",
       "      <td>9.028190e+07</td>\n",
       "      <td>0.269670</td>\n",
       "      <td>0.361878</td>\n",
       "      <td>93</td>\n",
       "      <td>0x6e84a6216ea6dacc71ee8e6b0a5b7322eebc0fdd</td>\n",
       "    </tr>\n",
       "    <tr>\n",
       "      <th>benqi</th>\n",
       "      <td>BENQI</td>\n",
       "      <td>QI</td>\n",
       "      <td>3.445885e+07</td>\n",
       "      <td>0.010431</td>\n",
       "      <td>0.138122</td>\n",
       "      <td>35</td>\n",
       "      <td>0x8729438eb15e2c8b576fcc6aecda6a148776c0f5</td>\n",
       "    </tr>\n",
       "  </tbody>\n",
       "</table>\n",
       "</div>"
      ],
      "text/plain": [
       "                                              name symbol    market_cap  \\\n",
       "id                                                                        \n",
       "avalanche-2                              Avalanche   AVAX  6.315178e+09   \n",
       "benqi-liquid-staked-avax  BENQI Liquid Staked AVAX  SAVAX  1.110209e+08   \n",
       "joe                                            JOE    JOE  9.028190e+07   \n",
       "benqi                                        BENQI     QI  3.445885e+07   \n",
       "\n",
       "                              price    weight  weight_converted  \\\n",
       "id                                                                \n",
       "avalanche-2               20.030000  0.200000                51   \n",
       "benqi-liquid-staked-avax  21.340000  0.300000                76   \n",
       "joe                        0.269670  0.361878                93   \n",
       "benqi                      0.010431  0.138122                35   \n",
       "\n",
       "                                                             address  \n",
       "id                                                                    \n",
       "avalanche-2               0xb31f66aa3c1e785363f0875a1b74e27b85fd66c7  \n",
       "benqi-liquid-staked-avax  0x2b2c81e08f1af8835a78bb2a90ae924ace0ea4be  \n",
       "joe                       0x6e84a6216ea6dacc71ee8e6b0a5b7322eebc0fdd  \n",
       "benqi                     0x8729438eb15e2c8b576fcc6aecda6a148776c0f5  "
      ]
     },
     "execution_count": 107,
     "metadata": {},
     "output_type": "execute_result"
    }
   ],
   "source": [
    "#Querying current contract to ascertain which assets will be dropped\n",
    "\n",
    "cai_token_address = '0x48f88A3fE843ccb0b5003e70B4192c1d7448bEf0'\n",
    "ia_contract = web3_object.eth.contract(address=cai_token_address,abi=index_anatomy)\n",
    "addresses, weights = ia_contract.functions.anatomy().call()\n",
    "\n",
    "\n",
    "for address in addresses:\n",
    "    address = address.lower()\n",
    "    if address not in list(cai['address']):\n",
    "        data = tokens_market_data[tokens_market_data['addr']== address]\n",
    "        cai.loc[data.index[0]] = [data['name'][0],data['symbol'][0],data['market_cap'][0],data['current_price'][0],0,0,address]\n",
    "\n",
    "cai"
   ]
  },
  {
   "cell_type": "code",
   "execution_count": 108,
   "id": "52487c36",
   "metadata": {},
   "outputs": [
    {
     "name": "stdout",
     "output_type": "stream",
     "text": [
      "0x2b2c81e08f1af8835a78bb2a90ae924ace0ea4be,0x6e84a6216ea6dacc71ee8e6b0a5b7322eebc0fdd,0x8729438eb15e2c8b576fcc6aecda6a148776c0f5,0xb31f66aa3c1e785363f0875a1b74e27b85fd66c7\n",
      "[76, 93, 35, 51]\n"
     ]
    }
   ],
   "source": [
    "zipped_assets = list(zip(list(cai['address']),list(cai['weight_converted'])))\n",
    "sorted_assets = sorted(zipped_assets,key = lambda x: int(x[0],base=0) )\n",
    "\n",
    "asset_string = ''\n",
    "for i in sorted_assets:\n",
    "    asset_string += f'{i[0]},'\n",
    "asset_string = asset_string[:-1]\n",
    "print(asset_string)\n",
    "print([x[1] for x in sorted_assets])"
   ]
  }
 ],
 "metadata": {
  "kernelspec": {
   "display_name": "Python 3.8.13 ('base')",
   "language": "python",
   "name": "python3"
  },
  "language_info": {
   "codemirror_mode": {
    "name": "ipython",
    "version": 3
   },
   "file_extension": ".py",
   "mimetype": "text/x-python",
   "name": "python",
   "nbconvert_exporter": "python",
   "pygments_lexer": "ipython3",
   "version": "3.8.15"
  },
  "vscode": {
   "interpreter": {
    "hash": "40d3a090f54c6569ab1632332b64b2c03c39dcf918b08424e98f38b5ae0af88f"
   }
  }
 },
 "nbformat": 4,
 "nbformat_minor": 5
}
