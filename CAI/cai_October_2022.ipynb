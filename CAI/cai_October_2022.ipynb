{
 "cells": [
  {
   "cell_type": "markdown",
   "id": "098511ce-c7e3-49dd-a41b-23657ecabf6f",
   "metadata": {},
   "source": [
    "# CAI - Rebalancing data for October 2022 "
   ]
  },
  {
   "cell_type": "markdown",
   "id": "d1f1d7e0-f33f-466f-a327-756617b3aba8",
   "metadata": {
    "tags": []
   },
   "source": [
    "## Setting"
   ]
  },
  {
   "cell_type": "code",
   "execution_count": 1,
   "id": "5cc35cd0-4d79-4135-819d-bce7d6d021c9",
   "metadata": {},
   "outputs": [],
   "source": [
    "import pandas as pd\n",
    "import numpy as np\n",
    "import requests\n",
    "import json\n",
    "import time"
   ]
  },
  {
   "cell_type": "code",
   "execution_count": 2,
   "id": "f7ec58bd-df9f-47f7-b145-450d08e6fcfc",
   "metadata": {},
   "outputs": [],
   "source": [
    "from pycoingecko import CoinGeckoAPI\n",
    "cg = CoinGeckoAPI()"
   ]
  },
  {
   "cell_type": "code",
   "execution_count": 3,
   "id": "26168a37-e401-4e26-b63b-9c708ca0902c",
   "metadata": {},
   "outputs": [
    {
     "name": "stderr",
     "output_type": "stream",
     "text": [
      "/home/evgeniy/.local/lib/python3.10/site-packages/scipy/__init__.py:146: UserWarning: A NumPy version >=1.16.5 and <1.23.0 is required for this version of SciPy (detected version 1.23.2\n",
      "  warnings.warn(f\"A NumPy version >={np_minversion} and <{np_maxversion}\"\n"
     ]
    }
   ],
   "source": [
    "import plotly.express as px\n",
    "import plotly.graph_objects as go"
   ]
  },
  {
   "cell_type": "code",
   "execution_count": 4,
   "id": "9eb0768b-c6fb-4401-9205-31490edb4cf2",
   "metadata": {},
   "outputs": [
    {
     "data": {
      "text/html": [
       "        <script type=\"text/javascript\">\n",
       "        window.PlotlyConfig = {MathJaxConfig: 'local'};\n",
       "        if (window.MathJax && window.MathJax.Hub && window.MathJax.Hub.Config) {window.MathJax.Hub.Config({SVG: {font: \"STIX-Web\"}});}\n",
       "        if (typeof require !== 'undefined') {\n",
       "        require.undef(\"plotly\");\n",
       "        requirejs.config({\n",
       "            paths: {\n",
       "                'plotly': ['https://cdn.plot.ly/plotly-2.12.1.min']\n",
       "            }\n",
       "        });\n",
       "        require(['plotly'], function(Plotly) {\n",
       "            window._Plotly = Plotly;\n",
       "        });\n",
       "        }\n",
       "        </script>\n",
       "        "
      ]
     },
     "metadata": {},
     "output_type": "display_data"
    }
   ],
   "source": [
    "from plotly.offline import plot, iplot, init_notebook_mode\n",
    "init_notebook_mode(connected=True)"
   ]
  },
  {
   "cell_type": "markdown",
   "id": "f54edc25-7b1b-41e3-8b84-bd8159ab60b5",
   "metadata": {
    "tags": []
   },
   "source": [
    "## Data retrieving and filtering"
   ]
  },
  {
   "cell_type": "markdown",
   "id": "06459122-606f-4b8b-9dcd-98490a913211",
   "metadata": {
    "tags": []
   },
   "source": [
    "### Methodology \n",
    "\n",
    "1. **Token inclusion criteria**\n",
    "    1. Any token included in our index must meet all the criteria below:\n",
    "    1. The project’s token should have been listed on CoinGecko with pricing data at least 6 months prior to the date of inclusion in the index.\n",
    "    1. The project should have a token that is native to Avalanche. This excludes wrapped variants, where the underlying tokens are locked on an alt-L1.\n",
    "    1. The project should be a going concern, with a dedicated team actively building, supporting and maintaining the project.\n",
    "    1. No rebasing or deflationary tokens.\n",
    "    1. The project must be widely considered to be building a useful protocol or product. Projects that have ponzi characteristics at the core of their offering will not be considered.\n",
    "    1. Synthetic tokens which derive their value from external price feeds are not permissible.\n",
    "    1. The project’s token must not have the ability to pause token transfers.\n",
    "    1. The project’s protocol or product must have significant usage.\n",
    "    \n",
    "1. **Token Supply requirements**\n",
    "    1. The project's token must have a circulating supply greater than 30% of the max supply. In cases where a token does not have a max supply, the minting mechanics would need to be assessed.\n",
    "    1. The token must not have locking, minting or other patterns that would significantly disadvantage passive holders.\n",
    "1. **Liquidity Requirements**\n",
    "    1. The token must be listed on a supported exchange. \n",
    "    1. The token should have in aggregate at least $2mm of onchain liquidity across Trader Joe and Pangolin.\n",
    "    1. The token must have shown consistent DeFi liquidity on Avalanche.\n",
    "1. **Security Requirements**\n",
    "    1. The project must have been audited by smart contract security professionals with the audit report(s) publicly available. Alternatively, the protocol must have been operating long enough to create a consensus about its safety in the decentralised finance community."
   ]
  },
  {
   "cell_type": "markdown",
   "id": "785b167b-e990-4d6d-a8d5-75a6378e1197",
   "metadata": {},
   "source": [
    "### Tokens list"
   ]
  },
  {
   "cell_type": "code",
   "execution_count": 5,
   "id": "602314b9-24a8-421c-bbb4-c00ef886139d",
   "metadata": {},
   "outputs": [],
   "source": [
    "def normalize_symb(symb):\n",
    "    return ''.join(c for c in symb if c.isalnum()).upper()"
   ]
  },
  {
   "cell_type": "markdown",
   "id": "c80728c3-e3d5-4270-9400-f39c1e9c0e55",
   "metadata": {},
   "source": [
    "#### CoinGecko"
   ]
  },
  {
   "cell_type": "markdown",
   "id": "375c513b-7aa0-4ec9-82aa-475feabf6f84",
   "metadata": {},
   "source": [
    "##### Tokens addresses"
   ]
  },
  {
   "cell_type": "code",
   "execution_count": 6,
   "id": "7788b765-2a08-4661-8b4b-1cb20ac72e44",
   "metadata": {},
   "outputs": [],
   "source": [
    "coins_list = cg.get_coins_list(include_platform=True)\n",
    "coins = {}\n",
    "for coin in coins_list:\n",
    "    if 'avalanche' in coin['platforms']:\n",
    "        coin['addr'] = coin['platforms']['avalanche']\n",
    "        coin['symbol'] = normalize_symb(coin['symbol'])\n",
    "        coins[coin['id']] = coin"
   ]
  },
  {
   "cell_type": "code",
   "execution_count": 7,
   "id": "5168eb44-3149-417c-92f8-a1e4f4ccfba5",
   "metadata": {},
   "outputs": [],
   "source": [
    "# wrapper avax\n",
    "coins['avalanche-2']['addr'] = \"0xb31f66aa3c1e785363f0875a1b74e27b85fd66c7\""
   ]
  },
  {
   "cell_type": "markdown",
   "id": "74a45df3-0ae7-4907-b444-67b1c5a88b73",
   "metadata": {
    "tags": []
   },
   "source": [
    "##### Market data"
   ]
  },
  {
   "cell_type": "code",
   "execution_count": 8,
   "id": "dce08acf-3b3e-4042-a0f2-7de6c8219f1d",
   "metadata": {},
   "outputs": [],
   "source": [
    "cat_id = \"avalanche-ecosystem\"\n",
    "cg_tokens_data = cg.get_coins_markets(vs_currency='USD', order='market_cap_desc', category=cat_id)\n",
    "for i in range(2, 30):\n",
    "    cg_tokens_data.extend(cg.get_coins_markets(vs_currency='USD', order='market_cap_desc', category=cat_id, page=i))\n",
    "    time.sleep(10)\n",
    "    \n",
    "cg_tokens_data = pd.DataFrame.from_records(cg_tokens_data)"
   ]
  },
  {
   "cell_type": "code",
   "execution_count": 9,
   "id": "054f69e9-0dbb-4427-b9ca-1b4287f2f795",
   "metadata": {},
   "outputs": [],
   "source": [
    "tokens_market_data = cg_tokens_data.set_index('id')[\n",
    "    ['name', 'symbol', 'market_cap', 'market_cap_rank', 'current_price', 'total_supply', 'circulating_supply']\n",
    "]\n",
    "tokens_market_data['symbol'] = tokens_market_data['symbol'].apply(normalize_symb)"
   ]
  },
  {
   "cell_type": "code",
   "execution_count": 10,
   "id": "d33dbd5c-4967-41a2-99ee-6dc9a0b4490f",
   "metadata": {},
   "outputs": [],
   "source": [
    "tokens_market_data = tokens_market_data[tokens_market_data['market_cap'] > 0]\n",
    "tokens_market_data = tokens_market_data[~tokens_market_data.index.duplicated(keep='first')]"
   ]
  },
  {
   "cell_type": "code",
   "execution_count": 11,
   "id": "c0257f8a-94ae-401a-99ec-cfc601b7643f",
   "metadata": {},
   "outputs": [],
   "source": [
    "tokens_market_data = tokens_market_data.join(pd.DataFrame.from_dict(coins, orient='index')['addr'])\n",
    "# tokens_market_data = tokens_market_data[~tokens_market_data['addr'].isna()]"
   ]
  },
  {
   "cell_type": "code",
   "execution_count": 12,
   "id": "30a6d624-9247-45a0-95af-5f79dce6703f",
   "metadata": {},
   "outputs": [],
   "source": [
    "tokens_market_data = tokens_market_data.sort_values('market_cap', ascending=False)"
   ]
  },
  {
   "cell_type": "markdown",
   "id": "c0c93d4d-da55-46ad-bdba-0beb4904384b",
   "metadata": {},
   "source": [
    "### Token's supply check "
   ]
  },
  {
   "cell_type": "code",
   "execution_count": 13,
   "id": "2e8f966a-441d-4e40-ba0e-1d140cdd8e74",
   "metadata": {},
   "outputs": [],
   "source": [
    "sp_passed_index = (tokens_market_data['circulating_supply'] / tokens_market_data['total_supply']) > 0.3\n",
    "sp_passed = tokens_market_data[sp_passed_index]"
   ]
  },
  {
   "cell_type": "code",
   "execution_count": 14,
   "id": "fd671ef5-5ad2-47ec-ae3a-cf3a3d6cf28a",
   "metadata": {},
   "outputs": [
    {
     "data": {
      "text/html": [
       "<div>\n",
       "<style scoped>\n",
       "    .dataframe tbody tr th:only-of-type {\n",
       "        vertical-align: middle;\n",
       "    }\n",
       "\n",
       "    .dataframe tbody tr th {\n",
       "        vertical-align: top;\n",
       "    }\n",
       "\n",
       "    .dataframe thead th {\n",
       "        text-align: right;\n",
       "    }\n",
       "</style>\n",
       "<table border=\"1\" class=\"dataframe\">\n",
       "  <thead>\n",
       "    <tr style=\"text-align: right;\">\n",
       "      <th></th>\n",
       "      <th>name</th>\n",
       "      <th>symbol</th>\n",
       "      <th>market_cap</th>\n",
       "      <th>market_cap_rank</th>\n",
       "      <th>current_price</th>\n",
       "      <th>total_supply</th>\n",
       "      <th>circulating_supply</th>\n",
       "      <th>addr</th>\n",
       "    </tr>\n",
       "    <tr>\n",
       "      <th>id</th>\n",
       "      <th></th>\n",
       "      <th></th>\n",
       "      <th></th>\n",
       "      <th></th>\n",
       "      <th></th>\n",
       "      <th></th>\n",
       "      <th></th>\n",
       "      <th></th>\n",
       "    </tr>\n",
       "  </thead>\n",
       "  <tbody>\n",
       "    <tr>\n",
       "      <th>tether</th>\n",
       "      <td>Tether</td>\n",
       "      <td>USDT</td>\n",
       "      <td>6.801631e+10</td>\n",
       "      <td>3.0</td>\n",
       "      <td>1.001000</td>\n",
       "      <td>6.795621e+10</td>\n",
       "      <td>6.795621e+10</td>\n",
       "      <td>0x9702230a8ea53601f5cd2dc00fdbc13d4df4a8c7</td>\n",
       "    </tr>\n",
       "    <tr>\n",
       "      <th>usd-coin</th>\n",
       "      <td>USD Coin</td>\n",
       "      <td>USDC</td>\n",
       "      <td>4.869865e+10</td>\n",
       "      <td>4.0</td>\n",
       "      <td>1.002000</td>\n",
       "      <td>4.867778e+10</td>\n",
       "      <td>4.867891e+10</td>\n",
       "      <td>0xb97ef9ef8734c71904d8002f8b6bc66dd9c48a6e</td>\n",
       "    </tr>\n",
       "    <tr>\n",
       "      <th>binancecoin</th>\n",
       "      <td>BNB</td>\n",
       "      <td>BNB</td>\n",
       "      <td>4.591403e+10</td>\n",
       "      <td>5.0</td>\n",
       "      <td>281.180000</td>\n",
       "      <td>1.632770e+08</td>\n",
       "      <td>1.632770e+08</td>\n",
       "      <td>NaN</td>\n",
       "    </tr>\n",
       "    <tr>\n",
       "      <th>binance-usd</th>\n",
       "      <td>Binance USD</td>\n",
       "      <td>BUSD</td>\n",
       "      <td>2.098321e+10</td>\n",
       "      <td>7.0</td>\n",
       "      <td>1.001000</td>\n",
       "      <td>2.097685e+10</td>\n",
       "      <td>2.097685e+10</td>\n",
       "      <td>0x19860ccb0a68fd4213ab9d8266f7bbf05a8dde98</td>\n",
       "    </tr>\n",
       "    <tr>\n",
       "      <th>dai</th>\n",
       "      <td>Dai</td>\n",
       "      <td>DAI</td>\n",
       "      <td>6.407454e+09</td>\n",
       "      <td>13.0</td>\n",
       "      <td>1.001000</td>\n",
       "      <td>6.406129e+09</td>\n",
       "      <td>6.406129e+09</td>\n",
       "      <td>0xd586e7f844cea2f87f50152665bcbc2c279d8d70</td>\n",
       "    </tr>\n",
       "    <tr>\n",
       "      <th>...</th>\n",
       "      <td>...</td>\n",
       "      <td>...</td>\n",
       "      <td>...</td>\n",
       "      <td>...</td>\n",
       "      <td>...</td>\n",
       "      <td>...</td>\n",
       "      <td>...</td>\n",
       "      <td>...</td>\n",
       "    </tr>\n",
       "    <tr>\n",
       "      <th>ape-in</th>\n",
       "      <td>Ape In</td>\n",
       "      <td>APEIN</td>\n",
       "      <td>1.886182e+04</td>\n",
       "      <td>3608.0</td>\n",
       "      <td>0.502982</td>\n",
       "      <td>3.750000e+04</td>\n",
       "      <td>3.750000e+04</td>\n",
       "      <td>0x938fe3788222a74924e062120e7bfac829c719fb</td>\n",
       "    </tr>\n",
       "    <tr>\n",
       "      <th>eleven-finance</th>\n",
       "      <td>Eleven Finance</td>\n",
       "      <td>ELE</td>\n",
       "      <td>1.806127e+04</td>\n",
       "      <td>3619.0</td>\n",
       "      <td>0.004799</td>\n",
       "      <td>5.848474e+06</td>\n",
       "      <td>3.763683e+06</td>\n",
       "      <td>0xacd7b3d9c10e97d0efa418903c0c7669e702e4c0</td>\n",
       "    </tr>\n",
       "    <tr>\n",
       "      <th>yearn-ecosystem-token-index</th>\n",
       "      <td>Yearn Ecosystem Index</td>\n",
       "      <td>YETI</td>\n",
       "      <td>1.406300e+04</td>\n",
       "      <td>3651.0</td>\n",
       "      <td>0.050144</td>\n",
       "      <td>2.808021e+05</td>\n",
       "      <td>2.808021e+05</td>\n",
       "      <td>NaN</td>\n",
       "    </tr>\n",
       "    <tr>\n",
       "      <th>impermax</th>\n",
       "      <td>Impermax</td>\n",
       "      <td>IMX</td>\n",
       "      <td>1.393358e+04</td>\n",
       "      <td>3655.0</td>\n",
       "      <td>0.000281</td>\n",
       "      <td>1.000000e+08</td>\n",
       "      <td>4.962231e+07</td>\n",
       "      <td>0xea6887e4a9cda1b77e70129e5fba830cdb5cddef</td>\n",
       "    </tr>\n",
       "    <tr>\n",
       "      <th>hermes</th>\n",
       "      <td>HERMES</td>\n",
       "      <td>HERMES</td>\n",
       "      <td>4.771880e+03</td>\n",
       "      <td>3766.0</td>\n",
       "      <td>0.799235</td>\n",
       "      <td>9.883883e+03</td>\n",
       "      <td>5.970560e+03</td>\n",
       "      <td>0xb15f02f9da8cd1f99e9dd375f21dc96d25ddd82c</td>\n",
       "    </tr>\n",
       "  </tbody>\n",
       "</table>\n",
       "<p>126 rows × 8 columns</p>\n",
       "</div>"
      ],
      "text/plain": [
       "                                              name  symbol    market_cap  \\\n",
       "id                                                                         \n",
       "tether                                      Tether    USDT  6.801631e+10   \n",
       "usd-coin                                  USD Coin    USDC  4.869865e+10   \n",
       "binancecoin                                    BNB     BNB  4.591403e+10   \n",
       "binance-usd                            Binance USD    BUSD  2.098321e+10   \n",
       "dai                                            Dai     DAI  6.407454e+09   \n",
       "...                                            ...     ...           ...   \n",
       "ape-in                                      Ape In   APEIN  1.886182e+04   \n",
       "eleven-finance                      Eleven Finance     ELE  1.806127e+04   \n",
       "yearn-ecosystem-token-index  Yearn Ecosystem Index    YETI  1.406300e+04   \n",
       "impermax                                  Impermax     IMX  1.393358e+04   \n",
       "hermes                                      HERMES  HERMES  4.771880e+03   \n",
       "\n",
       "                             market_cap_rank  current_price  total_supply  \\\n",
       "id                                                                          \n",
       "tether                                   3.0       1.001000  6.795621e+10   \n",
       "usd-coin                                 4.0       1.002000  4.867778e+10   \n",
       "binancecoin                              5.0     281.180000  1.632770e+08   \n",
       "binance-usd                              7.0       1.001000  2.097685e+10   \n",
       "dai                                     13.0       1.001000  6.406129e+09   \n",
       "...                                      ...            ...           ...   \n",
       "ape-in                                3608.0       0.502982  3.750000e+04   \n",
       "eleven-finance                        3619.0       0.004799  5.848474e+06   \n",
       "yearn-ecosystem-token-index           3651.0       0.050144  2.808021e+05   \n",
       "impermax                              3655.0       0.000281  1.000000e+08   \n",
       "hermes                                3766.0       0.799235  9.883883e+03   \n",
       "\n",
       "                             circulating_supply  \\\n",
       "id                                                \n",
       "tether                             6.795621e+10   \n",
       "usd-coin                           4.867891e+10   \n",
       "binancecoin                        1.632770e+08   \n",
       "binance-usd                        2.097685e+10   \n",
       "dai                                6.406129e+09   \n",
       "...                                         ...   \n",
       "ape-in                             3.750000e+04   \n",
       "eleven-finance                     3.763683e+06   \n",
       "yearn-ecosystem-token-index        2.808021e+05   \n",
       "impermax                           4.962231e+07   \n",
       "hermes                             5.970560e+03   \n",
       "\n",
       "                                                                   addr  \n",
       "id                                                                       \n",
       "tether                       0x9702230a8ea53601f5cd2dc00fdbc13d4df4a8c7  \n",
       "usd-coin                     0xb97ef9ef8734c71904d8002f8b6bc66dd9c48a6e  \n",
       "binancecoin                                                         NaN  \n",
       "binance-usd                  0x19860ccb0a68fd4213ab9d8266f7bbf05a8dde98  \n",
       "dai                          0xd586e7f844cea2f87f50152665bcbc2c279d8d70  \n",
       "...                                                                 ...  \n",
       "ape-in                       0x938fe3788222a74924e062120e7bfac829c719fb  \n",
       "eleven-finance               0xacd7b3d9c10e97d0efa418903c0c7669e702e4c0  \n",
       "yearn-ecosystem-token-index                                         NaN  \n",
       "impermax                     0xea6887e4a9cda1b77e70129e5fba830cdb5cddef  \n",
       "hermes                       0xb15f02f9da8cd1f99e9dd375f21dc96d25ddd82c  \n",
       "\n",
       "[126 rows x 8 columns]"
      ]
     },
     "execution_count": 14,
     "metadata": {},
     "output_type": "execute_result"
    }
   ],
   "source": [
    "sp_passed"
   ]
  },
  {
   "cell_type": "markdown",
   "id": "038e3d9e-2841-451f-9066-8d6009da1ed9",
   "metadata": {
    "tags": []
   },
   "source": [
    "### Liquidity check"
   ]
  },
  {
   "cell_type": "code",
   "execution_count": 15,
   "id": "04b6e81f-1dd5-4bf5-bb91-f98d7ff064bd",
   "metadata": {},
   "outputs": [],
   "source": [
    "api_urls = {\n",
    "    'trader_joe': \"https://api.thegraph.com/subgraphs/name/traderjoe-xyz/exchange\",\n",
    "    'pangolin': \"https://api.thegraph.com/subgraphs/name/pangolindex/exchange\",\n",
    "} "
   ]
  },
  {
   "cell_type": "code",
   "execution_count": 16,
   "id": "3780e579-c703-48c0-8d5f-9c314d82322d",
   "metadata": {},
   "outputs": [],
   "source": [
    "tokens_ids = list(tokens_market_data['addr'].dropna())"
   ]
  },
  {
   "cell_type": "code",
   "execution_count": 17,
   "id": "c0b7e657-02f0-4dce-827b-5eedbde52209",
   "metadata": {},
   "outputs": [],
   "source": [
    "gecko_ids = pd.Series(tokens_market_data.index, index=tokens_market_data['addr'].str.lower())\n",
    "gecko_ids = gecko_ids.groupby(gecko_ids.index).first()"
   ]
  },
  {
   "cell_type": "code",
   "execution_count": 18,
   "id": "84b97175-a4d8-4ba6-8fc1-a97123d5421a",
   "metadata": {
    "tags": []
   },
   "outputs": [],
   "source": [
    "def trader_joe_liqs(tokens_ids):\n",
    "    query = \"\"\"\n",
    "        query pairs($tokens_ids: [ID!]!) {\n",
    "            pairs (first:1000, \n",
    "                where: {\n",
    "                    token0_in: $tokens_ids, \n",
    "                    token1_in: $tokens_ids,\n",
    "                    reserveUSD_gt: 10000\n",
    "                }){\n",
    "                token0 {\n",
    "                    id\n",
    "                    symbol\n",
    "                }\n",
    "                token1 {\n",
    "                    id\n",
    "                    symbol\n",
    "                }\n",
    "                reserveUSD\n",
    "            }\n",
    "        }\n",
    "    \"\"\"\n",
    "    url = api_urls['trader_joe']\n",
    "    \n",
    "    response = requests.post(url, json={'query': query, 'variables': {'tokens_ids': tokens_ids}})\n",
    "    pairs = response.json()['data']['pairs']\n",
    "    \n",
    "    liqs = {}\n",
    "    for pair in pairs:\n",
    "        liq = float(pair['reserveUSD'])\n",
    "        \n",
    "        id0 = gecko_ids[pair['token0']['id'].lower()]\n",
    "        liqs[id0] = liqs.get(id0, 0) + liq\n",
    "        \n",
    "        id1 = gecko_ids[pair['token1']['id'].lower()]\n",
    "        liqs[id1] = liqs.get(id1, 0) + liq \n",
    "        \n",
    "    return liqs\n",
    "    "
   ]
  },
  {
   "cell_type": "code",
   "execution_count": 19,
   "id": "cbd73129-6af5-4265-bd81-a9cdbc8e8eca",
   "metadata": {
    "tags": []
   },
   "outputs": [],
   "source": [
    "def pangolin_liqs(tokens_ids):\n",
    "    query = \"\"\"\n",
    "        query pairs($tokens_ids: [ID!]!) {\n",
    "            pairs (first:1000, \n",
    "                where: {\n",
    "                    token0_in: $tokens_ids, \n",
    "                    token1_in: $tokens_ids,\n",
    "                    reserveUSD_gt: 10000\n",
    "                }){\n",
    "                token0 {\n",
    "                    id\n",
    "                    symbol\n",
    "                }\n",
    "                token1 {\n",
    "                    id\n",
    "                    symbol\n",
    "                }\n",
    "                reserveUSD\n",
    "            }\n",
    "        }\n",
    "    \"\"\"\n",
    "    url = api_urls['pangolin']\n",
    "    \n",
    "    response = requests.post(url, json={'query': query, 'variables': {'tokens_ids': tokens_ids}})\n",
    "    pairs = response.json()['data']['pairs']\n",
    "    \n",
    "    liqs = {}\n",
    "    for pair in pairs:\n",
    "        liq = float(pair['reserveUSD'])\n",
    "        \n",
    "        id0 = gecko_ids[pair['token0']['id'].lower()]\n",
    "        liqs[id0] = liqs.get(id0, 0) + liq\n",
    "        \n",
    "        id1 = gecko_ids[pair['token1']['id'].lower()]\n",
    "        liqs[id1] = liqs.get(id1, 0) + liq \n",
    "        \n",
    "    return liqs\n",
    "    "
   ]
  },
  {
   "cell_type": "code",
   "execution_count": 20,
   "id": "eb575a2f-ede6-4289-9663-fcde1fc54331",
   "metadata": {},
   "outputs": [],
   "source": [
    "query_functions = {\n",
    "    'trader_joe': trader_joe_liqs,\n",
    "    'pangolin': pangolin_liqs\n",
    "}"
   ]
  },
  {
   "cell_type": "code",
   "execution_count": 21,
   "id": "2d09d2ba-1156-45e3-ba5b-51c6103ae50b",
   "metadata": {},
   "outputs": [],
   "source": [
    "liqs_dict = {}\n",
    "for dex, func in query_functions.items():\n",
    "    liqs_dict[dex] = func(tokens_ids)"
   ]
  },
  {
   "cell_type": "code",
   "execution_count": 22,
   "id": "70b87d6c-96fd-411e-afd8-4dbe0b5fc428",
   "metadata": {},
   "outputs": [],
   "source": [
    "liquidities = pd.DataFrame.from_dict(liqs_dict)"
   ]
  },
  {
   "cell_type": "code",
   "execution_count": 23,
   "id": "78bd2d29-ad36-488e-b2a1-aeb0b9d6b483",
   "metadata": {},
   "outputs": [
    {
     "data": {
      "text/html": [
       "<div>\n",
       "<style scoped>\n",
       "    .dataframe tbody tr th:only-of-type {\n",
       "        vertical-align: middle;\n",
       "    }\n",
       "\n",
       "    .dataframe tbody tr th {\n",
       "        vertical-align: top;\n",
       "    }\n",
       "\n",
       "    .dataframe thead th {\n",
       "        text-align: right;\n",
       "    }\n",
       "</style>\n",
       "<table border=\"1\" class=\"dataframe\">\n",
       "  <thead>\n",
       "    <tr style=\"text-align: right;\">\n",
       "      <th></th>\n",
       "      <th>trader_joe</th>\n",
       "      <th>pangolin</th>\n",
       "      <th>sum</th>\n",
       "    </tr>\n",
       "  </thead>\n",
       "  <tbody>\n",
       "    <tr>\n",
       "      <th>usd-coin</th>\n",
       "      <td>1.485234e+09</td>\n",
       "      <td>5.983508e+06</td>\n",
       "      <td>1.491217e+09</td>\n",
       "    </tr>\n",
       "    <tr>\n",
       "      <th>xana</th>\n",
       "      <td>1.457275e+09</td>\n",
       "      <td>NaN</td>\n",
       "      <td>1.457275e+09</td>\n",
       "    </tr>\n",
       "    <tr>\n",
       "      <th>avalanche-2</th>\n",
       "      <td>5.461416e+07</td>\n",
       "      <td>1.871435e+07</td>\n",
       "      <td>7.332851e+07</td>\n",
       "    </tr>\n",
       "    <tr>\n",
       "      <th>tether</th>\n",
       "      <td>7.270274e+06</td>\n",
       "      <td>2.403785e+06</td>\n",
       "      <td>9.674059e+06</td>\n",
       "    </tr>\n",
       "    <tr>\n",
       "      <th>joe</th>\n",
       "      <td>7.665719e+06</td>\n",
       "      <td>NaN</td>\n",
       "      <td>7.665719e+06</td>\n",
       "    </tr>\n",
       "    <tr>\n",
       "      <th>benqi-liquid-staked-avax</th>\n",
       "      <td>3.887482e+06</td>\n",
       "      <td>3.731572e+05</td>\n",
       "      <td>4.260640e+06</td>\n",
       "    </tr>\n",
       "    <tr>\n",
       "      <th>benqi</th>\n",
       "      <td>3.360127e+04</td>\n",
       "      <td>3.261513e+06</td>\n",
       "      <td>3.295114e+06</td>\n",
       "    </tr>\n",
       "    <tr>\n",
       "      <th>gmx</th>\n",
       "      <td>2.536758e+06</td>\n",
       "      <td>NaN</td>\n",
       "      <td>2.536758e+06</td>\n",
       "    </tr>\n",
       "    <tr>\n",
       "      <th>chainlink</th>\n",
       "      <td>5.684797e+05</td>\n",
       "      <td>1.405955e+06</td>\n",
       "      <td>1.974435e+06</td>\n",
       "    </tr>\n",
       "    <tr>\n",
       "      <th>pangolin</th>\n",
       "      <td>NaN</td>\n",
       "      <td>1.920798e+06</td>\n",
       "      <td>1.920798e+06</td>\n",
       "    </tr>\n",
       "    <tr>\n",
       "      <th>wrapped-bitcoin</th>\n",
       "      <td>7.006063e+05</td>\n",
       "      <td>1.112047e+06</td>\n",
       "      <td>1.812653e+06</td>\n",
       "    </tr>\n",
       "    <tr>\n",
       "      <th>stargate-finance</th>\n",
       "      <td>1.571283e+06</td>\n",
       "      <td>NaN</td>\n",
       "      <td>1.571283e+06</td>\n",
       "    </tr>\n",
       "    <tr>\n",
       "      <th>avalaunch</th>\n",
       "      <td>3.519812e+05</td>\n",
       "      <td>1.113647e+06</td>\n",
       "      <td>1.465628e+06</td>\n",
       "    </tr>\n",
       "    <tr>\n",
       "      <th>magic-internet-money</th>\n",
       "      <td>1.229017e+06</td>\n",
       "      <td>NaN</td>\n",
       "      <td>1.229017e+06</td>\n",
       "    </tr>\n",
       "    <tr>\n",
       "      <th>zookeeper</th>\n",
       "      <td>6.345058e+05</td>\n",
       "      <td>4.943837e+05</td>\n",
       "      <td>1.128890e+06</td>\n",
       "    </tr>\n",
       "    <tr>\n",
       "      <th>dragon-crypto-argenti</th>\n",
       "      <td>1.029504e+06</td>\n",
       "      <td>NaN</td>\n",
       "      <td>1.029504e+06</td>\n",
       "    </tr>\n",
       "    <tr>\n",
       "      <th>vector-finance</th>\n",
       "      <td>9.392953e+05</td>\n",
       "      <td>NaN</td>\n",
       "      <td>9.392953e+05</td>\n",
       "    </tr>\n",
       "    <tr>\n",
       "      <th>platypus-finance</th>\n",
       "      <td>9.018711e+05</td>\n",
       "      <td>NaN</td>\n",
       "      <td>9.018711e+05</td>\n",
       "    </tr>\n",
       "    <tr>\n",
       "      <th>ampleforth</th>\n",
       "      <td>7.297039e+04</td>\n",
       "      <td>4.986571e+05</td>\n",
       "      <td>5.716275e+05</td>\n",
       "    </tr>\n",
       "    <tr>\n",
       "      <th>yield-yak</th>\n",
       "      <td>3.137389e+04</td>\n",
       "      <td>4.913112e+05</td>\n",
       "      <td>5.226851e+05</td>\n",
       "    </tr>\n",
       "  </tbody>\n",
       "</table>\n",
       "</div>"
      ],
      "text/plain": [
       "                            trader_joe      pangolin           sum\n",
       "usd-coin                  1.485234e+09  5.983508e+06  1.491217e+09\n",
       "xana                      1.457275e+09           NaN  1.457275e+09\n",
       "avalanche-2               5.461416e+07  1.871435e+07  7.332851e+07\n",
       "tether                    7.270274e+06  2.403785e+06  9.674059e+06\n",
       "joe                       7.665719e+06           NaN  7.665719e+06\n",
       "benqi-liquid-staked-avax  3.887482e+06  3.731572e+05  4.260640e+06\n",
       "benqi                     3.360127e+04  3.261513e+06  3.295114e+06\n",
       "gmx                       2.536758e+06           NaN  2.536758e+06\n",
       "chainlink                 5.684797e+05  1.405955e+06  1.974435e+06\n",
       "pangolin                           NaN  1.920798e+06  1.920798e+06\n",
       "wrapped-bitcoin           7.006063e+05  1.112047e+06  1.812653e+06\n",
       "stargate-finance          1.571283e+06           NaN  1.571283e+06\n",
       "avalaunch                 3.519812e+05  1.113647e+06  1.465628e+06\n",
       "magic-internet-money      1.229017e+06           NaN  1.229017e+06\n",
       "zookeeper                 6.345058e+05  4.943837e+05  1.128890e+06\n",
       "dragon-crypto-argenti     1.029504e+06           NaN  1.029504e+06\n",
       "vector-finance            9.392953e+05           NaN  9.392953e+05\n",
       "platypus-finance          9.018711e+05           NaN  9.018711e+05\n",
       "ampleforth                7.297039e+04  4.986571e+05  5.716275e+05\n",
       "yield-yak                 3.137389e+04  4.913112e+05  5.226851e+05"
      ]
     },
     "execution_count": 23,
     "metadata": {},
     "output_type": "execute_result"
    }
   ],
   "source": [
    "liquidities['sum'] = liquidities.sum(axis=1)\n",
    "liquidities = liquidities.sort_values('sum', ascending=False)\n",
    "liquidities.head(20)"
   ]
  },
  {
   "cell_type": "code",
   "execution_count": 24,
   "id": "10198d26-4685-41bd-ad97-ff70a31f4e6e",
   "metadata": {},
   "outputs": [],
   "source": [
    "liq_check = (liquidities['sum'] > 2e6).sort_values(ascending=False)\n",
    "liq_check_passed = liq_check[liq_check]"
   ]
  },
  {
   "cell_type": "code",
   "execution_count": 25,
   "id": "2be47a8a-446f-41eb-a899-64bdc18702f4",
   "metadata": {},
   "outputs": [],
   "source": [
    "lq_passed = sp_passed[\n",
    "    sp_passed.index.isin(liq_check_passed.index)\n",
    "]"
   ]
  },
  {
   "cell_type": "code",
   "execution_count": 26,
   "id": "3ff31e8b-8f5a-4212-a870-91acccdad860",
   "metadata": {},
   "outputs": [
    {
     "data": {
      "text/html": [
       "<div>\n",
       "<style scoped>\n",
       "    .dataframe tbody tr th:only-of-type {\n",
       "        vertical-align: middle;\n",
       "    }\n",
       "\n",
       "    .dataframe tbody tr th {\n",
       "        vertical-align: top;\n",
       "    }\n",
       "\n",
       "    .dataframe thead th {\n",
       "        text-align: right;\n",
       "    }\n",
       "</style>\n",
       "<table border=\"1\" class=\"dataframe\">\n",
       "  <thead>\n",
       "    <tr style=\"text-align: right;\">\n",
       "      <th></th>\n",
       "      <th>name</th>\n",
       "      <th>symbol</th>\n",
       "      <th>market_cap</th>\n",
       "      <th>market_cap_rank</th>\n",
       "      <th>current_price</th>\n",
       "      <th>total_supply</th>\n",
       "      <th>circulating_supply</th>\n",
       "      <th>addr</th>\n",
       "    </tr>\n",
       "    <tr>\n",
       "      <th>id</th>\n",
       "      <th></th>\n",
       "      <th></th>\n",
       "      <th></th>\n",
       "      <th></th>\n",
       "      <th></th>\n",
       "      <th></th>\n",
       "      <th></th>\n",
       "      <th></th>\n",
       "    </tr>\n",
       "  </thead>\n",
       "  <tbody>\n",
       "    <tr>\n",
       "      <th>tether</th>\n",
       "      <td>Tether</td>\n",
       "      <td>USDT</td>\n",
       "      <td>6.801631e+10</td>\n",
       "      <td>3.0</td>\n",
       "      <td>1.001000</td>\n",
       "      <td>6.795621e+10</td>\n",
       "      <td>6.795621e+10</td>\n",
       "      <td>0x9702230a8ea53601f5cd2dc00fdbc13d4df4a8c7</td>\n",
       "    </tr>\n",
       "    <tr>\n",
       "      <th>usd-coin</th>\n",
       "      <td>USD Coin</td>\n",
       "      <td>USDC</td>\n",
       "      <td>4.869865e+10</td>\n",
       "      <td>4.0</td>\n",
       "      <td>1.002000</td>\n",
       "      <td>4.867778e+10</td>\n",
       "      <td>4.867891e+10</td>\n",
       "      <td>0xb97ef9ef8734c71904d8002f8b6bc66dd9c48a6e</td>\n",
       "    </tr>\n",
       "    <tr>\n",
       "      <th>avalanche-2</th>\n",
       "      <td>Avalanche</td>\n",
       "      <td>AVAX</td>\n",
       "      <td>5.096692e+09</td>\n",
       "      <td>17.0</td>\n",
       "      <td>17.210000</td>\n",
       "      <td>4.106721e+08</td>\n",
       "      <td>2.959228e+08</td>\n",
       "      <td>0xb31f66aa3c1e785363f0875a1b74e27b85fd66c7</td>\n",
       "    </tr>\n",
       "    <tr>\n",
       "      <th>gmx</th>\n",
       "      <td>GMX</td>\n",
       "      <td>GMX</td>\n",
       "      <td>3.281422e+08</td>\n",
       "      <td>118.0</td>\n",
       "      <td>40.700000</td>\n",
       "      <td>8.073491e+06</td>\n",
       "      <td>8.073491e+06</td>\n",
       "      <td>0x62edc0692bd897d2295872a9ffcac5425011c661</td>\n",
       "    </tr>\n",
       "    <tr>\n",
       "      <th>benqi-liquid-staked-avax</th>\n",
       "      <td>BENQI Liquid Staked AVAX</td>\n",
       "      <td>SAVAX</td>\n",
       "      <td>8.591871e+07</td>\n",
       "      <td>273.0</td>\n",
       "      <td>17.860000</td>\n",
       "      <td>4.800856e+06</td>\n",
       "      <td>4.800855e+06</td>\n",
       "      <td>0x2b2c81e08f1af8835a78bb2a90ae924ace0ea4be</td>\n",
       "    </tr>\n",
       "    <tr>\n",
       "      <th>joe</th>\n",
       "      <td>JOE</td>\n",
       "      <td>JOE</td>\n",
       "      <td>7.301750e+07</td>\n",
       "      <td>315.0</td>\n",
       "      <td>0.219384</td>\n",
       "      <td>4.287104e+08</td>\n",
       "      <td>3.332090e+08</td>\n",
       "      <td>0x6e84a6216ea6dacc71ee8e6b0a5b7322eebc0fdd</td>\n",
       "    </tr>\n",
       "    <tr>\n",
       "      <th>benqi</th>\n",
       "      <td>BENQI</td>\n",
       "      <td>QI</td>\n",
       "      <td>2.730440e+07</td>\n",
       "      <td>576.0</td>\n",
       "      <td>0.009240</td>\n",
       "      <td>7.200000e+09</td>\n",
       "      <td>2.952692e+09</td>\n",
       "      <td>0x8729438eb15e2c8b576fcc6aecda6a148776c0f5</td>\n",
       "    </tr>\n",
       "  </tbody>\n",
       "</table>\n",
       "</div>"
      ],
      "text/plain": [
       "                                              name symbol    market_cap  \\\n",
       "id                                                                        \n",
       "tether                                      Tether   USDT  6.801631e+10   \n",
       "usd-coin                                  USD Coin   USDC  4.869865e+10   \n",
       "avalanche-2                              Avalanche   AVAX  5.096692e+09   \n",
       "gmx                                            GMX    GMX  3.281422e+08   \n",
       "benqi-liquid-staked-avax  BENQI Liquid Staked AVAX  SAVAX  8.591871e+07   \n",
       "joe                                            JOE    JOE  7.301750e+07   \n",
       "benqi                                        BENQI     QI  2.730440e+07   \n",
       "\n",
       "                          market_cap_rank  current_price  total_supply  \\\n",
       "id                                                                       \n",
       "tether                                3.0       1.001000  6.795621e+10   \n",
       "usd-coin                              4.0       1.002000  4.867778e+10   \n",
       "avalanche-2                          17.0      17.210000  4.106721e+08   \n",
       "gmx                                 118.0      40.700000  8.073491e+06   \n",
       "benqi-liquid-staked-avax            273.0      17.860000  4.800856e+06   \n",
       "joe                                 315.0       0.219384  4.287104e+08   \n",
       "benqi                               576.0       0.009240  7.200000e+09   \n",
       "\n",
       "                          circulating_supply  \\\n",
       "id                                             \n",
       "tether                          6.795621e+10   \n",
       "usd-coin                        4.867891e+10   \n",
       "avalanche-2                     2.959228e+08   \n",
       "gmx                             8.073491e+06   \n",
       "benqi-liquid-staked-avax        4.800855e+06   \n",
       "joe                             3.332090e+08   \n",
       "benqi                           2.952692e+09   \n",
       "\n",
       "                                                                addr  \n",
       "id                                                                    \n",
       "tether                    0x9702230a8ea53601f5cd2dc00fdbc13d4df4a8c7  \n",
       "usd-coin                  0xb97ef9ef8734c71904d8002f8b6bc66dd9c48a6e  \n",
       "avalanche-2               0xb31f66aa3c1e785363f0875a1b74e27b85fd66c7  \n",
       "gmx                       0x62edc0692bd897d2295872a9ffcac5425011c661  \n",
       "benqi-liquid-staked-avax  0x2b2c81e08f1af8835a78bb2a90ae924ace0ea4be  \n",
       "joe                       0x6e84a6216ea6dacc71ee8e6b0a5b7322eebc0fdd  \n",
       "benqi                     0x8729438eb15e2c8b576fcc6aecda6a148776c0f5  "
      ]
     },
     "execution_count": 26,
     "metadata": {},
     "output_type": "execute_result"
    }
   ],
   "source": [
    "lq_passed"
   ]
  },
  {
   "cell_type": "markdown",
   "id": "bae26b9a-9b08-4558-b472-18d3cf9f1342",
   "metadata": {},
   "source": [
    "### Non quantative checks"
   ]
  },
  {
   "cell_type": "code",
   "execution_count": 27,
   "id": "d6ae8446-7b24-4b35-9c29-cb06547ccfa2",
   "metadata": {},
   "outputs": [],
   "source": [
    "exclude_list = [\n",
    "    {\n",
    "        'gecko_id': 'tether',\n",
    "        'reason': 'stablecoin'\n",
    "    },\n",
    "    {\n",
    "        'gecko_id': 'usd-coin',\n",
    "        'reason': 'stablecoin'\n",
    "    },\n",
    "    {\n",
    "        'gecko_id': 'spell-token',\n",
    "        'reason': 'Not a native Avalanche asset'\n",
    "    },\n",
    "    {\n",
    "        'gecko_id': 'stacktical',\n",
    "        'reason': 'Not a native Avalanche asset'\n",
    "    },\n",
    "    {\n",
    "        'gecko_id': 'zookeeper',\n",
    "        'reason': 'Not a native Avalanche asset'\n",
    "    },\n",
    "    {\n",
    "        'gecko_id': 'pendle',\n",
    "        'reason': 'Not a native Avalanche asset'\n",
    "    },\n",
    "    {\n",
    "        'gecko_id': 'everrise',\n",
    "        'reason': 'Not a native Avalanche asset'\n",
    "    },\n",
    "    {\n",
    "        'gecko_id': 'gmx',\n",
    "        'reason': 'Not a native Avalanche asset'\n",
    "    },\n",
    "]\n",
    "exclude_ids = [token['gecko_id'] for token in exclude_list]"
   ]
  },
  {
   "cell_type": "code",
   "execution_count": 28,
   "id": "535caacf-7e6f-4134-a958-66497aff880b",
   "metadata": {
    "tags": []
   },
   "outputs": [],
   "source": [
    "nq_passed = lq_passed[\n",
    "    ~lq_passed.index.isin(exclude_ids)\n",
    "]"
   ]
  },
  {
   "cell_type": "code",
   "execution_count": 29,
   "id": "88c55f50-1943-43b9-bc67-c01c485873ac",
   "metadata": {},
   "outputs": [
    {
     "data": {
      "text/html": [
       "<div>\n",
       "<style scoped>\n",
       "    .dataframe tbody tr th:only-of-type {\n",
       "        vertical-align: middle;\n",
       "    }\n",
       "\n",
       "    .dataframe tbody tr th {\n",
       "        vertical-align: top;\n",
       "    }\n",
       "\n",
       "    .dataframe thead th {\n",
       "        text-align: right;\n",
       "    }\n",
       "</style>\n",
       "<table border=\"1\" class=\"dataframe\">\n",
       "  <thead>\n",
       "    <tr style=\"text-align: right;\">\n",
       "      <th></th>\n",
       "      <th>name</th>\n",
       "      <th>symbol</th>\n",
       "      <th>market_cap</th>\n",
       "      <th>market_cap_rank</th>\n",
       "      <th>current_price</th>\n",
       "      <th>total_supply</th>\n",
       "      <th>circulating_supply</th>\n",
       "      <th>addr</th>\n",
       "    </tr>\n",
       "    <tr>\n",
       "      <th>id</th>\n",
       "      <th></th>\n",
       "      <th></th>\n",
       "      <th></th>\n",
       "      <th></th>\n",
       "      <th></th>\n",
       "      <th></th>\n",
       "      <th></th>\n",
       "      <th></th>\n",
       "    </tr>\n",
       "  </thead>\n",
       "  <tbody>\n",
       "    <tr>\n",
       "      <th>avalanche-2</th>\n",
       "      <td>Avalanche</td>\n",
       "      <td>AVAX</td>\n",
       "      <td>5.096692e+09</td>\n",
       "      <td>17.0</td>\n",
       "      <td>17.210000</td>\n",
       "      <td>4.106721e+08</td>\n",
       "      <td>2.959228e+08</td>\n",
       "      <td>0xb31f66aa3c1e785363f0875a1b74e27b85fd66c7</td>\n",
       "    </tr>\n",
       "    <tr>\n",
       "      <th>benqi-liquid-staked-avax</th>\n",
       "      <td>BENQI Liquid Staked AVAX</td>\n",
       "      <td>SAVAX</td>\n",
       "      <td>8.591871e+07</td>\n",
       "      <td>273.0</td>\n",
       "      <td>17.860000</td>\n",
       "      <td>4.800856e+06</td>\n",
       "      <td>4.800855e+06</td>\n",
       "      <td>0x2b2c81e08f1af8835a78bb2a90ae924ace0ea4be</td>\n",
       "    </tr>\n",
       "    <tr>\n",
       "      <th>joe</th>\n",
       "      <td>JOE</td>\n",
       "      <td>JOE</td>\n",
       "      <td>7.301750e+07</td>\n",
       "      <td>315.0</td>\n",
       "      <td>0.219384</td>\n",
       "      <td>4.287104e+08</td>\n",
       "      <td>3.332090e+08</td>\n",
       "      <td>0x6e84a6216ea6dacc71ee8e6b0a5b7322eebc0fdd</td>\n",
       "    </tr>\n",
       "    <tr>\n",
       "      <th>benqi</th>\n",
       "      <td>BENQI</td>\n",
       "      <td>QI</td>\n",
       "      <td>2.730440e+07</td>\n",
       "      <td>576.0</td>\n",
       "      <td>0.009240</td>\n",
       "      <td>7.200000e+09</td>\n",
       "      <td>2.952692e+09</td>\n",
       "      <td>0x8729438eb15e2c8b576fcc6aecda6a148776c0f5</td>\n",
       "    </tr>\n",
       "  </tbody>\n",
       "</table>\n",
       "</div>"
      ],
      "text/plain": [
       "                                              name symbol    market_cap  \\\n",
       "id                                                                        \n",
       "avalanche-2                              Avalanche   AVAX  5.096692e+09   \n",
       "benqi-liquid-staked-avax  BENQI Liquid Staked AVAX  SAVAX  8.591871e+07   \n",
       "joe                                            JOE    JOE  7.301750e+07   \n",
       "benqi                                        BENQI     QI  2.730440e+07   \n",
       "\n",
       "                          market_cap_rank  current_price  total_supply  \\\n",
       "id                                                                       \n",
       "avalanche-2                          17.0      17.210000  4.106721e+08   \n",
       "benqi-liquid-staked-avax            273.0      17.860000  4.800856e+06   \n",
       "joe                                 315.0       0.219384  4.287104e+08   \n",
       "benqi                               576.0       0.009240  7.200000e+09   \n",
       "\n",
       "                          circulating_supply  \\\n",
       "id                                             \n",
       "avalanche-2                     2.959228e+08   \n",
       "benqi-liquid-staked-avax        4.800855e+06   \n",
       "joe                             3.332090e+08   \n",
       "benqi                           2.952692e+09   \n",
       "\n",
       "                                                                addr  \n",
       "id                                                                    \n",
       "avalanche-2               0xb31f66aa3c1e785363f0875a1b74e27b85fd66c7  \n",
       "benqi-liquid-staked-avax  0x2b2c81e08f1af8835a78bb2a90ae924ace0ea4be  \n",
       "joe                       0x6e84a6216ea6dacc71ee8e6b0a5b7322eebc0fdd  \n",
       "benqi                     0x8729438eb15e2c8b576fcc6aecda6a148776c0f5  "
      ]
     },
     "execution_count": 29,
     "metadata": {},
     "output_type": "execute_result"
    }
   ],
   "source": [
    "nq_passed"
   ]
  },
  {
   "cell_type": "markdown",
   "id": "a6bbaa4d-eb21-4d5c-9965-438e549e2fe4",
   "metadata": {},
   "source": [
    "### Retrieve historical data & token age check"
   ]
  },
  {
   "cell_type": "code",
   "execution_count": 30,
   "id": "84f96209-65cd-46ab-9e5a-7199fc890c89",
   "metadata": {},
   "outputs": [],
   "source": [
    "import time"
   ]
  },
  {
   "cell_type": "code",
   "execution_count": 31,
   "id": "95211db9-aaa9-415b-9442-173aa282a6dd",
   "metadata": {},
   "outputs": [],
   "source": [
    "exclude_list = []\n",
    "\n",
    "prices_data = pd.DataFrame()\n",
    "marketcaps = pd.DataFrame() \n",
    "for id_, row in nq_passed.iterrows():\n",
    "    symbol = row['symbol']\n",
    "    data = cg.get_coin_market_chart_by_id(id_, vs_currency='USD', days='max')\n",
    "  \n",
    "    df_prices = pd.DataFrame(data['prices'], columns=['date', id_])\n",
    "    df_prices = df_prices[df_prices[id_] > 0]\n",
    "    df_prices['date'] = pd.to_datetime(df_prices['date'], unit='ms').dt.date\n",
    "    df_prices['date'] = pd.to_datetime(df_prices['date'])\n",
    "    df_prices = df_prices.set_index('date', drop=True)\n",
    "    df_prices = df_prices.loc[~df_prices.index.duplicated(keep='first')]\n",
    "    \n",
    "    if len(df_prices) < 6 * 30:\n",
    "        print(f'Excluding {symbol}, prices data available only for {len(df_prices)} < {6*30} days')\n",
    "        exclude_list.append(id_)\n",
    "        continue\n",
    "    prices_data = pd.concat([prices_data, df_prices], axis=1)\n",
    "    \n",
    "    df_mcaps = pd.DataFrame(data['market_caps'], columns=['date', id_])\n",
    "    df_mcaps = df_mcaps[df_mcaps[id_] > 0]\n",
    "    df_mcaps['date'] = pd.to_datetime(df_mcaps['date'], unit='ms').dt.date\n",
    "    df_mcaps['date'] = pd.to_datetime(df_mcaps['date'])\n",
    "    df_mcaps = df_mcaps.set_index('date', drop=True)\n",
    "    df_mcaps = df_mcaps.loc[~df_mcaps.index.duplicated(keep='first')]\n",
    "    \n",
    "    if len(df_mcaps) < 6 * 30:\n",
    "        print(f'Note: {symbol}, marketcap data available only for {len(df_mcaps)} < {6 * 30} days')\n",
    "        ## continue\n",
    "    df_mcaps = df_mcaps.reindex(df_prices.index)\n",
    "    marketcaps = pd.concat([marketcaps, df_mcaps], axis=1)\n",
    "    \n",
    "    time.sleep(1)"
   ]
  },
  {
   "cell_type": "code",
   "execution_count": 32,
   "id": "2fe902d9-8d8f-4bc7-a699-1478bb19020d",
   "metadata": {},
   "outputs": [],
   "source": [
    "lt_passed = nq_passed[\n",
    "    ~nq_passed.index.isin(exclude_list)\n",
    "]"
   ]
  },
  {
   "cell_type": "markdown",
   "id": "ffb3400f-31d1-4866-9f3b-e815ee0c3d23",
   "metadata": {},
   "source": [
    "### Slippage check"
   ]
  },
  {
   "cell_type": "markdown",
   "id": "44432461-712c-40ed-90aa-a447cdbc2239",
   "metadata": {},
   "source": [
    "To derive a slippage threshold, consider an abstract univ2-like pool with $5m\\$$ overall liquidity. \n",
    "I.e if pool has reserves $R_1$, $R_2$ and $p_1$ and $p_2$ are the correspondent tokens prices (in USD), then\n",
    "$$R_1p_1 = R_2p_2 = 2.5m \\$$$\n",
    "\n",
    "Swapping $x$ token1 for token2 will result in the output amount $y$ such that\n",
    "$$R_1\\cdot R_2 = (R_1 + x) \\cdot (R_2 - y)$$\n",
    "$$y = \\frac{R_2\\cdot x}{R_1 + x}$$\n",
    "Then the delivery price will be\n",
    "$$p_d = \\frac{y}{x} = \\frac{R_2}{R_1 + x}$$\n",
    "The spot price may be estimated as a delivery price for relatively small input amount $x_0$\n",
    "$$p_s = \\frac{y_0}{x_0} = \\frac{R_2}{R_1 + x_0}$$\n",
    "\n",
    "Then the theoretical slippage for this pool will be\n",
    "$$slippage = \\frac{p_d}{p_s} - 1 = \\frac{R_1+x_0}{R_1+x} - 1 = \\frac{p_1R_1+p_1x_0}{p_1R_1+p_1x}-1$$"
   ]
  },
  {
   "cell_type": "code",
   "execution_count": 33,
   "id": "3bea8b74-3c19-4f6b-833b-c82890309690",
   "metadata": {},
   "outputs": [],
   "source": [
    "liq = 2*10**6\n",
    "liq_os = liq / 2 # one-side liquidity \n",
    "trade_value_tiny = 1e3\n",
    "trade_value = 1e5"
   ]
  },
  {
   "cell_type": "code",
   "execution_count": 34,
   "id": "7c70f2f5-26ae-436a-a4fb-80eaac2562df",
   "metadata": {},
   "outputs": [
    {
     "data": {
      "text/plain": [
       "-0.09"
      ]
     },
     "execution_count": 34,
     "metadata": {},
     "output_type": "execute_result"
    }
   ],
   "source": [
    "max_slippage = (liq_os + trade_value_tiny) / (liq_os + trade_value) - 1\n",
    "# round to the nearest .5\n",
    "max_slippage = round(2 * max_slippage, 2) / 2 \n",
    "max_slippage"
   ]
  },
  {
   "cell_type": "code",
   "execution_count": 35,
   "id": "9297450e-bdc5-424b-8ec2-08fb7ec5a9df",
   "metadata": {},
   "outputs": [],
   "source": [
    "url_0x = \"https://avalanche.api.0x.org/swap/v1/price\""
   ]
  },
  {
   "cell_type": "code",
   "execution_count": 36,
   "id": "6bf10ba7-84b7-4ad5-b29c-6c74e5cc8aa9",
   "metadata": {},
   "outputs": [],
   "source": [
    "decimals = 18\n",
    "slippages = []\n",
    "for id_, data in lt_passed.iterrows():\n",
    "    query = {\n",
    "        'buyToken': 'WETH',\n",
    "        'sellToken': coins[id_]['addr'],\n",
    "        'sellAmount': int(trade_value_tiny / data['current_price'] * 10 ** decimals),\n",
    "    }\n",
    "    \n",
    "    # spot price is calculated as a price for 1000$ swap\n",
    "    resp = requests.get(url_0x, params=query)\n",
    "    swap = resp.json()\n",
    "    spot_price = float(swap['price'])\n",
    "    \n",
    "    query['sellAmount'] = int(trade_value / data['current_price'] * 10 ** decimals)\n",
    "    resp = requests.get(url_0x, params=query)\n",
    "    swap = resp.json()\n",
    "    del_price = float(swap['price'])\n",
    "    \n",
    "    slippage = del_price / spot_price - 1\n",
    "    \n",
    "    slippages.append({\n",
    "        'symb': id_,\n",
    "        'spot_price': spot_price,\n",
    "        'delivery_price': del_price,\n",
    "        'slippage': slippage\n",
    "    })\n",
    "    \n",
    "    # time.sleep(1)"
   ]
  },
  {
   "cell_type": "code",
   "execution_count": 37,
   "id": "163461d3-e40a-46e2-a1b5-81d670b27e01",
   "metadata": {},
   "outputs": [
    {
     "data": {
      "text/html": [
       "<div>\n",
       "<style scoped>\n",
       "    .dataframe tbody tr th:only-of-type {\n",
       "        vertical-align: middle;\n",
       "    }\n",
       "\n",
       "    .dataframe tbody tr th {\n",
       "        vertical-align: top;\n",
       "    }\n",
       "\n",
       "    .dataframe thead th {\n",
       "        text-align: right;\n",
       "    }\n",
       "</style>\n",
       "<table border=\"1\" class=\"dataframe\">\n",
       "  <thead>\n",
       "    <tr style=\"text-align: right;\">\n",
       "      <th></th>\n",
       "      <th>symb</th>\n",
       "      <th>spot_price</th>\n",
       "      <th>delivery_price</th>\n",
       "      <th>slippage</th>\n",
       "    </tr>\n",
       "  </thead>\n",
       "  <tbody>\n",
       "    <tr>\n",
       "      <th>0</th>\n",
       "      <td>avalanche-2</td>\n",
       "      <td>0.012875</td>\n",
       "      <td>0.012819</td>\n",
       "      <td>-0.004372</td>\n",
       "    </tr>\n",
       "    <tr>\n",
       "      <th>1</th>\n",
       "      <td>benqi-liquid-staked-avax</td>\n",
       "      <td>0.013346</td>\n",
       "      <td>0.013293</td>\n",
       "      <td>-0.003986</td>\n",
       "    </tr>\n",
       "    <tr>\n",
       "      <th>2</th>\n",
       "      <td>joe</td>\n",
       "      <td>0.000163</td>\n",
       "      <td>0.000157</td>\n",
       "      <td>-0.035934</td>\n",
       "    </tr>\n",
       "    <tr>\n",
       "      <th>3</th>\n",
       "      <td>benqi</td>\n",
       "      <td>0.000007</td>\n",
       "      <td>0.000006</td>\n",
       "      <td>-0.060872</td>\n",
       "    </tr>\n",
       "  </tbody>\n",
       "</table>\n",
       "</div>"
      ],
      "text/plain": [
       "                       symb  spot_price  delivery_price  slippage\n",
       "0               avalanche-2    0.012875        0.012819 -0.004372\n",
       "1  benqi-liquid-staked-avax    0.013346        0.013293 -0.003986\n",
       "2                       joe    0.000163        0.000157 -0.035934\n",
       "3                     benqi    0.000007        0.000006 -0.060872"
      ]
     },
     "execution_count": 37,
     "metadata": {},
     "output_type": "execute_result"
    }
   ],
   "source": [
    "slippages_df = pd.DataFrame(slippages)\n",
    "slippages_df"
   ]
  },
  {
   "cell_type": "code",
   "execution_count": 38,
   "id": "b597ff4d-9598-4d29-9e10-98b58a1aa2f3",
   "metadata": {},
   "outputs": [
    {
     "data": {
      "text/plain": [
       "[]"
      ]
     },
     "execution_count": 38,
     "metadata": {},
     "output_type": "execute_result"
    }
   ],
   "source": [
    "exclude_list = list(slippages_df[abs(slippages_df['slippage']) > abs(max_slippage)]['symb'])\n",
    "exclude_list"
   ]
  },
  {
   "cell_type": "code",
   "execution_count": 39,
   "id": "abac8017-d67c-4905-bf26-6bc2097d3a8a",
   "metadata": {},
   "outputs": [],
   "source": [
    "st_passed = lt_passed[\n",
    "    ~lt_passed.index.isin(exclude_list)\n",
    "]"
   ]
  },
  {
   "cell_type": "markdown",
   "id": "f37255c2-3901-4432-ae9a-2fe4be0da6b0",
   "metadata": {
    "tags": []
   },
   "source": [
    "### Marketcap ranking & top10 filtering"
   ]
  },
  {
   "cell_type": "code",
   "execution_count": 40,
   "id": "63307972-a354-407e-8981-bc16e700b3d7",
   "metadata": {},
   "outputs": [],
   "source": [
    "chosen_tokens = st_passed.sort_values(\"market_cap\", ascending=False).iloc[:10]"
   ]
  },
  {
   "cell_type": "code",
   "execution_count": 41,
   "id": "aca475f3-e11b-406d-9811-a715481c0ba7",
   "metadata": {},
   "outputs": [
    {
     "data": {
      "text/html": [
       "<div>\n",
       "<style scoped>\n",
       "    .dataframe tbody tr th:only-of-type {\n",
       "        vertical-align: middle;\n",
       "    }\n",
       "\n",
       "    .dataframe tbody tr th {\n",
       "        vertical-align: top;\n",
       "    }\n",
       "\n",
       "    .dataframe thead th {\n",
       "        text-align: right;\n",
       "    }\n",
       "</style>\n",
       "<table border=\"1\" class=\"dataframe\">\n",
       "  <thead>\n",
       "    <tr style=\"text-align: right;\">\n",
       "      <th></th>\n",
       "      <th>name</th>\n",
       "      <th>symbol</th>\n",
       "      <th>market_cap</th>\n",
       "      <th>market_cap_rank</th>\n",
       "      <th>current_price</th>\n",
       "      <th>total_supply</th>\n",
       "      <th>circulating_supply</th>\n",
       "      <th>addr</th>\n",
       "    </tr>\n",
       "    <tr>\n",
       "      <th>id</th>\n",
       "      <th></th>\n",
       "      <th></th>\n",
       "      <th></th>\n",
       "      <th></th>\n",
       "      <th></th>\n",
       "      <th></th>\n",
       "      <th></th>\n",
       "      <th></th>\n",
       "    </tr>\n",
       "  </thead>\n",
       "  <tbody>\n",
       "    <tr>\n",
       "      <th>avalanche-2</th>\n",
       "      <td>Avalanche</td>\n",
       "      <td>AVAX</td>\n",
       "      <td>5.096692e+09</td>\n",
       "      <td>17.0</td>\n",
       "      <td>17.210000</td>\n",
       "      <td>4.106721e+08</td>\n",
       "      <td>2.959228e+08</td>\n",
       "      <td>0xb31f66aa3c1e785363f0875a1b74e27b85fd66c7</td>\n",
       "    </tr>\n",
       "    <tr>\n",
       "      <th>benqi-liquid-staked-avax</th>\n",
       "      <td>BENQI Liquid Staked AVAX</td>\n",
       "      <td>SAVAX</td>\n",
       "      <td>8.591871e+07</td>\n",
       "      <td>273.0</td>\n",
       "      <td>17.860000</td>\n",
       "      <td>4.800856e+06</td>\n",
       "      <td>4.800855e+06</td>\n",
       "      <td>0x2b2c81e08f1af8835a78bb2a90ae924ace0ea4be</td>\n",
       "    </tr>\n",
       "    <tr>\n",
       "      <th>joe</th>\n",
       "      <td>JOE</td>\n",
       "      <td>JOE</td>\n",
       "      <td>7.301750e+07</td>\n",
       "      <td>315.0</td>\n",
       "      <td>0.219384</td>\n",
       "      <td>4.287104e+08</td>\n",
       "      <td>3.332090e+08</td>\n",
       "      <td>0x6e84a6216ea6dacc71ee8e6b0a5b7322eebc0fdd</td>\n",
       "    </tr>\n",
       "    <tr>\n",
       "      <th>benqi</th>\n",
       "      <td>BENQI</td>\n",
       "      <td>QI</td>\n",
       "      <td>2.730440e+07</td>\n",
       "      <td>576.0</td>\n",
       "      <td>0.009240</td>\n",
       "      <td>7.200000e+09</td>\n",
       "      <td>2.952692e+09</td>\n",
       "      <td>0x8729438eb15e2c8b576fcc6aecda6a148776c0f5</td>\n",
       "    </tr>\n",
       "  </tbody>\n",
       "</table>\n",
       "</div>"
      ],
      "text/plain": [
       "                                              name symbol    market_cap  \\\n",
       "id                                                                        \n",
       "avalanche-2                              Avalanche   AVAX  5.096692e+09   \n",
       "benqi-liquid-staked-avax  BENQI Liquid Staked AVAX  SAVAX  8.591871e+07   \n",
       "joe                                            JOE    JOE  7.301750e+07   \n",
       "benqi                                        BENQI     QI  2.730440e+07   \n",
       "\n",
       "                          market_cap_rank  current_price  total_supply  \\\n",
       "id                                                                       \n",
       "avalanche-2                          17.0      17.210000  4.106721e+08   \n",
       "benqi-liquid-staked-avax            273.0      17.860000  4.800856e+06   \n",
       "joe                                 315.0       0.219384  4.287104e+08   \n",
       "benqi                               576.0       0.009240  7.200000e+09   \n",
       "\n",
       "                          circulating_supply  \\\n",
       "id                                             \n",
       "avalanche-2                     2.959228e+08   \n",
       "benqi-liquid-staked-avax        4.800855e+06   \n",
       "joe                             3.332090e+08   \n",
       "benqi                           2.952692e+09   \n",
       "\n",
       "                                                                addr  \n",
       "id                                                                    \n",
       "avalanche-2               0xb31f66aa3c1e785363f0875a1b74e27b85fd66c7  \n",
       "benqi-liquid-staked-avax  0x2b2c81e08f1af8835a78bb2a90ae924ace0ea4be  \n",
       "joe                       0x6e84a6216ea6dacc71ee8e6b0a5b7322eebc0fdd  \n",
       "benqi                     0x8729438eb15e2c8b576fcc6aecda6a148776c0f5  "
      ]
     },
     "execution_count": 41,
     "metadata": {},
     "output_type": "execute_result"
    }
   ],
   "source": [
    "chosen_tokens"
   ]
  },
  {
   "cell_type": "code",
   "execution_count": 42,
   "id": "f4788d3d-905b-483a-8dc2-e33cd408c10d",
   "metadata": {},
   "outputs": [],
   "source": [
    "chosen_tokens_symbols = list(chosen_tokens.index)\n",
    "prices_data = prices_data[chosen_tokens_symbols]\n",
    "marketcaps = marketcaps[chosen_tokens_symbols]"
   ]
  },
  {
   "cell_type": "code",
   "execution_count": 43,
   "id": "31b2e519-83b4-45c4-a453-ec2551475da3",
   "metadata": {},
   "outputs": [],
   "source": [
    "without_nan_index = (marketcaps.isnull().sum(axis=1) == 0) & (prices_data.isnull().sum(axis=1) == 0)\n",
    "marketcaps = marketcaps[without_nan_index]\n",
    "prices_data = prices_data[without_nan_index]"
   ]
  },
  {
   "cell_type": "markdown",
   "id": "aace23a3-65b0-4d5c-8e8a-ef6e5bf5fa75",
   "metadata": {},
   "source": [
    "## Weighting "
   ]
  },
  {
   "cell_type": "markdown",
   "id": "6f09b1a8-c752-4cd6-bbfa-0a79ec7e15a0",
   "metadata": {},
   "source": [
    "**Weighting requirements**\n",
    "* The maximum weight any one token can have is 50%.\n",
    "* All excess weight is proportionally redistributed to all uncapped tokens. \n",
    "* Any asset with a weight below 0.5% will be removed from the index.\n"
   ]
  },
  {
   "cell_type": "markdown",
   "id": "1b09f606-595a-4497-849f-77aaa65684a2",
   "metadata": {
    "tags": []
   },
   "source": [
    "### Weight mcaps"
   ]
  },
  {
   "cell_type": "code",
   "execution_count": 44,
   "id": "30397f34-29d6-401e-b8c1-233b5679c4ca",
   "metadata": {
    "tags": []
   },
   "outputs": [],
   "source": [
    "# exclude savax from weighting since it should be a part of avax weight\n",
    "mcaps = marketcaps[marketcaps.columns.drop(\"benqi-liquid-staked-avax\")]\n",
    "weights = mcaps.div(mcaps.sum(axis=1), axis=0)\n",
    "weights = weights.sort_values(weights.last_valid_index(), axis=1, ascending=False)"
   ]
  },
  {
   "cell_type": "code",
   "execution_count": 45,
   "id": "16ccf8aa-6a8b-40da-8837-11aed91b359e",
   "metadata": {},
   "outputs": [
    {
     "data": {
      "text/html": [
       "<div>\n",
       "<style scoped>\n",
       "    .dataframe tbody tr th:only-of-type {\n",
       "        vertical-align: middle;\n",
       "    }\n",
       "\n",
       "    .dataframe tbody tr th {\n",
       "        vertical-align: top;\n",
       "    }\n",
       "\n",
       "    .dataframe thead th {\n",
       "        text-align: right;\n",
       "    }\n",
       "</style>\n",
       "<table border=\"1\" class=\"dataframe\">\n",
       "  <thead>\n",
       "    <tr style=\"text-align: right;\">\n",
       "      <th></th>\n",
       "      <th>avalanche-2</th>\n",
       "      <th>joe</th>\n",
       "      <th>benqi</th>\n",
       "    </tr>\n",
       "    <tr>\n",
       "      <th>date</th>\n",
       "      <th></th>\n",
       "      <th></th>\n",
       "      <th></th>\n",
       "    </tr>\n",
       "  </thead>\n",
       "  <tbody>\n",
       "    <tr>\n",
       "      <th>2022-03-04</th>\n",
       "      <td>0.985637</td>\n",
       "      <td>0.009707</td>\n",
       "      <td>0.004656</td>\n",
       "    </tr>\n",
       "    <tr>\n",
       "      <th>2022-03-05</th>\n",
       "      <td>0.986567</td>\n",
       "      <td>0.009406</td>\n",
       "      <td>0.004027</td>\n",
       "    </tr>\n",
       "    <tr>\n",
       "      <th>2022-03-06</th>\n",
       "      <td>0.986591</td>\n",
       "      <td>0.009341</td>\n",
       "      <td>0.004068</td>\n",
       "    </tr>\n",
       "    <tr>\n",
       "      <th>2022-03-07</th>\n",
       "      <td>0.986287</td>\n",
       "      <td>0.009534</td>\n",
       "      <td>0.004179</td>\n",
       "    </tr>\n",
       "    <tr>\n",
       "      <th>2022-03-08</th>\n",
       "      <td>0.986677</td>\n",
       "      <td>0.009240</td>\n",
       "      <td>0.004083</td>\n",
       "    </tr>\n",
       "    <tr>\n",
       "      <th>...</th>\n",
       "      <td>...</td>\n",
       "      <td>...</td>\n",
       "      <td>...</td>\n",
       "    </tr>\n",
       "    <tr>\n",
       "      <th>2022-09-25</th>\n",
       "      <td>0.980907</td>\n",
       "      <td>0.013606</td>\n",
       "      <td>0.005487</td>\n",
       "    </tr>\n",
       "    <tr>\n",
       "      <th>2022-09-26</th>\n",
       "      <td>0.980475</td>\n",
       "      <td>0.014020</td>\n",
       "      <td>0.005505</td>\n",
       "    </tr>\n",
       "    <tr>\n",
       "      <th>2022-09-27</th>\n",
       "      <td>0.980237</td>\n",
       "      <td>0.014285</td>\n",
       "      <td>0.005478</td>\n",
       "    </tr>\n",
       "    <tr>\n",
       "      <th>2022-09-28</th>\n",
       "      <td>0.980558</td>\n",
       "      <td>0.014094</td>\n",
       "      <td>0.005348</td>\n",
       "    </tr>\n",
       "    <tr>\n",
       "      <th>2022-09-29</th>\n",
       "      <td>0.980637</td>\n",
       "      <td>0.014108</td>\n",
       "      <td>0.005255</td>\n",
       "    </tr>\n",
       "  </tbody>\n",
       "</table>\n",
       "<p>210 rows × 3 columns</p>\n",
       "</div>"
      ],
      "text/plain": [
       "            avalanche-2       joe     benqi\n",
       "date                                       \n",
       "2022-03-04     0.985637  0.009707  0.004656\n",
       "2022-03-05     0.986567  0.009406  0.004027\n",
       "2022-03-06     0.986591  0.009341  0.004068\n",
       "2022-03-07     0.986287  0.009534  0.004179\n",
       "2022-03-08     0.986677  0.009240  0.004083\n",
       "...                 ...       ...       ...\n",
       "2022-09-25     0.980907  0.013606  0.005487\n",
       "2022-09-26     0.980475  0.014020  0.005505\n",
       "2022-09-27     0.980237  0.014285  0.005478\n",
       "2022-09-28     0.980558  0.014094  0.005348\n",
       "2022-09-29     0.980637  0.014108  0.005255\n",
       "\n",
       "[210 rows x 3 columns]"
      ]
     },
     "execution_count": 45,
     "metadata": {},
     "output_type": "execute_result"
    }
   ],
   "source": [
    "weights"
   ]
  },
  {
   "cell_type": "code",
   "execution_count": 46,
   "id": "c4f9b12c",
   "metadata": {},
   "outputs": [
    {
     "name": "stderr",
     "output_type": "stream",
     "text": [
      "/home/evgeniy/.local/lib/python3.10/site-packages/plotly/io/_renderers.py:395: DeprecationWarning:\n",
      "\n",
      "distutils Version classes are deprecated. Use packaging.version instead.\n",
      "\n"
     ]
    },
    {
     "data": {
      "application/vnd.plotly.v1+json": {
       "config": {
        "plotlyServerURL": "https://plot.ly"
       },
       "data": [
        {
         "hovertemplate": "%{y}",
         "legendgroup": "avalanche-2",
         "line": {
          "color": "#636efa",
          "dash": "solid"
         },
         "marker": {
          "symbol": "circle"
         },
         "mode": "lines",
         "name": "avalanche-2",
         "orientation": "v",
         "showlegend": true,
         "type": "scatter",
         "x": [
          "2022-03-04T00:00:00",
          "2022-03-05T00:00:00",
          "2022-03-06T00:00:00",
          "2022-03-07T00:00:00",
          "2022-03-08T00:00:00",
          "2022-03-09T00:00:00",
          "2022-03-10T00:00:00",
          "2022-03-11T00:00:00",
          "2022-03-12T00:00:00",
          "2022-03-13T00:00:00",
          "2022-03-14T00:00:00",
          "2022-03-15T00:00:00",
          "2022-03-16T00:00:00",
          "2022-03-17T00:00:00",
          "2022-03-18T00:00:00",
          "2022-03-19T00:00:00",
          "2022-03-20T00:00:00",
          "2022-03-21T00:00:00",
          "2022-03-22T00:00:00",
          "2022-03-23T00:00:00",
          "2022-03-24T00:00:00",
          "2022-03-25T00:00:00",
          "2022-03-26T00:00:00",
          "2022-03-27T00:00:00",
          "2022-03-28T00:00:00",
          "2022-03-29T00:00:00",
          "2022-03-30T00:00:00",
          "2022-03-31T00:00:00",
          "2022-04-01T00:00:00",
          "2022-04-02T00:00:00",
          "2022-04-03T00:00:00",
          "2022-04-04T00:00:00",
          "2022-04-05T00:00:00",
          "2022-04-06T00:00:00",
          "2022-04-07T00:00:00",
          "2022-04-08T00:00:00",
          "2022-04-09T00:00:00",
          "2022-04-10T00:00:00",
          "2022-04-11T00:00:00",
          "2022-04-12T00:00:00",
          "2022-04-13T00:00:00",
          "2022-04-14T00:00:00",
          "2022-04-15T00:00:00",
          "2022-04-16T00:00:00",
          "2022-04-17T00:00:00",
          "2022-04-18T00:00:00",
          "2022-04-19T00:00:00",
          "2022-04-20T00:00:00",
          "2022-04-21T00:00:00",
          "2022-04-22T00:00:00",
          "2022-04-23T00:00:00",
          "2022-04-24T00:00:00",
          "2022-04-25T00:00:00",
          "2022-04-26T00:00:00",
          "2022-04-27T00:00:00",
          "2022-04-28T00:00:00",
          "2022-04-29T00:00:00",
          "2022-04-30T00:00:00",
          "2022-05-01T00:00:00",
          "2022-05-02T00:00:00",
          "2022-05-03T00:00:00",
          "2022-05-04T00:00:00",
          "2022-05-05T00:00:00",
          "2022-05-06T00:00:00",
          "2022-05-07T00:00:00",
          "2022-05-08T00:00:00",
          "2022-05-09T00:00:00",
          "2022-05-10T00:00:00",
          "2022-05-11T00:00:00",
          "2022-05-12T00:00:00",
          "2022-05-13T00:00:00",
          "2022-05-14T00:00:00",
          "2022-05-15T00:00:00",
          "2022-05-16T00:00:00",
          "2022-05-17T00:00:00",
          "2022-05-18T00:00:00",
          "2022-05-19T00:00:00",
          "2022-05-20T00:00:00",
          "2022-05-21T00:00:00",
          "2022-05-22T00:00:00",
          "2022-05-23T00:00:00",
          "2022-05-24T00:00:00",
          "2022-05-25T00:00:00",
          "2022-05-26T00:00:00",
          "2022-05-27T00:00:00",
          "2022-05-28T00:00:00",
          "2022-05-29T00:00:00",
          "2022-05-30T00:00:00",
          "2022-05-31T00:00:00",
          "2022-06-01T00:00:00",
          "2022-06-02T00:00:00",
          "2022-06-03T00:00:00",
          "2022-06-04T00:00:00",
          "2022-06-05T00:00:00",
          "2022-06-06T00:00:00",
          "2022-06-07T00:00:00",
          "2022-06-08T00:00:00",
          "2022-06-09T00:00:00",
          "2022-06-10T00:00:00",
          "2022-06-11T00:00:00",
          "2022-06-12T00:00:00",
          "2022-06-13T00:00:00",
          "2022-06-14T00:00:00",
          "2022-06-15T00:00:00",
          "2022-06-16T00:00:00",
          "2022-06-17T00:00:00",
          "2022-06-18T00:00:00",
          "2022-06-19T00:00:00",
          "2022-06-20T00:00:00",
          "2022-06-21T00:00:00",
          "2022-06-22T00:00:00",
          "2022-06-23T00:00:00",
          "2022-06-24T00:00:00",
          "2022-06-25T00:00:00",
          "2022-06-26T00:00:00",
          "2022-06-27T00:00:00",
          "2022-06-28T00:00:00",
          "2022-06-29T00:00:00",
          "2022-06-30T00:00:00",
          "2022-07-01T00:00:00",
          "2022-07-02T00:00:00",
          "2022-07-03T00:00:00",
          "2022-07-04T00:00:00",
          "2022-07-05T00:00:00",
          "2022-07-06T00:00:00",
          "2022-07-07T00:00:00",
          "2022-07-08T00:00:00",
          "2022-07-09T00:00:00",
          "2022-07-10T00:00:00",
          "2022-07-11T00:00:00",
          "2022-07-12T00:00:00",
          "2022-07-13T00:00:00",
          "2022-07-14T00:00:00",
          "2022-07-15T00:00:00",
          "2022-07-16T00:00:00",
          "2022-07-17T00:00:00",
          "2022-07-18T00:00:00",
          "2022-07-19T00:00:00",
          "2022-07-20T00:00:00",
          "2022-07-21T00:00:00",
          "2022-07-22T00:00:00",
          "2022-07-23T00:00:00",
          "2022-07-24T00:00:00",
          "2022-07-25T00:00:00",
          "2022-07-26T00:00:00",
          "2022-07-27T00:00:00",
          "2022-07-28T00:00:00",
          "2022-07-29T00:00:00",
          "2022-07-30T00:00:00",
          "2022-07-31T00:00:00",
          "2022-08-01T00:00:00",
          "2022-08-02T00:00:00",
          "2022-08-03T00:00:00",
          "2022-08-04T00:00:00",
          "2022-08-05T00:00:00",
          "2022-08-06T00:00:00",
          "2022-08-07T00:00:00",
          "2022-08-08T00:00:00",
          "2022-08-09T00:00:00",
          "2022-08-10T00:00:00",
          "2022-08-11T00:00:00",
          "2022-08-12T00:00:00",
          "2022-08-13T00:00:00",
          "2022-08-14T00:00:00",
          "2022-08-15T00:00:00",
          "2022-08-16T00:00:00",
          "2022-08-17T00:00:00",
          "2022-08-18T00:00:00",
          "2022-08-19T00:00:00",
          "2022-08-20T00:00:00",
          "2022-08-21T00:00:00",
          "2022-08-22T00:00:00",
          "2022-08-23T00:00:00",
          "2022-08-24T00:00:00",
          "2022-08-25T00:00:00",
          "2022-08-26T00:00:00",
          "2022-08-27T00:00:00",
          "2022-08-28T00:00:00",
          "2022-08-29T00:00:00",
          "2022-08-30T00:00:00",
          "2022-08-31T00:00:00",
          "2022-09-01T00:00:00",
          "2022-09-02T00:00:00",
          "2022-09-03T00:00:00",
          "2022-09-04T00:00:00",
          "2022-09-05T00:00:00",
          "2022-09-06T00:00:00",
          "2022-09-07T00:00:00",
          "2022-09-08T00:00:00",
          "2022-09-09T00:00:00",
          "2022-09-10T00:00:00",
          "2022-09-11T00:00:00",
          "2022-09-12T00:00:00",
          "2022-09-13T00:00:00",
          "2022-09-14T00:00:00",
          "2022-09-15T00:00:00",
          "2022-09-16T00:00:00",
          "2022-09-17T00:00:00",
          "2022-09-18T00:00:00",
          "2022-09-19T00:00:00",
          "2022-09-20T00:00:00",
          "2022-09-21T00:00:00",
          "2022-09-22T00:00:00",
          "2022-09-23T00:00:00",
          "2022-09-24T00:00:00",
          "2022-09-25T00:00:00",
          "2022-09-26T00:00:00",
          "2022-09-27T00:00:00",
          "2022-09-28T00:00:00",
          "2022-09-29T00:00:00"
         ],
         "xaxis": "x",
         "y": [
          0.985636959529653,
          0.9865666170394553,
          0.9865911504937943,
          0.9862871462458589,
          0.9866770869791147,
          0.9870552036344037,
          0.9873108462925738,
          0.9870895226292673,
          0.9876050263616478,
          0.9872389309459548,
          0.987899210607969,
          0.9877596100435871,
          0.9879404970726826,
          0.987783025499176,
          0.9879391359794205,
          0.9882513855776864,
          0.98848173978543,
          0.988269921870745,
          0.9879661692813665,
          0.9874276977499714,
          0.9874540937772658,
          0.9875156998762187,
          0.9874927091498251,
          0.9874178698903554,
          0.9874626024662913,
          0.986863441673317,
          0.987059968734005,
          0.9857453251955685,
          0.9861284085143132,
          0.9855015195044798,
          0.9851982078292637,
          0.9843775206334914,
          0.9843925971625862,
          0.983536245126631,
          0.9843359663380828,
          0.9835819346698687,
          0.9840987054773602,
          0.9834467584465856,
          0.9834459559929454,
          0.9840620391022377,
          0.9836813718489893,
          0.9835131953467442,
          0.9835321679459029,
          0.9837200379779747,
          0.9841579595007915,
          0.9842282057999635,
          0.9843115911722844,
          0.9832801964773582,
          0.9832576983776637,
          0.9832545875773022,
          0.9836038350265802,
          0.9840990432382428,
          0.9841217095071033,
          0.9837695957242153,
          0.9842186749317345,
          0.9842195537553718,
          0.9843556330042832,
          0.9849138588843658,
          0.9848328231006743,
          0.9846639932613596,
          0.9843110450604532,
          0.9843391482638525,
          0.9842024672285457,
          0.9845646219609463,
          0.9847544811109531,
          0.9848950368611145,
          0.9837325471381981,
          0.9847418445538089,
          0.9859030737722964,
          0.9885448746605383,
          0.9865057737929407,
          0.9851959903079208,
          0.9858967554189421,
          0.9853725593770487,
          0.9851704093736208,
          0.9847238239171275,
          0.9849162582752741,
          0.9829877483284595,
          0.9835922710753039,
          0.9837412306301204,
          0.983301180134904,
          0.9835387698473748,
          0.9829667193666118,
          0.9820620170401214,
          0.9818136026596646,
          0.9823830533993111,
          0.982777184348982,
          0.9824192159105986,
          0.982551505576083,
          0.9824938529943822,
          0.9829559595782154,
          0.9837037000921673,
          0.9836695777943473,
          0.9839794727190422,
          0.9840126354141551,
          0.9845489418703026,
          0.9843216774056902,
          0.9839372394834606,
          0.9840833175209199,
          0.9841579731395607,
          0.9831191942447812,
          0.9814397257949286,
          0.9816776230527762,
          0.9823076749226138,
          0.9823313928319934,
          0.9825320168086779,
          0.981996000482788,
          0.9817665259891996,
          0.9814283939676678,
          0.9815114826226488,
          0.9808486650822003,
          0.9810356149504611,
          0.9815194118747079,
          0.9807195334897449,
          0.9808242441735499,
          0.9802587869329321,
          0.9793412200181669,
          0.9798404699886569,
          0.9795057174873627,
          0.9799729720055351,
          0.9785536725403283,
          0.9781858331170605,
          0.9781731930975999,
          0.97879948384585,
          0.9789595695180962,
          0.9782523276804309,
          0.9785548422044473,
          0.9790751609657875,
          0.9787242361042152,
          0.9794211690124912,
          0.9790188888587951,
          0.978368771513859,
          0.9763739865938624,
          0.9782441028660902,
          0.9783954812073182,
          0.9788154074323459,
          0.9784687133674937,
          0.9779939356791437,
          0.9788784931235822,
          0.9776707877794341,
          0.9774476228147522,
          0.977881087793105,
          0.9771138030988897,
          0.9778403563960836,
          0.9765542356835424,
          0.9767607036318581,
          0.9769672329522308,
          0.9777527427680408,
          0.9771949959546061,
          0.9780771178448565,
          0.9780548268545102,
          0.978083615623419,
          0.978116654537796,
          0.9780190404612806,
          0.9784811716358586,
          0.9782892655911058,
          0.9795335716267863,
          0.9797447337724696,
          0.9791638406205417,
          0.9795898567323491,
          0.9804277328754083,
          0.9804420638364812,
          0.9803187754294268,
          0.9806549736809267,
          0.9808803756060466,
          0.9812855157563101,
          0.9811107832839974,
          0.9813262629564199,
          0.981062939475005,
          0.9805562358353666,
          0.9801082509978694,
          0.979697641431633,
          0.9801346254958572,
          0.9806276969240006,
          0.980473769299076,
          0.9806436574690531,
          0.9808228852427899,
          0.9804323175823967,
          0.9806898026690792,
          0.9803097197222672,
          0.9805955331237046,
          0.9812553438821395,
          0.9813189000154234,
          0.980835855304553,
          0.9809449041517861,
          0.9808582724611223,
          0.9814581172746933,
          0.9816058268371483,
          0.9814638240315113,
          0.98161790504446,
          0.981750302019102,
          0.9814184397309554,
          0.9818153783926166,
          0.9827509006438775,
          0.9825201687245102,
          0.9820365906437758,
          0.9820813259211347,
          0.9811403442528401,
          0.9801193213276048,
          0.9805140042960815,
          0.9805276001628829,
          0.9802730225799721,
          0.9804431590943087,
          0.981055457415731,
          0.9812967722172721,
          0.9809066890060547,
          0.9804747642827857,
          0.9802371005791976,
          0.9805575030356204,
          0.9806368633419841
         ],
         "yaxis": "y"
        },
        {
         "hovertemplate": "%{y}",
         "legendgroup": "joe",
         "line": {
          "color": "#EF553B",
          "dash": "solid"
         },
         "marker": {
          "symbol": "circle"
         },
         "mode": "lines",
         "name": "joe",
         "orientation": "v",
         "showlegend": true,
         "type": "scatter",
         "x": [
          "2022-03-04T00:00:00",
          "2022-03-05T00:00:00",
          "2022-03-06T00:00:00",
          "2022-03-07T00:00:00",
          "2022-03-08T00:00:00",
          "2022-03-09T00:00:00",
          "2022-03-10T00:00:00",
          "2022-03-11T00:00:00",
          "2022-03-12T00:00:00",
          "2022-03-13T00:00:00",
          "2022-03-14T00:00:00",
          "2022-03-15T00:00:00",
          "2022-03-16T00:00:00",
          "2022-03-17T00:00:00",
          "2022-03-18T00:00:00",
          "2022-03-19T00:00:00",
          "2022-03-20T00:00:00",
          "2022-03-21T00:00:00",
          "2022-03-22T00:00:00",
          "2022-03-23T00:00:00",
          "2022-03-24T00:00:00",
          "2022-03-25T00:00:00",
          "2022-03-26T00:00:00",
          "2022-03-27T00:00:00",
          "2022-03-28T00:00:00",
          "2022-03-29T00:00:00",
          "2022-03-30T00:00:00",
          "2022-03-31T00:00:00",
          "2022-04-01T00:00:00",
          "2022-04-02T00:00:00",
          "2022-04-03T00:00:00",
          "2022-04-04T00:00:00",
          "2022-04-05T00:00:00",
          "2022-04-06T00:00:00",
          "2022-04-07T00:00:00",
          "2022-04-08T00:00:00",
          "2022-04-09T00:00:00",
          "2022-04-10T00:00:00",
          "2022-04-11T00:00:00",
          "2022-04-12T00:00:00",
          "2022-04-13T00:00:00",
          "2022-04-14T00:00:00",
          "2022-04-15T00:00:00",
          "2022-04-16T00:00:00",
          "2022-04-17T00:00:00",
          "2022-04-18T00:00:00",
          "2022-04-19T00:00:00",
          "2022-04-20T00:00:00",
          "2022-04-21T00:00:00",
          "2022-04-22T00:00:00",
          "2022-04-23T00:00:00",
          "2022-04-24T00:00:00",
          "2022-04-25T00:00:00",
          "2022-04-26T00:00:00",
          "2022-04-27T00:00:00",
          "2022-04-28T00:00:00",
          "2022-04-29T00:00:00",
          "2022-04-30T00:00:00",
          "2022-05-01T00:00:00",
          "2022-05-02T00:00:00",
          "2022-05-03T00:00:00",
          "2022-05-04T00:00:00",
          "2022-05-05T00:00:00",
          "2022-05-06T00:00:00",
          "2022-05-07T00:00:00",
          "2022-05-08T00:00:00",
          "2022-05-09T00:00:00",
          "2022-05-10T00:00:00",
          "2022-05-11T00:00:00",
          "2022-05-12T00:00:00",
          "2022-05-13T00:00:00",
          "2022-05-14T00:00:00",
          "2022-05-15T00:00:00",
          "2022-05-16T00:00:00",
          "2022-05-17T00:00:00",
          "2022-05-18T00:00:00",
          "2022-05-19T00:00:00",
          "2022-05-20T00:00:00",
          "2022-05-21T00:00:00",
          "2022-05-22T00:00:00",
          "2022-05-23T00:00:00",
          "2022-05-24T00:00:00",
          "2022-05-25T00:00:00",
          "2022-05-26T00:00:00",
          "2022-05-27T00:00:00",
          "2022-05-28T00:00:00",
          "2022-05-29T00:00:00",
          "2022-05-30T00:00:00",
          "2022-05-31T00:00:00",
          "2022-06-01T00:00:00",
          "2022-06-02T00:00:00",
          "2022-06-03T00:00:00",
          "2022-06-04T00:00:00",
          "2022-06-05T00:00:00",
          "2022-06-06T00:00:00",
          "2022-06-07T00:00:00",
          "2022-06-08T00:00:00",
          "2022-06-09T00:00:00",
          "2022-06-10T00:00:00",
          "2022-06-11T00:00:00",
          "2022-06-12T00:00:00",
          "2022-06-13T00:00:00",
          "2022-06-14T00:00:00",
          "2022-06-15T00:00:00",
          "2022-06-16T00:00:00",
          "2022-06-17T00:00:00",
          "2022-06-18T00:00:00",
          "2022-06-19T00:00:00",
          "2022-06-20T00:00:00",
          "2022-06-21T00:00:00",
          "2022-06-22T00:00:00",
          "2022-06-23T00:00:00",
          "2022-06-24T00:00:00",
          "2022-06-25T00:00:00",
          "2022-06-26T00:00:00",
          "2022-06-27T00:00:00",
          "2022-06-28T00:00:00",
          "2022-06-29T00:00:00",
          "2022-06-30T00:00:00",
          "2022-07-01T00:00:00",
          "2022-07-02T00:00:00",
          "2022-07-03T00:00:00",
          "2022-07-04T00:00:00",
          "2022-07-05T00:00:00",
          "2022-07-06T00:00:00",
          "2022-07-07T00:00:00",
          "2022-07-08T00:00:00",
          "2022-07-09T00:00:00",
          "2022-07-10T00:00:00",
          "2022-07-11T00:00:00",
          "2022-07-12T00:00:00",
          "2022-07-13T00:00:00",
          "2022-07-14T00:00:00",
          "2022-07-15T00:00:00",
          "2022-07-16T00:00:00",
          "2022-07-17T00:00:00",
          "2022-07-18T00:00:00",
          "2022-07-19T00:00:00",
          "2022-07-20T00:00:00",
          "2022-07-21T00:00:00",
          "2022-07-22T00:00:00",
          "2022-07-23T00:00:00",
          "2022-07-24T00:00:00",
          "2022-07-25T00:00:00",
          "2022-07-26T00:00:00",
          "2022-07-27T00:00:00",
          "2022-07-28T00:00:00",
          "2022-07-29T00:00:00",
          "2022-07-30T00:00:00",
          "2022-07-31T00:00:00",
          "2022-08-01T00:00:00",
          "2022-08-02T00:00:00",
          "2022-08-03T00:00:00",
          "2022-08-04T00:00:00",
          "2022-08-05T00:00:00",
          "2022-08-06T00:00:00",
          "2022-08-07T00:00:00",
          "2022-08-08T00:00:00",
          "2022-08-09T00:00:00",
          "2022-08-10T00:00:00",
          "2022-08-11T00:00:00",
          "2022-08-12T00:00:00",
          "2022-08-13T00:00:00",
          "2022-08-14T00:00:00",
          "2022-08-15T00:00:00",
          "2022-08-16T00:00:00",
          "2022-08-17T00:00:00",
          "2022-08-18T00:00:00",
          "2022-08-19T00:00:00",
          "2022-08-20T00:00:00",
          "2022-08-21T00:00:00",
          "2022-08-22T00:00:00",
          "2022-08-23T00:00:00",
          "2022-08-24T00:00:00",
          "2022-08-25T00:00:00",
          "2022-08-26T00:00:00",
          "2022-08-27T00:00:00",
          "2022-08-28T00:00:00",
          "2022-08-29T00:00:00",
          "2022-08-30T00:00:00",
          "2022-08-31T00:00:00",
          "2022-09-01T00:00:00",
          "2022-09-02T00:00:00",
          "2022-09-03T00:00:00",
          "2022-09-04T00:00:00",
          "2022-09-05T00:00:00",
          "2022-09-06T00:00:00",
          "2022-09-07T00:00:00",
          "2022-09-08T00:00:00",
          "2022-09-09T00:00:00",
          "2022-09-10T00:00:00",
          "2022-09-11T00:00:00",
          "2022-09-12T00:00:00",
          "2022-09-13T00:00:00",
          "2022-09-14T00:00:00",
          "2022-09-15T00:00:00",
          "2022-09-16T00:00:00",
          "2022-09-17T00:00:00",
          "2022-09-18T00:00:00",
          "2022-09-19T00:00:00",
          "2022-09-20T00:00:00",
          "2022-09-21T00:00:00",
          "2022-09-22T00:00:00",
          "2022-09-23T00:00:00",
          "2022-09-24T00:00:00",
          "2022-09-25T00:00:00",
          "2022-09-26T00:00:00",
          "2022-09-27T00:00:00",
          "2022-09-28T00:00:00",
          "2022-09-29T00:00:00"
         ],
         "xaxis": "x",
         "y": [
          0.009707163978443782,
          0.009406307490862152,
          0.00934090848255672,
          0.00953375645634341,
          0.009239881476929938,
          0.00895751988860132,
          0.008746578422657802,
          0.008885665390419507,
          0.008456606792478939,
          0.008780181600404054,
          0.008199841626207674,
          0.008281105061411583,
          0.00806950136299276,
          0.008246118915049543,
          0.008437951148328356,
          0.008003399437370051,
          0.007876828021896461,
          0.007860980838834271,
          0.008097076527998268,
          0.008174493924627439,
          0.008091961660002775,
          0.008210925168654029,
          0.008184324963563389,
          0.008153510049041999,
          0.008025583925512891,
          0.008894615896252733,
          0.008696598057938355,
          0.009763187392232024,
          0.009732583761476038,
          0.010023399335002892,
          0.010164920349237393,
          0.010890569716611103,
          0.011050025820161414,
          0.012024505157316985,
          0.01148574252185528,
          0.012236662644733791,
          0.011985594013953745,
          0.012560476776445298,
          0.012494215269491935,
          0.011908179556583435,
          0.012279895833283823,
          0.012455265303983675,
          0.012381769317993207,
          0.012156503152715808,
          0.011799903432100838,
          0.011839579238363382,
          0.011827596181999639,
          0.012507383674913582,
          0.012495325621927638,
          0.012529637728934815,
          0.01221640958735749,
          0.011716120776234268,
          0.011791868327922523,
          0.012232168318732941,
          0.012000212904757713,
          0.012028485355463412,
          0.01180768574225066,
          0.011434822911615378,
          0.01159775009863367,
          0.011682914157046682,
          0.012177153859036912,
          0.012232589365250408,
          0.012295499536155951,
          0.012079283622401025,
          0.01186459227960083,
          0.011706541950788114,
          0.012703900071258,
          0.01190655775918791,
          0.01099431663049998,
          0.00904502222158172,
          0.011089494324598334,
          0.012169167470985384,
          0.011661006794697951,
          0.011811601764600537,
          0.012114630569339155,
          0.012264451558690001,
          0.012107934545683773,
          0.013800557319546974,
          0.01306096309401641,
          0.01276358657666629,
          0.013274054022581843,
          0.013050025245087433,
          0.013355065538325233,
          0.013436045273679649,
          0.013688638621568177,
          0.013078954241432844,
          0.012957599739034115,
          0.01321429195778749,
          0.013037126549943814,
          0.012804327955498438,
          0.012706797953922218,
          0.012086465339795755,
          0.011939680013415235,
          0.0116157375005292,
          0.011630062824514068,
          0.011330016008986392,
          0.011300684384350536,
          0.011387845494999275,
          0.011358114093496808,
          0.011131576233872604,
          0.011534305342929143,
          0.011757161404572716,
          0.011354680058068141,
          0.011315785518569994,
          0.011659931513039547,
          0.011506468140254205,
          0.011825442531241357,
          0.01259062342671909,
          0.01267858704318328,
          0.012782445495794962,
          0.013334739971640927,
          0.0130238897587611,
          0.01285204138915044,
          0.014024301315870423,
          0.014047966845864675,
          0.014168820570736155,
          0.013772365834445887,
          0.013701990328656181,
          0.01368564839694014,
          0.013270731545223725,
          0.01388353511529248,
          0.014155706975137475,
          0.014190976257396055,
          0.013977827304440577,
          0.013999150101110065,
          0.014796178629274268,
          0.014482522658662966,
          0.013744801018276987,
          0.013855168230294928,
          0.013563996691971019,
          0.01379999241927657,
          0.014453622577086872,
          0.016710322402938516,
          0.014689695013313972,
          0.014722629514288208,
          0.01441001287483589,
          0.014864219849464852,
          0.015760271289451542,
          0.014731404087477699,
          0.01625816208909328,
          0.016683101340668843,
          0.016181524991599045,
          0.016816946264198412,
          0.016173629013372513,
          0.016940309539706374,
          0.01676357431884363,
          0.016912431585344712,
          0.015902794658642836,
          0.015940364900912486,
          0.01551467040196438,
          0.015323079780822436,
          0.015361927987249393,
          0.015326392955678272,
          0.015404979299197843,
          0.01501826644832234,
          0.015357773152827525,
          0.01449631687840455,
          0.014313735309337659,
          0.014862123469949248,
          0.014729502706254154,
          0.013929845279018442,
          0.014024640801541756,
          0.013860222306335821,
          0.013693944182207448,
          0.013401812198332532,
          0.012866877933161028,
          0.012908302562779212,
          0.012767560434801966,
          0.012926671077148857,
          0.013107038332834645,
          0.013359439340005715,
          0.01396578352363027,
          0.013489997150419535,
          0.013258137811103958,
          0.013274359536418343,
          0.013017604501130618,
          0.01289751457121802,
          0.013306198520390918,
          0.012912606590058868,
          0.013319472510024464,
          0.01327161836181489,
          0.012787013849586852,
          0.012689416550783953,
          0.012998515797493374,
          0.013018961164798747,
          0.012993739971889514,
          0.012618577686977415,
          0.012560535926643355,
          0.012768210679662287,
          0.0127572202093672,
          0.012809278820713832,
          0.012824196527322041,
          0.012614370304711436,
          0.012046524502768339,
          0.012131722095098102,
          0.012422422483802955,
          0.012372096308359101,
          0.013307068796582913,
          0.014099908441335999,
          0.013731112054649004,
          0.01373621864917212,
          0.013845676482685724,
          0.013701322336628798,
          0.01332693668319839,
          0.013223000630763706,
          0.013605831030889973,
          0.014020207577948307,
          0.014285372806749339,
          0.014094141374992413,
          0.01410777817740942
         ],
         "yaxis": "y"
        },
        {
         "hovertemplate": "%{y}",
         "legendgroup": "benqi",
         "line": {
          "color": "#00cc96",
          "dash": "solid"
         },
         "marker": {
          "symbol": "circle"
         },
         "mode": "lines",
         "name": "benqi",
         "orientation": "v",
         "showlegend": true,
         "type": "scatter",
         "x": [
          "2022-03-04T00:00:00",
          "2022-03-05T00:00:00",
          "2022-03-06T00:00:00",
          "2022-03-07T00:00:00",
          "2022-03-08T00:00:00",
          "2022-03-09T00:00:00",
          "2022-03-10T00:00:00",
          "2022-03-11T00:00:00",
          "2022-03-12T00:00:00",
          "2022-03-13T00:00:00",
          "2022-03-14T00:00:00",
          "2022-03-15T00:00:00",
          "2022-03-16T00:00:00",
          "2022-03-17T00:00:00",
          "2022-03-18T00:00:00",
          "2022-03-19T00:00:00",
          "2022-03-20T00:00:00",
          "2022-03-21T00:00:00",
          "2022-03-22T00:00:00",
          "2022-03-23T00:00:00",
          "2022-03-24T00:00:00",
          "2022-03-25T00:00:00",
          "2022-03-26T00:00:00",
          "2022-03-27T00:00:00",
          "2022-03-28T00:00:00",
          "2022-03-29T00:00:00",
          "2022-03-30T00:00:00",
          "2022-03-31T00:00:00",
          "2022-04-01T00:00:00",
          "2022-04-02T00:00:00",
          "2022-04-03T00:00:00",
          "2022-04-04T00:00:00",
          "2022-04-05T00:00:00",
          "2022-04-06T00:00:00",
          "2022-04-07T00:00:00",
          "2022-04-08T00:00:00",
          "2022-04-09T00:00:00",
          "2022-04-10T00:00:00",
          "2022-04-11T00:00:00",
          "2022-04-12T00:00:00",
          "2022-04-13T00:00:00",
          "2022-04-14T00:00:00",
          "2022-04-15T00:00:00",
          "2022-04-16T00:00:00",
          "2022-04-17T00:00:00",
          "2022-04-18T00:00:00",
          "2022-04-19T00:00:00",
          "2022-04-20T00:00:00",
          "2022-04-21T00:00:00",
          "2022-04-22T00:00:00",
          "2022-04-23T00:00:00",
          "2022-04-24T00:00:00",
          "2022-04-25T00:00:00",
          "2022-04-26T00:00:00",
          "2022-04-27T00:00:00",
          "2022-04-28T00:00:00",
          "2022-04-29T00:00:00",
          "2022-04-30T00:00:00",
          "2022-05-01T00:00:00",
          "2022-05-02T00:00:00",
          "2022-05-03T00:00:00",
          "2022-05-04T00:00:00",
          "2022-05-05T00:00:00",
          "2022-05-06T00:00:00",
          "2022-05-07T00:00:00",
          "2022-05-08T00:00:00",
          "2022-05-09T00:00:00",
          "2022-05-10T00:00:00",
          "2022-05-11T00:00:00",
          "2022-05-12T00:00:00",
          "2022-05-13T00:00:00",
          "2022-05-14T00:00:00",
          "2022-05-15T00:00:00",
          "2022-05-16T00:00:00",
          "2022-05-17T00:00:00",
          "2022-05-18T00:00:00",
          "2022-05-19T00:00:00",
          "2022-05-20T00:00:00",
          "2022-05-21T00:00:00",
          "2022-05-22T00:00:00",
          "2022-05-23T00:00:00",
          "2022-05-24T00:00:00",
          "2022-05-25T00:00:00",
          "2022-05-26T00:00:00",
          "2022-05-27T00:00:00",
          "2022-05-28T00:00:00",
          "2022-05-29T00:00:00",
          "2022-05-30T00:00:00",
          "2022-05-31T00:00:00",
          "2022-06-01T00:00:00",
          "2022-06-02T00:00:00",
          "2022-06-03T00:00:00",
          "2022-06-04T00:00:00",
          "2022-06-05T00:00:00",
          "2022-06-06T00:00:00",
          "2022-06-07T00:00:00",
          "2022-06-08T00:00:00",
          "2022-06-09T00:00:00",
          "2022-06-10T00:00:00",
          "2022-06-11T00:00:00",
          "2022-06-12T00:00:00",
          "2022-06-13T00:00:00",
          "2022-06-14T00:00:00",
          "2022-06-15T00:00:00",
          "2022-06-16T00:00:00",
          "2022-06-17T00:00:00",
          "2022-06-18T00:00:00",
          "2022-06-19T00:00:00",
          "2022-06-20T00:00:00",
          "2022-06-21T00:00:00",
          "2022-06-22T00:00:00",
          "2022-06-23T00:00:00",
          "2022-06-24T00:00:00",
          "2022-06-25T00:00:00",
          "2022-06-26T00:00:00",
          "2022-06-27T00:00:00",
          "2022-06-28T00:00:00",
          "2022-06-29T00:00:00",
          "2022-06-30T00:00:00",
          "2022-07-01T00:00:00",
          "2022-07-02T00:00:00",
          "2022-07-03T00:00:00",
          "2022-07-04T00:00:00",
          "2022-07-05T00:00:00",
          "2022-07-06T00:00:00",
          "2022-07-07T00:00:00",
          "2022-07-08T00:00:00",
          "2022-07-09T00:00:00",
          "2022-07-10T00:00:00",
          "2022-07-11T00:00:00",
          "2022-07-12T00:00:00",
          "2022-07-13T00:00:00",
          "2022-07-14T00:00:00",
          "2022-07-15T00:00:00",
          "2022-07-16T00:00:00",
          "2022-07-17T00:00:00",
          "2022-07-18T00:00:00",
          "2022-07-19T00:00:00",
          "2022-07-20T00:00:00",
          "2022-07-21T00:00:00",
          "2022-07-22T00:00:00",
          "2022-07-23T00:00:00",
          "2022-07-24T00:00:00",
          "2022-07-25T00:00:00",
          "2022-07-26T00:00:00",
          "2022-07-27T00:00:00",
          "2022-07-28T00:00:00",
          "2022-07-29T00:00:00",
          "2022-07-30T00:00:00",
          "2022-07-31T00:00:00",
          "2022-08-01T00:00:00",
          "2022-08-02T00:00:00",
          "2022-08-03T00:00:00",
          "2022-08-04T00:00:00",
          "2022-08-05T00:00:00",
          "2022-08-06T00:00:00",
          "2022-08-07T00:00:00",
          "2022-08-08T00:00:00",
          "2022-08-09T00:00:00",
          "2022-08-10T00:00:00",
          "2022-08-11T00:00:00",
          "2022-08-12T00:00:00",
          "2022-08-13T00:00:00",
          "2022-08-14T00:00:00",
          "2022-08-15T00:00:00",
          "2022-08-16T00:00:00",
          "2022-08-17T00:00:00",
          "2022-08-18T00:00:00",
          "2022-08-19T00:00:00",
          "2022-08-20T00:00:00",
          "2022-08-21T00:00:00",
          "2022-08-22T00:00:00",
          "2022-08-23T00:00:00",
          "2022-08-24T00:00:00",
          "2022-08-25T00:00:00",
          "2022-08-26T00:00:00",
          "2022-08-27T00:00:00",
          "2022-08-28T00:00:00",
          "2022-08-29T00:00:00",
          "2022-08-30T00:00:00",
          "2022-08-31T00:00:00",
          "2022-09-01T00:00:00",
          "2022-09-02T00:00:00",
          "2022-09-03T00:00:00",
          "2022-09-04T00:00:00",
          "2022-09-05T00:00:00",
          "2022-09-06T00:00:00",
          "2022-09-07T00:00:00",
          "2022-09-08T00:00:00",
          "2022-09-09T00:00:00",
          "2022-09-10T00:00:00",
          "2022-09-11T00:00:00",
          "2022-09-12T00:00:00",
          "2022-09-13T00:00:00",
          "2022-09-14T00:00:00",
          "2022-09-15T00:00:00",
          "2022-09-16T00:00:00",
          "2022-09-17T00:00:00",
          "2022-09-18T00:00:00",
          "2022-09-19T00:00:00",
          "2022-09-20T00:00:00",
          "2022-09-21T00:00:00",
          "2022-09-22T00:00:00",
          "2022-09-23T00:00:00",
          "2022-09-24T00:00:00",
          "2022-09-25T00:00:00",
          "2022-09-26T00:00:00",
          "2022-09-27T00:00:00",
          "2022-09-28T00:00:00",
          "2022-09-29T00:00:00"
         ],
         "xaxis": "x",
         "y": [
          0.00465587649190316,
          0.004027075469682695,
          0.004067941023648963,
          0.004179097297797485,
          0.004083031543955226,
          0.003987276476995134,
          0.00394257528476836,
          0.004024811980313399,
          0.003938366845873311,
          0.003980887453641018,
          0.00390094776582329,
          0.003959284895001271,
          0.003990001564324725,
          0.003970855585774577,
          0.003622912872251194,
          0.003745214984943469,
          0.0036414321926735173,
          0.0038690972904206864,
          0.003936754190635197,
          0.004397808325401142,
          0.004453944562731532,
          0.0042733749551271795,
          0.0043229658866115765,
          0.004428620060602467,
          0.004511813608195984,
          0.004241942430430279,
          0.004243433208056543,
          0.004491487412199426,
          0.004139007724210675,
          0.004475081160517343,
          0.0046368718214988254,
          0.004731909649897578,
          0.004557377017252371,
          0.004439249716052022,
          0.0041782911400618595,
          0.004181402685397579,
          0.003915700508686083,
          0.0039927647769690995,
          0.004059828737562735,
          0.004029781341178988,
          0.004038732317726972,
          0.004031539349272018,
          0.004086062736103749,
          0.004123458869309515,
          0.004042137067107573,
          0.003932214961673097,
          0.0038608126457158887,
          0.0042124198477282715,
          0.004246976000408667,
          0.004215774693762986,
          0.004179755386062395,
          0.004184835985522876,
          0.004086422164974276,
          0.0039982359570517895,
          0.0037811121635078155,
          0.0037519608891647574,
          0.0038366812534660353,
          0.0036513182040188072,
          0.0035694268006919412,
          0.0036530925815936293,
          0.0035118010805098737,
          0.0034282623708970575,
          0.003502033235298258,
          0.0033560944166526607,
          0.0033809266094461266,
          0.0033984211880973545,
          0.0035635527905437643,
          0.0033515976870032646,
          0.0031026095972036833,
          0.0024101031178798854,
          0.002404731882461002,
          0.0026348422210937133,
          0.0024422377863599527,
          0.002815838858350746,
          0.002714960057040155,
          0.00301172452418241,
          0.0029758071790421223,
          0.0032116943519934493,
          0.0033467658306797522,
          0.003495182793213371,
          0.0034247658425143224,
          0.0034112049075379143,
          0.003678215095062866,
          0.004501937686198916,
          0.004497758718767231,
          0.004537992359256135,
          0.004265215911983882,
          0.004366492131613993,
          0.004411367873973254,
          0.004701819050119377,
          0.004337242467862546,
          0.004209834568036844,
          0.004390742192237508,
          0.004404789780428488,
          0.004357301761330839,
          0.0041210421207109995,
          0.004377638209959326,
          0.004674915021540075,
          0.004558568385583211,
          0.004710450626566789,
          0.005346500412289729,
          0.006803112800498791,
          0.006967696889155878,
          0.006376539558816106,
          0.006008675654967123,
          0.005961515051067912,
          0.00617855698597065,
          0.005642850584081337,
          0.005893018989148973,
          0.005706071881556346,
          0.005816594946158798,
          0.005940495290777646,
          0.005628546736141462,
          0.005256165194384711,
          0.005127788980585441,
          0.005572392496331842,
          0.006886414147387115,
          0.006457539682686929,
          0.0068086341156971195,
          0.006756296449241131,
          0.00756279234437924,
          0.0076584599078020075,
          0.007635830645004097,
          0.007222688849709413,
          0.007041280380793869,
          0.006951493690294812,
          0.0069626351368897305,
          0.007180038015935522,
          0.007420595665489981,
          0.007014834295537724,
          0.00718111872192842,
          0.00717760590905421,
          0.006915691003198946,
          0.007066202120595877,
          0.00688188927839356,
          0.006774579692818402,
          0.0066670667830414304,
          0.006245793031404685,
          0.006390102788940085,
          0.0060710501314726936,
          0.005869275844578986,
          0.005937387215295881,
          0.00606925063691194,
          0.005986014590543822,
          0.006505454776751217,
          0.006475722049298345,
          0.00612033546242468,
          0.006344462573316371,
          0.006864639144481323,
          0.00640821175317916,
          0.006622093364667513,
          0.006554456389331583,
          0.0065569525065257775,
          0.0065759802395216425,
          0.006500561915819078,
          0.006352961256066588,
          0.005970111494809234,
          0.0059415309181926924,
          0.005974035909509112,
          0.005680640561396747,
          0.005642421845573218,
          0.005533295361976924,
          0.005821002264237423,
          0.005651082136865898,
          0.005717812195620947,
          0.005847606310528883,
          0.005980914153223395,
          0.0059061766087781225,
          0.006010389447846138,
          0.00633672583179884,
          0.00653230966212496,
          0.006336575044736801,
          0.006375377353723157,
          0.006114165264895357,
          0.006251871164505633,
          0.006338738029816128,
          0.0062796001859919785,
          0.006261483897212461,
          0.0063975907408619775,
          0.006370807767708386,
          0.006132848514480461,
          0.005957642268273682,
          0.00599168343379265,
          0.006165628897953538,
          0.006036134683415183,
          0.006147987566988313,
          0.005923305038329357,
          0.005833637236208346,
          0.005767965288826447,
          0.005624874746172873,
          0.0054404191601841985,
          0.005757363741722503,
          0.005570251302672052,
          0.0052025748533541215,
          0.005348109180391584,
          0.005540986872421285,
          0.005546577770506125,
          0.005552586950576844,
          0.005780770231059216,
          0.005754883649269684,
          0.005736181187945137,
          0.005881300937342254,
          0.005855518569062623,
          0.005617605901070641,
          0.005480227151964224,
          0.00548747996305545,
          0.005505028139266064,
          0.005477526614053189,
          0.005348355589387159,
          0.005255358480606345
         ],
         "yaxis": "y"
        }
       ],
       "layout": {
        "autosize": true,
        "hoverdistance": 100,
        "hovermode": "x",
        "legend": {
         "title": {
          "text": ""
         },
         "tracegroupgap": 0
        },
        "margin": {
         "t": 60
        },
        "spikedistance": 1000,
        "template": {
         "data": {
          "bar": [
           {
            "error_x": {
             "color": "#2a3f5f"
            },
            "error_y": {
             "color": "#2a3f5f"
            },
            "marker": {
             "line": {
              "color": "white",
              "width": 0.5
             },
             "pattern": {
              "fillmode": "overlay",
              "size": 10,
              "solidity": 0.2
             }
            },
            "type": "bar"
           }
          ],
          "barpolar": [
           {
            "marker": {
             "line": {
              "color": "white",
              "width": 0.5
             },
             "pattern": {
              "fillmode": "overlay",
              "size": 10,
              "solidity": 0.2
             }
            },
            "type": "barpolar"
           }
          ],
          "carpet": [
           {
            "aaxis": {
             "endlinecolor": "#2a3f5f",
             "gridcolor": "#C8D4E3",
             "linecolor": "#C8D4E3",
             "minorgridcolor": "#C8D4E3",
             "startlinecolor": "#2a3f5f"
            },
            "baxis": {
             "endlinecolor": "#2a3f5f",
             "gridcolor": "#C8D4E3",
             "linecolor": "#C8D4E3",
             "minorgridcolor": "#C8D4E3",
             "startlinecolor": "#2a3f5f"
            },
            "type": "carpet"
           }
          ],
          "choropleth": [
           {
            "colorbar": {
             "outlinewidth": 0,
             "ticks": ""
            },
            "type": "choropleth"
           }
          ],
          "contour": [
           {
            "colorbar": {
             "outlinewidth": 0,
             "ticks": ""
            },
            "colorscale": [
             [
              0,
              "#0d0887"
             ],
             [
              0.1111111111111111,
              "#46039f"
             ],
             [
              0.2222222222222222,
              "#7201a8"
             ],
             [
              0.3333333333333333,
              "#9c179e"
             ],
             [
              0.4444444444444444,
              "#bd3786"
             ],
             [
              0.5555555555555556,
              "#d8576b"
             ],
             [
              0.6666666666666666,
              "#ed7953"
             ],
             [
              0.7777777777777778,
              "#fb9f3a"
             ],
             [
              0.8888888888888888,
              "#fdca26"
             ],
             [
              1,
              "#f0f921"
             ]
            ],
            "type": "contour"
           }
          ],
          "contourcarpet": [
           {
            "colorbar": {
             "outlinewidth": 0,
             "ticks": ""
            },
            "type": "contourcarpet"
           }
          ],
          "heatmap": [
           {
            "colorbar": {
             "outlinewidth": 0,
             "ticks": ""
            },
            "colorscale": [
             [
              0,
              "#0d0887"
             ],
             [
              0.1111111111111111,
              "#46039f"
             ],
             [
              0.2222222222222222,
              "#7201a8"
             ],
             [
              0.3333333333333333,
              "#9c179e"
             ],
             [
              0.4444444444444444,
              "#bd3786"
             ],
             [
              0.5555555555555556,
              "#d8576b"
             ],
             [
              0.6666666666666666,
              "#ed7953"
             ],
             [
              0.7777777777777778,
              "#fb9f3a"
             ],
             [
              0.8888888888888888,
              "#fdca26"
             ],
             [
              1,
              "#f0f921"
             ]
            ],
            "type": "heatmap"
           }
          ],
          "heatmapgl": [
           {
            "colorbar": {
             "outlinewidth": 0,
             "ticks": ""
            },
            "colorscale": [
             [
              0,
              "#0d0887"
             ],
             [
              0.1111111111111111,
              "#46039f"
             ],
             [
              0.2222222222222222,
              "#7201a8"
             ],
             [
              0.3333333333333333,
              "#9c179e"
             ],
             [
              0.4444444444444444,
              "#bd3786"
             ],
             [
              0.5555555555555556,
              "#d8576b"
             ],
             [
              0.6666666666666666,
              "#ed7953"
             ],
             [
              0.7777777777777778,
              "#fb9f3a"
             ],
             [
              0.8888888888888888,
              "#fdca26"
             ],
             [
              1,
              "#f0f921"
             ]
            ],
            "type": "heatmapgl"
           }
          ],
          "histogram": [
           {
            "marker": {
             "pattern": {
              "fillmode": "overlay",
              "size": 10,
              "solidity": 0.2
             }
            },
            "type": "histogram"
           }
          ],
          "histogram2d": [
           {
            "colorbar": {
             "outlinewidth": 0,
             "ticks": ""
            },
            "colorscale": [
             [
              0,
              "#0d0887"
             ],
             [
              0.1111111111111111,
              "#46039f"
             ],
             [
              0.2222222222222222,
              "#7201a8"
             ],
             [
              0.3333333333333333,
              "#9c179e"
             ],
             [
              0.4444444444444444,
              "#bd3786"
             ],
             [
              0.5555555555555556,
              "#d8576b"
             ],
             [
              0.6666666666666666,
              "#ed7953"
             ],
             [
              0.7777777777777778,
              "#fb9f3a"
             ],
             [
              0.8888888888888888,
              "#fdca26"
             ],
             [
              1,
              "#f0f921"
             ]
            ],
            "type": "histogram2d"
           }
          ],
          "histogram2dcontour": [
           {
            "colorbar": {
             "outlinewidth": 0,
             "ticks": ""
            },
            "colorscale": [
             [
              0,
              "#0d0887"
             ],
             [
              0.1111111111111111,
              "#46039f"
             ],
             [
              0.2222222222222222,
              "#7201a8"
             ],
             [
              0.3333333333333333,
              "#9c179e"
             ],
             [
              0.4444444444444444,
              "#bd3786"
             ],
             [
              0.5555555555555556,
              "#d8576b"
             ],
             [
              0.6666666666666666,
              "#ed7953"
             ],
             [
              0.7777777777777778,
              "#fb9f3a"
             ],
             [
              0.8888888888888888,
              "#fdca26"
             ],
             [
              1,
              "#f0f921"
             ]
            ],
            "type": "histogram2dcontour"
           }
          ],
          "mesh3d": [
           {
            "colorbar": {
             "outlinewidth": 0,
             "ticks": ""
            },
            "type": "mesh3d"
           }
          ],
          "parcoords": [
           {
            "line": {
             "colorbar": {
              "outlinewidth": 0,
              "ticks": ""
             }
            },
            "type": "parcoords"
           }
          ],
          "pie": [
           {
            "automargin": true,
            "type": "pie"
           }
          ],
          "scatter": [
           {
            "fillpattern": {
             "fillmode": "overlay",
             "size": 10,
             "solidity": 0.2
            },
            "type": "scatter"
           }
          ],
          "scatter3d": [
           {
            "line": {
             "colorbar": {
              "outlinewidth": 0,
              "ticks": ""
             }
            },
            "marker": {
             "colorbar": {
              "outlinewidth": 0,
              "ticks": ""
             }
            },
            "type": "scatter3d"
           }
          ],
          "scattercarpet": [
           {
            "marker": {
             "colorbar": {
              "outlinewidth": 0,
              "ticks": ""
             }
            },
            "type": "scattercarpet"
           }
          ],
          "scattergeo": [
           {
            "marker": {
             "colorbar": {
              "outlinewidth": 0,
              "ticks": ""
             }
            },
            "type": "scattergeo"
           }
          ],
          "scattergl": [
           {
            "marker": {
             "colorbar": {
              "outlinewidth": 0,
              "ticks": ""
             }
            },
            "type": "scattergl"
           }
          ],
          "scattermapbox": [
           {
            "marker": {
             "colorbar": {
              "outlinewidth": 0,
              "ticks": ""
             }
            },
            "type": "scattermapbox"
           }
          ],
          "scatterpolar": [
           {
            "marker": {
             "colorbar": {
              "outlinewidth": 0,
              "ticks": ""
             }
            },
            "type": "scatterpolar"
           }
          ],
          "scatterpolargl": [
           {
            "marker": {
             "colorbar": {
              "outlinewidth": 0,
              "ticks": ""
             }
            },
            "type": "scatterpolargl"
           }
          ],
          "scatterternary": [
           {
            "marker": {
             "colorbar": {
              "outlinewidth": 0,
              "ticks": ""
             }
            },
            "type": "scatterternary"
           }
          ],
          "surface": [
           {
            "colorbar": {
             "outlinewidth": 0,
             "ticks": ""
            },
            "colorscale": [
             [
              0,
              "#0d0887"
             ],
             [
              0.1111111111111111,
              "#46039f"
             ],
             [
              0.2222222222222222,
              "#7201a8"
             ],
             [
              0.3333333333333333,
              "#9c179e"
             ],
             [
              0.4444444444444444,
              "#bd3786"
             ],
             [
              0.5555555555555556,
              "#d8576b"
             ],
             [
              0.6666666666666666,
              "#ed7953"
             ],
             [
              0.7777777777777778,
              "#fb9f3a"
             ],
             [
              0.8888888888888888,
              "#fdca26"
             ],
             [
              1,
              "#f0f921"
             ]
            ],
            "type": "surface"
           }
          ],
          "table": [
           {
            "cells": {
             "fill": {
              "color": "#EBF0F8"
             },
             "line": {
              "color": "white"
             }
            },
            "header": {
             "fill": {
              "color": "#C8D4E3"
             },
             "line": {
              "color": "white"
             }
            },
            "type": "table"
           }
          ]
         },
         "layout": {
          "annotationdefaults": {
           "arrowcolor": "#2a3f5f",
           "arrowhead": 0,
           "arrowwidth": 1
          },
          "autotypenumbers": "strict",
          "coloraxis": {
           "colorbar": {
            "outlinewidth": 0,
            "ticks": ""
           }
          },
          "colorscale": {
           "diverging": [
            [
             0,
             "#8e0152"
            ],
            [
             0.1,
             "#c51b7d"
            ],
            [
             0.2,
             "#de77ae"
            ],
            [
             0.3,
             "#f1b6da"
            ],
            [
             0.4,
             "#fde0ef"
            ],
            [
             0.5,
             "#f7f7f7"
            ],
            [
             0.6,
             "#e6f5d0"
            ],
            [
             0.7,
             "#b8e186"
            ],
            [
             0.8,
             "#7fbc41"
            ],
            [
             0.9,
             "#4d9221"
            ],
            [
             1,
             "#276419"
            ]
           ],
           "sequential": [
            [
             0,
             "#0d0887"
            ],
            [
             0.1111111111111111,
             "#46039f"
            ],
            [
             0.2222222222222222,
             "#7201a8"
            ],
            [
             0.3333333333333333,
             "#9c179e"
            ],
            [
             0.4444444444444444,
             "#bd3786"
            ],
            [
             0.5555555555555556,
             "#d8576b"
            ],
            [
             0.6666666666666666,
             "#ed7953"
            ],
            [
             0.7777777777777778,
             "#fb9f3a"
            ],
            [
             0.8888888888888888,
             "#fdca26"
            ],
            [
             1,
             "#f0f921"
            ]
           ],
           "sequentialminus": [
            [
             0,
             "#0d0887"
            ],
            [
             0.1111111111111111,
             "#46039f"
            ],
            [
             0.2222222222222222,
             "#7201a8"
            ],
            [
             0.3333333333333333,
             "#9c179e"
            ],
            [
             0.4444444444444444,
             "#bd3786"
            ],
            [
             0.5555555555555556,
             "#d8576b"
            ],
            [
             0.6666666666666666,
             "#ed7953"
            ],
            [
             0.7777777777777778,
             "#fb9f3a"
            ],
            [
             0.8888888888888888,
             "#fdca26"
            ],
            [
             1,
             "#f0f921"
            ]
           ]
          },
          "colorway": [
           "#636efa",
           "#EF553B",
           "#00cc96",
           "#ab63fa",
           "#FFA15A",
           "#19d3f3",
           "#FF6692",
           "#B6E880",
           "#FF97FF",
           "#FECB52"
          ],
          "font": {
           "color": "#2a3f5f"
          },
          "geo": {
           "bgcolor": "white",
           "lakecolor": "white",
           "landcolor": "white",
           "showlakes": true,
           "showland": true,
           "subunitcolor": "#C8D4E3"
          },
          "hoverlabel": {
           "align": "left"
          },
          "hovermode": "closest",
          "mapbox": {
           "style": "light"
          },
          "paper_bgcolor": "white",
          "plot_bgcolor": "white",
          "polar": {
           "angularaxis": {
            "gridcolor": "#EBF0F8",
            "linecolor": "#EBF0F8",
            "ticks": ""
           },
           "bgcolor": "white",
           "radialaxis": {
            "gridcolor": "#EBF0F8",
            "linecolor": "#EBF0F8",
            "ticks": ""
           }
          },
          "scene": {
           "xaxis": {
            "backgroundcolor": "white",
            "gridcolor": "#DFE8F3",
            "gridwidth": 2,
            "linecolor": "#EBF0F8",
            "showbackground": true,
            "ticks": "",
            "zerolinecolor": "#EBF0F8"
           },
           "yaxis": {
            "backgroundcolor": "white",
            "gridcolor": "#DFE8F3",
            "gridwidth": 2,
            "linecolor": "#EBF0F8",
            "showbackground": true,
            "ticks": "",
            "zerolinecolor": "#EBF0F8"
           },
           "zaxis": {
            "backgroundcolor": "white",
            "gridcolor": "#DFE8F3",
            "gridwidth": 2,
            "linecolor": "#EBF0F8",
            "showbackground": true,
            "ticks": "",
            "zerolinecolor": "#EBF0F8"
           }
          },
          "shapedefaults": {
           "line": {
            "color": "#2a3f5f"
           }
          },
          "ternary": {
           "aaxis": {
            "gridcolor": "#DFE8F3",
            "linecolor": "#A2B1C6",
            "ticks": ""
           },
           "baxis": {
            "gridcolor": "#DFE8F3",
            "linecolor": "#A2B1C6",
            "ticks": ""
           },
           "bgcolor": "white",
           "caxis": {
            "gridcolor": "#DFE8F3",
            "linecolor": "#A2B1C6",
            "ticks": ""
           }
          },
          "title": {
           "x": 0.05
          },
          "xaxis": {
           "automargin": true,
           "gridcolor": "#EBF0F8",
           "linecolor": "#EBF0F8",
           "ticks": "",
           "title": {
            "standoff": 15
           },
           "zerolinecolor": "#EBF0F8",
           "zerolinewidth": 2
          },
          "yaxis": {
           "automargin": true,
           "gridcolor": "#EBF0F8",
           "linecolor": "#EBF0F8",
           "ticks": "",
           "title": {
            "standoff": 15
           },
           "zerolinecolor": "#EBF0F8",
           "zerolinewidth": 2
          }
         }
        },
        "title": {
         "text": "Weights without max constraint"
        },
        "xaxis": {
         "anchor": "y",
         "autorange": true,
         "domain": [
          0,
          1
         ],
         "range": [
          "2022-03-04",
          "2022-09-29"
         ],
         "showspikes": true,
         "spikecolor": "#999999",
         "spikedash": "dot",
         "spikemode": "across",
         "spikethickness": 2,
         "title": {
          "text": "date"
         },
         "type": "date"
        },
        "yaxis": {
         "anchor": "x",
         "autorange": true,
         "domain": [
          0,
          1
         ],
         "range": [
          -0.05238083160520996,
          1.0433304381482094
         ],
         "tickformat": ".2%",
         "title": {
          "text": "weight, %"
         },
         "type": "linear"
        }
       }
      },
      "image/png": "[encoded data removed]",
      "text/html": [
       "<div>                            <div id=\"bf7983ce-cc0e-4bd2-97fc-09db4b34f609\" class=\"plotly-graph-div\" style=\"height:525px; width:100%;\"></div>            <script type=\"text/javascript\">                require([\"plotly\"], function(Plotly) {                    window.PLOTLYENV=window.PLOTLYENV || {};                                    if (document.getElementById(\"bf7983ce-cc0e-4bd2-97fc-09db4b34f609\")) {                    Plotly.newPlot(                        \"bf7983ce-cc0e-4bd2-97fc-09db4b34f609\",                        [{\"hovertemplate\":\"%{y}\",\"legendgroup\":\"avalanche-2\",\"line\":{\"color\":\"#636efa\",\"dash\":\"solid\"},\"marker\":{\"symbol\":\"circle\"},\"mode\":\"lines\",\"name\":\"avalanche-2\",\"orientation\":\"v\",\"showlegend\":true,\"x\":[\"2022-03-04T00:00:00\",\"2022-03-05T00:00:00\",\"2022-03-06T00:00:00\",\"2022-03-07T00:00:00\",\"2022-03-08T00:00:00\",\"2022-03-09T00:00:00\",\"2022-03-10T00:00:00\",\"2022-03-11T00:00:00\",\"2022-03-12T00:00:00\",\"2022-03-13T00:00:00\",\"2022-03-14T00:00:00\",\"2022-03-15T00:00:00\",\"2022-03-16T00:00:00\",\"2022-03-17T00:00:00\",\"2022-03-18T00:00:00\",\"2022-03-19T00:00:00\",\"2022-03-20T00:00:00\",\"2022-03-21T00:00:00\",\"2022-03-22T00:00:00\",\"2022-03-23T00:00:00\",\"2022-03-24T00:00:00\",\"2022-03-25T00:00:00\",\"2022-03-26T00:00:00\",\"2022-03-27T00:00:00\",\"2022-03-28T00:00:00\",\"2022-03-29T00:00:00\",\"2022-03-30T00:00:00\",\"2022-03-31T00:00:00\",\"2022-04-01T00:00:00\",\"2022-04-02T00:00:00\",\"2022-04-03T00:00:00\",\"2022-04-04T00:00:00\",\"2022-04-05T00:00:00\",\"2022-04-06T00:00:00\",\"2022-04-07T00:00:00\",\"2022-04-08T00:00:00\",\"2022-04-09T00:00:00\",\"2022-04-10T00:00:00\",\"2022-04-11T00:00:00\",\"2022-04-12T00:00:00\",\"2022-04-13T00:00:00\",\"2022-04-14T00:00:00\",\"2022-04-15T00:00:00\",\"2022-04-16T00:00:00\",\"2022-04-17T00:00:00\",\"2022-04-18T00:00:00\",\"2022-04-19T00:00:00\",\"2022-04-20T00:00:00\",\"2022-04-21T00:00:00\",\"2022-04-22T00:00:00\",\"2022-04-23T00:00:00\",\"2022-04-24T00:00:00\",\"2022-04-25T00:00:00\",\"2022-04-26T00:00:00\",\"2022-04-27T00:00:00\",\"2022-04-28T00:00:00\",\"2022-04-29T00:00:00\",\"2022-04-30T00:00:00\",\"2022-05-01T00:00:00\",\"2022-05-02T00:00:00\",\"2022-05-03T00:00:00\",\"2022-05-04T00:00:00\",\"2022-05-05T00:00:00\",\"2022-05-06T00:00:00\",\"2022-05-07T00:00:00\",\"2022-05-08T00:00:00\",\"2022-05-09T00:00:00\",\"2022-05-10T00:00:00\",\"2022-05-11T00:00:00\",\"2022-05-12T00:00:00\",\"2022-05-13T00:00:00\",\"2022-05-14T00:00:00\",\"2022-05-15T00:00:00\",\"2022-05-16T00:00:00\",\"2022-05-17T00:00:00\",\"2022-05-18T00:00:00\",\"2022-05-19T00:00:00\",\"2022-05-20T00:00:00\",\"2022-05-21T00:00:00\",\"2022-05-22T00:00:00\",\"2022-05-23T00:00:00\",\"2022-05-24T00:00:00\",\"2022-05-25T00:00:00\",\"2022-05-26T00:00:00\",\"2022-05-27T00:00:00\",\"2022-05-28T00:00:00\",\"2022-05-29T00:00:00\",\"2022-05-30T00:00:00\",\"2022-05-31T00:00:00\",\"2022-06-01T00:00:00\",\"2022-06-02T00:00:00\",\"2022-06-03T00:00:00\",\"2022-06-04T00:00:00\",\"2022-06-05T00:00:00\",\"2022-06-06T00:00:00\",\"2022-06-07T00:00:00\",\"2022-06-08T00:00:00\",\"2022-06-09T00:00:00\",\"2022-06-10T00:00:00\",\"2022-06-11T00:00:00\",\"2022-06-12T00:00:00\",\"2022-06-13T00:00:00\",\"2022-06-14T00:00:00\",\"2022-06-15T00:00:00\",\"2022-06-16T00:00:00\",\"2022-06-17T00:00:00\",\"2022-06-18T00:00:00\",\"2022-06-19T00:00:00\",\"2022-06-20T00:00:00\",\"2022-06-21T00:00:00\",\"2022-06-22T00:00:00\",\"2022-06-23T00:00:00\",\"2022-06-24T00:00:00\",\"2022-06-25T00:00:00\",\"2022-06-26T00:00:00\",\"2022-06-27T00:00:00\",\"2022-06-28T00:00:00\",\"2022-06-29T00:00:00\",\"2022-06-30T00:00:00\",\"2022-07-01T00:00:00\",\"2022-07-02T00:00:00\",\"2022-07-03T00:00:00\",\"2022-07-04T00:00:00\",\"2022-07-05T00:00:00\",\"2022-07-06T00:00:00\",\"2022-07-07T00:00:00\",\"2022-07-08T00:00:00\",\"2022-07-09T00:00:00\",\"2022-07-10T00:00:00\",\"2022-07-11T00:00:00\",\"2022-07-12T00:00:00\",\"2022-07-13T00:00:00\",\"2022-07-14T00:00:00\",\"2022-07-15T00:00:00\",\"2022-07-16T00:00:00\",\"2022-07-17T00:00:00\",\"2022-07-18T00:00:00\",\"2022-07-19T00:00:00\",\"2022-07-20T00:00:00\",\"2022-07-21T00:00:00\",\"2022-07-22T00:00:00\",\"2022-07-23T00:00:00\",\"2022-07-24T00:00:00\",\"2022-07-25T00:00:00\",\"2022-07-26T00:00:00\",\"2022-07-27T00:00:00\",\"2022-07-28T00:00:00\",\"2022-07-29T00:00:00\",\"2022-07-30T00:00:00\",\"2022-07-31T00:00:00\",\"2022-08-01T00:00:00\",\"2022-08-02T00:00:00\",\"2022-08-03T00:00:00\",\"2022-08-04T00:00:00\",\"2022-08-05T00:00:00\",\"2022-08-06T00:00:00\",\"2022-08-07T00:00:00\",\"2022-08-08T00:00:00\",\"2022-08-09T00:00:00\",\"2022-08-10T00:00:00\",\"2022-08-11T00:00:00\",\"2022-08-12T00:00:00\",\"2022-08-13T00:00:00\",\"2022-08-14T00:00:00\",\"2022-08-15T00:00:00\",\"2022-08-16T00:00:00\",\"2022-08-17T00:00:00\",\"2022-08-18T00:00:00\",\"2022-08-19T00:00:00\",\"2022-08-20T00:00:00\",\"2022-08-21T00:00:00\",\"2022-08-22T00:00:00\",\"2022-08-23T00:00:00\",\"2022-08-24T00:00:00\",\"2022-08-25T00:00:00\",\"2022-08-26T00:00:00\",\"2022-08-27T00:00:00\",\"2022-08-28T00:00:00\",\"2022-08-29T00:00:00\",\"2022-08-30T00:00:00\",\"2022-08-31T00:00:00\",\"2022-09-01T00:00:00\",\"2022-09-02T00:00:00\",\"2022-09-03T00:00:00\",\"2022-09-04T00:00:00\",\"2022-09-05T00:00:00\",\"2022-09-06T00:00:00\",\"2022-09-07T00:00:00\",\"2022-09-08T00:00:00\",\"2022-09-09T00:00:00\",\"2022-09-10T00:00:00\",\"2022-09-11T00:00:00\",\"2022-09-12T00:00:00\",\"2022-09-13T00:00:00\",\"2022-09-14T00:00:00\",\"2022-09-15T00:00:00\",\"2022-09-16T00:00:00\",\"2022-09-17T00:00:00\",\"2022-09-18T00:00:00\",\"2022-09-19T00:00:00\",\"2022-09-20T00:00:00\",\"2022-09-21T00:00:00\",\"2022-09-22T00:00:00\",\"2022-09-23T00:00:00\",\"2022-09-24T00:00:00\",\"2022-09-25T00:00:00\",\"2022-09-26T00:00:00\",\"2022-09-27T00:00:00\",\"2022-09-28T00:00:00\",\"2022-09-29T00:00:00\"],\"xaxis\":\"x\",\"y\":[0.985636959529653,0.9865666170394553,0.9865911504937943,0.9862871462458589,0.9866770869791147,0.9870552036344037,0.9873108462925738,0.9870895226292673,0.9876050263616478,0.9872389309459548,0.987899210607969,0.9877596100435871,0.9879404970726826,0.987783025499176,0.9879391359794205,0.9882513855776864,0.98848173978543,0.988269921870745,0.9879661692813665,0.9874276977499714,0.9874540937772658,0.9875156998762187,0.9874927091498251,0.9874178698903554,0.9874626024662913,0.986863441673317,0.987059968734005,0.9857453251955685,0.9861284085143132,0.9855015195044798,0.9851982078292637,0.9843775206334914,0.9843925971625862,0.983536245126631,0.9843359663380828,0.9835819346698687,0.9840987054773602,0.9834467584465856,0.9834459559929454,0.9840620391022377,0.9836813718489893,0.9835131953467442,0.9835321679459029,0.9837200379779747,0.9841579595007915,0.9842282057999635,0.9843115911722844,0.9832801964773582,0.9832576983776637,0.9832545875773022,0.9836038350265802,0.9840990432382428,0.9841217095071033,0.9837695957242153,0.9842186749317345,0.9842195537553718,0.9843556330042832,0.9849138588843658,0.9848328231006743,0.9846639932613596,0.9843110450604532,0.9843391482638525,0.9842024672285457,0.9845646219609463,0.9847544811109531,0.9848950368611145,0.9837325471381981,0.9847418445538089,0.9859030737722964,0.9885448746605383,0.9865057737929407,0.9851959903079208,0.9858967554189421,0.9853725593770487,0.9851704093736208,0.9847238239171275,0.9849162582752741,0.9829877483284595,0.9835922710753039,0.9837412306301204,0.983301180134904,0.9835387698473748,0.9829667193666118,0.9820620170401214,0.9818136026596646,0.9823830533993111,0.982777184348982,0.9824192159105986,0.982551505576083,0.9824938529943822,0.9829559595782154,0.9837037000921673,0.9836695777943473,0.9839794727190422,0.9840126354141551,0.9845489418703026,0.9843216774056902,0.9839372394834606,0.9840833175209199,0.9841579731395607,0.9831191942447812,0.9814397257949286,0.9816776230527762,0.9823076749226138,0.9823313928319934,0.9825320168086779,0.981996000482788,0.9817665259891996,0.9814283939676678,0.9815114826226488,0.9808486650822003,0.9810356149504611,0.9815194118747079,0.9807195334897449,0.9808242441735499,0.9802587869329321,0.9793412200181669,0.9798404699886569,0.9795057174873627,0.9799729720055351,0.9785536725403283,0.9781858331170605,0.9781731930975999,0.97879948384585,0.9789595695180962,0.9782523276804309,0.9785548422044473,0.9790751609657875,0.9787242361042152,0.9794211690124912,0.9790188888587951,0.978368771513859,0.9763739865938624,0.9782441028660902,0.9783954812073182,0.9788154074323459,0.9784687133674937,0.9779939356791437,0.9788784931235822,0.9776707877794341,0.9774476228147522,0.977881087793105,0.9771138030988897,0.9778403563960836,0.9765542356835424,0.9767607036318581,0.9769672329522308,0.9777527427680408,0.9771949959546061,0.9780771178448565,0.9780548268545102,0.978083615623419,0.978116654537796,0.9780190404612806,0.9784811716358586,0.9782892655911058,0.9795335716267863,0.9797447337724696,0.9791638406205417,0.9795898567323491,0.9804277328754083,0.9804420638364812,0.9803187754294268,0.9806549736809267,0.9808803756060466,0.9812855157563101,0.9811107832839974,0.9813262629564199,0.981062939475005,0.9805562358353666,0.9801082509978694,0.979697641431633,0.9801346254958572,0.9806276969240006,0.980473769299076,0.9806436574690531,0.9808228852427899,0.9804323175823967,0.9806898026690792,0.9803097197222672,0.9805955331237046,0.9812553438821395,0.9813189000154234,0.980835855304553,0.9809449041517861,0.9808582724611223,0.9814581172746933,0.9816058268371483,0.9814638240315113,0.98161790504446,0.981750302019102,0.9814184397309554,0.9818153783926166,0.9827509006438775,0.9825201687245102,0.9820365906437758,0.9820813259211347,0.9811403442528401,0.9801193213276048,0.9805140042960815,0.9805276001628829,0.9802730225799721,0.9804431590943087,0.981055457415731,0.9812967722172721,0.9809066890060547,0.9804747642827857,0.9802371005791976,0.9805575030356204,0.9806368633419841],\"yaxis\":\"y\",\"type\":\"scatter\"},{\"hovertemplate\":\"%{y}\",\"legendgroup\":\"joe\",\"line\":{\"color\":\"#EF553B\",\"dash\":\"solid\"},\"marker\":{\"symbol\":\"circle\"},\"mode\":\"lines\",\"name\":\"joe\",\"orientation\":\"v\",\"showlegend\":true,\"x\":[\"2022-03-04T00:00:00\",\"2022-03-05T00:00:00\",\"2022-03-06T00:00:00\",\"2022-03-07T00:00:00\",\"2022-03-08T00:00:00\",\"2022-03-09T00:00:00\",\"2022-03-10T00:00:00\",\"2022-03-11T00:00:00\",\"2022-03-12T00:00:00\",\"2022-03-13T00:00:00\",\"2022-03-14T00:00:00\",\"2022-03-15T00:00:00\",\"2022-03-16T00:00:00\",\"2022-03-17T00:00:00\",\"2022-03-18T00:00:00\",\"2022-03-19T00:00:00\",\"2022-03-20T00:00:00\",\"2022-03-21T00:00:00\",\"2022-03-22T00:00:00\",\"2022-03-23T00:00:00\",\"2022-03-24T00:00:00\",\"2022-03-25T00:00:00\",\"2022-03-26T00:00:00\",\"2022-03-27T00:00:00\",\"2022-03-28T00:00:00\",\"2022-03-29T00:00:00\",\"2022-03-30T00:00:00\",\"2022-03-31T00:00:00\",\"2022-04-01T00:00:00\",\"2022-04-02T00:00:00\",\"2022-04-03T00:00:00\",\"2022-04-04T00:00:00\",\"2022-04-05T00:00:00\",\"2022-04-06T00:00:00\",\"2022-04-07T00:00:00\",\"2022-04-08T00:00:00\",\"2022-04-09T00:00:00\",\"2022-04-10T00:00:00\",\"2022-04-11T00:00:00\",\"2022-04-12T00:00:00\",\"2022-04-13T00:00:00\",\"2022-04-14T00:00:00\",\"2022-04-15T00:00:00\",\"2022-04-16T00:00:00\",\"2022-04-17T00:00:00\",\"2022-04-18T00:00:00\",\"2022-04-19T00:00:00\",\"2022-04-20T00:00:00\",\"2022-04-21T00:00:00\",\"2022-04-22T00:00:00\",\"2022-04-23T00:00:00\",\"2022-04-24T00:00:00\",\"2022-04-25T00:00:00\",\"2022-04-26T00:00:00\",\"2022-04-27T00:00:00\",\"2022-04-28T00:00:00\",\"2022-04-29T00:00:00\",\"2022-04-30T00:00:00\",\"2022-05-01T00:00:00\",\"2022-05-02T00:00:00\",\"2022-05-03T00:00:00\",\"2022-05-04T00:00:00\",\"2022-05-05T00:00:00\",\"2022-05-06T00:00:00\",\"2022-05-07T00:00:00\",\"2022-05-08T00:00:00\",\"2022-05-09T00:00:00\",\"2022-05-10T00:00:00\",\"2022-05-11T00:00:00\",\"2022-05-12T00:00:00\",\"2022-05-13T00:00:00\",\"2022-05-14T00:00:00\",\"2022-05-15T00:00:00\",\"2022-05-16T00:00:00\",\"2022-05-17T00:00:00\",\"2022-05-18T00:00:00\",\"2022-05-19T00:00:00\",\"2022-05-20T00:00:00\",\"2022-05-21T00:00:00\",\"2022-05-22T00:00:00\",\"2022-05-23T00:00:00\",\"2022-05-24T00:00:00\",\"2022-05-25T00:00:00\",\"2022-05-26T00:00:00\",\"2022-05-27T00:00:00\",\"2022-05-28T00:00:00\",\"2022-05-29T00:00:00\",\"2022-05-30T00:00:00\",\"2022-05-31T00:00:00\",\"2022-06-01T00:00:00\",\"2022-06-02T00:00:00\",\"2022-06-03T00:00:00\",\"2022-06-04T00:00:00\",\"2022-06-05T00:00:00\",\"2022-06-06T00:00:00\",\"2022-06-07T00:00:00\",\"2022-06-08T00:00:00\",\"2022-06-09T00:00:00\",\"2022-06-10T00:00:00\",\"2022-06-11T00:00:00\",\"2022-06-12T00:00:00\",\"2022-06-13T00:00:00\",\"2022-06-14T00:00:00\",\"2022-06-15T00:00:00\",\"2022-06-16T00:00:00\",\"2022-06-17T00:00:00\",\"2022-06-18T00:00:00\",\"2022-06-19T00:00:00\",\"2022-06-20T00:00:00\",\"2022-06-21T00:00:00\",\"2022-06-22T00:00:00\",\"2022-06-23T00:00:00\",\"2022-06-24T00:00:00\",\"2022-06-25T00:00:00\",\"2022-06-26T00:00:00\",\"2022-06-27T00:00:00\",\"2022-06-28T00:00:00\",\"2022-06-29T00:00:00\",\"2022-06-30T00:00:00\",\"2022-07-01T00:00:00\",\"2022-07-02T00:00:00\",\"2022-07-03T00:00:00\",\"2022-07-04T00:00:00\",\"2022-07-05T00:00:00\",\"2022-07-06T00:00:00\",\"2022-07-07T00:00:00\",\"2022-07-08T00:00:00\",\"2022-07-09T00:00:00\",\"2022-07-10T00:00:00\",\"2022-07-11T00:00:00\",\"2022-07-12T00:00:00\",\"2022-07-13T00:00:00\",\"2022-07-14T00:00:00\",\"2022-07-15T00:00:00\",\"2022-07-16T00:00:00\",\"2022-07-17T00:00:00\",\"2022-07-18T00:00:00\",\"2022-07-19T00:00:00\",\"2022-07-20T00:00:00\",\"2022-07-21T00:00:00\",\"2022-07-22T00:00:00\",\"2022-07-23T00:00:00\",\"2022-07-24T00:00:00\",\"2022-07-25T00:00:00\",\"2022-07-26T00:00:00\",\"2022-07-27T00:00:00\",\"2022-07-28T00:00:00\",\"2022-07-29T00:00:00\",\"2022-07-30T00:00:00\",\"2022-07-31T00:00:00\",\"2022-08-01T00:00:00\",\"2022-08-02T00:00:00\",\"2022-08-03T00:00:00\",\"2022-08-04T00:00:00\",\"2022-08-05T00:00:00\",\"2022-08-06T00:00:00\",\"2022-08-07T00:00:00\",\"2022-08-08T00:00:00\",\"2022-08-09T00:00:00\",\"2022-08-10T00:00:00\",\"2022-08-11T00:00:00\",\"2022-08-12T00:00:00\",\"2022-08-13T00:00:00\",\"2022-08-14T00:00:00\",\"2022-08-15T00:00:00\",\"2022-08-16T00:00:00\",\"2022-08-17T00:00:00\",\"2022-08-18T00:00:00\",\"2022-08-19T00:00:00\",\"2022-08-20T00:00:00\",\"2022-08-21T00:00:00\",\"2022-08-22T00:00:00\",\"2022-08-23T00:00:00\",\"2022-08-24T00:00:00\",\"2022-08-25T00:00:00\",\"2022-08-26T00:00:00\",\"2022-08-27T00:00:00\",\"2022-08-28T00:00:00\",\"2022-08-29T00:00:00\",\"2022-08-30T00:00:00\",\"2022-08-31T00:00:00\",\"2022-09-01T00:00:00\",\"2022-09-02T00:00:00\",\"2022-09-03T00:00:00\",\"2022-09-04T00:00:00\",\"2022-09-05T00:00:00\",\"2022-09-06T00:00:00\",\"2022-09-07T00:00:00\",\"2022-09-08T00:00:00\",\"2022-09-09T00:00:00\",\"2022-09-10T00:00:00\",\"2022-09-11T00:00:00\",\"2022-09-12T00:00:00\",\"2022-09-13T00:00:00\",\"2022-09-14T00:00:00\",\"2022-09-15T00:00:00\",\"2022-09-16T00:00:00\",\"2022-09-17T00:00:00\",\"2022-09-18T00:00:00\",\"2022-09-19T00:00:00\",\"2022-09-20T00:00:00\",\"2022-09-21T00:00:00\",\"2022-09-22T00:00:00\",\"2022-09-23T00:00:00\",\"2022-09-24T00:00:00\",\"2022-09-25T00:00:00\",\"2022-09-26T00:00:00\",\"2022-09-27T00:00:00\",\"2022-09-28T00:00:00\",\"2022-09-29T00:00:00\"],\"xaxis\":\"x\",\"y\":[0.009707163978443782,0.009406307490862152,0.00934090848255672,0.00953375645634341,0.009239881476929938,0.00895751988860132,0.008746578422657802,0.008885665390419507,0.008456606792478939,0.008780181600404054,0.008199841626207674,0.008281105061411583,0.00806950136299276,0.008246118915049543,0.008437951148328356,0.008003399437370051,0.007876828021896461,0.007860980838834271,0.008097076527998268,0.008174493924627439,0.008091961660002775,0.008210925168654029,0.008184324963563389,0.008153510049041999,0.008025583925512891,0.008894615896252733,0.008696598057938355,0.009763187392232024,0.009732583761476038,0.010023399335002892,0.010164920349237393,0.010890569716611103,0.011050025820161414,0.012024505157316985,0.01148574252185528,0.012236662644733791,0.011985594013953745,0.012560476776445298,0.012494215269491935,0.011908179556583435,0.012279895833283823,0.012455265303983675,0.012381769317993207,0.012156503152715808,0.011799903432100838,0.011839579238363382,0.011827596181999639,0.012507383674913582,0.012495325621927638,0.012529637728934815,0.01221640958735749,0.011716120776234268,0.011791868327922523,0.012232168318732941,0.012000212904757713,0.012028485355463412,0.01180768574225066,0.011434822911615378,0.01159775009863367,0.011682914157046682,0.012177153859036912,0.012232589365250408,0.012295499536155951,0.012079283622401025,0.01186459227960083,0.011706541950788114,0.012703900071258,0.01190655775918791,0.01099431663049998,0.00904502222158172,0.011089494324598334,0.012169167470985384,0.011661006794697951,0.011811601764600537,0.012114630569339155,0.012264451558690001,0.012107934545683773,0.013800557319546974,0.01306096309401641,0.01276358657666629,0.013274054022581843,0.013050025245087433,0.013355065538325233,0.013436045273679649,0.013688638621568177,0.013078954241432844,0.012957599739034115,0.01321429195778749,0.013037126549943814,0.012804327955498438,0.012706797953922218,0.012086465339795755,0.011939680013415235,0.0116157375005292,0.011630062824514068,0.011330016008986392,0.011300684384350536,0.011387845494999275,0.011358114093496808,0.011131576233872604,0.011534305342929143,0.011757161404572716,0.011354680058068141,0.011315785518569994,0.011659931513039547,0.011506468140254205,0.011825442531241357,0.01259062342671909,0.01267858704318328,0.012782445495794962,0.013334739971640927,0.0130238897587611,0.01285204138915044,0.014024301315870423,0.014047966845864675,0.014168820570736155,0.013772365834445887,0.013701990328656181,0.01368564839694014,0.013270731545223725,0.01388353511529248,0.014155706975137475,0.014190976257396055,0.013977827304440577,0.013999150101110065,0.014796178629274268,0.014482522658662966,0.013744801018276987,0.013855168230294928,0.013563996691971019,0.01379999241927657,0.014453622577086872,0.016710322402938516,0.014689695013313972,0.014722629514288208,0.01441001287483589,0.014864219849464852,0.015760271289451542,0.014731404087477699,0.01625816208909328,0.016683101340668843,0.016181524991599045,0.016816946264198412,0.016173629013372513,0.016940309539706374,0.01676357431884363,0.016912431585344712,0.015902794658642836,0.015940364900912486,0.01551467040196438,0.015323079780822436,0.015361927987249393,0.015326392955678272,0.015404979299197843,0.01501826644832234,0.015357773152827525,0.01449631687840455,0.014313735309337659,0.014862123469949248,0.014729502706254154,0.013929845279018442,0.014024640801541756,0.013860222306335821,0.013693944182207448,0.013401812198332532,0.012866877933161028,0.012908302562779212,0.012767560434801966,0.012926671077148857,0.013107038332834645,0.013359439340005715,0.01396578352363027,0.013489997150419535,0.013258137811103958,0.013274359536418343,0.013017604501130618,0.01289751457121802,0.013306198520390918,0.012912606590058868,0.013319472510024464,0.01327161836181489,0.012787013849586852,0.012689416550783953,0.012998515797493374,0.013018961164798747,0.012993739971889514,0.012618577686977415,0.012560535926643355,0.012768210679662287,0.0127572202093672,0.012809278820713832,0.012824196527322041,0.012614370304711436,0.012046524502768339,0.012131722095098102,0.012422422483802955,0.012372096308359101,0.013307068796582913,0.014099908441335999,0.013731112054649004,0.01373621864917212,0.013845676482685724,0.013701322336628798,0.01332693668319839,0.013223000630763706,0.013605831030889973,0.014020207577948307,0.014285372806749339,0.014094141374992413,0.01410777817740942],\"yaxis\":\"y\",\"type\":\"scatter\"},{\"hovertemplate\":\"%{y}\",\"legendgroup\":\"benqi\",\"line\":{\"color\":\"#00cc96\",\"dash\":\"solid\"},\"marker\":{\"symbol\":\"circle\"},\"mode\":\"lines\",\"name\":\"benqi\",\"orientation\":\"v\",\"showlegend\":true,\"x\":[\"2022-03-04T00:00:00\",\"2022-03-05T00:00:00\",\"2022-03-06T00:00:00\",\"2022-03-07T00:00:00\",\"2022-03-08T00:00:00\",\"2022-03-09T00:00:00\",\"2022-03-10T00:00:00\",\"2022-03-11T00:00:00\",\"2022-03-12T00:00:00\",\"2022-03-13T00:00:00\",\"2022-03-14T00:00:00\",\"2022-03-15T00:00:00\",\"2022-03-16T00:00:00\",\"2022-03-17T00:00:00\",\"2022-03-18T00:00:00\",\"2022-03-19T00:00:00\",\"2022-03-20T00:00:00\",\"2022-03-21T00:00:00\",\"2022-03-22T00:00:00\",\"2022-03-23T00:00:00\",\"2022-03-24T00:00:00\",\"2022-03-25T00:00:00\",\"2022-03-26T00:00:00\",\"2022-03-27T00:00:00\",\"2022-03-28T00:00:00\",\"2022-03-29T00:00:00\",\"2022-03-30T00:00:00\",\"2022-03-31T00:00:00\",\"2022-04-01T00:00:00\",\"2022-04-02T00:00:00\",\"2022-04-03T00:00:00\",\"2022-04-04T00:00:00\",\"2022-04-05T00:00:00\",\"2022-04-06T00:00:00\",\"2022-04-07T00:00:00\",\"2022-04-08T00:00:00\",\"2022-04-09T00:00:00\",\"2022-04-10T00:00:00\",\"2022-04-11T00:00:00\",\"2022-04-12T00:00:00\",\"2022-04-13T00:00:00\",\"2022-04-14T00:00:00\",\"2022-04-15T00:00:00\",\"2022-04-16T00:00:00\",\"2022-04-17T00:00:00\",\"2022-04-18T00:00:00\",\"2022-04-19T00:00:00\",\"2022-04-20T00:00:00\",\"2022-04-21T00:00:00\",\"2022-04-22T00:00:00\",\"2022-04-23T00:00:00\",\"2022-04-24T00:00:00\",\"2022-04-25T00:00:00\",\"2022-04-26T00:00:00\",\"2022-04-27T00:00:00\",\"2022-04-28T00:00:00\",\"2022-04-29T00:00:00\",\"2022-04-30T00:00:00\",\"2022-05-01T00:00:00\",\"2022-05-02T00:00:00\",\"2022-05-03T00:00:00\",\"2022-05-04T00:00:00\",\"2022-05-05T00:00:00\",\"2022-05-06T00:00:00\",\"2022-05-07T00:00:00\",\"2022-05-08T00:00:00\",\"2022-05-09T00:00:00\",\"2022-05-10T00:00:00\",\"2022-05-11T00:00:00\",\"2022-05-12T00:00:00\",\"2022-05-13T00:00:00\",\"2022-05-14T00:00:00\",\"2022-05-15T00:00:00\",\"2022-05-16T00:00:00\",\"2022-05-17T00:00:00\",\"2022-05-18T00:00:00\",\"2022-05-19T00:00:00\",\"2022-05-20T00:00:00\",\"2022-05-21T00:00:00\",\"2022-05-22T00:00:00\",\"2022-05-23T00:00:00\",\"2022-05-24T00:00:00\",\"2022-05-25T00:00:00\",\"2022-05-26T00:00:00\",\"2022-05-27T00:00:00\",\"2022-05-28T00:00:00\",\"2022-05-29T00:00:00\",\"2022-05-30T00:00:00\",\"2022-05-31T00:00:00\",\"2022-06-01T00:00:00\",\"2022-06-02T00:00:00\",\"2022-06-03T00:00:00\",\"2022-06-04T00:00:00\",\"2022-06-05T00:00:00\",\"2022-06-06T00:00:00\",\"2022-06-07T00:00:00\",\"2022-06-08T00:00:00\",\"2022-06-09T00:00:00\",\"2022-06-10T00:00:00\",\"2022-06-11T00:00:00\",\"2022-06-12T00:00:00\",\"2022-06-13T00:00:00\",\"2022-06-14T00:00:00\",\"2022-06-15T00:00:00\",\"2022-06-16T00:00:00\",\"2022-06-17T00:00:00\",\"2022-06-18T00:00:00\",\"2022-06-19T00:00:00\",\"2022-06-20T00:00:00\",\"2022-06-21T00:00:00\",\"2022-06-22T00:00:00\",\"2022-06-23T00:00:00\",\"2022-06-24T00:00:00\",\"2022-06-25T00:00:00\",\"2022-06-26T00:00:00\",\"2022-06-27T00:00:00\",\"2022-06-28T00:00:00\",\"2022-06-29T00:00:00\",\"2022-06-30T00:00:00\",\"2022-07-01T00:00:00\",\"2022-07-02T00:00:00\",\"2022-07-03T00:00:00\",\"2022-07-04T00:00:00\",\"2022-07-05T00:00:00\",\"2022-07-06T00:00:00\",\"2022-07-07T00:00:00\",\"2022-07-08T00:00:00\",\"2022-07-09T00:00:00\",\"2022-07-10T00:00:00\",\"2022-07-11T00:00:00\",\"2022-07-12T00:00:00\",\"2022-07-13T00:00:00\",\"2022-07-14T00:00:00\",\"2022-07-15T00:00:00\",\"2022-07-16T00:00:00\",\"2022-07-17T00:00:00\",\"2022-07-18T00:00:00\",\"2022-07-19T00:00:00\",\"2022-07-20T00:00:00\",\"2022-07-21T00:00:00\",\"2022-07-22T00:00:00\",\"2022-07-23T00:00:00\",\"2022-07-24T00:00:00\",\"2022-07-25T00:00:00\",\"2022-07-26T00:00:00\",\"2022-07-27T00:00:00\",\"2022-07-28T00:00:00\",\"2022-07-29T00:00:00\",\"2022-07-30T00:00:00\",\"2022-07-31T00:00:00\",\"2022-08-01T00:00:00\",\"2022-08-02T00:00:00\",\"2022-08-03T00:00:00\",\"2022-08-04T00:00:00\",\"2022-08-05T00:00:00\",\"2022-08-06T00:00:00\",\"2022-08-07T00:00:00\",\"2022-08-08T00:00:00\",\"2022-08-09T00:00:00\",\"2022-08-10T00:00:00\",\"2022-08-11T00:00:00\",\"2022-08-12T00:00:00\",\"2022-08-13T00:00:00\",\"2022-08-14T00:00:00\",\"2022-08-15T00:00:00\",\"2022-08-16T00:00:00\",\"2022-08-17T00:00:00\",\"2022-08-18T00:00:00\",\"2022-08-19T00:00:00\",\"2022-08-20T00:00:00\",\"2022-08-21T00:00:00\",\"2022-08-22T00:00:00\",\"2022-08-23T00:00:00\",\"2022-08-24T00:00:00\",\"2022-08-25T00:00:00\",\"2022-08-26T00:00:00\",\"2022-08-27T00:00:00\",\"2022-08-28T00:00:00\",\"2022-08-29T00:00:00\",\"2022-08-30T00:00:00\",\"2022-08-31T00:00:00\",\"2022-09-01T00:00:00\",\"2022-09-02T00:00:00\",\"2022-09-03T00:00:00\",\"2022-09-04T00:00:00\",\"2022-09-05T00:00:00\",\"2022-09-06T00:00:00\",\"2022-09-07T00:00:00\",\"2022-09-08T00:00:00\",\"2022-09-09T00:00:00\",\"2022-09-10T00:00:00\",\"2022-09-11T00:00:00\",\"2022-09-12T00:00:00\",\"2022-09-13T00:00:00\",\"2022-09-14T00:00:00\",\"2022-09-15T00:00:00\",\"2022-09-16T00:00:00\",\"2022-09-17T00:00:00\",\"2022-09-18T00:00:00\",\"2022-09-19T00:00:00\",\"2022-09-20T00:00:00\",\"2022-09-21T00:00:00\",\"2022-09-22T00:00:00\",\"2022-09-23T00:00:00\",\"2022-09-24T00:00:00\",\"2022-09-25T00:00:00\",\"2022-09-26T00:00:00\",\"2022-09-27T00:00:00\",\"2022-09-28T00:00:00\",\"2022-09-29T00:00:00\"],\"xaxis\":\"x\",\"y\":[0.00465587649190316,0.004027075469682695,0.004067941023648963,0.004179097297797485,0.004083031543955226,0.003987276476995134,0.00394257528476836,0.004024811980313399,0.003938366845873311,0.003980887453641018,0.00390094776582329,0.003959284895001271,0.003990001564324725,0.003970855585774577,0.003622912872251194,0.003745214984943469,0.0036414321926735173,0.0038690972904206864,0.003936754190635197,0.004397808325401142,0.004453944562731532,0.0042733749551271795,0.0043229658866115765,0.004428620060602467,0.004511813608195984,0.004241942430430279,0.004243433208056543,0.004491487412199426,0.004139007724210675,0.004475081160517343,0.0046368718214988254,0.004731909649897578,0.004557377017252371,0.004439249716052022,0.0041782911400618595,0.004181402685397579,0.003915700508686083,0.0039927647769690995,0.004059828737562735,0.004029781341178988,0.004038732317726972,0.004031539349272018,0.004086062736103749,0.004123458869309515,0.004042137067107573,0.003932214961673097,0.0038608126457158887,0.0042124198477282715,0.004246976000408667,0.004215774693762986,0.004179755386062395,0.004184835985522876,0.004086422164974276,0.0039982359570517895,0.0037811121635078155,0.0037519608891647574,0.0038366812534660353,0.0036513182040188072,0.0035694268006919412,0.0036530925815936293,0.0035118010805098737,0.0034282623708970575,0.003502033235298258,0.0033560944166526607,0.0033809266094461266,0.0033984211880973545,0.0035635527905437643,0.0033515976870032646,0.0031026095972036833,0.0024101031178798854,0.002404731882461002,0.0026348422210937133,0.0024422377863599527,0.002815838858350746,0.002714960057040155,0.00301172452418241,0.0029758071790421223,0.0032116943519934493,0.0033467658306797522,0.003495182793213371,0.0034247658425143224,0.0034112049075379143,0.003678215095062866,0.004501937686198916,0.004497758718767231,0.004537992359256135,0.004265215911983882,0.004366492131613993,0.004411367873973254,0.004701819050119377,0.004337242467862546,0.004209834568036844,0.004390742192237508,0.004404789780428488,0.004357301761330839,0.0041210421207109995,0.004377638209959326,0.004674915021540075,0.004558568385583211,0.004710450626566789,0.005346500412289729,0.006803112800498791,0.006967696889155878,0.006376539558816106,0.006008675654967123,0.005961515051067912,0.00617855698597065,0.005642850584081337,0.005893018989148973,0.005706071881556346,0.005816594946158798,0.005940495290777646,0.005628546736141462,0.005256165194384711,0.005127788980585441,0.005572392496331842,0.006886414147387115,0.006457539682686929,0.0068086341156971195,0.006756296449241131,0.00756279234437924,0.0076584599078020075,0.007635830645004097,0.007222688849709413,0.007041280380793869,0.006951493690294812,0.0069626351368897305,0.007180038015935522,0.007420595665489981,0.007014834295537724,0.00718111872192842,0.00717760590905421,0.006915691003198946,0.007066202120595877,0.00688188927839356,0.006774579692818402,0.0066670667830414304,0.006245793031404685,0.006390102788940085,0.0060710501314726936,0.005869275844578986,0.005937387215295881,0.00606925063691194,0.005986014590543822,0.006505454776751217,0.006475722049298345,0.00612033546242468,0.006344462573316371,0.006864639144481323,0.00640821175317916,0.006622093364667513,0.006554456389331583,0.0065569525065257775,0.0065759802395216425,0.006500561915819078,0.006352961256066588,0.005970111494809234,0.0059415309181926924,0.005974035909509112,0.005680640561396747,0.005642421845573218,0.005533295361976924,0.005821002264237423,0.005651082136865898,0.005717812195620947,0.005847606310528883,0.005980914153223395,0.0059061766087781225,0.006010389447846138,0.00633672583179884,0.00653230966212496,0.006336575044736801,0.006375377353723157,0.006114165264895357,0.006251871164505633,0.006338738029816128,0.0062796001859919785,0.006261483897212461,0.0063975907408619775,0.006370807767708386,0.006132848514480461,0.005957642268273682,0.00599168343379265,0.006165628897953538,0.006036134683415183,0.006147987566988313,0.005923305038329357,0.005833637236208346,0.005767965288826447,0.005624874746172873,0.0054404191601841985,0.005757363741722503,0.005570251302672052,0.0052025748533541215,0.005348109180391584,0.005540986872421285,0.005546577770506125,0.005552586950576844,0.005780770231059216,0.005754883649269684,0.005736181187945137,0.005881300937342254,0.005855518569062623,0.005617605901070641,0.005480227151964224,0.00548747996305545,0.005505028139266064,0.005477526614053189,0.005348355589387159,0.005255358480606345],\"yaxis\":\"y\",\"type\":\"scatter\"}],                        {\"template\":{\"data\":{\"barpolar\":[{\"marker\":{\"line\":{\"color\":\"white\",\"width\":0.5},\"pattern\":{\"fillmode\":\"overlay\",\"size\":10,\"solidity\":0.2}},\"type\":\"barpolar\"}],\"bar\":[{\"error_x\":{\"color\":\"#2a3f5f\"},\"error_y\":{\"color\":\"#2a3f5f\"},\"marker\":{\"line\":{\"color\":\"white\",\"width\":0.5},\"pattern\":{\"fillmode\":\"overlay\",\"size\":10,\"solidity\":0.2}},\"type\":\"bar\"}],\"carpet\":[{\"aaxis\":{\"endlinecolor\":\"#2a3f5f\",\"gridcolor\":\"#C8D4E3\",\"linecolor\":\"#C8D4E3\",\"minorgridcolor\":\"#C8D4E3\",\"startlinecolor\":\"#2a3f5f\"},\"baxis\":{\"endlinecolor\":\"#2a3f5f\",\"gridcolor\":\"#C8D4E3\",\"linecolor\":\"#C8D4E3\",\"minorgridcolor\":\"#C8D4E3\",\"startlinecolor\":\"#2a3f5f\"},\"type\":\"carpet\"}],\"choropleth\":[{\"colorbar\":{\"outlinewidth\":0,\"ticks\":\"\"},\"type\":\"choropleth\"}],\"contourcarpet\":[{\"colorbar\":{\"outlinewidth\":0,\"ticks\":\"\"},\"type\":\"contourcarpet\"}],\"contour\":[{\"colorbar\":{\"outlinewidth\":0,\"ticks\":\"\"},\"colorscale\":[[0.0,\"#0d0887\"],[0.1111111111111111,\"#46039f\"],[0.2222222222222222,\"#7201a8\"],[0.3333333333333333,\"#9c179e\"],[0.4444444444444444,\"#bd3786\"],[0.5555555555555556,\"#d8576b\"],[0.6666666666666666,\"#ed7953\"],[0.7777777777777778,\"#fb9f3a\"],[0.8888888888888888,\"#fdca26\"],[1.0,\"#f0f921\"]],\"type\":\"contour\"}],\"heatmapgl\":[{\"colorbar\":{\"outlinewidth\":0,\"ticks\":\"\"},\"colorscale\":[[0.0,\"#0d0887\"],[0.1111111111111111,\"#46039f\"],[0.2222222222222222,\"#7201a8\"],[0.3333333333333333,\"#9c179e\"],[0.4444444444444444,\"#bd3786\"],[0.5555555555555556,\"#d8576b\"],[0.6666666666666666,\"#ed7953\"],[0.7777777777777778,\"#fb9f3a\"],[0.8888888888888888,\"#fdca26\"],[1.0,\"#f0f921\"]],\"type\":\"heatmapgl\"}],\"heatmap\":[{\"colorbar\":{\"outlinewidth\":0,\"ticks\":\"\"},\"colorscale\":[[0.0,\"#0d0887\"],[0.1111111111111111,\"#46039f\"],[0.2222222222222222,\"#7201a8\"],[0.3333333333333333,\"#9c179e\"],[0.4444444444444444,\"#bd3786\"],[0.5555555555555556,\"#d8576b\"],[0.6666666666666666,\"#ed7953\"],[0.7777777777777778,\"#fb9f3a\"],[0.8888888888888888,\"#fdca26\"],[1.0,\"#f0f921\"]],\"type\":\"heatmap\"}],\"histogram2dcontour\":[{\"colorbar\":{\"outlinewidth\":0,\"ticks\":\"\"},\"colorscale\":[[0.0,\"#0d0887\"],[0.1111111111111111,\"#46039f\"],[0.2222222222222222,\"#7201a8\"],[0.3333333333333333,\"#9c179e\"],[0.4444444444444444,\"#bd3786\"],[0.5555555555555556,\"#d8576b\"],[0.6666666666666666,\"#ed7953\"],[0.7777777777777778,\"#fb9f3a\"],[0.8888888888888888,\"#fdca26\"],[1.0,\"#f0f921\"]],\"type\":\"histogram2dcontour\"}],\"histogram2d\":[{\"colorbar\":{\"outlinewidth\":0,\"ticks\":\"\"},\"colorscale\":[[0.0,\"#0d0887\"],[0.1111111111111111,\"#46039f\"],[0.2222222222222222,\"#7201a8\"],[0.3333333333333333,\"#9c179e\"],[0.4444444444444444,\"#bd3786\"],[0.5555555555555556,\"#d8576b\"],[0.6666666666666666,\"#ed7953\"],[0.7777777777777778,\"#fb9f3a\"],[0.8888888888888888,\"#fdca26\"],[1.0,\"#f0f921\"]],\"type\":\"histogram2d\"}],\"histogram\":[{\"marker\":{\"pattern\":{\"fillmode\":\"overlay\",\"size\":10,\"solidity\":0.2}},\"type\":\"histogram\"}],\"mesh3d\":[{\"colorbar\":{\"outlinewidth\":0,\"ticks\":\"\"},\"type\":\"mesh3d\"}],\"parcoords\":[{\"line\":{\"colorbar\":{\"outlinewidth\":0,\"ticks\":\"\"}},\"type\":\"parcoords\"}],\"pie\":[{\"automargin\":true,\"type\":\"pie\"}],\"scatter3d\":[{\"line\":{\"colorbar\":{\"outlinewidth\":0,\"ticks\":\"\"}},\"marker\":{\"colorbar\":{\"outlinewidth\":0,\"ticks\":\"\"}},\"type\":\"scatter3d\"}],\"scattercarpet\":[{\"marker\":{\"colorbar\":{\"outlinewidth\":0,\"ticks\":\"\"}},\"type\":\"scattercarpet\"}],\"scattergeo\":[{\"marker\":{\"colorbar\":{\"outlinewidth\":0,\"ticks\":\"\"}},\"type\":\"scattergeo\"}],\"scattergl\":[{\"marker\":{\"colorbar\":{\"outlinewidth\":0,\"ticks\":\"\"}},\"type\":\"scattergl\"}],\"scattermapbox\":[{\"marker\":{\"colorbar\":{\"outlinewidth\":0,\"ticks\":\"\"}},\"type\":\"scattermapbox\"}],\"scatterpolargl\":[{\"marker\":{\"colorbar\":{\"outlinewidth\":0,\"ticks\":\"\"}},\"type\":\"scatterpolargl\"}],\"scatterpolar\":[{\"marker\":{\"colorbar\":{\"outlinewidth\":0,\"ticks\":\"\"}},\"type\":\"scatterpolar\"}],\"scatter\":[{\"fillpattern\":{\"fillmode\":\"overlay\",\"size\":10,\"solidity\":0.2},\"type\":\"scatter\"}],\"scatterternary\":[{\"marker\":{\"colorbar\":{\"outlinewidth\":0,\"ticks\":\"\"}},\"type\":\"scatterternary\"}],\"surface\":[{\"colorbar\":{\"outlinewidth\":0,\"ticks\":\"\"},\"colorscale\":[[0.0,\"#0d0887\"],[0.1111111111111111,\"#46039f\"],[0.2222222222222222,\"#7201a8\"],[0.3333333333333333,\"#9c179e\"],[0.4444444444444444,\"#bd3786\"],[0.5555555555555556,\"#d8576b\"],[0.6666666666666666,\"#ed7953\"],[0.7777777777777778,\"#fb9f3a\"],[0.8888888888888888,\"#fdca26\"],[1.0,\"#f0f921\"]],\"type\":\"surface\"}],\"table\":[{\"cells\":{\"fill\":{\"color\":\"#EBF0F8\"},\"line\":{\"color\":\"white\"}},\"header\":{\"fill\":{\"color\":\"#C8D4E3\"},\"line\":{\"color\":\"white\"}},\"type\":\"table\"}]},\"layout\":{\"annotationdefaults\":{\"arrowcolor\":\"#2a3f5f\",\"arrowhead\":0,\"arrowwidth\":1},\"autotypenumbers\":\"strict\",\"coloraxis\":{\"colorbar\":{\"outlinewidth\":0,\"ticks\":\"\"}},\"colorscale\":{\"diverging\":[[0,\"#8e0152\"],[0.1,\"#c51b7d\"],[0.2,\"#de77ae\"],[0.3,\"#f1b6da\"],[0.4,\"#fde0ef\"],[0.5,\"#f7f7f7\"],[0.6,\"#e6f5d0\"],[0.7,\"#b8e186\"],[0.8,\"#7fbc41\"],[0.9,\"#4d9221\"],[1,\"#276419\"]],\"sequential\":[[0.0,\"#0d0887\"],[0.1111111111111111,\"#46039f\"],[0.2222222222222222,\"#7201a8\"],[0.3333333333333333,\"#9c179e\"],[0.4444444444444444,\"#bd3786\"],[0.5555555555555556,\"#d8576b\"],[0.6666666666666666,\"#ed7953\"],[0.7777777777777778,\"#fb9f3a\"],[0.8888888888888888,\"#fdca26\"],[1.0,\"#f0f921\"]],\"sequentialminus\":[[0.0,\"#0d0887\"],[0.1111111111111111,\"#46039f\"],[0.2222222222222222,\"#7201a8\"],[0.3333333333333333,\"#9c179e\"],[0.4444444444444444,\"#bd3786\"],[0.5555555555555556,\"#d8576b\"],[0.6666666666666666,\"#ed7953\"],[0.7777777777777778,\"#fb9f3a\"],[0.8888888888888888,\"#fdca26\"],[1.0,\"#f0f921\"]]},\"colorway\":[\"#636efa\",\"#EF553B\",\"#00cc96\",\"#ab63fa\",\"#FFA15A\",\"#19d3f3\",\"#FF6692\",\"#B6E880\",\"#FF97FF\",\"#FECB52\"],\"font\":{\"color\":\"#2a3f5f\"},\"geo\":{\"bgcolor\":\"white\",\"lakecolor\":\"white\",\"landcolor\":\"white\",\"showlakes\":true,\"showland\":true,\"subunitcolor\":\"#C8D4E3\"},\"hoverlabel\":{\"align\":\"left\"},\"hovermode\":\"closest\",\"mapbox\":{\"style\":\"light\"},\"paper_bgcolor\":\"white\",\"plot_bgcolor\":\"white\",\"polar\":{\"angularaxis\":{\"gridcolor\":\"#EBF0F8\",\"linecolor\":\"#EBF0F8\",\"ticks\":\"\"},\"bgcolor\":\"white\",\"radialaxis\":{\"gridcolor\":\"#EBF0F8\",\"linecolor\":\"#EBF0F8\",\"ticks\":\"\"}},\"scene\":{\"xaxis\":{\"backgroundcolor\":\"white\",\"gridcolor\":\"#DFE8F3\",\"gridwidth\":2,\"linecolor\":\"#EBF0F8\",\"showbackground\":true,\"ticks\":\"\",\"zerolinecolor\":\"#EBF0F8\"},\"yaxis\":{\"backgroundcolor\":\"white\",\"gridcolor\":\"#DFE8F3\",\"gridwidth\":2,\"linecolor\":\"#EBF0F8\",\"showbackground\":true,\"ticks\":\"\",\"zerolinecolor\":\"#EBF0F8\"},\"zaxis\":{\"backgroundcolor\":\"white\",\"gridcolor\":\"#DFE8F3\",\"gridwidth\":2,\"linecolor\":\"#EBF0F8\",\"showbackground\":true,\"ticks\":\"\",\"zerolinecolor\":\"#EBF0F8\"}},\"shapedefaults\":{\"line\":{\"color\":\"#2a3f5f\"}},\"ternary\":{\"aaxis\":{\"gridcolor\":\"#DFE8F3\",\"linecolor\":\"#A2B1C6\",\"ticks\":\"\"},\"baxis\":{\"gridcolor\":\"#DFE8F3\",\"linecolor\":\"#A2B1C6\",\"ticks\":\"\"},\"bgcolor\":\"white\",\"caxis\":{\"gridcolor\":\"#DFE8F3\",\"linecolor\":\"#A2B1C6\",\"ticks\":\"\"}},\"title\":{\"x\":0.05},\"xaxis\":{\"automargin\":true,\"gridcolor\":\"#EBF0F8\",\"linecolor\":\"#EBF0F8\",\"ticks\":\"\",\"title\":{\"standoff\":15},\"zerolinecolor\":\"#EBF0F8\",\"zerolinewidth\":2},\"yaxis\":{\"automargin\":true,\"gridcolor\":\"#EBF0F8\",\"linecolor\":\"#EBF0F8\",\"ticks\":\"\",\"title\":{\"standoff\":15},\"zerolinecolor\":\"#EBF0F8\",\"zerolinewidth\":2}}},\"xaxis\":{\"anchor\":\"y\",\"domain\":[0.0,1.0],\"title\":{\"text\":\"date\"},\"showspikes\":true,\"spikethickness\":2,\"spikedash\":\"dot\",\"spikecolor\":\"#999999\",\"spikemode\":\"across\"},\"yaxis\":{\"anchor\":\"x\",\"domain\":[0.0,1.0],\"title\":{\"text\":\"weight, %\"},\"tickformat\":\".2%\"},\"legend\":{\"title\":{\"text\":\"\"},\"tracegroupgap\":0},\"margin\":{\"t\":60},\"hovermode\":\"x\",\"hoverdistance\":100,\"spikedistance\":1000,\"title\":{\"text\":\"Weights without max constraint\"}},                        {\"responsive\": true}                    ).then(function(){\n",
       "                            \n",
       "var gd = document.getElementById('bf7983ce-cc0e-4bd2-97fc-09db4b34f609');\n",
       "var x = new MutationObserver(function (mutations, observer) {{\n",
       "        var display = window.getComputedStyle(gd).display;\n",
       "        if (!display || display === 'none') {{\n",
       "            console.log([gd, 'removed!']);\n",
       "            Plotly.purge(gd);\n",
       "            observer.disconnect();\n",
       "        }}\n",
       "}});\n",
       "\n",
       "// Listen for the removal of the full notebook cells\n",
       "var notebookContainer = gd.closest('#notebook-container');\n",
       "if (notebookContainer) {{\n",
       "    x.observe(notebookContainer, {childList: true});\n",
       "}}\n",
       "\n",
       "// Listen for the clearing of the current output cell\n",
       "var outputEl = gd.closest('.output');\n",
       "if (outputEl) {{\n",
       "    x.observe(outputEl, {childList: true});\n",
       "}}\n",
       "\n",
       "                        })                };                });            </script>        </div>"
      ]
     },
     "metadata": {},
     "output_type": "display_data"
    }
   ],
   "source": [
    "fig = px.line(weights,\n",
    "              labels={'value': 'weight, %', 'variable': ''})\n",
    "fig.update_traces(\n",
    "    hovertemplate=\"%{y}\"\n",
    ")\n",
    "fig.update_yaxes(\n",
    "    tickformat=\".2%\",\n",
    ")\n",
    "fig.update_xaxes(\n",
    "    showspikes=True,\n",
    "    spikethickness=2,\n",
    "    spikedash=\"dot\",\n",
    "    spikecolor=\"#999999\",\n",
    "    spikemode=\"across\",\n",
    ")\n",
    "fig.update_layout(\n",
    "    ## showlegend=False,\n",
    "    hovermode=\"x\",\n",
    "    hoverdistance=100,  ## Distance to show hover label of data point\n",
    "    spikedistance=1000,  ## Distance to show spike\n",
    "    template='plotly_white',\n",
    "    title='Weights without max constraint'\n",
    ")"
   ]
  },
  {
   "cell_type": "markdown",
   "id": "a0e004fb-94f0-4540-9103-c81b1edcddc4",
   "metadata": {},
   "source": [
    "### Adjust weights"
   ]
  },
  {
   "cell_type": "markdown",
   "id": "b81afd8a-8635-4d0e-b977-b2a3ec809c33",
   "metadata": {},
   "source": [
    "This process adjusts weights to adhere to the weight constraints described in our methodology. In addition the `remove_tiny_weights` function checks for any assets with a weight below the minimum threshold of $0.5\\%$ and proportionally increases all remaining weights (which are $> 0.5\\%$). Note that after this procedure readjusting weights to respect maximum may be needed."
   ]
  },
  {
   "cell_type": "code",
   "execution_count": 47,
   "id": "f34cb625-e58d-424c-b33f-f3c393d1efb3",
   "metadata": {},
   "outputs": [],
   "source": [
    "def adjust_weights(weights, max_weight):\n",
    "    w = weights.copy()\n",
    "    \n",
    "    while (w > max_weight).any(axis=None):\n",
    "        w[w > max_weight] = max_weight\n",
    "        c = 1 - w.sum(axis=1)\n",
    "        w_less = w[w < max_weight]\n",
    "        w[(w < max_weight) & (w > 0)] += w_less.div(w_less.sum(axis=1), axis=0).mul(c, axis=0)\n",
    "    \n",
    "    return w"
   ]
  },
  {
   "cell_type": "code",
   "execution_count": 48,
   "id": "e291c891-011e-49c8-80c1-3024207d89c7",
   "metadata": {},
   "outputs": [],
   "source": [
    "def remove_tiny_weights(weights, min_weight):\n",
    "    w = weights.copy()\n",
    "    \n",
    "    w[w < min_weight] = 0\n",
    "    w = w.div(w.sum(axis=1), axis=0)\n",
    "    \n",
    "    return w"
   ]
  },
  {
   "cell_type": "code",
   "execution_count": 49,
   "id": "fa93ce86-f09a-49da-9555-2a8917d225e5",
   "metadata": {},
   "outputs": [
    {
     "data": {
      "text/html": [
       "<div>\n",
       "<style scoped>\n",
       "    .dataframe tbody tr th:only-of-type {\n",
       "        vertical-align: middle;\n",
       "    }\n",
       "\n",
       "    .dataframe tbody tr th {\n",
       "        vertical-align: top;\n",
       "    }\n",
       "\n",
       "    .dataframe thead th {\n",
       "        text-align: right;\n",
       "    }\n",
       "</style>\n",
       "<table border=\"1\" class=\"dataframe\">\n",
       "  <thead>\n",
       "    <tr style=\"text-align: right;\">\n",
       "      <th></th>\n",
       "      <th>avalanche-2</th>\n",
       "      <th>joe</th>\n",
       "      <th>benqi</th>\n",
       "    </tr>\n",
       "    <tr>\n",
       "      <th>date</th>\n",
       "      <th></th>\n",
       "      <th></th>\n",
       "      <th></th>\n",
       "    </tr>\n",
       "  </thead>\n",
       "  <tbody>\n",
       "    <tr>\n",
       "      <th>2022-03-04</th>\n",
       "      <td>0.5</td>\n",
       "      <td>0.337922</td>\n",
       "      <td>0.162078</td>\n",
       "    </tr>\n",
       "    <tr>\n",
       "      <th>2022-03-05</th>\n",
       "      <td>0.5</td>\n",
       "      <td>0.350109</td>\n",
       "      <td>0.149891</td>\n",
       "    </tr>\n",
       "    <tr>\n",
       "      <th>2022-03-06</th>\n",
       "      <td>0.5</td>\n",
       "      <td>0.348311</td>\n",
       "      <td>0.151689</td>\n",
       "    </tr>\n",
       "    <tr>\n",
       "      <th>2022-03-07</th>\n",
       "      <td>0.5</td>\n",
       "      <td>0.347621</td>\n",
       "      <td>0.152379</td>\n",
       "    </tr>\n",
       "    <tr>\n",
       "      <th>2022-03-08</th>\n",
       "      <td>0.5</td>\n",
       "      <td>0.346767</td>\n",
       "      <td>0.153233</td>\n",
       "    </tr>\n",
       "    <tr>\n",
       "      <th>...</th>\n",
       "      <td>...</td>\n",
       "      <td>...</td>\n",
       "      <td>...</td>\n",
       "    </tr>\n",
       "    <tr>\n",
       "      <th>2022-09-25</th>\n",
       "      <td>0.5</td>\n",
       "      <td>0.356298</td>\n",
       "      <td>0.143702</td>\n",
       "    </tr>\n",
       "    <tr>\n",
       "      <th>2022-09-26</th>\n",
       "      <td>0.5</td>\n",
       "      <td>0.359028</td>\n",
       "      <td>0.140972</td>\n",
       "    </tr>\n",
       "    <tr>\n",
       "      <th>2022-09-27</th>\n",
       "      <td>0.5</td>\n",
       "      <td>0.361419</td>\n",
       "      <td>0.138581</td>\n",
       "    </tr>\n",
       "    <tr>\n",
       "      <th>2022-09-28</th>\n",
       "      <td>0.5</td>\n",
       "      <td>0.362457</td>\n",
       "      <td>0.137543</td>\n",
       "    </tr>\n",
       "    <tr>\n",
       "      <th>2022-09-29</th>\n",
       "      <td>0.5</td>\n",
       "      <td>0.364295</td>\n",
       "      <td>0.135705</td>\n",
       "    </tr>\n",
       "  </tbody>\n",
       "</table>\n",
       "<p>210 rows × 3 columns</p>\n",
       "</div>"
      ],
      "text/plain": [
       "            avalanche-2       joe     benqi\n",
       "date                                       \n",
       "2022-03-04          0.5  0.337922  0.162078\n",
       "2022-03-05          0.5  0.350109  0.149891\n",
       "2022-03-06          0.5  0.348311  0.151689\n",
       "2022-03-07          0.5  0.347621  0.152379\n",
       "2022-03-08          0.5  0.346767  0.153233\n",
       "...                 ...       ...       ...\n",
       "2022-09-25          0.5  0.356298  0.143702\n",
       "2022-09-26          0.5  0.359028  0.140972\n",
       "2022-09-27          0.5  0.361419  0.138581\n",
       "2022-09-28          0.5  0.362457  0.137543\n",
       "2022-09-29          0.5  0.364295  0.135705\n",
       "\n",
       "[210 rows x 3 columns]"
      ]
     },
     "execution_count": 49,
     "metadata": {},
     "output_type": "execute_result"
    }
   ],
   "source": [
    "adjusted_weights = adjust_weights(weights, max_weight=0.5) \n",
    "adjusted_weights = remove_tiny_weights(adjusted_weights, min_weight=0.005)\n",
    "adjusted_weights = adjust_weights(adjusted_weights, max_weight=0.5)\n",
    "\n",
    "adjusted_weights = adjusted_weights.sort_values(adjusted_weights.last_valid_index(),ascending=False, axis = 1)\n",
    "adjusted_weights"
   ]
  },
  {
   "cell_type": "code",
   "execution_count": 50,
   "id": "41c8a3a2-8e44-400d-9480-87ddfcd44665",
   "metadata": {},
   "outputs": [
    {
     "name": "stderr",
     "output_type": "stream",
     "text": [
      "/home/evgeniy/.local/lib/python3.10/site-packages/plotly/io/_renderers.py:395: DeprecationWarning:\n",
      "\n",
      "distutils Version classes are deprecated. Use packaging.version instead.\n",
      "\n"
     ]
    },
    {
     "data": {
      "application/vnd.plotly.v1+json": {
       "config": {
        "plotlyServerURL": "https://plot.ly"
       },
       "data": [
        {
         "hovertemplate": "%{y}",
         "legendgroup": "avalanche-2",
         "line": {
          "color": "#636efa",
          "dash": "solid"
         },
         "marker": {
          "symbol": "circle"
         },
         "mode": "lines",
         "name": "avalanche-2",
         "orientation": "v",
         "showlegend": true,
         "type": "scatter",
         "x": [
          "2022-03-04T00:00:00",
          "2022-03-05T00:00:00",
          "2022-03-06T00:00:00",
          "2022-03-07T00:00:00",
          "2022-03-08T00:00:00",
          "2022-03-09T00:00:00",
          "2022-03-10T00:00:00",
          "2022-03-11T00:00:00",
          "2022-03-12T00:00:00",
          "2022-03-13T00:00:00",
          "2022-03-14T00:00:00",
          "2022-03-15T00:00:00",
          "2022-03-16T00:00:00",
          "2022-03-17T00:00:00",
          "2022-03-18T00:00:00",
          "2022-03-19T00:00:00",
          "2022-03-20T00:00:00",
          "2022-03-21T00:00:00",
          "2022-03-22T00:00:00",
          "2022-03-23T00:00:00",
          "2022-03-24T00:00:00",
          "2022-03-25T00:00:00",
          "2022-03-26T00:00:00",
          "2022-03-27T00:00:00",
          "2022-03-28T00:00:00",
          "2022-03-29T00:00:00",
          "2022-03-30T00:00:00",
          "2022-03-31T00:00:00",
          "2022-04-01T00:00:00",
          "2022-04-02T00:00:00",
          "2022-04-03T00:00:00",
          "2022-04-04T00:00:00",
          "2022-04-05T00:00:00",
          "2022-04-06T00:00:00",
          "2022-04-07T00:00:00",
          "2022-04-08T00:00:00",
          "2022-04-09T00:00:00",
          "2022-04-10T00:00:00",
          "2022-04-11T00:00:00",
          "2022-04-12T00:00:00",
          "2022-04-13T00:00:00",
          "2022-04-14T00:00:00",
          "2022-04-15T00:00:00",
          "2022-04-16T00:00:00",
          "2022-04-17T00:00:00",
          "2022-04-18T00:00:00",
          "2022-04-19T00:00:00",
          "2022-04-20T00:00:00",
          "2022-04-21T00:00:00",
          "2022-04-22T00:00:00",
          "2022-04-23T00:00:00",
          "2022-04-24T00:00:00",
          "2022-04-25T00:00:00",
          "2022-04-26T00:00:00",
          "2022-04-27T00:00:00",
          "2022-04-28T00:00:00",
          "2022-04-29T00:00:00",
          "2022-04-30T00:00:00",
          "2022-05-01T00:00:00",
          "2022-05-02T00:00:00",
          "2022-05-03T00:00:00",
          "2022-05-04T00:00:00",
          "2022-05-05T00:00:00",
          "2022-05-06T00:00:00",
          "2022-05-07T00:00:00",
          "2022-05-08T00:00:00",
          "2022-05-09T00:00:00",
          "2022-05-10T00:00:00",
          "2022-05-11T00:00:00",
          "2022-05-12T00:00:00",
          "2022-05-13T00:00:00",
          "2022-05-14T00:00:00",
          "2022-05-15T00:00:00",
          "2022-05-16T00:00:00",
          "2022-05-17T00:00:00",
          "2022-05-18T00:00:00",
          "2022-05-19T00:00:00",
          "2022-05-20T00:00:00",
          "2022-05-21T00:00:00",
          "2022-05-22T00:00:00",
          "2022-05-23T00:00:00",
          "2022-05-24T00:00:00",
          "2022-05-25T00:00:00",
          "2022-05-26T00:00:00",
          "2022-05-27T00:00:00",
          "2022-05-28T00:00:00",
          "2022-05-29T00:00:00",
          "2022-05-30T00:00:00",
          "2022-05-31T00:00:00",
          "2022-06-01T00:00:00",
          "2022-06-02T00:00:00",
          "2022-06-03T00:00:00",
          "2022-06-04T00:00:00",
          "2022-06-05T00:00:00",
          "2022-06-06T00:00:00",
          "2022-06-07T00:00:00",
          "2022-06-08T00:00:00",
          "2022-06-09T00:00:00",
          "2022-06-10T00:00:00",
          "2022-06-11T00:00:00",
          "2022-06-12T00:00:00",
          "2022-06-13T00:00:00",
          "2022-06-14T00:00:00",
          "2022-06-15T00:00:00",
          "2022-06-16T00:00:00",
          "2022-06-17T00:00:00",
          "2022-06-18T00:00:00",
          "2022-06-19T00:00:00",
          "2022-06-20T00:00:00",
          "2022-06-21T00:00:00",
          "2022-06-22T00:00:00",
          "2022-06-23T00:00:00",
          "2022-06-24T00:00:00",
          "2022-06-25T00:00:00",
          "2022-06-26T00:00:00",
          "2022-06-27T00:00:00",
          "2022-06-28T00:00:00",
          "2022-06-29T00:00:00",
          "2022-06-30T00:00:00",
          "2022-07-01T00:00:00",
          "2022-07-02T00:00:00",
          "2022-07-03T00:00:00",
          "2022-07-04T00:00:00",
          "2022-07-05T00:00:00",
          "2022-07-06T00:00:00",
          "2022-07-07T00:00:00",
          "2022-07-08T00:00:00",
          "2022-07-09T00:00:00",
          "2022-07-10T00:00:00",
          "2022-07-11T00:00:00",
          "2022-07-12T00:00:00",
          "2022-07-13T00:00:00",
          "2022-07-14T00:00:00",
          "2022-07-15T00:00:00",
          "2022-07-16T00:00:00",
          "2022-07-17T00:00:00",
          "2022-07-18T00:00:00",
          "2022-07-19T00:00:00",
          "2022-07-20T00:00:00",
          "2022-07-21T00:00:00",
          "2022-07-22T00:00:00",
          "2022-07-23T00:00:00",
          "2022-07-24T00:00:00",
          "2022-07-25T00:00:00",
          "2022-07-26T00:00:00",
          "2022-07-27T00:00:00",
          "2022-07-28T00:00:00",
          "2022-07-29T00:00:00",
          "2022-07-30T00:00:00",
          "2022-07-31T00:00:00",
          "2022-08-01T00:00:00",
          "2022-08-02T00:00:00",
          "2022-08-03T00:00:00",
          "2022-08-04T00:00:00",
          "2022-08-05T00:00:00",
          "2022-08-06T00:00:00",
          "2022-08-07T00:00:00",
          "2022-08-08T00:00:00",
          "2022-08-09T00:00:00",
          "2022-08-10T00:00:00",
          "2022-08-11T00:00:00",
          "2022-08-12T00:00:00",
          "2022-08-13T00:00:00",
          "2022-08-14T00:00:00",
          "2022-08-15T00:00:00",
          "2022-08-16T00:00:00",
          "2022-08-17T00:00:00",
          "2022-08-18T00:00:00",
          "2022-08-19T00:00:00",
          "2022-08-20T00:00:00",
          "2022-08-21T00:00:00",
          "2022-08-22T00:00:00",
          "2022-08-23T00:00:00",
          "2022-08-24T00:00:00",
          "2022-08-25T00:00:00",
          "2022-08-26T00:00:00",
          "2022-08-27T00:00:00",
          "2022-08-28T00:00:00",
          "2022-08-29T00:00:00",
          "2022-08-30T00:00:00",
          "2022-08-31T00:00:00",
          "2022-09-01T00:00:00",
          "2022-09-02T00:00:00",
          "2022-09-03T00:00:00",
          "2022-09-04T00:00:00",
          "2022-09-05T00:00:00",
          "2022-09-06T00:00:00",
          "2022-09-07T00:00:00",
          "2022-09-08T00:00:00",
          "2022-09-09T00:00:00",
          "2022-09-10T00:00:00",
          "2022-09-11T00:00:00",
          "2022-09-12T00:00:00",
          "2022-09-13T00:00:00",
          "2022-09-14T00:00:00",
          "2022-09-15T00:00:00",
          "2022-09-16T00:00:00",
          "2022-09-17T00:00:00",
          "2022-09-18T00:00:00",
          "2022-09-19T00:00:00",
          "2022-09-20T00:00:00",
          "2022-09-21T00:00:00",
          "2022-09-22T00:00:00",
          "2022-09-23T00:00:00",
          "2022-09-24T00:00:00",
          "2022-09-25T00:00:00",
          "2022-09-26T00:00:00",
          "2022-09-27T00:00:00",
          "2022-09-28T00:00:00",
          "2022-09-29T00:00:00"
         ],
         "xaxis": "x",
         "y": [
          0.49999999999999994,
          0.5,
          0.5,
          0.5,
          0.49999999999999994,
          0.5,
          0.5,
          0.49999999999999994,
          0.5,
          0.5,
          0.5,
          0.5,
          0.5,
          0.5,
          0.5,
          0.5,
          0.5,
          0.5,
          0.5,
          0.5,
          0.5,
          0.5,
          0.5,
          0.5,
          0.5,
          0.5,
          0.5,
          0.5,
          0.5,
          0.5,
          0.5,
          0.49999999999999994,
          0.5,
          0.5,
          0.5,
          0.5,
          0.5,
          0.5,
          0.49999999999999994,
          0.5,
          0.5,
          0.5,
          0.5,
          0.5,
          0.5,
          0.5,
          0.5,
          0.49999999999999994,
          0.5,
          0.5,
          0.5,
          0.5,
          0.5,
          0.5,
          0.5,
          0.5,
          0.5,
          0.49999999999999994,
          0.5,
          0.5,
          0.5,
          0.5,
          0.5,
          0.5,
          0.5,
          0.5,
          0.5,
          0.5,
          0.5,
          0.5,
          0.5,
          0.5,
          0.5,
          0.5,
          0.5,
          0.5,
          0.5,
          0.5,
          0.5,
          0.5,
          0.49999999999999994,
          0.5,
          0.5,
          0.5,
          0.5,
          0.5,
          0.5,
          0.5,
          0.5,
          0.5,
          0.5,
          0.5,
          0.5,
          0.5,
          0.5,
          0.5,
          0.5,
          0.5,
          0.5,
          0.5,
          0.5,
          0.5,
          0.5,
          0.5,
          0.5,
          0.5,
          0.5,
          0.5,
          0.5,
          0.5,
          0.5,
          0.5,
          0.5,
          0.5,
          0.49999999999999994,
          0.5,
          0.5,
          0.5,
          0.5,
          0.5,
          0.5,
          0.5,
          0.5,
          0.5,
          0.5,
          0.5,
          0.5,
          0.5,
          0.5,
          0.5,
          0.4999999999999999,
          0.5,
          0.5,
          0.5,
          0.5,
          0.5,
          0.5,
          0.5,
          0.5,
          0.5,
          0.5,
          0.5,
          0.5,
          0.5,
          0.5,
          0.5,
          0.49999999999999994,
          0.5,
          0.5,
          0.5,
          0.5,
          0.5,
          0.5,
          0.5,
          0.5,
          0.49999999999999994,
          0.5,
          0.5,
          0.5,
          0.5,
          0.5,
          0.5,
          0.5,
          0.5,
          0.5,
          0.5,
          0.5,
          0.5,
          0.5,
          0.5,
          0.5,
          0.5,
          0.5,
          0.5,
          0.5,
          0.5,
          0.5,
          0.5,
          0.5,
          0.5,
          0.5,
          0.49999999999999994,
          0.5,
          0.5,
          0.5,
          0.5,
          0.5,
          0.5,
          0.5,
          0.5,
          0.5,
          0.5,
          0.5,
          0.5,
          0.5,
          0.5,
          0.5,
          0.5,
          0.5,
          0.5,
          0.5,
          0.5,
          0.5,
          0.5,
          0.5,
          0.5,
          0.5,
          0.5,
          0.5,
          0.5
         ],
         "yaxis": "y"
        },
        {
         "hovertemplate": "%{y}",
         "legendgroup": "joe",
         "line": {
          "color": "#EF553B",
          "dash": "solid"
         },
         "marker": {
          "symbol": "circle"
         },
         "mode": "lines",
         "name": "joe",
         "orientation": "v",
         "showlegend": true,
         "type": "scatter",
         "x": [
          "2022-03-04T00:00:00",
          "2022-03-05T00:00:00",
          "2022-03-06T00:00:00",
          "2022-03-07T00:00:00",
          "2022-03-08T00:00:00",
          "2022-03-09T00:00:00",
          "2022-03-10T00:00:00",
          "2022-03-11T00:00:00",
          "2022-03-12T00:00:00",
          "2022-03-13T00:00:00",
          "2022-03-14T00:00:00",
          "2022-03-15T00:00:00",
          "2022-03-16T00:00:00",
          "2022-03-17T00:00:00",
          "2022-03-18T00:00:00",
          "2022-03-19T00:00:00",
          "2022-03-20T00:00:00",
          "2022-03-21T00:00:00",
          "2022-03-22T00:00:00",
          "2022-03-23T00:00:00",
          "2022-03-24T00:00:00",
          "2022-03-25T00:00:00",
          "2022-03-26T00:00:00",
          "2022-03-27T00:00:00",
          "2022-03-28T00:00:00",
          "2022-03-29T00:00:00",
          "2022-03-30T00:00:00",
          "2022-03-31T00:00:00",
          "2022-04-01T00:00:00",
          "2022-04-02T00:00:00",
          "2022-04-03T00:00:00",
          "2022-04-04T00:00:00",
          "2022-04-05T00:00:00",
          "2022-04-06T00:00:00",
          "2022-04-07T00:00:00",
          "2022-04-08T00:00:00",
          "2022-04-09T00:00:00",
          "2022-04-10T00:00:00",
          "2022-04-11T00:00:00",
          "2022-04-12T00:00:00",
          "2022-04-13T00:00:00",
          "2022-04-14T00:00:00",
          "2022-04-15T00:00:00",
          "2022-04-16T00:00:00",
          "2022-04-17T00:00:00",
          "2022-04-18T00:00:00",
          "2022-04-19T00:00:00",
          "2022-04-20T00:00:00",
          "2022-04-21T00:00:00",
          "2022-04-22T00:00:00",
          "2022-04-23T00:00:00",
          "2022-04-24T00:00:00",
          "2022-04-25T00:00:00",
          "2022-04-26T00:00:00",
          "2022-04-27T00:00:00",
          "2022-04-28T00:00:00",
          "2022-04-29T00:00:00",
          "2022-04-30T00:00:00",
          "2022-05-01T00:00:00",
          "2022-05-02T00:00:00",
          "2022-05-03T00:00:00",
          "2022-05-04T00:00:00",
          "2022-05-05T00:00:00",
          "2022-05-06T00:00:00",
          "2022-05-07T00:00:00",
          "2022-05-08T00:00:00",
          "2022-05-09T00:00:00",
          "2022-05-10T00:00:00",
          "2022-05-11T00:00:00",
          "2022-05-12T00:00:00",
          "2022-05-13T00:00:00",
          "2022-05-14T00:00:00",
          "2022-05-15T00:00:00",
          "2022-05-16T00:00:00",
          "2022-05-17T00:00:00",
          "2022-05-18T00:00:00",
          "2022-05-19T00:00:00",
          "2022-05-20T00:00:00",
          "2022-05-21T00:00:00",
          "2022-05-22T00:00:00",
          "2022-05-23T00:00:00",
          "2022-05-24T00:00:00",
          "2022-05-25T00:00:00",
          "2022-05-26T00:00:00",
          "2022-05-27T00:00:00",
          "2022-05-28T00:00:00",
          "2022-05-29T00:00:00",
          "2022-05-30T00:00:00",
          "2022-05-31T00:00:00",
          "2022-06-01T00:00:00",
          "2022-06-02T00:00:00",
          "2022-06-03T00:00:00",
          "2022-06-04T00:00:00",
          "2022-06-05T00:00:00",
          "2022-06-06T00:00:00",
          "2022-06-07T00:00:00",
          "2022-06-08T00:00:00",
          "2022-06-09T00:00:00",
          "2022-06-10T00:00:00",
          "2022-06-11T00:00:00",
          "2022-06-12T00:00:00",
          "2022-06-13T00:00:00",
          "2022-06-14T00:00:00",
          "2022-06-15T00:00:00",
          "2022-06-16T00:00:00",
          "2022-06-17T00:00:00",
          "2022-06-18T00:00:00",
          "2022-06-19T00:00:00",
          "2022-06-20T00:00:00",
          "2022-06-21T00:00:00",
          "2022-06-22T00:00:00",
          "2022-06-23T00:00:00",
          "2022-06-24T00:00:00",
          "2022-06-25T00:00:00",
          "2022-06-26T00:00:00",
          "2022-06-27T00:00:00",
          "2022-06-28T00:00:00",
          "2022-06-29T00:00:00",
          "2022-06-30T00:00:00",
          "2022-07-01T00:00:00",
          "2022-07-02T00:00:00",
          "2022-07-03T00:00:00",
          "2022-07-04T00:00:00",
          "2022-07-05T00:00:00",
          "2022-07-06T00:00:00",
          "2022-07-07T00:00:00",
          "2022-07-08T00:00:00",
          "2022-07-09T00:00:00",
          "2022-07-10T00:00:00",
          "2022-07-11T00:00:00",
          "2022-07-12T00:00:00",
          "2022-07-13T00:00:00",
          "2022-07-14T00:00:00",
          "2022-07-15T00:00:00",
          "2022-07-16T00:00:00",
          "2022-07-17T00:00:00",
          "2022-07-18T00:00:00",
          "2022-07-19T00:00:00",
          "2022-07-20T00:00:00",
          "2022-07-21T00:00:00",
          "2022-07-22T00:00:00",
          "2022-07-23T00:00:00",
          "2022-07-24T00:00:00",
          "2022-07-25T00:00:00",
          "2022-07-26T00:00:00",
          "2022-07-27T00:00:00",
          "2022-07-28T00:00:00",
          "2022-07-29T00:00:00",
          "2022-07-30T00:00:00",
          "2022-07-31T00:00:00",
          "2022-08-01T00:00:00",
          "2022-08-02T00:00:00",
          "2022-08-03T00:00:00",
          "2022-08-04T00:00:00",
          "2022-08-05T00:00:00",
          "2022-08-06T00:00:00",
          "2022-08-07T00:00:00",
          "2022-08-08T00:00:00",
          "2022-08-09T00:00:00",
          "2022-08-10T00:00:00",
          "2022-08-11T00:00:00",
          "2022-08-12T00:00:00",
          "2022-08-13T00:00:00",
          "2022-08-14T00:00:00",
          "2022-08-15T00:00:00",
          "2022-08-16T00:00:00",
          "2022-08-17T00:00:00",
          "2022-08-18T00:00:00",
          "2022-08-19T00:00:00",
          "2022-08-20T00:00:00",
          "2022-08-21T00:00:00",
          "2022-08-22T00:00:00",
          "2022-08-23T00:00:00",
          "2022-08-24T00:00:00",
          "2022-08-25T00:00:00",
          "2022-08-26T00:00:00",
          "2022-08-27T00:00:00",
          "2022-08-28T00:00:00",
          "2022-08-29T00:00:00",
          "2022-08-30T00:00:00",
          "2022-08-31T00:00:00",
          "2022-09-01T00:00:00",
          "2022-09-02T00:00:00",
          "2022-09-03T00:00:00",
          "2022-09-04T00:00:00",
          "2022-09-05T00:00:00",
          "2022-09-06T00:00:00",
          "2022-09-07T00:00:00",
          "2022-09-08T00:00:00",
          "2022-09-09T00:00:00",
          "2022-09-10T00:00:00",
          "2022-09-11T00:00:00",
          "2022-09-12T00:00:00",
          "2022-09-13T00:00:00",
          "2022-09-14T00:00:00",
          "2022-09-15T00:00:00",
          "2022-09-16T00:00:00",
          "2022-09-17T00:00:00",
          "2022-09-18T00:00:00",
          "2022-09-19T00:00:00",
          "2022-09-20T00:00:00",
          "2022-09-21T00:00:00",
          "2022-09-22T00:00:00",
          "2022-09-23T00:00:00",
          "2022-09-24T00:00:00",
          "2022-09-25T00:00:00",
          "2022-09-26T00:00:00",
          "2022-09-27T00:00:00",
          "2022-09-28T00:00:00",
          "2022-09-29T00:00:00"
         ],
         "xaxis": "x",
         "y": [
          0.337921625942801,
          0.35010940723157347,
          0.3483113326849444,
          0.34762116723750824,
          0.34676656157873986,
          0.345989215883219,
          0.3446478238158224,
          0.34412613628689875,
          0.34113048721268335,
          0.3440221803995671,
          0.33881432692348656,
          0.33826965851986746,
          0.33457023111265743,
          0.3374861310586056,
          0.34980707575885994,
          0.34061035410991186,
          0.34192785521257363,
          0.33507794032628346,
          0.3364297170750693,
          0.32509932397659524,
          0.3224941074937821,
          0.3288500391388832,
          0.3271821636517271,
          0.3240115138688704,
          0.3200657833467742,
          0.3385443765048401,
          0.33603466170874496,
          0.3424556338948144,
          0.35080991865708144,
          0.3456706838382112,
          0.3433678919412839,
          0.3485544599264507,
          0.35399950700549904,
          0.36518112817530035,
          0.3666278676922074,
          0.372658483161118,
          0.37687478830383864,
          0.37939628730466024,
          0.3773765269733306,
          0.3735791433098338,
          0.3762539264834952,
          0.37773436290227713,
          0.3759380493230377,
          0.37335784740373335,
          0.3724237238470149,
          0.37534027797344705,
          0.376953338986957,
          0.37402902665620935,
          0.3731663036478009,
          0.3741215030318198,
          0.372538627391275,
          0.3684093024016113,
          0.37132046214917314,
          0.37682882418964037,
          0.38020295674945553,
          0.38111993694595414,
          0.3773781881198361,
          0.37898435471232456,
          0.382330547590216,
          0.38089818151979005,
          0.38808046507744887,
          0.3905467458393676,
          0.3891588551844515,
          0.39128564236777136,
          0.38911736510735856,
          0.3875064719837473,
          0.3904698596388289,
          0.3901702863487373,
          0.3899543933518518,
          0.3948024117389028,
          0.41089774820867475,
          0.41100916995131775,
          0.41341574726569913,
          0.40374806738464775,
          0.4084613956837519,
          0.40142413560029777,
          0.4013571289753637,
          0.40560642958961596,
          0.39801252062245024,
          0.39251391929796337,
          0.3974548539902284,
          0.3963866954076372,
          0.3920285770477783,
          0.3745138264355506,
          0.3763427787648821,
          0.37120377718921344,
          0.3761754175853419,
          0.3758163427350685,
          0.3735888677040672,
          0.3657094834000155,
          0.372763665171818,
          0.3708346498331979,
          0.3655655641677879,
          0.3625266914384239,
          0.36372670311188243,
          0.3666420744094466,
          0.3603920099351668,
          0.35447971359821834,
          0.356799041145203,
          0.35133055675061076,
          0.3416396560147373,
          0.3167291946947672,
          0.30985827032088387,
          0.319793624327917,
          0.3299618187831099,
          0.3293588050270874,
          0.3284115432222744,
          0.34526123269929665,
          0.34134331250378896,
          0.34568606110768074,
          0.3481412661016985,
          0.34337759238541377,
          0.3477173264730027,
          0.36369196016110406,
          0.3662949970005247,
          0.35886397970073014,
          0.33332960239077736,
          0.33983903198503435,
          0.3338894247334896,
          0.3313205421416383,
          0.3236809458728883,
          0.32446132486059853,
          0.3250813625843634,
          0.3296577121709469,
          0.33267261601777104,
          0.3401784432801185,
          0.33766416635242374,
          0.32843265833022606,
          0.32560918372101016,
          0.32956188571168843,
          0.3288670539515575,
          0.33409157936515643,
          0.3536424473245575,
          0.3376026031677146,
          0.3407303271960701,
          0.34010597156439604,
          0.3451772321637295,
          0.3580892762027138,
          0.348729950321995,
          0.36405588178607917,
          0.36987456363539695,
          0.3657848279391182,
          0.36740368740300655,
          0.3649343216538488,
          0.361265883915229,
          0.3606730180915522,
          0.3671385107631391,
          0.357410230232735,
          0.3494927005753403,
          0.3538465036706939,
          0.3491218701997699,
          0.35046674951696344,
          0.35018395569702404,
          0.35041644274131784,
          0.3489564160785934,
          0.3536907794914574,
          0.3541486725006,
          0.35333367501936014,
          0.3566425846358542,
          0.36083780777765806,
          0.3558567127237965,
          0.35854091874228144,
          0.3521178841447497,
          0.35393966274178235,
          0.35047268508503787,
          0.34376790099089805,
          0.3416844318336273,
          0.3418587400316685,
          0.3413061668173623,
          0.33704992052606786,
          0.3358035368980058,
          0.34394485440204553,
          0.3395354350758994,
          0.3421931238400275,
          0.3399109572076859,
          0.336261989586054,
          0.33627359314750294,
          0.34000445828016057,
          0.33434683159302303,
          0.3382245534891411,
          0.34197327982320413,
          0.3410842474032629,
          0.33963247777862454,
          0.33913634039148144,
          0.3416136362814213,
          0.33940875883586175,
          0.3402722871759681,
          0.34142703277389563,
          0.34441328948775857,
          0.34700125965572753,
          0.35094495355817157,
          0.3450785709498833,
          0.34684170440999534,
          0.34919285506035713,
          0.34702057199228425,
          0.3457701775164034,
          0.34522912392697014,
          0.35279193255123287,
          0.3546133578657466,
          0.35233283080031774,
          0.35270995778827596,
          0.350932537405066,
          0.3502948764245826,
          0.3517355096835294,
          0.3534951502589005,
          0.35629836635469997,
          0.3590278699065187,
          0.36141895231507587,
          0.3624570805080789,
          0.3642947531326031
         ],
         "yaxis": "y"
        },
        {
         "hovertemplate": "%{y}",
         "legendgroup": "benqi",
         "line": {
          "color": "#00cc96",
          "dash": "solid"
         },
         "marker": {
          "symbol": "circle"
         },
         "mode": "lines",
         "name": "benqi",
         "orientation": "v",
         "showlegend": true,
         "type": "scatter",
         "x": [
          "2022-03-04T00:00:00",
          "2022-03-05T00:00:00",
          "2022-03-06T00:00:00",
          "2022-03-07T00:00:00",
          "2022-03-08T00:00:00",
          "2022-03-09T00:00:00",
          "2022-03-10T00:00:00",
          "2022-03-11T00:00:00",
          "2022-03-12T00:00:00",
          "2022-03-13T00:00:00",
          "2022-03-14T00:00:00",
          "2022-03-15T00:00:00",
          "2022-03-16T00:00:00",
          "2022-03-17T00:00:00",
          "2022-03-18T00:00:00",
          "2022-03-19T00:00:00",
          "2022-03-20T00:00:00",
          "2022-03-21T00:00:00",
          "2022-03-22T00:00:00",
          "2022-03-23T00:00:00",
          "2022-03-24T00:00:00",
          "2022-03-25T00:00:00",
          "2022-03-26T00:00:00",
          "2022-03-27T00:00:00",
          "2022-03-28T00:00:00",
          "2022-03-29T00:00:00",
          "2022-03-30T00:00:00",
          "2022-03-31T00:00:00",
          "2022-04-01T00:00:00",
          "2022-04-02T00:00:00",
          "2022-04-03T00:00:00",
          "2022-04-04T00:00:00",
          "2022-04-05T00:00:00",
          "2022-04-06T00:00:00",
          "2022-04-07T00:00:00",
          "2022-04-08T00:00:00",
          "2022-04-09T00:00:00",
          "2022-04-10T00:00:00",
          "2022-04-11T00:00:00",
          "2022-04-12T00:00:00",
          "2022-04-13T00:00:00",
          "2022-04-14T00:00:00",
          "2022-04-15T00:00:00",
          "2022-04-16T00:00:00",
          "2022-04-17T00:00:00",
          "2022-04-18T00:00:00",
          "2022-04-19T00:00:00",
          "2022-04-20T00:00:00",
          "2022-04-21T00:00:00",
          "2022-04-22T00:00:00",
          "2022-04-23T00:00:00",
          "2022-04-24T00:00:00",
          "2022-04-25T00:00:00",
          "2022-04-26T00:00:00",
          "2022-04-27T00:00:00",
          "2022-04-28T00:00:00",
          "2022-04-29T00:00:00",
          "2022-04-30T00:00:00",
          "2022-05-01T00:00:00",
          "2022-05-02T00:00:00",
          "2022-05-03T00:00:00",
          "2022-05-04T00:00:00",
          "2022-05-05T00:00:00",
          "2022-05-06T00:00:00",
          "2022-05-07T00:00:00",
          "2022-05-08T00:00:00",
          "2022-05-09T00:00:00",
          "2022-05-10T00:00:00",
          "2022-05-11T00:00:00",
          "2022-05-12T00:00:00",
          "2022-05-13T00:00:00",
          "2022-05-14T00:00:00",
          "2022-05-15T00:00:00",
          "2022-05-16T00:00:00",
          "2022-05-17T00:00:00",
          "2022-05-18T00:00:00",
          "2022-05-19T00:00:00",
          "2022-05-20T00:00:00",
          "2022-05-21T00:00:00",
          "2022-05-22T00:00:00",
          "2022-05-23T00:00:00",
          "2022-05-24T00:00:00",
          "2022-05-25T00:00:00",
          "2022-05-26T00:00:00",
          "2022-05-27T00:00:00",
          "2022-05-28T00:00:00",
          "2022-05-29T00:00:00",
          "2022-05-30T00:00:00",
          "2022-05-31T00:00:00",
          "2022-06-01T00:00:00",
          "2022-06-02T00:00:00",
          "2022-06-03T00:00:00",
          "2022-06-04T00:00:00",
          "2022-06-05T00:00:00",
          "2022-06-06T00:00:00",
          "2022-06-07T00:00:00",
          "2022-06-08T00:00:00",
          "2022-06-09T00:00:00",
          "2022-06-10T00:00:00",
          "2022-06-11T00:00:00",
          "2022-06-12T00:00:00",
          "2022-06-13T00:00:00",
          "2022-06-14T00:00:00",
          "2022-06-15T00:00:00",
          "2022-06-16T00:00:00",
          "2022-06-17T00:00:00",
          "2022-06-18T00:00:00",
          "2022-06-19T00:00:00",
          "2022-06-20T00:00:00",
          "2022-06-21T00:00:00",
          "2022-06-22T00:00:00",
          "2022-06-23T00:00:00",
          "2022-06-24T00:00:00",
          "2022-06-25T00:00:00",
          "2022-06-26T00:00:00",
          "2022-06-27T00:00:00",
          "2022-06-28T00:00:00",
          "2022-06-29T00:00:00",
          "2022-06-30T00:00:00",
          "2022-07-01T00:00:00",
          "2022-07-02T00:00:00",
          "2022-07-03T00:00:00",
          "2022-07-04T00:00:00",
          "2022-07-05T00:00:00",
          "2022-07-06T00:00:00",
          "2022-07-07T00:00:00",
          "2022-07-08T00:00:00",
          "2022-07-09T00:00:00",
          "2022-07-10T00:00:00",
          "2022-07-11T00:00:00",
          "2022-07-12T00:00:00",
          "2022-07-13T00:00:00",
          "2022-07-14T00:00:00",
          "2022-07-15T00:00:00",
          "2022-07-16T00:00:00",
          "2022-07-17T00:00:00",
          "2022-07-18T00:00:00",
          "2022-07-19T00:00:00",
          "2022-07-20T00:00:00",
          "2022-07-21T00:00:00",
          "2022-07-22T00:00:00",
          "2022-07-23T00:00:00",
          "2022-07-24T00:00:00",
          "2022-07-25T00:00:00",
          "2022-07-26T00:00:00",
          "2022-07-27T00:00:00",
          "2022-07-28T00:00:00",
          "2022-07-29T00:00:00",
          "2022-07-30T00:00:00",
          "2022-07-31T00:00:00",
          "2022-08-01T00:00:00",
          "2022-08-02T00:00:00",
          "2022-08-03T00:00:00",
          "2022-08-04T00:00:00",
          "2022-08-05T00:00:00",
          "2022-08-06T00:00:00",
          "2022-08-07T00:00:00",
          "2022-08-08T00:00:00",
          "2022-08-09T00:00:00",
          "2022-08-10T00:00:00",
          "2022-08-11T00:00:00",
          "2022-08-12T00:00:00",
          "2022-08-13T00:00:00",
          "2022-08-14T00:00:00",
          "2022-08-15T00:00:00",
          "2022-08-16T00:00:00",
          "2022-08-17T00:00:00",
          "2022-08-18T00:00:00",
          "2022-08-19T00:00:00",
          "2022-08-20T00:00:00",
          "2022-08-21T00:00:00",
          "2022-08-22T00:00:00",
          "2022-08-23T00:00:00",
          "2022-08-24T00:00:00",
          "2022-08-25T00:00:00",
          "2022-08-26T00:00:00",
          "2022-08-27T00:00:00",
          "2022-08-28T00:00:00",
          "2022-08-29T00:00:00",
          "2022-08-30T00:00:00",
          "2022-08-31T00:00:00",
          "2022-09-01T00:00:00",
          "2022-09-02T00:00:00",
          "2022-09-03T00:00:00",
          "2022-09-04T00:00:00",
          "2022-09-05T00:00:00",
          "2022-09-06T00:00:00",
          "2022-09-07T00:00:00",
          "2022-09-08T00:00:00",
          "2022-09-09T00:00:00",
          "2022-09-10T00:00:00",
          "2022-09-11T00:00:00",
          "2022-09-12T00:00:00",
          "2022-09-13T00:00:00",
          "2022-09-14T00:00:00",
          "2022-09-15T00:00:00",
          "2022-09-16T00:00:00",
          "2022-09-17T00:00:00",
          "2022-09-18T00:00:00",
          "2022-09-19T00:00:00",
          "2022-09-20T00:00:00",
          "2022-09-21T00:00:00",
          "2022-09-22T00:00:00",
          "2022-09-23T00:00:00",
          "2022-09-24T00:00:00",
          "2022-09-25T00:00:00",
          "2022-09-26T00:00:00",
          "2022-09-27T00:00:00",
          "2022-09-28T00:00:00",
          "2022-09-29T00:00:00"
         ],
         "xaxis": "x",
         "y": [
          0.1620783740571991,
          0.14989059276842656,
          0.15168866731505562,
          0.15237883276249173,
          0.15323343842126028,
          0.154010784116781,
          0.1553521761841776,
          0.15587386371310133,
          0.15886951278731665,
          0.15597781960043292,
          0.1611856730765135,
          0.16173034148013254,
          0.16542976888734254,
          0.1625138689413944,
          0.15019292424114014,
          0.15938964589008814,
          0.1580721447874264,
          0.1649220596737165,
          0.1635702829249307,
          0.17490067602340473,
          0.1775058925062179,
          0.17114996086111683,
          0.1728178363482729,
          0.1759884861311296,
          0.17993421665322587,
          0.16145562349515985,
          0.16396533829125512,
          0.15754436610518557,
          0.14919008134291856,
          0.15432931616178888,
          0.15663210805871602,
          0.1514455400735494,
          0.14600049299450094,
          0.13481887182469968,
          0.1333721323077926,
          0.12734151683888206,
          0.12312521169616149,
          0.12060371269533977,
          0.12262347302666947,
          0.1264208566901661,
          0.12374607351650475,
          0.12226563709772285,
          0.12406195067696223,
          0.1266421525962667,
          0.12757627615298514,
          0.12465972202655301,
          0.12304666101304304,
          0.12597097334379076,
          0.12683369635219913,
          0.12587849696818024,
          0.127461372608725,
          0.13159069759838865,
          0.12867953785082686,
          0.1231711758103597,
          0.11979704325054451,
          0.11888006305404591,
          0.1226218118801639,
          0.1210156452876755,
          0.11766945240978403,
          0.11910181848020993,
          0.11191953492255108,
          0.10945325416063234,
          0.11084114481554848,
          0.10871435763222864,
          0.11088263489264152,
          0.11249352801625274,
          0.10953014036117113,
          0.10982971365126279,
          0.11004560664814825,
          0.10519758826109714,
          0.08910225179132526,
          0.08899083004868232,
          0.08658425273430083,
          0.09625193261535225,
          0.0915386043162481,
          0.09857586439970223,
          0.09864287102463627,
          0.09439357041038406,
          0.10198747937754975,
          0.10748608070203657,
          0.10254514600977162,
          0.10361330459236281,
          0.1079714229522217,
          0.12548617356444947,
          0.12365722123511791,
          0.12879622281078662,
          0.12382458241465807,
          0.12418365726493162,
          0.12641113229593287,
          0.13429051659998453,
          0.12723633482818192,
          0.12916535016680208,
          0.13443443583221198,
          0.1374733085615761,
          0.13627329688811754,
          0.1333579255905534,
          0.13960799006483332,
          0.14552028640178175,
          0.14320095885479697,
          0.14866944324938922,
          0.15836034398526283,
          0.18327080530523285,
          0.19014172967911616,
          0.18020637567208292,
          0.1700381812168901,
          0.17064119497291247,
          0.17158845677772558,
          0.1547387673007033,
          0.1586566874962111,
          0.1543139388923193,
          0.15185873389830154,
          0.15662240761458623,
          0.1522826735269974,
          0.13630803983889592,
          0.13370500299947544,
          0.14113602029926992,
          0.16667039760922273,
          0.16016096801496568,
          0.16611057526651044,
          0.16867945785836175,
          0.17631905412711169,
          0.17553867513940147,
          0.17491863741563668,
          0.17034228782905306,
          0.167327383982229,
          0.15982155671988146,
          0.16233583364757623,
          0.171567341669774,
          0.17439081627898975,
          0.17043811428831154,
          0.17113294604844254,
          0.16590842063484357,
          0.14635755267544243,
          0.16239739683228543,
          0.15926967280392992,
          0.15989402843560402,
          0.15482276783627055,
          0.14191072379728617,
          0.151270049678005,
          0.13594411821392083,
          0.1301254363646031,
          0.13421517206088174,
          0.13259631259699342,
          0.13506567834615124,
          0.138734116084771,
          0.13932698190844775,
          0.13286148923686106,
          0.14258976976726503,
          0.15050729942465968,
          0.14615349632930602,
          0.1508781298002301,
          0.1495332504830365,
          0.1498160443029759,
          0.1495835572586821,
          0.1510435839214066,
          0.1463092205085427,
          0.14585132749940005,
          0.1466663249806399,
          0.1433574153641459,
          0.13916219222234197,
          0.1441432872762035,
          0.14145908125771858,
          0.14788211585525032,
          0.14606033725821763,
          0.14952731491496213,
          0.156232099009102,
          0.1583155681663727,
          0.15814125996833153,
          0.1586938331826377,
          0.16295007947393214,
          0.16419646310199423,
          0.15605514559795436,
          0.16046456492410063,
          0.15780687615997252,
          0.16008904279231412,
          0.163738010413946,
          0.16372640685249704,
          0.15999554171983946,
          0.165653168406977,
          0.16177544651085904,
          0.1580267201767959,
          0.15891575259673724,
          0.16036752222137543,
          0.16086365960851862,
          0.15838636371857878,
          0.1605912411641383,
          0.15972771282403192,
          0.15857296722610448,
          0.15558671051224146,
          0.15299874034427247,
          0.1490550464418285,
          0.1549214290501167,
          0.15315829559000466,
          0.1508071449396429,
          0.1529794280077157,
          0.15422982248359657,
          0.15477087607302986,
          0.1472080674487671,
          0.14538664213425345,
          0.1476671691996822,
          0.14729004221172398,
          0.14906746259493395,
          0.14970512357541738,
          0.1482644903164706,
          0.14650484974109942,
          0.1437016336453001,
          0.14097213009348133,
          0.1385810476849241,
          0.13754291949192105,
          0.13570524686739696
         ],
         "yaxis": "y"
        }
       ],
       "layout": {
        "autosize": true,
        "hoverdistance": 100,
        "hovermode": "x",
        "legend": {
         "title": {
          "text": ""
         },
         "tracegroupgap": 0
        },
        "margin": {
         "t": 60
        },
        "spikedistance": 1000,
        "template": {
         "data": {
          "bar": [
           {
            "error_x": {
             "color": "#2a3f5f"
            },
            "error_y": {
             "color": "#2a3f5f"
            },
            "marker": {
             "line": {
              "color": "white",
              "width": 0.5
             },
             "pattern": {
              "fillmode": "overlay",
              "size": 10,
              "solidity": 0.2
             }
            },
            "type": "bar"
           }
          ],
          "barpolar": [
           {
            "marker": {
             "line": {
              "color": "white",
              "width": 0.5
             },
             "pattern": {
              "fillmode": "overlay",
              "size": 10,
              "solidity": 0.2
             }
            },
            "type": "barpolar"
           }
          ],
          "carpet": [
           {
            "aaxis": {
             "endlinecolor": "#2a3f5f",
             "gridcolor": "#C8D4E3",
             "linecolor": "#C8D4E3",
             "minorgridcolor": "#C8D4E3",
             "startlinecolor": "#2a3f5f"
            },
            "baxis": {
             "endlinecolor": "#2a3f5f",
             "gridcolor": "#C8D4E3",
             "linecolor": "#C8D4E3",
             "minorgridcolor": "#C8D4E3",
             "startlinecolor": "#2a3f5f"
            },
            "type": "carpet"
           }
          ],
          "choropleth": [
           {
            "colorbar": {
             "outlinewidth": 0,
             "ticks": ""
            },
            "type": "choropleth"
           }
          ],
          "contour": [
           {
            "colorbar": {
             "outlinewidth": 0,
             "ticks": ""
            },
            "colorscale": [
             [
              0,
              "#0d0887"
             ],
             [
              0.1111111111111111,
              "#46039f"
             ],
             [
              0.2222222222222222,
              "#7201a8"
             ],
             [
              0.3333333333333333,
              "#9c179e"
             ],
             [
              0.4444444444444444,
              "#bd3786"
             ],
             [
              0.5555555555555556,
              "#d8576b"
             ],
             [
              0.6666666666666666,
              "#ed7953"
             ],
             [
              0.7777777777777778,
              "#fb9f3a"
             ],
             [
              0.8888888888888888,
              "#fdca26"
             ],
             [
              1,
              "#f0f921"
             ]
            ],
            "type": "contour"
           }
          ],
          "contourcarpet": [
           {
            "colorbar": {
             "outlinewidth": 0,
             "ticks": ""
            },
            "type": "contourcarpet"
           }
          ],
          "heatmap": [
           {
            "colorbar": {
             "outlinewidth": 0,
             "ticks": ""
            },
            "colorscale": [
             [
              0,
              "#0d0887"
             ],
             [
              0.1111111111111111,
              "#46039f"
             ],
             [
              0.2222222222222222,
              "#7201a8"
             ],
             [
              0.3333333333333333,
              "#9c179e"
             ],
             [
              0.4444444444444444,
              "#bd3786"
             ],
             [
              0.5555555555555556,
              "#d8576b"
             ],
             [
              0.6666666666666666,
              "#ed7953"
             ],
             [
              0.7777777777777778,
              "#fb9f3a"
             ],
             [
              0.8888888888888888,
              "#fdca26"
             ],
             [
              1,
              "#f0f921"
             ]
            ],
            "type": "heatmap"
           }
          ],
          "heatmapgl": [
           {
            "colorbar": {
             "outlinewidth": 0,
             "ticks": ""
            },
            "colorscale": [
             [
              0,
              "#0d0887"
             ],
             [
              0.1111111111111111,
              "#46039f"
             ],
             [
              0.2222222222222222,
              "#7201a8"
             ],
             [
              0.3333333333333333,
              "#9c179e"
             ],
             [
              0.4444444444444444,
              "#bd3786"
             ],
             [
              0.5555555555555556,
              "#d8576b"
             ],
             [
              0.6666666666666666,
              "#ed7953"
             ],
             [
              0.7777777777777778,
              "#fb9f3a"
             ],
             [
              0.8888888888888888,
              "#fdca26"
             ],
             [
              1,
              "#f0f921"
             ]
            ],
            "type": "heatmapgl"
           }
          ],
          "histogram": [
           {
            "marker": {
             "pattern": {
              "fillmode": "overlay",
              "size": 10,
              "solidity": 0.2
             }
            },
            "type": "histogram"
           }
          ],
          "histogram2d": [
           {
            "colorbar": {
             "outlinewidth": 0,
             "ticks": ""
            },
            "colorscale": [
             [
              0,
              "#0d0887"
             ],
             [
              0.1111111111111111,
              "#46039f"
             ],
             [
              0.2222222222222222,
              "#7201a8"
             ],
             [
              0.3333333333333333,
              "#9c179e"
             ],
             [
              0.4444444444444444,
              "#bd3786"
             ],
             [
              0.5555555555555556,
              "#d8576b"
             ],
             [
              0.6666666666666666,
              "#ed7953"
             ],
             [
              0.7777777777777778,
              "#fb9f3a"
             ],
             [
              0.8888888888888888,
              "#fdca26"
             ],
             [
              1,
              "#f0f921"
             ]
            ],
            "type": "histogram2d"
           }
          ],
          "histogram2dcontour": [
           {
            "colorbar": {
             "outlinewidth": 0,
             "ticks": ""
            },
            "colorscale": [
             [
              0,
              "#0d0887"
             ],
             [
              0.1111111111111111,
              "#46039f"
             ],
             [
              0.2222222222222222,
              "#7201a8"
             ],
             [
              0.3333333333333333,
              "#9c179e"
             ],
             [
              0.4444444444444444,
              "#bd3786"
             ],
             [
              0.5555555555555556,
              "#d8576b"
             ],
             [
              0.6666666666666666,
              "#ed7953"
             ],
             [
              0.7777777777777778,
              "#fb9f3a"
             ],
             [
              0.8888888888888888,
              "#fdca26"
             ],
             [
              1,
              "#f0f921"
             ]
            ],
            "type": "histogram2dcontour"
           }
          ],
          "mesh3d": [
           {
            "colorbar": {
             "outlinewidth": 0,
             "ticks": ""
            },
            "type": "mesh3d"
           }
          ],
          "parcoords": [
           {
            "line": {
             "colorbar": {
              "outlinewidth": 0,
              "ticks": ""
             }
            },
            "type": "parcoords"
           }
          ],
          "pie": [
           {
            "automargin": true,
            "type": "pie"
           }
          ],
          "scatter": [
           {
            "fillpattern": {
             "fillmode": "overlay",
             "size": 10,
             "solidity": 0.2
            },
            "type": "scatter"
           }
          ],
          "scatter3d": [
           {
            "line": {
             "colorbar": {
              "outlinewidth": 0,
              "ticks": ""
             }
            },
            "marker": {
             "colorbar": {
              "outlinewidth": 0,
              "ticks": ""
             }
            },
            "type": "scatter3d"
           }
          ],
          "scattercarpet": [
           {
            "marker": {
             "colorbar": {
              "outlinewidth": 0,
              "ticks": ""
             }
            },
            "type": "scattercarpet"
           }
          ],
          "scattergeo": [
           {
            "marker": {
             "colorbar": {
              "outlinewidth": 0,
              "ticks": ""
             }
            },
            "type": "scattergeo"
           }
          ],
          "scattergl": [
           {
            "marker": {
             "colorbar": {
              "outlinewidth": 0,
              "ticks": ""
             }
            },
            "type": "scattergl"
           }
          ],
          "scattermapbox": [
           {
            "marker": {
             "colorbar": {
              "outlinewidth": 0,
              "ticks": ""
             }
            },
            "type": "scattermapbox"
           }
          ],
          "scatterpolar": [
           {
            "marker": {
             "colorbar": {
              "outlinewidth": 0,
              "ticks": ""
             }
            },
            "type": "scatterpolar"
           }
          ],
          "scatterpolargl": [
           {
            "marker": {
             "colorbar": {
              "outlinewidth": 0,
              "ticks": ""
             }
            },
            "type": "scatterpolargl"
           }
          ],
          "scatterternary": [
           {
            "marker": {
             "colorbar": {
              "outlinewidth": 0,
              "ticks": ""
             }
            },
            "type": "scatterternary"
           }
          ],
          "surface": [
           {
            "colorbar": {
             "outlinewidth": 0,
             "ticks": ""
            },
            "colorscale": [
             [
              0,
              "#0d0887"
             ],
             [
              0.1111111111111111,
              "#46039f"
             ],
             [
              0.2222222222222222,
              "#7201a8"
             ],
             [
              0.3333333333333333,
              "#9c179e"
             ],
             [
              0.4444444444444444,
              "#bd3786"
             ],
             [
              0.5555555555555556,
              "#d8576b"
             ],
             [
              0.6666666666666666,
              "#ed7953"
             ],
             [
              0.7777777777777778,
              "#fb9f3a"
             ],
             [
              0.8888888888888888,
              "#fdca26"
             ],
             [
              1,
              "#f0f921"
             ]
            ],
            "type": "surface"
           }
          ],
          "table": [
           {
            "cells": {
             "fill": {
              "color": "#EBF0F8"
             },
             "line": {
              "color": "white"
             }
            },
            "header": {
             "fill": {
              "color": "#C8D4E3"
             },
             "line": {
              "color": "white"
             }
            },
            "type": "table"
           }
          ]
         },
         "layout": {
          "annotationdefaults": {
           "arrowcolor": "#2a3f5f",
           "arrowhead": 0,
           "arrowwidth": 1
          },
          "autotypenumbers": "strict",
          "coloraxis": {
           "colorbar": {
            "outlinewidth": 0,
            "ticks": ""
           }
          },
          "colorscale": {
           "diverging": [
            [
             0,
             "#8e0152"
            ],
            [
             0.1,
             "#c51b7d"
            ],
            [
             0.2,
             "#de77ae"
            ],
            [
             0.3,
             "#f1b6da"
            ],
            [
             0.4,
             "#fde0ef"
            ],
            [
             0.5,
             "#f7f7f7"
            ],
            [
             0.6,
             "#e6f5d0"
            ],
            [
             0.7,
             "#b8e186"
            ],
            [
             0.8,
             "#7fbc41"
            ],
            [
             0.9,
             "#4d9221"
            ],
            [
             1,
             "#276419"
            ]
           ],
           "sequential": [
            [
             0,
             "#0d0887"
            ],
            [
             0.1111111111111111,
             "#46039f"
            ],
            [
             0.2222222222222222,
             "#7201a8"
            ],
            [
             0.3333333333333333,
             "#9c179e"
            ],
            [
             0.4444444444444444,
             "#bd3786"
            ],
            [
             0.5555555555555556,
             "#d8576b"
            ],
            [
             0.6666666666666666,
             "#ed7953"
            ],
            [
             0.7777777777777778,
             "#fb9f3a"
            ],
            [
             0.8888888888888888,
             "#fdca26"
            ],
            [
             1,
             "#f0f921"
            ]
           ],
           "sequentialminus": [
            [
             0,
             "#0d0887"
            ],
            [
             0.1111111111111111,
             "#46039f"
            ],
            [
             0.2222222222222222,
             "#7201a8"
            ],
            [
             0.3333333333333333,
             "#9c179e"
            ],
            [
             0.4444444444444444,
             "#bd3786"
            ],
            [
             0.5555555555555556,
             "#d8576b"
            ],
            [
             0.6666666666666666,
             "#ed7953"
            ],
            [
             0.7777777777777778,
             "#fb9f3a"
            ],
            [
             0.8888888888888888,
             "#fdca26"
            ],
            [
             1,
             "#f0f921"
            ]
           ]
          },
          "colorway": [
           "#636efa",
           "#EF553B",
           "#00cc96",
           "#ab63fa",
           "#FFA15A",
           "#19d3f3",
           "#FF6692",
           "#B6E880",
           "#FF97FF",
           "#FECB52"
          ],
          "font": {
           "color": "#2a3f5f"
          },
          "geo": {
           "bgcolor": "white",
           "lakecolor": "white",
           "landcolor": "white",
           "showlakes": true,
           "showland": true,
           "subunitcolor": "#C8D4E3"
          },
          "hoverlabel": {
           "align": "left"
          },
          "hovermode": "closest",
          "mapbox": {
           "style": "light"
          },
          "paper_bgcolor": "white",
          "plot_bgcolor": "white",
          "polar": {
           "angularaxis": {
            "gridcolor": "#EBF0F8",
            "linecolor": "#EBF0F8",
            "ticks": ""
           },
           "bgcolor": "white",
           "radialaxis": {
            "gridcolor": "#EBF0F8",
            "linecolor": "#EBF0F8",
            "ticks": ""
           }
          },
          "scene": {
           "xaxis": {
            "backgroundcolor": "white",
            "gridcolor": "#DFE8F3",
            "gridwidth": 2,
            "linecolor": "#EBF0F8",
            "showbackground": true,
            "ticks": "",
            "zerolinecolor": "#EBF0F8"
           },
           "yaxis": {
            "backgroundcolor": "white",
            "gridcolor": "#DFE8F3",
            "gridwidth": 2,
            "linecolor": "#EBF0F8",
            "showbackground": true,
            "ticks": "",
            "zerolinecolor": "#EBF0F8"
           },
           "zaxis": {
            "backgroundcolor": "white",
            "gridcolor": "#DFE8F3",
            "gridwidth": 2,
            "linecolor": "#EBF0F8",
            "showbackground": true,
            "ticks": "",
            "zerolinecolor": "#EBF0F8"
           }
          },
          "shapedefaults": {
           "line": {
            "color": "#2a3f5f"
           }
          },
          "ternary": {
           "aaxis": {
            "gridcolor": "#DFE8F3",
            "linecolor": "#A2B1C6",
            "ticks": ""
           },
           "baxis": {
            "gridcolor": "#DFE8F3",
            "linecolor": "#A2B1C6",
            "ticks": ""
           },
           "bgcolor": "white",
           "caxis": {
            "gridcolor": "#DFE8F3",
            "linecolor": "#A2B1C6",
            "ticks": ""
           }
          },
          "title": {
           "x": 0.05
          },
          "xaxis": {
           "automargin": true,
           "gridcolor": "#EBF0F8",
           "linecolor": "#EBF0F8",
           "ticks": "",
           "title": {
            "standoff": 15
           },
           "zerolinecolor": "#EBF0F8",
           "zerolinewidth": 2
          },
          "yaxis": {
           "automargin": true,
           "gridcolor": "#EBF0F8",
           "linecolor": "#EBF0F8",
           "ticks": "",
           "title": {
            "standoff": 15
           },
           "zerolinecolor": "#EBF0F8",
           "zerolinewidth": 2
          }
         }
        },
        "title": {
         "text": "Weights with max constraint"
        },
        "xaxis": {
         "anchor": "y",
         "autorange": true,
         "domain": [
          0,
          1
         ],
         "range": [
          "2022-03-04",
          "2022-09-29"
         ],
         "showspikes": true,
         "spikecolor": "#999999",
         "spikedash": "dot",
         "spikemode": "across",
         "spikethickness": 2,
         "title": {
          "text": "date"
         },
         "type": "date"
        },
        "yaxis": {
         "anchor": "x",
         "domain": [
          0,
          1
         ],
         "range": [
          0,
          1
         ],
         "tickformat": ".2%",
         "title": {
          "text": "weight, %"
         },
         "type": "linear"
        }
       }
      },
      "image/png": "[encoded data removed]",
      "text/html": [
       "<div>                            <div id=\"8bbcaa67-8f12-4cb6-a9bd-c81b904c4090\" class=\"plotly-graph-div\" style=\"height:525px; width:100%;\"></div>            <script type=\"text/javascript\">                require([\"plotly\"], function(Plotly) {                    window.PLOTLYENV=window.PLOTLYENV || {};                                    if (document.getElementById(\"8bbcaa67-8f12-4cb6-a9bd-c81b904c4090\")) {                    Plotly.newPlot(                        \"8bbcaa67-8f12-4cb6-a9bd-c81b904c4090\",                        [{\"hovertemplate\":\"%{y}\",\"legendgroup\":\"avalanche-2\",\"line\":{\"color\":\"#636efa\",\"dash\":\"solid\"},\"marker\":{\"symbol\":\"circle\"},\"mode\":\"lines\",\"name\":\"avalanche-2\",\"orientation\":\"v\",\"showlegend\":true,\"x\":[\"2022-03-04T00:00:00\",\"2022-03-05T00:00:00\",\"2022-03-06T00:00:00\",\"2022-03-07T00:00:00\",\"2022-03-08T00:00:00\",\"2022-03-09T00:00:00\",\"2022-03-10T00:00:00\",\"2022-03-11T00:00:00\",\"2022-03-12T00:00:00\",\"2022-03-13T00:00:00\",\"2022-03-14T00:00:00\",\"2022-03-15T00:00:00\",\"2022-03-16T00:00:00\",\"2022-03-17T00:00:00\",\"2022-03-18T00:00:00\",\"2022-03-19T00:00:00\",\"2022-03-20T00:00:00\",\"2022-03-21T00:00:00\",\"2022-03-22T00:00:00\",\"2022-03-23T00:00:00\",\"2022-03-24T00:00:00\",\"2022-03-25T00:00:00\",\"2022-03-26T00:00:00\",\"2022-03-27T00:00:00\",\"2022-03-28T00:00:00\",\"2022-03-29T00:00:00\",\"2022-03-30T00:00:00\",\"2022-03-31T00:00:00\",\"2022-04-01T00:00:00\",\"2022-04-02T00:00:00\",\"2022-04-03T00:00:00\",\"2022-04-04T00:00:00\",\"2022-04-05T00:00:00\",\"2022-04-06T00:00:00\",\"2022-04-07T00:00:00\",\"2022-04-08T00:00:00\",\"2022-04-09T00:00:00\",\"2022-04-10T00:00:00\",\"2022-04-11T00:00:00\",\"2022-04-12T00:00:00\",\"2022-04-13T00:00:00\",\"2022-04-14T00:00:00\",\"2022-04-15T00:00:00\",\"2022-04-16T00:00:00\",\"2022-04-17T00:00:00\",\"2022-04-18T00:00:00\",\"2022-04-19T00:00:00\",\"2022-04-20T00:00:00\",\"2022-04-21T00:00:00\",\"2022-04-22T00:00:00\",\"2022-04-23T00:00:00\",\"2022-04-24T00:00:00\",\"2022-04-25T00:00:00\",\"2022-04-26T00:00:00\",\"2022-04-27T00:00:00\",\"2022-04-28T00:00:00\",\"2022-04-29T00:00:00\",\"2022-04-30T00:00:00\",\"2022-05-01T00:00:00\",\"2022-05-02T00:00:00\",\"2022-05-03T00:00:00\",\"2022-05-04T00:00:00\",\"2022-05-05T00:00:00\",\"2022-05-06T00:00:00\",\"2022-05-07T00:00:00\",\"2022-05-08T00:00:00\",\"2022-05-09T00:00:00\",\"2022-05-10T00:00:00\",\"2022-05-11T00:00:00\",\"2022-05-12T00:00:00\",\"2022-05-13T00:00:00\",\"2022-05-14T00:00:00\",\"2022-05-15T00:00:00\",\"2022-05-16T00:00:00\",\"2022-05-17T00:00:00\",\"2022-05-18T00:00:00\",\"2022-05-19T00:00:00\",\"2022-05-20T00:00:00\",\"2022-05-21T00:00:00\",\"2022-05-22T00:00:00\",\"2022-05-23T00:00:00\",\"2022-05-24T00:00:00\",\"2022-05-25T00:00:00\",\"2022-05-26T00:00:00\",\"2022-05-27T00:00:00\",\"2022-05-28T00:00:00\",\"2022-05-29T00:00:00\",\"2022-05-30T00:00:00\",\"2022-05-31T00:00:00\",\"2022-06-01T00:00:00\",\"2022-06-02T00:00:00\",\"2022-06-03T00:00:00\",\"2022-06-04T00:00:00\",\"2022-06-05T00:00:00\",\"2022-06-06T00:00:00\",\"2022-06-07T00:00:00\",\"2022-06-08T00:00:00\",\"2022-06-09T00:00:00\",\"2022-06-10T00:00:00\",\"2022-06-11T00:00:00\",\"2022-06-12T00:00:00\",\"2022-06-13T00:00:00\",\"2022-06-14T00:00:00\",\"2022-06-15T00:00:00\",\"2022-06-16T00:00:00\",\"2022-06-17T00:00:00\",\"2022-06-18T00:00:00\",\"2022-06-19T00:00:00\",\"2022-06-20T00:00:00\",\"2022-06-21T00:00:00\",\"2022-06-22T00:00:00\",\"2022-06-23T00:00:00\",\"2022-06-24T00:00:00\",\"2022-06-25T00:00:00\",\"2022-06-26T00:00:00\",\"2022-06-27T00:00:00\",\"2022-06-28T00:00:00\",\"2022-06-29T00:00:00\",\"2022-06-30T00:00:00\",\"2022-07-01T00:00:00\",\"2022-07-02T00:00:00\",\"2022-07-03T00:00:00\",\"2022-07-04T00:00:00\",\"2022-07-05T00:00:00\",\"2022-07-06T00:00:00\",\"2022-07-07T00:00:00\",\"2022-07-08T00:00:00\",\"2022-07-09T00:00:00\",\"2022-07-10T00:00:00\",\"2022-07-11T00:00:00\",\"2022-07-12T00:00:00\",\"2022-07-13T00:00:00\",\"2022-07-14T00:00:00\",\"2022-07-15T00:00:00\",\"2022-07-16T00:00:00\",\"2022-07-17T00:00:00\",\"2022-07-18T00:00:00\",\"2022-07-19T00:00:00\",\"2022-07-20T00:00:00\",\"2022-07-21T00:00:00\",\"2022-07-22T00:00:00\",\"2022-07-23T00:00:00\",\"2022-07-24T00:00:00\",\"2022-07-25T00:00:00\",\"2022-07-26T00:00:00\",\"2022-07-27T00:00:00\",\"2022-07-28T00:00:00\",\"2022-07-29T00:00:00\",\"2022-07-30T00:00:00\",\"2022-07-31T00:00:00\",\"2022-08-01T00:00:00\",\"2022-08-02T00:00:00\",\"2022-08-03T00:00:00\",\"2022-08-04T00:00:00\",\"2022-08-05T00:00:00\",\"2022-08-06T00:00:00\",\"2022-08-07T00:00:00\",\"2022-08-08T00:00:00\",\"2022-08-09T00:00:00\",\"2022-08-10T00:00:00\",\"2022-08-11T00:00:00\",\"2022-08-12T00:00:00\",\"2022-08-13T00:00:00\",\"2022-08-14T00:00:00\",\"2022-08-15T00:00:00\",\"2022-08-16T00:00:00\",\"2022-08-17T00:00:00\",\"2022-08-18T00:00:00\",\"2022-08-19T00:00:00\",\"2022-08-20T00:00:00\",\"2022-08-21T00:00:00\",\"2022-08-22T00:00:00\",\"2022-08-23T00:00:00\",\"2022-08-24T00:00:00\",\"2022-08-25T00:00:00\",\"2022-08-26T00:00:00\",\"2022-08-27T00:00:00\",\"2022-08-28T00:00:00\",\"2022-08-29T00:00:00\",\"2022-08-30T00:00:00\",\"2022-08-31T00:00:00\",\"2022-09-01T00:00:00\",\"2022-09-02T00:00:00\",\"2022-09-03T00:00:00\",\"2022-09-04T00:00:00\",\"2022-09-05T00:00:00\",\"2022-09-06T00:00:00\",\"2022-09-07T00:00:00\",\"2022-09-08T00:00:00\",\"2022-09-09T00:00:00\",\"2022-09-10T00:00:00\",\"2022-09-11T00:00:00\",\"2022-09-12T00:00:00\",\"2022-09-13T00:00:00\",\"2022-09-14T00:00:00\",\"2022-09-15T00:00:00\",\"2022-09-16T00:00:00\",\"2022-09-17T00:00:00\",\"2022-09-18T00:00:00\",\"2022-09-19T00:00:00\",\"2022-09-20T00:00:00\",\"2022-09-21T00:00:00\",\"2022-09-22T00:00:00\",\"2022-09-23T00:00:00\",\"2022-09-24T00:00:00\",\"2022-09-25T00:00:00\",\"2022-09-26T00:00:00\",\"2022-09-27T00:00:00\",\"2022-09-28T00:00:00\",\"2022-09-29T00:00:00\"],\"xaxis\":\"x\",\"y\":[0.49999999999999994,0.5,0.5,0.5,0.49999999999999994,0.5,0.5,0.49999999999999994,0.5,0.5,0.5,0.5,0.5,0.5,0.5,0.5,0.5,0.5,0.5,0.5,0.5,0.5,0.5,0.5,0.5,0.5,0.5,0.5,0.5,0.5,0.5,0.49999999999999994,0.5,0.5,0.5,0.5,0.5,0.5,0.49999999999999994,0.5,0.5,0.5,0.5,0.5,0.5,0.5,0.5,0.49999999999999994,0.5,0.5,0.5,0.5,0.5,0.5,0.5,0.5,0.5,0.49999999999999994,0.5,0.5,0.5,0.5,0.5,0.5,0.5,0.5,0.5,0.5,0.5,0.5,0.5,0.5,0.5,0.5,0.5,0.5,0.5,0.5,0.5,0.5,0.49999999999999994,0.5,0.5,0.5,0.5,0.5,0.5,0.5,0.5,0.5,0.5,0.5,0.5,0.5,0.5,0.5,0.5,0.5,0.5,0.5,0.5,0.5,0.5,0.5,0.5,0.5,0.5,0.5,0.5,0.5,0.5,0.5,0.5,0.5,0.49999999999999994,0.5,0.5,0.5,0.5,0.5,0.5,0.5,0.5,0.5,0.5,0.5,0.5,0.5,0.5,0.5,0.4999999999999999,0.5,0.5,0.5,0.5,0.5,0.5,0.5,0.5,0.5,0.5,0.5,0.5,0.5,0.5,0.5,0.49999999999999994,0.5,0.5,0.5,0.5,0.5,0.5,0.5,0.5,0.49999999999999994,0.5,0.5,0.5,0.5,0.5,0.5,0.5,0.5,0.5,0.5,0.5,0.5,0.5,0.5,0.5,0.5,0.5,0.5,0.5,0.5,0.5,0.5,0.5,0.5,0.5,0.49999999999999994,0.5,0.5,0.5,0.5,0.5,0.5,0.5,0.5,0.5,0.5,0.5,0.5,0.5,0.5,0.5,0.5,0.5,0.5,0.5,0.5,0.5,0.5,0.5,0.5,0.5,0.5,0.5,0.5],\"yaxis\":\"y\",\"type\":\"scatter\"},{\"hovertemplate\":\"%{y}\",\"legendgroup\":\"joe\",\"line\":{\"color\":\"#EF553B\",\"dash\":\"solid\"},\"marker\":{\"symbol\":\"circle\"},\"mode\":\"lines\",\"name\":\"joe\",\"orientation\":\"v\",\"showlegend\":true,\"x\":[\"2022-03-04T00:00:00\",\"2022-03-05T00:00:00\",\"2022-03-06T00:00:00\",\"2022-03-07T00:00:00\",\"2022-03-08T00:00:00\",\"2022-03-09T00:00:00\",\"2022-03-10T00:00:00\",\"2022-03-11T00:00:00\",\"2022-03-12T00:00:00\",\"2022-03-13T00:00:00\",\"2022-03-14T00:00:00\",\"2022-03-15T00:00:00\",\"2022-03-16T00:00:00\",\"2022-03-17T00:00:00\",\"2022-03-18T00:00:00\",\"2022-03-19T00:00:00\",\"2022-03-20T00:00:00\",\"2022-03-21T00:00:00\",\"2022-03-22T00:00:00\",\"2022-03-23T00:00:00\",\"2022-03-24T00:00:00\",\"2022-03-25T00:00:00\",\"2022-03-26T00:00:00\",\"2022-03-27T00:00:00\",\"2022-03-28T00:00:00\",\"2022-03-29T00:00:00\",\"2022-03-30T00:00:00\",\"2022-03-31T00:00:00\",\"2022-04-01T00:00:00\",\"2022-04-02T00:00:00\",\"2022-04-03T00:00:00\",\"2022-04-04T00:00:00\",\"2022-04-05T00:00:00\",\"2022-04-06T00:00:00\",\"2022-04-07T00:00:00\",\"2022-04-08T00:00:00\",\"2022-04-09T00:00:00\",\"2022-04-10T00:00:00\",\"2022-04-11T00:00:00\",\"2022-04-12T00:00:00\",\"2022-04-13T00:00:00\",\"2022-04-14T00:00:00\",\"2022-04-15T00:00:00\",\"2022-04-16T00:00:00\",\"2022-04-17T00:00:00\",\"2022-04-18T00:00:00\",\"2022-04-19T00:00:00\",\"2022-04-20T00:00:00\",\"2022-04-21T00:00:00\",\"2022-04-22T00:00:00\",\"2022-04-23T00:00:00\",\"2022-04-24T00:00:00\",\"2022-04-25T00:00:00\",\"2022-04-26T00:00:00\",\"2022-04-27T00:00:00\",\"2022-04-28T00:00:00\",\"2022-04-29T00:00:00\",\"2022-04-30T00:00:00\",\"2022-05-01T00:00:00\",\"2022-05-02T00:00:00\",\"2022-05-03T00:00:00\",\"2022-05-04T00:00:00\",\"2022-05-05T00:00:00\",\"2022-05-06T00:00:00\",\"2022-05-07T00:00:00\",\"2022-05-08T00:00:00\",\"2022-05-09T00:00:00\",\"2022-05-10T00:00:00\",\"2022-05-11T00:00:00\",\"2022-05-12T00:00:00\",\"2022-05-13T00:00:00\",\"2022-05-14T00:00:00\",\"2022-05-15T00:00:00\",\"2022-05-16T00:00:00\",\"2022-05-17T00:00:00\",\"2022-05-18T00:00:00\",\"2022-05-19T00:00:00\",\"2022-05-20T00:00:00\",\"2022-05-21T00:00:00\",\"2022-05-22T00:00:00\",\"2022-05-23T00:00:00\",\"2022-05-24T00:00:00\",\"2022-05-25T00:00:00\",\"2022-05-26T00:00:00\",\"2022-05-27T00:00:00\",\"2022-05-28T00:00:00\",\"2022-05-29T00:00:00\",\"2022-05-30T00:00:00\",\"2022-05-31T00:00:00\",\"2022-06-01T00:00:00\",\"2022-06-02T00:00:00\",\"2022-06-03T00:00:00\",\"2022-06-04T00:00:00\",\"2022-06-05T00:00:00\",\"2022-06-06T00:00:00\",\"2022-06-07T00:00:00\",\"2022-06-08T00:00:00\",\"2022-06-09T00:00:00\",\"2022-06-10T00:00:00\",\"2022-06-11T00:00:00\",\"2022-06-12T00:00:00\",\"2022-06-13T00:00:00\",\"2022-06-14T00:00:00\",\"2022-06-15T00:00:00\",\"2022-06-16T00:00:00\",\"2022-06-17T00:00:00\",\"2022-06-18T00:00:00\",\"2022-06-19T00:00:00\",\"2022-06-20T00:00:00\",\"2022-06-21T00:00:00\",\"2022-06-22T00:00:00\",\"2022-06-23T00:00:00\",\"2022-06-24T00:00:00\",\"2022-06-25T00:00:00\",\"2022-06-26T00:00:00\",\"2022-06-27T00:00:00\",\"2022-06-28T00:00:00\",\"2022-06-29T00:00:00\",\"2022-06-30T00:00:00\",\"2022-07-01T00:00:00\",\"2022-07-02T00:00:00\",\"2022-07-03T00:00:00\",\"2022-07-04T00:00:00\",\"2022-07-05T00:00:00\",\"2022-07-06T00:00:00\",\"2022-07-07T00:00:00\",\"2022-07-08T00:00:00\",\"2022-07-09T00:00:00\",\"2022-07-10T00:00:00\",\"2022-07-11T00:00:00\",\"2022-07-12T00:00:00\",\"2022-07-13T00:00:00\",\"2022-07-14T00:00:00\",\"2022-07-15T00:00:00\",\"2022-07-16T00:00:00\",\"2022-07-17T00:00:00\",\"2022-07-18T00:00:00\",\"2022-07-19T00:00:00\",\"2022-07-20T00:00:00\",\"2022-07-21T00:00:00\",\"2022-07-22T00:00:00\",\"2022-07-23T00:00:00\",\"2022-07-24T00:00:00\",\"2022-07-25T00:00:00\",\"2022-07-26T00:00:00\",\"2022-07-27T00:00:00\",\"2022-07-28T00:00:00\",\"2022-07-29T00:00:00\",\"2022-07-30T00:00:00\",\"2022-07-31T00:00:00\",\"2022-08-01T00:00:00\",\"2022-08-02T00:00:00\",\"2022-08-03T00:00:00\",\"2022-08-04T00:00:00\",\"2022-08-05T00:00:00\",\"2022-08-06T00:00:00\",\"2022-08-07T00:00:00\",\"2022-08-08T00:00:00\",\"2022-08-09T00:00:00\",\"2022-08-10T00:00:00\",\"2022-08-11T00:00:00\",\"2022-08-12T00:00:00\",\"2022-08-13T00:00:00\",\"2022-08-14T00:00:00\",\"2022-08-15T00:00:00\",\"2022-08-16T00:00:00\",\"2022-08-17T00:00:00\",\"2022-08-18T00:00:00\",\"2022-08-19T00:00:00\",\"2022-08-20T00:00:00\",\"2022-08-21T00:00:00\",\"2022-08-22T00:00:00\",\"2022-08-23T00:00:00\",\"2022-08-24T00:00:00\",\"2022-08-25T00:00:00\",\"2022-08-26T00:00:00\",\"2022-08-27T00:00:00\",\"2022-08-28T00:00:00\",\"2022-08-29T00:00:00\",\"2022-08-30T00:00:00\",\"2022-08-31T00:00:00\",\"2022-09-01T00:00:00\",\"2022-09-02T00:00:00\",\"2022-09-03T00:00:00\",\"2022-09-04T00:00:00\",\"2022-09-05T00:00:00\",\"2022-09-06T00:00:00\",\"2022-09-07T00:00:00\",\"2022-09-08T00:00:00\",\"2022-09-09T00:00:00\",\"2022-09-10T00:00:00\",\"2022-09-11T00:00:00\",\"2022-09-12T00:00:00\",\"2022-09-13T00:00:00\",\"2022-09-14T00:00:00\",\"2022-09-15T00:00:00\",\"2022-09-16T00:00:00\",\"2022-09-17T00:00:00\",\"2022-09-18T00:00:00\",\"2022-09-19T00:00:00\",\"2022-09-20T00:00:00\",\"2022-09-21T00:00:00\",\"2022-09-22T00:00:00\",\"2022-09-23T00:00:00\",\"2022-09-24T00:00:00\",\"2022-09-25T00:00:00\",\"2022-09-26T00:00:00\",\"2022-09-27T00:00:00\",\"2022-09-28T00:00:00\",\"2022-09-29T00:00:00\"],\"xaxis\":\"x\",\"y\":[0.337921625942801,0.35010940723157347,0.3483113326849444,0.34762116723750824,0.34676656157873986,0.345989215883219,0.3446478238158224,0.34412613628689875,0.34113048721268335,0.3440221803995671,0.33881432692348656,0.33826965851986746,0.33457023111265743,0.3374861310586056,0.34980707575885994,0.34061035410991186,0.34192785521257363,0.33507794032628346,0.3364297170750693,0.32509932397659524,0.3224941074937821,0.3288500391388832,0.3271821636517271,0.3240115138688704,0.3200657833467742,0.3385443765048401,0.33603466170874496,0.3424556338948144,0.35080991865708144,0.3456706838382112,0.3433678919412839,0.3485544599264507,0.35399950700549904,0.36518112817530035,0.3666278676922074,0.372658483161118,0.37687478830383864,0.37939628730466024,0.3773765269733306,0.3735791433098338,0.3762539264834952,0.37773436290227713,0.3759380493230377,0.37335784740373335,0.3724237238470149,0.37534027797344705,0.376953338986957,0.37402902665620935,0.3731663036478009,0.3741215030318198,0.372538627391275,0.3684093024016113,0.37132046214917314,0.37682882418964037,0.38020295674945553,0.38111993694595414,0.3773781881198361,0.37898435471232456,0.382330547590216,0.38089818151979005,0.38808046507744887,0.3905467458393676,0.3891588551844515,0.39128564236777136,0.38911736510735856,0.3875064719837473,0.3904698596388289,0.3901702863487373,0.3899543933518518,0.3948024117389028,0.41089774820867475,0.41100916995131775,0.41341574726569913,0.40374806738464775,0.4084613956837519,0.40142413560029777,0.4013571289753637,0.40560642958961596,0.39801252062245024,0.39251391929796337,0.3974548539902284,0.3963866954076372,0.3920285770477783,0.3745138264355506,0.3763427787648821,0.37120377718921344,0.3761754175853419,0.3758163427350685,0.3735888677040672,0.3657094834000155,0.372763665171818,0.3708346498331979,0.3655655641677879,0.3625266914384239,0.36372670311188243,0.3666420744094466,0.3603920099351668,0.35447971359821834,0.356799041145203,0.35133055675061076,0.3416396560147373,0.3167291946947672,0.30985827032088387,0.319793624327917,0.3299618187831099,0.3293588050270874,0.3284115432222744,0.34526123269929665,0.34134331250378896,0.34568606110768074,0.3481412661016985,0.34337759238541377,0.3477173264730027,0.36369196016110406,0.3662949970005247,0.35886397970073014,0.33332960239077736,0.33983903198503435,0.3338894247334896,0.3313205421416383,0.3236809458728883,0.32446132486059853,0.3250813625843634,0.3296577121709469,0.33267261601777104,0.3401784432801185,0.33766416635242374,0.32843265833022606,0.32560918372101016,0.32956188571168843,0.3288670539515575,0.33409157936515643,0.3536424473245575,0.3376026031677146,0.3407303271960701,0.34010597156439604,0.3451772321637295,0.3580892762027138,0.348729950321995,0.36405588178607917,0.36987456363539695,0.3657848279391182,0.36740368740300655,0.3649343216538488,0.361265883915229,0.3606730180915522,0.3671385107631391,0.357410230232735,0.3494927005753403,0.3538465036706939,0.3491218701997699,0.35046674951696344,0.35018395569702404,0.35041644274131784,0.3489564160785934,0.3536907794914574,0.3541486725006,0.35333367501936014,0.3566425846358542,0.36083780777765806,0.3558567127237965,0.35854091874228144,0.3521178841447497,0.35393966274178235,0.35047268508503787,0.34376790099089805,0.3416844318336273,0.3418587400316685,0.3413061668173623,0.33704992052606786,0.3358035368980058,0.34394485440204553,0.3395354350758994,0.3421931238400275,0.3399109572076859,0.336261989586054,0.33627359314750294,0.34000445828016057,0.33434683159302303,0.3382245534891411,0.34197327982320413,0.3410842474032629,0.33963247777862454,0.33913634039148144,0.3416136362814213,0.33940875883586175,0.3402722871759681,0.34142703277389563,0.34441328948775857,0.34700125965572753,0.35094495355817157,0.3450785709498833,0.34684170440999534,0.34919285506035713,0.34702057199228425,0.3457701775164034,0.34522912392697014,0.35279193255123287,0.3546133578657466,0.35233283080031774,0.35270995778827596,0.350932537405066,0.3502948764245826,0.3517355096835294,0.3534951502589005,0.35629836635469997,0.3590278699065187,0.36141895231507587,0.3624570805080789,0.3642947531326031],\"yaxis\":\"y\",\"type\":\"scatter\"},{\"hovertemplate\":\"%{y}\",\"legendgroup\":\"benqi\",\"line\":{\"color\":\"#00cc96\",\"dash\":\"solid\"},\"marker\":{\"symbol\":\"circle\"},\"mode\":\"lines\",\"name\":\"benqi\",\"orientation\":\"v\",\"showlegend\":true,\"x\":[\"2022-03-04T00:00:00\",\"2022-03-05T00:00:00\",\"2022-03-06T00:00:00\",\"2022-03-07T00:00:00\",\"2022-03-08T00:00:00\",\"2022-03-09T00:00:00\",\"2022-03-10T00:00:00\",\"2022-03-11T00:00:00\",\"2022-03-12T00:00:00\",\"2022-03-13T00:00:00\",\"2022-03-14T00:00:00\",\"2022-03-15T00:00:00\",\"2022-03-16T00:00:00\",\"2022-03-17T00:00:00\",\"2022-03-18T00:00:00\",\"2022-03-19T00:00:00\",\"2022-03-20T00:00:00\",\"2022-03-21T00:00:00\",\"2022-03-22T00:00:00\",\"2022-03-23T00:00:00\",\"2022-03-24T00:00:00\",\"2022-03-25T00:00:00\",\"2022-03-26T00:00:00\",\"2022-03-27T00:00:00\",\"2022-03-28T00:00:00\",\"2022-03-29T00:00:00\",\"2022-03-30T00:00:00\",\"2022-03-31T00:00:00\",\"2022-04-01T00:00:00\",\"2022-04-02T00:00:00\",\"2022-04-03T00:00:00\",\"2022-04-04T00:00:00\",\"2022-04-05T00:00:00\",\"2022-04-06T00:00:00\",\"2022-04-07T00:00:00\",\"2022-04-08T00:00:00\",\"2022-04-09T00:00:00\",\"2022-04-10T00:00:00\",\"2022-04-11T00:00:00\",\"2022-04-12T00:00:00\",\"2022-04-13T00:00:00\",\"2022-04-14T00:00:00\",\"2022-04-15T00:00:00\",\"2022-04-16T00:00:00\",\"2022-04-17T00:00:00\",\"2022-04-18T00:00:00\",\"2022-04-19T00:00:00\",\"2022-04-20T00:00:00\",\"2022-04-21T00:00:00\",\"2022-04-22T00:00:00\",\"2022-04-23T00:00:00\",\"2022-04-24T00:00:00\",\"2022-04-25T00:00:00\",\"2022-04-26T00:00:00\",\"2022-04-27T00:00:00\",\"2022-04-28T00:00:00\",\"2022-04-29T00:00:00\",\"2022-04-30T00:00:00\",\"2022-05-01T00:00:00\",\"2022-05-02T00:00:00\",\"2022-05-03T00:00:00\",\"2022-05-04T00:00:00\",\"2022-05-05T00:00:00\",\"2022-05-06T00:00:00\",\"2022-05-07T00:00:00\",\"2022-05-08T00:00:00\",\"2022-05-09T00:00:00\",\"2022-05-10T00:00:00\",\"2022-05-11T00:00:00\",\"2022-05-12T00:00:00\",\"2022-05-13T00:00:00\",\"2022-05-14T00:00:00\",\"2022-05-15T00:00:00\",\"2022-05-16T00:00:00\",\"2022-05-17T00:00:00\",\"2022-05-18T00:00:00\",\"2022-05-19T00:00:00\",\"2022-05-20T00:00:00\",\"2022-05-21T00:00:00\",\"2022-05-22T00:00:00\",\"2022-05-23T00:00:00\",\"2022-05-24T00:00:00\",\"2022-05-25T00:00:00\",\"2022-05-26T00:00:00\",\"2022-05-27T00:00:00\",\"2022-05-28T00:00:00\",\"2022-05-29T00:00:00\",\"2022-05-30T00:00:00\",\"2022-05-31T00:00:00\",\"2022-06-01T00:00:00\",\"2022-06-02T00:00:00\",\"2022-06-03T00:00:00\",\"2022-06-04T00:00:00\",\"2022-06-05T00:00:00\",\"2022-06-06T00:00:00\",\"2022-06-07T00:00:00\",\"2022-06-08T00:00:00\",\"2022-06-09T00:00:00\",\"2022-06-10T00:00:00\",\"2022-06-11T00:00:00\",\"2022-06-12T00:00:00\",\"2022-06-13T00:00:00\",\"2022-06-14T00:00:00\",\"2022-06-15T00:00:00\",\"2022-06-16T00:00:00\",\"2022-06-17T00:00:00\",\"2022-06-18T00:00:00\",\"2022-06-19T00:00:00\",\"2022-06-20T00:00:00\",\"2022-06-21T00:00:00\",\"2022-06-22T00:00:00\",\"2022-06-23T00:00:00\",\"2022-06-24T00:00:00\",\"2022-06-25T00:00:00\",\"2022-06-26T00:00:00\",\"2022-06-27T00:00:00\",\"2022-06-28T00:00:00\",\"2022-06-29T00:00:00\",\"2022-06-30T00:00:00\",\"2022-07-01T00:00:00\",\"2022-07-02T00:00:00\",\"2022-07-03T00:00:00\",\"2022-07-04T00:00:00\",\"2022-07-05T00:00:00\",\"2022-07-06T00:00:00\",\"2022-07-07T00:00:00\",\"2022-07-08T00:00:00\",\"2022-07-09T00:00:00\",\"2022-07-10T00:00:00\",\"2022-07-11T00:00:00\",\"2022-07-12T00:00:00\",\"2022-07-13T00:00:00\",\"2022-07-14T00:00:00\",\"2022-07-15T00:00:00\",\"2022-07-16T00:00:00\",\"2022-07-17T00:00:00\",\"2022-07-18T00:00:00\",\"2022-07-19T00:00:00\",\"2022-07-20T00:00:00\",\"2022-07-21T00:00:00\",\"2022-07-22T00:00:00\",\"2022-07-23T00:00:00\",\"2022-07-24T00:00:00\",\"2022-07-25T00:00:00\",\"2022-07-26T00:00:00\",\"2022-07-27T00:00:00\",\"2022-07-28T00:00:00\",\"2022-07-29T00:00:00\",\"2022-07-30T00:00:00\",\"2022-07-31T00:00:00\",\"2022-08-01T00:00:00\",\"2022-08-02T00:00:00\",\"2022-08-03T00:00:00\",\"2022-08-04T00:00:00\",\"2022-08-05T00:00:00\",\"2022-08-06T00:00:00\",\"2022-08-07T00:00:00\",\"2022-08-08T00:00:00\",\"2022-08-09T00:00:00\",\"2022-08-10T00:00:00\",\"2022-08-11T00:00:00\",\"2022-08-12T00:00:00\",\"2022-08-13T00:00:00\",\"2022-08-14T00:00:00\",\"2022-08-15T00:00:00\",\"2022-08-16T00:00:00\",\"2022-08-17T00:00:00\",\"2022-08-18T00:00:00\",\"2022-08-19T00:00:00\",\"2022-08-20T00:00:00\",\"2022-08-21T00:00:00\",\"2022-08-22T00:00:00\",\"2022-08-23T00:00:00\",\"2022-08-24T00:00:00\",\"2022-08-25T00:00:00\",\"2022-08-26T00:00:00\",\"2022-08-27T00:00:00\",\"2022-08-28T00:00:00\",\"2022-08-29T00:00:00\",\"2022-08-30T00:00:00\",\"2022-08-31T00:00:00\",\"2022-09-01T00:00:00\",\"2022-09-02T00:00:00\",\"2022-09-03T00:00:00\",\"2022-09-04T00:00:00\",\"2022-09-05T00:00:00\",\"2022-09-06T00:00:00\",\"2022-09-07T00:00:00\",\"2022-09-08T00:00:00\",\"2022-09-09T00:00:00\",\"2022-09-10T00:00:00\",\"2022-09-11T00:00:00\",\"2022-09-12T00:00:00\",\"2022-09-13T00:00:00\",\"2022-09-14T00:00:00\",\"2022-09-15T00:00:00\",\"2022-09-16T00:00:00\",\"2022-09-17T00:00:00\",\"2022-09-18T00:00:00\",\"2022-09-19T00:00:00\",\"2022-09-20T00:00:00\",\"2022-09-21T00:00:00\",\"2022-09-22T00:00:00\",\"2022-09-23T00:00:00\",\"2022-09-24T00:00:00\",\"2022-09-25T00:00:00\",\"2022-09-26T00:00:00\",\"2022-09-27T00:00:00\",\"2022-09-28T00:00:00\",\"2022-09-29T00:00:00\"],\"xaxis\":\"x\",\"y\":[0.1620783740571991,0.14989059276842656,0.15168866731505562,0.15237883276249173,0.15323343842126028,0.154010784116781,0.1553521761841776,0.15587386371310133,0.15886951278731665,0.15597781960043292,0.1611856730765135,0.16173034148013254,0.16542976888734254,0.1625138689413944,0.15019292424114014,0.15938964589008814,0.1580721447874264,0.1649220596737165,0.1635702829249307,0.17490067602340473,0.1775058925062179,0.17114996086111683,0.1728178363482729,0.1759884861311296,0.17993421665322587,0.16145562349515985,0.16396533829125512,0.15754436610518557,0.14919008134291856,0.15432931616178888,0.15663210805871602,0.1514455400735494,0.14600049299450094,0.13481887182469968,0.1333721323077926,0.12734151683888206,0.12312521169616149,0.12060371269533977,0.12262347302666947,0.1264208566901661,0.12374607351650475,0.12226563709772285,0.12406195067696223,0.1266421525962667,0.12757627615298514,0.12465972202655301,0.12304666101304304,0.12597097334379076,0.12683369635219913,0.12587849696818024,0.127461372608725,0.13159069759838865,0.12867953785082686,0.1231711758103597,0.11979704325054451,0.11888006305404591,0.1226218118801639,0.1210156452876755,0.11766945240978403,0.11910181848020993,0.11191953492255108,0.10945325416063234,0.11084114481554848,0.10871435763222864,0.11088263489264152,0.11249352801625274,0.10953014036117113,0.10982971365126279,0.11004560664814825,0.10519758826109714,0.08910225179132526,0.08899083004868232,0.08658425273430083,0.09625193261535225,0.0915386043162481,0.09857586439970223,0.09864287102463627,0.09439357041038406,0.10198747937754975,0.10748608070203657,0.10254514600977162,0.10361330459236281,0.1079714229522217,0.12548617356444947,0.12365722123511791,0.12879622281078662,0.12382458241465807,0.12418365726493162,0.12641113229593287,0.13429051659998453,0.12723633482818192,0.12916535016680208,0.13443443583221198,0.1374733085615761,0.13627329688811754,0.1333579255905534,0.13960799006483332,0.14552028640178175,0.14320095885479697,0.14866944324938922,0.15836034398526283,0.18327080530523285,0.19014172967911616,0.18020637567208292,0.1700381812168901,0.17064119497291247,0.17158845677772558,0.1547387673007033,0.1586566874962111,0.1543139388923193,0.15185873389830154,0.15662240761458623,0.1522826735269974,0.13630803983889592,0.13370500299947544,0.14113602029926992,0.16667039760922273,0.16016096801496568,0.16611057526651044,0.16867945785836175,0.17631905412711169,0.17553867513940147,0.17491863741563668,0.17034228782905306,0.167327383982229,0.15982155671988146,0.16233583364757623,0.171567341669774,0.17439081627898975,0.17043811428831154,0.17113294604844254,0.16590842063484357,0.14635755267544243,0.16239739683228543,0.15926967280392992,0.15989402843560402,0.15482276783627055,0.14191072379728617,0.151270049678005,0.13594411821392083,0.1301254363646031,0.13421517206088174,0.13259631259699342,0.13506567834615124,0.138734116084771,0.13932698190844775,0.13286148923686106,0.14258976976726503,0.15050729942465968,0.14615349632930602,0.1508781298002301,0.1495332504830365,0.1498160443029759,0.1495835572586821,0.1510435839214066,0.1463092205085427,0.14585132749940005,0.1466663249806399,0.1433574153641459,0.13916219222234197,0.1441432872762035,0.14145908125771858,0.14788211585525032,0.14606033725821763,0.14952731491496213,0.156232099009102,0.1583155681663727,0.15814125996833153,0.1586938331826377,0.16295007947393214,0.16419646310199423,0.15605514559795436,0.16046456492410063,0.15780687615997252,0.16008904279231412,0.163738010413946,0.16372640685249704,0.15999554171983946,0.165653168406977,0.16177544651085904,0.1580267201767959,0.15891575259673724,0.16036752222137543,0.16086365960851862,0.15838636371857878,0.1605912411641383,0.15972771282403192,0.15857296722610448,0.15558671051224146,0.15299874034427247,0.1490550464418285,0.1549214290501167,0.15315829559000466,0.1508071449396429,0.1529794280077157,0.15422982248359657,0.15477087607302986,0.1472080674487671,0.14538664213425345,0.1476671691996822,0.14729004221172398,0.14906746259493395,0.14970512357541738,0.1482644903164706,0.14650484974109942,0.1437016336453001,0.14097213009348133,0.1385810476849241,0.13754291949192105,0.13570524686739696],\"yaxis\":\"y\",\"type\":\"scatter\"}],                        {\"template\":{\"data\":{\"barpolar\":[{\"marker\":{\"line\":{\"color\":\"white\",\"width\":0.5},\"pattern\":{\"fillmode\":\"overlay\",\"size\":10,\"solidity\":0.2}},\"type\":\"barpolar\"}],\"bar\":[{\"error_x\":{\"color\":\"#2a3f5f\"},\"error_y\":{\"color\":\"#2a3f5f\"},\"marker\":{\"line\":{\"color\":\"white\",\"width\":0.5},\"pattern\":{\"fillmode\":\"overlay\",\"size\":10,\"solidity\":0.2}},\"type\":\"bar\"}],\"carpet\":[{\"aaxis\":{\"endlinecolor\":\"#2a3f5f\",\"gridcolor\":\"#C8D4E3\",\"linecolor\":\"#C8D4E3\",\"minorgridcolor\":\"#C8D4E3\",\"startlinecolor\":\"#2a3f5f\"},\"baxis\":{\"endlinecolor\":\"#2a3f5f\",\"gridcolor\":\"#C8D4E3\",\"linecolor\":\"#C8D4E3\",\"minorgridcolor\":\"#C8D4E3\",\"startlinecolor\":\"#2a3f5f\"},\"type\":\"carpet\"}],\"choropleth\":[{\"colorbar\":{\"outlinewidth\":0,\"ticks\":\"\"},\"type\":\"choropleth\"}],\"contourcarpet\":[{\"colorbar\":{\"outlinewidth\":0,\"ticks\":\"\"},\"type\":\"contourcarpet\"}],\"contour\":[{\"colorbar\":{\"outlinewidth\":0,\"ticks\":\"\"},\"colorscale\":[[0.0,\"#0d0887\"],[0.1111111111111111,\"#46039f\"],[0.2222222222222222,\"#7201a8\"],[0.3333333333333333,\"#9c179e\"],[0.4444444444444444,\"#bd3786\"],[0.5555555555555556,\"#d8576b\"],[0.6666666666666666,\"#ed7953\"],[0.7777777777777778,\"#fb9f3a\"],[0.8888888888888888,\"#fdca26\"],[1.0,\"#f0f921\"]],\"type\":\"contour\"}],\"heatmapgl\":[{\"colorbar\":{\"outlinewidth\":0,\"ticks\":\"\"},\"colorscale\":[[0.0,\"#0d0887\"],[0.1111111111111111,\"#46039f\"],[0.2222222222222222,\"#7201a8\"],[0.3333333333333333,\"#9c179e\"],[0.4444444444444444,\"#bd3786\"],[0.5555555555555556,\"#d8576b\"],[0.6666666666666666,\"#ed7953\"],[0.7777777777777778,\"#fb9f3a\"],[0.8888888888888888,\"#fdca26\"],[1.0,\"#f0f921\"]],\"type\":\"heatmapgl\"}],\"heatmap\":[{\"colorbar\":{\"outlinewidth\":0,\"ticks\":\"\"},\"colorscale\":[[0.0,\"#0d0887\"],[0.1111111111111111,\"#46039f\"],[0.2222222222222222,\"#7201a8\"],[0.3333333333333333,\"#9c179e\"],[0.4444444444444444,\"#bd3786\"],[0.5555555555555556,\"#d8576b\"],[0.6666666666666666,\"#ed7953\"],[0.7777777777777778,\"#fb9f3a\"],[0.8888888888888888,\"#fdca26\"],[1.0,\"#f0f921\"]],\"type\":\"heatmap\"}],\"histogram2dcontour\":[{\"colorbar\":{\"outlinewidth\":0,\"ticks\":\"\"},\"colorscale\":[[0.0,\"#0d0887\"],[0.1111111111111111,\"#46039f\"],[0.2222222222222222,\"#7201a8\"],[0.3333333333333333,\"#9c179e\"],[0.4444444444444444,\"#bd3786\"],[0.5555555555555556,\"#d8576b\"],[0.6666666666666666,\"#ed7953\"],[0.7777777777777778,\"#fb9f3a\"],[0.8888888888888888,\"#fdca26\"],[1.0,\"#f0f921\"]],\"type\":\"histogram2dcontour\"}],\"histogram2d\":[{\"colorbar\":{\"outlinewidth\":0,\"ticks\":\"\"},\"colorscale\":[[0.0,\"#0d0887\"],[0.1111111111111111,\"#46039f\"],[0.2222222222222222,\"#7201a8\"],[0.3333333333333333,\"#9c179e\"],[0.4444444444444444,\"#bd3786\"],[0.5555555555555556,\"#d8576b\"],[0.6666666666666666,\"#ed7953\"],[0.7777777777777778,\"#fb9f3a\"],[0.8888888888888888,\"#fdca26\"],[1.0,\"#f0f921\"]],\"type\":\"histogram2d\"}],\"histogram\":[{\"marker\":{\"pattern\":{\"fillmode\":\"overlay\",\"size\":10,\"solidity\":0.2}},\"type\":\"histogram\"}],\"mesh3d\":[{\"colorbar\":{\"outlinewidth\":0,\"ticks\":\"\"},\"type\":\"mesh3d\"}],\"parcoords\":[{\"line\":{\"colorbar\":{\"outlinewidth\":0,\"ticks\":\"\"}},\"type\":\"parcoords\"}],\"pie\":[{\"automargin\":true,\"type\":\"pie\"}],\"scatter3d\":[{\"line\":{\"colorbar\":{\"outlinewidth\":0,\"ticks\":\"\"}},\"marker\":{\"colorbar\":{\"outlinewidth\":0,\"ticks\":\"\"}},\"type\":\"scatter3d\"}],\"scattercarpet\":[{\"marker\":{\"colorbar\":{\"outlinewidth\":0,\"ticks\":\"\"}},\"type\":\"scattercarpet\"}],\"scattergeo\":[{\"marker\":{\"colorbar\":{\"outlinewidth\":0,\"ticks\":\"\"}},\"type\":\"scattergeo\"}],\"scattergl\":[{\"marker\":{\"colorbar\":{\"outlinewidth\":0,\"ticks\":\"\"}},\"type\":\"scattergl\"}],\"scattermapbox\":[{\"marker\":{\"colorbar\":{\"outlinewidth\":0,\"ticks\":\"\"}},\"type\":\"scattermapbox\"}],\"scatterpolargl\":[{\"marker\":{\"colorbar\":{\"outlinewidth\":0,\"ticks\":\"\"}},\"type\":\"scatterpolargl\"}],\"scatterpolar\":[{\"marker\":{\"colorbar\":{\"outlinewidth\":0,\"ticks\":\"\"}},\"type\":\"scatterpolar\"}],\"scatter\":[{\"fillpattern\":{\"fillmode\":\"overlay\",\"size\":10,\"solidity\":0.2},\"type\":\"scatter\"}],\"scatterternary\":[{\"marker\":{\"colorbar\":{\"outlinewidth\":0,\"ticks\":\"\"}},\"type\":\"scatterternary\"}],\"surface\":[{\"colorbar\":{\"outlinewidth\":0,\"ticks\":\"\"},\"colorscale\":[[0.0,\"#0d0887\"],[0.1111111111111111,\"#46039f\"],[0.2222222222222222,\"#7201a8\"],[0.3333333333333333,\"#9c179e\"],[0.4444444444444444,\"#bd3786\"],[0.5555555555555556,\"#d8576b\"],[0.6666666666666666,\"#ed7953\"],[0.7777777777777778,\"#fb9f3a\"],[0.8888888888888888,\"#fdca26\"],[1.0,\"#f0f921\"]],\"type\":\"surface\"}],\"table\":[{\"cells\":{\"fill\":{\"color\":\"#EBF0F8\"},\"line\":{\"color\":\"white\"}},\"header\":{\"fill\":{\"color\":\"#C8D4E3\"},\"line\":{\"color\":\"white\"}},\"type\":\"table\"}]},\"layout\":{\"annotationdefaults\":{\"arrowcolor\":\"#2a3f5f\",\"arrowhead\":0,\"arrowwidth\":1},\"autotypenumbers\":\"strict\",\"coloraxis\":{\"colorbar\":{\"outlinewidth\":0,\"ticks\":\"\"}},\"colorscale\":{\"diverging\":[[0,\"#8e0152\"],[0.1,\"#c51b7d\"],[0.2,\"#de77ae\"],[0.3,\"#f1b6da\"],[0.4,\"#fde0ef\"],[0.5,\"#f7f7f7\"],[0.6,\"#e6f5d0\"],[0.7,\"#b8e186\"],[0.8,\"#7fbc41\"],[0.9,\"#4d9221\"],[1,\"#276419\"]],\"sequential\":[[0.0,\"#0d0887\"],[0.1111111111111111,\"#46039f\"],[0.2222222222222222,\"#7201a8\"],[0.3333333333333333,\"#9c179e\"],[0.4444444444444444,\"#bd3786\"],[0.5555555555555556,\"#d8576b\"],[0.6666666666666666,\"#ed7953\"],[0.7777777777777778,\"#fb9f3a\"],[0.8888888888888888,\"#fdca26\"],[1.0,\"#f0f921\"]],\"sequentialminus\":[[0.0,\"#0d0887\"],[0.1111111111111111,\"#46039f\"],[0.2222222222222222,\"#7201a8\"],[0.3333333333333333,\"#9c179e\"],[0.4444444444444444,\"#bd3786\"],[0.5555555555555556,\"#d8576b\"],[0.6666666666666666,\"#ed7953\"],[0.7777777777777778,\"#fb9f3a\"],[0.8888888888888888,\"#fdca26\"],[1.0,\"#f0f921\"]]},\"colorway\":[\"#636efa\",\"#EF553B\",\"#00cc96\",\"#ab63fa\",\"#FFA15A\",\"#19d3f3\",\"#FF6692\",\"#B6E880\",\"#FF97FF\",\"#FECB52\"],\"font\":{\"color\":\"#2a3f5f\"},\"geo\":{\"bgcolor\":\"white\",\"lakecolor\":\"white\",\"landcolor\":\"white\",\"showlakes\":true,\"showland\":true,\"subunitcolor\":\"#C8D4E3\"},\"hoverlabel\":{\"align\":\"left\"},\"hovermode\":\"closest\",\"mapbox\":{\"style\":\"light\"},\"paper_bgcolor\":\"white\",\"plot_bgcolor\":\"white\",\"polar\":{\"angularaxis\":{\"gridcolor\":\"#EBF0F8\",\"linecolor\":\"#EBF0F8\",\"ticks\":\"\"},\"bgcolor\":\"white\",\"radialaxis\":{\"gridcolor\":\"#EBF0F8\",\"linecolor\":\"#EBF0F8\",\"ticks\":\"\"}},\"scene\":{\"xaxis\":{\"backgroundcolor\":\"white\",\"gridcolor\":\"#DFE8F3\",\"gridwidth\":2,\"linecolor\":\"#EBF0F8\",\"showbackground\":true,\"ticks\":\"\",\"zerolinecolor\":\"#EBF0F8\"},\"yaxis\":{\"backgroundcolor\":\"white\",\"gridcolor\":\"#DFE8F3\",\"gridwidth\":2,\"linecolor\":\"#EBF0F8\",\"showbackground\":true,\"ticks\":\"\",\"zerolinecolor\":\"#EBF0F8\"},\"zaxis\":{\"backgroundcolor\":\"white\",\"gridcolor\":\"#DFE8F3\",\"gridwidth\":2,\"linecolor\":\"#EBF0F8\",\"showbackground\":true,\"ticks\":\"\",\"zerolinecolor\":\"#EBF0F8\"}},\"shapedefaults\":{\"line\":{\"color\":\"#2a3f5f\"}},\"ternary\":{\"aaxis\":{\"gridcolor\":\"#DFE8F3\",\"linecolor\":\"#A2B1C6\",\"ticks\":\"\"},\"baxis\":{\"gridcolor\":\"#DFE8F3\",\"linecolor\":\"#A2B1C6\",\"ticks\":\"\"},\"bgcolor\":\"white\",\"caxis\":{\"gridcolor\":\"#DFE8F3\",\"linecolor\":\"#A2B1C6\",\"ticks\":\"\"}},\"title\":{\"x\":0.05},\"xaxis\":{\"automargin\":true,\"gridcolor\":\"#EBF0F8\",\"linecolor\":\"#EBF0F8\",\"ticks\":\"\",\"title\":{\"standoff\":15},\"zerolinecolor\":\"#EBF0F8\",\"zerolinewidth\":2},\"yaxis\":{\"automargin\":true,\"gridcolor\":\"#EBF0F8\",\"linecolor\":\"#EBF0F8\",\"ticks\":\"\",\"title\":{\"standoff\":15},\"zerolinecolor\":\"#EBF0F8\",\"zerolinewidth\":2}}},\"xaxis\":{\"anchor\":\"y\",\"domain\":[0.0,1.0],\"title\":{\"text\":\"date\"},\"showspikes\":true,\"spikethickness\":2,\"spikedash\":\"dot\",\"spikecolor\":\"#999999\",\"spikemode\":\"across\"},\"yaxis\":{\"anchor\":\"x\",\"domain\":[0.0,1.0],\"title\":{\"text\":\"weight, %\"},\"tickformat\":\".2%\",\"range\":[0,1]},\"legend\":{\"title\":{\"text\":\"\"},\"tracegroupgap\":0},\"margin\":{\"t\":60},\"hovermode\":\"x\",\"hoverdistance\":100,\"spikedistance\":1000,\"title\":{\"text\":\"Weights with max constraint\"}},                        {\"responsive\": true}                    ).then(function(){\n",
       "                            \n",
       "var gd = document.getElementById('8bbcaa67-8f12-4cb6-a9bd-c81b904c4090');\n",
       "var x = new MutationObserver(function (mutations, observer) {{\n",
       "        var display = window.getComputedStyle(gd).display;\n",
       "        if (!display || display === 'none') {{\n",
       "            console.log([gd, 'removed!']);\n",
       "            Plotly.purge(gd);\n",
       "            observer.disconnect();\n",
       "        }}\n",
       "}});\n",
       "\n",
       "// Listen for the removal of the full notebook cells\n",
       "var notebookContainer = gd.closest('#notebook-container');\n",
       "if (notebookContainer) {{\n",
       "    x.observe(notebookContainer, {childList: true});\n",
       "}}\n",
       "\n",
       "// Listen for the clearing of the current output cell\n",
       "var outputEl = gd.closest('.output');\n",
       "if (outputEl) {{\n",
       "    x.observe(outputEl, {childList: true});\n",
       "}}\n",
       "\n",
       "                        })                };                });            </script>        </div>"
      ]
     },
     "metadata": {},
     "output_type": "display_data"
    }
   ],
   "source": [
    "fig = px.line(adjusted_weights,\n",
    "              labels={'value': 'weight, %', 'variable': ''})\n",
    "fig.update_traces(\n",
    "    hovertemplate=\"%{y}\"\n",
    ")\n",
    "fig.update_yaxes(\n",
    "    tickformat=\".2%\",\n",
    "    range=[0,1],\n",
    ")\n",
    "fig.update_xaxes(\n",
    "    showspikes=True,\n",
    "    spikethickness=2,\n",
    "    spikedash=\"dot\",\n",
    "    spikecolor=\"#999999\",\n",
    "    spikemode=\"across\",\n",
    ")\n",
    "fig.update_layout(\n",
    "    hovermode=\"x\",\n",
    "    hoverdistance=100,  ## Distance to show hover label of data point\n",
    "    spikedistance=1000,  ## Distance to show spike\n",
    "    template='plotly_white',\n",
    "    title='Weights with max constraint'\n",
    ")"
   ]
  },
  {
   "cell_type": "markdown",
   "id": "5ccc806e-2c1f-4555-a6ba-98c8ed3063af",
   "metadata": {},
   "source": [
    "### Split AVAX "
   ]
  },
  {
   "cell_type": "code",
   "execution_count": 51,
   "id": "f7f18f7b-f202-4732-87e5-f90ab7137262",
   "metadata": {},
   "outputs": [],
   "source": [
    "if 'avalanche-2' and 'benqi-liquid-staked-avax' in chosen_tokens.index:\n",
    "    split = 0.2\n",
    "    adjusted_weights['benqi-liquid-staked-avax'] = adjusted_weights['avalanche-2'] * split\n",
    "    adjusted_weights['avalanche-2'] = adjusted_weights['avalanche-2'] * (1 - split)\n"
   ]
  },
  {
   "cell_type": "markdown",
   "id": "7a29b38b-441a-48f6-aca7-4ca1c0ea4207",
   "metadata": {},
   "source": [
    "### Convert weights to the [1, 255] scale"
   ]
  },
  {
   "cell_type": "markdown",
   "id": "b478e9d0-feb7-4f4c-b81d-e989e39ebbc0",
   "metadata": {},
   "source": [
    "On the contract side weights are integer numbers from the interval $[1, 255]$ with total sum $255$, so it's needed to convert retrieved weights to this format.\n",
    "\n",
    "Note that one can't just round weights to integers after scaling, since it doesn't guarantee that their sum will be $255$. To fix that firstly floor function is applied to the weights and then $1$ is being added to the $k$ weights with largest fractional parts."
   ]
  },
  {
   "cell_type": "code",
   "execution_count": 52,
   "id": "5dcd7bd0-0094-4eb9-9c83-e51b108071a9",
   "metadata": {},
   "outputs": [],
   "source": [
    "def convert_weights(weights):\n",
    "    w_scaled = weights * 255\n",
    "    w_res = np.floor(w_scaled).astype(int)    \n",
    "    remainders = w_scaled - w_res    \n",
    "    k = round(remainders.sum())\n",
    "    w_below_max = w_res[w_res<128]\n",
    "    for i in range(k):\n",
    "        w_below_max[i] +=1\n",
    "    for i in w_below_max.index:\n",
    "        w_res[i] = w_below_max[i]\n",
    "    return w_res"
   ]
  },
  {
   "cell_type": "code",
   "execution_count": 53,
   "id": "09f12045-856b-472e-b269-4b2cf49f0bae",
   "metadata": {},
   "outputs": [],
   "source": [
    "last_weights = adjusted_weights.iloc[-1].dropna()"
   ]
  },
  {
   "cell_type": "code",
   "execution_count": 54,
   "id": "02330a37-5e19-4c7a-95e6-21aa80199afe",
   "metadata": {},
   "outputs": [],
   "source": [
    "converted_last_weights = convert_weights(last_weights)"
   ]
  },
  {
   "cell_type": "markdown",
   "id": "c4c5d752-6063-4676-9a5e-97a884e21b0f",
   "metadata": {},
   "source": [
    "## Summary table"
   ]
  },
  {
   "cell_type": "code",
   "execution_count": 57,
   "id": "477090af-03b4-4616-839c-0046e9590d4c",
   "metadata": {},
   "outputs": [
    {
     "data": {
      "text/html": [
       "<div>\n",
       "<style scoped>\n",
       "    .dataframe tbody tr th:only-of-type {\n",
       "        vertical-align: middle;\n",
       "    }\n",
       "\n",
       "    .dataframe tbody tr th {\n",
       "        vertical-align: top;\n",
       "    }\n",
       "\n",
       "    .dataframe thead th {\n",
       "        text-align: right;\n",
       "    }\n",
       "</style>\n",
       "<table border=\"1\" class=\"dataframe\">\n",
       "  <thead>\n",
       "    <tr style=\"text-align: right;\">\n",
       "      <th></th>\n",
       "      <th>name</th>\n",
       "      <th>symbol</th>\n",
       "      <th>market_cap</th>\n",
       "      <th>price</th>\n",
       "      <th>weight</th>\n",
       "      <th>weight_converted</th>\n",
       "      <th>address</th>\n",
       "    </tr>\n",
       "    <tr>\n",
       "      <th>id</th>\n",
       "      <th></th>\n",
       "      <th></th>\n",
       "      <th></th>\n",
       "      <th></th>\n",
       "      <th></th>\n",
       "      <th></th>\n",
       "      <th></th>\n",
       "    </tr>\n",
       "  </thead>\n",
       "  <tbody>\n",
       "    <tr>\n",
       "      <th>avalanche-2</th>\n",
       "      <td>Avalanche</td>\n",
       "      <td>AVAX</td>\n",
       "      <td>5117069972</td>\n",
       "      <td>17.300891</td>\n",
       "      <td>0.400000</td>\n",
       "      <td>103</td>\n",
       "      <td>0xb31f66aa3c1e785363f0875a1b74e27b85fd66c7</td>\n",
       "    </tr>\n",
       "    <tr>\n",
       "      <th>benqi-liquid-staked-avax</th>\n",
       "      <td>BENQI Liquid Staked AVAX</td>\n",
       "      <td>SAVAX</td>\n",
       "      <td>85775313</td>\n",
       "      <td>17.936759</td>\n",
       "      <td>0.100000</td>\n",
       "      <td>25</td>\n",
       "      <td>0x2b2c81e08f1af8835a78bb2a90ae924ace0ea4be</td>\n",
       "    </tr>\n",
       "    <tr>\n",
       "      <th>joe</th>\n",
       "      <td>JOE</td>\n",
       "      <td>JOE</td>\n",
       "      <td>73615923</td>\n",
       "      <td>0.221875</td>\n",
       "      <td>0.364295</td>\n",
       "      <td>93</td>\n",
       "      <td>0x6e84a6216ea6dacc71ee8e6b0a5b7322eebc0fdd</td>\n",
       "    </tr>\n",
       "    <tr>\n",
       "      <th>benqi</th>\n",
       "      <td>BENQI</td>\n",
       "      <td>QI</td>\n",
       "      <td>27423033</td>\n",
       "      <td>0.009286</td>\n",
       "      <td>0.135705</td>\n",
       "      <td>34</td>\n",
       "      <td>0x8729438eb15e2c8b576fcc6aecda6a148776c0f5</td>\n",
       "    </tr>\n",
       "  </tbody>\n",
       "</table>\n",
       "</div>"
      ],
      "text/plain": [
       "                                              name symbol  market_cap  \\\n",
       "id                                                                      \n",
       "avalanche-2                              Avalanche   AVAX  5117069972   \n",
       "benqi-liquid-staked-avax  BENQI Liquid Staked AVAX  SAVAX    85775313   \n",
       "joe                                            JOE    JOE    73615923   \n",
       "benqi                                        BENQI     QI    27423033   \n",
       "\n",
       "                              price    weight  weight_converted  \\\n",
       "id                                                                \n",
       "avalanche-2               17.300891  0.400000               103   \n",
       "benqi-liquid-staked-avax  17.936759  0.100000                25   \n",
       "joe                        0.221875  0.364295                93   \n",
       "benqi                      0.009286  0.135705                34   \n",
       "\n",
       "                                                             address  \n",
       "id                                                                    \n",
       "avalanche-2               0xb31f66aa3c1e785363f0875a1b74e27b85fd66c7  \n",
       "benqi-liquid-staked-avax  0x2b2c81e08f1af8835a78bb2a90ae924ace0ea4be  \n",
       "joe                       0x6e84a6216ea6dacc71ee8e6b0a5b7322eebc0fdd  \n",
       "benqi                     0x8729438eb15e2c8b576fcc6aecda6a148776c0f5  "
      ]
     },
     "execution_count": 57,
     "metadata": {},
     "output_type": "execute_result"
    }
   ],
   "source": [
    "cai = pd.DataFrame()\n",
    "cai.index = chosen_tokens.index\n",
    "cai['name'] = chosen_tokens['name']\n",
    "cai['symbol'] = chosen_tokens['symbol']\n",
    "cai['market_cap'] = marketcaps.iloc[-1].astype(int)\n",
    "cai['price'] = prices_data.iloc[-1]\n",
    "cai['weight'] = last_weights\n",
    "cai['weight_converted'] = converted_last_weights\n",
    "cai['address'] = chosen_tokens['addr']\n",
    "\n",
    "cai = cai[cai['weight'] > 0]\n",
    "cai = cai.sort_values(\"market_cap\", ascending=False)\n",
    "cai"
   ]
  },
  {
   "cell_type": "code",
   "execution_count": 58,
   "id": "2e93f71e-9f3c-4107-8247-b8f03e590159",
   "metadata": {},
   "outputs": [
    {
     "name": "stdout",
     "output_type": "stream",
     "text": [
      "address,weight_converted\n",
      "0xb31f66aa3c1e785363f0875a1b74e27b85fd66c7,103\n",
      "0x2b2c81e08f1af8835a78bb2a90ae924ace0ea4be,25\n",
      "0x6e84a6216ea6dacc71ee8e6b0a5b7322eebc0fdd,93\n",
      "0x8729438eb15e2c8b576fcc6aecda6a148776c0f5,34\n",
      "\n"
     ]
    }
   ],
   "source": [
    "print(cai[['address', 'weight_converted']].to_csv(None, index=False))"
   ]
  }
 ],
 "metadata": {
  "kernelspec": {
   "display_name": "Python 3",
   "language": "python",
   "name": "python3"
  },
  "language_info": {
   "codemirror_mode": {
    "name": "ipython",
    "version": 3
   },
   "file_extension": ".py",
   "mimetype": "text/x-python",
   "name": "python",
   "nbconvert_exporter": "python",
   "pygments_lexer": "ipython3",
   "version": "3.10.6"
  }
 },
 "nbformat": 4,
 "nbformat_minor": 5
}
