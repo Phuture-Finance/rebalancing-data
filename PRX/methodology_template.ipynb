{
 "cells": [
  {
   "cell_type": "markdown",
   "metadata": {},
   "source": [
    "## PLX - Phuture RWA Index - Methodology Template"
   ]
  },
  {
   "cell_type": "markdown",
   "metadata": {},
   "source": [
    "## Configuring packages"
   ]
  },
  {
   "cell_type": "code",
   "execution_count": 1,
   "metadata": {},
   "outputs": [
    {
     "name": "stderr",
     "output_type": "stream",
     "text": [
      "/Users/olivermehr/Documents/GitHub/rebalancing-data/PRX/../methodology.py:414: SyntaxWarning: assertion is always true, perhaps remove parentheses?\n",
      "  assert(self.weights_converted.sum() == self.int_range_for_weight,\"Sum of converted weights does equal max int value\")\n"
     ]
    }
   ],
   "source": [
    "import pandas as pd\n",
    "import decouple\n",
    "import sys\n",
    "sys.path.append('../')\n",
    "from methodology import MethodologyBase\n",
    "from pycoingecko import CoinGeckoAPI\n",
    "key =  decouple.config(\"CG_KEY\")\n",
    "cg = CoinGeckoAPI(api_key=key)"
   ]
  },
  {
   "cell_type": "markdown",
   "metadata": {},
   "source": [
    "## Index Variables"
   ]
  },
  {
   "cell_type": "code",
   "execution_count": 2,
   "metadata": {},
   "outputs": [],
   "source": [
    "min_mcap =  0.5e8\n",
    "min_weight = 0.005\n",
    "max_weight = 0.3\n",
    "circ_supply_threshold = 0.2\n",
    "liveness_threshold = 180 # In days\n",
    "liquidity_consistency = 90 # In days\n",
    "coingecko_category = \"real-world-assets-rwa\"\n",
    "\n",
    "# Calculating max slippage based on liquidity threshold\n",
    "liq = 1.5*1e6\n",
    "liq_os = liq / 2 # one-side liquidity \n",
    "trade_value_tiny = 1e2\n",
    "trade_value = 1e5\n",
    "max_slippage = (liq_os + trade_value_tiny) / (liq_os + trade_value) - 1\n",
    "# round to the nearest .01\n",
    "max_slippage = round(max_slippage, 2)\n",
    "\n",
    "# Dataframes to remove\n",
    "stablecoins = pd.DataFrame(cg.get_coins_markets('usd',category='stablecoins')).set_index('id')\n",
    "ctokens = pd.DataFrame(cg.get_coins_markets('usd',category='compound-tokens')).set_index('id')\n",
    "atokens = pd.DataFrame(cg.get_coins_markets('usd',category='aave-tokens')).set_index('id')\n",
    "\n",
    "methodology_class = MethodologyBase(min_mcap,\n",
    "                                min_weight,\n",
    "                                max_weight,\n",
    "                                65535,\n",
    "                                circ_supply_threshold,\n",
    "                                liveness_threshold,\n",
    "                                liquidity_consistency,\n",
    "                                max_slippage,\n",
    "                                coingecko_category)"
   ]
  },
  {
   "cell_type": "markdown",
   "metadata": {},
   "source": [
    "### Token inclusion criteria\n",
    "\n",
    "1. **Project and token characteristics**\n",
    "    1. The project’s token should have been listed on CoinGecko with pricing data spanning at least 6 months prior to the date of inclusion in the index.\n",
    "    1. The project should have an active community.\n",
    "    1. No rebasing or deflationary tokens.\n",
    "    1. Synthetic tokens which derive their value from external price feeds are not permissible. \n",
    "    1. The project’s token must not have the ability to pause token transfers.\n",
    "    1. The project must have a minimum circulating market cap of $50mm.\n",
    "   <br>\n",
    "1. **Pricing requirmeents**\n",
    "    1. Token should have a reliable price feed from one of our authorised providers. \n",
    "    <br>\n",
    "1. **Token Supply requirements**\n",
    "    1. The project's token must have a circulating supply greater than 20% of the max supply. In cases where a token does not have a max supply, the minting mechanics would need to be assessed.\n",
    "    <br>\n",
    "1. **Liquidity Requirements**\n",
    "    1. The token must be listed on a supported exchange.\n",
    "    1. The price should experience no more than 12% price impact when executing a $100k trade.\n",
    "    <br>\n",
    "1. **Security Requirements**\n",
    "    1. The project must have been audited by smart contract security professionals with the audit report(s) publicly available. Alternatively, the protocol must have been operating long enough to create a consensus about its safety in the decentralised finance community.\n",
    "1. **Weighting requirements**\n",
    "    1. The maximum weight any one token can have is 30%.\n",
    "    1. All excess weight is proportionally redistributed to all uncapped tokens. After this has been completed, if another token now exceeds the 30% threshold the excess will be redistributed to the remaining uncapped tokens. This process will occur iteratively until there are no tokens that exceed the maximum weight.\n",
    "    1. Any asset with a weight below 0.5% will be removed from the index.\n"
   ]
  },
  {
   "cell_type": "markdown",
   "metadata": {},
   "source": [
    "## Run Methodology"
   ]
  },
  {
   "cell_type": "code",
   "execution_count": 3,
   "metadata": {},
   "outputs": [
    {
     "name": "stdout",
     "output_type": "stream",
     "text": [
      "Note: chex-token, marketcap data available only for 2 < 180 days\n",
      "0x644192291cc835a93d6330b24ea5f5fedd0eef9e\n",
      "0x644192291cc835a93d6330b24ea5f5fedd0eef9e\n",
      "0x644192291cc835a93d6330b24ea5f5fedd0eef9e\n",
      "Dropping maple because a price feed is unavailable\n",
      "Dropping allianceblock-nexera because a price feed is unavailable\n",
      "Dropping goldfinch because a price feed is unavailable\n"
     ]
    },
    {
     "data": {
      "text/html": [
       "<div>\n",
       "<style scoped>\n",
       "    .dataframe tbody tr th:only-of-type {\n",
       "        vertical-align: middle;\n",
       "    }\n",
       "\n",
       "    .dataframe tbody tr th {\n",
       "        vertical-align: top;\n",
       "    }\n",
       "\n",
       "    .dataframe thead th {\n",
       "        text-align: right;\n",
       "    }\n",
       "</style>\n",
       "<table border=\"1\" class=\"dataframe\">\n",
       "  <thead>\n",
       "    <tr style=\"text-align: right;\">\n",
       "      <th></th>\n",
       "      <th>spot price</th>\n",
       "      <th>delivery price</th>\n",
       "      <th>slippage</th>\n",
       "      <th>blockchain</th>\n",
       "    </tr>\n",
       "    <tr>\n",
       "      <th>id</th>\n",
       "      <th></th>\n",
       "      <th></th>\n",
       "      <th></th>\n",
       "      <th></th>\n",
       "    </tr>\n",
       "  </thead>\n",
       "  <tbody>\n",
       "    <tr>\n",
       "      <th>pendle</th>\n",
       "      <td>0.805882</td>\n",
       "      <td>0.801458</td>\n",
       "      <td>-0.005490</td>\n",
       "      <td>arbitrum-one</td>\n",
       "    </tr>\n",
       "    <tr>\n",
       "      <th>chex-token</th>\n",
       "      <td>15.051828</td>\n",
       "      <td>14.604917</td>\n",
       "      <td>-0.029691</td>\n",
       "      <td>ethereum</td>\n",
       "    </tr>\n",
       "    <tr>\n",
       "      <th>maple</th>\n",
       "      <td>0.052418</td>\n",
       "      <td>0.049514</td>\n",
       "      <td>-0.055396</td>\n",
       "      <td>ethereum</td>\n",
       "    </tr>\n",
       "    <tr>\n",
       "      <th>allianceblock-nexera</th>\n",
       "      <td>7.150004</td>\n",
       "      <td>6.580797</td>\n",
       "      <td>-0.079609</td>\n",
       "      <td>ethereum</td>\n",
       "    </tr>\n",
       "    <tr>\n",
       "      <th>goldfinch</th>\n",
       "      <td>0.619149</td>\n",
       "      <td>0.566893</td>\n",
       "      <td>-0.084401</td>\n",
       "      <td>ethereum</td>\n",
       "    </tr>\n",
       "    <tr>\n",
       "      <th>truefi</th>\n",
       "      <td>18.075562</td>\n",
       "      <td>14.789850</td>\n",
       "      <td>-0.181776</td>\n",
       "      <td>ethereum</td>\n",
       "    </tr>\n",
       "    <tr>\n",
       "      <th>dusk-network</th>\n",
       "      <td>5.936695</td>\n",
       "      <td>4.388566</td>\n",
       "      <td>-0.260773</td>\n",
       "      <td>ethereum</td>\n",
       "    </tr>\n",
       "    <tr>\n",
       "      <th>creditcoin-2</th>\n",
       "      <td>4.674356</td>\n",
       "      <td>2.106427</td>\n",
       "      <td>-0.549365</td>\n",
       "      <td>ethereum</td>\n",
       "    </tr>\n",
       "  </tbody>\n",
       "</table>\n",
       "</div>"
      ],
      "text/plain": [
       "                      spot price  delivery price  slippage    blockchain\n",
       "id                                                                      \n",
       "pendle                  0.805882        0.801458 -0.005490  arbitrum-one\n",
       "chex-token             15.051828       14.604917 -0.029691      ethereum\n",
       "maple                   0.052418        0.049514 -0.055396      ethereum\n",
       "allianceblock-nexera    7.150004        6.580797 -0.079609      ethereum\n",
       "goldfinch               0.619149        0.566893 -0.084401      ethereum\n",
       "truefi                 18.075562       14.789850 -0.181776      ethereum\n",
       "dusk-network            5.936695        4.388566 -0.260773      ethereum\n",
       "creditcoin-2            4.674356        2.106427 -0.549365      ethereum"
      ]
     },
     "execution_count": 3,
     "metadata": {},
     "output_type": "execute_result"
    }
   ],
   "source": [
    "\n",
    "results, liquidity = methodology_class.main(\n",
    "    df_to_remove=[stablecoins,ctokens,atokens],\n",
    "    ids_to_replace=[['centrifuge'],['wrapped-centrifuge']]\n",
    "    )\n",
    "liquidity"
   ]
  },
  {
   "cell_type": "code",
   "execution_count": 4,
   "metadata": {},
   "outputs": [
    {
     "data": {
      "text/html": [
       "<div>\n",
       "<style scoped>\n",
       "    .dataframe tbody tr th:only-of-type {\n",
       "        vertical-align: middle;\n",
       "    }\n",
       "\n",
       "    .dataframe tbody tr th {\n",
       "        vertical-align: top;\n",
       "    }\n",
       "\n",
       "    .dataframe thead th {\n",
       "        text-align: right;\n",
       "    }\n",
       "</style>\n",
       "<table border=\"1\" class=\"dataframe\">\n",
       "  <thead>\n",
       "    <tr style=\"text-align: right;\">\n",
       "      <th></th>\n",
       "      <th>name</th>\n",
       "      <th>market_cap</th>\n",
       "      <th>weight</th>\n",
       "      <th>weight_converted</th>\n",
       "      <th>address</th>\n",
       "      <th>blockchain_with_highest_liq</th>\n",
       "    </tr>\n",
       "    <tr>\n",
       "      <th>id</th>\n",
       "      <th></th>\n",
       "      <th></th>\n",
       "      <th></th>\n",
       "      <th></th>\n",
       "      <th></th>\n",
       "      <th></th>\n",
       "    </tr>\n",
       "  </thead>\n",
       "  <tbody>\n",
       "    <tr>\n",
       "      <th>pendle</th>\n",
       "      <td>Pendle</td>\n",
       "      <td>119909363.0</td>\n",
       "      <td>0.5</td>\n",
       "      <td>32767</td>\n",
       "      <td>0x0c880f6761f1af8d9aa9c466984b80dab9a8c9e8</td>\n",
       "      <td>arbitrum-one</td>\n",
       "    </tr>\n",
       "    <tr>\n",
       "      <th>chex-token</th>\n",
       "      <td>CHEX Token</td>\n",
       "      <td>67406461.0</td>\n",
       "      <td>0.5</td>\n",
       "      <td>32768</td>\n",
       "      <td>0x9ce84f6a69986a83d92c324df10bc8e64771030f</td>\n",
       "      <td>ethereum</td>\n",
       "    </tr>\n",
       "  </tbody>\n",
       "</table>\n",
       "</div>"
      ],
      "text/plain": [
       "                  name   market_cap  weight  weight_converted  \\\n",
       "id                                                              \n",
       "pendle          Pendle  119909363.0     0.5             32767   \n",
       "chex-token  CHEX Token   67406461.0     0.5             32768   \n",
       "\n",
       "                                               address  \\\n",
       "id                                                       \n",
       "pendle      0x0c880f6761f1af8d9aa9c466984b80dab9a8c9e8   \n",
       "chex-token  0x9ce84f6a69986a83d92c324df10bc8e64771030f   \n",
       "\n",
       "           blockchain_with_highest_liq  \n",
       "id                                      \n",
       "pendle                    arbitrum-one  \n",
       "chex-token                    ethereum  "
      ]
     },
     "execution_count": 4,
     "metadata": {},
     "output_type": "execute_result"
    }
   ],
   "source": [
    "results"
   ]
  }
 ],
 "metadata": {
  "kernelspec": {
   "display_name": "rebalancing-data-VGaZtODH",
   "language": "python",
   "name": "python3"
  },
  "language_info": {
   "codemirror_mode": {
    "name": "ipython",
    "version": 3
   },
   "file_extension": ".py",
   "mimetype": "text/x-python",
   "name": "python",
   "nbconvert_exporter": "python",
   "pygments_lexer": "ipython3",
   "version": "3.13.7"
  }
 },
 "nbformat": 4,
 "nbformat_minor": 2
}
