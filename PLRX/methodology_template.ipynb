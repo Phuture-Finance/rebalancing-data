{
 "cells": [
  {
   "cell_type": "markdown",
   "metadata": {},
   "source": [
    "## PLRX - Phuture Liquid Restaking Index - Methodology Template"
   ]
  },
  {
   "cell_type": "markdown",
   "metadata": {},
   "source": [
    "## Configuring packages"
   ]
  },
  {
   "cell_type": "code",
   "execution_count": 1,
   "metadata": {},
   "outputs": [],
   "source": [
    "import pandas as pd\n",
    "import decouple\n",
    "import sys\n",
    "sys.path.append('../')\n",
    "from methodology import MethodologyBase\n",
    "from pycoingecko import CoinGeckoAPI\n",
    "key =  decouple.config(\"CG_KEY\")\n",
    "cg = CoinGeckoAPI(api_key=key)"
   ]
  },
  {
   "cell_type": "markdown",
   "metadata": {},
   "source": [
    "## Index Variables"
   ]
  },
  {
   "cell_type": "code",
   "execution_count": 2,
   "metadata": {},
   "outputs": [],
   "source": [
    "min_mcap =  0.251e8\n",
    "min_weight = 0.005\n",
    "max_weight = 0.2\n",
    "circ_supply_threshold = 0.3\n",
    "liveness_threshold = 365 # In days\n",
    "liquidity_consistency = 90 # In days\n",
    "coingecko_category = \"liquid-restaking-governance-token\"\n",
    "\n",
    "# Calculating max slippage based on liquidity threshold\n",
    "liq = 5*1e6\n",
    "liq_os = liq / 2 # one-side liquidity \n",
    "trade_value_tiny = 1e2\n",
    "trade_value = 1e5\n",
    "max_slippage = (liq_os + trade_value_tiny) / (liq_os + trade_value) - 1\n",
    "# round to the nearest .01\n",
    "max_slippage = round(max_slippage, 2)\n",
    "\n",
    "# Dataframes to remove\n",
    "stablecoins = pd.DataFrame(cg.get_coins_markets('usd',category='stablecoins')).set_index('id')\n",
    "ctokens = pd.DataFrame(cg.get_coins_markets('usd',category='compound-tokens')).set_index('id')\n",
    "atokens = pd.DataFrame(cg.get_coins_markets('usd',category='aave-tokens')).set_index('id')\n",
    "liquid_staking_tokens = pd.DataFrame(cg.get_coins_markets('usd',category='liquid-staking-tokens')).set_index('id')\n",
    "\n",
    "methodology_class = MethodologyBase(min_mcap,\n",
    "                                min_weight,\n",
    "                                max_weight,\n",
    "                                65535,\n",
    "                                circ_supply_threshold,\n",
    "                                liveness_threshold,\n",
    "                                liquidity_consistency,\n",
    "                                max_slippage,\n",
    "                                coingecko_category)"
   ]
  },
  {
   "cell_type": "markdown",
   "metadata": {},
   "source": [
    "## Token inclusion criteria\n",
    "\n",
    "1. **Project and token characteristics**\n",
    "    1. The project’s token should have been listed on CoinGecko with pricing data spanning at least 6 months prior to the date of inclusion in the index.\n",
    "    1. The project should have an active community.\n",
    "    1. No rebasing or deflationary tokens.\n",
    "    1. Synthetic tokens which derive their value from external price feeds are not permissible. \n",
    "    1. The project’s token must not have the ability to pause token transfers.\n",
    "    1. The project must have a minimum circulating market cap of $50mm.\n",
    "   <br>\n",
    "1. **Pricing requirmeents**\n",
    "    1. Token should have a reliable price feed from one of our authorised providers. \n",
    "    <br>\n",
    "1. **Token Supply requirements**\n",
    "    1. The project's token must have a circulating supply greater than 20% of the max supply. In cases where a token does not have a max supply, the minting mechanics would need to be assessed.\n",
    "    <br>\n",
    "1. **Liquidity Requirements**\n",
    "    1. The token must be listed on a supported exchange.\n",
    "    1. The price should experience no more than 12% price impact when executing a $100k trade.\n",
    "    <br>\n",
    "1. **Security Requirements**\n",
    "    1. The project must have been audited by smart contract security professionals with the audit report(s) publicly available. Alternatively, the protocol must have been operating long enough to create a consensus about its safety in the decentralised finance community.\n",
    "1. **Weighting requirements**\n",
    "    1. The maximum weight any one token can have is 30%.\n",
    "    1. All excess weight is proportionally redistributed to all uncapped tokens. After this has been completed, if another token now exceeds the 30% threshold the excess will be redistributed to the remaining uncapped tokens. This process will occur iteratively until there are no tokens that exceed the maximum weight.\n",
    "    1. Any asset with a weight below 0.5% will be removed from the index.\n"
   ]
  },
  {
   "cell_type": "markdown",
   "metadata": {},
   "source": [
    "## Run Methodology"
   ]
  },
  {
   "cell_type": "code",
   "execution_count": 3,
   "metadata": {},
   "outputs": [
    {
     "data": {
      "text/html": [
       "<div>\n",
       "<style scoped>\n",
       "    .dataframe tbody tr th:only-of-type {\n",
       "        vertical-align: middle;\n",
       "    }\n",
       "\n",
       "    .dataframe tbody tr th {\n",
       "        vertical-align: top;\n",
       "    }\n",
       "\n",
       "    .dataframe thead th {\n",
       "        text-align: right;\n",
       "    }\n",
       "</style>\n",
       "<table border=\"1\" class=\"dataframe\">\n",
       "  <thead>\n",
       "    <tr style=\"text-align: right;\">\n",
       "      <th></th>\n",
       "      <th>spot price</th>\n",
       "      <th>delivery price</th>\n",
       "      <th>slippage</th>\n",
       "      <th>blockchain</th>\n",
       "    </tr>\n",
       "    <tr>\n",
       "      <th>id</th>\n",
       "      <th></th>\n",
       "      <th></th>\n",
       "      <th></th>\n",
       "      <th></th>\n",
       "    </tr>\n",
       "  </thead>\n",
       "  <tbody>\n",
       "    <tr>\n",
       "      <th>pendle</th>\n",
       "      <td>0.394202</td>\n",
       "      <td>0.392341</td>\n",
       "      <td>-0.004722</td>\n",
       "      <td>arbitrum-one</td>\n",
       "    </tr>\n",
       "  </tbody>\n",
       "</table>\n",
       "</div>"
      ],
      "text/plain": [
       "        spot price  delivery price  slippage    blockchain\n",
       "id                                                        \n",
       "pendle    0.394202        0.392341 -0.004722  arbitrum-one"
      ]
     },
     "execution_count": 3,
     "metadata": {},
     "output_type": "execute_result"
    }
   ],
   "source": [
    "\n",
    "results,liquidity = methodology_class.main(\n",
    "    df_to_remove=[stablecoins,ctokens,atokens,liquid_staking_tokens]\n",
    "    )\n",
    "liquidity"
   ]
  },
  {
   "cell_type": "markdown",
   "metadata": {},
   "source": [
    "## Show Results"
   ]
  },
  {
   "cell_type": "code",
   "execution_count": 4,
   "metadata": {},
   "outputs": [
    {
     "data": {
      "text/html": [
       "<div>\n",
       "<style scoped>\n",
       "    .dataframe tbody tr th:only-of-type {\n",
       "        vertical-align: middle;\n",
       "    }\n",
       "\n",
       "    .dataframe tbody tr th {\n",
       "        vertical-align: top;\n",
       "    }\n",
       "\n",
       "    .dataframe thead th {\n",
       "        text-align: right;\n",
       "    }\n",
       "</style>\n",
       "<table border=\"1\" class=\"dataframe\">\n",
       "  <thead>\n",
       "    <tr style=\"text-align: right;\">\n",
       "      <th></th>\n",
       "      <th>symbol</th>\n",
       "      <th>market_cap</th>\n",
       "      <th>weight</th>\n",
       "      <th>weight_converted</th>\n",
       "      <th>address</th>\n",
       "      <th>blockchain_with_highest_liq</th>\n",
       "    </tr>\n",
       "    <tr>\n",
       "      <th>id</th>\n",
       "      <th></th>\n",
       "      <th></th>\n",
       "      <th></th>\n",
       "      <th></th>\n",
       "      <th></th>\n",
       "      <th></th>\n",
       "    </tr>\n",
       "  </thead>\n",
       "  <tbody>\n",
       "    <tr>\n",
       "      <th>pendle</th>\n",
       "      <td>PENDLE</td>\n",
       "      <td>247252283</td>\n",
       "      <td>1.0</td>\n",
       "      <td>65535</td>\n",
       "      <td>0x0c880f6761f1af8d9aa9c466984b80dab9a8c9e8</td>\n",
       "      <td>arbitrum-one</td>\n",
       "    </tr>\n",
       "  </tbody>\n",
       "</table>\n",
       "</div>"
      ],
      "text/plain": [
       "        symbol  market_cap  weight  weight_converted  \\\n",
       "id                                                     \n",
       "pendle  PENDLE   247252283     1.0             65535   \n",
       "\n",
       "                                           address blockchain_with_highest_liq  \n",
       "id                                                                              \n",
       "pendle  0x0c880f6761f1af8d9aa9c466984b80dab9a8c9e8                arbitrum-one  "
      ]
     },
     "execution_count": 4,
     "metadata": {},
     "output_type": "execute_result"
    }
   ],
   "source": [
    "results"
   ]
  }
 ],
 "metadata": {
  "kernelspec": {
   "display_name": "rebalancing-data-VGaZtODH",
   "language": "python",
   "name": "python3"
  },
  "language_info": {
   "codemirror_mode": {
    "name": "ipython",
    "version": 3
   },
   "file_extension": ".py",
   "mimetype": "text/x-python",
   "name": "python",
   "nbconvert_exporter": "python",
   "pygments_lexer": "ipython3",
   "version": "3.11.9"
  }
 },
 "nbformat": 4,
 "nbformat_minor": 2
}
