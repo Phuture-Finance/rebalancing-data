{
 "cells": [
  {
   "cell_type": "markdown",
   "metadata": {},
   "source": [
    "## Configuring packages"
   ]
  },
  {
   "cell_type": "code",
   "execution_count": 33,
   "metadata": {},
   "outputs": [],
   "source": [
    "import pandas as pd\n",
    "import decouple\n",
    "import sys\n",
    "sys.path.append('../')\n",
    "from methodology import MethodologyBase\n",
    "from pycoingecko import CoinGeckoAPI\n",
    "key =  decouple.config(\"CG_KEY\")\n",
    "cg = CoinGeckoAPI(api_key=key)"
   ]
  },
  {
   "cell_type": "markdown",
   "metadata": {},
   "source": [
    "## Index Variables"
   ]
  },
  {
   "cell_type": "code",
   "execution_count": 34,
   "metadata": {},
   "outputs": [],
   "source": [
    "min_mcap =  None\n",
    "min_weight = 0.005\n",
    "max_weight = 0.2\n",
    "circ_supply_threshold = 0.2\n",
    "liveness_threshold = 180 # In days\n",
    "liquidity_consistency = 90 # In days\n",
    "\n",
    "# Calculating max slippage based on liquidity threshold\n",
    "liq = 1.5*1e6\n",
    "liq_os = liq / 2 # one-side liquidity \n",
    "trade_value_tiny = 1e2\n",
    "trade_value = 1e5\n",
    "max_slippage = (liq_os + trade_value_tiny) / (liq_os + trade_value) - 1\n",
    "# round to the nearest .01\n",
    "max_slippage = round(max_slippage, 2)\n",
    "\n",
    "# Dataframes to remove\n",
    "stablecoins = pd.DataFrame(cg.get_coins_markets('usd',category='stablecoins')).set_index('id')\n",
    "ctokens = pd.DataFrame(cg.get_coins_markets('usd',category='compound-tokens')).set_index('id')\n",
    "atokens = pd.DataFrame(cg.get_coins_markets('usd',category='aave-tokens')).set_index('id')\n",
    "\n",
    "methodology_class = MethodologyBase(\n",
    "                                'base',\n",
    "                                min_mcap,\n",
    "                                min_weight,\n",
    "                                max_weight,\n",
    "                                65535,\n",
    "                                circ_supply_threshold,\n",
    "                                liveness_threshold,\n",
    "                                liquidity_consistency,\n",
    "                                max_slippage,\n",
    "                                100000,\n",
    "                                [])"
   ]
  },
  {
   "cell_type": "code",
   "execution_count": 35,
   "metadata": {},
   "outputs": [
    {
     "data": {
      "text/plain": [
       "id\n",
       "binancecoin                0.20000\n",
       "bitcoin                    0.20000\n",
       "ethereum                   0.20000\n",
       "solana                     0.20000\n",
       "polygon-ecosystem-token    0.18519\n",
       "zetachain                  0.01481\n",
       "Name: market_cap, dtype: float64"
      ]
     },
     "execution_count": 35,
     "metadata": {},
     "output_type": "execute_result"
    }
   ],
   "source": [
    "methodology_class.category_data = pd.DataFrame()\n",
    "methodology_class.slippage_data = pd.DataFrame()\n",
    "methodology_class.add_assets_to_category(['ethereum','bitcoin','polygon-ecosystem-token','binancecoin','zetachain','solana'])\n",
    "methodology_class.calculate_weights([\"market_cap\", None],{},None)\n"
   ]
  }
 ],
 "metadata": {
  "kernelspec": {
   "display_name": "rebalancing-data-VGaZtODH",
   "language": "python",
   "name": "python3"
  },
  "language_info": {
   "codemirror_mode": {
    "name": "ipython",
    "version": 3
   },
   "file_extension": ".py",
   "mimetype": "text/x-python",
   "name": "python",
   "nbconvert_exporter": "python",
   "pygments_lexer": "ipython3",
   "version": "3.11.9"
  }
 },
 "nbformat": 4,
 "nbformat_minor": 2
}
